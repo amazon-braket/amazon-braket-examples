{
 "cells": [
  {
   "cell_type": "code",
   "execution_count": 1,
   "metadata": {},
   "outputs": [],
   "source": [
    "# Use Braket SDK Cost Tracking to estimate the cost to run this example\n",
    "from braket.tracking import Tracker\n",
    "t = Tracker().start()"
   ]
  },
  {
   "cell_type": "markdown",
   "metadata": {},
   "source": [
    "# QUANTUM APPROXIMATE OPTIMIZATION ALGORITHM (QAOA)"
   ]
  },
  {
   "cell_type": "markdown",
   "metadata": {},
   "source": [
    "In this tutorial we show how to (approximately) solve binary combinatorial optimization problems, using the __Quantum Approximate Optimization Algorithm (QAOA)__, as introduced in Ref.[1]. \n",
    "The QAOA algorithm belongs to the class of __hybrid quantum algorithms__ (leveraging both classical as well as quantum compute), that are widely believed to be the working horse for the current __NISQ (noisy intermediate-scale quantum) era__.\n",
    "In this NISQ era QAOA is also an emerging approach for benchmarking quantum devices and is a prime candidate for demonstrating a practical quantum speed-up on near-term NISQ device [1,4]. \n",
    "To validate our approach we benchmark our results with exact results as obtained from classical QUBO solvers. \n",
    "\n",
    "We provide a step-by-step walkthrough explaining the QAOA quantum algorithm and show how to build the corresponding parametrized quantum circuit ansatz using the ```Braket``` SDK, with simple modular building blocks (that can be re-used for other purposes). \n",
    "We use open-source off-the-shelf ```scipy``` optimizers for classical numerical optimization. \n",
    "While we demonstrate our proof-of-concept approach using classical simulators for circuit execution, our code could in principle be run on actual quantum hardware by simply changing the definition of the ```device``` object (provided that the gate set used in the ansatz is supported by the device, as is the case here for IonQ; for Rigetti we need to apply one more extra trick as shown below). "
   ]
  },
  {
   "cell_type": "markdown",
   "metadata": {},
   "source": [
    "## BACKGROUND: HYBRID QUANTUM ALGORITHMS"
   ]
  },
  {
   "cell_type": "markdown",
   "metadata": {},
   "source": [
    "Quantum computers hold the promise to outperform even the most-powerful classical computers on a range of computational problems in (for example) optimization, chemistry, material science and cryptography.\n",
    "The canonical set of quantum algorithms (such as Shor's or Grover's quantum algorithms), however, comes with hardware requirements (such as a large number of quantum gates) that are currently not available with state-of-the-art technology. \n",
    "Specifically, these algorithms are typically believed to be feasible only with fault-tolerance as provided by quantum error correction. \n",
    "In the current __noisy intermediate-scale (NISQ) era__, near-term quantum computers do not have a large enough number of physical qubits for the implementation of error correction protocols, making this canonical set of quantum algorithms unsuitable for near-term devices. Against this background, the near-term focus has widely shifted to the class of __hybrid quantum algorithms__ that do not require quantum error correction. \n",
    "In these hybrid quantum algorithms, the noisy __near-term quantum computers are used as co-processors__ only, within a larger classical optimization loop, as sketched in the schematic figure below. \n",
    "Here, the undesired effects of noise are suppressed by deliberately limiting the quantum circuits on the quantum processing unit (QPU) to short bursts of the calculation, and the need for long coherence times (as required for the standard set of quantum algorithms) is traded for a classical overhead due to (possibly many) measurement repetitions and (essentially error-free) classical processing. "
   ]
  },
  {
   "cell_type": "markdown",
   "metadata": {},
   "source": [
    "<div align=\"center\"><img src=\"hybrid_quantum.png\"/></div>"
   ]
  },
  {
   "cell_type": "markdown",
   "metadata": {},
   "source": [
    "__Variational Quantum Algorithms__: Specifically, variational quantum algorithms such as the Quantum Approximate Optimization Algorithm (QAOA) [1] belong to this emerging class of hybrid quantum algorithms. \n",
    "These are widely believed to be promising candidates for the demonstration of a __quantum advantage__, already with near-term (NISQ) devices in areas such as quantum chemistry [2], condensed matter simulations [3], and discrete optimization tasks [4].\n",
    "\n",
    "__Variational Quantum Computing vs. Deep Learning__: The working principle of variational quantum computing is very much reminiscent of training deep neural networks: \n",
    "when you train a neural network, you have an objective function that you want to minimize, typically characterized by the error on your training set. \n",
    "To minimize that error, typically you start out with an initial guess for the weights in your network. \n",
    "The coprocessor, in that case a GPU, takes these weights which define the exact operation to execute and the output of the neural network is computed. \n",
    "This output is then used to calculate the value of your objective function, which in turn is used by the CPU to make an educated guess to update the weights and the cycle continues. \n",
    "Variational quantum algorithms, a specific form of hybrid algorithms, work in the very same way, using parametrized quantum circuits rather than parametrized neural networks and replacing the GPU with a QPU. \n",
    "Here, you start with an initial guess for the parameters that define your circuit, have the QPU execute that circuit, perform measurements to calculate an objective function, pass this value (together with the current values of the parameters) back to the CPU and have this *classical* CPU update the parameters based on that information. \n",
    "\n",
    "Of course, coordinating that workflow for quantum computers is much more challenging than in the previous case. Quantum computers are located in specialized laboratory facilities, are typically single threaded, and have special latency requirements. \n",
    "This is exactly the undifferentiated heavy-lifting that Amazon Braket handles for us, such that we can focus on our scientific problem. \n",
    "For the sake of this introductory tutorial, we simply use a classical circuit simulator (that mimic the behavior of a quantum machine) as the device to execute our quantum circuits.\n",
    "Within Amazon Braket, the workflow, however, is exactly the same. "
   ]
  },
  {
   "cell_type": "markdown",
   "metadata": {},
   "source": [
    "## BACKGROUND: QUADRATIC BINARY OPTIMIZATION PROBLEMS"
   ]
  },
  {
   "cell_type": "markdown",
   "metadata": {},
   "source": [
    "__Combinatorial optimization__: \n",
    "Combinatorial optimization problems are ubiquitous across many areas of science and application areas. \n",
    "Applications can be found (for example) in logistics, scheduling, planning, and portfolio optimization.\n",
    "In a nutshell combinatorial optimization problems are problems involving a large number of yes/no decisions with each set of decisions yielding a corresponding objective function value, like a cost or profit value. \n",
    "Because of the combinatorial explosion of the solution space with the number of variables, finding good solutions is a daunting task and extremely difficult.  \n",
    "\n",
    "__QUBO problems__: The QUBO ([Quadratic Unconstrained Binary Optimization](https://en.wikipedia.org/wiki/Quadratic_unconstrained_binary_optimization)) model unifies a rich variety of NP-hard combinatorial optimization problems: \n",
    "Famous examples include Quadratic Assignment Problems, Capital Budgeting Problems, Task Allocation Problems and Maximum-Cut Problems. \n",
    "For more details we refer to the excellent review and tutorial on QUBO problems presented in Ref.[5].\n",
    "\n",
    "__Maximum Cut__: Among the class of QUBO problems, Maximum Cut (MaxCut) is paradigm combinatorial optimization problem. \n",
    "Given a graph $G=(V,E)$ with vertex set $V$ and edge set $E$, we seek partition of $V$ into two subsets with maximum cut. \n",
    "In short, we have to color every node either blue or red and we score a point whenever an edge connects two nodes with different colors. \n",
    "We then would like to find the solution with the highest score. \n",
    "Applications thereof can be found in, for example, (i) clustering for marketing purposes (segment your customer base into different clusters for targeted marketing) or (ii) portfolio optimization in finance (vertex corresponds to asset, with color referring to sell or buy decisions. \n",
    "Again, the problem in this specific graph coloring problem is that there are $2^𝑁$ possible solutions for $N$ nodes (an exponential explosion in possibilities), making it impossible to enumerate all possible candidates for relevant system sizes. \n",
    "\n",
    "__Ising Hamiltonian__: Importantly, there is a fundamental correspondence between QUBO problems and Ising problems in physics. \n",
    "Specifically, we can encode the Maximum Cut problem as a __minimization problem__ of an Ising Hamiltonian, where the (classical) cost function reads \n",
    "\n",
    "$$H_{C}=\\sum_{i>j} J_{i,j} z_{i} z_{j},$$\n",
    "\n",
    "with Ising variables $z_{i}=-1,1$ and the Ising matrix $J$ encoding the weights of the edges. \n",
    "For the sake of this discussion, we ignore potential linear terms and constant offsets (that do not affect the optimal solution $z$ anyway). \n",
    "In short, the cost Hamiltonian $H_{C}$ assigns a number to every bitstring $z=(z_{1},z_{2},\\dots)$, and we would like to find the lowest number possible. \n",
    "This will be the optimal assignment and solution to our problem. "
   ]
  },
  {
   "cell_type": "markdown",
   "metadata": {},
   "source": [
    "## BACKGROUND: THE QUANTUM APPROXIMATE OPTIMIZATION ALGORITHM"
   ]
  },
  {
   "cell_type": "markdown",
   "metadata": {},
   "source": [
    "In this tutorial we will try to solve for the optimal _classical_ bitstring $z$ using the Quantum Approximate Optimization Algorithm (QAOA). \n",
    "To this end, we first promote the classical spin variables $z_{i}=-1,1$ to quantum-mechanical variables $\\sigma_{i}^{z}$ (with the Pauli matrix $\\sigma_{i}^{z}$ representing the observable corresponding to spin along the $z$ coordinate axis in three-dimensional Euclidean space $\\mathbb{R}^{3}$). \n",
    "This leads to the following quantum mechanical cost Hamiltonian encoding the optimization problem\n",
    "\n",
    "$$\\hat{H}_{C}=\\sum_{i>j} J_{i,j} \\sigma_{i}^{z} \\sigma_{j}^{z},$$\n",
    "\n",
    "which can be written as a matrix of size $(2^{N}, 2^{N})$ with diagonal elements only corresponding to all possible classical values for the cost function $H_{C}$. \n",
    "The ground state of $\\hat{H}_{C}$ corresponds to the optimal solution of the classical combinatorial problem.\n",
    "\n",
    "__QAOA ansatz__: Finding this ground state is generically hard. \n",
    "To approximate this groundstate, QAOA prepares a parametrized ansatz state (corresponding to a parameterized  gate  sequence),  whose  parameters  are iteratively updated by a classical optimizer in a closed loop. \n",
    "Specifically, QAOA involves a specific ansatz wavefunction parametrized by a parameter family $(\\vec{\\beta}, \\vec{\\gamma})$, embedded into a larger classical optimization loop to find the optimal values for these parameters. \n",
    "As shown in Ref.[1], good approximate solutions to the problem class considered here can be found by preparing the variational state \n",
    "\n",
    "$$|\\gamma, \\beta \\rangle = U_{x}(\\beta_{p})U_{zz}(\\gamma_{p}) \\cdots U_{x}(\\beta_{1})U_{zz}(\\gamma_{1}) |s\\rangle$$\n",
    "\n",
    "with single qubit rotations induced by $U_{x}(\\beta) = \\exp(-i\\beta \\sum_{i}\\sigma_{i}^{x})$, \n",
    "and interactions described by $U_{zz}(\\gamma) = \\exp(-i\\gamma H_{C})$,\n",
    "starting initially from a product of $\\sigma^{x}$ eigenstates, i.e.,\n",
    "$|s\\rangle =|-,-,\\dots\\rangle$, with $|-\\rangle = (|0\\rangle -|1\\rangle  )/\\sqrt{2}$. \n",
    "The family of states $|\\gamma, \\beta \\rangle$ is prepared by alternating single-qubit operations $U_{x}(\\beta_{p})$ with targeted spin-spin interactions generated by the cost Hamiltonian $H_{C}$. \n",
    "The depth $p$ can be interpreted as a hyperparameter. \n",
    "For $p$ layers of QAOA blocks, there are $2p$ classical parameters to optimize over, \n",
    "since each layer $k$ is characterized by just two variational parameters, $\\gamma_{k}$ and $\\beta_{k}$. \n",
    "The preparation step outlined above is followed by a measurement in the computational basis, giving a classical string $z$, with which one can evaluate the objective function $H_{C}$ of the underlying combinatorial problem at hand. \n",
    "Taking several measurements shots one can build the expectation value $E(\\beta, \\gamma) = \\langle H_{C} \\rangle$ that we report as the objective function to the classical minimizer (while other choices could be possible as well). \n",
    "Repeating this procedure will provide an optimized string $z$, with the quality of the result improving as the depth of the quantum circuit $\\sim 2p$ is increased [1]. \n",
    "In fact, in principle (in the absence of noise and other imperfections), QAOA can reach the global optimum of any cost function in the limit $p \\rightarrow \\infty$ [1], approaching the adiabatic protocol. \n",
    "Thus, in theory the computational power of QAOA increases with $p$, but in practice the number of layers that can be executed without errors on NISQ devices is limited due noise and imperfections. \n",
    "\n",
    "__Optimization__: Since we are primarily interested in solving the classical optimization problem, within this routine it is sufficient to keep track of the best classical bitstring. \n",
    "This means that the wavefunction prepared by the quantum circuit $|\\gamma, \\beta \\rangle$ has to have some overlap with the optimal solution $|z^{*} \\rangle$ that we can read out as bitstring $z^{*}$ in the measurement shots. \n",
    "To this end, in principle (i.e., without any training), we could just sample from a completely uniform state that is prepared in a superposition of all computational basis states, as prepared by applying Hadamard gates to all qubits: $|\\mathrm{uniform}\\rangle = 1/\\sqrt{2^{N}}\\sum_{i}|z_{i}\\rangle$. \n",
    "In that case (assuming a single optimal solution) the success probability per shot amounts to $p_{\\mathrm{success}}=1/2^{N}$. \n",
    "We can then amplify our success chances by just taking many measurement shots. \n",
    "For large systems, however, this approach is not scalable as we would need to take an exponentially increasing number of measurements. \n",
    "That is why we train our circuits, update the parameters, with the goal to increase our success chances to find the optimal bitstring. \n",
    "We can quantify our success chances as follows [6]. \n",
    "For a given wavefunction $|\\gamma, \\beta \\rangle$ the probability to find the optimal solution in a single shot is given by \n",
    "\n",
    "$$ p_{\\mathrm{success}}(\\gamma, \\beta) = |\\langle z^{*}|\\gamma, \\beta \\rangle |^{2},$$\n",
    "\n",
    "where $z^{*}$ denotes the optimal bitstring. \n",
    "If we perform $M$ repeated measurements, the overall probability $P$ for observing this solution at least once is given by \n",
    "\n",
    "$$ P = 1 - (1-p_{\\mathrm{success}}(\\gamma, \\beta))^{M}, $$ \n",
    "\n",
    "since the term $(1-p_{\\mathrm{success}}(\\gamma, \\beta))^{M}$ gives the probability of _not_ obtaining $z^{*}$ in repeated $M$ trials. \n",
    "Therefore, to have an overall success chance up to $\\epsilon$ close to 100%, i.e., $P \\geq 1-\\epsilon$, the number of required shots has to be \n",
    "\n",
    "$$ M \\geq \\frac{\\log(\\epsilon)}{\\log(1-p_{\\mathrm{success}}(\\gamma, \\beta))}.$$\n",
    "\n",
    "Let us illustrate this results as follows: \n",
    "If we do not know anything and just resort to a uniform superposition $|\\mathrm{uniform}\\rangle$, for a small system with $N=10$ qubits we can find the optimal solutions with 80% success probability by taking at least $\\sim 1650$ shots. \n",
    "For just $N=20$ qubits, however, this number amounts to $\\sim 1.7 \\times 10^{6}$, making this naive approach unfeasible. \n",
    "Conversely, if we can train the quantum circuit to obtain $p_{\\mathrm{success}}(\\gamma, \\beta) \\sim 0.1$, we only need $\\sim 15$ shots to have $P\\geq 80\\%$. \n",
    "Below we will track and illustrate the best classical optimum as our algorithm proceeds towards a local or (ideally) global optimum.  \n",
    "\n",
    "__Objective function__: Finally, some more details on the definition of the cost function are in order. \n",
    "Following the standard approach [1, 4], QAOA tries to minimize the expectation value $\\langle \\hat{H}_{C} \\rangle$, but does _not_ explicitly maximize the success probability [6]. \n",
    "However, a low expectation value for $\\langle \\hat{H}_{C} \\rangle$ does not necessarily translate to a high success probability $p_{\\mathrm{success}}(\\gamma, \\beta)$, as can be understood from the following example:\n",
    "Consider (for example) a variational state that is a linear combination of low energy excited eigenstates of the cost Hamiltonian $\\hat{H}_{C}$ other than the ground state $|z^{*}\\rangle$. \n",
    "By definition, this state will have a relatively low expectation value $\\langle \\hat{H}_{C} \\rangle$ while the success probability is zero (as this low energy state does not have any overlap with the ground state). \n",
    "Similarly, a variational state that is a linear combination of the ground state with very high energy eigenstates could have a high success probability $p_{\\mathrm{success}}(\\gamma, \\beta)$, while (at the same time) reporting a high cost value to the classical optimizer.\n",
    "To address this issue, alternative methods for the optimization of the variational parameters have recently been proposed. \n",
    "While for simplicity we follow the majority of the literature and take $\\langle \\hat{H}_{C} \\rangle$ as cost value that we report to the classical optimizer, here we do mention a potential alternative for future research: \n",
    "One approach is to use the Gibbs objective function, defined as $\\mathrm{cost}=-\\mathrm{log} \\langle \\exp(-\\eta \\hat{H}_{C})\\rangle$, with the hyperparameter $\\eta>0$ [7]. \n",
    "As compared to the simple expectation value $\\langle \\hat{H}_{C} \\rangle$, this definition of the cost value shows stronger rewards for low energy states, thereby increasing the success probability. "
   ]
  },
  {
   "cell_type": "markdown",
   "metadata": {},
   "source": [
    "## IMPORTS and SETUP"
   ]
  },
  {
   "cell_type": "markdown",
   "metadata": {},
   "source": [
    "For classical benchmarking we will be using the python library ```pyqubo```, as used in our helper script ```utils_classical```. If not already present in your virtual environment, you can install this library simply with ```pip install pyqubo```. Similarly, as ```seaborn``` are not expected to be present in the virtual environment by default, we will install them via ```pip install seaborn```. Note the ```-q``` to suppress install updates from ```pip```."
   ]
  },
  {
   "cell_type": "code",
   "execution_count": 2,
   "metadata": {},
   "outputs": [],
   "source": [
    "# If these have already been installed, this cell can be commented out.\n",
    "!pip install pyqubo -q\n",
    "!pip install seaborn -q"
   ]
  },
  {
   "cell_type": "code",
   "execution_count": 3,
   "metadata": {},
   "outputs": [],
   "source": [
    "# general imports\n",
    "import numpy as np\n",
    "from scipy.optimize import minimize\n",
    "import matplotlib.pyplot as plt\n",
    "import networkx as nx\n",
    "import seaborn as sns\n",
    "import time\n",
    "from datetime import datetime\n",
    "import pickle\n",
    "import random\n",
    "\n",
    "# magic line for producing visualizations in notebook\n",
    "%matplotlib inline"
   ]
  },
  {
   "cell_type": "code",
   "execution_count": 4,
   "metadata": {},
   "outputs": [],
   "source": [
    "# fix random seed for reproducibility\n",
    "seed = 42\n",
    "np.random.seed(seed)\n",
    "random.seed(a=seed)\n",
    "\n",
    "# switch to trigger writing training results to disk\n",
    "store_results = False\n",
    "# switch to trigger printing results of each optimization cycle\n",
    "verbose = False"
   ]
  },
  {
   "cell_type": "code",
   "execution_count": 5,
   "metadata": {},
   "outputs": [],
   "source": [
    "# AWS imports: Import Braket SDK modules\n",
    "from braket.circuits import Circuit, Observable, FreeParameter\n",
    "from braket.aws import AwsSession, AwsDevice\n",
    "from braket.devices import LocalSimulator"
   ]
  },
  {
   "cell_type": "code",
   "execution_count": 6,
   "metadata": {},
   "outputs": [],
   "source": [
    "from utils_classical import plot_colored_graph, plot_colored_graph_simple, solve_classical_ising\n",
    "# auto reload external files, so that we can edit the external .py file and immediately see the changes here\n",
    "%load_ext autoreload\n",
    "%autoreload 2"
   ]
  },
  {
   "cell_type": "code",
   "execution_count": 7,
   "metadata": {},
   "outputs": [],
   "source": [
    "# Set up device: Local Simulator\n",
    "device = LocalSimulator()"
   ]
  },
  {
   "cell_type": "code",
   "execution_count": 8,
   "metadata": {},
   "outputs": [],
   "source": [
    "## example code for other backends\n",
    "## choose the on-demand simulator to run your circuit\n",
    "# device = AwsDevice(\"arn:aws:braket:::device/quantum-simulator/amazon/sv1\")\n",
    "## choose the Rigetti device to run your circuit\n",
    "# device = AwsDevice(\"arn:aws:braket:us-west-1::device/qpu/rigetti/Aspen-M-2\")\n",
    "## choose the Ionq device to run your circuit\n",
    "# device = AwsDevice(\"arn:aws:braket:::device/qpu/ionq/ionQdevice\")"
   ]
  },
  {
   "cell_type": "markdown",
   "metadata": {},
   "source": [
    "## PROBLEM SETUP"
   ]
  },
  {
   "cell_type": "markdown",
   "metadata": {},
   "source": [
    "We consider a graph coloring problem.\n",
    "Given a graph $G=(V,E)$, made of a set vertices (also called nodes) $V$ and edges $E$, our goal is to color each node red or blue, then score a point for each node that is next to a node of different color. \n",
    "We strive to find the optimal coloring that scores the largest number of points.\n",
    "To this end, we will address the dual problem of finding the minimum energy of the corresponding Ising Hamiltonian. \n",
    "To get started, we first use the open-source ```networkx``` library to visualize the problem graph. \n",
    "Feel free to play with the parameters $n$ (for the number of nodes) and $m$ (for the number of edges) below to consider other graphs of your choice. "
   ]
  },
  {
   "cell_type": "code",
   "execution_count": 9,
   "metadata": {},
   "outputs": [
    {
     "data": {
      "image/png": "[encoded data removed]",
      "text/plain": [
       "<Figure size 432x288 with 1 Axes>"
      ]
     },
     "metadata": {},
     "output_type": "display_data"
    }
   ],
   "source": [
    "# setup Erdos Renyi graph\n",
    "n = 10  # number of nodes/vertices\n",
    "m = 20  # number of edges\n",
    "\n",
    "# define graph object\n",
    "G = nx.gnm_random_graph(n, m, seed=seed)\n",
    "# positions for all nodes\n",
    "pos = nx.spring_layout(G)\n",
    "\n",
    "# choose random weights\n",
    "for (u, v) in G.edges():\n",
    "    G.edges[u,v]['weight'] = random.uniform(0, 1)\n",
    "\n",
    "# draw graph\n",
    "nx.draw(G, pos)\n",
    "plt.show()"
   ]
  },
  {
   "cell_type": "code",
   "execution_count": 10,
   "metadata": {},
   "outputs": [],
   "source": [
    "# set Ising matrix \n",
    "Jfull = nx.adjacency_matrix(G).todense()\n",
    "Jfull = np.array(Jfull)\n",
    "\n",
    "# get off-diagonal upper triangular matrix\n",
    "J = np.triu(Jfull, k=1).astype(np.float64)"
   ]
  },
  {
   "cell_type": "code",
   "execution_count": 11,
   "metadata": {},
   "outputs": [
    {
     "data": {
      "image/png": "[encoded data removed]",
      "text/plain": [
       "<Figure size 504x360 with 2 Axes>"
      ]
     },
     "metadata": {
      "needs_background": "light"
     },
     "output_type": "display_data"
    }
   ],
   "source": [
    "# plot Ising matrix\n",
    "plt.figure(1, figsize=[7, 5])\n",
    "sns.heatmap(J, annot=True,  linewidths=.5, cmap=\"YlGnBu\", annot_kws = {'alpha': 1})\n",
    "plt.title('Ising distance matrix');\n",
    "plt.tight_layout();"
   ]
  },
  {
   "cell_type": "markdown",
   "metadata": {},
   "source": [
    "## IMPLEMENTATION OF QAOA WITH BRAKET "
   ]
  },
  {
   "cell_type": "markdown",
   "metadata": {},
   "source": [
    "In this section we load a set of useful helper functions that we will explain in detail below. \n",
    "Specifically in ```utils_qaoa.py``` we provide simple building blocks for the core modules of our QAOA algorithm, that is (i) a function called ```circuit``` that defines the parametrized ansatz, (ii) a function called ```objective_function``` that takes a list of variational parameters as input, and returns the cost associated with those parameters and finally (iii) a function ```train``` to run the entire QAOA algorithm for given ansatz. \n",
    "This way we can solve the problem in a clean and modular approach.\n",
    "Here, we show in markdown the definition of the parametrized QAOA circuit. \n",
    "For more details, see the corresponding file ```utils_qaoa.py```. "
   ]
  },
  {
   "cell_type": "code",
   "execution_count": 12,
   "metadata": {},
   "outputs": [
    {
     "name": "stdout",
     "output_type": "stream",
     "text": [
      "The autoreload extension is already loaded. To reload it, use:\n",
      "  %reload_ext autoreload\n"
     ]
    }
   ],
   "source": [
    "from utils_qaoa import circuit, train \n",
    "# auto reload external files, so that we can edit the external .py file and immediately see the changes here\n",
    "%load_ext autoreload\n",
    "%autoreload 2"
   ]
  },
  {
   "cell_type": "markdown",
   "metadata": {},
   "source": [
    "```python\n",
    "# function to implement evolution with driver Hamiltonian\n",
    "def driver(beta, n_qubits):\n",
    "    \"\"\"\n",
    "    Returns circuit for driver Hamiltonian U(Hb, beta)\n",
    "    \"\"\"\n",
    "    # instantiate circuit object\n",
    "    circ = Circuit()\n",
    "    \n",
    "    for qubit in range(n_qubits):\n",
    "        gate = Circuit().rx(qubit, 2*beta)\n",
    "        circ.add(gate)\n",
    "    \n",
    "    return circ\n",
    "\n",
    "\n",
    "# helper function for evolution with cost Hamiltonian\n",
    "def cost_circuit(gamma, n_qubits, ising):\n",
    "    \"\"\"\n",
    "    returns circuit for evolution with cost Hamiltonian\n",
    "    \"\"\"\n",
    "    # instantiate circuit object\n",
    "    circ = Circuit()\n",
    "\n",
    "    # get all non-zero entries (edges) from Ising matrix \n",
    "    idx = ising.nonzero()\n",
    "    edges = list(zip(idx[0], idx[1]))\n",
    "    \n",
    "    for qubit_pair in edges:\n",
    "        # get interaction strength\n",
    "        int_strength = ising[qubit_pair[0], qubit_pair[1]]\n",
    "        # for Rigetti we decompose ZZ using CNOT gates\n",
    "        if device.name == 'Rigetti':\n",
    "            gate = ZZgate(qubit_pair[0], qubit_pair[1], gamma*int_strength)\n",
    "            circ.add(gate)\n",
    "        # classical simulators and IonQ support ZZ gate\n",
    "        else:\n",
    "            gate = Circuit().zz(qubit_pair[0], qubit_pair[1], angle=2*gamma*int_strength)\n",
    "            circ.add(gate)\n",
    "\n",
    "    return circ\n",
    "\n",
    "\n",
    "# function to build the QAOA circuit with depth p\n",
    "def circuit(params, n_qubits, ising):\n",
    "    \"\"\"\n",
    "    function to return full QAOA circuit\n",
    "    \"\"\"\n",
    "\n",
    "    # initialize qaoa circuit with first Hadamard layer: for minimization start in |->\n",
    "    circ = Circuit()\n",
    "    X_on_all = Circuit().x(range(0, n_qubits))\n",
    "    circ.add(X_on_all)\n",
    "    H_on_all = Circuit().h(range(0, n_qubits))\n",
    "    circ.add(H_on_all)\n",
    "\n",
    "    # setup two parameter families\n",
    "    circuit_length = int(len(params) / 2)\n",
    "    gammas = params[:circuit_length]\n",
    "    betas = params[circuit_length:]\n",
    "\n",
    "    # add circuit layers\n",
    "    for mm in range(circuit_length):\n",
    "        circ.add(cost_circuit(gammas[mm], n_qubits, ising))\n",
    "        circ.add(driver(betas[mm], n_qubits))\n",
    "\n",
    "    return circ\n",
    "\n",
    "```"
   ]
  },
  {
   "cell_type": "markdown",
   "metadata": {},
   "source": [
    "## VISUALIZATION OF THE QAOA ANSATZ"
   ]
  },
  {
   "cell_type": "markdown",
   "metadata": {},
   "source": [
    "Let us first visualize our parametrized QAOA ansatz for a small number of qubits and fixed (i.e., not optimized) parameters. \n",
    "For convenience, the parameters are displayed in the circuit (up to a factor of $2$ we have added in our ansatz definition). \n",
    "First we prepare the state $|0,0,\\dots\\rangle \\rightarrow |-,-,\\dots\\rangle$, with the superposition state $|-\\rangle = (|0\\rangle -|1\\rangle  )/\\sqrt{2}$. \n",
    "Following the discussion above, we choose to start out with this state as it is the minimal energy state of the simple driver Hamiltonian $H_{B}$. \n",
    "This state preparation is followed by one layer of the QAOA ansatz, consisting of evolution with the cost Hamiltonian by $\\exp(-i\\gamma H_{C})= \\prod_{j,l}\\exp(-i\\gamma J_{j,l}\\sigma_{j}^{z}\\sigma_{l}^{z}) = \\prod_{j,l} ZZ_{j,l}(2\\gamma J_{j,l})$, followed by the single-qubit driving term, $\\exp(-i\\beta H_{B})= \\prod_{j} \\exp(-i\\beta \\sigma_{j}^{x})= \\prod_{j} R_{j}^{(x)}(2\\beta)$.\n",
    "Note that the circuit definition depends on the ```device``` object, as the implementation of the ZZ gate depends on the specific gate set supported by the device.  "
   ]
  },
  {
   "cell_type": "code",
   "execution_count": 13,
   "metadata": {},
   "outputs": [
    {
     "name": "stdout",
     "output_type": "stream",
     "text": [
      "Printing test circuit:\n",
      "T  : |0|1|     2     |    3     |\n",
      "                                 \n",
      "q0 : -X-H-ZZ(2*gamma)-Rx(2*beta)-\n",
      "          |                      \n",
      "q1 : -X-H-ZZ(2*gamma)-Rx(2*beta)-\n",
      "\n",
      "T  : |0|1|     2     |    3     |\n",
      "\n",
      "Unassigned parameters: [beta, gamma].\n"
     ]
    }
   ],
   "source": [
    "# create parameters\n",
    "gammas = [FreeParameter('gamma')]\n",
    "betas = [FreeParameter('beta')]\n",
    "params = gammas + betas\n",
    "\n",
    "# for demonstration purposes use small Ising matrix\n",
    "J_sub = np.array([[0, 1], [0, 0]])\n",
    "N = J_sub.shape[0]\n",
    "\n",
    "# get circuit ansatz\n",
    "my_simple_circuit = circuit(params, device, N, J_sub)\n",
    "\n",
    "# print test ansatz circuit\n",
    "print('Printing test circuit:')\n",
    "print(my_simple_circuit)"
   ]
  },
  {
   "cell_type": "markdown",
   "metadata": {},
   "source": [
    "We see that our ansatz produces the expected result for shallow QAOA with $p=1$. \n",
    "We run one more sanity check for $p=2$ below. "
   ]
  },
  {
   "cell_type": "code",
   "execution_count": 14,
   "metadata": {},
   "outputs": [
    {
     "name": "stdout",
     "output_type": "stream",
     "text": [
      "Printing test circuit:\n",
      "T  : |0|1|      2      |     3      |      4      |     5      |\n",
      "                                                                \n",
      "q0 : -X-H-ZZ(2*gamma_1)-Rx(2*beta_1)-ZZ(2*gamma_2)-Rx(2*beta_2)-\n",
      "          |                          |                          \n",
      "q1 : -X-H-ZZ(2*gamma_1)-Rx(2*beta_1)-ZZ(2*gamma_2)-Rx(2*beta_2)-\n",
      "\n",
      "T  : |0|1|      2      |     3      |      4      |     5      |\n",
      "\n",
      "Unassigned parameters: [beta_1, beta_2, gamma_1, gamma_2].\n"
     ]
    }
   ],
   "source": [
    "# set number of qubits and fix parameters\n",
    "gammas = [FreeParameter('gamma_1'), FreeParameter('gamma_2')]\n",
    "betas = [FreeParameter('beta_1'), FreeParameter('beta_2')]\n",
    "params = gammas + betas\n",
    "\n",
    "# for demonstration purposes use small Ising matrix\n",
    "J_sub = np.array([[0, 1], [0, 0]])\n",
    "N = J_sub.shape[0]\n",
    "\n",
    "# get circuit ansatz\n",
    "my_simple_circuit = circuit(params, device, N, J_sub)\n",
    "\n",
    "# print test ansatz circuit\n",
    "print('Printing test circuit:')\n",
    "print(my_simple_circuit)"
   ]
  },
  {
   "cell_type": "markdown",
   "metadata": {},
   "source": [
    "## QAOA SIMULATION ON LOCAL SCHROEDINGER SIMULATOR"
   ]
  },
  {
   "cell_type": "markdown",
   "metadata": {},
   "source": [
    "We are now all set to run some QAOA simulation experiments. \n",
    "First of all, you can play and experiment yourself with the number of qubits $N$. \n",
    "Secondly, you may also experiment with the classical optimizer. \n",
    "Since we are using an off-the-shelf, black-box ```scipy``` minimizer (as described in more detail [here](https://docs.scipy.org/doc/scipy/reference/generated/scipy.optimize.minimize.html)), you can simply swap between different optimizers by setting the ```OPT_METHOD``` parameter below. \n",
    "Some popular options readily available within this library include *Nelder-Mead*, *BFGS* and *COBYLA*. \n",
    "As a precautionary warning, note that the classical optimization step may get stuck in a local optimum, rather than finding the global minimum for our parametrized QAOA ansatz wavefunction. \n",
    "To address this issue, we may run several optimization loops, starting from different random parameter seeds. \n",
    "While this brute-force approach does not provide any guarantee to find the global optimum, from a pragmatic point of view at least it does increase the odds of finding an acceptable solution, at the expense of potentially having to run many more circuits on the simulator or QPU, respectively.\n",
    "Finally, the optimization loop may require the execution of many individual quantum tasks (i.e., single circuit executions for fixed parameters). \n",
    "For example, when choosing the classical [Powell](https://docs.scipy.org/doc/scipy/reference/optimize.minimize-powell.html#optimize-minimize-powell) optimizer for the graph considered here, we find $\\sim 270$ cycles in the for loop. \n",
    "For the local simulator device chosen here by default this is not an issue, but if you run this algorithm on any QPU you may want to adjust the ```maxfev``` parameter to control the maximum allowed number function evaluations (compare comment in the next code block below)."
   ]
  },
  {
   "cell_type": "code",
   "execution_count": 15,
   "metadata": {},
   "outputs": [],
   "source": [
    "##################################################################################\n",
    "# set up hyperparameters\n",
    "##################################################################################\n",
    "\n",
    "# User-defined hypers\n",
    "DEPTH = 3  # circuit depth for QAOA\n",
    "SHOTS = 1000  # number measurements to make on circuit\n",
    "OPT_METHOD = 'Powell'  # SLSQP, COBYLA, Nelder-Mead, BFGS, Powell, ...\n",
    "\n",
    "# set up the problem\n",
    "n_qubits = J.shape[0]\n",
    "\n",
    "# initialize reference solution (simple guess)\n",
    "bitstring_init = -1 * np.ones([n_qubits])\n",
    "energy_init = np.dot(bitstring_init, np.dot(J, bitstring_init))\n",
    "\n",
    "# set tracker to keep track of results\n",
    "tracker = {\n",
    "    'count': 1,                           # Elapsed optimization steps\n",
    "    'optimal_energy': energy_init,        # Global optimal energy\n",
    "    'opt_energies': [],                   # Optimal energy at each step\n",
    "    'global_energies': [],                # Global optimal energy at each step\n",
    "    'optimal_bitstring': bitstring_init,  # Global optimal bitstring\n",
    "    'opt_bitstrings': [],                 # Optimal bitstring at each step\n",
    "    'costs': [],                          # Cost (average energy) at each step\n",
    "    'res': None,                          # Quantum result object\n",
    "    'params': []                          # Track parameters\n",
    "}\n",
    "\n",
    "# set options for classical optimization\n",
    "options = {'disp': True, 'maxiter': 500}\n",
    "# options = {'disp': True, 'ftol': 1e-08, 'maxiter': 100, 'maxfev': 50}  # example options"
   ]
  },
  {
   "cell_type": "code",
   "execution_count": 16,
   "metadata": {
    "scrolled": true
   },
   "outputs": [
    {
     "name": "stdout",
     "output_type": "stream",
     "text": [
      "Circuit depth hyperparameter: 3\n",
      "Problem size: 10\n",
      "Starting the training.\n",
      "====================================================================\n",
      "OPTIMIZATION for circuit depth p=3\n",
      "Param \"verbose\" set to False. Will not print intermediate steps.\n",
      "====================================================================\n"
     ]
    },
    {
     "name": "stderr",
     "output_type": "stream",
     "text": [
      "This program uses OpenQASM language features that may not be supported on QPUs or on-demand simulators.\n",
      "This program uses OpenQASM language features that may not be supported on QPUs or on-demand simulators.\n",
      "This program uses OpenQASM language features that may not be supported on QPUs or on-demand simulators.\n",
      "This program uses OpenQASM language features that may not be supported on QPUs or on-demand simulators.\n",
      "This program uses OpenQASM language features that may not be supported on QPUs or on-demand simulators.\n",
      "This program uses OpenQASM language features that may not be supported on QPUs or on-demand simulators.\n",
      "This program uses OpenQASM language features that may not be supported on QPUs or on-demand simulators.\n",
      "This program uses OpenQASM language features that may not be supported on QPUs or on-demand simulators.\n",
      "This program uses OpenQASM language features that may not be supported on QPUs or on-demand simulators.\n",
      "This program uses OpenQASM language features that may not be supported on QPUs or on-demand simulators.\n",
      "This program uses OpenQASM language features that may not be supported on QPUs or on-demand simulators.\n",
      "This program uses OpenQASM language features that may not be supported on QPUs or on-demand simulators.\n",
      "This program uses OpenQASM language features that may not be supported on QPUs or on-demand simulators.\n",
      "This program uses OpenQASM language features that may not be supported on QPUs or on-demand simulators.\n",
      "This program uses OpenQASM language features that may not be supported on QPUs or on-demand simulators.\n",
      "This program uses OpenQASM language features that may not be supported on QPUs or on-demand simulators.\n",
      "This program uses OpenQASM language features that may not be supported on QPUs or on-demand simulators.\n",
      "This program uses OpenQASM language features that may not be supported on QPUs or on-demand simulators.\n",
      "This program uses OpenQASM language features that may not be supported on QPUs or on-demand simulators.\n",
      "This program uses OpenQASM language features that may not be supported on QPUs or on-demand simulators.\n",
      "This program uses OpenQASM language features that may not be supported on QPUs or on-demand simulators.\n",
      "This program uses OpenQASM language features that may not be supported on QPUs or on-demand simulators.\n",
      "This program uses OpenQASM language features that may not be supported on QPUs or on-demand simulators.\n",
      "This program uses OpenQASM language features that may not be supported on QPUs or on-demand simulators.\n",
      "This program uses OpenQASM language features that may not be supported on QPUs or on-demand simulators.\n",
      "This program uses OpenQASM language features that may not be supported on QPUs or on-demand simulators.\n",
      "This program uses OpenQASM language features that may not be supported on QPUs or on-demand simulators.\n",
      "This program uses OpenQASM language features that may not be supported on QPUs or on-demand simulators.\n",
      "This program uses OpenQASM language features that may not be supported on QPUs or on-demand simulators.\n",
      "This program uses OpenQASM language features that may not be supported on QPUs or on-demand simulators.\n",
      "This program uses OpenQASM language features that may not be supported on QPUs or on-demand simulators.\n",
      "This program uses OpenQASM language features that may not be supported on QPUs or on-demand simulators.\n",
      "This program uses OpenQASM language features that may not be supported on QPUs or on-demand simulators.\n",
      "This program uses OpenQASM language features that may not be supported on QPUs or on-demand simulators.\n",
      "This program uses OpenQASM language features that may not be supported on QPUs or on-demand simulators.\n",
      "This program uses OpenQASM language features that may not be supported on QPUs or on-demand simulators.\n",
      "This program uses OpenQASM language features that may not be supported on QPUs or on-demand simulators.\n",
      "This program uses OpenQASM language features that may not be supported on QPUs or on-demand simulators.\n",
      "This program uses OpenQASM language features that may not be supported on QPUs or on-demand simulators.\n",
      "This program uses OpenQASM language features that may not be supported on QPUs or on-demand simulators.\n",
      "This program uses OpenQASM language features that may not be supported on QPUs or on-demand simulators.\n",
      "This program uses OpenQASM language features that may not be supported on QPUs or on-demand simulators.\n",
      "This program uses OpenQASM language features that may not be supported on QPUs or on-demand simulators.\n",
      "This program uses OpenQASM language features that may not be supported on QPUs or on-demand simulators.\n",
      "This program uses OpenQASM language features that may not be supported on QPUs or on-demand simulators.\n",
      "This program uses OpenQASM language features that may not be supported on QPUs or on-demand simulators.\n",
      "This program uses OpenQASM language features that may not be supported on QPUs or on-demand simulators.\n",
      "This program uses OpenQASM language features that may not be supported on QPUs or on-demand simulators.\n",
      "This program uses OpenQASM language features that may not be supported on QPUs or on-demand simulators.\n",
      "This program uses OpenQASM language features that may not be supported on QPUs or on-demand simulators.\n",
      "This program uses OpenQASM language features that may not be supported on QPUs or on-demand simulators.\n",
      "This program uses OpenQASM language features that may not be supported on QPUs or on-demand simulators.\n",
      "This program uses OpenQASM language features that may not be supported on QPUs or on-demand simulators.\n",
      "This program uses OpenQASM language features that may not be supported on QPUs or on-demand simulators.\n",
      "This program uses OpenQASM language features that may not be supported on QPUs or on-demand simulators.\n",
      "This program uses OpenQASM language features that may not be supported on QPUs or on-demand simulators.\n",
      "This program uses OpenQASM language features that may not be supported on QPUs or on-demand simulators.\n",
      "This program uses OpenQASM language features that may not be supported on QPUs or on-demand simulators.\n",
      "This program uses OpenQASM language features that may not be supported on QPUs or on-demand simulators.\n",
      "This program uses OpenQASM language features that may not be supported on QPUs or on-demand simulators.\n",
      "This program uses OpenQASM language features that may not be supported on QPUs or on-demand simulators.\n",
      "This program uses OpenQASM language features that may not be supported on QPUs or on-demand simulators.\n",
      "This program uses OpenQASM language features that may not be supported on QPUs or on-demand simulators.\n",
      "This program uses OpenQASM language features that may not be supported on QPUs or on-demand simulators.\n",
      "This program uses OpenQASM language features that may not be supported on QPUs or on-demand simulators.\n",
      "This program uses OpenQASM language features that may not be supported on QPUs or on-demand simulators.\n",
      "This program uses OpenQASM language features that may not be supported on QPUs or on-demand simulators.\n",
      "This program uses OpenQASM language features that may not be supported on QPUs or on-demand simulators.\n",
      "This program uses OpenQASM language features that may not be supported on QPUs or on-demand simulators.\n",
      "This program uses OpenQASM language features that may not be supported on QPUs or on-demand simulators.\n",
      "This program uses OpenQASM language features that may not be supported on QPUs or on-demand simulators.\n",
      "This program uses OpenQASM language features that may not be supported on QPUs or on-demand simulators.\n",
      "This program uses OpenQASM language features that may not be supported on QPUs or on-demand simulators.\n",
      "This program uses OpenQASM language features that may not be supported on QPUs or on-demand simulators.\n",
      "This program uses OpenQASM language features that may not be supported on QPUs or on-demand simulators.\n",
      "This program uses OpenQASM language features that may not be supported on QPUs or on-demand simulators.\n",
      "This program uses OpenQASM language features that may not be supported on QPUs or on-demand simulators.\n",
      "This program uses OpenQASM language features that may not be supported on QPUs or on-demand simulators.\n",
      "This program uses OpenQASM language features that may not be supported on QPUs or on-demand simulators.\n"
     ]
    },
    {
     "name": "stderr",
     "output_type": "stream",
     "text": [
      "This program uses OpenQASM language features that may not be supported on QPUs or on-demand simulators.\n",
      "This program uses OpenQASM language features that may not be supported on QPUs or on-demand simulators.\n",
      "This program uses OpenQASM language features that may not be supported on QPUs or on-demand simulators.\n",
      "This program uses OpenQASM language features that may not be supported on QPUs or on-demand simulators.\n",
      "This program uses OpenQASM language features that may not be supported on QPUs or on-demand simulators.\n",
      "This program uses OpenQASM language features that may not be supported on QPUs or on-demand simulators.\n",
      "This program uses OpenQASM language features that may not be supported on QPUs or on-demand simulators.\n",
      "This program uses OpenQASM language features that may not be supported on QPUs or on-demand simulators.\n",
      "This program uses OpenQASM language features that may not be supported on QPUs or on-demand simulators.\n",
      "This program uses OpenQASM language features that may not be supported on QPUs or on-demand simulators.\n",
      "This program uses OpenQASM language features that may not be supported on QPUs or on-demand simulators.\n",
      "This program uses OpenQASM language features that may not be supported on QPUs or on-demand simulators.\n",
      "This program uses OpenQASM language features that may not be supported on QPUs or on-demand simulators.\n",
      "This program uses OpenQASM language features that may not be supported on QPUs or on-demand simulators.\n",
      "This program uses OpenQASM language features that may not be supported on QPUs or on-demand simulators.\n",
      "This program uses OpenQASM language features that may not be supported on QPUs or on-demand simulators.\n",
      "This program uses OpenQASM language features that may not be supported on QPUs or on-demand simulators.\n",
      "This program uses OpenQASM language features that may not be supported on QPUs or on-demand simulators.\n",
      "This program uses OpenQASM language features that may not be supported on QPUs or on-demand simulators.\n",
      "This program uses OpenQASM language features that may not be supported on QPUs or on-demand simulators.\n",
      "This program uses OpenQASM language features that may not be supported on QPUs or on-demand simulators.\n",
      "This program uses OpenQASM language features that may not be supported on QPUs or on-demand simulators.\n",
      "This program uses OpenQASM language features that may not be supported on QPUs or on-demand simulators.\n",
      "This program uses OpenQASM language features that may not be supported on QPUs or on-demand simulators.\n",
      "This program uses OpenQASM language features that may not be supported on QPUs or on-demand simulators.\n",
      "This program uses OpenQASM language features that may not be supported on QPUs or on-demand simulators.\n",
      "This program uses OpenQASM language features that may not be supported on QPUs or on-demand simulators.\n",
      "This program uses OpenQASM language features that may not be supported on QPUs or on-demand simulators.\n",
      "This program uses OpenQASM language features that may not be supported on QPUs or on-demand simulators.\n",
      "This program uses OpenQASM language features that may not be supported on QPUs or on-demand simulators.\n",
      "This program uses OpenQASM language features that may not be supported on QPUs or on-demand simulators.\n",
      "This program uses OpenQASM language features that may not be supported on QPUs or on-demand simulators.\n",
      "This program uses OpenQASM language features that may not be supported on QPUs or on-demand simulators.\n",
      "This program uses OpenQASM language features that may not be supported on QPUs or on-demand simulators.\n",
      "This program uses OpenQASM language features that may not be supported on QPUs or on-demand simulators.\n",
      "This program uses OpenQASM language features that may not be supported on QPUs or on-demand simulators.\n",
      "This program uses OpenQASM language features that may not be supported on QPUs or on-demand simulators.\n",
      "This program uses OpenQASM language features that may not be supported on QPUs or on-demand simulators.\n",
      "This program uses OpenQASM language features that may not be supported on QPUs or on-demand simulators.\n",
      "This program uses OpenQASM language features that may not be supported on QPUs or on-demand simulators.\n",
      "This program uses OpenQASM language features that may not be supported on QPUs or on-demand simulators.\n",
      "This program uses OpenQASM language features that may not be supported on QPUs or on-demand simulators.\n",
      "This program uses OpenQASM language features that may not be supported on QPUs or on-demand simulators.\n",
      "This program uses OpenQASM language features that may not be supported on QPUs or on-demand simulators.\n",
      "This program uses OpenQASM language features that may not be supported on QPUs or on-demand simulators.\n",
      "This program uses OpenQASM language features that may not be supported on QPUs or on-demand simulators.\n",
      "This program uses OpenQASM language features that may not be supported on QPUs or on-demand simulators.\n",
      "This program uses OpenQASM language features that may not be supported on QPUs or on-demand simulators.\n",
      "This program uses OpenQASM language features that may not be supported on QPUs or on-demand simulators.\n",
      "This program uses OpenQASM language features that may not be supported on QPUs or on-demand simulators.\n",
      "This program uses OpenQASM language features that may not be supported on QPUs or on-demand simulators.\n",
      "This program uses OpenQASM language features that may not be supported on QPUs or on-demand simulators.\n",
      "This program uses OpenQASM language features that may not be supported on QPUs or on-demand simulators.\n",
      "This program uses OpenQASM language features that may not be supported on QPUs or on-demand simulators.\n",
      "This program uses OpenQASM language features that may not be supported on QPUs or on-demand simulators.\n",
      "This program uses OpenQASM language features that may not be supported on QPUs or on-demand simulators.\n",
      "This program uses OpenQASM language features that may not be supported on QPUs or on-demand simulators.\n",
      "This program uses OpenQASM language features that may not be supported on QPUs or on-demand simulators.\n",
      "This program uses OpenQASM language features that may not be supported on QPUs or on-demand simulators.\n",
      "This program uses OpenQASM language features that may not be supported on QPUs or on-demand simulators.\n",
      "This program uses OpenQASM language features that may not be supported on QPUs or on-demand simulators.\n",
      "This program uses OpenQASM language features that may not be supported on QPUs or on-demand simulators.\n",
      "This program uses OpenQASM language features that may not be supported on QPUs or on-demand simulators.\n",
      "This program uses OpenQASM language features that may not be supported on QPUs or on-demand simulators.\n",
      "This program uses OpenQASM language features that may not be supported on QPUs or on-demand simulators.\n",
      "This program uses OpenQASM language features that may not be supported on QPUs or on-demand simulators.\n",
      "This program uses OpenQASM language features that may not be supported on QPUs or on-demand simulators.\n",
      "This program uses OpenQASM language features that may not be supported on QPUs or on-demand simulators.\n",
      "This program uses OpenQASM language features that may not be supported on QPUs or on-demand simulators.\n",
      "This program uses OpenQASM language features that may not be supported on QPUs or on-demand simulators.\n",
      "This program uses OpenQASM language features that may not be supported on QPUs or on-demand simulators.\n",
      "This program uses OpenQASM language features that may not be supported on QPUs or on-demand simulators.\n",
      "This program uses OpenQASM language features that may not be supported on QPUs or on-demand simulators.\n",
      "This program uses OpenQASM language features that may not be supported on QPUs or on-demand simulators.\n",
      "This program uses OpenQASM language features that may not be supported on QPUs or on-demand simulators.\n",
      "This program uses OpenQASM language features that may not be supported on QPUs or on-demand simulators.\n",
      "This program uses OpenQASM language features that may not be supported on QPUs or on-demand simulators.\n",
      "This program uses OpenQASM language features that may not be supported on QPUs or on-demand simulators.\n",
      "This program uses OpenQASM language features that may not be supported on QPUs or on-demand simulators.\n"
     ]
    },
    {
     "name": "stderr",
     "output_type": "stream",
     "text": [
      "This program uses OpenQASM language features that may not be supported on QPUs or on-demand simulators.\n",
      "This program uses OpenQASM language features that may not be supported on QPUs or on-demand simulators.\n",
      "This program uses OpenQASM language features that may not be supported on QPUs or on-demand simulators.\n",
      "This program uses OpenQASM language features that may not be supported on QPUs or on-demand simulators.\n",
      "This program uses OpenQASM language features that may not be supported on QPUs or on-demand simulators.\n",
      "This program uses OpenQASM language features that may not be supported on QPUs or on-demand simulators.\n",
      "This program uses OpenQASM language features that may not be supported on QPUs or on-demand simulators.\n",
      "This program uses OpenQASM language features that may not be supported on QPUs or on-demand simulators.\n",
      "This program uses OpenQASM language features that may not be supported on QPUs or on-demand simulators.\n",
      "This program uses OpenQASM language features that may not be supported on QPUs or on-demand simulators.\n",
      "This program uses OpenQASM language features that may not be supported on QPUs or on-demand simulators.\n",
      "This program uses OpenQASM language features that may not be supported on QPUs or on-demand simulators.\n",
      "This program uses OpenQASM language features that may not be supported on QPUs or on-demand simulators.\n",
      "This program uses OpenQASM language features that may not be supported on QPUs or on-demand simulators.\n",
      "This program uses OpenQASM language features that may not be supported on QPUs or on-demand simulators.\n",
      "This program uses OpenQASM language features that may not be supported on QPUs or on-demand simulators.\n",
      "This program uses OpenQASM language features that may not be supported on QPUs or on-demand simulators.\n",
      "This program uses OpenQASM language features that may not be supported on QPUs or on-demand simulators.\n",
      "This program uses OpenQASM language features that may not be supported on QPUs or on-demand simulators.\n",
      "This program uses OpenQASM language features that may not be supported on QPUs or on-demand simulators.\n",
      "This program uses OpenQASM language features that may not be supported on QPUs or on-demand simulators.\n",
      "This program uses OpenQASM language features that may not be supported on QPUs or on-demand simulators.\n",
      "This program uses OpenQASM language features that may not be supported on QPUs or on-demand simulators.\n",
      "This program uses OpenQASM language features that may not be supported on QPUs or on-demand simulators.\n",
      "This program uses OpenQASM language features that may not be supported on QPUs or on-demand simulators.\n",
      "This program uses OpenQASM language features that may not be supported on QPUs or on-demand simulators.\n",
      "This program uses OpenQASM language features that may not be supported on QPUs or on-demand simulators.\n",
      "This program uses OpenQASM language features that may not be supported on QPUs or on-demand simulators.\n",
      "This program uses OpenQASM language features that may not be supported on QPUs or on-demand simulators.\n",
      "This program uses OpenQASM language features that may not be supported on QPUs or on-demand simulators.\n",
      "This program uses OpenQASM language features that may not be supported on QPUs or on-demand simulators.\n",
      "This program uses OpenQASM language features that may not be supported on QPUs or on-demand simulators.\n",
      "This program uses OpenQASM language features that may not be supported on QPUs or on-demand simulators.\n",
      "This program uses OpenQASM language features that may not be supported on QPUs or on-demand simulators.\n",
      "This program uses OpenQASM language features that may not be supported on QPUs or on-demand simulators.\n",
      "This program uses OpenQASM language features that may not be supported on QPUs or on-demand simulators.\n",
      "This program uses OpenQASM language features that may not be supported on QPUs or on-demand simulators.\n",
      "This program uses OpenQASM language features that may not be supported on QPUs or on-demand simulators.\n",
      "This program uses OpenQASM language features that may not be supported on QPUs or on-demand simulators.\n",
      "This program uses OpenQASM language features that may not be supported on QPUs or on-demand simulators.\n",
      "This program uses OpenQASM language features that may not be supported on QPUs or on-demand simulators.\n",
      "This program uses OpenQASM language features that may not be supported on QPUs or on-demand simulators.\n",
      "This program uses OpenQASM language features that may not be supported on QPUs or on-demand simulators.\n",
      "This program uses OpenQASM language features that may not be supported on QPUs or on-demand simulators.\n",
      "This program uses OpenQASM language features that may not be supported on QPUs or on-demand simulators.\n",
      "This program uses OpenQASM language features that may not be supported on QPUs or on-demand simulators.\n",
      "This program uses OpenQASM language features that may not be supported on QPUs or on-demand simulators.\n",
      "This program uses OpenQASM language features that may not be supported on QPUs or on-demand simulators.\n",
      "This program uses OpenQASM language features that may not be supported on QPUs or on-demand simulators.\n",
      "This program uses OpenQASM language features that may not be supported on QPUs or on-demand simulators.\n",
      "This program uses OpenQASM language features that may not be supported on QPUs or on-demand simulators.\n",
      "This program uses OpenQASM language features that may not be supported on QPUs or on-demand simulators.\n",
      "This program uses OpenQASM language features that may not be supported on QPUs or on-demand simulators.\n",
      "This program uses OpenQASM language features that may not be supported on QPUs or on-demand simulators.\n",
      "This program uses OpenQASM language features that may not be supported on QPUs or on-demand simulators.\n",
      "This program uses OpenQASM language features that may not be supported on QPUs or on-demand simulators.\n",
      "This program uses OpenQASM language features that may not be supported on QPUs or on-demand simulators.\n",
      "This program uses OpenQASM language features that may not be supported on QPUs or on-demand simulators.\n",
      "This program uses OpenQASM language features that may not be supported on QPUs or on-demand simulators.\n",
      "This program uses OpenQASM language features that may not be supported on QPUs or on-demand simulators.\n",
      "This program uses OpenQASM language features that may not be supported on QPUs or on-demand simulators.\n",
      "This program uses OpenQASM language features that may not be supported on QPUs or on-demand simulators.\n",
      "This program uses OpenQASM language features that may not be supported on QPUs or on-demand simulators.\n",
      "This program uses OpenQASM language features that may not be supported on QPUs or on-demand simulators.\n",
      "This program uses OpenQASM language features that may not be supported on QPUs or on-demand simulators.\n",
      "This program uses OpenQASM language features that may not be supported on QPUs or on-demand simulators.\n",
      "This program uses OpenQASM language features that may not be supported on QPUs or on-demand simulators.\n",
      "This program uses OpenQASM language features that may not be supported on QPUs or on-demand simulators.\n",
      "This program uses OpenQASM language features that may not be supported on QPUs or on-demand simulators.\n",
      "This program uses OpenQASM language features that may not be supported on QPUs or on-demand simulators.\n",
      "This program uses OpenQASM language features that may not be supported on QPUs or on-demand simulators.\n",
      "This program uses OpenQASM language features that may not be supported on QPUs or on-demand simulators.\n",
      "This program uses OpenQASM language features that may not be supported on QPUs or on-demand simulators.\n",
      "This program uses OpenQASM language features that may not be supported on QPUs or on-demand simulators.\n",
      "This program uses OpenQASM language features that may not be supported on QPUs or on-demand simulators.\n",
      "This program uses OpenQASM language features that may not be supported on QPUs or on-demand simulators.\n",
      "This program uses OpenQASM language features that may not be supported on QPUs or on-demand simulators.\n",
      "This program uses OpenQASM language features that may not be supported on QPUs or on-demand simulators.\n",
      "This program uses OpenQASM language features that may not be supported on QPUs or on-demand simulators.\n"
     ]
    },
    {
     "name": "stderr",
     "output_type": "stream",
     "text": [
      "This program uses OpenQASM language features that may not be supported on QPUs or on-demand simulators.\n",
      "This program uses OpenQASM language features that may not be supported on QPUs or on-demand simulators.\n",
      "This program uses OpenQASM language features that may not be supported on QPUs or on-demand simulators.\n",
      "This program uses OpenQASM language features that may not be supported on QPUs or on-demand simulators.\n",
      "This program uses OpenQASM language features that may not be supported on QPUs or on-demand simulators.\n"
     ]
    },
    {
     "name": "stdout",
     "output_type": "stream",
     "text": [
      "Optimization terminated successfully.\n",
      "         Current function value: -0.528222\n",
      "         Iterations: 2\n",
      "         Function evaluations: 242\n",
      "Final average energy (cost): -0.5282224514612025\n",
      "Final angles: [3.80351695 1.4014099  1.39004847 1.16778289 2.18602397 1.93468655]\n",
      "Training complete.\n",
      "Code execution time [sec]: 37.18410015106201\n",
      "Optimal energy: -6.486032631497276\n",
      "Optimal classical bitstring: [ 1 -1  1  1 -1  1 -1 -1  1  1]\n"
     ]
    }
   ],
   "source": [
    "##################################################################################\n",
    "# run QAOA optimization on graph \n",
    "##################################################################################\n",
    "\n",
    "print('Circuit depth hyperparameter:', DEPTH)\n",
    "print('Problem size:', n_qubits)\n",
    "\n",
    "# kick off training\n",
    "start = time.time()\n",
    "result_energy, result_angle, tracker = train(\n",
    "    device = device, options=options, p=DEPTH, ising=J, n_qubits=n_qubits, n_shots=SHOTS, \n",
    "    opt_method=OPT_METHOD, tracker=tracker, verbose=verbose)\n",
    "end = time.time()\n",
    "\n",
    "# print execution time\n",
    "print('Code execution time [sec]:', end - start)\n",
    "\n",
    "# print optimized results\n",
    "print('Optimal energy:', tracker['optimal_energy'])\n",
    "print('Optimal classical bitstring:', tracker['optimal_bitstring'])\n",
    "\n",
    "##################################################################################\n",
    "# Compute output and dump to pickle\n",
    "##################################################################################\n",
    "\n",
    "if store_results:\n",
    "    out = {'p': DEPTH, 'N': n_qubits,\n",
    "           'ENERGY_OPTIMAL': tracker['optimal_energy'], 'BITSTRING': tracker['optimal_bitstring'],\n",
    "           'result_energy': result_energy, 'result_angle': result_angle}\n",
    "\n",
    "    # store results: dump output to pickle with timestamp in filename\n",
    "    time_now = datetime.strftime(datetime.now(), '%Y%m%d%H%M%S')\n",
    "    results_file = 'results-'+time_now+'.pkl'\n",
    "    print(f'Writing results to file: {results_file}')\n",
    "    pickle.dump(out, open(results_file, \"wb\"))\n",
    "    \n",
    "    # you can load results as follows\n",
    "    # out = pickle.load(open(results_file, \"rb\"))"
   ]
  },
  {
   "cell_type": "markdown",
   "metadata": {},
   "source": [
    "## POSTPROCESSING AND COMPARISON OF OUR QAOA RESULTS WITH CLASSICAL RESULTS"
   ]
  },
  {
   "cell_type": "markdown",
   "metadata": {},
   "source": [
    "In this section we visualize the results we have found with QAOA. \n",
    "Specifically, we display the results found for the variational parameters $\\beta$ and $\\gamma$ for every layer in our QAOA ansatz. \n",
    "Moreover, we show the solution to our graph coloring problem with every node colored either red or blue (recall that there are just two colors since we solve a _binary_ optimization problem).\n",
    "Finally, we compare these results to results found classically using the open-source ```pyqubo``` package. \n",
    "Ideally, the two results should agree with each other but this is not necessarily the case for several reasons: \n",
    "First of all, for the original small toy problem we have set up there are several degenerate classical solutions with the same optimal quality. \n",
    "The classical and the QAOA approach may find solutions with different coloring configurations but the same quality (that is energy). \n",
    "Secondly, with QAOA we are not guaranteed to find the optimal solutions. \n",
    "Specifically, the deeper the circuit, the harder the classical optimization problem, and we may get stuck in a local rather than global optimum. \n",
    "One brute-force approach is then to just re-run QAOA with different random initial seeds for the parameters $(\\beta, \\gamma)$."
   ]
  },
  {
   "cell_type": "code",
   "execution_count": 17,
   "metadata": {},
   "outputs": [
    {
     "name": "stdout",
     "output_type": "stream",
     "text": [
      "Optimization on graph with n=10 vertices, m=20 edges, optimized with Powell and 1000 shots per call; seed=42.\n"
     ]
    },
    {
     "data": {
      "image/png": "[encoded data removed]",
      "text/plain": [
       "<Figure size 432x288 with 1 Axes>"
      ]
     },
     "metadata": {
      "needs_background": "light"
     },
     "output_type": "display_data"
    }
   ],
   "source": [
    "# visualize the optimization process\n",
    "cycles = np.arange(1, tracker['count'])\n",
    "optim_classical = tracker['global_energies']\n",
    "\n",
    "# print information\n",
    "info = 'Optimization on graph with n={} vertices, m={} edges, optimized with {} and {} shots per call; seed={}.'\n",
    "print(info.format(n, m, OPT_METHOD, SHOTS, seed))\n",
    "\n",
    "plt.plot(cycles, optim_classical)\n",
    "plt.xlabel('optimization cycle')\n",
    "plt.ylabel('best classical minimum')\n",
    "plt.show()"
   ]
  },
  {
   "cell_type": "code",
   "execution_count": 18,
   "metadata": {},
   "outputs": [
    {
     "name": "stdout",
     "output_type": "stream",
     "text": [
      "Optimal energy found with QAOA: -6.486032631497276\n",
      "Optimal bit-string found with QAOA: [ 1 -1  1  1 -1  1 -1 -1  1  1]\n"
     ]
    }
   ],
   "source": [
    "# print the optimal energy found with QAOA \n",
    "print('Optimal energy found with QAOA:', tracker['optimal_energy'])\n",
    "# print the corresponding bitstring\n",
    "print('Optimal bit-string found with QAOA:', tracker['optimal_bitstring'])"
   ]
  },
  {
   "cell_type": "code",
   "execution_count": 19,
   "metadata": {},
   "outputs": [
    {
     "data": {
      "image/png": "[encoded data removed]",
      "text/plain": [
       "<Figure size 432x288 with 1 Axes>"
      ]
     },
     "metadata": {
      "needs_background": "light"
     },
     "output_type": "display_data"
    }
   ],
   "source": [
    "# get results for variational angles\n",
    "gamma = result_angle[:DEPTH]\n",
    "beta = result_angle[DEPTH:]\n",
    "# get array [1, 2, ..., p]\n",
    "pa = np.arange(1, DEPTH + 1)\n",
    "\n",
    "plt.figure(2)\n",
    "plt.plot(pa, gamma / np.pi, '-o', label='gamma')\n",
    "plt.plot(pa, beta / np.pi, '-s', label='beta')\n",
    "plt.xlabel('circuit depth (layer) p')\n",
    "plt.ylabel('optimal angles [pi]')\n",
    "plt.xticks(pa)\n",
    "plt.legend(title='Variational QAOA angles:', loc='upper left')\n",
    "plt.show()"
   ]
  },
  {
   "cell_type": "code",
   "execution_count": 20,
   "metadata": {
    "scrolled": true
   },
   "outputs": [
    {
     "name": "stdout",
     "output_type": "stream",
     "text": [
      "Minimal energy found with QAOA: -6.486032631497276\n"
     ]
    },
    {
     "data": {
      "image/png": "[encoded data removed]",
      "text/plain": [
       "<Figure size 432x288 with 1 Axes>"
      ]
     },
     "metadata": {},
     "output_type": "display_data"
    }
   ],
   "source": [
    "# visualize solution\n",
    "colorlist = tracker['optimal_bitstring']\n",
    "colorlist[colorlist == -1] = 0\n",
    "\n",
    "# plot_colored_graph(J, N, colorlist, pos)\n",
    "plot_colored_graph_simple(G, colorlist, pos)\n",
    "print('Minimal energy found with QAOA:', tracker['optimal_energy'])"
   ]
  },
  {
   "cell_type": "code",
   "execution_count": 21,
   "metadata": {},
   "outputs": [
    {
     "name": "stdout",
     "output_type": "stream",
     "text": [
      "Classical solution: {'s0': -1, 's1': 1, 's2': -1, 's3': -1, 's4': 1, 's5': -1, 's6': 1, 's7': 1, 's8': -1, 's9': -1}\n",
      "Minimal energy found classically: -6.486032631497276\n"
     ]
    },
    {
     "data": {
      "image/png": "[encoded data removed]",
      "text/plain": [
       "<Figure size 432x288 with 1 Axes>"
      ]
     },
     "metadata": {},
     "output_type": "display_data"
    }
   ],
   "source": [
    "# validate quantum results with classical algorithm\n",
    "solution, energy_min, colors_classical = solve_classical_ising(J, n_qubits, pos)\n",
    "# plot classical solution\n",
    "plot_colored_graph_simple(G, colors_classical, pos)"
   ]
  },
  {
   "cell_type": "markdown",
   "metadata": {},
   "source": [
    "Note that QAOA may arrive at a different solution than our classical benchmark code. \n",
    "First of all, the classical optimization routine may get stuck in a local rather than global optimum. \n",
    "To avoid this, more sophisticated optimization strategies may be employed (as proposed for example in Ref.[4]), going beyond the scope of this introductory notebook tutorial. \n",
    "Secondly, even if QAOA arrives at the same classical energy as our classical approach, the coloring may differ since the solution space may be degenerate for the specific example shown here (this means, two different classical bitstrings have the same energy).\n",
    "At minimum, you may find an inverted coloring (by swapping red and blue colors), because of the underlying $\\mathbb{Z}_{2}$ symmetry. "
   ]
  },
  {
   "cell_type": "markdown",
   "metadata": {},
   "source": [
    "## SUMMARY"
   ]
  },
  {
   "cell_type": "markdown",
   "metadata": {},
   "source": [
    "In this notebook we have gone through an end-to-end demo on QAOA and its implementation on Amazon Braket. \n",
    "We have built modular core building blocks that may easily adapted to other problems. \n",
    "The QAOA routine is tailored towards solving combinatorial optimization problems such as _Maximum Cut_ [4] and arguably one of the most prominent examples of the emerging class of hybrid, variational algorithms and still very much a field of active research today. \n",
    "For example, as we increase the circuit depth of QAOA, the classical optimization step becomes increasingly difficult (because of the curse of dimensionality as well known in classical machine learning) and may easily get stuck in local sub-optimal solutions. \n",
    "To address this issue some heuristics have already been developed, for example in Ref.[4], but further improvements will arguably be necessary to fully unlock the potential of this approach. "
   ]
  },
  {
   "cell_type": "markdown",
   "metadata": {},
   "source": [
    "---\n",
    "## REFERENCES"
   ]
  },
  {
   "cell_type": "markdown",
   "metadata": {},
   "source": [
    "[1] E. Farhi, J. Goldstone, and S. Gutmann, \"A Quantum Approximate Optimization Algorithm\", arXiv: 1411.4028 (2014).\n",
    "\n",
    "[2] Y. Cao, J. Romero, J. P. Olson, M. Degroote, P. D. Johnson, M. Kieferova, I. D. Kivlichan, T. Menke, B. Peropadre, N. P. Sawaya, et al., \"Quantum Chemistry in the Age of Quantum Computing\", Chemical reviews 119, 10856 (2019).\n",
    "\n",
    "[3] A. Smith, M. Kim, F. Pollmann, and J. Knolle, \"Simulating quantum many-body dynamics on a current digital quantum computer\", npj Quantum Information 5, 1 (2019).\n",
    "\n",
    "[4] L. Zhou, S.-T. Wang, S. Choi, H. Pichler, and M. D. Lukin, \"Quantum Approximate Optimization Algorithm: Performance, Mechanism,and Implementation on Near-Term Devices\", arXiv: 1812.01041 (2018). \n",
    "\n",
    "[5] F. Glover, G. Kochenberger, \"A Tutorial on Formulating and Using QUBO Models\", arXiv:1811.11538 (2018).\n",
    "\n",
    "[6] P. Vikstal, M. Groenkvist, M. Svensson, M. Andersson, G. Johansson, and G. Ferrini, \"Applying the Quantum Approximate Optimization Algorithm to the Tail Assignment Problem\", arXiv:1912.10499 (2019). \n",
    "\n",
    "[7] L. Li, M. Fan, M. Coram, P. Riley, and S. Leichenauer, \"Quantum optimization with a novel gibbs objective function and ansatz architecture search\", arXiv:1909.07621 (2019). "
   ]
  },
  {
   "cell_type": "markdown",
   "metadata": {},
   "source": [
    "---\n",
    "## APPENDIX"
   ]
  },
  {
   "cell_type": "code",
   "execution_count": 22,
   "metadata": {},
   "outputs": [
    {
     "name": "stdout",
     "output_type": "stream",
     "text": [
      "Version: 1.33.2.dev0\n",
      "Version: 1.10.1.dev0\n"
     ]
    }
   ],
   "source": [
    "# Check SDK version\n",
    "!pip show amazon-braket-sdk | grep Version\n",
    "!pip show amazon-braket-default-simulator | grep Version\n",
    "# !pip list --outdated --format=freeze | grep -v '^\\-e' | cut -d = -f 1  | xargs -n1 pip install -U"
   ]
  },
  {
   "cell_type": "markdown",
   "metadata": {},
   "source": [
    "### APPENDIX: Example for Ising Matrix Syntax"
   ]
  },
  {
   "cell_type": "markdown",
   "metadata": {},
   "source": [
    "In this appendix we provide a small code example to showcase how we obtain all edges with corresponding weights. "
   ]
  },
  {
   "cell_type": "code",
   "execution_count": 23,
   "metadata": {},
   "outputs": [
    {
     "name": "stdout",
     "output_type": "stream",
     "text": [
      "Ising matrix:\n",
      " [[0 1 0]\n",
      " [0 0 3]\n",
      " [0 0 0]]\n",
      "Edges: [(0, 1), (1, 2)]\n",
      "Interaction strength: 1\n",
      "Interaction strength: 3\n",
      "All interactions: [1 3]\n"
     ]
    }
   ],
   "source": [
    "# example Ising matrix with edges between qubit 0 and qubit 1 (weight=1) and qubit 1 and qubit 2 (weight=3)\n",
    "ising = np.array([[0, 1, 0], [0, 0, 3], [0, 0, 0]])\n",
    "print('Ising matrix:\\n', ising)\n",
    "\n",
    "# get all non-zero entries (edges) from Ising matrix \n",
    "idx = ising.nonzero()\n",
    "edges = list(zip(idx[0], idx[1]))\n",
    "print('Edges:', edges)\n",
    "\n",
    "# for every edge print interaction strength\n",
    "for qubit_pair in edges:\n",
    "    # get interaction strength\n",
    "    int_strength = ising[qubit_pair[0], qubit_pair[1]]\n",
    "    print('Interaction strength:', int_strength)\n",
    "\n",
    "# get all non-zero entries from Ising, with proper order\n",
    "interactions = np.array([ising[q[0], q[1]] for q in edges])\n",
    "print('All interactions:', interactions)"
   ]
  },
  {
   "cell_type": "code",
   "execution_count": 24,
   "metadata": {},
   "outputs": [
    {
     "name": "stdout",
     "output_type": "stream",
     "text": [
      "Task Summary\n",
      "{}\n",
      "Estimated cost to run this example with SV1: 0 USD\n"
     ]
    }
   ],
   "source": [
    "print(\"Task Summary\")\n",
    "print(t.quantum_tasks_statistics())\n",
    "print(f\"Estimated cost to run this example with SV1: {t.qpu_tasks_cost() + t.simulator_tasks_cost()} USD\")"
   ]
  }
 ],
 "metadata": {
  "kernelspec": {
   "display_name": "Python 3",
   "language": "python",
   "name": "python3"
  },
  "language_info": {
   "codemirror_mode": {
    "name": "ipython",
    "version": 3
   },
   "file_extension": ".py",
   "mimetype": "text/x-python",
   "name": "python",
   "nbconvert_exporter": "python",
   "pygments_lexer": "ipython3",
   "version": "3.8.15"
  },
  "vscode": {
   "interpreter": {
    "hash": "590fab68195cf107911461461f81d5c472d3d6127f579badfcfad30f03e5cab2"
   }
  }
 },
 "nbformat": 4,
 "nbformat_minor": 2
}
