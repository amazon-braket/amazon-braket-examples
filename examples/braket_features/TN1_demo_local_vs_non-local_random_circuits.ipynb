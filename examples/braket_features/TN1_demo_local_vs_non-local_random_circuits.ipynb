{
 "cells": [
  {
   "cell_type": "markdown",
   "metadata": {},
   "source": [
    "# Testing the tensor network simulator with 2-local Hayden-Preskill circuits\n"
   ]
  },
  {
   "cell_type": "markdown",
   "metadata": {},
   "source": [
    "**Abstract:** We study a class of random quantum circuits known as Hayden-Preskill circuits using the tensor network simulator backend in Amazon Braket. The goal is to understand the degree to which the tensor network simulator is capable of detecting a hidden local structure in a quantum circuit, while simultaneously building experience with the Amazon Braket service and SDK. We find that the TN1 tensor network simulator can efficiently simulate local random quantum circuits, even when the local structure is obfuscated by permuting the qubit indices. Conversely, when running genuinely non-local versions of the quantum circuits, the simulator's performance is significantly degraded.\n",
    "\n",
    "This notebook is aimed at users who are familiar with Amazon Braket and have a working knowledge of quantum computing and quantum circuits."
   ]
  },
  {
   "cell_type": "markdown",
   "metadata": {},
   "source": [
    "<div class=\"alert alert-block alert-warning\">\n",
    "    <b>NOTE:</b> Remember to update your S3 bucket.\n",
    "</div>"
   ]
  },
  {
   "cell_type": "code",
   "execution_count": 1,
   "metadata": {},
   "outputs": [],
   "source": [
    "from braket.circuits import Circuit\n",
    "from braket.aws import AwsDevice\n",
    "from braket.devices import LocalSimulator\n",
    "\n",
    "import numpy as np\n",
    "import random\n",
    "import matplotlib.pyplot as plt\n",
    "import time\n",
    "import os\n",
    "\n",
    "# Please enter the S3 bucket you created during onboarding\n",
    "# (or any other S3 bucket starting with 'amazon-braket-' in your account) in the code below\n",
    "\n",
    "my_bucket = f\"amazon-braket-Your-Bucket-Name\" # the name of the bucket\n",
    "my_prefix = \"Your-Folder-Name\" # the name of the folder in the bucket\n",
    "s3_folder = (my_bucket, my_prefix)"
   ]
  },
  {
   "cell_type": "markdown",
   "metadata": {},
   "source": [
    "#### Setup the tensor network simulator:\n",
    "In this notebook we will use the TN1 simulator on Amazon Braket [[1]](#References):"
   ]
  },
  {
   "cell_type": "code",
   "execution_count": 2,
   "metadata": {},
   "outputs": [],
   "source": [
    "device = AwsDevice(\"arn:aws:braket:::device/quantum-simulator/amazon/tn1\")"
   ]
  },
  {
   "cell_type": "markdown",
   "metadata": {},
   "source": [
    "## Local Hayden-Preskill Circuits"
   ]
  },
  {
   "cell_type": "markdown",
   "metadata": {},
   "source": [
    "Hayden-Preskill circuits are a class of unstructured, random quantum circuits.  To produce a Hayden-Preskill circuit, one chooses a gate at random from some universal gate set at each time step and applies this gate to random target qubits.  For example, one can choose to either apply a random single qubit rotation to a random qubit, or a CZ gate to a random pair of qubits at each time step.  As a concrete example, consider the following pseudocode:\n",
    "```\n",
    "Choose either {single qubit, two qubit} gate w/ prob. {1/2, 1/2}\n",
    " \n",
    "If single qubit:\n",
    "    Choose either {Rx, Ry, Rz, H} randomly w/ prob. {1/4, 1/4, 1/4, 1/4}    \n",
    "    Apply the chosen gate to a randomly chosen qubit\n",
    "    If the gate is Rx, Ry, or Rz, rotate by a randomly chosen angle\n",
    " \n",
    "If two qubit gate:\n",
    "    Choose (qubit 1, qubit 2) to be two randomly chosen qubits out of the set of N qubits\n",
    "    Apply CZ(qubit 1, qubit 2) # This means the couplings are long range, all-to-all\n",
    "```\n",
    "\n",
    "Using the strategy above, one can quickly generate random circuits with all-to-all, long-range couplings.  These circuits generate unitaries that rapidly converge to Haar random unitaries, and they are difficult to simulate.  \n",
    "\n",
    "A much simpler class of random circuits, which we call **local Hayden-Preskill circuits**, can be generated using the same strategy as above, but in which the two qubit CZ gates are applied to nearest neighbour qubits instead of random pairs:\n",
    "```\n",
    "Choose a random qubit j from [0, N-2]\n",
    "Apply CZ(qubit j, qubit j+1)\n",
    "```"
   ]
  },
  {
   "cell_type": "markdown",
   "metadata": {},
   "source": [
    "#### In this notebook, we will focus on both local and non-local Hayden-Preskill circuits, defined using the helper functions below."
   ]
  },
  {
   "cell_type": "code",
   "execution_count": 3,
   "metadata": {},
   "outputs": [],
   "source": [
    "def CZtuple_generator(qubits):\n",
    "    \"\"\"Yields a CZ between a random qubit and its next nearest neighbor.\n",
    "    For simplicity, we choose a random qubit from the first N-1 qubits for\n",
    "    the control and we set the target to be qubit i+1, where i is the control.\"\"\"\n",
    "    a = np.random.choice(range(len(qubits)-1), 1, replace=True)[0]\n",
    "    yield Circuit().cz(qubits[a],qubits[a+1])\n",
    "\n",
    "def local_Hayden_Preskill_generator(qubits,numgates):\n",
    "    \"\"\"Yields the circuit elements for a scrambling unitary.\n",
    "    Generates a circuit with numgates gates by laying down a\n",
    "    random gate at each time step.  Gates are chosen from single\n",
    "    qubit unitary rotations by a random angle, Hadamard, or a \n",
    "    controlled-Z between a qubit and its nearest neighbor (i.e.,\n",
    "    incremented by 1).\"\"\"\n",
    "    for i in range(numgates):\n",
    "        yield np.random.choice([\n",
    "            Circuit().rx(np.random.choice(qubits,1,replace=True),np.random.ranf()),\n",
    "            Circuit().ry(np.random.choice(qubits,1,replace=True),np.random.ranf()),\n",
    "            Circuit().rz(np.random.choice(qubits,1,replace=True),np.random.ranf()),\n",
    "            Circuit().h(np.random.choice(qubits,1,replace=True)),\n",
    "            CZtuple_generator(qubits), # For all-to-all: Circuit().cz(*np.random.choice(qubits,2,replace=False)),\n",
    "            ],1,replace=True,p=[1/8,1/8,1/8,1/8,1/2])\n",
    "        \n",
    "def non_local_Hayden_Preskill_generator(qubits,numgates):\n",
    "    \"\"\"Yields the circuit elements for a scrambling unitary.\n",
    "    Generates a circuit with numgates gates by laying down a\n",
    "    random gate at each time step.  Gates are chosen from single\n",
    "    qubit unitary rotations by a random angle, Hadamard, or a \n",
    "    controlled-Z between a qubit and its nearest neighbor (i.e.,\n",
    "    incremented by 1).\"\"\"\n",
    "    for i in range(numgates):\n",
    "        yield np.random.choice([\n",
    "            Circuit().rx(np.random.choice(qubits,1,replace=True),np.random.ranf()),\n",
    "            Circuit().ry(np.random.choice(qubits,1,replace=True),np.random.ranf()),\n",
    "            Circuit().rz(np.random.choice(qubits,1,replace=True),np.random.ranf()),\n",
    "            Circuit().h(np.random.choice(qubits,1,replace=True)),\n",
    "            Circuit().cz(*np.random.choice(qubits,2,replace=False)),\n",
    "            ],1,replace=True,p=[1/8,1/8,1/8,1/8,1/2])"
   ]
  },
  {
   "cell_type": "markdown",
   "metadata": {},
   "source": [
    "We use the helper functions above to generate local Hayden-Preskill (random) quantum circuits. For example:"
   ]
  },
  {
   "cell_type": "code",
   "execution_count": 4,
   "metadata": {},
   "outputs": [
    {
     "name": "stdout",
     "output_type": "stream",
     "text": [
      "T  : |   0    |    1    |    2    |3|    4     |5|6|7|8|9|\n",
      "                                                          \n",
      "q0 : -H------------------C---------C-Rx(0.389)--C-C-C-----\n",
      "                         |         |            | | |     \n",
      "q1 : -C--------Rx(0.37)--Z---------Z-Rx(0.464)--Z-Z-Z-----\n",
      "      |                                                   \n",
      "q2 : -Z--------Ry(0.508)-Rz(0.562)-C------------------C---\n",
      "                                   |                  |   \n",
      "q3 : -Rx(0.26)---------------------Z-Ry(0.0278)-C-C-C-Z-C-\n",
      "                                                | | |   | \n",
      "q4 : -------------------------------------------Z-Z-Z---Z-\n",
      "\n",
      "T  : |   0    |    1    |    2    |3|    4     |5|6|7|8|9|\n"
     ]
    }
   ],
   "source": [
    "# Generate an example of a local Hayden Preskill circuit\n",
    "test_circuit = Circuit()\n",
    "test_circuit.add(local_Hayden_Preskill_generator(range(5),20))\n",
    "print(test_circuit)"
   ]
  },
  {
   "cell_type": "code",
   "execution_count": 5,
   "metadata": {},
   "outputs": [
    {
     "name": "stdout",
     "output_type": "stream",
     "text": [
      "T  : | 0 |     1     |    2     |3|    4    |    5    |    6    |7|8|9|10 |   11    |\n",
      "                                                                                     \n",
      "q0 : -Z---C-----------Rz(0.0273)---C---------Ry(0.634)-------------------------------\n",
      "      |   |                        |                                                 \n",
      "q1 : -|---|-----------C----------C-Z-----------------------------Z-------C-----------\n",
      "      |   |           |          |                               |       |           \n",
      "q2 : -|---|-----------|----------Z-Ry(0.435)-Rx(0.527)-Rz(0.172)-C-C---Z-|-Ry(0.643)-\n",
      "      |   |           |                                            |   | |           \n",
      "q3 : -|-H-|-Rz(0.375)-|--------------------------------------------Z-Z-|-Z-----------\n",
      "      |   |           |                                              | |             \n",
      "q4 : -C---Z-----------Z----------H-Ry(0.921)-------------------------C-C-------------\n",
      "\n",
      "T  : | 0 |     1     |    2     |3|    4    |    5    |    6    |7|8|9|10 |   11    |\n"
     ]
    }
   ],
   "source": [
    "# Generate an example of a non-local Hayden Preskill circuit\n",
    "test_circuit = Circuit()\n",
    "test_circuit.add(non_local_Hayden_Preskill_generator(range(5),20))\n",
    "print(test_circuit)"
   ]
  },
  {
   "cell_type": "markdown",
   "metadata": {},
   "source": [
    "## Simulating _local_ random circuits using the TN1 tensor network simulator"
   ]
  },
  {
   "cell_type": "markdown",
   "metadata": {},
   "source": [
    "### Testing and timing"
   ]
  },
  {
   "cell_type": "markdown",
   "metadata": {},
   "source": [
    "Let's start with a reasonably sized circuit"
   ]
  },
  {
   "cell_type": "code",
   "execution_count": 6,
   "metadata": {},
   "outputs": [
    {
     "name": "stdout",
     "output_type": "stream",
     "text": [
      "20 qubits, 10 layers = 200 total gates\n"
     ]
    }
   ],
   "source": [
    "num_qubits = 20                     # Number of qubits\n",
    "num_layers = 10                     # Number of layers.  A layer consists of num_qubits gates.\n",
    "numgates = num_qubits * num_layers  # Total number of gates.\n",
    "print(f\"{num_qubits} qubits, {num_layers} layers = {numgates} total gates\")\n",
    "circ = Circuit()\n",
    "circ.add(local_Hayden_Preskill_generator(range(num_qubits), numgates));  # Create the circuit with numgates gates."
   ]
  },
  {
   "cell_type": "markdown",
   "metadata": {},
   "source": [
    "Time this circuit using TN1.  It should take about a minute or so."
   ]
  },
  {
   "cell_type": "code",
   "execution_count": 7,
   "metadata": {},
   "outputs": [
    {
     "name": "stdout",
     "output_type": "stream",
     "text": [
      "Running: 20 qubits, 10 layers = 200 total gates\n",
      "ID of task: arn:aws:braket:us-west-2:586882978732:quantum-task/4e870cf6-c25b-4457-b03d-b40e6438e96f\n",
      "Status of task: CREATED\n",
      "Status: RUNNING\n",
      "Status: RUNNING\n",
      "Status: COMPLETED\n",
      "CPU times: user 895 ms, sys: 7.99 ms, total: 903 ms\n",
      "Wall time: 1min 1s\n"
     ]
    },
    {
     "data": {
      "text/plain": [
       "<BarContainer object of 921 artists>"
      ]
     },
     "execution_count": 7,
     "metadata": {},
     "output_type": "execute_result"
    },
    {
     "data": {
      "image/png": "[encoded data removed]",
      "text/plain": [
       "<Figure size 432x288 with 1 Axes>"
      ]
     },
     "metadata": {
      "needs_background": "light"
     },
     "output_type": "display_data"
    }
   ],
   "source": [
    "%%time\n",
    "# define task\n",
    "print(f\"Running: {num_qubits} qubits, {num_layers} layers = {numgates} total gates\")\n",
    "task = device.run(circ, s3_folder, shots=1000, poll_timeout_seconds = 1000)\n",
    "\n",
    "# get id and status of submitted task\n",
    "task_id = task.id\n",
    "status = task.state()\n",
    "print('ID of task:', task_id)\n",
    "print('Status of task:', status)\n",
    "\n",
    "# wait for job to complete\n",
    "terminal_states = ['COMPLETED', 'FAILED', 'CANCELLED']\n",
    "while status not in terminal_states:\n",
    "    time.sleep(20) # Update this for shorter circuits.\n",
    "    status = task.state()\n",
    "    print('Status:', status)\n",
    "\n",
    "# get results of task\n",
    "result = task.result()\n",
    "\n",
    "# get measurement shots\n",
    "counts = result.measurement_counts\n",
    "plt.bar(counts.keys(), counts.values());"
   ]
  },
  {
   "cell_type": "markdown",
   "metadata": {},
   "source": [
    "### The importance of locality in circuits"
   ]
  },
  {
   "cell_type": "markdown",
   "metadata": {},
   "source": [
    "The goal of this section is to understand the importance of a local structure in quantum circuits being simulated in the tensor network simulator.  We will first generate and benchmark a local Hayden-Preskill circuit, and then we will re-run the exact same circuit with the qubits randomly permuted. By permuting the qubits, we produce a circuit that appears to be have non-local, long-range coupling, but for which we know that there exists an underlying local structure.\n",
    "\n",
    "An example of a circuit and its permuted version is shown below.  A local Hayden-Preskill circuit is generated, and then a version of the same circuit is created in which the qubits are randomly permuted, according to the permutation [0,1,2,3,4,5]$\\mapsto$[5,2,4,1,0,3]."
   ]
  },
  {
   "cell_type": "code",
   "execution_count": 8,
   "metadata": {},
   "outputs": [
    {
     "data": {
      "image/png": "[encoded data removed]",
      "text/plain": [
       "<IPython.core.display.Image object>"
      ]
     },
     "execution_count": 8,
     "metadata": {
      "image/png": {
       "width": 400
      }
     },
     "output_type": "execute_result"
    }
   ],
   "source": [
    "from IPython.display import Image\n",
    "Image(filename='permuted_circuit.png', width=400)"
   ]
  },
  {
   "cell_type": "markdown",
   "metadata": {},
   "source": [
    "With these two circuits (that seem to have vastly different locality, but which are \"secretly\" the same), we can explore the tensor network simulator's ability to discern structure in a given circuit."
   ]
  },
  {
   "cell_type": "markdown",
   "metadata": {},
   "source": [
    "First generate a modest sized local Hayden-Preskill circuit.  Then make a copy of that circuit by permuting the qubit indices randomly.  We'll compare the runtime to sample from the outputs of these two circuits."
   ]
  },
  {
   "cell_type": "code",
   "execution_count": 9,
   "metadata": {
    "scrolled": false
   },
   "outputs": [
    {
     "name": "stdout",
     "output_type": "stream",
     "text": [
      "50 qubits, 10 layers = 500 total gates\n"
     ]
    }
   ],
   "source": [
    "num_qubits = 50                     # Number of qubits\n",
    "num_layers = 10                     # Number of layers.  A layer consists of num_qubits gates.\n",
    "numgates = num_qubits * num_layers  # Total number of gates.\n",
    "qubits=range(num_qubits)            # Generate the (1D) qubits\n",
    "print(f\"{num_qubits} qubits, {num_layers} layers = {numgates} total gates\")\n",
    "\n",
    "# Generate the circuit with numgates gates acting on qubits.\n",
    "circ = Circuit()\n",
    "circ.add(local_Hayden_Preskill_generator(qubits,numgates));\n",
    "\n",
    "# Choose a random permutation of the qubits\n",
    "permuted_qubits=np.random.permutation(qubits)\n",
    "\n",
    "# Copy the circuit circ acting on the permuted qubits\n",
    "perm = Circuit().add_circuit(circ, target_mapping=dict(zip(qubits, permuted_qubits)))\n",
    "\n",
    "##Uncomment for testing:\n",
    "# print(permuted_qubits)\n",
    "# print(circ)\n",
    "# print(perm)"
   ]
  },
  {
   "cell_type": "markdown",
   "metadata": {},
   "source": [
    "Time both circuits using the tensor network simulator for a **single shot**."
   ]
  },
  {
   "cell_type": "code",
   "execution_count": 10,
   "metadata": {
    "scrolled": false
   },
   "outputs": [
    {
     "name": "stdout",
     "output_type": "stream",
     "text": [
      "Running the local circuit with 50 qubits, 10 layers = 500 total gates\n",
      "The sample was: 01011001101000001000011100110000001011010001100100.\n",
      "CPU times: user 100 ms, sys: 2.76 ms, total: 103 ms\n",
      "Wall time: 10.6 s\n"
     ]
    }
   ],
   "source": [
    "%%time\n",
    "# define task\n",
    "task = device.run(circ, s3_folder, shots=1, poll_timeout_seconds = 1000)\n",
    "\n",
    "# get results of task\n",
    "result = task.result()\n",
    "\n",
    "# get measurement shots\n",
    "print(f\"Running the local circuit with {num_qubits} qubits, {num_layers} layers = {numgates} total gates\")\n",
    "counts = result.measurement_counts\n",
    "print(f\"The sample was: {next(iter(counts))}.\")"
   ]
  },
  {
   "cell_type": "code",
   "execution_count": 11,
   "metadata": {},
   "outputs": [
    {
     "name": "stdout",
     "output_type": "stream",
     "text": [
      "Running the non-local circuit with 50 qubits, 10 layers = 500 total gates\n",
      "The sample was: 11000010100100011011001010000100000110001000100001.\n",
      "CPU times: user 161 ms, sys: 3.42 ms, total: 164 ms\n",
      "Wall time: 28.2 s\n"
     ]
    }
   ],
   "source": [
    "%%time\n",
    "# define task\n",
    "task = device.run(perm, s3_folder, shots=1, poll_timeout_seconds = 1000)\n",
    "\n",
    "# get results of task\n",
    "result = task.result()\n",
    "\n",
    "# get measurement shots\n",
    "print(f\"Running the non-local circuit with {num_qubits} qubits, {num_layers} layers = {numgates} total gates\")\n",
    "counts = result.measurement_counts\n",
    "print(f\"The sample was: {next(iter(counts))}.\")"
   ]
  },
  {
   "cell_type": "markdown",
   "metadata": {},
   "source": [
    "If you repeat these experiments, you'll find that the two runtimes are (typically) very similar! Even though the permuted circuit seems to be highly non-local at first glance, the simulator discovers the underlying local structure, and the total runtime is comparable to the manifestly local circuit. This similarity is due to the rehearsal phase of the tensor network simulation [[1]](#References). A sophisticated algorithm works behind the scenes to find an efficient path for contracting the tensor network. Thus, when the tensor network has an underlying structure, the tensor network simulator can often tease it out."
   ]
  },
  {
   "cell_type": "markdown",
   "metadata": {},
   "source": [
    "## Simulating _non-local_ random circuits using the TN1 tensor network simulator"
   ]
  },
  {
   "cell_type": "markdown",
   "metadata": {},
   "source": [
    "Let us now compare the efficiency of simulating local and genuinely non-local random quantum circuits. When using the non-local Hayden Preskill circuits above, the circuits we generate have no underlying structure, making them especially difficult for the tensor network simulator."
   ]
  },
  {
   "cell_type": "markdown",
   "metadata": {},
   "source": [
    "We will generate one local random circuit and one non-local quantum circuit of the same size, and we will compare their runtimes. In this section, the we will not be comparing identical quantum circuits as we were above, so our results can be understood by repeating these experiments several times and noting that our claims are true on average."
   ]
  },
  {
   "cell_type": "code",
   "execution_count": 12,
   "metadata": {},
   "outputs": [
    {
     "name": "stdout",
     "output_type": "stream",
     "text": [
      "50 qubits, 8 layers = 400 total gates\n"
     ]
    }
   ],
   "source": [
    "num_qubits = 50                     # Number of qubits\n",
    "num_layers = 8                      # Number of layers.  A layer consists of num_qubits gates.\n",
    "numgates = num_qubits * num_layers  # Total number of gates.\n",
    "qubits=range(num_qubits)            # Generate the (1D) qubits\n",
    "print(f\"{num_qubits} qubits, {num_layers} layers = {numgates} total gates\")\n",
    "\n",
    "# Generate the local circuit with numgates gates acting on qubits.\n",
    "localcirc = Circuit()\n",
    "localcirc.add(local_Hayden_Preskill_generator(qubits,numgates));\n",
    "\n",
    "# Generate the non-local circuit with numgates gates acting on qubits.\n",
    "nonlocalcirc = Circuit()\n",
    "nonlocalcirc.add(non_local_Hayden_Preskill_generator(qubits,numgates));\n",
    "\n",
    "##Uncomment for testing:\n",
    "# print(permuted_qubits)\n",
    "# print(circ)\n",
    "# print(perm)"
   ]
  },
  {
   "cell_type": "markdown",
   "metadata": {},
   "source": [
    "Run the local circuit:"
   ]
  },
  {
   "cell_type": "code",
   "execution_count": 13,
   "metadata": {},
   "outputs": [
    {
     "name": "stdout",
     "output_type": "stream",
     "text": [
      "Running the local circuit with 50 qubits, 8 layers = 400 total gates\n",
      "The sample was: 01000011010100011111010010101101000000000000111010.\n",
      "CPU times: user 99.7 ms, sys: 436 µs, total: 100 ms\n",
      "Wall time: 10.5 s\n"
     ]
    }
   ],
   "source": [
    "%%time\n",
    "# define task\n",
    "task = device.run(localcirc, s3_folder, shots=1, poll_timeout_seconds = 1000)\n",
    "\n",
    "# get results of task\n",
    "result = task.result()\n",
    "\n",
    "# get measurement shots\n",
    "print(f\"Running the local circuit with {num_qubits} qubits, {num_layers} layers = {numgates} total gates\")\n",
    "counts = result.measurement_counts\n",
    "print(f\"The sample was: {next(iter(counts))}.\")"
   ]
  },
  {
   "cell_type": "markdown",
   "metadata": {},
   "source": [
    "Run the non-local circuit:"
   ]
  },
  {
   "cell_type": "code",
   "execution_count": 14,
   "metadata": {},
   "outputs": [
    {
     "name": "stdout",
     "output_type": "stream",
     "text": [
      "Running the non-local circuit with 50 qubits, 8 layers = 400 total gates\n",
      "The sample was: 01000110001010011000000001001010001000001000111100.\n",
      "CPU times: user 118 ms, sys: 13 ms, total: 131 ms\n",
      "Wall time: 20.3 s\n"
     ]
    }
   ],
   "source": [
    "%%time\n",
    "# define task\n",
    "task = device.run(nonlocalcirc, s3_folder, shots=1, poll_timeout_seconds = 1000)\n",
    "\n",
    "# get results of task\n",
    "result = task.result()\n",
    "\n",
    "# get measurement shots\n",
    "print(f\"Running the non-local circuit with {num_qubits} qubits, {num_layers} layers = {numgates} total gates\")\n",
    "counts = result.measurement_counts\n",
    "print(f\"The sample was: {next(iter(counts))}.\")"
   ]
  },
  {
   "cell_type": "markdown",
   "metadata": {},
   "source": [
    "When running this notebook several times, we find that the non-local circuit generally takes 2-3 times longer to run than the local circuit. However, on occasion the non-local circuit fails to run, for a reason we will explore below."
   ]
  },
  {
   "cell_type": "markdown",
   "metadata": {},
   "source": [
    "## Non-local circuits quickly become too difficult for tensor network methods"
   ]
  },
  {
   "cell_type": "markdown",
   "metadata": {},
   "source": [
    "In this section, we will compare larger circuits with and without locality. We will see that the local circuits execute very efficiently on the tensor network simulator, whereas the non-local circuits actually fail in the rehearsal phase.\n",
    "\n",
    "We start by generating these larger circuits:"
   ]
  },
  {
   "cell_type": "code",
   "execution_count": 15,
   "metadata": {},
   "outputs": [
    {
     "name": "stdout",
     "output_type": "stream",
     "text": [
      "50 qubits, 20 layers = 1000 total gates\n"
     ]
    }
   ],
   "source": [
    "num_qubits = 50                     # Number of qubits\n",
    "num_layers = 20                     # Number of layers.  A layer consists of num_qubits gates.\n",
    "numgates = num_qubits * num_layers  # Total number of gates.\n",
    "qubits=range(num_qubits)            # Generate the (1D) qubits\n",
    "print(f\"{num_qubits} qubits, {num_layers} layers = {numgates} total gates\")\n",
    "\n",
    "# Generate the circuit with numgates gates acting on qubits.\n",
    "localcirc = Circuit()\n",
    "localcirc.add(local_Hayden_Preskill_generator(qubits,numgates));\n",
    "\n",
    "# Generate the circuit with numgates gates acting on qubits.\n",
    "nonlocalcirc = Circuit()\n",
    "nonlocalcirc.add(non_local_Hayden_Preskill_generator(qubits,numgates));\n",
    "\n",
    "##Uncomment for testing:\n",
    "# print(permuted_qubits)\n",
    "# print(circ)\n",
    "# print(perm)"
   ]
  },
  {
   "cell_type": "markdown",
   "metadata": {},
   "source": [
    "The local Hayden Preskill circuit executes in a reasonable amount of time, generally about a minute or so:"
   ]
  },
  {
   "cell_type": "code",
   "execution_count": 16,
   "metadata": {},
   "outputs": [
    {
     "name": "stdout",
     "output_type": "stream",
     "text": [
      "Running the local circuit with 50 qubits, 20 layers = 1000 total gates\n",
      "The sample was: 01010111001000001010000000100011110000110001110101.\n",
      "CPU times: user 201 ms, sys: 7.95 ms, total: 209 ms\n",
      "Wall time: 32.7 s\n"
     ]
    }
   ],
   "source": [
    "%%time\n",
    "# define task\n",
    "task = device.run(localcirc, s3_folder, shots=1, poll_timeout_seconds = 1000)\n",
    "\n",
    "# get results of task\n",
    "result = task.result()\n",
    "\n",
    "# get measurement shots\n",
    "print(f\"Running the local circuit with {num_qubits} qubits, {num_layers} layers = {numgates} total gates\")\n",
    "counts = result.measurement_counts\n",
    "print(f\"The sample was: {next(iter(counts))}.\")"
   ]
  },
  {
   "cell_type": "markdown",
   "metadata": {},
   "source": [
    "Conversely, the non-local Hayden Preskill circuit actually fails to execute:\n",
    "\n",
    "<div class=\"alert alert-block alert-info\">\n",
    "<b>Note:</b> The following cell can take several minutes to run on TN1. It is only present to illustrate a task that will result in a FAILED state.\n",
    "</div>"
   ]
  },
  {
   "cell_type": "code",
   "execution_count": 17,
   "metadata": {},
   "outputs": [
    {
     "name": "stderr",
     "output_type": "stream",
     "text": [
      "Task is in terminal state FAILED and no result is available\n"
     ]
    },
    {
     "name": "stdout",
     "output_type": "stream",
     "text": [
      "Running the non-local circuit with 50 qubits, 20 layers = 1000 total gates\n",
      "CPU times: user 411 ms, sys: 19.4 ms, total: 431 ms\n",
      "Wall time: 1min 56s\n"
     ]
    }
   ],
   "source": [
    "%%time\n",
    "# define task\n",
    "task = device.run(nonlocalcirc, s3_folder, shots=1, poll_timeout_seconds = 1000)\n",
    "\n",
    "# get results of task\n",
    "result = task.result()\n",
    "\n",
    "# get measurement shots\n",
    "print(f\"Running the non-local circuit with {num_qubits} qubits, {num_layers} layers = {numgates} total gates\")\n",
    "# counts = result.measurement_counts\n",
    "# print(f\"The sample was: {next(iter(counts))}.\")"
   ]
  },
  {
   "cell_type": "markdown",
   "metadata": {},
   "source": [
    "To see why this circuit `FAILED` to run, we can check the `failureReason` in the task's `_metadata`:"
   ]
  },
  {
   "cell_type": "code",
   "execution_count": 18,
   "metadata": {
    "scrolled": true
   },
   "outputs": [
    {
     "name": "stdout",
     "output_type": "stream",
     "text": [
      "Predicted runtime based on best contraction path found exceeds TN1 limit. Single-shot FLOPS estimate = 2^105\n"
     ]
    }
   ],
   "source": [
    "print(task._metadata['failureReason'])"
   ]
  },
  {
   "cell_type": "markdown",
   "metadata": {},
   "source": [
    "Evidently, without any structure to exploit, this tensor network would take too long to simulate, and the simulator returns with a `FAILED` state."
   ]
  },
  {
   "cell_type": "markdown",
   "metadata": {},
   "source": [
    "## Conclusions"
   ]
  },
  {
   "cell_type": "markdown",
   "metadata": {},
   "source": [
    "We saw that structured quantum circuits can be simulated much more efficiently than unstructured random quantum circuits. That said, structure in a quantum circuit may not be immediately evident, as the tensor network simulator was able to discover the hidden structure in our permuted quantum circuits, leading to efficiency on-par with their unpermuted, local counterparts. Note, however, that discovering this underlying structure is analogous to the graph isomorphism problem, and finding an efficient contraction path for a tensor network is a hard problem."
   ]
  },
  {
   "cell_type": "markdown",
   "metadata": {},
   "source": [
    "## Appendix"
   ]
  },
  {
   "cell_type": "code",
   "execution_count": 19,
   "metadata": {},
   "outputs": [
    {
     "name": "stdout",
     "output_type": "stream",
     "text": [
      "Version: 1.5.0\r\n"
     ]
    }
   ],
   "source": [
    "# Check SDK version\n",
    "# alternative: braket.__version__\n",
    "!pip show amazon-braket-sdk | grep Version"
   ]
  },
  {
   "cell_type": "markdown",
   "metadata": {},
   "source": [
    "## References\n",
    "[1] [Amazon Braket Documentation: Tensor Network Simulator](https://docs.aws.amazon.com/braket/latest/developerguide/braket-devices.html#braket-simulator-tn1)"
   ]
  }
 ],
 "metadata": {
  "kernelspec": {
   "display_name": "conda_braket",
   "language": "python",
   "name": "conda_braket"
  },
  "language_info": {
   "codemirror_mode": {
    "name": "ipython",
    "version": 3
   },
   "file_extension": ".py",
   "mimetype": "text/x-python",
   "name": "python",
   "nbconvert_exporter": "python",
   "pygments_lexer": "ipython3",
   "version": "3.7.9"
  }
 },
 "nbformat": 4,
 "nbformat_minor": 4
}
