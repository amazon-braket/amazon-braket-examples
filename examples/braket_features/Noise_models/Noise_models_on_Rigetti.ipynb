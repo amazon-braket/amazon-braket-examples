{
 "cells": [
  {
   "cell_type": "markdown",
   "id": "74154c03-d48f-4f41-867b-5e30254ce31a",
   "metadata": {},
   "source": [
    "# Noise models on Rigetti\n",
    "\n",
    "This notebook shows how to construct a noise model from device calibration data for Rigetti Ankaa-3. We compare the measurement outcomes of circuits run on a noisy simulator with the same circuits run on quantum processing units (QPUs), to show that simulating circuits with noise models more closely mimics QPUs.\n",
    "\n",
    "**Before you begin**: We recommend being familiar with [Noise models on Amazon Braket.](https://github.com/amazon-braket/amazon-braket-examples/blob/main/examples/braket_features/Noise_models/Noise_models_on_Amazon_Braket.ipynb)\n",
    "Additionally, users should be familiar with [Running quantum circuits on QPU devices](https://github.com/amazon-braket/amazon-braket-examples/blob/main/examples/getting_started/2_Running_quantum_circuits_on_QPU_devices/2_Running_quantum_circuits_on_QPU_devices.ipynb). \n",
    "\n",
    "### Table of Contents\n",
    "\n",
    "- Noise model for Rigetti\n",
    "  - Loading device calibration data\n",
    "  - Comparing noisy simulator results to QPU results\n",
    "  - Smaller noise models compared to QPU results"
   ]
  },
  {
   "cell_type": "code",
   "execution_count": 1,
   "id": "e75bd074",
   "metadata": {},
   "outputs": [],
   "source": [
    "# Use Braket SDK Cost Tracking to estimate the cost to run this example\n",
    "from braket.tracking import Tracker\n",
    "\n",
    "t = Tracker().start()"
   ]
  },
  {
   "cell_type": "code",
   "execution_count": 2,
   "id": "e5e15fcd-55a2-4168-acc6-a38100f94511",
   "metadata": {},
   "outputs": [],
   "source": [
    "import numpy as np\n",
    "import pandas as pd\n",
    "\n",
    "from braket.aws import AwsDevice\n",
    "from braket.circuits import Circuit, Gate\n",
    "from braket.circuits.noise_model import GateCriteria, NoiseModel, ObservableCriteria\n",
    "from braket.circuits.noises import (\n",
    "    BitFlip,\n",
    "    Depolarizing,\n",
    "    TwoQubitDepolarizing,\n",
    ")\n",
    "from braket.devices import Devices, LocalSimulator"
   ]
  },
  {
   "cell_type": "markdown",
   "id": "d4da3e37-e93c-4273-98bc-d67b26b8c822",
   "metadata": {},
   "source": [
    "Braket provides access to hardware providers' reported calibration data. \n",
    "This can be used to construct noise models to approximate the behavior of the QPU when running circuits on a noisy simulator.\n",
    "In this tutorial, we focus on local noise models with no crosstalk interactions. Real devices can have crosstalk and unexpected effects that can further degrade the results.\n",
    "\n",
    "The Ankaa-3 calibration data is available on the Braket devices page. Under qubit specs, the calibration data include the qubit index, with corresponding values for the $T_1$, $T_2$, fidelity from randomized benchmarking (fRB),  fidelity from simultaneous randomized benchmarking (fsRB), and readout fidelity (fRO).\n",
    "Under \"edge specs\", the data includes the RB fidelity for two qubit gates for each connected edge in the device topology."
   ]
  },
  {
   "cell_type": "markdown",
   "id": "38001b96-faf7-49f0-b5a5-2d52820fcfc9",
   "metadata": {},
   "source": [
    "**One-qubit calibration data (Qubit specs)**\n",
    "<div align=center><img src=\"ankaa3_qubit_specs.png\"/></div>\n",
    "\n",
    "\n",
    "**Two-qubit calibration data (Edge specs)**\n",
    "<div align=center><img src=\"ankaa3_edge_specs.png\"/></div>"
   ]
  },
  {
   "cell_type": "markdown",
   "id": "276d680f-887d-4929-bcaa-e276a6303496",
   "metadata": {},
   "source": [
    "We can programmatically access all the calibration data with the Braket SDK. First we load the AwsDevice using the ARN for Rigetti Ankaa-3."
   ]
  },
  {
   "cell_type": "code",
   "execution_count": 3,
   "id": "a55ea9d5-05f3-4da5-a305-a391e914d012",
   "metadata": {},
   "outputs": [],
   "source": [
    "rigetti = AwsDevice(Devices.Rigetti.Ankaa3)"
   ]
  },
  {
   "cell_type": "markdown",
   "id": "a8a42ae1-51ac-4bf1-bd6a-81ffd982b5f8",
   "metadata": {},
   "source": [
    "The properties dictionary contains one- and two-qubit calibration data. "
   ]
  },
  {
   "cell_type": "code",
   "execution_count": 4,
   "id": "153b5b63-8205-4a7e-bb18-0305ef428f36",
   "metadata": {},
   "outputs": [],
   "source": [
    "one_qubit_data = rigetti.properties.standardized.oneQubitProperties\n",
    "two_qubit_data = rigetti.properties.standardized.twoQubitProperties"
   ]
  },
  {
   "cell_type": "markdown",
   "id": "661cca17-01fa-40be-bd3e-741bacc74ce4",
   "metadata": {},
   "source": [
    "For Ankaa-3, we can get all qubit indices with `one_qubit_data.keys()` or with `rigetti.topology_graph.nodes`.\n",
    "\n",
    "The keys of the two qubit dictionary are the connected qubit pairs separated by a hyphen. \n",
    "For example, if qubit 0 and 1 are connected the key is \"0-1\".\n",
    "\n",
    "\n",
    "#### One-qubit noise \n",
    "\n",
    "Let's look at the one qubit calibration data for qubit 0."
   ]
  },
  {
   "cell_type": "code",
   "execution_count": 5,
   "id": "8d4ecc35-f4dc-49d8-b6ff-adaee560ac4b",
   "metadata": {},
   "outputs": [
    {
     "data": {
      "text/plain": [
       "OneQubitProperties(T1=CoherenceTime(value=2.4725305488621275e-05, standardError=None, unit='S'), T2=CoherenceTime(value=4.171429853257298e-05, standardError=None, unit='S'), oneQubitFidelity=[Fidelity1Q(fidelityType=FidelityType(name='RANDOMIZED_BENCHMARKING', description=None), fidelity=0.999653394406776, standardError=2.2840551004503385e-05), Fidelity1Q(fidelityType=FidelityType(name='SIMULTANEOUS_RANDOMIZED_BENCHMARKING', description=None), fidelity=0.999503753863059, standardError=2.2883499186569214e-05), Fidelity1Q(fidelityType=FidelityType(name='READOUT', description=None), fidelity=0.966, standardError=None)])"
      ]
     },
     "execution_count": 5,
     "metadata": {},
     "output_type": "execute_result"
    }
   ],
   "source": [
    "one_qubit_data[\"0\"]"
   ]
  },
  {
   "cell_type": "markdown",
   "id": "4b676762-e642-4a98-89e3-86d79367071a",
   "metadata": {},
   "source": [
    "For each qubit, there are various metrics of the quality:\n",
    "\n",
    "- **T1**: Thermal relaxation time is related to the time it takes for the excited state, |1⟩, to decay into the ground state, |0⟩. The probability of remaining in the excited state is $p(|1⟩)\\sim e^{-t/T_1}$\n",
    "\n",
    "- **T2**: The dephasing time, is the decay constant for the scale for a |+⟩ state to decohere into the completely mixed state. $p(|+⟩)\\sim e^{-t/T_2}$ \n",
    "\n",
    "- **Fidelity (RB)**: Single-qubit randomized benchmarking fidelities. RB fidelity quantifies the average gate fidelity where the average is over all Clifford gates. RB describes an *effective* noise model with gate-independent depolarizing noise on each Clifford gate.\n",
    "\n",
    "- **Fidelity (sRB)**: Single-qubit simultaneous randomized benchmarking fidelities. These are extracted by running single-qubit RB on all qubits simultaneously. Note that we expect the sRB fidelity to be lower than standard RB fidelity due to non-local crosstalk type noise on the device. \n",
    "\n",
    "- **Readout fidelity**: Single-qubit readout fidelities describes the probability of a bit flip error before readout in the computational basis. The readout fidelity is related to the probability of correctly measuring the ground state and excited states respectively, e.g. $f_{RO} =\\frac{p(0|0)+p(1|1)}{2}$"
   ]
  },
  {
   "cell_type": "markdown",
   "id": "296708a3-771e-42b4-9ba8-f3db1a02970b",
   "metadata": {},
   "source": [
    "Now that we know how to extract and use the calibration data, we can build a simple noise model. For every qubit we will add:\n",
    "- amplitude dampening noise with probability $p= 1-e^{-t/T_1}$ for every gate\n",
    "- phase dampening noise with probability $p= 0.5(1-e^{-t/T_2})$ for every gate\n",
    "- depolarizing noise with probability $p=1-f_{sRB}$ (from simultaneous RB fidelity) for  every gate\n",
    "- readout bit flip noise with probability $p=1-f_{RO}$ to measurements \n",
    "\n",
    "Technically, the sRB fidelity already includes effects from $T_1$/$T_2$, however to be explicit we add these as separate terms. In a sense, this model might overestimate the noise on the QPU.  "
   ]
  },
  {
   "cell_type": "markdown",
   "id": "5769f2f4-de1c-4b47-9e4e-fd8d39b9e975",
   "metadata": {},
   "source": [
    "To create the noise model, we iterate over all qubits keys in `one_qubit_data`"
   ]
  },
  {
   "cell_type": "code",
   "execution_count": 6,
   "id": "7442cd27",
   "metadata": {},
   "outputs": [],
   "source": [
    "noise_model = NoiseModel()\n",
    "\n",
    "# Readout Noise Model\n",
    "for q, data in rigetti.properties.standardized.oneQubitProperties.items():\n",
    "    try:\n",
    "        readout_error = 1 - data.oneQubitFidelity[2].fidelity  # readout\n",
    "        noise_model.add_noise(BitFlip(readout_error), ObservableCriteria(qubits=int(q)))\n",
    "\n",
    "        depolarizing_rate = (\n",
    "            1 - data.oneQubitFidelity[1].fidelity\n",
    "        )  # SIMULTANEOUS_RANDOMIZED_BENCHMARKING\n",
    "        noise_model.add_noise(Depolarizing(probability=depolarizing_rate), GateCriteria(qubits=q))\n",
    "    except:  # noqa: PERF203\n",
    "        pass"
   ]
  },
  {
   "cell_type": "code",
   "execution_count": 7,
   "id": "9d20d24c-17e2-4bba-b317-fb2d156bedb0",
   "metadata": {},
   "outputs": [
    {
     "name": "stdout",
     "output_type": "stream",
     "text": [
      "Number of terms in noise model is: 164\n",
      "Number of parameters in noise model is: 164\n"
     ]
    }
   ],
   "source": [
    "num_params = sum(len(item.noise.parameters) for item in noise_model.instructions)\n",
    "print(f\"Number of terms in noise model is: {len(noise_model.instructions)}\")\n",
    "print(f\"Number of parameters in noise model is: {num_params}\")"
   ]
  },
  {
   "cell_type": "markdown",
   "id": "790c62f7-776a-4e4c-9405-7b7a14eee5b0",
   "metadata": {},
   "source": [
    "#### Two-qubit noise \n",
    "Next we consider adding two-qubit noise to the model. \n",
    "\n",
    "Let's first look at the data provided in the Ankaa-3 device calibration data. On the first connect, \"0-1\", the properties are:"
   ]
  },
  {
   "cell_type": "code",
   "execution_count": 8,
   "id": "626cbe56-3649-48eb-a2a1-f669eb790b47",
   "metadata": {},
   "outputs": [
    {
     "data": {
      "text/plain": [
       "TwoQubitProperties(twoQubitGateFidelity=[GateFidelity2Q(direction=None, gateName='ISWAP', fidelity=0.969786574501804, standardError=0.00289362740474668, fidelityType=FidelityType(name='INTERLEAVED_RANDOMIZED_BENCHMARKING', description=None))])"
      ]
     },
     "execution_count": 8,
     "metadata": {},
     "output_type": "execute_result"
    }
   ],
   "source": [
    "two_qubit_data[\"0-1\"]"
   ]
  },
  {
   "cell_type": "markdown",
   "id": "4bcd3be4-a6e4-4cf3-841e-1a451e01803a",
   "metadata": {},
   "source": [
    "Here, we see the fidelity per gate (ISWAP) and the associated standard error. \n",
    "\n",
    "Next we loop over the entries in the `two_qubit_data` dictionary and add two-qubit depolarizing noise to the model. Notice that Ankaa-3 has symmetric connections (\"0-1\" and \"1-0\") so we need to add noise in both directions."
   ]
  },
  {
   "cell_type": "code",
   "execution_count": 9,
   "id": "80f57550-6549-46b6-9a6d-ff7f0f03e90d",
   "metadata": {},
   "outputs": [],
   "source": [
    "# Two-qubit noise\n",
    "for pair, data in two_qubit_data.items():  # iterate over qubit connections\n",
    "    # parse strings \"0-1\" to integers [0, 1]\n",
    "    q0, q1 = (int(s) for s in pair.split(\"-\"))\n",
    "    try:\n",
    "        if data.twoQubitGateFidelity[0].gateName == \"ISWAP\":\n",
    "            phase_rate = 1 - data.twoQubitGateFidelity[0].fidelity\n",
    "            noise_model.add_noise(\n",
    "                TwoQubitDepolarizing(phase_rate),\n",
    "                GateCriteria(Gate.ISwap, [(q0, q1), (q1, q0)]),  # symmetric connections\n",
    "            )\n",
    "    except:\n",
    "        pass"
   ]
  },
  {
   "cell_type": "code",
   "execution_count": 10,
   "id": "82376d08-84bc-4249-9c8d-d7aacdb73113",
   "metadata": {},
   "outputs": [
    {
     "name": "stdout",
     "output_type": "stream",
     "text": [
      "Number of terms in noise model is: 302\n",
      "Number of parameters in noise model is: 302\n"
     ]
    }
   ],
   "source": [
    "num_params = sum(len(item.noise.parameters) for item in noise_model.instructions)\n",
    "print(f\"Number of terms in noise model is: {len(noise_model.instructions)}\")\n",
    "print(f\"Number of parameters in noise model is: {num_params}\")"
   ]
  },
  {
   "cell_type": "markdown",
   "id": "5913a8a2-a9de-4e32-a35d-c48191891b1f",
   "metadata": {},
   "source": [
    "### Compare circuits run on device vs simulator with a noise model\n",
    "\n",
    "Let's just look at the first 5 qubits. Note that to ensure the noise model applied T1 and T2 noise during the time between gate, we manually add identity gates to each moment."
   ]
  },
  {
   "cell_type": "code",
   "execution_count": 11,
   "id": "6fabbd05-b480-43c6-b43a-d396d81bd687",
   "metadata": {},
   "outputs": [
    {
     "name": "stdout",
     "output_type": "stream",
     "text": [
      "T  : │     0      │     1      │    2    │\n",
      "      ┌──────────┐ ┌──────────┐ ┌───────┐ \n",
      "q0 : ─┤ Rx(0.50) ├─┤ Rx(3.14) ├─┤ ISWAP ├─\n",
      "      └──────────┘ └──────────┘ └───┬───┘ \n",
      "      ┌──────────┐ ┌──────────┐ ┌───┴───┐ \n",
      "q1 : ─┤ Rz(0.50) ├─┤ Rx(3.14) ├─┤ ISWAP ├─\n",
      "      └──────────┘ └──────────┘ └───────┘ \n",
      "      ┌──────────┐ ┌──────────┐           \n",
      "q2 : ─┤ Rz(0.50) ├─┤ Rx(3.14) ├───────────\n",
      "      └──────────┘ └──────────┘           \n",
      "T  : │     0      │     1      │    2    │\n"
     ]
    }
   ],
   "source": [
    "np.random.seed(42)\n",
    "\n",
    "circ = Circuit().rx(0, 0.5).rz(1, 0.5).rz(2, 0.5).rx(0, np.pi).rx(1, np.pi).rx(2, np.pi).iswap(0, 1)\n",
    "print(circ)"
   ]
  },
  {
   "cell_type": "code",
   "execution_count": 12,
   "id": "e2af07ed-33de-4709-9e7c-5e3c3caaa751",
   "metadata": {},
   "outputs": [
    {
     "name": "stdout",
     "output_type": "stream",
     "text": [
      "T  : │     0      │     1      │           2            │\n",
      "      ┌──────────┐ ┌──────────┐ ┌───────┐ ┌────────────┐ \n",
      "q0 : ─┤ Rx(0.50) ├─┤ Rx(3.14) ├─┤ ISWAP ├─┤ DEPO(0.03) ├─\n",
      "      └──────────┘ └──────────┘ └───┬───┘ └─────┬──────┘ \n",
      "      ┌──────────┐ ┌──────────┐ ┌───┴───┐ ┌─────┴──────┐ \n",
      "q1 : ─┤ Rz(0.50) ├─┤ Rx(3.14) ├─┤ ISWAP ├─┤ DEPO(0.03) ├─\n",
      "      └──────────┘ └──────────┘ └───────┘ └────────────┘ \n",
      "      ┌──────────┐ ┌──────────┐                          \n",
      "q2 : ─┤ Rz(0.50) ├─┤ Rx(3.14) ├──────────────────────────\n",
      "      └──────────┘ └──────────┘                          \n",
      "T  : │     0      │     1      │           2            │\n"
     ]
    }
   ],
   "source": [
    "noisy_circ = noise_model.apply(circ)\n",
    "\n",
    "print(noisy_circ)"
   ]
  },
  {
   "cell_type": "code",
   "execution_count": 13,
   "id": "9304dcf1-a1e8-4e41-a6b5-769841f4eefe",
   "metadata": {},
   "outputs": [],
   "source": [
    "simulator = LocalSimulator()  # noise free simulator\n",
    "task = simulator.run(circ, shots=10_000)\n",
    "free_probs = task.result().measurement_probabilities"
   ]
  },
  {
   "cell_type": "code",
   "execution_count": 14,
   "id": "0e1d9cfe-03d6-406b-b4ab-89166a907681",
   "metadata": {},
   "outputs": [],
   "source": [
    "noisy_simulator = LocalSimulator(\"braket_dm\")\n",
    "noisy_task = noisy_simulator.run(noisy_circ, shots=10_000)\n",
    "noisy_probs = noisy_task.result().measurement_probabilities"
   ]
  },
  {
   "cell_type": "markdown",
   "id": "b3f370bd-a8b3-4d5b-a724-da549fc4c81f",
   "metadata": {},
   "source": [
    "<div class=\"alert alert-block alert-info\">\n",
    "<b>Note:</b> The below section runs tasks on the Rigetti Ankaa-3 device. When you run this notebook, make sure the device is currently available. You can find QPU availability windows on the <a href=\"https://us-west-1.console.aws.amazon.com/braket/home?region=us-west-1#/devices\">Devices page</a> in the Amazon Braket Console.\n",
    "</div>\n",
    "\n",
    "<div class=\"alert alert-block alert-info\">\n",
    "<b>Note:</b> Running the circuit below will result in charges on your AWS account.\n",
    "</div>"
   ]
  },
  {
   "cell_type": "code",
   "execution_count": 15,
   "id": "c8f4664a-0527-46fb-87f2-2a0c85f0bd79",
   "metadata": {},
   "outputs": [],
   "source": [
    "rigetti_task = rigetti.run(circ, shots=10_000, disable_qubit_rewiring=True)\n",
    "rigetti_result = rigetti_task.result()\n",
    "rigetti_probs = rigetti_result.measurement_probabilities"
   ]
  },
  {
   "cell_type": "code",
   "execution_count": 16,
   "id": "1676a45c-5ef8-49cc-b227-69f69fa2004a",
   "metadata": {},
   "outputs": [
    {
     "data": {
      "text/html": [
       "<div>\n",
       "<style scoped>\n",
       "    .dataframe tbody tr th:only-of-type {\n",
       "        vertical-align: middle;\n",
       "    }\n",
       "\n",
       "    .dataframe tbody tr th {\n",
       "        vertical-align: top;\n",
       "    }\n",
       "\n",
       "    .dataframe thead th {\n",
       "        text-align: right;\n",
       "    }\n",
       "</style>\n",
       "<table border=\"1\" class=\"dataframe\">\n",
       "  <thead>\n",
       "    <tr style=\"text-align: right;\">\n",
       "      <th></th>\n",
       "      <th>Ankaa-3</th>\n",
       "      <th>noisy_sim</th>\n",
       "      <th>free_sim</th>\n",
       "    </tr>\n",
       "  </thead>\n",
       "  <tbody>\n",
       "    <tr>\n",
       "      <th>111</th>\n",
       "      <td>0.6323</td>\n",
       "      <td>0.9165</td>\n",
       "      <td>0.9384</td>\n",
       "    </tr>\n",
       "    <tr>\n",
       "      <th>011</th>\n",
       "      <td>0.1023</td>\n",
       "      <td>0.0083</td>\n",
       "      <td>NaN</td>\n",
       "    </tr>\n",
       "    <tr>\n",
       "      <th>101</th>\n",
       "      <td>0.1512</td>\n",
       "      <td>0.0680</td>\n",
       "      <td>0.0616</td>\n",
       "    </tr>\n",
       "    <tr>\n",
       "      <th>100</th>\n",
       "      <td>0.0091</td>\n",
       "      <td>NaN</td>\n",
       "      <td>NaN</td>\n",
       "    </tr>\n",
       "    <tr>\n",
       "      <th>001</th>\n",
       "      <td>0.0617</td>\n",
       "      <td>0.0072</td>\n",
       "      <td>NaN</td>\n",
       "    </tr>\n",
       "    <tr>\n",
       "      <th>110</th>\n",
       "      <td>0.0368</td>\n",
       "      <td>NaN</td>\n",
       "      <td>NaN</td>\n",
       "    </tr>\n",
       "    <tr>\n",
       "      <th>010</th>\n",
       "      <td>0.0047</td>\n",
       "      <td>NaN</td>\n",
       "      <td>NaN</td>\n",
       "    </tr>\n",
       "    <tr>\n",
       "      <th>000</th>\n",
       "      <td>0.0019</td>\n",
       "      <td>NaN</td>\n",
       "      <td>NaN</td>\n",
       "    </tr>\n",
       "  </tbody>\n",
       "</table>\n",
       "</div>"
      ],
      "text/plain": [
       "     Ankaa-3  noisy_sim  free_sim\n",
       "111   0.6323     0.9165    0.9384\n",
       "011   0.1023     0.0083       NaN\n",
       "101   0.1512     0.0680    0.0616\n",
       "100   0.0091        NaN       NaN\n",
       "001   0.0617     0.0072       NaN\n",
       "110   0.0368        NaN       NaN\n",
       "010   0.0047        NaN       NaN\n",
       "000   0.0019        NaN       NaN"
      ]
     },
     "execution_count": 16,
     "metadata": {},
     "output_type": "execute_result"
    }
   ],
   "source": [
    "free_sim = pd.DataFrame.from_dict(free_probs, orient=\"index\").rename(columns={0: \"free_sim\"})\n",
    "noisy_sim = pd.DataFrame.from_dict(noisy_probs, orient=\"index\").rename(columns={0: \"noisy_sim\"})\n",
    "Ankaa = pd.DataFrame.from_dict(rigetti_probs, orient=\"index\").rename(columns={0: \"Ankaa-3\"})\n",
    "df = Ankaa.join(noisy_sim).join(free_sim)\n",
    "df"
   ]
  },
  {
   "cell_type": "markdown",
   "id": "472e6850-2603-4174-bf92-b04eb0c38c2f",
   "metadata": {},
   "source": [
    "We can compute the fidelity between the free simulation and Rigetti, as well as the noisy simulation and Rigetti. "
   ]
  },
  {
   "cell_type": "code",
   "execution_count": 17,
   "id": "5b7d1740-cb46-433e-8c2b-7e8b7c10fb4e",
   "metadata": {},
   "outputs": [
    {
     "name": "stdout",
     "output_type": "stream",
     "text": [
      "\n",
      "Total fidelity between Ankaa-3 and noise-free simulator is 0.8668010125433862\n",
      "\n",
      "Total fidelity between Ankaa-3 and noisy simulator is 0.9128652867740783\n"
     ]
    }
   ],
   "source": [
    "def fidelity(p, q):\n",
    "    return np.sum(np.sqrt(p * q))\n",
    "\n",
    "\n",
    "f_free_Ankaa = fidelity(df[\"free_sim\"], df[\"Ankaa-3\"])\n",
    "f_noisy_Ankaa = fidelity(df[\"noisy_sim\"], df[\"Ankaa-3\"])\n",
    "\n",
    "print(f\"\\nTotal fidelity between Ankaa-3 and noise-free simulator is {f_free_Ankaa}\")\n",
    "print(f\"\\nTotal fidelity between Ankaa-3 and noisy simulator is {f_noisy_Ankaa}\")"
   ]
  },
  {
   "cell_type": "markdown",
   "id": "fd4d88b7-015e-445b-ba26-1bdbc6a2bd16",
   "metadata": {},
   "source": [
    "To better visualize, we can also plot the output probability distributions from each circuit:"
   ]
  },
  {
   "cell_type": "code",
   "execution_count": 18,
   "id": "9329ed72-2f30-4383-b48f-0d50e1a5dd11",
   "metadata": {},
   "outputs": [
    {
     "data": {
      "image/png": "[encoded data removed]",
      "text/plain": [
       "<Figure size 1200x600 with 1 Axes>"
      ]
     },
     "metadata": {},
     "output_type": "display_data"
    }
   ],
   "source": [
    "import matplotlib.pyplot as plt\n",
    "\n",
    "%matplotlib inline\n",
    "\n",
    "df.plot.bar(\n",
    "    title=\"Comparing noise-free simulator, noisy simulator, and Ankaa-3\",\n",
    "    figsize=(12, 6),\n",
    ")\n",
    "\n",
    "text = f\"f_free_Ankaa = {f_free_Ankaa:.3f} \\nf_noise_model_Ankaa = {f_noisy_Ankaa:.3f}\"\n",
    "plt.text(1, 0.5, text, fontsize=14)\n",
    "plt.show()"
   ]
  },
  {
   "cell_type": "markdown",
   "id": "aa8ffab8-e062-4c33-9c9d-4a312cd76b63",
   "metadata": {},
   "source": [
    "We confirm that the simulator with a noise model is closer to the distribution produced by Ankaa-3."
   ]
  },
  {
   "cell_type": "markdown",
   "id": "c4571a5e-2f8d-4767-b28e-a527d2490830",
   "metadata": {},
   "source": [
    "### Smaller, reduced noise models\n",
    "\n",
    "The full Rigetti Ankaa-3 noise model contains due to non-uniform qubit noise. We can obtain simpler, smaller noise models by coarse graining the model above.\n",
    "\n",
    "Here, we consider taking the average over all qubits for the $T_1$, $T_2$, depolarizing, and readout depolarizing rates. This is a substantially smaller noise model, but may be less accurate. \n",
    "\n",
    "We use the `from_filter` function to extract all instructions with amplitude dampening noise in the model. We then compute the mean of the error probabilities. "
   ]
  },
  {
   "cell_type": "code",
   "execution_count": 19,
   "id": "eac8479f-4b29-42d8-a15a-ba10aae82d3f",
   "metadata": {},
   "outputs": [],
   "source": [
    "avg_depo = np.mean(\n",
    "    [n.noise.parameters for n in noise_model.from_filter(noise=Depolarizing).instructions]\n",
    ")\n",
    "avg_readout = np.mean(\n",
    "    [n.noise.parameters for n in noise_model.from_filter(noise=BitFlip).instructions]\n",
    ")"
   ]
  },
  {
   "cell_type": "markdown",
   "id": "d1a64cae-226c-45d2-9af3-4b5b7a36c7a4",
   "metadata": {},
   "source": [
    "Now we construct a new noise model with the mean values above:"
   ]
  },
  {
   "cell_type": "code",
   "execution_count": 20,
   "id": "e49eb24c-5f24-4084-9d4c-c2e7e82fc259",
   "metadata": {},
   "outputs": [
    {
     "name": "stdout",
     "output_type": "stream",
     "text": [
      "Gate Noise:\n",
      "  Depolarizing(0.0042202689661948005), GateCriteria(None, None)\n",
      "Readout Noise:\n",
      "  BitFlip(0.05952439024390244), ObservableCriteria(None, None)\n"
     ]
    }
   ],
   "source": [
    "simple_noise_model = NoiseModel()\n",
    "simple_noise_model.add_noise(Depolarizing(avg_depo), GateCriteria())\n",
    "simple_noise_model.add_noise(BitFlip(avg_readout), ObservableCriteria())\n",
    "\n",
    "print(simple_noise_model)"
   ]
  },
  {
   "cell_type": "markdown",
   "id": "b44bbbd1-fb65-4b8f-8dfa-0ea5aa7979b2",
   "metadata": {},
   "source": [
    "We can see the resultant circuits contain qubit-independent noise:"
   ]
  },
  {
   "cell_type": "code",
   "execution_count": 21,
   "id": "c83e96f6-54b0-445b-bcdd-8a7a16691b62",
   "metadata": {},
   "outputs": [
    {
     "name": "stdout",
     "output_type": "stream",
     "text": [
      "T  : │              0              │              1              │            2             │\n",
      "      ┌──────────┐ ┌──────────────┐ ┌──────────┐ ┌──────────────┐ ┌───────┐ ┌──────────────┐ \n",
      "q0 : ─┤ Rx(0.50) ├─┤ DEPO(0.0042) ├─┤ Rx(3.14) ├─┤ DEPO(0.0042) ├─┤ ISWAP ├─┤ DEPO(0.0042) ├─\n",
      "      └──────────┘ └──────────────┘ └──────────┘ └──────────────┘ └───┬───┘ └──────────────┘ \n",
      "      ┌──────────┐ ┌──────────────┐ ┌──────────┐ ┌──────────────┐ ┌───┴───┐ ┌──────────────┐ \n",
      "q1 : ─┤ Rz(0.50) ├─┤ DEPO(0.0042) ├─┤ Rx(3.14) ├─┤ DEPO(0.0042) ├─┤ ISWAP ├─┤ DEPO(0.0042) ├─\n",
      "      └──────────┘ └──────────────┘ └──────────┘ └──────────────┘ └───────┘ └──────────────┘ \n",
      "      ┌──────────┐ ┌──────────────┐ ┌──────────┐ ┌──────────────┐                            \n",
      "q2 : ─┤ Rz(0.50) ├─┤ DEPO(0.0042) ├─┤ Rx(3.14) ├─┤ DEPO(0.0042) ├────────────────────────────\n",
      "      └──────────┘ └──────────────┘ └──────────┘ └──────────────┘                            \n",
      "T  : │              0              │              1              │            2             │\n"
     ]
    }
   ],
   "source": [
    "simple_noisy_circ = simple_noise_model.apply(circ)\n",
    "print(simple_noisy_circ)"
   ]
  },
  {
   "cell_type": "markdown",
   "id": "e2c20b79-cbf2-4897-80b3-452c78d56a03",
   "metadata": {},
   "source": [
    "We run the circuit on a noisy simulator below"
   ]
  },
  {
   "cell_type": "code",
   "execution_count": 22,
   "id": "a1bb19e8-6824-4a50-b9fb-ae06c14359b6",
   "metadata": {},
   "outputs": [],
   "source": [
    "simple_noisy_task = noisy_simulator.run(simple_noisy_circ, shots=100_000)\n",
    "simple_noisy_probs = simple_noisy_task.result().measurement_probabilities"
   ]
  },
  {
   "cell_type": "markdown",
   "id": "76418e5c-be5b-4b3a-8916-c0f56f003cd7",
   "metadata": {},
   "source": [
    "and add it to the previous dataframe"
   ]
  },
  {
   "cell_type": "code",
   "execution_count": 23,
   "id": "b4d27a95-612d-4dea-9f6a-98d4525b0a70",
   "metadata": {},
   "outputs": [
    {
     "data": {
      "text/html": [
       "<div>\n",
       "<style scoped>\n",
       "    .dataframe tbody tr th:only-of-type {\n",
       "        vertical-align: middle;\n",
       "    }\n",
       "\n",
       "    .dataframe tbody tr th {\n",
       "        vertical-align: top;\n",
       "    }\n",
       "\n",
       "    .dataframe thead th {\n",
       "        text-align: right;\n",
       "    }\n",
       "</style>\n",
       "<table border=\"1\" class=\"dataframe\">\n",
       "  <thead>\n",
       "    <tr style=\"text-align: right;\">\n",
       "      <th></th>\n",
       "      <th>Ankaa-3</th>\n",
       "      <th>noisy_sim</th>\n",
       "      <th>free_sim</th>\n",
       "      <th>simple_noisy_sim</th>\n",
       "    </tr>\n",
       "  </thead>\n",
       "  <tbody>\n",
       "    <tr>\n",
       "      <th>111</th>\n",
       "      <td>0.6323</td>\n",
       "      <td>0.9165</td>\n",
       "      <td>0.9384</td>\n",
       "      <td>0.91803</td>\n",
       "    </tr>\n",
       "    <tr>\n",
       "      <th>011</th>\n",
       "      <td>0.1023</td>\n",
       "      <td>0.0083</td>\n",
       "      <td>NaN</td>\n",
       "      <td>0.00772</td>\n",
       "    </tr>\n",
       "    <tr>\n",
       "      <th>101</th>\n",
       "      <td>0.1512</td>\n",
       "      <td>0.0680</td>\n",
       "      <td>0.0616</td>\n",
       "      <td>0.06817</td>\n",
       "    </tr>\n",
       "    <tr>\n",
       "      <th>100</th>\n",
       "      <td>0.0091</td>\n",
       "      <td>NaN</td>\n",
       "      <td>NaN</td>\n",
       "      <td>0.00028</td>\n",
       "    </tr>\n",
       "    <tr>\n",
       "      <th>001</th>\n",
       "      <td>0.0617</td>\n",
       "      <td>0.0072</td>\n",
       "      <td>NaN</td>\n",
       "      <td>0.00061</td>\n",
       "    </tr>\n",
       "    <tr>\n",
       "      <th>110</th>\n",
       "      <td>0.0368</td>\n",
       "      <td>NaN</td>\n",
       "      <td>NaN</td>\n",
       "      <td>0.00516</td>\n",
       "    </tr>\n",
       "    <tr>\n",
       "      <th>010</th>\n",
       "      <td>0.0047</td>\n",
       "      <td>NaN</td>\n",
       "      <td>NaN</td>\n",
       "      <td>0.00003</td>\n",
       "    </tr>\n",
       "    <tr>\n",
       "      <th>000</th>\n",
       "      <td>0.0019</td>\n",
       "      <td>NaN</td>\n",
       "      <td>NaN</td>\n",
       "      <td>NaN</td>\n",
       "    </tr>\n",
       "  </tbody>\n",
       "</table>\n",
       "</div>"
      ],
      "text/plain": [
       "     Ankaa-3  noisy_sim  free_sim  simple_noisy_sim\n",
       "111   0.6323     0.9165    0.9384           0.91803\n",
       "011   0.1023     0.0083       NaN           0.00772\n",
       "101   0.1512     0.0680    0.0616           0.06817\n",
       "100   0.0091        NaN       NaN           0.00028\n",
       "001   0.0617     0.0072       NaN           0.00061\n",
       "110   0.0368        NaN       NaN           0.00516\n",
       "010   0.0047        NaN       NaN           0.00003\n",
       "000   0.0019        NaN       NaN               NaN"
      ]
     },
     "execution_count": 23,
     "metadata": {},
     "output_type": "execute_result"
    }
   ],
   "source": [
    "simple_noisy_sim = pd.DataFrame.from_dict(simple_noisy_probs, orient=\"index\").rename(\n",
    "    columns={0: \"simple_noisy_sim\"}\n",
    ")\n",
    "df = df.join(simple_noisy_sim)\n",
    "df"
   ]
  },
  {
   "cell_type": "markdown",
   "id": "b1699bc2-712f-4a99-b9d6-0a0920114a13",
   "metadata": {},
   "source": [
    "We compute the fidelity between the simple noise model and the QPU:"
   ]
  },
  {
   "cell_type": "code",
   "execution_count": 24,
   "id": "d7710e0b-29ac-4968-aa00-e23cb8b32269",
   "metadata": {},
   "outputs": [
    {
     "name": "stdout",
     "output_type": "stream",
     "text": [
      "\n",
      "Total fidelity between Ankaa-3 and full noise model is: 0.9128652867740783\n",
      "\n",
      "Total fidelity between Ankaa-3 and simple noise model is: 0.9134001825335245\n",
      "\n",
      "Total fidelity between Ankaa-3 and noise-free is: 0.8668010125433862\n"
     ]
    }
   ],
   "source": [
    "f_simple = fidelity(df[\"simple_noisy_sim\"], df[\"Ankaa-3\"])\n",
    "\n",
    "print(f\"\\nTotal fidelity between Ankaa-3 and full noise model is: {f_noisy_Ankaa}\")\n",
    "print(f\"\\nTotal fidelity between Ankaa-3 and simple noise model is: {f_simple}\")\n",
    "print(f\"\\nTotal fidelity between Ankaa-3 and noise-free is: {f_free_Ankaa}\")"
   ]
  },
  {
   "cell_type": "code",
   "execution_count": 25,
   "id": "e36e19d0-664a-4cb4-a2e3-0061cd60a6c1",
   "metadata": {},
   "outputs": [
    {
     "data": {
      "image/png": "[encoded data removed]",
      "text/plain": [
       "<Figure size 1200x600 with 1 Axes>"
      ]
     },
     "metadata": {},
     "output_type": "display_data"
    }
   ],
   "source": [
    "df.plot.bar(title=\"Comparing simulators and Ankaa-3\", figsize=(12, 6))\n",
    "text = f\"f_free = {f_free_Ankaa:.3f} \\nf_simple_noise_model = {f_simple:.3f} \\nf_noise_model = {f_noisy_Ankaa:.3f}\"\n",
    "plt.text(1, 0.5, text, fontsize=14)\n",
    "plt.show()"
   ]
  },
  {
   "cell_type": "markdown",
   "id": "6da72e22-a594-41e7-a4e2-cb82cfe0726a",
   "metadata": {},
   "source": [
    "We see that compared to the full noise model, the simple model is less accurate, however, it is still a significant improvement over the noise-free case and has far fewer parameters in the model. "
   ]
  },
  {
   "cell_type": "markdown",
   "id": "b2c6b2ba-cb54-43f6-9a89-e29066b5192a",
   "metadata": {},
   "source": [
    "## Summary\n",
    "\n",
    "In this notebook, we showed how to construct a noise model for Rigetti Ankaa-3 based only on the available calibration data.\n",
    "We used a coarse assumption of gate-independent single-qubit depolarizing noise and gate-dependant two-qubit noise. Our qubit-dependent model could be improved in many ways. We could add gate-dependence noise, or change the depolarizing channel to Pauli channels. "
   ]
  },
  {
   "cell_type": "code",
   "execution_count": 26,
   "id": "c6412d7e",
   "metadata": {},
   "outputs": [
    {
     "name": "stdout",
     "output_type": "stream",
     "text": [
      "Quantum Task Summary\n",
      "{<_Rigetti.Ankaa3: 'arn:aws:braket:us-west-1::device/qpu/rigetti/Ankaa-3'>: {'shots': 10000, 'tasks': {'COMPLETED': 1}}}\n",
      "Note: Charges shown are estimates based on your Amazon Braket simulator and quantum processing unit (QPU) task usage. Estimated charges shown may differ from your actual charges. Estimated charges do not factor in any discounts or credits, and you may experience additional charges based on your use of other services such as Amazon Elastic Compute Cloud (Amazon EC2).\n",
      "Estimated cost to run this example: 9.300 USD\n"
     ]
    }
   ],
   "source": [
    "print(\"Quantum Task Summary\")\n",
    "print(t.quantum_tasks_statistics())\n",
    "print(\n",
    "    \"Note: Charges shown are estimates based on your Amazon Braket simulator and quantum processing unit (QPU) task usage. Estimated charges shown may differ from your actual charges. Estimated charges do not factor in any discounts or credits, and you may experience additional charges based on your use of other services such as Amazon Elastic Compute Cloud (Amazon EC2).\"\n",
    ")\n",
    "print(\n",
    "    f\"Estimated cost to run this example: {t.qpu_tasks_cost() + t.simulator_tasks_cost():.3f} USD\"\n",
    ")"
   ]
  }
 ],
 "metadata": {
  "kernelspec": {
   "display_name": "3.10.10",
   "language": "python",
   "name": "python3"
  },
  "language_info": {
   "codemirror_mode": {
    "name": "ipython",
    "version": 3
   },
   "file_extension": ".py",
   "mimetype": "text/x-python",
   "name": "python",
   "nbconvert_exporter": "python",
   "pygments_lexer": "ipython3",
   "version": "3.10.10"
  },
  "toc-autonumbering": false,
  "toc-showcode": false,
  "toc-showmarkdowntxt": false,
  "toc-showtags": true
 },
 "nbformat": 4,
 "nbformat_minor": 5
}
