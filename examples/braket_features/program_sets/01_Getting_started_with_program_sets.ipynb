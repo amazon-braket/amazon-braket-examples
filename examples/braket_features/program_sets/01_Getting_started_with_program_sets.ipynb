{
 "cells": [
  {
   "cell_type": "markdown",
   "id": "93fe433b-b9a6-4398-9b41-e811f6043e7c",
   "metadata": {},
   "source": [
    "# Getting started with Amazon Braket program sets\n",
    "<!--\n",
    "## Table of Contents\n",
    "\n",
    "1. [Specifying program sets](#1-specifying-program-sets)\n",
    "   - [1.1 Specified circuits](#11-specified-circuits)\n",
    "   - [1.2 Parametrized circuit](#12-parametrized-circuit)\n",
    "   - [1.3 List of observables](#13-list-of-observables)\n",
    "2. [Running program sets and accessing results](#2-running-program-sets-and-accessing-the-results)\n",
    "   - [2.1 Running a program set](#21-running-a-program-set)\n",
    "   - [2.2 Accessing individual counts](#22-accessing-individual-counts)\n",
    "   - [2.3 Accessing individual observable expectations](#23-accessing-individual-observable-expectations)\n",
    "3. [More ways to specify a program set](#3-more-ways-to-specify-a-program-set)\n",
    "   - [3.1 Sum of observables](#31-sum-of-observables)\n",
    "   - [3.2 Combining many circuits & many observables (all-to-all)](#32-combining-many-circuits--many-observables-all-to-all)\n",
    "   - [3.3 Distributing input and observable settings (one-to-one)](#33-distributing-input-and-observable-settings-over-a-list-of-circuits-one-to-one)\n",
    "4. [Running on a Braket QPU](#4-running-on-a-braket-qpu)\n",
    "   - [4.1 Submitting a task and obtaining the result](#41-submitting-a-task-and-obtaining-the-result)\n",
    "   - [4.2 Inspecting the results](#42-inspecting-the-results)\n",
    "5. [Summary](#summary)\n",
    "-->"
   ]
  },
  {
   "cell_type": "markdown",
   "id": "70edc30c-2248-4785-ba3d-0aea4e19ec54",
   "metadata": {},
   "source": [
    "## Overview\n",
    "\n",
    "Several Braket devices accept a set of programs as input, which are processed together as a `ProgramSet`. While the quantum computational results are the same as if programs in the set were processed as independent Braket `QuantumTask`s, the execution is more efficient and often cheaper. In this notebook we demonstrate various ways of creating program sets and how to submit them to Braket devices and analyze the results.\n",
    "\n",
    "### What you'll learn:\n",
    "- How to create and use program sets\n",
    "- Different ways of combining circuits, parameters, and observables\n",
    "- How to access and interpret results when you run program sets on simulators and QPUs\n",
    "\n",
    "### Key Benefits of `ProgramSet`:\n",
    "- **Efficiency**: Batch processing reduces overhead\n",
    "- **Cost**: Often cheaper than using individual quantum tasks\n",
    "- **Organization**: Group related quantum computations together"
   ]
  },
  {
   "cell_type": "markdown",
   "id": "19b6279c-b263-4c91-bba0-b16573bc5097",
   "metadata": {},
   "source": [
    "### Key Terminology\n",
    "\n",
    "Before diving into the details, let's define the key terms used throughout this notebook:\n",
    "\n",
    "- **Program Set**: A collection of quantum programs that can be executed together efficiently\n",
    "- **Executable**: A complete quantum circuit ready for execution (no free parameters, single observable)\n",
    "- **Entry/Program**: A group of related executables within a program set (e.g., same circuit with different parameters)\n",
    "- **Circuit Binding**: A program that binds a parametrized circuit to specific parameter values and/or observables\n",
    "- **Input Sets**: Collections of parameter values for parametrized circuits\n",
    "- **Observable**: A quantum operator (like Pauli matrices) that defines what to measure\n",
    "- **Free Parameter**: An unbound variable in a quantum circuit that needs a value assignment"
   ]
  },
  {
   "cell_type": "code",
   "execution_count": 1,
   "id": "9e6de2f8-f285-44ec-9c9f-cfebe0ec903c",
   "metadata": {},
   "outputs": [],
   "source": [
    "from math import pi\n",
    "\n",
    "# Utility function for visualizing program sets\n",
    "from program_set_utils import print_program_set\n",
    "\n",
    "# Amazon Braket components\n",
    "from braket.circuits import Circuit, FreeParameter\n",
    "from braket.circuits.observables import I, X, Y, Z\n",
    "from braket.devices import LocalSimulator\n",
    "from braket.program_sets import CircuitBinding, ProgramSet"
   ]
  },
  {
   "cell_type": "markdown",
   "id": "7ab0ca86-d9e3-42ff-b73c-5a6b765ed1c6",
   "metadata": {},
   "source": [
    "---\n",
    "## 1. Specifying program sets"
   ]
  },
  {
   "cell_type": "markdown",
   "id": "9fac37e2-5651-407f-9a87-f165de2af4b7",
   "metadata": {},
   "source": [
    "Program sets provide a way to package a list of **circuits**, parameter specification (\"**input sets**\"), and **observables** into a single bundle of *executables*. An executable, in this context, is a quantum circuit that is ready to be executed and measured (in a specified basis) on a quantum device. This means that there are no free (unbound) parameters in the circuit and we have specified a single (non-composite) observable for the measurement basis. We can have many executables coming from the same underlying circuit (e.g. by changing the parameters of a parametric circuit or changing the observable of a non-parametric one) and they will be grouped together in a single *entry* (or *program*) in the program set. "
   ]
  },
  {
   "cell_type": "markdown",
   "id": "74298d25-0f6b-4df9-86d7-34e11c35bdd4",
   "metadata": {},
   "source": [
    "![](./images/program_set_legend.png)"
   ]
  },
  {
   "cell_type": "markdown",
   "id": "2362dfd5-972d-4dd0-8440-19ef77255468",
   "metadata": {},
   "source": [
    "### 1.1 Specified circuits\n",
    "The base constructor of `ProgramSet` allows packaging circuits, which may be completely unrelated to one another, into a single object."
   ]
  },
  {
   "cell_type": "markdown",
   "id": "83bd174d-7175-4814-9352-10a5f5c8f560",
   "metadata": {},
   "source": [
    "![](./images/program_set_1.png)"
   ]
  },
  {
   "cell_type": "code",
   "execution_count": 2,
   "id": "18ada332-3567-45eb-bee1-3683e527bea5",
   "metadata": {},
   "outputs": [],
   "source": [
    "program_set_1 = ProgramSet([\n",
    "    Circuit().h(0).cnot(0,1),\n",
    "    Circuit().rx(0, pi/4).ry(1, pi/8).cnot(1,0),\n",
    "    Circuit().t(0).t(1).cz(0,1).s(0).cz(1,2).s(1).s(2),\n",
    "])"
   ]
  },
  {
   "cell_type": "markdown",
   "id": "48220382-ff03-4c68-891e-bda83a9cc497",
   "metadata": {},
   "source": [
    "Attributes `total_executables`, `entries`, and the method `to_ir()` can be used to inspect the `ProgramSet` object."
   ]
  },
  {
   "cell_type": "code",
   "execution_count": 3,
   "id": "2c135785-c6ee-42f8-9255-be607788a9f2",
   "metadata": {},
   "outputs": [
    {
     "name": "stdout",
     "output_type": "stream",
     "text": [
      "There are 3 entries in the program set. First entry is: \n",
      " T  : │  0  │  1  │\n",
      "      ┌───┐       \n",
      "q0 : ─┤ H ├───●───\n",
      "      └───┘   │   \n",
      "            ┌─┴─┐ \n",
      "q1 : ───────┤ X ├─\n",
      "            └───┘ \n",
      "T  : │  0  │  1  │\n",
      "The number of total executables in the set is 3\n"
     ]
    }
   ],
   "source": [
    "print(f\"There are {len(program_set_1)} entries in the program set. First entry is: \\n\", program_set_1.entries[0])\n",
    "print(f\"The number of total executables in the set is {program_set_1.total_executables}\")"
   ]
  },
  {
   "cell_type": "code",
   "execution_count": 4,
   "id": "0b0a84aa-1476-4a4d-8447-1d626658b01e",
   "metadata": {},
   "outputs": [
    {
     "data": {
      "text/plain": [
       "3"
      ]
     },
     "execution_count": 4,
     "metadata": {},
     "output_type": "execute_result"
    }
   ],
   "source": [
    "program_set_1.total_executables"
   ]
  },
  {
   "cell_type": "code",
   "execution_count": 5,
   "id": "53435774-3968-4115-9169-b8999e10019f",
   "metadata": {},
   "outputs": [
    {
     "data": {
      "text/plain": [
       "ProgramSet(braketSchemaHeader=BraketSchemaHeader(name='braket.ir.openqasm.program_set', version='1'), programs=[Program(braketSchemaHeader=BraketSchemaHeader(name='braket.ir.openqasm.program', version='1'), source='OPENQASM 3.0;\\nbit[2] b;\\nqubit[2] q;\\nh q[0];\\ncnot q[0], q[1];\\nb[0] = measure q[0];\\nb[1] = measure q[1];', inputs={}), Program(braketSchemaHeader=BraketSchemaHeader(name='braket.ir.openqasm.program', version='1'), source='OPENQASM 3.0;\\nbit[2] b;\\nqubit[2] q;\\nrx(0.7853981633974483) q[0];\\nry(0.39269908169872414) q[1];\\ncnot q[1], q[0];\\nb[0] = measure q[0];\\nb[1] = measure q[1];', inputs={}), Program(braketSchemaHeader=BraketSchemaHeader(name='braket.ir.openqasm.program', version='1'), source='OPENQASM 3.0;\\nbit[3] b;\\nqubit[3] q;\\nt q[0];\\nt q[1];\\ncz q[0], q[1];\\ns q[0];\\ncz q[1], q[2];\\ns q[1];\\ns q[2];\\nb[0] = measure q[0];\\nb[1] = measure q[1];\\nb[2] = measure q[2];', inputs={})])"
      ]
     },
     "execution_count": 5,
     "metadata": {},
     "output_type": "execute_result"
    }
   ],
   "source": [
    "program_set_1.to_ir()"
   ]
  },
  {
   "cell_type": "markdown",
   "id": "a578f99b-338b-4a10-99fb-7cadbffe9866",
   "metadata": {},
   "source": [
    "To facilitate visualization of the more complex program sets later in the notebook, we can use the `print_program_set` utility function from the `program_set_utils` module accompanying the notebooks."
   ]
  },
  {
   "cell_type": "code",
   "execution_count": 6,
   "id": "5b1057aa-d7db-4c3c-a607-aee4a6b001fd",
   "metadata": {
    "scrolled": true
   },
   "outputs": [
    {
     "name": "stdout",
     "output_type": "stream",
     "text": [
      "circuit 0\n",
      "T  : │  0  │  1  │\n",
      "      ┌───┐       \n",
      "q0 : ─┤ H ├───●───\n",
      "      └───┘   │   \n",
      "            ┌─┴─┐ \n",
      "q1 : ───────┤ X ├─\n",
      "            └───┘ \n",
      "T  : │  0  │  1  │\n",
      "execution 0\n",
      "--------------------------------------------------------------------------------\n",
      "circuit 1\n",
      "T  : │     0      │  1  │\n",
      "      ┌──────────┐ ┌───┐ \n",
      "q0 : ─┤ Rx(0.79) ├─┤ X ├─\n",
      "      └──────────┘ └─┬─┘ \n",
      "      ┌──────────┐   │   \n",
      "q1 : ─┤ Ry(0.39) ├───●───\n",
      "      └──────────┘       \n",
      "T  : │     0      │  1  │\n",
      "execution 0\n",
      "--------------------------------------------------------------------------------\n",
      "circuit 2\n",
      "T  : │  0  │  1  │  2  │  3  │\n",
      "      ┌───┐       ┌───┐       \n",
      "q0 : ─┤ T ├───●───┤ S ├───────\n",
      "      └───┘   │   └───┘       \n",
      "      ┌───┐ ┌─┴─┐       ┌───┐ \n",
      "q1 : ─┤ T ├─┤ Z ├───●───┤ S ├─\n",
      "      └───┘ └───┘   │   └───┘ \n",
      "                  ┌─┴─┐ ┌───┐ \n",
      "q2 : ─────────────┤ Z ├─┤ S ├─\n",
      "                  └───┘ └───┘ \n",
      "T  : │  0  │  1  │  2  │  3  │\n",
      "execution 0\n",
      "--------------------------------------------------------------------------------\n",
      "Total executions: 3\n"
     ]
    }
   ],
   "source": [
    "print_program_set(program_set_1)"
   ]
  },
  {
   "cell_type": "markdown",
   "id": "0eed0715-da7f-4356-b34f-7108fc672e56",
   "metadata": {},
   "source": [
    "### 1.2 Parametrized circuit\n",
    "Circuits with free floating-point parameters and a corresponding list of parameter settings can be packaged into a single program set to prepare them for more efficient execution on a QPU. We do that using the `CircuitBinding` class."
   ]
  },
  {
   "cell_type": "markdown",
   "id": "d84d4e75-6c31-438d-aaa2-acbaf999442f",
   "metadata": {},
   "source": [
    "![](./images/program_set_2.png)"
   ]
  },
  {
   "cell_type": "code",
   "execution_count": 7,
   "id": "0a380e74-82ae-4da0-89d6-a351bb3f9324",
   "metadata": {},
   "outputs": [
    {
     "name": "stdout",
     "output_type": "stream",
     "text": [
      "T  : │      0      │  1  │     2      │\n",
      "      ┌───────────┐                    \n",
      "q0 : ─┤ Rx(alpha) ├───●────────────────\n",
      "      └───────────┘   │                \n",
      "                    ┌─┴─┐ ┌──────────┐ \n",
      "q1 : ───────────────┤ X ├─┤ Ry(beta) ├─\n",
      "                    └───┘ └──────────┘ \n",
      "T  : │      0      │  1  │     2      │\n",
      "\n",
      "Unassigned parameters: [alpha, beta].\n"
     ]
    }
   ],
   "source": [
    "alpha = FreeParameter('alpha')\n",
    "beta = FreeParameter('beta')\n",
    "parametrized_circuit = Circuit().rx(0, alpha).cnot(0,1).ry(1, beta)\n",
    "print(parametrized_circuit)"
   ]
  },
  {
   "cell_type": "code",
   "execution_count": 8,
   "id": "ea63b000-fe48-4701-b912-15db19d77b92",
   "metadata": {},
   "outputs": [
    {
     "name": "stdout",
     "output_type": "stream",
     "text": [
      "circuit 0\n",
      "T  : │      0      │  1  │     2      │\n",
      "      ┌───────────┐                    \n",
      "q0 : ─┤ Rx(alpha) ├───●────────────────\n",
      "      └───────────┘   │                \n",
      "                    ┌─┴─┐ ┌──────────┐ \n",
      "q1 : ───────────────┤ X ├─┤ Ry(beta) ├─\n",
      "                    └───┘ └──────────┘ \n",
      "T  : │      0      │  1  │     2      │\n",
      "\n",
      "Unassigned parameters: [alpha, beta].\n",
      "execution 0\n",
      "\tinput_set: {'alpha': 0.1, 'beta': 1.01}\n",
      "execution 1\n",
      "\tinput_set: {'alpha': 0.11, 'beta': 1.01}\n",
      "execution 2\n",
      "\tinput_set: {'alpha': 0.22, 'beta': 1.03}\n",
      "execution 3\n",
      "\tinput_set: {'alpha': 0.34, 'beta': 1.04}\n",
      "execution 4\n",
      "\tinput_set: {'alpha': 0.45, 'beta': 1.04}\n",
      "--------------------------------------------------------------------------------\n",
      "Total executions: 5\n"
     ]
    }
   ],
   "source": [
    "program_set_2 = ProgramSet(\n",
    "    CircuitBinding(\n",
    "        circuit=parametrized_circuit, \n",
    "        input_sets={\n",
    "            'alpha': (0.10, 0.11, 0.22, 0.34, 0.45),\n",
    "            'beta': (1.01, 1.01, 1.03, 1.04, 1.04),\n",
    "        })\n",
    ")\n",
    "print_program_set(program_set_2)"
   ]
  },
  {
   "cell_type": "markdown",
   "id": "c26a3730-2668-456a-a192-7bfa5ec104ed",
   "metadata": {},
   "source": [
    "While the total number of executions will be the length of the parameter lists, calling the `to_ir()` method reveals that the parametrized circuit is untouched, and the `CircuitBinding` object connected it to the parameter settings."
   ]
  },
  {
   "cell_type": "code",
   "execution_count": 9,
   "id": "4e404a91-2635-4f26-b8b6-1bc2bc6fe265",
   "metadata": {},
   "outputs": [
    {
     "data": {
      "text/plain": [
       "ProgramSet(braketSchemaHeader=BraketSchemaHeader(name='braket.ir.openqasm.program_set', version='1'), programs=[Program(braketSchemaHeader=BraketSchemaHeader(name='braket.ir.openqasm.program', version='1'), source='OPENQASM 3.0;\\ninput float beta;\\ninput float alpha;\\nbit[2] b;\\nqubit[2] q;\\nrx(alpha) q[0];\\ncnot q[0], q[1];\\nry(beta) q[1];\\nb[0] = measure q[0];\\nb[1] = measure q[1];', inputs={'alpha': [0.1, 0.11, 0.22, 0.34, 0.45], 'beta': [1.01, 1.01, 1.03, 1.04, 1.04]})])"
      ]
     },
     "execution_count": 9,
     "metadata": {},
     "output_type": "execute_result"
    }
   ],
   "source": [
    "program_set_2.to_ir()"
   ]
  },
  {
   "cell_type": "markdown",
   "id": "e1bd5b0c-5272-44ef-8311-276a0ad72374",
   "metadata": {},
   "source": [
    "**Note:** It is also possible to combine fully-specified circuits and circuit bindings by passing them in a single list."
   ]
  },
  {
   "cell_type": "markdown",
   "id": "ba6503cb-f986-4405-a679-f080a34da5b9",
   "metadata": {},
   "source": [
    "![](./images/program_set_3.png)"
   ]
  },
  {
   "cell_type": "code",
   "execution_count": 10,
   "id": "deaeb5db-efbd-4e7e-8ada-0509783ebdb7",
   "metadata": {
    "scrolled": true
   },
   "outputs": [
    {
     "name": "stdout",
     "output_type": "stream",
     "text": [
      "circuit 0\n",
      "T  : │  0  │  1  │\n",
      "      ┌───┐       \n",
      "q0 : ─┤ H ├───●───\n",
      "      └───┘   │   \n",
      "            ┌─┴─┐ \n",
      "q1 : ───────┤ X ├─\n",
      "            └───┘ \n",
      "T  : │  0  │  1  │\n",
      "execution 0\n",
      "--------------------------------------------------------------------------------\n",
      "circuit 1\n",
      "T  : │     0      │  1  │\n",
      "      ┌──────────┐ ┌───┐ \n",
      "q0 : ─┤ Rx(0.79) ├─┤ X ├─\n",
      "      └──────────┘ └─┬─┘ \n",
      "      ┌──────────┐   │   \n",
      "q1 : ─┤ Ry(0.39) ├───●───\n",
      "      └──────────┘       \n",
      "T  : │     0      │  1  │\n",
      "execution 0\n",
      "--------------------------------------------------------------------------------\n",
      "circuit 2\n",
      "T  : │  0  │  1  │  2  │  3  │\n",
      "      ┌───┐       ┌───┐       \n",
      "q0 : ─┤ T ├───●───┤ S ├───────\n",
      "      └───┘   │   └───┘       \n",
      "      ┌───┐ ┌─┴─┐       ┌───┐ \n",
      "q1 : ─┤ T ├─┤ Z ├───●───┤ S ├─\n",
      "      └───┘ └───┘   │   └───┘ \n",
      "                  ┌─┴─┐ ┌───┐ \n",
      "q2 : ─────────────┤ Z ├─┤ S ├─\n",
      "                  └───┘ └───┘ \n",
      "T  : │  0  │  1  │  2  │  3  │\n",
      "execution 0\n",
      "--------------------------------------------------------------------------------\n",
      "circuit 3\n",
      "T  : │      0      │  1  │     2      │\n",
      "      ┌───────────┐                    \n",
      "q0 : ─┤ Rx(alpha) ├───●────────────────\n",
      "      └───────────┘   │                \n",
      "                    ┌─┴─┐ ┌──────────┐ \n",
      "q1 : ───────────────┤ X ├─┤ Ry(beta) ├─\n",
      "                    └───┘ └──────────┘ \n",
      "T  : │      0      │  1  │     2      │\n",
      "\n",
      "Unassigned parameters: [alpha, beta].\n",
      "execution 0\n",
      "\tinput_set: {'alpha': 0.1, 'beta': 1.01}\n",
      "execution 1\n",
      "\tinput_set: {'alpha': 0.11, 'beta': 1.01}\n",
      "execution 2\n",
      "\tinput_set: {'alpha': 0.22, 'beta': 1.03}\n",
      "execution 3\n",
      "\tinput_set: {'alpha': 0.34, 'beta': 1.04}\n",
      "execution 4\n",
      "\tinput_set: {'alpha': 0.45, 'beta': 1.04}\n",
      "--------------------------------------------------------------------------------\n",
      "Total executions: 8\n"
     ]
    }
   ],
   "source": [
    "program_set_3 = ProgramSet(program_set_1.entries + program_set_2.entries)\n",
    "print_program_set(program_set_3)"
   ]
  },
  {
   "cell_type": "markdown",
   "id": "7fbebbb5-f277-400b-bd5e-7e6fe2efe8a9",
   "metadata": {},
   "source": [
    "### 1.3 List of observables"
   ]
  },
  {
   "cell_type": "markdown",
   "id": "94cdc6e7-652e-4b23-a07e-f5accdab312c",
   "metadata": {},
   "source": [
    "When the same circuit needs to be executed multiple times with a different observable at the end, the same `CircuitBinding` object can be used to form the corresponding program set."
   ]
  },
  {
   "cell_type": "markdown",
   "id": "337a2bd0-b625-44e0-977e-b7d448af83a5",
   "metadata": {},
   "source": [
    "![](./images/program_set_4.png)"
   ]
  },
  {
   "cell_type": "code",
   "execution_count": 11,
   "id": "750c3260-70a6-41bb-94f0-16885ad5e009",
   "metadata": {},
   "outputs": [
    {
     "name": "stdout",
     "output_type": "stream",
     "text": [
      "circuit 0\n",
      "T  : │  0  │\n",
      "      ┌───┐ \n",
      "q0 : ─┤ H ├─\n",
      "      └───┘ \n",
      "      ┌───┐ \n",
      "q1 : ─┤ H ├─\n",
      "      └───┘ \n",
      "T  : │  0  │\n",
      "execution 0\n",
      "\tobservable: z(q[0]) @ z(q[1])\n",
      "execution 1\n",
      "\tobservable: x(q[0]) @ x(q[1])\n",
      "execution 2\n",
      "\tobservable: z(q[0]) @ x(q[1])\n",
      "execution 3\n",
      "\tobservable: x(q[0]) @ z(q[1])\n",
      "--------------------------------------------------------------------------------\n",
      "Total executions: 4\n"
     ]
    }
   ],
   "source": [
    "program_set_4 = ProgramSet(\n",
    "    CircuitBinding(\n",
    "        circuit=Circuit().h(0).h(1),\n",
    "        observables=(\n",
    "            Z(0) @ Z(1), \n",
    "            X(0) @ X(1), \n",
    "            Z(0) @ X(1), \n",
    "            X(0) @ Z(1),\n",
    "        )\n",
    "    )\n",
    ")\n",
    "print_program_set(program_set_4)"
   ]
  },
  {
   "cell_type": "markdown",
   "id": "0c0361ef-d894-4a4c-9398-3839f38d8783",
   "metadata": {},
   "source": [
    "Each observable setting is registered as a different executable, identical to how parameter settings were treated. "
   ]
  },
  {
   "cell_type": "markdown",
   "id": "9315e959-9710-446a-9487-9c124c241c69",
   "metadata": {},
   "source": [
    "The `to_ir()` method reveals how the necessary basis transformations for each observable are automatically implemented as parametrized `rx` and `rz` gates. The name of the corresponding parameters start with `\"_OBSERVABLE_\"`."
   ]
  },
  {
   "cell_type": "code",
   "execution_count": 12,
   "id": "ad4a912e-6a8e-444b-bd77-db189dce0763",
   "metadata": {},
   "outputs": [
    {
     "data": {
      "text/plain": [
       "ProgramSet(braketSchemaHeader=BraketSchemaHeader(name='braket.ir.openqasm.program_set', version='1'), programs=[Program(braketSchemaHeader=BraketSchemaHeader(name='braket.ir.openqasm.program', version='1'), source='OPENQASM 3.0;\\ninput float _OBSERVABLE_THETA_1;\\ninput float _OBSERVABLE_PHI_1;\\ninput float _OBSERVABLE_OMEGA_1;\\ninput float _OBSERVABLE_THETA_0;\\ninput float _OBSERVABLE_PHI_0;\\ninput float _OBSERVABLE_OMEGA_0;\\nbit[2] b;\\nqubit[2] q;\\nh q[0];\\nh q[1];\\nrz(_OBSERVABLE_THETA_0) q[0];\\nrx(_OBSERVABLE_PHI_0) q[0];\\nrz(_OBSERVABLE_OMEGA_0) q[0];\\nrz(_OBSERVABLE_THETA_1) q[1];\\nrx(_OBSERVABLE_PHI_1) q[1];\\nrz(_OBSERVABLE_OMEGA_1) q[1];\\nb[0] = measure q[0];\\nb[1] = measure q[1];', inputs={'_OBSERVABLE_THETA_0': [0, 1.5707963267948966, 0, 1.5707963267948966], '_OBSERVABLE_PHI_0': [0, 1.5707963267948966, 0, 1.5707963267948966], '_OBSERVABLE_OMEGA_0': [0, 1.5707963267948966, 0, 1.5707963267948966], '_OBSERVABLE_THETA_1': [0, 1.5707963267948966, 1.5707963267948966, 0], '_OBSERVABLE_PHI_1': [0, 1.5707963267948966, 1.5707963267948966, 0], '_OBSERVABLE_OMEGA_1': [0, 1.5707963267948966, 1.5707963267948966, 0]})])"
      ]
     },
     "execution_count": 12,
     "metadata": {},
     "output_type": "execute_result"
    }
   ],
   "source": [
    "program_set_4.to_ir()"
   ]
  },
  {
   "cell_type": "markdown",
   "id": "eb28d25c-87dc-44bd-8c0f-0906c2df5547",
   "metadata": {},
   "source": [
    "**Note:** A list of observables can be combined with a list of parameter settings inside a single `CircuitBinding` object. The parameter and observable settings are combined all-to-all, and the resulting program set has a large number of executables"
   ]
  },
  {
   "cell_type": "markdown",
   "id": "07729c71-ceee-4265-aec4-fa73f980f0a0",
   "metadata": {},
   "source": [
    "![](./images/program_set_5.png)"
   ]
  },
  {
   "cell_type": "code",
   "execution_count": 13,
   "id": "e750bd82-1462-4148-9670-3bedbe3515d8",
   "metadata": {},
   "outputs": [
    {
     "name": "stdout",
     "output_type": "stream",
     "text": [
      "circuit 0\n",
      "T  : │      0      │  1  │     2      │\n",
      "      ┌───────────┐                    \n",
      "q0 : ─┤ Rx(alpha) ├───●────────────────\n",
      "      └───────────┘   │                \n",
      "                    ┌─┴─┐ ┌──────────┐ \n",
      "q1 : ───────────────┤ X ├─┤ Ry(beta) ├─\n",
      "                    └───┘ └──────────┘ \n",
      "T  : │      0      │  1  │     2      │\n",
      "\n",
      "Unassigned parameters: [alpha, beta].\n",
      "execution 0\n",
      "\tinput_set: {'alpha': 0.1, 'beta': 1.01}\n",
      "\tobservable: z(q[0]) @ z(q[1])\n",
      "execution 1\n",
      "\tinput_set: {'alpha': 0.1, 'beta': 1.01}\n",
      "\tobservable: x(q[0]) @ x(q[1])\n",
      "execution 2\n",
      "\tinput_set: {'alpha': 0.1, 'beta': 1.01}\n",
      "\tobservable: z(q[0]) @ x(q[1])\n",
      "execution 3\n",
      "\tinput_set: {'alpha': 0.1, 'beta': 1.01}\n",
      "\tobservable: x(q[0]) @ z(q[1])\n",
      "execution 4\n",
      "\tinput_set: {'alpha': 0.11, 'beta': 1.01}\n",
      "\tobservable: z(q[0]) @ z(q[1])\n",
      "execution 5\n",
      "\tinput_set: {'alpha': 0.11, 'beta': 1.01}\n",
      "\tobservable: x(q[0]) @ x(q[1])\n",
      "execution 6\n",
      "\tinput_set: {'alpha': 0.11, 'beta': 1.01}\n",
      "\tobservable: z(q[0]) @ x(q[1])\n",
      "execution 7\n",
      "\tinput_set: {'alpha': 0.11, 'beta': 1.01}\n",
      "\tobservable: x(q[0]) @ z(q[1])\n",
      "execution 8\n",
      "\tinput_set: {'alpha': 0.22, 'beta': 1.03}\n",
      "\tobservable: z(q[0]) @ z(q[1])\n",
      "execution 9\n",
      "\tinput_set: {'alpha': 0.22, 'beta': 1.03}\n",
      "\tobservable: x(q[0]) @ x(q[1])\n",
      "execution 10\n",
      "\tinput_set: {'alpha': 0.22, 'beta': 1.03}\n",
      "\tobservable: z(q[0]) @ x(q[1])\n",
      "execution 11\n",
      "\tinput_set: {'alpha': 0.22, 'beta': 1.03}\n",
      "\tobservable: x(q[0]) @ z(q[1])\n",
      "execution 12\n",
      "\tinput_set: {'alpha': 0.34, 'beta': 1.04}\n",
      "\tobservable: z(q[0]) @ z(q[1])\n",
      "execution 13\n",
      "\tinput_set: {'alpha': 0.34, 'beta': 1.04}\n",
      "\tobservable: x(q[0]) @ x(q[1])\n",
      "execution 14\n",
      "\tinput_set: {'alpha': 0.34, 'beta': 1.04}\n",
      "\tobservable: z(q[0]) @ x(q[1])\n",
      "execution 15\n",
      "\tinput_set: {'alpha': 0.34, 'beta': 1.04}\n",
      "\tobservable: x(q[0]) @ z(q[1])\n",
      "execution 16\n",
      "\tinput_set: {'alpha': 0.45, 'beta': 1.04}\n",
      "\tobservable: z(q[0]) @ z(q[1])\n",
      "execution 17\n",
      "\tinput_set: {'alpha': 0.45, 'beta': 1.04}\n",
      "\tobservable: x(q[0]) @ x(q[1])\n",
      "execution 18\n",
      "\tinput_set: {'alpha': 0.45, 'beta': 1.04}\n",
      "\tobservable: z(q[0]) @ x(q[1])\n",
      "execution 19\n",
      "\tinput_set: {'alpha': 0.45, 'beta': 1.04}\n",
      "\tobservable: x(q[0]) @ z(q[1])\n",
      "--------------------------------------------------------------------------------\n",
      "Total executions: 20\n"
     ]
    }
   ],
   "source": [
    "program_set_5 = ProgramSet(\n",
    "    CircuitBinding(\n",
    "        circuit=program_set_2.entries[0].circuit,\n",
    "        input_sets=program_set_2.entries[0].input_sets,\n",
    "        observables=program_set_4.entries[0].observables\n",
    "    )\n",
    ")\n",
    "print_program_set(program_set_5)"
   ]
  },
  {
   "cell_type": "markdown",
   "id": "35698dd5-9992-4cd8-9b64-ba038bb84c37",
   "metadata": {},
   "source": [
    "---\n",
    "# 2. Running program sets and accessing the results"
   ]
  },
  {
   "cell_type": "markdown",
   "id": "509a620a-ec1e-4bbc-bbb3-263309197f04",
   "metadata": {},
   "source": [
    "### 2.1 Running a program set"
   ]
  },
  {
   "cell_type": "markdown",
   "id": "95b61f97-6840-4445-b723-0d2d27dec82c",
   "metadata": {},
   "source": [
    "Program sets can be run on Braket's devices in the same way we run quantum tasks - using the `device.run()` method. In this notebook we'll only use `LocalSimulator` as we want to keep the focus on the program set feature. See Section 4 for comments on running on QPU."
   ]
  },
  {
   "cell_type": "code",
   "execution_count": 14,
   "id": "496fcead-4078-485d-bc57-ebabecfcc493",
   "metadata": {},
   "outputs": [],
   "source": [
    "device = LocalSimulator()\n",
    "result_set_1 = device.run(program_set_1, shots=300).result()"
   ]
  },
  {
   "cell_type": "markdown",
   "id": "6f185dd3-9f90-43eb-82f8-8f40609f5cf8",
   "metadata": {},
   "source": [
    "⚠️ **Important**: The total number of shots must be evenly divisible by the number of executables in your program set. For example, if you have 3 executables, you can use 300, 603, or 915 shots, but not 500 shots. If we attempt to run a configuration where this is not possible, as is the case in the cell below, where we provide 500 shots for the 3 executables of our `program_set_1`, the attempt will produce an error."
   ]
  },
  {
   "cell_type": "code",
   "execution_count": 15,
   "id": "2e5e40c2-afdf-4a3f-a80d-37d6899c09b6",
   "metadata": {},
   "outputs": [
    {
     "name": "stdout",
     "output_type": "stream",
     "text": [
      "FAILURE:  Total shots must be divisible by number of executables.\n"
     ]
    }
   ],
   "source": [
    "try:\n",
    "    result = device.run(program_set_1, shots=500).result()\n",
    "    print(f\"SUCCESS: Executed 500 shots divided equally among the {program_set_1.total_executables} executables of the set.\")\n",
    "except ValueError as e:\n",
    "    print(\"FAILURE: \", e)"
   ]
  },
  {
   "cell_type": "markdown",
   "id": "6fd2e4ea-5c28-4f5f-b959-cc4423158c78",
   "metadata": {},
   "source": [
    "An easy way to always ensure that the total shots provided are divisible by the number of executables is to prescribe a specified shot-per-executable count. Here we wish to run 100 shots for each program in the program set, so we pass `shots=program_set.total_executables * 100` to the `run()` method of the device."
   ]
  },
  {
   "cell_type": "code",
   "execution_count": 16,
   "id": "fb43daa0-c97d-4dea-bc1d-265aa159e103",
   "metadata": {},
   "outputs": [],
   "source": [
    "shots_per_executable = 100\n",
    "result_1 = device.run(program_set_1, shots = program_set_1.total_executables * shots_per_executable).result()\n",
    "result_2 = device.run(program_set_2, shots = program_set_2.total_executables * shots_per_executable).result()\n",
    "result_3 = device.run(program_set_3, shots = program_set_3.total_executables * shots_per_executable).result()\n",
    "result_4 = device.run(program_set_4, shots = program_set_4.total_executables * shots_per_executable).result()\n",
    "result_5 = device.run(program_set_5, shots = program_set_5.total_executables * shots_per_executable).result()"
   ]
  },
  {
   "cell_type": "markdown",
   "id": "c5acbf17-e814-4bce-85ee-e531188e38c9",
   "metadata": {},
   "source": [
    "The `ProgramSetQuantumTask` result returned after a successful job completion has different entries corresponding to the entries of the executed program set. Recall the structure of our `program_set_3`, for example, and let us examine `result_3`: \n",
    "![](./images/program_set_3.png)"
   ]
  },
  {
   "cell_type": "code",
   "execution_count": 17,
   "id": "08915a46-a7eb-4550-9b0a-659ef6bcef99",
   "metadata": {},
   "outputs": [
    {
     "name": "stdout",
     "output_type": "stream",
     "text": [
      "result_3 has 4 composite entries:\n",
      "   result_3[0] has 1 measured entries.\n",
      "   result_3[1] has 1 measured entries.\n",
      "   result_3[2] has 1 measured entries.\n",
      "   result_3[3] has 5 measured entries.\n"
     ]
    }
   ],
   "source": [
    "print(f\"result_3 has {len(result_3)} composite entries:\")\n",
    "for i in range(len(result_3)):\n",
    "    print(f\"   result_3[{i}] has {len(result_3[i])} measured entries.\")"
   ]
  },
  {
   "cell_type": "markdown",
   "id": "a18a6c90-127b-45ce-8563-d9891f857969",
   "metadata": {},
   "source": [
    "We may use our `print_program_set` utility function to inspect the results as well."
   ]
  },
  {
   "cell_type": "code",
   "execution_count": 18,
   "id": "d4367ea8-34a2-4476-869a-6bd14be3e225",
   "metadata": {},
   "outputs": [
    {
     "name": "stdout",
     "output_type": "stream",
     "text": [
      "circuit 0\n",
      "T  : │  0  │  1  │\n",
      "      ┌───┐       \n",
      "q0 : ─┤ H ├───●───\n",
      "      └───┘   │   \n",
      "            ┌─┴─┐ \n",
      "q1 : ───────┤ X ├─\n",
      "            └───┘ \n",
      "T  : │  0  │  1  │\n",
      "execution 0\n",
      "\tresult:  Counter({'00': 57, '11': 43})\n",
      "--------------------------------------------------------------------------------\n",
      "circuit 1\n",
      "T  : │     0      │  1  │\n",
      "      ┌──────────┐ ┌───┐ \n",
      "q0 : ─┤ Rx(0.79) ├─┤ X ├─\n",
      "      └──────────┘ └─┬─┘ \n",
      "      ┌──────────┐   │   \n",
      "q1 : ─┤ Ry(0.39) ├───●───\n",
      "      └──────────┘       \n",
      "T  : │     0      │  1  │\n",
      "execution 0\n",
      "\tresult:  Counter({'00': 93, '10': 5, '11': 1, '01': 1})\n",
      "--------------------------------------------------------------------------------\n",
      "circuit 2\n",
      "T  : │  0  │  1  │  2  │  3  │\n",
      "      ┌───┐       ┌───┐       \n",
      "q0 : ─┤ T ├───●───┤ S ├───────\n",
      "      └───┘   │   └───┘       \n",
      "      ┌───┐ ┌─┴─┐       ┌───┐ \n",
      "q1 : ─┤ T ├─┤ Z ├───●───┤ S ├─\n",
      "      └───┘ └───┘   │   └───┘ \n",
      "                  ┌─┴─┐ ┌───┐ \n",
      "q2 : ─────────────┤ Z ├─┤ S ├─\n",
      "                  └───┘ └───┘ \n",
      "T  : │  0  │  1  │  2  │  3  │\n",
      "execution 0\n",
      "\tresult:  Counter({'000': 100})\n",
      "--------------------------------------------------------------------------------\n",
      "circuit 3\n",
      "T  : │      0      │  1  │     2      │\n",
      "      ┌───────────┐                    \n",
      "q0 : ─┤ Rx(alpha) ├───●────────────────\n",
      "      └───────────┘   │                \n",
      "                    ┌─┴─┐ ┌──────────┐ \n",
      "q1 : ───────────────┤ X ├─┤ Ry(beta) ├─\n",
      "                    └───┘ └──────────┘ \n",
      "T  : │      0      │  1  │     2      │\n",
      "\n",
      "Unassigned parameters: [alpha, beta].\n",
      "execution 0\n",
      "\tinput_set: {'alpha': 0.1, 'beta': 1.01}\n",
      "\tresult:  Counter({'00': 79, '01': 21})\n",
      "execution 1\n",
      "\tinput_set: {'alpha': 0.11, 'beta': 1.01}\n",
      "\tresult:  Counter({'00': 84, '01': 16})\n",
      "execution 2\n",
      "\tinput_set: {'alpha': 0.22, 'beta': 1.03}\n",
      "\tresult:  Counter({'00': 77, '01': 23})\n",
      "execution 3\n",
      "\tinput_set: {'alpha': 0.34, 'beta': 1.04}\n",
      "\tresult:  Counter({'00': 74, '01': 25, '11': 1})\n",
      "execution 4\n",
      "\tinput_set: {'alpha': 0.45, 'beta': 1.04}\n",
      "\tresult:  Counter({'00': 73, '01': 25, '10': 1, '11': 1})\n",
      "--------------------------------------------------------------------------------\n",
      "Total executions: 8\n"
     ]
    }
   ],
   "source": [
    "print_program_set(program_set_3, result_3)"
   ]
  },
  {
   "cell_type": "markdown",
   "id": "4e85a894-e1d8-4e95-8ea0-30db9cad595e",
   "metadata": {},
   "source": [
    "### 2.2 Accessing individual counts"
   ]
  },
  {
   "cell_type": "markdown",
   "id": "15ad9306-1265-48ec-b10c-fee3ffa7a81a",
   "metadata": {},
   "source": [
    "To get a particular measurement counter, say, from **circuit 3, execution 2**, we need access it like this:"
   ]
  },
  {
   "cell_type": "code",
   "execution_count": 19,
   "id": "d75188f4-4e0b-445b-afec-83483601ab5c",
   "metadata": {},
   "outputs": [
    {
     "data": {
      "text/plain": [
       "Counter({'00': 77, '01': 23})"
      ]
     },
     "execution_count": 19,
     "metadata": {},
     "output_type": "execute_result"
    }
   ],
   "source": [
    "result_3[3][2].counts"
   ]
  },
  {
   "cell_type": "markdown",
   "id": "34da6871-e9aa-4b7f-b760-77153178d9c1",
   "metadata": {},
   "source": [
    "To extract all measurement counts, we need to iterate first through programs and second through executions:"
   ]
  },
  {
   "cell_type": "code",
   "execution_count": 20,
   "id": "80616cd2-80c4-42a1-a32e-98b48f174b85",
   "metadata": {},
   "outputs": [
    {
     "name": "stdout",
     "output_type": "stream",
     "text": [
      "Counter({'00': 57, '11': 43})\n",
      "Counter({'00': 93, '10': 5, '11': 1, '01': 1})\n",
      "Counter({'000': 100})\n",
      "Counter({'00': 79, '01': 21})\n",
      "Counter({'00': 84, '01': 16})\n",
      "Counter({'00': 77, '01': 23})\n",
      "Counter({'00': 74, '01': 25, '11': 1})\n",
      "Counter({'00': 73, '01': 25, '10': 1, '11': 1})\n"
     ]
    }
   ],
   "source": [
    "for program_result in result_3:\n",
    "    for execution_result in program_result:\n",
    "        print(execution_result.counts)"
   ]
  },
  {
   "cell_type": "markdown",
   "id": "c70dd5ec-3910-4fd5-9ded-12c5f7797698",
   "metadata": {},
   "source": [
    "**Note:** For \"product\" program sets, i.e. if both `input_sets` and `observables` keywords have been provided to the `CircuitBinding()` or `ProgramSet.product()` constructor (see Section 3), the corresponding result object will list the executions first indexed by `input_sets` and second by `observables`. See the example below."
   ]
  },
  {
   "cell_type": "code",
   "execution_count": 21,
   "id": "2ede2ec5-978c-434e-bd58-b03a50acf2ef",
   "metadata": {},
   "outputs": [
    {
     "name": "stdout",
     "output_type": "stream",
     "text": [
      "circuit 0\n",
      "T  : │      0      │  1  │     2      │\n",
      "      ┌───────────┐                    \n",
      "q0 : ─┤ Rx(alpha) ├───●────────────────\n",
      "      └───────────┘   │                \n",
      "                    ┌─┴─┐ ┌──────────┐ \n",
      "q1 : ───────────────┤ X ├─┤ Ry(beta) ├─\n",
      "                    └───┘ └──────────┘ \n",
      "T  : │      0      │  1  │     2      │\n",
      "\n",
      "Unassigned parameters: [alpha, beta].\n",
      "execution 0\n",
      "\tinput_set: {'alpha': 0.1, 'beta': 1.01}\n",
      "\tobservable: z(q[0]) @ z(q[1])\n",
      "\tresult:  Counter({'00': 73, '01': 27}), expectation: 0.46\n",
      "execution 1\n",
      "\tinput_set: {'alpha': 0.1, 'beta': 1.01}\n",
      "\tobservable: x(q[0]) @ x(q[1])\n",
      "\tresult:  Counter({'10': 51, '00': 44, '01': 4, '11': 1}), expectation: -0.1\n",
      "execution 2\n",
      "\tinput_set: {'alpha': 0.1, 'beta': 1.01}\n",
      "\tobservable: z(q[0]) @ x(q[1])\n",
      "\tresult:  Counter({'00': 90, '01': 9, '11': 1}), expectation: 0.82\n",
      "execution 3\n",
      "\tinput_set: {'alpha': 0.1, 'beta': 1.01}\n",
      "\tobservable: x(q[0]) @ z(q[1])\n",
      "\tresult:  Counter({'10': 39, '00': 39, '01': 13, '11': 9}), expectation: -0.04\n",
      "execution 4\n",
      "\tinput_set: {'alpha': 0.11, 'beta': 1.01}\n",
      "\tobservable: z(q[0]) @ z(q[1])\n",
      "\tresult:  Counter({'00': 76, '01': 24}), expectation: 0.52\n",
      "execution 5\n",
      "\tinput_set: {'alpha': 0.11, 'beta': 1.01}\n",
      "\tobservable: x(q[0]) @ x(q[1])\n",
      "\tresult:  Counter({'10': 49, '00': 45, '01': 4, '11': 2}), expectation: -0.06\n",
      "execution 6\n",
      "\tinput_set: {'alpha': 0.11, 'beta': 1.01}\n",
      "\tobservable: z(q[0]) @ x(q[1])\n",
      "\tresult:  Counter({'00': 91, '01': 9}), expectation: 0.82\n",
      "execution 7\n",
      "\tinput_set: {'alpha': 0.11, 'beta': 1.01}\n",
      "\tobservable: x(q[0]) @ z(q[1])\n",
      "\tresult:  Counter({'10': 37, '00': 37, '01': 15, '11': 11}), expectation: -0.04\n",
      "execution 8\n",
      "\tinput_set: {'alpha': 0.22, 'beta': 1.03}\n",
      "\tobservable: z(q[0]) @ z(q[1])\n",
      "\tresult:  Counter({'00': 73, '01': 27}), expectation: 0.46\n",
      "execution 9\n",
      "\tinput_set: {'alpha': 0.22, 'beta': 1.03}\n",
      "\tobservable: x(q[0]) @ x(q[1])\n",
      "\tresult:  Counter({'00': 46, '10': 43, '01': 9, '11': 2}), expectation: -0.04\n",
      "execution 10\n",
      "\tinput_set: {'alpha': 0.22, 'beta': 1.03}\n",
      "\tobservable: z(q[0]) @ x(q[1])\n",
      "\tresult:  Counter({'00': 88, '01': 10, '11': 2}), expectation: 0.8\n",
      "execution 11\n",
      "\tinput_set: {'alpha': 0.22, 'beta': 1.03}\n",
      "\tobservable: x(q[0]) @ z(q[1])\n",
      "\tresult:  Counter({'10': 42, '00': 32, '11': 18, '01': 8}), expectation: 0.0\n",
      "execution 12\n",
      "\tinput_set: {'alpha': 0.34, 'beta': 1.04}\n",
      "\tobservable: z(q[0]) @ z(q[1])\n",
      "\tresult:  Counter({'00': 78, '01': 21, '11': 1}), expectation: 0.58\n",
      "execution 13\n",
      "\tinput_set: {'alpha': 0.34, 'beta': 1.04}\n",
      "\tobservable: x(q[0]) @ x(q[1])\n",
      "\tresult:  Counter({'10': 51, '00': 42, '01': 5, '11': 2}), expectation: -0.12\n",
      "execution 14\n",
      "\tinput_set: {'alpha': 0.34, 'beta': 1.04}\n",
      "\tobservable: z(q[0]) @ x(q[1])\n",
      "\tresult:  Counter({'00': 91, '01': 8, '11': 1}), expectation: 0.84\n",
      "execution 15\n",
      "\tinput_set: {'alpha': 0.34, 'beta': 1.04}\n",
      "\tobservable: x(q[0]) @ z(q[1])\n",
      "\tresult:  Counter({'10': 46, '00': 32, '11': 14, '01': 8}), expectation: -0.08\n",
      "execution 16\n",
      "\tinput_set: {'alpha': 0.45, 'beta': 1.04}\n",
      "\tobservable: z(q[0]) @ z(q[1])\n",
      "\tresult:  Counter({'00': 72, '01': 25, '10': 2, '11': 1}), expectation: 0.46\n",
      "execution 17\n",
      "\tinput_set: {'alpha': 0.45, 'beta': 1.04}\n",
      "\tobservable: x(q[0]) @ x(q[1])\n",
      "\tresult:  Counter({'00': 48, '10': 43, '11': 5, '01': 4}), expectation: 0.06\n",
      "execution 18\n",
      "\tinput_set: {'alpha': 0.45, 'beta': 1.04}\n",
      "\tobservable: z(q[0]) @ x(q[1])\n",
      "\tresult:  Counter({'00': 83, '01': 9, '11': 6, '10': 2}), expectation: 0.78\n",
      "execution 19\n",
      "\tinput_set: {'alpha': 0.45, 'beta': 1.04}\n",
      "\tobservable: x(q[0]) @ z(q[1])\n",
      "\tresult:  Counter({'00': 36, '10': 29, '11': 19, '01': 16}), expectation: 0.1\n",
      "--------------------------------------------------------------------------------\n",
      "Total executions: 20\n"
     ]
    }
   ],
   "source": [
    "print_program_set(program_set_5, result_5)"
   ]
  },
  {
   "cell_type": "markdown",
   "id": "339ca291-7bac-427b-ab1b-f0105ac85a15",
   "metadata": {},
   "source": [
    "### 2.3 Accessing individual observable expectations"
   ]
  },
  {
   "cell_type": "markdown",
   "id": "5db55917-f0f2-4d16-9b90-6d5c107ac8e3",
   "metadata": {},
   "source": [
    "When observables are part of the program set specification, the expectation values for each execution is also computed."
   ]
  },
  {
   "cell_type": "markdown",
   "id": "831fb699-5e3b-4505-84a9-f86271f3959a",
   "metadata": {},
   "source": [
    "We can access a particular expectation value, say, from **circuit 0, execution 3** with the following syntax."
   ]
  },
  {
   "cell_type": "code",
   "execution_count": 22,
   "id": "cf07f85d-21c5-4726-a853-63719e8e5652",
   "metadata": {},
   "outputs": [
    {
     "data": {
      "text/plain": [
       "np.float64(-0.22)"
      ]
     },
     "execution_count": 22,
     "metadata": {},
     "output_type": "execute_result"
    }
   ],
   "source": [
    "result_4[0][3].expectation"
   ]
  },
  {
   "cell_type": "markdown",
   "id": "c9ecd6e2-d6ce-4ae1-897e-2531b560c170",
   "metadata": {},
   "source": [
    "**Note:** In the measurement-count results above, each bitstring, say $b_1 b_2=$ `\"10\"`, represents the measured (eigen)state that has an eigenvalue of $(-1)^{b_1}\\times(-1)^{b_2}=(-1)\\times(+1)=-1$. That is to say (when the individual Paulis of the observable are viewed as multi-qubit operators), an eigenvalue $(-1)^{b_1}=-1$ on the first Pauli of the observable and eigenvalue $(-1)^{b_2}=+1$ on the second Pauli of the observable. Thus, the expectation can be computed from the counts using the following formula."
   ]
  },
  {
   "cell_type": "code",
   "execution_count": 23,
   "id": "77d1241d-64a4-434f-93cc-7d144a77c4f2",
   "metadata": {
    "scrolled": true
   },
   "outputs": [
    {
     "data": {
      "text/plain": [
       "-0.22"
      ]
     },
     "execution_count": 23,
     "metadata": {},
     "output_type": "execute_result"
    }
   ],
   "source": [
    "from collections import Counter\n",
    "\n",
    "\n",
    "def compute_expectation(counts):\n",
    "    ev = 0\n",
    "    for bitstring, count in counts.items():\n",
    "        ones = Counter(bitstring)[\"1\"]\n",
    "        ev += (-1)**(ones % 2) * count\n",
    "    ev /= float(sum(counts.values()))\n",
    "    return ev\n",
    "\n",
    "compute_expectation(result_4[0][3].counts)"
   ]
  },
  {
   "cell_type": "markdown",
   "id": "f892c981-7206-4d73-8090-fd9c3635d182",
   "metadata": {},
   "source": [
    "---\n",
    "\n",
    "## 3. More ways to specify a program set"
   ]
  },
  {
   "cell_type": "markdown",
   "id": "fedaea69-deb6-48b5-8dce-5ad308ab5976",
   "metadata": {},
   "source": [
    "### 3.1 Sum of observables"
   ]
  },
  {
   "cell_type": "markdown",
   "id": "b2e52173-b4c5-4ece-80d8-6a1a7458a910",
   "metadata": {},
   "source": [
    "Instead of passing a manually constructed list of observables (as in Section 1 above), we may create a composite observable by linearly combining a list of Pauli strings. We do this, for example, when constructing a Hamiltonian for quantum chemistry computations."
   ]
  },
  {
   "cell_type": "code",
   "execution_count": 24,
   "id": "1b57f3a7-d593-4f95-a3b8-7b4c7261e6f0",
   "metadata": {},
   "outputs": [],
   "source": [
    "hamiltonian = 0.1 * Z(0)@Z(1) + (-5.0) * X(0)@X(1)"
   ]
  },
  {
   "cell_type": "markdown",
   "id": "ed8ae8f4-d3c2-4f8f-9902-ce5e55267a0d",
   "metadata": {},
   "source": [
    "The resulting observable can be used to create a program set using the `CircuitBinding` class. Each term in this sum observable will have its own dedicated execution."
   ]
  },
  {
   "cell_type": "markdown",
   "id": "fc173d66-2018-42b5-849e-d7e34c77bc5e",
   "metadata": {},
   "source": [
    "![](./images/program_set_6.png)"
   ]
  },
  {
   "cell_type": "code",
   "execution_count": 25,
   "id": "71e84c36-b081-4ad3-8b36-0a974c212732",
   "metadata": {},
   "outputs": [
    {
     "name": "stdout",
     "output_type": "stream",
     "text": [
      "circuit 0\n",
      "T  : │  0  │  1  │\n",
      "      ┌───┐       \n",
      "q0 : ─┤ H ├───●───\n",
      "      └───┘   │   \n",
      "            ┌─┴─┐ \n",
      "q1 : ───────┤ X ├─\n",
      "            └───┘ \n",
      "T  : │  0  │  1  │\n",
      "execution 0\n",
      "\tobservable: 0.1 * z(q[0]) @ z(q[1])\n",
      "execution 1\n",
      "\tobservable: -5.0 * x(q[0]) @ x(q[1])\n",
      "sum observable: 0.1 * z(q[0]) @ z(q[1]) - 5.0 * x(q[0]) @ x(q[1])\n",
      "\n",
      "--------------------------------------------------------------------------------\n",
      "Total executions: 2\n"
     ]
    }
   ],
   "source": [
    "program_set_6 = ProgramSet(\n",
    "    CircuitBinding(\n",
    "        circuit=Circuit().h(0).cnot(0,1),\n",
    "        observables=hamiltonian,\n",
    "    )\n",
    ")\n",
    "print_program_set(program_set_6)"
   ]
  },
  {
   "cell_type": "markdown",
   "id": "5883a969-032a-4467-9460-516846869cf3",
   "metadata": {},
   "source": [
    "**Note** Once run, the corresponding program set result object facilitates computing the expectation value of the sum observable with `expectation()` method of the program result. Individual observable expectations can be accessed the `expectation` field of the individual executables."
   ]
  },
  {
   "cell_type": "code",
   "execution_count": 26,
   "id": "ce3ef45b-5a7c-4181-92c8-6b7e7ae7f33a",
   "metadata": {},
   "outputs": [
    {
     "name": "stdout",
     "output_type": "stream",
     "text": [
      "Hamitlonian expectation value: -4.90\n",
      "Individual term expectations: 0.10, -5.00\n"
     ]
    }
   ],
   "source": [
    "result_set_6 = device.run(program_set_6, shots=program_set_6.total_executables*100).result()\n",
    "print(f\"Hamitlonian expectation value: {result_set_6[0].expectation():.2f}\")\n",
    "print(f\"Individual term expectations: {result_set_6[0][0].expectation:.2f}, {result_set_6[0][1].expectation:.2f}\")"
   ]
  },
  {
   "cell_type": "markdown",
   "id": "f61b1c97-47fd-440e-8589-74c00b8fc3c5",
   "metadata": {},
   "source": [
    "**Note** When a sum observable is provided to a program with many inputs, an all-to-all mapping is done akin to our `problem_set_5` example. They will still be in a single program entry in the program set. In this case, we can access the expectation values of the sum Hamiltonian on the individual states by providing an index to the `CompositeEntry.expectation(...)` call."
   ]
  },
  {
   "cell_type": "code",
   "execution_count": 27,
   "id": "632c95f1-afb1-45c0-9bea-cbf2cf76b52c",
   "metadata": {},
   "outputs": [
    {
     "name": "stdout",
     "output_type": "stream",
     "text": [
      "circuit 0\n",
      "T  : │      0      │  1  │     2      │\n",
      "      ┌───────────┐                    \n",
      "q0 : ─┤ Rx(alpha) ├───●────────────────\n",
      "      └───────────┘   │                \n",
      "                    ┌─┴─┐ ┌──────────┐ \n",
      "q1 : ───────────────┤ X ├─┤ Ry(beta) ├─\n",
      "                    └───┘ └──────────┘ \n",
      "T  : │      0      │  1  │     2      │\n",
      "\n",
      "Unassigned parameters: [alpha, beta].\n",
      "execution 0\n",
      "\tinput_set: {'alpha': 0.1, 'beta': 1.01}\n",
      "\tobservable: 0.1 * z(q[0]) @ z(q[1])\n",
      "execution 1\n",
      "\tinput_set: {'alpha': 0.1, 'beta': 1.01}\n",
      "\tobservable: -5.0 * x(q[0]) @ x(q[1])\n",
      "execution 2\n",
      "\tinput_set: {'alpha': 0.11, 'beta': 1.01}\n",
      "\tobservable: 0.1 * z(q[0]) @ z(q[1])\n",
      "execution 3\n",
      "\tinput_set: {'alpha': 0.11, 'beta': 1.01}\n",
      "\tobservable: -5.0 * x(q[0]) @ x(q[1])\n",
      "execution 4\n",
      "\tinput_set: {'alpha': 0.22, 'beta': 1.03}\n",
      "\tobservable: 0.1 * z(q[0]) @ z(q[1])\n",
      "execution 5\n",
      "\tinput_set: {'alpha': 0.22, 'beta': 1.03}\n",
      "\tobservable: -5.0 * x(q[0]) @ x(q[1])\n",
      "execution 6\n",
      "\tinput_set: {'alpha': 0.34, 'beta': 1.04}\n",
      "\tobservable: 0.1 * z(q[0]) @ z(q[1])\n",
      "execution 7\n",
      "\tinput_set: {'alpha': 0.34, 'beta': 1.04}\n",
      "\tobservable: -5.0 * x(q[0]) @ x(q[1])\n",
      "execution 8\n",
      "\tinput_set: {'alpha': 0.45, 'beta': 1.04}\n",
      "\tobservable: 0.1 * z(q[0]) @ z(q[1])\n",
      "execution 9\n",
      "\tinput_set: {'alpha': 0.45, 'beta': 1.04}\n",
      "\tobservable: -5.0 * x(q[0]) @ x(q[1])\n",
      "sum observable: 0.1 * z(q[0]) @ z(q[1]) - 5.0 * x(q[0]) @ x(q[1])\n",
      "\n",
      "--------------------------------------------------------------------------------\n",
      "Total executions: 10\n"
     ]
    }
   ],
   "source": [
    "program_set_6a = ProgramSet(\n",
    "    CircuitBinding(\n",
    "        circuit=program_set_2.entries[0].circuit,\n",
    "        input_sets=program_set_2.entries[0].input_sets,\n",
    "        observables=hamiltonian\n",
    "    )\n",
    ")\n",
    "print_program_set(program_set_6a)"
   ]
  },
  {
   "cell_type": "code",
   "execution_count": 28,
   "id": "a79bc777-f3c6-45e0-9b21-a5ce8d661fd2",
   "metadata": {},
   "outputs": [
    {
     "name": "stdout",
     "output_type": "stream",
     "text": [
      "Hamiltonian expectation value for the third (idx=2) input state: 0.16\n",
      "Individual term expectations for the third (idx=2) input state: 0.06, 0.10\n"
     ]
    }
   ],
   "source": [
    "result_set_6a = device.run(program_set_6a, shots=program_set_6a.total_executables*100).result()\n",
    "\n",
    "print(f\"Hamiltonian expectation value for the third (idx=2) input state: {result_set_6a[0].expectation(2):.2f}\")\n",
    "print(f\"Individual term expectations for the third (idx=2) input state: {result_set_6a[0][4].expectation:.2f}, {result_set_6a[0][5].expectation:.2f}\")"
   ]
  },
  {
   "cell_type": "markdown",
   "id": "219f5399-61d3-44e0-a1c0-e859e3eff401",
   "metadata": {},
   "source": [
    "### 3.2 Combining many circuits & many observables (all-to-all)"
   ]
  },
  {
   "cell_type": "markdown",
   "id": "069c3fb5-d813-4835-b6b0-704b6cf02e2d",
   "metadata": {},
   "source": [
    "A common pattern of quantum computing is needing to evaluate a large number of observables. When this is needed on a single (parametrized) circuit, `CircuitBinding` can be used directly to construct the program set (see section 1.3).\n",
    "\n",
    "To prescribe the evaluation of many observables on many circuits in an all-to-all fashion, one can use the `.product()` method of the `ProgramSet` class."
   ]
  },
  {
   "cell_type": "markdown",
   "id": "51bd3b24-8115-45b3-a271-330b08e107a7",
   "metadata": {},
   "source": [
    "![](./images/program_set_7.png)"
   ]
  },
  {
   "cell_type": "code",
   "execution_count": 29,
   "id": "c69ef824-b0a9-47db-ac95-58cfb741d976",
   "metadata": {},
   "outputs": [
    {
     "name": "stdout",
     "output_type": "stream",
     "text": [
      "circuit 0\n",
      "T  : │  0  │  1  │\n",
      "      ┌───┐       \n",
      "q0 : ─┤ H ├───●───\n",
      "      └───┘   │   \n",
      "            ┌─┴─┐ \n",
      "q1 : ───────┤ X ├─\n",
      "            └───┘ \n",
      "T  : │  0  │  1  │\n",
      "execution 0\n",
      "\tobservable: z(q[0]) @ z(q[1])\n",
      "execution 1\n",
      "\tobservable: x(q[0]) @ x(q[1])\n",
      "execution 2\n",
      "\tobservable: z(q[0]) @ x(q[1])\n",
      "execution 3\n",
      "\tobservable: x(q[0]) @ z(q[1])\n",
      "--------------------------------------------------------------------------------\n",
      "circuit 1\n",
      "T  : │     0      │  1  │\n",
      "      ┌──────────┐ ┌───┐ \n",
      "q0 : ─┤ Rx(0.79) ├─┤ X ├─\n",
      "      └──────────┘ └─┬─┘ \n",
      "      ┌──────────┐   │   \n",
      "q1 : ─┤ Ry(0.39) ├───●───\n",
      "      └──────────┘       \n",
      "T  : │     0      │  1  │\n",
      "execution 0\n",
      "\tobservable: z(q[0]) @ z(q[1])\n",
      "execution 1\n",
      "\tobservable: x(q[0]) @ x(q[1])\n",
      "execution 2\n",
      "\tobservable: z(q[0]) @ x(q[1])\n",
      "execution 3\n",
      "\tobservable: x(q[0]) @ z(q[1])\n",
      "--------------------------------------------------------------------------------\n",
      "circuit 2\n",
      "T  : │      0      │  1  │     2      │\n",
      "      ┌───────────┐                    \n",
      "q0 : ─┤ Rx(alpha) ├───●────────────────\n",
      "      └───────────┘   │                \n",
      "                    ┌─┴─┐ ┌──────────┐ \n",
      "q1 : ───────────────┤ X ├─┤ Ry(beta) ├─\n",
      "                    └───┘ └──────────┘ \n",
      "T  : │      0      │  1  │     2      │\n",
      "\n",
      "Unassigned parameters: [alpha, beta].\n",
      "execution 0\n",
      "\tinput_set: {'alpha': 0.1, 'beta': 1.01}\n",
      "\tobservable: z(q[0]) @ z(q[1])\n",
      "execution 1\n",
      "\tinput_set: {'alpha': 0.1, 'beta': 1.01}\n",
      "\tobservable: x(q[0]) @ x(q[1])\n",
      "execution 2\n",
      "\tinput_set: {'alpha': 0.1, 'beta': 1.01}\n",
      "\tobservable: z(q[0]) @ x(q[1])\n",
      "execution 3\n",
      "\tinput_set: {'alpha': 0.1, 'beta': 1.01}\n",
      "\tobservable: x(q[0]) @ z(q[1])\n",
      "execution 4\n",
      "\tinput_set: {'alpha': 0.11, 'beta': 1.01}\n",
      "\tobservable: z(q[0]) @ z(q[1])\n",
      "execution 5\n",
      "\tinput_set: {'alpha': 0.11, 'beta': 1.01}\n",
      "\tobservable: x(q[0]) @ x(q[1])\n",
      "execution 6\n",
      "\tinput_set: {'alpha': 0.11, 'beta': 1.01}\n",
      "\tobservable: z(q[0]) @ x(q[1])\n",
      "execution 7\n",
      "\tinput_set: {'alpha': 0.11, 'beta': 1.01}\n",
      "\tobservable: x(q[0]) @ z(q[1])\n",
      "execution 8\n",
      "\tinput_set: {'alpha': 0.22, 'beta': 1.03}\n",
      "\tobservable: z(q[0]) @ z(q[1])\n",
      "execution 9\n",
      "\tinput_set: {'alpha': 0.22, 'beta': 1.03}\n",
      "\tobservable: x(q[0]) @ x(q[1])\n",
      "execution 10\n",
      "\tinput_set: {'alpha': 0.22, 'beta': 1.03}\n",
      "\tobservable: z(q[0]) @ x(q[1])\n",
      "execution 11\n",
      "\tinput_set: {'alpha': 0.22, 'beta': 1.03}\n",
      "\tobservable: x(q[0]) @ z(q[1])\n",
      "execution 12\n",
      "\tinput_set: {'alpha': 0.34, 'beta': 1.04}\n",
      "\tobservable: z(q[0]) @ z(q[1])\n",
      "execution 13\n",
      "\tinput_set: {'alpha': 0.34, 'beta': 1.04}\n",
      "\tobservable: x(q[0]) @ x(q[1])\n",
      "execution 14\n",
      "\tinput_set: {'alpha': 0.34, 'beta': 1.04}\n",
      "\tobservable: z(q[0]) @ x(q[1])\n",
      "execution 15\n",
      "\tinput_set: {'alpha': 0.34, 'beta': 1.04}\n",
      "\tobservable: x(q[0]) @ z(q[1])\n",
      "execution 16\n",
      "\tinput_set: {'alpha': 0.45, 'beta': 1.04}\n",
      "\tobservable: z(q[0]) @ z(q[1])\n",
      "execution 17\n",
      "\tinput_set: {'alpha': 0.45, 'beta': 1.04}\n",
      "\tobservable: x(q[0]) @ x(q[1])\n",
      "execution 18\n",
      "\tinput_set: {'alpha': 0.45, 'beta': 1.04}\n",
      "\tobservable: z(q[0]) @ x(q[1])\n",
      "execution 19\n",
      "\tinput_set: {'alpha': 0.45, 'beta': 1.04}\n",
      "\tobservable: x(q[0]) @ z(q[1])\n",
      "--------------------------------------------------------------------------------\n",
      "Total executions: 28\n"
     ]
    }
   ],
   "source": [
    "program_set_7 = ProgramSet.product(\n",
    "    circuits=[\n",
    "        Circuit().h(0).cnot(0,1),\n",
    "        Circuit().rx(0, pi/4).ry(1, pi/8).cnot(1,0),\n",
    "        CircuitBinding(\n",
    "            circuit=parametrized_circuit, \n",
    "            input_sets={\n",
    "                'alpha': (0.10, 0.11, 0.22, 0.34, 0.45),\n",
    "                'beta': (1.01, 1.01, 1.03, 1.04, 1.04),\n",
    "            })\n",
    "    ],\n",
    "    observables=(\n",
    "        Z(0) @ Z(1), \n",
    "        X(0) @ X(1), \n",
    "        Z(0) @ X(1), \n",
    "        X(0) @ Z(1),\n",
    "    )\n",
    ")\n",
    "print_program_set(program_set_7)"
   ]
  },
  {
   "cell_type": "markdown",
   "id": "f1023e71-476e-473a-9a82-2ddf3857f481",
   "metadata": {},
   "source": [
    "### 3.3 Distributing input and observable settings over a list of circuits (one-to-one)"
   ]
  },
  {
   "cell_type": "markdown",
   "id": "7b62b7fa-3ce3-4cb6-b609-be2a20992068",
   "metadata": {},
   "source": [
    "**Option 1:** Using its `.zip()` method, a program set can be created by mixing different circuits, input sets, and observables. The lengths of all three need to match, and the resulting program set will have the that number of executables."
   ]
  },
  {
   "cell_type": "markdown",
   "id": "ba8b0b06-1eec-4ffa-9408-b873cc41a53e",
   "metadata": {},
   "source": [
    "![](./images/program_set_8.png)"
   ]
  },
  {
   "cell_type": "code",
   "execution_count": 30,
   "id": "91553d56-9e85-46d2-a73e-6e9d654e9847",
   "metadata": {},
   "outputs": [
    {
     "name": "stdout",
     "output_type": "stream",
     "text": [
      "circuit 0\n",
      "T  : │  0  │  1  │\n",
      "      ┌───┐       \n",
      "q0 : ─┤ H ├───●───\n",
      "      └───┘   │   \n",
      "            ┌─┴─┐ \n",
      "q1 : ───────┤ X ├─\n",
      "            └───┘ \n",
      "T  : │  0  │  1  │\n",
      "execution 0\n",
      "\tobservable: z(q[0]) @ z(q[1])\n",
      "--------------------------------------------------------------------------------\n",
      "circuit 1\n",
      "T  : │     0      │  1  │\n",
      "      ┌──────────┐ ┌───┐ \n",
      "q0 : ─┤ Rx(0.79) ├─┤ X ├─\n",
      "      └──────────┘ └─┬─┘ \n",
      "      ┌──────────┐   │   \n",
      "q1 : ─┤ Ry(0.39) ├───●───\n",
      "      └──────────┘       \n",
      "T  : │     0      │  1  │\n",
      "execution 0\n",
      "\tobservable: z(q[0]) @ z(q[1])\n",
      "--------------------------------------------------------------------------------\n",
      "circuit 2\n",
      "T  : │      0      │  1  │     2      │\n",
      "      ┌───────────┐                    \n",
      "q0 : ─┤ Rx(alpha) ├───●────────────────\n",
      "      └───────────┘   │                \n",
      "                    ┌─┴─┐ ┌──────────┐ \n",
      "q1 : ───────────────┤ X ├─┤ Ry(beta) ├─\n",
      "                    └───┘ └──────────┘ \n",
      "T  : │      0      │  1  │     2      │\n",
      "\n",
      "Unassigned parameters: [alpha, beta].\n",
      "execution 0\n",
      "\tinput_set: {'alpha': 0.1, 'beta': 1.01}\n",
      "\tobservable: z(q[0]) @ z(q[1])\n",
      "--------------------------------------------------------------------------------\n",
      "circuit 3\n",
      "T  : │      0      │  1  │     2      │\n",
      "      ┌───────────┐                    \n",
      "q0 : ─┤ Rx(alpha) ├───●────────────────\n",
      "      └───────────┘   │                \n",
      "                    ┌─┴─┐ ┌──────────┐ \n",
      "q1 : ───────────────┤ X ├─┤ Ry(beta) ├─\n",
      "                    └───┘ └──────────┘ \n",
      "T  : │      0      │  1  │     2      │\n",
      "\n",
      "Unassigned parameters: [alpha, beta].\n",
      "execution 0\n",
      "\tinput_set: {'alpha': 0.11, 'beta': 1.01}\n",
      "\tobservable: x(q[0]) @ x(q[1])\n",
      "--------------------------------------------------------------------------------\n",
      "circuit 4\n",
      "T  : │      0      │  1  │     2      │\n",
      "      ┌───────────┐                    \n",
      "q0 : ─┤ Rx(alpha) ├───●────────────────\n",
      "      └───────────┘   │                \n",
      "                    ┌─┴─┐ ┌──────────┐ \n",
      "q1 : ───────────────┤ X ├─┤ Ry(beta) ├─\n",
      "                    └───┘ └──────────┘ \n",
      "T  : │      0      │  1  │     2      │\n",
      "\n",
      "Unassigned parameters: [alpha, beta].\n",
      "execution 0\n",
      "\tinput_set: {'alpha': 0.22, 'beta': 1.03}\n",
      "\tobservable: z(q[0]) @ x(q[1])\n",
      "--------------------------------------------------------------------------------\n",
      "circuit 5\n",
      "T  : │      0      │  1  │     2      │\n",
      "      ┌───────────┐                    \n",
      "q0 : ─┤ Rx(alpha) ├───●────────────────\n",
      "      └───────────┘   │                \n",
      "                    ┌─┴─┐ ┌──────────┐ \n",
      "q1 : ───────────────┤ X ├─┤ Ry(beta) ├─\n",
      "                    └───┘ └──────────┘ \n",
      "T  : │      0      │  1  │     2      │\n",
      "\n",
      "Unassigned parameters: [alpha, beta].\n",
      "execution 0\n",
      "\tinput_set: {'alpha': 0.34, 'beta': 1.04}\n",
      "\tobservable: x(q[0]) @ z(q[1])\n",
      "--------------------------------------------------------------------------------\n",
      "circuit 6\n",
      "T  : │      0      │  1  │     2      │\n",
      "      ┌───────────┐                    \n",
      "q0 : ─┤ Rx(alpha) ├───●────────────────\n",
      "      └───────────┘   │                \n",
      "                    ┌─┴─┐ ┌──────────┐ \n",
      "q1 : ───────────────┤ X ├─┤ Ry(beta) ├─\n",
      "                    └───┘ └──────────┘ \n",
      "T  : │      0      │  1  │     2      │\n",
      "\n",
      "Unassigned parameters: [alpha, beta].\n",
      "execution 0\n",
      "\tinput_set: {'alpha': 0.45, 'beta': 1.04}\n",
      "\tobservable: i(q[0]) @ y(q[1])\n",
      "--------------------------------------------------------------------------------\n",
      "Total executions: 7\n"
     ]
    }
   ],
   "source": [
    "program_set_8 = ProgramSet.zip(\n",
    "    circuits=[\n",
    "        Circuit().h(0).cnot(0,1),\n",
    "        Circuit().rx(0, pi/4).ry(1, pi/8).cnot(1,0),\n",
    "        Circuit().rx(0, alpha).cnot(0,1).ry(1, beta),\n",
    "        Circuit().rx(0, alpha).cnot(0,1).ry(1, beta),\n",
    "        Circuit().rx(0, alpha).cnot(0,1).ry(1, beta),\n",
    "        Circuit().rx(0, alpha).cnot(0,1).ry(1, beta),\n",
    "        Circuit().rx(0, alpha).cnot(0,1).ry(1, beta),\n",
    "    ],\n",
    "    input_sets=[\n",
    "        {},\n",
    "        {},\n",
    "        {'alpha': 0.10, 'beta': 1.01},\n",
    "        {'alpha': 0.11, 'beta': 1.01},\n",
    "        {'alpha': 0.22, 'beta': 1.03},\n",
    "        {'alpha': 0.34, 'beta': 1.04},\n",
    "        {'alpha': 0.45, 'beta': 1.04},\n",
    "    ],\n",
    "    observables=[\n",
    "        Z(0) @ Z(1), \n",
    "        Z(0) @ Z(1), \n",
    "        Z(0) @ Z(1), \n",
    "        X(0) @ X(1), \n",
    "        Z(0) @ X(1), \n",
    "        X(0) @ Z(1),\n",
    "        I(0) @ Y(1),\n",
    "        \n",
    "    ]\n",
    ")\n",
    "\n",
    "print_program_set(program_set_8)"
   ]
  },
  {
   "cell_type": "markdown",
   "id": "11abccb9-ac16-4d02-9ded-69c53fb1a0d8",
   "metadata": {},
   "source": [
    "**Option 2:** Using the `.zip()` method, a single `CircuitBinding` object (which represents a single parametrized circuit and its parameter values) can be mapped to a list of observables. Similar to Option 1 above, this one-to-one mapping requires that the number of parameter settings in the `CircuitBinding` object is the same and the number of observables, and the resulting program set will have that number of executions."
   ]
  },
  {
   "cell_type": "markdown",
   "id": "b6d86d70-c67a-42e0-806f-462200f7c006",
   "metadata": {},
   "source": [
    "![](./images/program_set_9.png)"
   ]
  },
  {
   "cell_type": "code",
   "execution_count": 31,
   "id": "fc5d9417-fcdb-4c71-b486-5d4d43679923",
   "metadata": {},
   "outputs": [
    {
     "name": "stdout",
     "output_type": "stream",
     "text": [
      "circuit 0\n",
      "T  : │      0      │  1  │     2      │\n",
      "      ┌───────────┐                    \n",
      "q0 : ─┤ Rx(alpha) ├───●────────────────\n",
      "      └───────────┘   │                \n",
      "                    ┌─┴─┐ ┌──────────┐ \n",
      "q1 : ───────────────┤ X ├─┤ Ry(beta) ├─\n",
      "                    └───┘ └──────────┘ \n",
      "T  : │      0      │  1  │     2      │\n",
      "\n",
      "Unassigned parameters: [alpha, beta].\n",
      "execution 0\n",
      "\tinput_set: {'alpha': 0.1, 'beta': 1.01}\n",
      "\tobservable: z(q[0]) @ z(q[1])\n",
      "--------------------------------------------------------------------------------\n",
      "circuit 1\n",
      "T  : │      0      │  1  │     2      │\n",
      "      ┌───────────┐                    \n",
      "q0 : ─┤ Rx(alpha) ├───●────────────────\n",
      "      └───────────┘   │                \n",
      "                    ┌─┴─┐ ┌──────────┐ \n",
      "q1 : ───────────────┤ X ├─┤ Ry(beta) ├─\n",
      "                    └───┘ └──────────┘ \n",
      "T  : │      0      │  1  │     2      │\n",
      "\n",
      "Unassigned parameters: [alpha, beta].\n",
      "execution 0\n",
      "\tinput_set: {'alpha': 0.11, 'beta': 1.01}\n",
      "\tobservable: x(q[0]) @ x(q[1])\n",
      "--------------------------------------------------------------------------------\n",
      "circuit 2\n",
      "T  : │      0      │  1  │     2      │\n",
      "      ┌───────────┐                    \n",
      "q0 : ─┤ Rx(alpha) ├───●────────────────\n",
      "      └───────────┘   │                \n",
      "                    ┌─┴─┐ ┌──────────┐ \n",
      "q1 : ───────────────┤ X ├─┤ Ry(beta) ├─\n",
      "                    └───┘ └──────────┘ \n",
      "T  : │      0      │  1  │     2      │\n",
      "\n",
      "Unassigned parameters: [alpha, beta].\n",
      "execution 0\n",
      "\tinput_set: {'alpha': 0.22, 'beta': 1.03}\n",
      "\tobservable: z(q[0]) @ x(q[1])\n",
      "--------------------------------------------------------------------------------\n",
      "circuit 3\n",
      "T  : │      0      │  1  │     2      │\n",
      "      ┌───────────┐                    \n",
      "q0 : ─┤ Rx(alpha) ├───●────────────────\n",
      "      └───────────┘   │                \n",
      "                    ┌─┴─┐ ┌──────────┐ \n",
      "q1 : ───────────────┤ X ├─┤ Ry(beta) ├─\n",
      "                    └───┘ └──────────┘ \n",
      "T  : │      0      │  1  │     2      │\n",
      "\n",
      "Unassigned parameters: [alpha, beta].\n",
      "execution 0\n",
      "\tinput_set: {'alpha': 0.34, 'beta': 1.04}\n",
      "\tobservable: x(q[0]) @ z(q[1])\n",
      "--------------------------------------------------------------------------------\n",
      "circuit 4\n",
      "T  : │      0      │  1  │     2      │\n",
      "      ┌───────────┐                    \n",
      "q0 : ─┤ Rx(alpha) ├───●────────────────\n",
      "      └───────────┘   │                \n",
      "                    ┌─┴─┐ ┌──────────┐ \n",
      "q1 : ───────────────┤ X ├─┤ Ry(beta) ├─\n",
      "                    └───┘ └──────────┘ \n",
      "T  : │      0      │  1  │     2      │\n",
      "\n",
      "Unassigned parameters: [alpha, beta].\n",
      "execution 0\n",
      "\tinput_set: {'alpha': 0.45, 'beta': 1.04}\n",
      "\tobservable: i(q[0]) @ y(q[1])\n",
      "--------------------------------------------------------------------------------\n",
      "Total executions: 5\n"
     ]
    }
   ],
   "source": [
    "program_set_9 = ProgramSet.zip(\n",
    "    circuits=CircuitBinding(\n",
    "        circuit=parametrized_circuit, \n",
    "        input_sets={\n",
    "            'alpha': (0.10, 0.11, 0.22, 0.34, 0.45),\n",
    "            'beta': (1.01, 1.01, 1.03, 1.04, 1.04),\n",
    "        }\n",
    "    ),\n",
    "    observables=[\n",
    "        Z(0) @ Z(1), \n",
    "        X(0) @ X(1), \n",
    "        Z(0) @ X(1), \n",
    "        X(0) @ Z(1),\n",
    "        I(0) @ Y(1)\n",
    "    ]\n",
    ")\n",
    "print_program_set(program_set_9)"
   ]
  },
  {
   "cell_type": "markdown",
   "id": "f9d2bd12-246f-4445-b597-5a23c66b9693",
   "metadata": {},
   "source": [
    "---\n",
    "## 4. Running on a Braket QPU"
   ]
  },
  {
   "cell_type": "markdown",
   "id": "f2a5224a-424f-445e-9e14-f1ed3d831655",
   "metadata": {},
   "source": [
    "### 4.1. Submitting a task and obtaining the result"
   ]
  },
  {
   "cell_type": "markdown",
   "id": "5bf74f3e-1b5f-4186-bdab-46bffb2e7f70",
   "metadata": {},
   "source": [
    "We can run program sets on Braket devices the same way we used the `LocalSimulator`."
   ]
  },
  {
   "cell_type": "code",
   "execution_count": 32,
   "id": "09d6f627-78e2-45ca-8fc3-b9bf6b246c8c",
   "metadata": {},
   "outputs": [
    {
     "name": "stdout",
     "output_type": "stream",
     "text": [
      "7d1f1d5f-95d2-41ce-8767-c1edf14e6d95\n"
     ]
    }
   ],
   "source": [
    "#from braket.devices import Devices\n",
    "\n",
    "# Uncomment the one line below to select a QPU\n",
    "device = LocalSimulator()\n",
    "# device = AwsDevice(Devices.IQM.Garnet)\n",
    "# device = AwsDevice(Devices.IQM.Emerald)\n",
    "# device = AwsDevice(Devices.Rigetti.Ankaa3)\n",
    "\n",
    "aws_task_2 = device.run(program_set_2, shots=program_set_2.total_executables * 100)\n",
    "print(aws_task_2.id)"
   ]
  },
  {
   "cell_type": "markdown",
   "id": "0722b1ad-9543-4b35-b7e0-b0eb8e8b9775",
   "metadata": {},
   "source": [
    "These tasks stand in queue, and will complete after some time. We can pick up the thread from here using the quantum task ARN to instantiate the `AwsQuantumTask` object once again.\n",
    "```python\n",
    "from braket.aws import AwsQuantumTask\n",
    "\n",
    "# Below we specify the region and AWS account number where the tasks are run\n",
    "REGION = 'us-east-1'\n",
    "ACCOUNT_ID = '000000000000' #<-- Replace with your 12-digit AWS account number\n",
    "\n",
    "aws_task_2 = AwsQuantumTask(f\"arn:aws:braket:{REGION}:{ACCOUNT_ID}:quantum-task/{aws_task_2.id}\"\n",
    "```"
   ]
  },
  {
   "cell_type": "markdown",
   "id": "7931ac7f-1c1a-4630-ae6d-6382d46de963",
   "metadata": {},
   "source": [
    "Periodically checking their status will allow us to see when they are all completed."
   ]
  },
  {
   "cell_type": "code",
   "execution_count": 33,
   "id": "86c3d5f3-704c-44e9-9e3e-6a1bc4d360b8",
   "metadata": {},
   "outputs": [
    {
     "data": {
      "text/plain": [
       "'COMPLETED'"
      ]
     },
     "execution_count": 33,
     "metadata": {},
     "output_type": "execute_result"
    }
   ],
   "source": [
    "aws_task_2.state()"
   ]
  },
  {
   "cell_type": "markdown",
   "id": "a2805798-0fe3-4e2c-99fc-fbe16e569622",
   "metadata": {},
   "source": [
    "Once all tasks are completed, we retrieve their results."
   ]
  },
  {
   "cell_type": "code",
   "execution_count": 34,
   "id": "97561e50-5426-4d14-91aa-ab6999049ab0",
   "metadata": {},
   "outputs": [],
   "source": [
    "aws_result_2 = aws_task_2.result()"
   ]
  },
  {
   "cell_type": "markdown",
   "id": "22041371-ee3e-481a-a511-58fbd080c833",
   "metadata": {},
   "source": [
    "### 4.2 Inspecting the results"
   ]
  },
  {
   "cell_type": "markdown",
   "id": "c283e8eb-31d9-4874-89e8-b4bc291f3728",
   "metadata": {},
   "source": [
    "In Section 2 we discussed the structure of the `ProgramSetQuantumTaskResult` object containing the results after running a program set and showed how to obtain measurement counts and expectation values. Here we will highlight some other fields of the result instance that help analyzing the task outcome."
   ]
  },
  {
   "cell_type": "markdown",
   "id": "5c8ca43b-8a90-470f-ae4c-f3e24c79ee3e",
   "metadata": {},
   "source": [
    "Among other things, the **metadata** in a program set result contains information about the total number of shots."
   ]
  },
  {
   "cell_type": "code",
   "execution_count": 35,
   "id": "ae81751d-6457-4bde-ad78-20be067095a9",
   "metadata": {},
   "outputs": [
    {
     "data": {
      "text/plain": [
       "{'braketSchemaHeader': {'name': 'braket.task_result.program_set_task_metadata',\n",
       "  'version': '1'},\n",
       " 'id': '7d1f1d5f-95d2-41ce-8767-c1edf14e6d95',\n",
       " 'deviceId': 'braket_sv',\n",
       " 'requestedShots': 500,\n",
       " 'successfulShots': 500,\n",
       " 'programMetadata': [{'executables': [{}, {}, {}, {}, {}]}],\n",
       " 'deviceParameters': None,\n",
       " 'createdAt': None,\n",
       " 'endedAt': None,\n",
       " 'status': None,\n",
       " 'totalFailedExecutables': 0}"
      ]
     },
     "execution_count": 35,
     "metadata": {},
     "output_type": "execute_result"
    }
   ],
   "source": [
    "aws_result_2.metadata.dict()"
   ]
  },
  {
   "cell_type": "markdown",
   "id": "b0ad4af3-0430-4a7f-b367-b06adc196299",
   "metadata": {},
   "source": [
    "If the number of successful shots is lower than the requested number of shots, it will be reflected here."
   ]
  },
  {
   "cell_type": "code",
   "execution_count": 36,
   "id": "665e33ff-6911-4ed0-ade2-235b251b0c68",
   "metadata": {},
   "outputs": [
    {
     "data": {
      "text/plain": [
       "(500, 500)"
      ]
     },
     "execution_count": 36,
     "metadata": {},
     "output_type": "execute_result"
    }
   ],
   "source": [
    "aws_result_2.metadata.requestedShots, aws_result_2.metadata.successfulShots"
   ]
  },
  {
   "cell_type": "markdown",
   "id": "47df9933-166c-4279-bb85-ceabc6c33365",
   "metadata": {},
   "source": [
    "If the number of successful shots is lower than the requested number of shots, it will be reflected here."
   ]
  },
  {
   "cell_type": "code",
   "execution_count": 37,
   "id": "f5746fb6-a914-4f56-b626-4c43763d5361",
   "metadata": {},
   "outputs": [
    {
     "data": {
      "text/plain": [
       "0"
      ]
     },
     "execution_count": 37,
     "metadata": {},
     "output_type": "execute_result"
    }
   ],
   "source": [
    "aws_result_2.metadata.totalFailedExecutables"
   ]
  },
  {
   "cell_type": "markdown",
   "id": "9a82e3e3-5bdb-4cd3-999c-4857bd4396eb",
   "metadata": {},
   "source": [
    "The **programs** executed in the tasks are also returned as part of the result."
   ]
  },
  {
   "cell_type": "code",
   "execution_count": 38,
   "id": "357225f7-8959-4646-a0f6-ed744c1305ef",
   "metadata": {},
   "outputs": [
    {
     "name": "stdout",
     "output_type": "stream",
     "text": [
      "braketSchemaHeader=BraketSchemaHeader(name='braket.ir.openqasm.program', version='1') source='OPENQASM 3.0;\\ninput float beta;\\ninput float alpha;\\nbit[2] b;\\nqubit[2] q;\\nrx(alpha) q[0];\\ncnot q[0], q[1];\\nry(beta) q[1];\\nb[0] = measure q[0];\\nb[1] = measure q[1];' inputs={'alpha': [0.1, 0.11, 0.22, 0.34, 0.45], 'beta': [1.01, 1.01, 1.03, 1.04, 1.04]}\n"
     ]
    }
   ],
   "source": [
    "for program in aws_result_2.programs:\n",
    "    print(program)"
   ]
  },
  {
   "cell_type": "markdown",
   "id": "6c04eb9c-177a-456b-80e4-55e4b39c8082",
   "metadata": {},
   "source": [
    "Finally, **additional metadata** for each program is available in the specific `CompositeEntry` result for each program,"
   ]
  },
  {
   "cell_type": "code",
   "execution_count": 39,
   "id": "2abb963e-f64b-4ed2-98e9-b0835b497595",
   "metadata": {},
   "outputs": [
    {
     "data": {
      "text/plain": [
       "{'action': None,\n",
       " 'dwaveMetadata': None,\n",
       " 'ionqMetadata': None,\n",
       " 'rigettiMetadata': None,\n",
       " 'oqcMetadata': None,\n",
       " 'xanaduMetadata': None,\n",
       " 'queraMetadata': None,\n",
       " 'simulatorMetadata': None,\n",
       " 'iqmMetadata': None}"
      ]
     },
     "execution_count": 39,
     "metadata": {},
     "output_type": "execute_result"
    }
   ],
   "source": [
    "aws_result_2[0].additional_metadata.dict()"
   ]
  },
  {
   "cell_type": "markdown",
   "id": "summary-section",
   "metadata": {},
   "source": [
    "---\n",
    "\n",
    "## Summary\n",
    "\n",
    "In this notebook, we've explored the `ProgramSet` feature of Amazon Braket, which enables efficient batch processing of quantum computations. Here's what we covered:\n",
    "\n",
    "### Key Concepts Learned:\n",
    "1. **Program Set Basics**: How to package multiple quantum circuits into a single execution unit\n",
    "2. **Circuit Binding**: Binding parametrized circuits to specific parameter values and observables\n",
    "3. **Combination Patterns**: Different ways to combine circuits, parameters, and observables (`product()`, `zip()`)\n",
    "4. **Result Handling**: How to access and interpret results from program set executions\n",
    "\n",
    "### Main Construction Methods:\n",
    "- **Direct Construction**: `ProgramSet([circuit1, circuit_binding2, ...])`\n",
    "- **Parametrized Circuits**: `ProgramSet(CircuitBinding(circuit, input_sets={...}))`\n",
    "- **Different Observables**: `ProgramSet(CircuitBinding(circuit, observables=[...]))`\n",
    "- **Product Combinations**:`ProgramSet.product(circuits=..., observables=...)`\n",
    "- **Zip Combinations**:\n",
    "    - `ProgramSet.zip(circuits=..., input_sets=..., observables=...)`\n",
    "    - `ProgramSet.zip(CircuitBinding(circuit, input_sets={...}), observables=...)`\n",
    "\n",
    "`ProgramSet` is a powerful tool for scaling quantum computations efficiently, making it ideal for variational algorithms, parameter sweeps, and multiple observable measurements in quantum applications."
   ]
  },
  {
   "cell_type": "code",
   "execution_count": null,
   "id": "d4291efc-10a0-465b-83d2-d9c86deaa000",
   "metadata": {},
   "outputs": [],
   "source": []
  }
 ],
 "metadata": {
  "kernelspec": {
   "display_name": "Python 3 (ipykernel)",
   "language": "python",
   "name": "python3"
  },
  "language_info": {
   "codemirror_mode": {
    "name": "ipython",
    "version": 3
   },
   "file_extension": ".py",
   "mimetype": "text/x-python",
   "name": "python",
   "nbconvert_exporter": "python",
   "pygments_lexer": "ipython3",
   "version": "3.10.18"
  }
 },
 "nbformat": 4,
 "nbformat_minor": 5
}
