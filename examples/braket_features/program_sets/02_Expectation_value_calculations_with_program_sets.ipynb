{
 "cells": [
  {
   "cell_type": "markdown",
   "metadata": {},
   "source": [
    "# Expectation value calculations with Amazon Braket's program sets\n",
    "\n",
    "## 1. Introduction\n",
    "Amazon Braket's `ProgramSet` feature enables significant reductions in runtime and cost by submitting multiple quantum circuits together. The efficiency gains are even greater when the circuits represent different realizations of a single parametric circuit, which is often the case in variational quantum algorithms.\n",
    "\n",
    "One prominent example is the Variational Quantum Eigensolver (VQE), a hybrid quantum-classical algorithm used to find ground state energies of molecular systems. VQE relies on repeatedly calculating quantum expectation values of a Hamiltonian for quantum states that evolve during optimization. These calculations form the computational bottleneck of the algorithm, making efficient execution crucial for practical applications.\n",
    "\n",
    "With Braket's `ProgramSet` feature we can simplify the implementation of these calculations by directly submitting a program set for a given Hamiltonian and requesting its expectation value. However, the default approach of allocating the same number of shots to each observable term in the Hamiltonian, regardless of the magnitude of its coefficient and its contribution to the expectation value, can be detrimental to the accuracy of the final estimation.\n",
    "\n",
    "### 1.1 Notebook overview\n",
    "In this notebook, we will demonstrate how to overcome this limitation and achieve better statistical accuracy with the same total number of shots. We will:\n",
    "1. Set up a random Hamiltonian and quantum state\n",
    "2. Calculate the exact expectation value as a reference\n",
    "3. Implement a shot-based approximation using `ProgramSet` with its default (uniform) shot allocation \n",
    "4. Develop an improved (weighted) shot allocation strategy and demonstrate how to implement it using a `ProgramSet` instance\n",
    "5. Compare the results of both approaches\n",
    "\n",
    "Through this comparison, we'll show how to achieve improved precision by using more circuits while keeping the same total shot budget (and thus the cost of executing our quantum algorithm) fixed."
   ]
  },
  {
   "cell_type": "code",
   "execution_count": 1,
   "metadata": {},
   "outputs": [],
   "source": [
    "import math\n",
    "import random\n",
    "from functools import reduce\n",
    "from typing import Callable, Optional, Union\n",
    "\n",
    "import matplotlib.pyplot as plt\n",
    "import numpy as np\n",
    "from tqdm import tqdm\n",
    "\n",
    "# AWS imports: Import Braket SDK modules\n",
    "from braket.circuits import Circuit, FreeParameter, Observable\n",
    "from braket.devices import LocalSimulator\n",
    "from braket.program_sets import CircuitBinding, ProgramSet"
   ]
  },
  {
   "cell_type": "code",
   "execution_count": 2,
   "metadata": {},
   "outputs": [],
   "source": [
    "# We'll use a local state-vector simulator for the demonstration.\n",
    "device = LocalSimulator()"
   ]
  },
  {
   "cell_type": "markdown",
   "metadata": {},
   "source": [
    "## 2. Setup: Hamiltonian, state, and ground truth \n",
    "Let's create a random Hamiltonian and initial state. Note that we allow the coefficients of the Hamiltonian to vary (relative to one another) up to three orders of magnitude. This is not uncommon in realistic physical systems where terms can have different energy scales. For reproducibility purposes, we fixed the seed for the pseudo-random numbers affecting our setup. Feel free to change it and test different Hamiltonians and states."
   ]
  },
  {
   "cell_type": "code",
   "execution_count": 3,
   "metadata": {},
   "outputs": [],
   "source": [
    "random.seed(42)  # For reproducibility, but feel free to change\n",
    "\n",
    "def int_to_pauli(number: int) -> str:\n",
    "    \"\"\"Convert an integer to base 4, to produce a Pauli string observable.\"\"\"\n",
    "    if number == 0:\n",
    "        return \"I\"\n",
    "    \n",
    "    digits = \"IXYZ\"\n",
    "    result = \"\"\n",
    "    \n",
    "    while number > 0:\n",
    "        remainder = number % 4\n",
    "        result = digits[remainder] + result\n",
    "        number //= 4\n",
    "    \n",
    "    return result\n",
    "\n",
    "def generate_random_hamiltonian(num_qubits: int, num_terms: int,\n",
    "                                max_order: int = 3) -> tuple[list[str], list[float]]:\n",
    "    \"\"\"\n",
    "    Generate a random Hamiltonian with specified number of terms.\n",
    "    \n",
    "    Args:\n",
    "        num_qubits: Number of qubits in the system\n",
    "        num_terms: Number of Pauli string terms in the Hamiltonian\n",
    "        max_order: Maximum order of magnitude for coefficients\n",
    "        \n",
    "    Returns:\n",
    "        terms: List of Pauli string terms\n",
    "        coefficients: List of corresponding coefficients\n",
    "    \"\"\"\n",
    "    terms = []\n",
    "    for i in random.sample(range(4**num_qubits), num_terms):\n",
    "        term = int_to_pauli(i)\n",
    "        terms.append(\"I\"*(num_qubits-len(term)) + term)\n",
    "    coefficients = [(1 - 2*random.random())*(10 ** random.randint(0,max_order)) for _ in range(num_terms)]\n",
    "    return terms, coefficients\n",
    "\n",
    "def create_random_state(num_qubits: int) -> Circuit:\n",
    "    \"\"\"\n",
    "    Create a parameterized quantum circuit with two layers of random (Ry) single-qubit rotations\n",
    "    and an entanglement layer of two-qubit (Cnot) gates in between.\n",
    "    \n",
    "    Args:\n",
    "        num_qubits: Number of qubits in the circuit\n",
    "        \n",
    "    Returns:\n",
    "        Circuit: A parameterized quantum circuit\n",
    "    \"\"\"\n",
    "    circ = Circuit()\n",
    "\n",
    "    param_idx = 0\n",
    "    # First layer of rotations\n",
    "    for i in range(num_qubits):\n",
    "        circ.ry(i, FreeParameter(f\"parameter_{param_idx}\"))\n",
    "        param_idx += 1\n",
    "\n",
    "    # Entangling layer\n",
    "    for i in range(num_qubits - 1):\n",
    "        circ.cnot(control=i, target=i+1)\n",
    "\n",
    "    # Second layer of rotations\n",
    "    for i in range(num_qubits):\n",
    "        circ.ry(i, FreeParameter(f\"parameter_{param_idx}\"))\n",
    "        param_idx += 1\n",
    "\n",
    "    return circ"
   ]
  },
  {
   "cell_type": "code",
   "execution_count": 4,
   "metadata": {},
   "outputs": [
    {
     "name": "stdout",
     "output_type": "stream",
     "text": [
      "Hamiltonian: H =  9.40*IZYXI +0.53*IIZIZ -122.49*YIZIZ +55.91*XZZXX -0.62*XZIYX \n",
      "                 -5.18*XIXZX -39.63*IZXIX +4.44*IYZIY -91.44*ZXYII +795.58*IXIIX \n"
     ]
    }
   ],
   "source": [
    "# Define our quantum system\n",
    "num_qubits = 5\n",
    "num_paulis = 10\n",
    "\n",
    "# Generate random Hamiltonian\n",
    "paulis, coeffs = generate_random_hamiltonian(num_qubits, num_paulis)\n",
    "\n",
    "# Format the Hamiltonian for display\n",
    "hamiltonian_string = f\"{coeffs[0]:.2f}*{paulis[0]} \"\n",
    "for i in range(1, len(coeffs)):\n",
    "    if i%5 == 0:\n",
    "        hamiltonian_string += \"\\n\"+\" \"*len(\"Hamiltonian: H = \")\n",
    "    if coeffs[i] >= 0:\n",
    "        hamiltonian_string += \"+\"\n",
    "    hamiltonian_string += f\"{coeffs[i]:.2f}*{paulis[i]} \"\n",
    "    \n",
    "print(\"Hamiltonian: H = \", hamiltonian_string)"
   ]
  },
  {
   "cell_type": "code",
   "execution_count": 5,
   "metadata": {},
   "outputs": [
    {
     "name": "stdout",
     "output_type": "stream",
     "text": [
      "T  : │     0      │  1  │     2      │     3      │     4      │     5      │\n",
      "      ┌──────────┐       ┌──────────┐                                        \n",
      "q0 : ─┤ Ry(0.30) ├───●───┤ Ry(1.68) ├────────────────────────────────────────\n",
      "      └──────────┘   │   └──────────┘                                        \n",
      "      ┌──────────┐ ┌─┴─┐              ┌──────────┐                           \n",
      "q1 : ─┤ Ry(2.66) ├─┤ X ├──────●───────┤ Ry(3.06) ├───────────────────────────\n",
      "      └──────────┘ └───┘      │       └──────────┘                           \n",
      "      ┌──────────┐          ┌─┴─┐                  ┌──────────┐              \n",
      "q2 : ─┤ Ry(1.90) ├──────────┤ X ├──────────●───────┤ Ry(1.19) ├──────────────\n",
      "      └──────────┘          └───┘          │       └──────────┘              \n",
      "      ┌──────────┐                       ┌─┴─┐                  ┌──────────┐ \n",
      "q3 : ─┤ Ry(2.54) ├───────────────────────┤ X ├──────────●───────┤ Ry(1.73) ├─\n",
      "      └──────────┘                       └───┘          │       └──────────┘ \n",
      "      ┌──────────┐                                    ┌─┴─┐     ┌──────────┐ \n",
      "q4 : ─┤ Ry(2.29) ├────────────────────────────────────┤ X ├─────┤ Ry(2.61) ├─\n",
      "      └──────────┘                                    └───┘     └──────────┘ \n",
      "T  : │     0      │  1  │     2      │     3      │     4      │     5      │\n"
     ]
    }
   ],
   "source": [
    "# Create a parameterized circuit and bind it with random parameters\n",
    "state_circuit_unbound = create_random_state(num_qubits)\n",
    "\n",
    "# Generate random parameters\n",
    "parameters = {}\n",
    "for param_idx in range(2*num_qubits):\n",
    "    parameters[f\"parameter_{param_idx}\"]=np.pi*random.random()\n",
    "\n",
    "# Bind the parameters to create a concrete circuit\n",
    "state_circuit = state_circuit_unbound(**parameters)\n",
    "print(state_circuit)"
   ]
  },
  {
   "cell_type": "markdown",
   "metadata": {},
   "source": [
    "### Computing the exact expectation value\n",
    "We first compute the exact expectation value, which will serve as our reference for evaluating the accuracy of our shot-based approximations."
   ]
  },
  {
   "cell_type": "code",
   "execution_count": 6,
   "metadata": {},
   "outputs": [],
   "source": [
    "def observable_from_string(s: str) -> Observable:\n",
    "    \"\"\"\n",
    "    Convert a Pauli string to a Braket Observable.\n",
    "    \n",
    "    Args:\n",
    "        s: String representation of a Pauli operator (e.g., \"IXYZ\")\n",
    "        \n",
    "    Returns:\n",
    "        Observable: Corresponding Braket Observable\n",
    "    \"\"\"\n",
    "    gates = {\"I\": Observable.I, \"X\": Observable.X,\n",
    "             \"Y\": Observable.Y, \"Z\": Observable.Z}\n",
    "    return Observable.TensorProduct([gates[pauli](idx) for idx, pauli in enumerate(s)])\n",
    "\n",
    "def compute_exact_expectation_value(paulis: list[str], coeffs: list[float], state_circuit: Circuit) -> float:\n",
    "    \"\"\"\n",
    "    Compute the exact expectation value of a Hamiltonian with respect to a quantum state.\n",
    "    \n",
    "    Args:\n",
    "        paulis: List of Pauli string terms\n",
    "        coeffs: List of corresponding coefficients\n",
    "        state_circuit: Quantum circuit representing the state\n",
    "        \n",
    "    Returns:\n",
    "        float: Exact expectation value\n",
    "    \"\"\"\n",
    "    device = LocalSimulator()  # Ensure that in the scope of this function device is always a simulator\n",
    "    e_exact = 0.0\n",
    "    for c, p in zip(coeffs, paulis):\n",
    "        circuit = state_circuit.copy()\n",
    "        circuit.expectation(observable_from_string(p))\n",
    "        result = device.run(circuit, shots=0).result()\n",
    "        e_exact += c * result.values[0]\n",
    "    return e_exact"
   ]
  },
  {
   "cell_type": "code",
   "execution_count": 7,
   "metadata": {},
   "outputs": [
    {
     "name": "stdout",
     "output_type": "stream",
     "text": [
      "Exact expectation value: 265.5011563986819\n"
     ]
    }
   ],
   "source": [
    "# Calculate the exact expectation value\n",
    "exact_expectation_value = compute_exact_expectation_value(paulis, coeffs, state_circuit)\n",
    "print(f\"Exact expectation value: {exact_expectation_value}\")"
   ]
  },
  {
   "cell_type": "markdown",
   "metadata": {},
   "source": [
    "## 3. Finite shot approximation with uniform shot allocation\n",
    "Now we'll approximate the expectation value using a finite number of shots. First, we'll use a `ProgramSet` with its default shot allocation strategy, where each term in the Hamiltonian receives the same number of shots."
   ]
  },
  {
   "cell_type": "code",
   "execution_count": 8,
   "metadata": {},
   "outputs": [],
   "source": [
    "# Create a Braket Observable representing the full Hamiltonian\n",
    "hamiltonian = coeffs[0] * observable_from_string(paulis[0])\n",
    "for c,p in zip(coeffs[1:], paulis[1:]):\n",
    "    hamiltonian += c * observable_from_string(p)"
   ]
  },
  {
   "cell_type": "code",
   "execution_count": 9,
   "metadata": {},
   "outputs": [
    {
     "data": {
      "text/plain": [
       "{'parameter_0': [0.3038434589418326],\n",
       " 'parameter_1': [2.6624820752759164],\n",
       " 'parameter_2': [1.896661264923146],\n",
       " 'parameter_3': [2.535668253823408],\n",
       " 'parameter_4': [2.292520020168252],\n",
       " 'parameter_5': [1.6846102327625636],\n",
       " 'parameter_6': [3.05713333521001],\n",
       " 'parameter_7': [1.1892008185689509],\n",
       " 'parameter_8': [1.7342867916910418],\n",
       " 'parameter_9': [2.6056516000703174]}"
      ]
     },
     "execution_count": 9,
     "metadata": {},
     "output_type": "execute_result"
    }
   ],
   "source": [
    "# Prepare the parameter list for the circuit binding\n",
    "parameter_lists = {}\n",
    "for param_idx in range(2*num_qubits):\n",
    "    key = f\"parameter_{param_idx}\"\n",
    "    parameter_lists[key]=[parameters[key]]\n",
    "parameter_lists"
   ]
  },
  {
   "cell_type": "markdown",
   "metadata": {},
   "source": [
    "### 3.1 Creating a program set\n",
    "We will create a program set to calculate our expectation value. We can pass the full Hamiltonian as the only observable to the `CircuitBinding` instance initializing our program. Internally, the workflow will create different executables for the different observables (summands) comprising our Hamiltonian (`Sum`)."
   ]
  },
  {
   "cell_type": "code",
   "execution_count": 10,
   "metadata": {},
   "outputs": [],
   "source": [
    "# Create a CircuitBinding with our parameterized circuit, parameters, and Hamiltonian\n",
    "binding = CircuitBinding(state_circuit_unbound, [parameters], observables=hamiltonian)\n",
    "\n",
    "# Create a ProgramSet from the binding\n",
    "program_set = ProgramSet(binding)"
   ]
  },
  {
   "cell_type": "code",
   "execution_count": 11,
   "metadata": {},
   "outputs": [
    {
     "name": "stdout",
     "output_type": "stream",
     "text": [
      "Total number of executables: 10\n"
     ]
    }
   ],
   "source": [
    "print(f\"Total number of executables: {program_set.total_executables}\")"
   ]
  },
  {
   "cell_type": "code",
   "execution_count": 12,
   "metadata": {},
   "outputs": [],
   "source": [
    "def compute_shot_expectation_value(program_set: ProgramSet, total_shots: int) -> float:\n",
    "    \"\"\"\n",
    "    Compute the expectation value using a finite number of shots.\n",
    "    \n",
    "    Args:\n",
    "        program_set: ProgramSet containing the circuit and observables\n",
    "        total_shots: Total number of shots to distribute among executables\n",
    "        \n",
    "    Returns:\n",
    "        float: Estimated expectation value\n",
    "    \"\"\"\n",
    "    # The ProgramSetQuantumTask result returned by device.run(...).result() can be queried as result[program_id][executable_id].\n",
    "    # There is only one program in our set (as we provided one value per free parameter in our circuit and one observable, namely\n",
    "    # the Sum Hamiltonian). We can ask for the expectation value directly (as we do in the line below) or obtain it manually as:\n",
    "    # sum([measured_entry.expectation for measured_entry in result[0]])\n",
    "    return device.run(program_set, shots=total_shots).result()[0].expectation()"
   ]
  },
  {
   "cell_type": "markdown",
   "metadata": {},
   "source": [
    "Note the simplicity of the implementation - we submitted the program set (created with the full Hamiltonian as the only observable) to the device and obtained the expectation value estimate directly from the returned result. Let's test it using 10,000 shots total."
   ]
  },
  {
   "cell_type": "code",
   "execution_count": 13,
   "metadata": {},
   "outputs": [
    {
     "name": "stdout",
     "output_type": "stream",
     "text": [
      "Expectation value estimate (uniform allocation): 298.97\n"
     ]
    }
   ],
   "source": [
    "# Set our shot budget\n",
    "total_shots = 10000\n",
    "\n",
    "# Test the uniform expectation value calculation\n",
    "uniform_result = compute_shot_expectation_value(program_set, total_shots)\n",
    "print(f\"Expectation value estimate (uniform allocation): {uniform_result:.2f}\")"
   ]
  },
  {
   "cell_type": "markdown",
   "metadata": {},
   "source": [
    "### 3.2 Gathering results\n",
    "We'll keep our estimation shot budget to 10,000 total shots and examine the performance of our `uniform_estimator` in this setting. We run 100 independent evaluations of the estimator to statistically assess its performance and plot a histogram of the results below."
   ]
  },
  {
   "cell_type": "code",
   "execution_count": 14,
   "metadata": {},
   "outputs": [],
   "source": [
    "# Set number of trials for our statistical analysis\n",
    "num_trials = 100\n",
    "\n",
    "# Create a shorthand for our estimator\n",
    "def uniform_estimator(total_shots):\n",
    "    return compute_shot_expectation_value(program_set=program_set, total_shots=total_shots)"
   ]
  },
  {
   "cell_type": "code",
   "execution_count": 15,
   "metadata": {},
   "outputs": [],
   "source": [
    "def gather_and_plot_statistics(\n",
    "    estimator: Callable[[int], float], \n",
    "    exact_expectation: float, \n",
    "    total_shots: int, \n",
    "    num_trials: int, \n",
    "    color: str = 'blue', \n",
    "    label: Optional[str] = None\n",
    ") -> list[float]:\n",
    "    \"\"\"\n",
    "    Run multiple trials of expectation value estimation and plot the distribution.\n",
    "    \n",
    "    Args:\n",
    "        estimator: Function that estimates the expectation value\n",
    "        exact_expectation: The exact expectation value for reference\n",
    "        total_shots: Total number of shots to use per trial\n",
    "        num_trials: Number of trials to run\n",
    "        color: Color for the histogram\n",
    "        label: Label for the histogram in the legend\n",
    "        \n",
    "    Returns:\n",
    "        list: The expectation values from all trials\n",
    "    \"\"\"\n",
    "    # Run multiple trials and collect the results\n",
    "    values = [estimator(total_shots) for _ in tqdm(range(num_trials))]\n",
    "    mean = np.mean(values)\n",
    "    std = np.std(values)\n",
    "    \n",
    "    # Create a histogram of the results\n",
    "    plt.figure(figsize=(10, 6))\n",
    "    bins = np.arange(np.min(values), np.max(values), (np.max(values)-np.min(values))/20)\n",
    "    plt.hist(values, color=color, alpha=0.5, bins=bins, label=label if label else color)\n",
    "    \n",
    "    # Set the y-axis limit\n",
    "    y_max = int(np.ceil(plt.ylim()[1]))\n",
    "    plt.ylim(0, y_max)\n",
    "    \n",
    "    # Plot reference line for the exact value\n",
    "    ev_line_height = (2*y_max//3)\n",
    "    plt.plot([exact_expectation]*ev_line_height, np.arange(ev_line_height), color=\"black\", label=\"Exact value\")\n",
    "    \n",
    "    # Add labels and legend\n",
    "    plt.xlabel(\"Expectation Value\")\n",
    "    plt.ylabel(\"Frequency\")\n",
    "    plt.title(f\"Distribution of Expectation Value Estimates (Mean: {mean:.4f}, Std: {std:.4f})\")\n",
    "    plt.legend()\n",
    "    \n",
    "    # Print statistics\n",
    "    print(f\"Mean: {mean:.4f}, Standard Deviation: {std:.4f}\")\n",
    "    \n",
    "    return values"
   ]
  },
  {
   "cell_type": "code",
   "execution_count": 16,
   "metadata": {},
   "outputs": [
    {
     "name": "stdout",
     "output_type": "stream",
     "text": [
      "Running uniform allocation of 10000 shots over the 10 circuit realizations: [1000, 1000, 1000, 1000, 1000, 1000, 1000, 1000, 1000, 1000]\n"
     ]
    },
    {
     "name": "stderr",
     "output_type": "stream",
     "text": [
      "100%|███████████████████████████████████████| 100/100 [00:19<00:00,  5.23it/s]"
     ]
    },
    {
     "name": "stdout",
     "output_type": "stream",
     "text": [
      "Mean: 271.1195, Standard Deviation: 24.0730\n"
     ]
    },
    {
     "name": "stderr",
     "output_type": "stream",
     "text": [
      "\n"
     ]
    },
    {
     "data": {
      "image/png": "[encoded data removed]",
      "text/plain": [
       "<Figure size 1000x600 with 1 Axes>"
      ]
     },
     "metadata": {},
     "output_type": "display_data"
    }
   ],
   "source": [
    "# Calculate the shot allocation for uniform distribution\n",
    "shot_allocation = [(total_shots//program_set.total_executables) for _ in range(program_set.total_executables)]\n",
    "print(f\"Running uniform allocation of {total_shots} shots over \"\n",
    "      f\"the {program_set.total_executables} circuit realizations: {shot_allocation}\")\n",
    "\n",
    "# Run the trials and plot the results\n",
    "uniform_ev = gather_and_plot_statistics(uniform_estimator, exact_expectation_value, total_shots, num_trials,\n",
    "                                        color=\"blue\", label=\"Histogram (Uniform)\")"
   ]
  },
  {
   "cell_type": "markdown",
   "metadata": {},
   "source": [
    "The histogram above reveals that the variance of our estimator is quite large. This high variance stems from allocating the same number of shots to each term in the Hamiltonian, regardless of the magnitude of its coefficient."
   ]
  },
  {
   "cell_type": "markdown",
   "metadata": {},
   "source": [
    "## 4. Improved approach: weighted shot allocation\n",
    "To address this inefficiency, we can develop a more intelligent shot allocation strategy. Notice that the overall variance of our expectation value estimate depends on the variances of measurements for each Pauli string term. The key insight is that terms with larger coefficients generally contribute more to both the expectation value and its uncertainty, so they should receive proportionally more measurement shots.\n",
    "\n",
    "An efficient shot allocation strategy will distribute shots proportional to the magnitude of each term's coefficient in the Pauli string expansion of our Hamiltonian. This approach reduces the overall variance of the estimator for a fixed total shot budget."
   ]
  },
  {
   "cell_type": "markdown",
   "metadata": {},
   "source": [
    "The function below constructs such allocation: given an array of target weights $[w_1, \\cdots, w_m]$, and a required total number of shots $N$, it will return a shot allocation array $[n_1, \\cdots, n_m]$, such that $\\sum_i n_i=N$ and $\\frac{w_1}{n_1}\\approx\\cdots\\approx\\frac{w_m}{n_m}$. It does so by greedily allocating shots, such that the maximum of the ratios $\\frac{w_i}{n_i}$ (which in an ideal allocation should be constant for all $i$) is decreased at each step."
   ]
  },
  {
   "cell_type": "code",
   "execution_count": 17,
   "metadata": {},
   "outputs": [],
   "source": [
    "def allocate_by_weight(\n",
    "    target_weights: list[Union[int, float]], \n",
    "    total_allocation: int, \n",
    "    min_allocation: int = 1\n",
    ") -> list[int]:\n",
    "    \"\"\"\n",
    "    Allocate items by weight with minimum allocation constraints.\n",
    "    \n",
    "    Args:\n",
    "        target_weights: List of target weights\n",
    "        total_allocation: Total number of items to allocate\n",
    "        min_allocation: Minimum allocation per bin\n",
    "        \n",
    "    Returns:\n",
    "        List of allocated counts per bin. \n",
    "        Each bin's relative weight aims to approximate the provided target weight.\n",
    "    \"\"\"\n",
    "    # Validate the inputs\n",
    "    size = len(target_weights)\n",
    "    \n",
    "    assert (min_allocation*size <= total_allocation), \\\n",
    "         f\"Can't allocate {total_allocation} items across {size} bins with at least {min_allocation} items per bin\"\n",
    "\n",
    "    # Secure the required minimum allocation first\n",
    "    allocation = [min_allocation] * size\n",
    "\n",
    "    # In an ideal allocation abs(target_weights[i]) / allocation[i] will be constant (for all i)\n",
    "    # So when we allocate our leftover budget, at each step we simply decrease the current maximum\n",
    "    # value of the ratio above\n",
    "    for i in range(total_allocation - min_allocation*size):\n",
    "        idx = max(range(size), key = lambda j: abs(target_weights[j]) / (max(allocation[j],1)))\n",
    "        allocation[idx] += 1\n",
    "\n",
    "    return allocation"
   ]
  },
  {
   "cell_type": "code",
   "execution_count": 18,
   "metadata": {},
   "outputs": [
    {
     "name": "stdout",
     "output_type": "stream",
     "text": [
      "Best allocation of 10000 shots over the 10 different circuits: [84, 5, 1089, 497, 6, 46, 353, 40, 813, 7067]\n"
     ]
    }
   ],
   "source": [
    "# Calculate the optimal shot allocation based on coefficient magnitudes\n",
    "best_allocation = allocate_by_weight(coeffs, total_shots, 0)\n",
    "print(f\"Best allocation of {total_shots} shots over the {program_set.total_executables} different circuits: {best_allocation}\")"
   ]
  },
  {
   "cell_type": "markdown",
   "metadata": {},
   "source": [
    "We will be using the same `device.run(ProgramSet(...), shots=<total_shots>)` interface, which distributes the number of shots equally among the set's executables. If we aim to achieve the *exact* shot allocation above, the constant shots-per-circuit number would have to be a factor of the greatest common divisor of the shot-counts in the allocation (thus ensuring that the number of executables is, indeed, integer for each Pauli string)."
   ]
  },
  {
   "cell_type": "code",
   "execution_count": 19,
   "metadata": {},
   "outputs": [
    {
     "name": "stdout",
     "output_type": "stream",
     "text": [
      "Greatest common divisor: 1.\n",
      "Lowest number of circuits realizing the allocation: 10000\n"
     ]
    }
   ],
   "source": [
    "def gcd(numbers: list[int]) -> int:\n",
    "    \"\"\"Calculate the greatest common divisor of a list of numbers.\"\"\"\n",
    "    if not numbers:\n",
    "        return None  # Handle empty list case\n",
    "    return reduce(math.gcd, numbers, 1)\n",
    "\n",
    "# Calculate the GCD of the shot allocation to determine the minimum number of circuits needed\n",
    "allocation_gcd = gcd(best_allocation)\n",
    "print(f\"Greatest common divisor: {allocation_gcd}.\")\n",
    "print(f\"Lowest number of circuits realizing the allocation: {sum(best_allocation)//allocation_gcd}\")"
   ]
  },
  {
   "cell_type": "markdown",
   "metadata": {},
   "source": [
    "Unless we've been extremely lucky with the (random) choice of our Hamiltonian and state, we'll need to use single-shot circuits to realize the best shot allocation. Let's create a program that *approximates* this allocation (keeping the relative shot allocation for the terms approximately the same) while using at most 100 circuits.\n",
    "\n",
    "We can do that again using our `allocate_by_weight` function. It is important to note that this time we are allocating the *number of circuits* we would dedicate to the individual Pauli terms. Given that the shots-per-circuit is constant among all these circuits, the number of shots measuring each Pauli term will still end up proportional to the magnitude of its coefficient."
   ]
  },
  {
   "cell_type": "code",
   "execution_count": 20,
   "metadata": {},
   "outputs": [],
   "source": [
    "total_circuit_budget = 100\n",
    "circuit_allocation = allocate_by_weight(coeffs, total_circuit_budget, min_allocation=1)"
   ]
  },
  {
   "cell_type": "markdown",
   "metadata": {},
   "source": [
    "In the cell above, we also impose the additional requirement that at least one executable per program is allocated to each term in the Hamiltonian. Strictly speaking, this is not necessary, and in fact enforcing the requirement will result in slight underperformance for the vast majority of possible setups (i.e., different Hamiltonians and states). It will, however, alleviate issues with the weighted shot allocation for some rare combinations of observables and states. We will not go into more detail here, but we'd encourage the interested reader to check out the more detailed notebooks on shot allocation strategies in the Amazon Braket Algorithms Library."
   ]
  },
  {
   "cell_type": "code",
   "execution_count": 21,
   "metadata": {},
   "outputs": [
    {
     "name": "stdout",
     "output_type": "stream",
     "text": [
      "Proposed allocation of 10000 shots over the 10 different circuits: [100, 100, 1100, 500, 100, 100, 400, 100, 800, 6700]\n"
     ]
    }
   ],
   "source": [
    "# Calculate the actual shot allocation based on our constrained allocation\n",
    "shot_allocation = [(total_shots//sum(circuit_allocation))*i for i in circuit_allocation]\n",
    "print(f\"Proposed allocation of {total_shots} shots over the {program_set.total_executables} different circuits: {shot_allocation}\")"
   ]
  },
  {
   "cell_type": "code",
   "execution_count": 22,
   "metadata": {},
   "outputs": [
    {
     "name": "stdout",
     "output_type": "stream",
     "text": [
      "Greatest common divisor: 1.\n",
      "Lowest number of circuits realizing the allocation: 10000\n"
     ]
    }
   ],
   "source": [
    "# Calculate the GCD of the new shot allocation\n",
    "allocation_gcd = gcd(shot_allocation)\n",
    "print(f\"Greatest common divisor: {allocation_gcd}.\")\n",
    "print(f\"Lowest number of circuits realizing the allocation: {sum(shot_allocation)//allocation_gcd}\")"
   ]
  },
  {
   "cell_type": "code",
   "execution_count": 23,
   "metadata": {},
   "outputs": [
    {
     "name": "stdout",
     "output_type": "stream",
     "text": [
      "Created program containing 100 executables.\n"
     ]
    }
   ],
   "source": [
    "# Create a list of observables with repetitions according to the shot allocation\n",
    "weighted_program_observables = []\n",
    "for term_idx, term_circuits in enumerate(circuit_allocation):\n",
    "    weighted_program_observables.extend(coeffs[term_idx]*observable_from_string(paulis[term_idx]) for _ in range(term_circuits))\n",
    "\n",
    "# Create a new CircuitBinding and ProgramSet with the weighted observables\n",
    "binding = CircuitBinding(state_circuit_unbound, [parameters], observables=weighted_program_observables)\n",
    "weighted_program_set = ProgramSet(binding)\n",
    "print(f\"Created program containing {weighted_program_set.total_executables} executables.\")"
   ]
  },
  {
   "cell_type": "markdown",
   "metadata": {},
   "source": [
    "We'll need to modify our expectation value calculation since we are repeating the same Hamiltonian terms as different program executables to achieve our desired shot allocation. As all executables within the program are run with the same number of shots, we only need to average the expectation values computed for executables corresponding to the same term. That is to say, ${E = \\frac{\\sum_{i} E_i}{n}}$, where $E$ is the expectation value from all shots over a circuit repeated $n$ times and $E_i$, $i \\in \\{1,\\cdots,n\\}$, is the expectation value from the shots of the $i$-th (repeated) circuit."
   ]
  },
  {
   "cell_type": "code",
   "execution_count": 24,
   "metadata": {},
   "outputs": [],
   "source": [
    "def compute_shot_expectation_value_v2(\n",
    "    program_set: ProgramSet, \n",
    "    circuit_allocation: list[int], \n",
    "    total_shots: int\n",
    ") -> float:\n",
    "    \"\"\"\n",
    "    Compute the expectation value using weighted shot allocation.\n",
    "    \n",
    "    Args:\n",
    "        program_set: ProgramSet containing the circuit and observables\n",
    "        circuit_allocation: List of circuit allocations for each term\n",
    "        total_shots: Total number of shots to distribute\n",
    "        \n",
    "    Returns:\n",
    "        float: Estimated expectation value\n",
    "    \"\"\"\n",
    "    # Run the program set with the appropriate number of shots per executable\n",
    "    result = device.run(program_set, shots=total_shots).result()\n",
    "    \n",
    "    idx = 0\n",
    "    h_expect = 0\n",
    "    \n",
    "    # Process the results, averaging the expectation values for repeated terms\n",
    "    for n in circuit_allocation:\n",
    "        expect = 0\n",
    "        for _ in range(n):\n",
    "            # Average expectations for the same term by dividing by the number of repeats\n",
    "            expect += result[0][idx].expectation / n\n",
    "            idx += 1\n",
    "        h_expect += expect\n",
    "        \n",
    "    return h_expect"
   ]
  },
  {
   "cell_type": "code",
   "execution_count": 25,
   "metadata": {},
   "outputs": [
    {
     "name": "stdout",
     "output_type": "stream",
     "text": [
      "Expectation value estimate (weigthed allocation): 265.36\n"
     ]
    }
   ],
   "source": [
    "# Test the weighted expectation value calculation\n",
    "weighted_result = compute_shot_expectation_value_v2(weighted_program_set, circuit_allocation, total_shots)\n",
    "print(f\"Expectation value estimate (weigthed allocation): {weighted_result:.2f}\")"
   ]
  },
  {
   "cell_type": "markdown",
   "metadata": {},
   "source": [
    "We'll now get statistics for the performance of the weighted shot allocation. As we're submitting more circuits in our program set, the execution time is increased, despite the fact that the shot-count (and experiment cost) stays the same."
   ]
  },
  {
   "cell_type": "code",
   "execution_count": 26,
   "metadata": {},
   "outputs": [
    {
     "name": "stderr",
     "output_type": "stream",
     "text": [
      "100%|███████████████████████████████████████| 100/100 [01:54<00:00,  1.15s/it]"
     ]
    },
    {
     "name": "stdout",
     "output_type": "stream",
     "text": [
      "Mean: 265.0382, Standard Deviation: 10.5808\n"
     ]
    },
    {
     "name": "stderr",
     "output_type": "stream",
     "text": [
      "\n"
     ]
    },
    {
     "data": {
      "image/png": "[encoded data removed]",
      "text/plain": [
       "<Figure size 1000x600 with 1 Axes>"
      ]
     },
     "metadata": {},
     "output_type": "display_data"
    }
   ],
   "source": [
    "# Create a shorthand for our weighted estimator\n",
    "def weighted_estimator(total_shots):\n",
    "    return compute_shot_expectation_value_v2(weighted_program_set, circuit_allocation, total_shots)\n",
    "\n",
    "# Run the trials and plot the results\n",
    "weighted_ev = gather_and_plot_statistics(weighted_estimator, exact_expectation_value, total_shots, num_trials,\n",
    "                                         color=\"green\", label=\"Histogram (Weighted)\")"
   ]
  },
  {
   "cell_type": "markdown",
   "metadata": {},
   "source": [
    "## 5. Comparison of uniform and weighted shot allocation\n",
    "Now let's compare the results of the uniform and weighted shot allocation strategies by plotting the above histograms side by side."
   ]
  },
  {
   "cell_type": "code",
   "execution_count": 27,
   "metadata": {},
   "outputs": [
    {
     "name": "stdout",
     "output_type": "stream",
     "text": [
      "Uniform allocation - Mean: 271.1195, Std: 24.0730\n",
      "Weighted allocation - Mean: 265.0382, Std: 10.5808\n",
      "Variance reduction: 80.68%\n"
     ]
    },
    {
     "data": {
      "image/png": "[encoded data removed]",
      "text/plain": [
       "<Figure size 1000x600 with 1 Axes>"
      ]
     },
     "metadata": {},
     "output_type": "display_data"
    }
   ],
   "source": [
    "plt.figure(figsize=(10, 6))\n",
    "\n",
    "# Plot histograms for both methods\n",
    "bins = np.linspace(\n",
    "    min(np.min(uniform_ev), np.min(weighted_ev)),\n",
    "    max(np.max(uniform_ev), np.max(weighted_ev)),\n",
    "    30\n",
    ")\n",
    "plt.hist(uniform_ev, alpha=0.5, bins=bins, label=\"Uniform\", color=\"blue\")\n",
    "plt.hist(weighted_ev, alpha=0.5, bins=bins, label=\"Weighted\", color=\"green\")\n",
    "\n",
    "# Set the y-axis limit\n",
    "y_max = int(np.ceil(plt.ylim()[1]))\n",
    "plt.ylim(0, y_max)\n",
    "\n",
    "# Plot reference lines\n",
    "ev_line_height = (2*y_max//3)\n",
    "plt.plot([exact_expectation_value]*ev_line_height, np.arange(ev_line_height), color=\"black\", label=\"Exact value\")\n",
    "\n",
    "# Add labels and legend\n",
    "plt.xlabel(\"Expectation Value\")\n",
    "plt.ylabel(\"Frequency\")\n",
    "plt.title(\"Comparison of Uniform vs. Weighted Shot Allocation\")\n",
    "plt.legend()\n",
    "\n",
    "# Print statistics\n",
    "uniform_mean = np.mean(uniform_ev)\n",
    "uniform_std = np.std(uniform_ev)\n",
    "weighted_mean = np.mean(weighted_ev)\n",
    "weighted_std = np.std(weighted_ev)\n",
    "\n",
    "print(f\"Uniform allocation - Mean: {uniform_mean:.4f}, Std: {uniform_std:.4f}\")\n",
    "print(f\"Weighted allocation - Mean: {weighted_mean:.4f}, Std: {weighted_std:.4f}\")\n",
    "print(f\"Variance reduction: {(uniform_std**2 - weighted_std**2) / uniform_std**2 * 100:.2f}%\")"
   ]
  },
  {
   "cell_type": "markdown",
   "metadata": {},
   "source": [
    "The results demonstrate the power of intelligent shot allocation. By strategically distributing our shot budget based on coefficient magnitudes rather than uniformly across all terms, we achieved a substantial variance reduction!\n",
    "\n",
    "To verify that this improvement is not specific to our particular choice of Hamiltonian and quantum state, we conducted a broader statistical study. We repeated the entire experiment 100 times with different random Hamiltonians and states (you can experiment with that by removing the random seed and rerunning the notebook). The figure below summarizes the results:\n",
    "![Figure showing plots of standard deviation and variance reduction of weighted against uniform shot-allocation approach. It can be seen that the mean variance reduction (across 100 runs) is more than 70%](images/weighted_vs_uniform_statistics.png)\n",
    "\n",
    "The results confirm that weighted shot allocation consistently outperforms uniform allocation, with an average variance reduction exceeding 70% across (somewhat) diverse problem instances."
   ]
  },
  {
   "cell_type": "markdown",
   "metadata": {},
   "source": [
    "## 6. Conclusion\n",
    "This notebook explored the challenge of shot allocation in quantum expectation value calculations and how to approach it using Braket's `ProgramSet` feature.\n",
    "\n",
    "### 6.1 Key takeaways\n",
    "\n",
    "1. **New `ProgramSet` Feature**: Braket's `ProgramSet` feature enables batch submission of multiple quantum circuits. This can simplify the implementation of expectation value calculations, as we can provide a (`Sum`) Hamiltonian as the only observable when creating the `ProgramSet` and let Braket handle the operator averaging internally.\n",
    "\n",
    "2. **Uniform Allocation Limitations**: The default uniform shot allocation strategy, while simple to implement, can be highly inefficient for Hamiltonians with terms of varying magnitudes. We showed how this approach results in high variance in the estimated expectation values due to equal resource allocation regardless of coefficient importance.\n",
    "\n",
    "3. **Weighted Allocation Implementation and Benefits**: We showed how to implement a weighted shot allocation strategy that distributes shots proportional to coefficient magnitudes. With it we achieved substantial variance reduction in expectation value estimates with consistent performance across diverse problem instances (>70% average improvement)\n",
    "\n",
    "4. **Practical Trade-offs**: The weighted approach requires more circuits (100 vs. 10 in our example) but maintains the same total shot budget and cost, resulting in the trading of longer execution time for increased accuracy. It is important to note that this trade-off is for a single expectation value calculation only, and in more complex iterative workflows (like VQE) the better accuracy per iteration may actually result in a shorter total runtime for the algorithm (due to, e.g., faster convergence). \n"
   ]
  },
  {
   "cell_type": "code",
   "execution_count": null,
   "metadata": {},
   "outputs": [],
   "source": []
  }
 ],
 "metadata": {
  "kernelspec": {
   "display_name": "Python 3 (ipykernel)",
   "language": "python",
   "name": "python3"
  },
  "language_info": {
   "codemirror_mode": {
    "name": "ipython",
    "version": 3
   },
   "file_extension": ".py",
   "mimetype": "text/x-python",
   "name": "python",
   "nbconvert_exporter": "python",
   "pygments_lexer": "ipython3",
   "version": "3.10.18"
  }
 },
 "nbformat": 4,
 "nbformat_minor": 4
}
