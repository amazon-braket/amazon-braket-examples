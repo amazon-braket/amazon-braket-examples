{
 "cells": [
  {
   "cell_type": "markdown",
   "metadata": {},
   "source": [
    "# Using the new local simulator"
   ]
  },
  {
   "cell_type": "code",
   "execution_count": 1,
   "metadata": {},
   "outputs": [
    {
     "name": "stdout",
     "output_type": "stream",
     "text": [
      "Collecting git+https://github.com/amazon-braket/amazon-braket-simulator-v2-python@ksh/multi\n",
      "  Cloning https://github.com/amazon-braket/amazon-braket-simulator-v2-python (to revision ksh/multi) to /private/var/folders/r_/pj84gncj4wd4t8h813gv7bz00000gr/T/pip-req-build-vwa2hak1\n",
      "  Running command git clone --filter=blob:none --quiet https://github.com/amazon-braket/amazon-braket-simulator-v2-python /private/var/folders/r_/pj84gncj4wd4t8h813gv7bz00000gr/T/pip-req-build-vwa2hak1\n",
      "  Running command git checkout -b ksh/multi --track origin/ksh/multi\n",
      "  Switched to a new branch 'ksh/multi'\n",
      "  branch 'ksh/multi' set up to track 'origin/ksh/multi'.\n",
      "  Resolved https://github.com/amazon-braket/amazon-braket-simulator-v2-python to commit ba00338da73bda929c41334960376be1e58e601e\n",
      "  Installing build dependencies ... \u001b[?25ldone\n",
      "\u001b[?25h  Getting requirements to build wheel ... \u001b[?25ldone\n",
      "\u001b[?25h  Installing backend dependencies ... \u001b[?25ldone\n",
      "\u001b[?25h  Preparing metadata (pyproject.toml) ... \u001b[?25ldone\n",
      "\u001b[?25hCollecting amazon-braket-sdk@ git+https://github.com/amazon-braket/amazon-braket-sdk-python@rmshaffer/multi-sim (from amazon-braket-simulator-v2==0.1.3.dev0)\n",
      "  Cloning https://github.com/amazon-braket/amazon-braket-sdk-python (to revision rmshaffer/multi-sim) to /private/var/folders/r_/pj84gncj4wd4t8h813gv7bz00000gr/T/pip-install-ws9klh1r/amazon-braket-sdk_846dcb4543f04e4c99d93746154535e9\n",
      "  Running command git clone --filter=blob:none --quiet https://github.com/amazon-braket/amazon-braket-sdk-python /private/var/folders/r_/pj84gncj4wd4t8h813gv7bz00000gr/T/pip-install-ws9klh1r/amazon-braket-sdk_846dcb4543f04e4c99d93746154535e9\n",
      "  Running command git checkout -b rmshaffer/multi-sim --track origin/rmshaffer/multi-sim\n",
      "  Switched to a new branch 'rmshaffer/multi-sim'\n",
      "  branch 'rmshaffer/multi-sim' set up to track 'origin/rmshaffer/multi-sim'.\n",
      "  Resolved https://github.com/amazon-braket/amazon-braket-sdk-python to commit 9cafa74c3e43ba0c96e9da5f257b67479b14abd3\n",
      "  Installing build dependencies ... \u001b[?25ldone\n",
      "\u001b[?25h  Getting requirements to build wheel ... \u001b[?25ldone\n",
      "\u001b[?25h  Installing backend dependencies ... \u001b[?25ldone\n",
      "\u001b[?25h  Preparing metadata (pyproject.toml) ... \u001b[?25ldone\n",
      "\u001b[?25hRequirement already satisfied: juliacall==0.9.19 in /Users/hyatkath/Projects/braketvirtualenv/lib/python3.10/site-packages (from amazon-braket-simulator-v2==0.1.3.dev0) (0.9.19)\n",
      "Requirement already satisfied: numpy in /Users/hyatkath/Projects/braketvirtualenv/lib/python3.10/site-packages (from amazon-braket-simulator-v2==0.1.3.dev0) (1.23.0)\n",
      "Requirement already satisfied: amazon-braket-schemas>=1.20.2 in /Users/hyatkath/Projects/braketvirtualenv/lib/python3.10/site-packages (from amazon-braket-simulator-v2==0.1.3.dev0) (1.21.4)\n",
      "Requirement already satisfied: juliapkg~=0.1.8 in /Users/hyatkath/Projects/braketvirtualenv/lib/python3.10/site-packages (from juliacall==0.9.19->amazon-braket-simulator-v2==0.1.3.dev0) (0.1.10)\n",
      "Requirement already satisfied: pydantic>2 in /Users/hyatkath/Projects/braketvirtualenv/lib/python3.10/site-packages (from amazon-braket-schemas>=1.20.2->amazon-braket-simulator-v2==0.1.3.dev0) (2.6.4)\n",
      "Collecting amazon-braket-default-simulator@ git+https://github.com/amazon-braket/amazon-braket-default-simulator-python.git@multi#egg=amazon-braket-default-simulator (from amazon-braket-sdk@ git+https://github.com/amazon-braket/amazon-braket-sdk-python@rmshaffer/multi-sim->amazon-braket-simulator-v2==0.1.3.dev0)\n",
      "  Cloning https://github.com/amazon-braket/amazon-braket-default-simulator-python.git (to revision multi) to /private/var/folders/r_/pj84gncj4wd4t8h813gv7bz00000gr/T/pip-install-ws9klh1r/amazon-braket-default-simulator_ac4d541387384621a6560141c0045098\n",
      "  Running command git clone --filter=blob:none --quiet https://github.com/amazon-braket/amazon-braket-default-simulator-python.git /private/var/folders/r_/pj84gncj4wd4t8h813gv7bz00000gr/T/pip-install-ws9klh1r/amazon-braket-default-simulator_ac4d541387384621a6560141c0045098\n",
      "  Running command git checkout -b multi --track origin/multi\n",
      "  Switched to a new branch 'multi'\n",
      "  branch 'multi' set up to track 'origin/multi'.\n",
      "  Resolved https://github.com/amazon-braket/amazon-braket-default-simulator-python.git to commit 119439f6130f464b93d8d5d578bf5846b9df3914\n",
      "  Installing build dependencies ... \u001b[?25ldone\n",
      "\u001b[?25h  Getting requirements to build wheel ... \u001b[?25ldone\n",
      "\u001b[?25h  Installing backend dependencies ... \u001b[?25ldone\n",
      "\u001b[?25h  Preparing metadata (pyproject.toml) ... \u001b[?25ldone\n",
      "\u001b[?25hRequirement already satisfied: oqpy~=0.3.5 in /Users/hyatkath/Projects/braketvirtualenv/lib/python3.10/site-packages (from amazon-braket-sdk@ git+https://github.com/amazon-braket/amazon-braket-sdk-python@rmshaffer/multi-sim->amazon-braket-simulator-v2==0.1.3.dev0) (0.3.5)\n",
      "Requirement already satisfied: backoff in /Users/hyatkath/Projects/braketvirtualenv/lib/python3.10/site-packages (from amazon-braket-sdk@ git+https://github.com/amazon-braket/amazon-braket-sdk-python@rmshaffer/multi-sim->amazon-braket-simulator-v2==0.1.3.dev0) (2.2.1)\n",
      "Requirement already satisfied: boltons in /Users/hyatkath/Projects/braketvirtualenv/lib/python3.10/site-packages (from amazon-braket-sdk@ git+https://github.com/amazon-braket/amazon-braket-sdk-python@rmshaffer/multi-sim->amazon-braket-simulator-v2==0.1.3.dev0) (21.0.0)\n",
      "Requirement already satisfied: boto3>=1.28.53 in /Users/hyatkath/Projects/braketvirtualenv/lib/python3.10/site-packages (from amazon-braket-sdk@ git+https://github.com/amazon-braket/amazon-braket-sdk-python@rmshaffer/multi-sim->amazon-braket-simulator-v2==0.1.3.dev0) (1.28.62)\n",
      "Requirement already satisfied: cloudpickle==2.2.1 in /Users/hyatkath/Projects/braketvirtualenv/lib/python3.10/site-packages (from amazon-braket-sdk@ git+https://github.com/amazon-braket/amazon-braket-sdk-python@rmshaffer/multi-sim->amazon-braket-simulator-v2==0.1.3.dev0) (2.2.1)\n",
      "Requirement already satisfied: nest-asyncio in /Users/hyatkath/Projects/braketvirtualenv/lib/python3.10/site-packages (from amazon-braket-sdk@ git+https://github.com/amazon-braket/amazon-braket-sdk-python@rmshaffer/multi-sim->amazon-braket-simulator-v2==0.1.3.dev0) (1.5.6)\n",
      "Requirement already satisfied: networkx in /Users/hyatkath/Projects/braketvirtualenv/lib/python3.10/site-packages (from amazon-braket-sdk@ git+https://github.com/amazon-braket/amazon-braket-sdk-python@rmshaffer/multi-sim->amazon-braket-simulator-v2==0.1.3.dev0) (2.8.8)\n",
      "Requirement already satisfied: openpulse in /Users/hyatkath/Projects/braketvirtualenv/lib/python3.10/site-packages (from amazon-braket-sdk@ git+https://github.com/amazon-braket/amazon-braket-sdk-python@rmshaffer/multi-sim->amazon-braket-simulator-v2==0.1.3.dev0) (0.5.0)\n",
      "Requirement already satisfied: openqasm3 in /Users/hyatkath/Projects/braketvirtualenv/lib/python3.10/site-packages (from amazon-braket-sdk@ git+https://github.com/amazon-braket/amazon-braket-sdk-python@rmshaffer/multi-sim->amazon-braket-simulator-v2==0.1.3.dev0) (0.5.0)\n",
      "Requirement already satisfied: sympy in /Users/hyatkath/Projects/braketvirtualenv/lib/python3.10/site-packages (from amazon-braket-sdk@ git+https://github.com/amazon-braket/amazon-braket-sdk-python@rmshaffer/multi-sim->amazon-braket-simulator-v2==0.1.3.dev0) (1.11.1)\n",
      "Requirement already satisfied: backports.entry-points-selectable in /Users/hyatkath/Projects/braketvirtualenv/lib/python3.10/site-packages (from amazon-braket-sdk@ git+https://github.com/amazon-braket/amazon-braket-sdk-python@rmshaffer/multi-sim->amazon-braket-simulator-v2==0.1.3.dev0) (1.3.0)\n",
      "Requirement already satisfied: botocore<1.32.0,>=1.31.62 in /Users/hyatkath/Projects/braketvirtualenv/lib/python3.10/site-packages (from boto3>=1.28.53->amazon-braket-sdk@ git+https://github.com/amazon-braket/amazon-braket-sdk-python@rmshaffer/multi-sim->amazon-braket-simulator-v2==0.1.3.dev0) (1.31.62)\n",
      "Requirement already satisfied: jmespath<2.0.0,>=0.7.1 in /Users/hyatkath/Projects/braketvirtualenv/lib/python3.10/site-packages (from boto3>=1.28.53->amazon-braket-sdk@ git+https://github.com/amazon-braket/amazon-braket-sdk-python@rmshaffer/multi-sim->amazon-braket-simulator-v2==0.1.3.dev0) (1.0.1)\n",
      "Requirement already satisfied: s3transfer<0.8.0,>=0.7.0 in /Users/hyatkath/Projects/braketvirtualenv/lib/python3.10/site-packages (from boto3>=1.28.53->amazon-braket-sdk@ git+https://github.com/amazon-braket/amazon-braket-sdk-python@rmshaffer/multi-sim->amazon-braket-simulator-v2==0.1.3.dev0) (0.7.0)\n",
      "Requirement already satisfied: semantic-version~=2.9 in /Users/hyatkath/Projects/braketvirtualenv/lib/python3.10/site-packages (from juliapkg~=0.1.8->juliacall==0.9.19->amazon-braket-simulator-v2==0.1.3.dev0) (2.10.0)\n",
      "Requirement already satisfied: mypy-extensions>=0.2.0 in /Users/hyatkath/Projects/braketvirtualenv/lib/python3.10/site-packages (from oqpy~=0.3.5->amazon-braket-sdk@ git+https://github.com/amazon-braket/amazon-braket-sdk-python@rmshaffer/multi-sim->amazon-braket-simulator-v2==0.1.3.dev0) (1.0.0)\n",
      "Requirement already satisfied: antlr4-python3-runtime<4.12,>=4.7 in /Users/hyatkath/Projects/braketvirtualenv/lib/python3.10/site-packages (from openpulse->amazon-braket-sdk@ git+https://github.com/amazon-braket/amazon-braket-sdk-python@rmshaffer/multi-sim->amazon-braket-simulator-v2==0.1.3.dev0) (4.9.2)\n"
     ]
    },
    {
     "name": "stdout",
     "output_type": "stream",
     "text": [
      "Requirement already satisfied: annotated-types>=0.4.0 in /Users/hyatkath/Projects/braketvirtualenv/lib/python3.10/site-packages (from pydantic>2->amazon-braket-schemas>=1.20.2->amazon-braket-simulator-v2==0.1.3.dev0) (0.6.0)\n",
      "Requirement already satisfied: pydantic-core==2.16.3 in /Users/hyatkath/Projects/braketvirtualenv/lib/python3.10/site-packages (from pydantic>2->amazon-braket-schemas>=1.20.2->amazon-braket-simulator-v2==0.1.3.dev0) (2.16.3)\n",
      "Requirement already satisfied: typing-extensions>=4.6.1 in /Users/hyatkath/Projects/braketvirtualenv/lib/python3.10/site-packages (from pydantic>2->amazon-braket-schemas>=1.20.2->amazon-braket-simulator-v2==0.1.3.dev0) (4.10.0)\n",
      "Requirement already satisfied: opt-einsum in /Users/hyatkath/Projects/braketvirtualenv/lib/python3.10/site-packages (from amazon-braket-default-simulator@ git+https://github.com/amazon-braket/amazon-braket-default-simulator-python.git@multi#egg=amazon-braket-default-simulator->amazon-braket-sdk@ git+https://github.com/amazon-braket/amazon-braket-sdk-python@rmshaffer/multi-sim->amazon-braket-simulator-v2==0.1.3.dev0) (3.3.0)\n",
      "Requirement already satisfied: scipy in /Users/hyatkath/Projects/braketvirtualenv/lib/python3.10/site-packages (from amazon-braket-default-simulator@ git+https://github.com/amazon-braket/amazon-braket-default-simulator-python.git@multi#egg=amazon-braket-default-simulator->amazon-braket-sdk@ git+https://github.com/amazon-braket/amazon-braket-sdk-python@rmshaffer/multi-sim->amazon-braket-simulator-v2==0.1.3.dev0) (1.10.0)\n",
      "Requirement already satisfied: mpmath>=0.19 in /Users/hyatkath/Projects/braketvirtualenv/lib/python3.10/site-packages (from sympy->amazon-braket-sdk@ git+https://github.com/amazon-braket/amazon-braket-sdk-python@rmshaffer/multi-sim->amazon-braket-simulator-v2==0.1.3.dev0) (1.3.0)\n",
      "Requirement already satisfied: python-dateutil<3.0.0,>=2.1 in /Users/hyatkath/Projects/braketvirtualenv/lib/python3.10/site-packages (from botocore<1.32.0,>=1.31.62->boto3>=1.28.53->amazon-braket-sdk@ git+https://github.com/amazon-braket/amazon-braket-sdk-python@rmshaffer/multi-sim->amazon-braket-simulator-v2==0.1.3.dev0) (2.8.2)\n",
      "Requirement already satisfied: urllib3<2.1,>=1.25.4 in /Users/hyatkath/Projects/braketvirtualenv/lib/python3.10/site-packages (from botocore<1.32.0,>=1.31.62->boto3>=1.28.53->amazon-braket-sdk@ git+https://github.com/amazon-braket/amazon-braket-sdk-python@rmshaffer/multi-sim->amazon-braket-simulator-v2==0.1.3.dev0) (2.0.7)\n",
      "Requirement already satisfied: six>=1.5 in /Users/hyatkath/Projects/braketvirtualenv/lib/python3.10/site-packages (from python-dateutil<3.0.0,>=2.1->botocore<1.32.0,>=1.31.62->boto3>=1.28.53->amazon-braket-sdk@ git+https://github.com/amazon-braket/amazon-braket-sdk-python@rmshaffer/multi-sim->amazon-braket-simulator-v2==0.1.3.dev0) (1.16.0)\n",
      "Note: you may need to restart the kernel to use updated packages.\n"
     ]
    }
   ],
   "source": [
    "%pip install git+https://github.com/amazon-braket/amazon-braket-simulator-v2-python@ksh/multi"
   ]
  },
  {
   "cell_type": "markdown",
   "metadata": {},
   "source": [
    "This tutorial serves as an introduction to the new local simulator for Amazon Braket. This tutorial explains how to use the new local simulator and the performance difference you can expect to see."
   ]
  },
  {
   "cell_type": "markdown",
   "metadata": {},
   "source": [
    "## How to set up and use the new local simulator\n",
    "\n",
    "The new local simulator is available as a Python package, [`amazon-braket-simulator-v2`](https://github.com/amazon-braket/amazon-braket-simulator-v2-python). You can install it locally with `pip`. Then all you need to do is create a `LocalSimulator` object with the `\"braket_sv_v2\"` (state vector) or `\"braket_dm_v2\"` backend names to use the new local simulator. The new local simulator supports qubit counts up to 32 (state vector) or 16 (density matrix). Keep in mind larger qubit counts require more memory!"
   ]
  },
  {
   "cell_type": "code",
   "execution_count": 3,
   "metadata": {
    "ExecuteTime": {
     "end_time": "2023-08-29T21:54:15.038574Z",
     "start_time": "2023-08-29T21:54:12.272012Z"
    },
    "scrolled": false
   },
   "outputs": [],
   "source": [
    "# general imports\n",
    "import numpy as np\n",
    "import math\n",
    "import time\n",
    "\n",
    "# AWS imports: Import Braket SDK modules\n",
    "from braket.circuits import Circuit, circuit, Gate, Instruction\n",
    "from braket.devices import LocalSimulator\n",
    "import braket.simulator_v2\n",
    "\n",
    "default_simulator = LocalSimulator(\"braket_sv\")\n",
    "new_sv_simulator  = LocalSimulator(\"braket_sv_v2\")"
   ]
  },
  {
   "cell_type": "markdown",
   "metadata": {},
   "source": [
    "## Two simple examples: The GHZ state and Quantum Fourier Transform\n",
    "\n",
    "We already presented the GHZ example circuit in the [Running quantum circuits on simulators notebook](../getting_started/1_Running_quantum_circuits_on_simulators/1_Running_quantum_circuits_on_simulators.ipynb). Here, we'll compare the performance of the old and new local simulators for this relatively simple circuit. The GHZ state is simple to prepare:"
   ]
  },
  {
   "cell_type": "code",
   "execution_count": 4,
   "metadata": {
    "ExecuteTime": {
     "end_time": "2023-08-29T21:54:15.044799Z",
     "start_time": "2023-08-29T21:54:15.040249Z"
    }
   },
   "outputs": [],
   "source": [
    "def ghz_circuit(n_qubits: int) -> Circuit:\n",
    "    \"\"\"\n",
    "    Function to return simple GHZ circuit ansatz. Assumes all qubits in range(0, n_qubits-1)\n",
    "    are entangled.\n",
    "\n",
    "    :param int n_qubits: number of qubits\n",
    "    :return: Constructed GHZ circuit\n",
    "    :rtype: Circuit\n",
    "    \"\"\"\n",
    "\n",
    "    circuit = Circuit()                          # instantiate circuit object\n",
    "    circuit.h(0)                                 # add Hadamard gate on first qubit\n",
    "\n",
    "    for ii in range(0, n_qubits-1):\n",
    "        circuit.cnot(control=ii, target=ii+1)    # apply series of CNOT gates\n",
    "    return circuit"
   ]
  },
  {
   "cell_type": "markdown",
   "metadata": {},
   "source": [
    "We will simulate the measurement counts for this circuit on both local simulators. The older local simulator can only simulate up to 18 or so qubits for state-vectors, but the new one can work with substantially more. In this case we will not run up to 32 qubits on the new simulator, because the memory use can become quite substantial. 20 qubits is enough to see that the new simulator can outperform the existing default."
   ]
  },
  {
   "cell_type": "code",
   "execution_count": 5,
   "metadata": {
    "ExecuteTime": {
     "end_time": "2023-08-29T21:57:31.935938Z",
     "start_time": "2023-08-29T21:54:15.062606Z"
    },
    "scrolled": true
   },
   "outputs": [
    {
     "name": "stdout",
     "output_type": "stream",
     "text": [
      "GHZ circuit with 5 qubits:\n",
      "T  : │  0  │  1  │  2  │  3  │  4  │\n",
      "      ┌───┐                         \n",
      "q0 : ─┤ H ├───●─────────────────────\n",
      "      └───┘   │                     \n",
      "            ┌─┴─┐                   \n",
      "q1 : ───────┤ X ├───●───────────────\n",
      "            └───┘   │               \n",
      "                  ┌─┴─┐             \n",
      "q2 : ─────────────┤ X ├───●─────────\n",
      "                  └───┘   │         \n",
      "                        ┌─┴─┐       \n",
      "q3 : ───────────────────┤ X ├───●───\n",
      "                        └───┘   │   \n",
      "                              ┌─┴─┐ \n",
      "q4 : ─────────────────────────┤ X ├─\n",
      "                              └───┘ \n",
      "T  : │  0  │  1  │  2  │  3  │  4  │\n",
      "Old local simulator runtime: 0.05741596221923828\n",
      "New local simulator runtime: 3.9716742038726807\n",
      "GHZ circuit with 10 qubits:\n",
      "T  : │  0  │  1  │  2  │  3  │  4  │  5  │  6  │  7  │  8  │  9  │\n",
      "      ┌───┐                                                       \n",
      "q0 : ─┤ H ├───●───────────────────────────────────────────────────\n",
      "      └───┘   │                                                   \n",
      "            ┌─┴─┐                                                 \n",
      "q1 : ───────┤ X ├───●─────────────────────────────────────────────\n",
      "            └───┘   │                                             \n",
      "                  ┌─┴─┐                                           \n",
      "q2 : ─────────────┤ X ├───●───────────────────────────────────────\n",
      "                  └───┘   │                                       \n",
      "                        ┌─┴─┐                                     \n",
      "q3 : ───────────────────┤ X ├───●─────────────────────────────────\n",
      "                        └───┘   │                                 \n",
      "                              ┌─┴─┐                               \n",
      "q4 : ─────────────────────────┤ X ├───●───────────────────────────\n",
      "                              └───┘   │                           \n",
      "                                    ┌─┴─┐                         \n",
      "q5 : ───────────────────────────────┤ X ├───●─────────────────────\n",
      "                                    └───┘   │                     \n",
      "                                          ┌─┴─┐                   \n",
      "q6 : ─────────────────────────────────────┤ X ├───●───────────────\n",
      "                                          └───┘   │               \n",
      "                                                ┌─┴─┐             \n",
      "q7 : ───────────────────────────────────────────┤ X ├───●─────────\n",
      "                                                └───┘   │         \n",
      "                                                      ┌─┴─┐       \n",
      "q8 : ─────────────────────────────────────────────────┤ X ├───●───\n",
      "                                                      └───┘   │   \n",
      "                                                            ┌─┴─┐ \n",
      "q9 : ───────────────────────────────────────────────────────┤ X ├─\n",
      "                                                            └───┘ \n",
      "T  : │  0  │  1  │  2  │  3  │  4  │  5  │  6  │  7  │  8  │  9  │\n",
      "Old local simulator runtime: 0.009541988372802734\n",
      "New local simulator runtime: 0.002708911895751953\n",
      "GHZ circuit with 15 qubits:\n",
      "T   : │  0  │  1  │  2  │  3  │  4  │  5  │  6  │  7  │  8  │  9  │ 10  │ 11  │ 12  │ 13  │ 14  │\n",
      "       ┌───┐                                                                                     \n",
      "q0  : ─┤ H ├───●─────────────────────────────────────────────────────────────────────────────────\n",
      "       └───┘   │                                                                                 \n",
      "             ┌─┴─┐                                                                               \n",
      "q1  : ───────┤ X ├───●───────────────────────────────────────────────────────────────────────────\n",
      "             └───┘   │                                                                           \n",
      "                   ┌─┴─┐                                                                         \n",
      "q2  : ─────────────┤ X ├───●─────────────────────────────────────────────────────────────────────\n",
      "                   └───┘   │                                                                     \n",
      "                         ┌─┴─┐                                                                   \n",
      "q3  : ───────────────────┤ X ├───●───────────────────────────────────────────────────────────────\n",
      "                         └───┘   │                                                               \n",
      "                               ┌─┴─┐                                                             \n",
      "q4  : ─────────────────────────┤ X ├───●─────────────────────────────────────────────────────────\n",
      "                               └───┘   │                                                         \n",
      "                                     ┌─┴─┐                                                       \n",
      "q5  : ───────────────────────────────┤ X ├───●───────────────────────────────────────────────────\n",
      "                                     └───┘   │                                                   \n",
      "                                           ┌─┴─┐                                                 \n",
      "q6  : ─────────────────────────────────────┤ X ├───●─────────────────────────────────────────────\n",
      "                                           └───┘   │                                             \n",
      "                                                 ┌─┴─┐                                           \n",
      "q7  : ───────────────────────────────────────────┤ X ├───●───────────────────────────────────────\n",
      "                                                 └───┘   │                                       \n",
      "                                                       ┌─┴─┐                                     \n",
      "q8  : ─────────────────────────────────────────────────┤ X ├───●─────────────────────────────────\n",
      "                                                       └───┘   │                                 \n",
      "                                                             ┌─┴─┐                               \n",
      "q9  : ───────────────────────────────────────────────────────┤ X ├───●───────────────────────────\n",
      "                                                             └───┘   │                           \n",
      "                                                                   ┌─┴─┐                         \n",
      "q10 : ─────────────────────────────────────────────────────────────┤ X ├───●─────────────────────\n",
      "                                                                   └───┘   │                     \n",
      "                                                                         ┌─┴─┐                   \n",
      "q11 : ───────────────────────────────────────────────────────────────────┤ X ├───●───────────────\n",
      "                                                                         └───┘   │               \n",
      "                                                                               ┌─┴─┐             \n",
      "q12 : ─────────────────────────────────────────────────────────────────────────┤ X ├───●─────────\n",
      "                                                                               └───┘   │         \n",
      "                                                                                     ┌─┴─┐       \n",
      "q13 : ───────────────────────────────────────────────────────────────────────────────┤ X ├───●───\n",
      "                                                                                     └───┘   │   \n",
      "                                                                                           ┌─┴─┐ \n",
      "q14 : ─────────────────────────────────────────────────────────────────────────────────────┤ X ├─\n",
      "                                                                                           └───┘ \n",
      "T   : │  0  │  1  │  2  │  3  │  4  │  5  │  6  │  7  │  8  │  9  │ 10  │ 11  │ 12  │ 13  │ 14  │\n",
      "Old local simulator runtime: 0.01719808578491211\n",
      "New local simulator runtime: 0.02809882164001465\n",
      "GHZ circuit with 20 qubits:\n",
      "T   : │  0  │  1  │  2  │  3  │  4  │  5  │  6  │  7  │  8  │  9  │ 10  │ 11  │ 12  │ 13  │ 14  │ 15  │ 16  │ 17  │ 18  │ 19  │\n",
      "       ┌───┐                                                                                                                   \n",
      "q0  : ─┤ H ├───●───────────────────────────────────────────────────────────────────────────────────────────────────────────────\n",
      "       └───┘   │                                                                                                               \n",
      "             ┌─┴─┐                                                                                                             \n",
      "q1  : ───────┤ X ├───●─────────────────────────────────────────────────────────────────────────────────────────────────────────\n",
      "             └───┘   │                                                                                                         \n",
      "                   ┌─┴─┐                                                                                                       \n",
      "q2  : ─────────────┤ X ├───●───────────────────────────────────────────────────────────────────────────────────────────────────\n",
      "                   └───┘   │                                                                                                   \n",
      "                         ┌─┴─┐                                                                                                 \n",
      "q3  : ───────────────────┤ X ├───●─────────────────────────────────────────────────────────────────────────────────────────────\n",
      "                         └───┘   │                                                                                             \n",
      "                               ┌─┴─┐                                                                                           \n",
      "q4  : ─────────────────────────┤ X ├───●───────────────────────────────────────────────────────────────────────────────────────\n",
      "                               └───┘   │                                                                                       \n",
      "                                     ┌─┴─┐                                                                                     \n",
      "q5  : ───────────────────────────────┤ X ├───●─────────────────────────────────────────────────────────────────────────────────\n",
      "                                     └───┘   │                                                                                 \n",
      "                                           ┌─┴─┐                                                                               \n",
      "q6  : ─────────────────────────────────────┤ X ├───●───────────────────────────────────────────────────────────────────────────\n",
      "                                           └───┘   │                                                                           \n",
      "                                                 ┌─┴─┐                                                                         \n",
      "q7  : ───────────────────────────────────────────┤ X ├───●─────────────────────────────────────────────────────────────────────\n",
      "                                                 └───┘   │                                                                     \n",
      "                                                       ┌─┴─┐                                                                   \n",
      "q8  : ─────────────────────────────────────────────────┤ X ├───●───────────────────────────────────────────────────────────────\n",
      "                                                       └───┘   │                                                               \n",
      "                                                             ┌─┴─┐                                                             \n",
      "q9  : ───────────────────────────────────────────────────────┤ X ├───●─────────────────────────────────────────────────────────\n",
      "                                                             └───┘   │                                                         \n",
      "                                                                   ┌─┴─┐                                                       \n",
      "q10 : ─────────────────────────────────────────────────────────────┤ X ├───●───────────────────────────────────────────────────\n",
      "                                                                   └───┘   │                                                   \n",
      "                                                                         ┌─┴─┐                                                 \n",
      "q11 : ───────────────────────────────────────────────────────────────────┤ X ├───●─────────────────────────────────────────────\n",
      "                                                                         └───┘   │                                             \n",
      "                                                                               ┌─┴─┐                                           \n",
      "q12 : ─────────────────────────────────────────────────────────────────────────┤ X ├───●───────────────────────────────────────\n",
      "                                                                               └───┘   │                                       \n",
      "                                                                                     ┌─┴─┐                                     \n",
      "q13 : ───────────────────────────────────────────────────────────────────────────────┤ X ├───●─────────────────────────────────\n",
      "                                                                                     └───┘   │                                 \n",
      "                                                                                           ┌─┴─┐                               \n",
      "q14 : ─────────────────────────────────────────────────────────────────────────────────────┤ X ├───●───────────────────────────\n",
      "                                                                                           └───┘   │                           \n",
      "                                                                                                 ┌─┴─┐                         \n",
      "q15 : ───────────────────────────────────────────────────────────────────────────────────────────┤ X ├───●─────────────────────\n",
      "                                                                                                 └───┘   │                     \n",
      "                                                                                                       ┌─┴─┐                   \n",
      "q16 : ─────────────────────────────────────────────────────────────────────────────────────────────────┤ X ├───●───────────────\n",
      "                                                                                                       └───┘   │               \n",
      "                                                                                                             ┌─┴─┐             \n",
      "q17 : ───────────────────────────────────────────────────────────────────────────────────────────────────────┤ X ├───●─────────\n",
      "                                                                                                             └───┘   │         \n",
      "                                                                                                                   ┌─┴─┐       \n",
      "q18 : ─────────────────────────────────────────────────────────────────────────────────────────────────────────────┤ X ├───●───\n",
      "                                                                                                                   └───┘   │   \n",
      "                                                                                                                         ┌─┴─┐ \n",
      "q19 : ───────────────────────────────────────────────────────────────────────────────────────────────────────────────────┤ X ├─\n",
      "                                                                                                                         └───┘ \n",
      "T   : │  0  │  1  │  2  │  3  │  4  │  5  │  6  │  7  │  8  │  9  │ 10  │ 11  │ 12  │ 13  │ 14  │ 15  │ 16  │ 17  │ 18  │ 19  │\n",
      "Old local simulator runtime: 0.09916520118713379\n",
      "New local simulator runtime: 0.09689807891845703\n"
     ]
    }
   ],
   "source": [
    "qubit_range = range(5, 21, 5)\n",
    "n_shots     = 50\n",
    "ghz_circs   = {}\n",
    "old_results = {}\n",
    "new_results = {}\n",
    "old_durations = {}\n",
    "new_durations = {}\n",
    "for num_qubits in qubit_range:\n",
    "    ghz = ghz_circuit(num_qubits)\n",
    "    old_start = time.time()\n",
    "    old_results[num_qubits] = default_simulator.run(ghz, shots=n_shots).result()\n",
    "    old_stop  = time.time()\n",
    "    old_durations[num_qubits] = old_stop - old_start\n",
    "    new_start = time.time()\n",
    "    new_results[num_qubits] = new_sv_simulator.run(ghz, shots=n_shots).result()\n",
    "    new_stop  = time.time()\n",
    "    new_durations[num_qubits] = new_stop - new_start\n",
    "    ghz_circs[num_qubits] = ghz\n",
    "\n",
    "for num_qubits in qubit_range:\n",
    "    print(f\"GHZ circuit with {num_qubits} qubits:\")\n",
    "    print(ghz_circs[num_qubits])\n",
    "    print(f'Old local simulator runtime: {old_durations[num_qubits]}')\n",
    "    print(f'New local simulator runtime: {new_durations[num_qubits]}')"
   ]
  },
  {
   "cell_type": "markdown",
   "metadata": {},
   "source": [
    "Another example is the quantum Fourier transform (QFT) and its inverse, shown in [the QFT notebook](../advanced_circuits_algorithms/Quantum_Fourier_Transform/Quantum_Fourier_Transform.ipynb). The QFT circuit has more gate operations than GHZ for the same qubit count, so it is a good test to see how efficiently a local simulator implements each gate."
   ]
  },
  {
   "cell_type": "code",
   "execution_count": 6,
   "metadata": {
    "ExecuteTime": {
     "end_time": "2023-08-29T21:57:31.936079Z",
     "start_time": "2023-08-29T21:57:31.917126Z"
    }
   },
   "outputs": [],
   "source": [
    "@circuit.subroutine(register=True)\n",
    "def qft(qubits):    \n",
    "    \"\"\"\n",
    "    Construct a circuit object corresponding to the Quantum Fourier Transform (QFT)\n",
    "    algorithm, applied to the argument qubits.  Does not use recursion to generate the QFT.\n",
    "    \n",
    "    Args:\n",
    "        qubits (int): The list of qubits on which to apply the QFT\n",
    "    \"\"\"\n",
    "    qftcirc = Circuit()\n",
    "\n",
    "    # get number of qubits\n",
    "    num_qubits = len(qubits)\n",
    "    \n",
    "    for k in range(num_qubits):\n",
    "        # First add a Hadamard gate\n",
    "        qftcirc.h(qubits[k])\n",
    "    \n",
    "        # Then apply the controlled rotations, with weights (angles) defined by the distance to the control qubit.\n",
    "        # Start on the qubit after qubit k, and iterate until the end.  When num_qubits==1, this loop does not run.\n",
    "        for j in range(1,num_qubits - k):\n",
    "            angle = 2*math.pi/(2**(j+1))\n",
    "            qftcirc.cphaseshift(qubits[k+j],qubits[k], angle)\n",
    "            \n",
    "    # Then add SWAP gates to reverse the order of the qubits:\n",
    "    for i in range(math.floor(num_qubits/2)):\n",
    "        qftcirc.swap(qubits[i], qubits[-i-1])\n",
    "        \n",
    "    return qftcirc"
   ]
  },
  {
   "cell_type": "code",
   "execution_count": 7,
   "metadata": {
    "ExecuteTime": {
     "end_time": "2023-08-29T21:58:24.654423Z",
     "start_time": "2023-08-29T21:57:31.957381Z"
    },
    "scrolled": true
   },
   "outputs": [
    {
     "name": "stdout",
     "output_type": "stream",
     "text": [
      "QFT circuit with 5 qubits:\n",
      "<function qft at 0x132d94820>\n",
      "Old local simulator runtime: 0.013636112213134766\n",
      "New local simulator runtime: 0.33399128913879395\n",
      "QFT circuit with 10 qubits:\n",
      "<function qft at 0x132d94820>\n",
      "Old local simulator runtime: 0.024706125259399414\n",
      "New local simulator runtime: 0.004575014114379883\n",
      "QFT circuit with 15 qubits:\n",
      "<function qft at 0x132d94820>\n",
      "Old local simulator runtime: 0.09122514724731445\n",
      "New local simulator runtime: 0.1430189609527588\n",
      "QFT circuit with 20 qubits:\n",
      "<function qft at 0x132d94820>\n",
      "Old local simulator runtime: 0.8756647109985352\n",
      "New local simulator runtime: 0.28096795082092285\n"
     ]
    }
   ],
   "source": [
    "qubit_range = range(5, 21, 5)\n",
    "qft_circs   = {}\n",
    "old_results = {}\n",
    "new_results = {}\n",
    "old_durations = {}\n",
    "new_durations = {}\n",
    "for num_qubits in qubit_range:\n",
    "    # generate QFT circuit\n",
    "    qft_circ = qft(range(num_qubits))\n",
    "    old_start = time.time()\n",
    "    old_results[num_qubits] = default_simulator.run(qft_circ, shots=n_shots).result()\n",
    "    old_stop  = time.time()\n",
    "    old_durations[num_qubits] = old_stop - old_start\n",
    "    new_start = time.time()\n",
    "    new_results[num_qubits] = new_sv_simulator.run(qft_circ, shots=n_shots).result()\n",
    "    new_stop  = time.time()\n",
    "    new_durations[num_qubits] = new_stop - new_start\n",
    "    qft_circs[num_qubits] = qft\n",
    "\n",
    "for num_qubits in qubit_range:\n",
    "    print(f\"QFT circuit with {num_qubits} qubits:\")\n",
    "    print(qft_circs[num_qubits])\n",
    "    print(f'Old local simulator runtime: {old_durations[num_qubits]}')\n",
    "    print(f'New local simulator runtime: {new_durations[num_qubits]}')"
   ]
  },
  {
   "cell_type": "markdown",
   "metadata": {},
   "source": [
    "## Running circuit batches\n",
    "\n",
    "The new local simulator also has improved support for running *batches* of circuits. To see the effectiveness of this new functionality, we'll run a batch of 5 QFT circuits for varying qubit counts:"
   ]
  },
  {
   "cell_type": "code",
   "execution_count": 8,
   "metadata": {},
   "outputs": [
    {
     "name": "stdout",
     "output_type": "stream",
     "text": [
      "5 QFT circuits with 5 qubits:\n",
      "<function qft at 0x132d94820>\n",
      "Old local simulator runtime: 1.6875698566436768\n",
      "New local simulator runtime: 1.0647048950195312\n",
      "5 QFT circuits with 10 qubits:\n",
      "<function qft at 0x132d94820>\n",
      "Old local simulator runtime: 1.6384410858154297\n",
      "New local simulator runtime: 0.016267776489257812\n",
      "5 QFT circuits with 15 qubits:\n",
      "<function qft at 0x132d94820>\n",
      "Old local simulator runtime: 13.306490898132324\n",
      "New local simulator runtime: 0.028629779815673828\n",
      "5 QFT circuits with 20 qubits:\n",
      "<function qft at 0x132d94820>\n",
      "Old local simulator runtime: 25.028006076812744\n",
      "New local simulator runtime: 0.3528890609741211\n"
     ]
    }
   ],
   "source": [
    "qubit_range = range(5, 21, 5)\n",
    "qft_circs   = {}\n",
    "old_results = {}\n",
    "new_results = {}\n",
    "old_durations = {}\n",
    "new_durations = {}\n",
    "\n",
    "batch_size = 5\n",
    "\n",
    "for num_qubits in qubit_range:\n",
    "    # generate QFT circuit\n",
    "    qft_circ = qft(range(num_qubits))\n",
    "    old_start = time.time()\n",
    "    batch_circs = [qft_circ for c_ix in range(batch_size)]\n",
    "    old_results[num_qubits] = default_simulator.run_batch(batch_circs, shots=n_shots).results()\n",
    "    old_stop  = time.time()\n",
    "    old_durations[num_qubits] = old_stop - old_start\n",
    "    new_start = time.time()\n",
    "    new_results[num_qubits] = new_sv_simulator.run_batch(batch_circs, shots=n_shots).results()\n",
    "    new_stop  = time.time()\n",
    "    new_durations[num_qubits] = new_stop - new_start\n",
    "    qft_circs[num_qubits] = qft\n",
    "\n",
    "for num_qubits in qubit_range:\n",
    "    print(f\"{batch_size} QFT circuits with {num_qubits} qubits:\")\n",
    "    print(qft_circs[num_qubits])\n",
    "    print(f'Old local simulator runtime: {old_durations[num_qubits]}')\n",
    "    print(f'New local simulator runtime: {new_durations[num_qubits]}')"
   ]
  }
 ],
 "metadata": {
  "kernelspec": {
   "display_name": "Python 3 (ipykernel)",
   "language": "python",
   "name": "python3"
  },
  "language_info": {
   "codemirror_mode": {
    "name": "ipython",
    "version": 3
   },
   "file_extension": ".py",
   "mimetype": "text/x-python",
   "name": "python",
   "nbconvert_exporter": "python",
   "pygments_lexer": "ipython3",
   "version": "3.10.14"
  },
  "vscode": {
   "interpreter": {
    "hash": "590fab68195cf107911461461f81d5c472d3d6127f579badfcfad30f03e5cab2"
   }
  }
 },
 "nbformat": 4,
 "nbformat_minor": 4
}
