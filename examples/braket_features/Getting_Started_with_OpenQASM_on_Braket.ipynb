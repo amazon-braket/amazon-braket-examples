{
 "cells": [
  {
   "cell_type": "markdown",
   "id": "eaa17474",
   "metadata": {},
   "source": [
    "# Getting Started with OpenQASM on Braket"
   ]
  },
  {
   "cell_type": "code",
   "execution_count": 1,
   "id": "531458bc",
   "metadata": {},
   "outputs": [],
   "source": [
    "# Use Braket SDK Cost Tracking to estimate the cost to run this example\n",
    "from braket.tracking import Tracker\n",
    "t = Tracker().start()"
   ]
  },
  {
   "cell_type": "markdown",
   "id": "ef155419",
   "metadata": {},
   "source": [
    "OpenQASM is a popular human-readable and hardware-agnostic quantum circuit description language. It is open-source and has been actively maintained by a [Technical Steering Committee](https://medium.com/qiskit/introducing-a-technical-steering-committee-for-openqasm3-f9db808108e1) formed by IBM, Amazon, Microsoft and the University of Innsbruck. Amazon Braket now supports OpenQASM 3.0 as an *Intermediate Representation* (IR) in addition to the in-house *JSON-Based AWS Quantum Circuit Description* ([JAQCD](https://github.com/aws/amazon-braket-schemas-python/tree/main/src/braket/ir/jaqcd)). In this notebook, we demonstrate how to submit OpenQASM tasks to various devices on Braket and introduce some OpenQASM features available on Braket."
   ]
  },
  {
   "cell_type": "markdown",
   "id": "4766b3c5",
   "metadata": {},
   "source": [
    "## Create and submit an OpenQASM task\n",
    "\n",
    "Submitting a quantum task with OpenQASM is just as simple as using JAQCD. You can use the Amazon Braket Python SDK, Boto3, or the AWS CLI to submit OpenQASM 3.0 tasks to an Amazon Braket device. We will go over each method in this section.\n",
    "\n",
    "\n",
    "### A Bell state\n",
    "\n",
    "We will start with by preparing a [Bell state](https://en.wikipedia.org/wiki/Bell_state) in OpenQASM:\n"
   ]
  },
  {
   "cell_type": "code",
   "execution_count": 2,
   "id": "74f36023",
   "metadata": {},
   "outputs": [],
   "source": [
    "bell_qasm = \"\"\"\n",
    "OPENQASM 3;\n",
    "\n",
    "qubit[2] q;\n",
    "bit[2] c;\n",
    "\n",
    "h q[0];\n",
    "cnot q[0], q[1];\n",
    "\n",
    "c = measure q;\n",
    "\"\"\""
   ]
  },
  {
   "cell_type": "markdown",
   "id": "d6be0671",
   "metadata": {},
   "source": [
    "Compare this to the same Bell state written in JAQCD:"
   ]
  },
  {
   "cell_type": "code",
   "execution_count": 3,
   "id": "8fb7142f",
   "metadata": {},
   "outputs": [
    {
     "name": "stdout",
     "output_type": "stream",
     "text": [
      "{\n",
      "  \"braketSchemaHeader\": {\n",
      "    \"name\": \"braket.ir.jaqcd.program\",\n",
      "    \"version\": \"1\"\n",
      "  },\n",
      "  \"instructions\": [\n",
      "    {\n",
      "      \"target\": 0,\n",
      "      \"type\": \"h\"\n",
      "    },\n",
      "    {\n",
      "      \"control\": 0,\n",
      "      \"target\": 1,\n",
      "      \"type\": \"cnot\"\n",
      "    }\n",
      "  ],\n",
      "  \"results\": null,\n",
      "  \"basis_rotation_instructions\": null\n",
      "}\n"
     ]
    }
   ],
   "source": [
    "from braket.ir.jaqcd import CNot, H, Program\n",
    "\n",
    "program = Program(instructions=[H(target=0), CNot(control=0, target=1)])\n",
    "print(program.json(indent=2))"
   ]
  },
  {
   "cell_type": "markdown",
   "id": "d5cdfcb9",
   "metadata": {},
   "source": [
    "Immediately, we can see a difference: In OpenQASM, users define their own qubit registers, and thus the syntax is closer to what quantum algorithm researchers are used to; on the other hand, in JAQCD, qubits are indexed by integers and the convention is closer to that of hardware providers. Also, JAQCD has result types and basis rotation instructions embedded in the language while OpenQASM doesn't support them inherently (but later we will show how to use the `pragma` syntax to support them in OpenQASM)."
   ]
  },
  {
   "cell_type": "markdown",
   "id": "da37dad5",
   "metadata": {},
   "source": [
    "\n",
    "### Use the Python SDK to create OpenQASM 3.0 tasks\n",
    "\n",
    "Most Braket users might want to use the Braket Python SDK to submit OpenQASM tasks. To submit our Bell state program in the Python SDK, we first choose the quantum device that we want to run our  program on. In this example, we will use the SV1 state-vector simulator for demonstration."
   ]
  },
  {
   "cell_type": "code",
   "execution_count": 4,
   "id": "5044bf8c",
   "metadata": {},
   "outputs": [],
   "source": [
    "import boto3\n",
    "import json\n",
    "from braket.aws import AwsDevice"
   ]
  },
  {
   "cell_type": "markdown",
   "id": "8b4aeea1",
   "metadata": {},
   "source": [
    "To submit the OpenQASM task, we initialize an `OpenQASMProgram` object using the Bell state program text string `bell_qasm` we defined above and send it to the SV1 simulator."
   ]
  },
  {
   "cell_type": "code",
   "execution_count": 5,
   "id": "13f35368",
   "metadata": {},
   "outputs": [],
   "source": [
    "from braket.ir.openqasm import Program as OpenQASMProgram\n",
    "\n",
    "sv1 = AwsDevice(\"arn:aws:braket:::device/quantum-simulator/amazon/sv1\")\n",
    "\n",
    "bell_program = OpenQASMProgram(source=bell_qasm)\n",
    "\n",
    "bell_task = sv1.run(\n",
    "    bell_program, \n",
    "    shots=100, \n",
    ")"
   ]
  },
  {
   "cell_type": "markdown",
   "id": "7d967fd5",
   "metadata": {},
   "source": [
    "###  Submit OpenQASM 3.0 programs using the AWS Command Line Interface\n",
    "\n",
    "Alternatively, if you like the command line experience or you are not a Python user, you can also choose to use the [AWS Command Line Interface (CLI)](https://aws.amazon.com/cli/) to submit our Bell state program. Before doing that we have to make sure we have [AWS CLI installed](https://docs.aws.amazon.com/cli/latest/userguide/getting-started-install.html). The following code saves the `bell_qasm` string to a file named `bell.qasm`:"
   ]
  },
  {
   "cell_type": "code",
   "execution_count": 6,
   "id": "1cc596be",
   "metadata": {},
   "outputs": [],
   "source": [
    "with open(\"bell.qasm\", \"w\") as f:\n",
    "    f.write(bell_qasm)"
   ]
  },
  {
   "cell_type": "markdown",
   "id": "da2fb85b",
   "metadata": {},
   "source": [
    "Then we can use the command below to submit the task via AWS CLI. Remember to replace the placeholder \\\"amazon-braket-my-bucket\\\" with your own bucket name.\n",
    "      \n",
    "    aws braket create-quantum-task \\\n",
    "    --region \"us-west-1\" \\\n",
    "    --device-arn \"arn:aws:braket:us-west-1::device/qpu/rigetti/Aspen-M-2\" \\\n",
    "    --shots 100 \\\n",
    "    --action '{\n",
    "        \"braketSchemaHeader\": {\n",
    "            \"name\": \"braket.ir.openqasm.program\", \n",
    "            \"version\": \"1\"\n",
    "        },\n",
    "        \"source\": $(cat bell.qasm)\n",
    "    }'"
   ]
  },
  {
   "cell_type": "markdown",
   "id": "3ba6b8b5",
   "metadata": {},
   "source": [
    "## Figure out what OpenQASM features are supported on each device\n",
    "\n",
    "Different devices on Braket support different subsets of OpenQASM features. To see what are the supported OpenQASM features on each device, we can simply check the device capability for OpenQASM actions. As an example, we can take a look at the `action` field in the device capability of SV1 simulator:"
   ]
  },
  {
   "cell_type": "code",
   "execution_count": 7,
   "id": "a7951803",
   "metadata": {},
   "outputs": [
    {
     "data": {
      "text/plain": [
       "OpenQASMDeviceActionProperties(version=['1.0'], actionType='braket.ir.openqasm.program', supportedOperations=['ccnot', 'cnot', 'cphaseshift', 'cphaseshift00', 'cphaseshift01', 'cphaseshift10', 'cswap', 'cy', 'cz', 'h', 'i', 'iswap', 'pswap', 'phaseshift', 'rx', 'ry', 'rz', 's', 'si', 'swap', 't', 'ti', 'v', 'vi', 'x', 'xx', 'xy', 'y', 'yy', 'z', 'zz'], supportedPragmas=['braket_unitary_matrix', 'braket_basis_rotation', 'braket_result_type_sample', 'braket_result_type_expectation', 'braket_result_type_variance', 'braket_result_type_probability', 'braket_result_type_amplitude'], forbiddenPragmas=['braket_result_type_state_vector', 'braket_result_type_density_matrix', 'braket_noise_amplitude_damping', 'braket_noise_bit_flip', 'braket_noise_depolarizing', 'braket_noise_kraus', 'braket_noise_pauli_channel', 'braket_noise_generalized_amplitude_damping', 'braket_noise_phase_flip', 'braket_noise_phase_damping', 'braket_noise_two_qubit_dephasing', 'braket_noise_two_qubit_depolarizing'], maximumQubitArrays=1, maximumClassicalArrays=1, forbiddenArrayOperations=['concatenation', 'negativeIndex', 'range', 'rangeWithStep', 'slicing', 'selection'], requiresAllQubitsMeasurement=True, supportPhysicalQubits=False, requiresContiguousQubitIndices=True, disabledQubitRewiringSupported=False, supportedResultTypes=[ResultType(name='Sample', observables=['x', 'y', 'z', 'h', 'i', 'hermitian'], minShots=1, maxShots=100000), ResultType(name='Expectation', observables=['x', 'y', 'z', 'h', 'i', 'hermitian'], minShots=0, maxShots=100000), ResultType(name='Variance', observables=['x', 'y', 'z', 'h', 'i', 'hermitian'], minShots=0, maxShots=100000), ResultType(name='Probability', observables=None, minShots=1, maxShots=100000), ResultType(name='Amplitude', observables=None, minShots=0, maxShots=0)])"
      ]
     },
     "execution_count": 92,
     "metadata": {},
     "output_type": "execute_result"
    }
   ],
   "source": [
    "# supportedOperations\n",
    "sv1.properties.action['braket.ir.openqasm.program'].supportedOperations"
   ]
  },
  {
   "cell_type": "code",
   "execution_count": 8,
   "id": "05e224e3",
   "metadata": {},
   "outputs": [],
   "source": [
    "# supportedPragmas\n",
    "sv1.properties.action['braket.ir.openqasm.program'].supportedPragmas"
   ]
  },
  {
   "cell_type": "code",
   "execution_count": 9,
   "id": "f123f0ab",
   "metadata": {},
   "outputs": [],
   "source": [
    "# forbiddenPragmas\n",
    "sv1.properties.action['braket.ir.openqasm.program'].forbiddenPragmas"
   ]
  },
  {
   "cell_type": "markdown",
   "id": "337a591f",
   "metadata": {},
   "source": [
    "The SV1 OpenQASM `action` field lists supported/forbidden OpenQASM features on the device, including `supportedPragmas`, `forbiddenPragmas`, `maximumQubitArrays`, `maximumClassicalArrays`, `requiresAllQubitsMeasurement`, `supportedResultTypes`, etc. The names are self-evident, but readers are encouraged to visit the [Amazon Braket developer guide](https://docs.aws.amazon.com/braket/latest/developerguide/braket-using.html) for full information of what these fields mean."
   ]
  },
  {
   "cell_type": "markdown",
   "id": "0f0f17d2",
   "metadata": {},
   "source": [
    "# OpenQASM features on Braket\n",
    "\n",
    "Braket supports many useful OpenQASM features, either through the OpenQASM program syntax or Braket-specific pragmas. We will walk through some of these features in this section.\n",
    "\n",
    "## Simulating Noise with OpenQASM\n",
    "\n",
    "With the fully on-demand, high-performance, density-matrix simulator [DM1](https://docs.aws.amazon.com/braket/latest/developerguide/braket-devices.html#braket-simulator-dm1), you can easily investigate the effects of realistic noise on your quantum programs. Now, we show how to use OpenQASM programs to leverage the circuit-level noise simulation capability of DM1.\n",
    "\n",
    "To simulate noise, we have to be able to specify different noise channels. Although syntax for noise channels is not available in the OpenQASM language, Braket uses the `pragma` statement to extend OpenQASM for defining noise channels. Here is an example of an OpenQASM program that prepares a noisy 3-qubit [GHZ state](https://en.wikipedia.org/wiki/Greenberger%E2%80%93Horne%E2%80%93Zeilinger_state):"
   ]
  },
  {
   "cell_type": "code",
   "execution_count": 10,
   "id": "9ee3dfb9",
   "metadata": {},
   "outputs": [],
   "source": [
    "noisy_ghz3_program = \"\"\"\n",
    "// noisy_ghz3.qasm\n",
    "// Prepare a 3 noisy qubit GHZ state\n",
    "OPENQASM 3;\n",
    "\n",
    "qubit[3] q;\n",
    "bit[3] c;\n",
    "\n",
    "h q[0];\n",
    "#pragma braket noise depolarizing(0.1) q[0]\n",
    "cnot q[0], q[1];\n",
    "#pragma braket noise depolarizing(0.1) q[0]\n",
    "#pragma braket noise depolarizing(0.1) q[1]\n",
    "cnot q[1], q[2];\n",
    "#pragma braket noise depolarizing(0.1) q[0]\n",
    "#pragma braket noise depolarizing(0.1) q[1]\n",
    "\n",
    "c = measure q;\n",
    "\"\"\""
   ]
  },
  {
   "cell_type": "markdown",
   "id": "3123b95b",
   "metadata": {},
   "source": [
    "In the example above, we inserted the depolarizing noise channel with probability of 0.1 after each gate in the circuit. The `noisy_ghz3_program` is equivalent to the following program in the Braket SDK:"
   ]
  },
  {
   "cell_type": "code",
   "execution_count": 11,
   "id": "2755f581",
   "metadata": {},
   "outputs": [
    {
     "data": {
      "text/plain": [
       "Circuit('instructions': [Instruction('operator': H('qubit_count': 1), 'target': QubitSet([Qubit(0)])), Instruction('operator': Depolarizing('probability': 0.1, 'qubit_count': 1), 'target': QubitSet([Qubit(0)])), Instruction('operator': CNot('qubit_count': 2), 'target': QubitSet([Qubit(0), Qubit(1)])), Instruction('operator': Depolarizing('probability': 0.1, 'qubit_count': 1), 'target': QubitSet([Qubit(0)])), Instruction('operator': Depolarizing('probability': 0.1, 'qubit_count': 1), 'target': QubitSet([Qubit(1)])), Instruction('operator': CNot('qubit_count': 2), 'target': QubitSet([Qubit(1), Qubit(2)])), Instruction('operator': Depolarizing('probability': 0.1, 'qubit_count': 1), 'target': QubitSet([Qubit(1)])), Instruction('operator': Depolarizing('probability': 0.1, 'qubit_count': 1), 'target': QubitSet([Qubit(2)]))])"
      ]
     },
     "execution_count": 94,
     "metadata": {},
     "output_type": "execute_result"
    }
   ],
   "source": [
    "from braket.circuits import Circuit, Observable, Gate, Noise\n",
    "\n",
    "noisy_ghz3_circ = Circuit().h(0).cnot(0, 1).cnot(1, 2)\n",
    "noise = Noise.Depolarizing(probability=0.1)\n",
    "noisy_ghz3_circ.apply_gate_noise(noise)"
   ]
  },
  {
   "cell_type": "markdown",
   "id": "f57bd2c8",
   "metadata": {},
   "source": [
    "To see if `noisy_ghz3_program` and `noisy_ghz3_circ` are indeed the same, we can run both circuits and compare the results:"
   ]
  },
  {
   "cell_type": "code",
   "execution_count": 12,
   "id": "138d5edd",
   "metadata": {},
   "outputs": [],
   "source": [
    "dm1 = AwsDevice(\"arn:aws:braket:::device/quantum-simulator/amazon/dm1\")\n",
    "noisy_ghz3_circ_task = dm1.run(noisy_ghz3_circ, shots = 10)\n",
    "noisy_ghz3_program_task = dm1.run(OpenQASMProgram(source=noisy_ghz3_program), shots = 10)"
   ]
  },
  {
   "cell_type": "code",
   "execution_count": 13,
   "id": "2a21c9e7",
   "metadata": {},
   "outputs": [
    {
     "name": "stdout",
     "output_type": "stream",
     "text": [
      "sdk measurement results: Counter({'111': 4, '000': 3, '011': 2, '001': 1})\n",
      "openqasm measurement results: Counter({'111': 5, '011': 2, '000': 2, '100': 1})\n"
     ]
    }
   ],
   "source": [
    "sdk_result = noisy_ghz3_circ_task.result()\n",
    "openqasm_result = noisy_ghz3_program_task.result()\n",
    "sdk_measurement = sdk_result.measurement_counts\n",
    "openqasm_measurement = openqasm_result.measurement_counts\n",
    "print('sdk measurement results:', sdk_measurement)\n",
    "print('openqasm measurement results:', openqasm_measurement)"
   ]
  },
  {
   "cell_type": "markdown",
   "id": "f2f57bb0",
   "metadata": {},
   "source": [
    "As expected, the measurement counts of the two are very close.\n",
    "\n",
    "In addition to depolarizing noises, we can simulate more complicated noise types with Braket, e.g., `pauli_channel`, `amplitude_damping`, etc. Check the [Amazon Braket developer guide](https://docs.aws.amazon.com/braket/latest/developerguide/braket-using.html) for a complete list of noise channels supported on Braket. Here we give another example of general noise channels defined by the Kraus representation."
   ]
  },
  {
   "cell_type": "code",
   "execution_count": 14,
   "id": "26366ddd",
   "metadata": {},
   "outputs": [],
   "source": [
    "noisy_program_with_kraus_operators = \"\"\"\n",
    "// noisy_program_with_kraus_operators\n",
    "OPENQASM 3;\n",
    "\n",
    "qubit[2] q;\n",
    "bit[2] c;\n",
    "\n",
    "h q[0];\n",
    "#pragma braket noise kraus([[0.9486833, 0], [0, 0.9486833]], [[0, 0.31622777], [0.31622777, 0]]) q[0]\n",
    "cnot q[1], q[2];\n",
    "\n",
    "c = measure q;\n",
    "\"\"\""
   ]
  },
  {
   "cell_type": "markdown",
   "id": "4bacd368",
   "metadata": {},
   "source": [
    "We inserted a single qubit noise channel defined by two 2x2 complex Kraus operators in the example above on qubit `q[0]`. Braket will validate if the Kraus operators indeed form a Completely-Positive and Trace-Preserving (CPTP) map."
   ]
  },
  {
   "cell_type": "markdown",
   "id": "b432a5cc",
   "metadata": {},
   "source": [
    "## Simulating arbitrary unitaries with OpenQASM\n",
    "\n",
    "The on-demand [SV1 simulator](https://docs.aws.amazon.com/braket/latest/developerguide/braket-devices.html#braket-simulator-sv1) allows us to simulate arbitrary unitary gates in a circuit. With OpenQASM, we can use the `unitary` pramga to insert these arbitrary unitary gates: "
   ]
  },
  {
   "cell_type": "code",
   "execution_count": 15,
   "id": "d1f97f3f",
   "metadata": {},
   "outputs": [],
   "source": [
    "program_with_unitary = \"\"\"\n",
    "// noisy_program_with_kraus_operators\n",
    "OPENQASM 3;\n",
    "\n",
    "qubit q;\n",
    "bit c;\n",
    "\n",
    "#pragma braket unitary([[0, -1im], [1im, 0]]) q\n",
    "c = measure q;\n",
    "\"\"\""
   ]
  },
  {
   "cell_type": "markdown",
   "id": "60bd5667",
   "metadata": {},
   "source": [
    "The `1im` in the `unitary` pragma is the OpenQASM notation of the imaginary number $i$, thus, we were simply using the pragma to perform a Pauli Y gate. We can check it by submitting the above program to SV1."
   ]
  },
  {
   "cell_type": "code",
   "execution_count": 16,
   "id": "4461b1a8",
   "metadata": {},
   "outputs": [
    {
     "name": "stdout",
     "output_type": "stream",
     "text": [
      "Counter({'1': 10})\n"
     ]
    }
   ],
   "source": [
    "unitary_task = dm1.run(OpenQASMProgram(source=program_with_unitary), shots = 10)\n",
    "unitary_result = unitary_task.result()\n",
    "print(unitary_result.measurement_counts)"
   ]
  },
  {
   "cell_type": "markdown",
   "id": "792214cc",
   "metadata": {},
   "source": [
    "As expected, the Pauli Y gate flipped the initial 0 state to the 1 state."
   ]
  },
  {
   "cell_type": "markdown",
   "id": "e1a0b186",
   "metadata": {},
   "source": [
    "## Qubit Rewiring with OpenQASM\n",
    "\n",
    "Amazon Braket supports the [physical qubit notation within OpenQASM](https://qiskit.github.io/openqasm/language/types.html#physical-qubits) on Rigetti devices. When using physical qubits, you have to ensure that the qubits are indeed connected on the selected device. Alternatively, if qubit registers are used instead, the `PARTIAL` rewiring strategy is enabled by default on Rigetti devices. The following example shows how to use physical qubit notation in an OpenQASM program:"
   ]
  },
  {
   "cell_type": "code",
   "execution_count": 17,
   "id": "3d211790",
   "metadata": {},
   "outputs": [],
   "source": [
    "ghz_program_with_physical_qubits = \"\"\"\n",
    "// Prepare a GHZ state\n",
    "OPENQASM 3;\n",
    "\n",
    "bit[3] ro;\n",
    "h $0;\n",
    "cnot $0, $1;\n",
    "cnot $1, $2;\n",
    "ro[0] = measure $0;\n",
    "ro[1] = measure $1;\n",
    "ro[2] = measure $2;\n",
    "\"\"\""
   ]
  },
  {
   "cell_type": "markdown",
   "id": "137f8048",
   "metadata": {},
   "source": [
    "We can run the above program on the Rigetti Aspen-M-2 device,"
   ]
  },
  {
   "cell_type": "code",
   "execution_count": 19,
   "id": "9c42efc5",
   "metadata": {},
   "outputs": [
    {
     "name": "stdout",
     "output_type": "stream",
     "text": [
      "Measured qubits: [0, 1, 2]\n"
     ]
    }
   ],
   "source": [
    "# choose the quantum device\n",
    "aspen_m2 = AwsDevice(\"arn:aws:braket:us-west-1::device/qpu/rigetti/Aspen-M-2\")\n",
    "\n",
    "ghz_program_with_physical_qubits_task = aspen_m2.run(OpenQASMProgram(source=ghz_program_with_physical_qubits), shots = 10)\n",
    "measured_qubits = ghz_program_with_physical_qubits_task.result().measured_qubits\n",
    "print(\"Measured qubits:\", measured_qubits)"
   ]
  },
  {
   "cell_type": "markdown",
   "id": "634e2d1b",
   "metadata": {},
   "source": [
    "As we can see, physical qubits 0, 1 and 2 are indeed being used and measured."
   ]
  },
  {
   "cell_type": "markdown",
   "id": "5105dd8d",
   "metadata": {},
   "source": [
    "<div class=\"alert alert-block alert-info\">\n",
    "    <b>Note:</b> This section and the next verbatim box section uses the Rigetti Aspen-M-2 device. When you run this notebook, make sure the device is currently available. You can find QPU availability windows on the <a href=\"https://us-west-1.console.aws.amazon.com/braket/home?region=us-west-1#/devices\">Devices page</a> in the Amazon Braket Console\n",
    "</div>"
   ]
  },
  {
   "cell_type": "markdown",
   "id": "825dd0de",
   "metadata": {},
   "source": [
    "## Verbatim Compilation with OpenQASM\n",
    "\n",
    "In [a previous example notebook](https://github.com/aws/amazon-braket-examples/blob/main/examples/braket_features/Verbatim_Compilation.ipynb), we talked about verbatim compilation on Braket to gain more precise control on Rigetti devices. With OpenQASM3.0, we can use the `box` syntax together with the `verbatim` pragma to perform verbatim compilation. Here is an example:"
   ]
  },
  {
   "cell_type": "code",
   "execution_count": 20,
   "id": "0ca70478",
   "metadata": {},
   "outputs": [],
   "source": [
    "program_with_verbatim_box = \"\"\"\n",
    "OPENQASM 3;\n",
    "\n",
    "bit[2] ro;\n",
    "#pragma braket verbatim\n",
    "box{\n",
    " rx(3.141592653589793) $0;\n",
    " rx(3.141592653589793) $0;\n",
    " cz $0, $1;\n",
    "}\n",
    "ro[0] = measure $0;\n",
    "ro[1] = measure $1;\n",
    "\"\"\""
   ]
  },
  {
   "cell_type": "markdown",
   "id": "01e8ca7e",
   "metadata": {},
   "source": [
    "To program with verbatim boxes, we need to make sure that\n",
    "- we are using native gates supported by Rigetti devices. Native gates can be found using the following script:\n"
   ]
  },
  {
   "cell_type": "code",
   "execution_count": 21,
   "id": "92ab8cf7",
   "metadata": {},
   "outputs": [
    {
     "name": "stdout",
     "output_type": "stream",
     "text": [
      "The native gates for the Aspen-M-2 device are:\n",
      "rx\n",
      "rz\n",
      "cz\n",
      "cphaseshift\n",
      "xy\n"
     ]
    }
   ],
   "source": [
    "print(\"The native gates for the\", aspen_m2.name, \"device are:\")\n",
    "for gate in aspen_m2.properties.paradigm.nativeGateSet:\n",
    "    print(gate)"
   ]
  },
  {
   "cell_type": "markdown",
   "id": "2d71b5af",
   "metadata": {},
   "source": [
    "- we use the physical qubit notation.\n",
    "- qubit operands are indeed connected on the physical device. Recall that the device qubit connectivity can be found using the following commands:"
   ]
  },
  {
   "cell_type": "code",
   "execution_count": 22,
   "id": "d5f76be2",
   "metadata": {},
   "outputs": [
    {
     "name": "stdout",
     "output_type": "stream",
     "text": [
      "{'0': ['1', '7'], '1': ['0', '16', '2'], '10': ['11', '17'], '11': ['10', '12', '26'], '12': ['11', '13', '25'], '13': ['12', '14'], '14': ['13', '15'], '15': ['14', '16', '2'], '16': ['1', '15', '17'], '17': ['10', '16'], '2': ['1', '15', '3'], '20': ['21', '27'], '21': ['20', '22', '36'], '22': ['21'], '23': ['24'], '24': ['23', '25'], '25': ['12', '24', '26'], '26': ['11', '25', '27'], '27': ['20', '26'], '3': ['2', '4'], '30': ['31', '37'], '31': ['30', '32', '46'], '32': ['31', '33', '45'], '33': ['32', '34'], '34': ['33', '35'], '35': ['34', '36'], '36': ['21', '35', '37'], '37': ['30', '36'], '4': ['3', '5'], '42': ['43'], '43': ['42', '44'], '44': ['43', '45'], '45': ['32', '44', '46'], '46': ['31', '45', '47'], '47': ['46'], '5': ['4', '6'], '6': ['5', '7'], '7': ['0', '6']}\n"
     ]
    }
   ],
   "source": [
    "import networkx as nx\n",
    "# access and visualize the device topology\n",
    "print(aspen_m2.properties.paradigm.connectivity.connectivityGraph)\n",
    "nx.draw_kamada_kawai(aspen_m2.topology_graph, with_labels=True, font_color=\"white\")"
   ]
  },
  {
   "cell_type": "markdown",
   "id": "f3d0d6a8",
   "metadata": {},
   "source": [
    "Now we can submit a task of the above program with verbatim box."
   ]
  },
  {
   "cell_type": "code",
   "execution_count": 23,
   "id": "15af3a32",
   "metadata": {
    "scrolled": true
   },
   "outputs": [
    {
     "name": "stdout",
     "output_type": "stream",
     "text": [
      "DECLARE ro BIT[2]\n",
      "PRAGMA INITIAL_REWIRING \"NAIVE\"\n",
      "RX(pi) 0\n",
      "RX(pi) 0\n",
      "CZ 0 1\n",
      "MEASURE 1 ro[1]\n",
      "MEASURE 0 ro[0]\n",
      "\n"
     ]
    }
   ],
   "source": [
    "verbatim_task = aspen_m2.run(OpenQASMProgram(source=program_with_verbatim_box), shots = 10)\n",
    "verbatim_result = verbatim_task.result()\n",
    "meta = verbatim_result.additional_metadata.rigettiMetadata\n",
    "print(meta.compiledProgram)\n"
   ]
  },
  {
   "cell_type": "markdown",
   "id": "cb577e18",
   "metadata": {},
   "source": [
    "As shown above, the two consecutive `rx`  $\\pi$-rotation gates did not get optimized and we confirm that our program was indeed executed verbatim."
   ]
  },
  {
   "cell_type": "markdown",
   "id": "2f367cc3",
   "metadata": {},
   "source": [
    "## Requesting Result Types with OpenQASM\n",
    "\n",
    "Braket provides [a rich library of result types](https://docs.aws.amazon.com/braket/latest/developerguide/braket-result-types.html) for circuit executions. With OpenQASM, requesting different result types for our tasks is easier than ever using the `result` pragma. Next, we give an example of requesting result types for our Bell state program submitted to SV1. Before doing that, let's see what result types are supported on SV1:"
   ]
  },
  {
   "cell_type": "code",
   "execution_count": 24,
   "id": "7f348ffd",
   "metadata": {},
   "outputs": [
    {
     "name": "stdout",
     "output_type": "stream",
     "text": [
      "name='Sample' observables=['x', 'y', 'z', 'h', 'i', 'hermitian'] minShots=1 maxShots=100000\n",
      "name='Expectation' observables=['x', 'y', 'z', 'h', 'i', 'hermitian'] minShots=0 maxShots=100000\n",
      "name='Variance' observables=['x', 'y', 'z', 'h', 'i', 'hermitian'] minShots=0 maxShots=100000\n",
      "name='Probability' observables=None minShots=1 maxShots=100000\n",
      "name='Amplitude' observables=None minShots=0 maxShots=0\n"
     ]
    }
   ],
   "source": [
    "# print the result types supported by SV1\n",
    "for iter in sv1.properties.action['braket.ir.openqasm.program'].supportedResultTypes:\n",
    "    print(iter)"
   ]
  },
  {
   "cell_type": "markdown",
   "id": "f57fe7f7",
   "metadata": {},
   "source": [
    "With knowing the supported result types on SV1, we choose to request the `Expectation` of $X \\otimes Z$ observable on `q[0]` and `q[1]` and the `Amplitude` result type for a `shots=0` task of our bell program:"
   ]
  },
  {
   "cell_type": "code",
   "execution_count": 25,
   "id": "0f4a78a9",
   "metadata": {},
   "outputs": [],
   "source": [
    "bell_with_result_type = \"\"\"\n",
    "OPENQASM 3;\n",
    "\n",
    "qubit[2] q;\n",
    "\n",
    "#pragma braket result expectation x(q[0]) @ z(q[1])\n",
    "#pragma braket result amplitude \"00\", \"11\"\n",
    "h q[0];\n",
    "cnot q[0], q[1];\n",
    "\"\"\""
   ]
  },
  {
   "cell_type": "markdown",
   "id": "ef643d36",
   "metadata": {},
   "source": [
    "The location of the `result` pragma is very flexible as long as it's after the qubit register definition (if you use physical qubits, you can put `result` pragmas anywhere after the program header).\n",
    "\n",
    "We can submit the above program and receive the results for our requested result types."
   ]
  },
  {
   "cell_type": "code",
   "execution_count": 26,
   "id": "2b7aa936",
   "metadata": {},
   "outputs": [
    {
     "name": "stdout",
     "output_type": "stream",
     "text": [
      "[0.0, {'00': (0.7071067811865475+0j), '11': (0.7071067811865475+0j)}]\n"
     ]
    }
   ],
   "source": [
    "bell_result_types_task = sv1.run(OpenQASMProgram(source=bell_with_result_type), shots = 0)\n",
    "bell_result = bell_result_types_task.result()\n",
    "values = bell_result.values\n",
    "print(values)"
   ]
  },
  {
   "cell_type": "markdown",
   "id": "0ce5c48b",
   "metadata": {},
   "source": [
    "At last, we want to remind our Braket OpenQASM users that there are two requirements when requesting result types:\n",
    "1. For `shots=0` tasks, requesting non-simultaneously measurable result types is allowed, but for `shots>0` tasks, it is not allowed. For example, we can write the following OpenQASM program in a `shots=0` task but not in a `shots>0` task, since the two result types are not simultaneously measurable:"
   ]
  },
  {
   "cell_type": "code",
   "execution_count": 27,
   "id": "aa1174eb",
   "metadata": {},
   "outputs": [],
   "source": [
    "program_with_non_simultaneously_measurable_result_types = \"\"\"\n",
    "OPENQASM 3;\n",
    "\n",
    "qubit[2] q;\n",
    "\n",
    "h q[0];\n",
    "cnot q[0], q[1];\n",
    "\n",
    "#pragma braket result expectation x(q[0]) @ z(q[1])\n",
    "#pragma braket result expectation hermitian([[0, -1im], [1im, 0]]) q[0]\n",
    "\"\"\""
   ]
  },
  {
   "cell_type": "markdown",
   "id": "291b3c4e",
   "metadata": {},
   "source": [
    "2. Do not use measurement instructions and request result types in the same OpenQASM program, otherwise a validation error will be raised. Since measurement instructions are basically equivalent to `#pragma braket result sample z(qubit)`, we encourage users to adapt a consistent style of requesting result types in the same program."
   ]
  },
  {
   "cell_type": "markdown",
   "id": "e07092a6",
   "metadata": {},
   "source": [
    "# Conclusion\n",
    "\n",
    "In this notebook, you learned how to submit OpenQASM tasks and use OpenQASM features on Braket. Hope you enjoyed it! You can find more information about OpenQASM3.0 in its [live specification](https://qiskit.github.io/openqasm/index.html), and you can learn more about OpenQASM support on Braket in the [Amazon Braket documentation](https://docs.aws.amazon.com/braket/latest/developerguide/)."
   ]
  },
  {
   "cell_type": "code",
   "execution_count": 28,
   "id": "61317ba8",
   "metadata": {},
   "outputs": [
    {
     "name": "stdout",
     "output_type": "stream",
     "text": [
      "Task Summary\n",
      "{'arn:aws:braket:::device/quantum-simulator/amazon/sv1': {'shots': 100, 'tasks': {'CREATED': 1, 'COMPLETED': 1}, 'execution_duration': datetime.timedelta(microseconds=6000), 'billed_execution_duration': datetime.timedelta(seconds=3)}, 'arn:aws:braket:::device/quantum-simulator/amazon/dm1': {'shots': 30, 'tasks': {'COMPLETED': 3}, 'execution_duration': datetime.timedelta(microseconds=169000), 'billed_execution_duration': datetime.timedelta(seconds=9)}, 'arn:aws:braket:us-west-1::device/qpu/rigetti/Aspen-M-2': {'shots': 20, 'tasks': {'QUEUED': 2}}}\n",
      "Note: Charges shown are estimates based on your Amazon Braket simulator and quantum processing unit (QPU) task usage. Estimated charges shown may differ from your actual charges. Estimated charges do not factor in any discounts or credits, and you may experience additional charges based on your use of other services such as Amazon Elastic Compute Cloud (Amazon EC2).\n",
      "Estimated cost to run this example: 0.62 USD\n"
     ]
    }
   ],
   "source": [
    "print(\"Task Summary\")\n",
    "print(t.quantum_tasks_statistics())\n",
    "print('Note: Charges shown are estimates based on your Amazon Braket simulator and quantum processing unit (QPU) task usage. Estimated charges shown may differ from your actual charges. Estimated charges do not factor in any discounts or credits, and you may experience additional charges based on your use of other services such as Amazon Elastic Compute Cloud (Amazon EC2).')\n",
    "print(f\"Estimated cost to run this example: {t.qpu_tasks_cost() + t.simulator_tasks_cost():.2f} USD\")"
   ]
  }
 ],
 "metadata": {
  "kernelspec": {
   "display_name": "Python 3.8.10 ('venv': venv)",
   "language": "python",
   "name": "python3"
  },
  "language_info": {
   "codemirror_mode": {
    "name": "ipython",
    "version": 3
   },
   "file_extension": ".py",
   "mimetype": "text/x-python",
   "name": "python",
   "nbconvert_exporter": "python",
   "pygments_lexer": "ipython3",
   "version": "3.8.10"
  },
  "vscode": {
   "interpreter": {
    "hash": "590fab68195cf107911461461f81d5c472d3d6127f579badfcfad30f03e5cab2"
   }
  }
 },
 "nbformat": 4,
 "nbformat_minor": 5
}
