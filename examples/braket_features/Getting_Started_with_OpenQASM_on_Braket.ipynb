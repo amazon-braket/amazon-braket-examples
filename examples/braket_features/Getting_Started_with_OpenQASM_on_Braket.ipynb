{
    "cells": [
        {
            "cell_type": "markdown",
            "id": "80787a2d092c6fe2",
            "metadata": {},
            "source": [
                "# Getting Started with OpenQASM on Braket"
            ]
        },
        {
            "cell_type": "code",
            "execution_count": 1,
            "id": "f30932accbfc8959",
            "metadata": {
                "ExecuteTime": {
                    "end_time": "2023-12-04T04:03:29.377972Z",
                    "start_time": "2023-12-04T04:03:29.350550Z"
                }
            },
            "outputs": [],
            "source": [
                "# Use Braket SDK Cost Tracking to estimate the cost to run this example\n",
                "from braket.tracking import Tracker\n",
                "t = Tracker().start()"
            ]
        },
        {
            "cell_type": "markdown",
            "id": "a2b23cf2abc23663",
            "metadata": {},
            "source": [
                "OpenQASM is a popular human-readable and hardware-agnostic quantum circuit description language. It is open-source and has been actively maintained by a [Technical Steering Committee](https://medium.com/qiskit/introducing-a-technical-steering-committee-for-openqasm3-f9db808108e1) formed by IBM, Amazon, Microsoft and the University of Innsbruck. Amazon Braket now supports OpenQASM 3.0 as an *Intermediate Representation* (IR) in addition to the in-house *JSON-Based AWS Quantum Circuit Description* ([JAQCD](https://github.com/amazon-braket/amazon-braket-schemas-python/tree/main/src/braket/ir/jaqcd)). In this notebook, we demonstrate how to submit OpenQASM quantum tasks to various devices on Braket and introduce some OpenQASM features available on Braket."
            ]
        },
        {
            "cell_type": "markdown",
            "id": "ee898521529c0469",
            "metadata": {},
            "source": [
                "## Create and submit an OpenQASM quantum task\n",
                "\n",
                "Submitting a quantum task with OpenQASM is just as simple as using JAQCD. You can use the Amazon Braket Python SDK, Boto3, or the AWS CLI to submit OpenQASM 3.0 quantum tasks to an Amazon Braket device. We will go over each method in this section.\n",
                "\n",
                "\n",
                "### A Bell state\n",
                "\n",
                "We will start with by preparing a [Bell state](https://en.wikipedia.org/wiki/Bell_state) in OpenQASM:\n"
            ]
        },
        {
            "cell_type": "code",
            "execution_count": 2,
            "id": "ca2bc5f0a29e6dd6",
            "metadata": {
                "ExecuteTime": {
                    "end_time": "2023-12-04T04:03:31.815079Z",
                    "start_time": "2023-12-04T04:03:31.796365Z"
                }
            },
            "outputs": [],
            "source": [
                "bell_qasm = \"\"\"\n",
                "OPENQASM 3;\n",
                "\n",
                "qubit[2] q;\n",
                "bit[2] c;\n",
                "\n",
                "h q[0];\n",
                "cnot q[0], q[1];\n",
                "\n",
                "c = measure q;\n",
                "\"\"\""
            ]
        },
        {
            "cell_type": "markdown",
            "id": "d9b588c2b02979f6",
            "metadata": {},
            "source": [
                "Compare this to the same Bell state written in JAQCD:"
            ]
        },
        {
            "cell_type": "code",
            "execution_count": 3,
            "id": "a378dc21e3ede3d0",
            "metadata": {
                "ExecuteTime": {
                    "end_time": "2023-12-04T04:03:32.662932Z",
                    "start_time": "2023-12-04T04:03:32.608503Z"
                }
            },
            "outputs": [
                {
                    "name": "stdout",
                    "output_type": "stream",
                    "text": [
                        "{\n",
                        "  \"braketSchemaHeader\": {\n",
                        "    \"name\": \"braket.ir.jaqcd.program\",\n",
                        "    \"version\": \"1\"\n",
                        "  },\n",
                        "  \"instructions\": [\n",
                        "    {\n",
                        "      \"target\": 0,\n",
                        "      \"type\": \"h\"\n",
                        "    },\n",
                        "    {\n",
                        "      \"control\": 0,\n",
                        "      \"target\": 1,\n",
                        "      \"type\": \"cnot\"\n",
                        "    }\n",
                        "  ],\n",
                        "  \"results\": null,\n",
                        "  \"basis_rotation_instructions\": null\n",
                        "}\n"
                    ]
                }
            ],
            "source": [
                "from braket.ir.jaqcd import CNot, H, Program\n",
                "\n",
                "program = Program(instructions=[H(target=0), CNot(control=0, target=1)])\n",
                "print(program.json(indent=2))"
            ]
        },
        {
            "cell_type": "markdown",
            "id": "b8f68befdae02c0",
            "metadata": {},
            "source": [
                "Immediately, we can see a difference: In OpenQASM, users define their own qubit registers, and thus the syntax is closer to what quantum algorithm researchers are used to; on the other hand, in JAQCD, qubits are indexed by integers and the convention is closer to that of hardware providers. Also, JAQCD has result types and basis rotation instructions embedded in the language while OpenQASM doesn't support them inherently (but later we will show how to use the `pragma` syntax to support them in OpenQASM)."
            ]
        },
        {
            "cell_type": "markdown",
            "id": "a92df8c76a81db2c",
            "metadata": {},
            "source": [
                "\n",
                "### Use the Python SDK to create OpenQASM 3.0 quantum tasks\n",
                "\n",
                "Most Braket users might want to use the Braket Python SDK to submit OpenQASM quantum tasks. To submit our Bell state program in the Python SDK, we first choose the quantum device that we want to run our  program on. In this example, we will use the SV1 state-vector simulator for demonstration."
            ]
        },
        {
            "cell_type": "code",
            "execution_count": 4,
            "id": "8b433a601a62b11d",
            "metadata": {
                "ExecuteTime": {
                    "end_time": "2023-12-04T04:03:38.321971Z",
                    "start_time": "2023-12-04T04:03:36.978785Z"
                }
            },
            "outputs": [],
            "source": [
                "from braket.aws import AwsDevice\n",
                "from braket.devices import Devices\n",
                "sv1 = AwsDevice(Devices.Amazon.SV1)"
            ]
        },
        {
            "cell_type": "markdown",
            "id": "d46340ec242cfc8b",
            "metadata": {},
            "source": [
                "To submit the OpenQASM quantum task, we initialize an `OpenQASMProgram` object using the Bell state program text string `bell_qasm` we defined above and send it to the SV1 simulator."
            ]
        },
        {
            "cell_type": "code",
            "execution_count": 5,
            "id": "1e81325c5357195d",
            "metadata": {
                "ExecuteTime": {
                    "end_time": "2023-12-04T04:03:41.134199Z",
                    "start_time": "2023-12-04T04:03:39.866510Z"
                },
                "scrolled": false
            },
            "outputs": [],
            "source": [
                "from braket.ir.openqasm import Program as OpenQASMProgram\n",
                "\n",
                "bell_program = OpenQASMProgram(source=bell_qasm)\n",
                "bell_task = sv1.run(\n",
                "    bell_program, \n",
                "    shots=100, \n",
                ")"
            ]
        },
        {
            "cell_type": "markdown",
            "id": "ba9729ce6ab2bf91",
            "metadata": {},
            "source": [
                "###  Submit OpenQASM 3.0 programs using the AWS Command Line Interface\n",
                "\n",
                "Alternatively, if you like the command line experience or you are not a Python user, you can also choose to use the [AWS Command Line Interface (CLI)](https://aws.amazon.com/cli/) to submit our Bell state program. Before doing that we have to make sure we have [AWS CLI installed](https://docs.aws.amazon.com/cli/latest/userguide/getting-started-install.html). The following code saves the `bell_qasm` string to a file named `bell.qasm`:"
            ]
        },
        {
            "cell_type": "code",
            "execution_count": 6,
            "id": "61362f489016dd1f",
            "metadata": {
                "ExecuteTime": {
                    "end_time": "2023-11-21T08:32:41.407834Z",
                    "start_time": "2023-11-21T08:32:41.403524Z"
                }
            },
            "outputs": [],
            "source": [
                "with open(\"bell.qasm\", \"w\") as f:\n",
                "    f.write(bell_qasm)"
            ]
        },
        {
            "cell_type": "markdown",
            "id": "5c4be932b51fd2ac",
            "metadata": {},
            "source": [
                "Then we can use the command below to submit the quantum task via AWS CLI. Remember to replace the placeholder \\\"amazon-braket-my-bucket\\\" with your own bucket name.\n",
                "      \n",
                "    aws braket create-quantum-task \\\n",
                "    --region \"us-west-1\" \\\n",
                "    --device-arn \"arn:aws:braket:us-west-1::device/qpu/rigetti/Ankaa-2\" \\\n",
                "    --shots 100 \\\n",
                "    --action '{\n",
                "        \"braketSchemaHeader\": {\n",
                "            \"name\": \"braket.ir.openqasm.program\", \n",
                "            \"version\": \"1\"\n",
                "        },\n",
                "        \"source\": $(cat bell.qasm)\n",
                "    }'"
            ]
        },
        {
            "cell_type": "markdown",
            "id": "68222e9240c91d58",
            "metadata": {
                "collapsed": false
            },
            "source": [
                "## Convert OpenQASM 3.0 programs to circuits\n",
                "\n",
                "You can convert OpenQASM programs into Braket `Circuit` objects if you want to programmatically change your program."
            ]
        },
        {
            "cell_type": "code",
            "execution_count": 7,
            "id": "96417df481e2f5d",
            "metadata": {
                "ExecuteTime": {
                    "end_time": "2023-11-21T08:32:41.420933Z",
                    "start_time": "2023-11-21T08:32:41.407658Z"
                },
                "collapsed": false
            },
            "outputs": [
                {
                    "name": "stdout",
                    "output_type": "stream",
                    "text": [
                        "T  : │  0  │  1  │  2  │\n",
                        "      ┌───┐       ┌───┐ \n",
                        "q0 : ─┤ H ├───●───┤ M ├─\n",
                        "      └───┘   │   └───┘ \n",
                        "            ┌─┴─┐ ┌───┐ \n",
                        "q1 : ───────┤ X ├─┤ M ├─\n",
                        "            └───┘ └───┘ \n",
                        "T  : │  0  │  1  │  2  │\n"
                    ]
                }
            ],
            "source": [
                "from braket.circuits import Circuit\n",
                "print(Circuit.from_ir(bell_qasm))"
            ]
        },
        {
            "cell_type": "markdown",
            "id": "4fec44c2bb4680df",
            "metadata": {},
            "source": [
                "## Figure out what OpenQASM features are supported on each device\n",
                "\n",
                "Different devices on Braket support different subsets of OpenQASM features. To see what are the supported OpenQASM features on each device, we can simply check the device capability for OpenQASM actions. As an example, we can take a look at the `action` field in the device capability of SV1 simulator:"
            ]
        },
        {
            "cell_type": "code",
            "execution_count": 8,
            "id": "78a5c9f03581cea4",
            "metadata": {
                "ExecuteTime": {
                    "end_time": "2023-11-21T08:32:41.425542Z",
                    "start_time": "2023-11-21T08:32:41.422663Z"
                }
            },
            "outputs": [
                {
                    "data": {
                        "text/plain": [
                            "['ccnot',\n",
                            " 'cnot',\n",
                            " 'cphaseshift',\n",
                            " 'cphaseshift00',\n",
                            " 'cphaseshift01',\n",
                            " 'cphaseshift10',\n",
                            " 'cswap',\n",
                            " 'cy',\n",
                            " 'cz',\n",
                            " 'ecr',\n",
                            " 'h',\n",
                            " 'i',\n",
                            " 'iswap',\n",
                            " 'pswap',\n",
                            " 'phaseshift',\n",
                            " 'rx',\n",
                            " 'ry',\n",
                            " 'rz',\n",
                            " 's',\n",
                            " 'si',\n",
                            " 'swap',\n",
                            " 't',\n",
                            " 'ti',\n",
                            " 'v',\n",
                            " 'vi',\n",
                            " 'x',\n",
                            " 'xx',\n",
                            " 'xy',\n",
                            " 'y',\n",
                            " 'yy',\n",
                            " 'z',\n",
                            " 'zz',\n",
                            " 'gpi',\n",
                            " 'gpi2',\n",
                            " 'ms']"
                        ]
                    },
                    "execution_count": 8,
                    "metadata": {},
                    "output_type": "execute_result"
                }
            ],
            "source": [
                "# supportedOperations\n",
                "sv1.properties.action['braket.ir.openqasm.program'].supportedOperations"
            ]
        },
        {
            "cell_type": "code",
            "execution_count": 9,
            "id": "85fbc40dc254813e",
            "metadata": {
                "ExecuteTime": {
                    "end_time": "2023-11-21T08:32:41.463833Z",
                    "start_time": "2023-11-21T08:32:41.425725Z"
                }
            },
            "outputs": [
                {
                    "data": {
                        "text/plain": [
                            "['braket_unitary_matrix',\n",
                            " 'braket_basis_rotation',\n",
                            " 'braket_result_type_sample',\n",
                            " 'braket_result_type_expectation',\n",
                            " 'braket_result_type_variance',\n",
                            " 'braket_result_type_probability',\n",
                            " 'braket_result_type_amplitude',\n",
                            " 'braket_result_type_adjoint_gradient']"
                        ]
                    },
                    "execution_count": 9,
                    "metadata": {},
                    "output_type": "execute_result"
                }
            ],
            "source": [
                "# supportedPragmas\n",
                "sv1.properties.action['braket.ir.openqasm.program'].supportedPragmas"
            ]
        },
        {
            "cell_type": "code",
            "execution_count": 10,
            "id": "1fa721d9960f5412",
            "metadata": {
                "ExecuteTime": {
                    "end_time": "2023-11-21T08:32:41.464559Z",
                    "start_time": "2023-11-21T08:32:41.429030Z"
                }
            },
            "outputs": [
                {
                    "data": {
                        "text/plain": [
                            "['braket_result_type_state_vector',\n",
                            " 'braket_result_type_density_matrix',\n",
                            " 'braket_noise_amplitude_damping',\n",
                            " 'braket_noise_bit_flip',\n",
                            " 'braket_noise_depolarizing',\n",
                            " 'braket_noise_kraus',\n",
                            " 'braket_noise_pauli_channel',\n",
                            " 'braket_noise_generalized_amplitude_damping',\n",
                            " 'braket_noise_phase_flip',\n",
                            " 'braket_noise_phase_damping',\n",
                            " 'braket_noise_two_qubit_dephasing',\n",
                            " 'braket_noise_two_qubit_depolarizing']"
                        ]
                    },
                    "execution_count": 10,
                    "metadata": {},
                    "output_type": "execute_result"
                }
            ],
            "source": [
                "# forbiddenPragmas\n",
                "sv1.properties.action['braket.ir.openqasm.program'].forbiddenPragmas"
            ]
        },
        {
            "cell_type": "markdown",
            "id": "8190bb8089c7db3f",
            "metadata": {},
            "source": [
                "The SV1 OpenQASM `action` field lists supported/forbidden OpenQASM features on the device, including `supportedPragmas`, `forbiddenPragmas`, `maximumQubitArrays`, `maximumClassicalArrays`, `requiresAllQubitsMeasurement`, `supportedResultTypes`, etc. The names are self-evident, but readers are encouraged to visit the [Amazon Braket developer guide](https://docs.aws.amazon.com/braket/latest/developerguide/braket-using.html) for full information of what these fields mean."
            ]
        },
        {
            "cell_type": "markdown",
            "id": "ee537a4601e4c244",
            "metadata": {},
            "source": [
                "# OpenQASM features on Braket\n",
                "\n",
                "Braket supports many useful OpenQASM features, either through the OpenQASM program syntax or Braket-specific pragmas. We will walk through some of these features in this section.\n",
                "\n",
                "## Simulating Noise with OpenQASM\n",
                "\n",
                "With the fully on-demand, high-performance, density-matrix simulator [DM1](https://docs.aws.amazon.com/braket/latest/developerguide/braket-devices.html#braket-simulator-dm1), you can easily investigate the effects of realistic noise on your quantum programs. Now, we show how to use OpenQASM programs to leverage the circuit-level noise simulation capability of DM1.\n",
                "\n",
                "To simulate noise, we have to be able to specify different noise channels. Although syntax for noise channels is not available in the OpenQASM language, Braket uses the `pragma` statement to extend OpenQASM for defining noise channels. Here is an example of an OpenQASM program that prepares a noisy 3-qubit [GHZ state](https://en.wikipedia.org/wiki/Greenberger%E2%80%93Horne%E2%80%93Zeilinger_state):"
            ]
        },
        {
            "cell_type": "code",
            "execution_count": 11,
            "id": "4d8a62cfc51a18b",
            "metadata": {
                "ExecuteTime": {
                    "end_time": "2023-11-21T08:32:41.464621Z",
                    "start_time": "2023-11-21T08:32:41.431447Z"
                }
            },
            "outputs": [],
            "source": [
                "noisy_ghz3_program = \"\"\"\n",
                "// noisy_ghz3.qasm\n",
                "// Prepare a 3 noisy qubit GHZ state\n",
                "OPENQASM 3;\n",
                "\n",
                "qubit[3] q;\n",
                "bit[3] c;\n",
                "\n",
                "h q[0];\n",
                "#pragma braket noise depolarizing(0.1) q[0]\n",
                "cnot q[0], q[1];\n",
                "#pragma braket noise depolarizing(0.1) q[0]\n",
                "#pragma braket noise depolarizing(0.1) q[1]\n",
                "cnot q[1], q[2];\n",
                "#pragma braket noise depolarizing(0.1) q[0]\n",
                "#pragma braket noise depolarizing(0.1) q[1]\n",
                "\n",
                "c = measure q;\n",
                "\"\"\""
            ]
        },
        {
            "cell_type": "markdown",
            "id": "3a988726bb4c39e8",
            "metadata": {},
            "source": [
                "In the example above, we inserted the depolarizing noise channel with probability of 0.1 after each gate in the circuit. The `noisy_ghz3_program` is equivalent to the following program in the Braket SDK:"
            ]
        },
        {
            "cell_type": "code",
            "execution_count": 12,
            "id": "647e3717ccbba672",
            "metadata": {
                "ExecuteTime": {
                    "end_time": "2023-11-21T08:32:41.464801Z",
                    "start_time": "2023-11-21T08:32:41.434396Z"
                }
            },
            "outputs": [
                {
                    "data": {
                        "text/plain": [
                            "Circuit('instructions': [Instruction('operator': H('qubit_count': 1), 'target': QubitSet([Qubit(0)]), 'control': QubitSet([]), 'control_state': (), 'power': 1), Instruction('operator': Depolarizing(0.1), 'target': QubitSet([Qubit(0)]), 'control': QubitSet([]), 'control_state': (), 'power': 1), Instruction('operator': CNot('qubit_count': 2), 'target': QubitSet([Qubit(0), Qubit(1)]), 'control': QubitSet([]), 'control_state': (), 'power': 1), Instruction('operator': Depolarizing(0.1), 'target': QubitSet([Qubit(0)]), 'control': QubitSet([]), 'control_state': (), 'power': 1), Instruction('operator': Depolarizing(0.1), 'target': QubitSet([Qubit(1)]), 'control': QubitSet([]), 'control_state': (), 'power': 1), Instruction('operator': CNot('qubit_count': 2), 'target': QubitSet([Qubit(1), Qubit(2)]), 'control': QubitSet([]), 'control_state': (), 'power': 1), Instruction('operator': Depolarizing(0.1), 'target': QubitSet([Qubit(1)]), 'control': QubitSet([]), 'control_state': (), 'power': 1), Instruction('operator': Depolarizing(0.1), 'target': QubitSet([Qubit(2)]), 'control': QubitSet([]), 'control_state': (), 'power': 1)])"
                        ]
                    },
                    "execution_count": 12,
                    "metadata": {},
                    "output_type": "execute_result"
                }
            ],
            "source": [
                "from braket.circuits import Circuit, noises\n",
                "\n",
                "noisy_ghz3_circ = Circuit().h(0).cnot(0, 1).cnot(1, 2)\n",
                "noise = noises.Depolarizing(probability=0.1)\n",
                "noisy_ghz3_circ.apply_gate_noise(noise)"
            ]
        },
        {
            "cell_type": "markdown",
            "id": "1db047fbac6a26bb",
            "metadata": {},
            "source": [
                "To see if `noisy_ghz3_program` and `noisy_ghz3_circ` are indeed the same, we can run both circuits and compare the results:"
            ]
        },
        {
            "cell_type": "code",
            "execution_count": 13,
            "id": "4c57de26c172aa5",
            "metadata": {
                "ExecuteTime": {
                    "end_time": "2023-11-21T08:32:42.963722Z",
                    "start_time": "2023-11-21T08:32:41.441098Z"
                }
            },
            "outputs": [],
            "source": [
                "dm1 = AwsDevice(Devices.Amazon.DM1)\n",
                "\n",
                "noisy_ghz3_circ_task = dm1.run(noisy_ghz3_circ, shots = 10)\n",
                "noisy_ghz3_program_task = dm1.run(OpenQASMProgram(source=noisy_ghz3_program), shots = 10)"
            ]
        },
        {
            "cell_type": "code",
            "execution_count": 14,
            "id": "75984e0e95dc4afb",
            "metadata": {
                "ExecuteTime": {
                    "end_time": "2023-11-21T08:32:45.959888Z",
                    "start_time": "2023-11-21T08:32:42.975561Z"
                }
            },
            "outputs": [
                {
                    "name": "stdout",
                    "output_type": "stream",
                    "text": [
                        "sdk measurement results: Counter({'111': 4, '000': 3, '101': 2, '100': 1})\n",
                        "openqasm measurement results: Counter({'111': 3, '000': 3, '100': 2, '011': 1, '010': 1})\n"
                    ]
                }
            ],
            "source": [
                "sdk_result = noisy_ghz3_circ_task.result()\n",
                "openqasm_result = noisy_ghz3_program_task.result()\n",
                "sdk_measurement = sdk_result.measurement_counts\n",
                "openqasm_measurement = openqasm_result.measurement_counts\n",
                "print('sdk measurement results:', sdk_measurement)\n",
                "print('openqasm measurement results:', openqasm_measurement)"
            ]
        },
        {
            "cell_type": "markdown",
            "id": "f2720672ca96b104",
            "metadata": {},
            "source": [
                "As expected, the measurement counts of the two are very close.\n",
                "\n",
                "In addition to depolarizing noises, we can simulate more complicated noise types with Braket, e.g., `pauli_channel`, `amplitude_damping`, etc. Check the [Amazon Braket developer guide](https://docs.aws.amazon.com/braket/latest/developerguide/braket-using.html) for a complete list of noise channels supported on Braket. Here we give another example of general noise channels defined by the Kraus representation."
            ]
        },
        {
            "cell_type": "code",
            "execution_count": 15,
            "id": "f3231a7767d20640",
            "metadata": {
                "ExecuteTime": {
                    "end_time": "2023-11-21T08:32:45.971122Z",
                    "start_time": "2023-11-21T08:32:45.960859Z"
                }
            },
            "outputs": [],
            "source": [
                "noisy_program_with_kraus_operators = \"\"\"\n",
                "// noisy_program_with_kraus_operators\n",
                "OPENQASM 3;\n",
                "\n",
                "qubit[2] q;\n",
                "bit[2] c;\n",
                "\n",
                "h q[0];\n",
                "#pragma braket noise kraus([[0.9486833, 0], [0, 0.9486833]], [[0, 0.31622777], [0.31622777, 0]]) q[0]\n",
                "cnot q[0], q[1];\n",
                "\n",
                "c = measure q;\n",
                "\"\"\""
            ]
        },
        {
            "cell_type": "markdown",
            "id": "ebac8bbb6d45341d",
            "metadata": {},
            "source": [
                "We inserted a single qubit noise channel defined by two 2x2 complex Kraus operators in the example above on qubit `q[0]`. Braket will validate if the Kraus operators indeed form a Completely-Positive and Trace-Preserving (CPTP) map."
            ]
        },
        {
            "cell_type": "markdown",
            "id": "ffa5e09c2ceab140",
            "metadata": {
                "collapsed": false
            },
            "source": [
                "The `from_ir` method supports noise operations, including general Kraus operators."
            ]
        },
        {
            "cell_type": "code",
            "execution_count": 16,
            "id": "69c7ae1c396ac705",
            "metadata": {
                "ExecuteTime": {
                    "end_time": "2023-11-21T08:32:46.004276Z",
                    "start_time": "2023-11-21T08:32:45.977541Z"
                },
                "collapsed": false
            },
            "outputs": [
                {
                    "name": "stdout",
                    "output_type": "stream",
                    "text": [
                        "noisy_ghz3_program:\n",
                        "T  : │         0         │                1                │         2         │  3  │\n",
                        "      ┌───┐ ┌───────────┐       ┌───────────┐ ┌───────────┐                     ┌───┐ \n",
                        "q0 : ─┤ H ├─┤ DEPO(0.1) ├───●───┤ DEPO(0.1) ├─┤ DEPO(0.1) ├─────────────────────┤ M ├─\n",
                        "      └───┘ └───────────┘   │   └───────────┘ └───────────┘                     └───┘ \n",
                        "                          ┌─┴─┐ ┌───────────┐                     ┌───────────┐ ┌───┐ \n",
                        "q1 : ─────────────────────┤ X ├─┤ DEPO(0.1) ├─────────────────●───┤ DEPO(0.1) ├─┤ M ├─\n",
                        "                          └───┘ └───────────┘                 │   └───────────┘ └───┘ \n",
                        "                                                            ┌─┴─┐               ┌───┐ \n",
                        "q2 : ───────────────────────────────────────────────────────┤ X ├───────────────┤ M ├─\n",
                        "                                                            └───┘               └───┘ \n",
                        "T  : │         0         │                1                │         2         │  3  │\n",
                        "\n",
                        "noisy_program_with_kraus_operators:\n",
                        "T  : │     0      │  1  │  2  │\n",
                        "      ┌───┐ ┌────┐       ┌───┐ \n",
                        "q0 : ─┤ H ├─┤ KR ├───●───┤ M ├─\n",
                        "      └───┘ └────┘   │   └───┘ \n",
                        "                   ┌─┴─┐ ┌───┐ \n",
                        "q1 : ──────────────┤ X ├─┤ M ├─\n",
                        "                   └───┘ └───┘ \n",
                        "T  : │     0      │  1  │  2  │\n",
                        "\n",
                        "Kraus operators:\n"
                    ]
                },
                {
                    "data": {
                        "text/plain": [
                            "[array([[0.9486833+0.j, 0.       +0.j],\n",
                            "        [0.       +0.j, 0.9486833+0.j]]),\n",
                            " array([[0.        +0.j, 0.31622777+0.j],\n",
                            "        [0.31622777+0.j, 0.        +0.j]])]"
                        ]
                    },
                    "execution_count": 16,
                    "metadata": {},
                    "output_type": "execute_result"
                }
            ],
            "source": [
                "print(\"noisy_ghz3_program:\")\n",
                "print(Circuit.from_ir(noisy_ghz3_program))\n",
                "print()\n",
                "print(\"noisy_program_with_kraus_operators:\")\n",
                "circuit_kraus = Circuit.from_ir(noisy_program_with_kraus_operators)\n",
                "print(circuit_kraus)\n",
                "print()\n",
                "print(\"Kraus operators:\")\n",
                "circuit_kraus.instructions[1].operator.to_matrix()"
            ]
        },
        {
            "cell_type": "markdown",
            "id": "a6b1ce4e1900550",
            "metadata": {},
            "source": [
                "## Submitting parametrized quantum tasks with OpenQASM\n",
                "\n",
                "The on-demand [SV1 simulator](https://docs.aws.amazon.com/braket/latest/developerguide/braket-devices.html#braket-simulator-sv1) and [DM1 simulator](https://docs.aws.amazon.com/braket/latest/developerguide/braket-devices.html#braket-simulator-dm1) support submitting OpenQASM programs with free parameters. You can set the value of the parameter when you submit the quantum task, like so:"
            ]
        },
        {
            "cell_type": "code",
            "execution_count": 17,
            "id": "71245a134d32fa26",
            "metadata": {
                "ExecuteTime": {
                    "end_time": "2023-11-21T08:32:46.007177Z",
                    "start_time": "2023-11-21T08:32:46.003030Z"
                }
            },
            "outputs": [],
            "source": [
                "parameter_qasm = \"\"\"\n",
                "OPENQASM 3.0;\n",
                "input float alpha;\n",
                "\n",
                "bit[2] b;\n",
                "qubit[2] q;\n",
                "\n",
                "h q[0];\n",
                "h q[1];\n",
                "rx(alpha) q[0];\n",
                "rx(alpha) q[1];\n",
                "b[0] = measure q[0];\n",
                "b[1] = measure q[1];\n",
                "\"\"\""
            ]
        },
        {
            "cell_type": "markdown",
            "id": "bec130ddc2409db5",
            "metadata": {},
            "source": [
                "The `input float alpha` line indicates that we have an input parameter of type `float` named `alpha`. We can specify a value for `alpha` when we submit the quantum task using the optional `inputs` argument to `run`. `input` should be a `dict` of `string`-`float` pairs."
            ]
        },
        {
            "cell_type": "code",
            "execution_count": 18,
            "id": "b831353ac6cfab2a",
            "metadata": {
                "ExecuteTime": {
                    "end_time": "2023-11-21T08:32:48.743543Z",
                    "start_time": "2023-11-21T08:32:46.007096Z"
                },
                "scrolled": false
            },
            "outputs": [
                {
                    "name": "stdout",
                    "output_type": "stream",
                    "text": [
                        "Counter({'11': 4, '01': 3, '00': 2, '10': 1})\n"
                    ]
                }
            ],
            "source": [
                "input_dict = {'alpha': 0.1}\n",
                "param_sv1_task = sv1.run(OpenQASMProgram(source=parameter_qasm), shots = 10, inputs=input_dict)\n",
                "param_sv1_result = param_sv1_task.result()\n",
                "print(param_sv1_result.measurement_counts)"
            ]
        },
        {
            "cell_type": "markdown",
            "id": "eb90a29d1debc7b4",
            "metadata": {},
            "source": [
                "Similarly, we can specify values for parametrized noise operations:"
            ]
        },
        {
            "cell_type": "code",
            "execution_count": 19,
            "id": "94f2688b3380c621",
            "metadata": {
                "ExecuteTime": {
                    "end_time": "2023-11-21T08:32:48.746739Z",
                    "start_time": "2023-11-21T08:32:48.743876Z"
                }
            },
            "outputs": [],
            "source": [
                "parameter_noise_qasm = \"\"\"\n",
                "OPENQASM 3.0;\n",
                "input float beta;\n",
                "input float alpha;\n",
                "bit[2] b;\n",
                "qubit[2] q;\n",
                "h q[0];\n",
                "h q[1];\n",
                "rx(alpha) q[0];\n",
                "rx(alpha) q[1];\n",
                "#pragma braket noise bit_flip(beta) q[0]\n",
                "b[0] = measure q[0];\n",
                "b[1] = measure q[1];\n",
                "\"\"\""
            ]
        },
        {
            "cell_type": "markdown",
            "id": "101d366dca84ddb2",
            "metadata": {},
            "source": [
                "We can see there are now two `input` lines, one for each free parameter."
            ]
        },
        {
            "cell_type": "code",
            "execution_count": 20,
            "id": "a0aa8a773b16dc22",
            "metadata": {
                "ExecuteTime": {
                    "end_time": "2023-11-21T08:32:51.579287Z",
                    "start_time": "2023-11-21T08:32:48.747668Z"
                }
            },
            "outputs": [
                {
                    "name": "stdout",
                    "output_type": "stream",
                    "text": [
                        "Counter({'01': 3, '11': 3, '10': 3, '00': 1})\n"
                    ]
                }
            ],
            "source": [
                "noise_input_dict = {'alpha': 0.1, 'beta': 0.2}\n",
                "param_dm1_task = dm1.run(OpenQASMProgram(source=parameter_qasm), shots = 10, inputs=noise_input_dict)\n",
                "param_dm1_result = param_dm1_task.result()\n",
                "print(param_dm1_result.measurement_counts)"
            ]
        },
        {
            "cell_type": "markdown",
            "id": "7e60112ddc974a94",
            "metadata": {},
            "source": [
                "## Simulating arbitrary unitaries with OpenQASM\n",
                "\n",
                "The on-demand [SV1 simulator](https://docs.aws.amazon.com/braket/latest/developerguide/braket-devices.html#braket-simulator-sv1) allows us to simulate arbitrary unitary gates in a circuit. With OpenQASM, we can use the `unitary` pramga to insert these arbitrary unitary gates: "
            ]
        },
        {
            "cell_type": "code",
            "execution_count": 21,
            "id": "ffc32efec9315f0",
            "metadata": {
                "ExecuteTime": {
                    "end_time": "2023-11-21T08:32:51.589214Z",
                    "start_time": "2023-11-21T08:32:51.579008Z"
                }
            },
            "outputs": [],
            "source": [
                "program_with_unitary = \"\"\"\n",
                "// noisy_program_with_kraus_operators\n",
                "OPENQASM 3;\n",
                "\n",
                "qubit q;\n",
                "bit c;\n",
                "\n",
                "#pragma braket unitary([[0, -1im], [1im, 0]]) q\n",
                "c = measure q;\n",
                "\"\"\""
            ]
        },
        {
            "cell_type": "markdown",
            "id": "8c190474a6e28563",
            "metadata": {},
            "source": [
                "The `1im` in the `unitary` pragma is the OpenQASM notation of the imaginary number $i$, thus, we were simply using the pragma to perform a Pauli Y gate. We can check it by submitting the above program to SV1."
            ]
        },
        {
            "cell_type": "code",
            "execution_count": 22,
            "id": "6d687471d81b2367",
            "metadata": {
                "ExecuteTime": {
                    "end_time": "2023-11-21T08:32:54.390589Z",
                    "start_time": "2023-11-21T08:32:51.586164Z"
                }
            },
            "outputs": [
                {
                    "name": "stdout",
                    "output_type": "stream",
                    "text": [
                        "Counter({'1': 10})\n"
                    ]
                }
            ],
            "source": [
                "unitary_task = sv1.run(OpenQASMProgram(source=program_with_unitary), shots = 10)\n",
                "unitary_result = unitary_task.result()\n",
                "print(unitary_result.measurement_counts)"
            ]
        },
        {
            "cell_type": "markdown",
            "id": "76f2897ec744dafb",
            "metadata": {},
            "source": [
                "As expected, the Pauli Y gate flipped the initial 0 state to the 1 state."
            ]
        },
        {
            "cell_type": "markdown",
            "id": "111ead44155005a8",
            "metadata": {
                "collapsed": false
            },
            "source": [
                "`from_ir` will reconstruct the unitary:"
            ]
        },
        {
            "cell_type": "code",
            "execution_count": 23,
            "id": "7b631be4b6785b90",
            "metadata": {
                "ExecuteTime": {
                    "end_time": "2023-11-21T08:32:54.403015Z",
                    "start_time": "2023-11-21T08:32:54.398210Z"
                },
                "collapsed": false
            },
            "outputs": [
                {
                    "data": {
                        "text/plain": [
                            "array([[0.+0.j, 0.-1.j],\n",
                            "       [0.+1.j, 0.+0.j]])"
                        ]
                    },
                    "execution_count": 23,
                    "metadata": {},
                    "output_type": "execute_result"
                }
            ],
            "source": [
                "Circuit.from_ir(program_with_unitary).instructions[0].operator.to_matrix()"
            ]
        },
        {
            "cell_type": "markdown",
            "id": "ce9caf39",
            "metadata": {},
            "source": [
                "## Measuring specific qubits with OpenQASM\n",
                "\n",
                "The Local State Vector Simulator and Local Density Matrix Simulator support submitting OpenQASM programs where a subset of the circuit's qubits can be measured, which is often called <i>partial measurement</i>. For example, you can create a two-qubit circuit and only measure the first qubit like so:"
            ]
        },
        {
            "cell_type": "code",
            "execution_count": 24,
            "id": "d33a0cb6",
            "metadata": {},
            "outputs": [],
            "source": [
                "partial_measure_qasm = \"\"\"\n",
                "OPENQASM 3.0;\n",
                "bit[1] b;\n",
                "qubit[2] q;\n",
                "h q[0];\n",
                "cnot q[0], q[1];\n",
                "b[0] = measure q[0];\n",
                "\"\"\""
            ]
        },
        {
            "cell_type": "markdown",
            "id": "81247da3",
            "metadata": {},
            "source": [
                "We can see that there are two qubits, `q[0]` and `q[1]` but we are only measuring qubit 0 here: `b[0] = measure q[0]`.\n",
                "\n",
                "Now we can run this on the local state vector simulator"
            ]
        },
        {
            "cell_type": "code",
            "execution_count": 25,
            "id": "d747fcb4",
            "metadata": {},
            "outputs": [
                {
                    "name": "stdout",
                    "output_type": "stream",
                    "text": [
                        "Counter({'1': 7, '0': 3})\n",
                        "Measured qubits:  [0]\n"
                    ]
                }
            ],
            "source": [
                "from braket.devices import LocalSimulator\n",
                "\n",
                "local_sim = LocalSimulator()\n",
                "partial_measure_local_sim_task = local_sim.run(OpenQASMProgram(source=partial_measure_qasm), shots = 10)\n",
                "partial_measure_local_sim_result = partial_measure_local_sim_task.result()\n",
                "print(partial_measure_local_sim_result.measurement_counts)\n",
                "print(\"Measured qubits: \", partial_measure_local_sim_result.measured_qubits)"
            ]
        },
        {
            "cell_type": "markdown",
            "id": "923c3cd7",
            "metadata": {},
            "source": [
                "As expected, only the targeted qubits were measured. \n",
                "\n",
                "The OpenQASM program `partial_measure_qasm` is equivalent to the following `Circuit`:"
            ]
        },
        {
            "cell_type": "code",
            "execution_count": 26,
            "id": "5b4e6ae6",
            "metadata": {},
            "outputs": [
                {
                    "name": "stdout",
                    "output_type": "stream",
                    "text": [
                        "Counter({'0': 5, '1': 5})\n",
                        "Measured qubits:  [0]\n"
                    ]
                }
            ],
            "source": [
                "partial_measure = Circuit().h(0).cnot(0, 1).measure(0)\n",
                "partial_measure_task = local_sim.run(partial_measure, shots=10)\n",
                "partial_measure_result = partial_measure_task.result()\n",
                "print(partial_measure_result.measurement_counts)\n",
                "print(\"Measured qubits: \", partial_measure_result.measured_qubits)"
            ]
        },
        {
            "cell_type": "markdown",
            "id": "49b97636",
            "metadata": {},
            "source": [
                "We can check whether a device supports partial measurement by inspecting the `requiresAllQubitsMeasurement` field in its action properties; if it is `False`, then partial measurement is supported."
            ]
        },
        {
            "cell_type": "code",
            "execution_count": 27,
            "id": "74a715eb",
            "metadata": {},
            "outputs": [
                {
                    "data": {
                        "text/plain": [
                            "False"
                        ]
                    },
                    "execution_count": 27,
                    "metadata": {},
                    "output_type": "execute_result"
                }
            ],
            "source": [
                "AwsDevice(Devices.Rigetti.Ankaa2).properties.action['braket.ir.openqasm.program'].requiresAllQubitsMeasurement"
            ]
        },
        {
            "cell_type": "markdown",
            "id": "a6a94ac1",
            "metadata": {},
            "source": [
                "Here, `requiresAllQubitsMeasurement` is `False`, which indicates that not all qubits must be measured."
            ]
        },
        {
            "cell_type": "markdown",
            "id": "8996e0c59741a66f",
            "metadata": {},
            "source": [
                "## Qubit Rewiring with OpenQASM\n",
                "\n",
                "Amazon Braket supports the [physical qubit notation within OpenQASM](https://openqasm.com/language/types.html#physical-qubits) on Rigetti devices. When using physical qubits, you have to ensure that the qubits are indeed connected on the selected device. Alternatively, if qubit registers are used instead, the `PARTIAL` rewiring strategy is enabled by default on Rigetti devices. The following example shows how to use physical qubit notation in an OpenQASM program:"
            ]
        },
        {
            "cell_type": "code",
            "execution_count": 28,
            "id": "144cc3e458a21b2d",
            "metadata": {
                "ExecuteTime": {
                    "end_time": "2023-11-21T08:32:54.410178Z",
                    "start_time": "2023-11-21T08:32:54.402877Z"
                }
            },
            "outputs": [],
            "source": [
                "ghz_program_with_physical_qubits = \"\"\"\n",
                "// Prepare a GHZ state\n",
                "OPENQASM 3;\n",
                "\n",
                "bit[3] ro;\n",
                "h $0;\n",
                "cnot $0, $1;\n",
                "cnot $1, $2;\n",
                "ro[0] = measure $0;\n",
                "ro[1] = measure $1;\n",
                "ro[2] = measure $2;\n",
                "\"\"\""
            ]
        },
        {
            "cell_type": "markdown",
            "id": "3f01e6dc44e0e226",
            "metadata": {},
            "source": [
                "We can run the above program on the Rigetti Ankaa-2 device,"
            ]
        },
        {
            "cell_type": "code",
            "execution_count": 29,
            "id": "768b980b78c4d451",
            "metadata": {
                "ExecuteTime": {
                    "end_time": "2023-11-21T08:32:55.489511Z",
                    "start_time": "2023-11-21T08:32:54.414005Z"
                }
            },
            "outputs": [
                {
                    "name": "stdout",
                    "output_type": "stream",
                    "text": [
                        "Measured qubits: [0, 1, 2]\n"
                    ]
                }
            ],
            "source": [
                "# choose the quantum device\n",
                "rigetti = AwsDevice(Devices.Rigetti.Ankaa2)\n",
                "\n",
                "ghz_program_with_physical_qubits_task = rigetti.run(OpenQASMProgram(source=ghz_program_with_physical_qubits), shots = 10)\n",
                "measured_qubits = ghz_program_with_physical_qubits_task.result().measured_qubits\n",
                "print(\"Measured qubits:\", measured_qubits)"
            ]
        },
        {
            "cell_type": "markdown",
            "id": "5a5597dc7843d541",
            "metadata": {},
            "source": [
                "As we can see, physical qubits 0, 1 and 2 are indeed being used and measured."
            ]
        },
        {
            "cell_type": "markdown",
            "id": "25cb2ccc4337dc1e",
            "metadata": {},
            "source": [
                "<div class=\"alert alert-block alert-info\">\n",
                "    <b>Note:</b> This section and the next verbatim box section uses the Rigetti Ankaa-2 device. When you run this notebook, make sure the device is currently available. You can find QPU availability windows on the <a href=\"https://us-west-1.console.aws.amazon.com/braket/home?region=us-west-1#/devices\">Devices page</a> in the Amazon Braket Console\n",
                "</div>"
            ]
        },
        {
            "cell_type": "markdown",
            "id": "9c30ec68828b17ff",
            "metadata": {},
            "source": [
                "## Verbatim Compilation with OpenQASM\n",
                "\n",
                "In [a previous example notebook](https://github.com/amazon-braket/amazon-braket-examples/blob/main/examples/braket_features/Verbatim_Compilation.ipynb), we talked about verbatim compilation on Braket to gain more precise control on Rigetti devices. With OpenQASM3.0, we can use the `box` syntax together with the `verbatim` pragma to perform verbatim compilation. Here is an example:"
            ]
        },
        {
            "cell_type": "code",
            "execution_count": 30,
            "id": "a69ab8a7a04aa190",
            "metadata": {
                "ExecuteTime": {
                    "end_time": "2023-11-21T08:32:55.492060Z",
                    "start_time": "2023-11-21T08:32:55.489240Z"
                }
            },
            "outputs": [],
            "source": [
                "program_with_verbatim_box = \"\"\"\n",
                "OPENQASM 3;\n",
                "\n",
                "bit[2] ro;\n",
                "#pragma braket verbatim\n",
                "box{\n",
                " rx(3.141592653589793) $0;\n",
                " rx(3.141592653589793) $0;\n",
                " iswap $0, $1;\n",
                "}\n",
                "ro[0] = measure $0;\n",
                "ro[1] = measure $1;\n",
                "\"\"\""
            ]
        },
        {
            "cell_type": "markdown",
            "id": "d503dc700f00f7b7",
            "metadata": {},
            "source": [
                "To program with verbatim boxes, we need to make sure that\n",
                "- we are using native gates supported by Rigetti devices. Native gates can be found using the following script:\n"
            ]
        },
        {
            "cell_type": "code",
            "execution_count": 31,
            "id": "a1cb1cb78d32b7b1",
            "metadata": {
                "ExecuteTime": {
                    "end_time": "2023-11-21T08:32:55.496864Z",
                    "start_time": "2023-11-21T08:32:55.493060Z"
                }
            },
            "outputs": [
                {
                    "name": "stdout",
                    "output_type": "stream",
                    "text": [
                        "The native gates for the Ankaa-2 device are:\n",
                        "rx\n",
                        "rz\n",
                        "cz\n",
                        "iswap\n"
                    ]
                }
            ],
            "source": [
                "print(\"The native gates for the\", rigetti.name, \"device are:\")\n",
                "for gate in rigetti.properties.paradigm.nativeGateSet:\n",
                "    print(gate)"
            ]
        },
        {
            "cell_type": "markdown",
            "id": "1d24104e29717209",
            "metadata": {},
            "source": [
                "- we use the physical qubit notation.\n",
                "- qubit operands are indeed connected on the physical device. Recall that the device qubit connectivity can be found using the following commands:"
            ]
        },
        {
            "cell_type": "code",
            "execution_count": 32,
            "id": "f6a7ffff1914fd03",
            "metadata": {
                "ExecuteTime": {
                    "end_time": "2023-11-21T08:32:56.296409Z",
                    "start_time": "2023-11-21T08:32:55.495523Z"
                }
            },
            "outputs": [
                {
                    "name": "stdout",
                    "output_type": "stream",
                    "text": [
                        "{'0': ['1', '7'], '1': ['0', '2', '8'], '2': ['1', '3', '9'], '3': ['2', '4', '10'], '4': ['3', '5', '11'], '5': ['4', '6', '12'], '6': ['5', '13'], '7': ['0', '8', '14'], '8': ['1', '7', '9', '15'], '9': ['2', '8', '10', '16'], '10': ['3', '9', '11', '17'], '11': ['4', '10', '12', '18'], '12': ['5', '11', '13', '19'], '13': ['6', '12', '20'], '14': ['7', '15', '21'], '15': ['8', '14', '22'], '16': ['9', '17', '23'], '17': ['10', '16', '18', '24'], '18': ['11', '17', '19', '25'], '19': ['12', '18', '20', '26'], '20': ['13', '19', '27'], '21': ['14', '22', '28'], '22': ['15', '21', '23', '29'], '23': ['16', '22', '24', '30'], '24': ['17', '23', '25', '31'], '25': ['18', '24', '26', '32'], '26': ['19', '25', '33'], '27': ['20', '34'], '28': ['21', '29', '35'], '29': ['22', '28', '30', '36'], '30': ['23', '29', '31', '37'], '31': ['24', '30', '32', '38'], '32': ['25', '31', '33', '39'], '33': ['26', '32', '34', '40'], '34': ['27', '33', '41'], '35': ['28', '36', '42'], '36': ['29', '35', '37', '43'], '37': ['30', '36', '38', '44'], '38': ['31', '37', '39', '45'], '39': ['32', '38', '40', '46'], '40': ['33', '39', '41', '47'], '41': ['34', '40', '48'], '42': ['35', '43', '49'], '43': ['36', '42', '44', '50'], '44': ['37', '43', '45', '51'], '45': ['38', '44', '46', '52'], '46': ['39', '45', '47', '53'], '47': ['40', '46', '48', '54'], '48': ['41', '47', '55'], '49': ['42', '56'], '50': ['43', '51', '57'], '51': ['44', '50', '52', '58'], '52': ['45', '51', '53', '59'], '53': ['46', '52', '54'], '54': ['47', '53', '55', '61'], '55': ['48', '54', '62'], '56': ['49', '57', '63'], '57': ['50', '56', '58', '64'], '58': ['51', '57', '59', '65'], '59': ['52', '58', '60', '66'], '60': ['59'], '61': ['54', '62', '68'], '62': ['55', '61', '69'], '63': ['56', '64', '70'], '64': ['57', '63', '65', '71'], '65': ['58', '64', '66', '72'], '66': ['59', '65', '67'], '67': ['66', '68', '74'], '68': ['61', '67', '69', '75'], '69': ['62', '68', '76'], '70': ['63', '71', '77'], '71': ['64', '70', '72', '78'], '72': ['65', '71', '73', '79'], '73': ['72', '74', '80'], '74': ['67', '73', '75', '81'], '75': ['68', '74', '76', '82'], '76': ['69', '75', '83'], '77': ['70', '78'], '78': ['71', '77', '79'], '79': ['72', '78', '80'], '80': ['73', '79', '81'], '81': ['74', '80', '82'], '82': ['75', '81', '83'], '83': ['76', '82']}\n"
                    ]
                },
                {
                    "data": {
                        "image/png": "[encoded data removed]",
                        "text/plain": [
                            "<Figure size 640x480 with 1 Axes>"
                        ]
                    },
                    "metadata": {},
                    "output_type": "display_data"
                }
            ],
            "source": [
                "import networkx as nx\n",
                "# access and visualize the device topology\n",
                "print(rigetti.properties.paradigm.connectivity.connectivityGraph)\n",
                "nx.draw_kamada_kawai(rigetti.topology_graph, with_labels=True, font_color=\"white\")"
            ]
        },
        {
            "cell_type": "markdown",
            "id": "9fa09f83a0747394",
            "metadata": {},
            "source": [
                "Now we can submit a quantum task of the above program with verbatim box."
            ]
        },
        {
            "cell_type": "code",
            "execution_count": 33,
            "id": "b5e7c89c1c9f8879",
            "metadata": {
                "ExecuteTime": {
                    "end_time": "2023-11-21T08:32:56.299544Z",
                    "start_time": "2023-11-21T08:32:56.297194Z"
                },
                "scrolled": true
            },
            "outputs": [
                {
                    "name": "stdout",
                    "output_type": "stream",
                    "text": [
                        "PRAGMA INITIAL_REWIRING \"NAIVE\"\n",
                        "DECLARE ro BIT[2]\n",
                        "PRAGMA PRESERVE_BLOCK\n",
                        "RX(3.141592653589793) 0\n",
                        "RX(3.141592653589793) 0\n",
                        "ISWAP 0 1\n",
                        "PRAGMA END_PRESERVE_BLOCK\n",
                        "MEASURE 0 ro[0]\n",
                        "MEASURE 1 ro[1]\n"
                    ]
                }
            ],
            "source": [
                "verbatim_task = rigetti.run(OpenQASMProgram(source=program_with_verbatim_box), shots = 10)\n",
                "verbatim_result = verbatim_task.result()\n",
                "meta = verbatim_result.additional_metadata.rigettiMetadata\n",
                "print(meta.compiledProgram)"
            ]
        },
        {
            "cell_type": "markdown",
            "id": "bcd27bc239db889d",
            "metadata": {},
            "source": [
                "As shown above, the two consecutive `rx`  $\\pi$-rotation gates did not get optimized and we confirm that our program was indeed executed verbatim."
            ]
        },
        {
            "cell_type": "markdown",
            "id": "b4768a96f7b1b3b6",
            "metadata": {},
            "source": [
                "## Requesting Result Types with OpenQASM\n",
                "\n",
                "Braket provides [a rich library of result types](https://docs.aws.amazon.com/braket/latest/developerguide/braket-result-types.html) for circuit executions. With OpenQASM, requesting different result types for our quantum tasks is easier than ever using the `result` pragma. Next, we give an example of requesting result types for our Bell state program submitted to SV1. Before doing that, let's see what result types are supported on SV1:"
            ]
        },
        {
            "cell_type": "code",
            "execution_count": 34,
            "id": "b17d21060cda7fa7",
            "metadata": {
                "ExecuteTime": {
                    "end_time": "2023-11-21T08:32:56.304110Z",
                    "start_time": "2023-11-21T08:32:56.300283Z"
                }
            },
            "outputs": [
                {
                    "name": "stdout",
                    "output_type": "stream",
                    "text": [
                        "name='Sample' observables=['x', 'y', 'z', 'h', 'i', 'hermitian'] minShots=1 maxShots=100000\n",
                        "name='Expectation' observables=['x', 'y', 'z', 'h', 'i', 'hermitian'] minShots=0 maxShots=100000\n",
                        "name='Variance' observables=['x', 'y', 'z', 'h', 'i', 'hermitian'] minShots=0 maxShots=100000\n",
                        "name='Probability' observables=None minShots=1 maxShots=100000\n",
                        "name='Amplitude' observables=None minShots=0 maxShots=0\n",
                        "name='AdjointGradient' observables=['x', 'y', 'z', 'h', 'i'] minShots=0 maxShots=0\n"
                    ]
                }
            ],
            "source": [
                "# print the result types supported by SV1\n",
                "for iter in sv1.properties.action['braket.ir.openqasm.program'].supportedResultTypes:\n",
                "    print(iter)"
            ]
        },
        {
            "cell_type": "markdown",
            "id": "bbc02495939691c9",
            "metadata": {},
            "source": [
                "With knowing the supported result types on SV1, we choose to request the `Expectation` of $X \\otimes Z$ observable on `q[0]` and `q[1]` and the `Amplitude` result type for a `shots=0` quantum task of our bell program:"
            ]
        },
        {
            "cell_type": "code",
            "execution_count": 35,
            "id": "6e3b521b7356b4bd",
            "metadata": {
                "ExecuteTime": {
                    "end_time": "2023-11-21T08:32:56.305634Z",
                    "start_time": "2023-11-21T08:32:56.302835Z"
                }
            },
            "outputs": [],
            "source": [
                "bell_with_result_type = \"\"\"\n",
                "OPENQASM 3;\n",
                "\n",
                "qubit[2] q;\n",
                "\n",
                "#pragma braket result expectation x(q[0]) @ z(q[1])\n",
                "#pragma braket result amplitude \"00\", \"11\"\n",
                "h q[0];\n",
                "cnot q[0], q[1];\n",
                "\"\"\""
            ]
        },
        {
            "cell_type": "markdown",
            "id": "6435b34ab2525039",
            "metadata": {},
            "source": [
                "The location of the `result` pragma is very flexible as long as it's after the qubit register definition (if you use physical qubits, you can put `result` pragmas anywhere after the program header).\n",
                "\n",
                "We can submit the above program and receive the results for our requested result types."
            ]
        },
        {
            "cell_type": "code",
            "execution_count": 36,
            "id": "a42b0ebc71b59136",
            "metadata": {
                "ExecuteTime": {
                    "end_time": "2023-11-21T08:32:59.113501Z",
                    "start_time": "2023-11-21T08:32:56.306452Z"
                }
            },
            "outputs": [
                {
                    "name": "stdout",
                    "output_type": "stream",
                    "text": [
                        "[0.0, {'00': (0.7071067811865475+0j), '11': (0.7071067811865475+0j)}]\n"
                    ]
                }
            ],
            "source": [
                "bell_result_types_task = sv1.run(OpenQASMProgram(source=bell_with_result_type), shots = 0)\n",
                "bell_result = bell_result_types_task.result()\n",
                "values = bell_result.values\n",
                "print(values)"
            ]
        },
        {
            "cell_type": "markdown",
            "id": "38675f5678613895",
            "metadata": {},
            "source": [
                "At last, we want to remind our Braket OpenQASM users that there are two requirements when requesting result types:\n",
                "1. For `shots=0` quantum tasks, requesting non-simultaneously measurable result types is allowed, but for `shots>0` quantum tasks, it is not allowed. For example, we can write the following OpenQASM program in a `shots=0` quantum task but not in a `shots>0` quantum task, since the two result types are not simultaneously measurable:"
            ]
        },
        {
            "cell_type": "code",
            "execution_count": 37,
            "id": "45277f89209faec7",
            "metadata": {
                "ExecuteTime": {
                    "end_time": "2023-11-21T08:32:59.115339Z",
                    "start_time": "2023-11-21T08:32:59.112696Z"
                }
            },
            "outputs": [],
            "source": [
                "program_with_non_simultaneously_measurable_result_types = \"\"\"\n",
                "OPENQASM 3;\n",
                "\n",
                "qubit[2] q;\n",
                "\n",
                "h q[0];\n",
                "cnot q[0], q[1];\n",
                "\n",
                "#pragma braket result expectation x(q[0]) @ z(q[1])\n",
                "#pragma braket result expectation hermitian([[0, -1im], [1im, 0]]) q[0]\n",
                "\"\"\""
            ]
        },
        {
            "cell_type": "markdown",
            "id": "a9af8819fba31a90",
            "metadata": {},
            "source": [
                "2. Do not use measurement instructions and request result types in the same OpenQASM program, otherwise a validation error will be raised. Since measurement instructions are basically equivalent to `#pragma braket result sample z(qubit)`, we encourage users to adapt a consistent style of requesting result types in the same program."
            ]
        },
        {
            "cell_type": "markdown",
            "id": "db79ad324a5f6478",
            "metadata": {
                "collapsed": false
            },
            "source": [
                "Circuits constructed with `from_ir` will have the correct result types:"
            ]
        },
        {
            "cell_type": "code",
            "execution_count": 38,
            "id": "f3c438da3a351153",
            "metadata": {
                "ExecuteTime": {
                    "end_time": "2023-11-21T08:32:59.127212Z",
                    "start_time": "2023-11-21T08:32:59.124909Z"
                },
                "collapsed": false
            },
            "outputs": [
                {
                    "name": "stdout",
                    "output_type": "stream",
                    "text": [
                        "bell_with_result_type:\n",
                        "T  : │  0  │  1  │    Result Types    │\n",
                        "      ┌───┐       ┌──────────────────┐ \n",
                        "q0 : ─┤ H ├───●───┤ Expectation(X@Z) ├─\n",
                        "      └───┘   │   └────────┬─────────┘ \n",
                        "            ┌─┴─┐ ┌────────┴─────────┐ \n",
                        "q1 : ───────┤ X ├─┤ Expectation(X@Z) ├─\n",
                        "            └───┘ └──────────────────┘ \n",
                        "T  : │  0  │  1  │    Result Types    │\n",
                        "\n",
                        "Additional result types: Amplitude(00,11)\n"
                    ]
                }
            ],
            "source": [
                "print(\"bell_with_result_type:\")\n",
                "print(Circuit.from_ir(bell_with_result_type))"
            ]
        },
        {
            "cell_type": "markdown",
            "id": "c371de3097c0598a",
            "metadata": {
                "collapsed": false
            },
            "source": [
                "## Advanced OpenQASM features\n",
                "\n",
                "OpenQASM has features beyond what is natively supported by the `Circuit` class. You can run OpenQASM tasks directly on the Local Simulator or use Circuit.from_ir to convert an OpenQASM program to a Circuit object, which is supported by all circuit-based Braket devices. The following OpenQASM program is a GHZ state written with classical control flow and subroutines:\n"
            ]
        },
        {
            "cell_type": "code",
            "execution_count": 39,
            "id": "5acb72003cd0a0f5",
            "metadata": {
                "ExecuteTime": {
                    "end_time": "2023-12-04T04:04:08.355878Z",
                    "start_time": "2023-12-04T04:04:08.353679Z"
                },
                "collapsed": false
            },
            "outputs": [],
            "source": [
                "ghz_with_advanced_features = \"\"\"\n",
                "OPENQASM 3.0;\n",
                "\n",
                "def ghz(int[32] n) {\n",
                "    h q[0];\n",
                "    for int i in [0:n - 1] {\n",
                "        cnot q[i], q[i + 1];\n",
                "    }\n",
                "}\n",
                "\n",
                "int[32] n = 5;\n",
                "bit[n + 1] c;\n",
                "qubit[n + 1] q;\n",
                "\n",
                "ghz(n);\n",
                "\n",
                "c = measure q;\n",
                "\"\"\"\n",
                "qasm_program = OpenQASMProgram(source=ghz_with_advanced_features)"
            ]
        },
        {
            "cell_type": "markdown",
            "id": "f5d32bd10c64543",
            "metadata": {
                "collapsed": false
            },
            "source": [
                "The local simulator supports these features:"
            ]
        },
        {
            "cell_type": "code",
            "execution_count": 40,
            "id": "c82bee530da348f6",
            "metadata": {
                "ExecuteTime": {
                    "end_time": "2023-12-04T04:04:13.932270Z",
                    "start_time": "2023-12-04T04:04:13.863203Z"
                },
                "collapsed": false
            },
            "outputs": [
                {
                    "name": "stderr",
                    "output_type": "stream",
                    "text": [
                        "This program uses OpenQASM language features that may not be supported on QPUs or on-demand simulators.\n"
                    ]
                },
                {
                    "data": {
                        "text/plain": [
                            "Counter({'000000': 505, '111111': 495})"
                        ]
                    },
                    "execution_count": 40,
                    "metadata": {},
                    "output_type": "execute_result"
                }
            ],
            "source": [
                "from braket.devices import LocalSimulator\n",
                "LocalSimulator().run(qasm_program, shots=1000).result().measurement_counts"
            ]
        },
        {
            "cell_type": "markdown",
            "id": "96fca192b4f51797",
            "metadata": {
                "collapsed": false
            },
            "source": [
                "but SV1 does not. However, `from_ir` will \"unroll\" the subroutine and loop to create a `Circuit` object that _can_ run on SV1:"
            ]
        },
        {
            "cell_type": "code",
            "execution_count": 41,
            "id": "b0886dfc74978bfa",
            "metadata": {
                "ExecuteTime": {
                    "end_time": "2023-12-04T04:04:19.974386Z",
                    "start_time": "2023-12-04T04:04:16.705969Z"
                },
                "collapsed": false
            },
            "outputs": [
                {
                    "name": "stderr",
                    "output_type": "stream",
                    "text": [
                        "This program uses OpenQASM language features that may not be supported on QPUs or on-demand simulators.\n"
                    ]
                },
                {
                    "name": "stdout",
                    "output_type": "stream",
                    "text": [
                        "T  : │  0  │  1  │  2  │  3  │  4  │  5  │  6  │\n",
                        "      ┌───┐                               ┌───┐ \n",
                        "q0 : ─┤ H ├───●───────────────────────────┤ M ├─\n",
                        "      └───┘   │                           └───┘ \n",
                        "            ┌─┴─┐                         ┌───┐ \n",
                        "q1 : ───────┤ X ├───●─────────────────────┤ M ├─\n",
                        "            └───┘   │                     └───┘ \n",
                        "                  ┌─┴─┐                   ┌───┐ \n",
                        "q2 : ─────────────┤ X ├───●───────────────┤ M ├─\n",
                        "                  └───┘   │               └───┘ \n",
                        "                        ┌─┴─┐             ┌───┐ \n",
                        "q3 : ───────────────────┤ X ├───●─────────┤ M ├─\n",
                        "                        └───┘   │         └───┘ \n",
                        "                              ┌─┴─┐       ┌───┐ \n",
                        "q4 : ─────────────────────────┤ X ├───●───┤ M ├─\n",
                        "                              └───┘   │   └───┘ \n",
                        "                                    ┌─┴─┐ ┌───┐ \n",
                        "q5 : ───────────────────────────────┤ X ├─┤ M ├─\n",
                        "                                    └───┘ └───┘ \n",
                        "T  : │  0  │  1  │  2  │  3  │  4  │  5  │  6  │\n",
                        "Counter({'000000': 500, '111111': 500})\n"
                    ]
                }
            ],
            "source": [
                "circuit = Circuit.from_ir(qasm_program)\n",
                "print(circuit)\n",
                "print(sv1.run(circuit, shots=1000).result().measurement_counts)"
            ]
        },
        {
            "cell_type": "markdown",
            "id": "a329fa3df47ffee4",
            "metadata": {
                "collapsed": false
            },
            "source": [
                "For an in-depth exploration of advanced OpenQASM features, see [Simulating Advanced OpenQASM Programs with the Local Simulator](https://github.com/amazon-braket/amazon-braket-examples/blob/main/examples/braket_features/Simulating_Advanced_OpenQASM_Programs_with_the_Local_Simulator.ipynb)."
            ]
        },
        {
            "cell_type": "markdown",
            "id": "9e4c7a48a2b83ce1",
            "metadata": {},
            "source": [
                "# Conclusion\n",
                "\n",
                "In this notebook, you learned how to submit OpenQASM quantum tasks and use OpenQASM features on Braket. Hope you enjoyed it! You can find more information about OpenQASM3.0 in its [live specification](https://openqasm.com/), and you can learn more about OpenQASM support on Braket in the [Amazon Braket documentation](https://docs.aws.amazon.com/braket/latest/developerguide/)."
            ]
        },
        {
            "cell_type": "code",
            "execution_count": 42,
            "id": "3f5bc3dfad520f14",
            "metadata": {
                "ExecuteTime": {
                    "end_time": "2023-11-21T08:32:59.624204Z",
                    "start_time": "2023-11-21T08:32:59.127772Z"
                }
            },
            "outputs": [
                {
                    "name": "stdout",
                    "output_type": "stream",
                    "text": [
                        "Quantum Task Summary\n",
                        "{<_Amazon.SV1: 'arn:aws:braket:::device/quantum-simulator/amazon/sv1'>: {'shots': 1120, 'tasks': {'CREATED': 1, 'COMPLETED': 4}, 'execution_duration': datetime.timedelta(microseconds=104000), 'billed_execution_duration': datetime.timedelta(seconds=12)}, <_Amazon.DM1: 'arn:aws:braket:::device/quantum-simulator/amazon/dm1'>: {'shots': 30, 'tasks': {'COMPLETED': 3}, 'execution_duration': datetime.timedelta(microseconds=39000), 'billed_execution_duration': datetime.timedelta(seconds=9)}, <_Rigetti.Ankaa2: 'arn:aws:braket:us-west-1::device/qpu/rigetti/Ankaa-2'>: {'shots': 20, 'tasks': {'COMPLETED': 2}}}\n",
                        "Note: Charges shown are estimates based on your Amazon Braket simulator and quantum processing unit (QPU) task usage. Estimated charges shown may differ from your actual charges. Estimated charges do not factor in any discounts or credits, and you may experience additional charges based on your use of other services such as Amazon Elastic Compute Cloud (Amazon EC2).\n",
                        "Estimated cost to run this example: 0.64 USD\n"
                    ]
                }
            ],
            "source": [
                "print(\"Quantum Task Summary\")\n",
                "print(t.quantum_tasks_statistics())\n",
                "print('Note: Charges shown are estimates based on your Amazon Braket simulator and quantum processing unit (QPU) task usage. Estimated charges shown may differ from your actual charges. Estimated charges do not factor in any discounts or credits, and you may experience additional charges based on your use of other services such as Amazon Elastic Compute Cloud (Amazon EC2).')\n",
                "print(f\"Estimated cost to run this example: {t.qpu_tasks_cost() + t.simulator_tasks_cost():.2f} USD\")"
            ]
        }
    ],
    "metadata": {
        "kernelspec": {
            "display_name": "Python 3",
            "language": "python",
            "name": "python3"
        },
        "language_info": {
            "codemirror_mode": {
                "name": "ipython",
                "version": 3
            },
            "file_extension": ".py",
            "mimetype": "text/x-python",
            "name": "python",
            "nbconvert_exporter": "python",
            "pygments_lexer": "ipython3",
            "version": "3.9.6"
        }
    },
    "nbformat": 4,
    "nbformat_minor": 5
}
