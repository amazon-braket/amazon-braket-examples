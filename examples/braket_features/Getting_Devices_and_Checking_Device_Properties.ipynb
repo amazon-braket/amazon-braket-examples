{
    "cells": [
        {
            "cell_type": "markdown",
            "metadata": {},
            "source": [
                "# Getting Devices and Checking Device Properties\n",
                "\n",
                "This tutorial demonstrates how to use the `get_devices()` method to search and instantiate devices available on Amazon Braket. It also shows how to obtain access to properties for simulator and QPU devices."
            ]
        },
        {
            "cell_type": "code",
            "execution_count": 1,
            "metadata": {
                "ExecuteTime": {
                    "end_time": "2023-08-29T21:51:22.928626Z",
                    "start_time": "2023-08-29T21:51:20.846031Z"
                }
            },
            "outputs": [],
            "source": [
                "# general imports\n",
                "import json\n",
                "from braket.aws import AwsDevice\n",
                "from braket.devices import Devices, LocalSimulator"
            ]
        },
        {
            "cell_type": "markdown",
            "metadata": {},
            "source": [
                "## Using get_devices\n",
                "You can get a device, including the on-demand simulators and the QPUs, by calling the `get_devices()` method. Search for devices with one or more of the following filtering criteria:\n",
                "* device arn \n",
                "* name \n",
                "* type \n",
                "* status \n",
                "* provider_name. \n",
                "\n",
                "The following cells give examples for each of the cases."
            ]
        },
        {
            "cell_type": "markdown",
            "metadata": {},
            "source": [
                "### Getting the device by type"
            ]
        },
        {
            "cell_type": "code",
            "execution_count": 2,
            "metadata": {
                "ExecuteTime": {
                    "end_time": "2023-08-29T21:51:23.791309Z",
                    "start_time": "2023-08-29T21:51:22.939296Z"
                }
            },
            "outputs": [
                {
                    "data": {
                        "text/plain": [
                            "[Device('name': SV1, 'arn': arn:aws:braket:::device/quantum-simulator/amazon/sv1),\n",
                            " Device('name': dm1, 'arn': arn:aws:braket:::device/quantum-simulator/amazon/dm1)]"
                        ]
                    },
                    "execution_count": 2,
                    "metadata": {},
                    "output_type": "execute_result"
                }
            ],
            "source": [
                "# to get the on-demand simulators\n",
                "AwsDevice.get_devices(types=['SIMULATOR'])"
            ]
        },
        {
            "cell_type": "code",
            "execution_count": 3,
            "metadata": {},
            "outputs": [],
            "source": [
                "# to get the list of QPUs\n",
                "AwsDevice.get_devices(types=['QPU'])"
            ]
        },
        {
            "cell_type": "markdown",
            "metadata": {},
            "source": [
                "### Getting the device by ARN\n",
                "For every type of device available in Amazon Braket, you can find the associated ARN in the Amazon Braket [Developer Guide](https://docs.aws.amazon.com/braket/latest/developerguide/braket-devices.html). You also can view the device ARN on the `Devices` section in the Amazon Braket console."
            ]
        },
        {
            "cell_type": "code",
            "execution_count": null,
            "metadata": {
                "ExecuteTime": {
                    "end_time": "2023-08-29T21:51:40.189738Z",
                    "start_time": "2023-08-29T21:51:38.108942Z"
                }
            },
            "outputs": [],
            "source": [
                "# for example, the following ARN refers to the IonQ device.\n",
                "AwsDevice.get_devices(arns=['arn:aws:braket:us-east-1::device/qpu/ionq/Aria-1'])"
            ]
        },
        {
            "cell_type": "markdown",
            "metadata": {},
            "source": [
                "### Getting the device by name"
            ]
        },
        {
            "cell_type": "code",
            "execution_count": null,
            "metadata": {
                "ExecuteTime": {
                    "end_time": "2023-08-29T21:51:44.199001Z",
                    "start_time": "2023-08-29T21:51:40.203505Z"
                }
            },
            "outputs": [],
            "source": [
                "# for example, the following name refers to a Rigetti Ankaa system.\n",
                "AwsDevice.get_devices(names=['Ankaa-2'])"
            ]
        },
        {
            "cell_type": "markdown",
            "metadata": {},
            "source": [
                "### Getting the device by status"
            ]
        },
        {
            "cell_type": "code",
            "execution_count": null,
            "metadata": {
                "ExecuteTime": {
                    "end_time": "2023-08-29T21:51:49.133297Z",
                    "start_time": "2023-08-29T21:51:44.215934Z"
                }
            },
            "outputs": [],
            "source": [
                "# retrieve all devices that are currently online\n",
                "AwsDevice.get_devices(statuses=['ONLINE'])"
            ]
        },
        {
            "cell_type": "code",
            "execution_count": null,
            "metadata": {
                "ExecuteTime": {
                    "end_time": "2023-08-29T21:51:52.891651Z",
                    "start_time": "2023-08-29T21:51:49.147757Z"
                }
            },
            "outputs": [],
            "source": [
                "# retrieve all devices that are currently offline\n",
                "AwsDevice.get_devices(statuses=['OFFLINE'])"
            ]
        },
        {
            "cell_type": "markdown",
            "metadata": {},
            "source": [
                "### Getting the device by provider_name"
            ]
        },
        {
            "cell_type": "code",
            "execution_count": null,
            "metadata": {
                "ExecuteTime": {
                    "end_time": "2023-08-29T21:51:56.454044Z",
                    "start_time": "2023-08-29T21:51:52.891938Z"
                }
            },
            "outputs": [],
            "source": [
                "# for example, the following ARN retrieves the IonQ device.\n",
                "AwsDevice.get_devices(provider_names=['IonQ'])"
            ]
        },
        {
            "cell_type": "markdown",
            "metadata": {},
            "source": [
                "### Retrieve devices in order"
            ]
        },
        {
            "cell_type": "code",
            "execution_count": null,
            "metadata": {
                "ExecuteTime": {
                    "end_time": "2023-08-29T21:52:10.758716Z",
                    "start_time": "2023-08-29T21:51:56.382501Z"
                }
            },
            "outputs": [],
            "source": [
                "# retrieve the list of devices, ordered by provider name\n",
                "AwsDevice.get_devices(order_by='provider_name')"
            ]
        },
        {
            "cell_type": "markdown",
            "metadata": {},
            "source": [
                "### Getting the device with multiple criteria"
            ]
        },
        {
            "cell_type": "code",
            "execution_count": null,
            "metadata": {
                "ExecuteTime": {
                    "end_time": "2023-08-29T21:52:15.233392Z",
                    "start_time": "2023-08-29T21:52:10.769127Z"
                }
            },
            "outputs": [],
            "source": [
                "# multiple criteria can be applied\n",
                "AwsDevice.get_devices(types=['QPU'],statuses=['ONLINE'])"
            ]
        },
        {
            "cell_type": "markdown",
            "metadata": {},
            "source": [
                "## Getting a device directly\n",
                "You can specify a device directly, with the device ARN. These ARNs can be specified from each device's entry in the `Devices` enum:"
            ]
        },
        {
            "cell_type": "code",
            "execution_count": 11,
            "metadata": {
                "ExecuteTime": {
                    "end_time": "2023-08-29T21:52:17.486681Z",
                    "start_time": "2023-08-29T21:52:15.244209Z"
                }
            },
            "outputs": [],
            "source": [
                "# specify a device directly by device ARN\n",
                "# Rigetti\n",
                "device = AwsDevice(Devices.Rigetti.Ankaa2)\n",
                "# IonQ\n",
                "device = AwsDevice(Devices.IonQ.Aria1)\n",
                "# IQM\n",
                "device = AwsDevice(Devices.IQM.Garnet)\n",
                "# the on-demand simulator SV1\n",
                "device = AwsDevice(Devices.Amazon.SV1)\n",
                "# the on-demand simulator TN1\n",
                "device = AwsDevice(Devices.Amazon.TN1)\n",
                "# the local simulator\n",
                "device = LocalSimulator()"
            ]
        },
        {
            "cell_type": "markdown",
            "metadata": {},
            "source": [
                "## Properties of devices\n",
                "\n",
                "You can check properties of a device with the `device.properties` call. The following examples show some useful properties of each device."
            ]
        },
        {
            "cell_type": "code",
            "execution_count": null,
            "metadata": {
                "ExecuteTime": {
                    "end_time": "2023-08-29T21:52:17.759631Z",
                    "start_time": "2023-08-29T21:52:17.502344Z"
                }
            },
            "outputs": [],
            "source": [
                "# the on-demand simulator SV1\n",
                "device = AwsDevice(Devices.Amazon.SV1)\n",
                "\n",
                "support_gates = device.properties.action['braket.ir.jaqcd.program'].supportedOperations\n",
                "support_result_types = device.properties.action['braket.ir.jaqcd.program'].supportedResultTypes\n",
                "qubit_count = device.properties.paradigm.qubitCount\n",
                "shots_range = device.properties.service.shotsRange\n",
                "device_cost = device.properties.service.deviceCost\n",
                "\n",
                "print(f'The supported operations of {device.name} are {support_gates}\\n')\n",
                "print(f'The supported result types are {support_result_types}\\n')\n",
                "print('The maximum number of qubits supported by this device is', qubit_count)\n",
                "print('The shots range of this device is', shots_range)\n",
                "print('The price of running quantum tasks on this device:', device_cost)"
            ]
        },
        {
            "cell_type": "markdown",
            "metadata": {},
            "source": [
                "For the IonQ and Rigetti devices, you can get information about the properties shown previously. You also can get information about the availability windows and the device calibration data."
            ]
        },
        {
            "cell_type": "code",
            "execution_count": null,
            "metadata": {
                "ExecuteTime": {
                    "end_time": "2023-08-29T21:52:19.588547Z",
                    "start_time": "2023-08-29T21:52:17.773910Z"
                }
            },
            "outputs": [],
            "source": [
                "# the IonQ device\n",
                "device = AwsDevice(Devices.IonQ.Aria1)\n",
                "\n",
                "# IQM\n",
                "device = AwsDevice(Devices.IQM.Garnet)\n",
                "\n",
                "# the Rigetti device\n",
                "device = AwsDevice(Devices.Rigetti.Ankaa2)\n",
                "\n",
                "execution_windows = device.properties.service.executionWindows\n",
                "connectivity_graph = device.properties.paradigm.connectivity\n",
                "calibration = device.properties.provider.specs\n",
                "\n",
                "print(f'The availability windows for {device.name}:\\n{execution_windows}\\n')\n",
                "print(f'The connectivity graph of the qubits for this device:\\n {connectivity_graph}\\n')\n",
                "print('Calibration data:\\n', json.dumps(calibration,sort_keys=True,indent=2))"
            ]
        },
        {
            "cell_type": "markdown",
            "metadata": {},
            "source": [
                "Each device has more properties to explore. To learn more, view the [Amazon Braket schemas documentation](https://amazon-braket-schemas-python.readthedocs.io/en/latest/_apidoc/braket.device_schema.html)."
            ]
        }
    ],
    "metadata": {
        "kernelspec": {
            "display_name": "Python 3 (ipykernel)",
            "language": "python",
            "name": "python3"
        },
        "language_info": {
            "codemirror_mode": {
                "name": "ipython",
                "version": 3
            },
            "file_extension": ".py",
            "mimetype": "text/x-python",
            "name": "python",
            "nbconvert_exporter": "python",
            "pygments_lexer": "ipython3",
            "version": "3.10.11"
        }
    },
    "nbformat": 4,
    "nbformat_minor": 4
}
