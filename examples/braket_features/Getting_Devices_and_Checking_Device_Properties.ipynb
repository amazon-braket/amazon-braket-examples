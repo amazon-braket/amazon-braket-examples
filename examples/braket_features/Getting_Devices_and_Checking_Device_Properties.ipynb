{
 "cells": [
  {
   "cell_type": "markdown",
   "metadata": {},
   "source": [
    "# Getting Devices and Checking Device Properties\n",
    "\n",
    "This tutorial demonstrates how to use the `get_devices()` method to search and instantiate devices available on Amazon Braket. It also shows how to obtain access to properties for simulator and QPU devices."
   ]
  },
  {
   "cell_type": "code",
   "execution_count": 1,
   "metadata": {
    "ExecuteTime": {
     "end_time": "2023-08-29T21:51:22.928626Z",
     "start_time": "2023-08-29T21:51:20.846031Z"
    }
   },
   "outputs": [],
   "source": [
    "# general imports\n",
    "import json\n",
    "\n",
    "from braket.aws import AwsDevice\n",
    "from braket.devices import Devices, LocalSimulator"
   ]
  },
  {
   "cell_type": "markdown",
   "metadata": {},
   "source": [
    "## Using get_devices\n",
    "You can get a device, including the on-demand simulators and the QPUs, by calling the `get_devices()` method. Search for devices with one or more of the following filtering criteria:\n",
    "* device arn \n",
    "* name \n",
    "* type \n",
    "* status \n",
    "* provider_name. \n",
    "\n",
    "The following cells give examples for each of the cases."
   ]
  },
  {
   "cell_type": "markdown",
   "metadata": {},
   "source": [
    "### Getting the device by type"
   ]
  },
  {
   "cell_type": "code",
   "execution_count": 2,
   "metadata": {
    "ExecuteTime": {
     "end_time": "2023-08-29T21:51:23.791309Z",
     "start_time": "2023-08-29T21:51:22.939296Z"
    }
   },
   "outputs": [
    {
     "data": {
      "text/plain": [
       "[Device('name': SV1, 'arn': arn:aws:braket:::device/quantum-simulator/amazon/sv1),\n",
       " Device('name': TN1, 'arn': arn:aws:braket:::device/quantum-simulator/amazon/tn1),\n",
       " Device('name': dm1, 'arn': arn:aws:braket:::device/quantum-simulator/amazon/dm1)]"
      ]
     },
     "execution_count": 2,
     "metadata": {},
     "output_type": "execute_result"
    }
   ],
   "source": [
    "# to get the on-demand simulators\n",
    "AwsDevice.get_devices(types=[\"SIMULATOR\"])"
   ]
  },
  {
   "cell_type": "code",
   "execution_count": 3,
   "metadata": {},
   "outputs": [
    {
     "data": {
      "text/plain": [
       "[Device('name': Aquila, 'arn': arn:aws:braket:us-east-1::device/qpu/quera/Aquila),\n",
       " Device('name': Aria 1, 'arn': arn:aws:braket:us-east-1::device/qpu/ionq/Aria-1),\n",
       " Device('name': Aria 2, 'arn': arn:aws:braket:us-east-1::device/qpu/ionq/Aria-2),\n",
       " Device('name': Forte 1, 'arn': arn:aws:braket:us-east-1::device/qpu/ionq/Forte-1),\n",
       " Device('name': Garnet, 'arn': arn:aws:braket:eu-north-1::device/qpu/iqm/Garnet)]"
      ]
     },
     "execution_count": 3,
     "metadata": {},
     "output_type": "execute_result"
    }
   ],
   "source": [
    "# to get the list of QPUs\n",
    "AwsDevice.get_devices(types=[\"QPU\"])"
   ]
  },
  {
   "cell_type": "markdown",
   "metadata": {},
   "source": [
    "### Getting the device by ARN\n",
    "For every type of device available in Amazon Braket, you can find the associated ARN in the Amazon Braket [Developer Guide](https://docs.aws.amazon.com/braket/latest/developerguide/braket-devices.html). You also can view the device ARN on the `Devices` section in the Amazon Braket console."
   ]
  },
  {
   "cell_type": "code",
   "execution_count": 4,
   "metadata": {
    "ExecuteTime": {
     "end_time": "2023-08-29T21:51:40.189738Z",
     "start_time": "2023-08-29T21:51:38.108942Z"
    }
   },
   "outputs": [
    {
     "data": {
      "text/plain": [
       "[Device('name': Aria 1, 'arn': arn:aws:braket:us-east-1::device/qpu/ionq/Aria-1)]"
      ]
     },
     "execution_count": 4,
     "metadata": {},
     "output_type": "execute_result"
    }
   ],
   "source": [
    "# for example, the following ARN refers to the IonQ device.\n",
    "AwsDevice.get_devices(arns=[\"arn:aws:braket:us-east-1::device/qpu/ionq/Aria-1\"])"
   ]
  },
  {
   "cell_type": "markdown",
   "metadata": {},
   "source": [
    "### Getting the device by name"
   ]
  },
  {
   "cell_type": "code",
   "execution_count": 5,
   "metadata": {
    "ExecuteTime": {
     "end_time": "2023-08-29T21:51:44.199001Z",
     "start_time": "2023-08-29T21:51:40.203505Z"
    }
   },
   "outputs": [
    {
     "data": {
      "text/plain": [
       "[Device('name': Garnet, 'arn': arn:aws:braket:eu-north-1::device/qpu/iqm/Garnet)]"
      ]
     },
     "execution_count": 5,
     "metadata": {},
     "output_type": "execute_result"
    }
   ],
   "source": [
    "# for example, the following name refers to the IQM Garnet system.\n",
    "AwsDevice.get_devices(names=[\"Garnet\"])"
   ]
  },
  {
   "cell_type": "markdown",
   "metadata": {},
   "source": [
    "### Getting the device by status"
   ]
  },
  {
   "cell_type": "code",
   "execution_count": 6,
   "metadata": {
    "ExecuteTime": {
     "end_time": "2023-08-29T21:51:49.133297Z",
     "start_time": "2023-08-29T21:51:44.215934Z"
    }
   },
   "outputs": [
    {
     "data": {
      "text/plain": [
       "[Device('name': Aquila, 'arn': arn:aws:braket:us-east-1::device/qpu/quera/Aquila),\n",
       " Device('name': Forte 1, 'arn': arn:aws:braket:us-east-1::device/qpu/ionq/Forte-1),\n",
       " Device('name': Garnet, 'arn': arn:aws:braket:eu-north-1::device/qpu/iqm/Garnet),\n",
       " Device('name': SV1, 'arn': arn:aws:braket:::device/quantum-simulator/amazon/sv1),\n",
       " Device('name': TN1, 'arn': arn:aws:braket:::device/quantum-simulator/amazon/tn1),\n",
       " Device('name': dm1, 'arn': arn:aws:braket:::device/quantum-simulator/amazon/dm1)]"
      ]
     },
     "execution_count": 6,
     "metadata": {},
     "output_type": "execute_result"
    }
   ],
   "source": [
    "# retrieve all devices that are currently online\n",
    "AwsDevice.get_devices(statuses=[\"ONLINE\"])"
   ]
  },
  {
   "cell_type": "code",
   "execution_count": 7,
   "metadata": {
    "ExecuteTime": {
     "end_time": "2023-08-29T21:51:52.891651Z",
     "start_time": "2023-08-29T21:51:49.147757Z"
    }
   },
   "outputs": [
    {
     "data": {
      "text/plain": [
       "[Device('name': Aria 1, 'arn': arn:aws:braket:us-east-1::device/qpu/ionq/Aria-1),\n",
       " Device('name': Aria 2, 'arn': arn:aws:braket:us-east-1::device/qpu/ionq/Aria-2)]"
      ]
     },
     "execution_count": 7,
     "metadata": {},
     "output_type": "execute_result"
    }
   ],
   "source": [
    "# retrieve all devices that are currently offline\n",
    "AwsDevice.get_devices(statuses=[\"OFFLINE\"])"
   ]
  },
  {
   "cell_type": "markdown",
   "metadata": {},
   "source": [
    "### Getting the device by provider_name"
   ]
  },
  {
   "cell_type": "code",
   "execution_count": 8,
   "metadata": {
    "ExecuteTime": {
     "end_time": "2023-08-29T21:51:56.454044Z",
     "start_time": "2023-08-29T21:51:52.891938Z"
    }
   },
   "outputs": [
    {
     "data": {
      "text/plain": [
       "[Device('name': Aria 1, 'arn': arn:aws:braket:us-east-1::device/qpu/ionq/Aria-1),\n",
       " Device('name': Aria 2, 'arn': arn:aws:braket:us-east-1::device/qpu/ionq/Aria-2),\n",
       " Device('name': Forte 1, 'arn': arn:aws:braket:us-east-1::device/qpu/ionq/Forte-1)]"
      ]
     },
     "execution_count": 8,
     "metadata": {},
     "output_type": "execute_result"
    }
   ],
   "source": [
    "# for example, the following ARN retrieves the IonQ device.\n",
    "AwsDevice.get_devices(provider_names=[\"IonQ\"])"
   ]
  },
  {
   "cell_type": "markdown",
   "metadata": {},
   "source": [
    "### Retrieve devices in order"
   ]
  },
  {
   "cell_type": "code",
   "execution_count": 9,
   "metadata": {
    "ExecuteTime": {
     "end_time": "2023-08-29T21:52:10.758716Z",
     "start_time": "2023-08-29T21:51:56.382501Z"
    }
   },
   "outputs": [
    {
     "data": {
      "text/plain": [
       "[Device('name': TN1, 'arn': arn:aws:braket:::device/quantum-simulator/amazon/tn1),\n",
       " Device('name': SV1, 'arn': arn:aws:braket:::device/quantum-simulator/amazon/sv1),\n",
       " Device('name': dm1, 'arn': arn:aws:braket:::device/quantum-simulator/amazon/dm1),\n",
       " Device('name': Garnet, 'arn': arn:aws:braket:eu-north-1::device/qpu/iqm/Garnet),\n",
       " Device('name': Aria 1, 'arn': arn:aws:braket:us-east-1::device/qpu/ionq/Aria-1),\n",
       " Device('name': Aria 2, 'arn': arn:aws:braket:us-east-1::device/qpu/ionq/Aria-2),\n",
       " Device('name': Forte 1, 'arn': arn:aws:braket:us-east-1::device/qpu/ionq/Forte-1),\n",
       " Device('name': Aquila, 'arn': arn:aws:braket:us-east-1::device/qpu/quera/Aquila)]"
      ]
     },
     "execution_count": 9,
     "metadata": {},
     "output_type": "execute_result"
    }
   ],
   "source": [
    "# retrieve the list of devices, ordered by provider name\n",
    "AwsDevice.get_devices(order_by=\"provider_name\")"
   ]
  },
  {
   "cell_type": "markdown",
   "metadata": {},
   "source": [
    "### Getting the device with multiple criteria"
   ]
  },
  {
   "cell_type": "code",
   "execution_count": 10,
   "metadata": {
    "ExecuteTime": {
     "end_time": "2023-08-29T21:52:15.233392Z",
     "start_time": "2023-08-29T21:52:10.769127Z"
    }
   },
   "outputs": [
    {
     "data": {
      "text/plain": [
       "[Device('name': Aquila, 'arn': arn:aws:braket:us-east-1::device/qpu/quera/Aquila),\n",
       " Device('name': Forte 1, 'arn': arn:aws:braket:us-east-1::device/qpu/ionq/Forte-1),\n",
       " Device('name': Garnet, 'arn': arn:aws:braket:eu-north-1::device/qpu/iqm/Garnet)]"
      ]
     },
     "execution_count": 10,
     "metadata": {},
     "output_type": "execute_result"
    }
   ],
   "source": [
    "# multiple criteria can be applied\n",
    "AwsDevice.get_devices(types=[\"QPU\"], statuses=[\"ONLINE\"])"
   ]
  },
  {
   "cell_type": "markdown",
   "metadata": {},
   "source": [
    "## Getting a device directly\n",
    "You can specify a device directly, with the device ARN. These ARNs can be specified from each device's entry in the `Devices` enum:"
   ]
  },
  {
   "cell_type": "code",
   "execution_count": 11,
   "metadata": {
    "ExecuteTime": {
     "end_time": "2023-08-29T21:52:17.486681Z",
     "start_time": "2023-08-29T21:52:15.244209Z"
    }
   },
   "outputs": [],
   "source": [
    "# specify a device directly by device ARN\n",
    "# Rigetti\n",
    "device = AwsDevice(Devices.Rigetti.Ankaa3)\n",
    "# IonQ\n",
    "device = AwsDevice(Devices.IonQ.Aria1)\n",
    "# IQM\n",
    "device = AwsDevice(Devices.IQM.Garnet)\n",
    "# the on-demand simulator SV1\n",
    "device = AwsDevice(Devices.Amazon.SV1)\n",
    "# the on-demand simulator TN1\n",
    "device = AwsDevice(Devices.Amazon.TN1)\n",
    "# the local simulator\n",
    "device = LocalSimulator()"
   ]
  },
  {
   "cell_type": "markdown",
   "metadata": {},
   "source": [
    "## Properties of devices\n",
    "\n",
    "You can check properties of a device with the `device.properties` call. The following examples show some useful properties of each device."
   ]
  },
  {
   "cell_type": "code",
   "execution_count": 12,
   "metadata": {
    "ExecuteTime": {
     "end_time": "2023-08-29T21:52:17.759631Z",
     "start_time": "2023-08-29T21:52:17.502344Z"
    }
   },
   "outputs": [
    {
     "name": "stdout",
     "output_type": "stream",
     "text": [
      "The supported operations of SV1 are ['ccnot', 'cnot', 'cphaseshift', 'cphaseshift00', 'cphaseshift01', 'cphaseshift10', 'cswap', 'cy', 'cz', 'ecr', 'h', 'i', 'iswap', 'pswap', 'phaseshift', 'rx', 'ry', 'rz', 's', 'si', 'swap', 't', 'ti', 'unitary', 'v', 'vi', 'x', 'xx', 'xy', 'y', 'yy', 'z', 'zz']\n",
      "\n",
      "The supported result types are [ResultType(name='Sample', observables=['x', 'y', 'z', 'h', 'i', 'hermitian'], minShots=1, maxShots=100000), ResultType(name='Expectation', observables=['x', 'y', 'z', 'h', 'i', 'hermitian'], minShots=0, maxShots=100000), ResultType(name='Variance', observables=['x', 'y', 'z', 'h', 'i', 'hermitian'], minShots=0, maxShots=100000), ResultType(name='Probability', observables=None, minShots=1, maxShots=100000), ResultType(name='Amplitude', observables=None, minShots=0, maxShots=0)]\n",
      "\n",
      "The maximum number of qubits supported by this device is 34\n",
      "The shots range of this device is (0, 100000)\n",
      "The price of running quantum tasks on this device: price=0.075 unit='minute'\n"
     ]
    }
   ],
   "source": [
    "# the on-demand simulator SV1\n",
    "device = AwsDevice(Devices.Amazon.SV1)\n",
    "\n",
    "support_gates = device.properties.action[\"braket.ir.jaqcd.program\"].supportedOperations\n",
    "support_result_types = device.properties.action[\"braket.ir.jaqcd.program\"].supportedResultTypes\n",
    "qubit_count = device.properties.paradigm.qubitCount\n",
    "shots_range = device.properties.service.shotsRange\n",
    "device_cost = device.properties.service.deviceCost\n",
    "\n",
    "print(f\"The supported operations of {device.name} are {support_gates}\\n\")\n",
    "print(f\"The supported result types are {support_result_types}\\n\")\n",
    "print(\"The maximum number of qubits supported by this device is\", qubit_count)\n",
    "print(\"The shots range of this device is\", shots_range)\n",
    "print(\"The price of running quantum tasks on this device:\", device_cost)"
   ]
  },
  {
   "cell_type": "markdown",
   "metadata": {},
   "source": [
    "For QPUs, you can get information about the properties shown previously. You also can get information about the availability windows and the device calibration data."
   ]
  },
  {
   "cell_type": "code",
   "execution_count": 13,
   "metadata": {
    "ExecuteTime": {
     "end_time": "2023-08-29T21:52:19.588547Z",
     "start_time": "2023-08-29T21:52:17.773910Z"
    }
   },
   "outputs": [
    {
     "name": "stdout",
     "output_type": "stream",
     "text": [
      "The availability windows for Garnet:\n",
      "[DeviceExecutionWindow(executionDay=<ExecutionDay.MONDAY: 'Monday'>, windowStartHour=datetime.time(8, 0), windowEndHour=datetime.time(10, 0)), DeviceExecutionWindow(executionDay=<ExecutionDay.TUESDAY: 'Tuesday'>, windowStartHour=datetime.time(8, 0), windowEndHour=datetime.time(10, 0)), DeviceExecutionWindow(executionDay=<ExecutionDay.WEDNESDAY: 'Wednesday'>, windowStartHour=datetime.time(8, 0), windowEndHour=datetime.time(10, 0)), DeviceExecutionWindow(executionDay=<ExecutionDay.THURSDAY: 'Thursday'>, windowStartHour=datetime.time(13, 0), windowEndHour=datetime.time(15, 0)), DeviceExecutionWindow(executionDay=<ExecutionDay.FRIDAY: 'Friday'>, windowStartHour=datetime.time(13, 0), windowEndHour=datetime.time(15, 0))]\n",
      "\n",
      "The connectivity graph of the qubits for this device:\n",
      " fullyConnected=False connectivityGraph={'1': ['2', '4'], '10': ['11', '15', '5', '9'], '11': ['12', '16', '6'], '12': ['17', '7'], '13': ['14', '8'], '14': ['15', '18', '9'], '15': ['16', '19'], '16': ['17', '20'], '18': ['19'], '19': ['20'], '2': ['5'], '3': ['4', '8'], '4': ['5', '9'], '5': ['6'], '6': ['7'], '8': ['9']}\n",
      "\n",
      "Calibration data:\n",
      " {\n",
      "  \"one_qubit\": {\n",
      "    \"1\": {\n",
      "      \"T1\": 5.233221824274576e-05,\n",
      "      \"T1_std_err\": 4.530877689936771e-06,\n",
      "      \"T2\": 1.0073896455141342e-05,\n",
      "      \"T2_echo\": 1.918941260197177e-05,\n",
      "      \"T2_echo_std_err\": 2.185447019357863e-06,\n",
      "      \"T2_std_err\": 3.9555963350039045e-07,\n",
      "      \"f1Q_simultaneous_RB\": 0.9993557957584865,\n",
      "      \"f1Q_simultaneous_RB_std_err\": 1.783095841334526e-05,\n",
      "      \"fRO\": 0.9832499999999998\n",
      "    },\n",
      "    \"10\": {\n",
      "      \"T1\": 4.1513140331376464e-05,\n",
      "      \"T1_std_err\": 2.413331197084564e-06,\n",
      "      \"T2\": 8.103274254093614e-06,\n",
      "      \"T2_echo\": 1.5752716731599283e-05,\n",
      "      \"T2_echo_std_err\": 1.810031434211557e-06,\n",
      "      \"T2_std_err\": 3.661343677682313e-07,\n",
      "      \"f1Q_simultaneous_RB\": 0.9988996663542573,\n",
      "      \"f1Q_simultaneous_RB_std_err\": 3.529910893699036e-05,\n",
      "      \"fRO\": 0.9685000000000001\n",
      "    },\n",
      "    \"11\": {\n",
      "      \"T1\": 6.257785167019248e-05,\n",
      "      \"T1_std_err\": 5.594367777723761e-06,\n",
      "      \"T2\": 1.1667695607229761e-05,\n",
      "      \"T2_echo\": 2.6407668612852722e-05,\n",
      "      \"T2_echo_std_err\": 3.385431863479034e-06,\n",
      "      \"T2_std_err\": 4.825942144932667e-07,\n",
      "      \"f1Q_simultaneous_RB\": 0.9991364567355774,\n",
      "      \"f1Q_simultaneous_RB_std_err\": 4.1422083667051014e-05,\n",
      "      \"fRO\": 0.94975\n",
      "    },\n",
      "    \"12\": {\n",
      "      \"T1\": 4.521084099321514e-05,\n",
      "      \"T1_std_err\": 7.202647272887081e-06,\n",
      "      \"T2\": 9.606321997428808e-06,\n",
      "      \"T2_echo\": 2.4631781658147868e-05,\n",
      "      \"T2_echo_std_err\": 2.4864489128144794e-06,\n",
      "      \"T2_std_err\": 1.2918363949729011e-06,\n",
      "      \"f1Q_simultaneous_RB\": 0.9993825476000787,\n",
      "      \"f1Q_simultaneous_RB_std_err\": 2.0452089219749227e-05,\n",
      "      \"fRO\": 0.9835\n",
      "    },\n",
      "    \"13\": {\n",
      "      \"T1\": 5.024921456530957e-05,\n",
      "      \"T1_std_err\": 2.8891488843880896e-06,\n",
      "      \"T2\": 1.2583548748379656e-05,\n",
      "      \"T2_echo\": 2.8475487363051375e-05,\n",
      "      \"T2_echo_std_err\": 3.366453164718857e-06,\n",
      "      \"T2_std_err\": 7.14013948760969e-07,\n",
      "      \"f1Q_simultaneous_RB\": 0.9991235550625429,\n",
      "      \"f1Q_simultaneous_RB_std_err\": 3.017679862771145e-05,\n",
      "      \"fRO\": 0.9797499999999999\n",
      "    },\n",
      "    \"14\": {\n",
      "      \"T1\": 6.476456599389004e-05,\n",
      "      \"T1_std_err\": 3.745311036216786e-06,\n",
      "      \"T2\": 8.425015165030008e-06,\n",
      "      \"T2_echo\": 2.1747730669521984e-05,\n",
      "      \"T2_echo_std_err\": 3.009152279447894e-06,\n",
      "      \"T2_std_err\": 1.258799061637155e-06,\n",
      "      \"f1Q_simultaneous_RB\": 0.9990349515527837,\n",
      "      \"f1Q_simultaneous_RB_std_err\": 3.813720328752951e-05,\n",
      "      \"fRO\": 0.98175\n",
      "    },\n",
      "    \"15\": {\n",
      "      \"T1\": 5.703477757249531e-05,\n",
      "      \"T1_std_err\": 4.749211232800504e-06,\n",
      "      \"T2\": 1.2343680401890667e-05,\n",
      "      \"T2_echo\": 2.7409917334667064e-05,\n",
      "      \"T2_echo_std_err\": 2.3998403006004684e-06,\n",
      "      \"T2_std_err\": 5.772601643827869e-07,\n",
      "      \"f1Q_simultaneous_RB\": 0.9992616869249829,\n",
      "      \"f1Q_simultaneous_RB_std_err\": 2.51893471260263e-05,\n",
      "      \"fRO\": 0.97775\n",
      "    },\n",
      "    \"16\": {\n",
      "      \"T1\": 5.855897296090785e-05,\n",
      "      \"T1_std_err\": 3.063854876532111e-06,\n",
      "      \"T2\": 8.480655008606844e-06,\n",
      "      \"T2_echo\": 1.8318741760961613e-05,\n",
      "      \"T2_echo_std_err\": 2.2384810706735305e-06,\n",
      "      \"T2_std_err\": 2.9019549246725995e-07,\n",
      "      \"f1Q_simultaneous_RB\": 0.998785718071203,\n",
      "      \"f1Q_simultaneous_RB_std_err\": 2.275135228361572e-05,\n",
      "      \"fRO\": 0.953\n",
      "    },\n",
      "    \"17\": {\n",
      "      \"T1\": 5.3597609938574896e-05,\n",
      "      \"T1_std_err\": 2.8429472730522782e-06,\n",
      "      \"T2\": 1.2489304027155914e-05,\n",
      "      \"T2_echo\": 2.3788143291995338e-05,\n",
      "      \"T2_echo_std_err\": 2.676651683601454e-06,\n",
      "      \"T2_std_err\": 1.068530082460342e-06,\n",
      "      \"f1Q_simultaneous_RB\": 0.9992675847571916,\n",
      "      \"f1Q_simultaneous_RB_std_err\": 3.0692766077182935e-05,\n",
      "      \"fRO\": 0.981\n",
      "    },\n",
      "    \"18\": {\n",
      "      \"T1\": 3.9095236294201224e-05,\n",
      "      \"T1_std_err\": 1.6090697185859757e-06,\n",
      "      \"T2\": 1.318405202854217e-05,\n",
      "      \"T2_echo\": 2.7150703934725874e-05,\n",
      "      \"T2_echo_std_err\": 3.1098015206972583e-06,\n",
      "      \"T2_std_err\": 1.1857843577849618e-06,\n",
      "      \"f1Q_simultaneous_RB\": 0.9993418740439206,\n",
      "      \"f1Q_simultaneous_RB_std_err\": 5.020576561651351e-05,\n",
      "      \"fRO\": 0.98175\n",
      "    },\n",
      "    \"19\": {\n",
      "      \"T1\": 6.330162978546088e-05,\n",
      "      \"T1_std_err\": 3.822119412132433e-06,\n",
      "      \"T2\": 9.011181800482846e-06,\n",
      "      \"T2_echo\": 2.008387108847862e-05,\n",
      "      \"T2_echo_std_err\": 2.2919535629677865e-06,\n",
      "      \"T2_std_err\": 3.728107561872019e-07,\n",
      "      \"f1Q_simultaneous_RB\": 0.9995165224626936,\n",
      "      \"f1Q_simultaneous_RB_std_err\": 1.8946845216508526e-05,\n",
      "      \"fRO\": 0.985\n",
      "    },\n",
      "    \"2\": {\n",
      "      \"T1\": 4.3337756373520615e-05,\n",
      "      \"T1_std_err\": 1.6988112670158351e-06,\n",
      "      \"T2\": 7.514006943388783e-06,\n",
      "      \"T2_echo\": 1.4369520790025138e-05,\n",
      "      \"T2_echo_std_err\": 2.0537046228310545e-06,\n",
      "      \"T2_std_err\": 3.520660307161736e-07,\n",
      "      \"f1Q_simultaneous_RB\": 0.9983588743046895,\n",
      "      \"f1Q_simultaneous_RB_std_err\": 5.5372155349395367e-05,\n",
      "      \"fRO\": 0.98725\n",
      "    },\n",
      "    \"20\": {\n",
      "      \"T1\": 4.301519099357533e-05,\n",
      "      \"T1_std_err\": 2.3524807895992974e-06,\n",
      "      \"T2\": 2.7403886206497073e-05,\n",
      "      \"T2_echo\": 3.2012971636179525e-05,\n",
      "      \"T2_echo_std_err\": 4.373436769823624e-06,\n",
      "      \"T2_std_err\": 6.344659687931133e-06,\n",
      "      \"f1Q_simultaneous_RB\": 0.9994739216169065,\n",
      "      \"f1Q_simultaneous_RB_std_err\": 2.264878453093177e-05,\n",
      "      \"fRO\": 0.98675\n",
      "    },\n",
      "    \"3\": {\n",
      "      \"T1\": 2.710882989234504e-05,\n",
      "      \"T1_std_err\": 1.2139687731074536e-06,\n",
      "      \"T2\": 1.3241108064381636e-05,\n",
      "      \"T2_echo\": 2.3795203466489024e-05,\n",
      "      \"T2_echo_std_err\": 2.943164660442474e-06,\n",
      "      \"T2_std_err\": 8.391068446883951e-07,\n",
      "      \"f1Q_simultaneous_RB\": 0.9992709023113034,\n",
      "      \"f1Q_simultaneous_RB_std_err\": 2.0486611433151197e-05,\n",
      "      \"fRO\": 0.981\n",
      "    },\n",
      "    \"4\": {\n",
      "      \"T1\": 3.607123464974194e-05,\n",
      "      \"T1_std_err\": 1.851335406791212e-06,\n",
      "      \"T2\": 8.079886612751314e-06,\n",
      "      \"T2_echo\": 1.6189517024683453e-05,\n",
      "      \"T2_echo_std_err\": 2.3243111354215532e-06,\n",
      "      \"T2_std_err\": 3.513686820915795e-07,\n",
      "      \"f1Q_simultaneous_RB\": 0.9993545439525947,\n",
      "      \"f1Q_simultaneous_RB_std_err\": 2.3281217368690162e-05,\n",
      "      \"fRO\": 0.9785\n",
      "    },\n",
      "    \"5\": {\n",
      "      \"T1\": 4.152738914921838e-05,\n",
      "      \"T1_std_err\": 3.0447318610909634e-06,\n",
      "      \"T2\": 3.7791290082155243e-06,\n",
      "      \"T2_echo\": 1.0826796254687862e-05,\n",
      "      \"T2_echo_std_err\": 1.5976605568391469e-06,\n",
      "      \"T2_std_err\": 1.808305957069575e-07,\n",
      "      \"f1Q_simultaneous_RB\": 0.9989531171384264,\n",
      "      \"f1Q_simultaneous_RB_std_err\": 2.7480709805283538e-05,\n",
      "      \"fRO\": 0.9865\n",
      "    },\n",
      "    \"6\": {\n",
      "      \"T1\": 5.625880825165078e-05,\n",
      "      \"T1_std_err\": 3.810455529833518e-06,\n",
      "      \"T2\": 8.386081872046488e-06,\n",
      "      \"T2_echo\": 1.811626282664816e-05,\n",
      "      \"T2_echo_std_err\": 2.371487223011395e-06,\n",
      "      \"T2_std_err\": 3.0345844964974704e-07,\n",
      "      \"f1Q_simultaneous_RB\": 0.9983979331119666,\n",
      "      \"f1Q_simultaneous_RB_std_err\": 0.00011950480855225058,\n",
      "      \"fRO\": 0.9855000000000002\n",
      "    },\n",
      "    \"7\": {\n",
      "      \"T1\": 5.243376618007761e-05,\n",
      "      \"T1_std_err\": 4.29869544870248e-06,\n",
      "      \"T2\": 9.409638123928343e-06,\n",
      "      \"T2_echo\": 1.6105241241691394e-05,\n",
      "      \"T2_echo_std_err\": 1.7037360512688346e-06,\n",
      "      \"T2_std_err\": 2.480320234987906e-07,\n",
      "      \"f1Q_simultaneous_RB\": 0.9959778883251841,\n",
      "      \"f1Q_simultaneous_RB_std_err\": 0.0002599896495976811,\n",
      "      \"fRO\": 0.97675\n",
      "    },\n",
      "    \"8\": {\n",
      "      \"T1\": 1.7988992554858102e-05,\n",
      "      \"T1_std_err\": 1.4271621326974325e-06,\n",
      "      \"T2\": 8.554174991272076e-06,\n",
      "      \"T2_echo\": 1.4856592604193559e-05,\n",
      "      \"T2_echo_std_err\": 1.6120697589926618e-06,\n",
      "      \"T2_std_err\": 2.5449316600598275e-07,\n",
      "      \"f1Q_simultaneous_RB\": 0.9992452470393435,\n",
      "      \"f1Q_simultaneous_RB_std_err\": 2.0353246068030823e-05,\n",
      "      \"fRO\": 0.99225\n",
      "    },\n",
      "    \"9\": {\n",
      "      \"T1\": 1.3974093115959925e-05,\n",
      "      \"T1_std_err\": 1.918638804138853e-06,\n",
      "      \"T2\": 7.560658914208407e-06,\n",
      "      \"T2_echo\": 1.3548385427686069e-05,\n",
      "      \"T2_echo_std_err\": 2.0935272655596745e-06,\n",
      "      \"T2_std_err\": 4.3669836859456143e-07,\n",
      "      \"f1Q_simultaneous_RB\": 0.998650974455168,\n",
      "      \"f1Q_simultaneous_RB_std_err\": 3.328948359935904e-05,\n",
      "      \"fRO\": 0.9885\n",
      "    }\n",
      "  },\n",
      "  \"two_qubit\": {\n",
      "    \"1-2\": {\n",
      "      \"f2Q_simultaneous_RB_Clifford\": 0.9814849795891452,\n",
      "      \"f2Q_simultaneous_RB_Clifford_std_err\": 0.00028344625394777077,\n",
      "      \"fCZ\": 0.9932323622623185,\n",
      "      \"fCZ_std_err\": 0.00048553395459744207\n",
      "    },\n",
      "    \"1-4\": {\n",
      "      \"f2Q_simultaneous_RB_Clifford\": 0.9846470475869329,\n",
      "      \"f2Q_simultaneous_RB_Clifford_std_err\": 0.0002531711182988931,\n",
      "      \"fCZ\": 0.9941291243463581,\n",
      "      \"fCZ_std_err\": 0.0004372887480161703\n",
      "    },\n",
      "    \"10-11\": {\n",
      "      \"f2Q_simultaneous_RB_Clifford\": 0.9836512322547925,\n",
      "      \"f2Q_simultaneous_RB_Clifford_std_err\": 0.00020678612680259938,\n",
      "      \"fCZ\": 0.9937888113103489,\n",
      "      \"fCZ_std_err\": 0.0003565780048218771\n",
      "    },\n",
      "    \"10-15\": {\n",
      "      \"f2Q_simultaneous_RB_Clifford\": 0.9789168743541588,\n",
      "      \"f2Q_simultaneous_RB_Clifford_std_err\": 0.00030670869944108756,\n",
      "      \"fCZ\": 0.9907134271992546,\n",
      "      \"fCZ_std_err\": 0.0005428377079220554\n",
      "    },\n",
      "    \"11-12\": {\n",
      "      \"f2Q_simultaneous_RB_Clifford\": 0.9850708972074926,\n",
      "      \"f2Q_simultaneous_RB_Clifford_std_err\": 0.00025884109745608487,\n",
      "      \"fCZ\": 0.9935749574400502,\n",
      "      \"fCZ_std_err\": 0.0004569067287687497\n",
      "    },\n",
      "    \"11-16\": {\n",
      "      \"f2Q_simultaneous_RB_Clifford\": 0.9787491660409708,\n",
      "      \"f2Q_simultaneous_RB_Clifford_std_err\": 0.00046018362275992194,\n",
      "      \"fCZ\": 0.9914836711472635,\n",
      "      \"fCZ_std_err\": 0.0008008316764782065\n",
      "    },\n",
      "    \"12-17\": {\n",
      "      \"f2Q_simultaneous_RB_Clifford\": 0.9859644173841703,\n",
      "      \"f2Q_simultaneous_RB_Clifford_std_err\": 0.00027665600582285296,\n",
      "      \"fCZ\": 0.99425123666199,\n",
      "      \"fCZ_std_err\": 0.0004843857739512169\n",
      "    },\n",
      "    \"13-14\": {\n",
      "      \"f2Q_simultaneous_RB_Clifford\": 0.985847963190606,\n",
      "      \"f2Q_simultaneous_RB_Clifford_std_err\": 0.000235236399937425,\n",
      "      \"fCZ\": 0.9951456569822137,\n",
      "      \"fCZ_std_err\": 0.00039955488778197054\n",
      "    },\n",
      "    \"14-15\": {\n",
      "      \"f2Q_simultaneous_RB_Clifford\": 0.9851660868850748,\n",
      "      \"f2Q_simultaneous_RB_Clifford_std_err\": 0.0002156322503828947,\n",
      "      \"fCZ\": 0.9939382229762606,\n",
      "      \"fCZ_std_err\": 0.00037701349278130284\n",
      "    },\n",
      "    \"14-18\": {\n",
      "      \"f2Q_simultaneous_RB_Clifford\": 0.9840027182479872,\n",
      "      \"f2Q_simultaneous_RB_Clifford_std_err\": 0.00022022779754762612,\n",
      "      \"fCZ\": 0.9945763163231525,\n",
      "      \"fCZ_std_err\": 0.00037292972070145775\n",
      "    },\n",
      "    \"15-16\": {\n",
      "      \"f2Q_simultaneous_RB_Clifford\": 0.9845536059573565,\n",
      "      \"f2Q_simultaneous_RB_Clifford_std_err\": 0.0002758272345235293,\n",
      "      \"fCZ\": 0.9941427718144574,\n",
      "      \"fCZ_std_err\": 0.00047570839059265775\n",
      "    },\n",
      "    \"15-19\": {\n",
      "      \"f2Q_simultaneous_RB_Clifford\": 0.984607172173747,\n",
      "      \"f2Q_simultaneous_RB_Clifford_std_err\": 0.00018792554027743258,\n",
      "      \"fCZ\": 0.9951157133187611,\n",
      "      \"fCZ_std_err\": 0.0003151906510073798\n",
      "    },\n",
      "    \"16-17\": {\n",
      "      \"f2Q_simultaneous_RB_Clifford\": 0.9821228461346857,\n",
      "      \"f2Q_simultaneous_RB_Clifford_std_err\": 0.0002413088794871265,\n",
      "      \"fCZ\": 0.9929798747831767,\n",
      "      \"fCZ_std_err\": 0.0004183062087113262\n",
      "    },\n",
      "    \"16-20\": {\n",
      "      \"f2Q_simultaneous_RB_Clifford\": 0.9788287112878605,\n",
      "      \"f2Q_simultaneous_RB_Clifford_std_err\": 0.0003083207908617974,\n",
      "      \"fCZ\": 0.9911839568679083,\n",
      "      \"fCZ_std_err\": 0.0005401454087092711\n",
      "    },\n",
      "    \"18-19\": {\n",
      "      \"f2Q_simultaneous_RB_Clifford\": 0.9865483259992721,\n",
      "      \"f2Q_simultaneous_RB_Clifford_std_err\": 0.0002618895608407435,\n",
      "      \"fCZ\": 0.9951006534849611,\n",
      "      \"fCZ_std_err\": 0.00044956635300274334\n",
      "    },\n",
      "    \"19-20\": {\n",
      "      \"f2Q_simultaneous_RB_Clifford\": 0.9844993878146171,\n",
      "      \"f2Q_simultaneous_RB_Clifford_std_err\": 0.00021914033615449757,\n",
      "      \"fCZ\": 0.9937451402034974,\n",
      "      \"fCZ_std_err\": 0.0003820488889906796\n",
      "    },\n",
      "    \"2-5\": {\n",
      "      \"f2Q_simultaneous_RB_Clifford\": 0.9823003915024663,\n",
      "      \"f2Q_simultaneous_RB_Clifford_std_err\": 0.00025512333161688256,\n",
      "      \"fCZ\": 0.9931541087088908,\n",
      "      \"fCZ_std_err\": 0.00044111787938147284\n",
      "    },\n",
      "    \"3-4\": {\n",
      "      \"f2Q_simultaneous_RB_Clifford\": 0.9847355397252063,\n",
      "      \"f2Q_simultaneous_RB_Clifford_std_err\": 0.00020056635712007028,\n",
      "      \"fCZ\": 0.994338778341464,\n",
      "      \"fCZ_std_err\": 0.0003446641946741969\n",
      "    },\n",
      "    \"3-8\": {\n",
      "      \"f2Q_simultaneous_RB_Clifford\": 0.9853823305909912,\n",
      "      \"f2Q_simultaneous_RB_Clifford_std_err\": 0.0001769855467512403,\n",
      "      \"fCZ\": 0.994764090808451,\n",
      "      \"fCZ_std_err\": 0.0003025633783857373\n",
      "    },\n",
      "    \"4-5\": {\n",
      "      \"f2Q_simultaneous_RB_Clifford\": 0.9823524734028016,\n",
      "      \"f2Q_simultaneous_RB_Clifford_std_err\": 0.000245067904499632,\n",
      "      \"fCZ\": 0.9952322424696538,\n",
      "      \"fCZ_std_err\": 0.0004022831100275581\n",
      "    },\n",
      "    \"4-9\": {\n",
      "      \"f2Q_simultaneous_RB_Clifford\": 0.98243352819231,\n",
      "      \"f2Q_simultaneous_RB_Clifford_std_err\": 0.0002120278451878781,\n",
      "      \"fCZ\": 0.9935047654029705,\n",
      "      \"fCZ_std_err\": 0.00036387160316827616\n",
      "    },\n",
      "    \"5-10\": {\n",
      "      \"f2Q_simultaneous_RB_Clifford\": 0.9823481803197359,\n",
      "      \"f2Q_simultaneous_RB_Clifford_std_err\": 0.00026345309693375115,\n",
      "      \"fCZ\": 0.9936360997523364,\n",
      "      \"fCZ_std_err\": 0.0004502846789329743\n",
      "    },\n",
      "    \"5-6\": {\n",
      "      \"f2Q_simultaneous_RB_Clifford\": 0.9676707865972313,\n",
      "      \"f2Q_simultaneous_RB_Clifford_std_err\": 0.0009089988584334522,\n",
      "      \"fCZ\": 0.9882352417819124,\n",
      "      \"fCZ_std_err\": 0.001565790639184899\n",
      "    },\n",
      "    \"6-11\": {\n",
      "      \"f2Q_simultaneous_RB_Clifford\": 0.976729916846023,\n",
      "      \"f2Q_simultaneous_RB_Clifford_std_err\": 0.0019000671662065434,\n",
      "      \"fCZ\": 0.9848439287934045,\n",
      "      \"fCZ_std_err\": 0.0036659442057153345\n",
      "    },\n",
      "    \"6-7\": {\n",
      "      \"f2Q_simultaneous_RB_Clifford\": 0.9775916577115965,\n",
      "      \"f2Q_simultaneous_RB_Clifford_std_err\": 0.0005821328791413027,\n",
      "      \"fCZ\": 0.9952161399843067,\n",
      "      \"fCZ_std_err\": 0.0009342018496176727\n",
      "    },\n",
      "    \"7-12\": {\n",
      "      \"f2Q_simultaneous_RB_Clifford\": 0.9847630859014249,\n",
      "      \"f2Q_simultaneous_RB_Clifford_std_err\": 0.0003150669767621081,\n",
      "      \"fCZ\": 0.9979794649408771,\n",
      "      \"fCZ_std_err\": 0.0004848478014220389\n",
      "    },\n",
      "    \"8-13\": {\n",
      "      \"f2Q_simultaneous_RB_Clifford\": 0.9869693880508943,\n",
      "      \"f2Q_simultaneous_RB_Clifford_std_err\": 0.00017799214406669792,\n",
      "      \"fCZ\": 0.9945189672927508,\n",
      "      \"fCZ_std_err\": 0.00031374404410111\n",
      "    },\n",
      "    \"8-9\": {\n",
      "      \"f2Q_simultaneous_RB_Clifford\": 0.9798675366458601,\n",
      "      \"f2Q_simultaneous_RB_Clifford_std_err\": 0.00030163468514223294,\n",
      "      \"fCZ\": 0.9940778759874623,\n",
      "      \"fCZ_std_err\": 0.0005009311538248663\n",
      "    },\n",
      "    \"9-10\": {\n",
      "      \"f2Q_simultaneous_RB_Clifford\": 0.975936451678137,\n",
      "      \"f2Q_simultaneous_RB_Clifford_std_err\": 0.0003298218312911302,\n",
      "      \"fCZ\": 0.9904114014046959,\n",
      "      \"fCZ_std_err\": 0.0005739631175110916\n",
      "    },\n",
      "    \"9-14\": {\n",
      "      \"f2Q_simultaneous_RB_Clifford\": 0.9804912139683102,\n",
      "      \"f2Q_simultaneous_RB_Clifford_std_err\": 0.0002953822147008605,\n",
      "      \"fCZ\": 0.9930330075067383,\n",
      "      \"fCZ_std_err\": 0.0005042036118202452\n",
      "    }\n",
      "  }\n",
      "}\n"
     ]
    }
   ],
   "source": [
    "# the IonQ device\n",
    "device = AwsDevice(Devices.IonQ.Aria1)\n",
    "\n",
    "# IQM\n",
    "device = AwsDevice(Devices.IQM.Garnet)\n",
    "\n",
    "# the Rigetti device\n",
    "device = AwsDevice(Devices.Rigetti.Ankaa3)\n",
    "\n",
    "execution_windows = device.properties.service.executionWindows\n",
    "connectivity_graph = device.properties.paradigm.connectivity\n",
    "calibration = device.properties.provider.properties\n",
    "\n",
    "print(f\"The availability windows for {device.name}:\\n{execution_windows}\\n\")\n",
    "print(f\"The connectivity graph of the qubits for this device:\\n {connectivity_graph}\\n\")\n",
    "print(\"Calibration data:\\n\", json.dumps(calibration, sort_keys=True, indent=2))"
   ]
  },
  {
   "cell_type": "markdown",
   "metadata": {},
   "source": [
    "Each device has more properties to explore. To learn more, view the [Amazon Braket schemas documentation](https://amazon-braket-schemas-python.readthedocs.io/en/latest/_apidoc/braket.device_schema.html)."
   ]
  }
 ],
 "metadata": {
  "kernelspec": {
   "display_name": "3.10.10",
   "language": "python",
   "name": "python3"
  },
  "language_info": {
   "codemirror_mode": {
    "name": "ipython",
    "version": 3
   },
   "file_extension": ".py",
   "mimetype": "text/x-python",
   "name": "python",
   "nbconvert_exporter": "python",
   "pygments_lexer": "ipython3",
   "version": "3.10.10"
  }
 },
 "nbformat": 4,
 "nbformat_minor": 4
}
