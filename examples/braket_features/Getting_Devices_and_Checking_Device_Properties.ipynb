{
 "cells": [
  {
   "cell_type": "markdown",
   "metadata": {},
   "source": [
    "# Getting Devices and Checking Device Properties\n",
    "\n",
    "This tutorial demonstrates how to use the `get_devices()` method to search and instantiate devices available on Amazon Braket. It also shows how to obtain access to properties for simulator and QPU devices."
   ]
  },
  {
   "cell_type": "code",
   "execution_count": 1,
   "metadata": {},
   "outputs": [],
   "source": [
    "# general imports\n",
    "import json\n",
    "from braket.aws import AwsDevice\n",
    "from braket.devices import LocalSimulator"
   ]
  },
  {
   "cell_type": "markdown",
   "metadata": {},
   "source": [
    "## Using get_devices\n",
    "You can get a device, including the managed simulators and the QPUs, by calling the `get_devices()` method. Search for devices with one or more of the following filtering criteria:\n",
    "* device arn \n",
    "* name \n",
    "* type \n",
    "* status \n",
    "* provider_name. \n",
    "\n",
    "The following cells give examples for each of the cases."
   ]
  },
  {
   "cell_type": "markdown",
   "metadata": {},
   "source": [
    "### Getting the device by type"
   ]
  },
  {
   "cell_type": "code",
   "execution_count": 2,
   "metadata": {},
   "outputs": [
    {
     "data": {
      "text/plain": [
       "[Device('name': SV1, 'arn': arn:aws:braket:::device/quantum-simulator/amazon/sv1),\n",
       " Device('name': TN1, 'arn': arn:aws:braket:::device/quantum-simulator/amazon/tn1)]"
      ]
     },
     "execution_count": 2,
     "metadata": {},
     "output_type": "execute_result"
    }
   ],
   "source": [
    "# to get the managed simulators\n",
    "AwsDevice.get_devices(types=['SIMULATOR'])"
   ]
  },
  {
   "cell_type": "code",
   "execution_count": 3,
   "metadata": {},
   "outputs": [
    {
     "data": {
      "text/plain": [
       "[Device('name': Advantage_system1.1, 'arn': arn:aws:braket:::device/qpu/d-wave/Advantage_system1),\n",
       " Device('name': Aspen-8, 'arn': arn:aws:braket:::device/qpu/rigetti/Aspen-8),\n",
       " Device('name': Aspen-9, 'arn': arn:aws:braket:::device/qpu/rigetti/Aspen-9),\n",
       " Device('name': DW_2000Q_6, 'arn': arn:aws:braket:::device/qpu/d-wave/DW_2000Q_6),\n",
       " Device('name': IonQ Device, 'arn': arn:aws:braket:::device/qpu/ionq/ionQdevice)]"
      ]
     },
     "execution_count": 3,
     "metadata": {},
     "output_type": "execute_result"
    }
   ],
   "source": [
    "# to get the list of QPUs\n",
    "AwsDevice.get_devices(types=['QPU'])"
   ]
  },
  {
   "cell_type": "markdown",
   "metadata": {},
   "source": [
    "### Getting the device by ARN\n",
    "For every type of device available in Amazon Braket, you can find the associated ARN in the Amazon Braket [Developer Guide](https://docs.aws.amazon.com/braket/latest/developerguide/braket-devices.html). You also can view the device ARN on the `Devices` section in the Amazon Braket console."
   ]
  },
  {
   "cell_type": "code",
   "execution_count": 4,
   "metadata": {},
   "outputs": [
    {
     "data": {
      "text/plain": [
       "[Device('name': IonQ Device, 'arn': arn:aws:braket:::device/qpu/ionq/ionQdevice)]"
      ]
     },
     "execution_count": 4,
     "metadata": {},
     "output_type": "execute_result"
    }
   ],
   "source": [
    "# for example, the following ARN refers to the IonQ device.\n",
    "AwsDevice.get_devices(arns=['arn:aws:braket:::device/qpu/ionq/ionQdevice'])"
   ]
  },
  {
   "cell_type": "markdown",
   "metadata": {},
   "source": [
    "### Getting the device by name"
   ]
  },
  {
   "cell_type": "code",
   "execution_count": 5,
   "metadata": {},
   "outputs": [
    {
     "data": {
      "text/plain": [
       "[Device('name': Advantage_system1.1, 'arn': arn:aws:braket:::device/qpu/d-wave/Advantage_system1)]"
      ]
     },
     "execution_count": 5,
     "metadata": {},
     "output_type": "execute_result"
    }
   ],
   "source": [
    "# for example, the following name refers to a DWave Advantage system.\n",
    "AwsDevice.get_devices(names=['Advantage_system1.1'])"
   ]
  },
  {
   "cell_type": "markdown",
   "metadata": {},
   "source": [
    "### Getting the device by status"
   ]
  },
  {
   "cell_type": "code",
   "execution_count": 6,
   "metadata": {},
   "outputs": [
    {
     "data": {
      "text/plain": [
       "[Device('name': Advantage_system1.1, 'arn': arn:aws:braket:::device/qpu/d-wave/Advantage_system1),\n",
       " Device('name': Aspen-9, 'arn': arn:aws:braket:::device/qpu/rigetti/Aspen-9),\n",
       " Device('name': DW_2000Q_6, 'arn': arn:aws:braket:::device/qpu/d-wave/DW_2000Q_6),\n",
       " Device('name': IonQ Device, 'arn': arn:aws:braket:::device/qpu/ionq/ionQdevice),\n",
       " Device('name': SV1, 'arn': arn:aws:braket:::device/quantum-simulator/amazon/sv1),\n",
       " Device('name': TN1, 'arn': arn:aws:braket:::device/quantum-simulator/amazon/tn1)]"
      ]
     },
     "execution_count": 6,
     "metadata": {},
     "output_type": "execute_result"
    }
   ],
   "source": [
    "# retrieve all devices that are currently online\n",
    "AwsDevice.get_devices(statuses=['ONLINE'])"
   ]
  },
  {
   "cell_type": "code",
   "execution_count": 7,
   "metadata": {},
   "outputs": [
    {
     "data": {
      "text/plain": [
       "[Device('name': Aspen-8, 'arn': arn:aws:braket:::device/qpu/rigetti/Aspen-8)]"
      ]
     },
     "execution_count": 7,
     "metadata": {},
     "output_type": "execute_result"
    }
   ],
   "source": [
    "# retrieve all devices that are currently offline\n",
    "AwsDevice.get_devices(statuses=['OFFLINE'])"
   ]
  },
  {
   "cell_type": "markdown",
   "metadata": {},
   "source": [
    "### Getting the device by provider_name"
   ]
  },
  {
   "cell_type": "code",
   "execution_count": 8,
   "metadata": {},
   "outputs": [
    {
     "data": {
      "text/plain": [
       "[Device('name': IonQ Device, 'arn': arn:aws:braket:::device/qpu/ionq/ionQdevice)]"
      ]
     },
     "execution_count": 8,
     "metadata": {},
     "output_type": "execute_result"
    }
   ],
   "source": [
    "# for example, the following ARN retrieves the IonQ device.\n",
    "AwsDevice.get_devices(provider_names=['IonQ'])"
   ]
  },
  {
   "cell_type": "markdown",
   "metadata": {},
   "source": [
    "### Retrieve devices in order"
   ]
  },
  {
   "cell_type": "code",
   "execution_count": 9,
   "metadata": {},
   "outputs": [
    {
     "data": {
      "text/plain": [
       "[Device('name': TN1, 'arn': arn:aws:braket:::device/quantum-simulator/amazon/tn1),\n",
       " Device('name': SV1, 'arn': arn:aws:braket:::device/quantum-simulator/amazon/sv1),\n",
       " Device('name': Advantage_system1.1, 'arn': arn:aws:braket:::device/qpu/d-wave/Advantage_system1),\n",
       " Device('name': DW_2000Q_6, 'arn': arn:aws:braket:::device/qpu/d-wave/DW_2000Q_6),\n",
       " Device('name': IonQ Device, 'arn': arn:aws:braket:::device/qpu/ionq/ionQdevice),\n",
       " Device('name': Aspen-8, 'arn': arn:aws:braket:::device/qpu/rigetti/Aspen-8),\n",
       " Device('name': Aspen-9, 'arn': arn:aws:braket:::device/qpu/rigetti/Aspen-9)]"
      ]
     },
     "execution_count": 9,
     "metadata": {},
     "output_type": "execute_result"
    }
   ],
   "source": [
    "# retrieve the list of devices, ordered by provider name\n",
    "AwsDevice.get_devices(order_by='provider_name')"
   ]
  },
  {
   "cell_type": "markdown",
   "metadata": {},
   "source": [
    "### Getting the device with multiple criteria"
   ]
  },
  {
   "cell_type": "code",
   "execution_count": 10,
   "metadata": {},
   "outputs": [
    {
     "data": {
      "text/plain": [
       "[Device('name': Advantage_system1.1, 'arn': arn:aws:braket:::device/qpu/d-wave/Advantage_system1),\n",
       " Device('name': Aspen-9, 'arn': arn:aws:braket:::device/qpu/rigetti/Aspen-9),\n",
       " Device('name': DW_2000Q_6, 'arn': arn:aws:braket:::device/qpu/d-wave/DW_2000Q_6),\n",
       " Device('name': IonQ Device, 'arn': arn:aws:braket:::device/qpu/ionq/ionQdevice)]"
      ]
     },
     "execution_count": 10,
     "metadata": {},
     "output_type": "execute_result"
    }
   ],
   "source": [
    "# multiple criteria can be applied\n",
    "AwsDevice.get_devices(types=['QPU'],statuses=['ONLINE'])"
   ]
  },
  {
   "cell_type": "markdown",
   "metadata": {},
   "source": [
    "## Getting a device directly\n",
    "You can specify a device directly, with the device ARN."
   ]
  },
  {
   "cell_type": "code",
   "execution_count": null,
   "metadata": {},
   "outputs": [],
   "source": [
    "# specify a device directly by device ARN\n",
    "# Rigetti\n",
    "device = AwsDevice(\"arn:aws:braket:::device/qpu/rigetti/Aspen-9\")\n",
    "# IonQ\n",
    "device = AwsDevice(\"arn:aws:braket:::device/qpu/ionq/ionQdevice\")\n",
    "# DWave\n",
    "device = AwsDevice(\"arn:aws:braket:::device/qpu/d-wave/DW_2000Q_6\")\n",
    "device = AwsDevice(\"arn:aws:braket:::device/qpu/d-wave/Advantage_system1\")\n",
    "# the managed simulator SV1\n",
    "device = AwsDevice(\"arn:aws:braket:::device/quantum-simulator/amazon/sv1\")\n",
    "# the managed simulator TN1\n",
    "device = AwsDevice(\"arn:aws:braket:::device/quantum-simulator/amazon/tn1\")\n",
    "# the local simulator\n",
    "device = LocalSimulator()"
   ]
  },
  {
   "cell_type": "markdown",
   "metadata": {},
   "source": [
    "## Properties of devices\n",
    "\n",
    "You can check properties of a device with the `device.properties` call. The following examples show some useful properties of each device."
   ]
  },
  {
   "cell_type": "code",
   "execution_count": 12,
   "metadata": {},
   "outputs": [
    {
     "name": "stdout",
     "output_type": "stream",
     "text": [
      "The supported operations of SV1 are ['ccnot', 'cnot', 'cphaseshift', 'cphaseshift00', 'cphaseshift01', 'cphaseshift10', 'cswap', 'cy', 'cz', 'h', 'i', 'iswap', 'pswap', 'phaseshift', 'rx', 'ry', 'rz', 's', 'si', 'swap', 't', 'ti', 'unitary', 'v', 'vi', 'x', 'xx', 'xy', 'y', 'yy', 'z', 'zz']\n",
      "\n",
      "The supported result types are [ResultType(name='Sample', observables=['x', 'y', 'z', 'h', 'i', 'hermitian'], minShots=1, maxShots=100000), ResultType(name='Expectation', observables=['x', 'y', 'z', 'h', 'i', 'hermitian'], minShots=0, maxShots=100000), ResultType(name='Variance', observables=['x', 'y', 'z', 'h', 'i', 'hermitian'], minShots=0, maxShots=100000), ResultType(name='Probability', observables=None, minShots=1, maxShots=100000), ResultType(name='Amplitude', observables=None, minShots=0, maxShots=0)]\n",
      "\n",
      "The maximum number of qubits supported by this device is 34\n",
      "The shots range of this device is (0, 100000)\n",
      "The price of running tasks on this device: price=0.075 unit='minute'\n"
     ]
    }
   ],
   "source": [
    "# the managed simulator SV1\n",
    "device = AwsDevice(\"arn:aws:braket:::device/quantum-simulator/amazon/sv1\")\n",
    "\n",
    "support_gates = device.properties.action['braket.ir.jaqcd.program'].supportedOperations\n",
    "support_result_types = device.properties.action['braket.ir.jaqcd.program'].supportedResultTypes\n",
    "qubit_count = device.properties.paradigm.qubitCount\n",
    "shorts_range = device.properties.service.shotsRange\n",
    "device_cost = device.properties.service.deviceCost\n",
    "\n",
    "print(f'The supported operations of {device.name} are {support_gates}\\n')\n",
    "print(f'The supported result types are {support_result_types}\\n')\n",
    "print('The maximum number of qubits supported by this device is', qubit_count)\n",
    "print('The shots range of this device is', shorts_range)\n",
    "print('The price of running tasks on this device:', device_cost)"
   ]
  },
  {
   "cell_type": "markdown",
   "metadata": {},
   "source": [
    "For the IonQ and Rigetti devices, you can get information about the properties shown previously. You also can get information about the availability windows and the device calibration data."
   ]
  },
  {
   "cell_type": "code",
   "execution_count": 13,
   "metadata": {},
   "outputs": [
    {
     "name": "stdout",
     "output_type": "stream",
     "text": [
      "The availability windows for Aspen-9:\n",
      "[DeviceExecutionWindow(executionDay=<ExecutionDay.EVERYDAY: 'Everyday'>, windowStartHour=datetime.time(15, 0), windowEndHour=datetime.time(19, 0))]\n",
      "\n",
      "The connectivity graph of the qubits for this device:\n",
      " fullyConnected=False connectivityGraph={'0': ['1', '7'], '1': ['0', '16'], '2': ['3', '15'], '3': ['2', '4'], '4': ['3', '5'], '5': ['4', '6'], '6': ['5', '7'], '7': ['0', '6'], '10': ['11', '17'], '11': ['10', '12', '26'], '12': ['11', '13', '25'], '13': ['12', '14'], '14': ['13', '15'], '15': ['2', '14'], '16': ['1', '17'], '17': ['10', '16'], '20': ['21', '27'], '21': ['20', '36'], '23': ['24'], '24': ['23', '25'], '25': ['12', '24', '26'], '26': ['11', '25', '27'], '27': ['20', '26'], '30': ['31', '37'], '31': ['30', '32'], '32': ['31', '33'], '33': ['32', '34'], '34': ['33', '35'], '35': ['34', '36'], '36': ['21', '35', '37'], '37': ['30', '36']}\n",
      "\n",
      "Calibration data:\n",
      " {\n",
      "  \"1Q\": {\n",
      "    \"0\": {\n",
      "      \"T1\": 2.766141842913683e-05,\n",
      "      \"T2\": 1.2520845863383872e-05,\n",
      "      \"f1QRB\": 0.9990014768242277,\n",
      "      \"f1QRB_std_err\": 8.73150855778037e-05,\n",
      "      \"f1Q_simultaneous_RB\": 0.9961379601767,\n",
      "      \"f1Q_simultaneous_RB_std_err\": 0.00031244712761913573,\n",
      "      \"fActiveReset\": 0.987,\n",
      "      \"fRO\": 0.927\n",
      "    },\n",
      "    \"1\": {\n",
      "      \"T1\": 3.541936599793516e-05,\n",
      "      \"T2\": 1.0563198684557083e-05,\n",
      "      \"f1QRB\": 0.9781665691238797,\n",
      "      \"f1QRB_std_err\": 0.001196663930422238,\n",
      "      \"f1Q_simultaneous_RB\": 0.9902229857097499,\n",
      "      \"f1Q_simultaneous_RB_std_err\": 0.0003381945616758159,\n",
      "      \"fActiveReset\": 0.9990000000000001,\n",
      "      \"fRO\": 0.95\n",
      "    },\n",
      "    \"10\": {\n",
      "      \"T1\": 2.6426072066376705e-05,\n",
      "      \"T2\": 2.1620010403533e-05,\n",
      "      \"f1QRB\": 0.9989476368905135,\n",
      "      \"f1QRB_std_err\": 0.00012217517130854244,\n",
      "      \"f1Q_simultaneous_RB\": 0.9978117045344752,\n",
      "      \"f1Q_simultaneous_RB_std_err\": 0.00011291356930732164,\n",
      "      \"fActiveReset\": 0.997,\n",
      "      \"fRO\": 0.9230000000000002\n",
      "    },\n",
      "    \"11\": {\n",
      "      \"T1\": 4.2414639015664335e-05,\n",
      "      \"T2\": 1.6556281012943433e-05,\n",
      "      \"f1QRB\": 0.9988513580060256,\n",
      "      \"f1QRB_std_err\": 0.0001549777210615458,\n",
      "      \"f1Q_simultaneous_RB\": 0.9981576514116484,\n",
      "      \"f1Q_simultaneous_RB_std_err\": 0.00012695632610180141,\n",
      "      \"fActiveReset\": 0.993,\n",
      "      \"fRO\": 0.971\n",
      "    },\n",
      "    \"12\": {\n",
      "      \"T1\": 2.6270192772459566e-05,\n",
      "      \"T2\": 1.597742858117732e-05,\n",
      "      \"f1QRB\": 0.9987920996598936,\n",
      "      \"f1QRB_std_err\": 9.66507113457637e-05,\n",
      "      \"f1Q_simultaneous_RB\": 0.9955410380311269,\n",
      "      \"f1Q_simultaneous_RB_std_err\": 0.0002427358073086944,\n",
      "      \"fActiveReset\": 0.9990000000000001,\n",
      "      \"fRO\": 0.964\n",
      "    },\n",
      "    \"13\": {\n",
      "      \"T1\": 3.940055360374117e-05,\n",
      "      \"T2\": 1.8523798611042143e-05,\n",
      "      \"f1QRB\": 0.9990873195939498,\n",
      "      \"f1QRB_std_err\": 0.00010504994111381637,\n",
      "      \"f1Q_simultaneous_RB\": 0.9976722811737656,\n",
      "      \"f1Q_simultaneous_RB_std_err\": 8.174618026062281e-05,\n",
      "      \"fActiveReset\": 0.996,\n",
      "      \"fRO\": 0.983\n",
      "    },\n",
      "    \"14\": {\n",
      "      \"T1\": 2.6228863077015774e-05,\n",
      "      \"T2\": 2.411303099868265e-05,\n",
      "      \"f1QRB\": 0.9986661688177298,\n",
      "      \"f1QRB_std_err\": 0.00018386005888028296,\n",
      "      \"f1Q_simultaneous_RB\": 0.996897230904513,\n",
      "      \"f1Q_simultaneous_RB_std_err\": 0.00010965807916729189,\n",
      "      \"fActiveReset\": 0.961,\n",
      "      \"fRO\": 0.956\n",
      "    },\n",
      "    \"15\": {\n",
      "      \"T1\": 4.2395383962334776e-05,\n",
      "      \"T2\": 2.6540825783873255e-05,\n",
      "      \"f1QRB\": 0.9983382253979842,\n",
      "      \"f1QRB_std_err\": 9.751793682274665e-05,\n",
      "      \"f1Q_simultaneous_RB\": 0.9972975253631556,\n",
      "      \"f1Q_simultaneous_RB_std_err\": 0.0005734995352814461,\n",
      "      \"fActiveReset\": 0.996,\n",
      "      \"fRO\": 0.9670000000000001\n",
      "    },\n",
      "    \"16\": {\n",
      "      \"T1\": 2.17638157555822e-05,\n",
      "      \"T2\": 2.86268932951218e-05,\n",
      "      \"f1QRB\": 0.997632218222324,\n",
      "      \"f1QRB_std_err\": 0.000358193979832841,\n",
      "      \"f1Q_simultaneous_RB\": 0.9953871020090819,\n",
      "      \"f1Q_simultaneous_RB_std_err\": 0.0002950269325166895,\n",
      "      \"fActiveReset\": 0.998,\n",
      "      \"fRO\": 0.951\n",
      "    },\n",
      "    \"17\": {\n",
      "      \"T1\": 2.8883827451142707e-05,\n",
      "      \"T2\": 2.413733202635697e-05,\n",
      "      \"f1QRB\": 0.9993158553426053,\n",
      "      \"f1QRB_std_err\": 0.00012001789212572259,\n",
      "      \"f1Q_simultaneous_RB\": 0.9972763577159149,\n",
      "      \"f1Q_simultaneous_RB_std_err\": 0.00035696845094388763,\n",
      "      \"fActiveReset\": 0.9990000000000001,\n",
      "      \"fRO\": 0.921\n",
      "    },\n",
      "    \"2\": {\n",
      "      \"T1\": 2.4698855828342303e-05,\n",
      "      \"T2\": 4.4619192213142075e-06,\n",
      "      \"f1QRB\": 0.9975863310043617,\n",
      "      \"f1QRB_std_err\": 0.0002051442479213487,\n",
      "      \"f1Q_simultaneous_RB\": 0.9957445711169425,\n",
      "      \"f1Q_simultaneous_RB_std_err\": 0.0004209194586159852,\n",
      "      \"fActiveReset\": 0.997,\n",
      "      \"fRO\": 0.929\n",
      "    },\n",
      "    \"20\": {\n",
      "      \"T1\": 3.3204874258618844e-05,\n",
      "      \"T2\": 4.050881479124784e-06,\n",
      "      \"f1QRB\": 0.9986668479374058,\n",
      "      \"f1QRB_std_err\": 0.0002366968194445901,\n",
      "      \"f1Q_simultaneous_RB\": 0.9892551942700571,\n",
      "      \"f1Q_simultaneous_RB_std_err\": 0.0007863939951941909,\n",
      "      \"fActiveReset\": 0.9990000000000001,\n",
      "      \"fRO\": 0.961\n",
      "    },\n",
      "    \"21\": {\n",
      "      \"T1\": 4.47526578766233e-05,\n",
      "      \"T2\": 1.656314427069918e-05,\n",
      "      \"f1QRB\": 0.999067926457613,\n",
      "      \"f1QRB_std_err\": 0.00014263619046711899,\n",
      "      \"f1Q_simultaneous_RB\": 0.9938736806148742,\n",
      "      \"f1Q_simultaneous_RB_std_err\": 0.0002650973822243645,\n",
      "      \"fActiveReset\": 0.9359999999999999,\n",
      "      \"fRO\": 0.9339999999999999\n",
      "    },\n",
      "    \"23\": {\n",
      "      \"T1\": 3.871336756611221e-05,\n",
      "      \"T2\": 1.9126722797134485e-05,\n",
      "      \"f1QRB\": 0.9992947355694914,\n",
      "      \"f1QRB_std_err\": 0.00018518705476169785,\n",
      "      \"f1Q_simultaneous_RB\": 0.9932571090749598,\n",
      "      \"f1Q_simultaneous_RB_std_err\": 0.0004121830416036649,\n",
      "      \"fActiveReset\": 0.993,\n",
      "      \"fRO\": 0.971\n",
      "    },\n",
      "    \"24\": {\n",
      "      \"T1\": 3.0142768078667004e-05,\n",
      "      \"T2\": 2.0598241652736624e-05,\n",
      "      \"f1QRB\": 0.9992878727851684,\n",
      "      \"f1QRB_std_err\": 0.00014086170764231775,\n",
      "      \"f1Q_simultaneous_RB\": 0.9940846372346439,\n",
      "      \"f1Q_simultaneous_RB_std_err\": 0.00019482930445886845,\n",
      "      \"fActiveReset\": 0.948,\n",
      "      \"fRO\": 0.938\n",
      "    },\n",
      "    \"25\": {\n",
      "      \"T1\": 3.590755664339973e-05,\n",
      "      \"T2\": 2.5114157148400226e-05,\n",
      "      \"f1QRB\": 0.9991884500270085,\n",
      "      \"f1QRB_std_err\": 0.00029126343489787107,\n",
      "      \"f1Q_simultaneous_RB\": 0.9947057308581013,\n",
      "      \"f1Q_simultaneous_RB_std_err\": 0.00026003191826739445,\n",
      "      \"fActiveReset\": 0.9890000000000001,\n",
      "      \"fRO\": 0.9239999999999999\n",
      "    },\n",
      "    \"26\": {\n",
      "      \"T1\": 2.667509186893291e-05,\n",
      "      \"T2\": 1.8724091671332823e-05,\n",
      "      \"f1QRB\": 0.9982609453772381,\n",
      "      \"f1QRB_std_err\": 3.282346327086156e-05,\n",
      "      \"f1Q_simultaneous_RB\": 0.9910742154977893,\n",
      "      \"f1Q_simultaneous_RB_std_err\": 0.0005742815592983064,\n",
      "      \"fActiveReset\": 0.966,\n",
      "      \"fRO\": 0.8819999999999999\n",
      "    },\n",
      "    \"27\": {\n",
      "      \"T1\": 4.8717332869596675e-05,\n",
      "      \"T2\": 3.33637307345524e-05,\n",
      "      \"f1QRB\": 0.9967169325473852,\n",
      "      \"f1QRB_std_err\": 0.00014084268927341739,\n",
      "      \"f1Q_simultaneous_RB\": 0.9843601014818057,\n",
      "      \"f1Q_simultaneous_RB_std_err\": 0.0013078729903229073,\n",
      "      \"fActiveReset\": 0.985,\n",
      "      \"fRO\": 0.8180000000000001\n",
      "    },\n",
      "    \"3\": {\n",
      "      \"T1\": 3.56436162689544e-05,\n",
      "      \"T2\": 3.510398262725395e-05,\n",
      "      \"f1QRB\": 0.9994368887748502,\n",
      "      \"f1QRB_std_err\": 5.722942225922073e-05,\n",
      "      \"f1Q_simultaneous_RB\": 0.9964484625424429,\n",
      "      \"f1Q_simultaneous_RB_std_err\": 0.0011234360407837898,\n",
      "      \"fActiveReset\": 0.998,\n",
      "      \"fRO\": 0.966\n",
      "    },\n",
      "    \"30\": {\n",
      "      \"T1\": 3.242752541976479e-05,\n",
      "      \"T2\": 1.478955715524297e-05,\n",
      "      \"f1QRB\": 0.9284759496076576,\n",
      "      \"f1QRB_std_err\": 0.01384571628704429,\n",
      "      \"f1Q_simultaneous_RB\": 0.9848835445532589,\n",
      "      \"f1Q_simultaneous_RB_std_err\": 0.0008726934229962267,\n",
      "      \"fActiveReset\": 0.9990000000000001,\n",
      "      \"fRO\": 0.9470000000000001\n",
      "    },\n",
      "    \"31\": {\n",
      "      \"T1\": 3.945187665443939e-07,\n",
      "      \"T2\": 1.7509608715296672e-05,\n",
      "      \"f1QRB\": 0.9975005110338343,\n",
      "      \"f1QRB_std_err\": 0.002419988573926701,\n",
      "      \"f1Q_simultaneous_RB\": 0.9801754061146726,\n",
      "      \"f1Q_simultaneous_RB_std_err\": 0.0017365229667301932,\n",
      "      \"fActiveReset\": 0.9890000000000001,\n",
      "      \"fRO\": 0.9259999999999999\n",
      "    },\n",
      "    \"32\": {\n",
      "      \"T1\": 8.33355179286066e-06,\n",
      "      \"T2\": 2.5625194484062026e-05,\n",
      "      \"f1QRB\": 0.9101559576214623,\n",
      "      \"f1QRB_std_err\": 0.033865872960939084,\n",
      "      \"f1Q_simultaneous_RB\": 0.9827401660436885,\n",
      "      \"f1Q_simultaneous_RB_std_err\": 0.0011318412534673777,\n",
      "      \"fActiveReset\": 0.5660000000000001,\n",
      "      \"fRO\": 0.915\n",
      "    },\n",
      "    \"33\": {\n",
      "      \"T1\": 4.1442792175105936e-05,\n",
      "      \"T2\": 7.179710141427894e-06,\n",
      "      \"f1QRB\": 0.991498471830458,\n",
      "      \"f1QRB_std_err\": 0.0007461947456058444,\n",
      "      \"f1Q_simultaneous_RB\": 0.9474943052724923,\n",
      "      \"f1Q_simultaneous_RB_std_err\": 0.003657608433189017,\n",
      "      \"fActiveReset\": 0.9940000000000001,\n",
      "      \"fRO\": 0.9279999999999999\n",
      "    },\n",
      "    \"34\": {\n",
      "      \"T1\": 2.199241117684103e-05,\n",
      "      \"T2\": 2.2135916268112673e-05,\n",
      "      \"f1QRB\": 0.9958065340925156,\n",
      "      \"f1QRB_std_err\": 0.0003997170830167558,\n",
      "      \"f1Q_simultaneous_RB\": 0.9912816726055876,\n",
      "      \"f1Q_simultaneous_RB_std_err\": 0.00032853390414456856,\n",
      "      \"fActiveReset\": 0.9990000000000001,\n",
      "      \"fRO\": 0.966\n",
      "    },\n",
      "    \"35\": {\n",
      "      \"T1\": 3.675470996133967e-05,\n",
      "      \"T2\": 1.7390670605023895e-05,\n",
      "      \"f1QRB\": 0.9976101961550574,\n",
      "      \"f1QRB_std_err\": 0.00015837462362310896,\n",
      "      \"f1Q_simultaneous_RB\": 0.9859259147009667,\n",
      "      \"f1Q_simultaneous_RB_std_err\": 0.0007843718133790131,\n",
      "      \"fActiveReset\": 0.975,\n",
      "      \"fRO\": 0.9620000000000001\n",
      "    },\n",
      "    \"36\": {\n",
      "      \"T1\": 1.3953510740183361e-05,\n",
      "      \"T2\": 1.3928508725151936e-05,\n",
      "      \"f1QRB\": 0.9985235880380974,\n",
      "      \"f1QRB_std_err\": 0.00013031842689615315,\n",
      "      \"f1Q_simultaneous_RB\": 0.9939600190758686,\n",
      "      \"f1Q_simultaneous_RB_std_err\": 0.00033010482189861363,\n",
      "      \"fActiveReset\": 0.9990000000000001,\n",
      "      \"fRO\": 0.945\n",
      "    },\n",
      "    \"37\": {\n",
      "      \"T1\": 3.858980987581084e-05,\n",
      "      \"T2\": 1.3143334110297759e-05,\n",
      "      \"f1QRB\": 0.9979959217153511,\n",
      "      \"f1QRB_std_err\": 0.0001469935047973231,\n",
      "      \"f1Q_simultaneous_RB\": 0.889306335289221,\n",
      "      \"f1Q_simultaneous_RB_std_err\": 0.04405578387014474,\n",
      "      \"fActiveReset\": 0.914,\n",
      "      \"fRO\": 0.8809999999999999\n",
      "    },\n",
      "    \"4\": {\n",
      "      \"T1\": 1.743163869227793e-05,\n",
      "      \"T2\": 1.0671779678382107e-05,\n",
      "      \"f1QRB\": 0.9975364503140911,\n",
      "      \"f1QRB_std_err\": 0.0001154890721783987,\n",
      "      \"f1Q_simultaneous_RB\": 0.9871600992218801,\n",
      "      \"f1Q_simultaneous_RB_std_err\": 0.000581993787921214,\n",
      "      \"fActiveReset\": 0.92,\n",
      "      \"fRO\": 0.862\n",
      "    },\n",
      "    \"5\": {\n",
      "      \"T1\": 2.7272919127963036e-05,\n",
      "      \"T2\": 4.0317821533052985e-05,\n",
      "      \"f1QRB\": 0.9991465698983135,\n",
      "      \"f1QRB_std_err\": 0.00019659608664435033,\n",
      "      \"f1Q_simultaneous_RB\": 0.9944678315204175,\n",
      "      \"f1Q_simultaneous_RB_std_err\": 0.0009665308492470695,\n",
      "      \"fActiveReset\": 0.976,\n",
      "      \"fRO\": 0.95\n",
      "    },\n",
      "    \"6\": {\n",
      "      \"T1\": 6.548185209620527e-06,\n",
      "      \"T2\": 8.935351358505342e-07,\n",
      "      \"f1QRB\": 0.8787430035816047,\n",
      "      \"f1QRB_std_err\": 0.015580033368863978,\n",
      "      \"f1Q_simultaneous_RB\": 0.8728474718924946,\n",
      "      \"f1Q_simultaneous_RB_std_err\": 0.06462466025153457,\n",
      "      \"fActiveReset\": 0.954,\n",
      "      \"fRO\": 0.59\n",
      "    },\n",
      "    \"7\": {\n",
      "      \"T1\": 3.9239751737030204e-05,\n",
      "      \"T2\": 1.0088945438211563e-05,\n",
      "      \"f1QRB\": 0.9992413354046864,\n",
      "      \"f1QRB_std_err\": 0.0001584726199598884,\n",
      "      \"f1Q_simultaneous_RB\": 0.9956216463029661,\n",
      "      \"f1Q_simultaneous_RB_std_err\": 0.0003343104663412388,\n",
      "      \"fActiveReset\": 0.9890000000000001,\n",
      "      \"fRO\": 0.964\n",
      "    }\n",
      "  },\n",
      "  \"2Q\": {\n",
      "    \"0-1\": {\n",
      "      \"fCPHASE\": 0.01,\n",
      "      \"fCPHASE_std_err\": 0.99,\n",
      "      \"fXY\": 0.8438042083721525,\n",
      "      \"fXY_std_err\": 0.013489461390866701\n",
      "    },\n",
      "    \"0-7\": {\n",
      "      \"fCPHASE\": 0.8826418658831439,\n",
      "      \"fCPHASE_std_err\": 0.009248929041207693,\n",
      "      \"fCZ\": 0.9492321364027796,\n",
      "      \"fCZ_std_err\": 0.007146311214098543,\n",
      "      \"fXY\": 0.976810778122196,\n",
      "      \"fXY_std_err\": 0.005684986382089083\n",
      "    },\n",
      "    \"1-16\": {\n",
      "      \"fCPHASE\": 0.8794040137413998,\n",
      "      \"fCPHASE_std_err\": 0.00853630890065163,\n",
      "      \"fCZ\": 0.955792953225325,\n",
      "      \"fCZ_std_err\": 0.00883011818043057,\n",
      "      \"fXY\": 0.8039151345914364,\n",
      "      \"fXY_std_err\": 0.011247611111593548\n",
      "    },\n",
      "    \"10-11\": {\n",
      "      \"fCPHASE\": 0.9636854210856312,\n",
      "      \"fCPHASE_std_err\": 0.00927741701374564,\n",
      "      \"fCZ\": 0.9856252895648564,\n",
      "      \"fCZ_std_err\": 0.0038462668141099835,\n",
      "      \"fXY\": 0.9761088369791711,\n",
      "      \"fXY_std_err\": 0.005556892081342433\n",
      "    },\n",
      "    \"10-17\": {\n",
      "      \"fCPHASE\": 0.9854686543709141,\n",
      "      \"fCPHASE_std_err\": 0.005856194016906372,\n",
      "      \"fCZ\": 0.8422292846394862,\n",
      "      \"fCZ_std_err\": 0.1130816867939616,\n",
      "      \"fXY\": 0.9615835511981643,\n",
      "      \"fXY_std_err\": 0.007165387491238161\n",
      "    },\n",
      "    \"11-12\": {\n",
      "      \"fCPHASE\": 0.8857873889290111,\n",
      "      \"fCPHASE_std_err\": 0.0070232664372099,\n",
      "      \"fCZ\": 1.0,\n",
      "      \"fCZ_std_err\": 0.0,\n",
      "      \"fXY\": 0.9698343426124328,\n",
      "      \"fXY_std_err\": 0.007999195313895296\n",
      "    },\n",
      "    \"11-26\": {\n",
      "      \"fCPHASE\": 0.9428883039198047,\n",
      "      \"fCPHASE_std_err\": 0.013560035689661179,\n",
      "      \"fCZ\": 0.8331851133653646,\n",
      "      \"fCZ_std_err\": 0.010152425092516399,\n",
      "      \"fXY\": 0.9309420628950675,\n",
      "      \"fXY_std_err\": 0.010755501226691446\n",
      "    },\n",
      "    \"12-13\": {\n",
      "      \"fCPHASE\": 0.9518329867185418,\n",
      "      \"fCPHASE_std_err\": 0.00851439233374827,\n",
      "      \"fCZ\": 0.9768277075595282,\n",
      "      \"fCZ_std_err\": 0.005211876977692628,\n",
      "      \"fXY\": 0.9871390223963945,\n",
      "      \"fXY_std_err\": 0.0023903441352323435\n",
      "    },\n",
      "    \"12-25\": {\n",
      "      \"fCZ\": 0.9870070370733819,\n",
      "      \"fCZ_std_err\": 0.004917744296778752,\n",
      "      \"fXY\": 0.9685356718993297,\n",
      "      \"fXY_std_err\": 0.0071394063763400165\n",
      "    },\n",
      "    \"13-14\": {\n",
      "      \"fCPHASE\": 0.01,\n",
      "      \"fCPHASE_std_err\": 0.99,\n",
      "      \"fCZ\": 0.9100304182402972,\n",
      "      \"fCZ_std_err\": 0.0063303718587780725,\n",
      "      \"fXY\": 0.9655221129832583,\n",
      "      \"fXY_std_err\": 0.00523590808349742\n",
      "    },\n",
      "    \"14-15\": {\n",
      "      \"fCPHASE\": 0.8775461251139746,\n",
      "      \"fCPHASE_std_err\": 0.009086885165826496,\n",
      "      \"fCZ\": 0.9447038491564829,\n",
      "      \"fCZ_std_err\": 0.3296543114088587,\n",
      "      \"fXY\": 0.9455743132784533,\n",
      "      \"fXY_std_err\": 0.00979108810769381\n",
      "    },\n",
      "    \"16-17\": {\n",
      "      \"fCPHASE\": 0.8615716211267176,\n",
      "      \"fCPHASE_std_err\": 0.008455726361300531,\n",
      "      \"fCZ\": 0.9725284793427837,\n",
      "      \"fCZ_std_err\": 0.007437954362617225,\n",
      "      \"fXY\": 0.9095398406788928,\n",
      "      \"fXY_std_err\": 0.012752478865524684\n",
      "    },\n",
      "    \"2-15\": {\n",
      "      \"fCPHASE\": 0.8563916837527863,\n",
      "      \"fCPHASE_std_err\": 0.009222489270191677,\n",
      "      \"fCZ\": 0.9694568095310465,\n",
      "      \"fCZ_std_err\": 0.005069735321918484,\n",
      "      \"fXY\": 0.35961207446885324,\n",
      "      \"fXY_std_err\": 0.0\n",
      "    },\n",
      "    \"2-3\": {\n",
      "      \"fCPHASE\": 0.8221292425428444,\n",
      "      \"fCPHASE_std_err\": 0.013283224591452526,\n",
      "      \"fCZ\": 0.7747533145240514,\n",
      "      \"fCZ_std_err\": 0.020639629825231594,\n",
      "      \"fXY\": 0.9598332929503897,\n",
      "      \"fXY_std_err\": 0.009534562066651367\n",
      "    },\n",
      "    \"20-21\": {\n",
      "      \"fCPHASE\": 0.9004178353500708,\n",
      "      \"fCPHASE_std_err\": 0.004903738458000029,\n",
      "      \"fCZ\": 0.9051258567726354,\n",
      "      \"fCZ_std_err\": 0.004286861471856507,\n",
      "      \"fXY\": 0.9305900599746618,\n",
      "      \"fXY_std_err\": 0.01035405553623687\n",
      "    },\n",
      "    \"20-27\": {\n",
      "      \"fCPHASE\": 0.8808082343999263,\n",
      "      \"fCPHASE_std_err\": 0.005369802444159293,\n",
      "      \"fCZ\": 0.9137555095499504,\n",
      "      \"fCZ_std_err\": 0.0038577294051011686,\n",
      "      \"fXY\": 0.947722515728801,\n",
      "      \"fXY_std_err\": 0.009430200555392353\n",
      "    },\n",
      "    \"21-36\": {\n",
      "      \"fCPHASE\": 0.9318351441689684,\n",
      "      \"fCPHASE_std_err\": 0.014180128114378519,\n",
      "      \"fCZ\": 0.9750919460940404,\n",
      "      \"fCZ_std_err\": 0.003689502752892133,\n",
      "      \"fXY\": 0.9518131468257167,\n",
      "      \"fXY_std_err\": 0.008637832194199866\n",
      "    },\n",
      "    \"23-24\": {\n",
      "      \"fCPHASE\": 0.912880132814212,\n",
      "      \"fCPHASE_std_err\": 0.005692134156395889,\n",
      "      \"fCZ\": 0.9609759673416156,\n",
      "      \"fCZ_std_err\": 0.004196141384017433,\n",
      "      \"fXY\": 0.9829919862635612,\n",
      "      \"fXY_std_err\": 0.006158914878158562\n",
      "    },\n",
      "    \"24-25\": {\n",
      "      \"fCPHASE\": 0.9180287988404768,\n",
      "      \"fCPHASE_std_err\": 0.004646446934447597,\n",
      "      \"fCZ\": 0.9483896140731853,\n",
      "      \"fCZ_std_err\": 0.009137364719249877,\n",
      "      \"fXY\": 0.9809478999030276,\n",
      "      \"fXY_std_err\": 0.006772643236029782\n",
      "    },\n",
      "    \"25-26\": {\n",
      "      \"fCPHASE\": 0.01,\n",
      "      \"fCPHASE_std_err\": 0.99,\n",
      "      \"fCZ\": 0.8502194591955594,\n",
      "      \"fCZ_std_err\": 0.007853249115016857,\n",
      "      \"fXY\": 0.8325884828140133,\n",
      "      \"fXY_std_err\": 0.008690369836776039\n",
      "    },\n",
      "    \"26-27\": {\n",
      "      \"fCPHASE\": 0.7600743543859643,\n",
      "      \"fCPHASE_std_err\": 0.024773149928370684,\n",
      "      \"fCZ\": 0.806779255598752,\n",
      "      \"fCZ_std_err\": 0.011295746934108328,\n",
      "      \"fXY\": 0.8406331050873819,\n",
      "      \"fXY_std_err\": 0.010465219257622973\n",
      "    },\n",
      "    \"3-4\": {\n",
      "      \"fCPHASE\": 0.9584946698690726,\n",
      "      \"fCPHASE_std_err\": 0.0077233687668023885,\n",
      "      \"fCZ\": 0.8054132524284171,\n",
      "      \"fCZ_std_err\": 0.013739590069676804,\n",
      "      \"fXY\": 0.6938186237163557,\n",
      "      \"fXY_std_err\": 0.020822390895223513\n",
      "    },\n",
      "    \"30-31\": {\n",
      "      \"fCPHASE\": 0.9399670631701342,\n",
      "      \"fCPHASE_std_err\": 0.061219664719467035,\n",
      "      \"fCZ\": 0.9045944587396066,\n",
      "      \"fCZ_std_err\": 0.005658628659675903,\n",
      "      \"fXY\": 0.6415652676385222,\n",
      "      \"fXY_std_err\": 0.026777252634708256\n",
      "    },\n",
      "    \"30-37\": {\n",
      "      \"fCPHASE\": 0.776891220137331,\n",
      "      \"fCPHASE_std_err\": 0.015542337483825688,\n",
      "      \"fCZ\": 0.9785719159731308,\n",
      "      \"fCZ_std_err\": 0.0100234385149036,\n",
      "      \"fXY\": 0.8530254549751227,\n",
      "      \"fXY_std_err\": 0.007716509874431212\n",
      "    },\n",
      "    \"31-32\": {\n",
      "      \"fCPHASE\": 0.7627201185895125,\n",
      "      \"fCPHASE_std_err\": 0.025727540097850297,\n",
      "      \"fCZ\": 0.9585923945133465,\n",
      "      \"fCZ_std_err\": 0.009138461611810339,\n",
      "      \"fXY\": 0.9720873474853449,\n",
      "      \"fXY_std_err\": 0.008247764409938296\n",
      "    },\n",
      "    \"32-33\": {\n",
      "      \"fCPHASE\": 0.8583452479307175,\n",
      "      \"fCPHASE_std_err\": 0.01734900636285504,\n",
      "      \"fCZ\": 0.9035367316099031,\n",
      "      \"fCZ_std_err\": 0.0047551776752705055,\n",
      "      \"fXY\": 0.9695692795778954,\n",
      "      \"fXY_std_err\": 0.007960391344309767\n",
      "    },\n",
      "    \"33-34\": {\n",
      "      \"fCPHASE\": 0.9603820281803885,\n",
      "      \"fCPHASE_std_err\": 0.013038483785806045,\n",
      "      \"fCZ\": 0.9084613681789367,\n",
      "      \"fCZ_std_err\": 0.0038179059382431285,\n",
      "      \"fXY\": 0.8884669982772303,\n",
      "      \"fXY_std_err\": 0.004176710558049787\n",
      "    },\n",
      "    \"34-35\": {\n",
      "      \"fCPHASE\": 0.9691539485672525,\n",
      "      \"fCPHASE_std_err\": 0.007973530249546421,\n",
      "      \"fCZ\": 0.9690058203615597,\n",
      "      \"fCZ_std_err\": 0.007839920817100974,\n",
      "      \"fXY\": 0.9839531861611984,\n",
      "      \"fXY_std_err\": 0.0066938273259156645\n",
      "    },\n",
      "    \"35-36\": {\n",
      "      \"fCPHASE\": 0.9397083897551962,\n",
      "      \"fCPHASE_std_err\": 0.009642706450597175,\n",
      "      \"fCZ\": 0.9752675234585313,\n",
      "      \"fCZ_std_err\": 0.0050993860610463295,\n",
      "      \"fXY\": 0.9624440260785297,\n",
      "      \"fXY_std_err\": 0.007744933352737812\n",
      "    },\n",
      "    \"36-37\": {\n",
      "      \"fCPHASE\": 0.908087669121694,\n",
      "      \"fCPHASE_std_err\": 0.0052588751325254104,\n",
      "      \"fCZ\": 0.898401101190491,\n",
      "      \"fCZ_std_err\": 0.005553982117794315,\n",
      "      \"fXY\": 0.9356454160286661,\n",
      "      \"fXY_std_err\": 0.01120376651994164\n",
      "    },\n",
      "    \"4-5\": {\n",
      "      \"fCPHASE\": 0.9914189909950984,\n",
      "      \"fCPHASE_std_err\": 0.009880980343486678,\n",
      "      \"fCZ\": 0.9687993403680114,\n",
      "      \"fCZ_std_err\": 0.00540286707432073,\n",
      "      \"fXY\": 0.9774091313407053,\n",
      "      \"fXY_std_err\": 0.006313247654046183\n",
      "    },\n",
      "    \"5-6\": {\n",
      "      \"fCPHASE\": 0.7989781504754515,\n",
      "      \"fCPHASE_std_err\": 0.008722201750006452,\n",
      "      \"fCZ\": 0.8470541257040503,\n",
      "      \"fCZ_std_err\": 0.012674193098517505,\n",
      "      \"fXY\": 0.8253317636534889,\n",
      "      \"fXY_std_err\": 0.01377883882642319\n",
      "    },\n",
      "    \"6-7\": {\n",
      "      \"fCPHASE\": 0.7713279786470727,\n",
      "      \"fCPHASE_std_err\": 0.010947078084030937,\n",
      "      \"fCZ\": 0.8244324730591367,\n",
      "      \"fCZ_std_err\": 0.21399512258470701,\n",
      "      \"fXY\": 0.8427382812341144,\n",
      "      \"fXY_std_err\": 0.010121761474258292\n",
      "    }\n",
      "  }\n",
      "}\n"
     ]
    }
   ],
   "source": [
    "# the IonQ device\n",
    "device = AwsDevice(\"arn:aws:braket:::device/qpu/ionq/ionQdevice\")\n",
    "\n",
    "# the Rigetti device\n",
    "device = AwsDevice(\"arn:aws:braket:::device/qpu/rigetti/Aspen-9\")\n",
    "\n",
    "execution_windows = device.properties.service.executionWindows\n",
    "connectivity_graph = device.properties.paradigm.connectivity\n",
    "calibration = device.properties.provider.specs\n",
    "\n",
    "print(f'The availability windows for {device.name}:\\n{execution_windows}\\n')\n",
    "print(f'The connectivity graph of the qubits for this device:\\n {connectivity_graph}\\n')\n",
    "print('Calibration data:\\n', json.dumps(calibration,sort_keys=True,indent=2))"
   ]
  },
  {
   "cell_type": "code",
   "execution_count": 14,
   "metadata": {},
   "outputs": [
    {
     "name": "stdout",
     "output_type": "stream",
     "text": [
      "The shots range of DW_2000Q_6 is (1, 10000)\n",
      "The price of running tasks on this device: price=0.00019 unit='shot'\n",
      "This device has 2048 qubits in total, with the topology: {'type': 'chimera', 'shape': [16, 16, 4]}\n"
     ]
    }
   ],
   "source": [
    "# the DWave devices\n",
    "# device = AwsDevice(\"arn:aws:braket:::device/qpu/d-wave/Advantage_system1\")\n",
    "device = AwsDevice(\"arn:aws:braket:::device/qpu/d-wave/DW_2000Q_6\")\n",
    "\n",
    "shots_range = device.properties.service.shotsRange\n",
    "device_cost = device.properties.service.deviceCost\n",
    "qubit_count = device.properties.provider.qubitCount\n",
    "device_topology = device.properties.provider.topology\n",
    "\n",
    "print(f'The shots range of {device.name} is {shots_range}')\n",
    "print('The price of running tasks on this device:', device_cost)\n",
    "print(f'This device has {qubit_count} qubits in total, with the topology: {device_topology}')"
   ]
  },
  {
   "cell_type": "markdown",
   "metadata": {},
   "source": [
    "Each device has more properties to explore. To learn more, view the [Amazon Braket schemas documentation](https://amazon-braket-schemas-python.readthedocs.io/en/latest/_apidoc/braket.device_schema.html)."
   ]
  }
 ],
 "metadata": {
  "kernelspec": {
   "display_name": "conda_braket",
   "language": "python",
   "name": "conda_braket"
  },
  "language_info": {
   "codemirror_mode": {
    "name": "ipython",
    "version": 3
   },
   "file_extension": ".py",
   "mimetype": "text/x-python",
   "name": "python",
   "nbconvert_exporter": "python",
   "pygments_lexer": "ipython3",
   "version": "3.7.7"
  }
 },
 "nbformat": 4,
 "nbformat_minor": 4
}