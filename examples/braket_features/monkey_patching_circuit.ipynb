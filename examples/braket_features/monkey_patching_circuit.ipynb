{
 "cells": [
  {
   "cell_type": "markdown",
   "metadata": {},
   "source": [
    "# Monkey Patching Amazon Braket: Extending the `Circuit` Class"
   ]
  },
  {
   "cell_type": "markdown",
   "metadata": {},
   "source": [
    "In this notebook, we add customer capabilities to the Amazon Braket `Circuit` class by building custom functions to operate on quantum circuits defined in Braket's SDK. We use a technique called Monkey Patching to add those functions to Braket's `Circuit` class at runtime, thereby extending Braket's `Circuit` functionality. We work with two examples: a function we call `get_unitary()`, which returns the unitary matrix corresponding to a `Circuit` object, and a function called `adjoint()`, which returns a new circuit object corresponding to the conjugate transpose of the initial. The functions in the module are defined such that they act on `self`, and can be added to the `Circuit` class as methods. Amazon Braket already includes a method called `as_unitary()`, which allows us to compare the built-in functionality with our own added method.\n",
    "\n",
    "### Table of Contents\n",
    "* [Introduction](#introduction)\n",
    " * [Braket's `Circuit` class](#braketcircuit)\n",
    "* [Monkey patching `get_unitary` and `adjoint` to the `Circuit` class](#monkeypatch)\n",
    "* [Testing `get_unitary`](#testgetunitary)\n",
    "* [Testing `adjoint`](#testadjoint)\n",
    "* [Appendix](#appendix)\n",
    " * [Intro to Monkey Patching](#introtomonkeypatch)\n",
    " * [Custom function definitions](#functiondefinitions)\n",
    "* [References](#references)"
   ]
  },
  {
   "cell_type": "markdown",
   "metadata": {},
   "source": [
    "## Introduction<a name=\"introduction\"></a>"
   ]
  },
  {
   "cell_type": "markdown",
   "metadata": {},
   "source": [
    "When working with a library, we may occasionally need to extend or override the functionality defined in some module without editing files on disk or overwriting the library. We can accomplish this using a technique called _Monkey Patching_ [[1]](#References), which is a way of dynamically replacing or modifying code at runtime. The interested reader can find a short introduction to Monkey Patching in the [Appendix](#Appendix)."
   ]
  },
  {
   "cell_type": "markdown",
   "metadata": {},
   "source": [
    "### Braket's `Circuit` class<a name=\"braketcircuit\"></a>"
   ]
  },
  {
   "cell_type": "markdown",
   "metadata": {},
   "source": [
    "Let's use the principle of monkey patching to expand the things we can do with Braket. As of the time of writing, there are no built in methods in Braket's `Circuit` class to export the unitary matrix of a circuit object. Similarly, there are no methods to obtain the adjoint of a circuit. In order to overcome this challenge, we will define our own custom functions and monkey patch them onto the `Circuit` class."
   ]
  },
  {
   "cell_type": "markdown",
   "metadata": {},
   "source": [
    "The `get_unitary` and `adjoint` functions are defined in the `utils_circuit.py` module, and their defintions are shown in the [Appendix](#Appendix) for completeness."
   ]
  },
  {
   "cell_type": "code",
   "execution_count": 1,
   "metadata": {},
   "outputs": [],
   "source": [
    "# AWS imports: Import Braket SDK modules\n",
    "from braket.circuits import Circuit, circuit\n",
    "\n",
    "# Local imports:\n",
    "from utils_circuit import get_unitary, adjoint"
   ]
  },
  {
   "cell_type": "markdown",
   "metadata": {},
   "source": [
    "## Monkey patching `get_unitary` and `adjoint` to the `Circuit` class<a name=\"monkeypatch\"></a>"
   ]
  },
  {
   "cell_type": "markdown",
   "metadata": {},
   "source": [
    "Let's now attach the our functions to the `Circuit` class as built in methods."
   ]
  },
  {
   "cell_type": "code",
   "execution_count": 2,
   "metadata": {},
   "outputs": [],
   "source": [
    "Circuit.get_unitary = get_unitary\n",
    "Circuit.adjoint = adjoint"
   ]
  },
  {
   "cell_type": "markdown",
   "metadata": {},
   "source": [
    "## Testing `get_unitary`<a name=\"testgetunitary\"></a>"
   ]
  },
  {
   "cell_type": "markdown",
   "metadata": {},
   "source": [
    "The `get_unitary` method is just a way of exporting a unitary matrix corresponding to the circuit. This simply returns a matrix and does not modify the circuit. As such, it plays nicely with the rest of the SDK. We can compare the output with that of the built-in method `as_unitary`, which does the same thing as `get_unitary` to ensure that our code works as expected."
   ]
  },
  {
   "cell_type": "code",
   "execution_count": 3,
   "metadata": {},
   "outputs": [
    {
     "name": "stdout",
     "output_type": "stream",
     "text": [
      "get_unitary:\n",
      " [[0. 1.]\n",
      " [1. 0.]]\n",
      "as_unitary:\n",
      " [[0. 1.]\n",
      " [1. 0.]]\n"
     ]
    }
   ],
   "source": [
    "# Print Pauli X\n",
    "circ1 = Circuit().x(0)\n",
    "print(\"get_unitary:\\n\", circ1.get_unitary().real)\n",
    "print(\"as_unitary:\\n\", circ1.as_unitary().real)"
   ]
  },
  {
   "cell_type": "code",
   "execution_count": 4,
   "metadata": {},
   "outputs": [
    {
     "name": "stdout",
     "output_type": "stream",
     "text": [
      "get_unitary:\n",
      " [[1. 0. 0. 0.]\n",
      " [0. 1. 0. 0.]\n",
      " [0. 0. 0. 1.]\n",
      " [0. 0. 1. 0.]]\n",
      "as_unitary:\n",
      " [[1. 0. 0. 0.]\n",
      " [0. 0. 0. 1.]\n",
      " [0. 0. 1. 0.]\n",
      " [0. 1. 0. 0.]]\n"
     ]
    }
   ],
   "source": [
    "# Print CNOT\n",
    "circ2 = Circuit().cnot(0,1)\n",
    "print(\"get_unitary:\\n\", circ2.get_unitary().real)\n",
    "print(\"as_unitary:\\n\", circ2.as_unitary().real)"
   ]
  },
  {
   "cell_type": "code",
   "execution_count": 5,
   "metadata": {},
   "outputs": [
    {
     "name": "stdout",
     "output_type": "stream",
     "text": [
      "get_unitary:\n",
      " [[1. 0. 0. 0.]\n",
      " [0. 0. 1. 0.]\n",
      " [0. 1. 0. 0.]\n",
      " [0. 0. 0. 1.]]\n",
      "as_unitary:\n",
      " [[1. 0. 0. 0.]\n",
      " [0. 0. 1. 0.]\n",
      " [0. 1. 0. 0.]\n",
      " [0. 0. 0. 1.]]\n"
     ]
    }
   ],
   "source": [
    "# Print SWAP\n",
    "circ3 = Circuit().swap(0,1)\n",
    "print(\"get_unitary:\\n\", circ3.get_unitary().real)\n",
    "print(\"as_unitary:\\n\", circ3.as_unitary().real)"
   ]
  },
  {
   "cell_type": "code",
   "execution_count": 6,
   "metadata": {},
   "outputs": [
    {
     "name": "stdout",
     "output_type": "stream",
     "text": [
      "get_unitary:\n",
      " [[ 1.  0.  0.  0.  0.  0.  0.  0.]\n",
      " [ 0. -1.  0.  0.  0.  0.  0.  0.]\n",
      " [ 0.  0. -1.  0.  0.  0.  0.  0.]\n",
      " [ 0.  0.  0.  1.  0.  0.  0.  0.]\n",
      " [ 0.  0.  0.  0. -1.  0.  0.  0.]\n",
      " [ 0.  0.  0.  0.  0.  1.  0.  0.]\n",
      " [ 0.  0.  0.  0.  0.  0.  1.  0.]\n",
      " [ 0.  0.  0.  0.  0.  0.  0. -1.]]\n",
      "as_unitary:\n",
      " [[ 1.  0.  0.  0.  0.  0.  0.  0.]\n",
      " [ 0. -1.  0.  0.  0.  0.  0.  0.]\n",
      " [ 0.  0. -1.  0.  0.  0.  0.  0.]\n",
      " [ 0.  0.  0.  1.  0.  0.  0.  0.]\n",
      " [ 0.  0.  0.  0. -1.  0.  0.  0.]\n",
      " [ 0.  0.  0.  0.  0.  1.  0.  0.]\n",
      " [ 0.  0.  0.  0.  0.  0.  1.  0.]\n",
      " [ 0.  0.  0.  0.  0.  0.  0. -1.]]\n"
     ]
    }
   ],
   "source": [
    "# Print a larger yet still tractable circuit\n",
    "circ4 = Circuit().z(range(3))\n",
    "print(\"get_unitary:\\n\", circ4.get_unitary().real)\n",
    "print(\"as_unitary:\\n\", circ4.as_unitary().real)"
   ]
  },
  {
   "cell_type": "markdown",
   "metadata": {},
   "source": [
    "## Testing `adjoint`<a name=\"testadjoint\"></a>"
   ]
  },
  {
   "cell_type": "markdown",
   "metadata": {},
   "source": [
    "The `adjoint` method returns a new circuit that corresponds to the adjoint of the parent circuit. This new circuit is constructed using custom unitaries, defined using the adjoint of the matrix of each gate in the original circuit. Thus, the output of `adjoint` is a circuit with many custom unitary gates. Such a circuit is well defined within the SDK, but the constituent gates may not be supported by all backends. For example, at the time of writing, neither the Rigetti QPU, nor the IONQ QPU support the `Unitary` gate. Thus, circuits generated using `adjoint` should be limited to simulators for the time being."
   ]
  },
  {
   "cell_type": "code",
   "execution_count": 7,
   "metadata": {
    "scrolled": true
   },
   "outputs": [
    {
     "name": "stdout",
     "output_type": "stream",
     "text": [
      "T  : |0|1|\n",
      "          \n",
      "q0 : -X-Y-\n",
      "\n",
      "T  : |0|1|\n",
      "Adjoint:\n",
      "T  : |0|1|\n",
      "          \n",
      "q0 : -Y-X-\n",
      "\n",
      "T  : |0|1|\n"
     ]
    }
   ],
   "source": [
    "# Simple circuit: XY. Adjoint should reverse the order of gates:\n",
    "adj_circ1 = Circuit().x(0).y(0)\n",
    "print(adj_circ1)\n",
    "print('Adjoint:')\n",
    "print(adj_circ1.adjoint())"
   ]
  },
  {
   "cell_type": "code",
   "execution_count": 8,
   "metadata": {},
   "outputs": [
    {
     "name": "stdout",
     "output_type": "stream",
     "text": [
      "Original unitary matrix:\n",
      "[[ 0.77 +0.23j  -0.421-0.421j]\n",
      " [ 0.421-0.421j  0.77 -0.23j ]]\n",
      "Adjoint matrix:\n",
      "[[ 0.77 -0.23j   0.421+0.421j]\n",
      " [-0.421+0.421j  0.77 +0.23j ]]\n"
     ]
    }
   ],
   "source": [
    "# Simple circuit with non-trivial unitary matrix: RxRy.\n",
    "adj_circ2 = Circuit().rx(0,1).ry(0,1)\n",
    "print(\"Original unitary matrix:\")\n",
    "print(adj_circ2.get_unitary().round(3))\n",
    "print('Adjoint matrix:')\n",
    "print(adj_circ2.adjoint().get_unitary().round(3))\n"
   ]
  },
  {
   "cell_type": "code",
   "execution_count": 9,
   "metadata": {
    "scrolled": true
   },
   "outputs": [
    {
     "name": "stdout",
     "output_type": "stream",
     "text": [
      "T  : |0|1| 2 |3| 4 |5|\n",
      "                      \n",
      "q0 : -S-C---C-H---C-Y-\n",
      "        |   |     |   \n",
      "q1 : ---X-T-|-X-H-|---\n",
      "            |     |   \n",
      "q2 : -H-----X-H---Y-X-\n",
      "\n",
      "T  : |0|1| 2 |3| 4 |5|\n",
      "Adjoint:\n",
      "T  : |0| 1 |2 |3|4|5 |\n",
      "                      \n",
      "q0 : -Y-C---H--C-C-Si-\n",
      "        |      | |    \n",
      "q1 : -H-|-X-Ti-|-X----\n",
      "        |      |      \n",
      "q2 : -X-Y---H--X-H----\n",
      "\n",
      "T  : |0| 1 |2 |3|4|5 |\n"
     ]
    }
   ],
   "source": [
    "# Larger circuit:\n",
    "adj_circ3 = Circuit().s(0).cnot(0,1).t(1).h(2).cnot(0,2).x(1).h(range(3)).cy(0,2).x(2).y(0)\n",
    "print(adj_circ3)\n",
    "print(\"Adjoint:\")\n",
    "print(adj_circ3.adjoint())"
   ]
  },
  {
   "cell_type": "code",
   "execution_count": 10,
   "metadata": {},
   "outputs": [
    {
     "name": "stdout",
     "output_type": "stream",
     "text": [
      "T  : |0|\n",
      "        \n",
      "q0 : -U-\n",
      "\n",
      "T  : |0|\n",
      "Adjoint:\n",
      "T  : |0 |\n",
      "         \n",
      "q0 : -UH-\n",
      "\n",
      "T  : |0 |\n"
     ]
    }
   ],
   "source": [
    "# Adjoint of circuit with custom unitary (given by diag(1, i))\n",
    "import numpy as np\n",
    "adj_circ4 = Circuit().unitary(matrix=np.diag([1,1j]),targets=[0])\n",
    "print(adj_circ4)\n",
    "print(\"Adjoint:\")\n",
    "print(adj_circ4.adjoint())"
   ]
  },
  {
   "cell_type": "code",
   "execution_count": 11,
   "metadata": {},
   "outputs": [
    {
     "name": "stdout",
     "output_type": "stream",
     "text": [
      "Original:\n",
      "[[1.+0.j 0.+0.j]\n",
      " [0.+0.j 0.+1.j]]\n",
      "Adjoint:\n",
      "[[1.+0.j 0.+0.j]\n",
      " [0.+0.j 0.-1.j]]\n"
     ]
    }
   ],
   "source": [
    "# Print the matrices:\n",
    "print(\"Original:\")\n",
    "print(adj_circ4.get_unitary())\n",
    "print(\"Adjoint:\")\n",
    "print(adj_circ4.adjoint().get_unitary())"
   ]
  },
  {
   "cell_type": "markdown",
   "metadata": {},
   "source": [
    "We can see from the above examples that monkey patching has allowed us to extend Braket's `Circuit` class to include the `get_unitary` and `adjoint` methods, which behave as expected."
   ]
  },
  {
   "cell_type": "markdown",
   "metadata": {},
   "source": [
    "## Appendix<a name=\"appendix\"></a>"
   ]
  },
  {
   "cell_type": "code",
   "execution_count": 12,
   "metadata": {},
   "outputs": [
    {
     "name": "stdout",
     "output_type": "stream",
     "text": [
      "braket_sdk version:  1.8.0\n"
     ]
    }
   ],
   "source": [
    "import braket._sdk as braket_sdk\n",
    "print(\"braket_sdk version: \", braket_sdk.__version__)"
   ]
  },
  {
   "cell_type": "markdown",
   "metadata": {},
   "source": [
    "### Intro to Monkey Patching<a name=\"introtomonkeypatch\"></a>\n",
    "\n",
    "Consider a module `foo` containing a class `Bar`, which in turn has a set of methods, variables, etc. Suppose we wanted to add a method to `Bar` without directly editing the code of the class. We can do this by defining a new function `hello_world` somewhere else and _monkey patching_ the function onto `Bar` at runtime:\n",
    "```python\n",
    "from foo import Bar\n",
    "def hello_world():\n",
    "    ...\n",
    "    \n",
    "Bar.hello_world = hello_world # This is the monkey patch\n",
    "```\n",
    "The code above defines the function `hello_world`, attaches it to the `Bar` class, and allows us to call `hello_world` on an instance of the `Bar` class.\n",
    "```python\n",
    "foobar = Bar()\n",
    "foobar.hello_world()\n",
    "```\n",
    "\n",
    "In addition to adding new methods to a class, one can also modify existing variables and attributes by overwriting them. For example:\n",
    "```python\n",
    "import numpy as np\n",
    "np.pi = 3.0 # np.pi is now equal to 3.0\n",
    "```\n",
    "\n",
    "#### Pitfalls of Monkey Patching:\n",
    "Note that using a monkey patch to modify code at runtime can lead to undesired problems (see [[1]](#References) for additional details). Since monkey patching overwrites code at runtime, poorly implemented or poorly documented code can cause unexpected behavior. For instance, if the same code is monkey patched more than once, the most recent patch overwrites any earlier patches, which can cause problems if done unintentionally. Moreover, monkey patching can dramatically alter the behavior of code relative to the unpatched version, which can be problematic if the monkey patch is not properly documented. Finally, monkey patched code need not be updated along with the code it replaces, and as such updates to a module can break a patch (or vice versa)."
   ]
  },
  {
   "cell_type": "markdown",
   "metadata": {},
   "source": [
    "### Custom function definitions<a name=\"functiondefinitions\"></a>"
   ]
  },
  {
   "cell_type": "markdown",
   "metadata": {},
   "source": [
    "#### The definition of the `get_unitary` function is as follows:"
   ]
  },
  {
   "cell_type": "markdown",
   "metadata": {},
   "source": [
    "```python\n",
    "import numpy as np\n",
    "from braket.circuits import Circuit, circuit\n",
    "\n",
    "def get_unitary(self):\n",
    "    \"\"\"\n",
    "    Funtion to get the unitary matrix corresponding to an entire circuit.\n",
    "    Acts on self and returns the corresponding unitary\n",
    "    \"\"\"\n",
    "    max_qubit_index = int(max(self.qubits)+1)\n",
    "    num_qubits = self.qubit_count\n",
    "    circ = Circuit()\n",
    "    \n",
    "    if num_qubits != max_qubit_index:\n",
    "        circ.add_circuit(self, target=range(num_qubits))\n",
    "    else:\n",
    "        circ.add_circuit(self)\n",
    "    \n",
    "    # Define the unitary matrix. Start with the identity matrix.\n",
    "    # Reshape the unitary into a tensor with the right number of indices (given by num_qubits)\n",
    "    unitary = np.reshape(np.eye(2**num_qubits, 2**num_qubits), [2] * 2 * num_qubits)\n",
    "    \n",
    "    # Iterate over the moments in the circuit\n",
    "    for key in circ.moments:\n",
    "        \n",
    "        # Get the matrix corresponding to the gate\n",
    "        matrix = circ.moments[key].operator.to_matrix()\n",
    "        # Get the target indices for the gate\n",
    "        targets = circ.moments[key].target\n",
    "\n",
    "        # Reshape the gate matrix\n",
    "        gate_matrix = np.reshape(matrix, [2] * len(targets) * 2)\n",
    "        \n",
    "        # Construct a tuple specifying the axes along which we contract (i.e., which qubits the gate acts on)\n",
    "        axes = (\n",
    "            np.arange(len(targets), 2 * len(targets)),\n",
    "            targets,\n",
    "        )\n",
    "        \n",
    "        # Apply the gate by contracting the existing unitary with the new gate\n",
    "        unitary = np.tensordot(gate_matrix, unitary, axes=axes)\n",
    "\n",
    "        # tensordot causes the axes contracted to end up in the first positions.\n",
    "        # We'll need to invert this permutation to put the indices in the correct place\n",
    "        \n",
    "        # Find the indices that are not used\n",
    "        unused_idxs = [idx for idx in range(2*num_qubits) if idx not in targets]\n",
    "        \n",
    "        # The new order of indices is given by \n",
    "        permutation = list(targets) + unused_idxs\n",
    "        \n",
    "        # Find the permutation that undoes this reordering\n",
    "        inverse_permutation = np.argsort(permutation)\n",
    "        \n",
    "        # Relabel the qubits according to this inverse_permutation\n",
    "        unitary = np.transpose(unitary, inverse_permutation)\n",
    "\n",
    "    # Reshape to a 2^N x 2^N matrix (for N=num_qubits)and return\n",
    "    unitary = np.reshape(unitary, (2**num_qubits, 2**num_qubits))\n",
    "    return unitary\n",
    "```"
   ]
  },
  {
   "cell_type": "markdown",
   "metadata": {},
   "source": [
    "#### The definition of the `adjoint` function is as follows:"
   ]
  },
  {
   "cell_type": "markdown",
   "metadata": {},
   "source": [
    "```python\n",
    "def adjoint(self):\n",
    "    \"\"\"Generates a circuit object corresponding to the adjoint of a given circuit, in which the order\n",
    "    of gates is reversed, and each gate is the adjoint (i.e., conjugate transpose) of the original.\n",
    "    \"\"\"\n",
    "\n",
    "    adjoint_circ = Circuit()\n",
    "    \n",
    "    # Loop through the instructions (gates) in the circuit:\n",
    "    for instruction in self.instructions:   \n",
    "        # Save the operator name and target\n",
    "        op_name = instruction.operator.name\n",
    "        target = instruction.target\n",
    "        angle = None\n",
    "        # If the operator has an attribute called 'angle', save that too\n",
    "        if hasattr(instruction.operator,'angle'):\n",
    "            angle = instruction.operator.angle\n",
    "\n",
    "        # To make use of native gates, we'll define the adjoint for each\n",
    "        if op_name == \"H\":\n",
    "            adjoint_gate = Circuit().h(target)\n",
    "        elif op_name == \"I\":\n",
    "            adjoint_gate = Circuit().i(target)\n",
    "        elif op_name == \"X\":\n",
    "            adjoint_gate = Circuit().x(target)\n",
    "        elif op_name == \"Y\":\n",
    "            adjoint_gate = Circuit().y(target)\n",
    "        elif op_name == \"Z\":\n",
    "            adjoint_gate = Circuit().z(target)\n",
    "        elif op_name == \"S\":\n",
    "            adjoint_gate = Circuit().si(target)\n",
    "        elif op_name == \"Si\":\n",
    "            adjoint_gate = Circuit().s(target)\n",
    "        elif op_name == \"T\":\n",
    "            adjoint_gate = Circuit().ti(target)\n",
    "        elif op_name == \"Ti\":\n",
    "            adjoint_gate = Circuit().t(target)\n",
    "        elif op_name == \"V\":\n",
    "            adjoint_gate = Circuit().vi(target)\n",
    "        elif op_name == \"Vi\":\n",
    "            adjoint_gate = Circuit().v(target)\n",
    "        elif op_name == \"Rx\":\n",
    "            adjoint_gate = Circuit().rx(target,-angle)\n",
    "        elif op_name == \"Ry\":\n",
    "            adjoint_gate = Circuit().ry(target,-angle)\n",
    "        elif op_name == \"Rz\":\n",
    "            adjoint_gate = Circuit().rz(target,-angle)\n",
    "        elif op_name == \"PhaseShift\":\n",
    "            adjoint_gate = Circuit().phaseshift(target,-angle)\n",
    "        elif op_name == \"CNot\":\n",
    "            adjoint_gate = Circuit().cnot(*target)\n",
    "        elif op_name == \"Swap\":\n",
    "            adjoint_gate = Circuit().swap(*target)\n",
    "        elif op_name == \"ISwap\":\n",
    "            adjoint_gate = Circuit().pswap(*target,-np.pi/2)\n",
    "        elif op_name == \"PSwap\":\n",
    "            adjoint_gate = Circuit().pswap(*target,-angle)\n",
    "        elif op_name == \"XY\":\n",
    "            adjoint_gate = Circuit().xy(*target,-angle)\n",
    "        elif op_name == \"CPhaseShift\":\n",
    "            adjoint_gate = Circuit().cphaseshift(*target,-angle)\n",
    "        elif op_name == \"CPhaseShift00\":\n",
    "            adjoint_gate = Circuit().cphaseshift00(*target,-angle)\n",
    "        elif op_name == \"CPhaseShift01\":\n",
    "            adjoint_gate = Circuit().cphaseshift01(*target,-angle)\n",
    "        elif op_name == \"CPhaseShift10\":\n",
    "            adjoint_gate = Circuit().cphaseshift10(*target,-angle)\n",
    "        elif op_name == \"CY\":\n",
    "            adjoint_gate = Circuit().cy(*target)\n",
    "        elif op_name == \"CZ\":\n",
    "            adjoint_gate = Circuit().cz(*target)\n",
    "        elif op_name == \"XX\":\n",
    "            adjoint_gate = Circuit().xx(*target,-angle)\n",
    "        elif op_name == \"YY\":\n",
    "            adjoint_gate = Circuit().yy(*target,-angle)\n",
    "        elif op_name == \"ZZ\":\n",
    "            adjoint_gate = Circuit().zz(*target,-angle)\n",
    "        elif op_name == \"CCNot\":\n",
    "            adjoint_gate = Circuit().ccnot(*target)\n",
    "        elif op_name == \"CSwap\":\n",
    "            adjoint_gate = Circuit().cswap(*target)\n",
    "\n",
    "        # If the gate is a custom unitary, we'll create a new custom unitary\n",
    "        else:\n",
    "            # Extract the transpose of the unitary matrix for the unitary gate\n",
    "            adjoint_matrix = instruction.operator.to_matrix().T.conj()\n",
    "            \n",
    "            # Define a gate for which the unitary matrix is the adjoint found above.\n",
    "            # Add an \"H\" to the display name. \n",
    "            adjoint_gate = Circuit().unitary(matrix=adjoint_matrix, targets=instruction.target, display_name=\"\".join(instruction.operator.ascii_symbols)+\"H\")\n",
    "            \n",
    "        # Add the new gate to the adjoint circuit. Note the order of operations here:\n",
    "        # (AB)^H = B^H A^H, where H is adjoint, thus we prepend new gates, rather than append.\n",
    "        adjoint_circ = adjoint_gate.add(adjoint_circ)\n",
    "    return adjoint_circ\n",
    "```"
   ]
  },
  {
   "cell_type": "markdown",
   "metadata": {},
   "source": [
    "---\n",
    "## References<a name=\"references\"></a>\n",
    "[1] Wikipedia: Monkey Patch [https://en.wikipedia.org/wiki/Monkey_patch](https://en.wikipedia.org/wiki/Monkey_patch)"
   ]
  }
 ],
 "metadata": {
  "kernelspec": {
   "display_name": "braket",
   "language": "python",
   "name": "braket"
  },
  "language_info": {
   "codemirror_mode": {
    "name": "ipython",
    "version": 3
   },
   "file_extension": ".py",
   "mimetype": "text/x-python",
   "name": "python",
   "nbconvert_exporter": "python",
   "pygments_lexer": "ipython3",
   "version": "3.8.5"
  }
 },
 "nbformat": 4,
 "nbformat_minor": 4
}
