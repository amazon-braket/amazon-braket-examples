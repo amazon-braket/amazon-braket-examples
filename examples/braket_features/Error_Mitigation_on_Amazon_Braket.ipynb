{
 "cells": [
  {
   "attachments": {},
   "cell_type": "markdown",
   "metadata": {},
   "source": [
    "# Error mitigation on Amazon Braket \n",
    "\n",
    "In this example notebook, you will learn how to get started with using IonQ's Aria QPU on Amazon Braket. You’ll learn how Aria's two built-in error mitigation techniques work, how to switch between them, and the performance difference you can expect to see with and without these techniques for toy problems. "
   ]
  },
  {
   "attachments": {},
   "cell_type": "markdown",
   "metadata": {},
   "source": [
    "## Quantum phase estimation \n",
    "\n",
    "Quantum phase estimation (QPE) is a fundamental algorithm in quantum computing that plays a crucial role in many  applications. The QPE algorithm is designed to estimate the eigenvalues of a unitary operator. Below, we provide an example implementation in the Braket SDK. "
   ]
  },
  {
   "cell_type": "code",
   "execution_count": 7,
   "metadata": {},
   "outputs": [],
   "source": [
    "import matplotlib.pyplot as plt\n",
    "import numpy as np\n",
    "import pandas as pd\n",
    "from braket.aws import AwsDevice\n",
    "from braket.circuits import Circuit\n",
    "from braket.devices import LocalSimulator\n",
    "from braket.tracking import Tracker\n",
    "from phase_estimation import phase_estimation_circuit\n",
    "\n",
    "%matplotlib inline"
   ]
  },
  {
   "cell_type": "code",
   "execution_count": null,
   "metadata": {},
   "outputs": [],
   "source": [
    "cost_tracker = Tracker().start()"
   ]
  },
  {
   "cell_type": "code",
   "execution_count": 5,
   "metadata": {},
   "outputs": [],
   "source": [
    "# device = LocalSimulator()\n",
    "device = AwsDevice(\"arn:aws:braket:us-east-1::device/qpu/ionq/Aria-1\")"
   ]
  },
  {
   "cell_type": "code",
   "execution_count": 6,
   "metadata": {},
   "outputs": [
    {
     "name": "stdout",
     "output_type": "stream",
     "text": [
      "T  : |0|   1    |2|    3    |4|   5    |6|    7    |8|   9    |10|   11    |12|   13   |14|   15    |16|   17   |18|   19    |20|   21   |22|   23    |24 |   25    |26|   27    |28 |   29   |30 |   31    |32 |   33    |34|   35    |36|   37   |38|   39    |40|\n",
      "                                                                                                                                                                                                                                                                    \n",
      "q0 : -H-Rz(6.28)------------------------------------------------------------------------C------------C--SWAP------------------------------------------------------------------------X-Rz(0.20)---X-Rz(-0.20)---X-Rz(0.39)--X--Rz(-0.39)-X--Rz(0.79)-X--Rz(-0.79)-H--\n",
      "                                                                                        |            |  |                                                                           |            |             |           |            |           |               \n",
      "q1 : -H-Rz(3.14)-----------------------------------------------C------------C--SWAP-----|------------|--|------------------------------------------------X-Rz(0.39)--X--Rz(-0.39)-X-|-Rz(0.79)-X-|-Rz(-0.79)-H-|-Rz(-0.79)-|------------C-----------C---------------\n",
      "                                                               |            |  |        |            |  |                                                |           |            | |          | |             |           |                                        \n",
      "q2 : -H-Rz(1.57)------------------------C-----------C----------|------------|--SWAP-----|------------|--|---------------------X--Rz(0.79)-X--Rz(-0.79)-H-|-Rz(-0.79)-|------------C-|----------C-|-Rz(-0.39)---C-----------C----------------------------------------\n",
      "                                        |           |          |            |           |            |  |                     |           |              |           |              |            |                                                                  \n",
      "q3 : -H-Rz(0.79)-C-----------C----------|-----------|----------|------------|-----------|------------|--SWAP-----H--Rz(-0.79)-C-----------C--Rz(-0.39)---C-----------C--Rz(-0.20)---C------------C------------------------------------------------------------------\n",
      "                 |           |          |           |          |            |           |            |                                                                                                                                                              \n",
      "q4 : -X----------X-Rz(-0.79)-X-Rz(0.79)-X-Rz(-1.57)-X-Rz(1.57)-X--Rz(-3.14)-X--Rz(3.14)-X--Rz(-6.28)-X--Rz(6.28)----------------------------------------------------------------------------------------------------------------------------------------------------\n",
      "\n",
      "T  : |0|   1    |2|    3    |4|   5    |6|    7    |8|   9    |10|   11    |12|   13   |14|   15    |16|   17   |18|   19    |20|   21   |22|   23    |24 |   25    |26|   27    |28 |   29   |30 |   31    |32 |   33    |34|   35    |36|   37   |38|   39    |40|\n"
     ]
    }
   ],
   "source": [
    "circ = phase_estimation_circuit(n_qubits=4, phase=np.pi / 4)\n",
    "print(circ)"
   ]
  },
  {
   "attachments": {},
   "cell_type": "markdown",
   "metadata": {},
   "source": [
    "## Aria \n",
    "\n",
    "First, we run the QPE circuit on the Aria device with the maximum number of shots per task (2,500). "
   ]
  },
  {
   "cell_type": "code",
   "execution_count": 5,
   "metadata": {},
   "outputs": [
    {
     "name": "stdout",
     "output_type": "stream",
     "text": [
      "AwsQuantumTask('id/taskArn':'arn:aws:braket:us-east-1:<account_id>:quantum-task/6bd86be9-2811-49b2-a62e-86cd328d444f')\n"
     ]
    }
   ],
   "source": [
    "task = device.run(circ, shots=2500)\n",
    "print(task)"
   ]
  },
  {
   "cell_type": "code",
   "execution_count": 13,
   "metadata": {},
   "outputs": [
    {
     "data": {
      "text/plain": [
       "{'00000': 0.0028,\n",
       " '10000': 0.0038,\n",
       " '01000': 0.0102,\n",
       " '11000': 0.0002,\n",
       " '00100': 0.0002,\n",
       " '01100': 0.0002,\n",
       " '10010': 0.0002,\n",
       " '01010': 0.0002,\n",
       " '11010': 0.0004,\n",
       " '00110': 0.0002,\n",
       " '00001': 0.015,\n",
       " '10001': 0.0084,\n",
       " '01001': 0.8792,\n",
       " '11001': 0.03,\n",
       " '00101': 0.0046,\n",
       " '10101': 0.0006,\n",
       " '01101': 0.0128,\n",
       " '11101': 0.0026,\n",
       " '00011': 0.0004,\n",
       " '10011': 0.002,\n",
       " '01011': 0.0074,\n",
       " '11011': 0.011,\n",
       " '00111': 0.0018,\n",
       " '10111': 0.004,\n",
       " '01111': 0.001,\n",
       " '11111': 0.0008}"
      ]
     },
     "execution_count": 13,
     "metadata": {},
     "output_type": "execute_result"
    }
   ],
   "source": [
    "probs = task.result().measurement_probabilities"
   ]
  },
  {
   "attachments": {},
   "cell_type": "markdown",
   "metadata": {},
   "source": [
    "## Error Mitigation with debiasing\n",
    "\n",
    "Debiasing aims to reduce the accumulation of coherent errors by using different physical implementations of the same circuit and using classical compute to combine the results and extract the clearest possible signal from a noisy source [1]. \n",
    "\n",
    "IonQ's debiasing method uses different implementations of a circuit through various qubit permutations and/or gate decompositions. The implementations can be chosen to reduce the effects of certain types of noise. Aggregating the results from all implementations reduces the effect of systematic errors and can improve the accuracy of your results. \n",
    "\n",
    "To use debiasing, a minimum of 2500 shots is required. In the Braket SDK, you can enable debiasing with a single line of code."
   ]
  },
  {
   "cell_type": "code",
   "execution_count": 7,
   "metadata": {},
   "outputs": [
    {
     "name": "stdout",
     "output_type": "stream",
     "text": [
      "AwsQuantumTask('id/taskArn':'arn:aws:braket:us-east-1:<account_id>:quantum-task/522e8472-78ff-4997-850e-5d9d9a8f5474')\n"
     ]
    }
   ],
   "source": [
    "from braket.error_mitigation import Debias\n",
    "\n",
    "task_em = device.run(circ, shots=2500, device_parameters={\"errorMitigation\": Debias()})\n",
    "print(task_em)"
   ]
  },
  {
   "attachments": {},
   "cell_type": "markdown",
   "metadata": {},
   "source": [
    "The results from debiasing are returned like normal measurement probabilities. Any expecation value or result type will be computed from these probabilities. "
   ]
  },
  {
   "cell_type": "code",
   "execution_count": 14,
   "metadata": {},
   "outputs": [],
   "source": [
    "result = task_em.result()\n",
    "debias_probs = result.measurement_probabilities"
   ]
  },
  {
   "attachments": {},
   "cell_type": "markdown",
   "metadata": {},
   "source": [
    "### Sharpening\n",
    "\n",
    "For quantum algorithms where the expected output distribution consists of few high-probability bitstrings, we can use IonQ’s sharpening strategy to post-process the results of a debiased run. Sharpening is a non-linear aggregation strategy that compares the results of each variant and discards inconsistent shots, favoring the most likely measurement outcome across variants. \n",
    "This is in contrast the the default aggregation for debiasing, which averages all the measurements together. Since sharpening is a post-processing technique, it can be applied at no additional cost to a debiased run. It’s important to keep in mind that because there is a minimum probability threshold for a shot to be considered consistent, sharpening can distort the correct probability distribution if applied to a non-sparse output distribution.\n",
    "\n",
    "The sharpened probabilities are available in the task result via a single line of code:"
   ]
  },
  {
   "cell_type": "code",
   "execution_count": 15,
   "metadata": {},
   "outputs": [],
   "source": [
    "sharp_probs = result.additional_metadata.ionqMetadata.sharpenedProbabilities"
   ]
  },
  {
   "attachments": {},
   "cell_type": "markdown",
   "metadata": {},
   "source": [
    "Sharpening your results will return a renormalized probability distribution rather than the full distribution of measurements counts, and is available at no additional cost when you run with the Debias() strategy. Note that expectation values will be computed using the debiased probabilities, **not** the sharpened probabilities. "
   ]
  },
  {
   "attachments": {},
   "cell_type": "markdown",
   "metadata": {},
   "source": [
    "## Compare results from error mitigation"
   ]
  },
  {
   "cell_type": "code",
   "execution_count": 16,
   "metadata": {},
   "outputs": [
    {
     "data": {
      "text/html": [
       "<div>\n",
       "<style scoped>\n",
       "    .dataframe tbody tr th:only-of-type {\n",
       "        vertical-align: middle;\n",
       "    }\n",
       "\n",
       "    .dataframe tbody tr th {\n",
       "        vertical-align: top;\n",
       "    }\n",
       "\n",
       "    .dataframe thead th {\n",
       "        text-align: right;\n",
       "    }\n",
       "</style>\n",
       "<table border=\"1\" class=\"dataframe\">\n",
       "  <thead>\n",
       "    <tr style=\"text-align: right;\">\n",
       "      <th></th>\n",
       "      <th>debias off</th>\n",
       "      <th>debias on</th>\n",
       "      <th>debias on, sharpened</th>\n",
       "    </tr>\n",
       "  </thead>\n",
       "  <tbody>\n",
       "    <tr>\n",
       "      <th>10111</th>\n",
       "      <td>0.0040</td>\n",
       "      <td>0.0028</td>\n",
       "      <td>NaN</td>\n",
       "    </tr>\n",
       "    <tr>\n",
       "      <th>00101</th>\n",
       "      <td>0.0046</td>\n",
       "      <td>0.0076</td>\n",
       "      <td>NaN</td>\n",
       "    </tr>\n",
       "    <tr>\n",
       "      <th>01011</th>\n",
       "      <td>0.0074</td>\n",
       "      <td>0.0112</td>\n",
       "      <td>NaN</td>\n",
       "    </tr>\n",
       "    <tr>\n",
       "      <th>10001</th>\n",
       "      <td>0.0084</td>\n",
       "      <td>0.0068</td>\n",
       "      <td>NaN</td>\n",
       "    </tr>\n",
       "    <tr>\n",
       "      <th>01000</th>\n",
       "      <td>0.0102</td>\n",
       "      <td>0.0088</td>\n",
       "      <td>NaN</td>\n",
       "    </tr>\n",
       "    <tr>\n",
       "      <th>11011</th>\n",
       "      <td>0.0110</td>\n",
       "      <td>0.0120</td>\n",
       "      <td>NaN</td>\n",
       "    </tr>\n",
       "    <tr>\n",
       "      <th>01101</th>\n",
       "      <td>0.0128</td>\n",
       "      <td>0.0108</td>\n",
       "      <td>NaN</td>\n",
       "    </tr>\n",
       "    <tr>\n",
       "      <th>00001</th>\n",
       "      <td>0.0150</td>\n",
       "      <td>0.0088</td>\n",
       "      <td>NaN</td>\n",
       "    </tr>\n",
       "    <tr>\n",
       "      <th>11001</th>\n",
       "      <td>0.0300</td>\n",
       "      <td>0.0316</td>\n",
       "      <td>NaN</td>\n",
       "    </tr>\n",
       "    <tr>\n",
       "      <th>01001</th>\n",
       "      <td>0.8792</td>\n",
       "      <td>0.8852</td>\n",
       "      <td>1.0</td>\n",
       "    </tr>\n",
       "  </tbody>\n",
       "</table>\n",
       "</div>"
      ],
      "text/plain": [
       "       debias off  debias on  debias on, sharpened\n",
       "10111      0.0040     0.0028                   NaN\n",
       "00101      0.0046     0.0076                   NaN\n",
       "01011      0.0074     0.0112                   NaN\n",
       "10001      0.0084     0.0068                   NaN\n",
       "01000      0.0102     0.0088                   NaN\n",
       "11011      0.0110     0.0120                   NaN\n",
       "01101      0.0128     0.0108                   NaN\n",
       "00001      0.0150     0.0088                   NaN\n",
       "11001      0.0300     0.0316                   NaN\n",
       "01001      0.8792     0.8852                   1.0"
      ]
     },
     "execution_count": 16,
     "metadata": {},
     "output_type": "execute_result"
    }
   ],
   "source": [
    "debias_off = pd.DataFrame.from_dict(probs, orient=\"index\").rename(columns={0: \"debias off\"})\n",
    "debias_on = pd.DataFrame.from_dict(debias_probs, orient=\"index\").rename(columns={0: \"debias on\"})\n",
    "sharpen_on = pd.DataFrame.from_dict(sharp_probs, orient=\"index\").rename(\n",
    "    columns={0: \"debias on, sharpened\"}\n",
    ")\n",
    "df = debias_off.join(debias_on).join(sharpen_on)\n",
    "df2 = df.sort_values(by=\"debias off\").tail(10)\n",
    "df2"
   ]
  },
  {
   "cell_type": "code",
   "execution_count": 18,
   "metadata": {},
   "outputs": [
    {
     "data": {
      "text/plain": [
       "<AxesSubplot: xlabel='Bitstring', ylabel='Probability'>"
      ]
     },
     "execution_count": 18,
     "metadata": {},
     "output_type": "execute_result"
    },
    {
     "data": {
      "image/png": "[encoded data removed]",
      "text/plain": [
       "<Figure size 640x480 with 1 Axes>"
      ]
     },
     "metadata": {},
     "output_type": "display_data"
    }
   ],
   "source": [
    "df2.plot.bar(logy=False, ylabel=\"Probability\", xlabel=\"Bitstring\")"
   ]
  },
  {
   "cell_type": "code",
   "execution_count": null,
   "metadata": {},
   "outputs": [
    {
     "name": "stdout",
     "output_type": "stream",
     "text": [
      "Task Summary\n",
      "Note: Charges shown are estimates based on your Amazon Braket simulator and quantum processing unit (QPU) task usage. Estimated charges shown may differ from your actual charges. Estimated charges do not factor in any discounts or credits, and you may experience additional charges based on your use of other services such as Amazon Elastic Compute Cloud (Amazon EC2).\n",
      "Estimated cost to run this example: 150.6 USD\n"
     ]
    }
   ],
   "source": [
    "print(\"Task Summary\")\n",
    "print(\n",
    "    \"Note: Charges shown are estimates based on your Amazon Braket simulator and quantum processing unit (QPU) task usage. Estimated charges shown may differ from your actual charges. Estimated charges do not factor in any discounts or credits, and you may experience additional charges based on your use of other services such as Amazon Elastic Compute Cloud (Amazon EC2).\"\n",
    ")\n",
    "print(\n",
    "    f\"Estimated cost to run this example: {cost_tracker.qpu_tasks_cost() + cost_tracker.simulator_tasks_cost():.3f} USD\"\n",
    ")"
   ]
  },
  {
   "attachments": {},
   "cell_type": "markdown",
   "metadata": {},
   "source": [
    "## References \n",
    "\n",
    "[1] “Enhancing quantum computer performance via symmetrization”,  https://arxiv.org/abs/2301.07233"
   ]
  }
 ],
 "metadata": {
  "kernelspec": {
   "display_name": "tket",
   "language": "python",
   "name": "python3"
  },
  "language_info": {
   "codemirror_mode": {
    "name": "ipython",
    "version": 3
   },
   "file_extension": ".py",
   "mimetype": "text/x-python",
   "name": "python",
   "nbconvert_exporter": "python",
   "pygments_lexer": "ipython3",
   "version": "3.9.5"
  },
  "orig_nbformat": 4
 },
 "nbformat": 4,
 "nbformat_minor": 2
}
