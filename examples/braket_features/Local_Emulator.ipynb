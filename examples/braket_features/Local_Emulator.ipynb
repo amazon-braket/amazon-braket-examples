{
 "cells": [
  {
   "cell_type": "markdown",
   "id": "c5c66fca",
   "metadata": {},
   "source": [
    "# Getting started with the local emulator\n",
    "\n",
    "Amazon Braket is launching a local emulator feature which will enable customers to:\n",
    "1. Emulate quantum devices supported on Braket with real-time calibirated noise parameters\n",
    "2. Perform noisy simulation with custom noise parameters including historically saved device parameters\n",
    "\n",
    "This notebook will walk you through the steps to utilize the local emulator for both use cases. For now the local emulator is only supported for verbatim circuits."
   ]
  },
  {
   "cell_type": "markdown",
   "id": "e006f335",
   "metadata": {},
   "source": [
    "## 1. Using the local emulator to emulate quantum hardware with live noise parameters"
   ]
  },
  {
   "cell_type": "markdown",
   "id": "cf63a200",
   "metadata": {},
   "source": [
    "### a. Working example"
   ]
  },
  {
   "cell_type": "markdown",
   "id": "81b8ba2b",
   "metadata": {},
   "source": [
    "Let's start with the imports and initialinzing the emulator. Here, we will be using Rigetti's [Ankaa-3]() device."
   ]
  },
  {
   "cell_type": "code",
   "execution_count": 130,
   "id": "7f299635",
   "metadata": {},
   "outputs": [],
   "source": [
    "import os\n",
    "import certifi\n",
    "os.environ['SSL_CERT_FILE'] = certifi.where()\n",
    "os.environ['REQUESTS_CA_BUNDLE'] = certifi.where()\n",
    "os.environ['AWS_CA_BUNDLE'] = certifi.where()\n",
    "\n",
    "from braket.aws.aws_device import AwsDevice\n",
    "from braket.circuits import Circuit\n",
    "from braket.devices import LocalSimulator\n",
    "\n",
    "import numpy as np\n",
    "from numpy import pi as pi\n",
    "\n",
    "from matplotlib import pyplot as plt\n",
    "\n",
    "ankaa3 = AwsDevice(\"arn:aws:braket:us-west-1::device/qpu/rigetti/Ankaa-3\")\n",
    "ankaa3_emulator = ankaa3.emulator()"
   ]
  },
  {
   "cell_type": "markdown",
   "id": "6fff873f",
   "metadata": {},
   "source": [
    "Since the local emulator currently only supports verbatim circuits, we examine Ankaa-3's native gates"
   ]
  },
  {
   "cell_type": "code",
   "execution_count": 39,
   "id": "3576be48",
   "metadata": {},
   "outputs": [
    {
     "name": "stdout",
     "output_type": "stream",
     "text": [
      "Native gates for Ankaa-3: ['rx', 'rz', 'iswap']\n"
     ]
    }
   ],
   "source": [
    "native_gates = ankaa3.properties.paradigm.nativeGateSet\n",
    "print(f\"Native gates for {ankaa3.name}: {native_gates}\")"
   ]
  },
  {
   "cell_type": "markdown",
   "id": "5fa4e012",
   "metadata": {},
   "source": [
    "Now we create and visualize an arbitrary 4-qubit quantum circuit with the help of the native gates"
   ]
  },
  {
   "cell_type": "code",
   "execution_count": 117,
   "id": "287b6e7f",
   "metadata": {},
   "outputs": [
    {
     "name": "stdout",
     "output_type": "stream",
     "text": [
      "T  : │        0        │      1      │    2    │      3      │       4       │\n",
      "                        ┌──────────┐  ┌───────┐ ┌───────────┐                 \n",
      "q0 : ───StartVerbatim───┤ Rx(1.57) ├──┤ ISWAP ├─┤ Rx(-1.57) ├───EndVerbatim───\n",
      "              ║         └──────────┘  └───┬───┘ └───────────┘        ║        \n",
      "              ║         ┌──────────┐  ┌───┴───┐   ┌───────┐          ║        \n",
      "q1 : ─────────║─────────┤ Rz(3.14) ├──┤ ISWAP ├───┤ ISWAP ├──────────║────────\n",
      "              ║         └──────────┘  └───────┘   └───┬───┘          ║        \n",
      "              ║         ┌───────────┐ ┌───────┐   ┌───┴───┐          ║        \n",
      "q2 : ─────────║─────────┤ Rx(-1.57) ├─┤ ISWAP ├───┤ ISWAP ├──────────║────────\n",
      "              ║         └───────────┘ └───┬───┘   └───────┘          ║        \n",
      "              ║         ┌──────────┐  ┌───┴───┐ ┌───────────┐        ║        \n",
      "q3 : ─────────╨─────────┤ Rz(1.57) ├──┤ ISWAP ├─┤ Rz(-3.14) ├────────╨────────\n",
      "                        └──────────┘  └───────┘ └───────────┘                 \n",
      "T  : │        0        │      1      │    2    │      3      │       4       │\n"
     ]
    }
   ],
   "source": [
    "verbatim_circuit = Circuit().add_verbatim_box(\n",
    "    Circuit().rx(0, pi/2).rz(1, pi).iswap(0, 1).rx(2, -pi/2).rz(3, pi/2).iswap(2, 3).iswap(1, 2).rx(0, -pi/2).rz(3, -pi)\n",
    ")\n",
    "print(verbatim_circuit)"
   ]
  },
  {
   "cell_type": "markdown",
   "id": "e9b2fbde",
   "metadata": {},
   "source": [
    "Next, can run the circuit and retrieve the results"
   ]
  },
  {
   "cell_type": "code",
   "execution_count": 118,
   "id": "8f8aad83",
   "metadata": {},
   "outputs": [
    {
     "data": {
      "image/png": "[encoded data removed]",
      "text/plain": [
       "<Figure size 640x480 with 1 Axes>"
      ]
     },
     "metadata": {},
     "output_type": "display_data"
    }
   ],
   "source": [
    "emulator_run = ankaa3_emulator.run(verbatim_circuit, shots=1000)\n",
    "emulator_result = emulator_run.result()\n",
    "emulator_counts = emulator_result.measurement_counts\n",
    "\n",
    "plt.bar(sorted(emulator_counts.keys()), [emulator_counts[k] for k in sorted(emulator_counts.keys())])\n",
    "plt.xlabel(\"Bitstrings\")\n",
    "plt.ylabel(\"Counts\")\n",
    "plt.xticks(rotation=45)\n",
    "plt.show()"
   ]
  },
  {
   "cell_type": "markdown",
   "id": "378bd62b",
   "metadata": {},
   "source": [
    "That ran successfuly, great! But let's see how this could run into trouble."
   ]
  },
  {
   "cell_type": "markdown",
   "id": "06e3ecf3",
   "metadata": {},
   "source": [
    "### b. Invalid examples"
   ]
  },
  {
   "cell_type": "markdown",
   "id": "3c804eb8",
   "metadata": {},
   "source": [
    "Under the hood, what the local emulator is doing is that it first validates the verbatim circuit"
   ]
  },
  {
   "cell_type": "code",
   "execution_count": 97,
   "id": "1c2ce7f5",
   "metadata": {},
   "outputs": [],
   "source": [
    "ankaa3_emulator.validate(verbatim_circuit)"
   ]
  },
  {
   "cell_type": "markdown",
   "id": "447ce377",
   "metadata": {},
   "source": [
    "and then transforms the circuit into a noisy circuit using the device noise parameters"
   ]
  },
  {
   "cell_type": "code",
   "execution_count": 98,
   "id": "c9eae3fb",
   "metadata": {},
   "outputs": [
    {
     "name": "stdout",
     "output_type": "stream",
     "text": [
      "T  : │        0        │              1               │            2             │              3               │       4       │\n",
      "                        ┌──────────┐ ┌───────────────┐ ┌───────┐ ┌─────────────┐  ┌──────────┐ ┌───────────────┐                 \n",
      "q0 : ───StartVerbatim───┤ Rx(1.57) ├─┤ DEPO(0.00034) ├─┤ ISWAP ├─┤ DEPO(0.022) ├──┤ Rx(4.71) ├─┤ DEPO(0.00034) ├───EndVerbatim───\n",
      "              ║         └──────────┘ └───────────────┘ └───┬───┘ └──────┬──────┘  └──────────┘ └───────────────┘        ║        \n",
      "              ║         ┌──────────┐ ┌──────────────┐  ┌───┴───┐ ┌──────┴──────┐   ┌───────┐    ┌─────────────┐         ║        \n",
      "q1 : ─────────║─────────┤ Rz(3.14) ├─┤ DEPO(0.0007) ├──┤ ISWAP ├─┤ DEPO(0.022) ├───┤ ISWAP ├────┤ DEPO(0.015) ├─────────║────────\n",
      "              ║         └──────────┘ └──────────────┘  └───────┘ └─────────────┘   └───┬───┘    └──────┬──────┘         ║        \n",
      "              ║         ┌──────────┐ ┌───────────────┐ ┌───────┐ ┌──────────────┐  ┌───┴───┐    ┌──────┴──────┐         ║        \n",
      "q2 : ─────────║─────────┤ Rx(0.45) ├─┤ DEPO(0.00073) ├─┤ ISWAP ├─┤ DEPO(0.0076) ├──┤ ISWAP ├────┤ DEPO(0.015) ├─────────║────────\n",
      "              ║         └──────────┘ └───────────────┘ └───┬───┘ └──────┬───────┘  └───────┘    └─────────────┘         ║        \n",
      "              ║         ┌──────────┐ ┌───────────────┐ ┌───┴───┐ ┌──────┴───────┐ ┌──────────┐ ┌───────────────┐        ║        \n",
      "q3 : ─────────╨─────────┤ Rz(0.79) ├─┤ DEPO(0.00054) ├─┤ ISWAP ├─┤ DEPO(0.0076) ├─┤ Rz(3.14) ├─┤ DEPO(0.00054) ├────────╨────────\n",
      "                        └──────────┘ └───────────────┘ └───────┘ └──────────────┘ └──────────┘ └───────────────┘                 \n",
      "T  : │        0        │              1               │            2             │              3               │       4       │\n"
     ]
    }
   ],
   "source": [
    "noisy_circ =  ankaa3_emulator.transform(verbatim_circuit)\n",
    "print(noisy_circ)"
   ]
  },
  {
   "cell_type": "markdown",
   "id": "b6d41d8e",
   "metadata": {},
   "source": [
    "and finally run the noisy circuit using the [local density matrix simulator](https://docs.aws.amazon.com/braket/latest/developerguide/braket-submit-tasks-simulators.html#braket-simulator-dm) (see [this notebook](https://github.com/amazon-braket/amazon-braket-examples/blob/main/examples/braket_features/Simulating_Noise_On_Amazon_Braket.ipynb) for more details on noisy simulator).\n",
    "\n",
    "However, there are three main reasons the validation step could fail:\n",
    "1. Using qubits that do not exist on the device\n",
    "2. Using gates that are not part of the device native set\n",
    "3. Applying two-qubit gates on qubits that are not connected in the device's topology\n",
    "\n",
    "Below we illustrate those cases."
   ]
  },
  {
   "cell_type": "markdown",
   "id": "3df5d714",
   "metadata": {},
   "source": [
    "#### i. Qubit doesn't exist on the device"
   ]
  },
  {
   "cell_type": "markdown",
   "id": "c17024fa",
   "metadata": {},
   "source": [
    "Ankaa-3 has 84 qubits numbered 0-83, so applying a gate on qubit 84 will throw an error"
   ]
  },
  {
   "cell_type": "code",
   "execution_count": 105,
   "id": "a549be27",
   "metadata": {},
   "outputs": [
    {
     "name": "stdout",
     "output_type": "stream",
     "text": [
      "Failure with error message: Qubit Qubit(84) does not exist in the device topology. (DeviceEmulator)\n"
     ]
    }
   ],
   "source": [
    "invalid_circuit = Circuit().add_verbatim_box(\n",
    "    Circuit().rx(84, pi/2)\n",
    ")\n",
    "\n",
    "try:\n",
    "    result = ankaa3_emulator.run(invalid_circuit, shots=1000)\n",
    "    print(\"Success!\")\n",
    "except Exception as e:\n",
    "    print(f\"Failure with error message: {str(e)}\")"
   ]
  },
  {
   "cell_type": "markdown",
   "id": "4a991356",
   "metadata": {},
   "source": [
    "#### ii. Using non-native gates"
   ]
  },
  {
   "cell_type": "markdown",
   "id": "0ec552f1",
   "metadata": {},
   "source": [
    "As we have seen above, the native gate set for Ankaa-3 is rx, rz, and iswap. Thus, if we apply a Hadamard gate we will get an error"
   ]
  },
  {
   "cell_type": "code",
   "execution_count": 106,
   "id": "9370398e",
   "metadata": {},
   "outputs": [
    {
     "name": "stdout",
     "output_type": "stream",
     "text": [
      "Failure with error message: Gate H is not a native gate for this device. (DeviceEmulator)\n"
     ]
    }
   ],
   "source": [
    "invalid_circuit = Circuit().add_verbatim_box(\n",
    "    Circuit().h(0)\n",
    ")\n",
    "\n",
    "try:\n",
    "    result = ankaa3_emulator.run(invalid_circuit, shots=1000)\n",
    "    print(\"Success!\")\n",
    "except Exception as e:\n",
    "    print(f\"Failure with error message: {str(e)}\")\n"
   ]
  },
  {
   "cell_type": "markdown",
   "id": "13a3a2fd",
   "metadata": {},
   "source": [
    "#### iii. Applying two-qubit gates on unconnected qubits"
   ]
  },
  {
   "cell_type": "markdown",
   "id": "04180550",
   "metadata": {},
   "source": [
    "On Ankaa-3, qubits 0 and 2 are not connected, so we cannot apply a two qubit gate on them"
   ]
  },
  {
   "cell_type": "code",
   "execution_count": 107,
   "id": "052c74b9",
   "metadata": {},
   "outputs": [
    {
     "name": "stdout",
     "output_type": "stream",
     "text": [
      "Failure with error message: 0 is not connected to qubit 2 in this device. (DeviceEmulator)\n"
     ]
    }
   ],
   "source": [
    "invalid_circuit = Circuit().add_verbatim_box(\n",
    "    Circuit().iswap(0, 2)\n",
    ")\n",
    "\n",
    "try:\n",
    "    result = ankaa3_emulator.run(invalid_circuit, shots=1000)\n",
    "    print(\"Success!\")\n",
    "except Exception as e:\n",
    "    print(f\"Failure with error message: {str(e)}\")\n"
   ]
  },
  {
   "cell_type": "markdown",
   "id": "dbfc1479",
   "metadata": {},
   "source": [
    "### c. Comparing emulator results to noiseless simulation and Ankaa-3 device"
   ]
  },
  {
   "cell_type": "markdown",
   "id": "bdf76ec6",
   "metadata": {},
   "source": [
    "Next, we want to see how well does the emulator capture the device results as compared to the noiseless simulator. Let's start by getting the emulator and device results"
   ]
  },
  {
   "cell_type": "code",
   "execution_count": 120,
   "id": "149b0f83",
   "metadata": {},
   "outputs": [],
   "source": [
    "local_sim = LocalSimulator()\n",
    "\n",
    "sim_run = local_sim.run(verbatim_circuit, shots=1000).result()\n",
    "sim_counts = sim_run.measurement_counts"
   ]
  },
  {
   "cell_type": "code",
   "execution_count": 122,
   "id": "95b88200",
   "metadata": {},
   "outputs": [],
   "source": [
    "device_run = ankaa3.run(verbatim_circuit, shots=1000)"
   ]
  },
  {
   "cell_type": "code",
   "execution_count": 128,
   "id": "09ecb763",
   "metadata": {},
   "outputs": [],
   "source": [
    "device_counts = device_run.result().measurement_counts"
   ]
  },
  {
   "cell_type": "markdown",
   "id": "f6ba12ca",
   "metadata": {},
   "source": [
    "And now we plot all the results to visualize them"
   ]
  },
  {
   "cell_type": "code",
   "execution_count": 144,
   "id": "06ab6c8d",
   "metadata": {},
   "outputs": [
    {
     "data": {
      "image/png": "[encoded data removed]",
      "text/plain": [
       "<Figure size 1200x600 with 1 Axes>"
      ]
     },
     "metadata": {},
     "output_type": "display_data"
    }
   ],
   "source": [
    "all_bitstrings = sorted(set(list(emulator_counts.keys()) + \n",
    "                            list(device_counts.keys()) + \n",
    "                            list(sim_counts.keys())))\n",
    "\n",
    "fig, ax = plt.subplots(figsize=(12, 6))\n",
    "bar_width = 0.25\n",
    "x = np.arange(len(all_bitstrings))\n",
    "\n",
    "emulator_bars = ax.bar(x - bar_width, \n",
    "                        [emulator_counts.get(b, 0) for b in all_bitstrings], \n",
    "                        bar_width, label='Emulator', alpha=0.7)\n",
    "\n",
    "device_bars = ax.bar(x, \n",
    "                    [device_counts.get(b, 0) for b in all_bitstrings], \n",
    "                    bar_width, label='Device', alpha=0.7)\n",
    "\n",
    "sim_bars = ax.bar(x + bar_width, \n",
    "                [sim_counts.get(b, 0) for b in all_bitstrings], \n",
    "                bar_width, label='Simulator', alpha=0.7)\n",
    "\n",
    "ax.set_xlabel('Bitstrings', fontsize=12)\n",
    "ax.set_ylabel('Counts', fontsize=12)\n",
    "ax.set_xticks(x)\n",
    "ax.set_xticklabels(all_bitstrings, rotation=45)\n",
    "ax.legend()\n",
    "plt.tight_layout()\n",
    "plt.show()"
   ]
  },
  {
   "cell_type": "code",
   "execution_count": null,
   "id": "4798bb9a",
   "metadata": {},
   "outputs": [],
   "source": []
  }
 ],
 "metadata": {
  "kernelspec": {
   "display_name": "venv",
   "language": "python",
   "name": "python3"
  },
  "language_info": {
   "codemirror_mode": {
    "name": "ipython",
    "version": 3
   },
   "file_extension": ".py",
   "mimetype": "text/x-python",
   "name": "python",
   "nbconvert_exporter": "python",
   "pygments_lexer": "ipython3",
   "version": "3.12.7"
  }
 },
 "nbformat": 4,
 "nbformat_minor": 5
}
