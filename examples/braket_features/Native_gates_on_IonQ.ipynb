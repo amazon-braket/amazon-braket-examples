{
 "cells": [
  {
   "cell_type": "markdown",
   "id": "87c15796-c783-4b91-bc28-4389df9f8308",
   "metadata": {},
   "source": [
    "# Native gates on IonQ\n",
    "\n",
    "In this notebook, we will dive into the details of IonQ's native gates and their functionalities, enabling us to realize direct control over the quantum operations on the computer without compiler optimizations or error mitigation. We will discuss the key native gates available on IonQ, their mathematical representations, and how they can be used for applications such as the quantum Fourier transform (QFT). \n",
    "\n",
    "\n",
    "IonQ's native gateset includes the GPi, GPi2, and arbitrary angle MS gate. These gates are physically implemented on IonQ hardware by utilizing resonant lasers to address ions through stimulated Raman transitions. The three gates provide a universal gate set for quantum computation. This means any quantum circuit can be realized with only these elementary operations. \n",
    "\n",
    "The notebook is organized into the following sections:\n",
    "\n",
    "\n",
    "## Table of Contents\n",
    "- Single-qubit gates\n",
    "    - GPi gate: $X, Y$ gates\n",
    "    - GPi2 gate: $R_X(\\pi/2), R_Y(\\pi/2)$ gates\n",
    "    - General gate decompositions\n",
    "    - Common single-qubit gates: $H$, $S$, $T$.\n",
    "    - Writing native IonQ circuits in Braket \n",
    "- Two-qubit gates: Arbitrary angle Mølmer-Sørenson gate\n",
    "  - Mapping CNot into $XX$\n",
    "  - Mapping controlled roots of Pauli gates into $XX$ gates\n",
    "- Quantum Fourier transform with native gates"
   ]
  },
  {
   "cell_type": "markdown",
   "id": "266ddd70-259f-4b7b-8e6e-8d82165e3b4d",
   "metadata": {},
   "source": [
    "## Single-qubit native gates\n",
    "\n",
    "### GPi gate\n",
    "\n",
    "The GPi gate is a fundamental single-qubit gate used in IonQ's trapped-ion quantum computing systems. It performs a rotation of $\\pi$ radians (180 degrees) on the Bloch sphere. What makes the GPi gate unique is its ability to rotate along any axis in the $x-y$ plane of the Bloch sphere. By adjusting the parameter $\\phi$, the gate can be mapped to different azimuthal angles. "
   ]
  },
  {
   "cell_type": "code",
   "execution_count": 1,
   "id": "0b7acc99-81bc-4bde-a1f1-6b84db2f3297",
   "metadata": {},
   "outputs": [
    {
     "name": "stdout",
     "output_type": "stream",
     "text": [
      "The GPi gate is defined as:\n"
     ]
    },
    {
     "data": {
      "text/latex": [
       "$\\displaystyle \\left[\\begin{matrix}0 & e^{- i \\phi}\\\\e^{i \\phi} & 0\\end{matrix}\\right]$"
      ],
      "text/plain": [
       "Matrix([\n",
       "[         0, exp(-I*phi)],\n",
       "[exp(I*phi),           0]])"
      ]
     },
     "execution_count": 1,
     "metadata": {},
     "output_type": "execute_result"
    }
   ],
   "source": [
    "from sympy import I, Matrix, exp, pi, sqrt, symbols\n",
    "\n",
    "phi = symbols(\"phi\")\n",
    "\n",
    "gpi = Matrix([[0, exp(-I * phi)], [exp(I * phi), 0]])\n",
    "GPi = lambda x: gpi.subs({\"phi\": x})\n",
    "\n",
    "print(\"The GPi gate is defined as:\")\n",
    "GPi(phi)"
   ]
  },
  {
   "cell_type": "markdown",
   "id": "1bac70d5-2b3b-4389-bbf7-bc76af636c54",
   "metadata": {},
   "source": [
    "For $\\phi=0$, the GPi gate is equivalent to the Pauli $X$-gate"
   ]
  },
  {
   "cell_type": "code",
   "execution_count": 2,
   "id": "55f428f4-eb04-4741-ad21-beedc5a66246",
   "metadata": {},
   "outputs": [
    {
     "data": {
      "text/latex": [
       "$\\displaystyle \\left[\\begin{matrix}0 & 1\\\\1 & 0\\end{matrix}\\right]$"
      ],
      "text/plain": [
       "Matrix([\n",
       "[0, 1],\n",
       "[1, 0]])"
      ]
     },
     "execution_count": 2,
     "metadata": {},
     "output_type": "execute_result"
    }
   ],
   "source": [
    "x = GPi(0)\n",
    "x"
   ]
  },
  {
   "cell_type": "markdown",
   "id": "0a80de21-9990-4c48-99d0-4df20b6c32d0",
   "metadata": {},
   "source": [
    "For $\\phi=\\pi/2$, the GPi gate is the Pauli $Y$ gate"
   ]
  },
  {
   "cell_type": "code",
   "execution_count": 3,
   "id": "977bb508-9501-4c85-9bab-e99c18400280",
   "metadata": {},
   "outputs": [
    {
     "data": {
      "text/latex": [
       "$\\displaystyle \\left[\\begin{matrix}0 & - i\\\\i & 0\\end{matrix}\\right]$"
      ],
      "text/plain": [
       "Matrix([\n",
       "[0, -I],\n",
       "[I,  0]])"
      ]
     },
     "execution_count": 3,
     "metadata": {},
     "output_type": "execute_result"
    }
   ],
   "source": [
    "y = GPi(pi / 2)\n",
    "y"
   ]
  },
  {
   "cell_type": "markdown",
   "id": "68962f54-3355-470a-b03e-c17e67c6a9d9",
   "metadata": {},
   "source": [
    "In summary, the GPi gate offers the capability to provide Pauli $X$ and $Y$ rotations, as well as rotations about any azimuthal angle on the Bloch sphere."
   ]
  },
  {
   "cell_type": "markdown",
   "id": "1c4a618a-bd91-4eda-bd6b-d5b0390f65f8",
   "metadata": {},
   "source": [
    "### GPi2 gate\n",
    "\n",
    "The GPi2 gate performs a rotation of $\\pi/2$ radians (90 degrees) on the Bloch sphere. Similar to the GPi gate, the GPi2 gate provides flexibility by allowing rotations along any longitudinal axis of the Bloch sphere. It can be considered as an $R_X(\\pi/2)$ or $R_Y(\\pi/2)$ gate, depending on the parameter $\\phi$. "
   ]
  },
  {
   "cell_type": "code",
   "execution_count": 4,
   "id": "6329227f-0b15-42a0-baec-4c4ad78a753d",
   "metadata": {},
   "outputs": [
    {
     "name": "stdout",
     "output_type": "stream",
     "text": [
      "The GPi2 gate is defined as:\n"
     ]
    },
    {
     "data": {
      "text/latex": [
       "$\\displaystyle \\left[\\begin{matrix}\\frac{\\sqrt{2}}{2} & - \\frac{\\sqrt{2} i e^{- i \\phi}}{2}\\\\- \\frac{\\sqrt{2} i e^{i \\phi}}{2} & \\frac{\\sqrt{2}}{2}\\end{matrix}\\right]$"
      ],
      "text/plain": [
       "Matrix([\n",
       "[              sqrt(2)/2, -sqrt(2)*I*exp(-I*phi)/2],\n",
       "[-sqrt(2)*I*exp(I*phi)/2,                sqrt(2)/2]])"
      ]
     },
     "execution_count": 4,
     "metadata": {},
     "output_type": "execute_result"
    }
   ],
   "source": [
    "gpi2 = 1 / sqrt(2) * Matrix([[1, -I * exp(-I * phi)], [-I * exp(I * phi), 1]])\n",
    "GPi2 = lambda x: gpi2.subs({\"phi\": x})\n",
    "\n",
    "print(\"The GPi2 gate is defined as:\")\n",
    "GPi2(phi)"
   ]
  },
  {
   "cell_type": "markdown",
   "id": "7c5447b0-156f-404c-8f5a-8ba55d75ceae",
   "metadata": {},
   "source": [
    "The $R_X(\\pi/2)$ rotation gate is realized by setting $\\phi=0$"
   ]
  },
  {
   "cell_type": "code",
   "execution_count": 5,
   "id": "123874b3-5f46-4a7c-a6a6-52efdea8dd75",
   "metadata": {},
   "outputs": [
    {
     "data": {
      "text/latex": [
       "$\\displaystyle \\left[\\begin{matrix}\\frac{\\sqrt{2}}{2} & - \\frac{\\sqrt{2} i}{2}\\\\- \\frac{\\sqrt{2} i}{2} & \\frac{\\sqrt{2}}{2}\\end{matrix}\\right]$"
      ],
      "text/plain": [
       "Matrix([\n",
       "[   sqrt(2)/2, -sqrt(2)*I/2],\n",
       "[-sqrt(2)*I/2,    sqrt(2)/2]])"
      ]
     },
     "execution_count": 5,
     "metadata": {},
     "output_type": "execute_result"
    }
   ],
   "source": [
    "rx_pi2 = GPi2(0)\n",
    "rx_pi2"
   ]
  },
  {
   "cell_type": "markdown",
   "id": "e1524415-9607-4c83-ab52-f9781f88d4ca",
   "metadata": {},
   "source": [
    "So the GPI2 can realize the square root of the $X$ gate, $\\text{GPi}(0) = R_X(\\pi/2)=e^{-i \\pi/4}\\sqrt{X}=e^{-i \\pi/4}V$ but to a phase. In Braket, this is the $V$ gate. \n",
    "\n",
    "\n",
    "Likewise, the The $R_Y(\\pi/2)$ rotation gate is realized by setting $\\phi=\\pi/2$"
   ]
  },
  {
   "cell_type": "code",
   "execution_count": 6,
   "id": "ea8e92ac-baa5-4c17-aed3-a31558681a6d",
   "metadata": {},
   "outputs": [
    {
     "data": {
      "text/latex": [
       "$\\displaystyle \\left[\\begin{matrix}\\frac{\\sqrt{2}}{2} & - \\frac{\\sqrt{2}}{2}\\\\\\frac{\\sqrt{2}}{2} & \\frac{\\sqrt{2}}{2}\\end{matrix}\\right]$"
      ],
      "text/plain": [
       "Matrix([\n",
       "[sqrt(2)/2, -sqrt(2)/2],\n",
       "[sqrt(2)/2,  sqrt(2)/2]])"
      ]
     },
     "execution_count": 6,
     "metadata": {},
     "output_type": "execute_result"
    }
   ],
   "source": [
    "ry_pi2 = GPi2(pi / 2)\n",
    "ry_pi2"
   ]
  },
  {
   "cell_type": "markdown",
   "id": "102b5cf2-0b3c-4067-9d6f-aa807027a141",
   "metadata": {},
   "source": [
    "In summary, the GPi2 provides a way to use a native $V$ gate on IonQ as well as $\\pi/2$ Pauli-$Y$ rotations."
   ]
  },
  {
   "cell_type": "markdown",
   "id": "121e70a0-baa7-429f-909d-0742287d4a51",
   "metadata": {},
   "source": [
    "### General single-qubit decompositions\n",
    "\n",
    "Any single-qubit gate can be decomposed into a sequence of rotations around the three axes of the Bloch sphere. Each rotation is parameterized by one of the Euler angles. The $\\alpha$ angle corresponds to the rotation around the $Z$ axis, the $\\beta$ angle corresponds to the rotation around the $X$ axis, and the $\\gamma$ angle corresponds to the rotation around the $Z$ axis again. This is known as the ZXZ decomposition. \n",
    "\n",
    "$$\\begin{equation}\n",
    "R(\\alpha,\\beta,\\gamma) = \\operatorname{Rz}(\\alpha) \\operatorname{Rx}(\\beta) \\operatorname{Rz}(\\gamma) \n",
    "\\end{equation}$$\n",
    "\n",
    "Instead of ZXZ, the IonQ native gates provide a basis for a similar decomposition. The mapping from the typical ZXZ to native gates is:\n",
    "$$\\begin{equation}\n",
    "R(\\alpha,\\beta,\\gamma) = -i \\,\n",
    "\\text{GPi2}\\left(\\alpha-\\frac{\\pi}{2}\\right) \\,\\text{GPi}\\left(\\frac{\\alpha-\\gamma-\\beta-\\pi}{2}\\right) \\,\\text{GPi2}\\left(\\frac{3\\pi}{2}-\\gamma\\right)\n",
    "\\end{equation}$$"
   ]
  },
  {
   "cell_type": "code",
   "execution_count": 7,
   "id": "8742ac2d-e0e4-40ff-9066-1c66c5c82759",
   "metadata": {},
   "outputs": [
    {
     "data": {
      "text/latex": [
       "$\\displaystyle \\left[\\begin{matrix}e^{- \\frac{i \\left(\\alpha + \\gamma\\right)}{2}} \\cos{\\left(\\frac{\\beta}{2} \\right)} & - i e^{- \\frac{i \\left(\\alpha - \\gamma\\right)}{2}} \\sin{\\left(\\frac{\\beta}{2} \\right)}\\\\- i e^{\\frac{i \\left(\\alpha - \\gamma\\right)}{2}} \\sin{\\left(\\frac{\\beta}{2} \\right)} & e^{\\frac{i \\left(\\alpha + \\gamma\\right)}{2}} \\cos{\\left(\\frac{\\beta}{2} \\right)}\\end{matrix}\\right]$"
      ],
      "text/plain": [
       "Matrix([\n",
       "[  exp(-I*(alpha + gamma)/2)*cos(beta/2), -I*exp(-I*(alpha - gamma)/2)*sin(beta/2)],\n",
       "[-I*exp(I*(alpha - gamma)/2)*sin(beta/2),     exp(I*(alpha + gamma)/2)*cos(beta/2)]])"
      ]
     },
     "execution_count": 7,
     "metadata": {},
     "output_type": "execute_result"
    }
   ],
   "source": [
    "from sympy import I, Matrix, cos, exp, expand, pi, simplify, sin, symbols, trigsimp\n",
    "\n",
    "alpha, beta, gamma = symbols(\"alpha, beta, gamma\")\n",
    "\n",
    "RX = lambda alpha: Matrix(\n",
    "    [[cos(alpha / 2), -I * sin(alpha / 2)], [-I * sin(alpha / 2), cos(alpha / 2)]]\n",
    ")\n",
    "RZ = lambda beta: Matrix([[exp(-I * beta / 2), 0], [0, exp(I * beta / 2)]])\n",
    "\n",
    "zxz = simplify(RZ(alpha) * RX(beta) * RZ(gamma), full=True)\n",
    "zxz"
   ]
  },
  {
   "cell_type": "code",
   "execution_count": 8,
   "id": "ef081a15-cee2-4fa8-abb6-c2ca8691f550",
   "metadata": {},
   "outputs": [
    {
     "data": {
      "text/latex": [
       "$\\displaystyle \\left[\\begin{matrix}i e^{- \\frac{i \\left(\\alpha + \\gamma\\right)}{2}} \\cos{\\left(\\frac{\\beta}{2} \\right)} & e^{\\frac{i \\left(- \\alpha + \\gamma\\right)}{2}} \\sin{\\left(\\frac{\\beta}{2} \\right)}\\\\e^{\\frac{i \\left(\\alpha - \\gamma\\right)}{2}} \\sin{\\left(\\frac{\\beta}{2} \\right)} & i e^{\\frac{i \\left(\\alpha + \\gamma\\right)}{2}} \\cos{\\left(\\frac{\\beta}{2} \\right)}\\end{matrix}\\right]$"
      ],
      "text/plain": [
       "Matrix([\n",
       "[I*exp(-I*(alpha + gamma)/2)*cos(beta/2),  exp(I*(-alpha + gamma)/2)*sin(beta/2)],\n",
       "[   exp(I*(alpha - gamma)/2)*sin(beta/2), I*exp(I*(alpha + gamma)/2)*cos(beta/2)]])"
      ]
     },
     "execution_count": 8,
     "metadata": {},
     "output_type": "execute_result"
    }
   ],
   "source": [
    "# with some help, sympy can simplify this expression\n",
    "general_rotation = (\n",
    "    GPi2(alpha - pi / 2) * GPi((alpha - beta - gamma + pi) / 2) * GPi2(3 * pi / 2 - gamma)\n",
    ")\n",
    "general_rotation = simplify(\n",
    "    exp(-I * alpha / 2) * exp(I * gamma / 2) * general_rotation\n",
    ")  # bottom sin\n",
    "general_rotation = simplify(exp(I * alpha) * general_rotation)  # cos\n",
    "general_rotation = simplify(exp(-I * gamma) * general_rotation)  # top sin\n",
    "general_rotation = simplify(exp(-I * alpha) * general_rotation)  # bottom cos\n",
    "general_rotation = simplify(\n",
    "    exp(I * (alpha + gamma) / 2) * general_rotation\n",
    ")  # undo the phase factors\n",
    "general_rotation"
   ]
  },
  {
   "cell_type": "markdown",
   "id": "9866710e-a1e7-4bc1-91bc-81c4e19e1bfe",
   "metadata": {},
   "source": [
    "Therefore, the combination of GPi and GPi2 gates gives the same effect as ZXZ up to a phase factor of $-i$. This decomposition allows any arbitrary single-qubit gate to run as a combination of native gates on IonQ. "
   ]
  },
  {
   "cell_type": "markdown",
   "id": "d631f27a-a852-4d59-8157-baf60acbbb12",
   "metadata": {},
   "source": [
    "### Common single-qubit gates\n",
    "\n",
    "For example, the Hadamard gate is usually decomposed as $H=X\\,R_Y(\\pi/2)$. This can be implemented as follows:"
   ]
  },
  {
   "cell_type": "code",
   "execution_count": 9,
   "id": "a58b9da6-8cf4-4c9b-b33e-c23f67ef022e",
   "metadata": {},
   "outputs": [
    {
     "data": {
      "text/latex": [
       "$\\displaystyle \\left[\\begin{matrix}\\frac{\\sqrt{2}}{2} & \\frac{\\sqrt{2}}{2}\\\\\\frac{\\sqrt{2}}{2} & - \\frac{\\sqrt{2}}{2}\\end{matrix}\\right]$"
      ],
      "text/plain": [
       "Matrix([\n",
       "[sqrt(2)/2,  sqrt(2)/2],\n",
       "[sqrt(2)/2, -sqrt(2)/2]])"
      ]
     },
     "execution_count": 9,
     "metadata": {},
     "output_type": "execute_result"
    }
   ],
   "source": [
    "# H = X * sqrt(Y)\n",
    "hadamard = GPi(0) * GPi2(pi / 2)\n",
    "hadamard"
   ]
  },
  {
   "cell_type": "markdown",
   "id": "b5ee352c-ed5f-479c-8600-ff72ea64d832",
   "metadata": {},
   "source": [
    "We can use the general single-qubit rotation decomposition to contruct more complex gates such as $R_X, R_Y, R_Z, S, T$. Below we list the gates and their decompositions. "
   ]
  },
  {
   "cell_type": "code",
   "execution_count": 10,
   "id": "83cf6b31-1817-48cb-a220-8967f78ef0ff",
   "metadata": {},
   "outputs": [],
   "source": [
    "theta = symbols(\"theta\")\n",
    "\n",
    "ID = GPi(0) * GPi(0)\n",
    "X = GPi(0)\n",
    "Y = GPi(pi / 2)\n",
    "Z = 1j * GPi(pi / 2) * GPi(pi)\n",
    "\n",
    "RX = I * GPi2(pi / 2) * GPi(theta / 2 + pi / 2) * GPi2(pi / 2)\n",
    "RY = I * GPi2(pi) * GPi(theta / 2 + pi) * GPi2(pi)\n",
    "RZ = GPi(theta / 2) * GPi(0)\n",
    "\n",
    "H = GPi(0) * GPi2(pi / 2)\n",
    "T = -I * exp(I * pi / 8) * GPi2(-3 * pi / 8) * GPi(pi / 2) * GPi2(11 * pi / 8)\n",
    "S = -I * exp(I * pi / 4) * GPi2(-pi / 4) * GPi(pi / 2) * GPi2(5 * pi / 4)"
   ]
  },
  {
   "cell_type": "markdown",
   "id": "d93e7df9-6efb-4c98-9246-25645352f069",
   "metadata": {},
   "source": [
    "### Native gate circuits on Braket \n",
    "\n",
    "In this section we should how to write native gate circuits in Amazon Braket SDK. \n",
    "\n",
    "Rather than remembering all the single-qubit decompositions, we can override the support gates ($I$, $X$, $H$, etc) to use their native gate decomposition. To prevent chanign the `Circuit` class in Braket, we create a new subclass of `Circuit` called `IonQNativeCircuit`. This give a way to modify the gate definitions without adjusting the circuit class. \n",
    "\n",
    "Below, we provide a code snippet that creates the native circuit class with the gate definitions from the previous section. "
   ]
  },
  {
   "cell_type": "code",
   "execution_count": 11,
   "id": "da3aff80-9737-4c91-9af5-d558e8684c52",
   "metadata": {},
   "outputs": [],
   "source": [
    "import numpy as np\n",
    "from braket.circuits import Circuit\n",
    "\n",
    "\n",
    "class IonQNativeCircuit(Circuit):\n",
    "    pi = np.pi\n",
    "\n",
    "    # universal single-qubit rotation decomposition\n",
    "    def unitary(self, qubit, a, b, c):\n",
    "        return self.gpi2(qubit, a).gpi(qubit, b).gpi2(qubit, c)\n",
    "\n",
    "    def i(self, qubit):\n",
    "        return self.gpi(qubit, 0).gpi(qubit, 0)\n",
    "\n",
    "    def x(self, qubit):\n",
    "        return self.gpi(qubit, 0)\n",
    "\n",
    "    def y(self, qubit):\n",
    "        return self.gpi(qubit, pi / 2)\n",
    "\n",
    "    def z(self, qubit):\n",
    "        return self.gpi(qubit, pi).gpi(qubit, pi / 2)\n",
    "\n",
    "    def h(self, qubit):\n",
    "        return self.gpi2(qubit, pi / 2).gpi(qubit, 0)\n",
    "\n",
    "    def t(self, qubit):\n",
    "        return self.unitary(qubit, 11 * pi / 8, pi / 2, -3 * pi / 8)\n",
    "\n",
    "    def s(self, qubit):\n",
    "        return self.unitary(qubit, 5 * pi / 4, pi / 2, -pi / 4)\n",
    "\n",
    "    def rx(self, qubit, theta):\n",
    "        return self.unitary(qubit, pi / 2, theta / 2 + pi / 2, pi / 2)\n",
    "\n",
    "    def ry(self, qubit, theta):\n",
    "        return self.unitary(qubit, pi, theta / 2 + pi, pi)\n",
    "\n",
    "    def rz(self, qubit, theta):\n",
    "        return self.gpi(qubit, 0).gpi(qubit, theta / 2)\n",
    "\n",
    "    # add friendly printing to unitary printing\n",
    "    def to_unitary(self):\n",
    "        return np.round(super().to_unitary(), 5)"
   ]
  },
  {
   "cell_type": "markdown",
   "id": "e6ba2b5a-5431-4467-aeaf-1b46aa7a7937",
   "metadata": {},
   "source": [
    "We can create native circuits with the usual Braket syntax:"
   ]
  },
  {
   "cell_type": "code",
   "execution_count": 12,
   "id": "0c046301-ecea-4efc-903a-3a24cb4dc9a2",
   "metadata": {},
   "outputs": [
    {
     "name": "stdout",
     "output_type": "stream",
     "text": [
      "T  : |    0     |  1   |  2   |    3    |\n",
      "                                         \n",
      "q0 : -GPi2(pi/2)-GPi(0)-GPi(0)-GPi(pi/4)-\n",
      "\n",
      "T  : |    0     |  1   |  2   |    3    |\n"
     ]
    }
   ],
   "source": [
    "print(IonQNativeCircuit().h(0).rz(0, pi / 2))"
   ]
  },
  {
   "cell_type": "markdown",
   "id": "ef720b17-a40e-45cd-b9d9-9f0c5c501e29",
   "metadata": {},
   "source": [
    "Notice how each gate is expanded into the native gate set. \n",
    "\n",
    "We can double check that the unitaries are the same for both circuits\n",
    "\n",
    "\n"
   ]
  },
  {
   "cell_type": "code",
   "execution_count": 13,
   "id": "633ba61c-942c-4d5d-b2a3-067a65cf8dc1",
   "metadata": {},
   "outputs": [
    {
     "data": {
      "text/plain": [
       "array([[ True,  True],\n",
       "       [ True,  True]])"
      ]
     },
     "execution_count": 13,
     "metadata": {},
     "output_type": "execute_result"
    }
   ],
   "source": [
    "unitary = Circuit().h(0).rz(0, 0.4).to_unitary()\n",
    "unitary_native = IonQNativeCircuit().h(0).rz(0, 0.4).to_unitary()\n",
    "\n",
    "np.isclose(unitary, unitary_native)"
   ]
  },
  {
   "cell_type": "markdown",
   "id": "07a57e3b-b58f-4d88-a83f-a2a01b7f7dea",
   "metadata": {},
   "source": [
    "In summary, this section provided details about the native gate set on IonQ. \n",
    "It gave an overview of how to construct common single-qubit gates using the GPi and GPi2 gates. \n",
    "Lastly, the code snippet demonstrates how Braket SDK can construct native gate circuits. "
   ]
  },
  {
   "cell_type": "markdown",
   "id": "1ecd4f0c-6db8-49e5-9d52-28014b1d7cae",
   "metadata": {},
   "source": [
    "## Two-qubit entangling gates\n",
    "\n",
    "### Arbitrary angle Mølmer-Sørenson gate \n",
    "\n",
    "The native two-qubit entangling gate on IonQ is the arbitrary angle Mølmer-Sørenson (MS) gate. It realizes an XX gate, this is a simultaneous, entangling $\\pi/2$ rotation on both qubits, however with other angles, both XY and YY are possible. \n",
    "\n",
    "The arbitrary angle MS gate is defined as follows:"
   ]
  },
  {
   "cell_type": "code",
   "execution_count": 14,
   "id": "3203623c-dfee-4dec-abfa-14ca61988952",
   "metadata": {},
   "outputs": [
    {
     "name": "stdout",
     "output_type": "stream",
     "text": [
      "The arbitrary angle MS gate is defined as:\n"
     ]
    },
    {
     "data": {
      "text/latex": [
       "$\\displaystyle \\left[\\begin{matrix}\\cos{\\left(\\frac{\\theta}{2} \\right)} & 0 & 0 & - i e^{- i \\left(\\phi_{0} + \\phi_{1}\\right)} \\sin{\\left(\\frac{\\theta}{2} \\right)}\\\\0 & \\cos{\\left(\\frac{\\theta}{2} \\right)} & - i e^{- i \\left(\\phi_{0} - \\phi_{1}\\right)} \\sin{\\left(\\frac{\\theta}{2} \\right)} & 0\\\\0 & - i e^{i \\left(\\phi_{0} - \\phi_{1}\\right)} \\sin{\\left(\\frac{\\theta}{2} \\right)} & \\cos{\\left(\\frac{\\theta}{2} \\right)} & 0\\\\- i e^{i \\left(\\phi_{0} + \\phi_{1}\\right)} \\sin{\\left(\\frac{\\theta}{2} \\right)} & 0 & 0 & \\cos{\\left(\\frac{\\theta}{2} \\right)}\\end{matrix}\\right]$"
      ],
      "text/plain": [
       "[              /theta\\                                                                                      -I*(phi_0 + phi_1)    /theta\\]\n",
       "[           cos|-----|                            0                                  0                  -I*e                  *sin|-----|]\n",
       "[              \\  2  /                                                                                                            \\  2  /]\n",
       "[                                                                                                                                        ]\n",
       "[                                                /theta\\                 -I*(phi_0 - phi_1)    /theta\\                                   ]\n",
       "[               0                             cos|-----|             -I*e                  *sin|-----|                  0                ]\n",
       "[                                                \\  2  /                                       \\  2  /                                   ]\n",
       "[                                                                                                                                        ]\n",
       "[                                      I*(phi_0 - phi_1)    /theta\\                /theta\\                                               ]\n",
       "[               0                  -I*e                 *sin|-----|             cos|-----|                              0                ]\n",
       "[                                                           \\  2  /                \\  2  /                                               ]\n",
       "[                                                                                                                                        ]\n",
       "[    I*(phi_0 + phi_1)    /theta\\                                                                                     /theta\\            ]\n",
       "[-I*e                 *sin|-----|                 0                                  0                             cos|-----|            ]\n",
       "[                         \\  2  /                                                                                     \\  2  /            ]"
      ]
     },
     "execution_count": 14,
     "metadata": {},
     "output_type": "execute_result"
    }
   ],
   "source": [
    "from sympy import I, Matrix, cos, exp, pi, sin, symbols\n",
    "from sympy.interactive.printing import init_printing\n",
    "from sympy.matrices import Matrix\n",
    "\n",
    "init_printing(use_unicode=False, wrap_line=False)\n",
    "\n",
    "theta, phi_0, phi_1 = symbols(\"theta phi_0 phi_1\")\n",
    "\n",
    "aams_matrix = Matrix(\n",
    "    [\n",
    "        [cos(theta / 2), 0, 0, -I * exp(-I * (phi_0 + phi_1)) * sin(theta / 2)],\n",
    "        [0, cos(theta / 2), -I * exp(-I * (phi_0 - phi_1)) * sin(theta / 2), 0],\n",
    "        [0, -I * exp(I * (phi_0 - phi_1)) * sin(theta / 2), cos(theta / 2), 0],\n",
    "        [-I * exp(I * (phi_0 + phi_1)) * sin(theta / 2), 0, 0, cos(theta / 2)],\n",
    "    ]\n",
    ")\n",
    "print(\"The arbitrary angle MS gate is defined as:\")\n",
    "aams_matrix"
   ]
  },
  {
   "cell_type": "markdown",
   "id": "c9af6fe3-166e-46e4-a5ee-efe80306e082",
   "metadata": {},
   "source": [
    "If optional third angle $\\theta$ is not provided, then the default value is $\\theta=\\pi/2$ which is the fully entangling MS gate:"
   ]
  },
  {
   "cell_type": "code",
   "execution_count": 15,
   "id": "a8e4c7c2-6678-45d3-b50c-5e624cff0006",
   "metadata": {},
   "outputs": [
    {
     "name": "stdout",
     "output_type": "stream",
     "text": [
      "The default MS gate is defined as:\n"
     ]
    },
    {
     "data": {
      "text/latex": [
       "$\\displaystyle \\left[\\begin{matrix}\\frac{\\sqrt{2}}{2} & 0 & 0 & - \\frac{\\sqrt{2} i e^{- i \\left(\\phi_{0} + \\phi_{1}\\right)}}{2}\\\\0 & \\frac{\\sqrt{2}}{2} & - \\frac{\\sqrt{2} i e^{- i \\left(\\phi_{0} - \\phi_{1}\\right)}}{2} & 0\\\\0 & - \\frac{\\sqrt{2} i e^{i \\left(\\phi_{0} - \\phi_{1}\\right)}}{2} & \\frac{\\sqrt{2}}{2} & 0\\\\- \\frac{\\sqrt{2} i e^{i \\left(\\phi_{0} + \\phi_{1}\\right)}}{2} & 0 & 0 & \\frac{\\sqrt{2}}{2}\\end{matrix}\\right]$"
      ],
      "text/plain": [
       "[             ___                                                                              ___    -I*(phi_0 + phi_1) ]\n",
       "[           \\/ 2                                                                            -\\/ 2 *I*e                   ]\n",
       "[           -----                           0                              0                -----------------------------]\n",
       "[             2                                                                                           2              ]\n",
       "[                                                                                                                        ]\n",
       "[                                           ___                 ___    -I*(phi_0 - phi_1)                                ]\n",
       "[                                         \\/ 2               -\\/ 2 *I*e                                                  ]\n",
       "[             0                           -----              -----------------------------                0              ]\n",
       "[                                           2                              2                                             ]\n",
       "[                                                                                                                        ]\n",
       "[                                 ___    I*(phi_0 - phi_1)                 ___                                           ]\n",
       "[                              -\\/ 2 *I*e                                \\/ 2                                            ]\n",
       "[             0                ----------------------------              -----                            0              ]\n",
       "[                                           2                              2                                             ]\n",
       "[                                                                                                                        ]\n",
       "[   ___    I*(phi_0 + phi_1)                                                                              ___            ]\n",
       "[-\\/ 2 *I*e                                                                                             \\/ 2             ]\n",
       "[----------------------------               0                              0                            -----            ]\n",
       "[             2                                                                                           2              ]"
      ]
     },
     "execution_count": 15,
     "metadata": {},
     "output_type": "execute_result"
    }
   ],
   "source": [
    "print(\"The default MS gate is defined as:\")\n",
    "\n",
    "ms = aams_matrix.subs({\"theta\": pi / 2})\n",
    "ms"
   ]
  },
  {
   "cell_type": "markdown",
   "id": "40b1cab1-db3b-4f83-bace-c24792180304",
   "metadata": {},
   "source": [
    "The more familiar $XX(\\theta)$ gate is realized by setting the first two MS angles to zero."
   ]
  },
  {
   "cell_type": "code",
   "execution_count": 16,
   "id": "76372ed1-0900-43fb-a628-b5d1f9a33fa6",
   "metadata": {},
   "outputs": [
    {
     "name": "stdout",
     "output_type": "stream",
     "text": [
      "The XX(theta) gate is defined as:\n"
     ]
    },
    {
     "data": {
      "text/latex": [
       "$\\displaystyle \\left[\\begin{matrix}\\cos{\\left(\\frac{\\theta}{2} \\right)} & 0 & 0 & - i \\sin{\\left(\\frac{\\theta}{2} \\right)}\\\\0 & \\cos{\\left(\\frac{\\theta}{2} \\right)} & - i \\sin{\\left(\\frac{\\theta}{2} \\right)} & 0\\\\0 & - i \\sin{\\left(\\frac{\\theta}{2} \\right)} & \\cos{\\left(\\frac{\\theta}{2} \\right)} & 0\\\\- i \\sin{\\left(\\frac{\\theta}{2} \\right)} & 0 & 0 & \\cos{\\left(\\frac{\\theta}{2} \\right)}\\end{matrix}\\right]$"
      ],
      "text/plain": [
       "[    /theta\\                                        /theta\\]\n",
       "[ cos|-----|          0              0        -I*sin|-----|]\n",
       "[    \\  2  /                                        \\  2  /]\n",
       "[                                                          ]\n",
       "[                   /theta\\          /theta\\               ]\n",
       "[      0         cos|-----|    -I*sin|-----|        0      ]\n",
       "[                   \\  2  /          \\  2  /               ]\n",
       "[                                                          ]\n",
       "[                     /theta\\      /theta\\                 ]\n",
       "[      0        -I*sin|-----|   cos|-----|          0      ]\n",
       "[                     \\  2  /      \\  2  /                 ]\n",
       "[                                                          ]\n",
       "[      /theta\\                                    /theta\\  ]\n",
       "[-I*sin|-----|        0              0         cos|-----|  ]\n",
       "[      \\  2  /                                    \\  2  /  ]"
      ]
     },
     "execution_count": 16,
     "metadata": {},
     "output_type": "execute_result"
    }
   ],
   "source": [
    "print(\"The XX(theta) gate is defined as:\")\n",
    "\n",
    "xx = aams_matrix.subs({\"phi_0\": 0, \"phi_1\": 0})\n",
    "xx"
   ]
  },
  {
   "cell_type": "markdown",
   "id": "fdf4b881-feb6-4c4f-a22c-7316baa1c828",
   "metadata": {},
   "source": [
    "The YY gate is achieved by setting $\\phi_0=\\phi_1 = \\pi/2$"
   ]
  },
  {
   "cell_type": "code",
   "execution_count": 17,
   "id": "6f94b4ab-c966-4db0-b5eb-73594829accd",
   "metadata": {},
   "outputs": [
    {
     "name": "stdout",
     "output_type": "stream",
     "text": [
      "The YY(theta) gate is defined as:\n"
     ]
    },
    {
     "data": {
      "text/latex": [
       "$\\displaystyle \\left[\\begin{matrix}\\cos{\\left(\\frac{\\theta}{2} \\right)} & 0 & 0 & i \\sin{\\left(\\frac{\\theta}{2} \\right)}\\\\0 & \\cos{\\left(\\frac{\\theta}{2} \\right)} & - i \\sin{\\left(\\frac{\\theta}{2} \\right)} & 0\\\\0 & - i \\sin{\\left(\\frac{\\theta}{2} \\right)} & \\cos{\\left(\\frac{\\theta}{2} \\right)} & 0\\\\i \\sin{\\left(\\frac{\\theta}{2} \\right)} & 0 & 0 & \\cos{\\left(\\frac{\\theta}{2} \\right)}\\end{matrix}\\right]$"
      ],
      "text/plain": [
       "[    /theta\\                                      /theta\\]\n",
       "[ cos|-----|         0              0        I*sin|-----|]\n",
       "[    \\  2  /                                      \\  2  /]\n",
       "[                                                        ]\n",
       "[                  /theta\\          /theta\\              ]\n",
       "[     0         cos|-----|    -I*sin|-----|       0      ]\n",
       "[                  \\  2  /          \\  2  /              ]\n",
       "[                                                        ]\n",
       "[                    /theta\\      /theta\\                ]\n",
       "[     0        -I*sin|-----|   cos|-----|         0      ]\n",
       "[                    \\  2  /      \\  2  /                ]\n",
       "[                                                        ]\n",
       "[     /theta\\                                    /theta\\ ]\n",
       "[I*sin|-----|        0              0         cos|-----| ]\n",
       "[     \\  2  /                                    \\  2  / ]"
      ]
     },
     "execution_count": 17,
     "metadata": {},
     "output_type": "execute_result"
    }
   ],
   "source": [
    "print(\"The YY(theta) gate is defined as:\")\n",
    "\n",
    "yy = aams_matrix.subs({\"phi_0\": pi / 2, \"phi_1\": pi / 2})\n",
    "yy"
   ]
  },
  {
   "cell_type": "markdown",
   "id": "8a0f3e53-4bc9-43ee-928f-71c21e78fc12",
   "metadata": {},
   "source": [
    "In the next section we breakdown how this MS gate can be used for CNot gates. "
   ]
  },
  {
   "attachments": {
    "12a78788-2032-46c7-be3e-d30193423214.png": {
     "image/png": "[encoded data removed]"
    }
   },
   "cell_type": "markdown",
   "id": "3fc46619-f35e-456b-8ba9-bd1037c0da9b",
   "metadata": {},
   "source": [
    "### CNot gate decomposition\n",
    "\n",
    "The CNot gate is the most commonly used two-qubit entangling gate. As such, its important to recognize how to map it to the native MS gate of IonQ. By decomposing the CNot gate into a combination of single-qubit rotations and the MS gate, we can express it in terms of IonQ's native gate set.\n",
    "\n",
    "In the figure below, we show the decomposition from [1]. \n",
    "\n",
    "![Screenshot 2023-07-12 at 2.31.29 PM.png](attachment:12a78788-2032-46c7-be3e-d30193423214.png)\n",
    "\n",
    "\n",
    "\n",
    "[1] Maslov, Dmitri. “Basic Circuit Compilation Techniques for an Ion-Trap Quantum Machine.” New Journal of Physics 19, no. 2 (February 2017): 023035. https://doi.org/10.1088/1367-2630/aa5e47.\n",
    "\n",
    "[2] \"Getting started with Native Gates.\" https://ionq.com/docs/getting-started-with-native-gates\n",
    "\n"
   ]
  },
  {
   "cell_type": "code",
   "execution_count": 18,
   "id": "0f4c9f90-7209-4cc1-9fb2-d9076c41a112",
   "metadata": {},
   "outputs": [
    {
     "name": "stdout",
     "output_type": "stream",
     "text": [
      "The CNot circuit is:\n",
      "T  : |0|\n",
      "        \n",
      "q0 : -C-\n",
      "      | \n",
      "q1 : -X-\n",
      "\n",
      "T  : |0|\n",
      "The CNot unitary :\n"
     ]
    },
    {
     "data": {
      "text/latex": [
       "$\\displaystyle \\left[\\begin{matrix}1.0 & 0 & 0 & 0\\\\0 & 1.0 & 0 & 0\\\\0 & 0 & 0 & 1.0\\\\0 & 0 & 1.0 & 0\\end{matrix}\\right]$"
      ],
      "text/plain": [
       "[1.0   0    0    0 ]\n",
       "[                  ]\n",
       "[ 0   1.0   0    0 ]\n",
       "[                  ]\n",
       "[ 0    0    0   1.0]\n",
       "[                  ]\n",
       "[ 0    0   1.0   0 ]"
      ]
     },
     "execution_count": 18,
     "metadata": {},
     "output_type": "execute_result"
    }
   ],
   "source": [
    "from braket.circuits import Circuit\n",
    "\n",
    "circ = Circuit().cnot(0, 1)\n",
    "\n",
    "print(\"The CNot circuit is:\")\n",
    "print(circ)\n",
    "\n",
    "print(\"The CNot unitary :\")\n",
    "Matrix(circ.to_unitary())"
   ]
  },
  {
   "cell_type": "code",
   "execution_count": 19,
   "id": "5de69858-414d-459d-9054-ea4544c51266",
   "metadata": {},
   "outputs": [
    {
     "name": "stdout",
     "output_type": "stream",
     "text": [
      "T  : |   0    |      1       |    2    |    3    |\n",
      "                                                  \n",
      "q0 : -Ry(pi/2)-MS(0, 0, 1.57)-Rx(-pi/2)-Ry(-pi/2)-\n",
      "               |                                  \n",
      "q1 : ----------MS(0, 0, 1.57)-Rx(-pi/2)-----------\n",
      "\n",
      "T  : |   0    |      1       |    2    |    3    |\n"
     ]
    }
   ],
   "source": [
    "def cnot_decomposition(qubit0, qubit1):\n",
    "    circ = Circuit()\n",
    "    circ.ry(qubit0, pi / 2)\n",
    "    circ.ms(qubit0, qubit1, 0, 0)\n",
    "    circ.rx(qubit0, -pi / 2).rx(qubit1, -pi / 2)\n",
    "    circ.ry(qubit0, -pi / 2)\n",
    "    return circ\n",
    "\n",
    "\n",
    "print(cnot_decomposition(0, 1))"
   ]
  },
  {
   "cell_type": "markdown",
   "id": "4e8587c2-979a-42ae-8c33-fca93a89dcac",
   "metadata": {},
   "source": [
    "Now checking the unitary we have"
   ]
  },
  {
   "cell_type": "code",
   "execution_count": 20,
   "id": "64a66c95-296d-4e7d-974e-8841acf00a57",
   "metadata": {},
   "outputs": [
    {
     "data": {
      "text/latex": [
       "$\\displaystyle \\left[\\begin{matrix}1.0 & 0 & 0 & 0\\\\0 & 1.0 & 0 & 0\\\\0 & 0 & 0 & 1.0\\\\0 & 0 & 1.0 & 0\\end{matrix}\\right]$"
      ],
      "text/plain": [
       "[1.0   0    0    0 ]\n",
       "[                  ]\n",
       "[ 0   1.0   0    0 ]\n",
       "[                  ]\n",
       "[ 0    0    0   1.0]\n",
       "[                  ]\n",
       "[ 0    0   1.0   0 ]"
      ]
     },
     "execution_count": 20,
     "metadata": {},
     "output_type": "execute_result"
    }
   ],
   "source": [
    "matrix = cnot_decomposition(0, 1).to_unitary()\n",
    "global_phase = np.exp(-1j * np.pi / 4)\n",
    "\n",
    "matrix = np.round(global_phase * matrix, 5)\n",
    "Matrix(matrix)"
   ]
  },
  {
   "cell_type": "markdown",
   "id": "0977e3f0-a2d1-49ea-94d6-a30fe044b110",
   "metadata": {},
   "source": [
    "which exactly matches the expected CNot unitary up to the phase $e^{-i\\alpha\\pi/4}$."
   ]
  },
  {
   "attachments": {
    "1e851789-5000-44af-b436-b54ec88a37ac.png": {
     "image/png": "[encoded data removed]"
    }
   },
   "cell_type": "markdown",
   "id": "1d544222-dd5a-4e13-9f5d-7192a9dc236d",
   "metadata": {},
   "source": [
    "### Controlled-roots of Pauli gates\n",
    "\n",
    "The arbitrary third angle in the MS gate allows more flexibility than the CNot gate. By adjusting the angle, it controls the amount of strength of the gate.\n",
    "\n",
    "![Screenshot 2023-07-12 at 2.31.03 PM.png](attachment:1e851789-5000-44af-b436-b54ec88a37ac.png)\n",
    "\n",
    "\n",
    "\n",
    "The arbitrary angle allows fraction powers of Pauli gates, for example the controlled-$X^{1/2}$ gate. \n",
    "\n",
    "In the following code, we check the unitary matrix for the controlled-$X^{1/2}$ gate against the MS decomposition to verify they are equivalent up to a global phase. "
   ]
  },
  {
   "cell_type": "code",
   "execution_count": 21,
   "id": "5579e220-52e6-44fe-99bb-3adff135b36b",
   "metadata": {},
   "outputs": [
    {
     "name": "stdout",
     "output_type": "stream",
     "text": [
      "T  : |   0   |\n",
      "              \n",
      "q0 : -C-------\n",
      "      |       \n",
      "q1 : -(X^0.5)-\n",
      "\n",
      "T  : |   0   |\n"
     ]
    },
    {
     "data": {
      "text/latex": [
       "$\\displaystyle \\left[\\begin{matrix}1.0 & 0 & 0 & 0\\\\0 & 1.0 & 0 & 0\\\\0 & 0 & 0.5 + 0.5 i & 0.5 - 0.5 i\\\\0 & 0 & 0.5 - 0.5 i & 0.5 + 0.5 i\\end{matrix}\\right]$"
      ],
      "text/plain": [
       "[1.0   0        0            0     ]\n",
       "[                                  ]\n",
       "[ 0   1.0       0            0     ]\n",
       "[                                  ]\n",
       "[ 0    0   0.5 + 0.5*I  0.5 - 0.5*I]\n",
       "[                                  ]\n",
       "[ 0    0   0.5 - 0.5*I  0.5 + 0.5*I]"
      ]
     },
     "execution_count": 21,
     "metadata": {},
     "output_type": "execute_result"
    }
   ],
   "source": [
    "from braket.circuits import Circuit\n",
    "\n",
    "alpha = 0.5\n",
    "\n",
    "circ = Circuit().x(1, control=0, power=alpha)\n",
    "print(circ)\n",
    "\n",
    "Matrix(np.round(circ.to_unitary(), 5))"
   ]
  },
  {
   "cell_type": "code",
   "execution_count": 22,
   "id": "b6e7df57-6a69-4b3e-b297-a48bfc020117",
   "metadata": {},
   "outputs": [
    {
     "data": {
      "text/latex": [
       "$\\displaystyle \\left[\\begin{matrix}1.0 & 0 & 0 & 0\\\\0 & 1.0 & 0 & 0\\\\0 & 0 & 0.5 + 0.5 i & 0.5 - 0.5 i\\\\0 & 0 & 0.5 - 0.5 i & 0.5 + 0.5 i\\end{matrix}\\right]$"
      ],
      "text/plain": [
       "[1.0   0        0            0     ]\n",
       "[                                  ]\n",
       "[ 0   1.0       0            0     ]\n",
       "[                                  ]\n",
       "[ 0    0   0.5 + 0.5*I  0.5 - 0.5*I]\n",
       "[                                  ]\n",
       "[ 0    0   0.5 - 0.5*I  0.5 + 0.5*I]"
      ]
     },
     "execution_count": 22,
     "metadata": {},
     "output_type": "execute_result"
    }
   ],
   "source": [
    "def controlled_root_cnot_decomposition(qubit0, qubit1, alpha):\n",
    "    circ = Circuit()\n",
    "    circ.ry(qubit0, -np.pi / 2)\n",
    "    circ.ms(qubit0, qubit1, 0, 0, alpha * np.pi / 2)\n",
    "    circ.rx(qubit0, -alpha * np.pi / 2).rx(1, alpha * np.pi / 2)\n",
    "    circ.ry(qubit0, np.pi / 2)\n",
    "    return circ\n",
    "\n",
    "\n",
    "matrix = controlled_root_cnot_decomposition(0, 1, alpha).to_unitary()\n",
    "global_phase = np.exp(1j * np.pi * alpha / 4)\n",
    "\n",
    "matrix = np.round(global_phase * matrix, 4)\n",
    "Matrix(matrix)"
   ]
  },
  {
   "cell_type": "markdown",
   "id": "589ad547-564f-4456-83c8-070df7fa2d29",
   "metadata": {},
   "source": [
    "We see that the two unitaries are equivalent up to the phase $e^{i\\alpha\\pi/4}$. "
   ]
  },
  {
   "cell_type": "markdown",
   "id": "b0acdd3f-6e41-45b3-a37f-9833e243ce18",
   "metadata": {},
   "source": [
    "## Quantum Fourier transform with native gates\n",
    "\n",
    "One application of native arbitrary angle MS gates is to the quantum Fourier transform (QFT) circuit. The QFT circuit involves a sequence of single-qubit rotations and controlled-phase operations. Note that the usual layer of SWAP gates at the end of the circuit can be dropped since then the re-ordering can be done classically."
   ]
  },
  {
   "cell_type": "code",
   "execution_count": 23,
   "id": "bbef1c81-19a9-460a-94b9-14b01888d4c0",
   "metadata": {},
   "outputs": [],
   "source": [
    "import math\n",
    "\n",
    "from braket.circuits import Circuit, circuit\n",
    "from braket.devices import LocalSimulator"
   ]
  },
  {
   "cell_type": "code",
   "execution_count": 24,
   "id": "ef46f252-9161-45bf-9115-ea3598ba7461",
   "metadata": {},
   "outputs": [],
   "source": [
    "def cphaseshift(qubit0, qubit1, theta):\n",
    "    qc = IonQNativeCircuit()\n",
    "    qc.h(qubit1)\n",
    "    qc.ry(qubit0, -pi / 2)\n",
    "    qc.ms(qubit0, qubit1, 0, 0, theta / 2)\n",
    "    qc.rx(qubit0, -theta / 2)\n",
    "    qc.rx(qubit1, theta / 2)\n",
    "    qc.ry(qubit0, pi / 2)\n",
    "    qc.h(qubit1)\n",
    "    return qc\n",
    "\n",
    "\n",
    "IonQNativeCircuit.register_subroutine(cphaseshift)"
   ]
  },
  {
   "cell_type": "code",
   "execution_count": 25,
   "id": "19828371-78ae-410d-9d9b-41bc5a33a3cf",
   "metadata": {},
   "outputs": [
    {
     "data": {
      "text/latex": [
       "$\\displaystyle \\left[\\begin{matrix}0.96593 - 0.25882 i & 0 & 0 & 0\\\\0 & 0.96593 - 0.25882 i & 0 & 0\\\\0 & 0 & 0.96593 - 0.25882 i & 0\\\\0 & 0 & 0 & 0.70711 + 0.70711 i\\end{matrix}\\right]$"
      ],
      "text/plain": [
       "[0.96593 - 0.25882*I           0                    0                    0         ]\n",
       "[                                                                                  ]\n",
       "[         0           0.96593 - 0.25882*I           0                    0         ]\n",
       "[                                                                                  ]\n",
       "[         0                    0           0.96593 - 0.25882*I           0         ]\n",
       "[                                                                                  ]\n",
       "[         0                    0                    0           0.70711 + 0.70711*I]"
      ]
     },
     "execution_count": 25,
     "metadata": {},
     "output_type": "execute_result"
    }
   ],
   "source": [
    "Matrix(IonQNativeCircuit().cphaseshift(0, 1, pi / 3).to_unitary())"
   ]
  },
  {
   "cell_type": "code",
   "execution_count": 26,
   "id": "980ce975-dd5b-4d44-a33d-f9fb423a1c2e",
   "metadata": {},
   "outputs": [
    {
     "data": {
      "text/latex": [
       "$\\displaystyle \\left[\\begin{matrix}1.0 & 0 & 0 & 0\\\\0 & 1.0 & 0 & 0\\\\0 & 0 & 1.0 & 0\\\\0 & 0 & 0 & 0.5 + 0.86603 i\\end{matrix}\\right]$"
      ],
      "text/plain": [
       "[1.0   0    0          0       ]\n",
       "[                              ]\n",
       "[ 0   1.0   0          0       ]\n",
       "[                              ]\n",
       "[ 0    0   1.0         0       ]\n",
       "[                              ]\n",
       "[ 0    0    0   0.5 + 0.86603*I]"
      ]
     },
     "execution_count": 26,
     "metadata": {},
     "output_type": "execute_result"
    }
   ],
   "source": [
    "m = IonQNativeCircuit().cphaseshift(0, 1, pi / 3).to_unitary()\n",
    "Matrix(np.round(m * np.exp(1j * np.pi / 4 / 3), 5))"
   ]
  },
  {
   "cell_type": "code",
   "execution_count": 27,
   "id": "6263f1ad-434c-4556-ad2f-85edfbc86025",
   "metadata": {},
   "outputs": [],
   "source": [
    "def qft_no_swap(qubits):\n",
    "    # The final SWAP layers are omitted in favor of classical post-processing\n",
    "    qft_circ = IonQNativeCircuit()\n",
    "    num_qubits = len(qubits)\n",
    "    for k in range(num_qubits):\n",
    "        qft_circ.h(qubits[k])\n",
    "        # Then apply the controlled rotations, with weights (angles) defined by the distance to the control qubit.\n",
    "        # Start on the qubit after qubit k, and iterate until the end.  When num_qubits==1, this loop does not run.\n",
    "        for j in range(1, num_qubits - k):\n",
    "            angle = 2 * math.pi / (2 ** (j + 1))\n",
    "            qft_circ.cphaseshift(qubits[k + j], qubits[k], angle)\n",
    "    return qft_circ"
   ]
  },
  {
   "cell_type": "code",
   "execution_count": 28,
   "id": "f4a401c3-ad57-4311-815b-bb05d92ab1aa",
   "metadata": {},
   "outputs": [],
   "source": [
    "num_qubits = 3\n",
    "device = LocalSimulator()\n",
    "qubits = range(num_qubits)"
   ]
  },
  {
   "cell_type": "code",
   "execution_count": 29,
   "id": "07e48e9b-9112-4b67-ae68-0d3ad6047ea2",
   "metadata": {},
   "outputs": [],
   "source": [
    "qft_circ = Circuit().h(0).add_circuit(qft_no_swap(qubits))\n",
    "qft_circ.state_vector()\n",
    "qft_circ.probability();"
   ]
  },
  {
   "cell_type": "code",
   "execution_count": 30,
   "id": "b966f578-a4bc-4905-a23e-a6da224a350f",
   "metadata": {},
   "outputs": [
    {
     "name": "stdout",
     "output_type": "stream",
     "text": [
      "[[0, 2]]\n"
     ]
    }
   ],
   "source": [
    "# Classical post-processing to replace SWAP gates in the QFT\n",
    "def swap_classical_bitstrings(num_qubits):\n",
    "    qubits_to_swap = [[qubits[i], qubits[-i - 1]] for i in range(math.floor(num_qubits / 2))]\n",
    "    print(qubits_to_swap)\n",
    "\n",
    "    swapped_bitstring_keys = []\n",
    "    for pair in qubits_to_swap:\n",
    "        for i in range(2**num_qubits):\n",
    "            format_bitstring = \"{0:0\" + str(num_qubits) + \"b}\"\n",
    "            bitstring_key = format_bitstring.format(i)\n",
    "            tmp = bitstring_key[pair[1]]\n",
    "            tmp2 = bitstring_key[pair[0]]\n",
    "            swapped_bitstring = \"\".join(\n",
    "                tmp if idx == pair[0] else tmp2 if idx == pair[1] else val\n",
    "                for idx, val in enumerate(reversed(bitstring_key))\n",
    "            )\n",
    "            if swapped_bitstring not in swapped_bitstring_keys:\n",
    "                swapped_bitstring_keys.append(swapped_bitstring)\n",
    "\n",
    "    reindex = np.argsort(swapped_bitstring_keys)\n",
    "    return swapped_bitstring_keys, reindex\n",
    "\n",
    "\n",
    "swapped_bitstring_keys, reindex = swap_classical_bitstrings(num_qubits)"
   ]
  },
  {
   "cell_type": "code",
   "execution_count": 31,
   "id": "e8e61162-033e-433c-ab24-5ff43b7548ce",
   "metadata": {},
   "outputs": [
    {
     "data": {
      "image/png": "[encoded data removed]",
      "text/plain": [
       "<Figure size 640x480 with 1 Axes>"
      ]
     },
     "metadata": {},
     "output_type": "display_data"
    }
   ],
   "source": [
    "import matplotlib.pyplot as plt\n",
    "\n",
    "%matplotlib inline\n",
    "\n",
    "task = device.run(qft_circ, shots=0)\n",
    "result = task.result()\n",
    "probs_values = result.values[1]\n",
    "\n",
    "plt.bar(swapped_bitstring_keys, probs_values[reindex])\n",
    "plt.xlabel(\"bitstrings\")\n",
    "plt.xticks(range(2**num_qubits), swapped_bitstring_keys, rotation=\"vertical\")\n",
    "plt.ylabel(\"probability\");"
   ]
  },
  {
   "cell_type": "markdown",
   "id": "ca73ee26-34d9-4e67-8633-cbae2ac5af01",
   "metadata": {},
   "source": [
    "# Summary\n",
    "\n",
    "This notebook introduced the native gate set on IonQ consisting of GPI, GPi2, and arbitrary angle MS gates. It showed how common single-qubit gates can be decomposed into this gate set by using the Euler decomposition. Additionally, the decomposition methods were implemented in a subclass of the Braket `Circuit` class help with writing native circuits. \n",
    "\n",
    "For two-qubit gates, the notebook provided examples of mapping a CNot or a controlled-root of a Pauli gate into MS gates plus single-qubit rotations. This enabled the quantum Fourier transform to be implemented using the IonQ native gate set.  \n",
    "\n",
    "By leveraging the capabilities of the native gate set and the provided decomposition methods, users can effectively utilize the IonQ platform for more advanced quantum algorithms. "
   ]
  }
 ],
 "metadata": {
  "kernelspec": {
   "display_name": "Python 3 (ipykernel)",
   "language": "python",
   "name": "python3"
  },
  "language_info": {
   "codemirror_mode": {
    "name": "ipython",
    "version": 3
   },
   "file_extension": ".py",
   "mimetype": "text/x-python",
   "name": "python",
   "nbconvert_exporter": "python",
   "pygments_lexer": "ipython3",
   "version": "3.9.5"
  }
 },
 "nbformat": 4,
 "nbformat_minor": 5
}
