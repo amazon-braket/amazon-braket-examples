{
 "cells": [
  {
   "cell_type": "markdown",
   "metadata": {},
   "source": [
    "# Using the Amazon Braket tensor network simulator TN1"
   ]
  },
  {
   "cell_type": "code",
   "execution_count": 1,
   "metadata": {
    "ExecuteTime": {
     "end_time": "2023-08-29T21:54:12.333525Z",
     "start_time": "2023-08-29T21:54:12.225874Z"
    }
   },
   "outputs": [],
   "source": [
    "# Use Braket SDK Cost Tracking to estimate the cost to run this example\n",
    "from braket.tracking import Tracker\n",
    "t = Tracker().start()"
   ]
  },
  {
   "cell_type": "markdown",
   "metadata": {},
   "source": [
    "This tutorial serves as an in-depth introduction to TN1, the Amazon Braket tensor network simulator. TN1 was previously introduced in [Running quantum circuits on simulators notebook](../getting_started/1_Running_quantum_circuits_on_simulators/1_Running_quantum_circuits_on_simulators.ipynb). This tutorial explains what makes TN1 different from SV1, Braket's state vector simulator, and it discusses which use cases are well suited for tensor network simulations. We examine what circuit properties affect TN1's performance and how TN1 can be used to simulate some types circuits for many more qubits than SV1 can handle."
   ]
  },
  {
   "cell_type": "markdown",
   "metadata": {},
   "source": [
    "## How TN1 Works\n",
    "\n",
    "A tensor network simulator models the execution of circuits on a quantum computer by representing each gate in the circuit as a *tensor*. Tensors generalize the concept of vectors and matrices to higher dimensions. The gates in the network form a graph. The simulator works by finding an efficient way to multiply all the different tensors on the graph during the _rehearsal_ stage and then, after a suitable multiplication sequence or _path_ is found, it performs these multiplications in the _contraction_ stage. For more information about TN1 and how it works, see the [TN1 docs](https://docs.aws.amazon.com/braket/latest/developerguide/braket-devices.html#braket-simulator-tn1).\n",
    "\n",
    "## How is this different from SV1, the state vector simulator?\n",
    "\n",
    "SV1 works differently -- SV1 simulates all the evolution of all amplitudes as gates are applied. This means that SV1 cannot simulate large numbers of qubits for any circuit, because the memory required becomes infeasible. However, this restriction does not necessarily apply to TN1. Because TN1 works by contracting gates, it is able to work only with worldlines through the circuit which are relevant to the final outcome. However, TN1 can be slower than SV1 for circuits with complex geometry. In circuits which include multi-qubit gates, gates with long range, or circuits with few qubits (fewer than 28), SV1 is often the better choice. To use TN1 effectively it is important to understand that circuit geometry can pose more of a barrier than simple qubit number, as we will see below."
   ]
  },
  {
   "cell_type": "markdown",
   "metadata": {},
   "source": [
    "## Can my circuit be simulated on TN1?\n",
    "\n",
    "While SV1 will simulate every circuit within the service limits (i.e., smaller or equal than 34 qubits), TN1 can only decide if a circuit can be contracted after it has the full information from the rehearsal stage. In the best case, this enables you to simulate circuits of much larger size than SV1 (up to 50 qubits) but, on the flip side, that means that in some cases you might find that TN1 will terminate the simulation after the rehearsal if it finds that the projected contraction time exceeds its runtime limit. In this case the `failureReason` for the quantum task will be `Predicted runtime based on best contraction path found exceeds TN1 limit.` The rehearsal stage of TN1 is limited to 10 minutes, but in most cases you will find that TN1 will arrive at a decision much faster. \n",
    "    \n",
    "As we will see below, if this situation occurs for a quantum task for which you have requested a large number of shots, the quantum task may be successful if you lower the shot count. It can also occur, albeit rarely, that the time to find a single contraction path candidate exceeds TN1's internal rehearsal runtime limit -- circuits for which this occurs are extremely unlikely to be contractable in reasonable time. In this case, the `failureReason` for the quantum task will be `No viable contraction path found.`\n",
    "    \n",
    "To learn more about why these two stages are present and what the simulator does in each, you can read the TN1 documentation [here](https://docs.aws.amazon.com/braket/latest/developerguide/braket-devices.html#braket-simulator-tn1)."
   ]
  },
  {
   "cell_type": "markdown",
   "metadata": {},
   "source": [
    "<div class=\"alert alert-block alert-info\">\n",
    "<b>Note:</b> In the worst case, the TN1 runtime can scale linearly with the number of shots requested. It is strongly recommended to test your circuit or circuit class with a small number of shots first.\n",
    "</div>"
   ]
  },
  {
   "cell_type": "code",
   "execution_count": 2,
   "metadata": {
    "scrolled": false,
    "ExecuteTime": {
     "end_time": "2023-08-29T21:54:15.038574Z",
     "start_time": "2023-08-29T21:54:12.272012Z"
    }
   },
   "outputs": [],
   "source": [
    "# general imports\n",
    "import numpy as np\n",
    "import math\n",
    "\n",
    "import boto3\n",
    "# AWS imports: Import Braket SDK modules\n",
    "from braket.circuits import Circuit, circuit, Gate, Instruction\n",
    "from braket.aws import AwsDevice\n",
    "\n",
    "tn_device = AwsDevice('arn:aws:braket:::device/quantum-simulator/amazon/tn1')\n",
    "sv_device = AwsDevice('arn:aws:braket:::device/quantum-simulator/amazon/sv1')"
   ]
  },
  {
   "cell_type": "markdown",
   "metadata": {},
   "source": [
    "## Two simple examples: The GHZ state and Quantum Fourier Transform\n",
    "\n",
    "We already presented the GHZ example circuit in the [Running quantum circuits on simulators notebook](../getting_started/1_Running_quantum_circuits_on_simulators/1_Running_quantum_circuits_on_simulators.ipynb). Here, we'll compare the performance of SV1 and TN1 for this relatively simple circuit. The GHZ state is simple to prepare:"
   ]
  },
  {
   "cell_type": "code",
   "execution_count": 3,
   "metadata": {
    "ExecuteTime": {
     "end_time": "2023-08-29T21:54:15.044799Z",
     "start_time": "2023-08-29T21:54:15.040249Z"
    }
   },
   "outputs": [],
   "source": [
    "def ghz_circuit(n_qubits: int) -> Circuit:\n",
    "    \"\"\"\n",
    "    Function to return simple GHZ circuit ansatz. Assumes all qubits in range(0, n_qubits-1)\n",
    "    are entangled.\n",
    "\n",
    "    :param int n_qubits: number of qubits\n",
    "    :return: Constructed GHZ circuit\n",
    "    :rtype: Circuit\n",
    "    \"\"\"\n",
    "\n",
    "    circuit = Circuit()                          # instantiate circuit object\n",
    "    circuit.h(0)                                 # add Hadamard gate on first qubit\n",
    "\n",
    "    for ii in range(0, n_qubits-1):\n",
    "        circuit.cnot(control=ii, target=ii+1)    # apply series of CNOT gates\n",
    "    return circuit"
   ]
  },
  {
   "cell_type": "markdown",
   "metadata": {},
   "source": [
    "We will simulate the measurement counts for this circuit on SV1 and TN1. SV1 can only simulate up to 34 qubits, but TN1 can work with substantially more in this case because of the circuit's geometry. In this case we will not run up to 34 qubits on SV1, because the runtime on that simulator can become quite long. 30 qubits is enough to see that TN1 can equal or outperform SV1 for circuits like GHZ, which has a simple, compact nearest-neighbor circuit geometry. Because the GHZ state is a \"cat state\", with only two possible measurement outcomes (all up or all down), it is easy for TN1 to explore all possible output bitstrings."
   ]
  },
  {
   "cell_type": "code",
   "execution_count": 4,
   "metadata": {
    "scrolled": false,
    "ExecuteTime": {
     "end_time": "2023-08-29T21:57:31.935938Z",
     "start_time": "2023-08-29T21:54:15.062606Z"
    }
   },
   "outputs": [
    {
     "name": "stdout",
     "output_type": "stream",
     "text": [
      "GHZ circuit:\n",
      "T   : |0|1|2|3|4|5|6|7|8|9|10|11|12|13|14|15|16|17|18|19|\n",
      "                                                         \n",
      "q0  : -H-C-----------------------------------------------\n",
      "         |                                               \n",
      "q1  : ---X-C---------------------------------------------\n",
      "           |                                             \n",
      "q2  : -----X-C-------------------------------------------\n",
      "             |                                           \n",
      "q3  : -------X-C-----------------------------------------\n",
      "               |                                         \n",
      "q4  : ---------X-C---------------------------------------\n",
      "                 |                                       \n",
      "q5  : -----------X-C-------------------------------------\n",
      "                   |                                     \n",
      "q6  : -------------X-C-----------------------------------\n",
      "                     |                                   \n",
      "q7  : ---------------X-C---------------------------------\n",
      "                       |                                 \n",
      "q8  : -----------------X-C-------------------------------\n",
      "                         |                               \n",
      "q9  : -------------------X-C-----------------------------\n",
      "                           |                             \n",
      "q10 : ---------------------X--C--------------------------\n",
      "                              |                          \n",
      "q11 : ------------------------X--C-----------------------\n",
      "                                 |                       \n",
      "q12 : ---------------------------X--C--------------------\n",
      "                                    |                    \n",
      "q13 : ------------------------------X--C-----------------\n",
      "                                       |                 \n",
      "q14 : ---------------------------------X--C--------------\n",
      "                                          |              \n",
      "q15 : ------------------------------------X--C-----------\n",
      "                                             |           \n",
      "q16 : ---------------------------------------X--C--------\n",
      "                                                |        \n",
      "q17 : ------------------------------------------X--C-----\n",
      "                                                   |     \n",
      "q18 : ---------------------------------------------X--C--\n",
      "                                                      |  \n",
      "q19 : ------------------------------------------------X--\n",
      "\n",
      "T   : |0|1|2|3|4|5|6|7|8|9|10|11|12|13|14|15|16|17|18|19|\n",
      "20-qubit TN1 task COMPLETED.\n",
      "Tensor network simulator:\n",
      "This quantum task ran 100 shots and the total runtime was 1670 ms\n",
      "Measurement results: Counter({'00000000000000000000': 51, '11111111111111111111': 49})\n",
      "\n",
      "20-qubit SV1 task COMPLETED.\n",
      "State vector simulator:\n",
      "This quantum task ran 100 shots and the total runtime was 18 ms\n",
      "Measurement results: Counter({'11111111111111111111': 54, '00000000000000000000': 46})\n",
      "GHZ circuit:\n",
      "T   : |0|1|2|3|4|5|6|7|8|9|10|11|12|13|14|15|16|17|18|19|20|21|22|23|24|\n",
      "                                                                        \n",
      "q0  : -H-C--------------------------------------------------------------\n",
      "         |                                                              \n",
      "q1  : ---X-C------------------------------------------------------------\n",
      "           |                                                            \n",
      "q2  : -----X-C----------------------------------------------------------\n",
      "             |                                                          \n",
      "q3  : -------X-C--------------------------------------------------------\n",
      "               |                                                        \n",
      "q4  : ---------X-C------------------------------------------------------\n",
      "                 |                                                      \n",
      "q5  : -----------X-C----------------------------------------------------\n",
      "                   |                                                    \n",
      "q6  : -------------X-C--------------------------------------------------\n",
      "                     |                                                  \n",
      "q7  : ---------------X-C------------------------------------------------\n",
      "                       |                                                \n",
      "q8  : -----------------X-C----------------------------------------------\n",
      "                         |                                              \n",
      "q9  : -------------------X-C--------------------------------------------\n",
      "                           |                                            \n",
      "q10 : ---------------------X--C-----------------------------------------\n",
      "                              |                                         \n",
      "q11 : ------------------------X--C--------------------------------------\n",
      "                                 |                                      \n",
      "q12 : ---------------------------X--C-----------------------------------\n",
      "                                    |                                   \n",
      "q13 : ------------------------------X--C--------------------------------\n",
      "                                       |                                \n",
      "q14 : ---------------------------------X--C-----------------------------\n",
      "                                          |                             \n",
      "q15 : ------------------------------------X--C--------------------------\n",
      "                                             |                          \n",
      "q16 : ---------------------------------------X--C-----------------------\n",
      "                                                |                       \n",
      "q17 : ------------------------------------------X--C--------------------\n",
      "                                                   |                    \n",
      "q18 : ---------------------------------------------X--C-----------------\n",
      "                                                      |                 \n",
      "q19 : ------------------------------------------------X--C--------------\n",
      "                                                         |              \n",
      "q20 : ---------------------------------------------------X--C-----------\n",
      "                                                            |           \n",
      "q21 : ------------------------------------------------------X--C--------\n",
      "                                                               |        \n",
      "q22 : ---------------------------------------------------------X--C-----\n",
      "                                                                  |     \n",
      "q23 : ------------------------------------------------------------X--C--\n",
      "                                                                     |  \n",
      "q24 : ---------------------------------------------------------------X--\n",
      "\n",
      "T   : |0|1|2|3|4|5|6|7|8|9|10|11|12|13|14|15|16|17|18|19|20|21|22|23|24|\n",
      "25-qubit TN1 task COMPLETED.\n",
      "Tensor network simulator:\n",
      "This quantum task ran 100 shots and the total runtime was 3088 ms\n",
      "Measurement results: Counter({'1111111111111111111111111': 55, '0000000000000000000000000': 45})\n",
      "\n",
      "25-qubit SV1 task COMPLETED.\n",
      "State vector simulator:\n",
      "This quantum task ran 100 shots and the total runtime was 600 ms\n",
      "Measurement results: Counter({'0000000000000000000000000': 57, '1111111111111111111111111': 43})\n",
      "GHZ circuit:\n",
      "T   : |0|1|2|3|4|5|6|7|8|9|10|11|12|13|14|15|16|17|18|19|20|21|22|23|24|25|26|27|28|29|\n",
      "                                                                                       \n",
      "q0  : -H-C-----------------------------------------------------------------------------\n",
      "         |                                                                             \n",
      "q1  : ---X-C---------------------------------------------------------------------------\n",
      "           |                                                                           \n",
      "q2  : -----X-C-------------------------------------------------------------------------\n",
      "             |                                                                         \n",
      "q3  : -------X-C-----------------------------------------------------------------------\n",
      "               |                                                                       \n",
      "q4  : ---------X-C---------------------------------------------------------------------\n",
      "                 |                                                                     \n",
      "q5  : -----------X-C-------------------------------------------------------------------\n",
      "                   |                                                                   \n",
      "q6  : -------------X-C-----------------------------------------------------------------\n",
      "                     |                                                                 \n",
      "q7  : ---------------X-C---------------------------------------------------------------\n",
      "                       |                                                               \n",
      "q8  : -----------------X-C-------------------------------------------------------------\n",
      "                         |                                                             \n",
      "q9  : -------------------X-C-----------------------------------------------------------\n",
      "                           |                                                           \n",
      "q10 : ---------------------X--C--------------------------------------------------------\n",
      "                              |                                                        \n",
      "q11 : ------------------------X--C-----------------------------------------------------\n",
      "                                 |                                                     \n",
      "q12 : ---------------------------X--C--------------------------------------------------\n",
      "                                    |                                                  \n",
      "q13 : ------------------------------X--C-----------------------------------------------\n",
      "                                       |                                               \n",
      "q14 : ---------------------------------X--C--------------------------------------------\n",
      "                                          |                                            \n",
      "q15 : ------------------------------------X--C-----------------------------------------\n",
      "                                             |                                         \n",
      "q16 : ---------------------------------------X--C--------------------------------------\n",
      "                                                |                                      \n",
      "q17 : ------------------------------------------X--C-----------------------------------\n",
      "                                                   |                                   \n",
      "q18 : ---------------------------------------------X--C--------------------------------\n",
      "                                                      |                                \n",
      "q19 : ------------------------------------------------X--C-----------------------------\n",
      "                                                         |                             \n",
      "q20 : ---------------------------------------------------X--C--------------------------\n",
      "                                                            |                          \n",
      "q21 : ------------------------------------------------------X--C-----------------------\n",
      "                                                               |                       \n",
      "q22 : ---------------------------------------------------------X--C--------------------\n",
      "                                                                  |                    \n",
      "q23 : ------------------------------------------------------------X--C-----------------\n",
      "                                                                     |                 \n",
      "q24 : ---------------------------------------------------------------X--C--------------\n",
      "                                                                        |              \n",
      "q25 : ------------------------------------------------------------------X--C-----------\n",
      "                                                                           |           \n",
      "q26 : ---------------------------------------------------------------------X--C--------\n",
      "                                                                              |        \n",
      "q27 : ------------------------------------------------------------------------X--C-----\n",
      "                                                                                 |     \n",
      "q28 : ---------------------------------------------------------------------------X--C--\n",
      "                                                                                    |  \n",
      "q29 : ------------------------------------------------------------------------------X--\n",
      "\n",
      "T   : |0|1|2|3|4|5|6|7|8|9|10|11|12|13|14|15|16|17|18|19|20|21|22|23|24|25|26|27|28|29|\n",
      "30-qubit TN1 task COMPLETED.\n",
      "Tensor network simulator:\n",
      "This quantum task ran 100 shots and the total runtime was 19330 ms\n",
      "Measurement results: Counter({'111111111111111111111111111111': 52, '000000000000000000000000000000': 48})\n",
      "\n",
      "30-qubit SV1 task COMPLETED.\n",
      "State vector simulator:\n",
      "This quantum task ran 100 shots and the total runtime was 15609 ms\n",
      "Measurement results: Counter({'111111111111111111111111111111': 53, '000000000000000000000000000000': 47})\n",
      "35-qubit TN1 task COMPLETED.\n",
      "Tensor network simulator:\n",
      "This quantum task ran 100 shots and the total runtime was 18789 ms\n",
      "Measurement results: Counter({'11111111111111111111111111111111111': 54, '00000000000000000000000000000000000': 46})\n",
      "40-qubit TN1 task COMPLETED.\n",
      "Tensor network simulator:\n",
      "This quantum task ran 100 shots and the total runtime was 3267 ms\n",
      "Measurement results: Counter({'0000000000000000000000000000000000000000': 51, '1111111111111111111111111111111111111111': 49})\n",
      "45-qubit TN1 task COMPLETED.\n",
      "Tensor network simulator:\n",
      "This quantum task ran 100 shots and the total runtime was 19083 ms\n",
      "Measurement results: Counter({'111111111111111111111111111111111111111111111': 51, '000000000000000000000000000000000000000000000': 49})\n",
      "50-qubit TN1 task COMPLETED.\n",
      "Tensor network simulator:\n",
      "This quantum task ran 100 shots and the total runtime was 3803 ms\n",
      "Measurement results: Counter({'00000000000000000000000000000000000000000000000000': 50, '11111111111111111111111111111111111111111111111111': 50})\n"
     ]
    }
   ],
   "source": [
    "qubit_range = range(20, 31, 5)\n",
    "tn_qubit_range = range(35, 51, 5)\n",
    "n_shots     = 100\n",
    "ghz_circs   = {}\n",
    "sv_tasks    = {}\n",
    "tn_tasks    = {}\n",
    "sv_results  = {}\n",
    "tn_results  = {}\n",
    "for num_qubits in qubit_range:\n",
    "    ghz = ghz_circuit(num_qubits)\n",
    "    sv_tasks[num_qubits] = sv_device.run(ghz, shots=n_shots)\n",
    "    tn_tasks[num_qubits] = tn_device.run(ghz, shots=n_shots)\n",
    "    ghz_circs[num_qubits] = ghz\n",
    "\n",
    "# Run qubit numbers which only TN1 supports\n",
    "for num_qubits in tn_qubit_range:\n",
    "    ghz = ghz_circuit(num_qubits)\n",
    "    tn_tasks[num_qubits] = tn_device.run(ghz, shots=n_shots)\n",
    "    ghz_circs[num_qubits] = ghz\n",
    "\n",
    "for num_qubits in qubit_range:\n",
    "    tn_status = tn_tasks[num_qubits].state()\n",
    "    sv_status = sv_tasks[num_qubits].state()\n",
    "    while tn_status != 'COMPLETED':\n",
    "        tn_status = tn_tasks[num_qubits].state()\n",
    "    while sv_status != 'COMPLETED':\n",
    "        sv_status = sv_tasks[num_qubits].state()\n",
    "\n",
    "    tn_results[num_qubits] = tn_tasks[num_qubits].result()\n",
    "    sv_results[num_qubits] = sv_tasks[num_qubits].result()\n",
    "\n",
    "    # get the running time of the quantum tasks\n",
    "    sv_runtime = sv_results[num_qubits].additional_metadata.simulatorMetadata.executionDuration\n",
    "    tn_runtime = tn_results[num_qubits].additional_metadata.simulatorMetadata.executionDuration\n",
    "\n",
    "    # get the 'shots' parameter from metadata\n",
    "    tn_num_shots = tn_results[num_qubits].task_metadata.shots\n",
    "    sv_num_shots = sv_results[num_qubits].task_metadata.shots\n",
    "\n",
    "    # get the measurement counts\n",
    "    tn_counts = tn_results[num_qubits].measurement_counts\n",
    "    sv_counts = sv_results[num_qubits].measurement_counts\n",
    "    \n",
    "    print(\"GHZ circuit:\")\n",
    "    print(ghz_circs[num_qubits])\n",
    "    print('{}-qubit TN1 task {}.'.format(num_qubits,tn_status))\n",
    "    print('Tensor network simulator:')\n",
    "    print('This quantum task ran {} shots and the total runtime was {} ms'.format(tn_num_shots,tn_runtime))\n",
    "    print(\"Measurement results: {}\\n\".format(tn_counts))\n",
    "    print('{}-qubit SV1 task {}.'.format(num_qubits,sv_status))\n",
    "    print('State vector simulator:')\n",
    "    print('This quantum task ran {} shots and the total runtime was {} ms'.format(sv_num_shots,sv_runtime))\n",
    "    print(\"Measurement results: {}\\n\".format(sv_counts))\n",
    "\n",
    "for num_qubits in tn_qubit_range:\n",
    "    tn_status = tn_tasks[num_qubits].state()\n",
    "    while tn_status != 'COMPLETED':\n",
    "        tn_status = tn_tasks[num_qubits].state()\n",
    "\n",
    "    tn_results[num_qubits] = tn_tasks[num_qubits].result()\n",
    "\n",
    "    # get the running time of the quantum tasks\n",
    "    tn_runtime = tn_results[num_qubits].additional_metadata.simulatorMetadata.executionDuration\n",
    "\n",
    "    # get the 'shots' parameter from metadata\n",
    "    tn_num_shots = tn_results[num_qubits].task_metadata.shots\n",
    "\n",
    "    # get the measurement counts\n",
    "    tn_counts = tn_results[num_qubits].measurement_counts\n",
    "    \n",
    "    # we will not print the circuits here as they are quite large\n",
    "    print('{}-qubit TN1 task {}.'.format(num_qubits,tn_status))\n",
    "    print('Tensor network simulator:')\n",
    "    print('This quantum task ran {} shots and the total runtime was {} ms'.format(tn_num_shots,tn_runtime))\n",
    "    print(\"Measurement results: {}\\n\".format(tn_counts))"
   ]
  },
  {
   "cell_type": "markdown",
   "metadata": {},
   "source": [
    "There are many circuits which can be efficiently simulated by TN1 even up to very large qubit counts. Another example is the quantum Fourier transform (QFT) and its inverse, shown in [the QFT notebook](../advanced_circuits_algorithms/Quantum_Fourier_Transform/Quantum_Fourier_Transform.ipynb). TN1 is able to efficiently simulate the QFT on an input state of |00..00> because in this case it amounts to a simple rotation, even up to many qubits:"
   ]
  },
  {
   "cell_type": "code",
   "execution_count": 5,
   "metadata": {
    "ExecuteTime": {
     "end_time": "2023-08-29T21:57:31.936079Z",
     "start_time": "2023-08-29T21:57:31.917126Z"
    }
   },
   "outputs": [],
   "source": [
    "@circuit.subroutine(register=True)\n",
    "def qft(qubits):    \n",
    "    \"\"\"\n",
    "    Construct a circuit object corresponding to the Quantum Fourier Transform (QFT)\n",
    "    algorithm, applied to the argument qubits.  Does not use recursion to generate the QFT.\n",
    "    \n",
    "    Args:\n",
    "        qubits (int): The list of qubits on which to apply the QFT\n",
    "    \"\"\"\n",
    "    qftcirc = Circuit()\n",
    "\n",
    "    # get number of qubits\n",
    "    num_qubits = len(qubits)\n",
    "    \n",
    "    for k in range(num_qubits):\n",
    "        # First add a Hadamard gate\n",
    "        qftcirc.h(qubits[k])\n",
    "    \n",
    "        # Then apply the controlled rotations, with weights (angles) defined by the distance to the control qubit.\n",
    "        # Start on the qubit after qubit k, and iterate until the end.  When num_qubits==1, this loop does not run.\n",
    "        for j in range(1,num_qubits - k):\n",
    "            angle = 2*math.pi/(2**(j+1))\n",
    "            qftcirc.cphaseshift(qubits[k+j],qubits[k], angle)\n",
    "            \n",
    "    # Then add SWAP gates to reverse the order of the qubits:\n",
    "    for i in range(math.floor(num_qubits/2)):\n",
    "        qftcirc.swap(qubits[i], qubits[-i-1])\n",
    "        \n",
    "    return qftcirc"
   ]
  },
  {
   "cell_type": "code",
   "execution_count": 6,
   "metadata": {
    "scrolled": false,
    "ExecuteTime": {
     "end_time": "2023-08-29T21:58:24.654423Z",
     "start_time": "2023-08-29T21:57:31.957381Z"
    }
   },
   "outputs": [
    {
     "name": "stdout",
     "output_type": "stream",
     "text": [
      "20-qubit task COMPLETED.\n",
      "QFT:\n",
      "This quantum task ran 100 shots and the total runtime was 10269 ms\n",
      "Measurement results: Counter({'11010010111001011011': 1, '00100011100010111011': 1, '01111001110110111000': 1, '11011110001011011101': 1, '01100010011001110011': 1, '11111101110110001100': 1, '10000101110101010110': 1, '00100100000000000011': 1, '01100011010011110110': 1, '00110100111011001001': 1, '01000001101101010110': 1, '00100101001100100111': 1, '01100001011001001000': 1, '11001100110101110101': 1, '10000100011111101000': 1, '00011010001001000001': 1, '10111100010000101010': 1, '10011010111000001011': 1, '01110111011001110000': 1, '10101010011100000100': 1, '11000010100000100101': 1, '10111101111111110000': 1, '00000110110001111010': 1, '11101000101010111110': 1, '11101110100000011110': 1, '10110011010010000100': 1, '10100110010011100010': 1, '10000110100111001010': 1, '10110010010000010110': 1, '01001100110100011010': 1, '01001111110010010010': 1, '10001010110000111100': 1, '11001011110111101110': 1, '10011001010011110000': 1, '01001001001001100000': 1, '10000110101100000011': 1, '01111101111100011000': 1, '10111001001110101100': 1, '00010100101000101100': 1, '10101000001001110111': 1, '10101110100001101100': 1, '11111101111110000101': 1, '00111001101010101100': 1, '00000000100000001110': 1, '11111010110011101010': 1, '11100011111110011011': 1, '10011001011100111111': 1, '00010110111010110011': 1, '00111100101000001100': 1, '11011001000000100111': 1, '00000110101001110100': 1, '11010001000001111111': 1, '10101011111010111011': 1, '10100011100011000100': 1, '00001010000011100000': 1, '00101101000101111101': 1, '11011001110100100110': 1, '00011001111010001011': 1, '01111011101000011000': 1, '01110101111100011000': 1, '11011010111011010101': 1, '10011101101001001101': 1, '10110010001100000001': 1, '11011000000100000010': 1, '10101011101010101111': 1, '01000111000110010000': 1, '01011111101111110000': 1, '00011111000000101010': 1, '11010101010100010101': 1, '10101001000111011000': 1, '01011110001111011100': 1, '10111011001010111001': 1, '11100111100001011111': 1, '00110111000001110111': 1, '00110100000111010110': 1, '10111011101110010100': 1, '01010101110100101101': 1, '11100000110001110000': 1, '01110000111000011111': 1, '11011101000101100101': 1, '01000110111011001101': 1, '01010101100111110101': 1, '01011101111110011000': 1, '11101010100100110011': 1, '00100000010010101000': 1, '10011010110110000100': 1, '01011000100010001001': 1, '11001010001100000111': 1, '00010110010011110010': 1, '00011111001110100011': 1, '10101000101000101001': 1, '10100110111001010010': 1, '10010110101010101010': 1, '01011110111100111110': 1, '01001010011010101011': 1, '00110010001101111111': 1, '10010000111111111001': 1, '00101110110010100001': 1, '00101000111100010111': 1, '11110001011101010010': 1})\n",
      "30-qubit task COMPLETED.\n",
      "QFT:\n",
      "This quantum task ran 100 shots and the total runtime was 7887 ms\n",
      "Measurement results: Counter({'111001110010010011000010011001': 1, '011111010110101000100100101101': 1, '010001100001101111010011101001': 1, '110010100101100100111110000000': 1, '110011111000001101001000011101': 1, '110000100000000010011010111101': 1, '011001110111010101111011100110': 1, '100011110100110000010101011110': 1, '111111101100100011110001110011': 1, '010001111110010001100011011111': 1, '000001110011010101000010101101': 1, '000001011001100000100011110000': 1, '000011111110011010100011000000': 1, '101100001000100110010011001010': 1, '000110101101000111011001101000': 1, '110111110000111000101110100000': 1, '100100100101011100110101100101': 1, '001011011001000110011100110000': 1, '001110011010010111000011011110': 1, '001111101101010011011000001001': 1, '101000011101000000000101110100': 1, '011110110100011100100010011010': 1, '110010100001001001011010110011': 1, '101110001011110001111101110110': 1, '000100011111010000100010000011': 1, '010111100011101010011110100000': 1, '001101000111011001100100010000': 1, '010110001000101010100011011001': 1, '001011111010110101111111100001': 1, '110001111001000101111111000011': 1, '000001000111010111011111000000': 1, '101011000111111000000011100000': 1, '101100110111110011110011100101': 1, '110111011111000010011101101101': 1, '011101100100000110111110001001': 1, '011110000111110100000101101010': 1, '011001001100111111100110011100': 1, '000101100111111110001010000101': 1, '000111110011000100101001101000': 1, '011100111110111100111110000010': 1, '011101101100111101101110000111': 1, '011111011111001101100101001000': 1, '000101110011110101111111100101': 1, '101100110111010001111101000110': 1, '100101100000101011010011111010': 1, '011100110100011111100001010100': 1, '100100010100100111101101011010': 1, '110001001011111001110110010010': 1, '111000101111001000101111011001': 1, '100111101010100100001110001001': 1, '110010100100011000011100010010': 1, '111101001100001110011001011001': 1, '100100101110010111110000011010': 1, '111110000101001100011101001101': 1, '111001110001001111001000000001': 1, '100010110101100100111111011010': 1, '110101101110011010011000111111': 1, '010110010101111001010101100101': 1, '000110001111001100111001010010': 1, '010001110010011111010010011111': 1, '101100000111101011100100001011': 1, '001101100001000100110001111000': 1, '001001101110010010011011100010': 1, '000010011000001101010101111111': 1, '101011111010000110000111001011': 1, '101110101110101000010000101010': 1, '000111010111000111111101100010': 1, '100111110010110010000110011010': 1, '001100101001000100000000010010': 1, '100101010110010011101010010000': 1, '011001001000110001101111000100': 1, '101000000111010010111000110001': 1, '000001010100011100111010100111': 1, '101100101110100100100000111100': 1, '100000101101000011101000100111': 1, '110110100111111000111100011010': 1, '100111001110011011101110010110': 1, '000101001110100000101000000010': 1, '001111000110001000101110010101': 1, '111010101011000110100111101010': 1, '000111001110110011111110100011': 1, '111001101100010101110011111010': 1, '000111101110000100101000101100': 1, '111110111011110101111100101011': 1, '011111110001111100001101100101': 1, '011100111101101010001101001000': 1, '111010011101100110010111000100': 1, '110111101101111000110000000101': 1, '010011001011011100101010111101': 1, '000101111101100001010100100110': 1, '111000110001010010010100010010': 1, '110011001010101001101000000110': 1, '110110101001101011001110011000': 1, '010111111011100100111011000000': 1, '101110011110110110011001000011': 1, '011001010100000101111100100000': 1, '111010101001000011100010010000': 1, '010000101101101010011001111100': 1, '100100111011101100001110100011': 1, '110100011010010000000011000101': 1})\n",
      "40-qubit task COMPLETED.\n",
      "QFT:\n",
      "This quantum task ran 100 shots and the total runtime was 16919 ms\n",
      "Measurement results: Counter({'0000001001000100111110000101001011000010': 1, '0010111100101100010100010101100011011000': 1, '0111010100000001111001010001010100111101': 1, '1000111110011011111110110010001001010011': 1, '0001110101001000110101100010101010001111': 1, '1110000000101011001100100001001011101000': 1, '1101010111010101101000111000110000010001': 1, '0000111001011111001001001000010110101000': 1, '1100000110000010101011011000111100111000': 1, '0010100110001111101100011100100110010000': 1, '0001001100010100010101101110101001011101': 1, '0100101010111111000101111101010001101110': 1, '1010001100100110011101110000001100010000': 1, '1101101101000011010111011011010011001010': 1, '0001101101100100110100010010011011101111': 1, '0101110011111100111011010011001010000001': 1, '1111101001101010110110010101001000011101': 1, '0111110001011110010011110100100100001101': 1, '1011000110010111110111010111011000010111': 1, '1101001011000100110101111001110100110000': 1, '1011011001111111101101010111100101000001': 1, '1100011111110000101010110110100111010101': 1, '0101100111110001110010100101000001011011': 1, '1101011011111010111100111001000000110111': 1, '0000110000001110010111001010110111011001': 1, '1001001011111110100111111111001110100011': 1, '0001010010011111010010001101000000001100': 1, '1111001001011011001100000010100001010011': 1, '1000011000011001010111100100010111010110': 1, '0010100000011000100000001010100111000110': 1, '1010000111100011111010101100110110101100': 1, '0010011001011001001010010101101001111000': 1, '0001111000001000010011001000011111100111': 1, '1111000010101101000001011011001110001001': 1, '0011010000010100110001000000100011111110': 1, '1110011111110110100111110100110101110000': 1, '0111011001000100010111100000011011001101': 1, '0100100001000110100110110111000101010001': 1, '1111010100011110000101101110010001011001': 1, '1100100110110110100111001011000011000110': 1, '1011010110111110100100100000101110111011': 1, '0010101011010010101001000111011001000100': 1, '0101011100001001010010000111001111101111': 1, '1110011111000000111101011010111011111010': 1, '1111110011001101011101010001001110010100': 1, '1111101010101011101000111111111100001100': 1, '1010101101000001101001000001000110010100': 1, '0101011000010000101110000100000111010000': 1, '1011000011101110100110111001111100001010': 1, '0010010110010010110111000101110000110110': 1, '0000101010000100101101000001101000100010': 1, '1011001100001101101010011011001101010111': 1, '1111001000110111110011010101011000111011': 1, '1101110011110100100100010110101100111000': 1, '1111010001111011011010010010010011110110': 1, '1011101011011010010100100001101011010111': 1, '0011010000010110110101101101010011111100': 1, '0011001111011111010011000011111000111101': 1, '0100101011000000111011101111000010000011': 1, '0110101001111100101111110011000111100110': 1, '1011110101111000011101000011111000111001': 1, '0001000010001000110101101100010111000101': 1, '0111010100011001000001011111101001110000': 1, '1100010001001110010011000001011000011010': 1, '1011110111111101010110111101111010111110': 1, '1001000101010011000000011100000011101010': 1, '0111101100100100011111110100001010101111': 1, '0110010011101101111010011001110010110101': 1, '0111110000111101001110110001001111011100': 1, '1001011101010101110101011111101110100011': 1, '0111110100011011111100011001001101010000': 1, '0100010100000101001101011101100101100100': 1, '1101110111110000101000100010010110010011': 1, '1101010000111010011000101111000010110001': 1, '0111110010011010110010001110101010011001': 1, '0110010110101000100001001101000101011110': 1, '0101000100011111100011010001111111100100': 1, '0011101010101100000110111011100010111101': 1, '1101000001000101011010110100111101010100': 1, '0110010001011010011111001101011010111000': 1, '0001010100110100100000001110001010111011': 1, '1001011110101110001101100111010111110001': 1, '0100010100111110110111110000000001111110': 1, '1100110011011011110100111101111011001010': 1, '1000011011011000001001010110101001011000': 1, '0010101110010011010101000001110011110101': 1, '1001001110101110101010011000010111011110': 1, '0011000011010001100100001000100111110010': 1, '0011100110010000101010010000011100100111': 1, '1000100011100111010101111100011001111000': 1, '0001110001101110000101011110101010011110': 1, '0111000010101100010000011101001001001010': 1, '0010001100111001000010110011100010000010': 1, '0111011110110111000101100110001111101011': 1, '1100110101111110010100000000111011101100': 1, '0100101100110111010000110010000000001100': 1, '1000001011011011010011001000000010000100': 1, '0111010111011001011010011001110100000010': 1, '0001011000101111010110001110100000101111': 1, '0110011010001100010101011000111010001100': 1})\n",
      "50-qubit task COMPLETED.\n",
      "QFT:\n",
      "This quantum task ran 100 shots and the total runtime was 39142 ms\n",
      "Measurement results: Counter({'00001000100111000111111000000000011100100100011011': 1, '01101100001000101100011011000011011001111011011100': 1, '00010010110111100010111111000001000011000110010101': 1, '10001101011011010100111001010011010101110001100110': 1, '11100001100001100010000010101000110110011110101100': 1, '11101010101011100011001001101000100101010110010101': 1, '00111010110001101010011001111110101111110010101011': 1, '01100111001001110111010111011100011011101111011111': 1, '01011111010000001000011111010111110100101000111010': 1, '11000111100100011011000010011100011001001000100011': 1, '01111001110111000001001000111010110010011001001100': 1, '10101101111111001001000100001000110111010101101100': 1, '00110111011000011101101011101011010011110010110111': 1, '11000001100001000110110000111111100110101011010100': 1, '00101001010100111001000000101110100100010011011111': 1, '01100000110110110111011111100011111111100001110000': 1, '10100110101111100101010000011111000011000110101110': 1, '00010110110010011100001011000010011100110011110100': 1, '10101011000101001001010101010011010101011001111111': 1, '01001111000110110001000101001000101010111001101111': 1, '10111101111111111101011101000110010001110111101111': 1, '01001011011011101101110010101001000100111000001111': 1, '00110011011000001011111010100010000010111111011100': 1, '01100111000111110001000100001110010100111100000111': 1, '00100010000111011100000001000101000001100001110100': 1, '11011100100001001000001011010011000011000010000010': 1, '11111001100101110110101111011101000101011000010110': 1, '11100010010101111101001011100100101100010011101101': 1, '10110010011000000011000011000101010100110000100011': 1, '11000101100011110101101011101100101000000110010000': 1, '10101010100001111110000110110101101101001110011111': 1, '11110111110000110100000000111010011010001111101101': 1, '00010000010010111110010010001001000000110000110111': 1, '00010000110111010010110001111111111100111001010101': 1, '11110110001000010110011011011110011110000000101000': 1, '10011010101101001010101110000101110101111011101011': 1, '01111001111010001111011000111010111011100011110010': 1, '10001111000111111001000010100110110000111000010000': 1, '01010110101111100000000101011000011110111010011101': 1, '00010000101101011010101100010100101110100000101100': 1, '10100001110100100010001100011100100010111000011110': 1, '00111001110100010100010101000010011111010101100001': 1, '10011100100001010101011000000011101101100001001000': 1, '01010101011010010011000101001011100001010001110000': 1, '01011010001010110010010011110000101110100010111010': 1, '10011110110010011011110111111111011111010011001101': 1, '00000101001001011100111000111100101001001011000001': 1, '01110010010000110000100111001100010000000101011100': 1, '00010101010110000100011101100001110010001111000010': 1, '01110111100001001010000010001100010010010110110110': 1, '11110101110011000101001110010100000001010011010101': 1, '01010110101100110000111111110110011100011000011100': 1, '10100011001001110101011010100001010101111110000010': 1, '01001101111101100010100001100100100111101101100010': 1, '11011111100011010111011100011101010011101111111101': 1, '10000010110001001110001101110000001000000010100101': 1, '01111001011101111101001100010110111110000101001000': 1, '00110101111001110010010111110000000010101001010101': 1, '00011100000010011110111100011001000110111000011100': 1, '11110001101111001011000010101000001100000011010100': 1, '01000101110001101101011111001100110011100110100000': 1, '11011011011000111110100010100111111001110110100011': 1, '00110101101010010010000101010000110110111011111001': 1, '01001111101001100000100101110111010101001000011000': 1, '01111111001101011000000111110101000011010001111010': 1, '00100111111101010011000011110001111110000110011101': 1, '11101001010101111101101001000111111100101101101100': 1, '10110010101001111100111110100101110000000000110000': 1, '01101110111101010000010011000101010001000011000100': 1, '10011001101101101101000111010101011010010011000000': 1, '01011000110111000100001011111011111101000000111100': 1, '11010100000011101001100010011010111111001111101010': 1, '11010010001110101001111101110001100000100010011011': 1, '01011110010011101010101110110111101010010110100100': 1, '00000011100101000111000110100110001111100010010110': 1, '01011010101011101010000010011000010011111001101110': 1, '10110110100111010001111110111001111000010110100001': 1, '11111110001011101101100100111100011011110011100001': 1, '10110111001000111111101100000111101100100001110111': 1, '11101100001101111011101100011100111101111000110100': 1, '01000111000110001010010100101110000100001000001111': 1, '01100101101101001110010111110100110010111000100111': 1, '00001111101100011110010010011010000010110101010011': 1, '10110001111100101001101101000010011010001010011001': 1, '10111111101010001101011000110101000001110001100101': 1, '01010010000101001110011011011011010100011111011100': 1, '11011001000011101000100001010110010100011100110001': 1, '10001100001011111101111110000110001101001011101001': 1, '11111101100010011111101011000010101010101011100110': 1, '00011100001010011011001110001111001000010011010110': 1, '11111101001001111001011010000111100000111110110011': 1, '01101110101100111111101100110111001001111100110110': 1, '01001011000101010100110110110110100010001100011001': 1, '10001110100011100001010111110111101100001110100110': 1, '11011110010100100011010110010011110011010001110111': 1, '11101110011001110110000110101111000011111100010110': 1, '10101001011000001010100001011101101010010011000001': 1, '10101001010001101011011010110100101100011011110010': 1, '11000111110010001110101010100100000111001100100100': 1, '00111110100010000011001000110101001011011101111110': 1})\n"
     ]
    }
   ],
   "source": [
    "qubit_range = range(20, 51, 10)\n",
    "tn_tasks    = {}\n",
    "tn_results  = {}\n",
    "for num_qubits in qubit_range:\n",
    "    # generate QFT circuit\n",
    "    qft_circ = qft(range(num_qubits))\n",
    "    tn_tasks[num_qubits] = tn_device.run(qft_circ, shots=n_shots)\n",
    "\n",
    "for num_qubits in qubit_range:\n",
    "    tn_status = tn_tasks[num_qubits].state()\n",
    "    while tn_status != 'COMPLETED':\n",
    "        tn_status = tn_tasks[num_qubits].state()\n",
    "\n",
    "    tn_results[num_qubits] = tn_tasks[num_qubits].result()\n",
    "    # get the running time of the quantum task\n",
    "    tn_runtime = tn_results[num_qubits].additional_metadata.simulatorMetadata.executionDuration\n",
    "\n",
    "    # get the measurement counts\n",
    "    tn_counts = tn_results[num_qubits].measurement_counts\n",
    "    \n",
    "\n",
    "    print('{}-qubit task {}.'.format(num_qubits,tn_status))\n",
    "    print('QFT:')\n",
    "    print('This quantum task ran {} shots and the total runtime was {} ms'.format(tn_num_shots,tn_runtime))\n",
    "    print(\"Measurement results: {}\\n\".format(tn_counts))"
   ]
  },
  {
   "cell_type": "markdown",
   "metadata": {},
   "source": [
    "## Circuit geometry is extremely important for TN1\n",
    "\n",
    "We'll now examine a type of circuit that is harder for the tensor network simulator: local Hayden-Preskill circuits. \"Local\" here means that multi-qubit gates only act on qubits which are nearest-neighbors. In this case, we will simulate a one-dimensional chain, and so any 2-qubit gates will act on qubits `q` and `q+1`. These circuits are generated in the following way:\n",
    "\n",
    "For each of `N` gates:\n",
    "- Choose a single qubit gate with 50% chance\n",
    "    - Choose between x-, y-, or z-rotations and Hadamard with equal likelihood.\n",
    "    - If a rotation is chosen, the angle is chosen from a uniform random distribution between `0` and `2*pi`.\n",
    "    - The qubit `q` to which to apply the gate is chosen randomly with equal likelihood from among all the available `N` qubits\n",
    "- Choose a CZ gate with 50% chance\n",
    "    - The qubit `q` to which to apply the control is chosen randomly with equal likelihood from among `N-1` qubits. The `Z` gate is applied to `q+1`.\n",
    "\n",
    "Circuits of this type are effective at generating entanglement among qubits. We can see this by scaling the number of gates applied quadratically with the number of qubits. This is enough gates to spread entanglement throughout all the qubits. We see that the circuit becomes more time consuming to simulate as we apply more gates."
   ]
  },
  {
   "cell_type": "code",
   "execution_count": 7,
   "metadata": {
    "ExecuteTime": {
     "end_time": "2023-08-29T21:58:24.671727Z",
     "start_time": "2023-08-29T21:58:24.660736Z"
    }
   },
   "outputs": [],
   "source": [
    "@circuit.subroutine(register=True)\n",
    "def local_Hayden_Preskill(num_qubits, num_gates):\n",
    "    hp_circ = Circuit()\n",
    "    \"\"\"Yields the circuit elements for a scrambling unitary.\n",
    "    Generates a circuit with numgates gates by laying down a\n",
    "    random gate at each time step.  Gates are chosen from single\n",
    "    qubit unitary rotations by a random angle, Hadamard, or a \n",
    "    controlled-Z between a qubit and its nearest neighbor (i.e.,\n",
    "    incremented by 1).\"\"\"\n",
    "    qubits = range(num_qubits)\n",
    "    for i in range(num_gates):\n",
    "        if np.random.random_sample() > 0.5:\n",
    "            \"\"\"CZ between a random qubit and the next qubit to its left.\"\"\"\n",
    "            a = np.random.choice(range(len(qubits)-1), 1, replace=True)[0]\n",
    "            hp_circ.cz(qubits[a],qubits[a+1])\n",
    "        else:\n",
    "            \"\"\"Random single qubit rotation.\"\"\"\n",
    "            angle = np.random.uniform(0, 2 * math.pi)\n",
    "            qubit = np.random.choice(qubits,1,replace=True)[0]\n",
    "            gate  = np.random.choice([Gate.Rx(angle), Gate.Ry(angle), Gate.Rz(angle), Gate.H()], 1, replace=True)[0]\n",
    "            hp_circ.add_instruction(Instruction(gate, qubit))\n",
    "    return hp_circ"
   ]
  },
  {
   "cell_type": "markdown",
   "metadata": {},
   "source": [
    "## Visualizing the Hayden-Preskill circuit\n",
    "\n",
    "Let's examine the geometry of some HP circuits of varying depths. We can see that the deeper the circuit, the more likely it is for (mediated) connections to exist among all qubits."
   ]
  },
  {
   "cell_type": "code",
   "execution_count": 8,
   "metadata": {
    "scrolled": false,
    "ExecuteTime": {
     "end_time": "2023-08-29T21:58:24.702643Z",
     "start_time": "2023-08-29T21:58:24.696509Z"
    }
   },
   "outputs": [
    {
     "name": "stdout",
     "output_type": "stream",
     "text": [
      "\n",
      "HAYDEN PRESKILL CIRCUIT WITH 5 GATES:\n",
      "T  : |   0    |   1    |   2    |3|\n",
      "                                   \n",
      "q1 : -Rz(0.44)---------------------\n",
      "                                   \n",
      "q2 : -C----------------------------\n",
      "      |                            \n",
      "q3 : -Z--------Ry(0.60)-Ry(0.74)-C-\n",
      "                                 | \n",
      "q4 : ----------------------------Z-\n",
      "\n",
      "T  : |   0    |   1    |   2    |3|\n",
      "\n",
      "HAYDEN PRESKILL CIRCUIT WITH 10 GATES:\n",
      "T  : |   0    |1|   2    |3|4|   5    |6|\n",
      "                                         \n",
      "q0 : ----------C-Rz(1.86)----------------\n",
      "               |                         \n",
      "q1 : -Rx(1.72)-Z-C-----------------------\n",
      "                 |                       \n",
      "q2 : ------------Z--------C-H----------C-\n",
      "                          |            | \n",
      "q3 : -C-------------------Z-C-Rz(3.70)-Z-\n",
      "      |                     |            \n",
      "q4 : -Z---------------------Z------------\n",
      "\n",
      "T  : |   0    |1|   2    |3|4|   5    |6|\n",
      "\n",
      "HAYDEN PRESKILL CIRCUIT WITH 15 GATES:\n",
      "T  : |0|1|2|   3    |4|   5    |   6    |\n",
      "                                         \n",
      "q0 : -C----------------C--------C--------\n",
      "      |                |        |        \n",
      "q1 : -Z-C------------C-Z--------Z--------\n",
      "        |            |                   \n",
      "q2 : ---Z-C-Rx(1.33)-Z-Ry(3.61)-Rz(2.73)-\n",
      "          |                              \n",
      "q3 : -C---Z-Rz(4.31)-C-------------------\n",
      "      |              |                   \n",
      "q4 : -Z-H------------Z-H--------Rz(5.25)-\n",
      "\n",
      "T  : |0|1|2|   3    |4|   5    |   6    |\n",
      "\n",
      "HAYDEN PRESKILL CIRCUIT WITH 20 GATES:\n",
      "T  : |   0    |   1    |   2    |3|4|5|   6    |   7    |   8    |9|10|11|12|13|   14   |15|\n",
      "                                                                                            \n",
      "q0 : ----------------------------C----------------------------------------------------------\n",
      "                                 |                                                          \n",
      "q1 : -H--------Ry(0.22)-Rz(5.02)-Z-C-C-Rx(5.17)-C-------------------C--C--------------------\n",
      "                                   | |          |                   |  |                    \n",
      "q2 : -Rx(0.17)---------------------Z-Z-C--------Z-----------------C-Z--Z--C-----------------\n",
      "                                       |                          |       |                 \n",
      "q3 : ----------------------------------Z--------Ry(0.16)-Ry(5.64)-Z-------Z--C--Ry(2.37)-C--\n",
      "                                                                             |           |  \n",
      "q4 : -Rz(1.49)---------------------------------------------------------------Z-----------Z--\n",
      "\n",
      "T  : |   0    |   1    |   2    |3|4|5|   6    |   7    |   8    |9|10|11|12|13|   14   |15|\n",
      "\n",
      "HAYDEN PRESKILL CIRCUIT WITH 25 GATES:\n",
      "T  : |   0    |   1    |   2    |   3    |4|5|6|7|   8    |9|   10   |11|12|\n",
      "                                                                            \n",
      "q0 : -Rz(0.66)-Rx(0.16)-Ry(0.10)-Rx(0.85)-----------------------------------\n",
      "                                                                            \n",
      "q1 : -Rz(1.28)-H-------------------------------------------C----------------\n",
      "                                                           |                \n",
      "q2 : ----------C--------H--------Ry(2.26)-C-------C--------Z-Rz(5.43)-------\n",
      "               |                          |       |                         \n",
      "q3 : -C--------Z--------H-----------------Z-H-C-C-Z--------C-C--------C--H--\n",
      "      |                                       | |          | |        |     \n",
      "q4 : -Z--------Rz(0.33)-----------------------Z-Z-Rz(2.78)-Z-Z--------Z--H--\n",
      "\n",
      "T  : |   0    |   1    |   2    |   3    |4|5|6|7|   8    |9|   10   |11|12|\n"
     ]
    }
   ],
   "source": [
    "num_qubits = 5\n",
    "for num_gates in range(5, 26, 5):\n",
    "    print('')\n",
    "    print(f\"HAYDEN PRESKILL CIRCUIT WITH {num_gates} GATES:\")\n",
    "    my_hp_circ = local_Hayden_Preskill(num_qubits, num_gates)\n",
    "    print(my_hp_circ)"
   ]
  },
  {
   "cell_type": "markdown",
   "metadata": {},
   "source": [
    "## Experimenting with Hayden-Preskill circuits\n",
    "\n",
    "We will examine runtimes for various depths of circuits at relatively low (for TN1) qubit counts. This is to ensure that our job finishes in a reasonable amount of time. We'll examine the measurement counts at the end of each simulation. Because these are random circuits, we should not expect to see the measurement counts highly concentrated in a few outcomes."
   ]
  },
  {
   "cell_type": "markdown",
   "metadata": {},
   "source": [
    "<div class=\"alert alert-block alert-warning\">\n",
    "<b>Caution:</b> Running the following cell will take about 2 minutes. Only uncomment it if you are happy to wait.\n",
    "</div>"
   ]
  },
  {
   "cell_type": "code",
   "execution_count": 9,
   "metadata": {
    "scrolled": false,
    "ExecuteTime": {
     "end_time": "2023-08-29T21:58:24.709311Z",
     "start_time": "2023-08-29T21:58:24.702265Z"
    }
   },
   "outputs": [],
   "source": [
    "#num_qubits  = 50\n",
    "#n_shots     = 10\n",
    "#gate_range  = range(500, 1001, 250)\n",
    "#tn_tasks    = {}\n",
    "#tn_results  = {}\n",
    "#for gates in gate_range:\n",
    "#    # construct HP circuit\n",
    "#    circ = Circuit()\n",
    "#    # ensure the HP circuit is runnable -- circuits must have depth <= 100\n",
    "#    while True:\n",
    "#        circ = local_Hayden_Preskill(num_qubits, gates)\n",
    "#        if circ.depth <= 100:\n",
    "#            break\n",
    "#    tn_tasks[circ.depth] = tn_device.run(circ, shots=n_shots)\n",
    "#\n",
    "#for depth in tn_tasks.keys():\n",
    "#    tn_status = tn_tasks[depth].state()\n",
    "#    while tn_status != 'COMPLETED':\n",
    "#        tn_status = tn_tasks[depth].state()\n",
    "#\n",
    "#    tn_results[depth] = tn_tasks[depth].result()\n",
    "#    # get the running time of the task\n",
    "#    tn_runtime = tn_results[depth].additional_metadata.simulatorMetadata.executionDuration\n",
    "#\n",
    "#    # get the measurement counts\n",
    "#    tn_counts = tn_results[depth].measurement_counts\n",
    "#    \n",
    "#\n",
    "#    print('{}-qubit {}-depth task {}.'.format(num_qubits,depth,tn_status))\n",
    "#    print('Hayden-Preskill circuit:')\n",
    "#    print('This task ran {} shots and the total runtime was {} ms'.format(n_shots,tn_runtime))\n",
    "#    print(\"Measurement results: {}\\n\".format(tn_counts))"
   ]
  },
  {
   "cell_type": "markdown",
   "metadata": {},
   "source": [
    "## The effect of shot counts on runtimes in TN1\n",
    "\n",
    "In order to generate samples from a quantum circuit, TN1 first partitions the qubits into groups, and then contracts each group in turn, generating a prediction for the current group's configuration based on the results of previously encountered groups. Because of this, in the worst case, the time to generate `n` shots may scale linearly with `n`. However, if the number of possible outcomes is small (as it is in the GHZ or QFT case), the runtime is effectively constant no matter the number of shots. We will examine this behavior below. It's therefore important to understand that your job may be rejected if the time to contract all the shots you have requested is too large. In this case your task will finish with a `FAILED` message, and the `failureReason` will be `Predicted runtime based on best contraction path found exceeds TN1 limit.` -- in this case you can attempt to retry the computation with fewer shots."
   ]
  },
  {
   "cell_type": "markdown",
   "metadata": {},
   "source": [
    "<div class=\"alert alert-block alert-info\">\n",
    "<b>Note:</b> Because the runtime of the quantum task can scale linearly with the number of shots in the worst case, it is <b>strongly advised</b> that users run their circuits with a small number of shots (20 or fewer) to explore typical runtimes for their circuit <b>before</b> running the circuit for many shots.\n",
    "</div>"
   ]
  },
  {
   "cell_type": "markdown",
   "metadata": {},
   "source": [
    "<div class=\"alert alert-block alert-warning\">\n",
    "<b>Caution:</b> Running the following cell will take about 3 minutes. Only uncomment it if you are happy to wait.\n",
    "</div>"
   ]
  },
  {
   "cell_type": "code",
   "execution_count": 10,
   "metadata": {
    "ExecuteTime": {
     "end_time": "2023-08-29T21:58:24.724780Z",
     "start_time": "2023-08-29T21:58:24.709746Z"
    }
   },
   "outputs": [],
   "source": [
    "#num_qubits = 30\n",
    "#ghz_circ = ghz_circuit(num_qubits)\n",
    "#qft_circ = qft(range(num_qubits))\n",
    "#hp_circ  = Circuit()\n",
    "#while True:\n",
    "#    hp_circ = local_Hayden_Preskill(num_qubits, 750)\n",
    "#    if circ.depth <= 100:\n",
    "#        break\n",
    "#ghz_tasks    = {}\n",
    "#ghz_results  = {}\n",
    "#qft_tasks    = {}\n",
    "#qft_results  = {}\n",
    "#hp_tasks     = {}\n",
    "#hp_results   = {}\n",
    "#for n_shots in [10, 40]:\n",
    "#    ghz_tasks[n_shots] = tn_device.run(ghz_circ, shots=n_shots)\n",
    "#    qft_tasks[n_shots] = tn_device.run(qft_circ, shots=n_shots)\n",
    "#    hp_tasks[n_shots]  = tn_device.run(hp_circ, shots=n_shots)\n",
    "#\n",
    "#for n_shots in [10, 40]:\n",
    "#    ghz_status = ghz_tasks[n_shots].state()\n",
    "#    while ghz_status != 'COMPLETED':\n",
    "#        ghz_status = ghz_tasks[n_shots].state()\n",
    "#\n",
    "#    qft_status = qft_tasks[n_shots].state()\n",
    "#    while qft_status != 'COMPLETED':\n",
    "#        qft_status = qft_tasks[n_shots].state()\n",
    "#\n",
    "#    hp_status  = hp_tasks[n_shots].state()\n",
    "#    while hp_status != 'COMPLETED':\n",
    "#        hp_status = hp_tasks[n_shots].state()\n",
    "#\n",
    "#    ghz_results[n_shots] = ghz_tasks[n_shots].result()\n",
    "#    qft_results[n_shots] = qft_tasks[n_shots].result()\n",
    "#    hp_results[n_shots]  = hp_tasks[n_shots].result()\n",
    "#    # get the running time of the task\n",
    "#    ghz_runtime = ghz_results[n_shots].additional_metadata.simulatorMetadata.executionDuration\n",
    "#    qft_runtime = qft_results[n_shots].additional_metadata.simulatorMetadata.executionDuration\n",
    "#    hp_runtime  = hp_results[n_shots].additional_metadata.simulatorMetadata.executionDuration\n",
    "#\n",
    "#    print('GHZ task ran {} shots and the total runtime was {} ms'.format(n_shots,ghz_runtime))\n",
    "#    print('QFT task ran {} shots and the total runtime was {} ms'.format(n_shots,qft_runtime))\n",
    "#    print('HP task ran {} shots and the total runtime was {} ms'.format(n_shots,hp_runtime))"
   ]
  },
  {
   "cell_type": "code",
   "execution_count": 11,
   "metadata": {
    "ExecuteTime": {
     "end_time": "2023-08-29T21:58:24.928915Z",
     "start_time": "2023-08-29T21:58:24.716623Z"
    }
   },
   "outputs": [
    {
     "name": "stdout",
     "output_type": "stream",
     "text": [
      "Quantum Task Summary\n",
      "{'arn:aws:braket:::device/quantum-simulator/amazon/sv1': {'shots': 300, 'tasks': {'COMPLETED': 3}, 'execution_duration': datetime.timedelta(seconds=16, microseconds=227000), 'billed_execution_duration': datetime.timedelta(seconds=21, microseconds=609000)}, 'arn:aws:braket:::device/quantum-simulator/amazon/tn1': {'shots': 1100, 'tasks': {'COMPLETED': 11}, 'execution_duration': datetime.timedelta(seconds=143, microseconds=247000), 'billed_execution_duration': datetime.timedelta(seconds=144, microseconds=577000)}}\n",
      "Note: Charges shown are estimates based on your Amazon Braket simulator and quantum processing unit (QPU) task usage. Estimated charges shown may differ from your actual charges. Estimated charges do not factor in any discounts or credits, and you may experience additional charges based on your use of other services such as Amazon Elastic Compute Cloud (Amazon EC2).\n",
      "Estimated cost to run this example: 0.690 USD\n"
     ]
    }
   ],
   "source": [
    "print(\"Quantum Task Summary\")\n",
    "print(t.quantum_tasks_statistics())\n",
    "print('Note: Charges shown are estimates based on your Amazon Braket simulator and quantum processing unit (QPU) task usage. Estimated charges shown may differ from your actual charges. Estimated charges do not factor in any discounts or credits, and you may experience additional charges based on your use of other services such as Amazon Elastic Compute Cloud (Amazon EC2).')\n",
    "print(f\"Estimated cost to run this example: {t.qpu_tasks_cost() + t.simulator_tasks_cost():.3f} USD\")"
   ]
  }
 ],
 "metadata": {
  "kernelspec": {
   "display_name": "Python 3.8.10 ('venv': venv)",
   "language": "python",
   "name": "python3"
  },
  "language_info": {
   "codemirror_mode": {
    "name": "ipython",
    "version": 3
   },
   "file_extension": ".py",
   "mimetype": "text/x-python",
   "name": "python",
   "nbconvert_exporter": "python",
   "pygments_lexer": "ipython3",
   "version": "3.8.10"
  },
  "vscode": {
   "interpreter": {
    "hash": "590fab68195cf107911461461f81d5c472d3d6127f579badfcfad30f03e5cab2"
   }
  }
 },
 "nbformat": 4,
 "nbformat_minor": 4
}
