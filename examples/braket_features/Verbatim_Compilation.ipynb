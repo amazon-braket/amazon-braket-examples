{
 "cells": [
  {
   "cell_type": "markdown",
   "metadata": {},
   "source": [
    "# Verbatim compilation"
   ]
  },
  {
   "cell_type": "code",
   "execution_count": 1,
   "metadata": {},
   "outputs": [],
   "source": [
    "# Use Braket SDK Cost Tracking to estimate the cost to run this example\n",
    "from braket.tracking import Tracker\n",
    "t = Tracker().start()"
   ]
  },
  {
   "cell_type": "markdown",
   "metadata": {},
   "source": [
    "Usually, when you run a circuit on a QPU, behind the scenes, Amazon Braket will do a series of compilation steps to optimize your circuit and map the abstract circuit to the physical qubits on the QPU. However, in many situations,  such as for error mitigation or benchmarking experiments, researchers require full control of the qubits and the gates that are being applied. In a [previous notebook](https://github.com/aws/amazon-braket-examples/blob/main/examples/braket_features/Allocating_Qubits_on_QPU_Devices.ipynb), we showed you how to manually allocate the qubits of your circuit, i.e., how you can exactly define which logical qubit maps to which physical qubit. In this notebook, you will learn how to use _verbatim compilation_ to run your circuits exactly as defined without any modification during the compilation process.\n",
    "\n",
    "### Table of contents:\n",
    "\n",
    "* [Recap: Running circuits on Amazon Braket](#Recap)\n",
    "* [Using verbatim compilation to run circuits without further compilation](#Verbatim)\n",
    "* [Programming verbatim circuits onto the Rigetti device](#Rigetti)\n",
    "* [Programming verbatim circuits onto the Oxford Quantum Circuits device](#OQC)"
   ]
  },
  {
   "cell_type": "markdown",
   "metadata": {},
   "source": [
    "## Recap: Running circuits on Amazon Braket  <a class=\"anchor\" id=\"Recap\"></a>"
   ]
  },
  {
   "cell_type": "markdown",
   "metadata": {},
   "source": [
    "Let us begin with importing the usual dependencies. Verbatim compilation is supported by all Rigetti devices, and we will use the Aspen-M-2 device for this demonstration."
   ]
  },
  {
   "cell_type": "code",
   "execution_count": 2,
   "metadata": {},
   "outputs": [],
   "source": [
    "# general imports\n",
    "import boto3\n",
    "from braket.aws import AwsDevice\n",
    "from braket.circuits import Circuit\n",
    "from math import pi\n",
    "import networkx as nx"
   ]
  },
  {
   "cell_type": "markdown",
   "metadata": {},
   "source": [
    "When you run a circuit on Amazon Braket, different compilation and optimization steps occur before the circuit is executed on the selected QPU. First, the gates of your circuit are decomposed into the _native gates_ of the QPU. Let's first remember what the native gates of the Aspen-M-2 device are:"
   ]
  },
  {
   "cell_type": "code",
   "execution_count": 3,
   "metadata": {
    "scrolled": false
   },
   "outputs": [
    {
     "name": "stdout",
     "output_type": "stream",
     "text": [
      "The native gates for the Aspen-M-2 device are:\n",
      "rx\n",
      "rz\n",
      "cz\n",
      "cphaseshift\n",
      "xy\n"
     ]
    }
   ],
   "source": [
    "# set up the Rigetti Aspen-M-2 device\n",
    "device = AwsDevice(\"arn:aws:braket:us-west-1::device/qpu/rigetti/Aspen-M-2\")\n",
    "\n",
    "# list the native gate set\n",
    "print(\"The native gates for the\", device.name, \"device are:\")\n",
    "for gate in device.properties.paradigm.nativeGateSet:\n",
    "    print(gate)"
   ]
  },
  {
   "cell_type": "markdown",
   "metadata": {},
   "source": [
    "If we create a circuit with gates that are not part of that list, the gates will automatically be decomposed into a gate set that can be executed on the device."
   ]
  },
  {
   "cell_type": "markdown",
   "metadata": {},
   "source": [
    "<div class=\"alert alert-block alert-info\">\n",
    "    <b>Note:</b> This notebook uses the Rigetti Aspen-M-2 device. When you run this notebook, make sure the device is currently available. You can find QPU availability windows on the <a href=\"https://us-west-1.console.aws.amazon.com/braket/home?region=us-west-1#/devices\">Devices page</a> in the Amazon Braket Console\n",
    "</div>"
   ]
  },
  {
   "cell_type": "code",
   "execution_count": 4,
   "metadata": {
    "scrolled": true
   },
   "outputs": [
    {
     "name": "stdout",
     "output_type": "stream",
     "text": [
      "T    : |0|1|\n",
      "            \n",
      "q100 : -H-C-\n",
      "          | \n",
      "q101 : ---X-\n",
      "\n",
      "T    : |0|1|\n",
      "Counter({'00': 458, '11': 443, '10': 63, '01': 36})\n"
     ]
    }
   ],
   "source": [
    "bell = Circuit().h(100).cnot(100,101)\n",
    "print(bell)\n",
    "result = device.run(bell, shots=1000).result()\n",
    "print(result.measurement_counts)"
   ]
  },
  {
   "cell_type": "markdown",
   "metadata": {},
   "source": [
    "Let's have a look at the circuit that was actually executed. "
   ]
  },
  {
   "cell_type": "code",
   "execution_count": 5,
   "metadata": {},
   "outputs": [
    {
     "name": "stdout",
     "output_type": "stream",
     "text": [
      "DECLARE ro BIT[2]\n",
      "PRAGMA INITIAL_REWIRING \"PARTIAL\"\n",
      "RESET\n",
      "RZ(-pi/2) 30\n",
      "RX(-pi/2) 30\n",
      "RZ(-pi/2) 37\n",
      "RX(-pi/2) 37\n",
      "CZ 37 30\n",
      "RZ(-pi/2) 30\n",
      "RX(pi/2) 37\n",
      "RZ(pi/2) 37\n",
      "MEASURE 37 ro[1]\n",
      "MEASURE 30 ro[0]\n",
      "\n"
     ]
    }
   ],
   "source": [
    "meta = result.additional_metadata.rigettiMetadata\n",
    "print(meta.compiledProgram)"
   ]
  },
  {
   "cell_type": "markdown",
   "metadata": {},
   "source": [
    "As you can see, the original gates, `h` and `cnot`, were decomposed into the native `rz`, `rx`, `cz`, and `cphase` gates. You will also note that the abstract qubit indices 100 and 101 (which were chosen as an example) were remapped to qubits that actually exist on the device, in this case, 21 and 36, respectively. At the time when you run this notebook, you might see a different remapping, as the compiler takes into account the latest calibration of the device and tries to map to the qubits that yield the best results. \n",
    "\n",
    "The compiler further performs circuit optimizations to minimize the number of operations, e.g., by removing redundant gates. Let's have a look at a single-qubit circuit containing two subsequent `x` gates:"
   ]
  },
  {
   "cell_type": "code",
   "execution_count": 6,
   "metadata": {},
   "outputs": [],
   "source": [
    "identity = Circuit().x(0).x(0)"
   ]
  },
  {
   "cell_type": "markdown",
   "metadata": {},
   "source": [
    "Of course, if you do the math, two consecutive `x` gates just cancel each other out, and we are left with an empty circuit after compilation."
   ]
  },
  {
   "cell_type": "code",
   "execution_count": 7,
   "metadata": {},
   "outputs": [
    {
     "name": "stdout",
     "output_type": "stream",
     "text": [
      "DECLARE ro BIT[1]\n",
      "PRAGMA INITIAL_REWIRING \"PARTIAL\"\n",
      "RESET\n",
      "MEASURE 141 ro[0]\n",
      "\n",
      "Counter({'0': 1000})\n"
     ]
    }
   ],
   "source": [
    "result = device.run(identity, shots=1000).result()\n",
    "compiled_program = result.additional_metadata.rigettiMetadata.compiledProgram\n",
    "print(compiled_program)\n",
    "print(result.measurement_counts)"
   ]
  },
  {
   "cell_type": "markdown",
   "metadata": {},
   "source": [
    "## Using verbatim compilation to run circuits without further compilation <a class=\"anchor\" id=\"Verbatim\"></a>"
   ]
  },
  {
   "cell_type": "markdown",
   "metadata": {},
   "source": [
    "In some cases, however, you may need to run circuits exactly as defined, without any further modifications by the compiler. For instance, if you want to benchmark device performance you may want to control exactly which gates are executed on the hardware. Similarly, [certain error mitigation protocols](https://arxiv.org/pdf/2005.10921.pdf) require insertion of additional, redundant operations that would normally be removed by the compiler but are essential for the protocol to work. To prevent circuits (or parts of circuits) from further compiler optimizations, you can use the `add_verbatim_box` function in the Amazon Braket SDK."
   ]
  },
  {
   "cell_type": "markdown",
   "metadata": {},
   "source": [
    "<div class=\"alert alert-block alert-info\">\n",
    "    <b>Note:</b> <code>add_verbatim_box</code> is currently only supported on Rigetti devices.\n",
    "</div>"
   ]
  },
  {
   "cell_type": "markdown",
   "metadata": {},
   "source": [
    "When you define a (sub-)circuit in a verbatim box, you need to make sure that everything inside the verbatim box can be executed on the device _exactly_ as you defined it. This means that\n",
    "1. The circuit can only use qubit indices that exist on the device\n",
    "2. All gates of the circuit have to be part of the native gate set of the device\n",
    "3. All multi-qubit gates have to be between qubits that are connected according to the connectivity graph of the device "
   ]
  },
  {
   "cell_type": "markdown",
   "metadata": {},
   "source": [
    "### Getting started with a minimal example\n",
    "Let's have a look at the simple example from before of an identify circuit. "
   ]
  },
  {
   "cell_type": "code",
   "execution_count": 8,
   "metadata": {},
   "outputs": [],
   "source": [
    "identity = Circuit().rx(0,pi).rx(0,pi)"
   ]
  },
  {
   "cell_type": "markdown",
   "metadata": {},
   "source": [
    "Here, we have chosen the Rigetti-native `rx` gate, which is identical to `x` if we choose the angle to be $\\pi$. Next, we wrap this circuit in a verbatim box to prevent the compiler from collapsing the two gates. You can see the circuit diagram indicates the start and end of the verbatim box."
   ]
  },
  {
   "cell_type": "code",
   "execution_count": 9,
   "metadata": {},
   "outputs": [
    {
     "name": "stdout",
     "output_type": "stream",
     "text": [
      "T  : |      0      |   1    |   2    |     3     |\n",
      "                                                  \n",
      "q0 : -StartVerbatim-Rx(3.14)-Rx(3.14)-EndVerbatim-\n",
      "\n",
      "T  : |      0      |   1    |   2    |     3     |\n"
     ]
    }
   ],
   "source": [
    "circ = Circuit().add_verbatim_box(identity)\n",
    "print(circ)"
   ]
  },
  {
   "cell_type": "markdown",
   "metadata": {},
   "source": [
    "When we run the circuit, both gates will be executed on the device."
   ]
  },
  {
   "cell_type": "markdown",
   "metadata": {},
   "source": [
    "<div class=\"alert alert-block alert-info\">\n",
    "    <b>Note:</b> To run a circuit that contains a verbatim box the <code>disable_qubit_rewiring</code> flag must be set to <code>True</code> \n",
    "</div>"
   ]
  },
  {
   "cell_type": "code",
   "execution_count": 10,
   "metadata": {},
   "outputs": [
    {
     "name": "stdout",
     "output_type": "stream",
     "text": [
      "DECLARE ro BIT[1]\n",
      "PRAGMA INITIAL_REWIRING \"NAIVE\"\n",
      "RX(pi) 0\n",
      "RX(pi) 0\n",
      "MEASURE 0 ro[0]\n",
      "\n",
      "Counter({'0': 1000})\n"
     ]
    }
   ],
   "source": [
    "result = device.run(circ, shots=1000, disable_qubit_rewiring=True).result()\n",
    "compiled_program = result.additional_metadata.rigettiMetadata.compiledProgram\n",
    "print(compiled_program)\n",
    "print(result.measurement_counts)"
   ]
  },
  {
   "cell_type": "markdown",
   "metadata": {},
   "source": [
    "## Programming verbatim circuits onto the Rigetti device  <a class=\"anchor\" id=\"Rigetti\"></a>"
   ]
  },
  {
   "cell_type": "markdown",
   "metadata": {},
   "source": [
    "As we have mentioned above, to build circuits with multi-qubit gates, you need to take into consideration the connectivity graph of the device. When a circuit contains a verbatim box, automatic qubit rewiring has to be disables, and you have manually allocate the qubits on the device that you want to use for your circuit.\n",
    "You can access the connectivity graph on the [device detail page](https://console.aws.amazon.com/braket/home?region=us-west-1#/devices/arn:aws:braket:us-west-2::device/qpu/rigetti/Aspen-M-2) in the Amazon Braket Console, or by using the code below."
   ]
  },
  {
   "cell_type": "code",
   "execution_count": 11,
   "metadata": {},
   "outputs": [
    {
     "name": "stdout",
     "output_type": "stream",
     "text": [
      "{'0': ['1', '103', '7'], '1': ['0', '16', '2'], '10': ['11', '113', '17'], '100': ['101', '107'], '101': ['100', '102', '116'], '102': ['101', '103', '115'], '103': ['0', '102', '104'], '104': ['103'], '105': ['106'], '106': ['105', '107'], '107': ['100', '106'], '11': ['10', '12', '26'], '110': ['111', '117'], '111': ['110', '112', '126'], '112': ['111', '113', '125'], '113': ['10', '112', '114'], '114': ['113', '115', '17'], '115': ['102', '114', '116'], '116': ['101', '115', '117'], '117': ['110', '116'], '12': ['11', '13', '25'], '120': ['121', '127'], '121': ['120', '122', '136'], '122': ['121', '123', '135'], '123': ['122', '124', '20'], '124': ['123', '125', '27'], '125': ['112', '124', '126'], '126': ['111', '125', '127'], '127': ['120', '126'], '13': ['12', '14'], '130': ['131', '137'], '131': ['130', '132', '146'], '132': ['131', '133', '145'], '133': ['132', '134', '30'], '134': ['133', '135', '37'], '135': ['122', '134', '136'], '136': ['121', '135', '137'], '137': ['130', '136'], '14': ['13', '15'], '140': ['141', '147'], '141': ['140', '142'], '142': ['141', '143'], '143': ['142', '144', '40'], '144': ['143', '145', '47'], '145': ['132', '144', '146'], '146': ['131', '145', '147'], '147': ['140', '146'], '15': ['14', '16', '2'], '16': ['1', '15', '17'], '17': ['10', '16', '114'], '2': ['1', '15'], '20': ['123', '21', '27'], '21': ['20', '22', '36'], '22': ['21', '23', '35'], '23': ['22', '24'], '24': ['23', '25'], '25': ['12', '24', '26'], '26': ['11', '25', '27'], '27': ['20', '26', '124'], '30': ['133', '31', '37'], '31': ['30', '32', '46'], '32': ['31', '33', '45'], '33': ['32', '34'], '34': ['33', '35'], '35': ['22', '34', '36'], '36': ['21', '35', '37'], '37': ['30', '36', '134'], '4': ['5'], '40': ['143', '41', '47'], '41': ['40', '42'], '42': ['41', '43'], '43': ['42', '44'], '44': ['43', '45'], '45': ['32', '44', '46'], '46': ['31', '45', '47'], '47': ['40', '46', '144'], '5': ['4', '6'], '6': ['5', '7'], '7': ['0', '6']}\n"
     ]
    },
    {
     "data": {
      "image/png": "[encoded data removed]",
      "text/plain": [
       "<Figure size 432x288 with 1 Axes>"
      ]
     },
     "metadata": {},
     "output_type": "display_data"
    }
   ],
   "source": [
    "# set up the Rigetti Aspen-M-2 device\n",
    "rigetti = AwsDevice(\"arn:aws:braket:us-west-1::device/qpu/rigetti/Aspen-M-2\")\n",
    "\n",
    "# access and visualize the device topology\n",
    "# note that device topology can change day-to-day based on edge fidelity data\n",
    "print(rigetti.properties.paradigm.connectivity.connectivityGraph)\n",
    "nx.draw_kamada_kawai(rigetti.topology_graph, with_labels=True, font_color=\"white\")"
   ]
  },
  {
   "cell_type": "markdown",
   "metadata": {},
   "source": [
    "From the connectivity graph, you can see that qubits 11, 10, and 17 are connected in a line, and with the code in the next cell you can access their respective 2-qubit gate fidelities to make sure you have selected a high-quality qubit subset. "
   ]
  },
  {
   "cell_type": "code",
   "execution_count": 12,
   "metadata": {},
   "outputs": [
    {
     "name": "stdout",
     "output_type": "stream",
     "text": [
      "{'fCPHASE': 0.9604351257591242, 'fCPHASE_std_err': 0.0062506725552855125, 'fCZ': 0.8819861988959129, 'fCZ_std_err': 0.010968384670011412, 'fXY': 0.9869751228343194, 'fXY_std_err': 0.0023327091123686865}\n",
      "{'fCPHASE': 0.9741839146853092, 'fCPHASE_std_err': 0.009138135675536825, 'fCZ': 0.9135569163882991, 'fCZ_std_err': 0.01027383498353315, 'fXY': 0.985470281933995, 'fXY_std_err': 0.003273090917252689}\n"
     ]
    }
   ],
   "source": [
    "print(rigetti.properties.provider.specs[\"2Q\"][\"10-11\"])\n",
    "print(rigetti.properties.provider.specs[\"2Q\"][\"10-17\"])"
   ]
  },
  {
   "cell_type": "markdown",
   "metadata": {},
   "source": [
    "<div class=\"alert alert-block alert-info\">\n",
    "    <b>Note:</b> At the time when you run this notebook the fidelity numbers may be different as QPU devices are periodically recalibrated\n",
    "</div>"
   ]
  },
  {
   "cell_type": "markdown",
   "metadata": {},
   "source": [
    "After selecting the qubits and validating their gate fidelities, you can now construct a circuit and run it. "
   ]
  },
  {
   "cell_type": "code",
   "execution_count": 13,
   "metadata": {},
   "outputs": [
    {
     "name": "stdout",
     "output_type": "stream",
     "text": [
      "T   : |      0      |    1    |   2    |   3    |    4    |     5     |\n",
      "                                                                       \n",
      "q10 : -StartVerbatim-XY(0.785)-XY(1.57)-Rx(3.14)-XY(0.785)-EndVerbatim-\n",
      "       |             |         |                 |         |           \n",
      "q11 : -|-------------XY(0.785)-|-----------------XY(0.785)-|-----------\n",
      "       |                       |                           |           \n",
      "q17 : -*************-----------XY(1.57)--------------------***********-\n",
      "\n",
      "T   : |      0      |    1    |   2    |   3    |    4    |     5     |\n"
     ]
    }
   ],
   "source": [
    "circ = Circuit().xy(10,11,pi/4).xy(10,17,pi/2).rx(10,pi).xy(10,11,pi/4)\n",
    "verbatim_circ = Circuit().add_verbatim_box(circ)\n",
    "print(verbatim_circ)"
   ]
  },
  {
   "cell_type": "code",
   "execution_count": 14,
   "metadata": {},
   "outputs": [
    {
     "name": "stdout",
     "output_type": "stream",
     "text": [
      "DECLARE ro BIT[3]\n",
      "PRAGMA INITIAL_REWIRING \"NAIVE\"\n",
      "XY(pi/4) 10 11\n",
      "XY(pi/2) 10 17\n",
      "RX(pi) 10\n",
      "XY(pi/4) 10 11\n",
      "MEASURE 17 ro[2]\n",
      "MEASURE 11 ro[1]\n",
      "MEASURE 10 ro[0]\n",
      "\n",
      "Counter({'100': 875, '010': 125})\n"
     ]
    }
   ],
   "source": [
    "result = rigetti.run(verbatim_circ, shots=1000, disable_qubit_rewiring=True).result()\n",
    "compiled_program = result.additional_metadata.rigettiMetadata.compiledProgram\n",
    "print(compiled_program)\n",
    "print(result.measurement_counts)"
   ]
  },
  {
   "cell_type": "markdown",
   "metadata": {},
   "source": [
    "As expected, the program is faithfully executed exactly as it was defined."
   ]
  },
  {
   "cell_type": "markdown",
   "metadata": {},
   "source": [
    "### Defining verbatim subcircuits "
   ]
  },
  {
   "cell_type": "markdown",
   "metadata": {},
   "source": [
    "In some situations, you might only be interested in executing parts of your circuits verbatim, and have the compiler nativize and optimize the rest. The next example demonstrates how to do this. Let's get started by defining the subcircuit we want to execute verbatim."
   ]
  },
  {
   "cell_type": "code",
   "execution_count": 15,
   "metadata": {},
   "outputs": [],
   "source": [
    "verbatim_subcirc = Circuit().rx(10,pi).rx(10,pi)"
   ]
  },
  {
   "cell_type": "markdown",
   "metadata": {},
   "source": [
    "Next, define the part of the circuit you want to compiler to process, so you don't have to worry about nativizing gates. "
   ]
  },
  {
   "cell_type": "code",
   "execution_count": 16,
   "metadata": {},
   "outputs": [],
   "source": [
    "subcirc1 = Circuit().cnot(10,11).cnot(10,17)\n",
    "subcirc2 = Circuit().cnot(10,17).cnot(10,11)"
   ]
  },
  {
   "cell_type": "markdown",
   "metadata": {},
   "source": [
    "Finally, put everything together"
   ]
  },
  {
   "cell_type": "code",
   "execution_count": 17,
   "metadata": {},
   "outputs": [
    {
     "name": "stdout",
     "output_type": "stream",
     "text": [
      "T   : |0|1|      2      |   3    |   4    |     5     |6|7|\n",
      "                                                           \n",
      "q10 : -C-C-StartVerbatim-Rx(3.14)-Rx(3.14)-EndVerbatim-C-C-\n",
      "       | | |                               |           | | \n",
      "q11 : -X-|-|-------------------------------|-----------|-X-\n",
      "         | |                               |           |   \n",
      "q17 : ---X-*************-------------------***********-X---\n",
      "\n",
      "T   : |0|1|      2      |   3    |   4    |     5     |6|7|\n"
     ]
    }
   ],
   "source": [
    "circ = subcirc1.add_verbatim_box(verbatim_subcirc).add_circuit(subcirc2)\n",
    "print(circ)"
   ]
  },
  {
   "cell_type": "code",
   "execution_count": 18,
   "metadata": {},
   "outputs": [
    {
     "name": "stdout",
     "output_type": "stream",
     "text": [
      "DECLARE ro BIT[3]\n",
      "PRAGMA INITIAL_REWIRING \"NAIVE\"\n",
      "RESET\n",
      "RZ(pi/2) 10\n",
      "RZ(pi) 11\n",
      "XY(pi) 10 11\n",
      "RZ(pi/2) 10\n",
      "RX(pi/2) 10\n",
      "RZ(-pi/2) 10\n",
      "XY(pi) 10 11\n",
      "RZ(pi/2) 10\n",
      "RZ(pi) 17\n",
      "XY(pi) 10 17\n",
      "RZ(pi/2) 10\n",
      "RX(pi/2) 10\n",
      "RZ(-pi/2) 10\n",
      "XY(pi) 10 17\n",
      "RX(-pi/2) 11\n",
      "RX(-pi/2) 17\n",
      "RX(pi) 10\n",
      "RX(pi) 10\n",
      "RZ(pi/2) 10\n",
      "RZ(pi) 17\n",
      "XY(pi) 10 17\n",
      "RZ(pi/2) 10\n",
      "RX(pi/2) 10\n",
      "RZ(-pi/2) 10\n",
      "XY(pi) 10 17\n",
      "RZ(pi/2) 10\n",
      "RZ(pi) 11\n",
      "XY(pi) 10 11\n",
      "RZ(pi/2) 10\n",
      "RX(pi/2) 10\n",
      "RZ(-pi/2) 10\n",
      "XY(pi) 10 11\n",
      "RX(-pi/2) 11\n",
      "RX(-pi/2) 17\n",
      "MEASURE 17 ro[2]\n",
      "MEASURE 11 ro[1]\n",
      "MEASURE 10 ro[0]\n",
      "\n",
      "Counter({'000': 1000})\n"
     ]
    }
   ],
   "source": [
    "result = rigetti.run(circ, shots=1000, disable_qubit_rewiring=True).result()\n",
    "compiled_program = result.additional_metadata.rigettiMetadata.compiledProgram\n",
    "print(compiled_program)\n",
    "print(result.measurement_counts)"
   ]
  },
  {
   "cell_type": "markdown",
   "metadata": {},
   "source": [
    "Inspecting the compiled program, you can see that the `cnot` gates were nativized, however, the two `rx` gates in the middle of the circuit remain unaltered, and were not removed by the compiler. "
   ]
  },
  {
   "cell_type": "markdown",
   "metadata": {},
   "source": [
    "## Programming verbatim circuits onto the Oxford Quantum Circuits device <a class=\"anchor\" id=\"OQC\"></a>"
   ]
  },
  {
   "cell_type": "markdown",
   "metadata": {},
   "source": [
    "Oxford Quantum Circuits (OQC) also supports verbatim compilation. As mentioned above, a verbatim circuit does not allow automatic qubit rewiring. All qubits have to be allocated using the indices that exist on the device. The gates of a verbatim circuit have to come from the native gate set, and multi-qubits gates can only be applied according to the connectivity graph of the device. First, let's look at OQC's native gate set."
   ]
  },
  {
   "cell_type": "code",
   "execution_count": 19,
   "metadata": {},
   "outputs": [
    {
     "name": "stdout",
     "output_type": "stream",
     "text": [
      "The native gates for the Lucy device are:\n",
      "ecr\n",
      "i\n",
      "rz\n",
      "v\n",
      "x\n"
     ]
    }
   ],
   "source": [
    "# set up the OQC Lucy device\n",
    "oqc_device = AwsDevice(\"arn:aws:braket:eu-west-2::device/qpu/oqc/Lucy\")\n",
    "\n",
    "# list the native gate set\n",
    "print(\"The native gates for the\", oqc_device.name, \"device are:\")\n",
    "for gate in oqc_device.properties.paradigm.nativeGateSet:\n",
    "    print(gate)"
   ]
  },
  {
   "cell_type": "markdown",
   "metadata": {},
   "source": [
    "Let's check out the device connectivity graph to see what qubits are on the device and how they are connected. Notice that connections in the OQC device are unidirectional. This mean that two-qubits gates can only be applied one direction with verbatim compilation. In the topology graph, each arrow represents the direction that a two-qubit gate can be applied in verbatim mode. The tail of the arrow is the first qubit and the head is the second qubit. For example, `ecr(4,3)` is a valid gate while `ecr(3,4)` is not."
   ]
  },
  {
   "cell_type": "code",
   "execution_count": 20,
   "metadata": {},
   "outputs": [
    {
     "name": "stdout",
     "output_type": "stream",
     "text": [
      "{'0': ['1', '7'], '1': ['2'], '2': ['3'], '4': ['3', '5'], '6': ['5'], '7': ['6']}\n"
     ]
    },
    {
     "data": {
      "image/png": "[encoded data removed]",
      "text/plain": [
       "<Figure size 432x288 with 1 Axes>"
      ]
     },
     "metadata": {},
     "output_type": "display_data"
    }
   ],
   "source": [
    "# access and visualize the device topology\n",
    "print(oqc_device.properties.paradigm.connectivity.connectivityGraph)\n",
    "nx.draw_kamada_kawai(oqc_device.topology_graph, with_labels=True, font_color=\"white\", arrows=True, arrowsize=30)"
   ]
  },
  {
   "cell_type": "markdown",
   "metadata": {},
   "source": [
    "With this information, we can create a circuit and run it with verbatim mode. OQC currently only supports verbatim mode for the whole circuit, i.e. the verbatim box has to contain all the gates in a circuit when submitting to the device."
   ]
  },
  {
   "cell_type": "code",
   "execution_count": 21,
   "metadata": {},
   "outputs": [
    {
     "name": "stdout",
     "output_type": "stream",
     "text": [
      "T  : |      0      |    1    |    2     | 3 |     4     |\n",
      "                                                         \n",
      "q0 : -StartVerbatim-Rz(0.785)-Rz(-0.785)-----EndVerbatim-\n",
      "      |                                      |           \n",
      "q1 : -|-------------ECR----------------------|-----------\n",
      "      |             |                        |           \n",
      "q2 : -|-------------ECR-------X----------ECR-|-----------\n",
      "      |                                  |   |           \n",
      "q3 : -*************----------------------ECR-***********-\n",
      "\n",
      "T  : |      0      |    1    |    2     | 3 |     4     |\n"
     ]
    }
   ],
   "source": [
    "circ = Circuit().rz(0,pi/4).rz(0,-pi/4).ecr(1,2).x(2).ecr(2,3)\n",
    "verbatim_circ = Circuit().add_verbatim_box(circ)\n",
    "print(verbatim_circ)"
   ]
  },
  {
   "cell_type": "code",
   "execution_count": 22,
   "metadata": {},
   "outputs": [
    {
     "name": "stdout",
     "output_type": "stream",
     "text": [
      "\n",
      "OPENQASM 2.0;\n",
      "include \"qelib1.inc\";\n",
      "qreg q[4];\n",
      "creg b[4];\n",
      "\n",
      "rz(0.7853981633974483) q[0];\n",
      "rz(-0.7853981633974483) q[0];\n",
      "ecr q[1], q[2];\n",
      "x q[2];\n",
      "ecr q[2], q[3];\n",
      "measure q -> b;\n",
      "Counter({'0110': 419, '0010': 243, '0100': 210, '0000': 103, '0011': 5, '0101': 5, '0111': 4, '0001': 3, '1000': 2, '1010': 2, '1100': 2, '1110': 2})\n"
     ]
    }
   ],
   "source": [
    "result = oqc_device.run(verbatim_circ, shots=1000).result()\n",
    "compiledProgram = result.additional_metadata.oqcMetadata.compiledProgram\n",
    "print(compiledProgram)\n",
    "print(result.measurement_counts)"
   ]
  },
  {
   "cell_type": "markdown",
   "metadata": {},
   "source": [
    "## Programming verbatim circuits onto the IonQ device"
   ]
  },
  {
   "cell_type": "markdown",
   "metadata": {},
   "source": [
    "IonQ also supports verbatim compilation. Because qubits in the IonQ device have all-to-all connection, there is no restriction in qubit connectivity; all qubit pairs are avaialbe for 2-qubit gates. Because there is no circuit optimization or gate decomposition in verbatim compilation, all gates in the circuit must be native gates. Let's look at IonQ's native gate set."
   ]
  },
  {
   "cell_type": "code",
   "execution_count": 23,
   "metadata": {},
   "outputs": [
    {
     "name": "stdout",
     "output_type": "stream",
     "text": [
      "The native gates for the IonQ Device device are:\n",
      "GPI\n",
      "GPI2\n",
      "MS\n"
     ]
    }
   ],
   "source": [
    "# set up the IonQ device \n",
    "ionq_device = AwsDevice(\"arn:aws:braket:::device/qpu/ionq/ionQdevice\")\n",
    "\n",
    "# list the native gate set\n",
    "print(\"The native gates for the\", ionq_device.name, \"device are:\")\n",
    "for gate in ionq_device.properties.paradigm.nativeGateSet:\n",
    "    print(gate)"
   ]
  },
  {
   "cell_type": "markdown",
   "metadata": {},
   "source": [
    "In `device.property`, you can see `fullyConnected=True`, showing that qubits are fully connected. This manifests as the device having a complete topology graph."
   ]
  },
  {
   "cell_type": "code",
   "execution_count": 24,
   "metadata": {},
   "outputs": [
    {
     "name": "stdout",
     "output_type": "stream",
     "text": [
      "fullyConnected=True connectivityGraph={}\n"
     ]
    },
    {
     "data": {
      "image/png": "[encoded data removed]",
      "text/plain": [
       "<Figure size 432x288 with 1 Axes>"
      ]
     },
     "metadata": {},
     "output_type": "display_data"
    }
   ],
   "source": [
    "# access and visualize the device topology\n",
    "print(ionq_device.properties.paradigm.connectivity)\n",
    "nx.draw_kamada_kawai(ionq_device.topology_graph, with_labels=True, font_color=\"white\", arrows=True, arrowsize=30)"
   ]
  },
  {
   "cell_type": "markdown",
   "metadata": {},
   "source": [
    "With this information, you can write a circuit to run verbatim on the IonQ device. IonQ currently only supports verbatim compilation for the entire circuit, so every instruction in the circuit will need to be enclosed in a verbatim box. In other words, you cannot have any gates outside of the verbatim box. As well, note that IonQ native gates cannot be used outside of a verbatim box. To learn more about IonQ native gates and the best practice of using them, see the [Amazon Braket Developer Guide](https://docs.aws.amazon.com/braket/latest/developerguide/braket-devices.html?tag=local002-20#braket-qpu-partner-ionq) and [IonQ's documentation page](https://ionq.com/docs/getting-started-with-native-gates). "
   ]
  },
  {
   "cell_type": "code",
   "execution_count": 25,
   "metadata": {},
   "outputs": [
    {
     "name": "stdout",
     "output_type": "stream",
     "text": [
      "T  : |      0      |    1    |   2    |     3     |\n",
      "                                                   \n",
      "q0 : -StartVerbatim-GPi(3.14)-MS(0, 0)-EndVerbatim-\n",
      "      |                       |        |           \n",
      "q1 : -*************-----------MS(0, 0)-***********-\n",
      "\n",
      "T  : |      0      |    1    |   2    |     3     |\n"
     ]
    }
   ],
   "source": [
    "circ = Circuit().gpi(0,pi).ms(0,1,0,0)\n",
    "verbatim_circ = Circuit().add_verbatim_box(circ)\n",
    "print(verbatim_circ)"
   ]
  },
  {
   "cell_type": "code",
   "execution_count": 26,
   "metadata": {},
   "outputs": [
    {
     "name": "stdout",
     "output_type": "stream",
     "text": [
      "Counter({'01': 6, '10': 4})\n"
     ]
    }
   ],
   "source": [
    "task = ionq_device.run(verbatim_circ, shots=10)\n",
    "print(task.result().measurement_counts)"
   ]
  },
  {
   "cell_type": "markdown",
   "metadata": {},
   "source": [
    "## Conclusion \n",
    "This notebook introduced the basic functionality of verbatim compilation of Amazon Braket, that allows you to run circuits or subcircuits to be executed exactly as defined without any compiler modifications. You can find further information in the [Amazon Braket documentation](https://docs.aws.amazon.com/braket/). "
   ]
  },
  {
   "cell_type": "code",
   "execution_count": 27,
   "metadata": {},
   "outputs": [
    {
     "name": "stdout",
     "output_type": "stream",
     "text": [
      "Task Summary\n",
      "{'arn:aws:braket:us-west-1::device/qpu/rigetti/Aspen-M-2': {'shots': 5000, 'tasks': {'QUEUED': 5}}}\n",
      "Note: Charges shown are estimates based on your Amazon Braket simulator and quantum processing unit (QPU) task usage. Estimated charges shown may differ from your actual charges. Estimated charges do not factor in any discounts or credits, and you may experience additional charges based on your use of other services such as Amazon Elastic Compute Cloud (Amazon EC2).\n",
      "Estimated cost to run this example: 3.250 USD\n"
     ]
    }
   ],
   "source": [
    "print(\"Task Summary\")\n",
    "print(t.quantum_tasks_statistics())\n",
    "print('Note: Charges shown are estimates based on your Amazon Braket simulator and quantum processing unit (QPU) task usage. Estimated charges shown may differ from your actual charges. Estimated charges do not factor in any discounts or credits, and you may experience additional charges based on your use of other services such as Amazon Elastic Compute Cloud (Amazon EC2).')\n",
    "print(f\"Estimated cost to run this example: {t.qpu_tasks_cost() + t.simulator_tasks_cost():.3f} USD\")"
   ]
  }
 ],
 "metadata": {
  "kernelspec": {
   "display_name": "Python 3 (ipykernel)",
   "language": "python",
   "name": "python3"
  },
  "language_info": {
   "codemirror_mode": {
    "name": "ipython",
    "version": 3
   },
   "file_extension": ".py",
   "mimetype": "text/x-python",
   "name": "python",
   "nbconvert_exporter": "python",
   "pygments_lexer": "ipython3",
   "version": "3.9.7"
  },
  "vscode": {
   "interpreter": {
    "hash": "590fab68195cf107911461461f81d5c472d3d6127f579badfcfad30f03e5cab2"
   }
  }
 },
 "nbformat": 4,
 "nbformat_minor": 2
}
