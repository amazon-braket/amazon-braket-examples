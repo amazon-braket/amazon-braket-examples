{
 "cells": [
  {
   "cell_type": "markdown",
   "id": "c5c66fca",
   "metadata": {},
   "source": [
    "# Local emulation for verbatim circuits on Amazon Braket\n",
    "\n",
    "This notebook introduces Amazon Braket's local emulator feature, a tool that enables quantum developers to emulate verbatim circuits locally based on device calibration data. By using the local emulator, you can:\n",
    "- Validate your verbatim circuits against specific device constraints, using either the real-time or historical calibration data\n",
    "- Debug issues before submitting tasks to the target quantum hardware\n",
    "- Understand the effect of noises by comparing noiseless and noisy emulations to actual hardware results\n",
    "\n",
    "This notebook will walk you through the steps to utilize the local emulator for these use cases, showing how it can help accelerating your quantum algorithm developments.\n"
   ]
  },
  {
   "cell_type": "code",
   "execution_count": 1,
   "id": "843b7469",
   "metadata": {},
   "outputs": [],
   "source": [
    "# Use Braket SDK Cost Tracking to estimate the cost to run this example\n",
    "from braket.tracking import Tracker\n",
    "\n",
    "t = Tracker().start()"
   ]
  },
  {
   "cell_type": "markdown",
   "id": "d8255c46",
   "metadata": {},
   "source": [
    "## Emulating a verbatim circuit before submitting to the target quantum hardware\n",
    "\n",
    "One of the benefits of using local emulator is that it allows one to more efficiently test their program before running on the target quantum device. Here, we will be using Rigetti's [Ankaa-3](https://aws.amazon.com/braket/quantum-computers/rigetti/) device as an example"
   ]
  },
  {
   "cell_type": "code",
   "execution_count": 3,
   "id": "bb5b9484",
   "metadata": {},
   "outputs": [],
   "source": [
    "from braket.aws.aws_device import AwsDevice\n",
    "\n",
    "ankaa3 = AwsDevice(\"arn:aws:braket:us-west-1::device/qpu/rigetti/Ankaa-3\")\n",
    "ankaa3_emulator = ankaa3.emulator()"
   ]
  },
  {
   "cell_type": "markdown",
   "id": "f9a60246",
   "metadata": {},
   "source": [
    "Here, the local emulator is instantiated from the target device, which automatically fetches the up-to-date calibration data of the device for validation and noisy simulation. Let us examine the native gates supported by the device."
   ]
  },
  {
   "cell_type": "code",
   "execution_count": 4,
   "id": "64b6f269",
   "metadata": {},
   "outputs": [
    {
     "name": "stdout",
     "output_type": "stream",
     "text": [
      "Native gates for Ankaa-3: ['rx', 'rz', 'iswap']\n"
     ]
    }
   ],
   "source": [
    "native_gates = ankaa3.properties.paradigm.nativeGateSet\n",
    "print(f\"Native gates for {ankaa3.name}: {native_gates}\")"
   ]
  },
  {
   "cell_type": "markdown",
   "id": "a0596a7e",
   "metadata": {},
   "source": [
    "Now we create and visualize a 4-qubit circuit made out of these native gates"
   ]
  },
  {
   "cell_type": "code",
   "execution_count": null,
   "id": "287b6e7f",
   "metadata": {},
   "outputs": [
    {
     "name": "stdout",
     "output_type": "stream",
     "text": [
      "T  : │        0        │      1      │    2    │      3      │       4       │\n",
      "                        ┌──────────┐  ┌───────┐ ┌───────────┐                 \n",
      "q0 : ───StartVerbatim───┤ Rx(1.57) ├──┤ ISWAP ├─┤ Rx(-1.57) ├───EndVerbatim───\n",
      "              ║         └──────────┘  └───┬───┘ └───────────┘        ║        \n",
      "              ║         ┌──────────┐  ┌───┴───┐   ┌───────┐          ║        \n",
      "q1 : ─────────║─────────┤ Rz(3.14) ├──┤ ISWAP ├───┤ ISWAP ├──────────║────────\n",
      "              ║         └──────────┘  └───────┘   └───┬───┘          ║        \n",
      "              ║         ┌───────────┐ ┌───────┐   ┌───┴───┐          ║        \n",
      "q2 : ─────────║─────────┤ Rx(-1.57) ├─┤ ISWAP ├───┤ ISWAP ├──────────║────────\n",
      "              ║         └───────────┘ └───┬───┘   └───────┘          ║        \n",
      "              ║         ┌──────────┐  ┌───┴───┐ ┌───────────┐        ║        \n",
      "q3 : ─────────╨─────────┤ Rz(1.57) ├──┤ ISWAP ├─┤ Rz(-3.14) ├────────╨────────\n",
      "                        └──────────┘  └───────┘ └───────────┘                 \n",
      "T  : │        0        │      1      │    2    │      3      │       4       │\n"
     ]
    }
   ],
   "source": [
    "from braket.circuits import Circuit\n",
    "\n",
    "from numpy import pi\n",
    "\n",
    "verbatim_circuit = Circuit().add_verbatim_box(\n",
    "    Circuit()\n",
    "    .rx(0, pi / 2)\n",
    "    .rz(1, pi)\n",
    "    .iswap(0, 1)\n",
    "    .rx(2, -pi / 2)\n",
    "    .rz(3, pi / 2)\n",
    "    .iswap(2, 3)\n",
    "    .iswap(1, 2)\n",
    "    .rx(0, -pi / 2)\n",
    "    .rz(3, -pi)\n",
    ")\n",
    "print(verbatim_circuit)"
   ]
  },
  {
   "cell_type": "markdown",
   "id": "e9b2fbde",
   "metadata": {},
   "source": [
    "The local emulator can be used in a similar way as other deivces. Let us run the circuit and retrieve the results."
   ]
  },
  {
   "cell_type": "code",
   "execution_count": 6,
   "id": "a84adef4",
   "metadata": {},
   "outputs": [],
   "source": [
    "emulator_run = ankaa3_emulator.run(verbatim_circuit, shots=1000)\n",
    "emulator_result = emulator_run.result()\n",
    "emulator_counts = emulator_result.measurement_counts"
   ]
  },
  {
   "cell_type": "markdown",
   "id": "35d480cd",
   "metadata": {},
   "source": [
    "The result can be visualized as follows."
   ]
  },
  {
   "cell_type": "code",
   "execution_count": null,
   "id": "8f8aad83",
   "metadata": {},
   "outputs": [
    {
     "data": {
      "image/png": "[encoded data removed]",
      "text/plain": [
       "<Figure size 640x480 with 1 Axes>"
      ]
     },
     "metadata": {},
     "output_type": "display_data"
    }
   ],
   "source": [
    "from matplotlib import pyplot as plt\n",
    "\n",
    "plt.bar(\n",
    "    sorted(emulator_counts.keys()), [emulator_counts[k] for k in sorted(emulator_counts.keys())]\n",
    ")\n",
    "plt.xlabel(\"Bitstrings\")\n",
    "plt.ylabel(\"Counts\")\n",
    "plt.xticks(rotation=45)\n",
    "plt.show()"
   ]
  },
  {
   "cell_type": "markdown",
   "id": "cf865387",
   "metadata": {},
   "source": [
    "The noise in the device (or local emulator) manifests as the non-zero count in the bitstring, say `0100`, which would otherwise be absent in the noiseless simulation result (see below). Suppose one is satisfied with the emulation result, they can simply proceed to submit the circuit to the target QPU. \n",
    "\n",
    "<div class=\"alert alert-block alert-info\">\n",
    "<b>Note:</b> To run the next cell, make sure the device is currently available and note that it will result in charges on your AWS account.\n",
    "</div>"
   ]
  },
  {
   "cell_type": "code",
   "execution_count": null,
   "id": "5e1d26c1",
   "metadata": {},
   "outputs": [],
   "source": [
    "device_run = ankaa3.run(verbatim_circuit, shots=1000)\n",
    "device_result = device_run.result()\n",
    "device_counts = device_result.measurement_counts"
   ]
  },
  {
   "cell_type": "markdown",
   "id": "5cad1664",
   "metadata": {},
   "source": [
    "We have demonstrated an end-to-end workflow of the local emulator with a valid verbatim circuit. As noted above, running circuit on the quantum device requires that the device is currently available and it will result in charges on your AWS account. Suppose you are developing a noise-aware quantum algorithm and need to iterate multiple times on the device, running on the actual quantum device could be inconvenient and costly. The local emulator provides another way to develop such algorithms provided that the result from the emulator is close to that from the target device. We will dive deeper into comparing the QPU and emulater results for the above example in a later section. For now, we will take a detour and explain the validation behind the emulation."
   ]
  },
  {
   "cell_type": "markdown",
   "id": "3c804eb8",
   "metadata": {},
   "source": [
    "## Validating a verbatim circuit with local emulator\n",
    "\n",
    "Before performing the noisy emulation of the verbatim circuit, the local emulator will first validate the circuit against the calibration data of the target QPU. In particular, before performing the noisy simulation, the local emulator will validate the input circuit as follows."
   ]
  },
  {
   "cell_type": "code",
   "execution_count": 15,
   "id": "4b437980",
   "metadata": {},
   "outputs": [],
   "source": [
    "ankaa3_emulator.validate(verbatim_circuit)"
   ]
  },
  {
   "cell_type": "markdown",
   "id": "71e5879b",
   "metadata": {},
   "source": [
    "Not surprisingly, the `verbatim_circuit` passes the validations against Ankaa-3's device properties, which check\n",
    "\n",
    "1. If the qubits used in the circuit exist on the QPU\n",
    "2. If the gates used in the circuit are native gates of the QPU\n",
    "3. If the two-qubit gates are applied to qubits that are not connected in the device's topology\n",
    "\n",
    "If the verbatim circuit failed any of the above validations, the local emulation will halt and output the corresponding error message. Below we will show some invalid circuits for each of the above cases.\n"
   ]
  },
  {
   "cell_type": "markdown",
   "id": "93fc91cd",
   "metadata": {},
   "source": [
    "### a. Qubit doesn't exist on the device\n",
    "Ankaa-3 has 84 qubits numbered 0-83, so applying a gate on qubit 84 will throw an error"
   ]
  },
  {
   "cell_type": "code",
   "execution_count": 7,
   "id": "8267bb67",
   "metadata": {},
   "outputs": [
    {
     "name": "stdout",
     "output_type": "stream",
     "text": [
      "Failure with error message: Qubit Qubit(84) does not exist in the device topology. (DeviceEmulator)\n"
     ]
    }
   ],
   "source": [
    "invalid_circuit = Circuit().add_verbatim_box(Circuit().rx(84, pi / 2))\n",
    "\n",
    "try:\n",
    "    result = ankaa3_emulator.run(invalid_circuit, shots=1000)\n",
    "    print(\"Success!\")\n",
    "except Exception as e:\n",
    "    print(f\"Failure with error message: {str(e)}\")"
   ]
  },
  {
   "cell_type": "markdown",
   "id": "c5c32cb8",
   "metadata": {},
   "source": [
    "If one is only interested in validating the circuit and not the noisy simulation result, they could simply validate the circuit as follows.\n"
   ]
  },
  {
   "cell_type": "code",
   "execution_count": 9,
   "id": "deb75dae",
   "metadata": {},
   "outputs": [
    {
     "name": "stdout",
     "output_type": "stream",
     "text": [
      "Failure with error message: Qubit Qubit(84) does not exist in the device topology. (DeviceEmulator)\n"
     ]
    }
   ],
   "source": [
    "try:\n",
    "    ankaa3_emulator.validate(invalid_circuit)\n",
    "    print(\"Success!\")\n",
    "except Exception as e:\n",
    "    print(f\"Failure with error message: {str(e)}\")"
   ]
  },
  {
   "cell_type": "markdown",
   "id": "c09d194a",
   "metadata": {},
   "source": [
    "#### b. Using non-native gates\n",
    "As we have seen above, the native gate set for Ankaa-3 is rx, rz, and iswap. Thus, if we apply a Hadamard gate we will get an error"
   ]
  },
  {
   "cell_type": "code",
   "execution_count": 14,
   "id": "43724f3e",
   "metadata": {},
   "outputs": [
    {
     "name": "stdout",
     "output_type": "stream",
     "text": [
      "Failure with error message: Gate H is not a native gate for this device. (DeviceEmulator)\n"
     ]
    }
   ],
   "source": [
    "invalid_circuit = Circuit().add_verbatim_box(Circuit().h(0))\n",
    "\n",
    "try:\n",
    "    result = ankaa3_emulator.validate(invalid_circuit)\n",
    "    print(\"Success!\")\n",
    "except Exception as e:\n",
    "    print(f\"Failure with error message: {str(e)}\")"
   ]
  },
  {
   "cell_type": "markdown",
   "id": "82ce60d4",
   "metadata": {},
   "source": [
    "#### c. Applying two-qubit gates on unconnected qubits\n",
    "On Ankaa-3, qubits 0 and 2 are not connected, so we cannot apply a two-qubit gate on them"
   ]
  },
  {
   "cell_type": "code",
   "execution_count": 13,
   "id": "305b6073",
   "metadata": {},
   "outputs": [
    {
     "name": "stdout",
     "output_type": "stream",
     "text": [
      "Failure with error message: 0 is not connected to qubit 2 in this device. (DeviceEmulator)\n"
     ]
    }
   ],
   "source": [
    "invalid_circuit = Circuit().add_verbatim_box(Circuit().iswap(0, 2))\n",
    "\n",
    "try:\n",
    "    result = ankaa3_emulator.validate(invalid_circuit)\n",
    "    print(\"Success!\")\n",
    "except Exception as e:\n",
    "    print(f\"Failure with error message: {str(e)}\")"
   ]
  },
  {
   "cell_type": "markdown",
   "id": "1df4880d",
   "metadata": {},
   "source": [
    "### d. Inspecting the noisy verbatim circuit\n",
    "\n",
    "Once the verbatim circuit passes the validation, the local emulator will apply depolarizing noise to each of the gates in the circuit to mimic the noise in the target QPU. The noise model is constructed based on the device properties, and more details can be found in [this notebook](https://github.com/amazon-braket/amazon-braket-examples/blob/main/examples/braket_features/Noise_models/Noise_models_on_Rigetti.ipynb). The noisy circuit will be then simulated using the [local density matrix simulator](https://docs.aws.amazon.com/braket/latest/developerguide/braket-submit-tasks-simulators.html#braket-simulator-dm) (see [this notebook](https://github.com/amazon-braket/amazon-braket-examples/blob/main/examples/braket_features/Simulating_Noise_On_Amazon_Braket.ipynb) for more details on noisy simulator). We can inspect the noisy circuit as following.\n"
   ]
  },
  {
   "cell_type": "code",
   "execution_count": 16,
   "id": "c9eae3fb",
   "metadata": {},
   "outputs": [
    {
     "name": "stdout",
     "output_type": "stream",
     "text": [
      "T  : │        0        │               1               │            2             │               3               │       4       │\n",
      "                        ┌──────────┐  ┌───────────────┐ ┌───────┐ ┌─────────────┐  ┌───────────┐ ┌───────────────┐                 \n",
      "q0 : ───StartVerbatim───┤ Rx(1.57) ├──┤ DEPO(0.00061) ├─┤ ISWAP ├─┤ DEPO(0.021) ├──┤ Rx(-1.57) ├─┤ DEPO(0.00061) ├───EndVerbatim───\n",
      "              ║         └──────────┘  └───────────────┘ └───┬───┘ └──────┬──────┘  └───────────┘ └───────────────┘        ║        \n",
      "              ║         ┌──────────┐  ┌───────────────┐ ┌───┴───┐ ┌──────┴──────┐    ┌───────┐    ┌─────────────┐         ║        \n",
      "q1 : ─────────║─────────┤ Rz(3.14) ├──┤ DEPO(0.00099) ├─┤ ISWAP ├─┤ DEPO(0.021) ├────┤ ISWAP ├────┤ DEPO(0.015) ├─────────║────────\n",
      "              ║         └──────────┘  └───────────────┘ └───────┘ └─────────────┘    └───┬───┘    └──────┬──────┘         ║        \n",
      "              ║         ┌───────────┐ ┌───────────────┐ ┌───────┐ ┌──────────────┐   ┌───┴───┐    ┌──────┴──────┐         ║        \n",
      "q2 : ─────────║─────────┤ Rx(-1.57) ├─┤ DEPO(0.00078) ├─┤ ISWAP ├─┤ DEPO(0.0072) ├───┤ ISWAP ├────┤ DEPO(0.015) ├─────────║────────\n",
      "              ║         └───────────┘ └───────────────┘ └───┬───┘ └──────┬───────┘   └───────┘    └─────────────┘         ║        \n",
      "              ║         ┌──────────┐  ┌───────────────┐ ┌───┴───┐ ┌──────┴───────┐ ┌───────────┐ ┌───────────────┐        ║        \n",
      "q3 : ─────────╨─────────┤ Rz(1.57) ├──┤ DEPO(0.00055) ├─┤ ISWAP ├─┤ DEPO(0.0072) ├─┤ Rz(-3.14) ├─┤ DEPO(0.00055) ├────────╨────────\n",
      "                        └──────────┘  └───────────────┘ └───────┘ └──────────────┘ └───────────┘ └───────────────┘                 \n",
      "T  : │        0        │               1               │            2             │               3               │       4       │\n"
     ]
    }
   ],
   "source": [
    "noisy_circ = ankaa3_emulator.transform(verbatim_circuit)\n",
    "print(noisy_circ)"
   ]
  },
  {
   "cell_type": "markdown",
   "id": "dbfc1479",
   "metadata": {},
   "source": [
    "## Comparing emulator results to the target QPU"
   ]
  },
  {
   "cell_type": "markdown",
   "id": "bdf76ec6",
   "metadata": {},
   "source": [
    "Next, we want to see how well does the emulator capture the device results as compared to the noiseless simulator. Let's start by getting the noiseless simulation result."
   ]
  },
  {
   "cell_type": "code",
   "execution_count": null,
   "id": "149b0f83",
   "metadata": {},
   "outputs": [],
   "source": [
    "from braket.devices import LocalSimulator\n",
    "\n",
    "local_sim = LocalSimulator()\n",
    "\n",
    "sim_run = local_sim.run(verbatim_circuit, shots=1000).result()\n",
    "sim_counts = sim_run.measurement_counts"
   ]
  },
  {
   "cell_type": "markdown",
   "id": "f6ba12ca",
   "metadata": {},
   "source": [
    "Since we have obtained the (noisy) emulation and QPU results above, we now plot all the results to visualize them."
   ]
  },
  {
   "cell_type": "code",
   "execution_count": null,
   "id": "06ab6c8d",
   "metadata": {},
   "outputs": [
    {
     "data": {
      "image/png": "[encoded data removed]",
      "text/plain": [
       "<Figure size 1200x600 with 1 Axes>"
      ]
     },
     "metadata": {},
     "output_type": "display_data"
    }
   ],
   "source": [
    "import numpy as np\n",
    "\n",
    "all_bitstrings = sorted(\n",
    "    set(list(emulator_counts.keys()) + list(device_counts.keys()) + list(sim_counts.keys()))\n",
    ")\n",
    "\n",
    "fig, ax = plt.subplots(figsize=(12, 6))\n",
    "bar_width = 0.25\n",
    "x = np.arange(len(all_bitstrings))\n",
    "\n",
    "emulator_bars = ax.bar(\n",
    "    x - bar_width,\n",
    "    [emulator_counts.get(b, 0) for b in all_bitstrings],\n",
    "    bar_width,\n",
    "    label=\"Emulator\",\n",
    "    alpha=0.7,\n",
    ")\n",
    "\n",
    "device_bars = ax.bar(\n",
    "    x, [device_counts.get(b, 0) for b in all_bitstrings], bar_width, label=\"Device\", alpha=0.7\n",
    ")\n",
    "\n",
    "sim_bars = ax.bar(\n",
    "    x + bar_width,\n",
    "    [sim_counts.get(b, 0) for b in all_bitstrings],\n",
    "    bar_width,\n",
    "    label=\"Simulator\",\n",
    "    alpha=0.7,\n",
    ")\n",
    "\n",
    "ax.set_xlabel(\"Bitstrings\", fontsize=12)\n",
    "ax.set_ylabel(\"Counts\", fontsize=12)\n",
    "ax.set_xticks(x)\n",
    "ax.set_xticklabels(all_bitstrings, rotation=45)\n",
    "ax.legend()\n",
    "plt.tight_layout()\n",
    "plt.show()"
   ]
  },
  {
   "cell_type": "markdown",
   "id": "6d27578a",
   "metadata": {},
   "source": [
    "To quantify the discrepancy between the three results, we compute the fidelity between their respective bit-string probabilities, defined for two arrays $p$ and $q$ as\n",
    "$$ \\text{fidelity} = (\\sum_i \\sqrt{p_i q_i})^2$$"
   ]
  },
  {
   "cell_type": "markdown",
   "id": "d3f68204",
   "metadata": {},
   "source": [
    "First, we get the probabilities for each result"
   ]
  },
  {
   "cell_type": "code",
   "execution_count": null,
   "id": "4798bb9a",
   "metadata": {},
   "outputs": [
    {
     "data": {
      "text/html": [
       "<div>\n",
       "<style scoped>\n",
       "    .dataframe tbody tr th:only-of-type {\n",
       "        vertical-align: middle;\n",
       "    }\n",
       "\n",
       "    .dataframe tbody tr th {\n",
       "        vertical-align: top;\n",
       "    }\n",
       "\n",
       "    .dataframe thead th {\n",
       "        text-align: right;\n",
       "    }\n",
       "</style>\n",
       "<table border=\"1\" class=\"dataframe\">\n",
       "  <thead>\n",
       "    <tr style=\"text-align: right;\">\n",
       "      <th></th>\n",
       "      <th>device</th>\n",
       "      <th>sim</th>\n",
       "      <th>emulator</th>\n",
       "    </tr>\n",
       "  </thead>\n",
       "  <tbody>\n",
       "    <tr>\n",
       "      <th>0110</th>\n",
       "      <td>0.006</td>\n",
       "      <td>NaN</td>\n",
       "      <td>0.003</td>\n",
       "    </tr>\n",
       "    <tr>\n",
       "      <th>1010</th>\n",
       "      <td>0.098</td>\n",
       "      <td>0.114</td>\n",
       "      <td>0.125</td>\n",
       "    </tr>\n",
       "    <tr>\n",
       "      <th>1011</th>\n",
       "      <td>0.121</td>\n",
       "      <td>0.109</td>\n",
       "      <td>0.116</td>\n",
       "    </tr>\n",
       "    <tr>\n",
       "      <th>0000</th>\n",
       "      <td>0.146</td>\n",
       "      <td>0.125</td>\n",
       "      <td>0.141</td>\n",
       "    </tr>\n",
       "    <tr>\n",
       "      <th>0001</th>\n",
       "      <td>0.130</td>\n",
       "      <td>0.133</td>\n",
       "      <td>0.125</td>\n",
       "    </tr>\n",
       "    <tr>\n",
       "      <th>0010</th>\n",
       "      <td>0.124</td>\n",
       "      <td>0.111</td>\n",
       "      <td>0.123</td>\n",
       "    </tr>\n",
       "    <tr>\n",
       "      <th>1000</th>\n",
       "      <td>0.122</td>\n",
       "      <td>0.135</td>\n",
       "      <td>0.107</td>\n",
       "    </tr>\n",
       "    <tr>\n",
       "      <th>0011</th>\n",
       "      <td>0.105</td>\n",
       "      <td>0.119</td>\n",
       "      <td>0.148</td>\n",
       "    </tr>\n",
       "    <tr>\n",
       "      <th>1001</th>\n",
       "      <td>0.115</td>\n",
       "      <td>0.154</td>\n",
       "      <td>0.103</td>\n",
       "    </tr>\n",
       "    <tr>\n",
       "      <th>1101</th>\n",
       "      <td>0.003</td>\n",
       "      <td>NaN</td>\n",
       "      <td>0.002</td>\n",
       "    </tr>\n",
       "    <tr>\n",
       "      <th>0101</th>\n",
       "      <td>0.004</td>\n",
       "      <td>NaN</td>\n",
       "      <td>NaN</td>\n",
       "    </tr>\n",
       "    <tr>\n",
       "      <th>1110</th>\n",
       "      <td>0.004</td>\n",
       "      <td>NaN</td>\n",
       "      <td>0.001</td>\n",
       "    </tr>\n",
       "    <tr>\n",
       "      <th>1100</th>\n",
       "      <td>0.008</td>\n",
       "      <td>NaN</td>\n",
       "      <td>0.001</td>\n",
       "    </tr>\n",
       "    <tr>\n",
       "      <th>1111</th>\n",
       "      <td>0.005</td>\n",
       "      <td>NaN</td>\n",
       "      <td>0.002</td>\n",
       "    </tr>\n",
       "    <tr>\n",
       "      <th>0100</th>\n",
       "      <td>0.005</td>\n",
       "      <td>NaN</td>\n",
       "      <td>0.002</td>\n",
       "    </tr>\n",
       "    <tr>\n",
       "      <th>0111</th>\n",
       "      <td>0.004</td>\n",
       "      <td>NaN</td>\n",
       "      <td>0.001</td>\n",
       "    </tr>\n",
       "  </tbody>\n",
       "</table>\n",
       "</div>"
      ],
      "text/plain": [
       "      device    sim  emulator\n",
       "0110   0.006    NaN     0.003\n",
       "1010   0.098  0.114     0.125\n",
       "1011   0.121  0.109     0.116\n",
       "0000   0.146  0.125     0.141\n",
       "0001   0.130  0.133     0.125\n",
       "0010   0.124  0.111     0.123\n",
       "1000   0.122  0.135     0.107\n",
       "0011   0.105  0.119     0.148\n",
       "1001   0.115  0.154     0.103\n",
       "1101   0.003    NaN     0.002\n",
       "0101   0.004    NaN       NaN\n",
       "1110   0.004    NaN     0.001\n",
       "1100   0.008    NaN     0.001\n",
       "1111   0.005    NaN     0.002\n",
       "0100   0.005    NaN     0.002\n",
       "0111   0.004    NaN     0.001"
      ]
     },
     "execution_count": 23,
     "metadata": {},
     "output_type": "execute_result"
    }
   ],
   "source": [
    "import pandas as pd\n",
    "\n",
    "emulator_probs_dict = emulator_result.measurement_probabilities\n",
    "sim_probs_dict = sim_run.measurement_probabilities\n",
    "device_probs_dict = device_result.measurement_probabilities\n",
    "\n",
    "emulator_probs_df = pd.DataFrame.from_dict(emulator_probs_dict, orient=\"index\").rename(\n",
    "    columns={0: \"emulator\"}\n",
    ")\n",
    "sim_probs_df = pd.DataFrame.from_dict(sim_probs_dict, orient=\"index\").rename(columns={0: \"sim\"})\n",
    "device_probs_df = pd.DataFrame.from_dict(device_probs_dict, orient=\"index\").rename(\n",
    "    columns={0: \"device\"}\n",
    ")\n",
    "df = device_probs_df.join(sim_probs_df).join(emulator_probs_df)\n",
    "df"
   ]
  },
  {
   "cell_type": "markdown",
   "id": "5559c67e",
   "metadata": {},
   "source": [
    "Then we define and compute the fidelity"
   ]
  },
  {
   "cell_type": "code",
   "execution_count": null,
   "id": "3ab25110",
   "metadata": {},
   "outputs": [
    {
     "name": "stdout",
     "output_type": "stream",
     "text": [
      "\n",
      "Fidelity between Ankaa-3 and noise-free simulator is 0.956\n",
      "\n",
      "Fidelity between Ankaa-3 and emulator is 0.982\n"
     ]
    }
   ],
   "source": [
    "import numpy as np\n",
    "\n",
    "\n",
    "def fidelity(p, q):\n",
    "    return np.sum(np.sqrt(p * q)) ** 2\n",
    "\n",
    "\n",
    "print(\n",
    "    f\"\\nFidelity between Ankaa-3 and noise-free simulator is {fidelity(df['device'], df['sim']):.3f}\"\n",
    ")\n",
    "print(f\"\\nFidelity between Ankaa-3 and emulator is {fidelity(df['device'], df['emulator']):.3f}\")"
   ]
  },
  {
   "cell_type": "markdown",
   "id": "6ef1c4c5",
   "metadata": {},
   "source": [
    "We see that, indeed, the local emulator produces results closer to the QPU result than that of the noiseless simulator."
   ]
  },
  {
   "cell_type": "markdown",
   "id": "9525762b",
   "metadata": {},
   "source": [
    "## Emulating a verbatim circuit with custom device properties\n",
    "\n",
    "In the above example, we have seen how to instantiate a device emulator using up-to-date device properties from an AWS device. Another important application for the local emulator is to perform local validation and emulation using historical calibration data from the AWS devices or custom device properties. For that, let us first load the calibration data from the IQM Garnet device dated July 6th 2025."
   ]
  },
  {
   "cell_type": "code",
   "execution_count": 10,
   "id": "fae009e9",
   "metadata": {},
   "outputs": [],
   "source": [
    "import json\n",
    "\n",
    "with open(\"iqm_device_properties_20250706.json\", \"r\") as json_file:\n",
    "    garnet_data_json = json.load(json_file)"
   ]
  },
  {
   "cell_type": "markdown",
   "id": "a376fb05",
   "metadata": {},
   "source": [
    "The json file for the calibration data of AWS devices can be downloaded from the AWS console or using Braket SDK, as shown in the below commented code"
   ]
  },
  {
   "cell_type": "code",
   "execution_count": null,
   "id": "9bc22016",
   "metadata": {},
   "outputs": [],
   "source": [
    "# import datetime\n",
    "\n",
    "# garnet_properties_json = garnet.properties.json()\n",
    "\n",
    "# dt = datetime.now()\n",
    "# dt_string = dt.strftime(\"%Y%m%d\")\n",
    "\n",
    "# with open(f\"garnet_device_properties_{dt_string}.json\", \"w\") as f:\n",
    "#     json.dump(garnet_properties_json, f)"
   ]
  },
  {
   "cell_type": "markdown",
   "id": "c18f2ab9",
   "metadata": {},
   "source": [
    "We can confirm the date of the calibration data as follows"
   ]
  },
  {
   "cell_type": "code",
   "execution_count": null,
   "id": "e6f9a5b3",
   "metadata": {},
   "outputs": [
    {
     "name": "stdout",
     "output_type": "stream",
     "text": [
      "2025-07-06T17:52:53.997626+00:00\n"
     ]
    }
   ],
   "source": [
    "garnet_data_dict = json.loads(garnet_data_json)\n",
    "print(garnet_data_dict[\"service\"][\"updatedAt\"])"
   ]
  },
  {
   "cell_type": "markdown",
   "id": "e839c41d",
   "metadata": {},
   "source": [
    "A local device emulator can be instantiated using the device properties json as the following"
   ]
  },
  {
   "cell_type": "code",
   "execution_count": 13,
   "id": "eef3807e",
   "metadata": {},
   "outputs": [],
   "source": [
    "from braket.emulation.local_emulator import LocalEmulator\n",
    "\n",
    "garnet_emulator = LocalEmulator.from_json(garnet_data_json)"
   ]
  },
  {
   "cell_type": "markdown",
   "id": "10e5cae2",
   "metadata": {},
   "source": [
    "The local emulator can be used in exactly the same way as illustrated above. Let us build several verbatim circuits made of a series of cz gates, the native two-qubit gate supported on the Garnet device, and check their validity."
   ]
  },
  {
   "cell_type": "code",
   "execution_count": null,
   "id": "a49b53b1",
   "metadata": {},
   "outputs": [
    {
     "name": "stdout",
     "output_type": "stream",
     "text": [
      "Failure with error message: 0 is not connected to qubit 1 in this device. (DeviceEmulator)\n",
      "Failure with error message: 2 is not connected to qubit 3 in this device. (DeviceEmulator)\n",
      "Success!\n"
     ]
    }
   ],
   "source": [
    "def get_verbatim_circuit_garnet(q1, q2, num_cz):\n",
    "    circ = Circuit()\n",
    "    for _ in range(num_cz):\n",
    "        circ.cz(q1, q2)\n",
    "\n",
    "    circ = Circuit().add_verbatim_box(circ)\n",
    "    try:\n",
    "        garnet_emulator.validate(circ)\n",
    "        print(\"Success!\")\n",
    "    except Exception as e:\n",
    "        print(f\"Failure with error message: {str(e)}\")\n",
    "\n",
    "    return circ\n",
    "\n",
    "\n",
    "verbatim_circuit_garnet_1 = get_verbatim_circuit_garnet(0, 1, 10)\n",
    "verbatim_circuit_garnet_2 = get_verbatim_circuit_garnet(2, 3, 10)\n",
    "verbatim_circuit_garnet_3 = get_verbatim_circuit_garnet(1, 2, 10)"
   ]
  },
  {
   "cell_type": "markdown",
   "id": "2e333865",
   "metadata": {},
   "source": [
    "We see that the first two circuits do not comply with the device constraints and the local emulator was able to correctly spot the failures. For the third circuit, if there is no noise, the circuit is equivalent to an identity circuit and the only bitstring output would be `00`. On the other hand, the presence of noise indicating that the fidelity of `00` would not be unity and we are interested in how its probability depends on the noise of the cz gate of the device. For that, let us first visualize the noisy version of `verbatim_circuit_garnet_3`."
   ]
  },
  {
   "cell_type": "code",
   "execution_count": 17,
   "id": "fd72e819",
   "metadata": {},
   "outputs": [
    {
     "name": "stdout",
     "output_type": "stream",
     "text": [
      "T  : │        0        │          1          │          2          │          3          │          4          │          5          │          6          │          7          │          8          │          9          │         10          │      11       │\n",
      "                              ┌─────────────┐       ┌─────────────┐       ┌─────────────┐       ┌─────────────┐       ┌─────────────┐       ┌─────────────┐       ┌─────────────┐       ┌─────────────┐       ┌─────────────┐       ┌─────────────┐                 \n",
      "q1 : ───StartVerbatim─────●───┤ DEPO(0.018) ├───●───┤ DEPO(0.018) ├───●───┤ DEPO(0.018) ├───●───┤ DEPO(0.018) ├───●───┤ DEPO(0.018) ├───●───┤ DEPO(0.018) ├───●───┤ DEPO(0.018) ├───●───┤ DEPO(0.018) ├───●───┤ DEPO(0.018) ├───●───┤ DEPO(0.018) ├───EndVerbatim───\n",
      "              ║           │   └──────┬──────┘   │   └──────┬──────┘   │   └──────┬──────┘   │   └──────┬──────┘   │   └──────┬──────┘   │   └──────┬──────┘   │   └──────┬──────┘   │   └──────┬──────┘   │   └──────┬──────┘   │   └──────┬──────┘        ║        \n",
      "              ║         ┌─┴─┐ ┌──────┴──────┐ ┌─┴─┐ ┌──────┴──────┐ ┌─┴─┐ ┌──────┴──────┐ ┌─┴─┐ ┌──────┴──────┐ ┌─┴─┐ ┌──────┴──────┐ ┌─┴─┐ ┌──────┴──────┐ ┌─┴─┐ ┌──────┴──────┐ ┌─┴─┐ ┌──────┴──────┐ ┌─┴─┐ ┌──────┴──────┐ ┌─┴─┐ ┌──────┴──────┐        ║        \n",
      "q2 : ─────────╨─────────┤ Z ├─┤ DEPO(0.018) ├─┤ Z ├─┤ DEPO(0.018) ├─┤ Z ├─┤ DEPO(0.018) ├─┤ Z ├─┤ DEPO(0.018) ├─┤ Z ├─┤ DEPO(0.018) ├─┤ Z ├─┤ DEPO(0.018) ├─┤ Z ├─┤ DEPO(0.018) ├─┤ Z ├─┤ DEPO(0.018) ├─┤ Z ├─┤ DEPO(0.018) ├─┤ Z ├─┤ DEPO(0.018) ├────────╨────────\n",
      "                        └───┘ └─────────────┘ └───┘ └─────────────┘ └───┘ └─────────────┘ └───┘ └─────────────┘ └───┘ └─────────────┘ └───┘ └─────────────┘ └───┘ └─────────────┘ └───┘ └─────────────┘ └───┘ └─────────────┘ └───┘ └─────────────┘                 \n",
      "T  : │        0        │          1          │          2          │          3          │          4          │          5          │          6          │          7          │          8          │          9          │         10          │      11       │\n"
     ]
    }
   ],
   "source": [
    "noisy_verbatim_circuit_garnet_3 = garnet_emulator.transform(verbatim_circuit_garnet_3)\n",
    "print(noisy_verbatim_circuit_garnet_3)"
   ]
  },
  {
   "cell_type": "markdown",
   "id": "28001677",
   "metadata": {},
   "source": [
    "Note that the parameter in the depolarizing channel is extracted from the calibration data of Garnet dated July 6th 2025. For our purpose, we can modify the calibration data for the `q1-q2` pair as follows"
   ]
  },
  {
   "cell_type": "code",
   "execution_count": 38,
   "id": "be6b2a3b",
   "metadata": {},
   "outputs": [],
   "source": [
    "garnet_data_dict = json.loads(garnet_data_json)\n",
    "garnet_data_dict[\"standardized\"][\"twoQubitProperties\"][\"1-2\"][\"twoQubitGateFidelity\"][0][\n",
    "    \"fidelity\"\n",
    "] = 1.0\n",
    "garnet_data_json_modified = json.dumps(garnet_data_dict)"
   ]
  },
  {
   "cell_type": "markdown",
   "id": "fb1ae13a",
   "metadata": {},
   "source": [
    "Here we have set the cz gate for the `q1-q2` pair to be a noiseless gate with fidelity 1.0. We can instantiate the local emulator and inspect the noisy circuit again."
   ]
  },
  {
   "cell_type": "code",
   "execution_count": 39,
   "id": "94f9b175",
   "metadata": {},
   "outputs": [
    {
     "name": "stdout",
     "output_type": "stream",
     "text": [
      "T  : │        0        │        1        │        2        │        3        │        4        │        5        │        6        │        7        │        8        │        9        │       10        │      11       │\n",
      "                              ┌─────────┐       ┌─────────┐       ┌─────────┐       ┌─────────┐       ┌─────────┐       ┌─────────┐       ┌─────────┐       ┌─────────┐       ┌─────────┐       ┌─────────┐                 \n",
      "q1 : ───StartVerbatim─────●───┤ DEPO(0) ├───●───┤ DEPO(0) ├───●───┤ DEPO(0) ├───●───┤ DEPO(0) ├───●───┤ DEPO(0) ├───●───┤ DEPO(0) ├───●───┤ DEPO(0) ├───●───┤ DEPO(0) ├───●───┤ DEPO(0) ├───●───┤ DEPO(0) ├───EndVerbatim───\n",
      "              ║           │   └────┬────┘   │   └────┬────┘   │   └────┬────┘   │   └────┬────┘   │   └────┬────┘   │   └────┬────┘   │   └────┬────┘   │   └────┬────┘   │   └────┬────┘   │   └────┬────┘        ║        \n",
      "              ║         ┌─┴─┐ ┌────┴────┐ ┌─┴─┐ ┌────┴────┐ ┌─┴─┐ ┌────┴────┐ ┌─┴─┐ ┌────┴────┐ ┌─┴─┐ ┌────┴────┐ ┌─┴─┐ ┌────┴────┐ ┌─┴─┐ ┌────┴────┐ ┌─┴─┐ ┌────┴────┐ ┌─┴─┐ ┌────┴────┐ ┌─┴─┐ ┌────┴────┐        ║        \n",
      "q2 : ─────────╨─────────┤ Z ├─┤ DEPO(0) ├─┤ Z ├─┤ DEPO(0) ├─┤ Z ├─┤ DEPO(0) ├─┤ Z ├─┤ DEPO(0) ├─┤ Z ├─┤ DEPO(0) ├─┤ Z ├─┤ DEPO(0) ├─┤ Z ├─┤ DEPO(0) ├─┤ Z ├─┤ DEPO(0) ├─┤ Z ├─┤ DEPO(0) ├─┤ Z ├─┤ DEPO(0) ├────────╨────────\n",
      "                        └───┘ └─────────┘ └───┘ └─────────┘ └───┘ └─────────┘ └───┘ └─────────┘ └───┘ └─────────┘ └───┘ └─────────┘ └───┘ └─────────┘ └───┘ └─────────┘ └───┘ └─────────┘ └───┘ └─────────┘                 \n",
      "T  : │        0        │        1        │        2        │        3        │        4        │        5        │        6        │        7        │        8        │        9        │       10        │      11       │\n"
     ]
    }
   ],
   "source": [
    "garnet_emulator = LocalEmulator.from_json(garnet_data_json_modified)\n",
    "noisy_verbatim_circuit_garnet_3 = garnet_emulator.transform(verbatim_circuit_garnet_3)\n",
    "print(noisy_verbatim_circuit_garnet_3)"
   ]
  },
  {
   "cell_type": "markdown",
   "id": "3f7696ef",
   "metadata": {},
   "source": [
    "In the above diagram `DEPO(0)` indidates a depolarizing channel with noise rate equal to 0, for which we expect that the circuit would return `00` with unity probability. Let us vary the noise rate of the cz gate for the `q1-q2` pair and plot the probability of `00` from the local emulator."
   ]
  },
  {
   "cell_type": "code",
   "execution_count": 49,
   "id": "aca8bd70",
   "metadata": {},
   "outputs": [],
   "source": [
    "fidelity_list = [\n",
    "    i / 100\n",
    "    for i in range(\n",
    "        90,\n",
    "        101,\n",
    "    )\n",
    "]\n",
    "shots = 1000\n",
    "counts_list = []\n",
    "for fidelity in fidelity_list:\n",
    "    garnet_data_dict = json.loads(garnet_data_json_modified)\n",
    "    garnet_data_dict[\"standardized\"][\"twoQubitProperties\"][\"1-2\"][\"twoQubitGateFidelity\"][0][\n",
    "        \"fidelity\"\n",
    "    ] = fidelity\n",
    "    garnet_data_json_modified = json.dumps(garnet_data_dict)\n",
    "\n",
    "    garnet_emulator = LocalEmulator.from_json(garnet_data_json_modified)\n",
    "    counts = garnet_emulator.run(verbatim_circuit_garnet_3, shots=shots).result().measurement_counts\n",
    "    counts_list.append(counts.get(\"00\", 0) / shots)"
   ]
  },
  {
   "cell_type": "code",
   "execution_count": 52,
   "id": "5cff2105",
   "metadata": {},
   "outputs": [
    {
     "data": {
      "text/plain": [
       "Text(0.5, 1.0, 'Probability of 00 vs CZ gate fidelity')"
      ]
     },
     "execution_count": 52,
     "metadata": {},
     "output_type": "execute_result"
    },
    {
     "data": {
      "image/png": "[encoded data removed]",
      "text/plain": [
       "<Figure size 640x480 with 1 Axes>"
      ]
     },
     "metadata": {},
     "output_type": "display_data"
    }
   ],
   "source": [
    "import matplotlib.pyplot as plt\n",
    "\n",
    "plt.plot(fidelity_list, counts_list, marker=\"o\")\n",
    "plt.xlabel(\"CZ gate fidelity\")\n",
    "plt.ylabel(\"Probability of 00\")\n",
    "plt.title(\"Probability of 00 vs CZ gate fidelity\")"
   ]
  },
  {
   "cell_type": "markdown",
   "id": "51758982",
   "metadata": {},
   "source": [
    "Indeed, we see that the probability of obtaining `00` is increasing as we increase the cz gate fidelity. This example shows how one could use custom device properties to perform local emulation, which could useful for developing noise-aware algorithms, or characterizing the target device."
   ]
  },
  {
   "cell_type": "markdown",
   "id": "04108b6b",
   "metadata": {},
   "source": [
    "## Summary\n",
    "In this notebook, we have shown how to utilize the local emulator to perform noisy simulation for Braket devices with real-time noise parameters. We have also shown how we can use historically saved noise parameters to perform noisy simulations for a device state on a particular day."
   ]
  },
  {
   "cell_type": "code",
   "execution_count": 8,
   "id": "e9d11bdf",
   "metadata": {},
   "outputs": [
    {
     "name": "stdout",
     "output_type": "stream",
     "text": [
      "Quantum Task Summary\n",
      "{'arn:aws:braket:us-west-1::device/qpu/rigetti/Ankaa-3': {'shots': 1000, 'tasks': {'CREATED': 1}}}\n",
      "Note: Charges shown are estimates based on your Amazon Braket simulator and quantum processing unit (QPU) task usage. Estimated charges shown may differ from your actual charges. Estimated charges do not factor in any discounts or credits, and you may experience additional charges based on your use of other services such as Amazon Elastic Compute Cloud (Amazon EC2).\n",
      "Estimated cost to run this example: 1.200 USD\n"
     ]
    }
   ],
   "source": [
    "print(\"Quantum Task Summary\")\n",
    "print(t.quantum_tasks_statistics())\n",
    "print(\n",
    "    \"Note: Charges shown are estimates based on your Amazon Braket simulator and quantum processing unit (QPU) task usage. Estimated charges shown may differ from your actual charges. Estimated charges do not factor in any discounts or credits, and you may experience additional charges based on your use of other services such as Amazon Elastic Compute Cloud (Amazon EC2).\",\n",
    ")\n",
    "print(\n",
    "    f\"Estimated cost to run this example: {t.qpu_tasks_cost() + t.simulator_tasks_cost():.3f} USD\",\n",
    ")"
   ]
  },
  {
   "cell_type": "code",
   "execution_count": null,
   "id": "0196d619",
   "metadata": {},
   "outputs": [],
   "source": []
  }
 ],
 "metadata": {
  "kernelspec": {
   "display_name": "venv",
   "language": "python",
   "name": "python3"
  },
  "language_info": {
   "codemirror_mode": {
    "name": "ipython",
    "version": 3
   },
   "file_extension": ".py",
   "mimetype": "text/x-python",
   "name": "python",
   "nbconvert_exporter": "python",
   "pygments_lexer": "ipython3",
   "version": "3.12.7"
  }
 },
 "nbformat": 4,
 "nbformat_minor": 5
}
