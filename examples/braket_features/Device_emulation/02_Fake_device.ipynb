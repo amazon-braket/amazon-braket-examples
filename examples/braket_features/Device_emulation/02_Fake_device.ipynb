{
 "cells": [
  {
   "cell_type": "code",
   "execution_count": 1,
   "id": "5097c563",
   "metadata": {},
   "outputs": [],
   "source": [
    "from braket.emulation.device_emulator_properties import DeviceEmulatorProperties\n",
    "# from braket.circuits.result_type import ResultType\n",
    "from braket.device_schema.result_type import ResultType\n",
    "from braket.emulation.local_emulator import LocalEmulator\n",
    "\n",
    "from braket.device_schema.standardized_gate_model_qpu_device_properties_v1 import (\n",
    "    CoherenceTime,\n",
    "    Fidelity1Q,\n",
    "    FidelityType,\n",
    "    OneQubitProperties,\n",
    "    TwoQubitProperties,\n",
    "    GateFidelity2Q,\n",
    ")\n",
    "\n",
    "oneQubitProperties = OneQubitProperties(\n",
    "    T1=CoherenceTime(value=2e-5, standardError=None, unit=\"S\"),\n",
    "    T2=CoherenceTime(value=8e-6, standardError=None, unit=\"S\"),\n",
    "    oneQubitFidelity=[\n",
    "        Fidelity1Q(\n",
    "            fidelityType=FidelityType(name=\"RANDOMIZED_BENCHMARKING\", description=None),\n",
    "            fidelity=0.99,\n",
    "            standardError=None,\n",
    "        ),\n",
    "        Fidelity1Q(\n",
    "            fidelityType=FidelityType(name=\"READOUT\", description=None),\n",
    "            fidelity=0.9795,\n",
    "            standardError=None,\n",
    "        ),\n",
    "    ],\n",
    ")\n",
    "\n",
    "twoQubitProperties = TwoQubitProperties(\n",
    "    twoQubitGateFidelity=[\n",
    "        GateFidelity2Q(\n",
    "            direction=None,\n",
    "            gateName=\"CZ\",\n",
    "            fidelity=0.99,\n",
    "            standardError=0.0009,\n",
    "            fidelityType=FidelityType(name=\"RANDOMIZED_BENCHMARKING\", description=None),\n",
    "        ),\n",
    "        GateFidelity2Q(\n",
    "            direction=None,\n",
    "            gateName=\"ISwap\",\n",
    "            fidelity=0.99,\n",
    "            standardError=0.0009,\n",
    "            fidelityType=FidelityType(name=\"RANDOMIZED_BENCHMARKING\", description=None),\n",
    "        ),\n",
    "    ]\n",
    ")\n",
    "\n",
    "device_em_properties = DeviceEmulatorProperties(\n",
    "    qubitCount = 2,\n",
    "    nativeGateSet = ['rx', 'rz', 'iswap'],\n",
    "    connectivityGraph = {},\n",
    "    supportedResultTypes = [ResultType(name='Sample', observables=['x', 'y', 'z', 'h', 'i'], minShots=1, maxShots=5000)],\n",
    "    oneQubitProperties = {\"0\": oneQubitProperties, \"1\": oneQubitProperties},\n",
    "    twoQubitProperties = {\"0-1\": twoQubitProperties},\n",
    ")\n",
    "\n",
    "\n",
    "local_emu = LocalEmulator.from_device_properties(device_em_properties)"
   ]
  },
  {
   "cell_type": "code",
   "execution_count": 5,
   "id": "67a2ff23",
   "metadata": {},
   "outputs": [
    {
     "name": "stdout",
     "output_type": "stream",
     "text": [
      "T  : │        0        │     1      │    2    │       3       │\n",
      "                         ┌───────┐   ┌───────┐                 \n",
      "q0 : ───StartVerbatim────┤ Rx(0) ├───┤ ISWAP ├───EndVerbatim───\n",
      "              ║          └───────┘   └───┬───┘        ║        \n",
      "              ║         ┌──────────┐ ┌───┴───┐        ║        \n",
      "q1 : ─────────╨─────────┤ Rz(3.14) ├─┤ ISWAP ├────────╨────────\n",
      "                        └──────────┘ └───────┘                 \n",
      "T  : │        0        │     1      │    2    │       3       │\n"
     ]
    },
    {
     "data": {
      "text/plain": [
       "GateModelQuantumTaskResult(task_metadata=TaskMetadata(braketSchemaHeader=BraketSchemaHeader(name='braket.task_result.task_metadata', version='1'), id='8580eccf-8b4d-4cbc-a9e8-cc767c0b1044', shots=10, deviceId='braket_dm', deviceParameters=None, createdAt=None, endedAt=None, status=None, failureReason=None), additional_metadata=AdditionalMetadata(action=Program(braketSchemaHeader=BraketSchemaHeader(name='braket.ir.openqasm.program', version='1'), source='OPENQASM 3.0;\\nbit[2] b;\\nqubit[2] q;\\nrx(0.0) q[0];\\n#pragma braket noise depolarizing(0.010000000000000009) q[0]\\nrz(3.141592653589793) q[1];\\n#pragma braket noise depolarizing(0.010000000000000009) q[1]\\niswap q[0], q[1];\\n#pragma braket noise two_qubit_depolarizing(0.010000000000000009) q[0], q[1]\\n#pragma braket noise bit_flip(0.020499999999999963) q[0]\\nb[0] = measure q[0];\\n#pragma braket noise bit_flip(0.020499999999999963) q[1]\\nb[1] = measure q[1];', inputs={}), dwaveMetadata=None, ionqMetadata=None, rigettiMetadata=None, oqcMetadata=None, xanaduMetadata=None, queraMetadata=None, simulatorMetadata=None, iqmMetadata=None), result_types=[], values=[], measurements=array([[0, 0],\n",
       "       [0, 0],\n",
       "       [0, 0],\n",
       "       [0, 0],\n",
       "       [0, 0],\n",
       "       [0, 0],\n",
       "       [0, 0],\n",
       "       [0, 0],\n",
       "       [0, 0],\n",
       "       [0, 0]]), measured_qubits=[0, 1], measurement_counts=Counter({'00': 10}), measurement_probabilities={'00': 1.0}, measurements_copied_from_device=True, measurement_counts_copied_from_device=False, measurement_probabilities_copied_from_device=False, _result_types_indices={})"
      ]
     },
     "execution_count": 5,
     "metadata": {},
     "output_type": "execute_result"
    }
   ],
   "source": [
    "from braket.circuits.circuit import Circuit\n",
    "from numpy import pi\n",
    "circ = Circuit().rx(0,0).rz(1,pi).iswap(0,1)\n",
    "circ = Circuit().add_verbatim_box(circ)\n",
    "print(circ)\n",
    "\n",
    "local_emu.run(circ, shots=10).result()"
   ]
  },
  {
   "cell_type": "code",
   "execution_count": null,
   "id": "a0133f74",
   "metadata": {},
   "outputs": [],
   "source": []
  }
 ],
 "metadata": {
  "kernelspec": {
   "display_name": "Python 3",
   "language": "python",
   "name": "python3"
  },
  "language_info": {
   "codemirror_mode": {
    "name": "ipython",
    "version": 3
   },
   "file_extension": ".py",
   "mimetype": "text/x-python",
   "name": "python",
   "nbconvert_exporter": "python",
   "pygments_lexer": "ipython3",
   "version": "3.11.11"
  }
 },
 "nbformat": 4,
 "nbformat_minor": 5
}
