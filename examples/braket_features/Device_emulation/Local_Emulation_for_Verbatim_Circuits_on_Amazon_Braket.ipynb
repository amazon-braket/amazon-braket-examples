{
 "cells": [
  {
   "cell_type": "code",
   "execution_count": 1,
   "id": "179d2181",
   "metadata": {},
   "outputs": [
    {
     "name": "stdout",
     "output_type": "stream",
     "text": [
      "Collecting git+https://github.com/Altanali/amazon-braket-sdk-python.git@only_validation\n",
      "  Cloning https://github.com/Altanali/amazon-braket-sdk-python.git (to revision only_validation) to /private/var/folders/17/wqjdf0nn4dj11p1h8yrx44100000gr/T/pip-req-build-djnhudqx\n",
      "  Running command git clone --filter=blob:none --quiet https://github.com/Altanali/amazon-braket-sdk-python.git /private/var/folders/17/wqjdf0nn4dj11p1h8yrx44100000gr/T/pip-req-build-djnhudqx\n",
      "  Running command git checkout -b only_validation --track origin/only_validation\n",
      "  Switched to a new branch 'only_validation'\n",
      "  branch 'only_validation' set up to track 'origin/only_validation'.\n",
      "  Resolved https://github.com/Altanali/amazon-braket-sdk-python.git to commit 4919883a979ee416f5d9f2314b613ef60e036ff0\n",
      "  Installing build dependencies ... \u001b[?25ldone\n",
      "\u001b[?25h  Getting requirements to build wheel ... \u001b[?25ldone\n",
      "\u001b[?25h  Preparing metadata (pyproject.toml) ... \u001b[?25ldone\n",
      "\u001b[?25hRequirement already satisfied: openpulse in /Users/maolinml/.julia/conda/3/lib/python3.9/site-packages (from amazon-braket-sdk==1.95.1.dev0) (1.0.1)\n",
      "Requirement already satisfied: oqpy~=0.3.5 in /Users/maolinml/.julia/conda/3/lib/python3.9/site-packages (from amazon-braket-sdk==1.95.1.dev0) (0.3.7)\n",
      "Requirement already satisfied: amazon-braket-default-simulator>=1.26.0 in /Users/maolinml/.julia/conda/3/lib/python3.9/site-packages (from amazon-braket-sdk==1.95.1.dev0) (1.26.7)\n",
      "Requirement already satisfied: backoff in /Users/maolinml/.julia/conda/3/lib/python3.9/site-packages (from amazon-braket-sdk==1.95.1.dev0) (2.1.2)\n",
      "Requirement already satisfied: networkx in /Users/maolinml/.julia/conda/3/lib/python3.9/site-packages (from amazon-braket-sdk==1.95.1.dev0) (2.8.4)\n",
      "Requirement already satisfied: boto3>=1.28.53 in /Users/maolinml/.julia/conda/3/lib/python3.9/site-packages (from amazon-braket-sdk==1.95.1.dev0) (1.38.44)\n",
      "Requirement already satisfied: nest-asyncio in /Users/maolinml/.julia/conda/3/lib/python3.9/site-packages (from amazon-braket-sdk==1.95.1.dev0) (1.5.5)\n",
      "Requirement already satisfied: sympy in /Users/maolinml/.julia/conda/3/lib/python3.9/site-packages (from amazon-braket-sdk==1.95.1.dev0) (1.10.1)\n",
      "Requirement already satisfied: amazon-braket-schemas>=1.23.0 in /Users/maolinml/.julia/conda/3/lib/python3.9/site-packages (from amazon-braket-sdk==1.95.1.dev0) (1.24.2)\n",
      "Requirement already satisfied: cloudpickle==2.2.1 in /Users/maolinml/.julia/conda/3/lib/python3.9/site-packages (from amazon-braket-sdk==1.95.1.dev0) (2.2.1)\n",
      "Requirement already satisfied: numpy in /Users/maolinml/.julia/conda/3/lib/python3.9/site-packages (from amazon-braket-sdk==1.95.1.dev0) (1.23.5)\n",
      "Requirement already satisfied: backports.entry-points-selectable in /Users/maolinml/.julia/conda/3/lib/python3.9/site-packages (from amazon-braket-sdk==1.95.1.dev0) (1.3.0)\n",
      "Requirement already satisfied: boltons in /Users/maolinml/.julia/conda/3/lib/python3.9/site-packages (from amazon-braket-sdk==1.95.1.dev0) (21.0.0)\n",
      "Requirement already satisfied: openqasm3 in /Users/maolinml/.julia/conda/3/lib/python3.9/site-packages (from amazon-braket-sdk==1.95.1.dev0) (1.0.1)\n",
      "Requirement already satisfied: opt_einsum in /Users/maolinml/.julia/conda/3/lib/python3.9/site-packages (from amazon-braket-default-simulator>=1.26.0->amazon-braket-sdk==1.95.1.dev0) (3.0.0)\n",
      "Requirement already satisfied: antlr4-python3-runtime==4.9.2 in /Users/maolinml/.julia/conda/3/lib/python3.9/site-packages (from amazon-braket-default-simulator>=1.26.0->amazon-braket-sdk==1.95.1.dev0) (4.9.2)\n",
      "Requirement already satisfied: pydantic>2 in /Users/maolinml/.julia/conda/3/lib/python3.9/site-packages (from amazon-braket-default-simulator>=1.26.0->amazon-braket-sdk==1.95.1.dev0) (2.11.7)\n",
      "Requirement already satisfied: scipy in /Users/maolinml/.julia/conda/3/lib/python3.9/site-packages (from amazon-braket-default-simulator>=1.26.0->amazon-braket-sdk==1.95.1.dev0) (1.8.1)\n",
      "Requirement already satisfied: s3transfer<0.14.0,>=0.13.0 in /Users/maolinml/.julia/conda/3/lib/python3.9/site-packages (from boto3>=1.28.53->amazon-braket-sdk==1.95.1.dev0) (0.13.0)\n",
      "Requirement already satisfied: jmespath<2.0.0,>=0.7.1 in /Users/maolinml/.julia/conda/3/lib/python3.9/site-packages (from boto3>=1.28.53->amazon-braket-sdk==1.95.1.dev0) (1.0.1)\n",
      "Requirement already satisfied: botocore<1.39.0,>=1.38.44 in /Users/maolinml/.julia/conda/3/lib/python3.9/site-packages (from boto3>=1.28.53->amazon-braket-sdk==1.95.1.dev0) (1.38.44)\n",
      "Requirement already satisfied: mypy-extensions>=0.2.0 in /Users/maolinml/.julia/conda/3/lib/python3.9/site-packages (from oqpy~=0.3.5->amazon-braket-sdk==1.95.1.dev0) (1.1.0)\n",
      "Requirement already satisfied: importlib-metadata in /Users/maolinml/.julia/conda/3/lib/python3.9/site-packages (from openpulse->amazon-braket-sdk==1.95.1.dev0) (4.11.4)\n",
      "Requirement already satisfied: mpmath>=0.19 in /Users/maolinml/.julia/conda/3/lib/python3.9/site-packages (from sympy->amazon-braket-sdk==1.95.1.dev0) (1.2.1)\n",
      "Requirement already satisfied: python-dateutil<3.0.0,>=2.1 in /Users/maolinml/.julia/conda/3/lib/python3.9/site-packages (from botocore<1.39.0,>=1.38.44->boto3>=1.28.53->amazon-braket-sdk==1.95.1.dev0) (2.8.2)\n",
      "Requirement already satisfied: urllib3<1.27,>=1.25.4 in /Users/maolinml/.julia/conda/3/lib/python3.9/site-packages (from botocore<1.39.0,>=1.38.44->boto3>=1.28.53->amazon-braket-sdk==1.95.1.dev0) (1.26.9)\n",
      "Requirement already satisfied: typing-extensions>=4.12.2 in /Users/maolinml/.julia/conda/3/lib/python3.9/site-packages (from pydantic>2->amazon-braket-default-simulator>=1.26.0->amazon-braket-sdk==1.95.1.dev0) (4.14.0)\n",
      "Requirement already satisfied: typing-inspection>=0.4.0 in /Users/maolinml/.julia/conda/3/lib/python3.9/site-packages (from pydantic>2->amazon-braket-default-simulator>=1.26.0->amazon-braket-sdk==1.95.1.dev0) (0.4.1)\n",
      "Requirement already satisfied: pydantic-core==2.33.2 in /Users/maolinml/.julia/conda/3/lib/python3.9/site-packages (from pydantic>2->amazon-braket-default-simulator>=1.26.0->amazon-braket-sdk==1.95.1.dev0) (2.33.2)\n",
      "Requirement already satisfied: annotated-types>=0.6.0 in /Users/maolinml/.julia/conda/3/lib/python3.9/site-packages (from pydantic>2->amazon-braket-default-simulator>=1.26.0->amazon-braket-sdk==1.95.1.dev0) (0.7.0)\n",
      "Requirement already satisfied: zipp>=0.5 in /Users/maolinml/.julia/conda/3/lib/python3.9/site-packages (from importlib-metadata->openpulse->amazon-braket-sdk==1.95.1.dev0) (3.9.0)\n",
      "Requirement already satisfied: six>=1.5 in /Users/maolinml/.julia/conda/3/lib/python3.9/site-packages (from python-dateutil<3.0.0,>=2.1->botocore<1.39.0,>=1.38.44->boto3>=1.28.53->amazon-braket-sdk==1.95.1.dev0) (1.16.0)\n",
      "Building wheels for collected packages: amazon-braket-sdk\n",
      "  Building wheel for amazon-braket-sdk (pyproject.toml) ... \u001b[?25ldone\n",
      "\u001b[?25h  Created wheel for amazon-braket-sdk: filename=amazon_braket_sdk-1.95.1.dev0-py3-none-any.whl size=352262 sha256=419e992ff425175c0fb8534dbf0ed475ea06521307293d8d0612daa083fc0c5a\n",
      "  Stored in directory: /private/var/folders/17/wqjdf0nn4dj11p1h8yrx44100000gr/T/pip-ephem-wheel-cache-41tb0iux/wheels/c9/27/49/d6cae19a28e4a9ea840a7252ad9363fa9662213a5303c7e5d5\n",
      "Successfully built amazon-braket-sdk\n",
      "Installing collected packages: amazon-braket-sdk\n",
      "  Attempting uninstall: amazon-braket-sdk\n",
      "    Found existing installation: amazon-braket-sdk 1.95.0\n",
      "    Uninstalling amazon-braket-sdk-1.95.0:\n",
      "      Successfully uninstalled amazon-braket-sdk-1.95.0\n",
      "Successfully installed amazon-braket-sdk-1.95.1.dev0\n",
      "Note: you may need to restart the kernel to use updated packages.\n"
     ]
    }
   ],
   "source": [
    "%pip install git+https://github.com/Altanali/amazon-braket-sdk-python.git@only_validation"
   ]
  },
  {
   "cell_type": "markdown",
   "id": "d284180c",
   "metadata": {},
   "source": [
    "# Local emulation for verbatim circuits on Amazon Braket\n",
    "\n",
    "State the purpose of this notebook and briefly describe what will be included in this notebook. State the scope of the device emulation which is to emulating a given verbatim circuit against a given set of device properties. State that it can be "
   ]
  },
  {
   "cell_type": "markdown",
   "id": "c86e688a",
   "metadata": {},
   "source": [
    "## Emulating verbatim circuits for AWS devices\n",
    "\n",
    "1. Validation\\\n",
    "    a. Happy path\\\n",
    "    b. Unhappy path\\\n",
    "\n",
    "        aa. Qubits are all in the devices\n",
    "        bb. Two-qubit gates are on existing edges\n",
    "        cc. The one and two-qubit gates are supported native gates\n",
    "    c. For all the 3 devices\n",
    "2. Noisy simulation\\\n",
    "    a. one device?\\\n",
    "    b. compare noiseless, noisy and qpu results"
   ]
  },
  {
   "cell_type": "code",
   "execution_count": null,
   "id": "5f530c37",
   "metadata": {},
   "outputs": [],
   "source": [
    "from braket.aws.aws_device import AwsDevice\n",
    "from braket.circuits import Circuit"
   ]
  },
  {
   "cell_type": "code",
   "execution_count": null,
   "id": "f6fe14ba",
   "metadata": {},
   "outputs": [],
   "source": [
    "aria_1 = AwsDevice(\"arn:aws:braket:us-east-1::device/qpu/ionq/Aria-1\")\n",
    "garnet = AwsDevice(\"arn:aws:braket:eu-north-1::device/qpu/iqm/Garnet\")\n",
    "ankaa3 = AwsDevice(\"arn:aws:braket:us-west-1::device/qpu/rigetti/Ankaa-3\")\n",
    "\n",
    "garnet_emulator = garnet.emulator()\n",
    "ankaa3_emulator = ankaa3.emulator()"
   ]
  },
  {
   "cell_type": "code",
   "execution_count": null,
   "id": "9d5ca26c",
   "metadata": {},
   "outputs": [],
   "source": [
    "\n",
    "verbatim_circuit_garnet = Circuit().add_verbatim_box(\n",
    "    Circuit().prx(1,0,0).cz(1,2).prx(2,3.14, 0).cz(4,5)\n",
    ")\n",
    "\n",
    "non_valid_verbatim_circuit_garnet = Circuit().add_verbatim_box(\n",
    "    Circuit().prx(0,0,0).cz(0,1).prx(1,3.14, 0)\n",
    ")\n",
    "\n",
    "print(verbatim_circuit_garnet)\n",
    "print(non_valid_verbatim_circuit_garnet)"
   ]
  },
  {
   "cell_type": "code",
   "execution_count": null,
   "id": "a9152def",
   "metadata": {},
   "outputs": [],
   "source": [
    "garnet_emulator.run(verbatim_circuit_garnet)"
   ]
  },
  {
   "cell_type": "markdown",
   "id": "39e577a2",
   "metadata": {},
   "source": [
    "### Break down the local emulation: What are happening behind the scene"
   ]
  },
  {
   "cell_type": "code",
   "execution_count": null,
   "id": "eb3814aa",
   "metadata": {},
   "outputs": [],
   "source": [
    "garnet_emulator.validate(verbatim_circuit_garnet)"
   ]
  },
  {
   "cell_type": "code",
   "execution_count": null,
   "id": "c1c2e5f0",
   "metadata": {},
   "outputs": [],
   "source": [
    "noisy_circ =  garnet_emulator.transform(verbatim_circuit_garnet)\n",
    "print(noisy_circ)"
   ]
  },
  {
   "cell_type": "markdown",
   "id": "d32aa3bb",
   "metadata": {},
   "source": [
    "## Emulating verbatim circuits with custom device properties\n",
    "1. History data of an existing AWS device\n",
    "2. Custom device with fake device properties"
   ]
  },
  {
   "cell_type": "code",
   "execution_count": 32,
   "id": "c3567e67",
   "metadata": {},
   "outputs": [],
   "source": [
    "from braket.emulation.local_emulator import LocalEmulator"
   ]
  },
  {
   "cell_type": "code",
   "execution_count": 33,
   "id": "31b8c6d3",
   "metadata": {},
   "outputs": [],
   "source": [
    "# fake history data\n",
    "garnet_properties_json = garnet.properties.json()"
   ]
  },
  {
   "cell_type": "code",
   "execution_count": 66,
   "id": "f9ac40e8",
   "metadata": {},
   "outputs": [],
   "source": [
    "import json"
   ]
  },
  {
   "cell_type": "code",
   "execution_count": 70,
   "id": "66ce94fd",
   "metadata": {},
   "outputs": [],
   "source": [
    "with open(\"myjson.json\", \"w\") as f:\n",
    "    json.dump(garnet_properties_json, f)"
   ]
  },
  {
   "cell_type": "code",
   "execution_count": 71,
   "id": "4283ef19",
   "metadata": {},
   "outputs": [],
   "source": [
    "with open(\"myjson.json\", \"r\") as f:\n",
    "    garnet_properties_json_v2 = json.load(f)"
   ]
  },
  {
   "cell_type": "code",
   "execution_count": 75,
   "id": "ba151fdf",
   "metadata": {},
   "outputs": [],
   "source": [
    "garnet_emulator_v3 = LocalEmulator.from_json(garnet_properties_json_v2)"
   ]
  },
  {
   "cell_type": "code",
   "execution_count": 59,
   "id": "4133d6e8",
   "metadata": {},
   "outputs": [],
   "source": [
    "garnet_properties_json_v2 = np.load(\"json_trial.npz\")['myjson']\n",
    "# npzfile = np.load(\"json_trial.npz\")\n",
    "# npzfile['myjson']"
   ]
  },
  {
   "cell_type": "code",
   "execution_count": 35,
   "id": "d0453b46",
   "metadata": {},
   "outputs": [],
   "source": [
    "garnet_emulator_v2 = LocalEmulator.from_json(garnet_properties_json)"
   ]
  },
  {
   "cell_type": "code",
   "execution_count": 37,
   "id": "ba7a80c2",
   "metadata": {},
   "outputs": [
    {
     "data": {
      "text/plain": [
       "GateModelQuantumTaskResult(task_metadata=TaskMetadata(braketSchemaHeader=BraketSchemaHeader(name='braket.task_result.task_metadata', version='1'), id='04880de1-c161-4671-8511-c2a5c7b1db7f', shots=10, deviceId='braket_dm', deviceParameters=None, createdAt=None, endedAt=None, status=None, failureReason=None), additional_metadata=AdditionalMetadata(action=Program(braketSchemaHeader=BraketSchemaHeader(name='braket.ir.openqasm.program', version='1'), source='OPENQASM 3.0;\\nbit[4] b;\\nqubit[6] q;\\nprx(0.0, 0.0) q[1];\\n#pragma braket noise depolarizing(0.0010502178293543274) q[1]\\ncz q[1], q[2];\\n#pragma braket noise two_qubit_depolarizing(0.005830523881227623) q[1], q[2]\\nprx(3.14, 0.0) q[2];\\n#pragma braket noise depolarizing(0.0016998258112977949) q[2]\\ncz q[4], q[5];\\n#pragma braket noise two_qubit_depolarizing(0.00813071641604357) q[4], q[5]\\nb[0] = measure q[1];\\nb[1] = measure q[2];\\nb[2] = measure q[4];\\nb[3] = measure q[5];', inputs={}), dwaveMetadata=None, ionqMetadata=None, rigettiMetadata=None, oqcMetadata=None, xanaduMetadata=None, queraMetadata=None, simulatorMetadata=None, iqmMetadata=None), result_types=[], values=[], measurements=array([[0, 1, 0, 0],\n",
       "       [0, 1, 0, 0],\n",
       "       [0, 1, 0, 0],\n",
       "       [0, 1, 0, 0],\n",
       "       [0, 1, 0, 0],\n",
       "       [0, 1, 0, 0],\n",
       "       [0, 1, 0, 0],\n",
       "       [0, 1, 0, 0],\n",
       "       [0, 1, 0, 0],\n",
       "       [0, 1, 0, 0]]), measured_qubits=[1, 2, 4, 5], measurement_counts=Counter({'0100': 10}), measurement_probabilities={'0100': 1.0}, measurements_copied_from_device=True, measurement_counts_copied_from_device=False, measurement_probabilities_copied_from_device=False, _result_types_indices={})"
      ]
     },
     "execution_count": 37,
     "metadata": {},
     "output_type": "execute_result"
    }
   ],
   "source": [
    "emu_task = garnet_emulator_v2.run(verbatim_circuit_garnet, shots=10)\n",
    "emu_task.result()"
   ]
  },
  {
   "cell_type": "code",
   "execution_count": null,
   "id": "c3da9053",
   "metadata": {},
   "outputs": [],
   "source": [
    "task = garnet.run(verbatim_circuit_garnet, shots=10)"
   ]
  },
  {
   "cell_type": "code",
   "execution_count": 39,
   "id": "5584c372",
   "metadata": {},
   "outputs": [
    {
     "data": {
      "text/plain": [
       "AwsQuantumTask('id/taskArn':'arn:aws:braket:eu-north-1:545821822555:quantum-task/26b36ab5-7e57-458c-8b23-69a5e622c922')"
      ]
     },
     "execution_count": 39,
     "metadata": {},
     "output_type": "execute_result"
    }
   ],
   "source": [
    "task"
   ]
  },
  {
   "cell_type": "code",
   "execution_count": null,
   "id": "666bcf66",
   "metadata": {},
   "outputs": [],
   "source": []
  }
 ],
 "metadata": {
  "kernelspec": {
   "display_name": "base",
   "language": "python",
   "name": "python3"
  },
  "language_info": {
   "codemirror_mode": {
    "name": "ipython",
    "version": 3
   },
   "file_extension": ".py",
   "mimetype": "text/x-python",
   "name": "python",
   "nbconvert_exporter": "python",
   "pygments_lexer": "ipython3",
   "version": "3.9.10"
  }
 },
 "nbformat": 4,
 "nbformat_minor": 5
}
