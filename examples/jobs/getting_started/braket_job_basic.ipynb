{
 "cells": [
  {
   "cell_type": "markdown",
   "metadata": {},
   "source": [
    "# Getting Started with Amazon Braket Hybrid Job"
   ]
  },
  {
   "cell_type": "markdown",
   "metadata": {},
   "source": [
    "This tutorial shows how to run an Amazon Braket Hybrid Job with the example of executing multiple small circuits. There are two pieces of code required for every Braket Job, an orchestration script and an algorithm script. The orchestration script will be shown below. The algorithm script can be a seperate file or a module. To quickly get started, we consider simple circuits with only one qubit and one gate in this example notebook."
   ]
  },
  {
   "cell_type": "markdown",
   "metadata": {},
   "source": [
    "## Algorithm Script\n",
    "The algorithm script for this notebook is [here](algorithm_script.py) as a seperate file. The code block below is a copy of the algorithm script. As shown, each of our circuits has only one X rotation gate with a random angle. The circuit is repeated five times with different random rotations. We would write the algorithm script as we usually do, except that we do not specify the backend QPUs or simulators explicitly. Instead, it is provided through environment variables which is defined in the orchestration script shown later. In addition, we also need to specify the variables to be recorded. In this notebook, we save the measurment counts and the random angle for each random circuit. "
   ]
  },
  {
   "cell_type": "code",
   "execution_count": 1,
   "metadata": {},
   "outputs": [],
   "source": [
    "%%script true\n",
    "\n",
    "import os\n",
    "import numpy as np\n",
    "\n",
    "from braket.aws import AwsDevice\n",
    "from braket.circuits import Circuit\n",
    "from braket.jobs import save_job_result\n",
    "\n",
    "\n",
    "print(\"Test job started!!!!!\")\n",
    "\n",
    "# Use the device declared in the Orchestration Script\n",
    "device = AwsDevice(os.environ[\"AMZN_BRAKET_DEVICE_ARN\"])\n",
    "\n",
    "counts_list = []\n",
    "angle_list = []\n",
    "for _ in range(5):\n",
    "    angle = np.pi * np.random.randn()\n",
    "    random_curcuit = Circuit().rx(0, angle)\n",
    "\n",
    "    task = device.run(random_curcuit, shots=100)\n",
    "    counts = task.result().measurement_counts\n",
    "\n",
    "    angle_list.append(angle)\n",
    "    counts_list.append(counts)\n",
    "    print(counts)\n",
    "\n",
    "# Save the variables of interest so that we can access later\n",
    "save_job_result({\"counts\": counts_list, \"angle\": angle_list})\n",
    "\n",
    "print(\"Test job completed!!!!!\")"
   ]
  },
  {
   "cell_type": "markdown",
   "metadata": {},
   "source": [
    "## Orchestration Script\n",
    "In the orchestration script, we use <code>AwsQuantumJob</code> to create a Braket job. When the Braket job is created, it starts an AWS instance and spins up a container. The instance type, container and other configurations can be specified via keyword arguments. See the [developer guide](https://docs.aws.amazon.com/braket/latest/developerguide/what-is-braket.html) and other example notebooks for more information.\n",
    "\n",
    "The inputs of <code>AwsQuantumJob</code> for this notebook are:\n",
    "- <b>device_arn</b>: The arn of the Braket simulator or QPU we want to use. This will be stored as environment vairable for the algorithm script.\n",
    "- <b>source_module</b>: The path to a file or a python module that contains your algorithm script. It will be uploaded to the container for Braket Job execuation. It can be a single file or a folder.\n",
    "- <b>entry point</b>: The path relative to the source_module. It points to the piece of code to be executed when the Braket Job starts.\n",
    "- <b>wait_until_complete</b>: When it is true, the program will wait until the Braket Job is completed. Otherwise, it will run asynchronously. "
   ]
  },
  {
   "cell_type": "code",
   "execution_count": 2,
   "metadata": {},
   "outputs": [],
   "source": [
    "from braket.aws import AwsQuantumJob"
   ]
  },
  {
   "cell_type": "code",
   "execution_count": 3,
   "metadata": {
    "pycharm": {
     "name": "#%%\n"
    }
   },
   "outputs": [],
   "source": [
    "%%capture captured\n",
    "\n",
    "job = AwsQuantumJob.create(\n",
    "    \"arn:aws:braket:::device/quantum-simulator/amazon/sv1\",\n",
    "    source_module=\"algorithm_script.py\",\n",
    "    entry_point=\"algorithm_script\",\n",
    "    wait_until_complete=True,\n",
    ")"
   ]
  },
  {
   "cell_type": "markdown",
   "metadata": {},
   "source": [
    "In this excerise, the algorithm script is in one file, so we set <code>source_module</code> to be <code>algorithm_script.py</code> and <code>entry_point</code> to be <code>algorithm_script</code>. Depend on your application, there are other options you can arrange your algorithm scripts. For example, if you wish to only execute a part of <code>algorithm_script.py</code> at the start of a Braket Job, you can package that part to be a <code>starting_function()</code>. Then the input arguments would be"
   ]
  },
  {
   "cell_type": "code",
   "execution_count": 4,
   "metadata": {},
   "outputs": [],
   "source": [
    "source_module=\"algorithm_script.py\"\n",
    "entry_point=\"algorithm_script:starting_function\""
   ]
  },
  {
   "cell_type": "markdown",
   "metadata": {},
   "source": [
    "When your algorithm script requires others files such as helper functions, you can put them all in one folder, say the <code>algorithm_folder</code>. The input arguments would then be"
   ]
  },
  {
   "cell_type": "code",
   "execution_count": 5,
   "metadata": {},
   "outputs": [],
   "source": [
    "source_module=\"algorithm_folder\"\n",
    "entry_point=\"algorithm_folder.algorithm_script:starting_function\""
   ]
  },
  {
   "cell_type": "markdown",
   "metadata": {},
   "source": [
    "## Local Job\n",
    "Braket Job also provides an option to test the job locally by using LocalQuantumJob. This may save resources for setting up and debugging your Braket Job. Note that this feature requires Docker. Amazon Braket Notebook Instance has Docker pre-stalled. But if we execute a local job at a local machine, such a laptop or a desktop, we need to have Docker installed first."
   ]
  },
  {
   "cell_type": "code",
   "execution_count": 6,
   "metadata": {},
   "outputs": [],
   "source": [
    "%%script true\n",
    "\n",
    "from braket.jobs.local.local_job import LocalQuantumJob\n",
    "\n",
    "job = LocalQuantumJob.create(\n",
    "    \"arn:aws:braket:::device/quantum-simulator/amazon/sv1\",\n",
    "    source_module=\"algorithm_script.py\",\n",
    "    entry_point=\"algorithm_script\",\n",
    "    wait_until_complete=True,\n",
    ")"
   ]
  },
  {
   "cell_type": "markdown",
   "metadata": {},
   "source": [
    "## Results\n",
    "If you run the Braket Job asynchronously, the status can be check by <code>job.state()</code>. Once completed, the Results are stored in Braket Job and can be retrieved by <code>job.result()</code>. Logs and metadata are also stored in Braket Job. If you loss the job variable, you can always retrieve it by its arn which you can find in the console."
   ]
  },
  {
   "cell_type": "code",
   "execution_count": 7,
   "metadata": {},
   "outputs": [
    {
     "name": "stdout",
     "output_type": "stream",
     "text": [
      "counts\n",
      "[{'0': 79, '1': 21}, {'1': 98, '0': 2}, {'1': 65, '0': 35}, {'0': 100}, {'0': 49, '1': 51}]\n",
      "angles\n",
      "[-0.978503618641022, -3.4031113912667417, 4.436378161240209, -0.22733936663921184, 4.579846687702248]\n"
     ]
    }
   ],
   "source": [
    "results = job.result()\n",
    "print(\"counts\")\n",
    "print(results[\"counts\"])\n",
    "print(\"angles\")\n",
    "print(results[\"angle\"])"
   ]
  }
 ],
 "metadata": {
  "kernelspec": {
   "display_name": "Python 3 (ipykernel)",
   "language": "python",
   "name": "python3"
  },
  "language_info": {
   "codemirror_mode": {
    "name": "ipython",
    "version": 3
   },
   "file_extension": ".py",
   "mimetype": "text/x-python",
   "name": "python",
   "nbconvert_exporter": "python",
   "pygments_lexer": "ipython3",
   "version": "3.9.7"
  }
 },
 "nbformat": 4,
 "nbformat_minor": 1
}
