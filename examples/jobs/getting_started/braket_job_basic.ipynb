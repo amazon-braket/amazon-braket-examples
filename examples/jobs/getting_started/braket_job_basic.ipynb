{
 "cells": [
  {
   "cell_type": "markdown",
   "metadata": {},
   "source": [
    "# Getting started with Amazon Braket Hybrid Jobs\n",
    "\n",
    "This tutorial shows how to run a Amazon Braket Hybrid Job on Amazon Braket simulators and quantum devices. \n",
    "To get started, we consider small circuits with only one qubit and one gate in this example notebook.\n",
    "\n",
    "\n",
    "## Learning outcomes \n",
    "* Run our first Braket Job! \n",
    "* Understand how to run scripts or functions\n",
    "* Monitor job status and view logs \n",
    "* Save results from a job\n",
    "* Use Braket Jobs within a specific AWS session\n",
    "* Run Braket Jobs on quantum hardware \n",
    "* Use Local Braket Jobs to quickly test code [Docker required]\n"
   ]
  },
  {
   "cell_type": "markdown",
   "metadata": {},
   "source": [
    "## Algorithm script\n",
    "\n",
    "To create a Braket Job, we first need a Python script that we want to run. In this example, it's contained in `algorithm_script.py`. The script is printed in the code cell below for convenience. \n",
    "\n",
    "As shown, each of our circuits has only one $X$ rotation gate with a random angle. The circuit is repeated five times with different random rotations. We write the algorithm script as we usually do, except that we do not specify the backend QPUs or simulators explicitly. Instead, it is provided through environment variables which are passed to the algorithm script when creating a Braket Job. "
   ]
  },
  {
   "cell_type": "code",
   "execution_count": 1,
   "metadata": {},
   "outputs": [
    {
     "name": "stdout",
     "output_type": "stream",
     "text": [
      "This block is a copy of the algorithm script.\n"
     ]
    }
   ],
   "source": [
    "%%script echo \"This block is a copy of the algorithm script.\"\n",
    "\n",
    "import os\n",
    "import numpy as np\n",
    "\n",
    "from braket.aws import AwsDevice\n",
    "from braket.circuits import Circuit\n",
    "from braket.jobs import save_job_result\n",
    "\n",
    "\n",
    "print(\"Test job started!\")\n",
    "\n",
    "# Use the device declared in the creation script\n",
    "device = AwsDevice(os.environ[\"AMZN_BRAKET_DEVICE_ARN\"])\n",
    "\n",
    "counts_list = []\n",
    "angle_list = []\n",
    "for _ in range(5):\n",
    "    angle = np.pi * np.random.randn()\n",
    "    random_circuit = Circuit().rx(0, angle)\n",
    "\n",
    "    task = device.run(random_circuit, shots=100)\n",
    "    counts = task.result().measurement_counts\n",
    "\n",
    "    angle_list.append(angle)\n",
    "    counts_list.append(counts)\n",
    "    print(counts)\n",
    "\n",
    "# Save the variables of interest so that we can access later\n",
    "save_job_result({\"counts\": counts_list, \"angle\": angle_list})\n",
    "\n",
    "print(\"Test job completed!\")"
   ]
  },
  {
   "cell_type": "markdown",
   "metadata": {},
   "source": [
    "## Creating a Braket Job \n",
    "\n",
    "In this notebook, we use <code>AwsQuantumJob.create</code> to create a Braket Job. When the Braket Job is created, it starts an EC2 instance and spins up a Docker container. The instance type, container, and other configurations can be specified via keyword arguments. See the [developer guide](https://docs.aws.amazon.com/braket/latest/developerguide/what-is-braket.html) and other example notebooks for more information.\n",
    "\n",
    "The required inputs of <code>AwsQuantumJob</code> are:\n",
    "- <b>device</b>: The arn of the Braket simulator or QPU we want to use. It will be passed as an environment variable to the algorithm script.\n",
    "- <b>source_module</b>: The path to a file or a python module that contains your algorithm script. It will be uploaded to the container for running the Braket Job.\n",
    "- <b>entry point</b>: The path relative to the source_module. It points to the code to be run when the Braket Job starts. \n",
    "- <b>wait_until_complete (optional)</b>: If true, the function call will wait until the Braket Job is completed and will additionally print logs to the local console. Otherwise, it will run asynchronously. "
   ]
  },
  {
   "cell_type": "code",
   "execution_count": 2,
   "metadata": {},
   "outputs": [],
   "source": [
    "from braket.aws import AwsQuantumJob"
   ]
  },
  {
   "cell_type": "code",
   "execution_count": 3,
   "metadata": {
    "pycharm": {
     "name": "#%%\n"
    }
   },
   "outputs": [
    {
     "ename": "ParamValidationError",
     "evalue": "Parameter validation failed:\nMissing required parameter in instanceConfig: \"instanceCount\"\nMissing required parameter in deviceConfig: \"devices\"\nUnknown parameter in deviceConfig: \"device\", must be one of: devices",
     "output_type": "error",
     "traceback": [
      "\u001b[0;31m---------------------------------------------------------------------------\u001b[0m",
      "\u001b[0;31mParamValidationError\u001b[0m                      Traceback (most recent call last)",
      "\u001b[0;32m/var/folders/rz/xm9j72zs2kl456qp244g49640000gs/T/ipykernel_41887/1726838236.py\u001b[0m in \u001b[0;36m<module>\u001b[0;34m\u001b[0m\n\u001b[1;32m      1\u001b[0m \u001b[0;31m# This cell should take about 5 mins\u001b[0m\u001b[0;34m\u001b[0m\u001b[0;34m\u001b[0m\u001b[0;34m\u001b[0m\u001b[0m\n\u001b[0;32m----> 2\u001b[0;31m job = AwsQuantumJob.create(\n\u001b[0m\u001b[1;32m      3\u001b[0m     \u001b[0mdevice\u001b[0m\u001b[0;34m=\u001b[0m\u001b[0;34m\"arn:aws:braket:::device/quantum-simulator/amazon/sv1\"\u001b[0m\u001b[0;34m,\u001b[0m\u001b[0;34m\u001b[0m\u001b[0;34m\u001b[0m\u001b[0m\n\u001b[1;32m      4\u001b[0m     \u001b[0msource_module\u001b[0m\u001b[0;34m=\u001b[0m\u001b[0;34m\"algorithm_script.py\"\u001b[0m\u001b[0;34m,\u001b[0m\u001b[0;34m\u001b[0m\u001b[0;34m\u001b[0m\u001b[0m\n\u001b[1;32m      5\u001b[0m     \u001b[0mentry_point\u001b[0m\u001b[0;34m=\u001b[0m\u001b[0;34m\"algorithm_script\"\u001b[0m\u001b[0;34m,\u001b[0m\u001b[0;34m\u001b[0m\u001b[0;34m\u001b[0m\u001b[0m\n",
      "\u001b[0;32m~/Documents/GitHub/amazon-braket-sdk-python-staging/src/braket/aws/aws_quantum_job.py\u001b[0m in \u001b[0;36mcreate\u001b[0;34m(cls, device, source_module, entry_point, image_uri, job_name, code_location, role_arn, wait_until_complete, hyperparameters, metric_definitions, input_data, instance_config, stopping_condition, output_data_config, copy_checkpoints_from_job, checkpoint_config, aws_session)\u001b[0m\n\u001b[1;32m    180\u001b[0m         )\n\u001b[1;32m    181\u001b[0m \u001b[0;34m\u001b[0m\u001b[0m\n\u001b[0;32m--> 182\u001b[0;31m         \u001b[0mjob_arn\u001b[0m \u001b[0;34m=\u001b[0m \u001b[0maws_session\u001b[0m\u001b[0;34m.\u001b[0m\u001b[0mcreate_job\u001b[0m\u001b[0;34m(\u001b[0m\u001b[0;34m**\u001b[0m\u001b[0mcreate_job_kwargs\u001b[0m\u001b[0;34m)\u001b[0m\u001b[0;34m\u001b[0m\u001b[0;34m\u001b[0m\u001b[0m\n\u001b[0m\u001b[1;32m    183\u001b[0m         \u001b[0mjob\u001b[0m \u001b[0;34m=\u001b[0m \u001b[0mAwsQuantumJob\u001b[0m\u001b[0;34m(\u001b[0m\u001b[0mjob_arn\u001b[0m\u001b[0;34m,\u001b[0m \u001b[0maws_session\u001b[0m\u001b[0;34m)\u001b[0m\u001b[0;34m\u001b[0m\u001b[0;34m\u001b[0m\u001b[0m\n\u001b[1;32m    184\u001b[0m \u001b[0;34m\u001b[0m\u001b[0m\n",
      "\u001b[0;32m~/Documents/GitHub/amazon-braket-sdk-python-staging/src/braket/aws/aws_session.py\u001b[0m in \u001b[0;36mcreate_job\u001b[0;34m(self, **boto3_kwargs)\u001b[0m\n\u001b[1;32m    169\u001b[0m             \u001b[0mstr\u001b[0m\u001b[0;34m:\u001b[0m \u001b[0mThe\u001b[0m \u001b[0mARN\u001b[0m \u001b[0mof\u001b[0m \u001b[0mthe\u001b[0m \u001b[0mjob\u001b[0m\u001b[0;34m.\u001b[0m\u001b[0;34m\u001b[0m\u001b[0;34m\u001b[0m\u001b[0m\n\u001b[1;32m    170\u001b[0m         \"\"\"\n\u001b[0;32m--> 171\u001b[0;31m         \u001b[0mresponse\u001b[0m \u001b[0;34m=\u001b[0m \u001b[0mself\u001b[0m\u001b[0;34m.\u001b[0m\u001b[0mbraket_client\u001b[0m\u001b[0;34m.\u001b[0m\u001b[0mcreate_job\u001b[0m\u001b[0;34m(\u001b[0m\u001b[0;34m**\u001b[0m\u001b[0mboto3_kwargs\u001b[0m\u001b[0;34m)\u001b[0m\u001b[0;34m\u001b[0m\u001b[0;34m\u001b[0m\u001b[0m\n\u001b[0m\u001b[1;32m    172\u001b[0m         \u001b[0;32mreturn\u001b[0m \u001b[0mresponse\u001b[0m\u001b[0;34m[\u001b[0m\u001b[0;34m\"jobArn\"\u001b[0m\u001b[0;34m]\u001b[0m\u001b[0;34m\u001b[0m\u001b[0;34m\u001b[0m\u001b[0m\n\u001b[1;32m    173\u001b[0m \u001b[0;34m\u001b[0m\u001b[0m\n",
      "\u001b[0;32m~/.pyenv/versions/3.9.5/envs/preview-jobs/lib/python3.9/site-packages/botocore/client.py\u001b[0m in \u001b[0;36m_api_call\u001b[0;34m(self, *args, **kwargs)\u001b[0m\n\u001b[1;32m    386\u001b[0m                     \"%s() only accepts keyword arguments.\" % py_operation_name)\n\u001b[1;32m    387\u001b[0m             \u001b[0;31m# The \"self\" in this scope is referring to the BaseClient.\u001b[0m\u001b[0;34m\u001b[0m\u001b[0;34m\u001b[0m\u001b[0;34m\u001b[0m\u001b[0m\n\u001b[0;32m--> 388\u001b[0;31m             \u001b[0;32mreturn\u001b[0m \u001b[0mself\u001b[0m\u001b[0;34m.\u001b[0m\u001b[0m_make_api_call\u001b[0m\u001b[0;34m(\u001b[0m\u001b[0moperation_name\u001b[0m\u001b[0;34m,\u001b[0m \u001b[0mkwargs\u001b[0m\u001b[0;34m)\u001b[0m\u001b[0;34m\u001b[0m\u001b[0;34m\u001b[0m\u001b[0m\n\u001b[0m\u001b[1;32m    389\u001b[0m \u001b[0;34m\u001b[0m\u001b[0m\n\u001b[1;32m    390\u001b[0m         \u001b[0m_api_call\u001b[0m\u001b[0;34m.\u001b[0m\u001b[0m__name__\u001b[0m \u001b[0;34m=\u001b[0m \u001b[0mstr\u001b[0m\u001b[0;34m(\u001b[0m\u001b[0mpy_operation_name\u001b[0m\u001b[0;34m)\u001b[0m\u001b[0;34m\u001b[0m\u001b[0;34m\u001b[0m\u001b[0m\n",
      "\u001b[0;32m~/.pyenv/versions/3.9.5/envs/preview-jobs/lib/python3.9/site-packages/botocore/client.py\u001b[0m in \u001b[0;36m_make_api_call\u001b[0;34m(self, operation_name, api_params)\u001b[0m\n\u001b[1;32m    678\u001b[0m             \u001b[0;34m'auth_type'\u001b[0m\u001b[0;34m:\u001b[0m \u001b[0moperation_model\u001b[0m\u001b[0;34m.\u001b[0m\u001b[0mauth_type\u001b[0m\u001b[0;34m,\u001b[0m\u001b[0;34m\u001b[0m\u001b[0;34m\u001b[0m\u001b[0m\n\u001b[1;32m    679\u001b[0m         }\n\u001b[0;32m--> 680\u001b[0;31m         request_dict = self._convert_to_request_dict(\n\u001b[0m\u001b[1;32m    681\u001b[0m             api_params, operation_model, context=request_context)\n\u001b[1;32m    682\u001b[0m \u001b[0;34m\u001b[0m\u001b[0m\n",
      "\u001b[0;32m~/.pyenv/versions/3.9.5/envs/preview-jobs/lib/python3.9/site-packages/botocore/client.py\u001b[0m in \u001b[0;36m_convert_to_request_dict\u001b[0;34m(self, api_params, operation_model, context)\u001b[0m\n\u001b[1;32m    726\u001b[0m         api_params = self._emit_api_params(\n\u001b[1;32m    727\u001b[0m             api_params, operation_model, context)\n\u001b[0;32m--> 728\u001b[0;31m         request_dict = self._serializer.serialize_to_request(\n\u001b[0m\u001b[1;32m    729\u001b[0m             api_params, operation_model)\n\u001b[1;32m    730\u001b[0m         \u001b[0;32mif\u001b[0m \u001b[0;32mnot\u001b[0m \u001b[0mself\u001b[0m\u001b[0;34m.\u001b[0m\u001b[0m_client_config\u001b[0m\u001b[0;34m.\u001b[0m\u001b[0minject_host_prefix\u001b[0m\u001b[0;34m:\u001b[0m\u001b[0;34m\u001b[0m\u001b[0;34m\u001b[0m\u001b[0m\n",
      "\u001b[0;32m~/.pyenv/versions/3.9.5/envs/preview-jobs/lib/python3.9/site-packages/botocore/validate.py\u001b[0m in \u001b[0;36mserialize_to_request\u001b[0;34m(self, parameters, operation_model)\u001b[0m\n\u001b[1;32m    358\u001b[0m                                                     operation_model.input_shape)\n\u001b[1;32m    359\u001b[0m             \u001b[0;32mif\u001b[0m \u001b[0mreport\u001b[0m\u001b[0;34m.\u001b[0m\u001b[0mhas_errors\u001b[0m\u001b[0;34m(\u001b[0m\u001b[0;34m)\u001b[0m\u001b[0;34m:\u001b[0m\u001b[0;34m\u001b[0m\u001b[0;34m\u001b[0m\u001b[0m\n\u001b[0;32m--> 360\u001b[0;31m                 \u001b[0;32mraise\u001b[0m \u001b[0mParamValidationError\u001b[0m\u001b[0;34m(\u001b[0m\u001b[0mreport\u001b[0m\u001b[0;34m=\u001b[0m\u001b[0mreport\u001b[0m\u001b[0;34m.\u001b[0m\u001b[0mgenerate_report\u001b[0m\u001b[0;34m(\u001b[0m\u001b[0;34m)\u001b[0m\u001b[0;34m)\u001b[0m\u001b[0;34m\u001b[0m\u001b[0;34m\u001b[0m\u001b[0m\n\u001b[0m\u001b[1;32m    361\u001b[0m         return self._serializer.serialize_to_request(parameters,\n\u001b[1;32m    362\u001b[0m                                                      operation_model)\n",
      "\u001b[0;31mParamValidationError\u001b[0m: Parameter validation failed:\nMissing required parameter in instanceConfig: \"instanceCount\"\nMissing required parameter in deviceConfig: \"devices\"\nUnknown parameter in deviceConfig: \"device\", must be one of: devices"
     ]
    }
   ],
   "source": [
    "# This cell should take about 5 mins\n",
    "job = AwsQuantumJob.create(\n",
    "    device=\"arn:aws:braket:::device/quantum-simulator/amazon/sv1\",\n",
    "    source_module=\"algorithm_script.py\",\n",
    "    entry_point=\"algorithm_script\",\n",
    "    wait_until_complete=True,\n",
    ")"
   ]
  },
  {
   "cell_type": "markdown",
   "metadata": {},
   "source": [
    "In this exercise, the algorithm script is in one file, so we set <code>source_module</code> to be <code>algorithm_script.py</code> and <code>entry_point</code> to be <code>algorithm_script</code>. Depending on your application, there are other options for setting the algorithm script. For example, if you wish to only execute a part of <code>algorithm_script.py</code> at the start of a Braket Job, you can package that part to be a <code>starting_function()</code>. Then the input arguments would be"
   ]
  },
  {
   "cell_type": "code",
   "execution_count": 4,
   "metadata": {},
   "outputs": [],
   "source": [
    "source_module = \"algorithm_script.py\"\n",
    "entry_point = \"algorithm_script:starting_function\""
   ]
  },
  {
   "cell_type": "markdown",
   "metadata": {},
   "source": [
    "When your algorithm script requires other files such as helper functions, you can put them all in one folder, say the <code>algorithm_folder</code>. The input arguments would then be"
   ]
  },
  {
   "cell_type": "code",
   "execution_count": 5,
   "metadata": {},
   "outputs": [],
   "source": [
    "source_module = \"algorithm_folder\"\n",
    "entry_point = \"algorithm_folder.algorithm_script:starting_function\""
   ]
  },
  {
   "cell_type": "markdown",
   "metadata": {},
   "source": [
    "## Tracking progress and results\n",
    "\n",
    "The status of a Braket Job can be checked by calling <code>job.state()</code>. Once completed, the result can be retrieved using <code>job.result()</code>. Logs and metadata are also accessible via `job.logs()` and `job.metadata()`. If you lose the job variable, you can always retrieve it by a unique arn which you can find in the AWS Console."
   ]
  },
  {
   "cell_type": "code",
   "execution_count": 6,
   "metadata": {},
   "outputs": [
    {
     "ename": "NameError",
     "evalue": "name 'job' is not defined",
     "output_type": "error",
     "traceback": [
      "\u001b[0;31m---------------------------------------------------------------------------\u001b[0m",
      "\u001b[0;31mNameError\u001b[0m                                 Traceback (most recent call last)",
      "\u001b[0;32m/var/folders/rz/xm9j72zs2kl456qp244g49640000gs/T/ipykernel_41887/2568737121.py\u001b[0m in \u001b[0;36m<module>\u001b[0;34m\u001b[0m\n\u001b[0;32m----> 1\u001b[0;31m \u001b[0mjob\u001b[0m\u001b[0;34m.\u001b[0m\u001b[0mstate\u001b[0m\u001b[0;34m(\u001b[0m\u001b[0;34m)\u001b[0m\u001b[0;34m\u001b[0m\u001b[0;34m\u001b[0m\u001b[0m\n\u001b[0m",
      "\u001b[0;31mNameError\u001b[0m: name 'job' is not defined"
     ]
    }
   ],
   "source": [
    "job.state()"
   ]
  },
  {
   "cell_type": "code",
   "execution_count": 7,
   "metadata": {},
   "outputs": [
    {
     "ename": "NameError",
     "evalue": "name 'job' is not defined",
     "output_type": "error",
     "traceback": [
      "\u001b[0;31m---------------------------------------------------------------------------\u001b[0m",
      "\u001b[0;31mNameError\u001b[0m                                 Traceback (most recent call last)",
      "\u001b[0;32m/var/folders/rz/xm9j72zs2kl456qp244g49640000gs/T/ipykernel_41887/3240104322.py\u001b[0m in \u001b[0;36m<module>\u001b[0;34m\u001b[0m\n\u001b[0;32m----> 1\u001b[0;31m \u001b[0mresults\u001b[0m \u001b[0;34m=\u001b[0m \u001b[0mjob\u001b[0m\u001b[0;34m.\u001b[0m\u001b[0mresult\u001b[0m\u001b[0;34m(\u001b[0m\u001b[0;34m)\u001b[0m  \u001b[0;31m# will return once  job.state() = \"COMPLETE\"\u001b[0m\u001b[0;34m\u001b[0m\u001b[0;34m\u001b[0m\u001b[0m\n\u001b[0m\u001b[1;32m      2\u001b[0m \u001b[0mprint\u001b[0m\u001b[0;34m(\u001b[0m\u001b[0;34m\"counts\"\u001b[0m\u001b[0;34m)\u001b[0m\u001b[0;34m\u001b[0m\u001b[0;34m\u001b[0m\u001b[0m\n\u001b[1;32m      3\u001b[0m \u001b[0mprint\u001b[0m\u001b[0;34m(\u001b[0m\u001b[0mresults\u001b[0m\u001b[0;34m[\u001b[0m\u001b[0;34m\"counts\"\u001b[0m\u001b[0;34m]\u001b[0m\u001b[0;34m)\u001b[0m\u001b[0;34m\u001b[0m\u001b[0;34m\u001b[0m\u001b[0m\n\u001b[1;32m      4\u001b[0m \u001b[0mprint\u001b[0m\u001b[0;34m(\u001b[0m\u001b[0;34m\"angles\"\u001b[0m\u001b[0;34m)\u001b[0m\u001b[0;34m\u001b[0m\u001b[0;34m\u001b[0m\u001b[0m\n\u001b[1;32m      5\u001b[0m \u001b[0mprint\u001b[0m\u001b[0;34m(\u001b[0m\u001b[0mresults\u001b[0m\u001b[0;34m[\u001b[0m\u001b[0;34m\"angles\"\u001b[0m\u001b[0;34m]\u001b[0m\u001b[0;34m)\u001b[0m\u001b[0;34m\u001b[0m\u001b[0;34m\u001b[0m\u001b[0m\n",
      "\u001b[0;31mNameError\u001b[0m: name 'job' is not defined"
     ]
    }
   ],
   "source": [
    "results = job.result()  # will return once  job.state() = \"COMPLETE\"\n",
    "print(\"counts\")\n",
    "print(results[\"counts\"])\n",
    "print(\"angles\")\n",
    "print(results[\"angles\"])"
   ]
  },
  {
   "cell_type": "code",
   "execution_count": 8,
   "metadata": {},
   "outputs": [
    {
     "ename": "NameError",
     "evalue": "name 'job' is not defined",
     "output_type": "error",
     "traceback": [
      "\u001b[0;31m---------------------------------------------------------------------------\u001b[0m",
      "\u001b[0;31mNameError\u001b[0m                                 Traceback (most recent call last)",
      "\u001b[0;32m/var/folders/rz/xm9j72zs2kl456qp244g49640000gs/T/ipykernel_41887/3387976793.py\u001b[0m in \u001b[0;36m<module>\u001b[0;34m\u001b[0m\n\u001b[0;32m----> 1\u001b[0;31m \u001b[0mprint\u001b[0m\u001b[0;34m(\u001b[0m\u001b[0mjob\u001b[0m\u001b[0;34m.\u001b[0m\u001b[0mlogs\u001b[0m\u001b[0;34m(\u001b[0m\u001b[0;34m)\u001b[0m\u001b[0;34m)\u001b[0m\u001b[0;34m\u001b[0m\u001b[0;34m\u001b[0m\u001b[0m\n\u001b[0m\u001b[1;32m      2\u001b[0m \u001b[0mprint\u001b[0m\u001b[0;34m(\u001b[0m\u001b[0mjob\u001b[0m\u001b[0;34m.\u001b[0m\u001b[0mmetadata\u001b[0m\u001b[0;34m(\u001b[0m\u001b[0;34m)\u001b[0m\u001b[0;34m)\u001b[0m\u001b[0;34m\u001b[0m\u001b[0;34m\u001b[0m\u001b[0m\n",
      "\u001b[0;31mNameError\u001b[0m: name 'job' is not defined"
     ]
    }
   ],
   "source": [
    "%%capture captured\n",
    "print(job.logs())\n",
    "print(job.metadata())"
   ]
  },
  {
   "cell_type": "code",
   "execution_count": 9,
   "metadata": {},
   "outputs": [
    {
     "ename": "NameError",
     "evalue": "name 'job' is not defined",
     "output_type": "error",
     "traceback": [
      "\u001b[0;31m---------------------------------------------------------------------------\u001b[0m",
      "\u001b[0;31mNameError\u001b[0m                                 Traceback (most recent call last)",
      "\u001b[0;32m/var/folders/rz/xm9j72zs2kl456qp244g49640000gs/T/ipykernel_41887/58692041.py\u001b[0m in \u001b[0;36m<module>\u001b[0;34m\u001b[0m\n\u001b[0;32m----> 1\u001b[0;31m \u001b[0mjob\u001b[0m\u001b[0;34m.\u001b[0m\u001b[0mdownload_result\u001b[0m\u001b[0;34m(\u001b[0m\u001b[0;34m)\u001b[0m  \u001b[0;31m# download job result to local directory\u001b[0m\u001b[0;34m\u001b[0m\u001b[0;34m\u001b[0m\u001b[0m\n\u001b[0m",
      "\u001b[0;31mNameError\u001b[0m: name 'job' is not defined"
     ]
    }
   ],
   "source": [
    "job.download_result()  # download job result to local directory"
   ]
  },
  {
   "cell_type": "markdown",
   "metadata": {},
   "source": [
    "## Running on QPUs\n",
    "\n",
    "Braket Jobs can run our quantum processing units (QPUs) available through Amazon Braket. Be aware that QPU devices are region specific. \n",
    "\n",
    "Running jobs on QPUs has the advantage of priority access to the QPU. Quantum tasks within a single job are grouped together to attempt to run sequentially. This reduces the risk of certain task being delayed or drifting calibrations on the device. \n",
    "\n",
    "We can seamlessly swap our SV1 simulator for a QPU by changing the device argument in `AwsQuantumJob.create()`. "
   ]
  },
  {
   "cell_type": "code",
   "execution_count": null,
   "metadata": {},
   "outputs": [],
   "source": [
    "# Make sure the AWS region matched the device availability region.\n",
    "# This cell could take a long depending on our position in the queue and device availability\n",
    "job = AwsQuantumJob.create(\n",
    "    device=\"arn:aws:braket:::device/qpu/rigetti/Aspen-9\",\n",
    "    source_module=\"algorithm_script.py\",\n",
    "    entry_point=\"algorithm_script\",\n",
    "    wait_until_complete=False,\n",
    ")"
   ]
  },
  {
   "cell_type": "markdown",
   "metadata": {},
   "source": [
    "# AWS Sessions\n",
    "\n",
    "We can customize where Braket Jobs saves and loads results in Amazon S3 by providing the AWS session information. "
   ]
  },
  {
   "cell_type": "code",
   "execution_count": null,
   "metadata": {},
   "outputs": [],
   "source": [
    "from braket.aws import AwsSession\n",
    "\n",
    "# Set Amazon S3 bucket\n",
    "aws_session = AwsSession(default_bucket=\"amazon-braket-{region}-{account_id}\")  "
   ]
  },
  {
   "cell_type": "markdown",
   "metadata": {},
   "source": [
    "To create a Braket Job with this S3 bucket, we pass `aws_session` as an argument to ` AwsQuantumJob.create()`\n",
    "\n",
    "```\n",
    "job = AwsQuantumJob.create(\n",
    "    \"arn:aws:braket:::device/quantum-simulator/amazon/sv1\",\n",
    "    source_module=\"algorithm_script.py\",\n",
    "    entry_point=\"algorithm_script\",\n",
    "    aws_session = aws_session # using specific S3 bucket\n",
    ")\n",
    "```"
   ]
  },
  {
   "cell_type": "markdown",
   "metadata": {},
   "source": [
    "## Local Braket Jobs\n",
    "\n",
    "Braket Jobs can also be run locally before submitting a job to Amazon Braket. This is recommended for quickly debugging and testing code, but does not provide AWS Console information on the job. This feature requires Docker to be installed on your computer. Amazon Braket Notebook Instances have Docker pre-installed, so you can test local jobs in hosted notebooks instantly. To install Docker in your local environment, follow these [instructions](https://docs.docker.com/get-docker/).\n",
    "\n",
    "Local jobs always run synchronously and display the logs."
   ]
  },
  {
   "cell_type": "code",
   "execution_count": null,
   "metadata": {},
   "outputs": [],
   "source": [
    "from braket.jobs.local.local_job import LocalQuantumJob\n",
    "\n",
    "# This cell should take about 2 min\n",
    "job = LocalQuantumJob.create(\n",
    "    device=\"arn:aws:braket:::device/quantum-simulator/amazon/sv1\",\n",
    "    source_module=\"algorithm_script.py\",\n",
    "    entry_point=\"algorithm_script\",\n",
    ")"
   ]
  },
  {
   "cell_type": "markdown",
   "metadata": {},
   "source": [
    "## Summary\n",
    "\n",
    "In this tutorial, we have created our first Braket Job with a simple batch of five circuits. We learned how to change the Amazon S3 bucket for a job, and how to save results. We learned about running on simulators and QPUs. Lastly, we used local jobs to quickly test code."
   ]
  }
 ],
 "metadata": {
  "interpreter": {
   "hash": "2a3faae6bbb7a2a59c3b36071b2b18ca9558c49646aca6fb369efee1cbea9b8b"
  },
  "kernelspec": {
   "display_name": "Python 3 (ipykernel)",
   "language": "python",
   "name": "python3"
  },
  "language_info": {
   "codemirror_mode": {
    "name": "ipython",
    "version": 3
   },
   "file_extension": ".py",
   "mimetype": "text/x-python",
   "name": "python",
   "nbconvert_exporter": "python",
   "pygments_lexer": "ipython3",
   "version": "3.9.5"
  }
 },
 "nbformat": 4,
 "nbformat_minor": 1
}
