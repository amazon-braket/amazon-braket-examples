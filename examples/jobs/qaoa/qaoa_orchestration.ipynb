{
 "cells": [
  {
   "cell_type": "markdown",
   "id": "6a80be19",
   "metadata": {},
   "source": [
    "# QAOA with Amazon Braket Hybrid Job and PennyLane\n",
    "In this tutorial we show how to solve a max-cut problems using the Quantum Approximate Optimization Algorithm (QAOA). The QAOA algorithm is a hybrid quantum algorithms that involves optimizing an objective function by running both classical and quantum computers in an alternating manner. Amazon Braket Hybrid Job is a perfect solution for this type of problem. In the following, we show how to set up the problem, prepare input data and put together and the orchestration script."
   ]
  },
  {
   "cell_type": "markdown",
   "id": "452923ba",
   "metadata": {},
   "source": [
    "## Problem setup\n",
    "We first create and visualize a random graph for the max-cut problem with <code>networkx</code> package. Feel free to play with the number of nodes, <code>n</code>, and number of edges, <code>m</code>."
   ]
  },
  {
   "cell_type": "code",
   "execution_count": 1,
   "id": "fcd7b103",
   "metadata": {},
   "outputs": [],
   "source": [
    "import tempfile\n",
    "import time\n",
    "import networkx as nx\n",
    "\n",
    "from braket.aws import AwsQuantumJob, AwsSession\n",
    "\n",
    "from braket.jobs.config import (\n",
    "    InstanceConfig,\n",
    "    OutputDataConfig,\n",
    "    StoppingCondition\n",
    ")\n",
    "from braket.jobs.image_uris import Framework, retrieve_image"
   ]
  },
  {
   "cell_type": "code",
   "execution_count": 2,
   "id": "4e3f5a06",
   "metadata": {},
   "outputs": [
    {
     "data": {
      "image/png": "[encoded data removed]",
      "text/plain": [
       "<Figure size 432x288 with 1 Axes>"
      ]
     },
     "metadata": {},
     "output_type": "display_data"
    }
   ],
   "source": [
    "# We generate a random graph with num_nodes nodes and num_edges edges to run Max Cut on.\n",
    "# num_nodes is the number of qubits, so each circuit will have runtime exponential in num_nodes\n",
    "num_nodes = 6\n",
    "num_edges = 8\n",
    "seed = 1967\n",
    "    \n",
    "graph = nx.gnm_random_graph(num_nodes, num_edges, seed=seed)\n",
    "\n",
    "# Draw the graph\n",
    "positions = nx.spring_layout(graph, seed=seed)\n",
    "nx.draw(graph, with_labels=True, pos=positions, node_size=600)"
   ]
  },
  {
   "cell_type": "markdown",
   "id": "9523d143",
   "metadata": {},
   "source": [
    "## Prepare input data\n",
    "We also need to prepare the input data for training. The input data can be forwarded through a dictionary or through a S3 bucket. In this notebook, the input data is the random graph we created. We upload the graph to a s3 bucket and provide the URL of the s3 bucket to the orchestration script."
   ]
  },
  {
   "cell_type": "code",
   "execution_count": 3,
   "id": "1203bd4e",
   "metadata": {},
   "outputs": [],
   "source": [
    "# Function to upload the graph to S3 in an adjacency list format\n",
    "def setup_input_stream():\n",
    "    with tempfile.NamedTemporaryFile() as temp_graph_file:\n",
    "        # define the uri for our input data stream\n",
    "        stream_s3_uri = aws_session.construct_s3_uri(\n",
    "            aws_session.default_bucket(),\n",
    "            \"input-graph\",\n",
    "        )\n",
    "        # Write graph to a temporary file\n",
    "        nx.write_adjlist(graph, temp_graph_file.name)\n",
    "        # Upload temporary file to S3\n",
    "        aws_session.upload_to_s3(temp_graph_file.name, f\"{stream_s3_uri}/input-data.adjlist\")\n",
    "    return stream_s3_uri"
   ]
  },
  {
   "cell_type": "code",
   "execution_count": 4,
   "id": "9dfe8d71",
   "metadata": {},
   "outputs": [
    {
     "name": "stdout",
     "output_type": "stream",
     "text": [
      "amazon-braket-us-west-2-537332306153\n"
     ]
    }
   ],
   "source": [
    "# Job output data will be sent to this bucket by default,\n",
    "# unless output_data_config is specified in \"AwsQuantumJob.create\".\n",
    "aws_session = AwsSession()\n",
    "bucket = aws_session.default_bucket()\n",
    "print(bucket)"
   ]
  },
  {
   "cell_type": "markdown",
   "id": "44863e35",
   "metadata": {},
   "source": [
    "## Specify hyperparameters and configurations\n",
    "The hyperparameters can be forwarded to the algorithm script through the keyword argument <code>hyperparameters</code>. It usually includes, but not limited to, the variables that are required to define a training procedure, such as the number of iterations, or to set up an optimizer, such as the learning rate. Here, we pack these hyperparameters into a dictionary which will later become the input of the orchestration script. <code>device_arn</code> has a dedicated input channel so we do not include it in the hyperparameters."
   ]
  },
  {
   "cell_type": "code",
   "execution_count": 5,
   "id": "40cf56e9",
   "metadata": {},
   "outputs": [],
   "source": [
    "# Pick 'autograd', 'tf', or 'torch'. Autograd is base PennyLane\n",
    "interface = \"autograd\"\n",
    "# Specify device that the job will primarily be targeting\n",
    "device_arn = \"arn:aws:braket:::device/quantum-simulator/amazon/sv1\"\n",
    "# Specify previous job arn to copy checkpoints from, or None to not copy checkpoints\n",
    "copy_checkpoints_from_job = None\n",
    "# copy_checkpoints_from_job = \"arn:aws:braket:<region>:<your-account-id>:job/<job-name>\"\n",
    "\n",
    "hyperparameters = {\n",
    "    # Number of tasks per iteration = 2 * (num_nodes + num_edges) * p + 1\n",
    "    \"p\": \"2\",\n",
    "    \"seed\": str(seed),\n",
    "    # Maximum number of simultaneous tasks allowed\n",
    "    \"max_parallel\": \"10\",\n",
    "    # Number of total optimization iterations, including those from previous checkpoint (if any)\n",
    "    \"num_iterations\": \"5\",\n",
    "    # Step size / learning rate for gradient descent\n",
    "    \"stepsize\": \"0.1\",\n",
    "    # Shots for each circuit execution\n",
    "    \"shots\": \"1000\",\n",
    "    \"interface\": interface,\n",
    "}\n",
    "if copy_checkpoints_from_job:\n",
    "    hyperparameters['copy_checkpoints_from_job'] = copy_checkpoints_from_job"
   ]
  },
  {
   "cell_type": "markdown",
   "id": "fa8ef713",
   "metadata": {},
   "source": [
    "Braket Job has three pre-built containers. The base container does not include PennyLane, so we need to use either the TensorFlow or PyTorch container."
   ]
  },
  {
   "cell_type": "code",
   "execution_count": 6,
   "id": "7e2285a5",
   "metadata": {},
   "outputs": [],
   "source": [
    "region = aws_session.region\n",
    "\n",
    "# Choose the container based on which one we need.\n",
    "if interface == 'autograd':\n",
    "    # Base container does not have PennyLane, so we have to use the TF or PyTorch container\n",
    "    image_uri = retrieve_image(Framework.PL_TENSORFLOW, region)\n",
    "elif interface == 'tf':\n",
    "    image_uri = retrieve_image(Framework.PL_TENSORFLOW, region)\n",
    "elif interface == 'torch':\n",
    "    image_uri = retrieve_image(Framework.PL_PYTORCH, region)"
   ]
  },
  {
   "cell_type": "markdown",
   "id": "11157093",
   "metadata": {},
   "source": [
    "## Algorithm script\n",
    "The complete algorithm script for solving the max-cut problem with QAOA is [here](qaoa_source/qaoa_algorithm_script.py). See [this page](https://pennylane.ai/qml/demos/tutorial_qaoa_intro.html) for details about using QAOA with PennyLane, and [this repo](https://github.com/aws/amazon-braket-examples) for example notebooks."
   ]
  },
  {
   "cell_type": "markdown",
   "id": "31a610cf",
   "metadata": {},
   "source": [
    "## Orchestration script\n",
    "We have now finished preparing input data, algorithm script, hyperparameters and other configurations. It's time to submit out Braket Job!\n",
    "\n",
    "- <code>device_arn</code>: The arn of the Braket simulator or QPU we want to use. It will be stored as an environment variable for the algorithm script.\n",
    "- <code>source_module</code>: The path to a file or a python module that contains your algorithm script. It will be uploaded to the container for Braket Job execution.\n",
    "- <code>job_name</code>: A unique string to identify the job. It appears in the Braket Job console and in the job arn.\n",
    "- <code>image_uri</code>: The path to a Docker container image.\n",
    "- <code>entry point</code>: The path relative to the source_module. It points to the piece of code to be executed when the Braket Job starts.\n",
    "- <code>copy_checkpoints_from_job</code>: A string that specifies the job arn whose checkpoint you want to use in the current job.\n",
    "- <code>hyperparameters</code>: The Python dictionary containing the hyperparameter names and values (as strings).\n",
    "- <code>input_data</code>: A dictionary that contains our data or a path to Amazon S3 where our data was uploaded.\n",
    "- <code>wait_until_complete</code>: If true, the function call will wait until the Braket Job is completedd, and will additionally print logs to the local console. Otherwise, it will run asynchronously."
   ]
  },
  {
   "cell_type": "code",
   "execution_count": null,
   "id": "968e8381",
   "metadata": {},
   "outputs": [],
   "source": [
    "start_time = time.time()\n",
    "\n",
    "job = AwsQuantumJob.create(\n",
    "    device_arn=device_arn,\n",
    "    source_module=\"qaoa_source\",\n",
    "    # Any unique name works. Note 50-character limit in job name\n",
    "    # (comment out to use default naming)\n",
    "    job_name=\"JobTest-\"+interface+\"-\"+str(int(time.time())),\n",
    "    image_uri=image_uri,\n",
    "    # Relative to the current location\n",
    "    entry_point=\"qaoa_source.qaoa_algorithm_script:start_here\",\n",
    "    copy_checkpoints_from_job=copy_checkpoints_from_job,\n",
    "    # general parameters\n",
    "    hyperparameters=hyperparameters,\n",
    "    input_data={\n",
    "        \"input-graph\": setup_input_stream()\n",
    "    },\n",
    "    # Comment out the following line if you want to run the job\n",
    "    # silently and asynchronously\n",
    "    wait_until_complete=True,\n",
    ")\n",
    "\n",
    "end_time = time.time()"
   ]
  },
  {
   "cell_type": "code",
   "execution_count": 8,
   "id": "95fdf3ba",
   "metadata": {
    "pycharm": {
     "name": "#%%\n"
    }
   },
   "outputs": [
    {
     "name": "stdout",
     "output_type": "stream",
     "text": [
      "320.56687593460083\n"
     ]
    }
   ],
   "source": [
    "print(end_time - start_time)"
   ]
  },
  {
   "cell_type": "markdown",
   "id": "ca4042c8",
   "metadata": {},
   "source": [
    "## View results"
   ]
  },
  {
   "cell_type": "markdown",
   "id": "8c221d51",
   "metadata": {},
   "source": [
    "After the job is completed, we can view the results and the metric we defined in the algorithm script."
   ]
  },
  {
   "cell_type": "code",
   "execution_count": 10,
   "id": "a93e0f10",
   "metadata": {},
   "outputs": [
    {
     "name": "stdout",
     "output_type": "stream",
     "text": [
      "{'params': [[0.29045119576374073, 0.3090312068052205], [-0.04545138802088256, -0.11371989905871666]], 'cost': -4.903}\n"
     ]
    }
   ],
   "source": [
    "print(job.result())"
   ]
  },
  {
   "cell_type": "code",
   "execution_count": 11,
   "id": "6548d655",
   "metadata": {},
   "outputs": [
    {
     "data": {
      "image/png": "[encoded data removed]",
      "text/plain": [
       "<Figure size 432x288 with 1 Axes>"
      ]
     },
     "metadata": {
      "needs_background": "light"
     },
     "output_type": "display_data"
    }
   ],
   "source": [
    "# A demonstration of plotting the metrics\n",
    "\n",
    "import matplotlib.pyplot as plt\n",
    "from matplotlib.ticker import MaxNLocator\n",
    "import pandas as pd\n",
    "\n",
    "df = pd.DataFrame(job.metrics())\n",
    "\n",
    "ax = plt.figure().gca()\n",
    "ax.xaxis.set_major_locator(MaxNLocator(integer=True))\n",
    "figure = df.plot(x='iteration_number', y='Cost', ax=ax)"
   ]
  },
  {
   "cell_type": "code",
   "execution_count": 12,
   "id": "6a9aab28",
   "metadata": {},
   "outputs": [
    {
     "name": "stdout",
     "output_type": "stream",
     "text": [
      "{'timestamp': [1635951580.4037116, 1635951577.6235752, 1635951554.3002422, 1635951531.1797922, 1635951506.276847, 1635951482.2347124], 'Cost': [-4.903, -5.214, -4.801, -4.082, -3.999, -3.966], 'iteration_number': [5.0, 4.0, 3.0, 2.0, 1.0, 0.0]}\n"
     ]
    }
   ],
   "source": [
    "# May need to wait a bit before metrics show up\n",
    "# If metrics aren't there, run a bit later\n",
    "# time.sleep(120)\n",
    "print(job.metrics())"
   ]
  },
  {
   "cell_type": "markdown",
   "id": "a0db7e28",
   "metadata": {},
   "source": [
    "## Summary\n",
    "In this tutorial, we set up a max-cut problem with a random graph. The graph is uploaded to a S3 bucket and provided to our orchestration script through its URL. We use PennyLane as our quantum machine learning framework, therefore we can choose either the pre-built TensorFlow or PyTorch containers. Variables that are required to define the training process and the optimizer are passed as hypermeters. The results are retrieved after the QAOA algorithm is completed."
   ]
  },
  {
   "cell_type": "code",
   "execution_count": null,
   "id": "5b5b7a36",
   "metadata": {},
   "outputs": [],
   "source": []
  }
 ],
 "metadata": {
  "kernelspec": {
   "display_name": "Python 3 (ipykernel)",
   "language": "python",
   "name": "python3"
  },
  "language_info": {
   "codemirror_mode": {
    "name": "ipython",
    "version": 3
   },
   "file_extension": ".py",
   "mimetype": "text/x-python",
   "name": "python",
   "nbconvert_exporter": "python",
   "pygments_lexer": "ipython3",
   "version": "3.9.7"
  }
 },
 "nbformat": 4,
 "nbformat_minor": 5
}
