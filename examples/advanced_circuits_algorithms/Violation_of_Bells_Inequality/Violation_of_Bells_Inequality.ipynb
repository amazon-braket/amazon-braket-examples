{
 "cells": [
  {
   "attachments": {
    "Bell_test.drawio.png": {
     "image/png": "[encoded data removed]"
    }
   },
   "cell_type": "markdown",
   "metadata": {},
   "source": [
    "# Demonstrating Violation of Bell's Inequality\n",
    "\n",
    "This tutorial shows how to run a version of Bell's inequality experiment in Braket on local simulator and different QPUs.  \n",
    "\n",
    "Till the \"Running on QPUs\" cell below, you can run this notebook on your own choice of jupyter server without even an AWS account. You may need to install AWS braket sdk. Refer to: https://github.com/aws/amazon-braket-sdk-python \n",
    "\n",
    "## EPR state\n",
    "\n",
    "Consider two spin-1/2 particles in the singlet state:\n",
    "$$ |\\psi^{-}\\rangle = \\frac{1}{\\sqrt{2}} \\left(|0\\rangle_{Alice}|1\\rangle_{\\text Bob} - |1\\rangle_{Alice}|0\\rangle_{\\text Bob}  \\right).$$\n",
    "\n",
    "Suppose the particles are separated and sent to different experimentalists: Alice and Bob. The property of interest is that the two particles are entangled. If a measurement on particle 1 along $\\mathbf{\\hat n}$ gives $+1$, then measuring particle 2 in $\\mathbf{\\hat n}$ will give $-1$. This is perfect anti-correlation when both particles are measured in the same basis. A remarkable property of quantum mechancis is that this anti-correlation is basis independent. If the pair is entangled, it's entangled in all possible measurement bases. \n",
    "\n",
    "\n",
    "What about the case where Alice measures in $\\mathbf{\\hat n_1}$ and Bob measures in a different directoin $\\mathbf{\\hat n_2}$? \n",
    "It can be shown that the expected value of the measurement outcomes is\n",
    "\n",
    "$$E^{\\psi^{-}}(\\mathbf{\\hat n_1}, \\mathbf{\\hat n_2}) = -\\cos\\left(\\theta_{\\mathbf{\\hat n_1}, \\mathbf{\\hat n_2}}\\right) $$\n",
    "\n",
    "where $\\theta_{\\mathbf{\\hat n_1}, \\mathbf{\\hat n_2}}$ is the angle between the two directions.  If $\\mathbf{\\hat n_1}$ and $\\mathbf{\\hat n_2}$ are aligned (angle between them is 0), then the results will be perfectly anticorrelated. If they are perpendicular (angle $\\pi/2$), the results will be independent.\n",
    "\n",
    "## Bell's Inequality\n",
    "\n",
    "Bell's experiment considers that would happen if Alice and Bob each measure in two different directions.Alice will measure in $\\mathbf{\\hat a}$ and $\\mathbf{\\hat b}$, while Bob will measure in $\\mathbf{\\hat b}$ and $\\mathbf{\\hat c}$.\n",
    "\n",
    "![Bell_test.drawio.png](attachment:Bell_test.drawio.png)\n",
    "\n",
    "\n",
    "Bell derived that if there was some pre-existing physical property that the measurement \"uncovers\", and if the measurements are not causally related, then the expectation values of the singlet state must obey:\n",
    "\n",
    "$$ |P(\\mathbf{\\hat a}, \\mathbf{\\hat b})  - P(\\mathbf{\\hat a}, \\mathbf{\\hat c})| - P(\\mathbf{\\hat b}, \\mathbf{\\hat c})  \\leq 1$$\n",
    "\n",
    "for three directions $\\mathbf{\\hat a}, \\mathbf{\\hat b}, \\mathbf{\\hat c}$. Violation of this inequality undermines the assumptions of local hidden variables to explain entanglement.  This is the original version of Bell's inequality [1]. \n",
    "\n",
    "$P(\\mathbf{\\hat a}, \\mathbf{\\hat b}) $ is also called correlation or singlet state expectation $E^{\\psi^{-}}(\\mathbf{\\hat a}, \\mathbf{\\hat b})$. \n",
    "\n",
    "Without loss of generality, we choose $\\mathbf{\\hat a}, \\mathbf{\\hat b}, \\mathbf{\\hat c}$ to lie in the $y-z$ plane. We can also choose  $\\mathbf{\\hat a} = \\mathbf{\\hat z}$ so that $\\mathbf{\\hat b}, \\mathbf{\\hat c}$ are completely defined by their angles $\\theta_{\\mathbf{\\hat b}}$ and $\\theta_{\\mathbf{\\hat c}}$ from the $z$-axis. Bell's inequality then becomes \n",
    "\n",
    "$$\n",
    "|-\\cos\\theta_{\\mathbf{\\hat b}} + \\cos\\theta_{\\mathbf{\\hat c}}|  + \\cos(\\theta_{\\mathbf{\\hat c}}-\\theta_{\\mathbf{\\hat b}}) \\leq 1\n",
    "$$\n",
    "\n",
    "In the cell below, we plot the lef-hand-side of this equation for various values of  $ \\theta_{\\mathbf{\\hat b}} \\ and    \\ (\\theta_{\\mathbf{\\hat c}}-\\theta_{\\mathbf{\\hat b}}) $\\.\n",
    "\n",
    "The maximum value is $1.5 \\nleq 1$ which occurs at $\\theta_{\\mathbf{\\hat b}}=\\pi/3$,  $\\theta_{\\mathbf{\\hat c}} = 2\\pi/3$as confirmed in the plot. "
   ]
  },
  {
   "cell_type": "code",
   "execution_count": 1,
   "metadata": {
    "execution": {
     "iopub.execute_input": "2022-10-24T13:25:23.937827Z",
     "iopub.status.busy": "2022-10-24T13:25:23.937072Z",
     "iopub.status.idle": "2022-10-24T13:25:24.496214Z",
     "shell.execute_reply": "2022-10-24T13:25:24.495066Z"
    }
   },
   "outputs": [],
   "source": [
    "# Use Braket SDK Cost Tracking to estimate the cost to run this example\n",
    "from braket.tracking import Tracker\n",
    "t = Tracker().start()"
   ]
  },
  {
   "cell_type": "code",
   "execution_count": 2,
   "metadata": {
    "execution": {
     "iopub.execute_input": "2022-10-24T13:25:24.504046Z",
     "iopub.status.busy": "2022-10-24T13:25:24.503013Z",
     "iopub.status.idle": "2022-10-24T13:25:27.389111Z",
     "shell.execute_reply": "2022-10-24T13:25:27.387999Z"
    }
   },
   "outputs": [
    {
     "data": {
      "image/png": "[encoded data removed]",
      "text/plain": [
       "<Figure size 500x300 with 2 Axes>"
      ]
     },
     "metadata": {},
     "output_type": "display_data"
    }
   ],
   "source": [
    "import matplotlib.pyplot as plt\n",
    "import numpy as np\n",
    "from matplotlib import cm, ticker\n",
    "\n",
    "N = 1_00\n",
    "# b is grid index for angle: theta b\n",
    "# cmb is grid index for angle: theta c - theta b\n",
    "b, cmb = np.mgrid[0:N, 0:N] / (2 * N)\n",
    "bell_terms = np.abs(np.cos(b * np.pi + cmb * np.pi) - np.cos(b * np.pi)) + np.cos(\n",
    "    cmb * np.pi\n",
    ")\n",
    "\n",
    "fig, ax = plt.subplots(figsize=(5, 3))\n",
    "cs = ax.contourf(b, cmb, bell_terms, cmap=cm.PuBu_r, levels=30)\n",
    "ax.xaxis.set_major_formatter(ticker.FormatStrFormatter(r\"%g$\\pi$\"))\n",
    "ax.yaxis.set_major_formatter(ticker.FormatStrFormatter(r\"%g$\\pi$\"))\n",
    "cbar = fig.colorbar(cs, ticks=[1, 1.5])\n",
    "cbar.ax.set_yticklabels([\"1\", \"1.5\"])\n",
    "ax.set(\n",
    "    xlim=(0, 0.5),\n",
    "    ylim=(0, 0.5),\n",
    "    xlabel=r\"$\\theta_{\\mathbf{\\hat b}}$\",\n",
    "    ylabel=r\"$\\theta_{\\mathbf{\\hat c}}-\\theta_{\\mathbf{\\hat b}}$\",\n",
    ")\n",
    "plt.show()"
   ]
  },
  {
   "cell_type": "markdown",
   "metadata": {},
   "source": [
    "## Testing  Bell's inequality on quantum computers\n",
    "\n",
    "We start by preparing the Bell singlet state in Braket. "
   ]
  },
  {
   "cell_type": "code",
   "execution_count": 3,
   "metadata": {
    "execution": {
     "iopub.execute_input": "2022-10-24T13:25:27.476497Z",
     "iopub.status.busy": "2022-10-24T13:25:27.476065Z",
     "iopub.status.idle": "2022-10-24T13:25:30.794969Z",
     "shell.execute_reply": "2022-10-24T13:25:30.793788Z"
    }
   },
   "outputs": [],
   "source": [
    "from braket.aws import AwsDevice, AwsQuantumTask\n",
    "from braket.circuits import Circuit, Gate, Observable\n",
    "from braket.devices import LocalSimulator"
   ]
  },
  {
   "cell_type": "code",
   "execution_count": 4,
   "metadata": {
    "execution": {
     "iopub.execute_input": "2022-10-24T13:25:30.802476Z",
     "iopub.status.busy": "2022-10-24T13:25:30.801779Z",
     "iopub.status.idle": "2022-10-24T13:25:30.811403Z",
     "shell.execute_reply": "2022-10-24T13:25:30.810331Z"
    }
   },
   "outputs": [],
   "source": [
    "def bell_singlet(qubit0, qubit1):\n",
    "    return Circuit().x(qubit0).x(qubit1).h(qubit0).cnot(qubit0, qubit1)"
   ]
  },
  {
   "cell_type": "code",
   "execution_count": 5,
   "metadata": {
    "execution": {
     "iopub.execute_input": "2022-10-24T13:25:30.816989Z",
     "iopub.status.busy": "2022-10-24T13:25:30.816495Z",
     "iopub.status.idle": "2022-10-24T13:25:30.827279Z",
     "shell.execute_reply": "2022-10-24T13:25:30.826259Z"
    },
    "scrolled": true
   },
   "outputs": [
    {
     "name": "stdout",
     "output_type": "stream",
     "text": [
      "T  : |0|1|2|\n",
      "            \n",
      "q0 : -X-H-C-\n",
      "          | \n",
      "q1 : -X---X-\n",
      "\n",
      "T  : |0|1|2|\n"
     ]
    }
   ],
   "source": [
    "print(bell_singlet(0, 1))"
   ]
  },
  {
   "cell_type": "markdown",
   "metadata": {},
   "source": [
    "In quantum computers we can not make measurement in any aribtrary angle (please refer to documentation about Observable in https://docs.aws.amazon.com/braket/latest/developerguide/braket-result-types.html). But, we can rotate the qubit state by same angle but in opposite direction to achive effectively the same outcome. For example, to effectively measure in basis $\\mathbf{\\hat b}$ which is in counterclockwise angle $\\theta_{\\mathbf{\\hat b}}$ in the above depicted diagram, we need to rotate the qubit by clockwise by angle $\\theta_{\\mathbf{\\hat b}}$. We can rotate each entangled qubit by different angles and do the measurement effectively in different basis at respective angles.\n",
    "\n",
    "Next, we want to measure in different basis defined by $\\mathbf{\\hat b}$ or $\\mathbf{\\hat c}$. \n",
    "Since the directions lie  in the $y-z$ plane, we can get we must rotate the state by by $\\theta_{\\mathbf{\\hat b}}$ and $\\theta_{\\mathbf{\\hat c}}$ around the $x$-axis using a rotation gate $Rx(\\theta)$. Alice applies rotation $Rx(\\theta)$ on the first spin, and Bob applied $Rx(\\theta)$ to the second spin. The three experiments we need to perform are summarized in the table below.\n",
    "\n",
    "|  | $\\text{Alice}$   | $\\text{Bob}$  |\n",
    "| :-: | :-: | :-: |\n",
    "| AB | $0$     | $\\pi/3$  |\n",
    "| AC | $0$     | $2\\pi/3$ |\n",
    "| BC | $\\pi/3$ | $2\\pi/3$ |\n"
   ]
  },
  {
   "cell_type": "code",
   "execution_count": 6,
   "metadata": {
    "execution": {
     "iopub.execute_input": "2022-10-24T13:25:30.834443Z",
     "iopub.status.busy": "2022-10-24T13:25:30.833797Z",
     "iopub.status.idle": "2022-10-24T13:25:30.841126Z",
     "shell.execute_reply": "2022-10-24T13:25:30.840224Z"
    }
   },
   "outputs": [],
   "source": [
    "def bell_singlet_rotated(qubit0, qubit1, rotation0, rotation1):\n",
    "    c = bell_singlet(qubit0, qubit1)\n",
    "    if rotation0 != 0:\n",
    "        c = c.rx(qubit0, rotation0)\n",
    "    if rotation1 != 0:\n",
    "        c = c.rx(qubit1, rotation1)\n",
    "    c.sample(Observable.Z())\n",
    "    return c"
   ]
  },
  {
   "cell_type": "markdown",
   "metadata": {},
   "source": [
    "The three Bell circuits to run are:"
   ]
  },
  {
   "cell_type": "code",
   "execution_count": 7,
   "metadata": {
    "execution": {
     "iopub.execute_input": "2022-10-24T13:25:30.847025Z",
     "iopub.status.busy": "2022-10-24T13:25:30.846515Z",
     "iopub.status.idle": "2022-10-24T13:25:30.856701Z",
     "shell.execute_reply": "2022-10-24T13:25:30.855734Z"
    }
   },
   "outputs": [
    {
     "name": "stdout",
     "output_type": "stream",
     "text": [
      "T  : |0|1|2|   3    |Result Types|\n",
      "                                \n",
      "q0 : -X-H-C-Rx(1.05)-Sample(Z)----\n",
      "          |          |          \n",
      "q1 : -X---X-Rx(2.09)-Sample(Z)----\n",
      "\n",
      "T  : |0|1|2|   3    |Result Types|\n"
     ]
    }
   ],
   "source": [
    "circAB = bell_singlet_rotated(0, 1, 0, np.pi / 3.0)\n",
    "circAC = bell_singlet_rotated(0, 1, 0, 2 * np.pi / 3.0)\n",
    "circBC = bell_singlet_rotated(0, 1, np.pi / 3.0, 2 * np.pi / 3.0)\n",
    "# printing circBC as an example of the three circuits\n",
    "print(circBC)"
   ]
  },
  {
   "cell_type": "code",
   "execution_count": 8,
   "metadata": {
    "execution": {
     "iopub.execute_input": "2022-10-24T13:25:30.863736Z",
     "iopub.status.busy": "2022-10-24T13:25:30.863237Z",
     "iopub.status.idle": "2022-10-24T13:25:31.384171Z",
     "shell.execute_reply": "2022-10-24T13:25:31.383035Z"
    }
   },
   "outputs": [
    {
     "name": "stdout",
     "output_type": "stream",
     "text": [
      "P(a,b) = -0.49340000000000006,P(a,c) = 0.5224,P(b,c) = -0.4778\n",
      "Bell inequality: 1.4936 ≤ 1\n"
     ]
    }
   ],
   "source": [
    "res = [\n",
    "    LocalSimulator().run(circ, shots=10_000).result().measurement_probabilities\n",
    "    for circ in [circAB, circAC, circBC]\n",
    "]\n",
    "prob_same = [d[\"00\"] + d[\"11\"] for d in res]\n",
    "prob_different = [d[\"01\"] + d[\"10\"] for d in res]\n",
    "\n",
    "# P() below refers to expectation or corellation of the measurement of the entangled qubits with value ranging from 1 to -1\n",
    "pAB, pAC, pBC = np.array(prob_same) - np.array(prob_different)\n",
    "print(\n",
    "    f\"P(a,b) = {pAB},P(a,c) = {pAC},P(b,c) = {pBC}\\nBell inequality: {np.abs(pAB - pAC) - pBC} ≤ 1\"\n",
    ")"
   ]
  },
  {
   "cell_type": "markdown",
   "metadata": {},
   "source": [
    "The Bell inequality is violated just as predicted by quantum mechanics by the simulator! Some times you may see inequality values little bit above 1.5 depending on the quantum randomness simulated by the simulator eventhough theoretical maximum is 1.5.\n",
    "\n",
    "Let's wrap those steps into couple of python functions so we can easily run on different QPUs."
   ]
  },
  {
   "cell_type": "code",
   "execution_count": 9,
   "metadata": {
    "execution": {
     "iopub.execute_input": "2022-10-24T13:25:31.390576Z",
     "iopub.status.busy": "2022-10-24T13:25:31.390107Z",
     "iopub.status.idle": "2022-10-24T13:25:31.408540Z",
     "shell.execute_reply": "2022-10-24T13:25:31.407410Z"
    }
   },
   "outputs": [],
   "source": [
    "def submit_bell_tasks(device, shots=1_000):\n",
    "    circAB = bell_singlet_rotated(0, 1, 0, np.pi / 3.0)\n",
    "    circAC = bell_singlet_rotated(0, 1, 0, 2 * np.pi / 3.0)\n",
    "    circBC = bell_singlet_rotated(0, 1, np.pi / 3.0, 2 * np.pi / 3.0)\n",
    "    tasks = [device.run(circ, shots=shots) for circ in [circAB, circAC, circBC]]\n",
    "    return tasks\n",
    "\n",
    "\n",
    "def get_results(tasks, verbose=True):\n",
    "    results = [task.result().measurement_probabilities for task in tasks]\n",
    "    prob_same = [d[\"00\"] + d[\"11\"] for d in results]\n",
    "    prob_different = [d[\"01\"] + d[\"10\"] for d in results]\n",
    "    pAB, pAC, pBC = np.array(prob_same) - np.array(prob_different)\n",
    "    bell_ineqality_lhs=np.abs(pAB - pAC) - pBC\n",
    "    if verbose == True:\n",
    "        print(\n",
    "            f\"P(a,b) = {pAB},P(a,c) = {pAC},P(b,c) = {pBC}\\nBell\\'s' inequality: {bell_ineqality_lhs} ≤ 1\"\n",
    "        )\n",
    "        if bell_ineqality_lhs>1:\n",
    "            print(\"Bell\\'s inequality is violated!\")\n",
    "            print(\"Notice that the quantity is not exactly 1.5 as predicted by theory. This is may be due to less number shots or the effects of noise on the QPU.\")\n",
    "        else:\n",
    "            print(\"Bell\\'s inequality is not violated due to noise.\")\n",
    "    return results, pAB, pAC, pBC"
   ]
  },
  {
   "cell_type": "markdown",
   "metadata": {},
   "source": [
    "Test the above functions by running on local simulator."
   ]
  },
  {
   "cell_type": "code",
   "execution_count": 10,
   "metadata": {
    "execution": {
     "iopub.execute_input": "2022-10-24T13:25:31.417008Z",
     "iopub.status.busy": "2022-10-24T13:25:31.416175Z",
     "iopub.status.idle": "2022-10-24T13:25:31.504790Z",
     "shell.execute_reply": "2022-10-24T13:25:31.503134Z"
    }
   },
   "outputs": [],
   "source": [
    "local_sim = LocalSimulator()\n",
    "local_sim_tasks = submit_bell_tasks(local_sim)"
   ]
  },
  {
   "cell_type": "code",
   "execution_count": 11,
   "metadata": {
    "execution": {
     "iopub.execute_input": "2022-10-24T13:25:31.514330Z",
     "iopub.status.busy": "2022-10-24T13:25:31.512062Z",
     "iopub.status.idle": "2022-10-24T13:25:31.523627Z",
     "shell.execute_reply": "2022-10-24T13:25:31.522518Z"
    },
    "scrolled": true
   },
   "outputs": [
    {
     "name": "stdout",
     "output_type": "stream",
     "text": [
      "P(a,b) = -0.544,P(a,c) = 0.52,P(b,c) = -0.51\n",
      "Bell's' inequality: 1.574 ≤ 1\n",
      "Bell's inequality is violated!\n",
      "Notice that the quantity is not exactly 1.5 as predicted by theory. This is may be due to less number shots or the effects of noise on the QPU.\n"
     ]
    }
   ],
   "source": [
    "results, pAB, pAC, pBC = get_results(local_sim_tasks)"
   ]
  },
  {
   "cell_type": "markdown",
   "metadata": {},
   "source": [
    "# Running on QPUs\n",
    "Following need AWS account as they run on AWS QPUs.\n",
    "\n",
    "If below QPU related cells taking a long time, you can check the task status in braket console tasks page in the right region. QPU avaiability hours differ and documented in the braket console devices page. You can also export this notebook as a python program and submit it as a braket job in the console."
   ]
  },
  {
   "cell_type": "markdown",
   "metadata": {},
   "source": [
    "First we test the Bell inequality on OQC Lucy device. The cost to run this experiment is $\\$ 0.3$ per task and $\\$0.00035$ per shot.  Since we have three circuits of 1000 shots each, that totals $\\$1.95$ USD.\n",
    "\n",
    "**Cost: $\\$1.95$ USD**"
   ]
  },
  {
   "cell_type": "code",
   "execution_count": 12,
   "metadata": {
    "execution": {
     "iopub.execute_input": "2022-10-24T13:25:31.532859Z",
     "iopub.status.busy": "2022-10-24T13:25:31.530536Z",
     "iopub.status.idle": "2022-10-24T13:25:34.483427Z",
     "shell.execute_reply": "2022-10-24T13:25:34.482120Z"
    }
   },
   "outputs": [],
   "source": [
    "oqc_lucy = AwsDevice(\"arn:aws:braket:eu-west-2::device/qpu/oqc/Lucy\")\n",
    "oqc_tasks = submit_bell_tasks(oqc_lucy)"
   ]
  },
  {
   "cell_type": "code",
   "execution_count": 13,
   "metadata": {
    "execution": {
     "iopub.execute_input": "2022-10-24T13:25:34.490128Z",
     "iopub.status.busy": "2022-10-24T13:25:34.489285Z",
     "iopub.status.idle": "2022-10-25T09:03:01.600062Z",
     "shell.execute_reply": "2022-10-25T09:03:01.598897Z"
    },
    "scrolled": true
   },
   "outputs": [
    {
     "name": "stdout",
     "output_type": "stream",
     "text": [
      "P(a,b) = -0.38399999999999995,P(a,c) = 0.4140000000000001,P(b,c) = 0.12599999999999995\n",
      "Bell's' inequality: 0.6720000000000002 ≤ 1\n",
      "Bell's inequality is not violated due to noise.\n"
     ]
    }
   ],
   "source": [
    "results, pAB, pAC, pBC = get_results(oqc_tasks)"
   ]
  },
  {
   "cell_type": "markdown",
   "metadata": {},
   "source": [
    "Next, we submit our example Bell state circuit to IonQ. This task may not readily be executed but enter a queue for this specific machine. While we can interrupt our kernel (and work on something else), we can always recover our results using the unique ID of this task.\n",
    "\n",
    "**Cost: $\\$30$ USD**"
   ]
  },
  {
   "cell_type": "code",
   "execution_count": 14,
   "metadata": {
    "execution": {
     "iopub.execute_input": "2022-10-25T09:03:01.606872Z",
     "iopub.status.busy": "2022-10-25T09:03:01.605257Z",
     "iopub.status.idle": "2022-10-25T09:03:07.275084Z",
     "shell.execute_reply": "2022-10-25T09:03:07.273959Z"
    }
   },
   "outputs": [],
   "source": [
    "ionq_harmony = AwsDevice(\"arn:aws:braket:::device/qpu/ionq/ionQdevice\")\n",
    "ionq_tasks = submit_bell_tasks(ionq_harmony)"
   ]
  },
  {
   "cell_type": "code",
   "execution_count": 15,
   "metadata": {
    "execution": {
     "iopub.execute_input": "2022-10-25T09:03:07.294268Z",
     "iopub.status.busy": "2022-10-25T09:03:07.285434Z",
     "iopub.status.idle": "2022-10-25T09:05:03.506451Z",
     "shell.execute_reply": "2022-10-25T09:05:03.505420Z"
    }
   },
   "outputs": [
    {
     "name": "stdout",
     "output_type": "stream",
     "text": [
      "P(a,b) = -0.42600000000000005,P(a,c) = 0.44399999999999995,P(b,c) = -0.5379999999999999\n",
      "Bell's' inequality: 1.408 ≤ 1\n",
      "Bell's inequality is violated!\n",
      "Notice that the quantity is not exactly 1.5 as predicted by theory. This is may be due to less number shots or the effects of noise on the QPU.\n"
     ]
    }
   ],
   "source": [
    "results, pAB, pAC, pBC = get_results(ionq_tasks)"
   ]
  },
  {
   "cell_type": "code",
   "execution_count": 16,
   "metadata": {
    "execution": {
     "iopub.execute_input": "2022-10-25T09:05:03.511886Z",
     "iopub.status.busy": "2022-10-25T09:05:03.510231Z",
     "iopub.status.idle": "2022-10-25T09:05:03.818846Z",
     "shell.execute_reply": "2022-10-25T09:05:03.817724Z"
    }
   },
   "outputs": [
    {
     "name": "stdout",
     "output_type": "stream",
     "text": [
      "Task Summary\n",
      "{'arn:aws:braket:eu-west-2::device/qpu/oqc/Lucy': {'shots': 3000, 'tasks': {'COMPLETED': 3}}, 'arn:aws:braket:::device/qpu/ionq/ionQdevice': {'shots': 3000, 'tasks': {'COMPLETED': 3}}}\n",
      "Note: Charges shown are estimates based on your Amazon Braket simulator and quantum processing unit (QPU) task usage. Estimated charges shown may differ from your actual charges. Estimated charges do not factor in any discounts or credits, and you may experience additional charges based on your use of other services such as Amazon Elastic Compute Cloud (Amazon EC2).\n",
      "Estimated cost to run this example: 32.85 USD\n"
     ]
    }
   ],
   "source": [
    "print(\"Task Summary\")\n",
    "print(t.quantum_tasks_statistics())\n",
    "print('Note: Charges shown are estimates based on your Amazon Braket simulator and quantum processing unit (QPU) task usage. Estimated charges shown may differ from your actual charges. Estimated charges do not factor in any discounts or credits, and you may experience additional charges based on your use of other services such as Amazon Elastic Compute Cloud (Amazon EC2).')\n",
    "print(f\"Estimated cost to run this example: {t.qpu_tasks_cost() + t.simulator_tasks_cost():.2f} USD\")"
   ]
  },
  {
   "cell_type": "markdown",
   "metadata": {},
   "source": [
    "## Related non-peer reviewed links:\n",
    "\n",
    "https://en.wikipedia.org/wiki/Singlet_state#Singlets_and_entangled_states\n",
    "\n",
    "https://en.wikipedia.org/wiki/Bell%27s_theorem#Bell_(1964)"
   ]
  },
  {
   "cell_type": "markdown",
   "metadata": {},
   "source": [
    "## References\n",
    "\n",
    "[1]  Bell, J. S. On the Einstein Podolsky Rosen Paradox. Physics Physique Fizika 1, no. 3 (November 1, 1964): 195–200. https://doi.org/10.1103/PhysicsPhysiqueFizika.1.195.\n",
    "\n",
    "\n",
    "[2] Greenberger, Daniel M., Michael A. Horne, Abner Shimony, and Anton Zeilinger (1990). Bell’s Theorem without Inequalities. American Journal of Physics 58, no. 12: 1131–43. https://doi.org/10.1119/1.16243.\n"
   ]
  }
 ],
 "metadata": {
  "kernelspec": {
   "display_name": "Python 3 (ipykernel)",
   "language": "python",
   "name": "python3"
  },
  "language_info": {
   "codemirror_mode": {
    "name": "ipython",
    "version": 3
   },
   "file_extension": ".py",
   "mimetype": "text/x-python",
   "name": "python",
   "nbconvert_exporter": "python",
   "pygments_lexer": "ipython3",
   "version": "3.7.10"
  },
  "vscode": {
   "interpreter": {
    "hash": "7c1d46b20c29fdc8b64b33c273bbdafe88648e7d75a1d0d158ccf067a4c62493"
   }
  }
 },
 "nbformat": 4,
 "nbformat_minor": 4
}
