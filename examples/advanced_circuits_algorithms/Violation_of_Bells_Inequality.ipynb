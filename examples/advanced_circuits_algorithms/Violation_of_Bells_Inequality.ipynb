{
 "cells": [
  {
   "attachments": {
    "Bell_test.drawio.png": {
     "image/png": "[encoded data removed]"
    }
   },
   "cell_type": "markdown",
   "metadata": {},
   "source": [
    "# Demonstrating Violation of Bell's Inequality\n",
    "\n",
    "This tutorial shows how to run a version of Bell's inequality experiment in Braket on different QPUs.  \n",
    "\n",
    "\n",
    "## EPR state\n",
    "\n",
    "Consider two spin-1/2 particles in the singlet state:\n",
    "$$ |\\psi^{-}\\rangle = \\frac{1}{\\sqrt{2}} \\left(|0\\rangle_{Alice}|1\\rangle_{\\text Bob} - |1\\rangle_{Alice}|0\\rangle_{\\text Bob}  \\right).$$\n",
    "\n",
    "Suppose the particles are separated and sent to different experimentalists: Alice and Bob. The property of interest is that the two particles are entangled. If a measurement on particle 1 along $\\mathbf{\\hat n}$ gives $+1$, then measuring particle 2 in $\\mathbf{\\hat n}$ will give $-1$. This is perfect anti-correlation when both particles are measured in the same basis. A remarkable property of quantum mechancis is that this anti-correlation is basis independent. If the pair is entangled, it's entangled in all possible measurement bases. \n",
    "\n",
    "\n",
    "What about the case where Alice measures in $\\mathbf{\\hat n_1}$ and Bob measures in a different directoin $\\mathbf{\\hat n_2}$? \n",
    "It can be shown that the expected value of the measurement outcomes is\n",
    "\n",
    "$$E^{\\psi^{-}}(\\mathbf{\\hat n_1}, \\mathbf{\\hat n_2}) = -\\cos\\left(\\theta_{\\mathbf{\\hat n_1}, \\mathbf{\\hat n_2}}\\right) $$\n",
    "\n",
    "where $\\theta_{\\mathbf{\\hat n_1}, \\mathbf{\\hat n_2}}$ is the angle between the two directions.  If $\\mathbf{\\hat n_1}$ and $\\mathbf{\\hat n_2}$ are aligned (angle between them is 0), then the results will be perfectly anticorrelated. If they are perpendicular (angle $\\pi/2$), the results will be independent.\n",
    "\n",
    "## Bell's Inequality\n",
    "\n",
    "Bell's experiment considers that would happen if Alice and Bob each measure in two different directions.Alice will measure in $\\mathbf{\\hat a}$ and $\\mathbf{\\hat b}$, while Bob will measure in $\\mathbf{\\hat a}$ and $\\mathbf{\\hat c}$.\n",
    "\n",
    "![Bell_test.drawio.png](attachment:Bell_test.drawio.png)\n",
    "\n",
    "\n",
    "Bell derived that if there was some pre-existing physical property that the measurement \"uncovers\", and if the measurements are not causally related, then the expectation values of the singlet state must obey:\n",
    "\n",
    "$$ |E^{\\psi^{-}}(\\mathbf{\\hat a}, \\mathbf{\\hat b})  - E^{\\psi^{-}}(\\mathbf{\\hat a}, \\mathbf{\\hat c})| - E^{\\psi^{-}}(\\mathbf{\\hat b}, \\mathbf{\\hat c})  \\leq 1$$\n",
    "\n",
    "for three directions $\\mathbf{\\hat a}, \\mathbf{\\hat b}, \\mathbf{\\hat c}$. Violation of this inequality undermines the assumptions of local hidden variables to explain entanglement.  This is the original version of Bell's inequality [1]. \n",
    "\n",
    "Without loss of generality, we choose $\\mathbf{\\hat a}, \\mathbf{\\hat b}, \\mathbf{\\hat c}$ to lie in the $y-z$ plane. We can also choose  $\\mathbf{\\hat a} = \\mathbf{\\hat z}$ so that $\\mathbf{\\hat b}, \\mathbf{\\hat c}$ are completely defined by their angles $\\theta_{\\mathbf{\\hat b}}$ and $\\theta_{\\mathbf{\\hat c}}$ from the $z$-axis. Bell's inequality then becomes \n",
    "\n",
    "$$\n",
    "|-\\cos\\theta_{\\mathbf{\\hat b}} + \\cos\\theta_{\\mathbf{\\hat c}}|  + \\cos(\\theta_{\\mathbf{\\hat c}}-\\theta_{\\mathbf{\\hat b}}) \\leq 1\n",
    "$$\n",
    "In the cell below, we plot the lef-hand-side of this equation for various values of $\\theta_{AB}, \\theta_{BC}$. The maximum value is $1.5 \\nleq 1$ which occurs at $\\theta_{\\mathbf{\\hat b}}=\\pi/3$,  $\\theta_{\\mathbf{\\hat c}} = 2\\pi/3$as confirmed in the plot. "
   ]
  },
  {
   "cell_type": "code",
   "execution_count": 1,
   "metadata": {},
   "outputs": [
    {
     "data": {
      "image/png": "[encoded data removed]",
      "text/plain": [
       "<Figure size 500x300 with 2 Axes>"
      ]
     },
     "metadata": {},
     "output_type": "display_data"
    }
   ],
   "source": [
    "import matplotlib.pyplot as plt\n",
    "import numpy as np\n",
    "from matplotlib import cm, ticker\n",
    "\n",
    "N = 1_00\n",
    "a, b = np.mgrid[0:N, 0:N] / (2 * N)\n",
    "bell_terms = np.abs(np.cos(a * np.pi + b * np.pi) - np.cos(a * np.pi)) + np.cos(\n",
    "    b * np.pi\n",
    ")\n",
    "\n",
    "fig, ax = plt.subplots(figsize=(5, 3))\n",
    "cs = ax.contourf(a, b, bell_terms, cmap=cm.PuBu_r, levels=30)\n",
    "ax.xaxis.set_major_formatter(ticker.FormatStrFormatter(r\"%g$\\pi$\"))\n",
    "ax.yaxis.set_major_formatter(ticker.FormatStrFormatter(r\"%g$\\pi$\"))\n",
    "cbar = fig.colorbar(cs, ticks=[1, 1.5])\n",
    "cbar.ax.set_yticklabels([\"1\", \"1.5\"])\n",
    "ax.set(\n",
    "    xlim=(0, 0.5),\n",
    "    ylim=(0, 0.5),\n",
    "    xlabel=r\"$\\theta_{\\mathbf{\\hat b}}$\",\n",
    "    ylabel=r\"$\\theta_{\\mathbf{\\hat c}}-\\theta_{\\mathbf{\\hat b}}$\",\n",
    ")\n",
    "plt.show()"
   ]
  },
  {
   "cell_type": "markdown",
   "metadata": {},
   "source": [
    "## Testing  Bell's inequality on quantum computers\n",
    "\n",
    "We start by preparing the Bell singlet state in Braket. "
   ]
  },
  {
   "cell_type": "code",
   "execution_count": 2,
   "metadata": {},
   "outputs": [],
   "source": [
    "from braket.aws import AwsDevice, AwsQuantumTask\n",
    "from braket.circuits import Circuit, Gate, Observable\n",
    "from braket.devices import LocalSimulator"
   ]
  },
  {
   "cell_type": "code",
   "execution_count": 3,
   "metadata": {},
   "outputs": [],
   "source": [
    "def bell_singlet(qubit0, qubit1):\n",
    "    return Circuit().x(qubit0).x(qubit1).h(qubit0).cnot(qubit0, qubit1)"
   ]
  },
  {
   "cell_type": "code",
   "execution_count": 4,
   "metadata": {},
   "outputs": [
    {
     "name": "stdout",
     "output_type": "stream",
     "text": [
      "T  : |0|1|2|\n",
      "            \n",
      "q0 : -X-H-C-\n",
      "          | \n",
      "q1 : -X---X-\n",
      "\n",
      "T  : |0|1|2|\n"
     ]
    }
   ],
   "source": [
    "print(bell_singlet(0, 1))"
   ]
  },
  {
   "cell_type": "markdown",
   "metadata": {},
   "source": [
    "Next, we want to measure in different basis defined by $\\mathbf{\\hat b}$ or $\\mathbf{\\hat c}$. Since the directions lie  in the $y-z$ plane, we can get we must rotate the state by by $\\theta_{\\mathbf{\\hat b}}$ and $\\theta_{\\mathbf{\\hat c}}$ around the $x$-axis using a rotation gate $Rx(\\theta)$. Alice applies rotation $Rx(\\theta)$ on the first spin, and Bob applied $Rx(\\theta)$ to the second spin. The three experiments we need to perform are summarized in the table below.\n",
    "\n",
    "|  | $\\text{Alice}$   | $\\text{Bob}$  |\n",
    "| :-: | :-: | :-: |\n",
    "| AB | $0$     | $\\pi/3$  |\n",
    "| AC | $0$     | $2\\pi/3$ |\n",
    "| BC | $\\pi/3$ | $2\\pi/3$ |\n"
   ]
  },
  {
   "cell_type": "code",
   "execution_count": 5,
   "metadata": {},
   "outputs": [],
   "source": [
    "def bell_singlet_rotated(qubit0, qubit1, rotation0, rotation1):\n",
    "    c = bell_singlet(qubit0, qubit1)\n",
    "    if rotation0 != 0:\n",
    "        c = c.rx(qubit0, rotation0)\n",
    "    if rotation1 != 0:\n",
    "        c = c.rx(qubit1, rotation1)\n",
    "    c.sample(Observable.Z())\n",
    "    return c"
   ]
  },
  {
   "cell_type": "markdown",
   "metadata": {},
   "source": [
    "The three Bell circuits to run are:"
   ]
  },
  {
   "cell_type": "code",
   "execution_count": 6,
   "metadata": {},
   "outputs": [
    {
     "name": "stdout",
     "output_type": "stream",
     "text": [
      "T  : |0|1|2|   3    |Result Types|\n",
      "                                \n",
      "q0 : -X-H-C-Rx(1.05)-Sample(Z)----\n",
      "          |          |          \n",
      "q1 : -X---X-Rx(2.09)-Sample(Z)----\n",
      "\n",
      "T  : |0|1|2|   3    |Result Types|\n"
     ]
    }
   ],
   "source": [
    "circAB = bell_singlet_rotated(0, 1, 0, np.pi / 3.0)\n",
    "circAC = bell_singlet_rotated(0, 1, 0, 2 * np.pi / 3.0)\n",
    "circBC = bell_singlet_rotated(0, 1, np.pi / 3.0, 2 * np.pi / 3.0)\n",
    "print(circBC)"
   ]
  },
  {
   "cell_type": "code",
   "execution_count": 7,
   "metadata": {},
   "outputs": [
    {
     "name": "stdout",
     "output_type": "stream",
     "text": [
      "P(a,b) = -0.4938,P(a,c) = 0.5042,P(b,c) = -0.5047999999999999\n",
      "Bell inequality: 1.5028 ≤ 1\n"
     ]
    }
   ],
   "source": [
    "res = [\n",
    "    LocalSimulator().run(circ, shots=10_000).result().measurement_probabilities\n",
    "    for circ in [circAB, circAC, circBC]\n",
    "]\n",
    "prob_same = [d[\"00\"] + d[\"11\"] for d in res]\n",
    "prob_different = [d[\"01\"] + d[\"10\"] for d in res]\n",
    "pAB, pAC, pBC = np.array(prob_same) - np.array(prob_different)\n",
    "print(\n",
    "    f\"P(a,b) = {pAB},P(a,c) = {pAC},P(b,c) = {pBC}\\nBell inequality: {np.abs(pAB - pAC) - pBC} ≤ 1\"\n",
    ")"
   ]
  },
  {
   "cell_type": "markdown",
   "metadata": {},
   "source": [
    "The Bell inequality is violated just as predicted by quantum mechanics! \n",
    "\n",
    "# Running on QPUs\n",
    "\n",
    "Let's wrap those methods into a function so we can easily run on different QPUs."
   ]
  },
  {
   "cell_type": "code",
   "execution_count": 8,
   "metadata": {},
   "outputs": [],
   "source": [
    "def submit_bell_tasks(device, shots=1_000):\n",
    "    circAB = bell_singlet_rotated(0, 1, 0, np.pi / 3.0)\n",
    "    circAC = bell_singlet_rotated(0, 1, 0, 2 * np.pi / 3.0)\n",
    "    circBC = bell_singlet_rotated(0, 1, np.pi / 3.0, 2 * np.pi / 3.0)\n",
    "    tasks = [device.run(circ, shots=shots) for circ in [circAB, circAC, circBC]]\n",
    "    return tasks\n",
    "\n",
    "\n",
    "def get_results(tasks, verbose=True):\n",
    "    results = [task.result().measurement_probabilities for task in tasks]\n",
    "    prob_same = [d[\"00\"] + d[\"11\"] for d in results]\n",
    "    prob_different = [d[\"01\"] + d[\"10\"] for d in results]\n",
    "    pAB, pAC, pBC = np.array(prob_same) - np.array(prob_different)\n",
    "    if verbose == True:\n",
    "        print(\n",
    "            f\"P(a,b) = {pAB},P(a,c) = {pAC},P(b,c) = {pBC}\\nBell inequality: {np.abs(pAB - pAC) - pBC} ≤ 1\"\n",
    "        )\n",
    "    return results, pAB, pAC, pBC"
   ]
  },
  {
   "cell_type": "markdown",
   "metadata": {},
   "source": [
    "First we test the Bell inequality on OQC Lucy device. The cost to run this experiment is $\\$ 0.3$ per task and $\\$0.00035$ per shot.  Since we have three circuits of 1000 shots each, that totals $\\$1.95$ USD.\n",
    "\n",
    "**Cost: $\\$1.95$ USD**"
   ]
  },
  {
   "cell_type": "code",
   "execution_count": 9,
   "metadata": {},
   "outputs": [],
   "source": [
    "oqc_lucy = AwsDevice(\"arn:aws:braket:eu-west-2::device/qpu/oqc/Lucy\")\n",
    "oqc_tasks = submit_bell_tasks(oqc_lucy)"
   ]
  },
  {
   "cell_type": "markdown",
   "metadata": {},
   "source": [
    "If above taking long time, you can check your tasks if queued: https://us-east-1.console.aws.amazon.com/braket/home?region=eu-west-2#/tasks"
   ]
  },
  {
   "cell_type": "code",
   "execution_count": 10,
   "metadata": {},
   "outputs": [
    {
     "name": "stdout",
     "output_type": "stream",
     "text": [
      "P(a,b) = -0.451,P(a,c) = 0.488,P(b,c) = -0.431\n",
      "Bell inequality: 1.37 ≤ 1\n"
     ]
    }
   ],
   "source": [
    "results, pAB, pAC, pBC = get_results(ionq_tasks)"
   ]
  },
  {
   "cell_type": "markdown",
   "metadata": {},
   "source": [
    "Bell's inequality is violated! Notice that the quantity is not exactly $1.5$ as predicted by theory. This is due to the effects of noise on the QPU. See https://github.com/aws/amazon-braket-examples/blob/main/examples/braket_features/Noise_models/Noise_models_on_Rigetti_AspenM2.ipynb for an example of modeling the noise properties of a QPU. "
   ]
  },
  {
   "cell_type": "markdown",
   "metadata": {},
   "source": [
    "Next, we submit our example Bell state circuit to IonQ. This task may not readily be executed but enter a queue for this specific machine. While we can interrupt our kernel (and work on something else), we can always recover our results using the unique ID of this task.\n",
    "\n",
    "**Cost: $\\$30$ USD**"
   ]
  },
  {
   "cell_type": "code",
   "execution_count": 11,
   "metadata": {},
   "outputs": [],
   "source": [
    "ionq_harmony = AwsDevice(\"arn:aws:braket:::device/qpu/ionq/ionQdevice\")\n",
    "ionq_tasks = submit_bell_tasks(ionq_harmony)"
   ]
  },
  {
   "cell_type": "code",
   "execution_count": 12,
   "metadata": {},
   "outputs": [
    {
     "name": "stdout",
     "output_type": "stream",
     "text": [
      "P(a,b) = -0.476,P(a,c) = 0.496,P(b,c) = -0.45599999999999996\n",
      "Bell inequality: 1.428 ≤ 1\n"
     ]
    }
   ],
   "source": [
    "results, pAB, pAC, pBC = get_results(ionq_tasks)"
   ]
  },
  {
   "cell_type": "markdown",
   "metadata": {},
   "source": [
    "Again, we see that Bell's inequality is violated. "
   ]
  },
  {
   "cell_type": "markdown",
   "metadata": {},
   "source": [
    "## References\n",
    "\n",
    "[1]  Bell, J. S. On the Einstein Podolsky Rosen Paradox. Physics Physique Fizika 1, no. 3 (November 1, 1964): 195–200. https://doi.org/10.1103/PhysicsPhysiqueFizika.1.195.\n",
    "\n",
    "\n",
    "[2] Greenberger, Daniel M., Michael A. Horne, Abner Shimony, and Anton Zeilinger (1990). Bell’s Theorem without Inequalities. American Journal of Physics 58, no. 12: 1131–43. https://doi.org/10.1119/1.16243."
   ]
  }
 ],
 "metadata": {
  "kernelspec": {
   "display_name": "Python 3 (ipykernel)",
   "language": "python",
   "name": "python3"
  },
  "language_info": {
   "codemirror_mode": {
    "name": "ipython",
    "version": 3
   },
   "file_extension": ".py",
   "mimetype": "text/x-python",
   "name": "python",
   "nbconvert_exporter": "python",
   "pygments_lexer": "ipython3",
   "version": "3.9.5"
  },
  "vscode": {
   "interpreter": {
    "hash": "7c1d46b20c29fdc8b64b33c273bbdafe88648e7d75a1d0d158ccf067a4c62493"
   }
  }
 },
 "nbformat": 4,
 "nbformat_minor": 4
}
