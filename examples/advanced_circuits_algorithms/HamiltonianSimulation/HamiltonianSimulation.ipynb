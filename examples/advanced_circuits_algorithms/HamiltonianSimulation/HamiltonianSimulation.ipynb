{
 "cells": [
  {
   "cell_type": "markdown",
   "id": "4868bd96",
   "metadata": {},
   "source": [
    "# Use Amazon Braket to model quantum time evolution\n",
    "\n",
    "The purpose of this section is to teach you how to model the time evolution of a quantum system described by any Hamiltonian using quantum gates that are provided by most of the QPU’s and simulators offered by Amazon Braket. This section is designed for you to be able to easily replace the Hermitian Hamiltonian that we provide with any Hermitian Hamiltonian of your choosing and to apply these methods to a wide variety of QPU’s and simulators.\n",
    "\n",
    "## Set up the Hamiltonian\n",
    "\n",
    "The first step of this tutorial is to set up a random Hermitian Hamiltonian that we are going to use to describe the time evolution of our quantum system. This can be done with the following code:\n"
   ]
  },
  {
   "cell_type": "code",
   "execution_count": 1,
   "id": "7bf94f84",
   "metadata": {},
   "outputs": [],
   "source": [
    "import numpy as np\n",
    "#First we define the number of qubits we are going to use.\n",
    "n = 3\n",
    "#This defines the Hilbert space of the Hamiltonian. Notice that the size of the Hamiltonian can only be a power of two.\n",
    "nq = 2**n\n",
    "#Create a random matrix with values between -1 and 1.\n",
    "x = np.random.uniform(-1,1, size=(nq,nq))+1j*np.random.uniform(-1,1, size=(nq,nq))\n",
    "#Use this random matrix to create a Hermitian matrix that we will use for our Hamiltonian.\n",
    "h = 0.5*x+0.5*x.conj().T"
   ]
  },
  {
   "cell_type": "markdown",
   "id": "6ee84beb",
   "metadata": {},
   "source": [
    "*Note:* We are using a random Hamiltonian just to demonstrate the flexibility that this algorithm has to accommodate any Hermitian Hamiltonian. Feel free to replace this Hamiltonian with another Hermitian Hamiltonian of your choice.\n",
    "\n",
    "The next step of this tutorial is to decompose this Hamiltonian into a series of Kronecker products of Pauli matrices (Pauli products) so that this problem can be more digestible to a quantum algorithm. One pleasant feature of using Kronecker products of Pauli and identity matrices is that you can decompose any matrix into a sum of these products multiplied by a constant. If we define a three dimensional matrix composed of the three Pauli matrices and a $2×2$ identity matrix as such: $σ~=(I,σx​,σy​,σz​)$, then for our three qubit system, we can define our Hamiltonian as: H=N1​∑i,j,k​hi,j,k​σ~i​⊗σ~j​⊗σ~k​. Here, N=2n where n is the number of qubits, the subscripts on σ~ determine the Pauli matrix or identity matrix of interest, and the summation takes into account all possible combinations of Pauli and identity matrices in the Kronecker product. The term hi,j,k​ is given by the equation: hi,j,k​=TR(σ~i​⊗σ~j​⊗σ~k​H). This is implemented with the following code:\n"
   ]
  },
  {
   "cell_type": "code",
   "execution_count": null,
   "id": "eac4c43f",
   "metadata": {},
   "outputs": [],
   "source": []
  }
 ],
 "metadata": {
  "kernelspec": {
   "display_name": "conda_braket",
   "language": "python",
   "name": "conda_braket"
  },
  "language_info": {
   "codemirror_mode": {
    "name": "ipython",
    "version": 3
   },
   "file_extension": ".py",
   "mimetype": "text/x-python",
   "name": "python",
   "nbconvert_exporter": "python",
   "pygments_lexer": "ipython3",
   "version": "3.7.13"
  }
 },
 "nbformat": 4,
 "nbformat_minor": 5
}
