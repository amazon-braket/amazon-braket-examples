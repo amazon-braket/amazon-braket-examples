{
 "cells": [
  {
   "cell_type": "markdown",
   "id": "57cc0f78-56cc-4a24-b5af-7e156a17a002",
   "metadata": {},
   "source": [
    "# Hello Hybrid Jobs with Cuda-Q"
   ]
  },
  {
   "cell_type": "markdown",
   "id": "9938fa7b-951d-485b-acf9-14ce0d4fa406",
   "metadata": {},
   "source": [
    "[CUDA-Q](https://nvidia.github.io/cuda-quantum/latest/index.html) is a platform for hybrid quantum-classical computing. It offers a unified programming model designed for a hybrid setting for CPUs and GPUs. CUDA-Q contains support for programming in Python and in C++. \n",
    "\n",
    "In this notebook, you will learn how to run an Amazon Braket hybrid job with Cuda-Q using Bring Your Own Container (BYOC). This notebook assumes basic knowledge of Amazon Braket Hybrid Jobs. You can learn about Hybrid Jobs from [this page](https://docs.aws.amazon.com/braket/latest/developerguide/braket-what-is-hybrid-job.html) in the Amazon Braket Developer Guide. \n",
    "\n",
    "First, a job container is built with CUDA-Q and other GPU related settings configured. The procedure for BYOC is presented in this page from [Braker Developer Guide](https://docs.aws.amazon.com/braket/latest/developerguide/braket-jobs-byoc.html). The required files for building a container with CUDA-Quantum is the \"container\" folder, including\n",
    "- Dockerfile: Describes how the container is built.\n",
    "- requirements.txt: Additional Python dependencies to include.\n",
    "- braket_container.py: The start up script of a job container (optional).\n",
    "\n",
    "In addition, there is a shell script \"container_build_and_push.sh\" automates the procedure of pulling, building and pushing container images. The shell script takes two paramerers:\n",
    "- image-name\n",
    "- region-name\n",
    "\n",
    "The shell script is called with the following syntax\n",
    "```\n",
    "container/container_build_and_push.sh <image-name> <region-name>"
   ]
  },
  {
   "cell_type": "code",
   "execution_count": 35,
   "id": "8abe18f4-0cf1-4d4e-96da-521aac2ab3fe",
   "metadata": {},
   "outputs": [
    {
     "name": "stdout",
     "output_type": "stream",
     "text": [
      "WARNING! Using --password via the CLI is insecure. Use --password-stdin.\n",
      "Login Succeeded\n",
      "WARNING! Using --password via the CLI is insecure. Use --password-stdin.\n",
      "Login Succeeded\n",
      "#0 building with \"desktop-linux\" instance using docker driver\n",
      "\n",
      "#1 [internal] load build definition from Dockerfile\n",
      "#1 transferring dockerfile: 937B done\n",
      "#1 DONE 0.0s\n",
      "\n",
      "#2 [internal] load metadata for 292282985366.dkr.ecr.us-west-2.amazonaws.com/amazon-braket-pytorch-jobs:latest\n",
      "#2 ...\n",
      "\n",
      "#3 [auth] sharing credentials for 292282985366.dkr.ecr.us-west-2.amazonaws.com\n",
      "#3 DONE 0.0s\n",
      "\n",
      "#2 [internal] load metadata for 292282985366.dkr.ecr.us-west-2.amazonaws.com/amazon-braket-pytorch-jobs:latest\n",
      "#2 DONE 0.6s\n",
      "\n",
      "#4 [internal] load .dockerignore\n",
      "#4 transferring context: 2B done\n",
      "#4 DONE 0.0s\n",
      "\n",
      "#5 [1/5] FROM 292282985366.dkr.ecr.us-west-2.amazonaws.com/amazon-braket-pytorch-jobs:latest@sha256:fe5f0c70d6b5cc587e24259c549aa1e221e0009885a065537028cbbd0193c06a\n",
      "#5 DONE 0.0s\n",
      "\n",
      "#6 [internal] load build context\n",
      "#6 transferring context: 312B done\n",
      "#6 DONE 0.0s\n",
      "\n",
      "#7 [2/5] RUN python3 -m pip install --upgrade pip\n",
      "#7 CACHED\n",
      "\n",
      "#8 [3/5] RUN python3 -m pip install cuda-quantum\n",
      "#8 CACHED\n",
      "\n",
      "#9 [4/5] RUN bash \"/opt/conda/lib/python3.10/site-packages/distributed_interfaces/activate_custom_mpi.sh\"\n",
      "#9 CACHED\n",
      "\n",
      "#10 [5/5] COPY container/braket_container.py /opt/ml/code/braket_container.py\n",
      "#10 CACHED\n",
      "\n",
      "#11 exporting to image\n",
      "#11 exporting layers done\n",
      "#11 writing image sha256:3c05f567ef09cfabcdd4bd7d652637185a2808d74d398e4d468a103b7cc97711 done\n",
      "#11 naming to docker.io/library/braket-cudaq-byoc-job done\n",
      "#11 DONE 0.0s\n",
      "\n",
      "View build details: \u001b]8;;docker-desktop://dashboard/build/desktop-linux/desktop-linux/p1dbby2hqiw9jil9dqcy9x6pk\u001b\\docker-desktop://dashboard/build/desktop-linux/desktop-linux/p1dbby2hqiw9jil9dqcy9x6pk\u001b]8;;\u001b\\\n",
      "\u001b[1m\n",
      "What's Next?\n",
      "\u001b[0m  View a summary of image vulnerabilities and recommendations → \u001b[36mdocker scout quickview\u001b[0m\n",
      "The push refers to repository [537332306153.dkr.ecr.us-west-2.amazonaws.com/braket-cudaq-byoc-job]\n",
      "\n",
      "\u001b[1B40b1b3be: Preparing \n",
      "\u001b[1B0766b2a0: Preparing \n",
      "\u001b[1B5367d0ad: Preparing \n",
      "\u001b[1B653414ea: Preparing \n",
      "\u001b[1B2b1ae743: Preparing \n",
      "\u001b[1Ba4d5de1d: Preparing \n",
      "\u001b[1Bbc3df42c: Preparing \n",
      "\u001b[1B41bb20ee: Preparing \n",
      "\u001b[1Bdfad4172: Preparing \n",
      "\u001b[1B8c4d51ed: Preparing \n",
      "\u001b[1B869ad662: Preparing \n",
      "\u001b[1Bc1a82163: Preparing \n",
      "\u001b[1B1230c7e8: Preparing \n",
      "\u001b[1Bb05c565e: Preparing \n",
      "\u001b[1B1ef2bb43: Preparing \n",
      "\u001b[1B4958b490: Preparing \n",
      "\u001b[1B9a391fc0: Preparing \n",
      "\u001b[1Bbc191bb1: Preparing \n",
      "\u001b[1Bedd96b30: Preparing \n",
      "\u001b[1B4f2e954a: Preparing \n",
      "\u001b[1B8e32cbf0: Preparing \n",
      "\u001b[1Becfc1432: Preparing \n",
      "\u001b[1Bf9c7f753: Preparing \n",
      "\u001b[1B330f52eb: Preparing \n",
      "\u001b[1Bf0089db0: Preparing \n",
      "\u001b[1Be2e6b4f9: Preparing \n",
      "\u001b[1Bbdd7008e: Preparing \n",
      "\u001b[1Bf113ba30: Preparing \n",
      "\u001b[1Ba01a9900: Preparing \n",
      "\u001b[1B9eff921f: Preparing \n",
      "\u001b[1B47daf2c3: Preparing \n",
      "\u001b[21B1a82163: Waiting g \n",
      "\u001b[1B8c4468c1: Preparing \n",
      "\u001b[22B230c7e8: Waiting g \n",
      "\u001b[1Bf424db3d: Preparing \n",
      "\u001b[1Bbd719c7c: Preparing \n",
      "\u001b[24B05c565e: Waiting g \n",
      "\u001b[1Be4dd8e32: Preparing \n",
      "\u001b[1B9c5e18a5: Preparing \n",
      "\u001b[26Bef2bb43: Waiting g \n",
      "\u001b[1B2a4a7914: Preparing \n",
      "\u001b[27B958b490: Waiting g \n",
      "\u001b[1Bbdbd3c38: Preparing \n",
      "\u001b[1B8f543668: Preparing \n",
      "\u001b[29Ba391fc0: Waiting g \n",
      "\u001b[1Bf721b9db: Preparing \n",
      "\u001b[30Bc191bb1: Waiting g \n",
      "\u001b[1B0f4df845: Preparing \n",
      "\u001b[1B516ff8de: Preparing \n",
      "\u001b[1B7df31590: Layer already exists \u001b[46A\u001b[2K\u001b[45A\u001b[2K\u001b[42A\u001b[2K\u001b[39A\u001b[2K\u001b[35A\u001b[2K\u001b[33A\u001b[2K\u001b[29A\u001b[2K\u001b[26A\u001b[2K\u001b[25A\u001b[2K\u001b[21A\u001b[2K\u001b[20A\u001b[2K\u001b[18A\u001b[2K\u001b[16A\u001b[2K\u001b[15A\u001b[2K\u001b[14A\u001b[2K\u001b[11A\u001b[2K\u001b[10A\u001b[2K\u001b[9A\u001b[2K\u001b[7A\u001b[2K\u001b[5A\u001b[2K\u001b[4A\u001b[2K\u001b[1A\u001b[2Klatest: digest: sha256:2218a197d02e04b9ade52f61b67c36ac94ccc9d1866b7fb2637e5e94117f8e4b size: 10846\n"
     ]
    }
   ],
   "source": [
    "! container/container_build_and_push.sh braket-cudaq-byoc-job us-west-2"
   ]
  },
  {
   "cell_type": "markdown",
   "id": "08b2ebf4-24f0-4706-960e-2e3898322cf1",
   "metadata": {},
   "source": [
    "## Hybrid job with BYOC\n",
    "Now, we have prepared the enviornment for Cuda-Q in a container image, let's run a BYOC job! First, we start will the necessary imports."
   ]
  },
  {
   "cell_type": "code",
   "execution_count": 1,
   "id": "d93602c9-c064-452c-85d4-3d2debd38cfb",
   "metadata": {},
   "outputs": [],
   "source": [
    "import numpy as np\n",
    "\n",
    "from braket.jobs import hybrid_job\n",
    "from braket.jobs.config import InstanceConfig\n",
    "from braket.jobs.environment_variables import get_job_device_arn"
   ]
  },
  {
   "cell_type": "markdown",
   "id": "baaa87e5-2b94-4892-ad4e-b59b785ab53b",
   "metadata": {},
   "source": [
    "We also prepare the URI of the container image. Fill the proper value of `aws_account_id`, `region_name` and `container_image_name` in the cell below. For example, with the shell command above, `region_name=\"us-west-2\"` and `container_image_name=\"braket-cudaq-byoc-job\"`. The cell below prints out the image URI."
   ]
  },
  {
   "cell_type": "code",
   "execution_count": 2,
   "id": "047c78b0-5814-4eb2-8604-a13b43c3179d",
   "metadata": {},
   "outputs": [
    {
     "name": "stdout",
     "output_type": "stream",
     "text": [
      "537332306153.dkr.ecr.us-west-2.amazonaws.com/braket-cudaq-byoc-job:latest\n"
     ]
    }
   ],
   "source": [
    "aws_account_id = \"537332306153\"\n",
    "region_name = \"us-west-2\"\n",
    "container_image_name = \"braket-cudaq-byoc-job\"\n",
    "\n",
    "# aws_account_id = \"<aws-account-id>\"\n",
    "# region_name = \"<region-name>\"\n",
    "# container_image_name = \"<container-image-name>\"\n",
    "\n",
    "image_uri = f\"{aws_account_id}.dkr.ecr.{region_name}.amazonaws.com/{container_image_name}:latest\"\n",
    "print(image_uri)"
   ]
  },
  {
   "cell_type": "markdown",
   "id": "a902c96e-7da5-4ad0-b20b-ef712732e6ec",
   "metadata": {},
   "source": [
    "## Local job with CUDA-Q\n",
    "We start by running a simulation job of a Bell circuit with CUDA-Q. The `hello_quantum` function in the code snippet below define the target backend to run the simulation. Then, it creates a Bell circuit and sample from the circuit. The string `qpp-cpu` in the `device` keyword argument is the name of a CUDA-Q CPU simulator. You can view the tutorial of CUDA-Q and the available backends in the [CUDA-Q documentation](https://nvidia.github.io/cuda-quantum/latest/index.html)."
   ]
  },
  {
   "cell_type": "code",
   "execution_count": 3,
   "id": "09d6bd61-6fb2-4fbc-9d60-93d4161a724e",
   "metadata": {},
   "outputs": [
    {
     "name": "stdout",
     "output_type": "stream",
     "text": [
      "Skipping python version validation, make sure versions match between local environment and container.\n"
     ]
    }
   ],
   "source": [
    "@hybrid_job(device='local:nvidia/qpp-cpu', image_uri=image_uri, local=True)\n",
    "def hello_quantum():\n",
    "    import cudaq\n",
    "\n",
    "    # define the backend\n",
    "    device=get_job_device_arn()\n",
    "    cudaq.set_target(device.split('/')[-1])\n",
    "    print(\"CUDA-Q backend: \", cudaq.get_target())\n",
    "\n",
    "    # define the Bell circuit\n",
    "    kernel = cudaq.make_kernel()\n",
    "    qubits = kernel.qalloc(2)\n",
    "    kernel.h(qubits[0])\n",
    "    kernel.cx(qubits[0], qubits[1])\n",
    "\n",
    "    # sample the Bell circuit\n",
    "    result = cudaq.sample(kernel, shots_count=1000)\n",
    "    measurement_probabilities = dict(result.items())\n",
    "    print(\"Samples: \", measurement_probabilities)\n",
    "    \n",
    "    return measurement_probabilities"
   ]
  },
  {
   "cell_type": "markdown",
   "id": "e5c90cb7-baa6-4c51-b828-e1f334b3eb5c",
   "metadata": {},
   "source": [
    "When called, the decorated `hello_quantum` function starts a local job becuase of the keyword `local=True` in the hybrid_job decorator. The code inside the `hello_quantum` function will run locally in the environment defined by the container image that is built above."
   ]
  },
  {
   "cell_type": "code",
   "execution_count": 4,
   "id": "d402d3b9-1623-4d39-a8e6-f8f69d40ba7d",
   "metadata": {},
   "outputs": [
    {
     "name": "stderr",
     "output_type": "stream",
     "text": [
      "WARNING! Using --password via the CLI is insecure. Use --password-stdin.\n",
      "Pulling docker container image. This may take a while.\n"
     ]
    },
    {
     "name": "stdout",
     "output_type": "stream",
     "text": [
      "Login Succeeded\n",
      "latest: Pulling from braket-cudaq-byoc-job\n",
      "Digest: sha256:76fc69d60fbb7fbee5f3cfaa0f370018546a73819e5ffdd09fb577fb124a4fec\n",
      "Status: Image is up to date for 537332306153.dkr.ecr.us-west-2.amazonaws.com/braket-cudaq-byoc-job:latest\n",
      "537332306153.dkr.ecr.us-west-2.amazonaws.com/braket-cudaq-byoc-job:latest\n"
     ]
    },
    {
     "name": "stderr",
     "output_type": "stream",
     "text": [
      "\n",
      "What's Next?\n",
      "  View a summary of image vulnerabilities and recommendations → docker scout quickview 537332306153.dkr.ecr.us-west-2.amazonaws.com/braket-cudaq-byoc-job:latest\n",
      "WARNING: The requested image's platform (linux/amd64) does not match the detected host platform (linux/arm64/v8) and no specific platform was requested\n"
     ]
    },
    {
     "name": "stdout",
     "output_type": "stream",
     "text": [
      "Boto3 Version:  1.35.22\n",
      "Beginning Setup\n",
      "Checking for Additional Requirements\n",
      "Additional Requirements Check Finished\n",
      "**** customer_module ****\n",
      "['Path', 'PersistedJobDataFormat', '__builtins__', '__cached__', '__doc__', '__file__', '__loader__', '__name__', '__package__', '__spec__', 'clean_links', 'cloudpickle', 'get_input_data_dir', 'get_results_dir', 'hello_quantum', 'link_input', 'make_link', 'os', 'recovered', 'save_job_result']\n",
      "Running Code As Process\n",
      "CUDA-Q backend:  Target qpp-cpu\n",
      "\tsimulator=qpp\n",
      "\tplatform=default\n",
      "\tdescription=QPP-based CPU-only backend target\n",
      "\tprecision=fp64\n",
      "\n",
      "Samples:  {'11': 484, '00': 516}\n",
      "Code Run Finished\n",
      "80c6430a0ece55a73c4c1fb714c0e298bc73833f519c6dd8d7cc3bea87ba0fa9\n"
     ]
    },
    {
     "data": {
      "text/plain": [
       "<braket.jobs.local.local_job.LocalQuantumJob at 0x16df541f0>"
      ]
     },
     "execution_count": 4,
     "metadata": {},
     "output_type": "execute_result"
    }
   ],
   "source": [
    "hello_quantum()"
   ]
  },
  {
   "cell_type": "markdown",
   "id": "4871d290-8173-454a-a69c-d9625b80acc7",
   "metadata": {},
   "source": [
    "## Remote jobs with CUDA-Q\n",
    "By remove the `local=True` keyword argument (or, equivalently, set `local=False`), the job will run remotely.  "
   ]
  },
  {
   "cell_type": "code",
   "execution_count": 5,
   "id": "1329a6f9-8d2e-4067-905a-e16590edfa50",
   "metadata": {},
   "outputs": [
    {
     "name": "stdout",
     "output_type": "stream",
     "text": [
      "Skipping python version validation, make sure versions match between local environment and container.\n",
      "arn:aws:braket:us-west-2:537332306153:job/81a601ae-093c-457f-9a12-7daa7ebc61b6\n"
     ]
    }
   ],
   "source": [
    "@hybrid_job(device='local:nvidia/qpp-cpu', image_uri=image_uri)\n",
    "def hello_quantum():\n",
    "    import cudaq\n",
    "    \n",
    "    device=get_job_device_arn()\n",
    "    cudaq.set_target(device.split('/')[-1])\n",
    "    print(cudaq.get_target())\n",
    "    \n",
    "    kernel = cudaq.make_kernel()\n",
    "    qubits = kernel.qalloc(2)\n",
    "    kernel.h(qubits[0])\n",
    "    kernel.cx(qubits[0], qubits[1])\n",
    "    \n",
    "    result = cudaq.sample(kernel, shots_count=1000)\n",
    "    measurement_probabilities = dict(result.items())\n",
    "    print(measurement_probabilities)\n",
    "    \n",
    "    return measurement_probabilities\n",
    "\n",
    "job = hello_quantum()\n",
    "print(job.arn)"
   ]
  },
  {
   "cell_type": "markdown",
   "id": "d4d56392-77a9-46cd-8512-bd0ded291b8b",
   "metadata": {},
   "source": [
    "When called, the decorated `hello_quantum` function will create a Braket hybrid job on AWS, running the code defined in the decorated function with the environment specified by the container image built above."
   ]
  },
  {
   "cell_type": "code",
   "execution_count": 6,
   "id": "4611f86a-4e23-4aaf-8ab8-df33b7eb050a",
   "metadata": {},
   "outputs": [
    {
     "name": "stdout",
     "output_type": "stream",
     "text": [
      "{'11': 499, '00': 501}\n"
     ]
    }
   ],
   "source": [
    "result = job.result()\n",
    "print(result)"
   ]
  },
  {
   "cell_type": "markdown",
   "id": "6a76eade-78ff-417d-8246-04ccb28b8944",
   "metadata": {},
   "source": [
    "## Summary\n",
    "This notebooks show you how to build an container that support CUDA-Q in a BYOC job. The provided shell script automates the procedure of build a container image, simplifying the procedure to a one-line command. This notebooks use Bell circuit as an example to run a local and a remote Braket job on a CUDA-Q CPU backend."
   ]
  }
 ],
 "metadata": {
  "kernelspec": {
   "display_name": "Python 3 (ipykernel)",
   "language": "python",
   "name": "python3"
  },
  "language_info": {
   "codemirror_mode": {
    "name": "ipython",
    "version": 3
   },
   "file_extension": ".py",
   "mimetype": "text/x-python",
   "name": "python",
   "nbconvert_exporter": "python",
   "pygments_lexer": "ipython3",
   "version": "3.10.13"
  }
 },
 "nbformat": 4,
 "nbformat_minor": 5
}
