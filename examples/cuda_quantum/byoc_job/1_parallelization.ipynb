{
 "cells": [
  {
   "cell_type": "code",
   "execution_count": 1,
   "id": "8738f65f-969c-4b58-96f8-69bbc1bad5e1",
   "metadata": {},
   "outputs": [],
   "source": [
    "import os\n",
    "import time\n",
    "import numpy as np\n",
    "\n",
    "from braket.jobs import hybrid_job\n",
    "from braket.jobs.config import InstanceConfig\n",
    "from braket.jobs.environment_variables import get_job_device_arn\n",
    "\n",
    "image_uri = \"537332306153.dkr.ecr.us-west-2.amazonaws.com/braket-cudaq-byoc-job:latest\"\n",
    "\n",
    "n_qubits = 20\n",
    "n_terms = 40000\n",
    "n_shots = 1000"
   ]
  },
  {
   "cell_type": "code",
   "execution_count": 2,
   "id": "64e5d4e1-df6d-4a8f-af4f-89fec9e77791",
   "metadata": {},
   "outputs": [
    {
     "name": "stdout",
     "output_type": "stream",
     "text": [
      "Skipping python version validation, make sure versions match between local environment and container.\n",
      "Single node, single GPU\n",
      "AwsQuantumJob('arn':'arn:aws:braket:us-west-2:537332306153:job/8211d528-54d3-410a-bee3-50d4605ff417')\n"
     ]
    }
   ],
   "source": [
    "@hybrid_job(\n",
    "    device='local:nvidia/nvidia-mgpu',\n",
    "    instance_config=InstanceConfig(instanceType='ml.p3.8xlarge', instanceCount=1),\n",
    "    image_uri=image_uri,\n",
    ")\n",
    "def test_cudaq_single_node_single_gpu(sagemaker_mpi_enabled=True):\n",
    "    import cudaq\n",
    "\n",
    "    print('Run hybrid job:', os.environ['AMZN_BRAKET_JOB_NAME'])\n",
    "    device = get_job_device_arn()\n",
    "    cudaq.set_target(device.split('/')[-1])\n",
    "    print(cudaq.get_target())\n",
    "\n",
    "    kernel = cudaq.make_kernel()\n",
    "    qubits = kernel.qalloc(n_qubits)\n",
    "    kernel.h(qubits[0])\n",
    "    for i in range(1, n_qubits):\n",
    "        kernel.cx(qubits[0], qubits[i])\n",
    "\n",
    "    hamiltonian = cudaq.SpinOperator.random(n_qubits, n_terms)\n",
    "    \n",
    "    t0 = time.time()\n",
    "    result = cudaq.observe(kernel, hamiltonian, shots_count=n_shots)\n",
    "    t1 = time.time()\n",
    "    print(f'result: {result.expectation()} | time: {t1-t0}')\n",
    "\n",
    "print(f'Single node, single GPU')\n",
    "single_node_single_gpu_job = test_cudaq_single_node_single_gpu()\n",
    "print(single_node_single_gpu_job)\n"
   ]
  },
  {
   "cell_type": "code",
   "execution_count": 3,
   "id": "089e29a4-f83a-43bb-ad8e-04dcfc086d57",
   "metadata": {},
   "outputs": [
    {
     "name": "stdout",
     "output_type": "stream",
     "text": [
      "Skipping python version validation, make sure versions match between local environment and container.\n",
      "Single node, multi GPU\n",
      "AwsQuantumJob('arn':'arn:aws:braket:us-west-2:537332306153:job/46282ecf-ae2a-4d14-aba0-a0d6297c2285')\n"
     ]
    }
   ],
   "source": [
    "@hybrid_job(\n",
    "    device='local:nvidia/nvidia-mqpu',\n",
    "    instance_config=InstanceConfig(instanceType='ml.p3.8xlarge', instanceCount=1),\n",
    "    image_uri=image_uri,\n",
    ")\n",
    "def test_cudaq_single_node_multi_gpu(sagemaker_mpi_enabled=True):\n",
    "    import cudaq\n",
    "\n",
    "    print('Run hybrid job:', os.environ['AMZN_BRAKET_JOB_NAME'])\n",
    "    device = get_job_device_arn()\n",
    "    cudaq.set_target(device.split('/')[-1])\n",
    "    print(cudaq.get_target())\n",
    "\n",
    "    cudaq.mpi.initialize()\n",
    "    num_ranks = cudaq.mpi.num_ranks()\n",
    "    rank = cudaq.mpi.rank()\n",
    "    print(f'rank={rank} | MPI is initialized? {cudaq.mpi.is_initialized()}')\n",
    "    print(f'rank={rank}, num_ranks={num_ranks}')\n",
    "\n",
    "    kernel = cudaq.make_kernel()\n",
    "    qubits = kernel.qalloc(n_qubits)\n",
    "    kernel.h(qubits[0])\n",
    "    for i in range(1, n_qubits):\n",
    "        kernel.cx(qubits[0], qubits[i])\n",
    "\n",
    "    hamiltonian = cudaq.SpinOperator.random(n_qubits, n_terms)\n",
    "\n",
    "    t0 = time.time()\n",
    "    result = cudaq.observe(kernel, hamiltonian, shots_count=n_shots, execution=cudaq.parallel.mpi)\n",
    "    t1 = time.time()\n",
    "    print(f'rank={rank} | result: {result.expectation()} | time: {t1-t0}')\n",
    "\n",
    "    cudaq.mpi.finalize()\n",
    "\n",
    "\n",
    "print(f'Single node, multi GPU')\n",
    "single_node_multi_gpu_job = test_cudaq_single_node_multi_gpu()\n",
    "print(single_node_multi_gpu_job)"
   ]
  },
  {
   "cell_type": "code",
   "execution_count": 5,
   "id": "1349e82c-b19a-499b-8c12-4f067833e967",
   "metadata": {},
   "outputs": [
    {
     "name": "stdout",
     "output_type": "stream",
     "text": [
      "Skipping python version validation, make sure versions match between local environment and container.\n",
      "Multi node, multi GPU\n",
      "AwsQuantumJob('arn':'arn:aws:braket:us-west-2:537332306153:job/dbc0149a-57ad-4904-9ff7-d1483ec17317')\n"
     ]
    }
   ],
   "source": [
    "@hybrid_job(\n",
    "    device='local:nvidia/nvidia-mqpu',\n",
    "    instance_config=InstanceConfig(instanceType='ml.p3.8xlarge', instanceCount=2),\n",
    "    image_uri=image_uri,\n",
    ")\n",
    "def test_cudaq_multi_node_multi_gpu(sagemaker_mpi_enabled=True):\n",
    "    import cudaq\n",
    "\n",
    "    print('Run hybrid job:', os.environ['AMZN_BRAKET_JOB_NAME'])\n",
    "    device = get_job_device_arn()\n",
    "    cudaq.set_target(device.split('/')[-1])\n",
    "    print(cudaq.get_target())\n",
    "\n",
    "    cudaq.mpi.initialize()\n",
    "    num_ranks = cudaq.mpi.num_ranks()\n",
    "    rank = cudaq.mpi.rank()\n",
    "    print(f'rank={rank} | MPI is initialized? {cudaq.mpi.is_initialized()}')\n",
    "    print(f'rank={rank}, num_ranks={num_ranks}')\n",
    "\n",
    "    kernel = cudaq.make_kernel()\n",
    "    qubits = kernel.qalloc(n_qubits)\n",
    "    kernel.h(qubits[0])\n",
    "    for i in range(1, n_qubits):\n",
    "        kernel.cx(qubits[0], qubits[i])\n",
    "\n",
    "    hamiltonian = cudaq.SpinOperator.random(n_qubits, n_terms)\n",
    "\n",
    "    t0 = time.time()\n",
    "    result = cudaq.observe(kernel, hamiltonian, shots_count=n_shots, execution=cudaq.parallel.mpi)\n",
    "    t1 = time.time()\n",
    "    print(f'rank={rank} | result: {result.expectation()} | time: {t1-t0}')\n",
    "\n",
    "    cudaq.mpi.finalize()\n",
    "\n",
    "\n",
    "print(f'Multi node, multi GPU')\n",
    "multi_node_multi_gpu_job = test_cudaq_multi_node_multi_gpu()\n",
    "print(multi_node_multi_gpu_job)\n"
   ]
  },
  {
   "cell_type": "code",
   "execution_count": null,
   "id": "5fd26a42-6a8b-4cbe-969a-04d1c2ad854a",
   "metadata": {},
   "outputs": [],
   "source": []
  }
 ],
 "metadata": {
  "kernelspec": {
   "display_name": "Python 3 (ipykernel)",
   "language": "python",
   "name": "python3"
  },
  "language_info": {
   "codemirror_mode": {
    "name": "ipython",
    "version": 3
   },
   "file_extension": ".py",
   "mimetype": "text/x-python",
   "name": "python",
   "nbconvert_exporter": "python",
   "pygments_lexer": "ipython3",
   "version": "3.10.9"
  }
 },
 "nbformat": 4,
 "nbformat_minor": 5
}
