{
 "cells": [
  {
   "cell_type": "markdown",
   "metadata": {},
   "source": [
    "# Demo for D-Wave on Braket: Factoring"
   ]
  },
  {
   "cell_type": "markdown",
   "metadata": {},
   "source": [
    "In this tutorial we show how to solve a [constraint satisfaction problem](https://docs.ocean.dwavesys.com/en/stable/concepts/csp.html)(CSP) on a quantum computer with the example of factoring, which is realized by running a multiplication circuit in reverse using the D-Wave device on Amazon Braket.\n",
    "\n",
    "Disclaimer: The code shown in this example has been taken from D-Wave tutorial available online [here](https://github.com/dwave-examples/factoring-notebook), with copyright to D-Wave Systems, Inc., licensed under the Apache License. The purpose of this example is to show how existing code using D-Wave's Ocean tool suite can easily be run on Amazon Braket, with minimal code changes, using the ```BraketDWaveSampler```."
   ]
  },
  {
   "cell_type": "markdown",
   "metadata": {},
   "source": [
    "## Background\n",
    "\n",
    "This notebook solves factoring on a D-Wave quantum computer by formulating it as a *[constraint satisfaction problem](https://docs.ocean.dwavesys.com/en/stable/concepts/csp.html)*. CSPs require that all a problem's variables be assigned values that result in the satisfying of all constraints. For factoring, the problem's constraints are that the two variables representing factors, $a$ and $b$, be assigned only natural numbers and that their multiplication be equal to the factored number, $P$. \n",
    "\n",
    "D-Wave systems solve [binary quadratic models](https://docs.ocean.dwavesys.com/en/stable/concepts/bqm.html) (BQM) problems. Given $N$ variables $x_1,...,x_N$, where each variable $x_i$ can have binary values $0$ or $1$, the system finds assignments of values that minimize the expression\n",
    "\n",
    "$\\sum_i^N q_ix_i + \\sum_{i<j}^N q_{i,j}x_i  x_j$,\n",
    "\n",
    "where $q_i$ and $q_{i,j}$ are configurable (linear and quadratic) coefficients.\n",
    "\n",
    "To implement the factoring problem, we express the constraints of the problem with Boolean logic and follow these steps:\n",
    "\n",
    "1. Express $P=ab$ as a CSP with a binary multiplication circuit.\n",
    "2. Convert to a BQM.\n",
    "3. Program the quantum computer with the BQM's coefficients.\n"
   ]
  },
  {
   "cell_type": "markdown",
   "metadata": {},
   "source": [
    "## Imports and setup"
   ]
  },
  {
   "cell_type": "code",
   "execution_count": 1,
   "metadata": {},
   "outputs": [
    {
     "name": "stdout",
     "output_type": "stream",
     "text": [
      "Collecting autopep8\n",
      "  Downloading autopep8-1.5.4.tar.gz (121 kB)\n",
      "\u001b[K     |████████████████████████████████| 121 kB 18.6 MB/s eta 0:00:01\n",
      "\u001b[?25hCollecting pycodestyle>=2.6.0\n",
      "  Downloading pycodestyle-2.6.0-py2.py3-none-any.whl (41 kB)\n",
      "\u001b[K     |████████████████████████████████| 41 kB 566 kB/s  eta 0:00:01\n",
      "\u001b[?25hCollecting toml\n",
      "  Downloading toml-0.10.1-py2.py3-none-any.whl (19 kB)\n",
      "Building wheels for collected packages: autopep8\n",
      "  Building wheel for autopep8 (setup.py) ... \u001b[?25ldone\n",
      "\u001b[?25h  Created wheel for autopep8: filename=autopep8-1.5.4-py2.py3-none-any.whl size=45286 sha256=7da936fb0d9ea682f9b13f8d69a118d5657ef5b9d695a68b38ce8a3ecae8551f\n",
      "  Stored in directory: /home/ec2-user/.cache/pip/wheels/2c/ad/e2/f5322a230aedd0091b75ec899404e3562d8bb4e7ba0f025cbd\n",
      "Successfully built autopep8\n",
      "Installing collected packages: pycodestyle, toml, autopep8\n",
      "Successfully installed autopep8-1.5.4 pycodestyle-2.6.0 toml-0.10.1\n",
      "Collecting jupyter_contrib_nbextensions==0.5.1\n",
      "  Downloading jupyter_contrib_nbextensions-0.5.1-py2.py3-none-any.whl (20.9 MB)\n",
      "\u001b[K     |████████████████████████████████| 20.9 MB 16.3 MB/s eta 0:00:01\n",
      "\u001b[?25hCollecting jupyter-nbextensions-configurator>=0.4.0\n",
      "  Downloading jupyter_nbextensions_configurator-0.4.1.tar.gz (479 kB)\n",
      "\u001b[K     |████████████████████████████████| 479 kB 66.1 MB/s eta 0:00:01\n",
      "\u001b[?25hRequirement already satisfied: pyyaml in /home/ec2-user/anaconda3/envs/Braket/lib/python3.7/site-packages (from jupyter_contrib_nbextensions==0.5.1) (5.3.1)\n",
      "Collecting notebook>=4.0\n",
      "  Downloading notebook-6.1.3-py3-none-any.whl (9.4 MB)\n",
      "\u001b[K     |████████████████████████████████| 9.4 MB 7.7 MB/s eta 0:00:01\n",
      "\u001b[?25hCollecting jupyter-contrib-core>=0.3.3\n",
      "  Downloading jupyter_contrib_core-0.3.3-py2.py3-none-any.whl (18 kB)\n",
      "Requirement already satisfied: ipython-genutils in /home/ec2-user/anaconda3/envs/Braket/lib/python3.7/site-packages (from jupyter_contrib_nbextensions==0.5.1) (0.2.0)\n",
      "Requirement already satisfied: tornado in /home/ec2-user/anaconda3/envs/Braket/lib/python3.7/site-packages (from jupyter_contrib_nbextensions==0.5.1) (6.0.4)\n",
      "Collecting nbconvert>=4.2\n",
      "  Downloading nbconvert-5.6.1-py2.py3-none-any.whl (455 kB)\n",
      "\u001b[K     |████████████████████████████████| 455 kB 62.9 MB/s eta 0:00:01\n",
      "\u001b[?25hRequirement already satisfied: traitlets>=4.1 in /home/ec2-user/anaconda3/envs/Braket/lib/python3.7/site-packages (from jupyter_contrib_nbextensions==0.5.1) (4.3.3)\n",
      "Requirement already satisfied: jupyter-core in /home/ec2-user/anaconda3/envs/Braket/lib/python3.7/site-packages (from jupyter_contrib_nbextensions==0.5.1) (4.6.3)\n",
      "Collecting lxml\n",
      "  Downloading lxml-4.5.2-cp37-cp37m-manylinux1_x86_64.whl (5.5 MB)\n",
      "\u001b[K     |████████████████████████████████| 5.5 MB 55.7 MB/s eta 0:00:01\n",
      "\u001b[?25hCollecting jupyter-latex-envs>=1.3.8\n",
      "  Downloading jupyter_latex_envs-1.4.6.tar.gz (861 kB)\n",
      "\u001b[K     |████████████████████████████████| 861 kB 77.5 MB/s eta 0:00:01\n",
      "\u001b[?25hCollecting jupyter-highlight-selected-word>=0.1.1\n",
      "  Downloading jupyter_highlight_selected_word-0.2.0-py2.py3-none-any.whl (11 kB)\n",
      "Collecting terminado>=0.8.3\n",
      "  Downloading terminado-0.8.3-py2.py3-none-any.whl (33 kB)\n",
      "Collecting Send2Trash\n",
      "  Downloading Send2Trash-1.5.0-py3-none-any.whl (12 kB)\n",
      "Collecting nbformat\n",
      "  Downloading nbformat-5.0.7-py3-none-any.whl (170 kB)\n",
      "\u001b[K     |████████████████████████████████| 170 kB 79.6 MB/s eta 0:00:01\n",
      "\u001b[?25hRequirement already satisfied: ipykernel in /home/ec2-user/anaconda3/envs/Braket/lib/python3.7/site-packages (from notebook>=4.0->jupyter_contrib_nbextensions==0.5.1) (5.3.4)\n",
      "Requirement already satisfied: jupyter-client>=5.3.4 in /home/ec2-user/anaconda3/envs/Braket/lib/python3.7/site-packages (from notebook>=4.0->jupyter_contrib_nbextensions==0.5.1) (6.1.6)\n",
      "Requirement already satisfied: pyzmq>=17 in /home/ec2-user/anaconda3/envs/Braket/lib/python3.7/site-packages (from notebook>=4.0->jupyter_contrib_nbextensions==0.5.1) (19.0.1)\n",
      "Collecting prometheus-client\n",
      "  Downloading prometheus_client-0.8.0-py2.py3-none-any.whl (53 kB)\n",
      "\u001b[K     |████████████████████████████████| 53 kB 2.7 MB/s  eta 0:00:01\n",
      "\u001b[?25hRequirement already satisfied: jinja2 in /home/ec2-user/anaconda3/envs/Braket/lib/python3.7/site-packages (from notebook>=4.0->jupyter_contrib_nbextensions==0.5.1) (2.11.2)\n",
      "Collecting argon2-cffi\n",
      "  Downloading argon2_cffi-20.1.0-cp35-abi3-manylinux1_x86_64.whl (97 kB)\n",
      "\u001b[K     |████████████████████████████████| 97 kB 12.3 MB/s eta 0:00:01\n",
      "\u001b[?25hRequirement already satisfied: setuptools in /home/ec2-user/anaconda3/envs/Braket/lib/python3.7/site-packages (from jupyter-contrib-core>=0.3.3->jupyter_contrib_nbextensions==0.5.1) (49.6.0.post20200814)\n",
      "Collecting defusedxml\n",
      "  Downloading defusedxml-0.6.0-py2.py3-none-any.whl (23 kB)\n",
      "Collecting mistune<2,>=0.8.1\n",
      "  Downloading mistune-0.8.4-py2.py3-none-any.whl (16 kB)\n",
      "Collecting bleach\n",
      "  Downloading bleach-3.1.5-py2.py3-none-any.whl (151 kB)\n",
      "\u001b[K     |████████████████████████████████| 151 kB 87.7 MB/s eta 0:00:01\n",
      "\u001b[?25hRequirement already satisfied: pygments in /home/ec2-user/anaconda3/envs/Braket/lib/python3.7/site-packages (from nbconvert>=4.2->jupyter_contrib_nbextensions==0.5.1) (2.6.1)\n",
      "Collecting entrypoints>=0.2.2\n",
      "  Downloading entrypoints-0.3-py2.py3-none-any.whl (11 kB)\n",
      "Collecting testpath\n",
      "  Downloading testpath-0.4.4-py2.py3-none-any.whl (163 kB)\n",
      "\u001b[K     |████████████████████████████████| 163 kB 78.5 MB/s eta 0:00:01\n",
      "\u001b[?25hCollecting pandocfilters>=1.4.1\n",
      "  Downloading pandocfilters-1.4.2.tar.gz (14 kB)\n",
      "Requirement already satisfied: decorator in /home/ec2-user/anaconda3/envs/Braket/lib/python3.7/site-packages (from traitlets>=4.1->jupyter_contrib_nbextensions==0.5.1) (4.4.2)\n",
      "Requirement already satisfied: six in /home/ec2-user/anaconda3/envs/Braket/lib/python3.7/site-packages (from traitlets>=4.1->jupyter_contrib_nbextensions==0.5.1) (1.15.0)\n",
      "Requirement already satisfied: ipython in /home/ec2-user/anaconda3/envs/Braket/lib/python3.7/site-packages (from jupyter-latex-envs>=1.3.8->jupyter_contrib_nbextensions==0.5.1) (7.17.0)\n",
      "Requirement already satisfied: ptyprocess; os_name != \"nt\" in /home/ec2-user/anaconda3/envs/Braket/lib/python3.7/site-packages (from terminado>=0.8.3->notebook>=4.0->jupyter_contrib_nbextensions==0.5.1) (0.6.0)\n",
      "Collecting jsonschema!=2.5.0,>=2.4\n",
      "  Downloading jsonschema-3.2.0-py2.py3-none-any.whl (56 kB)\n",
      "\u001b[K     |████████████████████████████████| 56 kB 8.9 MB/s  eta 0:00:01\n",
      "\u001b[?25hRequirement already satisfied: python-dateutil>=2.1 in /home/ec2-user/anaconda3/envs/Braket/lib/python3.7/site-packages (from jupyter-client>=5.3.4->notebook>=4.0->jupyter_contrib_nbextensions==0.5.1) (2.8.1)\n",
      "Requirement already satisfied: MarkupSafe>=0.23 in /home/ec2-user/anaconda3/envs/Braket/lib/python3.7/site-packages (from jinja2->notebook>=4.0->jupyter_contrib_nbextensions==0.5.1) (1.1.1)\n",
      "Requirement already satisfied: cffi>=1.0.0 in /home/ec2-user/anaconda3/envs/Braket/lib/python3.7/site-packages (from argon2-cffi->notebook>=4.0->jupyter_contrib_nbextensions==0.5.1) (1.14.1)\n",
      "Collecting webencodings\n",
      "  Downloading webencodings-0.5.1-py2.py3-none-any.whl (11 kB)\n",
      "Requirement already satisfied: packaging in /home/ec2-user/anaconda3/envs/Braket/lib/python3.7/site-packages (from bleach->nbconvert>=4.2->jupyter_contrib_nbextensions==0.5.1) (20.4)\n",
      "Requirement already satisfied: pexpect; sys_platform != \"win32\" in /home/ec2-user/anaconda3/envs/Braket/lib/python3.7/site-packages (from ipython->jupyter-latex-envs>=1.3.8->jupyter_contrib_nbextensions==0.5.1) (4.8.0)\n",
      "Requirement already satisfied: backcall in /home/ec2-user/anaconda3/envs/Braket/lib/python3.7/site-packages (from ipython->jupyter-latex-envs>=1.3.8->jupyter_contrib_nbextensions==0.5.1) (0.2.0)\n",
      "Requirement already satisfied: prompt-toolkit!=3.0.0,!=3.0.1,<3.1.0,>=2.0.0 in /home/ec2-user/anaconda3/envs/Braket/lib/python3.7/site-packages (from ipython->jupyter-latex-envs>=1.3.8->jupyter_contrib_nbextensions==0.5.1) (3.0.5)\n",
      "Requirement already satisfied: pickleshare in /home/ec2-user/anaconda3/envs/Braket/lib/python3.7/site-packages (from ipython->jupyter-latex-envs>=1.3.8->jupyter_contrib_nbextensions==0.5.1) (0.7.5)\n",
      "Requirement already satisfied: jedi>=0.10 in /home/ec2-user/anaconda3/envs/Braket/lib/python3.7/site-packages (from ipython->jupyter-latex-envs>=1.3.8->jupyter_contrib_nbextensions==0.5.1) (0.17.2)\n",
      "Requirement already satisfied: attrs>=17.4.0 in /home/ec2-user/anaconda3/envs/Braket/lib/python3.7/site-packages (from jsonschema!=2.5.0,>=2.4->nbformat->notebook>=4.0->jupyter_contrib_nbextensions==0.5.1) (19.3.0)\n"
     ]
    },
    {
     "name": "stdout",
     "output_type": "stream",
     "text": [
      "Collecting pyrsistent>=0.14.0\n",
      "  Downloading pyrsistent-0.16.0.tar.gz (108 kB)\n",
      "\u001b[K     |████████████████████████████████| 108 kB 68.0 MB/s eta 0:00:01\n",
      "\u001b[?25hRequirement already satisfied: importlib-metadata; python_version < \"3.8\" in /home/ec2-user/anaconda3/envs/Braket/lib/python3.7/site-packages (from jsonschema!=2.5.0,>=2.4->nbformat->notebook>=4.0->jupyter_contrib_nbextensions==0.5.1) (1.7.0)\n",
      "Requirement already satisfied: pycparser in /home/ec2-user/anaconda3/envs/Braket/lib/python3.7/site-packages (from cffi>=1.0.0->argon2-cffi->notebook>=4.0->jupyter_contrib_nbextensions==0.5.1) (2.20)\n",
      "Requirement already satisfied: pyparsing>=2.0.2 in /home/ec2-user/anaconda3/envs/Braket/lib/python3.7/site-packages (from packaging->bleach->nbconvert>=4.2->jupyter_contrib_nbextensions==0.5.1) (2.4.7)\n",
      "Requirement already satisfied: wcwidth in /home/ec2-user/anaconda3/envs/Braket/lib/python3.7/site-packages (from prompt-toolkit!=3.0.0,!=3.0.1,<3.1.0,>=2.0.0->ipython->jupyter-latex-envs>=1.3.8->jupyter_contrib_nbextensions==0.5.1) (0.2.5)\n",
      "Requirement already satisfied: parso<0.8.0,>=0.7.0 in /home/ec2-user/anaconda3/envs/Braket/lib/python3.7/site-packages (from jedi>=0.10->ipython->jupyter-latex-envs>=1.3.8->jupyter_contrib_nbextensions==0.5.1) (0.7.0)\n",
      "Requirement already satisfied: zipp>=0.5 in /home/ec2-user/anaconda3/envs/Braket/lib/python3.7/site-packages (from importlib-metadata; python_version < \"3.8\"->jsonschema!=2.5.0,>=2.4->nbformat->notebook>=4.0->jupyter_contrib_nbextensions==0.5.1) (3.1.0)\n",
      "Building wheels for collected packages: jupyter-nbextensions-configurator, jupyter-latex-envs, pandocfilters, pyrsistent\n",
      "  Building wheel for jupyter-nbextensions-configurator (setup.py) ... \u001b[?25ldone\n",
      "\u001b[?25h  Created wheel for jupyter-nbextensions-configurator: filename=jupyter_nbextensions_configurator-0.4.1-py2.py3-none-any.whl size=465825 sha256=af4dbc317c20b9c7c9b06ac1c04f519fef9beebaab99c7730dc8b499d8bfa8a6\n",
      "  Stored in directory: /home/ec2-user/.cache/pip/wheels/8d/c4/b5/e4b61f624036f83566580d61f24af7b73180b1361ee1ab3722\n",
      "  Building wheel for jupyter-latex-envs (setup.py) ... \u001b[?25ldone\n",
      "\u001b[?25h  Created wheel for jupyter-latex-envs: filename=jupyter_latex_envs-1.4.6-py2.py3-none-any.whl size=963395 sha256=5dff796e40bb0d07234f325c6fdcb9daf3c5c343c833b82560166d2c680db271\n",
      "  Stored in directory: /home/ec2-user/.cache/pip/wheels/a0/95/26/4cf34fb92765c95fb7851fd447511594bcc3a50e504bd09af9\n",
      "  Building wheel for pandocfilters (setup.py) ... \u001b[?25ldone\n",
      "\u001b[?25h  Created wheel for pandocfilters: filename=pandocfilters-1.4.2-py3-none-any.whl size=7856 sha256=be295e2b30065cecafa6cf5eea87ab47fe61a743e982170325b9598df389236f\n",
      "  Stored in directory: /home/ec2-user/.cache/pip/wheels/63/99/01/9fe785b86d1e091a6b2a61e06ddb3d8eb1bc9acae5933d4740\n",
      "  Building wheel for pyrsistent (setup.py) ... \u001b[?25ldone\n",
      "\u001b[?25h  Created wheel for pyrsistent: filename=pyrsistent-0.16.0-cp37-cp37m-linux_x86_64.whl size=115776 sha256=c1aceb1d4da0ebaf43ef5ec945700a9686aeb6bf801d20ae233889301e3952cc\n",
      "  Stored in directory: /home/ec2-user/.cache/pip/wheels/22/52/11/f0920f95c23ed7d2d0b05f2b7b2f4509e87a20cfe8ea43d987\n",
      "Successfully built jupyter-nbextensions-configurator jupyter-latex-envs pandocfilters pyrsistent\n",
      "Installing collected packages: terminado, Send2Trash, pyrsistent, jsonschema, nbformat, prometheus-client, defusedxml, mistune, webencodings, bleach, entrypoints, testpath, pandocfilters, nbconvert, argon2-cffi, notebook, jupyter-contrib-core, jupyter-nbextensions-configurator, lxml, jupyter-latex-envs, jupyter-highlight-selected-word, jupyter-contrib-nbextensions\n",
      "\u001b[31mERROR: After October 2020 you may experience errors when installing or updating packages. This is because pip will change the way that it resolves dependency conflicts.\n",
      "\n",
      "We recommend you use --use-feature=2020-resolver to test your packages with the new resolver before it becomes the default.\n",
      "\n",
      "openfermion 0.9.0 requires jupyter, which is not installed.\n",
      "openfermion 0.9.0 requires pubchempy, which is not installed.\u001b[0m\n",
      "Successfully installed Send2Trash-1.5.0 argon2-cffi-20.1.0 bleach-3.1.5 defusedxml-0.6.0 entrypoints-0.3 jsonschema-3.2.0 jupyter-contrib-core-0.3.3 jupyter-contrib-nbextensions-0.5.1 jupyter-highlight-selected-word-0.2.0 jupyter-latex-envs-1.4.6 jupyter-nbextensions-configurator-0.4.1 lxml-4.5.2 mistune-0.8.4 nbconvert-5.6.1 nbformat-5.0.7 notebook-6.1.3 pandocfilters-1.4.2 prometheus-client-0.8.0 pyrsistent-0.16.0 terminado-0.8.3 testpath-0.4.4 webencodings-0.5.1\n",
      "Collecting bokeh==0.12.15\n",
      "  Downloading bokeh-0.12.15.tar.gz (13.6 MB)\n",
      "\u001b[K     |████████████████████████████████| 13.6 MB 10.6 MB/s eta 0:00:01\n",
      "\u001b[?25hRequirement already satisfied: six>=1.5.2 in /home/ec2-user/anaconda3/envs/Braket/lib/python3.7/site-packages (from bokeh==0.12.15) (1.15.0)\n",
      "Requirement already satisfied: PyYAML>=3.10 in /home/ec2-user/anaconda3/envs/Braket/lib/python3.7/site-packages (from bokeh==0.12.15) (5.3.1)\n",
      "Requirement already satisfied: python-dateutil>=2.1 in /home/ec2-user/anaconda3/envs/Braket/lib/python3.7/site-packages (from bokeh==0.12.15) (2.8.1)\n",
      "Requirement already satisfied: Jinja2>=2.7 in /home/ec2-user/anaconda3/envs/Braket/lib/python3.7/site-packages (from bokeh==0.12.15) (2.11.2)\n",
      "Requirement already satisfied: numpy>=1.7.1 in /home/ec2-user/anaconda3/envs/Braket/lib/python3.7/site-packages (from bokeh==0.12.15) (1.19.1)\n",
      "Requirement already satisfied: packaging>=16.8 in /home/ec2-user/anaconda3/envs/Braket/lib/python3.7/site-packages (from bokeh==0.12.15) (20.4)\n",
      "Requirement already satisfied: tornado>=4.3 in /home/ec2-user/anaconda3/envs/Braket/lib/python3.7/site-packages (from bokeh==0.12.15) (6.0.4)\n",
      "Requirement already satisfied: MarkupSafe>=0.23 in /home/ec2-user/anaconda3/envs/Braket/lib/python3.7/site-packages (from Jinja2>=2.7->bokeh==0.12.15) (1.1.1)\n",
      "Requirement already satisfied: pyparsing>=2.0.2 in /home/ec2-user/anaconda3/envs/Braket/lib/python3.7/site-packages (from packaging>=16.8->bokeh==0.12.15) (2.4.7)\n",
      "Building wheels for collected packages: bokeh\n",
      "  Building wheel for bokeh (setup.py) ... \u001b[?25ldone\n",
      "\u001b[?25h  Created wheel for bokeh: filename=bokeh-0.12.15-py3-none-any.whl size=4939343 sha256=8625923e839a0073dcbe9579c4e1d961e033cac7133f120d9996928bc5bf3b4b\n",
      "  Stored in directory: /home/ec2-user/.cache/pip/wheels/5d/cb/6b/ffc8cf076dc7666fd6f184842ca5949505fdce6d06bec2bc8f\n",
      "Successfully built bokeh\n",
      "Installing collected packages: bokeh\n",
      "  Attempting uninstall: bokeh\n",
      "    Found existing installation: bokeh 2.2.0\n",
      "    Uninstalling bokeh-2.2.0:\n",
      "      Successfully uninstalled bokeh-2.2.0\n",
      "Successfully installed bokeh-0.12.15\n"
     ]
    }
   ],
   "source": [
    "!pip install autopep8\n",
    "!pip install jupyter_contrib_nbextensions==0.5.1\n",
    "!pip install bokeh==0.12.15"
   ]
  },
  {
   "cell_type": "code",
   "execution_count": 2,
   "metadata": {},
   "outputs": [],
   "source": [
    "import json\n",
    "from braket.aws import AwsDevice\n",
    "from braket.ocean_plugin import BraketSampler, BraketDWaveSampler\n",
    "\n",
    "from dwave.system.composites import EmbeddingComposite\n",
    "\n",
    "# Please enter the S3 bucket you created during onboarding in the code below\n",
    "my_bucket = f\"amazon-braket-Your-Bucket-Name\" # the name of the bucket\n",
    "my_prefix = \"Your-Folder-Name\" # the name of the folder in the bucket\n",
    "s3_folder = (my_bucket, my_prefix)"
   ]
  },
  {
   "cell_type": "code",
   "execution_count": 3,
   "metadata": {},
   "outputs": [
    {
     "name": "stdout",
     "output_type": "stream",
     "text": [
      "Device: Device('name': DW_2000Q_6, 'arn': arn:aws:braket:::device/qpu/d-wave/DW_2000Q_6)\n"
     ]
    }
   ],
   "source": [
    "# session and device\n",
    "device = AwsDevice(\"arn:aws:braket:::device/qpu/d-wave/DW_2000Q_6\")\n",
    "print('Device:', device)"
   ]
  },
  {
   "cell_type": "markdown",
   "metadata": {},
   "source": [
    "# A Simple Example"
   ]
  },
  {
   "cell_type": "markdown",
   "metadata": {},
   "source": [
    "In alignment with the D-Wave example [here](https://github.com/dwave-examples/factoring-notebook). We firstly show a simple example: a circuit with two switches that turns on a light. \n",
    "\n",
    "<img src=\"images/example_light_and_switches.png\" width=300x/>"
   ]
  },
  {
   "cell_type": "markdown",
   "metadata": {},
   "source": [
    "## Step 1: Express as a CSP with Boolean Logic\n",
    "\n",
    "You can express the problem of how to turn on the light as a CSP with a single constraint: for light $L$ to shine, both switches $SW_1$ and $SW_2$ must be on. In logic, you express this constraint as the [conjunction](https://en.wikipedia.org/wiki/Logical_conjunction) $L = SW_1 \\wedge SW_2$. \n",
    "\n",
    "First, express the CSP with binary variables:\n",
    "\n",
    "* Switches $SW_1$ and $SW_2$ are represented by binary variables $x_1, x_2$ with values 1 when on and 0 when off.\n",
    "* Light $L$ is represented by binary variable $x_3$ with value 1 if it's shining and 0 if not.\n",
    "* Logical conjunction, $L = SW_1 \\wedge SW_2$, is expressed in binary format as $x_3 = x_1 \\wedge x_2$. \n",
    "\n",
    "Ocean's [dwavebinarycsp](https://docs.ocean.dwavesys.com/en/stable/docs_binarycsp/sdk_index.html) binary CSP tool provides factories for useful constraints such as logic gates. The first code cell adds an AND gate as a constraint to CSP `and_csp`, defined for binary variables, and tests the CSP for configuration $x1, x2, x3 = 1, 1, 1$ (the bottom row of the AND truth table). "
   ]
  },
  {
   "cell_type": "code",
   "execution_count": 4,
   "metadata": {},
   "outputs": [
    {
     "data": {
      "text/plain": [
       "True"
      ]
     },
     "execution_count": 4,
     "metadata": {},
     "output_type": "execute_result"
    }
   ],
   "source": [
    "import dwavebinarycsp as dbc\n",
    "\n",
    "and_gate = dbc.factories.and_gate([\"x1\", \"x2\", \"x3\"])\n",
    "and_csp = dbc.ConstraintSatisfactionProblem('BINARY')\n",
    "and_csp.add_constraint(and_gate)\n",
    "\n",
    "# Test the CSP\n",
    "and_csp.check({\"x1\": 1, \"x2\": 1, \"x3\": 1})"
   ]
  },
  {
   "cell_type": "markdown",
   "metadata": {},
   "source": [
    "## Step 2: Convert to a BQM \n",
    "\n",
    "The D-wave quantum device solves binary quadratic models. Express the light-circuit CSP as a BQM. More than one BQM can represent an AND gate: it's just a polynomial of binary variables, with only linear and quadratic terms, that has lowest value for variables that match rows of the AND truth table; for example, \n",
    "\n",
    "$3x_3 + x_1x_2 - 2x_1x_3 - 2x_2x_3$.\n",
    "\n",
    "To see that this BQM represents the AND gate, you can set its variables to the values of the AND truth table (e.g., $x_1, x_2, x_3=0,0,0$) and to non-valid values (e.g., $ x_1, x_2, x_3=0,0,1$). All the former should produce lower values than any of the latter. \n",
    "\n",
    "The code cell below uses `itertools` to produce all possible configurations of $ x_1, x_2, x_3$, and then prints these (under \"x1, x2, x3\") to the right of the BQM's value (under \"E\"), sorted from low to high.\n"
   ]
  },
  {
   "cell_type": "code",
   "execution_count": 5,
   "metadata": {},
   "outputs": [
    {
     "name": "stdout",
     "output_type": "stream",
     "text": [
      "E, x1, x2, x3\n"
     ]
    },
    {
     "data": {
      "text/plain": [
       "[(0, 0, 0, 0),\n",
       " (0, 0, 1, 0),\n",
       " (0, 1, 0, 0),\n",
       " (0, 1, 1, 1),\n",
       " (1, 0, 1, 1),\n",
       " (1, 1, 0, 1),\n",
       " (1, 1, 1, 0),\n",
       " (3, 0, 0, 1)]"
      ]
     },
     "execution_count": 5,
     "metadata": {},
     "output_type": "execute_result"
    }
   ],
   "source": [
    "import itertools\n",
    "\n",
    "configurations = []\n",
    "for (x1, x2, x3) in  list(itertools.product([0, 1], repeat=3)):\n",
    "     E = 3*x3+x1*x2-2*x1*x3-2*x2*x3\n",
    "     configurations.append((E, x1, x2, x3))\n",
    "\n",
    "configurations.sort()\n",
    "\n",
    "print(\"E, x1, x2, x3\")\n",
    "configurations"
   ]
  },
  {
   "cell_type": "markdown",
   "metadata": {},
   "source": [
    "Now we use Ocean's `stitch` function to convert the binary CSP to a BQM. \n",
    "\n",
    "The code cell below does so and prints out the BQM's coefficients, the inputs used to program the D-Wave system. As noted, more than one BQM can represent an AND gate, so the BQM generated here does not have to match the one written above."
   ]
  },
  {
   "cell_type": "code",
   "execution_count": 6,
   "metadata": {},
   "outputs": [
    {
     "name": "stdout",
     "output_type": "stream",
     "text": [
      "Linear coefficients:\n",
      "\t{'x1': -0.0, 'x2': -0.0, 'x3': 6.0}\n",
      "Quadratic coefficients:\n",
      "\t{('x1', 'x2'): 2.0, ('x1', 'x3'): -4.0, ('x2', 'x3'): -4.0}\n"
     ]
    }
   ],
   "source": [
    "and_bqm = dbc.stitch(and_csp)\n",
    "and_bqm.remove_offset()\n",
    "\n",
    "print(\"Linear coefficients:\\n\\t{}\".format(\n",
    "      {key: round(val, 2) for key, val in and_bqm.linear.items()}))\n",
    "print(\"Quadratic coefficients:\\n\\t{}\".format(\n",
    "      {key: round(val, 2) for key, val in and_bqm.quadratic.items()}))"
   ]
  },
  {
   "cell_type": "markdown",
   "metadata": {},
   "source": [
    "## Step 3: Solve By Minimization "
   ]
  },
  {
   "cell_type": "markdown",
   "metadata": {},
   "source": [
    "Lastly, solve the problem by finding variable values that produce the BQM's lowest values. For this trivial example, we use the exact solver, which simply returns the BQM's value for every possible assignment of variable values. For real-world problems, with large numbers of variables and constraints, minimizing a BQM is hard: this is where a quantum computer comes in handy. "
   ]
  },
  {
   "cell_type": "code",
   "execution_count": 7,
   "metadata": {},
   "outputs": [
    {
     "name": "stdout",
     "output_type": "stream",
     "text": [
      "  x1 x2 x3 energy num_oc.\n",
      "5  1  1  1   -0.0       1\n",
      "1  1  0  0   -0.0       1\n",
      "3  0  1  0   -0.0       1\n",
      "0  0  0  0    0.0       1\n",
      "6  1  0  1    2.0       1\n",
      "4  0  1  1    2.0       1\n",
      "2  1  1  0    2.0       1\n",
      "7  0  0  1    6.0       1\n",
      "['BINARY', 8 rows, 8 samples, 3 variables]\n"
     ]
    }
   ],
   "source": [
    "from dimod import ExactSolver\n",
    "\n",
    "sampler = ExactSolver()\n",
    "solution = sampler.sample(and_bqm)\n",
    "\n",
    "print(solution)"
   ]
  },
  {
   "cell_type": "markdown",
   "metadata": {},
   "source": [
    "# Factoring on the Quantum Computer\n",
    "\n",
    "This section solves a factoring problem as a CSP, following the same steps used for the simple problem of the light circuit:\n",
    "\n",
    "1. Express factoring as a CSP using Boolean logic operations.\n",
    "2. Convert to a BQM.\n",
    "3. Minimize the BQM."
   ]
  },
  {
   "cell_type": "markdown",
   "metadata": {},
   "source": [
    "## Step 1: Express Factoring as Multiplication Circuit\n",
    "\n",
    "Again start by expressing the problem with Boolean logic gates, in this case a multiplication circuit.\n",
    "\n",
    "This example factors integer 21 which is represented as a 6-bit binary number. To express the factoring equation, $P = ab$, in Boolean logic, use a simple 3-bit multiplier (a circuit that takes two 3-bit binary numbers and outputs their 6-bit binary product).  "
   ]
  },
  {
   "cell_type": "code",
   "execution_count": 8,
   "metadata": {},
   "outputs": [
    {
     "name": "stdout",
     "output_type": "stream",
     "text": [
      "010101\n"
     ]
    }
   ],
   "source": [
    "P = 21  \n",
    "\n",
    "bP = \"{:06b}\".format(P)    # \"{:06b}\" formats for 6-bit binary\n",
    "print(bP)"
   ]
  },
  {
   "cell_type": "markdown",
   "metadata": {},
   "source": [
    "Next, obtain a multiplication circuit using `multiplication_circuit()` as done before for the AND gate. The next cell creates a CSP for a 3-bit multiplication circuit and prints one of its constraints."
   ]
  },
  {
   "cell_type": "code",
   "execution_count": 9,
   "metadata": {},
   "outputs": [
    {
     "name": "stdout",
     "output_type": "stream",
     "text": [
      "Constraint.from_configurations(frozenset({(1, 0, 0), (1, 1, 1), (0, 1, 0), (0, 0, 0)}), ('a0', 'b0', 'p0'), Vartype.BINARY, name='AND(a0, b0) = p0')\n"
     ]
    }
   ],
   "source": [
    "csp = dbc.factories.multiplication_circuit(3)\n",
    "\n",
    "print(next(iter(csp.constraints)))"
   ]
  },
  {
   "cell_type": "markdown",
   "metadata": {},
   "source": [
    "## Step 2: Convert to a BQM\n",
    "\n",
    "Convert the multiplication circuit as a BQM that provides the coefficients used to program the problem on a D-Wave system."
   ]
  },
  {
   "cell_type": "code",
   "execution_count": 10,
   "metadata": {},
   "outputs": [
    {
     "name": "stdout",
     "output_type": "stream",
     "text": [
      "BQM has 27 variables: \n",
      "\t['a0', 'b0', 'p0', 'b1', 'and0,1', 'b2', 'and0,2', 'a1', 'and1,0', 'p1', 'carry1,0', 'and1,1', 'sum1,1', 'carry1,1', 'and1,2', 'a2', 'and2,0', 'p2', 'carry2,0', 'and2,1', 'sum2,1', 'carry2,1', 'and2,2', 'p3', 'carry3,0', 'p4', 'p5']\n"
     ]
    }
   ],
   "source": [
    "bqm = dbc.stitch(csp, min_classical_gap=.1)\n",
    "\n",
    "print(\"BQM has {} variables: \\n\\t{}\".format(len(bqm.variables), list(bqm.variables)))"
   ]
  },
  {
   "cell_type": "markdown",
   "metadata": {},
   "source": [
    "The next cell just creates a nice visualization of the BQM. Each node of the graph represents a variable; these include P and its factors as binary numbers, and some internal variables of the multiplication circuit."
   ]
  },
  {
   "cell_type": "code",
   "execution_count": 11,
   "metadata": {},
   "outputs": [
    {
     "data": {
      "text/html": [
       "\n",
       "    <div class=\"bk-root\">\n",
       "        <a href=\"https://bokeh.pydata.org\" target=\"_blank\" class=\"bk-logo bk-logo-small bk-logo-notebook\"></a>\n",
       "        <span id=\"f2291a5d-44bc-4a32-9fd8-037a2aceb4bf\">Loading BokehJS ...</span>\n",
       "    </div>"
      ]
     },
     "metadata": {},
     "output_type": "display_data"
    },
    {
     "data": {
      "application/javascript": [
       "\n",
       "(function(root) {\n",
       "  function now() {\n",
       "    return new Date();\n",
       "  }\n",
       "\n",
       "  var force = true;\n",
       "\n",
       "  if (typeof (root._bokeh_onload_callbacks) === \"undefined\" || force === true) {\n",
       "    root._bokeh_onload_callbacks = [];\n",
       "    root._bokeh_is_loading = undefined;\n",
       "  }\n",
       "\n",
       "  var JS_MIME_TYPE = 'application/javascript';\n",
       "  var HTML_MIME_TYPE = 'text/html';\n",
       "  var EXEC_MIME_TYPE = 'application/vnd.bokehjs_exec.v0+json';\n",
       "  var CLASS_NAME = 'output_bokeh rendered_html';\n",
       "\n",
       "  /**\n",
       "   * Render data to the DOM node\n",
       "   */\n",
       "  function render(props, node) {\n",
       "    var script = document.createElement(\"script\");\n",
       "    node.appendChild(script);\n",
       "  }\n",
       "\n",
       "  /**\n",
       "   * Handle when an output is cleared or removed\n",
       "   */\n",
       "  function handleClearOutput(event, handle) {\n",
       "    var cell = handle.cell;\n",
       "\n",
       "    var id = cell.output_area._bokeh_element_id;\n",
       "    var server_id = cell.output_area._bokeh_server_id;\n",
       "    // Clean up Bokeh references\n",
       "    if (id !== undefined) {\n",
       "      Bokeh.index[id].model.document.clear();\n",
       "      delete Bokeh.index[id];\n",
       "    }\n",
       "\n",
       "    if (server_id !== undefined) {\n",
       "      // Clean up Bokeh references\n",
       "      var cmd = \"from bokeh.io.state import curstate; print(curstate().uuid_to_server['\" + server_id + \"'].get_sessions()[0].document.roots[0]._id)\";\n",
       "      cell.notebook.kernel.execute(cmd, {\n",
       "        iopub: {\n",
       "          output: function(msg) {\n",
       "            var element_id = msg.content.text.trim();\n",
       "            Bokeh.index[element_id].model.document.clear();\n",
       "            delete Bokeh.index[element_id];\n",
       "          }\n",
       "        }\n",
       "      });\n",
       "      // Destroy server and session\n",
       "      var cmd = \"import bokeh.io.notebook as ion; ion.destroy_server('\" + server_id + \"')\";\n",
       "      cell.notebook.kernel.execute(cmd);\n",
       "    }\n",
       "  }\n",
       "\n",
       "  /**\n",
       "   * Handle when a new output is added\n",
       "   */\n",
       "  function handleAddOutput(event, handle) {\n",
       "    var output_area = handle.output_area;\n",
       "    var output = handle.output;\n",
       "\n",
       "    // limit handleAddOutput to display_data with EXEC_MIME_TYPE content only\n",
       "    if ((output.output_type != \"display_data\") || (!output.data.hasOwnProperty(EXEC_MIME_TYPE))) {\n",
       "      return\n",
       "    }\n",
       "\n",
       "    var toinsert = output_area.element.find(\".\" + CLASS_NAME.split(' ')[0]);\n",
       "\n",
       "    if (output.metadata[EXEC_MIME_TYPE][\"id\"] !== undefined) {\n",
       "      toinsert[toinsert.length - 1].firstChild.textContent = output.data[JS_MIME_TYPE];\n",
       "      // store reference to embed id on output_area\n",
       "      output_area._bokeh_element_id = output.metadata[EXEC_MIME_TYPE][\"id\"];\n",
       "    }\n",
       "    if (output.metadata[EXEC_MIME_TYPE][\"server_id\"] !== undefined) {\n",
       "      var bk_div = document.createElement(\"div\");\n",
       "      bk_div.innerHTML = output.data[HTML_MIME_TYPE];\n",
       "      var script_attrs = bk_div.children[0].attributes;\n",
       "      for (var i = 0; i < script_attrs.length; i++) {\n",
       "        toinsert[toinsert.length - 1].firstChild.setAttribute(script_attrs[i].name, script_attrs[i].value);\n",
       "      }\n",
       "      // store reference to server id on output_area\n",
       "      output_area._bokeh_server_id = output.metadata[EXEC_MIME_TYPE][\"server_id\"];\n",
       "    }\n",
       "  }\n",
       "\n",
       "  function register_renderer(events, OutputArea) {\n",
       "\n",
       "    function append_mime(data, metadata, element) {\n",
       "      // create a DOM node to render to\n",
       "      var toinsert = this.create_output_subarea(\n",
       "        metadata,\n",
       "        CLASS_NAME,\n",
       "        EXEC_MIME_TYPE\n",
       "      );\n",
       "      this.keyboard_manager.register_events(toinsert);\n",
       "      // Render to node\n",
       "      var props = {data: data, metadata: metadata[EXEC_MIME_TYPE]};\n",
       "      render(props, toinsert[toinsert.length - 1]);\n",
       "      element.append(toinsert);\n",
       "      return toinsert\n",
       "    }\n",
       "\n",
       "    /* Handle when an output is cleared or removed */\n",
       "    events.on('clear_output.CodeCell', handleClearOutput);\n",
       "    events.on('delete.Cell', handleClearOutput);\n",
       "\n",
       "    /* Handle when a new output is added */\n",
       "    events.on('output_added.OutputArea', handleAddOutput);\n",
       "\n",
       "    /**\n",
       "     * Register the mime type and append_mime function with output_area\n",
       "     */\n",
       "    OutputArea.prototype.register_mime_type(EXEC_MIME_TYPE, append_mime, {\n",
       "      /* Is output safe? */\n",
       "      safe: true,\n",
       "      /* Index of renderer in `output_area.display_order` */\n",
       "      index: 0\n",
       "    });\n",
       "  }\n",
       "\n",
       "  // register the mime type if in Jupyter Notebook environment and previously unregistered\n",
       "  if (root.Jupyter !== undefined) {\n",
       "    var events = require('base/js/events');\n",
       "    var OutputArea = require('notebook/js/outputarea').OutputArea;\n",
       "\n",
       "    if (OutputArea.prototype.mime_types().indexOf(EXEC_MIME_TYPE) == -1) {\n",
       "      register_renderer(events, OutputArea);\n",
       "    }\n",
       "  }\n",
       "\n",
       "  \n",
       "  if (typeof (root._bokeh_timeout) === \"undefined\" || force === true) {\n",
       "    root._bokeh_timeout = Date.now() + 5000;\n",
       "    root._bokeh_failed_load = false;\n",
       "  }\n",
       "\n",
       "  var NB_LOAD_WARNING = {'data': {'text/html':\n",
       "     \"<div style='background-color: #fdd'>\\n\"+\n",
       "     \"<p>\\n\"+\n",
       "     \"BokehJS does not appear to have successfully loaded. If loading BokehJS from CDN, this \\n\"+\n",
       "     \"may be due to a slow or bad network connection. Possible fixes:\\n\"+\n",
       "     \"</p>\\n\"+\n",
       "     \"<ul>\\n\"+\n",
       "     \"<li>re-rerun `output_notebook()` to attempt to load from CDN again, or</li>\\n\"+\n",
       "     \"<li>use INLINE resources instead, as so:</li>\\n\"+\n",
       "     \"</ul>\\n\"+\n",
       "     \"<code>\\n\"+\n",
       "     \"from bokeh.resources import INLINE\\n\"+\n",
       "     \"output_notebook(resources=INLINE)\\n\"+\n",
       "     \"</code>\\n\"+\n",
       "     \"</div>\"}};\n",
       "\n",
       "  function display_loaded() {\n",
       "    var el = document.getElementById(\"f2291a5d-44bc-4a32-9fd8-037a2aceb4bf\");\n",
       "    if (el != null) {\n",
       "      el.textContent = \"BokehJS is loading...\";\n",
       "    }\n",
       "    if (root.Bokeh !== undefined) {\n",
       "      if (el != null) {\n",
       "        el.textContent = \"BokehJS \" + root.Bokeh.version + \" successfully loaded.\";\n",
       "      }\n",
       "    } else if (Date.now() < root._bokeh_timeout) {\n",
       "      setTimeout(display_loaded, 100)\n",
       "    }\n",
       "  }\n",
       "\n",
       "\n",
       "  function run_callbacks() {\n",
       "    try {\n",
       "      root._bokeh_onload_callbacks.forEach(function(callback) { callback() });\n",
       "    }\n",
       "    finally {\n",
       "      delete root._bokeh_onload_callbacks\n",
       "    }\n",
       "    console.info(\"Bokeh: all callbacks have finished\");\n",
       "  }\n",
       "\n",
       "  function load_libs(js_urls, callback) {\n",
       "    root._bokeh_onload_callbacks.push(callback);\n",
       "    if (root._bokeh_is_loading > 0) {\n",
       "      console.log(\"Bokeh: BokehJS is being loaded, scheduling callback at\", now());\n",
       "      return null;\n",
       "    }\n",
       "    if (js_urls == null || js_urls.length === 0) {\n",
       "      run_callbacks();\n",
       "      return null;\n",
       "    }\n",
       "    console.log(\"Bokeh: BokehJS not loaded, scheduling load and callback at\", now());\n",
       "    root._bokeh_is_loading = js_urls.length;\n",
       "    for (var i = 0; i < js_urls.length; i++) {\n",
       "      var url = js_urls[i];\n",
       "      var s = document.createElement('script');\n",
       "      s.src = url;\n",
       "      s.async = false;\n",
       "      s.onreadystatechange = s.onload = function() {\n",
       "        root._bokeh_is_loading--;\n",
       "        if (root._bokeh_is_loading === 0) {\n",
       "          console.log(\"Bokeh: all BokehJS libraries loaded\");\n",
       "          run_callbacks()\n",
       "        }\n",
       "      };\n",
       "      s.onerror = function() {\n",
       "        console.warn(\"failed to load library \" + url);\n",
       "      };\n",
       "      console.log(\"Bokeh: injecting script tag for BokehJS library: \", url);\n",
       "      document.getElementsByTagName(\"head\")[0].appendChild(s);\n",
       "    }\n",
       "  };var element = document.getElementById(\"f2291a5d-44bc-4a32-9fd8-037a2aceb4bf\");\n",
       "  if (element == null) {\n",
       "    console.log(\"Bokeh: ERROR: autoload.js configured with elementid 'f2291a5d-44bc-4a32-9fd8-037a2aceb4bf' but no matching script tag was found. \")\n",
       "    return false;\n",
       "  }\n",
       "\n",
       "  var js_urls = [\"https://cdn.pydata.org/bokeh/release/bokeh-0.12.15.min.js\", \"https://cdn.pydata.org/bokeh/release/bokeh-widgets-0.12.15.min.js\", \"https://cdn.pydata.org/bokeh/release/bokeh-tables-0.12.15.min.js\", \"https://cdn.pydata.org/bokeh/release/bokeh-gl-0.12.15.min.js\"];\n",
       "\n",
       "  var inline_js = [\n",
       "    function(Bokeh) {\n",
       "      Bokeh.set_log_level(\"info\");\n",
       "    },\n",
       "    \n",
       "    function(Bokeh) {\n",
       "      \n",
       "    },\n",
       "    function(Bokeh) {\n",
       "      console.log(\"Bokeh: injecting CSS: https://cdn.pydata.org/bokeh/release/bokeh-0.12.15.min.css\");\n",
       "      Bokeh.embed.inject_css(\"https://cdn.pydata.org/bokeh/release/bokeh-0.12.15.min.css\");\n",
       "      console.log(\"Bokeh: injecting CSS: https://cdn.pydata.org/bokeh/release/bokeh-widgets-0.12.15.min.css\");\n",
       "      Bokeh.embed.inject_css(\"https://cdn.pydata.org/bokeh/release/bokeh-widgets-0.12.15.min.css\");\n",
       "      console.log(\"Bokeh: injecting CSS: https://cdn.pydata.org/bokeh/release/bokeh-tables-0.12.15.min.css\");\n",
       "      Bokeh.embed.inject_css(\"https://cdn.pydata.org/bokeh/release/bokeh-tables-0.12.15.min.css\");\n",
       "    }\n",
       "  ];\n",
       "\n",
       "  function run_inline_js() {\n",
       "    \n",
       "    if ((root.Bokeh !== undefined) || (force === true)) {\n",
       "      for (var i = 0; i < inline_js.length; i++) {\n",
       "        inline_js[i].call(root, root.Bokeh);\n",
       "      }if (force === true) {\n",
       "        display_loaded();\n",
       "      }} else if (Date.now() < root._bokeh_timeout) {\n",
       "      setTimeout(run_inline_js, 100);\n",
       "    } else if (!root._bokeh_failed_load) {\n",
       "      console.log(\"Bokeh: BokehJS failed to load within specified timeout.\");\n",
       "      root._bokeh_failed_load = true;\n",
       "    } else if (force !== true) {\n",
       "      var cell = $(document.getElementById(\"f2291a5d-44bc-4a32-9fd8-037a2aceb4bf\")).parents('.cell').data().cell;\n",
       "      cell.output_area.append_execute_result(NB_LOAD_WARNING)\n",
       "    }\n",
       "\n",
       "  }\n",
       "\n",
       "  if (root._bokeh_is_loading === 0) {\n",
       "    console.log(\"Bokeh: BokehJS loaded, going straight to plotting\");\n",
       "    run_inline_js();\n",
       "  } else {\n",
       "    load_libs(js_urls, function() {\n",
       "      console.log(\"Bokeh: BokehJS plotting callback run at\", now());\n",
       "      run_inline_js();\n",
       "    });\n",
       "  }\n",
       "}(window));"
      ],
      "application/vnd.bokehjs_load.v0+json": "\n(function(root) {\n  function now() {\n    return new Date();\n  }\n\n  var force = true;\n\n  if (typeof (root._bokeh_onload_callbacks) === \"undefined\" || force === true) {\n    root._bokeh_onload_callbacks = [];\n    root._bokeh_is_loading = undefined;\n  }\n\n  \n\n  \n  if (typeof (root._bokeh_timeout) === \"undefined\" || force === true) {\n    root._bokeh_timeout = Date.now() + 5000;\n    root._bokeh_failed_load = false;\n  }\n\n  var NB_LOAD_WARNING = {'data': {'text/html':\n     \"<div style='background-color: #fdd'>\\n\"+\n     \"<p>\\n\"+\n     \"BokehJS does not appear to have successfully loaded. If loading BokehJS from CDN, this \\n\"+\n     \"may be due to a slow or bad network connection. Possible fixes:\\n\"+\n     \"</p>\\n\"+\n     \"<ul>\\n\"+\n     \"<li>re-rerun `output_notebook()` to attempt to load from CDN again, or</li>\\n\"+\n     \"<li>use INLINE resources instead, as so:</li>\\n\"+\n     \"</ul>\\n\"+\n     \"<code>\\n\"+\n     \"from bokeh.resources import INLINE\\n\"+\n     \"output_notebook(resources=INLINE)\\n\"+\n     \"</code>\\n\"+\n     \"</div>\"}};\n\n  function display_loaded() {\n    var el = document.getElementById(\"f2291a5d-44bc-4a32-9fd8-037a2aceb4bf\");\n    if (el != null) {\n      el.textContent = \"BokehJS is loading...\";\n    }\n    if (root.Bokeh !== undefined) {\n      if (el != null) {\n        el.textContent = \"BokehJS \" + root.Bokeh.version + \" successfully loaded.\";\n      }\n    } else if (Date.now() < root._bokeh_timeout) {\n      setTimeout(display_loaded, 100)\n    }\n  }\n\n\n  function run_callbacks() {\n    try {\n      root._bokeh_onload_callbacks.forEach(function(callback) { callback() });\n    }\n    finally {\n      delete root._bokeh_onload_callbacks\n    }\n    console.info(\"Bokeh: all callbacks have finished\");\n  }\n\n  function load_libs(js_urls, callback) {\n    root._bokeh_onload_callbacks.push(callback);\n    if (root._bokeh_is_loading > 0) {\n      console.log(\"Bokeh: BokehJS is being loaded, scheduling callback at\", now());\n      return null;\n    }\n    if (js_urls == null || js_urls.length === 0) {\n      run_callbacks();\n      return null;\n    }\n    console.log(\"Bokeh: BokehJS not loaded, scheduling load and callback at\", now());\n    root._bokeh_is_loading = js_urls.length;\n    for (var i = 0; i < js_urls.length; i++) {\n      var url = js_urls[i];\n      var s = document.createElement('script');\n      s.src = url;\n      s.async = false;\n      s.onreadystatechange = s.onload = function() {\n        root._bokeh_is_loading--;\n        if (root._bokeh_is_loading === 0) {\n          console.log(\"Bokeh: all BokehJS libraries loaded\");\n          run_callbacks()\n        }\n      };\n      s.onerror = function() {\n        console.warn(\"failed to load library \" + url);\n      };\n      console.log(\"Bokeh: injecting script tag for BokehJS library: \", url);\n      document.getElementsByTagName(\"head\")[0].appendChild(s);\n    }\n  };var element = document.getElementById(\"f2291a5d-44bc-4a32-9fd8-037a2aceb4bf\");\n  if (element == null) {\n    console.log(\"Bokeh: ERROR: autoload.js configured with elementid 'f2291a5d-44bc-4a32-9fd8-037a2aceb4bf' but no matching script tag was found. \")\n    return false;\n  }\n\n  var js_urls = [\"https://cdn.pydata.org/bokeh/release/bokeh-0.12.15.min.js\", \"https://cdn.pydata.org/bokeh/release/bokeh-widgets-0.12.15.min.js\", \"https://cdn.pydata.org/bokeh/release/bokeh-tables-0.12.15.min.js\", \"https://cdn.pydata.org/bokeh/release/bokeh-gl-0.12.15.min.js\"];\n\n  var inline_js = [\n    function(Bokeh) {\n      Bokeh.set_log_level(\"info\");\n    },\n    \n    function(Bokeh) {\n      \n    },\n    function(Bokeh) {\n      console.log(\"Bokeh: injecting CSS: https://cdn.pydata.org/bokeh/release/bokeh-0.12.15.min.css\");\n      Bokeh.embed.inject_css(\"https://cdn.pydata.org/bokeh/release/bokeh-0.12.15.min.css\");\n      console.log(\"Bokeh: injecting CSS: https://cdn.pydata.org/bokeh/release/bokeh-widgets-0.12.15.min.css\");\n      Bokeh.embed.inject_css(\"https://cdn.pydata.org/bokeh/release/bokeh-widgets-0.12.15.min.css\");\n      console.log(\"Bokeh: injecting CSS: https://cdn.pydata.org/bokeh/release/bokeh-tables-0.12.15.min.css\");\n      Bokeh.embed.inject_css(\"https://cdn.pydata.org/bokeh/release/bokeh-tables-0.12.15.min.css\");\n    }\n  ];\n\n  function run_inline_js() {\n    \n    if ((root.Bokeh !== undefined) || (force === true)) {\n      for (var i = 0; i < inline_js.length; i++) {\n        inline_js[i].call(root, root.Bokeh);\n      }if (force === true) {\n        display_loaded();\n      }} else if (Date.now() < root._bokeh_timeout) {\n      setTimeout(run_inline_js, 100);\n    } else if (!root._bokeh_failed_load) {\n      console.log(\"Bokeh: BokehJS failed to load within specified timeout.\");\n      root._bokeh_failed_load = true;\n    } else if (force !== true) {\n      var cell = $(document.getElementById(\"f2291a5d-44bc-4a32-9fd8-037a2aceb4bf\")).parents('.cell').data().cell;\n      cell.output_area.append_execute_result(NB_LOAD_WARNING)\n    }\n\n  }\n\n  if (root._bokeh_is_loading === 0) {\n    console.log(\"Bokeh: BokehJS loaded, going straight to plotting\");\n    run_inline_js();\n  } else {\n    load_libs(js_urls, function() {\n      console.log(\"Bokeh: BokehJS plotting callback run at\", now());\n      run_inline_js();\n    });\n  }\n}(window));"
     },
     "metadata": {},
     "output_type": "display_data"
    },
    {
     "data": {
      "text/html": [
       "\n",
       "<div class=\"bk-root\">\n",
       "    <div class=\"bk-plotdiv\" id=\"2c01ef47-8f13-4a75-94a0-daede2a2f37d\"></div>\n",
       "</div>"
      ]
     },
     "metadata": {},
     "output_type": "display_data"
    },
    {
     "data": {
      "application/javascript": [
       "(function(root) {\n",
       "  function embed_document(root) {\n",
       "    \n",
       "  var docs_json = {\"baa163b0-ce60-4229-816d-8093b01742b1\":{\"roots\":{\"references\":[{\"attributes\":{\"callback\":null,\"end\":1.1,\"start\":-0.1},\"id\":\"bba7ae6c-c2d0-4470-aa76-b1f87031d12e\",\"type\":\"Range1d\"},{\"attributes\":{\"background_fill_color\":{\"value\":\"#202239\"},\"plot_height\":400,\"renderers\":[{\"id\":\"a8e9427f-0593-4465-a3a8-3734a1ccb9b8\",\"type\":\"BoxAnnotation\"},{\"id\":\"f048925f-92e2-4bed-994d-2f8174ca408f\",\"type\":\"GraphRenderer\"},{\"id\":\"ca51d263-13a0-47ef-bc82-beb4b62f4a54\",\"type\":\"LabelSet\"}],\"title\":{\"id\":\"0021aa95-70ed-4019-bd20-86a28cfb2431\",\"type\":\"Title\"},\"toolbar\":{\"id\":\"bf878350-4138-45b3-98b9-195f6fa69117\",\"type\":\"Toolbar\"},\"x_range\":{\"id\":\"0ae9d8fa-9868-47e4-b5a8-ef528c40be91\",\"type\":\"Range1d\"},\"x_scale\":{\"id\":\"c666eab4-c1c4-4972-9210-f2ad151197d5\",\"type\":\"LinearScale\"},\"y_range\":{\"id\":\"bba7ae6c-c2d0-4470-aa76-b1f87031d12e\",\"type\":\"Range1d\"},\"y_scale\":{\"id\":\"5b7347a9-a7b0-40fb-ac32-f27ef5408a07\",\"type\":\"LinearScale\"}},\"id\":\"e866ec2c-e3f6-48d0-871b-f307e123cd28\",\"type\":\"Plot\"},{\"attributes\":{\"line_color\":{\"value\":\"#EEA64E\"},\"line_width\":{\"value\":2}},\"id\":\"8855fd41-b5ef-461a-a086-fa5028fc7592\",\"type\":\"MultiLine\"},{\"attributes\":{\"active_drag\":\"auto\",\"active_inspect\":\"auto\",\"active_scroll\":\"auto\",\"active_tap\":\"auto\",\"tools\":[{\"id\":\"7fa0ca24-936a-429d-a7ad-d68c0685cc3e\",\"type\":\"HoverTool\"},{\"id\":\"808fe20d-c2be-4dcf-90fb-5421265ebab3\",\"type\":\"TapTool\"},{\"id\":\"ebf5b37f-810c-4c14-a6dd-d078670975a8\",\"type\":\"BoxSelectTool\"}]},\"id\":\"bf878350-4138-45b3-98b9-195f6fa69117\",\"type\":\"Toolbar\"},{\"attributes\":{\"data_source\":{\"id\":\"def5c859-d917-4af3-a2d7-6e6c336fcfe3\",\"type\":\"ColumnDataSource\"},\"glyph\":{\"id\":\"739e88bb-8b15-4c4c-9401-fedcb6e26361\",\"type\":\"Circle\"},\"hover_glyph\":{\"id\":\"5e3f31e8-18fd-414e-ad25-f1976db55cb3\",\"type\":\"Circle\"},\"muted_glyph\":null,\"selection_glyph\":{\"id\":\"b424a738-4228-4c5a-8ba0-0ca64434e212\",\"type\":\"Circle\"},\"view\":{\"id\":\"90441b38-0347-48ec-95fc-aa07fa561a4e\",\"type\":\"CDSView\"}},\"id\":\"a00d97f2-f2dc-49cc-aa7a-30b3c81df11c\",\"type\":\"GlyphRenderer\"},{\"attributes\":{\"plot\":null,\"text\":\"Multiplication as a BQM\"},\"id\":\"0021aa95-70ed-4019-bd20-86a28cfb2431\",\"type\":\"Title\"},{\"attributes\":{},\"id\":\"c666eab4-c1c4-4972-9210-f2ad151197d5\",\"type\":\"LinearScale\"},{\"attributes\":{\"source\":{\"id\":\"def5c859-d917-4af3-a2d7-6e6c336fcfe3\",\"type\":\"ColumnDataSource\"}},\"id\":\"90441b38-0347-48ec-95fc-aa07fa561a4e\",\"type\":\"CDSView\"},{\"attributes\":{\"data_source\":{\"id\":\"57d1aca6-b86e-4bb0-9c94-5b218da473a7\",\"type\":\"ColumnDataSource\"},\"glyph\":{\"id\":\"c10d1a20-430c-4580-b630-14db0c8377e7\",\"type\":\"MultiLine\"},\"hover_glyph\":{\"id\":\"a8f63f11-0445-4aae-8d18-1972e346b688\",\"type\":\"MultiLine\"},\"muted_glyph\":null,\"selection_glyph\":{\"id\":\"8855fd41-b5ef-461a-a086-fa5028fc7592\",\"type\":\"MultiLine\"},\"view\":{\"id\":\"525ac208-7afd-4031-acbc-36825a0c58bf\",\"type\":\"CDSView\"}},\"id\":\"273da947-0496-4b53-bc01-0213fad6290f\",\"type\":\"GlyphRenderer\"},{\"attributes\":{},\"id\":\"d5b97c80-cc10-43bc-a7ee-6bd4edcad0d5\",\"type\":\"NodesAndLinkedEdges\"},{\"attributes\":{\"callback\":null,\"tooltips\":null},\"id\":\"7fa0ca24-936a-429d-a7ad-d68c0685cc3e\",\"type\":\"HoverTool\"},{\"attributes\":{\"edge_renderer\":{\"id\":\"273da947-0496-4b53-bc01-0213fad6290f\",\"type\":\"GlyphRenderer\"},\"inspection_policy\":{\"id\":\"d5b97c80-cc10-43bc-a7ee-6bd4edcad0d5\",\"type\":\"NodesAndLinkedEdges\"},\"layout_provider\":{\"id\":\"8cd7f2aa-3df9-454d-902b-06117c3c553b\",\"type\":\"StaticLayoutProvider\"},\"node_renderer\":{\"id\":\"a00d97f2-f2dc-49cc-aa7a-30b3c81df11c\",\"type\":\"GlyphRenderer\"},\"selection_policy\":{\"id\":\"df69e39d-2f34-444f-aeb7-a1293760daa7\",\"type\":\"NodesAndLinkedEdges\"}},\"id\":\"f048925f-92e2-4bed-994d-2f8174ca408f\",\"type\":\"GraphRenderer\"},{\"attributes\":{\"callback\":null,\"column_names\":[\"xpos\",\"ypos\",\"label\"],\"data\":{\"label\":[\"a0\",\"a1\",\"a2\",\"b0\",\"b1\",\"b2\",\"p0\",\"and0,1\",\"and1,0\",\"and2,0\",\"and0,2\",\"and1,1\",\"and1,2\",\"and2,1\",\"and2,2\",\"p1\",\"carry1,0\",\"sum1,1\",\"carry1,1\",\"p2\",\"carry2,0\",\"sum2,1\",\"carry2,1\",\"p3\",\"carry3,0\",\"p4\",\"p5\"],\"xpos\":[0.0,0.0,0.0,0.1,0.1,0.1,1.0,0.8,0.6,0.6,0.4,0.2,0.2,0.4,0.6,1.0,0.8,0.6,0.4,1.0,0.8,0.6,0.6,1.0,0.8,1.0,1.0],\"ypos\":[1.0,0.85,0.6,0.4,0.2,0.0,1.0,0.9,0.85,0.7,0.6,0.55,0.3,0.2,0.0,0.85,0.7,0.55,0.4,0.6,0.55,0.4,0.2,0.4,0.3,0.2,0.0]},\"selected\":null,\"selection_policy\":null},\"id\":\"4722cbdc-370e-4156-966f-137a67273832\",\"type\":\"ColumnDataSource\"},{\"attributes\":{\"fill_color\":{\"value\":\"#F5F7FB\"},\"size\":{\"units\":\"screen\",\"value\":25}},\"id\":\"739e88bb-8b15-4c4c-9401-fedcb6e26361\",\"type\":\"Circle\"},{\"attributes\":{\"bottom_units\":\"screen\",\"fill_alpha\":{\"value\":0.5},\"fill_color\":{\"value\":\"lightgrey\"},\"left_units\":\"screen\",\"level\":\"overlay\",\"line_alpha\":{\"value\":1.0},\"line_color\":{\"value\":\"black\"},\"line_dash\":[4,4],\"line_width\":{\"value\":2},\"plot\":null,\"render_mode\":\"css\",\"right_units\":\"screen\",\"top_units\":\"screen\"},\"id\":\"a8e9427f-0593-4465-a3a8-3734a1ccb9b8\",\"type\":\"BoxAnnotation\"},{\"attributes\":{\"fill_color\":{\"value\":\"#EEA64E\"},\"size\":{\"units\":\"screen\",\"value\":25}},\"id\":\"b424a738-4228-4c5a-8ba0-0ca64434e212\",\"type\":\"Circle\"},{\"attributes\":{\"level\":\"glyph\",\"plot\":{\"id\":\"e866ec2c-e3f6-48d0-871b-f307e123cd28\",\"type\":\"Plot\"},\"source\":{\"id\":\"4722cbdc-370e-4156-966f-137a67273832\",\"type\":\"ColumnDataSource\"},\"text\":{\"field\":\"label\"},\"text_color\":{\"value\":\"#F5F7FB\"},\"text_font_size\":{\"value\":\"12pt\"},\"x\":{\"field\":\"xpos\"},\"x_offset\":{\"value\":-5},\"y\":{\"field\":\"ypos\"},\"y_offset\":{\"value\":10}},\"id\":\"ca51d263-13a0-47ef-bc82-beb4b62f4a54\",\"type\":\"LabelSet\"},{\"attributes\":{\"callback\":null,\"column_names\":[\"index\"],\"data\":{\"index\":[\"a0\",\"b0\",\"p0\",\"b1\",\"and0,1\",\"b2\",\"and0,2\",\"a1\",\"and1,0\",\"p1\",\"carry1,0\",\"and1,1\",\"sum1,1\",\"carry1,1\",\"and1,2\",\"a2\",\"and2,0\",\"p2\",\"carry2,0\",\"and2,1\",\"sum2,1\",\"carry2,1\",\"and2,2\",\"p3\",\"carry3,0\",\"p4\",\"p5\"]},\"selected\":null,\"selection_policy\":null},\"id\":\"def5c859-d917-4af3-a2d7-6e6c336fcfe3\",\"type\":\"ColumnDataSource\"},{\"attributes\":{},\"id\":\"5b7347a9-a7b0-40fb-ac32-f27ef5408a07\",\"type\":\"LinearScale\"},{\"attributes\":{\"callback\":null,\"end\":1.1,\"start\":-0.1},\"id\":\"0ae9d8fa-9868-47e4-b5a8-ef528c40be91\",\"type\":\"Range1d\"},{\"attributes\":{\"callback\":null},\"id\":\"808fe20d-c2be-4dcf-90fb-5421265ebab3\",\"type\":\"TapTool\"},{\"attributes\":{},\"id\":\"df69e39d-2f34-444f-aeb7-a1293760daa7\",\"type\":\"NodesAndLinkedEdges\"},{\"attributes\":{\"children\":[{\"id\":\"e866ec2c-e3f6-48d0-871b-f307e123cd28\",\"type\":\"Plot\"}]},\"id\":\"31612af7-3b9c-4c5f-bdc7-30d89b16caff\",\"type\":\"Row\"},{\"attributes\":{\"callback\":null,\"overlay\":{\"id\":\"a8e9427f-0593-4465-a3a8-3734a1ccb9b8\",\"type\":\"BoxAnnotation\"}},\"id\":\"ebf5b37f-810c-4c14-a6dd-d078670975a8\",\"type\":\"BoxSelectTool\"},{\"attributes\":{\"graph_layout\":{\"a0\":[0.0,1.0],\"a1\":[0.0,0.85],\"a2\":[0.0,0.6],\"and0,1\":[0.8,0.9],\"and0,2\":[0.4,0.6],\"and1,0\":[0.6,0.85],\"and1,1\":[0.2,0.55],\"and1,2\":[0.2,0.3],\"and2,0\":[0.6,0.7],\"and2,1\":[0.4,0.2],\"and2,2\":[0.6,0.0],\"b0\":[0.1,0.4],\"b1\":[0.1,0.2],\"b2\":[0.1,0.0],\"carry1,0\":[0.8,0.7],\"carry1,1\":[0.4,0.4],\"carry2,0\":[0.8,0.55],\"carry2,1\":[0.6,0.2],\"carry3,0\":[0.8,0.3],\"p0\":[1.0,1.0],\"p1\":[1.0,0.85],\"p2\":[1.0,0.6],\"p3\":[1.0,0.4],\"p4\":[1.0,0.2],\"p5\":[1.0,0.0],\"sum1,1\":[0.6,0.55],\"sum2,1\":[0.6,0.4]}},\"id\":\"8cd7f2aa-3df9-454d-902b-06117c3c553b\",\"type\":\"StaticLayoutProvider\"},{\"attributes\":{\"fill_color\":{\"value\":\"#FFE86C\"},\"size\":{\"units\":\"screen\",\"value\":25}},\"id\":\"5e3f31e8-18fd-414e-ad25-f1976db55cb3\",\"type\":\"Circle\"},{\"attributes\":{\"line_color\":{\"value\":\"#FFE86C\"},\"line_width\":{\"value\":2}},\"id\":\"a8f63f11-0445-4aae-8d18-1972e346b688\",\"type\":\"MultiLine\"},{\"attributes\":{\"callback\":null,\"column_names\":[\"start\",\"end\"],\"data\":{\"end\":[\"b0\",\"p0\",\"b1\",\"and0,1\",\"b2\",\"and0,2\",\"p0\",\"a1\",\"and1,0\",\"a2\",\"and2,0\",\"and0,1\",\"a1\",\"and1,1\",\"a2\",\"and2,1\",\"and1,0\",\"p1\",\"carry1,0\",\"and0,2\",\"a1\",\"and1,2\",\"a2\",\"and2,2\",\"and1,1\",\"sum1,1\",\"carry1,1\",\"and1,0\",\"and1,1\",\"and1,2\",\"p1\",\"carry1,0\",\"carry1,0\",\"and2,0\",\"sum1,1\",\"p2\",\"carry2,0\",\"sum1,1\",\"carry1,1\",\"carry1,1\",\"and2,0\",\"p2\",\"carry2,0\",\"and2,1\",\"and1,2\",\"sum2,1\",\"carry2,1\",\"and2,1\",\"sum2,1\",\"carry2,1\",\"and2,0\",\"and2,1\",\"and2,2\",\"p2\",\"carry2,0\",\"carry2,0\",\"sum2,1\",\"p3\",\"carry3,0\",\"sum2,1\",\"carry2,1\",\"carry2,1\",\"p3\",\"carry3,0\",\"and2,2\",\"carry3,0\",\"p4\",\"p5\",\"carry3,0\",\"p4\",\"p5\",\"carry3,0\",\"p4\",\"p5\",\"p5\"],\"start\":[\"a0\",\"a0\",\"a0\",\"a0\",\"a0\",\"a0\",\"b0\",\"b0\",\"b0\",\"b0\",\"b0\",\"b1\",\"b1\",\"b1\",\"b1\",\"b1\",\"and0,1\",\"and0,1\",\"and0,1\",\"b2\",\"b2\",\"b2\",\"b2\",\"b2\",\"and0,2\",\"and0,2\",\"and0,2\",\"a1\",\"a1\",\"a1\",\"and1,0\",\"and1,0\",\"p1\",\"carry1,0\",\"carry1,0\",\"carry1,0\",\"carry1,0\",\"and1,1\",\"and1,1\",\"sum1,1\",\"sum1,1\",\"sum1,1\",\"sum1,1\",\"carry1,1\",\"carry1,1\",\"carry1,1\",\"carry1,1\",\"and1,2\",\"and1,2\",\"and1,2\",\"a2\",\"a2\",\"a2\",\"and2,0\",\"and2,0\",\"p2\",\"carry2,0\",\"carry2,0\",\"carry2,0\",\"and2,1\",\"and2,1\",\"sum2,1\",\"sum2,1\",\"sum2,1\",\"carry2,1\",\"carry2,1\",\"carry2,1\",\"carry2,1\",\"and2,2\",\"and2,2\",\"and2,2\",\"p3\",\"carry3,0\",\"carry3,0\",\"p4\"]},\"selected\":null,\"selection_policy\":null},\"id\":\"57d1aca6-b86e-4bb0-9c94-5b218da473a7\",\"type\":\"ColumnDataSource\"},{\"attributes\":{\"source\":{\"id\":\"57d1aca6-b86e-4bb0-9c94-5b218da473a7\",\"type\":\"ColumnDataSource\"}},\"id\":\"525ac208-7afd-4031-acbc-36825a0c58bf\",\"type\":\"CDSView\"},{\"attributes\":{\"line_alpha\":{\"value\":0.8},\"line_color\":{\"value\":\"#CCCCCC\"},\"line_width\":{\"value\":2}},\"id\":\"c10d1a20-430c-4580-b630-14db0c8377e7\",\"type\":\"MultiLine\"}],\"root_ids\":[\"31612af7-3b9c-4c5f-bdc7-30d89b16caff\"]},\"title\":\"Bokeh Application\",\"version\":\"0.12.15\"}};\n",
       "  var render_items = [{\"docid\":\"baa163b0-ce60-4229-816d-8093b01742b1\",\"elementid\":\"2c01ef47-8f13-4a75-94a0-daede2a2f37d\",\"modelid\":\"31612af7-3b9c-4c5f-bdc7-30d89b16caff\"}];\n",
       "  root.Bokeh.embed.embed_items_notebook(docs_json, render_items);\n",
       "\n",
       "  }\n",
       "  if (root.Bokeh !== undefined) {\n",
       "    embed_document(root);\n",
       "  } else {\n",
       "    var attempts = 0;\n",
       "    var timer = setInterval(function(root) {\n",
       "      if (root.Bokeh !== undefined) {\n",
       "        embed_document(root);\n",
       "        clearInterval(timer);\n",
       "      }\n",
       "      attempts++;\n",
       "      if (attempts > 100) {\n",
       "        console.log(\"Bokeh: ERROR: Unable to run BokehJS code because BokehJS library is missing\")\n",
       "        clearInterval(timer);\n",
       "      }\n",
       "    }, 10, root)\n",
       "  }\n",
       "})(window);"
      ],
      "application/vnd.bokehjs_exec.v0+json": ""
     },
     "metadata": {
      "application/vnd.bokehjs_exec.v0+json": {
       "id": "31612af7-3b9c-4c5f-bdc7-30d89b16caff"
      }
     },
     "output_type": "display_data"
    }
   ],
   "source": [
    "from helpers import draw\n",
    "\n",
    "draw.circuit_from(bqm)"
   ]
  },
  {
   "cell_type": "markdown",
   "metadata": {},
   "source": [
    "The D-Wave system factors this integer by running a multiplication circuit in reverse. The code below fixes the variables of the multiplication circuit's BQM to the binary digits of the factored number P (represented by binary variables P0, P1...P6). This modifies the BQM by removing the known variables and updating neighboring values accordingly."
   ]
  },
  {
   "cell_type": "code",
   "execution_count": 12,
   "metadata": {},
   "outputs": [
    {
     "name": "stdout",
     "output_type": "stream",
     "text": [
      "BQM has 21 non-fixed variables: \n",
      "\t['a0', 'b0', 'b1', 'and0,1', 'b2', 'and0,2', 'a1', 'and1,0', 'carry1,0', 'and1,1', 'sum1,1', 'carry1,1', 'and1,2', 'a2', 'and2,0', 'carry2,0', 'and2,1', 'sum2,1', 'carry2,1', 'and2,2', 'carry3,0']\n"
     ]
    }
   ],
   "source": [
    "p_vars = ['p0', 'p1', 'p2', 'p3', 'p4', 'p5']\n",
    "\n",
    "# Convert P from decimal to binary\n",
    "fixed_variables = dict(zip(reversed(p_vars), \"{:06b}\".format(P)))\n",
    "fixed_variables = {var: int(x) for(var, x) in fixed_variables.items()}\n",
    "\n",
    "# Fix product variables\n",
    "for var, value in fixed_variables.items():\n",
    "    bqm.fix_variable(var, value)\n",
    "    \n",
    "print(\"BQM has {} non-fixed variables: \\n\\t{}\".format(len(bqm.variables), list(bqm.variables)))"
   ]
  },
  {
   "cell_type": "markdown",
   "metadata": {},
   "source": [
    "## Step 3: Submit to the Quantum Computer\n",
    "\n",
    "Lastly, solve the BQM with the D-wave device by finding variable assignments that produce its lowest values."
   ]
  },
  {
   "cell_type": "markdown",
   "metadata": {},
   "source": [
    "### Setting Up a Solver\n",
    "\n",
    "The code below sets up a D-wave solver as a QPU supported with Braket. "
   ]
  },
  {
   "cell_type": "code",
   "execution_count": 13,
   "metadata": {},
   "outputs": [],
   "source": [
    "sampler = BraketDWaveSampler(s3_folder,'arn:aws:braket:::device/qpu/d-wave/DW_2000Q_6')"
   ]
  },
  {
   "cell_type": "markdown",
   "metadata": {},
   "source": [
    "A problem can be minor embedded onto the QPU in a variety of ways and this affects solution quality and performance. The cell below uses `FixedEmbeddingComposite()` with a pre-calculated minor-embedding."
   ]
  },
  {
   "cell_type": "code",
   "execution_count": 14,
   "metadata": {},
   "outputs": [
    {
     "name": "stdout",
     "output_type": "stream",
     "text": [
      "Mapping from BQM variables to qubits for the Dwave system:\n",
      "\n",
      "\t{} {'and2,1': [590, 582, 450, 578], 'sum1,1': [469, 464, 592, 720], 'carry1,0': [727, 851, 723], 'and2,2': [577, 449, 455, 448], 'a1': [707, 711, 719], 'and2,0': [709, 717, 725], 'and0,1': [854, 843, 846], 'a0': [585, 841, 713], 'and0,2': [456, 597, 584, 589], 'carry2,1': [457, 454, 462], 'carry2,0': [722, 594, 466], 'sum2,1': [452, 467, 468, 460], 'a2': [710, 704, 576], 'b0': [840, 712, 718], 'b1': [706, 834, 842, 839, 847], 'b2': [579, 583, 591], 'and1,2': [715, 587, 459], 'carry3,0': [471, 463], 'and1,0': [835, 837, 853, 845], 'and1,1': [586, 724, 716, 714], 'carry1,1': [458, 453, 461]}\n"
     ]
    }
   ],
   "source": [
    "from helpers.embedding import embeddings\n",
    "from dwave.system import FixedEmbeddingComposite\n",
    "\n",
    "sampler_fixed_embedding = FixedEmbeddingComposite(sampler, embeddings['DW_2000Q_6'])\n",
    "\n",
    "print(\"Mapping from BQM variables to qubits for the Dwave system:\\n\\n\\t{}\", sampler_fixed_embedding.embedding)"
   ]
  },
  {
   "cell_type": "markdown",
   "metadata": {},
   "source": [
    "Submit the sample to the D-wave device to solve the problem."
   ]
  },
  {
   "cell_type": "code",
   "execution_count": 15,
   "metadata": {},
   "outputs": [
    {
     "name": "stdout",
     "output_type": "stream",
     "text": [
      "Best solution found: \n",
      " {'a0': 1, 'a1': 1, 'a2': 0, 'and0,1': 1, 'and0,2': 1, 'and1,0': 1, 'and1,1': 1, 'and1,2': 1, 'and2,0': 0, 'and2,1': 0, 'and2,2': 0, 'b0': 1, 'b1': 1, 'b2': 1, 'carry1,0': 1, 'carry1,1': 1, 'carry2,0': 0, 'carry2,1': 1, 'carry3,0': 0, 'sum1,1': 1, 'sum2,1': 0}\n"
     ]
    }
   ],
   "source": [
    "sampleset = sampler_fixed_embedding.sample(bqm, num_reads=100)\n",
    "print(\"Best solution found: \\n\",sampleset.first.sample)"
   ]
  },
  {
   "cell_type": "markdown",
   "metadata": {},
   "source": [
    "### Viewing the Solution\n",
    "\n",
    "Convert back from binary numbers to integers. Because quantum computing is probabilistic, there is a slight chance that in many executions of this example, your execution might return an incorrect solution. Rerunning the previous cell will most likely produce a correct answer. "
   ]
  },
  {
   "cell_type": "code",
   "execution_count": 16,
   "metadata": {},
   "outputs": [
    {
     "name": "stdout",
     "output_type": "stream",
     "text": [
      "Given integer P=21, found factors a=3 and b=7\n"
     ]
    }
   ],
   "source": [
    "from helpers.convert import to_base_ten\n",
    " \n",
    "a, b = to_base_ten(sampleset.first.sample)\n",
    "\n",
    "print(\"Given integer P={}, found factors a={} and b={}\".format(P, a, b))"
   ]
  },
  {
   "cell_type": "markdown",
   "metadata": {},
   "source": [
    "The next cell views the energy (rounded to two decimal places) of the samples, using a `dict` mapping pairs `(a, b)` to information about them."
   ]
  },
  {
   "cell_type": "code",
   "execution_count": 17,
   "metadata": {},
   "outputs": [
    {
     "data": {
      "text/plain": [
       "OrderedDict([((3, 7), 2.0),\n",
       "             ((7, 3), 3.0),\n",
       "             ((5, 3), 3.0),\n",
       "             ((7, 1), 3.0),\n",
       "             ((3, 6), 4.0),\n",
       "             ((7, 5), 5.0),\n",
       "             ((3, 1), 6.0),\n",
       "             ((5, 5), 7.0)])"
      ]
     },
     "execution_count": 17,
     "metadata": {},
     "output_type": "execute_result"
    }
   ],
   "source": [
    "from collections import OrderedDict\n",
    "\n",
    "def response_to_dict(sampleset):\n",
    "    results_dict = OrderedDict()\n",
    "    for sample, energy in sampleset.data(['sample', 'energy']):\n",
    "        a, b = to_base_ten(sample)\n",
    "        if (a, b) not in results_dict:\n",
    "            results_dict[(a, b)] = round(energy, 2)\n",
    "            \n",
    "    return results_dict\n",
    "\n",
    "results = response_to_dict(sampleset)\n",
    "results"
   ]
  },
  {
   "cell_type": "markdown",
   "metadata": {},
   "source": [
    "Create a scatter plot of the samples and their energies, showing that the lowest energy states correspond to correct answers."
   ]
  },
  {
   "cell_type": "code",
   "execution_count": 18,
   "metadata": {},
   "outputs": [
    {
     "data": {
      "text/html": [
       "\n",
       "<div class=\"bk-root\">\n",
       "    <div class=\"bk-plotdiv\" id=\"b8ac6007-41e4-43d3-83ee-2fdacdc559bc\"></div>\n",
       "</div>"
      ]
     },
     "metadata": {},
     "output_type": "display_data"
    },
    {
     "data": {
      "application/javascript": [
       "(function(root) {\n",
       "  function embed_document(root) {\n",
       "    \n",
       "  var docs_json = {\"add52962-74df-48b0-b407-67e40a653aa1\":{\"roots\":{\"references\":[{\"attributes\":{},\"id\":\"ff075502-1d13-47dc-9ca8-9b537b1b3585\",\"type\":\"CategoricalScale\"},{\"attributes\":{\"callback\":null},\"id\":\"793bed32-2e46-443c-9c99-c0e7e8567389\",\"type\":\"DataRange1d\"},{\"attributes\":{\"formatter\":{\"id\":\"a47f39d3-a3b2-4ec2-a128-b5e1be00a9d4\",\"type\":\"CategoricalTickFormatter\"},\"major_label_orientation\":1.5707963267948966,\"plot\":{\"id\":\"39b3af26-bf8a-4491-a49d-28a0d7be225c\",\"subtype\":\"Figure\",\"type\":\"Plot\"},\"ticker\":{\"id\":\"51b61b86-2bee-4485-8868-bb2ef2f970b5\",\"type\":\"CategoricalTicker\"}},\"id\":\"cfbc4e8a-924a-4951-a30b-1285f0565e1f\",\"type\":\"CategoricalAxis\"},{\"attributes\":{},\"id\":\"d7e92bd7-8041-4ee9-a5ff-8ae473463146\",\"type\":\"BasicTickFormatter\"},{\"attributes\":{\"dimension\":1,\"plot\":{\"id\":\"39b3af26-bf8a-4491-a49d-28a0d7be225c\",\"subtype\":\"Figure\",\"type\":\"Plot\"},\"ticker\":{\"id\":\"af4491e1-dd02-43cb-881b-f4566ce855d9\",\"type\":\"BasicTicker\"}},\"id\":\"7382ffc9-38d3-423b-b9bb-f3286e21beeb\",\"type\":\"Grid\"},{\"attributes\":{\"below\":[{\"id\":\"cfbc4e8a-924a-4951-a30b-1285f0565e1f\",\"type\":\"CategoricalAxis\"}],\"left\":[{\"id\":\"04c35dd8-a898-4de8-bd6b-d7ae60547074\",\"type\":\"LinearAxis\"}],\"plot_height\":250,\"renderers\":[{\"id\":\"cfbc4e8a-924a-4951-a30b-1285f0565e1f\",\"type\":\"CategoricalAxis\"},{\"id\":\"414649bf-c203-4b25-93ee-c45ed0935282\",\"type\":\"Grid\"},{\"id\":\"04c35dd8-a898-4de8-bd6b-d7ae60547074\",\"type\":\"LinearAxis\"},{\"id\":\"7382ffc9-38d3-423b-b9bb-f3286e21beeb\",\"type\":\"Grid\"},{\"id\":\"b15c75fd-e475-48d3-a1e1-887a7348bdc6\",\"type\":\"GlyphRenderer\"}],\"title\":{\"id\":\"9022546f-dcba-4c76-9717-ee968d56882e\",\"type\":\"Title\"},\"toolbar\":{\"id\":\"d6dbf4fc-c8ac-4714-a12a-b18134c69d50\",\"type\":\"Toolbar\"},\"toolbar_location\":null,\"x_range\":{\"id\":\"224201ae-ef03-4304-89f8-5e4cfd95ada6\",\"type\":\"FactorRange\"},\"x_scale\":{\"id\":\"ff075502-1d13-47dc-9ca8-9b537b1b3585\",\"type\":\"CategoricalScale\"},\"y_range\":{\"id\":\"793bed32-2e46-443c-9c99-c0e7e8567389\",\"type\":\"DataRange1d\"},\"y_scale\":{\"id\":\"4d11664a-e16c-47ec-b700-f0b1ed6a4c26\",\"type\":\"LinearScale\"}},\"id\":\"39b3af26-bf8a-4491-a49d-28a0d7be225c\",\"subtype\":\"Figure\",\"type\":\"Plot\"},{\"attributes\":{\"data_source\":{\"id\":\"26ecda66-e7cb-474a-b84f-62b4a41491d3\",\"type\":\"ColumnDataSource\"},\"glyph\":{\"id\":\"778e20df-3da6-4705-a93b-0cf27dd41109\",\"type\":\"Circle\"},\"hover_glyph\":null,\"muted_glyph\":null,\"nonselection_glyph\":{\"id\":\"23be4a72-f47d-442f-b018-43c7a645f888\",\"type\":\"Circle\"},\"selection_glyph\":null,\"view\":{\"id\":\"cb7b21f7-0082-44ba-a1fc-b24bf73db32d\",\"type\":\"CDSView\"}},\"id\":\"b15c75fd-e475-48d3-a1e1-887a7348bdc6\",\"type\":\"GlyphRenderer\"},{\"attributes\":{\"source\":{\"id\":\"26ecda66-e7cb-474a-b84f-62b4a41491d3\",\"type\":\"ColumnDataSource\"}},\"id\":\"cb7b21f7-0082-44ba-a1fc-b24bf73db32d\",\"type\":\"CDSView\"},{\"attributes\":{},\"id\":\"4d11664a-e16c-47ec-b700-f0b1ed6a4c26\",\"type\":\"LinearScale\"},{\"attributes\":{},\"id\":\"af4491e1-dd02-43cb-881b-f4566ce855d9\",\"type\":\"BasicTicker\"},{\"attributes\":{\"plot\":null,\"text\":\"Energy of samples\"},\"id\":\"9022546f-dcba-4c76-9717-ee968d56882e\",\"type\":\"Title\"},{\"attributes\":{},\"id\":\"a47f39d3-a3b2-4ec2-a128-b5e1be00a9d4\",\"type\":\"CategoricalTickFormatter\"},{\"attributes\":{\"fill_color\":{\"value\":\"#1f77b4\"},\"line_color\":{\"value\":\"#1f77b4\"},\"x\":{\"field\":\"x\"},\"y\":{\"field\":\"y\"}},\"id\":\"778e20df-3da6-4705-a93b-0cf27dd41109\",\"type\":\"Circle\"},{\"attributes\":{\"fill_alpha\":{\"value\":0.1},\"fill_color\":{\"value\":\"#1f77b4\"},\"line_alpha\":{\"value\":0.1},\"line_color\":{\"value\":\"#1f77b4\"},\"x\":{\"field\":\"x\"},\"y\":{\"field\":\"y\"}},\"id\":\"23be4a72-f47d-442f-b018-43c7a645f888\",\"type\":\"Circle\"},{\"attributes\":{\"callback\":null,\"factors\":[\"(3, 7)\",\"(7, 3)\",\"(5, 3)\",\"(7, 1)\",\"(3, 6)\",\"(7, 5)\",\"(3, 1)\",\"(5, 5)\"]},\"id\":\"224201ae-ef03-4304-89f8-5e4cfd95ada6\",\"type\":\"FactorRange\"},{\"attributes\":{\"active_drag\":\"auto\",\"active_inspect\":\"auto\",\"active_scroll\":\"auto\",\"active_tap\":\"auto\"},\"id\":\"d6dbf4fc-c8ac-4714-a12a-b18134c69d50\",\"type\":\"Toolbar\"},{\"attributes\":{\"callback\":null,\"column_names\":[\"x\",\"y\"],\"data\":{\"x\":[\"(3, 7)\",\"(7, 3)\",\"(5, 3)\",\"(7, 1)\",\"(3, 6)\",\"(7, 5)\",\"(3, 1)\",\"(5, 5)\"],\"y\":[2.0,3.0,3.0,3.0,4.0,5.0,6.0,7.0]},\"selected\":null,\"selection_policy\":null},\"id\":\"26ecda66-e7cb-474a-b84f-62b4a41491d3\",\"type\":\"ColumnDataSource\"},{\"attributes\":{\"grid_line_color\":{\"value\":null},\"plot\":{\"id\":\"39b3af26-bf8a-4491-a49d-28a0d7be225c\",\"subtype\":\"Figure\",\"type\":\"Plot\"},\"ticker\":{\"id\":\"51b61b86-2bee-4485-8868-bb2ef2f970b5\",\"type\":\"CategoricalTicker\"}},\"id\":\"414649bf-c203-4b25-93ee-c45ed0935282\",\"type\":\"Grid\"},{\"attributes\":{},\"id\":\"51b61b86-2bee-4485-8868-bb2ef2f970b5\",\"type\":\"CategoricalTicker\"},{\"attributes\":{\"formatter\":{\"id\":\"d7e92bd7-8041-4ee9-a5ff-8ae473463146\",\"type\":\"BasicTickFormatter\"},\"plot\":{\"id\":\"39b3af26-bf8a-4491-a49d-28a0d7be225c\",\"subtype\":\"Figure\",\"type\":\"Plot\"},\"ticker\":{\"id\":\"af4491e1-dd02-43cb-881b-f4566ce855d9\",\"type\":\"BasicTicker\"}},\"id\":\"04c35dd8-a898-4de8-bd6b-d7ae60547074\",\"type\":\"LinearAxis\"}],\"root_ids\":[\"39b3af26-bf8a-4491-a49d-28a0d7be225c\"]},\"title\":\"Bokeh Application\",\"version\":\"0.12.15\"}};\n",
       "  var render_items = [{\"docid\":\"add52962-74df-48b0-b407-67e40a653aa1\",\"elementid\":\"b8ac6007-41e4-43d3-83ee-2fdacdc559bc\",\"modelid\":\"39b3af26-bf8a-4491-a49d-28a0d7be225c\"}];\n",
       "  root.Bokeh.embed.embed_items_notebook(docs_json, render_items);\n",
       "\n",
       "  }\n",
       "  if (root.Bokeh !== undefined) {\n",
       "    embed_document(root);\n",
       "  } else {\n",
       "    var attempts = 0;\n",
       "    var timer = setInterval(function(root) {\n",
       "      if (root.Bokeh !== undefined) {\n",
       "        embed_document(root);\n",
       "        clearInterval(timer);\n",
       "      }\n",
       "      attempts++;\n",
       "      if (attempts > 100) {\n",
       "        console.log(\"Bokeh: ERROR: Unable to run BokehJS code because BokehJS library is missing\")\n",
       "        clearInterval(timer);\n",
       "      }\n",
       "    }, 10, root)\n",
       "  }\n",
       "})(window);"
      ],
      "application/vnd.bokehjs_exec.v0+json": ""
     },
     "metadata": {
      "application/vnd.bokehjs_exec.v0+json": {
       "id": "39b3af26-bf8a-4491-a49d-28a0d7be225c"
      }
     },
     "output_type": "display_data"
    }
   ],
   "source": [
    "draw.energy_of(results)"
   ]
  },
  {
   "cell_type": "markdown",
   "metadata": {},
   "source": [
    "## Alternative minor-embedding\n",
    "\n",
    "The pre-calculated minor-embedding used above was selected for its good performance from many candidate embeddings generated by a heuristic algorithm called [minorminer](https://docs.ocean.dwavesys.com/en/stable/docs_minorminer/source/sdk_index.html). Alternatively, you can use the function `EmbeddingComposite()` to generate a new embedding that may or may not have as good performance. Here, ask for more samples from the QPU by raising the `num_reads` parameter to 1000 to increase your chances of getting a correct answer. "
   ]
  },
  {
   "cell_type": "code",
   "execution_count": 19,
   "metadata": {},
   "outputs": [
    {
     "name": "stdout",
     "output_type": "stream",
     "text": [
      "Best solution found: \n",
      " {'a0': 1, 'a1': 1, 'a2': 1, 'and0,1': 1, 'and0,2': 0, 'and1,0': 1, 'and1,1': 1, 'and1,2': 0, 'and2,0': 1, 'and2,1': 1, 'and2,2': 0, 'b0': 1, 'b1': 1, 'b2': 0, 'carry1,0': 1, 'carry1,1': 0, 'carry2,0': 1, 'carry2,1': 0, 'carry3,0': 1, 'sum1,1': 1, 'sum2,1': 1}\n"
     ]
    }
   ],
   "source": [
    "from dwave.system import EmbeddingComposite\n",
    "\n",
    "sampleset = EmbeddingComposite(sampler).sample(bqm, num_reads=1000)\n",
    "print(\"Best solution found: \\n\",sampleset.first.sample)"
   ]
  },
  {
   "cell_type": "code",
   "execution_count": 20,
   "metadata": {},
   "outputs": [
    {
     "data": {
      "text/plain": [
       "OrderedDict([((7, 3), -0.0),\n",
       "             ((5, 5), 1.0),\n",
       "             ((3, 3), 2.0),\n",
       "             ((1, 7), 2.0),\n",
       "             ((3, 5), 3.0),\n",
       "             ((5, 7), 4.0),\n",
       "             ((4, 7), 4.0),\n",
       "             ((7, 2), 4.0),\n",
       "             ((1, 5), 4.0),\n",
       "             ((0, 7), 5.0),\n",
       "             ((0, 3), 5.0),\n",
       "             ((7, 4), 9.0)])"
      ]
     },
     "execution_count": 20,
     "metadata": {},
     "output_type": "execute_result"
    }
   ],
   "source": [
    "results = response_to_dict(sampleset)\n",
    "results"
   ]
  },
  {
   "cell_type": "code",
   "execution_count": 21,
   "metadata": {},
   "outputs": [
    {
     "data": {
      "text/html": [
       "\n",
       "<div class=\"bk-root\">\n",
       "    <div class=\"bk-plotdiv\" id=\"f66db3eb-6ef9-4f3d-863c-c0d8998aeba3\"></div>\n",
       "</div>"
      ]
     },
     "metadata": {},
     "output_type": "display_data"
    },
    {
     "data": {
      "application/javascript": [
       "(function(root) {\n",
       "  function embed_document(root) {\n",
       "    \n",
       "  var docs_json = {\"30660b5d-f45f-4748-a87d-fffee05a7470\":{\"roots\":{\"references\":[{\"attributes\":{\"fill_color\":{\"value\":\"#1f77b4\"},\"line_color\":{\"value\":\"#1f77b4\"},\"x\":{\"field\":\"x\"},\"y\":{\"field\":\"y\"}},\"id\":\"3036aeff-e232-4aeb-af14-7595964387e5\",\"type\":\"Circle\"},{\"attributes\":{\"callback\":null,\"column_names\":[\"x\",\"y\"],\"data\":{\"x\":[\"(7, 3)\",\"(5, 5)\",\"(3, 3)\",\"(1, 7)\",\"(3, 5)\",\"(5, 7)\",\"(4, 7)\",\"(7, 2)\",\"(1, 5)\",\"(0, 7)\",\"(0, 3)\",\"(7, 4)\"],\"y\":[-0.0,1.0,2.0,2.0,3.0,4.0,4.0,4.0,4.0,5.0,5.0,9.0]},\"selected\":null,\"selection_policy\":null},\"id\":\"5aabc98c-43b4-4c00-8272-7d2d4c82311b\",\"type\":\"ColumnDataSource\"},{\"attributes\":{},\"id\":\"90031393-023b-4f63-9678-b46c693ac735\",\"type\":\"LinearScale\"},{\"attributes\":{},\"id\":\"475b5ea4-c3de-4037-bba1-7211cf63fd73\",\"type\":\"CategoricalTicker\"},{\"attributes\":{},\"id\":\"e124cdee-3d1d-441c-b3bd-0ac8819f1a43\",\"type\":\"BasicTicker\"},{\"attributes\":{\"data_source\":{\"id\":\"5aabc98c-43b4-4c00-8272-7d2d4c82311b\",\"type\":\"ColumnDataSource\"},\"glyph\":{\"id\":\"3036aeff-e232-4aeb-af14-7595964387e5\",\"type\":\"Circle\"},\"hover_glyph\":null,\"muted_glyph\":null,\"nonselection_glyph\":{\"id\":\"4f6aaa7d-381d-46dd-bc65-ade930193123\",\"type\":\"Circle\"},\"selection_glyph\":null,\"view\":{\"id\":\"38d7c4e7-4228-40cf-b66e-68524bcc0971\",\"type\":\"CDSView\"}},\"id\":\"c1ffc9a8-9b5a-408f-b9e4-7da5c5023840\",\"type\":\"GlyphRenderer\"},{\"attributes\":{\"below\":[{\"id\":\"a4ba5163-9ef5-49fa-8cfd-537291804118\",\"type\":\"CategoricalAxis\"}],\"left\":[{\"id\":\"2635116d-2afa-4137-9fc5-1cc0f82ee9c0\",\"type\":\"LinearAxis\"}],\"plot_height\":250,\"renderers\":[{\"id\":\"a4ba5163-9ef5-49fa-8cfd-537291804118\",\"type\":\"CategoricalAxis\"},{\"id\":\"54efa0a5-fa34-4e70-8e63-5ff6c4e9e317\",\"type\":\"Grid\"},{\"id\":\"2635116d-2afa-4137-9fc5-1cc0f82ee9c0\",\"type\":\"LinearAxis\"},{\"id\":\"32cd10e6-cc3f-48ff-8eef-2eec64ecd56b\",\"type\":\"Grid\"},{\"id\":\"c1ffc9a8-9b5a-408f-b9e4-7da5c5023840\",\"type\":\"GlyphRenderer\"}],\"title\":{\"id\":\"5fc3fb1c-9e49-4c5b-ae02-bc78046ebae5\",\"type\":\"Title\"},\"toolbar\":{\"id\":\"e7bc979c-9a96-4b50-b494-ea6d6b59bc2a\",\"type\":\"Toolbar\"},\"toolbar_location\":null,\"x_range\":{\"id\":\"59c03b25-a584-43ce-88eb-ad3f0d2841a3\",\"type\":\"FactorRange\"},\"x_scale\":{\"id\":\"f4d1ce83-6ca8-4dbc-878f-012f573a41c4\",\"type\":\"CategoricalScale\"},\"y_range\":{\"id\":\"1f4e265c-4f40-463f-87e1-c8f29bd4de1f\",\"type\":\"DataRange1d\"},\"y_scale\":{\"id\":\"90031393-023b-4f63-9678-b46c693ac735\",\"type\":\"LinearScale\"}},\"id\":\"19297542-0bcb-49d7-8be7-cb492de1210c\",\"subtype\":\"Figure\",\"type\":\"Plot\"},{\"attributes\":{\"dimension\":1,\"plot\":{\"id\":\"19297542-0bcb-49d7-8be7-cb492de1210c\",\"subtype\":\"Figure\",\"type\":\"Plot\"},\"ticker\":{\"id\":\"e124cdee-3d1d-441c-b3bd-0ac8819f1a43\",\"type\":\"BasicTicker\"}},\"id\":\"32cd10e6-cc3f-48ff-8eef-2eec64ecd56b\",\"type\":\"Grid\"},{\"attributes\":{\"callback\":null,\"factors\":[\"(7, 3)\",\"(5, 5)\",\"(3, 3)\",\"(1, 7)\",\"(3, 5)\",\"(5, 7)\",\"(4, 7)\",\"(7, 2)\",\"(1, 5)\",\"(0, 7)\",\"(0, 3)\",\"(7, 4)\"]},\"id\":\"59c03b25-a584-43ce-88eb-ad3f0d2841a3\",\"type\":\"FactorRange\"},{\"attributes\":{\"fill_alpha\":{\"value\":0.1},\"fill_color\":{\"value\":\"#1f77b4\"},\"line_alpha\":{\"value\":0.1},\"line_color\":{\"value\":\"#1f77b4\"},\"x\":{\"field\":\"x\"},\"y\":{\"field\":\"y\"}},\"id\":\"4f6aaa7d-381d-46dd-bc65-ade930193123\",\"type\":\"Circle\"},{\"attributes\":{\"formatter\":{\"id\":\"0af35b02-0931-4fb1-a769-caad3a1560f1\",\"type\":\"BasicTickFormatter\"},\"plot\":{\"id\":\"19297542-0bcb-49d7-8be7-cb492de1210c\",\"subtype\":\"Figure\",\"type\":\"Plot\"},\"ticker\":{\"id\":\"e124cdee-3d1d-441c-b3bd-0ac8819f1a43\",\"type\":\"BasicTicker\"}},\"id\":\"2635116d-2afa-4137-9fc5-1cc0f82ee9c0\",\"type\":\"LinearAxis\"},{\"attributes\":{\"formatter\":{\"id\":\"36ddaa9d-88c3-40a2-9d3b-19c8045a29a3\",\"type\":\"CategoricalTickFormatter\"},\"major_label_orientation\":1.5707963267948966,\"plot\":{\"id\":\"19297542-0bcb-49d7-8be7-cb492de1210c\",\"subtype\":\"Figure\",\"type\":\"Plot\"},\"ticker\":{\"id\":\"475b5ea4-c3de-4037-bba1-7211cf63fd73\",\"type\":\"CategoricalTicker\"}},\"id\":\"a4ba5163-9ef5-49fa-8cfd-537291804118\",\"type\":\"CategoricalAxis\"},{\"attributes\":{\"active_drag\":\"auto\",\"active_inspect\":\"auto\",\"active_scroll\":\"auto\",\"active_tap\":\"auto\"},\"id\":\"e7bc979c-9a96-4b50-b494-ea6d6b59bc2a\",\"type\":\"Toolbar\"},{\"attributes\":{},\"id\":\"f4d1ce83-6ca8-4dbc-878f-012f573a41c4\",\"type\":\"CategoricalScale\"},{\"attributes\":{\"plot\":null,\"text\":\"Energy of samples\"},\"id\":\"5fc3fb1c-9e49-4c5b-ae02-bc78046ebae5\",\"type\":\"Title\"},{\"attributes\":{},\"id\":\"36ddaa9d-88c3-40a2-9d3b-19c8045a29a3\",\"type\":\"CategoricalTickFormatter\"},{\"attributes\":{\"source\":{\"id\":\"5aabc98c-43b4-4c00-8272-7d2d4c82311b\",\"type\":\"ColumnDataSource\"}},\"id\":\"38d7c4e7-4228-40cf-b66e-68524bcc0971\",\"type\":\"CDSView\"},{\"attributes\":{\"callback\":null},\"id\":\"1f4e265c-4f40-463f-87e1-c8f29bd4de1f\",\"type\":\"DataRange1d\"},{\"attributes\":{},\"id\":\"0af35b02-0931-4fb1-a769-caad3a1560f1\",\"type\":\"BasicTickFormatter\"},{\"attributes\":{\"grid_line_color\":{\"value\":null},\"plot\":{\"id\":\"19297542-0bcb-49d7-8be7-cb492de1210c\",\"subtype\":\"Figure\",\"type\":\"Plot\"},\"ticker\":{\"id\":\"475b5ea4-c3de-4037-bba1-7211cf63fd73\",\"type\":\"CategoricalTicker\"}},\"id\":\"54efa0a5-fa34-4e70-8e63-5ff6c4e9e317\",\"type\":\"Grid\"}],\"root_ids\":[\"19297542-0bcb-49d7-8be7-cb492de1210c\"]},\"title\":\"Bokeh Application\",\"version\":\"0.12.15\"}};\n",
       "  var render_items = [{\"docid\":\"30660b5d-f45f-4748-a87d-fffee05a7470\",\"elementid\":\"f66db3eb-6ef9-4f3d-863c-c0d8998aeba3\",\"modelid\":\"19297542-0bcb-49d7-8be7-cb492de1210c\"}];\n",
       "  root.Bokeh.embed.embed_items_notebook(docs_json, render_items);\n",
       "\n",
       "  }\n",
       "  if (root.Bokeh !== undefined) {\n",
       "    embed_document(root);\n",
       "  } else {\n",
       "    var attempts = 0;\n",
       "    var timer = setInterval(function(root) {\n",
       "      if (root.Bokeh !== undefined) {\n",
       "        embed_document(root);\n",
       "        clearInterval(timer);\n",
       "      }\n",
       "      attempts++;\n",
       "      if (attempts > 100) {\n",
       "        console.log(\"Bokeh: ERROR: Unable to run BokehJS code because BokehJS library is missing\")\n",
       "        clearInterval(timer);\n",
       "      }\n",
       "    }, 10, root)\n",
       "  }\n",
       "})(window);"
      ],
      "application/vnd.bokehjs_exec.v0+json": ""
     },
     "metadata": {
      "application/vnd.bokehjs_exec.v0+json": {
       "id": "19297542-0bcb-49d7-8be7-cb492de1210c"
      }
     },
     "output_type": "display_data"
    }
   ],
   "source": [
    "draw.energy_of(results)"
   ]
  }
 ],
 "metadata": {
  "kernelspec": {
   "display_name": "Python 3",
   "language": "python",
   "name": "python3"
  },
  "language_info": {
   "codemirror_mode": {
    "name": "ipython",
    "version": 3
   },
   "file_extension": ".py",
   "mimetype": "text/x-python",
   "name": "python",
   "nbconvert_exporter": "python",
   "pygments_lexer": "ipython3",
   "version": "3.8.3"
  }
 },
 "nbformat": 4,
 "nbformat_minor": 4
}
