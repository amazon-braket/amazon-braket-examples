{
 "cells": [
  {
   "cell_type": "markdown",
   "metadata": {},
   "source": [
    "# Combining PennyLane with Amazon Braket"
   ]
  },
  {
   "cell_type": "markdown",
   "metadata": {},
   "source": [
    "<div class=\"alert alert-block alert-info\">\n",
    "<b>What is PennyLane?</b> <a href=\"https://pennylane.ai/install.html\">PennyLane</a> is a Python library for differentiable programming of quantum computers, allowing you to train a quantum computer the same way as a neural network.\n",
    "</div>"
   ]
  },
  {
   "cell_type": "markdown",
   "metadata": {},
   "source": [
    "<div align=\"center\"><img src=\"pl_braket.png\"/></div>"
   ]
  },
  {
   "cell_type": "markdown",
   "metadata": {},
   "source": [
    "PennyLane integrates with Amazon Braket to add additional features for quantum machine learning and optimization. This introductory tutorial walks you through how to train a quantum circuit using Amazon Braket simulators and PennyLane's automatic differentiation capabilities."
   ]
  },
  {
   "cell_type": "markdown",
   "metadata": {},
   "source": [
    "## Setup"
   ]
  },
  {
   "cell_type": "markdown",
   "metadata": {},
   "source": [
    "PennyLane is already installed on Braket notebook instances. On a local machine, PennyLane can be installed by following [these](https://pennylane.ai/install.html) instructions. It can then be imported with:"
   ]
  },
  {
   "cell_type": "code",
   "execution_count": 1,
   "metadata": {
    "ExecuteTime": {
     "end_time": "2024-02-19T21:42:09.404557Z",
     "start_time": "2024-02-19T21:42:03.275541Z"
    }
   },
   "outputs": [],
   "source": [
    "import pennylane as qml\n",
    "from pennylane import numpy as np"
   ]
  },
  {
   "cell_type": "markdown",
   "metadata": {},
   "source": [
    "To use Braket as a backend in PennyLane, we have to create a PennyLane device. Here we will first create a device that uses the local Braket simulator that runs on your local laptop (or on the server that hosts this notebook)."
   ]
  },
  {
   "cell_type": "code",
   "execution_count": 2,
   "metadata": {
    "ExecuteTime": {
     "end_time": "2024-02-19T21:42:10.351825Z",
     "start_time": "2024-02-19T21:42:09.405882Z"
    }
   },
   "outputs": [],
   "source": [
    "wires = 2  # Number of qubits\n",
    "\n",
    "dev = qml.device(\"braket.local.qubit\", wires=wires)"
   ]
  },
  {
   "cell_type": "markdown",
   "metadata": {},
   "source": [
    "Below we will also show you how to scale out simulations to the AWS cloud."
   ]
  },
  {
   "cell_type": "markdown",
   "metadata": {},
   "source": [
    "## Defining a circuit"
   ]
  },
  {
   "cell_type": "markdown",
   "metadata": {},
   "source": [
    "We will choose a simple two-qubit circuit with two controllable rotations and a CNOT gate."
   ]
  },
  {
   "cell_type": "code",
   "execution_count": 3,
   "metadata": {
    "ExecuteTime": {
     "end_time": "2024-02-19T21:42:10.355051Z",
     "start_time": "2024-02-19T21:42:10.352639Z"
    }
   },
   "outputs": [],
   "source": [
    "@qml.qnode(dev)\n",
    "def circuit(params):\n",
    "    qml.RX(params[0], wires=0)\n",
    "    qml.RY(params[1], wires=1)\n",
    "    qml.CNOT(wires=[0, 1])\n",
    "    return qml.expval(qml.PauliZ(1))"
   ]
  },
  {
   "cell_type": "markdown",
   "metadata": {},
   "source": [
    "The ``qml.qnode(dev)`` decorator binds the circuit to the local Braket device. Now, every time that ``circuit()`` is called, the quantum computation defined in the function above will be executed with Braket."
   ]
  },
  {
   "cell_type": "markdown",
   "metadata": {},
   "source": [
    "<div class=\"alert alert-block alert-info\">\n",
    "<b>Note</b> PennyLane also supports automatic differentiation with PyTorch and TensorFlow <a href=\"https://pennylane.readthedocs.io/en/stable/introduction/interfaces.html\">interfaces</a>. The choice of interface can be specified using:\n",
    "<code>@qml.qnode(dev, interface=\"&lt;interface&gt;\")</code>.\n",
    "</div>"
   ]
  },
  {
   "cell_type": "markdown",
   "metadata": {},
   "source": [
    "## Evaluating the circuit and accessing its gradient"
   ]
  },
  {
   "cell_type": "markdown",
   "metadata": {},
   "source": [
    "Let's set some values for our controllable parameters:"
   ]
  },
  {
   "cell_type": "code",
   "execution_count": 4,
   "metadata": {
    "ExecuteTime": {
     "end_time": "2024-02-19T21:42:10.359085Z",
     "start_time": "2024-02-19T21:42:10.356833Z"
    }
   },
   "outputs": [],
   "source": [
    "params = np.array([0.1, 0.2], requires_grad=True)"
   ]
  },
  {
   "cell_type": "markdown",
   "metadata": {},
   "source": [
    "The circuit can be evaluated with these parameters using"
   ]
  },
  {
   "cell_type": "code",
   "execution_count": 5,
   "metadata": {
    "ExecuteTime": {
     "end_time": "2024-02-19T21:42:10.393070Z",
     "start_time": "2024-02-19T21:42:10.359915Z"
    }
   },
   "outputs": [
    {
     "name": "stdout",
     "output_type": "stream",
     "text": [
      "Expectation value of circuit: 0.9751703272018161\n"
     ]
    }
   ],
   "source": [
    "print(\"Expectation value of circuit:\", circuit(params))"
   ]
  },
  {
   "cell_type": "code",
   "execution_count": 6,
   "metadata": {
    "ExecuteTime": {
     "end_time": "2024-02-19T21:42:10.397595Z",
     "start_time": "2024-02-19T21:42:10.394259Z"
    }
   },
   "outputs": [
    {
     "name": "stdout",
     "output_type": "stream",
     "text": [
      "Drawing of circuit:\n",
      "\n",
      "0: ──RX(0.10)─╭●─┤     \n",
      "1: ──RY(0.20)─╰X─┤  <Z>\n"
     ]
    }
   ],
   "source": [
    "print(\"Drawing of circuit:\\n\")\n",
    "print(qml.draw(circuit)(params))"
   ]
  },
  {
   "cell_type": "markdown",
   "metadata": {},
   "source": [
    "A crucial element of machine learning and optimization is accessing the gradient of a model with respect to its parameters. This functionality is built into PennyLane:"
   ]
  },
  {
   "cell_type": "code",
   "execution_count": 7,
   "metadata": {
    "ExecuteTime": {
     "end_time": "2024-02-19T21:42:10.400540Z",
     "start_time": "2024-02-19T21:42:10.398616Z"
    }
   },
   "outputs": [],
   "source": [
    "dcircuit = qml.grad(circuit)"
   ]
  },
  {
   "cell_type": "markdown",
   "metadata": {},
   "source": [
    "Here, ``dcircuit`` is a callable function that evaluates the gradient of the circuit, i.e., its partial derivatives with respect to the controllable parameters."
   ]
  },
  {
   "cell_type": "code",
   "execution_count": 8,
   "metadata": {
    "ExecuteTime": {
     "end_time": "2024-02-19T21:42:10.523442Z",
     "start_time": "2024-02-19T21:42:10.401286Z"
    }
   },
   "outputs": [
    {
     "data": {
      "text/plain": "array([-0.0978434 , -0.19767681])"
     },
     "execution_count": 8,
     "metadata": {},
     "output_type": "execute_result"
    }
   ],
   "source": [
    "dcircuit(params)"
   ]
  },
  {
   "cell_type": "markdown",
   "metadata": {},
   "source": [
    "## Training the circuit"
   ]
  },
  {
   "cell_type": "markdown",
   "metadata": {},
   "source": [
    "Suppose we now want to minimize the output of the circuit by updating its parameters. This can be done using gradient-based optimization.\n",
    "\n",
    "First, an optimizer is fixed:"
   ]
  },
  {
   "cell_type": "code",
   "execution_count": 9,
   "metadata": {
    "ExecuteTime": {
     "end_time": "2024-02-19T21:42:10.526039Z",
     "start_time": "2024-02-19T21:42:10.524244Z"
    }
   },
   "outputs": [],
   "source": [
    "opt = qml.GradientDescentOptimizer(stepsize=0.1)"
   ]
  },
  {
   "cell_type": "markdown",
   "metadata": {},
   "source": [
    "The next step is to run the optimizer for a chosen number of iterations:"
   ]
  },
  {
   "cell_type": "code",
   "execution_count": 10,
   "metadata": {
    "ExecuteTime": {
     "end_time": "2024-02-19T21:42:11.062067Z",
     "start_time": "2024-02-19T21:42:10.527962Z"
    }
   },
   "outputs": [
    {
     "name": "stdout",
     "output_type": "stream",
     "text": [
      "Minimized circuit output: 0.37261070647126565\n",
      "Optimized parameters: [0.4839502  1.13630274]\n"
     ]
    },
    {
     "data": {
      "text/plain": "<Figure size 640x480 with 1 Axes>",
      "image/png": "[encoded data removed]"
     },
     "metadata": {},
     "output_type": "display_data"
    }
   ],
   "source": [
    "iterations = 20\n",
    "\n",
    "costs = []\n",
    "\n",
    "for i in range(iterations):\n",
    "    params, cost = opt.step_and_cost(circuit, params)\n",
    "    costs.append(cost)\n",
    "\n",
    "# Visualize results\n",
    "import matplotlib.pyplot as plt\n",
    "\n",
    "costs.append(circuit(params))\n",
    "plt.plot(costs, \"-o\")\n",
    "plt.xlabel(\"Iterations\")\n",
    "plt.ylabel(\"Cost\")\n",
    "\n",
    "print(\"Minimized circuit output:\", circuit(params))\n",
    "print(\"Optimized parameters:\", params)"
   ]
  },
  {
   "cell_type": "markdown",
   "metadata": {},
   "source": [
    "<div class=\"alert alert-block alert-info\">\n",
    "<b>Note</b> The circuit considered here is very simple and can be optimized easily by hand. However, the need for PennyLane's automatic differentiation capabilities becomes apparent as we make the problem more complicated, e.g., with more gates and different types of output measurement. In later demos, we will also see how Braket can be used to parallelize evaluation of the gradient, providing a turbocharger for quantum circuit training in PennyLane.\n",
    "</div>"
   ]
  },
  {
   "cell_type": "markdown",
   "metadata": {},
   "source": [
    "## Running circuits on Braket's on-demand simulator, SV1"
   ]
  },
  {
   "cell_type": "markdown",
   "metadata": {},
   "source": [
    "So far we have used the local Braket simulator. This is a great choice for quick prototyping, but it is not suitable for large circuits with many qubits and does not provide a connection to quantum hardware.\n",
    "\n",
    "Amazon Braket also provides access to on-demand, high-performance simulators and quantum processing units (QPUs) from different [providers](https://aws.amazon.com/braket/hardware-providers/). These devices can be accessed through PennyLane by changing a single line of code, unlocking the potential for machine learning and optimization on quantum hardware and high performance simulators!\n",
    "\n",
    "<div align=\"center\"><img src=\"remote-single-job.png\"/></div>"
   ]
  },
  {
   "cell_type": "code",
   "execution_count": 11,
   "metadata": {
    "ExecuteTime": {
     "end_time": "2024-02-19T21:42:11.066378Z",
     "start_time": "2024-02-19T21:42:11.064297Z"
    }
   },
   "outputs": [],
   "source": [
    "# Use Braket SDK Cost Tracking to estimate the cost to run this example\n",
    "from braket.tracking import Tracker\n",
    "\n",
    "braket_tasks_cost = Tracker().start()"
   ]
  },
  {
   "cell_type": "markdown",
   "metadata": {},
   "source": [
    "Each remote Braket device can be selected through its [ARN](https://docs.aws.amazon.com/general/latest/gr/aws-arns-and-namespaces.html). The supported devices on Braket are listed [here](https://docs.aws.amazon.com/braket/latest/developerguide/braket-devices.html). For now, we will pick the on-demand SV1 simulator.\n",
    "\n",
    "<div class=\"alert alert-block alert-warning\">\n",
    "<b>Caution:</b> Running hybrid algorithms on a QPU can take a long time and incur high <a href=\"https://aws.amazon.com/braket/pricing/\">usage fees</a> charged to your AWS account.\n",
    "</div>"
   ]
  },
  {
   "cell_type": "markdown",
   "source": [
    "In PennyLane, all remote Braket devices are then accessed through a single PennyLane device named ``braket.aws.qubit``."
   ],
   "metadata": {
    "collapsed": false
   }
  },
  {
   "cell_type": "code",
   "execution_count": 12,
   "metadata": {
    "ExecuteTime": {
     "end_time": "2024-02-19T21:42:11.437758Z",
     "start_time": "2024-02-19T21:42:11.067501Z"
    }
   },
   "outputs": [],
   "source": [
    "from braket.devices import Devices\n",
    "dev = qml.device(\"braket.aws.qubit\", device_arn=Devices.Amazon.SV1, wires=2)"
   ]
  },
  {
   "cell_type": "markdown",
   "metadata": {},
   "source": [
    "A follow up [tutorial](./1_Parallelized_optimization_of_quantum_circuits.ipynb) shows you how to use the remote device to run multiple circuits in parallel, while the [QAOA tutorial](./2_Graph_optimization_with_QAOA.ipynb) takes a deeper dive into graph optimization, including using SV1 to optimize a 20-node graph."
   ]
  },
  {
   "cell_type": "markdown",
   "metadata": {},
   "source": [
    "Let's execute our circuit on SV1, as well as calculating the gradient:"
   ]
  },
  {
   "cell_type": "code",
   "execution_count": 13,
   "metadata": {
    "ExecuteTime": {
     "end_time": "2024-02-19T21:42:18.632136Z",
     "start_time": "2024-02-19T21:42:11.439272Z"
    }
   },
   "outputs": [
    {
     "name": "stdout",
     "output_type": "stream",
     "text": [
      "Result of circuit run on SV1: 0.37261070647126565\n",
      "Result of gradient calculation on SV1: [-0.19585986 -0.80291741]\n"
     ]
    }
   ],
   "source": [
    "@qml.qnode(dev)\n",
    "def circuit(params):\n",
    "    qml.RX(params[0], wires=0)\n",
    "    qml.RY(params[1], wires=1)\n",
    "    qml.CNOT(wires=[0, 1])\n",
    "    return qml.expval(qml.PauliZ(1))\n",
    "\n",
    "\n",
    "dcircuit = qml.grad(circuit)\n",
    "\n",
    "print(\"Result of circuit run on SV1:\", circuit(params))\n",
    "print(\"Result of gradient calculation on SV1:\", dcircuit(params))"
   ]
  },
  {
   "cell_type": "markdown",
   "metadata": {},
   "source": [
    "<div class=\"alert alert-block alert-info\">\n",
    "<b>What's next?</b> Check out the other tutorials in this folder to understand how Braket and PennyLane can be combined to solve a range of problems, from graph optimization to quantum chemistry.\n",
    "</div>"
   ]
  },
  {
   "cell_type": "code",
   "execution_count": 14,
   "metadata": {
    "ExecuteTime": {
     "end_time": "2024-02-19T21:42:19.098494Z",
     "start_time": "2024-02-19T21:42:18.633487Z"
    }
   },
   "outputs": [
    {
     "name": "stdout",
     "output_type": "stream",
     "text": [
      "Quantum Task Summary\n",
      "{<_Amazon.SV1: 'arn:aws:braket:::device/quantum-simulator/amazon/sv1'>: {'shots': 0, 'tasks': {'COMPLETED': 2}, 'execution_duration': datetime.timedelta(microseconds=299000), 'billed_execution_duration': datetime.timedelta(seconds=6)}}\n",
      "Note: Charges shown are estimates based on your Amazon Braket simulator and quantum processing unit (QPU) task usage. Estimated charges shown may differ from your actual charges. Estimated charges do not factor in any discounts or credits, and you may experience additional charges based on your use of other services such as Amazon Elastic Compute Cloud (Amazon EC2).\n",
      "Estimated cost to run this example: 0.008 USD\n"
     ]
    }
   ],
   "source": [
    "print(\"Quantum Task Summary\")\n",
    "print(braket_tasks_cost.quantum_tasks_statistics())\n",
    "print(\n",
    "    \"Note: Charges shown are estimates based on your Amazon Braket simulator and quantum processing unit (QPU) task usage. Estimated charges shown may differ from your actual charges. Estimated charges do not factor in any discounts or credits, and you may experience additional charges based on your use of other services such as Amazon Elastic Compute Cloud (Amazon EC2).\"\n",
    ")\n",
    "print(\n",
    "    f\"Estimated cost to run this example: {braket_tasks_cost.qpu_tasks_cost() + braket_tasks_cost.simulator_tasks_cost():.3f} USD\"\n",
    ")"
   ]
  },
  {
   "cell_type": "markdown",
   "metadata": {},
   "source": [
    "## Running on a QPU with Amazon Braket Hybrid Jobs\n",
    "\n",
    "In this notebook, the classical part of the algorithm was running locally. For longer-running algorithms or those requiring more intensive compute resources, it's recommended to dispatch the algorithm to Amazon Braket Hybrid Jobs, which fully manages the classical infrastructure, allowing you to focus on the algorithm. For example, you can train a larger circuit or increase the number of iterations.\n",
    "\n",
    "The second benefit of running the algorithm as a hybrid job is that for iterative algorithms that require repeated calls to a QPU, you retain priority for that QPU. Once your quantum tasks are created in the hybrid job, they run ahead of other tasks waiting in the regular quantum task queue. This is because hybrid jobs have a separate queue from standalone tasks, ensuring that only a single hybrid job can run on a QPU at a time. This means your algorithm will not be interrupted by other quantum tasks, so it will run more efficiently and predictably. However, hybrid jobs have a separate queue from standalone tasks, so only a single hybrid job can run on a QPU at a time. For a single quantum circuit or a batch of circuits, it's recommended to create quantum tasks instead of hybrid jobs. Only iterative algorithms benefit from QPU priority queuing.\n",
    "\n",
    "Note that hybrid jobs have at least a one-minute startup time since they create a containerized environment on Amazon EC2. So for very short workloads, there is likely no need to create a hybrid job.\n",
    "\n",
    "You can run your local Python code as an Amazon Braket hybrid job by annotating your code with the `@hybrid_job`` decorator, as shown in the following code example. Only Python 3.10 is supported by default. For custom Python versions, you can choose to use a custom container from [Amazon Elastic Container Registry (ECR)](https://aws.amazon.com/ecr/) (see [BYOC](https://docs.aws.amazon.com/braket/latest/developerguide/braket-jobs-byoc.html)).\n",
    "\n",
    "\n",
    "In the following code, we create a hybrid job for 10 iterations targeting Rigetti Aspen-M-3. Since we specified Aspen-M-3 as the device, this job will run once Aspen-M-3 is available and has no jobs running ahead of it."
   ]
  },
  {
   "cell_type": "code",
   "execution_count": 15,
   "metadata": {
    "ExecuteTime": {
     "end_time": "2024-02-19T21:42:19.442699Z",
     "start_time": "2024-02-19T21:42:19.099758Z"
    }
   },
   "outputs": [],
   "source": [
    "from braket.jobs import hybrid_job\n",
    "from braket.jobs.metrics import log_metric\n",
    "\n",
    "device_arn = Devices.Amazon.SV1\n",
    "# device_arn = Devices.Rigetti.AspenM3\n",
    "\n",
    "\n",
    "@hybrid_job(device=device_arn)  # set priority QPU\n",
    "def qubit_rotation(stepsize=0.1, iterations=5):\n",
    "    task_tracker = Tracker().start()  # track Braket quantum tasks costs\n",
    "    dev = qml.device(\"braket.aws.qubit\", device_arn=device_arn.value, wires=2, shots=1_000)\n",
    "\n",
    "    params = np.array([0.1, 0.2])\n",
    "\n",
    "    @qml.qnode(dev)\n",
    "    def circuit(params):\n",
    "        qml.RX(params[0], wires=0)\n",
    "        qml.RY(params[1], wires=1)\n",
    "        qml.CNOT(wires=[0, 1])\n",
    "        return qml.expval(qml.PauliZ(1))\n",
    "\n",
    "    opt = qml.GradientDescentOptimizer(stepsize)\n",
    "\n",
    "    costs = []\n",
    "    for i in range(iterations):\n",
    "        params, cost = opt.step_and_cost(circuit, params)\n",
    "        costs.append(cost)\n",
    "\n",
    "        # Record the value of the cost function with each iteration\n",
    "        log_metric(metric_name=\"cost_function\", value=cost, iteration_number=i)\n",
    "\n",
    "        # Additionally, keep track of cost in USD for Braket tasks\n",
    "        braket_task_cost = float(\n",
    "            task_tracker.qpu_tasks_cost() + task_tracker.simulator_tasks_cost()\n",
    "        )\n",
    "        log_metric(metric_name=\"braket_cost\", value=braket_task_cost, iteration_number=i)\n",
    "\n",
    "    return {\"params\": params, \"costs\": costs, \"braket_tasks_cost\": braket_task_cost}"
   ]
  },
  {
   "cell_type": "markdown",
   "metadata": {},
   "source": [
    "How long will it take the hybrid job to run? \n",
    "Let's first check if the device is currently available with `AwsDevice(device_arn).is_available()`. "
   ]
  },
  {
   "cell_type": "code",
   "execution_count": 16,
   "metadata": {
    "ExecuteTime": {
     "end_time": "2024-02-19T21:42:19.614223Z",
     "start_time": "2024-02-19T21:42:19.443623Z"
    }
   },
   "outputs": [
    {
     "data": {
      "text/plain": "True"
     },
     "execution_count": 16,
     "metadata": {},
     "output_type": "execute_result"
    }
   ],
   "source": [
    "from braket.aws import AwsDevice\n",
    "\n",
    "AwsDevice(device_arn).is_available"
   ]
  },
  {
   "cell_type": "markdown",
   "metadata": {},
   "source": [
    "Next, we check the hybrid job queue depth with `AwsDevice(device_arn).queue_depth().jobs`. "
   ]
  },
  {
   "cell_type": "code",
   "execution_count": 17,
   "metadata": {
    "ExecuteTime": {
     "end_time": "2024-02-19T21:42:19.958746Z",
     "start_time": "2024-02-19T21:42:19.615073Z"
    }
   },
   "outputs": [
    {
     "data": {
      "text/plain": "'0'"
     },
     "execution_count": 17,
     "metadata": {},
     "output_type": "execute_result"
    }
   ],
   "source": [
    "AwsDevice(device_arn).queue_depth().jobs"
   ]
  },
  {
   "cell_type": "markdown",
   "metadata": {},
   "source": [
    "If the device is available and there are no hybrid jobs currently running, then it should take about 5 minutes to complete. \n",
    "\n",
    "<div class=\"alert alert-block alert-warning\">\n",
    "<b>Caution:</b> Running the following cell will only run once the QPU is available. This may take a long time and will result in <a href=\"https://aws.amazon.com/braket/pricing/\">usage fees</a> charged to your AWS account. Only uncomment the cell if you are comfortable with the potential wait-time and costs. We recommend monitoring the Billing & Cost Management Dashboard on the AWS console and being aware that hybrid jobs involving a large number of qubits can be costly.\n",
    "</div>"
   ]
  },
  {
   "cell_type": "code",
   "execution_count": 18,
   "metadata": {
    "ExecuteTime": {
     "end_time": "2024-02-19T21:42:29.440989Z",
     "start_time": "2024-02-19T21:42:19.960142Z"
    }
   },
   "outputs": [
    {
     "name": "stdout",
     "output_type": "stream",
     "text": [
      "AwsQuantumJob('arn':'arn:aws:braket:us-west-2:667256736152:job/qubit-rotation-1708378939963')\n"
     ]
    }
   ],
   "source": [
    "job = qubit_rotation(stepsize=0.2, iterations=20)\n",
    "print(job)"
   ]
  },
  {
   "cell_type": "markdown",
   "metadata": {},
   "source": [
    "Once the hybrid job has completed, we can retrieve the results with `job.results()`."
   ]
  },
  {
   "cell_type": "code",
   "execution_count": 19,
   "metadata": {
    "ExecuteTime": {
     "end_time": "2024-02-19T21:49:52.814493Z",
     "start_time": "2024-02-19T21:42:29.442078Z"
    }
   },
   "outputs": [
    {
     "name": "stdout",
     "output_type": "stream",
     "text": [
      "{'params': tensor([0.236, 2.649], requires_grad=True), 'costs': [array(0.978), array(0.954), array(0.962), array(0.93), array(0.874), array(0.848), array(0.816), array(0.744), array(0.638), array(0.528), array(0.328), array(0.24), array(0.072), array(-0.034), array(-0.202), array(-0.32), array(-0.498), array(-0.616), array(-0.672), array(-0.752)], 'braket_tasks_cost': 0.375}\n",
      "CPU times: user 160 ms, sys: 16.6 ms, total: 177 ms\n",
      "Wall time: 7min 23s\n"
     ]
    }
   ],
   "source": [
    "%%time\n",
    "results = job.result()\n",
    "print(results)"
   ]
  },
  {
   "cell_type": "code",
   "execution_count": 20,
   "metadata": {
    "ExecuteTime": {
     "end_time": "2024-02-19T21:50:26.336487Z",
     "start_time": "2024-02-19T21:49:52.820854Z"
    }
   },
   "outputs": [
    {
     "name": "stdout",
     "output_type": "stream",
     "text": [
      "Minimized circuit output: 0.37261070647126565\n",
      "Optimized parameters: [0.4839502  1.13630274]\n"
     ]
    },
    {
     "data": {
      "text/plain": "<Figure size 640x480 with 1 Axes>",
      "image/png": "[encoded data removed]"
     },
     "metadata": {},
     "output_type": "display_data"
    }
   ],
   "source": [
    "plt.plot(results[\"costs\"], \"o-\")\n",
    "plt.xlabel(\"Iterations\")\n",
    "plt.ylabel(\"Cost\")\n",
    "\n",
    "print(\"Minimized circuit output:\", circuit(params))\n",
    "print(\"Optimized parameters:\", params)"
   ]
  },
  {
   "cell_type": "code",
   "execution_count": 21,
   "metadata": {
    "ExecuteTime": {
     "end_time": "2024-02-19T21:50:26.756331Z",
     "start_time": "2024-02-19T21:50:26.338055Z"
    }
   },
   "outputs": [
    {
     "name": "stdout",
     "output_type": "stream",
     "text": [
      "Note: Charges shown are estimates based on your Amazon Braket simulator and quantum processing unit (QPU) task usage. Estimated charges shown may differ from your actual charges. Estimated charges do not factor in any discounts or credits, and you may experience additional charges based on your use of other services such as Amazon Elastic Compute Cloud (Amazon EC2).\n",
      "Estimated cost to run this example: 0.386 USD\n"
     ]
    }
   ],
   "source": [
    "job_cost = job.result()[\"braket_tasks_cost\"]\n",
    "sv1_cost = float(braket_tasks_cost.simulator_tasks_cost())\n",
    "\n",
    "print(\n",
    "    \"Note: Charges shown are estimates based on your Amazon Braket simulator and quantum processing unit (QPU) task usage. Estimated charges shown may differ from your actual charges. Estimated charges do not factor in any discounts or credits, and you may experience additional charges based on your use of other services such as Amazon Elastic Compute Cloud (Amazon EC2).\"\n",
    ")\n",
    "print(f\"Estimated cost to run this example: {job_cost + sv1_cost :.3f} USD\")"
   ]
  }
 ],
 "metadata": {
  "kernelspec": {
   "name": "python3",
   "language": "python",
   "display_name": "Python 3 (ipykernel)"
  },
  "language_info": {
   "codemirror_mode": {
    "name": "ipython",
    "version": 3
   },
   "file_extension": ".py",
   "mimetype": "text/x-python",
   "name": "python",
   "nbconvert_exporter": "python",
   "pygments_lexer": "ipython3",
   "version": "3.10.13"
  },
  "vscode": {
   "interpreter": {
    "hash": "590fab68195cf107911461461f81d5c472d3d6127f579badfcfad30f03e5cab2"
   }
  }
 },
 "nbformat": 4,
 "nbformat_minor": 4
}
