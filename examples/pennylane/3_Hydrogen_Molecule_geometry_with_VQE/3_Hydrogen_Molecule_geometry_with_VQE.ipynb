{
 "cells": [
  {
   "cell_type": "markdown",
   "metadata": {},
   "source": [
    "# Hydrogen Molecule geometry with VQE"
   ]
  },
  {
   "cell_type": "markdown",
   "metadata": {},
   "source": [
    "This tutorial will show you how to solve an important problem for quantum chemistry using PennyLane on Amazon Braket: finding the ground-state energy of a molecule. The problem can be tackled using near-term quantum hardware by implementing the variational quantum eigensolver (VQE) algorithm. You can find further details on quantum chemistry and VQE in both the [Braket VQE](../../hybrid_quantum_algorithms/VQE_Chemistry/VQE_chemistry_braket.ipynb) notebook and PennyLane [tutorials](https://pennylane.ai/qml/demos/tutorial_qubit_rotation.html)."
   ]
  },
  {
   "cell_type": "markdown",
   "metadata": {},
   "source": [
    "<div class=\"alert alert-block alert-info\">\n",
    "<b>Note</b> This notebook requires pennylane>=0.18 and amazon-braket-pennylane-plugin>=1.5.0\n",
    "</div>"
   ]
  },
  {
   "cell_type": "markdown",
   "metadata": {},
   "source": [
    "## From quantum chemistry to quantum circuits"
   ]
  },
  {
   "cell_type": "markdown",
   "metadata": {},
   "source": [
    "Our first step is to convert our chemistry problem into something that can be tackled with a quantum computer. To do this, we will use PennyLane's ``qchem`` package. If running on a local machine, the ``qchem`` package must be installed separately by following [these](https://pennylane.readthedocs.io/en/stable/introduction/chemistry.html) instructions."
   ]
  },
  {
   "cell_type": "code",
   "execution_count": 1,
   "metadata": {},
   "outputs": [],
   "source": [
    "import pennylane as qml\n",
    "from pennylane import qchem\n",
    "from pennylane import numpy as np"
   ]
  },
  {
   "cell_type": "markdown",
   "metadata": {},
   "source": [
    "The input chemistry data is often provided in the form of a geometry file containing details about the molecule. Here, we consider the hydrogen molecule $\\mathrm{H}_2$ whose atomic structure is stored in the [h2.xyz](./hydrogen_molecule/h2.xyz) file. The qubit Hamiltonian for $\\mathrm{H}_2$ is built using the ``qchem`` package."
   ]
  },
  {
   "cell_type": "code",
   "execution_count": 2,
   "metadata": {},
   "outputs": [
    {
     "name": "stdout",
     "output_type": "stream",
     "text": [
      "  (-0.24274280046588792) [Z2]\n",
      "+ (-0.24274280046588792) [Z3]\n",
      "+ (-0.04207898539364302) [I0]\n",
      "+ (0.17771287502681438) [Z0]\n",
      "+ (0.1777128750268144) [Z1]\n",
      "+ (0.12293305045316086) [Z0 Z2]\n",
      "+ (0.12293305045316086) [Z1 Z3]\n",
      "+ (0.16768319431887935) [Z0 Z3]\n",
      "+ (0.16768319431887935) [Z1 Z2]\n",
      "+ (0.1705973836507714) [Z0 Z1]\n",
      "+ (0.1762764072240811) [Z2 Z3]\n",
      "+ (-0.044750143865718496) [Y0 Y1 X2 X3]\n",
      "+ (-0.044750143865718496) [X0 X1 Y2 Y3]\n",
      "+ (0.044750143865718496) [Y0 X1 X2 Y3]\n",
      "+ (0.044750143865718496) [X0 Y1 Y2 X3]\n"
     ]
    }
   ],
   "source": [
    "symbols, coordinates = qchem.read_structure(\"hydrogen_molecule/h2.xyz\")\n",
    "h, qubits = qchem.molecular_hamiltonian(symbols, coordinates, name=\"h2\")\n",
    "print(h)"
   ]
  },
  {
   "cell_type": "markdown",
   "metadata": {},
   "source": [
    "In the VQE algorithm, we compute the energy of the $\\mathrm{H}_2$ molecule by measuring the expectation value of the above Hamiltonian on a variational quantum circuit. Our objective is to train the parameters of the circuit so that the expectation value of the Hamiltonian is minimized, thereby finding the ground state energy of the molecule.\n",
    "\n",
    "In this tutorial, we also want to compute the total spin. To that aim, we use the ``qchem`` package to build the total-spin operator $S^2$:"
   ]
  },
  {
   "cell_type": "code",
   "execution_count": 3,
   "metadata": {},
   "outputs": [
    {
     "name": "stdout",
     "output_type": "stream",
     "text": [
      "  ((0.375+0j)) [Z0]\n",
      "+ ((0.375+0j)) [Z1]\n",
      "+ ((0.375+0j)) [Z2]\n",
      "+ ((0.375+0j)) [Z3]\n",
      "+ ((0.75+0j)) [I0]\n",
      "+ ((-0.375+0j)) [Z0 Z1]\n",
      "+ ((-0.375+0j)) [Z2 Z3]\n",
      "+ ((-0.125+0j)) [Z0 Z3]\n",
      "+ ((-0.125+0j)) [Z1 Z2]\n",
      "+ ((0.125+0j)) [Z0 Z2]\n",
      "+ ((0.125+0j)) [Z1 Z3]\n",
      "+ ((-0.125+0j)) [Y0 X1 X2 Y3]\n",
      "+ ((-0.125+0j)) [X0 Y1 Y2 X3]\n",
      "+ ((0.125+0j)) [Y0 X1 Y2 X3]\n",
      "+ ((0.125+0j)) [Y0 Y1 X2 X3]\n",
      "+ ((0.125+0j)) [Y0 Y1 Y2 Y3]\n",
      "+ ((0.125+0j)) [X0 X1 X2 X3]\n",
      "+ ((0.125+0j)) [X0 X1 Y2 Y3]\n",
      "+ ((0.125+0j)) [X0 Y1 X2 Y3]\n"
     ]
    }
   ],
   "source": [
    "electrons = 2  # Molecular hydrogen has two electrons\n",
    "\n",
    "S2 = qchem.spin2(electrons, qubits)\n",
    "print(S2)"
   ]
  },
  {
   "cell_type": "markdown",
   "metadata": {},
   "source": [
    "## Defining an ansatz circuit"
   ]
  },
  {
   "cell_type": "markdown",
   "metadata": {},
   "source": [
    "We now set up the ansatz circuit that will be trained to prepare the ground state of the Hamiltonian.\n",
    "\n",
    "This tutorial uses a chemically-inspired circuit, the [`AllSinglesDoubles`](https://docs.pennylane.ai/en/stable/code/api/pennylane.AllSinglesDoubles.html) ansatz of [Delgado et al. (2020)](https://arxiv.org/abs/2106.13840). To use this, we must define some additional inputs from quantum chemistry."
   ]
  },
  {
   "cell_type": "code",
   "execution_count": 4,
   "metadata": {},
   "outputs": [],
   "source": [
    "# Hartree-Fock state\n",
    "hf_state = qchem.hf_state(electrons, qubits)\n",
    "# generate single- and double-excitations\n",
    "singles, doubles = qchem.excitations(electrons, qubits)"
   ]
  },
  {
   "cell_type": "markdown",
   "metadata": {},
   "source": [
    "<div class=\"alert alert-block alert-info\">\n",
    "<b>Note</b> A variety of alternative ansätze and templates are <a href=\"https://pennylane.readthedocs.io/en/stable/introduction/templates.html#quantum-chemistry-templates\">available</a> and different choices will result in varying circuit depth and number of trainable parameters.\n",
    "</div>"
   ]
  },
  {
   "cell_type": "markdown",
   "metadata": {},
   "source": [
    "Our ansatz circuit is then simple to define:"
   ]
  },
  {
   "cell_type": "code",
   "execution_count": 5,
   "metadata": {},
   "outputs": [],
   "source": [
    "def circuit(params, wires):\n",
    "    qml.templates.AllSinglesDoubles(params, wires, hf_state, singles, doubles)"
   ]
  },
  {
   "cell_type": "markdown",
   "metadata": {},
   "source": [
    "Note that an output measurement has not yet been defined! This is the next step."
   ]
  },
  {
   "cell_type": "markdown",
   "metadata": {},
   "source": [
    "## Measuring the energy and total spin"
   ]
  },
  {
   "cell_type": "markdown",
   "metadata": {},
   "source": [
    "Now we instantiate a device to run our circuits; we will use the Braket local simulator:"
   ]
  },
  {
   "cell_type": "code",
   "execution_count": 6,
   "metadata": {},
   "outputs": [],
   "source": [
    "dev = qml.device(\"lightning.qubit\", wires=qubits)"
   ]
  },
  {
   "cell_type": "markdown",
   "metadata": {},
   "source": [
    "We discussed earlier that we want to minimize the expectation value of the qubit Hamiltonian, corresponding to the energy of $\\mathrm{H}_2$. The expectation values of this Hamiltonian and the total spin $\\hat{S}^2$ operator can be defined using:"
   ]
  },
  {
   "cell_type": "code",
   "execution_count": 7,
   "metadata": {},
   "outputs": [],
   "source": [
    "wires = dev.wires.tolist()\n",
    "\n",
    "\n",
    "@qml.qnode(dev)\n",
    "def energy_expval(params):\n",
    "    circuit(params, wires)\n",
    "    return qml.expval(h)\n",
    "\n",
    "\n",
    "@qml.qnode(dev)\n",
    "def S2_expval(params):\n",
    "    circuit(params, wires)\n",
    "    return qml.expval(S2)"
   ]
  },
  {
   "cell_type": "markdown",
   "metadata": {},
   "source": [
    "Notice that `dev` was created without a `shots` argument. This means it will calculate the exact expectation value of the Hamiltonian, and can do so in a single evaluation.\n",
    "\n",
    "Let's now initialize some random values and evaluate the energy and spin. The total spin $S$ of the prepared state can be obtained from the expectation value $\\langle \\hat{S}^2 \\rangle$ using $S=-\\frac{1}{2} + \\sqrt{\\frac{1}{4} + \\langle \\hat{S}^2 \\rangle}$. We can define a function to compute $S$:"
   ]
  },
  {
   "cell_type": "code",
   "execution_count": 8,
   "metadata": {},
   "outputs": [],
   "source": [
    "def spin(params):\n",
    "    return -0.5 + np.sqrt(1 / 4 + S2_expval(params))"
   ]
  },
  {
   "cell_type": "code",
   "execution_count": 9,
   "metadata": {},
   "outputs": [],
   "source": [
    "np.random.seed(1967)\n",
    "params = np.random.normal(0, np.pi, len(singles) + len(doubles))"
   ]
  },
  {
   "cell_type": "markdown",
   "metadata": {},
   "source": [
    "The energy and total spin are then"
   ]
  },
  {
   "cell_type": "code",
   "execution_count": 10,
   "metadata": {},
   "outputs": [
    {
     "name": "stdout",
     "output_type": "stream",
     "text": [
      "Energy: -0.2730496738441154\n",
      "Spin:   0.11000908988780544\n"
     ]
    },
    {
     "name": "stderr",
     "output_type": "stream",
     "text": [
      "/home/drbeach/miniconda3/envs/decorator/lib/python3.10/site-packages/pennylane_lightning/core/_serialize.py:133: ComplexWarning: Casting complex values to real discards the imaginary part\n",
      "  coeffs = np.array(unwrap(observable.coeffs)).astype(self.rtype)\n"
     ]
    }
   ],
   "source": [
    "print(\"Energy:\", energy_expval(params))\n",
    "print(\"Spin:  \", spin(params))"
   ]
  },
  {
   "cell_type": "markdown",
   "metadata": {},
   "source": [
    "Since we have picked random parameters, the measured energy does not correspond to the ground state energy and the prepared state is not an eigenstate of the total-spin operator. We must now train the parameters to find the minimum energy."
   ]
  },
  {
   "cell_type": "markdown",
   "metadata": {},
   "source": [
    "## Minimizing the energy"
   ]
  },
  {
   "cell_type": "markdown",
   "metadata": {},
   "source": [
    "The energy can be minimized by choosing an optimizer and running the standard optimization loop:"
   ]
  },
  {
   "cell_type": "code",
   "execution_count": 11,
   "metadata": {},
   "outputs": [],
   "source": [
    "# Lets choose RMSPropOptimizer.\n",
    "# Other alternatives: GradientDescentOptimizer, AdagradOptimizer, AdamOptimizer, ...\n",
    "opt = qml.RMSPropOptimizer(stepsize=0.2)"
   ]
  },
  {
   "cell_type": "code",
   "execution_count": 12,
   "metadata": {},
   "outputs": [],
   "source": [
    "iterations = 10"
   ]
  },
  {
   "cell_type": "code",
   "execution_count": 13,
   "metadata": {},
   "outputs": [],
   "source": [
    "import time\n",
    "from braket.jobs import log_metric\n",
    "\n",
    "\n",
    "def run_vqe(energy_expval, spin, opt, initial_params, iterations):\n",
    "    energies = []\n",
    "    spins = []\n",
    "    params = initial_params\n",
    "\n",
    "    start = time.time()\n",
    "    for i in range(iterations):\n",
    "        params = opt.step(energy_expval, params)\n",
    "\n",
    "        e = energy_expval(params)\n",
    "        s = spin(params)\n",
    "\n",
    "        energies.append(e)\n",
    "        spins.append(s)\n",
    "\n",
    "        log_metric(metric_name=\"energy\", value=e, iteration_number=i)\n",
    "\n",
    "        print(f\"Completed iteration {i + 1}\")\n",
    "        print(\"Energy:\", e)\n",
    "        print(\"Total spin:\", s)\n",
    "        print(\"----------------\")\n",
    "\n",
    "    print(f\"Optimized energy: {e} Ha\")\n",
    "    print(f\"Corresponding total spin: {s}\")\n",
    "    print(f\"Elapsed: {time.time()-start} s\")\n",
    "    return energies, spins"
   ]
  },
  {
   "cell_type": "code",
   "execution_count": 14,
   "metadata": {},
   "outputs": [
    {
     "name": "stdout",
     "output_type": "stream",
     "text": [
      "Metrics - timestamp=1694699038.8200858; energy=-0.5602851198326602; iteration_number=0;\n",
      "Completed iteration 1\n",
      "Energy: -0.5602851198326602\n",
      "Total spin: 0.13287789321454435\n",
      "----------------\n"
     ]
    },
    {
     "name": "stdout",
     "output_type": "stream",
     "text": [
      "Metrics - timestamp=1694699039.365741; energy=-0.7773309017116152; iteration_number=1;\n",
      "Completed iteration 2\n",
      "Energy: -0.7773309017116152\n",
      "Total spin: 0.09488198120583469\n",
      "----------------\n",
      "Metrics - timestamp=1694699039.8680837; energy=-1.0083677187505573; iteration_number=2;\n",
      "Completed iteration 3\n",
      "Energy: -1.0083677187505573\n",
      "Total spin: 0.04940760029256386\n",
      "----------------\n",
      "Metrics - timestamp=1694699040.4257739; energy=-1.1060574430621746; iteration_number=3;\n",
      "Completed iteration 4\n",
      "Energy: -1.1060574430621746\n",
      "Total spin: 0.01902625475224251\n",
      "----------------\n",
      "Metrics - timestamp=1694699040.8857205; energy=-1.130111250928124; iteration_number=4;\n",
      "Completed iteration 5\n",
      "Energy: -1.130111250928124\n",
      "Total spin: 0.0056347819636390906\n",
      "----------------\n",
      "Metrics - timestamp=1694699041.3418097; energy=-1.1351064397742514; iteration_number=5;\n",
      "Completed iteration 6\n",
      "Energy: -1.1351064397742514\n",
      "Total spin: 0.0012625902560892133\n",
      "----------------\n",
      "Metrics - timestamp=1694699041.9816144; energy=-1.136021579371058; iteration_number=6;\n",
      "Completed iteration 7\n",
      "Energy: -1.136021579371058\n",
      "Total spin: 0.00022566866798245933\n",
      "----------------\n",
      "Metrics - timestamp=1694699042.4952528; energy=-1.1361670884772963; iteration_number=7;\n",
      "Completed iteration 8\n",
      "Energy: -1.1361670884772963\n",
      "Total spin: 3.2154663963668284e-05\n",
      "----------------\n",
      "Metrics - timestamp=1694699043.0378883; energy=-1.1361867905470242; iteration_number=8;\n",
      "Completed iteration 9\n",
      "Energy: -1.1361867905470242\n",
      "Total spin: 3.626608394258213e-06\n",
      "----------------\n",
      "Metrics - timestamp=1694699043.6178195; energy=-1.1361890094090557; iteration_number=9;\n",
      "Completed iteration 10\n",
      "Energy: -1.1361890094090557\n",
      "Total spin: 3.158279299197986e-07\n",
      "----------------\n",
      "Optimized energy: -1.1361890094090557 Ha\n",
      "Corresponding total spin: 3.158279299197986e-07\n",
      "Elapsed: 5.331370115280151 s\n"
     ]
    }
   ],
   "source": [
    "energies, spins = run_vqe(energy_expval, spin, opt, params, iterations)"
   ]
  },
  {
   "cell_type": "markdown",
   "metadata": {},
   "source": [
    "The exact value for the ground state energy of molecular hydrogen has been theoretically calculated as ``-1.136189454088`` Hartrees (Ha). Notice that the optimized energy is off by less than $10^{-5}$ of a Hartree. Furthermore, the optimized state is an eigenstate of the total-spin operator with eigenvalue $S=0$ as expected for the ground state of the $\\mathrm{H}_2$ molecule. Hence, our above results look very promising! We would get even closer to the theory values if we increase the number of iterations.\n",
    "\n",
    "Let's visualize how the two quantities evolved during optimization:"
   ]
  },
  {
   "cell_type": "code",
   "execution_count": 16,
   "metadata": {},
   "outputs": [
    {
     "data": {
      "image/png": "[encoded data removed]",
      "text/plain": [
       "<Figure size 640x480 with 1 Axes>"
      ]
     },
     "metadata": {},
     "output_type": "display_data"
    }
   ],
   "source": [
    "import matplotlib.pyplot as plt\n",
    "\n",
    "theory_energy = -1.136189454088\n",
    "theory_spin = 0\n",
    "\n",
    "plt.hlines(theory_energy, 0, iterations, linestyles=\"o-\", colors=\"black\")\n",
    "plt.plot(energies)\n",
    "plt.xlabel(\"Steps\")\n",
    "plt.ylabel(\"Energy\")\n",
    "\n",
    "axs = plt.gca()"
   ]
  },
  {
   "cell_type": "markdown",
   "metadata": {},
   "source": [
    "We have learned how to efficiently find the ground state energy of a molecule using the PennyLane/Braket pipeline!"
   ]
  },
  {
   "cell_type": "markdown",
   "metadata": {},
   "source": [
    "## Scaling up with hybrid jobs\n",
    "\n",
    "For long-running VQE algorithms, you can run the entire algorithm on Amazon Braket by using Hybrid Jobs. As a fully managed solution, hybrid jobs give you access to monitor near-real time metrics like the energy during the training phase. \n",
    "\n",
    "Amazon Braket Hybrid Jobs provides fully managed orchestration of hybrid quantum-classical algorithms, combining Amazon EC2 compute resources with Amazon Braket QPU access. Quantum tasks created in a hybrid job have priority queueing over individual quantum tasks so that your algorithms will not be interrupted by fluctuations in the quantum task queue. Each QPU maintains a separate hybrid jobs queue, ensuring that only one hybrid job can run at any given time.\n",
    "\n",
    "\n",
    "You can run your local Python code as an Amazon Braket hybrid job. You can do this by annotating your code with an @hybrid_job decorator, as shown in the following code example. Only Python 3.10 is supported by default. For custom environments, you can opt to use a custom container from Amazon Elastic Container Registry (ECR) (see [BYOC](https://docs.aws.amazon.com/braket/latest/developerguide/braket-jobs-byoc.html)). \n",
    "\n",
    "The device argument in the @hybrid_job decorator specifies the device that the hybrid job will have priority access to. \n",
    "In this case, we run with a simulator, so we don't need to target a QPU. \n",
    "If you want to run a large number of circuits, consider using built-in MPI support to run local simulators on multiple instances within a single hybrid job. \n",
    "See [embedded simulators](https://docs.aws.amazon.com/braket/latest/developerguide/pennylane-embedded-simulators.html) for further information. "
   ]
  },
  {
   "cell_type": "code",
   "execution_count": 22,
   "metadata": {},
   "outputs": [],
   "source": [
    "from braket.jobs.decorator import hybrid_job\n",
    "from braket.jobs import InstanceConfig\n",
    "from braket.tracking import Tracker\n",
    "\n",
    "large_instance = InstanceConfig(instanceType=\"ml.c5.xlarge\")\n",
    "\n",
    "\n",
    "@hybrid_job(device=None, requirements=\"requirements.txt\", instance_config=large_instance)\n",
    "def run_large_vqe(iterations):\n",
    "    task_tracker = Tracker().start()  # track Braket quantum tasks costs\n",
    "\n",
    "    energies, spins = run_vqe(energy_expval, spin, opt, params, iterations)\n",
    "\n",
    "    return {\n",
    "        \"energies\": energies,\n",
    "        \"spins\": spins,\n",
    "        \"braket_tasks_cost\": task_tracker.qpu_tasks_cost() + task_tracker.simulator_tasks_cost(),\n",
    "    }"
   ]
  },
  {
   "cell_type": "markdown",
   "metadata": {},
   "source": [
    "In the following cell, we create the hybrid job by calling the function normally. \n",
    "Note that the function returns the handle to the hybrid job which runs asynchronously. \n",
    "Once the hybrid job has completed, we retrieve the results.  \n",
    "\n",
    "<div class=\"alert alert-block alert-warning\">\n",
    "<b>Caution:</b> Running the following cell will take a long time and will result in <a href=\"https://aws.amazon.com/braket/pricing/\">usage fees</a> charged to your AWS account. Only uncomment the cell if you are comfortable with the potential wait-time and costs. We recommend monitoring the Billing & Cost Management Dashboard on the AWS console and being aware that hybrid jobs involving a large number of qubits can be costly.\n",
    "</div>"
   ]
  },
  {
   "cell_type": "code",
   "execution_count": 23,
   "metadata": {},
   "outputs": [
    {
     "name": "stdout",
     "output_type": "stream",
     "text": [
      "AwsQuantumJob('arn':'arn:aws:braket:us-west-1:961591465522:job/run-large-vqe-1694699392')\n"
     ]
    }
   ],
   "source": [
    "job = run_large_vqe(iterations=100)\n",
    "print(job)"
   ]
  },
  {
   "cell_type": "markdown",
   "metadata": {},
   "source": [
    "You retrieve the results when the algorithm is complete with"
   ]
  },
  {
   "cell_type": "code",
   "execution_count": 24,
   "metadata": {},
   "outputs": [
    {
     "name": "stdout",
     "output_type": "stream",
     "text": [
      "{'energies': [-0.5518722538934919, -0.7000522134235719, -0.8972923212695556, -1.0368719370639448, -1.099264788909685, -1.123543299282019, -1.1321790602975015, -1.1350176960897473, -1.135876641257895, -1.136113983142616, -1.1361731551444707, -1.1361862845506487, -1.1361887964785018, -1.136189100067061, -1.1361888256244164, -1.1361878440948041, -1.136184517421737, -1.136171634520324, -1.1361141822970662, -1.1358207809595064, -1.1341615293414338, -1.1255588865113555, -1.1083543843938546, -1.1165457231795608, -1.1285129702559529, -1.1332676486764584, -1.13489124082808, -1.1354831427359162, -1.1357151177457028, -1.1357980244190833, -1.1357960665746663, -1.1357133425186199, -1.135505249958945, -1.1350453612516358, -1.1340389470217476, -1.1319386029066634, -1.128399794809995, -1.1251371859929706, -1.1253362646243155, -1.1282307893029635, -1.1310321039897535, -1.1328166662322459, -1.1337920728197544, -1.134272416141835, -1.1344445481821455, -1.134385123947571, -1.1340957549241657, -1.1335252492831915, -1.1326045679660341, -1.1313479261987411, -1.1300323099452156, -1.1292110921424234, -1.1288403576286925, -1.1165814052160252, -1.1104709874508336, -1.1221972847590054, -1.1062797645785853, -1.1236972349504304, -1.131354092067281, -1.1324300878626572, -1.1324489178718575, -1.1320240562826984, -1.1314909756400668, -1.130989378363668, -1.1307056782879261, -1.130682880725968, -1.1308739829626449, -1.1309970894809858, -1.1307155932024706, -1.1290192120350693, -1.1259374728973348, -1.1227452414864643, -1.1223948653469698, -1.1220133244602712, -1.1257764171414155, -1.1279111494941902, -1.1294367846956483, -1.1295689759428231, -1.129729416476743, -1.1296511515311907, -1.1298271479810011, -1.1297117272866304, -1.1295492281942996, -1.1285932865416475, -1.1276563591981419, -1.1260781408198546, -1.125829511629117, -1.1254674929165074, -1.126789728555006, -1.1273238936388792, -1.1283615790763157, -1.1284356962293811, -1.1288221004199295, -1.128681072558298, -1.1288986578880569, -1.1286164324206573, -1.1286110583740951, -1.1279461060298395, -1.1277545389037236, -1.126993594876997], 'spins': [0.15969152963337307, 0.14300644899470516, 0.10138139829602, 0.05841186821393585, 0.029397735445742645, 0.012683239937044677, 0.004709419412889271, 0.0015356565172549574, 0.0004406833589031267, 0.00011150185434460891, 2.4696881266605963e-05, 4.754753258340294e-06, 7.841747289294432e-07, 1.0911400150082073e-07, 1.2487133216332325e-08, 1.1431044999454798e-09, 7.994138684352947e-11, 4.0460967909439205e-12, 1.354472090042691e-13, 2.55351295663786e-15, 0.0, 0.0, 0.0, 0.0, 0.0, 0.0, 0.0, 0.0, 0.0, 0.0, 0.0, 0.0, 0.0, 0.0, 0.0, 0.0, 0.0, 0.0, 0.0, 0.0, 0.0, 0.0, 1.1102230246251565e-16, 1.2212453270876722e-15, 1.2989609388114332e-14, 2.1027624086400465e-13, 2.9027891201849343e-12, 6.225742144039259e-11, 1.071276622965911e-09, 3.111561919233452e-08, 6.452631935438546e-07, 2.5292529111209383e-05, 0.0006399997550105008, 0.02202334940768491, 0.023387125739187553, 0.00014323633372348432, 0.02170534243427924, 0.008924483451035359, 0.0011653320891628072, 0.00028318776050340055, 4.20118264535807e-05, 9.254619878773518e-06, 1.8180103400489145e-07, 1.6820002656237065e-06, 7.728773849469128e-06, 3.197303458069012e-05, 7.044727336402712e-05, 0.00026524115510506707, 0.0006128256903052964, 0.0020868457994347445, 0.0029034966002127183, 0.0020474224299715793, 2.3579167678811075e-05, 0.0017447015886897788, 0.0014808377998545286, 0.0009302206737490382, 0.00023724142081527066, 8.150381326121892e-05, 4.9860782672661585e-06, 4.922125343309602e-06, 3.625440366539223e-05, 0.00013654588626654807, 0.00022004873164394034, 0.0004429655852600245, 0.00035337217327724435, 0.00020352331812834024, 5.450405596851837e-07, 0.00011379692052726487, 0.00019419990928959407, 0.0002149552341044192, 8.701497907670497e-05, 4.12347873987029e-05, 4.039451532711347e-06, 1.1237469552671797e-06, 1.304949285974022e-05, 4.336540565175184e-05, 5.27032653075965e-05, 7.286551505081285e-05, 3.572513339433758e-05, 1.0878138688719119e-05], 'braket_tasks_cost': 0}\n",
      "CPU times: user 115 ms, sys: 4.1 ms, total: 119 ms\n",
      "Wall time: 2min\n"
     ]
    }
   ],
   "source": [
    "%%time\n",
    "result = job.result()\n",
    "print(result)"
   ]
  },
  {
   "cell_type": "markdown",
   "metadata": {},
   "source": [
    "Now we plot the results from the hybrid job"
   ]
  },
  {
   "cell_type": "code",
   "execution_count": 25,
   "metadata": {},
   "outputs": [
    {
     "data": {
      "text/plain": [
       "Text(0, 0.5, 'Energy')"
      ]
     },
     "execution_count": 25,
     "metadata": {},
     "output_type": "execute_result"
    },
    {
     "data": {
      "image/png": "[encoded data removed]",
      "text/plain": [
       "<Figure size 640x480 with 1 Axes>"
      ]
     },
     "metadata": {},
     "output_type": "display_data"
    }
   ],
   "source": [
    "import matplotlib.pyplot as plt\n",
    "\n",
    "theory_energy = -1.136189454088\n",
    "theory_spin = 0\n",
    "\n",
    "plt.hlines(theory_energy, 0, iterations, linestyles=\"o-\", colors=\"black\")\n",
    "plt.plot(result[\"energies\"])\n",
    "plt.xlabel(\"Steps\")\n",
    "plt.ylabel(\"Energy\")"
   ]
  },
  {
   "cell_type": "markdown",
   "metadata": {},
   "source": [
    "## Running VQE with `shots>0`\n",
    "\n",
    "In the above example, we computed exact expectation values of our Hamiltonians, and were able to do so with a single evaluation each. This relies on the simulator having access to the exact state, and isn't possible if the device estimates the expectation with shots, like in the case of a QPU.\n",
    "\n",
    "Suppose we want to estimate the expectation value of the electronic Hamiltonian `h` with a finite number of shots. This Hamiltonian is composed of 15 individual observables that are tensor products of Pauli operators:"
   ]
  },
  {
   "cell_type": "code",
   "execution_count": null,
   "metadata": {},
   "outputs": [],
   "source": [
    "print(\"Number of Pauli terms in h:\", len(h.ops))"
   ]
  },
  {
   "cell_type": "markdown",
   "metadata": {},
   "source": [
    "A straightforward approach to measuring the expectation value would be to run the circuit 15 times, each time measuring one of the Pauli terms that form part of the Hamiltonian `h`. However, we can be more efficient. The Pauli terms can be separated into groups (see PennyLane's [grouping](https://pennylane.readthedocs.io/en/stable/code/qml_grouping.html) module) that share a basis, and thus can be measured concurrently on a single circuit. Elements of each group are known as qubit-wise commuting observables. The Hamiltonian `h` can be split into 5 groups:"
   ]
  },
  {
   "cell_type": "code",
   "execution_count": null,
   "metadata": {},
   "outputs": [],
   "source": [
    "groups, coeffs = qml.pauli.group_observables(h.ops, h.coeffs)\n",
    "print(\"Number of qubit-wise commuting groups:\", len(groups))"
   ]
  },
  {
   "cell_type": "markdown",
   "metadata": {},
   "source": [
    "Practically, this means that instead of executing 15 separate circuits, we just need to execute 5. This saving can become even more pronounced as the number of Pauli terms in the Hamiltonian increases. For example, switching to a larger molecule or a different chemical basis set can increase both the number of qubits and the number of terms.\n",
    "\n",
    "Fortunately, the PennyLane/Braket pipeline has builtin support for pre-grouping the observables in a Hamiltonian to minimize the number of device executions, saving both runtime and simulation fees when using remote devices."
   ]
  },
  {
   "cell_type": "markdown",
   "metadata": {},
   "source": [
    "<div align=\"center\"><img src=\"grouping.png\"/></div>"
   ]
  },
  {
   "cell_type": "markdown",
   "metadata": {},
   "source": [
    "To take advantage of grouping, we must instruct PennyLane to break up each Hamiltonian into qubit-wise commuting groups. We do this by computing the groups and storing them with the Hamiltonian; the device will use this information when to create the circuits to run."
   ]
  },
  {
   "cell_type": "code",
   "execution_count": null,
   "metadata": {},
   "outputs": [],
   "source": [
    "h.compute_grouping()\n",
    "S2.compute_grouping()"
   ]
  },
  {
   "cell_type": "markdown",
   "metadata": {},
   "source": [
    "Next, we instantiate the device, but this time with nonzero `shots`:"
   ]
  },
  {
   "cell_type": "code",
   "execution_count": null,
   "metadata": {},
   "outputs": [],
   "source": [
    "dev = qml.device(\"braket.local.qubit\", wires=qubits, shots=5000)"
   ]
  },
  {
   "cell_type": "markdown",
   "metadata": {},
   "source": [
    "And redefine our cost functions"
   ]
  },
  {
   "cell_type": "code",
   "execution_count": null,
   "metadata": {},
   "outputs": [],
   "source": [
    "wires = dev.wires.tolist()\n",
    "\n",
    "\n",
    "@qml.qnode(dev)\n",
    "def energy_expval(params):\n",
    "    circuit(params, wires)\n",
    "    return qml.expval(h)\n",
    "\n",
    "\n",
    "@qml.qnode(dev)\n",
    "def S2_expval(params):\n",
    "    circuit(params, wires)\n",
    "    return qml.expval(S2)\n",
    "\n",
    "\n",
    "def spin(params):\n",
    "    return -0.5 + np.sqrt(1 / 4 + S2_expval(params))"
   ]
  },
  {
   "cell_type": "markdown",
   "metadata": {},
   "source": [
    "Finally, we run the VQE experiment and get our expectation estimates:"
   ]
  },
  {
   "cell_type": "code",
   "execution_count": null,
   "metadata": {},
   "outputs": [],
   "source": [
    "energies, spins = run_vqe(energy_expval, spin, opt, params, iterations)"
   ]
  },
  {
   "cell_type": "markdown",
   "metadata": {},
   "source": [
    "We see that we get pretty close to the values found through exact calculation! In this experiment, we used the local simulator, but the same steps apply for QPUs, or any simulator that uses a nonzero number of shots!\n",
    "\n",
    "<div class=\"alert alert-block alert-info\">\n",
    "<b>What's next?</b> The <code>hydrogen_molecule</code> folder contains additional molecular structure files for different atomic separations of molecular hydrogen. Pick one of the separations and find the ground state energy. How does the ground state energy change with atomic separation? \n",
    "</div>"
   ]
  },
  {
   "cell_type": "code",
   "execution_count": null,
   "metadata": {},
   "outputs": [],
   "source": [
    "job_cost = job.result()[\"braket_tasks_cost\"]\n",
    "\n",
    "print(\n",
    "    \"Note: Charges shown are estimates based on your Amazon Braket simulator and quantum processing unit (QPU) task usage. Estimated charges shown may differ from your actual charges. Estimated charges do not factor in any discounts or credits, and you may experience additional charges based on your use of other services such as Amazon Elastic Compute Cloud (Amazon EC2).\"\n",
    ")\n",
    "print(f\"Estimated cost to run this example: {job_cost:.3f} USD\")"
   ]
  }
 ],
 "metadata": {
  "interpreter": {
   "hash": "4737fd5cefc361def96fec082a94ffa1860819024319231e0688a4bd6d8b89cd"
  },
  "kernelspec": {
   "display_name": "Python 3 (ipykernel)",
   "language": "python",
   "name": "python3"
  },
  "language_info": {
   "codemirror_mode": {
    "name": "ipython",
    "version": 3
   },
   "file_extension": ".py",
   "mimetype": "text/x-python",
   "name": "python",
   "nbconvert_exporter": "python",
   "pygments_lexer": "ipython3",
   "version": "3.10.12"
  }
 },
 "nbformat": 4,
 "nbformat_minor": 4
}
