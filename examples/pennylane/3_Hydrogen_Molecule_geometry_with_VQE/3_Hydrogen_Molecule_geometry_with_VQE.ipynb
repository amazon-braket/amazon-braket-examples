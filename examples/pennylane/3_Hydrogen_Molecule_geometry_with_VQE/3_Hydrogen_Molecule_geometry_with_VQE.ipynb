{
 "cells": [
  {
   "cell_type": "markdown",
   "metadata": {},
   "source": [
    "# Hydrogen Molecule geometry with VQE"
   ]
  },
  {
   "cell_type": "markdown",
   "metadata": {},
   "source": [
    "This tutorial will show you how to solve an important problem for quantum chemistry using PennyLane on Amazon Braket: finding the ground-state energy of a molecule. The problem can be tackled using near-term quantum hardware by implementing the variational quantum eigensolver (VQE) algorithm. You can find further details on quantum chemistry and VQE in both the [Braket VQE](../../hybrid_quantum_algorithms/VQE_Chemistry/VQE_chemistry_braket.ipynb) notebook and PennyLane [tutorials](https://pennylane.ai/qml/demos/tutorial_qubit_rotation.html)."
   ]
  },
  {
   "cell_type": "markdown",
   "metadata": {},
   "source": [
    "<div class=\"alert alert-block alert-info\">\n",
    "<b>Note</b> This notebook requires pennylane>=0.32 and amazon-braket-pennylane-plugin>=1.5.0\n",
    "</div>"
   ]
  },
  {
   "cell_type": "markdown",
   "metadata": {},
   "source": [
    "## From quantum chemistry to quantum circuits"
   ]
  },
  {
   "cell_type": "markdown",
   "metadata": {},
   "source": [
    "Our first step is to convert our chemistry problem into something that can be tackled with a quantum computer. To do this, we will use PennyLane's ``qchem`` package. If running on a local machine, the ``qchem`` package must be installed separately by following [these](https://pennylane.readthedocs.io/en/stable/introduction/chemistry.html) instructions."
   ]
  },
  {
   "cell_type": "code",
   "execution_count": 1,
   "metadata": {},
   "outputs": [],
   "source": [
    "import pennylane as qml\n",
    "from pennylane import qchem\n",
    "from pennylane import numpy as np"
   ]
  },
  {
   "cell_type": "markdown",
   "metadata": {},
   "source": [
    "The input chemistry data is often provided in the form of a geometry file containing details about the molecule. Here, we consider the hydrogen molecule $\\mathrm{H}_2$ whose atomic structure is stored in the [h2.xyz](./hydrogen_molecule/h2.xyz) file. The qubit Hamiltonian for $\\mathrm{H}_2$ is built using the ``qchem`` package."
   ]
  },
  {
   "cell_type": "code",
   "execution_count": 2,
   "metadata": {},
   "outputs": [
    {
     "name": "stdout",
     "output_type": "stream",
     "text": [
      "  (-0.24274280046588792) [Z2]\n",
      "+ (-0.24274280046588792) [Z3]\n",
      "+ (-0.04207898539364302) [I0]\n",
      "+ (0.17771287502681438) [Z0]\n",
      "+ (0.1777128750268144) [Z1]\n",
      "+ (0.12293305045316086) [Z0 Z2]\n",
      "+ (0.12293305045316086) [Z1 Z3]\n",
      "+ (0.16768319431887935) [Z0 Z3]\n",
      "+ (0.16768319431887935) [Z1 Z2]\n",
      "+ (0.1705973836507714) [Z0 Z1]\n",
      "+ (0.1762764072240811) [Z2 Z3]\n",
      "+ (-0.044750143865718496) [Y0 Y1 X2 X3]\n",
      "+ (-0.044750143865718496) [X0 X1 Y2 Y3]\n",
      "+ (0.044750143865718496) [Y0 X1 X2 Y3]\n",
      "+ (0.044750143865718496) [X0 Y1 Y2 X3]\n"
     ]
    }
   ],
   "source": [
    "symbols, coordinates = qchem.read_structure(\"hydrogen_molecule/h2.xyz\")\n",
    "h, qubits = qchem.molecular_hamiltonian(symbols, coordinates, name=\"h2\")\n",
    "print(h)"
   ]
  },
  {
   "cell_type": "markdown",
   "metadata": {},
   "source": [
    "In the VQE algorithm, we compute the energy of the $\\mathrm{H}_2$ molecule by measuring the expectation value of the above Hamiltonian on a variational quantum circuit. Our objective is to train the parameters of the circuit so that the expectation value of the Hamiltonian is minimized, thereby finding the ground state energy of the molecule.\n",
    "\n",
    "In this tutorial, we also want to compute the total spin. To that aim, we use the ``qchem`` package to build the total-spin operator $S^2$:"
   ]
  },
  {
   "cell_type": "code",
   "execution_count": 3,
   "metadata": {},
   "outputs": [
    {
     "name": "stdout",
     "output_type": "stream",
     "text": [
      "  ((0.375+0j)) [Z0]\n",
      "+ ((0.375+0j)) [Z1]\n",
      "+ ((0.375+0j)) [Z2]\n",
      "+ ((0.375+0j)) [Z3]\n",
      "+ ((0.75+0j)) [I0]\n",
      "+ ((-0.375+0j)) [Z0 Z1]\n",
      "+ ((-0.375+0j)) [Z2 Z3]\n",
      "+ ((-0.125+0j)) [Z0 Z3]\n",
      "+ ((-0.125+0j)) [Z1 Z2]\n",
      "+ ((0.125+0j)) [Z0 Z2]\n",
      "+ ((0.125+0j)) [Z1 Z3]\n",
      "+ ((-0.125+0j)) [Y0 X1 X2 Y3]\n",
      "+ ((-0.125+0j)) [X0 Y1 Y2 X3]\n",
      "+ ((0.125+0j)) [Y0 X1 Y2 X3]\n",
      "+ ((0.125+0j)) [Y0 Y1 X2 X3]\n",
      "+ ((0.125+0j)) [Y0 Y1 Y2 Y3]\n",
      "+ ((0.125+0j)) [X0 X1 X2 X3]\n",
      "+ ((0.125+0j)) [X0 X1 Y2 Y3]\n",
      "+ ((0.125+0j)) [X0 Y1 X2 Y3]\n"
     ]
    }
   ],
   "source": [
    "electrons = 2  # Molecular hydrogen has two electrons\n",
    "\n",
    "S2 = qchem.spin2(electrons, qubits)\n",
    "print(S2)"
   ]
  },
  {
   "cell_type": "markdown",
   "metadata": {},
   "source": [
    "## Defining an ansatz circuit"
   ]
  },
  {
   "cell_type": "markdown",
   "metadata": {},
   "source": [
    "We now set up the ansatz circuit that will be trained to prepare the ground state of the Hamiltonian.\n",
    "\n",
    "This tutorial uses a chemically-inspired circuit, the [`AllSinglesDoubles`](https://docs.pennylane.ai/en/stable/code/api/pennylane.AllSinglesDoubles.html) ansatz of [Delgado et al. (2020)](https://arxiv.org/abs/2106.13840). To use this, we must define some additional inputs from quantum chemistry."
   ]
  },
  {
   "cell_type": "code",
   "execution_count": 4,
   "metadata": {},
   "outputs": [],
   "source": [
    "# Hartree-Fock state\n",
    "hf_state = qchem.hf_state(electrons, qubits)\n",
    "# generate single- and double-excitations\n",
    "singles, doubles = qchem.excitations(electrons, qubits)"
   ]
  },
  {
   "cell_type": "markdown",
   "metadata": {},
   "source": [
    "<div class=\"alert alert-block alert-info\">\n",
    "<b>Note</b> A variety of alternative ansätze and templates are <a href=\"https://pennylane.readthedocs.io/en/stable/introduction/templates.html#quantum-chemistry-templates\">available</a> and different choices will result in varying circuit depth and number of trainable parameters.\n",
    "</div>"
   ]
  },
  {
   "cell_type": "markdown",
   "metadata": {},
   "source": [
    "Our ansatz circuit is then simple to define:"
   ]
  },
  {
   "cell_type": "code",
   "execution_count": 5,
   "metadata": {},
   "outputs": [],
   "source": [
    "def circuit(params, wires):\n",
    "    qml.templates.AllSinglesDoubles(params, wires, hf_state, singles, doubles)"
   ]
  },
  {
   "cell_type": "markdown",
   "metadata": {},
   "source": [
    "Note that an output measurement has not yet been defined! This is the next step."
   ]
  },
  {
   "cell_type": "markdown",
   "metadata": {},
   "source": [
    "## Measuring the energy and total spin"
   ]
  },
  {
   "cell_type": "markdown",
   "metadata": {},
   "source": [
    "Now we instantiate a device to run our circuits; we will use the Braket local simulator:"
   ]
  },
  {
   "cell_type": "code",
   "execution_count": 6,
   "metadata": {},
   "outputs": [],
   "source": [
    "dev = qml.device(\"lightning.qubit\", wires=qubits)"
   ]
  },
  {
   "cell_type": "markdown",
   "metadata": {},
   "source": [
    "We discussed earlier that we want to minimize the expectation value of the qubit Hamiltonian, corresponding to the energy of $\\mathrm{H}_2$. The expectation values of this Hamiltonian and the total spin $\\hat{S}^2$ operator can be defined using:"
   ]
  },
  {
   "cell_type": "code",
   "execution_count": 7,
   "metadata": {},
   "outputs": [],
   "source": [
    "wires = dev.wires.tolist()\n",
    "\n",
    "\n",
    "@qml.qnode(dev)\n",
    "def energy_expval(params):\n",
    "    circuit(params, wires)\n",
    "    return qml.expval(h)\n",
    "\n",
    "\n",
    "@qml.qnode(dev)\n",
    "def S2_expval(params):\n",
    "    circuit(params, wires)\n",
    "    return qml.expval(S2)"
   ]
  },
  {
   "cell_type": "markdown",
   "metadata": {},
   "source": [
    "Notice that `dev` was created without a `shots` argument. This means it will calculate the exact expectation value of the Hamiltonian, and can do so in a single evaluation.\n",
    "\n",
    "Let's now initialize some random values and evaluate the energy and spin. The total spin $S$ of the prepared state can be obtained from the expectation value $\\langle \\hat{S}^2 \\rangle$ using $S=-\\frac{1}{2} + \\sqrt{\\frac{1}{4} + \\langle \\hat{S}^2 \\rangle}$. We can define a function to compute $S$:"
   ]
  },
  {
   "cell_type": "code",
   "execution_count": 8,
   "metadata": {},
   "outputs": [],
   "source": [
    "def spin(params):\n",
    "    return -0.5 + np.sqrt(1 / 4 + S2_expval(params))"
   ]
  },
  {
   "cell_type": "code",
   "execution_count": 9,
   "metadata": {},
   "outputs": [],
   "source": [
    "np.random.seed(1967)\n",
    "params = np.random.normal(0, np.pi, len(singles) + len(doubles))"
   ]
  },
  {
   "cell_type": "markdown",
   "metadata": {},
   "source": [
    "The energy and total spin are then"
   ]
  },
  {
   "cell_type": "code",
   "execution_count": 10,
   "metadata": {},
   "outputs": [
    {
     "name": "stdout",
     "output_type": "stream",
     "text": [
      "Energy: -0.2730496738441154\n",
      "Spin:   0.11000908988780544\n"
     ]
    },
    {
     "name": "stderr",
     "output_type": "stream",
     "text": [
      "/home/drbeach/miniconda3/envs/decorator/lib/python3.10/site-packages/pennylane_lightning/core/_serialize.py:133: ComplexWarning: Casting complex values to real discards the imaginary part\n",
      "  coeffs = np.array(unwrap(observable.coeffs)).astype(self.rtype)\n"
     ]
    }
   ],
   "source": [
    "print(\"Energy:\", float(energy_expval(params)))\n",
    "print(\"Spin:  \", float(spin(params)))"
   ]
  },
  {
   "cell_type": "markdown",
   "metadata": {},
   "source": [
    "Since we have picked random parameters, the measured energy does not correspond to the ground state energy and the prepared state is not an eigenstate of the total-spin operator. We must now train the parameters to find the minimum energy."
   ]
  },
  {
   "cell_type": "markdown",
   "metadata": {},
   "source": [
    "## Minimizing the energy"
   ]
  },
  {
   "cell_type": "markdown",
   "metadata": {},
   "source": [
    "The energy can be minimized by choosing an optimizer and running the standard optimization loop:"
   ]
  },
  {
   "cell_type": "code",
   "execution_count": 11,
   "metadata": {},
   "outputs": [],
   "source": [
    "# Lets choose RMSPropOptimizer.\n",
    "# Other alternatives: GradientDescentOptimizer, AdagradOptimizer, AdamOptimizer, ...\n",
    "opt = qml.RMSPropOptimizer(stepsize=0.2)"
   ]
  },
  {
   "cell_type": "code",
   "execution_count": 12,
   "metadata": {},
   "outputs": [],
   "source": [
    "iterations = 7"
   ]
  },
  {
   "cell_type": "code",
   "execution_count": 13,
   "metadata": {},
   "outputs": [],
   "source": [
    "import time\n",
    "from braket.jobs.metrics import log_metric\n",
    "\n",
    "\n",
    "def run_vqe(energy_expval, spin, opt, initial_params, iterations):\n",
    "    energies = []\n",
    "    spins = []\n",
    "    params = initial_params\n",
    "\n",
    "    start = time.time()\n",
    "    for i in range(iterations):\n",
    "        params = opt.step(energy_expval, params)\n",
    "\n",
    "        e = energy_expval(params)\n",
    "        s = spin(params)\n",
    "\n",
    "        energies.append(e)\n",
    "        spins.append(s)\n",
    "\n",
    "        log_metric(metric_name=\"energy\", value=e, iteration_number=i)\n",
    "\n",
    "        print(f\"Completed iteration {i + 1}\")\n",
    "        print(\"Energy:\", e)\n",
    "        print(\"Total spin:\", s)\n",
    "        print(\"----------------\")\n",
    "\n",
    "    print(f\"Optimized energy: {e} Ha\")\n",
    "    print(f\"Corresponding total spin: {s}\")\n",
    "    print(f\"Elapsed: {time.time()-start} s\")\n",
    "    return energies, spins"
   ]
  },
  {
   "cell_type": "code",
   "execution_count": 14,
   "metadata": {},
   "outputs": [
    {
     "name": "stderr",
     "output_type": "stream",
     "text": [
      "/home/drbeach/miniconda3/envs/decorator/lib/python3.10/site-packages/pennylane_lightning/core/_serialize.py:133: ComplexWarning: Casting complex values to real discards the imaginary part\n",
      "  coeffs = np.array(unwrap(observable.coeffs)).astype(self.rtype)\n"
     ]
    },
    {
     "name": "stdout",
     "output_type": "stream",
     "text": [
      "Metrics - timestamp=1697139811.2718408; energy=-0.5602851198326602; iteration_number=0;\n",
      "Completed iteration 1\n",
      "Energy: -0.5602851198326602\n",
      "Total spin: 0.13287789321454435\n",
      "----------------\n",
      "Metrics - timestamp=1697139811.3152246; energy=-0.7773309017116151; iteration_number=1;\n",
      "Completed iteration 2\n",
      "Energy: -0.7773309017116151\n",
      "Total spin: 0.09488198120583491\n",
      "----------------\n",
      "Metrics - timestamp=1697139811.3421786; energy=-1.0083677187505569; iteration_number=2;\n",
      "Completed iteration 3\n",
      "Energy: -1.0083677187505569\n",
      "Total spin: 0.04940760029256386\n",
      "----------------\n",
      "Metrics - timestamp=1697139811.369656; energy=-1.1060574430621748; iteration_number=3;\n",
      "Completed iteration 4\n",
      "Energy: -1.1060574430621748\n",
      "Total spin: 0.01902625475224251\n",
      "----------------\n",
      "Metrics - timestamp=1697139811.3969185; energy=-1.1301112509281241; iteration_number=4;\n",
      "Completed iteration 5\n",
      "Energy: -1.1301112509281241\n",
      "Total spin: 0.0056347819636390906\n",
      "----------------\n",
      "Metrics - timestamp=1697139811.424453; energy=-1.1351064397742514; iteration_number=5;\n",
      "Completed iteration 6\n",
      "Energy: -1.1351064397742514\n",
      "Total spin: 0.0012625902560892133\n",
      "----------------\n",
      "Metrics - timestamp=1697139811.4511507; energy=-1.136021579371058; iteration_number=6;\n",
      "Completed iteration 7\n",
      "Energy: -1.136021579371058\n",
      "Total spin: 0.00022566866798245933\n",
      "----------------\n",
      "Metrics - timestamp=1697139811.4915578; energy=-1.1361670884772965; iteration_number=7;\n",
      "Completed iteration 8\n",
      "Energy: -1.1361670884772965\n",
      "Total spin: 3.215466396355726e-05\n",
      "----------------\n",
      "Metrics - timestamp=1697139811.5190527; energy=-1.1361867905470242; iteration_number=8;\n",
      "Completed iteration 9\n",
      "Energy: -1.1361867905470242\n",
      "Total spin: 3.626608394258213e-06\n",
      "----------------\n",
      "Metrics - timestamp=1697139811.5578496; energy=-1.1361890094090557; iteration_number=9;\n",
      "Completed iteration 10\n",
      "Energy: -1.1361890094090557\n",
      "Total spin: 3.158279299197986e-07\n",
      "----------------\n",
      "Optimized energy: -1.1361890094090557 Ha\n",
      "Corresponding total spin: 3.158279299197986e-07\n",
      "Elapsed: 0.35576891899108887 s\n"
     ]
    }
   ],
   "source": [
    "energies, spins = run_vqe(energy_expval, spin, opt, params, iterations)"
   ]
  },
  {
   "cell_type": "markdown",
   "metadata": {},
   "source": [
    "The exact value for the ground state energy of molecular hydrogen has been theoretically calculated as ``-1.136189454088`` Hartrees (Ha). Notice that the optimized energy is off by less than $10^{-5}$ of a Hartree. Furthermore, the optimized state is an eigenstate of the total-spin operator with eigenvalue $S=0$ as expected for the ground state of the $\\mathrm{H}_2$ molecule. Hence, our above results look very promising! We would get even closer to the theory values if we increase the number of iterations.\n",
    "\n",
    "Let's visualize how the two quantities evolved during optimization:"
   ]
  },
  {
   "cell_type": "code",
   "execution_count": 15,
   "metadata": {},
   "outputs": [
    {
     "data": {
      "image/png": "[encoded data removed]",
      "text/plain": [
       "<Figure size 640x480 with 1 Axes>"
      ]
     },
     "metadata": {},
     "output_type": "display_data"
    }
   ],
   "source": [
    "import matplotlib.pyplot as plt\n",
    "\n",
    "theory_energy = -1.136189454088\n",
    "theory_spin = 0\n",
    "\n",
    "plt.hlines(theory_energy, 0, iterations, colors=\"black\")\n",
    "plt.plot(energies, \"o-\")\n",
    "plt.xlabel(\"Steps\")\n",
    "plt.ylabel(\"Energy\")\n",
    "\n",
    "axs = plt.gca()"
   ]
  },
  {
   "cell_type": "markdown",
   "metadata": {},
   "source": [
    "We have learned how to efficiently find the ground state energy of a molecule using the PennyLane/Braket pipeline!"
   ]
  },
  {
   "cell_type": "markdown",
   "metadata": {},
   "source": [
    "## Scaling up with hybrid jobs\n",
    "\n",
    "Next, we scale up the experiment using Amazon Braket [Hybrid Jobs](https://docs.aws.amazon.com/braket/latest/developerguide/braket-jobs.html). \n",
    "You can do this by annotating your code with the `@hybrid_job` decorator. We set `device=\"local:pennylane/lightning\"` since we are using the lightning.qubit simulator. \n",
    "We also change the classical instance to a larger instance called \"ml.c5.xlarge\"."
   ]
  },
  {
   "cell_type": "code",
   "execution_count": 16,
   "metadata": {},
   "outputs": [],
   "source": [
    "from braket.jobs import hybrid_job, InstanceConfig\n",
    "from braket.tracking import Tracker\n",
    "\n",
    "large_instance = InstanceConfig(instanceType=\"ml.c5.xlarge\")\n",
    "\n",
    "\n",
    "@hybrid_job(\n",
    "    device=\"local:pennylane/lightning\",\n",
    "    instance_config=large_instance,\n",
    ")\n",
    "def run_large_vqe(iterations):\n",
    "    task_tracker = Tracker().start()  # track Braket quantum tasks costs\n",
    "\n",
    "    energies, spins = run_vqe(energy_expval, spin, opt, params, iterations)\n",
    "\n",
    "    return {\n",
    "        \"energies\": energies,\n",
    "        \"spins\": spins,\n",
    "        \"braket_tasks_cost\": task_tracker.qpu_tasks_cost() + task_tracker.simulator_tasks_cost(),\n",
    "    }"
   ]
  },
  {
   "cell_type": "markdown",
   "metadata": {},
   "source": [
    "In the following cell, we create the hybrid job by calling the function normally. \n",
    "Note that the function returns the handle to the hybrid job which runs asynchronously. \n",
    "Once the hybrid job has completed, we retrieve the results.  \n",
    "\n",
    "<div class=\"alert alert-block alert-warning\">\n",
    "<b>Caution:</b> Running the following cell  will result in <a href=\"https://aws.amazon.com/braket/pricing/\">usage fees</a> charged to your AWS account. We recommend monitoring the Billing & Cost Management Dashboard on the AWS console.\n",
    "</div>"
   ]
  },
  {
   "cell_type": "code",
   "execution_count": 17,
   "metadata": {},
   "outputs": [
    {
     "name": "stdout",
     "output_type": "stream",
     "text": [
      "AwsQuantumJob('arn':'arn:aws:braket:us-west-1:961591465522:job/run-large-vqe-1697139811768')\n"
     ]
    }
   ],
   "source": [
    "job = run_large_vqe(iterations=30)\n",
    "print(job)"
   ]
  },
  {
   "cell_type": "markdown",
   "metadata": {},
   "source": [
    "You retrieve the results when the algorithm is complete with"
   ]
  },
  {
   "cell_type": "code",
   "execution_count": 18,
   "metadata": {},
   "outputs": [
    {
     "name": "stdout",
     "output_type": "stream",
     "text": [
      "{'energies': [array(-0.55187225), array(-0.70005221), array(-0.89729232), array(-1.03687194), array(-1.09926479), array(-1.1235433), array(-1.13217906), array(-1.1350177), array(-1.13587664), array(-1.13611398), array(-1.13617316), array(-1.13618628), array(-1.1361888), array(-1.1361891), array(-1.13618883), array(-1.13618784), array(-1.13618452), array(-1.13617163), array(-1.13611418), array(-1.13582078), array(-1.13416153), array(-1.12555889), array(-1.10835438), array(-1.11654572), array(-1.12851297), array(-1.13326765), array(-1.13489124), array(-1.13548314), array(-1.13571512), array(-1.13579802), array(-1.13579607), array(-1.13571334), array(-1.13550525), array(-1.13504536), array(-1.13403895), array(-1.1319386), array(-1.12839979), array(-1.12513719), array(-1.12533626), array(-1.12823079), array(-1.1310321), array(-1.13281667), array(-1.13379207), array(-1.13427242), array(-1.13444455), array(-1.13438512), array(-1.13409575), array(-1.13352525), array(-1.13260457), array(-1.13134793), array(-1.13003231), array(-1.12921109), array(-1.1288403), array(-1.11658034), array(-1.11047216), array(-1.12219718), array(-1.10627973), array(-1.1236975), array(-1.13135412), array(-1.13243005), array(-1.13244886), array(-1.13202399), array(-1.13149092), array(-1.13098935), array(-1.13070568), array(-1.13068291), array(-1.13087401), array(-1.13099708), array(-1.13071549), array(-1.12901891), array(-1.1259372), array(-1.12274542), array(-1.12239518), array(-1.12201351), array(-1.12577647), array(-1.12791115), array(-1.12943676), array(-1.12956896), array(-1.12972941), array(-1.12965116), array(-1.12982715), array(-1.12971169), array(-1.12954916), array(-1.12859317), array(-1.12765628), array(-1.12607814), array(-1.12582959), array(-1.12546759), array(-1.12678979), array(-1.12732392), array(-1.12836158), array(-1.12843569), array(-1.1288221), array(-1.12868107), array(-1.12889865), array(-1.12861641), array(-1.12861102), array(-1.12794607), array(-1.12775452), array(-1.1269936)], 'spins': [0.15969152963337319, 0.14300644899470527, 0.10138139829601989, 0.05841186821393585, 0.029397735445742645, 0.012683239937044788, 0.004709419412889271, 0.0015356565172549574, 0.0004406833589031267, 0.00011150185434460891, 2.4696881266605963e-05, 4.754753258340294e-06, 7.841747289294432e-07, 1.0911400150082073e-07, 1.2487133216332325e-08, 1.1431044999454798e-09, 7.994138684352947e-11, 4.0460967909439205e-12, 1.354472090042691e-13, 2.55351295663786e-15, 0.0, 0.0, 0.0, 0.0, 0.0, 0.0, 0.0, 0.0, 0.0, 0.0, 0.0, 0.0, 0.0, 0.0, 0.0, 0.0, 0.0, 0.0, 0.0, 0.0, 0.0, 0.0, 1.1102230246251565e-16, 1.2212453270876722e-15, 1.2989609388114332e-14, 2.1038726316646716e-13, 2.903122187092322e-12, 6.226463789005265e-11, 1.0713994136324345e-09, 3.111918500664501e-08, 6.453371255155105e-07, 2.5295425650662118e-05, 0.0006400722119676017, 0.022025029044442035, 0.023385561885357342, 0.00014311106120790118, 0.021705432372581934, 0.008924076514024493, 0.0011652488654905202, 0.0002831588044178712, 4.200450060132255e-05, 9.251351257621998e-06, 1.8141004576310849e-07, 1.6834871601201229e-06, 7.732131861448721e-06, 3.198347546606861e-05, 7.046684828326821e-05, 0.00026530689107850947, 0.0006129610537283225, 0.002087209960787595, 0.00290374071321875, 0.0020472894698817523, 2.360806709422736e-05, 0.0017449222730436809, 0.0014809373925386282, 0.0009302646937726644, 0.00023724624727050614, 8.150100063286647e-05, 4.984330999269204e-06, 4.925328396909734e-06, 3.6265129713664024e-05, 0.00013657677273337665, 0.00022008908595805288, 0.00044302657230532727, 0.0003533976575068598, 0.00020351535710572133, 5.43610939485184e-07, 0.00011382311021634894, 0.00019422317002082412, 0.00021497283602989192, 8.70192302054873e-05, 4.1234804362910715e-05, 4.038649503712577e-06, 1.124619311898556e-06, 1.3053006908458897e-05, 4.337371918849975e-05, 5.271085643610007e-05, 7.287264124733461e-05, 3.572624691072779e-05, 1.0876786015745488e-05], 'braket_tasks_cost': Decimal('0')}\n",
      "CPU times: user 118 ms, sys: 8.17 ms, total: 126 ms\n",
      "Wall time: 1min 55s\n"
     ]
    }
   ],
   "source": [
    "%%time\n",
    "\n",
    "result = job.result()\n",
    "print(result)"
   ]
  },
  {
   "cell_type": "markdown",
   "metadata": {},
   "source": [
    "Now we plot the results from the hybrid job"
   ]
  },
  {
   "cell_type": "code",
   "execution_count": 19,
   "metadata": {},
   "outputs": [
    {
     "data": {
      "text/plain": [
       "Text(0, 0.5, 'Energy')"
      ]
     },
     "execution_count": 19,
     "metadata": {},
     "output_type": "execute_result"
    },
    {
     "data": {
      "image/png": "[encoded data removed]",
      "text/plain": [
       "<Figure size 640x480 with 1 Axes>"
      ]
     },
     "metadata": {},
     "output_type": "display_data"
    }
   ],
   "source": [
    "import matplotlib.pyplot as plt\n",
    "\n",
    "theory_energy = -1.136189454088\n",
    "theory_spin = 0\n",
    "\n",
    "plt.hlines(theory_energy, 0, iterations, colors=\"black\")\n",
    "plt.plot(result[\"energies\"], \"o-\")\n",
    "plt.xlabel(\"Steps\")\n",
    "plt.ylabel(\"Energy\")"
   ]
  },
  {
   "cell_type": "markdown",
   "metadata": {},
   "source": [
    "## Running VQE with `shots>0`\n",
    "\n",
    "In the above example, we computed exact expectation values of our Hamiltonians, and were able to do so with a single evaluation each. This relies on the simulator having access to the exact state, and isn't possible if the device estimates the expectation with shots, like in the case of a QPU.\n",
    "\n",
    "Suppose we want to estimate the expectation value of the electronic Hamiltonian `h` with a finite number of shots. This Hamiltonian is composed of 15 individual observables that are tensor products of Pauli operators:"
   ]
  },
  {
   "cell_type": "code",
   "execution_count": 20,
   "metadata": {},
   "outputs": [
    {
     "name": "stdout",
     "output_type": "stream",
     "text": [
      "Number of Pauli terms in h: 15\n"
     ]
    }
   ],
   "source": [
    "print(\"Number of Pauli terms in h:\", len(h.ops))"
   ]
  },
  {
   "cell_type": "markdown",
   "metadata": {},
   "source": [
    "A straightforward approach to measuring the expectation value would be to run the circuit 15 times, each time measuring one of the Pauli terms that form part of the Hamiltonian `h`. However, we can be more efficient. The Pauli terms can be separated into groups (see PennyLane's [grouping](https://pennylane.readthedocs.io/en/stable/code/qml_grouping.html) module) that share a basis, and thus can be measured concurrently on a single circuit. Elements of each group are known as qubit-wise commuting observables. The Hamiltonian `h` can be split into 5 groups:"
   ]
  },
  {
   "cell_type": "code",
   "execution_count": 21,
   "metadata": {},
   "outputs": [
    {
     "name": "stdout",
     "output_type": "stream",
     "text": [
      "Number of qubit-wise commuting groups: 5\n"
     ]
    }
   ],
   "source": [
    "groups, coeffs = qml.pauli.group_observables(h.ops, h.coeffs)\n",
    "print(\"Number of qubit-wise commuting groups:\", len(groups))"
   ]
  },
  {
   "cell_type": "markdown",
   "metadata": {},
   "source": [
    "Practically, this means that instead of executing 15 separate circuits, we just need to execute 5. This saving can become even more pronounced as the number of Pauli terms in the Hamiltonian increases. For example, switching to a larger molecule or a different chemical basis set can increase both the number of qubits and the number of terms.\n",
    "\n",
    "Fortunately, the PennyLane/Braket pipeline has builtin support for pre-grouping the observables in a Hamiltonian to minimize the number of device executions, saving both runtime and simulation fees when using remote devices."
   ]
  },
  {
   "cell_type": "markdown",
   "metadata": {},
   "source": [
    "<div align=\"center\"><img src=\"grouping.png\"/></div>"
   ]
  },
  {
   "cell_type": "markdown",
   "metadata": {},
   "source": [
    "To take advantage of grouping, we must instruct PennyLane to break up each Hamiltonian into qubit-wise commuting groups. We do this by computing the groups and storing them with the Hamiltonian; the device will use this information when to create the circuits to run."
   ]
  },
  {
   "cell_type": "code",
   "execution_count": 22,
   "metadata": {},
   "outputs": [],
   "source": [
    "h.compute_grouping()\n",
    "S2.compute_grouping()"
   ]
  },
  {
   "cell_type": "markdown",
   "metadata": {},
   "source": [
    "Next, we instantiate the device, but this time with nonzero `shots`:"
   ]
  },
  {
   "cell_type": "code",
   "execution_count": 23,
   "metadata": {},
   "outputs": [],
   "source": [
    "dev = qml.device(\"braket.local.qubit\", wires=qubits, shots=5000)"
   ]
  },
  {
   "cell_type": "markdown",
   "metadata": {},
   "source": [
    "And redefine our cost functions"
   ]
  },
  {
   "cell_type": "code",
   "execution_count": 24,
   "metadata": {},
   "outputs": [],
   "source": [
    "wires = dev.wires.tolist()\n",
    "\n",
    "\n",
    "@qml.qnode(dev)\n",
    "def energy_expval(params):\n",
    "    circuit(params, wires)\n",
    "    return qml.expval(h)\n",
    "\n",
    "\n",
    "@qml.qnode(dev)\n",
    "def S2_expval(params):\n",
    "    circuit(params, wires)\n",
    "    return qml.expval(S2)\n",
    "\n",
    "\n",
    "def spin(params):\n",
    "    return -0.5 + np.sqrt(1 / 4 + S2_expval(params))"
   ]
  },
  {
   "cell_type": "markdown",
   "metadata": {},
   "source": [
    "Finally, we run the VQE experiment and get our expectation estimates:"
   ]
  },
  {
   "cell_type": "code",
   "execution_count": 25,
   "metadata": {},
   "outputs": [
    {
     "name": "stdout",
     "output_type": "stream",
     "text": [
      "Metrics - timestamp=1697139937.3019145; energy=-0.5412825955158931; iteration_number=0;\n",
      "Completed iteration 1\n",
      "Energy: -0.5412825955158931\n",
      "Total spin: (0.15326105042318272+0j)\n",
      "----------------\n",
      "Metrics - timestamp=1697139944.412684; energy=-0.6936120312135796; iteration_number=1;\n",
      "Completed iteration 2\n",
      "Energy: -0.6936120312135796\n",
      "Total spin: (0.1396092557178953+0j)\n",
      "----------------\n",
      "Metrics - timestamp=1697139951.4129083; energy=-0.8906199472711986; iteration_number=2;\n",
      "Completed iteration 3\n",
      "Energy: -0.8906199472711986\n",
      "Total spin: (0.09703433737097567+0j)\n",
      "----------------\n",
      "Metrics - timestamp=1697139958.4950173; energy=-1.0433105151800557; iteration_number=3;\n",
      "Completed iteration 4\n",
      "Energy: -1.0433105151800557\n",
      "Total spin: (0.05785302723925401+0j)\n",
      "----------------\n",
      "Metrics - timestamp=1697139965.4518325; energy=-1.0992473165501542; iteration_number=4;\n",
      "Completed iteration 5\n",
      "Energy: -1.0992473165501542\n",
      "Total spin: (0.024499761677734266+0j)\n",
      "----------------\n",
      "Metrics - timestamp=1697139972.4262433; energy=-1.1281011541233785; iteration_number=5;\n",
      "Completed iteration 6\n",
      "Energy: -1.1281011541233785\n",
      "Total spin: (0.012347538297979854+0j)\n",
      "----------------\n",
      "Metrics - timestamp=1697139979.4071403; energy=-1.132303797965168; iteration_number=6;\n",
      "Completed iteration 7\n",
      "Energy: -1.132303797965168\n",
      "Total spin: (-0.007658654996353209+0j)\n",
      "----------------\n",
      "Metrics - timestamp=1697139986.409697; energy=-1.1349500459612611; iteration_number=7;\n",
      "Completed iteration 8\n",
      "Energy: -1.1349500459612611\n",
      "Total spin: (0.0019462122578475238+0j)\n",
      "----------------\n",
      "Metrics - timestamp=1697139993.3897896; energy=-1.1356074477133202; iteration_number=8;\n",
      "Completed iteration 9\n",
      "Energy: -1.1356074477133202\n",
      "Total spin: (0.0023445033042561736+0j)\n",
      "----------------\n",
      "Metrics - timestamp=1697140000.283897; energy=-1.1373271109993635; iteration_number=9;\n",
      "Completed iteration 10\n",
      "Energy: -1.1373271109993635\n",
      "Total spin: (-0.0016527315214822647+0j)\n",
      "----------------\n",
      "Optimized energy: -1.1373271109993635 Ha\n",
      "Corresponding total spin: (-0.0016527315214822647+0j)\n",
      "Elapsed: 69.98771715164185 s\n"
     ]
    }
   ],
   "source": [
    "energies, spins = run_vqe(energy_expval, spin, opt, params, iterations)"
   ]
  },
  {
   "cell_type": "markdown",
   "metadata": {},
   "source": [
    "We see that we get pretty close to the values found through exact calculation! In this experiment, we used the local simulator, but the same steps apply for QPUs, or any simulator that uses a nonzero number of shots!\n",
    "\n",
    "<div class=\"alert alert-block alert-info\">\n",
    "<b>What's next?</b> The <code>hydrogen_molecule</code> folder contains additional molecular structure files for different atomic separations of molecular hydrogen. Pick one of the separations and find the ground state energy. How does the ground state energy change with atomic separation? \n",
    "</div>"
   ]
  },
  {
   "cell_type": "code",
   "execution_count": 26,
   "metadata": {},
   "outputs": [
    {
     "name": "stdout",
     "output_type": "stream",
     "text": [
      "Note: Charges shown are estimates based on your Amazon Braket simulator and quantum processing unit (QPU) task usage. Estimated charges shown may differ from your actual charges. Estimated charges do not factor in any discounts or credits, and you may experience additional charges based on your use of other services such as Amazon Elastic Compute Cloud (Amazon EC2).\n",
      "Estimated cost to run this example: 0.000 USD\n"
     ]
    }
   ],
   "source": [
    "job_cost = job.result()[\"braket_tasks_cost\"]\n",
    "\n",
    "print(\n",
    "    \"Note: Charges shown are estimates based on your Amazon Braket simulator and quantum processing unit (QPU) task usage. Estimated charges shown may differ from your actual charges. Estimated charges do not factor in any discounts or credits, and you may experience additional charges based on your use of other services such as Amazon Elastic Compute Cloud (Amazon EC2).\"\n",
    ")\n",
    "print(f\"Estimated cost to run this example: {job_cost:.3f} USD\")"
   ]
  }
 ],
 "metadata": {
  "interpreter": {
   "hash": "4737fd5cefc361def96fec082a94ffa1860819024319231e0688a4bd6d8b89cd"
  },
  "kernelspec": {
   "display_name": "conda_braket",
   "language": "python",
   "name": "conda_braket"
  },
  "language_info": {
   "codemirror_mode": {
    "name": "ipython",
    "version": 3
   },
   "file_extension": ".py",
   "mimetype": "text/x-python",
   "name": "python",
   "nbconvert_exporter": "python",
   "pygments_lexer": "ipython3",
   "version": "3.10.12"
  }
 },
 "nbformat": 4,
 "nbformat_minor": 4
}
