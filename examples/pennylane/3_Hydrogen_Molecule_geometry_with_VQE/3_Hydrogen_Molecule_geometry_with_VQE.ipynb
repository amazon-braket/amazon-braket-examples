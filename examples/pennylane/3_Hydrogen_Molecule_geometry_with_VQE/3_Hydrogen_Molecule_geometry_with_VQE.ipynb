{
 "cells": [
  {
   "cell_type": "markdown",
   "metadata": {},
   "source": [
    "# Hydrogen Molecule geometry with VQE"
   ]
  },
  {
   "cell_type": "markdown",
   "metadata": {},
   "source": [
    "This tutorial will show you how to solve an important problem for quantum chemistry using PennyLane on Amazon Braket: finding the ground-state energy of a molecule. The problem can be tackled using near-term quantum hardware by implementing the variational quantum eigensolver (VQE) algorithm. You can find further details on quantum chemistry and VQE in both the [Braket VQE](../../hybrid_quantum_algorithms/VQE_Chemistry/VQE_chemistry_braket.ipynb) notebook and PennyLane [tutorials](https://pennylane.ai/qml/demos/tutorial_qubit_rotation.html)."
   ]
  },
  {
   "cell_type": "markdown",
   "metadata": {},
   "source": [
    "<div class=\"alert alert-block alert-info\">\n",
    "<b>Note</b> This notebook requires pennylane>=0.18 and amazon-braket-pennylane-plugin>=1.5.0\n",
    "</div>"
   ]
  },
  {
   "cell_type": "markdown",
   "metadata": {},
   "source": [
    "## From quantum chemistry to quantum circuits"
   ]
  },
  {
   "cell_type": "markdown",
   "metadata": {},
   "source": [
    "Our first step is to convert our chemistry problem into something that can be tackled with a quantum computer. To do this, we will use PennyLane's ``qchem`` package. If running on a local machine, the ``qchem`` package must be installed separately by following [these](https://pennylane.readthedocs.io/en/stable/introduction/chemistry.html) instructions."
   ]
  },
  {
   "cell_type": "code",
   "execution_count": 28,
   "metadata": {},
   "outputs": [],
   "source": [
    "import pennylane as qml\n",
    "from pennylane import qchem\n",
    "from pennylane import numpy as np\n",
    "import time"
   ]
  },
  {
   "cell_type": "markdown",
   "metadata": {},
   "source": [
    "The input chemistry data is often provided in the form of a geometry file containing details about the molecule. Here, we consider the hydrogen molecule $\\mathrm{H}_2$ whose atomic structure is stored in the [h2.xyz](./hydrogen_molecule/h2.xyz) file. The qubit Hamiltonian for $\\mathrm{H}_2$ is built using the ``qchem`` package."
   ]
  },
  {
   "cell_type": "code",
   "execution_count": 2,
   "metadata": {},
   "outputs": [
    {
     "name": "stdout",
     "output_type": "stream",
     "text": [
      "  (-0.2427428004656475) [Z2]\n",
      "+ (-0.24274280046564745) [Z3]\n",
      "+ (-0.04207898539385624) [I0]\n",
      "+ (0.17771287502696137) [Z0]\n",
      "+ (0.1777128750269614) [Z1]\n",
      "+ (0.12293305045308675) [Z0 Z2]\n",
      "+ (0.12293305045308675) [Z1 Z3]\n",
      "+ (0.16768319431877826) [Z0 Z3]\n",
      "+ (0.16768319431877826) [Z1 Z2]\n",
      "+ (0.17059738365073931) [Z0 Z1]\n",
      "+ (0.17627640722390192) [Z2 Z3]\n",
      "+ (-0.04475014386569152) [Y0 Y1 X2 X3]\n",
      "+ (-0.04475014386569152) [X0 X1 Y2 Y3]\n",
      "+ (0.04475014386569152) [Y0 X1 X2 Y3]\n",
      "+ (0.04475014386569152) [X0 Y1 Y2 X3]\n"
     ]
    }
   ],
   "source": [
    "symbols, coordinates = qchem.read_structure('hydrogen_molecule/h2.xyz')\n",
    "h, qubits = qchem.molecular_hamiltonian(symbols, coordinates, name=\"h2\")\n",
    "print(h)"
   ]
  },
  {
   "cell_type": "markdown",
   "metadata": {},
   "source": [
    "In the VQE algorithm, we compute the energy of the $\\mathrm{H}_2$ molecule by measuring the expectation value of the above Hamiltonian on a variational quantum circuit. Our objective is to train the parameters of the circuit so that the expectation value of the Hamiltonian is minimized, thereby finding the ground state energy of the molecule.\n",
    "\n",
    "In this tutorial, we also want to compute the total spin. To that aim, we use the ``qchem`` package to build the total-spin operator $S^2$:"
   ]
  },
  {
   "cell_type": "code",
   "execution_count": 3,
   "metadata": {},
   "outputs": [
    {
     "name": "stdout",
     "output_type": "stream",
     "text": [
      "  ((0.375+0j)) [Z0]\n",
      "+ ((0.375+0j)) [Z1]\n",
      "+ ((0.375+0j)) [Z2]\n",
      "+ ((0.375+0j)) [Z3]\n",
      "+ ((0.75+0j)) [I0]\n",
      "+ ((-0.375+0j)) [Z0 Z1]\n",
      "+ ((-0.375+0j)) [Z2 Z3]\n",
      "+ ((-0.125+0j)) [Z0 Z3]\n",
      "+ ((-0.125+0j)) [Z1 Z2]\n",
      "+ ((0.125+0j)) [Z0 Z2]\n",
      "+ ((0.125+0j)) [Z1 Z3]\n",
      "+ ((-0.125+0j)) [Y0 X1 X2 Y3]\n",
      "+ ((-0.125+0j)) [X0 Y1 Y2 X3]\n",
      "+ ((0.125+0j)) [Y0 X1 Y2 X3]\n",
      "+ ((0.125+0j)) [Y0 Y1 X2 X3]\n",
      "+ ((0.125+0j)) [Y0 Y1 Y2 Y3]\n",
      "+ ((0.125+0j)) [X0 X1 X2 X3]\n",
      "+ ((0.125+0j)) [X0 X1 Y2 Y3]\n",
      "+ ((0.125+0j)) [X0 Y1 X2 Y3]\n"
     ]
    }
   ],
   "source": [
    "electrons = 2  # Molecular hydrogen has two electrons\n",
    "\n",
    "S2 = qchem.spin2(electrons, qubits)\n",
    "print(S2)"
   ]
  },
  {
   "cell_type": "markdown",
   "metadata": {},
   "source": [
    "## Defining an ansatz circuit"
   ]
  },
  {
   "cell_type": "markdown",
   "metadata": {},
   "source": [
    "We now set up the ansatz circuit that will be trained to prepare the ground state of the Hamiltonian.\n",
    "\n",
    "This tutorial uses a chemically-inspired circuit, the [`AllSinglesDoubles`](https://docs.pennylane.ai/en/stable/code/api/pennylane.AllSinglesDoubles.html) ansatz of [Delgado et al. (2020)](https://arxiv.org/abs/2106.13840). To use this, we must define some additional inputs from quantum chemistry."
   ]
  },
  {
   "cell_type": "code",
   "execution_count": 4,
   "metadata": {},
   "outputs": [],
   "source": [
    "# Hartree-Fock state\n",
    "hf_state = qchem.hf_state(electrons, qubits)\n",
    "# generate single- and double-excitations\n",
    "singles, doubles = qchem.excitations(electrons, qubits)"
   ]
  },
  {
   "cell_type": "markdown",
   "metadata": {},
   "source": [
    "<div class=\"alert alert-block alert-info\">\n",
    "<b>Note</b> A variety of alternative ansätze and templates are <a href=\"https://pennylane.readthedocs.io/en/stable/introduction/templates.html#quantum-chemistry-templates\">available</a> and different choices will result in varying circuit depth and number of trainable parameters.\n",
    "</div>"
   ]
  },
  {
   "cell_type": "markdown",
   "metadata": {},
   "source": [
    "Our ansatz circuit is then simple to define:"
   ]
  },
  {
   "cell_type": "code",
   "execution_count": 5,
   "metadata": {},
   "outputs": [],
   "source": [
    "def circuit(params, wires):\n",
    "    qml.templates.AllSinglesDoubles(params, wires, hf_state, singles, doubles)"
   ]
  },
  {
   "cell_type": "markdown",
   "metadata": {},
   "source": [
    "Note that an output measurement has not yet been defined! This is the next step."
   ]
  },
  {
   "cell_type": "markdown",
   "metadata": {},
   "source": [
    "## Measuring the energy and total spin"
   ]
  },
  {
   "cell_type": "markdown",
   "metadata": {},
   "source": [
    "Now we instantiate a device to run our circuits; we will use the Braket local simulator:"
   ]
  },
  {
   "cell_type": "code",
   "execution_count": 16,
   "metadata": {},
   "outputs": [],
   "source": [
    "dev = qml.device(\"braket.local.qubit\", wires=qubits)"
   ]
  },
  {
   "cell_type": "markdown",
   "metadata": {},
   "source": [
    "We discussed earlier that we want to minimize the expectation value of the qubit Hamiltonian, corresponding to the energy of $\\mathrm{H}_2$. The expectation values of this Hamiltonian and the total spin $\\hat{S}^2$ operator can be defined using:"
   ]
  },
  {
   "cell_type": "code",
   "execution_count": 17,
   "metadata": {},
   "outputs": [],
   "source": [
    "wires = dev.wires.tolist()\n",
    "\n",
    "@qml.qnode(dev)\n",
    "def energy_expval(params):\n",
    "    circuit(params, wires)\n",
    "    return qml.expval(h)\n",
    "\n",
    "@qml.qnode(dev)\n",
    "def S2_expval(params):\n",
    "    circuit(params, wires)\n",
    "    return qml.expval(S2)"
   ]
  },
  {
   "cell_type": "markdown",
   "metadata": {},
   "source": [
    "Notice that `dev` was created without a `shots` argument. This means it will calculate the exact expectation value of the Hamiltonian, and can do so in a single evaluation.\n",
    "\n",
    "Let's now initialize some random values and evaluate the energy and spin. The total spin $S$ of the prepared state can be obtained from the expectation value $\\langle \\hat{S}^2 \\rangle$ using $S=-\\frac{1}{2} + \\sqrt{\\frac{1}{4} + \\langle \\hat{S}^2 \\rangle}$. We can define a function to compute $S$:"
   ]
  },
  {
   "cell_type": "code",
   "execution_count": 18,
   "metadata": {},
   "outputs": [],
   "source": [
    "def spin(params):\n",
    "    return -0.5 + np.sqrt(1 / 4 + S2_expval(params))"
   ]
  },
  {
   "cell_type": "code",
   "execution_count": 19,
   "metadata": {},
   "outputs": [],
   "source": [
    "np.random.seed(1967)\n",
    "params = np.random.normal(0, np.pi, len(singles) + len(doubles))"
   ]
  },
  {
   "cell_type": "markdown",
   "metadata": {},
   "source": [
    "The energy and total spin are then"
   ]
  },
  {
   "cell_type": "code",
   "execution_count": 20,
   "metadata": {},
   "outputs": [
    {
     "name": "stdout",
     "output_type": "stream",
     "text": [
      "Energy: -0.2730496738441469\n",
      "Spin:   (0.11000908988780544+0j)\n"
     ]
    }
   ],
   "source": [
    "print(\"Energy:\", energy_expval(params))\n",
    "print(\"Spin:  \", spin(params))"
   ]
  },
  {
   "cell_type": "markdown",
   "metadata": {},
   "source": [
    "Since we have picked random parameters, the measured energy does not correspond to the ground state energy and the prepared state is not an eigenstate of the total-spin operator. We must now train the parameters to find the minimum energy."
   ]
  },
  {
   "cell_type": "markdown",
   "metadata": {},
   "source": [
    "## Minimizing the energy"
   ]
  },
  {
   "cell_type": "markdown",
   "metadata": {},
   "source": [
    "The energy can be minimized by choosing an optimizer and running the standard optimization loop:"
   ]
  },
  {
   "cell_type": "code",
   "execution_count": 85,
   "metadata": {},
   "outputs": [],
   "source": [
    "# Lets choose RMSPropOptimizer.\n",
    "# Other alternatives: GradientDescentOptimizer, AdagradOptimizer, AdamOptimizer, ...\n",
    "opt = qml.RMSPropOptimizer(stepsize=0.4)"
   ]
  },
  {
   "cell_type": "code",
   "execution_count": 75,
   "metadata": {},
   "outputs": [],
   "source": [
    "iterations = 20"
   ]
  },
  {
   "cell_type": "code",
   "execution_count": 76,
   "metadata": {},
   "outputs": [],
   "source": [
    "def run_vqe(energy_expval, spin, opt, initial_params, iterations):\n",
    "    energies = []\n",
    "    spins = []\n",
    "    params = initial_params\n",
    "    \n",
    "    start = time.time()\n",
    "    for i in range(iterations):\n",
    "        params = opt.step(energy_expval, params)\n",
    "        \n",
    "        e = energy_expval(params)\n",
    "        s = spin(params)\n",
    "        \n",
    "        energies.append(e)\n",
    "        spins.append(s)\n",
    "        \n",
    "        if (i + 1) % 5 == 0:\n",
    "            print(f\"Completed iteration {i + 1}\")\n",
    "            print(\"Energy:\", e)\n",
    "            print(\"Total spin:\", s)\n",
    "            print(\"----------------\")\n",
    "            \n",
    "    print(f\"Optimized energy: {e} Ha\")\n",
    "    print(f\"Corresponding total spin: {s}\")\n",
    "    print(f\"Elapsed: {time.time()-start} s\")\n",
    "    return energies, spins"
   ]
  },
  {
   "cell_type": "code",
   "execution_count": 77,
   "metadata": {},
   "outputs": [
    {
     "name": "stdout",
     "output_type": "stream",
     "text": [
      "Completed iteration 5\n",
      "Energy: -1.0374930523143828\n",
      "Total spin: (0.03504106215840519+0j)\n",
      "----------------\n",
      "Completed iteration 10\n",
      "Energy: -1.1355093053332648\n",
      "Total spin: (0.0002825118500003887+0j)\n",
      "----------------\n",
      "Completed iteration 15\n",
      "Energy: -1.1361854354860355\n",
      "Total spin: (1.7887247744097223e-06+0j)\n",
      "----------------\n",
      "Completed iteration 20\n",
      "Energy: -1.1361894304513411\n",
      "Total spin: (1.1305285485541106e-08+0j)\n",
      "----------------\n",
      "Optimized energy: -1.1361894304513411 Ha\n",
      "Corresponding total spin: (1.1305285485541106e-08+0j)\n",
      "Elapsed: 21.068305730819702 s\n"
     ]
    }
   ],
   "source": [
    "energies, spins = run_vqe(energy_expval, spin, opt, params, iterations)"
   ]
  },
  {
   "cell_type": "markdown",
   "metadata": {},
   "source": [
    "The exact value for the ground state energy of molecular hydrogen has been theoretically calculated as ``-1.136189454088`` Hartrees (Ha). Notice that the optimized energy is off by less than $10^{-5}$ of a Hartree. Furthermore, the optimized state is an eigenstate of the total-spin operator with eigenvalue $S=0$ as expected for the ground state of the $\\mathrm{H}_2$ molecule. Hence, our above results look very promising! We would get even closer to the theory values if we increase the number of iterations.\n",
    "\n",
    "Let's visualize how the two quantities evolved during optimization:"
   ]
  },
  {
   "cell_type": "code",
   "execution_count": 78,
   "metadata": {},
   "outputs": [
    {
     "data": {
      "image/png": "[encoded data removed]",
      "text/plain": [
       "<Figure size 640x480 with 2 Axes>"
      ]
     },
     "metadata": {},
     "output_type": "display_data"
    }
   ],
   "source": [
    "import matplotlib.pyplot as plt\n",
    "from mpl_toolkits.axes_grid1.inset_locator import inset_axes\n",
    "\n",
    "theory_energy = -1.136189454088\n",
    "theory_spin = 0\n",
    "\n",
    "plt.hlines(theory_energy, 0, iterations, linestyles=\"dashed\", colors=\"black\")\n",
    "plt.plot(energies)\n",
    "plt.xlabel(\"Steps\")\n",
    "plt.ylabel(\"Energy\")\n",
    "\n",
    "axs = plt.gca()\n",
    "\n",
    "inset = inset_axes(axs, width=\"50%\", height=\"50%\", borderpad=1)\n",
    "inset.hlines(theory_spin, 0, iterations, linestyles=\"dashed\", colors=\"black\")\n",
    "inset.plot(spins, \"r\")\n",
    "inset.set_xlabel(\"Steps\")\n",
    "inset.set_ylabel(\"Total spin\");"
   ]
  },
  {
   "cell_type": "markdown",
   "metadata": {},
   "source": [
    "We have learned how to efficiently find the ground state energy of a molecule using the PennyLane/Braket pipeline!"
   ]
  },
  {
   "cell_type": "markdown",
   "metadata": {},
   "source": [
    "## Running VQE with `shots>0`\n",
    "\n",
    "In the above example, we computed exact expectation values of our Hamiltonians, and were able to do so with a single evaluation each. This relies on the simulator having access to the exact state, and isn't possible if the device estimates the expectation with shots, like in the case of a QPU.\n",
    "\n",
    "Suppose we want to estimate the expectation value of the electronic Hamiltonian `h` with a finite number of shots. This Hamiltonian is composed of 15 individual observables that are tensor products of Pauli operators:"
   ]
  },
  {
   "cell_type": "code",
   "execution_count": 79,
   "metadata": {},
   "outputs": [
    {
     "name": "stdout",
     "output_type": "stream",
     "text": [
      "Number of Pauli terms in h: 15\n"
     ]
    }
   ],
   "source": [
    "print(\"Number of Pauli terms in h:\", len(h.ops))"
   ]
  },
  {
   "cell_type": "markdown",
   "metadata": {},
   "source": [
    "A straightforward approach to measuring the expectation value would be to run the circuit 15 times, each time measuring one of the Pauli terms that form part of the Hamiltonian `h`. However, we can be more efficient. The Pauli terms can be separated into groups (see PennyLane's [grouping](https://pennylane.readthedocs.io/en/stable/code/qml_grouping.html) module) that share a basis, and thus can be measured concurrently on a single circuit. Elements of each group are known as qubit-wise commuting observables. The Hamiltonian `h` can be split into 5 groups:"
   ]
  },
  {
   "cell_type": "code",
   "execution_count": 80,
   "metadata": {},
   "outputs": [
    {
     "name": "stdout",
     "output_type": "stream",
     "text": [
      "Number of qubit-wise commuting groups: 5\n"
     ]
    }
   ],
   "source": [
    "groups, coeffs = qml.grouping.group_observables(h.ops, h.coeffs)\n",
    "print(\"Number of qubit-wise commuting groups:\", len(groups))"
   ]
  },
  {
   "cell_type": "markdown",
   "metadata": {},
   "source": [
    "Practically, this means that instead of executing 15 separate circuits, we just need to execute 5. This saving can become even more pronounced as the number of Pauli terms in the Hamiltonian increases. For example, switching to a larger molecule or a different chemical basis set can increase both the number of qubits and the number of terms.\n",
    "\n",
    "Fortunately, the PennyLane/Braket pipeline has builtin support for pre-grouping the observables in a Hamiltonian to minimize the number of device executions, saving both runtime and simulation fees when using remote devices."
   ]
  },
  {
   "cell_type": "markdown",
   "metadata": {},
   "source": [
    "<div align=\"center\"><img src=\"grouping.png\"/></div>"
   ]
  },
  {
   "cell_type": "markdown",
   "metadata": {},
   "source": [
    "To take advantage of grouping, we must instruct PennyLane to break up each Hamiltonian into qubit-wise commuting groups. We do this by computing the groups and storing them with the Hamiltonian; the device will use this information when to create the circuits to run."
   ]
  },
  {
   "cell_type": "code",
   "execution_count": 81,
   "metadata": {},
   "outputs": [],
   "source": [
    "h.compute_grouping()\n",
    "S2.compute_grouping()"
   ]
  },
  {
   "cell_type": "markdown",
   "metadata": {},
   "source": [
    "Next, we instantiate the device, but this time with nonzero `shots`:"
   ]
  },
  {
   "cell_type": "code",
   "execution_count": 87,
   "metadata": {},
   "outputs": [],
   "source": [
    "dev = qml.device(\"braket.local.qubit\", wires=qubits, shots=1000)"
   ]
  },
  {
   "cell_type": "markdown",
   "metadata": {},
   "source": [
    "And redefine our cost functions"
   ]
  },
  {
   "cell_type": "code",
   "execution_count": 88,
   "metadata": {},
   "outputs": [],
   "source": [
    "wires = dev.wires.tolist()\n",
    "\n",
    "@qml.qnode(dev)\n",
    "def energy_expval(params):\n",
    "    circuit(params, wires)\n",
    "    return qml.expval(h)\n",
    "\n",
    "@qml.qnode(dev)\n",
    "def S2_expval(params):\n",
    "    circuit(params, wires)\n",
    "    return qml.expval(S2)\n",
    "\n",
    "def spin(params):\n",
    "    return -0.5 + np.sqrt(1 / 4 + S2_expval(params))"
   ]
  },
  {
   "cell_type": "markdown",
   "metadata": {},
   "source": [
    "Finally, we run the VQE experiment and get our expectation estimates:"
   ]
  },
  {
   "cell_type": "code",
   "execution_count": 89,
   "metadata": {},
   "outputs": [
    {
     "name": "stdout",
     "output_type": "stream",
     "text": [
      "Completed iteration 5\n",
      "Energy: -1.121700109865446\n",
      "Total spin: (0.040832691319598324+0j)\n",
      "----------------\n",
      "Completed iteration 10\n",
      "Energy: -1.1356856359729286\n",
      "Total spin: (0.017204021639430023+0j)\n",
      "----------------\n",
      "Completed iteration 15\n",
      "Energy: -1.1089221904444801\n",
      "Total spin: (-0.039022777135355624+0j)\n",
      "----------------\n",
      "Completed iteration 20\n",
      "Energy: -1.061028578448023\n",
      "Total spin: (0.026782687642637026+0j)\n",
      "----------------\n",
      "Optimized energy: -1.061028578448023 Ha\n",
      "Corresponding total spin: (0.026782687642637026+0j)\n",
      "Elapsed: 66.75159215927124 s\n"
     ]
    }
   ],
   "source": [
    "energies, spins = run_vqe(energy_expval, spin, opt, params, iterations)"
   ]
  },
  {
   "cell_type": "markdown",
   "metadata": {},
   "source": [
    "We see that we get pretty close to the values found through exact calculation! In this experiment, we used the local simulator, but the same steps apply for QPUs, or any simulator that uses a nonzero number of shots!\n",
    "\n",
    "<div class=\"alert alert-block alert-info\">\n",
    "<b>What's next?</b> The <code>hydrogen_molecule</code> folder contains additional molecular structure files for different atomic separations of molecular hydrogen. Pick one of the separations and find the ground state energy. How does the ground state energy change with atomic separation? \n",
    "</div>"
   ]
  }
 ],
 "metadata": {
  "interpreter": {
   "hash": "4737fd5cefc361def96fec082a94ffa1860819024319231e0688a4bd6d8b89cd"
  },
  "kernelspec": {
   "display_name": "Python 3 (ipykernel)",
   "language": "python",
   "name": "python3"
  },
  "language_info": {
   "codemirror_mode": {
    "name": "ipython",
    "version": 3
   },
   "file_extension": ".py",
   "mimetype": "text/x-python",
   "name": "python",
   "nbconvert_exporter": "python",
   "pygments_lexer": "ipython3",
   "version": "3.9.6"
  }
 },
 "nbformat": 4,
 "nbformat_minor": 4
}
