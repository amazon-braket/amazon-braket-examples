{
 "cells": [
  {
   "cell_type": "markdown",
   "id": "1b086996",
   "metadata": {},
   "source": [
    "# This notebook will not be merge\n",
    "## Debug with local mode"
   ]
  },
  {
   "cell_type": "code",
   "execution_count": 2,
   "id": "eb8e4a0e",
   "metadata": {},
   "outputs": [],
   "source": [
    "hyperparameters={\"nwires\": \"10\", \n",
    "                 \"ndata\": \"16\", \n",
    "                 \"batch_size\": \"16\", \n",
    "                 \"epochs\": \"5\", \n",
    "                 \"gamma\": \"0.99\", \n",
    "                 \"lr\": \"0.03\",\n",
    "                 \"seed\": \"164\",\n",
    "                 \"to_eval\": \"0\",\n",
    "                }\n",
    "input_file_path = \"data/sonar.all-data\"\n",
    "image_uri=\"537332306153.dkr.ecr.us-west-2.amazonaws.com/lightning-bjob:v9\" # Remove this line after public container builds"
   ]
  },
  {
   "cell_type": "code",
   "execution_count": 3,
   "id": "06991df6",
   "metadata": {},
   "outputs": [
    {
     "name": "stderr",
     "output_type": "stream",
     "text": [
      "Using the short-lived AWS credentials found in session. They might expire while running.\n"
     ]
    },
    {
     "name": "stdout",
     "output_type": "stream",
     "text": [
      "Boto3 Version:  1.20.10\n",
      "Beginning Setup\n",
      "Running Code As Subprocess\n",
      "hyperparams:  {'nwires': '10', 'ndata': '16', 'batch_size': '16', 'epochs': '5', 'gamma': '0.99', 'lr': '0.03', 'seed': '164', 'to_eval': '0'}\n",
      "Using local simulator:  Lightning Qubit PennyLane plugin\n",
      "[2022-04-21 14:59:00.334 1b8185267158:49 INFO utils.py:27] RULE_JOB_STOP_SIGNAL_FILENAME: None\n",
      "[2022-04-21 14:59:00.368 1b8185267158:49 INFO profiler_config_parser.py:102] Unable to find config at /opt/ml/input/config/profilerconfig.json. Profiler is disabled.\n",
      "Train Epoch: 1 [0/16 (0%)]\tLoss: 0.191733\n",
      "Metrics - timestamp=1650553140.7356544; Loss=0.19173291325569153; iteration_number=1;\n",
      "Train Epoch: 2 [0/16 (0%)]\tLoss: 0.200744\n",
      "Metrics - timestamp=1650553141.0034401; Loss=0.20074376463890076; iteration_number=2;\n",
      "Train Epoch: 3 [0/16 (0%)]\tLoss: 0.120848\n",
      "Metrics - timestamp=1650553141.3825288; Loss=0.12084810435771942; iteration_number=3;\n",
      "Train Epoch: 4 [0/16 (0%)]\tLoss: 0.102050\n",
      "Metrics - timestamp=1650553141.6976235; Loss=0.1020495668053627; iteration_number=4;\n",
      "Train Epoch: 5 [0/16 (0%)]\tLoss: 0.107891\n",
      "Metrics - timestamp=1650553141.998567; Loss=0.10789139568805695; iteration_number=5;\n",
      "elapsed time:  1.9523792266845703\n",
      "Training Successful!!\n",
      "Code Run Finished\n"
     ]
    }
   ],
   "source": [
    "import time\n",
    "from braket.jobs.local.local_job import LocalQuantumJob\n",
    "\n",
    "# This cell should take about 2 min for the fisrt time, and about 30 seconds afterward.\n",
    "job = LocalQuantumJob.create(\n",
    "    device=\"local:pennylane/lightning.qubit\",\n",
    "    source_module=\"source_script\",\n",
    "    entry_point=\"source_script.train_single\",\n",
    "    job_name=\"dp-\" + str(int(time.time())),\n",
    "    hyperparameters=hyperparameters,\n",
    "    input_data={\"input-data\": input_file_path},\n",
    "    image_uri=image_uri,\n",
    ")"
   ]
  },
  {
   "cell_type": "code",
   "execution_count": 4,
   "id": "0c920c8d",
   "metadata": {},
   "outputs": [],
   "source": [
    "# !pip uninstall --yes amazon-braket-sdk "
   ]
  },
  {
   "cell_type": "code",
   "execution_count": 5,
   "id": "87ff8ebf",
   "metadata": {},
   "outputs": [],
   "source": [
    "# !pip install git+https://github.com/aws/amazon-braket-sdk-python.git@local-sim-jobs"
   ]
  },
  {
   "cell_type": "code",
   "execution_count": 6,
   "id": "09a5f6ba",
   "metadata": {},
   "outputs": [],
   "source": [
    "# !aws configure add-model --service-model \"file://braket-2019-09-01.normal.json\" --service-name braket"
   ]
  },
  {
   "cell_type": "code",
   "execution_count": null,
   "id": "5fb3cf0a",
   "metadata": {},
   "outputs": [],
   "source": []
  }
 ],
 "metadata": {
  "kernelspec": {
   "display_name": "conda_braket",
   "language": "python",
   "name": "conda_braket"
  },
  "language_info": {
   "codemirror_mode": {
    "name": "ipython",
    "version": 3
   },
   "file_extension": ".py",
   "mimetype": "text/x-python",
   "name": "python",
   "nbconvert_exporter": "python",
   "pygments_lexer": "ipython3",
   "version": "3.7.11"
  }
 },
 "nbformat": 4,
 "nbformat_minor": 5
}
