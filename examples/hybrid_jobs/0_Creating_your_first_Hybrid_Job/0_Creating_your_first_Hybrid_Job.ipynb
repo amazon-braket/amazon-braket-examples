{
 "cells": [
  {
   "cell_type": "markdown",
   "metadata": {},
   "source": [
    "# Creating your first Hybrid Job\n",
    "\n",
    "\n",
    "This tutorial provides an introduction to running hybrid quantum-classical algorithms using\n",
    "PennyLane on Amazon Braket . With Amazon Braket, you gain access to both real quantum devices and\n",
    "scalable classical compute, enabling you to push the boundaries of your algorithm.\n",
    "\n",
    "In this tutorial, we'll walk through how to create your first hybrid quantum-classical algorithms on AWS.\n",
    "With a single line of code, we'll see how to scale from PennyLane simulators on your laptop to running full-scale experiments on AWS that leverage both powerful classical compute and quantum devices.\n",
    "You'll gain understanding of the hybrid jobs queue, including QPU priority queuing, and learn how to scale classical resources for resource-intensive tasks. \n",
    "We hope these tools will empower you to start experimenting today with hybrid quantum algorithms!\n",
    "\n",
    "\n",
    "\n",
    "## Amazon Braket Hybrid Jobs\n",
    "\n",
    "Amazon Braket Hybrid Jobs offers a way for you to run hybrid quantum-classical algorithms that\n",
    "require both classical resources and quantum processing units (QPUs). Hybrid Jobs is designed to\n",
    "spin up the requested classical compute, run your algorithm, and release the instances after\n",
    "completion so you only pay for what you use. This workflow is ideal for long-running iterative\n",
    "algorithms involving both classical and quantum resources. Simply package up your code into a single\n",
    "function, create a hybrid job with a single line of code, and Braket will schedule it to run as soon\n",
    "as possible without interruption.\n",
    "\n",
    "Hybrid jobs have a separate queue from quantum tasks, so once your algorithm starts running, it will\n",
    "not be interrupted by variations in the quantum task queue. This helps your long-running algorithms\n",
    "run efficiently and predictably. Any quantum tasks created from a running hybrid job will be run\n",
    "before any other quantum tasks in the queue. This is particularly beneficial for iterative hybrid\n",
    "algorithms where subsequent tasks depend on the outcomes of prior quantum tasks. Examples of such\n",
    "algorithms include the Quantum Approximate Optimization Algorithm (QAOA), Variational Quantum\n",
    "Eigensolver (VQE), or Quantum Machine Learning (QML). You can also monitor your algorithm's progress in near-real\n",
    "time, enabling you to keep track of costs, budget, or custom metrics such as training loss or\n",
    "expectation values.\n",
    "\n",
    "Importantly, on specific QPUs, running your algorithm in Hybrid Jobs benefits from [parametric compilation](https://docs.aws.amazon.com/braket/latest/developerguide/braket-jobs-parametric-compilation.html). \n",
    "This reduces the overhead associated with the computationally expensive compilation step by compiling a circuit only once and not for every iteration in your hybrid algorithm. \n",
    "This reduces the total runtime for many variational algorithms by up to 10x.\n",
    "For long-running hybrid jobs, Braket automatically uses the updated calibration data from the hardware provider when compiling your circuit to ensure the highest quality results.\n",
    "\n",
    "## Getting started with PennyLane\n",
    "\n",
    "\n",
    "Let’s setup an algorithm that makes use of both classical and quantum resources. We adapt the [PennyLane qubit rotation tutorial](https://pennylane.ai/qml/demos/tutorial_qubit_rotation).\n",
    "\n",
    "First, we define a quantum simulator to run the algorithm on. In this example, we will use the Braket local simulator before moving onto a QPU."
   ]
  },
  {
   "cell_type": "code",
   "execution_count": 1,
   "metadata": {},
   "outputs": [],
   "source": [
    "import pennylane as qml\n",
    "from pennylane import numpy as np\n",
    "\n",
    "\n",
    "device = qml.device(\"braket.local.qubit\", wires=1)"
   ]
  },
  {
   "cell_type": "markdown",
   "metadata": {},
   "source": [
    "Now we define a circuit with two rotation gates and measure the expectation value in the $Z$-basis"
   ]
  },
  {
   "cell_type": "code",
   "execution_count": 2,
   "metadata": {},
   "outputs": [],
   "source": [
    "@qml.qnode(device)\n",
    "def circuit(params):\n",
    "    qml.RX(params[0], wires=0)\n",
    "    qml.RY(params[1], wires=0)\n",
    "    return qml.expval(qml.PauliZ(0))"
   ]
  },
  {
   "cell_type": "markdown",
   "metadata": {},
   "source": [
    "Finally, we create a classical-quantum loop that uses gradient descent to minimize the expectation value.\n",
    "\n",
    "We add the ``log_metric`` function from Braket to record the training progress (see [metrics\n",
    "documentation](https://amazon-braket-sdk-python.readthedocs.io/en/stable/_apidoc/braket.jobs.metrics.html)).\n",
    "When running on AWS, ``log_metric`` records the metrics in [Amazon CloudWatch](https://aws.amazon.com/cloudwatch/), which is accessible\n",
    "through the Braket console page or the Braket SDK. When running locally on your laptop,\n",
    "``log_metric`` prints the iteration numbers.\n",
    "\n"
   ]
  },
  {
   "cell_type": "code",
   "execution_count": 3,
   "metadata": {},
   "outputs": [],
   "source": [
    "from braket.jobs.metrics import log_metric\n",
    "\n",
    "\n",
    "def qubit_rotation(num_steps=10, stepsize=0.5):\n",
    "    opt = qml.GradientDescentOptimizer(stepsize=stepsize)\n",
    "    params = np.array([0.5, 0.75])\n",
    "\n",
    "    for i in range(num_steps):\n",
    "        # update the circuit parameters\n",
    "        params = opt.step(circuit, params)\n",
    "        expval = circuit(params)\n",
    "\n",
    "        log_metric(metric_name=\"expval\", iteration_number=i, value=expval)\n",
    "\n",
    "    return params"
   ]
  },
  {
   "cell_type": "markdown",
   "metadata": {},
   "source": [
    "To run the entire algorithm, we call the `qubit_rotation`` function to see that it runs correctly."
   ]
  },
  {
   "cell_type": "code",
   "execution_count": 4,
   "metadata": {},
   "outputs": [
    {
     "name": "stdout",
     "output_type": "stream",
     "text": [
      "Metrics - timestamp=1696957901.4336345; expval=0.38894534132396147; iteration_number=0;\n",
      "Metrics - timestamp=1696957901.480698; expval=0.12290715413453956; iteration_number=1;\n",
      "Metrics - timestamp=1696957901.5271728; expval=-0.09181374013482171; iteration_number=2;\n",
      "Metrics - timestamp=1696957901.5738564; expval=-0.2936094099948542; iteration_number=3;\n",
      "Metrics - timestamp=1696957901.6199787; expval=-0.5344079938678078; iteration_number=4;\n"
     ]
    },
    {
     "data": {
      "text/plain": [
       "[0.6767967215302757, 2.3260934173312653]"
      ]
     },
     "execution_count": 4,
     "metadata": {},
     "output_type": "execute_result"
    }
   ],
   "source": [
    "qubit_rotation(5, stepsize=0.5)"
   ]
  },
  {
   "cell_type": "markdown",
   "metadata": {},
   "source": [
    "Great! We see the expectation value change with each iteration number and the final parameters were returned as a list. Now, instead of running on our laptop, let’s submit this same function to be run on AWS."
   ]
  },
  {
   "cell_type": "markdown",
   "metadata": {},
   "source": [
    "## Running as a hybrid job\n",
    "\n",
    "You can execute long-running algorithms asynchronously with Amazon Braket Hybrid Jobs, \n",
    "which fully manages the classical infrastructure so you can focus on the algorithm. For example, you\n",
    "can train a larger circuit, or increase the number of iterations. Note that each hybrid job has\n",
    "at least a one minute startup time since it creates a containerized environment on Amazon EC2. So\n",
    "for very short workloads, such as a single circuit or a batch of circuits, it may suffice for you to\n",
    "use quantum tasks.\n",
    "\n",
    "We now show how you can go from running your local Python function to running it as a hybrid job.\n",
    "\n",
    "<div class=\"alert alert-block alert-info\">\n",
    "    <b>Note:</b> Only Python 3.10 is supported by default. For other versions, you may use hybrid job scripts, or specify a custom container image from Amazon Elastic Container Registry (ECR) (see \n",
    "<a href=\"https://docs.aws.amazon.com/braket/latest/developerguide/braket-jobs-byoc.html\">containers documentation</a>).\n",
    "</div>\n",
    "\n",
    "\n",
    "The first step to creating a hybrid job is to annotate which function you want to run with the\n",
    "`@hybrid_job` decorator. Then you create the job by invoking the function as you would for normal\n",
    "Python functions. However, the decorated function returns the hybrid job handle rather than the\n",
    "result of the function. To retrieve the results after it has been completed, use `job.result()`.\n",
    "\n",
    "For algorithms that do not need priority queueing or scheduling for on-demand QPUs, you may specify the device as `local:<provider>/<simulator>` or simply `None`. For example, when using a simulator that runs on the same classical host alongside the rest of your algorithm, such as the PennyLane Lightning CPU/GPU simulators, you may set `device=\"local:pennylane/lightning.qubit\"`.  \n",
    "\n",
    "\n",
    "The required device argument in the `@hybrid_job` decorator specifies the QPU that the hybrid job\n",
    "will have priority access to.\n",
    "The device string you give is accessible in the hybrid job instance as the environment variable ``\"AMZN_BRAKET_DEVICE_ARN\"``.\n",
    "In the following code, we annotate the `qubit_rotation` function from above.\n"
   ]
  },
  {
   "cell_type": "code",
   "execution_count": 5,
   "metadata": {},
   "outputs": [],
   "source": [
    "from braket.jobs import hybrid_job\n",
    "from braket.jobs import save_job_result\n",
    "\n",
    "@hybrid_job(device=\"local:pennylane/lightning.qubit\", dependencies=\"requirements.txt\")\n",
    "def qubit_rotation_hybrid_job(num_steps=1, stepsize=0.5):\n",
    "    opt = qml.GradientDescentOptimizer(stepsize=stepsize)\n",
    "    params = np.array([0.5, 0.75])\n",
    "\n",
    "    for i in range(num_steps):\n",
    "        # update the circuit parameters\n",
    "        params = opt.step(circuit, params)\n",
    "        expval = circuit(params)\n",
    "\n",
    "        log_metric(metric_name=\"expval\", iteration_number=i, value=expval)\n",
    "\n",
    "    return params"
   ]
  },
  {
   "cell_type": "markdown",
   "metadata": {},
   "source": [
    "Now we create a hybrid job by calling the function as usual. This returns an `AwsQuantumJob` object that contains the device ARN, region, and job name."
   ]
  },
  {
   "cell_type": "code",
   "execution_count": 6,
   "metadata": {},
   "outputs": [
    {
     "name": "stdout",
     "output_type": "stream",
     "text": [
      "AwsQuantumJob('arn':'arn:aws:braket:us-west-1:961591465522:job/qubit-rotation-hybrid-job-1696957901652')\n"
     ]
    }
   ],
   "source": [
    "job = qubit_rotation_hybrid_job(num_steps=10, stepsize=0.5)\n",
    "print(job)"
   ]
  },
  {
   "cell_type": "markdown",
   "metadata": {},
   "source": [
    "The hybrid job automatically captures the function arguments as [hyperparameters](https://docs.aws.amazon.com/braket/latest/developerguide/braket-jobs-hyperparameters.html).\n",
    "In this case, we set `num_steps = 10` and `stepsize = 0.5` as the hyperparameters."
   ]
  },
  {
   "cell_type": "markdown",
   "metadata": {},
   "source": [
    "We can check the status with:"
   ]
  },
  {
   "cell_type": "code",
   "execution_count": 7,
   "metadata": {},
   "outputs": [
    {
     "data": {
      "text/plain": [
       "'QUEUED'"
      ]
     },
     "execution_count": 7,
     "metadata": {},
     "output_type": "execute_result"
    }
   ],
   "source": [
    "job.state()"
   ]
  },
  {
   "cell_type": "markdown",
   "metadata": {},
   "source": [
    "Once the hybrid job starts, it will change the status to `RUNNING`. We can also check the hybrid job status in the Braket console.\n",
    "\n",
    "We can monitor the metrics in near-real time in the [Braket console page](https://console.aws.amazon.com/braket/) as shown below. \n",
    "\n",
    "![Training to minimize an expectation value.](console_figures/expval.png)"
   ]
  },
  {
   "cell_type": "markdown",
   "metadata": {},
   "source": [
    "After the hybrid job completes, we can get the results with `job.result()`. For this example, it should take approximately 2 minutes."
   ]
  },
  {
   "cell_type": "code",
   "execution_count": 8,
   "metadata": {},
   "outputs": [
    {
     "data": {
      "text/plain": [
       "{'result': tensor([0.03642036, 3.10081929], requires_grad=True)}"
      ]
     },
     "execution_count": 8,
     "metadata": {},
     "output_type": "execute_result"
    }
   ],
   "source": [
    "job.result()"
   ]
  },
  {
   "cell_type": "markdown",
   "metadata": {},
   "source": [
    "Any objects in the return statement are automatically captured by Braket. Note that the objects returned by the function must be a tuple with each element being serializable as text. \n",
    "\n",
    "Additionally, we can plot the metrics recording during the algorithm. Below we show the expectation value decreases with each iteration as expected."
   ]
  },
  {
   "cell_type": "code",
   "execution_count": 10,
   "metadata": {},
   "outputs": [
    {
     "data": {
      "image/png": "[encoded data removed]",
      "text/plain": [
       "<Figure size 640x480 with 1 Axes>"
      ]
     },
     "metadata": {},
     "output_type": "display_data"
    }
   ],
   "source": [
    "import pandas as pd\n",
    "import matplotlib.pyplot as plt\n",
    "\n",
    "df = pd.DataFrame(job.metrics())\n",
    "df.sort_values(by=[\"iteration_number\"], inplace=True)\n",
    "\n",
    "plt.plot(df[\"iteration_number\"], df[\"expval\"], \"-o\", color=\"orange\")\n",
    "plt.xlabel(\"iteration number\")\n",
    "plt.ylabel(\"expectation value\")\n",
    "plt.title(\"Simulator results\")\n",
    "\n",
    "plt.show()"
   ]
  },
  {
   "cell_type": "markdown",
   "metadata": {},
   "source": [
    "## Running on a QPU with priority\n",
    "\n",
    "The next step is to see how well the qubit rotation works on a real QPU. We\n",
    "create a hybrid job with the Rigetti device as the priority QPU. We also increase the number of\n",
    "steps to 10.\n",
    "\n",
    "Using hybrid jobs for iterative algorithms is very beneficial because you retain priority access to the\n",
    "target QPU. So once your quantum tasks are created in the hybrid job, they run ahead of other tasks\n",
    "waiting in the *quantum task queue*. This means your\n",
    "algorithm will not be interrupted by other quantum tasks, so it will run more efficiently and\n",
    "predictably. Quantum tasks submitted as part of a hybrid job have priority, and are aggregated in the *priority task queue*.\n",
    "\n",
    "Hybrid jobs have their own *hybrid jobs queue* so that only a single\n",
    "hybrid job can run on a QPU at a time. Each QPU has its own hybrid jobs queue. Note that this is a different queue from the quantum tasks. For a single quantum circuit, or a batch of circuit, it’s\n",
    "recommended to create quantum tasks instead of hybrid jobs. For more information on quantum tasks and hybrid jobs queue see the [Amazon Braket documentation](https://docs.aws.amazon.com/braket/latest/developerguide/braket-task-when.html).\n",
    "\n",
    "To get QPU priority, you must ensure that the device ARN used within the function matches that\n",
    "specified in the decorator. For convenience, you can use the helper function ``get_device_arn()`` to\n",
    "automatically capture the device ARN declared in ``@hybrid_job``.\n",
    "\n",
    "<div class=\"alert alert-block alert-info\">\n",
    "    <b>Note:</b> Only hybrid jobs running on AWS receive priority. Hybrid jobs running <a href=\"https://docs.aws.amazon.com/braket/latest/developerguide/braket-jobs-local-mode.html\">locally</a>, or with a mismatched device ARN do not get priority task queueing. \n",
    "</div>\n",
    "\n",
    "In the previous example, we declared the local simulator outside the decorated function scope.\n",
    "However, for AWS devices such as QPUs or on-demand simulators, the device must be declared within the function scope. \n",
    "\n",
    "<div class=\"alert alert-block alert-info\">\n",
    "    <b>Note:</b> AWS devices must be declared within the body of the decorated function.\n",
    "</div>"
   ]
  },
  {
   "cell_type": "code",
   "execution_count": 11,
   "metadata": {},
   "outputs": [],
   "source": [
    "from braket.devices import Devices\n",
    "\n",
    "# device_arn = Devices.Amazon.SV1\n",
    "device_arn = Devices.Rigetti.AspenM3\n",
    "\n",
    "@hybrid_job(device=device_arn, dependencies=\"requirements.txt\") # set priority QPU\n",
    "def qpu_qubit_rotation_hybrid_job(num_steps=10, stepsize=0.5):\n",
    "    # AWS devices must be declared within the decorated function.\n",
    "    device = qml.device(\n",
    "        \"braket.aws.qubit\",\n",
    "        device_arn=device_arn.value,  # Make sure the device ARN matches the hybrid job device ARN\n",
    "        wires=2,\n",
    "        shots=1_000\n",
    "    )\n",
    "\n",
    "    @qml.qnode(device)\n",
    "    def circuit(params):\n",
    "        qml.RX(params[0], wires=0)\n",
    "        qml.RY(params[1], wires=0)\n",
    "        return qml.expval(qml.PauliZ(0))\n",
    "        \n",
    "    opt = qml.GradientDescentOptimizer(stepsize=stepsize)\n",
    "    params = np.array([0.5, 0.75])\n",
    "\n",
    "    for i in range(num_steps):\n",
    "        # update the circuit parameters\n",
    "        params = opt.step(circuit, params)\n",
    "        expval = circuit(params)\n",
    "\n",
    "        log_metric(metric_name=\"expval\", iteration_number=i, value=expval)\n",
    "\n",
    "    return params"
   ]
  },
  {
   "cell_type": "markdown",
   "metadata": {},
   "source": [
    "To get a sense of how long we will wait before the hybrid job runs, we can check the hybrid job\n",
    "queue depth with `AwsDevice(device_arn).queue_depth().jobs`. We can also check if the device is\n",
    "currently available with `AwsDevice(device_arn).is_available()`.\n",
    "\n",
    "You can check the queue depth on the devices page of the [Amazon Braket Console](https://console.aws.amazon.com/braket/home). Below, we show the devices page for Rigetti Aspen-M-3.\n",
    "\n",
    "![Rigetti Aspen-M-3 showing the queue depths.](console_figures/queue_viz.png)\n"
   ]
  },
  {
   "cell_type": "markdown",
   "metadata": {},
   "source": [
    "\n",
    "When there are no other hybrid jobs in the queue ahead of you, and the device is available, the hybrid job will start running.\n",
    "\n",
    "<div class=\"alert alert-block alert-info\">\n",
    "    <b>Note:</b> Running the following cell will only run once the QPU is available. This may take a long time and will result in usage fees charged to your AWS account. Only run the cell if you are comfortable with the potential wait-time and costs. We recommend monitoring the Billing & Cost Management Dashboard on the AWS console.\n",
    "</div>"
   ]
  },
  {
   "cell_type": "code",
   "execution_count": 13,
   "metadata": {},
   "outputs": [
    {
     "name": "stdout",
     "output_type": "stream",
     "text": [
      "AwsQuantumJob('arn':'arn:aws:braket:us-west-1:961591465522:job/qpu-qubit-rotation-hybrid-job-1696958403615')\n"
     ]
    }
   ],
   "source": [
    "qpu_job = qpu_qubit_rotation_hybrid_job(num_steps=10, stepsize=0.5)\n",
    "print(qpu_job)"
   ]
  },
  {
   "cell_type": "markdown",
   "metadata": {},
   "source": [
    "Next, we wait for the algorithm to complete and download the result. "
   ]
  },
  {
   "cell_type": "code",
   "execution_count": 15,
   "metadata": {},
   "outputs": [
    {
     "data": {
      "text/plain": [
       "{'result': [0.13750000000000018, 2.9715000000000003]}"
      ]
     },
     "execution_count": 15,
     "metadata": {},
     "output_type": "execute_result"
    }
   ],
   "source": [
    "qpu_job.result()"
   ]
  },
  {
   "cell_type": "markdown",
   "metadata": {},
   "source": [
    "Next, we plot the expectation value per iteration number below. We see that on a real QPU, the data is not as smooth as the simulator, but the minimum still is detected correctly!"
   ]
  },
  {
   "cell_type": "code",
   "execution_count": 18,
   "metadata": {},
   "outputs": [
    {
     "data": {
      "image/png": "[encoded data removed]",
      "text/plain": [
       "<Figure size 640x480 with 1 Axes>"
      ]
     },
     "metadata": {},
     "output_type": "display_data"
    }
   ],
   "source": [
    "df = pd.DataFrame(qpu_job.metrics())\n",
    "df.sort_values(by=[\"iteration_number\"], inplace=True)\n",
    "\n",
    "plt.plot(df[\"iteration_number\"], df[\"expval\"], \"-o\", color=\"teal\")\n",
    "plt.xlabel(\"iteration number\")\n",
    "plt.ylabel(\"expectation value\")\n",
    "plt.title(\"QPU results\")\n",
    "plt.show()"
   ]
  },
  {
   "cell_type": "markdown",
   "metadata": {},
   "source": [
    "<div class=\"alert alert-block alert-info\">\n",
    "    <b>Note:</b> Charges shown are estimates based on your Amazon Braket simulator and quantum processing unit (QPU) task usage. \n",
    "    Estimated charges shown may differ from your actual charges. \n",
    "    Estimated charges do not factor in any discounts or credits, and you may experience additional charges based on your use of other services such as Amazon Elastic Compute Cloud (Amazon EC2)\n",
    "    Estimated cost to run this example is $39 USD.\n",
    "</div>"
   ]
  },
  {
   "cell_type": "markdown",
   "metadata": {},
   "source": [
    "## Conclusion\n",
    "\n",
    "In this tutorial, we showed how to migrate from local Python functions to running algorithms on simulators and QPUs on Amazon Braket.\n",
    "We adapted the simple example of rotating a qubit using gradient descent, running this on both a\n",
    "local simulator and a real QPU. \n",
    "Using Amazon Braket Hybrid Jobs allowed us to run algorithms asynchronously, scale classical compute using AWS, and obtain priority access to the selected QPU for the duration of our algorithm."
   ]
  }
 ],
 "metadata": {
  "kernelspec": {
   "display_name": "decorator",
   "language": "python",
   "name": "python3"
  },
  "language_info": {
   "codemirror_mode": {
    "name": "ipython",
    "version": 3
   },
   "file_extension": ".py",
   "mimetype": "text/x-python",
   "name": "python",
   "nbconvert_exporter": "python",
   "pygments_lexer": "ipython3",
   "version": "3.9.18"
  },
  "orig_nbformat": 4
 },
 "nbformat": 4,
 "nbformat_minor": 2
}
