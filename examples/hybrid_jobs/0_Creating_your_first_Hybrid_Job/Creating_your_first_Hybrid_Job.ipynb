{
 "cells": [
  {
   "cell_type": "markdown",
   "metadata": {},
   "source": [
    "# Getting started with Amazon Braket Hybrid Jobs\n",
    "\n",
    "This tutorial shows how to run your first Amazon Braket Hybrid Job. To get started, we consider small circuits with only one qubit and one gate.\n",
    "\n",
    "\n",
    "## Learning outcomes\n",
    "* Get setup to run your first job\n",
    "* Write an algorithm script to run on Braket Jobs\n",
    "* Understand how to run scripts or functions\n",
    "* Create a job on Braket simulators or QPUs\n",
    "* Monitoring the job state\n",
    "* Save results from a job\n",
    "* Using a specific AWS session\n",
    "* Running jobs with priority on QPUs\n",
    "* Use local jobs to quickly test and debug scripts\n",
    "* Create a Braket Job using the Braket console"
   ]
  },
  {
   "cell_type": "markdown",
   "metadata": {},
   "source": [
    "## Getting setup to run Braket Jobs\n",
    "\n",
    "When you use Amazon Braket Hybrid Jobs for the first time, you need to create an IAM role with the right [permissions](https://docs.aws.amazon.com/braket/latest/developerguide/braket-manage-access.html#about-amazonbraketjobsexecution). This role allows your job to perform actions on your behalf while it is executing your algorithm, for instance, access S3 to return the results of your job. To create the role or check if you already have one please visit the Permissions tab from the left menu of the Braket Console.\n",
    "\n",
    "## Writing an algorithm script\n",
    "\n",
    "To create a Braket Job, you first need a Python script to run. In this example, it's contained in `algorithm_script.py`. The script is printed in the code cell below for convenience. \n",
    "\n",
    "As shown, each of the circuits has only one $X$ rotation gate with a random angle. The circuit is repeated five times with different random rotations. Note that the algorithm script does not specify the backend Amazon Braket device ARN explicitly. Instead, it is provided through environment variables such as `os.environ[\"AMZN_BRAKET_DEVICE_ARN\"]` that are passed to the algorithm script when creating the job. "
   ]
  },
  {
   "cell_type": "markdown",
   "metadata": {
    "pycharm": {
     "name": "#%% md\n"
    }
   },
   "source": [
    "#### This block is a copy of the algorithm script.\n",
    "\n",
    "```python\n",
    "\n",
    "import os\n",
    "import numpy as np\n",
    "\n",
    "from braket.aws import AwsDevice\n",
    "from braket.circuits import Circuit\n",
    "from braket.jobs import save_job_result\n",
    "from braket.tracking import Tracker\n",
    "\n",
    "t = Tracker().start()\n",
    "\n",
    "print(\"Test job started!\")\n",
    "\n",
    "# Use the device declared in the creation script\n",
    "device = AwsDevice(os.environ[\"AMZN_BRAKET_DEVICE_ARN\"])\n",
    "\n",
    "counts_list = []\n",
    "angle_list = []\n",
    "for _ in range(5):\n",
    "    angle = np.pi * np.random.randn()\n",
    "    random_circuit = Circuit().rx(0, angle)\n",
    "\n",
    "    task = device.run(random_circuit, shots=100)\n",
    "    counts = task.result().measurement_counts\n",
    "\n",
    "    angle_list.append(angle)\n",
    "    counts_list.append(counts)\n",
    "    print(counts)\n",
    "\n",
    "# Save the variables of interest so that we can access later\n",
    "save_job_result({\"counts\": counts_list, \"angle\": angle_list, \"estimated cost\": t.qpu_tasks_cost() + t.simulator_tasks_cost()})\n",
    "\n",
    "print(\"Test job completed!\")\n",
    "```"
   ]
  },
  {
   "cell_type": "markdown",
   "metadata": {},
   "source": [
    "## Creating your first job\n",
    "\n",
    "Once the script is finalized, you can create a Braket Job with `AwsQuantumJob`. When the job is created, Amazon Braket starts the job instance (based on EC2) and spins up a Docker container to run your algorithm script. Other configurations can be specified via keyword arguments. See the [developer guide](https://docs.aws.amazon.com/braket/latest/developerguide/what-is-braket.html) and other example notebooks to learn more about how to customize your jobs\n",
    "\n",
    "This example uses the following inputs for `AwsQuantumJob`:\n",
    "- <b>device</b>: The ARN of the Braket simulator or QPU to use in the job. It will be passed as an environment variable to the algorithm script. \n",
    "- <b>source_module</b>: The path to a file or a Python module that contains your algorithm script. It will be uploaded to the container for running the Braket Job.\n",
    "- <b>wait_until_complete (optional)</b>: If True, the function call will wait until the Braket Job is completed and will additionally print logs to the local console. Otherwise, it will run asynchronously. The default is False."
   ]
  },
  {
   "cell_type": "code",
   "execution_count": 2,
   "metadata": {},
   "outputs": [],
   "source": [
    "from braket.aws import AwsQuantumJob"
   ]
  },
  {
   "cell_type": "code",
   "execution_count": 3,
   "metadata": {
    "pycharm": {
     "name": "#%%\n"
    }
   },
   "outputs": [
    {
     "name": "stdout",
     "output_type": "stream",
     "text": [
      "Initializing Braket Job: arn:aws:braket:<region>:<account-id>:job/<job-name>\n",
      "...............................................\n",
      "\u001b[34m2021-11-10 20:55:24,467 sagemaker-training-toolkit INFO     Invoking user script\u001b[0m\n",
      "\u001b[34mTraining Env:\u001b[0m\n",
      "\u001b[34m{\n",
      "    \"additional_framework_parameters\": {},\n",
      "    \"channel_input_dirs\": {},\n",
      "    \"current_host\": \"algo-1\",\n",
      "    \"framework_module\": null,\n",
      "    \"hosts\": [\n",
      "        \"algo-1\"\n",
      "    ],\n",
      "    \"hyperparameters\": {},\n",
      "    \"input_config_dir\": \"/opt/ml/input/config\",\n",
      "    \"input_data_config\": {},\n",
      "    \"input_dir\": \"/opt/ml/input\",\n",
      "    \"is_master\": true,\n",
      "    \"job_name\": \"BraketJob-<account-id>-<job-name>\",\n",
      "    \"log_level\": 20,\n",
      "    \"master_hostname\": \"algo-1\",\n",
      "    \"model_dir\": \"/opt/ml/model\",\n",
      "    \"module_dir\": \"/opt/ml/code\",\n",
      "    \"module_name\": \"braket_container\",\n",
      "    \"network_interface_name\": \"eth0\",\n",
      "    \"num_cpus\": 2,\n",
      "    \"num_gpus\": 0,\n",
      "    \"output_data_dir\": \"/opt/ml/output/data\",\n",
      "    \"output_dir\": \"/opt/ml/output\",\n",
      "    \"output_intermediate_dir\": \"/opt/ml/output/intermediate\",\n",
      "    \"resource_config\": {\n",
      "        \"current_host\": \"algo-1\",\n",
      "        \"hosts\": [\n",
      "            \"algo-1\"\n",
      "        ],\n",
      "        \"network_interface_name\": \"eth0\"\n",
      "    },\n",
      "    \"user_entry_point\": \"braket_container.py\"\u001b[0m\n",
      "...............................................\n",
      "...............................................\n",
      "\u001b[34mRunning Code As Subprocess\u001b[0m\n",
      "\u001b[34mTest job started!!!!!\u001b[0m\n",
      "\u001b[34mCounter({'0': 88, '1': 12})\u001b[0m\n",
      "\u001b[34mCounter({'1': 58, '0': 42})\u001b[0m\n",
      "\u001b[34mCounter({'1': 54, '0': 46})\u001b[0m\n",
      "\u001b[34mCounter({'0': 100})\u001b[0m\n",
      "\u001b[34mCounter({'0': 100})\u001b[0m\n",
      "\u001b[34mTest job completed!!!!!\u001b[0m\n",
      "\u001b[34mCode Run Finished\u001b[0m\n",
      "\u001b[34m2021-11-10 20:55:58,953 sagemaker-training-toolkit INFO     Reporting training SUCCESS\u001b[0m\n"
     ]
    }
   ],
   "source": [
    "# This cell should take about 5 mins\n",
    "job = AwsQuantumJob.create(\n",
    "    device=\"arn:aws:braket:::device/quantum-simulator/amazon/sv1\",\n",
    "    source_module=\"algorithm_script.py\",\n",
    "    wait_until_complete=True,\n",
    ")"
   ]
  },
  {
   "cell_type": "markdown",
   "metadata": {},
   "source": [
    "In this example, the algorithm is defined by a single file, so the `source_module` is `algorithm_script.py`. Depending on your application, there are other options for setting the source module. For example, if you wish to only execute a part of `algorithm_script.py` at the start of a Braket Job, you can package that part to be a `starting_function()`. Then assign the function as the entry point by adding the `entry_point` input argument."
   ]
  },
  {
   "cell_type": "code",
   "execution_count": 4,
   "metadata": {},
   "outputs": [],
   "source": [
    "source_module = \"algorithm_script.py\"\n",
    "entry_point = \"algorithm_script:starting_function\""
   ]
  },
  {
   "cell_type": "markdown",
   "metadata": {},
   "source": [
    "If your algorithm script requires other dependencies, you can put them all in one folder, say the `algorithm_folder`. The input arguments would then be"
   ]
  },
  {
   "cell_type": "code",
   "execution_count": 5,
   "metadata": {},
   "outputs": [],
   "source": [
    "source_module = \"algorithm_folder\"\n",
    "entry_point = \"algorithm_folder.algorithm_script:starting_function\""
   ]
  },
  {
   "cell_type": "markdown",
   "metadata": {},
   "source": [
    "## Checking job state and loading results\n",
    "\n",
    "The status of a Braket Job can be checked by calling `job.state()`. The state will be one of \"QUEUED\", \"RUNNING\", \"FAILED\", \"COMPLETED\", \"CANCELLING\", or \"CANCELLED\". "
   ]
  },
  {
   "cell_type": "code",
   "execution_count": 6,
   "metadata": {},
   "outputs": [
    {
     "data": {
      "text/plain": [
       "'COMPLETED'"
      ]
     },
     "execution_count": 6,
     "metadata": {},
     "output_type": "execute_result"
    }
   ],
   "source": [
    "job.state()"
   ]
  },
  {
   "cell_type": "markdown",
   "metadata": {},
   "source": [
    "Once completed, the result can be retrieved using `job.result()`. Logs and metadata are also accessible via `job.logs()` and `job.metadata()`. If you lose the reference to the job object, you can always reinstantiate it using your job ARN as `job=AwsQuantumJob(\"your-job-arn\")`. The ARN of a job can be found in the Amazon Braket Console. By default the ARN of a job will be \"`arn:aws:braket:<region>:<account_id>:job/<job_name>`\". "
   ]
  },
  {
   "cell_type": "code",
   "execution_count": 7,
   "metadata": {},
   "outputs": [
    {
     "name": "stdout",
     "output_type": "stream",
     "text": [
      "counts:  [{'1': 12, '0': 88}, {'0': 42, '1': 58}, {'0': 46, '1': 54}, {'0': 100}, {'0': 100}]\n",
      "angles:  [-0.6634809825751307, 1.8729107298836103, -1.8816578492668359, -0.04308463076559567, 0.03224990551866221]\n"
     ]
    }
   ],
   "source": [
    "results = job.result()  # will return once job.state() = \"COMPLETED\", should be 6 minutes\n",
    "print(\"counts: \", results[\"counts\"])\n",
    "print(\"angles: \", results[\"angles\"])"
   ]
  },
  {
   "cell_type": "code",
   "execution_count": 8,
   "metadata": {},
   "outputs": [],
   "source": [
    "# print(job.logs()) # uncomment to print logs"
   ]
  },
  {
   "cell_type": "markdown",
   "metadata": {},
   "source": [
    "You can also download the result to a local directory."
   ]
  },
  {
   "cell_type": "code",
   "execution_count": 9,
   "metadata": {},
   "outputs": [],
   "source": [
    "job.download_result()  # download job result to local directory"
   ]
  },
  {
   "cell_type": "code",
   "execution_count": 10,
   "metadata": {},
   "outputs": [
    {
     "name": "stdout",
     "output_type": "stream",
     "text": [
      "Task Summary\n",
      "{'arn:aws:braket:::device/quantum-simulator/amazon/sv1': {'shots': 500, 'tasks': {'COMPLETED': 5}, 'execution_duration': 0.081, 'billed_execution_duration': 15.0}}\n",
      "Note: Charges shown are estimates based on your Amazon Braket simulator and quantum processing unit (QPU) task usage. Estimated charges shown may differ from your actual charges. Estimated charges do not factor in any discounts or credits, and you may experience additional charges based on your use of other services such as Amazon Elastic Compute Cloud (Amazon EC2).\n",
      "Estimated cost to run tasks in this job: 0.01875 USD\n"
     ]
    }
   ],
   "source": [
    "print(\"Task Summary\")\n",
    "print(job.result()['task summary'])\n",
    "print('Note: Charges shown are estimates based on your Amazon Braket simulator and quantum processing unit (QPU) task usage. Estimated charges shown may differ from your actual charges. Estimated charges do not factor in any discounts or credits, and you may experience additional charges based on your use of other services such as Amazon Elastic Compute Cloud (Amazon EC2).')\n",
    "print(f\"Estimated cost to run tasks in this job: {job.result()['estimated cost']} USD\")"
   ]
  },
  {
   "cell_type": "markdown",
   "metadata": {},
   "source": [
    "## Increase performance by running jobs on QPUs\n",
    "\n",
    "With Braket Jobs, you can run hybrid algorithms on all QPUs available through Amazon Braket. When you select a QPU as your device, your job will have priority access for the duration of your job. Quantum tasks created as part of your job will be executed ahead of other tasks in the device queue. This reduces the risk of certain tasks being delayed or drifting calibrations on the device. \n",
    "\n",
    "You can seamlessly swap the SV1 simulator for a QPU by changing the device argument in `AwsQuantumJob.create()`. For instance, the code below will create a job with priority access on the Rigetti Aspen-M-3 device:\n",
    "\n",
    "<div class=\"alert alert-block alert-info\">\n",
    "    <b>Note:</b> The following cell uses the Rigetti Aspen-M-3 device; before you uncomment and run it, make sure the device is currently available. You can find QPU availability windows on the <a href=\"https://us-west-1.console.aws.amazon.com/braket/home?region=us-west-1#/devices\">Devices page</a> in the Amazon Braket Console\n",
    "</div>"
   ]
  },
  {
   "cell_type": "code",
   "execution_count": null,
   "metadata": {},
   "outputs": [],
   "source": [
    "# qpu_job = AwsQuantumJob.create(\n",
    "#     device=\"arn:aws:braket:us-west-1::device/qpu/rigetti/Aspen-M-3\",\n",
    "#     source_module=\"algorithm_script.py\",\n",
    "#     wait_until_complete=False,\n",
    "# )"
   ]
  },
  {
   "cell_type": "markdown",
   "metadata": {},
   "source": [
    "When you create the job, Amazon Braket will wait for the QPU to become available before initializing the job. Note that the Braket Job will automatically select the AWS region where the device is available. As mentioned earlier, the specified device is provided to the job in the environment variable `AMZN_BRAKET_DEVICE_ARN`; the script `algorithm_script.py` uses this variable to choose the Braket device to use.\n",
    "\n",
    "In variational algorithms, there are usually optimization processes that update parameters of a fixed parametrized circuit. When executing such algorithms on a supported QPU with Hybrid Jobs, parametric compilation can improve the performance of the jobs. All you need to do is to submit the parametrized circuit using free parameters in the algorithm script. Braket will compile the circuit once and manage the compiled circuit of the Job. There is no recompilation for subsequent parameter updates to the same circuit, resulting in faster runtimes. An example of algorithm script that uses a parametrized circuit is in `algorithm_script_parametrized_circuit.py`. Use this algorithm script in the place of `algorithm_script.py` and submit a job to a supported Braket QPU to use parametric compilation. See the Amazon Braket developer guide to learn more about [the usage of free parameters](https://docs.aws.amazon.com/braket/latest/developerguide/braket-constructing-circuit.html#braket-gates) and [parametric compilation with Hybrid Jobs](https://docs.aws.amazon.com/braket/latest/developerguide/braket-jobs.html)."
   ]
  },
  {
   "cell_type": "markdown",
   "metadata": {},
   "source": [
    "## AWS Sessions\n",
    "\n",
    "You can customize the default location where Braket Jobs saves and loads results in Amazon S3 by providing the AWS session information. The name of the S3 bucket needs to start with \"amazon-braket-\", and it must be in the same region as the job being created."
   ]
  },
  {
   "cell_type": "code",
   "execution_count": 11,
   "metadata": {},
   "outputs": [],
   "source": [
    "from braket.aws import AwsSession\n",
    "\n",
    "# Set Amazon S3 bucket\n",
    "aws_session = AwsSession(default_bucket=\"amazon-braket-bucket-name\")"
   ]
  },
  {
   "cell_type": "markdown",
   "metadata": {},
   "source": [
    "To create a Braket Job with this S3 bucket, pass `aws_session` as an argument to ` AwsQuantumJob.create()`:\n",
    "\n",
    "```\n",
    "job = AwsQuantumJob.create(\n",
    "    device=\"arn:aws:braket:::device/quantum-simulator/amazon/sv1\",\n",
    "    source_module=\"algorithm_script.py\",\n",
    "    aws_session=aws_session # using specific S3 bucket\n",
    ")\n",
    "```"
   ]
  },
  {
   "cell_type": "markdown",
   "metadata": {},
   "source": [
    "## Debugging with local Braket Jobs\n",
    "\n",
    "For faster testing and debugging of your code, you can run a job locally in your own environment. This feature requires Docker to be installed in your local environment. Amazon Braket notebooks have Docker pre-installed, so you can test local jobs in hosted notebooks instantly. To install Docker in your local environment, follow these [instructions](https://docs.docker.com/get-docker/). When a local job is created for the first time, it will take longer because it needs to build the container. The subsequent runs will be faster. Note that local jobs will not be visible in the Amazon Braket Console.\n",
    "\n",
    "To run a job in local mode, make sure the Docker daemon is running, and then simply create a `LocalQuantumJob` instead of an `AwsQuantumJob`. Local jobs always run synchronously and display the logs."
   ]
  },
  {
   "cell_type": "code",
   "execution_count": 12,
   "metadata": {
    "tags": []
   },
   "outputs": [
    {
     "name": "stdout",
     "output_type": "stream",
     "text": [
      "Using the short-lived AWS credentials found in session. They might expire while running.\n",
      "Boto3 Version:  1.18.33\n",
      "Beginning Setup\n",
      "Completed 50.5 KiB/50.5 KiB (72.5 KiB/s) with 1 file(s) remaining\n",
      "...............................................\n",
      "...............................................\n",
      "Running Code As Subprocess\n",
      "Test job started!!!!!\n",
      "Counter({'0': 79, '1': 21})\n",
      "Counter({'0': 84, '1': 16})\n",
      "Counter({'0': 91, '1': 9})\n",
      "Counter({'0': 85, '1': 15})\n",
      "Counter({'1': 94, '0': 6})\n",
      "Test job completed!!!!!\n",
      "Code Run Finished\n"
     ]
    }
   ],
   "source": [
    "from braket.jobs.local.local_job import LocalQuantumJob\n",
    "\n",
    "# This cell should take about 2 min\n",
    "job = LocalQuantumJob.create(\n",
    "    device=\"arn:aws:braket:::device/quantum-simulator/amazon/sv1\",\n",
    "    source_module=\"algorithm_script.py\",\n",
    ")"
   ]
  },
  {
   "cell_type": "code",
   "execution_count": 13,
   "metadata": {},
   "outputs": [
    {
     "name": "stdout",
     "output_type": "stream",
     "text": [
      "Task Summary\n",
      "{'arn:aws:braket:::device/quantum-simulator/amazon/sv1': {'shots': 500, 'tasks': {'COMPLETED': 5}, 'execution_duration': 0.046, 'billed_execution_duration': 15.0}}\n",
      "Note: Charges shown are estimates based on your Amazon Braket simulator and quantum processing unit (QPU) task usage. Estimated charges shown may differ from your actual charges. Estimated charges do not factor in any discounts or credits, and you may experience additional charges based on your use of other services such as Amazon Elastic Compute Cloud (Amazon EC2).\n",
      "Estimated cost to run tasks in this job: 0.01875 USD\n"
     ]
    }
   ],
   "source": [
    "print(\"Task Summary\")\n",
    "print(job.result()['task summary'])\n",
    "print('Note: Charges shown are estimates based on your Amazon Braket simulator and quantum processing unit (QPU) task usage. Estimated charges shown may differ from your actual charges. Estimated charges do not factor in any discounts or credits, and you may experience additional charges based on your use of other services such as Amazon Elastic Compute Cloud (Amazon EC2).')\n",
    "print(f\"Estimated cost to run tasks in this job: {job.result()['estimated cost']} USD\")"
   ]
  },
  {
   "cell_type": "markdown",
   "metadata": {},
   "source": [
    "## Creating a Braket Job from the Braket console\n",
    "\n",
    "Besides creating a Braket Job programmatically using `AwsQuantumJob.create`, there is also an option to create a job in the Braket console. Follow [this link](https://us-west-2.console.aws.amazon.com/braket/home#/job/create) to the \\\"Create job\\\" page. First, we need to give our new job a unique name. By default, Amazon Braket leverages the AmazonBraketJobsExecutionRole for your job to ensure all the necessary permissions to AWS resources exist during execution. The default S3 folder, where all inputs and outputs for your job are saved, follows the convention `amazon-braket-<region>-<account number>/jobs/<job-name>`. Amazon Braket will create the S3 bucket and folder on your behalf if it doesn't exist. You have the option to customize these defaults in the \\\"Advanced settings\\\" tab.\n",
    "\n",
    "\n",
    "<div align=\"center\"><img src=\"console_figures/1-create.png\"/></div>"
   ]
  },
  {
   "cell_type": "markdown",
   "metadata": {},
   "source": [
    "Next, select the algorithm script for the job. The script can be uploaded directly in the console as a single file. If there are many files, such as helper functions or other dependencies that go with the algorithm script, you have the option to upload the files to a S3 bucket and provide the S3 folder.\n",
    "\n",
    "<div align=\"center\"><img src=\"console_figures/2-algorithm.png\"/></div>"
   ]
  },
  {
   "cell_type": "markdown",
   "metadata": {},
   "source": [
    "Third, select a container environment for your job. The \"Base\" container is enough for the example in this notebook. For information about using other pre-built or custom containers, see the Pennylane and the BYOC example notebooks. \n",
    "\n",
    "<div align=\"center\"><img src=\"console_figures/3-container.png\"/></div>"
   ]
  },
  {
   "cell_type": "markdown",
   "metadata": {},
   "source": [
    "You must also select a Braket on-demand simulator or QPU for your job and configure the execution settings. Finally, there are optional hyperparameter and data inputs, as well as the possibility to customize the default locations for checkpoints and output data. We will dive deeper into these advanced use cases in other example notebooks. After finishing all the settings, you can create the job by clicking the \\\"Create job\\\" button. We can now view the progress in the Braket console.\n",
    "\n",
    "<div align=\"center\"><img src=\"console_figures/4-execution.png\"/></div>"
   ]
  },
  {
   "cell_type": "markdown",
   "metadata": {},
   "source": [
    "## Summary\n",
    "\n",
    "In this tutorial, we have created our first Braket Job with a simple batch of five circuits using the Amazon Braket SDK and, as an alternative, from the Braket console. We learned how to change the Amazon S3 folder and the AWS region for a job, and how to save results. We learned how to seamlessly change the device to run on simulators or QPUs. We used local mode to quickly test code. Finally, we created the same job using the Braket console."
   ]
  }
 ],
 "metadata": {
  "kernelspec": {
   "display_name": "Python 3 (ipykernel)",
   "language": "python",
   "name": "python3"
  },
  "language_info": {
   "codemirror_mode": {
    "name": "ipython",
    "version": 3
   },
   "file_extension": ".py",
   "mimetype": "text/x-python",
   "name": "python",
   "nbconvert_exporter": "python",
   "pygments_lexer": "ipython3",
   "version": "3.10.9"
  },
  "vscode": {
   "interpreter": {
    "hash": "590fab68195cf107911461461f81d5c472d3d6127f579badfcfad30f03e5cab2"
   }
  }
 },
 "nbformat": 4,
 "nbformat_minor": 4
}
