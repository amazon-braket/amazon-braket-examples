{
 "cells": [
  {
   "attachments": {},
   "cell_type": "markdown",
   "id": "8a37fc36",
   "metadata": {
    "papermill": {
     "duration": 0.003768,
     "end_time": "2023-02-20T20:33:59.714849",
     "exception": false,
     "start_time": "2023-02-20T20:33:59.711081",
     "status": "completed"
    },
    "tags": []
   },
   "source": [
    "# Example notebook \n",
    "\n",
    "This notebook is a copy from `examples/getting_started/0_Getting_started/0_Getting_started.ipynb` with a small modifications for use with [Papermill](https://github.com/nteract/papermill) and Amazon Braket Hybrid Jobs. \n",
    "\n",
    "## Papermill parameters\n",
    "\n",
    "Papermill is a tool for parameterizing, executing, and analyzing Jupyter Notebooks. \n",
    "To parameterize a notebook, we need tag a cell that contains all the parameters. \n",
    "We can only tag one cell, and for simplicity we place it at the top of the notebook. \n",
    "Full instructions are available here https://papermill.readthedocs.io/en/latest/usage-parameterize.html#designate-parameters-for-a-cell. \n",
    "\n",
    "Below, we tag the parameter `shots=1000`. \n",
    "We can then run the notebook as usual cell-by-cell to see the results. \n",
    "\n",
    "We additionally add two Braket specific parameters called `device_arn` and `results_dir`. \n",
    "These will be overridden when running a Hybrid Job. \n",
    "\n",
    "**In the following cell, we added a tag called `parameters` for Papermill to recognize. If you don't see the tag, follow the instructions above.**"
   ]
  },
  {
   "cell_type": "code",
   "execution_count": 1,
   "id": "4510e1c1",
   "metadata": {
    "execution": {
     "iopub.execute_input": "2023-02-20T20:33:59.722986Z",
     "iopub.status.busy": "2023-02-20T20:33:59.722604Z",
     "iopub.status.idle": "2023-02-20T20:33:59.731374Z",
     "shell.execute_reply": "2023-02-20T20:33:59.730526Z"
    },
    "papermill": {
     "duration": 0.014877,
     "end_time": "2023-02-20T20:33:59.733298",
     "exception": false,
     "start_time": "2023-02-20T20:33:59.718421",
     "status": "completed"
    },
    "tags": [
     "parameters"
    ]
   },
   "outputs": [],
   "source": [
    "# Papermill parameters\n",
    "shots = 1000\n",
    "\n",
    "# Braket specific parameters\n",
    "device_arn = \"arn:aws:braket:::device/quantum-simulator/amazon/sv1\"\n",
    "results_dir = \".\""
   ]
  },
  {
   "cell_type": "code",
   "execution_count": 2,
   "id": "6655fdcd",
   "metadata": {
    "execution": {
     "iopub.execute_input": "2023-02-20T20:33:59.740567Z",
     "iopub.status.busy": "2023-02-20T20:33:59.740075Z",
     "iopub.status.idle": "2023-02-20T20:33:59.744125Z",
     "shell.execute_reply": "2023-02-20T20:33:59.743112Z"
    },
    "papermill": {
     "duration": 0.009816,
     "end_time": "2023-02-20T20:33:59.746127",
     "exception": false,
     "start_time": "2023-02-20T20:33:59.736311",
     "status": "completed"
    },
    "tags": [
     "injected-parameters"
    ]
   },
   "outputs": [],
   "source": [
    "# Parameters\n",
    "shots = 1000\n",
    "device_arn = \"arn:aws:braket:us-east-1::device/qpu/ionq/Harmony\"\n",
    "results_dir = \"/opt/braket/model\""
   ]
  },
  {
   "attachments": {},
   "cell_type": "markdown",
   "id": "e92037e6",
   "metadata": {
    "papermill": {
     "duration": 0.002878,
     "end_time": "2023-02-20T20:33:59.751951",
     "exception": false,
     "start_time": "2023-02-20T20:33:59.749073",
     "status": "completed"
    },
    "tags": []
   },
   "source": [
    "# Getting started with Amazon Braket\n",
    "\n",
    "In this tutorial we prepare a maximally entangled Bell state between two qubits. \n",
    "We then run our circuit on a local simulator and obtain the results."
   ]
  },
  {
   "cell_type": "code",
   "execution_count": 3,
   "id": "f27c1af9",
   "metadata": {
    "execution": {
     "iopub.execute_input": "2023-02-20T20:33:59.759205Z",
     "iopub.status.busy": "2023-02-20T20:33:59.758684Z",
     "iopub.status.idle": "2023-02-20T20:34:02.166885Z",
     "shell.execute_reply": "2023-02-20T20:34:02.165535Z"
    },
    "papermill": {
     "duration": 2.415912,
     "end_time": "2023-02-20T20:34:02.170734",
     "exception": false,
     "start_time": "2023-02-20T20:33:59.754822",
     "status": "completed"
    },
    "tags": []
   },
   "outputs": [],
   "source": [
    "import time\n",
    "\n",
    "import matplotlib.pyplot as plt\n",
    "\n",
    "%matplotlib inline\n",
    "\n",
    "from braket.aws import AwsDevice\n",
    "from braket.circuits import Circuit\n",
    "from braket.devices import LocalSimulator\n",
    "from braket.jobs.metrics import log_metric\n",
    "from braket.tracking import Tracker  # cost tracker\n",
    "\n",
    "cost_tracker = Tracker().start()"
   ]
  },
  {
   "cell_type": "markdown",
   "id": "12954ee9",
   "metadata": {
    "papermill": {
     "duration": 0.005634,
     "end_time": "2023-02-20T20:34:02.183201",
     "exception": false,
     "start_time": "2023-02-20T20:34:02.177567",
     "status": "completed"
    },
    "tags": []
   },
   "source": [
    "## Build a circuit\n",
    "\n",
    "Let's build a Bell state with two qubits. By calling `Circuit()` we create an empty circuit, and we can just add gates to the circuit. "
   ]
  },
  {
   "cell_type": "code",
   "execution_count": 4,
   "id": "89d7e539",
   "metadata": {
    "execution": {
     "iopub.execute_input": "2023-02-20T20:34:02.197580Z",
     "iopub.status.busy": "2023-02-20T20:34:02.196837Z",
     "iopub.status.idle": "2023-02-20T20:34:02.210660Z",
     "shell.execute_reply": "2023-02-20T20:34:02.209582Z"
    },
    "papermill": {
     "duration": 0.026571,
     "end_time": "2023-02-20T20:34:02.216022",
     "exception": false,
     "start_time": "2023-02-20T20:34:02.189451",
     "status": "completed"
    },
    "tags": []
   },
   "outputs": [
    {
     "name": "stdout",
     "output_type": "stream",
     "text": [
      "T  : |0|1|\n",
      "          \n",
      "q0 : -H-C-\n",
      "        | \n",
      "q1 : ---X-\n",
      "\n",
      "T  : |0|1|\n"
     ]
    }
   ],
   "source": [
    "# build a Bell state with two qubits.\n",
    "bell = Circuit().h(0).cnot(control=0, target=1)\n",
    "print(bell)"
   ]
  },
  {
   "attachments": {},
   "cell_type": "markdown",
   "id": "9a4db701",
   "metadata": {
    "papermill": {
     "duration": 0.006528,
     "end_time": "2023-02-20T20:34:02.229540",
     "exception": false,
     "start_time": "2023-02-20T20:34:02.223012",
     "status": "completed"
    },
    "tags": []
   },
   "source": [
    "## Submit the circuit to the local simulator and obtain the results\n",
    "\n",
    "Next, we choose either a local simulator or an Amazon Braket device. "
   ]
  },
  {
   "cell_type": "code",
   "execution_count": 5,
   "id": "f0b7fe6d",
   "metadata": {
    "execution": {
     "iopub.execute_input": "2023-02-20T20:34:02.245272Z",
     "iopub.status.busy": "2023-02-20T20:34:02.244383Z",
     "iopub.status.idle": "2023-02-20T20:34:02.519213Z",
     "shell.execute_reply": "2023-02-20T20:34:02.517950Z"
    },
    "papermill": {
     "duration": 0.287028,
     "end_time": "2023-02-20T20:34:02.523051",
     "exception": false,
     "start_time": "2023-02-20T20:34:02.236023",
     "status": "completed"
    },
    "tags": []
   },
   "outputs": [],
   "source": [
    "# set up device\n",
    "if \"local\" in device_arn:\n",
    "    device = LocalSimulator()\n",
    "else:\n",
    "    device = AwsDevice(device_arn)"
   ]
  },
  {
   "cell_type": "code",
   "execution_count": 6,
   "id": "05f5f37e",
   "metadata": {
    "execution": {
     "iopub.execute_input": "2023-02-20T20:34:02.539064Z",
     "iopub.status.busy": "2023-02-20T20:34:02.538622Z",
     "iopub.status.idle": "2023-02-20T20:37:58.237075Z",
     "shell.execute_reply": "2023-02-20T20:37:58.235867Z"
    },
    "papermill": {
     "duration": 235.709495,
     "end_time": "2023-02-20T20:37:58.239995",
     "exception": false,
     "start_time": "2023-02-20T20:34:02.530500",
     "status": "completed"
    },
    "tags": []
   },
   "outputs": [
    {
     "name": "stdout",
     "output_type": "stream",
     "text": [
      "{'00': 500, '01': 24, '10': 27, '11': 449}\n"
     ]
    }
   ],
   "source": [
    "# Run the circuit and get results\n",
    "result = device.run(bell, shots=shots).result()\n",
    "\n",
    "# get measurement shots\n",
    "counts = result.measurement_counts\n",
    "counts = {k: counts[k] for k in sorted(counts)}  # sort results\n",
    "print(counts)"
   ]
  },
  {
   "attachments": {},
   "cell_type": "markdown",
   "id": "65f1782b",
   "metadata": {
    "papermill": {
     "duration": 0.002985,
     "end_time": "2023-02-20T20:37:58.246436",
     "exception": false,
     "start_time": "2023-02-20T20:37:58.243451",
     "status": "completed"
    },
    "tags": []
   },
   "source": [
    "Hybrid Jobs enables logging of metrics during the job. \n",
    "In the example below, we track the total cost of running the circuit on simulators or QPUs by using the cost tracker.\n",
    "\n",
    "We also track the number of counts in the \"00\" state. It is best practice to log all metrics per iteration at a common timestamp to avoid duplication."
   ]
  },
  {
   "cell_type": "code",
   "execution_count": 7,
   "id": "e4ea1546",
   "metadata": {
    "execution": {
     "iopub.execute_input": "2023-02-20T20:37:58.254321Z",
     "iopub.status.busy": "2023-02-20T20:37:58.253971Z",
     "iopub.status.idle": "2023-02-20T20:37:58.323487Z",
     "shell.execute_reply": "2023-02-20T20:37:58.322299Z"
    },
    "papermill": {
     "duration": 0.075539,
     "end_time": "2023-02-20T20:37:58.325361",
     "exception": false,
     "start_time": "2023-02-20T20:37:58.249822",
     "status": "completed"
    },
    "tags": []
   },
   "outputs": [
    {
     "name": "stdout",
     "output_type": "stream",
     "text": [
      "Metrics - timestamp=1676925478.3200016; cost=10.3; iteration_number=0;\n",
      "Metrics - timestamp=1676925478.3200016; counts_00=500; iteration_number=0;\n"
     ]
    }
   ],
   "source": [
    "total_cost = float(cost_tracker.simulator_tasks_cost() + cost_tracker.qpu_tasks_cost())\n",
    "\n",
    "timestamp = time.time()\n",
    "\n",
    "log_metric(metric_name=\"cost\", value=float(total_cost), iteration_number=0, timestamp=timestamp)\n",
    "\n",
    "log_metric(metric_name=\"counts_00\", value=counts[\"00\"], iteration_number=0, timestamp=timestamp)"
   ]
  },
  {
   "cell_type": "markdown",
   "id": "7aac66ee",
   "metadata": {
    "papermill": {
     "duration": 0.003203,
     "end_time": "2023-02-20T20:37:58.332193",
     "exception": false,
     "start_time": "2023-02-20T20:37:58.328990",
     "status": "completed"
    },
    "tags": []
   },
   "source": [
    "**The following cell saves the results to a file**\n",
    "\n",
    "The use of `results_dir` is that any results are saved to the correct directory when called from a Braket Job. Below, we save the measurement counts to a .pkl file. "
   ]
  },
  {
   "cell_type": "code",
   "execution_count": 8,
   "id": "3790013e",
   "metadata": {
    "execution": {
     "iopub.execute_input": "2023-02-20T20:37:58.341198Z",
     "iopub.status.busy": "2023-02-20T20:37:58.340670Z",
     "iopub.status.idle": "2023-02-20T20:37:58.345917Z",
     "shell.execute_reply": "2023-02-20T20:37:58.345144Z"
    },
    "papermill": {
     "duration": 0.01147,
     "end_time": "2023-02-20T20:37:58.347818",
     "exception": false,
     "start_time": "2023-02-20T20:37:58.336348",
     "status": "completed"
    },
    "tags": []
   },
   "outputs": [],
   "source": [
    "import pickle\n",
    "\n",
    "# save measurement counts to a file\n",
    "with open(f\"{results_dir}/results.pkl\", \"wb\") as f:\n",
    "    pickle.dump(counts, f)\n",
    "\n",
    "\n",
    "# re-load the results with\n",
    "# with open(f\"{results_dir}/results.pkl\", 'rb') as f:\n",
    "#    counts = pickle.load(f)"
   ]
  },
  {
   "cell_type": "markdown",
   "id": "60ba6430",
   "metadata": {
    "papermill": {
     "duration": 0.003126,
     "end_time": "2023-02-20T20:37:58.354498",
     "exception": false,
     "start_time": "2023-02-20T20:37:58.351372",
     "status": "completed"
    },
    "tags": []
   },
   "source": [
    "**The following cell saves the figure to a file**"
   ]
  },
  {
   "cell_type": "code",
   "execution_count": 9,
   "id": "89d29f90",
   "metadata": {
    "execution": {
     "iopub.execute_input": "2023-02-20T20:37:58.362917Z",
     "iopub.status.busy": "2023-02-20T20:37:58.362138Z",
     "iopub.status.idle": "2023-02-20T20:37:58.574970Z",
     "shell.execute_reply": "2023-02-20T20:37:58.573798Z"
    },
    "papermill": {
     "duration": 0.220582,
     "end_time": "2023-02-20T20:37:58.578513",
     "exception": false,
     "start_time": "2023-02-20T20:37:58.357931",
     "status": "completed"
    },
    "tags": []
   },
   "outputs": [
    {
     "data": {
      "image/png": "[encoded data removed]",
      "text/plain": [
       "<Figure size 640x480 with 1 Axes>"
      ]
     },
     "metadata": {},
     "output_type": "display_data"
    }
   ],
   "source": [
    "plt.bar(counts.keys(), counts.values())\n",
    "plt.xlabel(\"bitstrings\")\n",
    "plt.ylabel(\"counts\")\n",
    "\n",
    "# Save figure to a local directory or Amazon S3 location\n",
    "plt.savefig(f\"{results_dir}/histogram.png\")"
   ]
  }
 ],
 "metadata": {
  "celltoolbar": "Tags",
  "kernelspec": {
   "display_name": "conda_braket",
   "language": "python",
   "name": "conda_braket"
  },
  "language_info": {
   "codemirror_mode": {
    "name": "ipython",
    "version": 3
   },
   "file_extension": ".py",
   "mimetype": "text/x-python",
   "name": "python",
   "nbconvert_exporter": "python",
   "pygments_lexer": "ipython3",
   "version": "3.9.5"
  },
  "papermill": {
   "default_parameters": {},
   "duration": 240.622618,
   "end_time": "2023-02-20T20:37:59.103247",
   "environment_variables": {},
   "exception": null,
   "input_path": "/opt/braket/input/data/input/0_Getting_started_papermill.ipynb",
   "output_path": "/opt/braket/model/0_Getting_started_papermill.ipynb",
   "parameters": {
    "device_arn": "arn:aws:braket:us-east-1::device/qpu/ionq/Harmony",
    "results_dir": "/opt/braket/model",
    "shots": 1000
   },
   "start_time": "2023-02-20T20:33:58.480629",
   "version": "2.4.0"
  },
  "vscode": {
   "interpreter": {
    "hash": "5904cb9a2089448a2e1aeb5d493d227c9de33e591d7c07e4016fb81e71061a5d"
   }
  }
 },
 "nbformat": 4,
 "nbformat_minor": 5
}
