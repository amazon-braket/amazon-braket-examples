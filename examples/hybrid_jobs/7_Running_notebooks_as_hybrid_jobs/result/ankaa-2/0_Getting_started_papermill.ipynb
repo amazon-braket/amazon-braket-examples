{
 "cells": [
  {
   "attachments": {},
   "cell_type": "markdown",
   "id": "21a58fee",
   "metadata": {
    "papermill": {
     "duration": 0.003786,
     "end_time": "2023-02-21T16:43:45.362940",
     "exception": false,
     "start_time": "2023-02-21T16:43:45.359154",
     "status": "completed"
    },
    "tags": []
   },
   "source": [
    "# Example notebook \n",
    "\n",
    "This notebook is a copy from `examples/getting_started/0_Getting_started/0_Getting_started.ipynb` with a small modifications for use with [Papermill](https://github.com/nteract/papermill) and Amazon Braket Hybrid Jobs. \n",
    "\n",
    "## Papermill parameters\n",
    "\n",
    "Papermill is a tool for parameterizing, executing, and analyzing Jupyter Notebooks. \n",
    "To parameterize a notebook, we need tag a cell that contains all the parameters. \n",
    "We can only tag one cell, and for simplicity we place it at the top of the notebook. \n",
    "Full instructions are available here https://papermill.readthedocs.io/en/latest/usage-parameterize.html#designate-parameters-for-a-cell. \n",
    "\n",
    "Below, we tag the parameter `shots=1000`. \n",
    "We can then run the notebook as usual cell-by-cell to see the results. \n",
    "\n",
    "We additionally add two Braket specific parameters called `device_arn` and `results_dir`. \n",
    "These will be overridden when running a Hybrid Job. \n",
    "\n",
    "**In the following cell, we added a tag called `parameters` for Papermill to recognize. If you don't see the tag, follow the instructions above.**"
   ]
  },
  {
   "cell_type": "code",
   "execution_count": 1,
   "id": "2436f1be",
   "metadata": {
    "execution": {
     "iopub.execute_input": "2023-02-21T16:43:45.371205Z",
     "iopub.status.busy": "2023-02-21T16:43:45.370808Z",
     "iopub.status.idle": "2023-02-21T16:43:45.379588Z",
     "shell.execute_reply": "2023-02-21T16:43:45.378335Z"
    },
    "papermill": {
     "duration": 0.015001,
     "end_time": "2023-02-21T16:43:45.381543",
     "exception": false,
     "start_time": "2023-02-21T16:43:45.366542",
     "status": "completed"
    },
    "tags": [
     "parameters"
    ]
   },
   "outputs": [],
   "source": [
    "# Papermill parameters\n",
    "shots = 1000\n",
    "\n",
    "# Braket specific parameters\n",
    "device_arn = \"arn:aws:braket:::device/quantum-simulator/amazon/sv1\"\n",
    "results_dir = \".\""
   ]
  },
  {
   "cell_type": "code",
   "execution_count": 2,
   "id": "a0fb6bd8",
   "metadata": {
    "execution": {
     "iopub.execute_input": "2023-02-21T16:43:45.389513Z",
     "iopub.status.busy": "2023-02-21T16:43:45.388977Z",
     "iopub.status.idle": "2023-02-21T16:43:45.393453Z",
     "shell.execute_reply": "2023-02-21T16:43:45.392426Z"
    },
    "papermill": {
     "duration": 0.010707,
     "end_time": "2023-02-21T16:43:45.395539",
     "exception": false,
     "start_time": "2023-02-21T16:43:45.384832",
     "status": "completed"
    },
    "tags": [
     "injected-parameters"
    ]
   },
   "outputs": [],
   "source": [
    "# Parameters\n",
    "shots = 1000\n",
    "device_arn = \"arn:aws:braket:us-west-1::device/qpu/rigetti/Aspen-M-3\"\n",
    "results_dir = \"/opt/braket/model\""
   ]
  },
  {
   "attachments": {},
   "cell_type": "markdown",
   "id": "c8f24ceb",
   "metadata": {
    "papermill": {
     "duration": 0.003094,
     "end_time": "2023-02-21T16:43:45.402021",
     "exception": false,
     "start_time": "2023-02-21T16:43:45.398927",
     "status": "completed"
    },
    "tags": []
   },
   "source": [
    "# Getting started with Amazon Braket\n",
    "\n",
    "In this tutorial we prepare a maximally entangled Bell state between two qubits. \n",
    "We then run our circuit on a local simulator and obtain the results."
   ]
  },
  {
   "cell_type": "code",
   "execution_count": 3,
   "id": "472c72f6",
   "metadata": {
    "execution": {
     "iopub.execute_input": "2023-02-21T16:43:45.409445Z",
     "iopub.status.busy": "2023-02-21T16:43:45.408896Z",
     "iopub.status.idle": "2023-02-21T16:43:47.305956Z",
     "shell.execute_reply": "2023-02-21T16:43:47.304998Z"
    },
    "papermill": {
     "duration": 1.90327,
     "end_time": "2023-02-21T16:43:47.308212",
     "exception": false,
     "start_time": "2023-02-21T16:43:45.404942",
     "status": "completed"
    },
    "tags": []
   },
   "outputs": [],
   "source": [
    "import time\n",
    "\n",
    "import matplotlib.pyplot as plt\n",
    "\n",
    "%matplotlib inline\n",
    "\n",
    "from braket.aws import AwsDevice\n",
    "from braket.circuits import Circuit\n",
    "from braket.devices import LocalSimulator\n",
    "from braket.jobs.metrics import log_metric\n",
    "from braket.tracking import Tracker  # cost tracker\n",
    "\n",
    "cost_tracker = Tracker().start()"
   ]
  },
  {
   "cell_type": "markdown",
   "id": "a7a2db04",
   "metadata": {
    "papermill": {
     "duration": 0.002877,
     "end_time": "2023-02-21T16:43:47.314835",
     "exception": false,
     "start_time": "2023-02-21T16:43:47.311958",
     "status": "completed"
    },
    "tags": []
   },
   "source": [
    "## Build a circuit\n",
    "\n",
    "Let's build a Bell state with two qubits. By calling `Circuit()` we create an empty circuit, and we can just add gates to the circuit. "
   ]
  },
  {
   "cell_type": "code",
   "execution_count": 4,
   "id": "0928121e",
   "metadata": {
    "execution": {
     "iopub.execute_input": "2023-02-21T16:43:47.322937Z",
     "iopub.status.busy": "2023-02-21T16:43:47.322367Z",
     "iopub.status.idle": "2023-02-21T16:43:47.329784Z",
     "shell.execute_reply": "2023-02-21T16:43:47.328703Z"
    },
    "papermill": {
     "duration": 0.014274,
     "end_time": "2023-02-21T16:43:47.332315",
     "exception": false,
     "start_time": "2023-02-21T16:43:47.318041",
     "status": "completed"
    },
    "tags": []
   },
   "outputs": [
    {
     "name": "stdout",
     "output_type": "stream",
     "text": [
      "T  : |0|1|\n",
      "          \n",
      "q0 : -H-C-\n",
      "        | \n",
      "q1 : ---X-\n",
      "\n",
      "T  : |0|1|\n"
     ]
    }
   ],
   "source": [
    "# build a Bell state with two qubits.\n",
    "bell = Circuit().h(0).cnot(control=0, target=1)\n",
    "print(bell)"
   ]
  },
  {
   "attachments": {},
   "cell_type": "markdown",
   "id": "253f5e35",
   "metadata": {
    "papermill": {
     "duration": 0.003065,
     "end_time": "2023-02-21T16:43:47.338674",
     "exception": false,
     "start_time": "2023-02-21T16:43:47.335609",
     "status": "completed"
    },
    "tags": []
   },
   "source": [
    "## Submit the circuit to the local simulator and obtain the results\n",
    "\n",
    "Next, we choose either a local simulator or an Amazon Braket device. "
   ]
  },
  {
   "cell_type": "code",
   "execution_count": 5,
   "id": "b7c90b2f",
   "metadata": {
    "execution": {
     "iopub.execute_input": "2023-02-21T16:43:47.346544Z",
     "iopub.status.busy": "2023-02-21T16:43:47.345827Z",
     "iopub.status.idle": "2023-02-21T16:43:47.822456Z",
     "shell.execute_reply": "2023-02-21T16:43:47.821578Z"
    },
    "papermill": {
     "duration": 0.482774,
     "end_time": "2023-02-21T16:43:47.824541",
     "exception": false,
     "start_time": "2023-02-21T16:43:47.341767",
     "status": "completed"
    },
    "tags": []
   },
   "outputs": [],
   "source": [
    "# set up device\n",
    "if \"local\" in device_arn:\n",
    "    device = LocalSimulator()\n",
    "else:\n",
    "    device = AwsDevice(device_arn)"
   ]
  },
  {
   "cell_type": "code",
   "execution_count": 6,
   "id": "2366ca95",
   "metadata": {
    "execution": {
     "iopub.execute_input": "2023-02-21T16:43:47.833244Z",
     "iopub.status.busy": "2023-02-21T16:43:47.832639Z",
     "iopub.status.idle": "2023-02-21T16:44:18.319776Z",
     "shell.execute_reply": "2023-02-21T16:44:18.318577Z"
    },
    "papermill": {
     "duration": 30.49638,
     "end_time": "2023-02-21T16:44:18.324694",
     "exception": false,
     "start_time": "2023-02-21T16:43:47.828314",
     "status": "completed"
    },
    "tags": []
   },
   "outputs": [
    {
     "name": "stdout",
     "output_type": "stream",
     "text": [
      "{'00': 494, '01': 22, '10': 50, '11': 434}\n"
     ]
    }
   ],
   "source": [
    "# Run the circuit and get results\n",
    "result = device.run(bell, shots=shots).result()\n",
    "\n",
    "# get measurement shots\n",
    "counts = result.measurement_counts\n",
    "counts = {k: counts[k] for k in sorted(counts)}  # sort results\n",
    "print(counts)"
   ]
  },
  {
   "attachments": {},
   "cell_type": "markdown",
   "id": "c41e8691",
   "metadata": {
    "papermill": {
     "duration": 0.003065,
     "end_time": "2023-02-21T16:44:18.331341",
     "exception": false,
     "start_time": "2023-02-21T16:44:18.328276",
     "status": "completed"
    },
    "tags": []
   },
   "source": [
    "Hybrid Jobs enables logging of metrics during the job. \n",
    "In the example below, we track the total cost of running the circuit on simulators or QPUs by using the cost tracker.\n",
    "\n",
    "We also track the number of counts in the \"00\" state. It is best practice to log all metrics per iteration at a common timestamp to avoid duplication."
   ]
  },
  {
   "cell_type": "code",
   "execution_count": 7,
   "id": "0e6ee106",
   "metadata": {
    "execution": {
     "iopub.execute_input": "2023-02-21T16:44:18.339367Z",
     "iopub.status.busy": "2023-02-21T16:44:18.338979Z",
     "iopub.status.idle": "2023-02-21T16:44:18.365109Z",
     "shell.execute_reply": "2023-02-21T16:44:18.364151Z"
    },
    "papermill": {
     "duration": 0.032881,
     "end_time": "2023-02-21T16:44:18.367429",
     "exception": false,
     "start_time": "2023-02-21T16:44:18.334548",
     "status": "completed"
    },
    "tags": []
   },
   "outputs": [
    {
     "name": "stdout",
     "output_type": "stream",
     "text": [
      "Metrics - timestamp=1676997858.3620458; cost=0.65;\n",
      "Metrics - timestamp=1676997858.3620458; counts_00=494;\n"
     ]
    }
   ],
   "source": [
    "total_cost = float(cost_tracker.simulator_tasks_cost() + cost_tracker.qpu_tasks_cost())\n",
    "\n",
    "timestamp = time.time()\n",
    "\n",
    "log_metric(metric_name=\"cost\", value=float(total_cost), timestamp=timestamp)\n",
    "\n",
    "log_metric(metric_name=\"counts_00\", value=counts[\"00\"], timestamp=timestamp)"
   ]
  },
  {
   "cell_type": "markdown",
   "id": "3f4a07f0",
   "metadata": {
    "papermill": {
     "duration": 0.003183,
     "end_time": "2023-02-21T16:44:18.374145",
     "exception": false,
     "start_time": "2023-02-21T16:44:18.370962",
     "status": "completed"
    },
    "tags": []
   },
   "source": [
    "**The following cell saves the results to a file**\n",
    "\n",
    "The use of `results_dir` is that any results are saved to the correct directory when called from a Braket Job. Below, we save the measurement counts to a .pkl file. "
   ]
  },
  {
   "cell_type": "code",
   "execution_count": 8,
   "id": "31102e41",
   "metadata": {
    "execution": {
     "iopub.execute_input": "2023-02-21T16:44:18.382365Z",
     "iopub.status.busy": "2023-02-21T16:44:18.381771Z",
     "iopub.status.idle": "2023-02-21T16:44:18.386881Z",
     "shell.execute_reply": "2023-02-21T16:44:18.385954Z"
    },
    "papermill": {
     "duration": 0.011421,
     "end_time": "2023-02-21T16:44:18.388857",
     "exception": false,
     "start_time": "2023-02-21T16:44:18.377436",
     "status": "completed"
    },
    "tags": []
   },
   "outputs": [],
   "source": [
    "import pickle\n",
    "\n",
    "# save measurement counts to a file\n",
    "with open(f\"{results_dir}/results.pkl\", \"wb\") as f:\n",
    "    pickle.dump(counts, f)\n",
    "\n",
    "\n",
    "# re-load the results with\n",
    "# with open(f\"{results_dir}/results.pkl\", 'rb') as f:\n",
    "#    counts = pickle.load(f)"
   ]
  },
  {
   "cell_type": "markdown",
   "id": "1347bd65",
   "metadata": {
    "papermill": {
     "duration": 0.003234,
     "end_time": "2023-02-21T16:44:18.395896",
     "exception": false,
     "start_time": "2023-02-21T16:44:18.392662",
     "status": "completed"
    },
    "tags": []
   },
   "source": [
    "**The following cell saves the figure to a file**"
   ]
  },
  {
   "cell_type": "code",
   "execution_count": 9,
   "id": "5da96893",
   "metadata": {
    "execution": {
     "iopub.execute_input": "2023-02-21T16:44:18.404309Z",
     "iopub.status.busy": "2023-02-21T16:44:18.403735Z",
     "iopub.status.idle": "2023-02-21T16:44:18.607364Z",
     "shell.execute_reply": "2023-02-21T16:44:18.606471Z"
    },
    "papermill": {
     "duration": 0.210402,
     "end_time": "2023-02-21T16:44:18.609650",
     "exception": false,
     "start_time": "2023-02-21T16:44:18.399248",
     "status": "completed"
    },
    "tags": []
   },
   "outputs": [
    {
     "data": {
      "image/png": "[encoded data removed]",
      "text/plain": [
       "<Figure size 640x480 with 1 Axes>"
      ]
     },
     "metadata": {},
     "output_type": "display_data"
    }
   ],
   "source": [
    "plt.bar(counts.keys(), counts.values())\n",
    "plt.xlabel(\"bitstrings\")\n",
    "plt.ylabel(\"counts\")\n",
    "\n",
    "# Save figure to a local directory or Amazon S3 location\n",
    "plt.savefig(f\"{results_dir}/histogram.png\")"
   ]
  }
 ],
 "metadata": {
  "celltoolbar": "Tags",
  "kernelspec": {
   "display_name": "conda_braket",
   "language": "python",
   "name": "conda_braket"
  },
  "language_info": {
   "codemirror_mode": {
    "name": "ipython",
    "version": 3
   },
   "file_extension": ".py",
   "mimetype": "text/x-python",
   "name": "python",
   "nbconvert_exporter": "python",
   "pygments_lexer": "ipython3",
   "version": "3.7.10"
  },
  "papermill": {
   "default_parameters": {},
   "duration": 35.15558,
   "end_time": "2023-02-21T16:44:19.133234",
   "environment_variables": {},
   "exception": null,
   "input_path": "/opt/braket/input/data/input/0_Getting_started_papermill.ipynb",
   "output_path": "/opt/braket/model/0_Getting_started_papermill.ipynb",
   "parameters": {
    "device_arn": "arn:aws:braket:us-west-1::device/qpu/rigetti/Aspen-M-3",
    "results_dir": "/opt/braket/model",
    "shots": 1000
   },
   "start_time": "2023-02-21T16:43:43.977654",
   "version": "2.4.0"
  },
  "vscode": {
   "interpreter": {
    "hash": "5904cb9a2089448a2e1aeb5d493d227c9de33e591d7c07e4016fb81e71061a5d"
   }
  }
 },
 "nbformat": 4,
 "nbformat_minor": 5
}
