{
 "cells": [
  {
   "attachments": {},
   "cell_type": "markdown",
   "id": "51232be7",
   "metadata": {
    "papermill": {
     "duration": 0.004595,
     "end_time": "2023-08-29T22:21:40.826586",
     "exception": false,
     "start_time": "2023-08-29T22:21:40.821991",
     "status": "completed"
    },
    "tags": []
   },
   "source": [
    "# Example notebook \n",
    "\n",
    "This notebook is a copy from `examples/getting_started/0_Getting_started/0_Getting_started.ipynb` with a small modifications for use with [Papermill](https://github.com/nteract/papermill) and Amazon Braket Hybrid Jobs. \n",
    "\n",
    "## Papermill parameters\n",
    "\n",
    "Papermill is a tool for parameterizing, executing, and analyzing Jupyter Notebooks. \n",
    "To parameterize a notebook, we need tag a cell that contains all the parameters. \n",
    "We can only tag one cell, and for simplicity we place it at the top of the notebook. \n",
    "Full instructions are available here https://papermill.readthedocs.io/en/latest/usage-parameterize.html#designate-parameters-for-a-cell. \n",
    "\n",
    "Below, we tag the parameter `shots=1000`. \n",
    "We can then run the notebook as usual cell-by-cell to see the results. \n",
    "\n",
    "We additionally add two Braket specific parameters called `device_arn` and `results_dir`. \n",
    "These will be overridden when running a Hybrid Job. \n",
    "\n",
    "**In the following cell, we added a tag called `parameters` for Papermill to recognize. If you don't see the tag, follow the instructions above.**"
   ]
  },
  {
   "cell_type": "code",
   "execution_count": 1,
   "id": "472ab0fc",
   "metadata": {
    "execution": {
     "iopub.execute_input": "2023-08-29T22:21:40.834531Z",
     "iopub.status.busy": "2023-08-29T22:21:40.834001Z",
     "iopub.status.idle": "2023-08-29T22:21:40.842212Z",
     "shell.execute_reply": "2023-08-29T22:21:40.841507Z"
    },
    "papermill": {
     "duration": 0.014013,
     "end_time": "2023-08-29T22:21:40.844021",
     "exception": false,
     "start_time": "2023-08-29T22:21:40.830008",
     "status": "completed"
    },
    "tags": [
     "parameters"
    ]
   },
   "outputs": [],
   "source": [
    "# Papermill parameters\n",
    "shots = 1000\n",
    "\n",
    "# Braket specific parameters\n",
    "device_arn = \"arn:aws:braket:::device/quantum-simulator/amazon/sv1\"\n",
    "results_dir = \".\""
   ]
  },
  {
   "cell_type": "code",
   "execution_count": 2,
   "id": "d5b8859d",
   "metadata": {
    "execution": {
     "iopub.execute_input": "2023-08-29T22:21:40.851501Z",
     "iopub.status.busy": "2023-08-29T22:21:40.851025Z",
     "iopub.status.idle": "2023-08-29T22:21:40.855325Z",
     "shell.execute_reply": "2023-08-29T22:21:40.854252Z"
    },
    "papermill": {
     "duration": 0.009816,
     "end_time": "2023-08-29T22:21:40.856993",
     "exception": false,
     "start_time": "2023-08-29T22:21:40.847177",
     "status": "completed"
    },
    "tags": [
     "injected-parameters"
    ]
   },
   "outputs": [],
   "source": [
    "# Parameters\n",
    "shots = 1000\n",
    "device_arn = \"arn:aws:braket:::device/quantum-simulator/amazon/sv1\"\n",
    "results_dir = \"/opt/braket/model\"\n"
   ]
  },
  {
   "attachments": {},
   "cell_type": "markdown",
   "id": "29d6d8f7",
   "metadata": {
    "papermill": {
     "duration": 0.00274,
     "end_time": "2023-08-29T22:21:40.862727",
     "exception": false,
     "start_time": "2023-08-29T22:21:40.859987",
     "status": "completed"
    },
    "tags": []
   },
   "source": [
    "# Getting started with Amazon Braket\n",
    "\n",
    "In this tutorial we prepare a maximally entangled Bell state between two qubits. \n",
    "We then run our circuit on a local simulator and obtain the results."
   ]
  },
  {
   "cell_type": "code",
   "execution_count": 3,
   "id": "3280ef4c",
   "metadata": {
    "execution": {
     "iopub.execute_input": "2023-08-29T22:21:40.869942Z",
     "iopub.status.busy": "2023-08-29T22:21:40.869450Z",
     "iopub.status.idle": "2023-08-29T22:21:42.860834Z",
     "shell.execute_reply": "2023-08-29T22:21:42.860049Z"
    },
    "papermill": {
     "duration": 1.997186,
     "end_time": "2023-08-29T22:21:42.862803",
     "exception": false,
     "start_time": "2023-08-29T22:21:40.865617",
     "status": "completed"
    },
    "tags": []
   },
   "outputs": [],
   "source": [
    "import time\n",
    "\n",
    "import matplotlib.pyplot as plt\n",
    "\n",
    "%matplotlib inline\n",
    "\n",
    "from braket.aws import AwsDevice\n",
    "from braket.circuits import Circuit\n",
    "from braket.devices import LocalSimulator\n",
    "from braket.jobs.metrics import log_metric\n",
    "from braket.tracking import Tracker  # cost tracker\n",
    "\n",
    "cost_tracker = Tracker().start()"
   ]
  },
  {
   "cell_type": "markdown",
   "id": "30e5d25d",
   "metadata": {
    "papermill": {
     "duration": 0.002887,
     "end_time": "2023-08-29T22:21:42.869436",
     "exception": false,
     "start_time": "2023-08-29T22:21:42.866549",
     "status": "completed"
    },
    "tags": []
   },
   "source": [
    "## Build a circuit\n",
    "\n",
    "Let's build a Bell state with two qubits. By calling `Circuit()` we create an empty circuit, and we can just add gates to the circuit. "
   ]
  },
  {
   "cell_type": "code",
   "execution_count": 4,
   "id": "318b31ba",
   "metadata": {
    "execution": {
     "iopub.execute_input": "2023-08-29T22:21:42.876798Z",
     "iopub.status.busy": "2023-08-29T22:21:42.876352Z",
     "iopub.status.idle": "2023-08-29T22:21:42.882815Z",
     "shell.execute_reply": "2023-08-29T22:21:42.881981Z"
    },
    "papermill": {
     "duration": 0.013718,
     "end_time": "2023-08-29T22:21:42.886161",
     "exception": false,
     "start_time": "2023-08-29T22:21:42.872443",
     "status": "completed"
    },
    "tags": []
   },
   "outputs": [
    {
     "name": "stdout",
     "output_type": "stream",
     "text": [
      "T  : |0|1|\n",
      "          \n",
      "q0 : -H-C-\n",
      "        | \n",
      "q1 : ---X-\n",
      "\n",
      "T  : |0|1|\n"
     ]
    }
   ],
   "source": [
    "# build a Bell state with two qubits.\n",
    "bell = Circuit().h(0).cnot(control=0, target=1)\n",
    "print(bell)"
   ]
  },
  {
   "attachments": {},
   "cell_type": "markdown",
   "id": "a9aede91",
   "metadata": {
    "papermill": {
     "duration": 0.002968,
     "end_time": "2023-08-29T22:21:42.892440",
     "exception": false,
     "start_time": "2023-08-29T22:21:42.889472",
     "status": "completed"
    },
    "tags": []
   },
   "source": [
    "## Submit the circuit to the local simulator and obtain the results\n",
    "\n",
    "Next, we choose either a local simulator or an Amazon Braket device. "
   ]
  },
  {
   "cell_type": "code",
   "execution_count": 5,
   "id": "e188fd5b",
   "metadata": {
    "execution": {
     "iopub.execute_input": "2023-08-29T22:21:42.899924Z",
     "iopub.status.busy": "2023-08-29T22:21:42.899544Z",
     "iopub.status.idle": "2023-08-29T22:21:43.150810Z",
     "shell.execute_reply": "2023-08-29T22:21:43.150004Z"
    },
    "papermill": {
     "duration": 0.257478,
     "end_time": "2023-08-29T22:21:43.152976",
     "exception": false,
     "start_time": "2023-08-29T22:21:42.895498",
     "status": "completed"
    },
    "tags": []
   },
   "outputs": [],
   "source": [
    "# set up device\n",
    "if \"local\" in device_arn:\n",
    "    device = LocalSimulator()\n",
    "else:\n",
    "    device = AwsDevice(device_arn)"
   ]
  },
  {
   "cell_type": "code",
   "execution_count": 6,
   "id": "af5a60f6",
   "metadata": {
    "execution": {
     "iopub.execute_input": "2023-08-29T22:21:43.161867Z",
     "iopub.status.busy": "2023-08-29T22:21:43.161269Z",
     "iopub.status.idle": "2023-08-29T22:21:48.296059Z",
     "shell.execute_reply": "2023-08-29T22:21:48.295205Z"
    },
    "papermill": {
     "duration": 5.141126,
     "end_time": "2023-08-29T22:21:48.297850",
     "exception": false,
     "start_time": "2023-08-29T22:21:43.156724",
     "status": "completed"
    },
    "tags": []
   },
   "outputs": [
    {
     "name": "stdout",
     "output_type": "stream",
     "text": [
      "{'00': 522, '11': 478}\n"
     ]
    }
   ],
   "source": [
    "# Run the circuit and get results\n",
    "result = device.run(bell, shots=shots).result()\n",
    "\n",
    "# get measurement shots\n",
    "counts = result.measurement_counts\n",
    "counts = {k: counts[k] for k in sorted(counts)}  # sort results\n",
    "print(counts)"
   ]
  },
  {
   "attachments": {},
   "cell_type": "markdown",
   "id": "10b8d772",
   "metadata": {
    "papermill": {
     "duration": 0.003179,
     "end_time": "2023-08-29T22:21:48.304880",
     "exception": false,
     "start_time": "2023-08-29T22:21:48.301701",
     "status": "completed"
    },
    "tags": []
   },
   "source": [
    "Hybrid Jobs enables logging of metrics during the job. \n",
    "In the example below, we track the total cost of running the circuit on simulators or QPUs by using the cost tracker.\n",
    "\n",
    "We also track the number of counts in the \"00\" state. It is best practice to log all metrics per iteration at a common timestamp to avoid duplication."
   ]
  },
  {
   "cell_type": "code",
   "execution_count": 7,
   "id": "a161600a",
   "metadata": {
    "execution": {
     "iopub.execute_input": "2023-08-29T22:21:48.312859Z",
     "iopub.status.busy": "2023-08-29T22:21:48.312339Z",
     "iopub.status.idle": "2023-08-29T22:21:48.679935Z",
     "shell.execute_reply": "2023-08-29T22:21:48.678928Z"
    },
    "papermill": {
     "duration": 0.374531,
     "end_time": "2023-08-29T22:21:48.682621",
     "exception": false,
     "start_time": "2023-08-29T22:21:48.308090",
     "status": "completed"
    },
    "tags": []
   },
   "outputs": [
    {
     "name": "stdout",
     "output_type": "stream",
     "text": [
      "Metrics - timestamp=1693347708.675077; cost=0.00375;\n",
      "Metrics - timestamp=1693347708.675077; counts_00=522;\n"
     ]
    }
   ],
   "source": [
    "total_cost = float(cost_tracker.simulator_tasks_cost() + cost_tracker.qpu_tasks_cost())\n",
    "\n",
    "timestamp = time.time()\n",
    "\n",
    "log_metric(metric_name=\"cost\", value=total_cost, timestamp=timestamp)\n",
    "\n",
    "log_metric(metric_name=\"counts_00\", value=counts[\"00\"], timestamp=timestamp)"
   ]
  },
  {
   "cell_type": "markdown",
   "id": "ebee59bd",
   "metadata": {
    "papermill": {
     "duration": 0.003745,
     "end_time": "2023-08-29T22:21:48.690664",
     "exception": false,
     "start_time": "2023-08-29T22:21:48.686919",
     "status": "completed"
    },
    "tags": []
   },
   "source": [
    "**The following cell saves the results to a file**\n",
    "\n",
    "The use of `results_dir` is that any results are saved to the correct directory when called from a Braket Job. Below, we save the measurement counts to a .pkl file. "
   ]
  },
  {
   "cell_type": "code",
   "execution_count": 8,
   "id": "c8c8f8a1",
   "metadata": {
    "execution": {
     "iopub.execute_input": "2023-08-29T22:21:48.699964Z",
     "iopub.status.busy": "2023-08-29T22:21:48.699590Z",
     "iopub.status.idle": "2023-08-29T22:21:48.704871Z",
     "shell.execute_reply": "2023-08-29T22:21:48.703757Z"
    },
    "papermill": {
     "duration": 0.012139,
     "end_time": "2023-08-29T22:21:48.706725",
     "exception": false,
     "start_time": "2023-08-29T22:21:48.694586",
     "status": "completed"
    },
    "tags": []
   },
   "outputs": [],
   "source": [
    "import pickle\n",
    "\n",
    "# save measurement counts to a file\n",
    "with open(f\"{results_dir}/results.pkl\", \"wb\") as f:\n",
    "    pickle.dump(counts, f)\n",
    "\n",
    "\n",
    "# re-load the results with\n",
    "# with open(f\"{results_dir}/results.pkl\", 'rb') as f:\n",
    "#    counts = pickle.load(f)"
   ]
  },
  {
   "cell_type": "markdown",
   "id": "4c36a338",
   "metadata": {
    "papermill": {
     "duration": 0.003556,
     "end_time": "2023-08-29T22:21:48.714145",
     "exception": false,
     "start_time": "2023-08-29T22:21:48.710589",
     "status": "completed"
    },
    "tags": []
   },
   "source": [
    "**The following cell saves the figure to a file**"
   ]
  },
  {
   "cell_type": "code",
   "execution_count": 9,
   "id": "59b76fb9",
   "metadata": {
    "execution": {
     "iopub.execute_input": "2023-08-29T22:21:48.722250Z",
     "iopub.status.busy": "2023-08-29T22:21:48.721757Z",
     "iopub.status.idle": "2023-08-29T22:21:48.918484Z",
     "shell.execute_reply": "2023-08-29T22:21:48.917736Z"
    },
    "papermill": {
     "duration": 0.202866,
     "end_time": "2023-08-29T22:21:48.920380",
     "exception": false,
     "start_time": "2023-08-29T22:21:48.717514",
     "status": "completed"
    },
    "tags": []
   },
   "outputs": [
    {
     "data": {
      "image/png": "[encoded data removed]",
      "text/plain": [
       "<Figure size 640x480 with 1 Axes>"
      ]
     },
     "metadata": {},
     "output_type": "display_data"
    }
   ],
   "source": [
    "plt.bar(counts.keys(), counts.values())\n",
    "plt.xlabel(\"bitstrings\")\n",
    "plt.ylabel(\"counts\")\n",
    "\n",
    "# Save figure to a local directory or Amazon S3 location\n",
    "plt.savefig(f\"{results_dir}/histogram.png\")"
   ]
  }
 ],
 "metadata": {
  "celltoolbar": "Tags",
  "kernelspec": {
   "display_name": "conda_braket",
   "language": "python",
   "name": "conda_braket"
  },
  "language_info": {
   "codemirror_mode": {
    "name": "ipython",
    "version": 3
   },
   "file_extension": ".py",
   "mimetype": "text/x-python",
   "name": "python",
   "nbconvert_exporter": "python",
   "pygments_lexer": "ipython3",
   "version": "3.10.11"
  },
  "papermill": {
   "default_parameters": {},
   "duration": 10.099441,
   "end_time": "2023-08-29T22:21:49.543165",
   "environment_variables": {},
   "exception": null,
   "input_path": "/opt/braket/input/data/input/0_Getting_started_papermill.ipynb",
   "output_path": "/opt/braket/model/0_Getting_started_papermill.ipynb",
   "parameters": {
    "device_arn": "arn:aws:braket:::device/quantum-simulator/amazon/sv1",
    "results_dir": "/opt/braket/model",
    "shots": 1000
   },
   "start_time": "2023-08-29T22:21:39.443724",
   "version": "2.4.0"
  },
  "vscode": {
   "interpreter": {
    "hash": "5904cb9a2089448a2e1aeb5d493d227c9de33e591d7c07e4016fb81e71061a5d"
   }
  }
 },
 "nbformat": 4,
 "nbformat_minor": 5
}
