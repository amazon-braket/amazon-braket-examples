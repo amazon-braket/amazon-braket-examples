{
 "cells": [
  {
   "attachments": {},
   "cell_type": "markdown",
   "id": "b4def5c3",
   "metadata": {
    "papermill": {
     "duration": 0.003722,
     "end_time": "2023-02-20T20:33:24.586758",
     "exception": false,
     "start_time": "2023-02-20T20:33:24.583036",
     "status": "completed"
    },
    "tags": []
   },
   "source": [
    "# Example notebook \n",
    "\n",
    "This notebook is a copy from `examples/getting_started/0_Getting_started/0_Getting_started.ipynb` with a small modifications for use with [Papermill](https://github.com/nteract/papermill) and Amazon Braket Hybrid Jobs. \n",
    "\n",
    "## Papermill parameters\n",
    "\n",
    "Papermill is a tool for parameterizing, executing, and analyzing Jupyter Notebooks. \n",
    "To parameterize a notebook, we need tag a cell that contains all the parameters. \n",
    "We can only tag one cell, and for simplicity we place it at the top of the notebook. \n",
    "Full instructions are available here https://papermill.readthedocs.io/en/latest/usage-parameterize.html#designate-parameters-for-a-cell. \n",
    "\n",
    "Below, we tag the parameter `shots=1000`. \n",
    "We can then run the notebook as usual cell-by-cell to see the results. \n",
    "\n",
    "We additionally add two Braket specific parameters called `device_arn` and `results_dir`. \n",
    "These will be overridden when running a Hybrid Job. \n",
    "\n",
    "**In the following cell, we added a tag called `parameters` for Papermill to recognize. If you don't see the tag, follow the instructions above.**"
   ]
  },
  {
   "cell_type": "code",
   "execution_count": 1,
   "id": "9ae32bf4",
   "metadata": {
    "execution": {
     "iopub.execute_input": "2023-02-20T20:33:24.594916Z",
     "iopub.status.busy": "2023-02-20T20:33:24.594133Z",
     "iopub.status.idle": "2023-02-20T20:33:24.602599Z",
     "shell.execute_reply": "2023-02-20T20:33:24.601855Z"
    },
    "papermill": {
     "duration": 0.014246,
     "end_time": "2023-02-20T20:33:24.604463",
     "exception": false,
     "start_time": "2023-02-20T20:33:24.590217",
     "status": "completed"
    },
    "tags": [
     "parameters"
    ]
   },
   "outputs": [],
   "source": [
    "# Papermill parameters\n",
    "shots = 1000\n",
    "\n",
    "# Braket specific parameters\n",
    "device_arn = \"arn:aws:braket:::device/quantum-simulator/amazon/sv1\"\n",
    "results_dir = \".\""
   ]
  },
  {
   "attachments": {},
   "cell_type": "markdown",
   "id": "738c3c6e",
   "metadata": {
    "papermill": {
     "duration": 0.00273,
     "end_time": "2023-02-20T20:33:24.622430",
     "exception": false,
     "start_time": "2023-02-20T20:33:24.619700",
     "status": "completed"
    },
    "tags": []
   },
   "source": [
    "# Getting started with Amazon Braket\n",
    "\n",
    "In this tutorial we prepare a maximally entangled Bell state between two qubits. \n",
    "We then run our circuit on a local simulator and obtain the results."
   ]
  },
  {
   "cell_type": "code",
   "execution_count": 3,
   "id": "88987da7",
   "metadata": {
    "execution": {
     "iopub.execute_input": "2023-02-20T20:33:24.629256Z",
     "iopub.status.busy": "2023-02-20T20:33:24.628997Z",
     "iopub.status.idle": "2023-02-20T20:33:26.463304Z",
     "shell.execute_reply": "2023-02-20T20:33:26.462447Z"
    },
    "papermill": {
     "duration": 1.840451,
     "end_time": "2023-02-20T20:33:26.465723",
     "exception": false,
     "start_time": "2023-02-20T20:33:24.625272",
     "status": "completed"
    },
    "tags": []
   },
   "outputs": [],
   "source": [
    "import time\n",
    "\n",
    "import matplotlib.pyplot as plt\n",
    "\n",
    "%matplotlib inline\n",
    "\n",
    "from braket.aws import AwsDevice\n",
    "from braket.circuits import Circuit\n",
    "from braket.devices import LocalSimulator\n",
    "from braket.jobs.metrics import log_metric\n",
    "from braket.tracking import Tracker  # cost tracker\n",
    "\n",
    "cost_tracker = Tracker().start()"
   ]
  },
  {
   "cell_type": "markdown",
   "id": "f7ff8394",
   "metadata": {
    "papermill": {
     "duration": 0.004253,
     "end_time": "2023-02-20T20:33:26.476671",
     "exception": false,
     "start_time": "2023-02-20T20:33:26.472418",
     "status": "completed"
    },
    "tags": []
   },
   "source": [
    "## Build a circuit\n",
    "\n",
    "Let's build a Bell state with two qubits. By calling `Circuit()` we create an empty circuit, and we can just add gates to the circuit. "
   ]
  },
  {
   "cell_type": "code",
   "execution_count": 4,
   "id": "bfdb482e",
   "metadata": {
    "execution": {
     "iopub.execute_input": "2023-02-20T20:33:26.484208Z",
     "iopub.status.busy": "2023-02-20T20:33:26.483563Z",
     "iopub.status.idle": "2023-02-20T20:33:26.490015Z",
     "shell.execute_reply": "2023-02-20T20:33:26.488965Z"
    },
    "papermill": {
     "duration": 0.013943,
     "end_time": "2023-02-20T20:33:26.493598",
     "exception": false,
     "start_time": "2023-02-20T20:33:26.479655",
     "status": "completed"
    },
    "tags": []
   },
   "outputs": [
    {
     "name": "stdout",
     "output_type": "stream",
     "text": [
      "T  : |0|1|\n",
      "          \n",
      "q0 : -H-C-\n",
      "        | \n",
      "q1 : ---X-\n",
      "\n",
      "T  : |0|1|\n"
     ]
    }
   ],
   "source": [
    "# build a Bell state with two qubits.\n",
    "bell = Circuit().h(0).cnot(control=0, target=1)\n",
    "print(bell)"
   ]
  },
  {
   "attachments": {},
   "cell_type": "markdown",
   "id": "75771555",
   "metadata": {
    "papermill": {
     "duration": 0.002833,
     "end_time": "2023-02-20T20:33:26.499429",
     "exception": false,
     "start_time": "2023-02-20T20:33:26.496596",
     "status": "completed"
    },
    "tags": []
   },
   "source": [
    "## Submit the circuit to the local simulator and obtain the results\n",
    "\n",
    "Next, we choose either a local simulator or an Amazon Braket device. "
   ]
  },
  {
   "cell_type": "code",
   "execution_count": 5,
   "id": "ab5c12d7",
   "metadata": {
    "execution": {
     "iopub.execute_input": "2023-02-20T20:33:26.506543Z",
     "iopub.status.busy": "2023-02-20T20:33:26.506261Z",
     "iopub.status.idle": "2023-02-20T20:33:26.735493Z",
     "shell.execute_reply": "2023-02-20T20:33:26.734683Z"
    },
    "papermill": {
     "duration": 0.235234,
     "end_time": "2023-02-20T20:33:26.737637",
     "exception": false,
     "start_time": "2023-02-20T20:33:26.502403",
     "status": "completed"
    },
    "tags": []
   },
   "outputs": [],
   "source": [
    "# set up device\n",
    "if \"local\" in device_arn:\n",
    "    device = LocalSimulator()\n",
    "else:\n",
    "    device = AwsDevice(device_arn)"
   ]
  },
  {
   "cell_type": "code",
   "execution_count": 6,
   "id": "04077657",
   "metadata": {
    "execution": {
     "iopub.execute_input": "2023-02-20T20:33:26.746685Z",
     "iopub.status.busy": "2023-02-20T20:33:26.746183Z",
     "iopub.status.idle": "2023-02-21T09:58:51.435031Z",
     "shell.execute_reply": "2023-02-21T09:58:51.433991Z"
    },
    "papermill": {
     "duration": 48324.698482,
     "end_time": "2023-02-21T09:58:51.439787",
     "exception": false,
     "start_time": "2023-02-20T20:33:26.741305",
     "status": "completed"
    },
    "tags": []
   },
   "outputs": [
    {
     "name": "stdout",
     "output_type": "stream",
     "text": [
      "{'00': 475, '01': 58, '10': 49, '11': 418}\n"
     ]
    }
   ],
   "source": [
    "# Run the circuit and get results\n",
    "result = device.run(bell, shots=shots).result()\n",
    "\n",
    "# get measurement shots\n",
    "counts = result.measurement_counts\n",
    "counts = {k: counts[k] for k in sorted(counts)}  # sort results\n",
    "print(counts)"
   ]
  },
  {
   "attachments": {},
   "cell_type": "markdown",
   "id": "4a74b08a",
   "metadata": {
    "papermill": {
     "duration": 0.003016,
     "end_time": "2023-02-21T09:58:51.446285",
     "exception": false,
     "start_time": "2023-02-21T09:58:51.443269",
     "status": "completed"
    },
    "tags": []
   },
   "source": [
    "Hybrid Jobs enables logging of metrics during the job. \n",
    "In the example below, we track the total cost of running the circuit on simulators or QPUs by using the cost tracker.\n",
    "\n",
    "We also track the number of counts in the \"00\" state. It is best practice to log all metrics per iteration at a common timestamp to avoid duplication."
   ]
  },
  {
   "cell_type": "code",
   "execution_count": 7,
   "id": "5db2463e",
   "metadata": {
    "execution": {
     "iopub.execute_input": "2023-02-21T09:58:51.453883Z",
     "iopub.status.busy": "2023-02-21T09:58:51.453546Z",
     "iopub.status.idle": "2023-02-21T09:58:52.085692Z",
     "shell.execute_reply": "2023-02-21T09:58:52.084631Z"
    },
    "papermill": {
     "duration": 0.638233,
     "end_time": "2023-02-21T09:58:52.087658",
     "exception": false,
     "start_time": "2023-02-21T09:58:51.449425",
     "status": "completed"
    },
    "tags": []
   },
   "outputs": [
    {
     "name": "stdout",
     "output_type": "stream",
     "text": [
      "Metrics - timestamp=1676973532.0824277; cost=0.65; iteration_number=0;\n",
      "Metrics - timestamp=1676973532.0824277; counts_00=475; iteration_number=0;\n"
     ]
    }
   ],
   "source": [
    "total_cost = float(cost_tracker.simulator_tasks_cost() + cost_tracker.qpu_tasks_cost())\n",
    "\n",
    "timestamp = time.time()\n",
    "\n",
    "log_metric(metric_name=\"cost\", value=float(total_cost), iteration_number=0, timestamp=timestamp)\n",
    "\n",
    "log_metric(metric_name=\"counts_00\", value=counts[\"00\"], iteration_number=0, timestamp=timestamp)"
   ]
  },
  {
   "cell_type": "markdown",
   "id": "503ef73e",
   "metadata": {
    "papermill": {
     "duration": 0.003223,
     "end_time": "2023-02-21T09:58:52.094578",
     "exception": false,
     "start_time": "2023-02-21T09:58:52.091355",
     "status": "completed"
    },
    "tags": []
   },
   "source": [
    "**The following cell saves the results to a file**\n",
    "\n",
    "The use of `results_dir` is that any results are saved to the correct directory when called from a Braket Job. Below, we save the measurement counts to a .pkl file. "
   ]
  },
  {
   "cell_type": "code",
   "execution_count": 8,
   "id": "e122f91f",
   "metadata": {
    "execution": {
     "iopub.execute_input": "2023-02-21T09:58:52.102326Z",
     "iopub.status.busy": "2023-02-21T09:58:52.101993Z",
     "iopub.status.idle": "2023-02-21T09:58:52.106808Z",
     "shell.execute_reply": "2023-02-21T09:58:52.105907Z"
    },
    "papermill": {
     "duration": 0.010873,
     "end_time": "2023-02-21T09:58:52.108713",
     "exception": false,
     "start_time": "2023-02-21T09:58:52.097840",
     "status": "completed"
    },
    "tags": []
   },
   "outputs": [],
   "source": [
    "import pickle\n",
    "\n",
    "# save measurement counts to a file\n",
    "with open(f\"{results_dir}/results.pkl\", \"wb\") as f:\n",
    "    pickle.dump(counts, f)\n",
    "\n",
    "\n",
    "# re-load the results with\n",
    "# with open(f\"{results_dir}/results.pkl\", 'rb') as f:\n",
    "#    counts = pickle.load(f)"
   ]
  },
  {
   "cell_type": "markdown",
   "id": "a90fa142",
   "metadata": {
    "papermill": {
     "duration": 0.003053,
     "end_time": "2023-02-21T09:58:52.115101",
     "exception": false,
     "start_time": "2023-02-21T09:58:52.112048",
     "status": "completed"
    },
    "tags": []
   },
   "source": [
    "**The following cell saves the figure to a file**"
   ]
  },
  {
   "cell_type": "code",
   "execution_count": 9,
   "id": "3734a07c",
   "metadata": {
    "execution": {
     "iopub.execute_input": "2023-02-21T09:58:52.122817Z",
     "iopub.status.busy": "2023-02-21T09:58:52.122503Z",
     "iopub.status.idle": "2023-02-21T09:58:52.317024Z",
     "shell.execute_reply": "2023-02-21T09:58:52.316166Z"
    },
    "papermill": {
     "duration": 0.20078,
     "end_time": "2023-02-21T09:58:52.319153",
     "exception": false,
     "start_time": "2023-02-21T09:58:52.118373",
     "status": "completed"
    },
    "tags": []
   },
   "outputs": [
    {
     "data": {
      "image/png": "[encoded data removed]",
      "text/plain": [
       "<Figure size 640x480 with 1 Axes>"
      ]
     },
     "metadata": {},
     "output_type": "display_data"
    }
   ],
   "source": [
    "plt.bar(counts.keys(), counts.values())\n",
    "plt.xlabel(\"bitstrings\")\n",
    "plt.ylabel(\"counts\")\n",
    "\n",
    "# Save figure to a local directory or Amazon S3 location\n",
    "plt.savefig(f\"{results_dir}/histogram.png\")"
   ]
  }
 ],
 "metadata": {
  "celltoolbar": "Tags",
  "kernelspec": {
   "display_name": "conda_braket",
   "language": "python",
   "name": "conda_braket"
  },
  "language_info": {
   "codemirror_mode": {
    "name": "ipython",
    "version": 3
   },
   "file_extension": ".py",
   "mimetype": "text/x-python",
   "name": "python",
   "nbconvert_exporter": "python",
   "pygments_lexer": "ipython3",
   "version": "3.7.10"
  },
  "papermill": {
   "default_parameters": {},
   "duration": 48329.703236,
   "end_time": "2023-02-21T09:58:52.925751",
   "environment_variables": {},
   "exception": null,
   "input_path": "/opt/braket/input/data/input/0_Getting_started_papermill.ipynb",
   "output_path": "/opt/braket/model/0_Getting_started_papermill.ipynb",
   "parameters": {
    "device_arn": "arn:aws:braket:eu-west-2::device/qpu/oqc/Lucy",
    "results_dir": "/opt/braket/model",
    "shots": 1000
   },
   "start_time": "2023-02-20T20:33:23.222515",
   "version": "2.4.0"
  },
  "vscode": {
   "interpreter": {
    "hash": "5904cb9a2089448a2e1aeb5d493d227c9de33e591d7c07e4016fb81e71061a5d"
   }
  }
 },
 "nbformat": 4,
 "nbformat_minor": 5
}
