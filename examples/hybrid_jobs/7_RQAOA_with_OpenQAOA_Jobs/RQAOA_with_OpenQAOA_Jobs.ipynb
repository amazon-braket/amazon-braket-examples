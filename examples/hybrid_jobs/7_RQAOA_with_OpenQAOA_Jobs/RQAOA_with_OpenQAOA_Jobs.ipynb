{
 "cells": [
  {
   "cell_type": "markdown",
   "id": "e78e8cbc-3efd-4295-aa9e-19d7bea2ef28",
   "metadata": {
    "tags": []
   },
   "source": [
    "# Recursive QAOA"
   ]
  },
  {
   "cell_type": "markdown",
   "id": "2e1a1bce-b01d-4fad-be25-1e3a05692883",
   "metadata": {},
   "source": [
    "In this notebook, we provide a short introduction to recursive QAOA, and demonstrate how this technique is implemented as an OpenQAOA Job, by solving a standard well-known problem from combinatorial optimization: the Minimum Vertex Cover"
   ]
  },
  {
   "cell_type": "markdown",
   "id": "30eef179-e280-46b4-b42a-feed5bd88764",
   "metadata": {},
   "source": [
    "### A brief Introduction to RQAOA"
   ]
  },
  {
   "cell_type": "markdown",
   "id": "8caeedf5-81cb-44d4-b90a-231010f99e71",
   "metadata": {},
   "source": [
    "Recursive QAOA (RQAOA) is an iterative variant of QAOA, first introduced by Bravyi et. al in [1] and further explored in [2,3]. \n",
    "\n",
    "This technique consists in recursively reducing the size of the problem by running QAOA. At each step, the QAOA output distribution is used to compute the expectation values \n",
    "\n",
    "$$\n",
    "\\mathcal{M}_{i} = \\langle Z_{i} \\rangle \\qquad \\qquad \\qquad \\qquad \\qquad \\mathcal{M}_{ij} = \\langle Z_{i}Z_{j} \\rangle,\n",
    "$$\n",
    "\n",
    "associated with the terms present in the Hamiltonian. Note that, by definition, these quantities are bounded between -1 and 1. The expectation values are then ranked according to their magnitude $|\\mathcal{M}_{(i,ij)}|$. In its original formulation, the highest ranked value is selected. This value is then utilized to eliminate a qubit from the Hamiltonian. This is done by first, performing integer rounding of the expectation value, i.e. $\\mathcal{M}_{(i,ij)} \\rightarrow \\textrm{sign}(\\mathcal{M}_{(i,ij)})$, then transforming the rounded value into a constraint on the respective\\ qubits\n",
    "\n",
    "$$\n",
    "Z_{i} \\rightarrow \\textrm{sign}(\\mathcal{M}_{(i)}) \\qquad \\qquad \\qquad \\qquad \\qquad \\langle Z_{i} Z_{j} \\rangle \\rightarrow \\textrm{sign}(\\mathcal{M}_{(ij)}),\n",
    "$$\n",
    "\n",
    "and last, inserting the constraint into the Hamiltonian, effectively reducing the size of the problem by one qubit. Using the reduced Hamiltonian, QAOA is run again and the same procedure is followed. Once the reduced problem reaches a predefined cutoff size, it is solved exactly solved via classical methods. The final answer is then reconstructed by re-inserting the eliminated qubits into the classical solution following the appropriate order.\n",
    "\n",
    "This version of RQAOA is included in OpenQAOA. Additionally, OpenQAOA incorporates RQAOA from two different generalized version of these procedure, which enable multiple qubit eliminations during the recursive process. These strategies are denoted as `custom` and `adaptive`, in accordance with the precise concept under which the elimination method takes place. In a nutshell, they are described as follows:\n",
    "\n",
    "\n",
    "* The ``custom`` strategy allows the user to define the number of eliminations to be performed at each step. This defined by the parameter ``steps``. If the parameter is set as an integer, the algorithm will use this value as the number of qubits to be eliminated at each step. Alternatively, it is possible to pass a list, which specifies the number of qubits to be eliminated at each step. For ``steps = 1``, the algorithm reduces to the original form of RQAOA presented in [1].\n",
    "\n",
    "* The ``adaptive`` strategy adaptively selects how many qubits to eliminate at each step. The maximum number of allowed eliminations is given by the parameter ``n_max``. At each step, the algorithm selects the top ``n_max+1`` expectation values (ranked in magnitude), computes the mean among them, and uses the ones lying above it for qubit elimination. This corresponds to a maximum of ``n_max`` possible elimination per step. For ``n_max= 1``, the algorithm reduces to the original form of RQAOA presented in [1]."
   ]
  },
  {
   "cell_type": "code",
   "execution_count": 57,
   "id": "d3648267-cb71-481c-97e7-e21db0738048",
   "metadata": {},
   "outputs": [],
   "source": [
    "import os\n",
    "import networkx as nx\n",
    "from datetime import datetime\n",
    "from braket.aws import AwsQuantumJob\n",
    "from braket.jobs.config import OutputDataConfig\n",
    "import matplotlib.pyplot as plt\n",
    "\n",
    "from openqaoa.workflows.optimizer import RQAOA\n",
    "from openqaoa.workflows.aws_input.helpers import create_aws_input_data, save_input_data\n",
    "from openqaoa.problems.problem import MinimumVertexCover"
   ]
  },
  {
   "cell_type": "markdown",
   "id": "c6649d79-6444-4998-8035-a3513f6f4eba",
   "metadata": {},
   "source": [
    "## Problem: Minimum Vertex Cover of an N = 10 ring"
   ]
  },
  {
   "cell_type": "markdown",
   "id": "cebe23ca-fcf8-41e3-965f-8a3fe8d01517",
   "metadata": {},
   "source": [
    "We generate an instance of the Minimum Vertex Cover problem for a ring graph of 10 nodes, making use of the problem library in OpenQAOA.\n",
    "\n",
    "As a brief reminder, the Minimum Vertex Cover problem consists in finding the minimum set of nodes in a graph such every edge in the graph is incident in at least one node in the set. For a ring, the answer corresponds to selected all the even or all the odd nodes (i.e. an antiferromagnet!), meaning that the answer is doubly degenerate. Explicitly, the solutions reads ``1010101010`` and ``0101010101``, and the ground state energy is $E_{gs} = 5$. If you are curious about the specific QUBO formulation of Minimum Vertex Cover, you can check out [3] (it also contains the QUBO form of many other interesting combinatorial optimization problems!)"
   ]
  },
  {
   "cell_type": "code",
   "execution_count": 2,
   "id": "14f283d4-ae27-4869-b6ad-6534e7389eba",
   "metadata": {},
   "outputs": [],
   "source": [
    "# Number of qubits\n",
    "n_qubits = 10\n",
    "\n",
    "# Ring graph\n",
    "G = nx.circulant_graph(n_qubits,[1])\n",
    "\n",
    "# Minimum vertex cover parameters\n",
    "field = 1.0\n",
    "penalty = 10\n",
    "\n",
    "# Define problem instance\n",
    "vc = MinimumVertexCover(G,field = field,penalty = penalty).get_qubo_problem()"
   ]
  },
  {
   "cell_type": "markdown",
   "id": "c9ca87a6-d73c-4241-963c-4d746c404fb0",
   "metadata": {},
   "source": [
    "## Original RQAOA and setting up the QAOA properties for the recursive process"
   ]
  },
  {
   "cell_type": "markdown",
   "id": "dd6b3aa4-96f6-4bcf-a4df-cdcc0075317d",
   "metadata": {},
   "source": [
    "Let us first demonstrate how we would solve this problem making use of the original formulation of RQAOA. As explained in the introduction, this can be done by either selecting ``Custom`` RQAOA and choosing ``steps = 1`` or by using ``Adaptive`` RQAOA and choosing ``n_max=1``. Both methods will by default use the original version of RQAOA.\n",
    "\n",
    "Since RQAOA runs recursively QAOA, we need to set how do we want QAOA to run. This is easily done by making use of the RQAOA methods, the workflow is similar to the QAOA one (see the previous tutorial). By calling the corresponding methods we will set all the QAOA properties, e.g.: number of layers, initialization, parametrization, mixer, device, optimizer, etc. "
   ]
  },
  {
   "cell_type": "code",
   "execution_count": 3,
   "id": "3c8c1692-5e93-4d3e-9590-d38d9efe6d09",
   "metadata": {},
   "outputs": [],
   "source": [
    "# Define the RQAOA object (default rqaoa_type = 'adaptive')\n",
    "r =  RQAOA()\n",
    "\n",
    "# Set parameters for RQAOA, in this case we fix the n_max to 1 (default), the final cutoff value to 3\n",
    "r.set_rqaoa_parameters(n_cutoff=3)\n",
    "\n",
    "# Set the properties you want - These values are actually the default ones!\n",
    "r.set_circuit_properties(p=1, param_type='standard', init_type='ramp', mixer_hamiltonian='x')\n",
    "# Set the classical method used to optimiza over QAOA angles and its properties\n",
    "r.set_classical_optimizer(method='cobyla', maxiter=200, save_intermediate=False)"
   ]
  },
  {
   "cell_type": "code",
   "execution_count": 4,
   "id": "cb4defd0-d292-4c28-b2b4-1219f6ae1558",
   "metadata": {},
   "outputs": [],
   "source": [
    "# Compile problem instance on RQAOA, to obtain a the OpenQAOA internal description of the problem\n",
    "r.compile(vc)"
   ]
  },
  {
   "cell_type": "markdown",
   "id": "9dd46b21-cecc-4515-81e8-191d3a58c881",
   "metadata": {},
   "source": [
    "## Prepare the input data for the OpenQAOA Job"
   ]
  },
  {
   "cell_type": "code",
   "execution_count": 5,
   "id": "5d99248c-57eb-405a-ab89-5b86dce35bcf",
   "metadata": {},
   "outputs": [],
   "source": [
    "# Specify a path where to store the QUBO and the QAOA parameters\n",
    "input_data = create_aws_input_data(r, vc)\n",
    "save_input_data(input_data,'openqaoa_params.json')"
   ]
  },
  {
   "cell_type": "markdown",
   "id": "e46a7300-d441-418d-a696-082f358c9726",
   "metadata": {},
   "source": [
    "## Send the Job to Braket\n",
    "Note that this job relies on the OpenQAOA image XXX.dkr.ecr.us-east-1.amazonaws.com/amazon-braket-oq-dev:latest. To build the image from scratch please refer to the readme file in this directory"
   ]
  },
  {
   "cell_type": "code",
   "execution_count": 18,
   "id": "7c371f54-7801-4ef9-964d-392b16ef3447",
   "metadata": {},
   "outputs": [],
   "source": [
    "timestamp = datetime.timestamp(datetime.now())\n",
    "date_time = datetime.fromtimestamp(timestamp).strftime('%Y%m%d--%H%M%S')\n",
    "job_name='rqaoa-test-' + date_time"
   ]
  },
  {
   "cell_type": "code",
   "execution_count": 19,
   "id": "f01a0a62-19ee-46b6-a492-bca146b1c1d6",
   "metadata": {},
   "outputs": [],
   "source": [
    "job = AwsQuantumJob.create(\n",
    "    device=\"arn:aws:braket:::device/quantum-simulator/amazon/sv1\",\n",
    "    job_name=job_name,\n",
    "    source_module=\"./scripts/rqaoa.py\",\n",
    "    image_uri='733853225053.dkr.ecr.us-east-1.amazonaws.com/amazon-braket-oq-dev:latest',\n",
    "    input_data={\"input_data\": 'openqaoa_params.json'},\n",
    "    wait_until_complete=False # This frees the console \n",
    "    )"
   ]
  },
  {
   "cell_type": "code",
   "execution_count": 24,
   "id": "bfa900f8-8561-4bdb-a720-02ae7ac328e0",
   "metadata": {},
   "outputs": [
    {
     "data": {
      "text/plain": [
       "'COMPLETED'"
      ]
     },
     "execution_count": 24,
     "metadata": {},
     "output_type": "execute_result"
    }
   ],
   "source": [
    "job.state()"
   ]
  },
  {
   "cell_type": "code",
   "execution_count": 26,
   "id": "d1520e6f-2b43-4cce-8fc6-c5bcf9bb08a0",
   "metadata": {},
   "outputs": [],
   "source": [
    "res = job.result()"
   ]
  },
  {
   "cell_type": "code",
   "execution_count": 32,
   "id": "8b29a1b5-f1a5-48ee-afa3-304e36daa4cd",
   "metadata": {},
   "outputs": [
    {
     "data": {
      "text/plain": [
       "{'0101010101': 5.0}"
      ]
     },
     "execution_count": 32,
     "metadata": {},
     "output_type": "execute_result"
    }
   ],
   "source": [
    "res['rqaoa_result']['solution']"
   ]
  },
  {
   "cell_type": "markdown",
   "id": "3523a1a6-4708-455f-80d5-6f63968f1604",
   "metadata": {},
   "source": [
    "We have solved our first problem using RQAOA! Let us now digest the output from the results. \n",
    "\n",
    "First, the ``res['rqaoa_result']['solution']`` dictionary contains to the final solution(s) of the problem, here ``1010101010`` (the antiferromagnetic solution we expected!), and the associated energy(-ies), here ``5.0``. "
   ]
  },
  {
   "cell_type": "markdown",
   "id": "b4d05636-0878-4e9c-8f07-d0f164a69915",
   "metadata": {},
   "source": [
    "But what else can we extract from the logs?"
   ]
  },
  {
   "cell_type": "markdown",
   "id": "a646afe9-ab63-420c-a04a-23e4cda6ee2a",
   "metadata": {},
   "source": [
    "The ``res['rqaoa_result']['elimination_rules']`` dictionary displays how qubits were eliminated throughout the recursive process. \n",
    "\n",
    "Let's use an example to illustrate the notation. For example ``{(0, 1): -1.0}`` should be read as: qubit ``1`` was eliminated in favor of qubit ``0``, and the correlation between them is negative.\n",
    "\n",
    "Now let's go back to our RQAOA. Taking the first entry ``{(None, 7): -1.0}``. When the label of the remaining qubit reads ``None``, the qubit ``7`` was not eliminated in favor of a remaining one, but was instead fixed to the specified value ``-1.0``, resulting from a single-qubit expectation value being the highest ranked."
   ]
  },
  {
   "cell_type": "code",
   "execution_count": 37,
   "id": "1bd409a3-eaae-4296-a662-6ad66e3ae38f",
   "metadata": {},
   "outputs": [
    {
     "data": {
      "text/plain": [
       "[{'(None, 7)': -1.0},\n",
       " {'(3, 4)': -1.0},\n",
       " {'(None, 6)': 1.0, '(None, 7)': -1.0},\n",
       " {'(None, 4)': -1.0, '(None, 5)': 1.0},\n",
       " {'(None, 3)': -1.0}]"
      ]
     },
     "execution_count": 37,
     "metadata": {},
     "output_type": "execute_result"
    }
   ],
   "source": [
    "res['rqaoa_result']['elimination_rules']"
   ]
  },
  {
   "cell_type": "markdown",
   "id": "08897ecd-4a43-4c9a-a25d-68ac58cf245e",
   "metadata": {},
   "source": [
    "The ``r.results['schedule']`` corresponds to the number of eliminations that took place at each step. You can see that, according to the elimination rules, there are 5  entries in the schedule"
   ]
  },
  {
   "cell_type": "code",
   "execution_count": 40,
   "id": "5d44e06a-141c-4770-84a5-9c33916090d0",
   "metadata": {},
   "outputs": [
    {
     "data": {
      "text/plain": [
       "[1, 1, 2, 2, 1]"
      ]
     },
     "execution_count": 40,
     "metadata": {},
     "output_type": "execute_result"
    }
   ],
   "source": [
    "res['rqaoa_result']['schedule']"
   ]
  },
  {
   "cell_type": "markdown",
   "id": "4c0cc8db-bb27-4a0b-9807-464b5ac34853",
   "metadata": {},
   "source": [
    "   The ``r.results['intermediate_steps']`` is a list, each item is storing information of each recursive step of the RQAOA algorithm. Each item is a dictonary with a QUBO problem object (object storing the problem solved in the corresponding step) and a QAOA object (object storing the corresponding qaoa parameters and solutions after solving the QUBO problem). "
   ]
  },
  {
   "cell_type": "code",
   "execution_count": 71,
   "id": "0c276799-6d03-4263-82e8-2bcb09793d93",
   "metadata": {},
   "outputs": [
    {
     "name": "stdout",
     "output_type": "stream",
     "text": [
      "There are 5 intermediate results\n"
     ]
    }
   ],
   "source": [
    "print(f'There are {len(res[\"rqaoa_result\"][\"intermediate_steps\"])} intermediate results')"
   ]
  },
  {
   "cell_type": "markdown",
   "id": "26e09ad3-b412-4a6e-9963-cb70b678b39a",
   "metadata": {},
   "source": [
    "Let's look at the correlations for the first intermediate step. Plotting the correlation heatmap shows that qubit 7 had the highes correlation and it was thus fixed to the value of ``-1``"
   ]
  },
  {
   "cell_type": "code",
   "execution_count": 73,
   "id": "f485c88e-98d2-4fed-980f-23da86f2eaeb",
   "metadata": {},
   "outputs": [
    {
     "data": {
      "text/plain": [
       "<matplotlib.colorbar.Colorbar at 0x7f2232bf6310>"
      ]
     },
     "execution_count": 73,
     "metadata": {},
     "output_type": "execute_result"
    },
    {
     "data": {
      "image/png": "[encoded data removed]",
      "text/plain": [
       "<Figure size 640x480 with 2 Axes>"
      ]
     },
     "metadata": {},
     "output_type": "display_data"
    }
   ],
   "source": [
    "plt.imshow(res['rqaoa_result']['intermediate_steps'][0]['corr_matrix'], cmap=\"cool\")\n",
    "plt.colorbar()"
   ]
  },
  {
   "cell_type": "markdown",
   "id": "6ea96e06-c8a2-444f-b1e0-eb338848bb97",
   "metadata": {},
   "source": [
    "Similarly, we can see that during the next intermediate step ``'(3, 4)': -1.0``, qubit ``4`` was eliminated in favour of qubit ``3``"
   ]
  },
  {
   "cell_type": "code",
   "execution_count": 74,
   "id": "1cadd569-613e-4ffc-b4c7-6eecf9e22ea1",
   "metadata": {},
   "outputs": [
    {
     "data": {
      "text/plain": [
       "<matplotlib.colorbar.Colorbar at 0x7f2232b20b10>"
      ]
     },
     "execution_count": 74,
     "metadata": {},
     "output_type": "execute_result"
    },
    {
     "data": {
      "image/png": "[encoded data removed]",
      "text/plain": [
       "<Figure size 640x480 with 2 Axes>"
      ]
     },
     "metadata": {},
     "output_type": "display_data"
    }
   ],
   "source": [
    "plt.imshow(res['rqaoa_result']['intermediate_steps'][1]['corr_matrix'], cmap=\"cool\")\n",
    "plt.colorbar()"
   ]
  }
 ],
 "metadata": {
  "kernelspec": {
   "display_name": "amazon-braket-examples",
   "language": "python",
   "name": "amazon-braket-examples"
  },
  "language_info": {
   "codemirror_mode": {
    "name": "ipython",
    "version": 3
   },
   "file_extension": ".py",
   "mimetype": "text/x-python",
   "name": "python",
   "nbconvert_exporter": "python",
   "pygments_lexer": "ipython3",
   "version": "3.7.15"
  }
 },
 "nbformat": 4,
 "nbformat_minor": 5
}
