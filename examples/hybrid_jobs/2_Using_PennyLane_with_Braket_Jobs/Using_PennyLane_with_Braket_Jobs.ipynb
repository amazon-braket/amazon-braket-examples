{
 "cells": [
  {
   "cell_type": "markdown",
   "id": "a71c2ac1",
   "metadata": {},
   "source": [
    "# QAOA with Amazon Braket Hybrid Jobs and PennyLane\n",
    "\n",
    "In this tutorial, we use PennyLane within Amazon Braket Hybrid Jobs to run the Quantum Approximate Optimization Algorithm (QAOA) on a Max-Cut problem.\n",
    "\n",
    "## Learning outcomes\n",
    "* Use pre-built PennyLane containers in Braket Jobs\n",
    "* Set QAOA hyperparameters \n",
    "* Choose PennyLane backend (TensorFlow, PyTorch)\n",
    "* Use checkpoints for Braket Jobs"
   ]
  },
  {
   "cell_type": "markdown",
   "id": "a9c09829",
   "metadata": {},
   "source": [
    "## QAOA background \n",
    "\n",
    "QAOA is a variational algorithm that uses parameterized quantum circuits to evaluate a classical cost function given by a binary optimization problem; the circuit parameters are iteratively adjusted to minimize the cost function. The QAOA algorithm itself has different settings, such as circuit depth ($p$). In analogy to machine learning, these input settings are commonly referred to as _hyperparameters_. In the following, we show how to setup the problem, prepare input data and run QAOA using Braket Jobs.\n",
    "\n",
    "For more information about QAOA and PennyLane, see [this example notebook](../pennylane/2_Graph_optimization_with_QAOA.ipynb) or [this PennyLane tutorial](https://pennylane.ai/qml/demos/tutorial_qaoa_intro.html)."
   ]
  },
  {
   "cell_type": "markdown",
   "id": "1b060be4",
   "metadata": {},
   "source": [
    "## Problem setup\n",
    "\n",
    "A Max Cut problem is the problem to find a cut in a graph that maximizes the number of edges between the two parts after the cut. It has applications in theoretical physics and in combinatorial optimizations. To get started, we first create and visualize a random graph for the Max-Cut problem with <code>networkx</code> package. Feel free to adjust the number of nodes, <code>n</code>, and number of edges, <code>m</code> as part of your experiments."
   ]
  },
  {
   "cell_type": "code",
   "execution_count": 1,
   "id": "1af6ab0a",
   "metadata": {},
   "outputs": [],
   "source": [
    "import time\n",
    "\n",
    "import networkx as nx\n",
    "from braket.aws import AwsQuantumJob, AwsSession\n",
    "from braket.jobs.image_uris import Framework, retrieve_image\n",
    "import matplotlib.pyplot as plt\n",
    "\n",
    "%matplotlib inline"
   ]
  },
  {
   "cell_type": "code",
   "execution_count": 2,
   "id": "1255024d",
   "metadata": {},
   "outputs": [
    {
     "data": {
      "image/png": "[encoded data removed]",
      "text/plain": [
       "<Figure size 432x288 with 1 Axes>"
      ]
     },
     "metadata": {},
     "output_type": "display_data"
    }
   ],
   "source": [
    "# We generate a random graph with num_nodes nodes and num_edges edges to run Max Cut on.\n",
    "# num_nodes is the number of nodes in your graph, each represented by one qubit. \n",
    "# Caution: Circuit runtimes will scale exponentially with num_nodes\n",
    "num_nodes = 6\n",
    "num_edges = 8\n",
    "seed = 1967\n",
    "\n",
    "graph = nx.gnm_random_graph(num_nodes, num_edges, seed=seed)\n",
    "\n",
    "# Draw the graph\n",
    "positions = nx.spring_layout(graph, seed=seed)\n",
    "nx.draw(graph, with_labels=True, pos=positions, node_size=600)"
   ]
  },
  {
   "cell_type": "markdown",
   "id": "eb63f5b4",
   "metadata": {},
   "source": [
    "## Prepare input data\n",
    "We will prepare the optimization problem we want to solve, represented by the so-called Ising matrix, as the input data for the Braket Job. This best practice helps us decouple our problem definition from our algorithm code. If we want to solve another instance of this problem type, all we need to do is to point a new job to the new input data. The input data can be specified by either a path to a local file, or an Amazon S3 path that points to the data. For this example, we will create a file in the local directory encoding the problem graph."
   ]
  },
  {
   "cell_type": "code",
   "execution_count": 3,
   "id": "229d5614",
   "metadata": {},
   "outputs": [],
   "source": [
    "input_file_path = \"input-data.adjlist\"\n",
    "nx.write_adjlist(graph, input_file_path)"
   ]
  },
  {
   "cell_type": "markdown",
   "id": "6fadb36d",
   "metadata": {},
   "source": [
    "## Specify hyperparameters and configurations\n",
    "\n",
    "\"The hyperparameters can be passed in when you create your job, through the keyword argument <code>hyperparameters</code>. It usually includes all the algorithm settings you might want to adjust between runs to tailor your algorithm to the problem. This includes, for instance, the optimizer to use and its learning rate, the number of iterations, or the number of shots per device execution. "
   ]
  },
  {
   "cell_type": "code",
   "execution_count": 4,
   "id": "5bcbdad1",
   "metadata": {},
   "outputs": [],
   "source": [
    "# Pick 'autograd', 'tf', or 'torch'. Autograd is base PennyLane\n",
    "interface = \"autograd\"\n",
    "# Specify device that the job will primarily be targeting\n",
    "device = \"arn:aws:braket:::device/quantum-simulator/amazon/sv1\"\n",
    "\n",
    "hyperparameters = {\n",
    "    # Number of tasks per iteration = 2 * (num_nodes + num_edges) * p + 1\n",
    "    \"p\": \"2\",\n",
    "    \"seed\": str(seed),\n",
    "    # Maximum number of simultaneous tasks allowed\n",
    "    \"max_parallel\": \"10\",\n",
    "    # Number of total optimization iterations, including those from previous checkpoint (if any)\n",
    "    \"num_iterations\": \"5\",\n",
    "    # Step size / learning rate for gradient descent\n",
    "    \"stepsize\": \"0.1\",\n",
    "    # Shots for each circuit execution\n",
    "    \"shots\": \"1000\",\n",
    "    \"interface\": interface,\n",
    "}"
   ]
  },
  {
   "cell_type": "markdown",
   "id": "122df127",
   "metadata": {},
   "source": [
    "Braket Jobs comes with three pre-configured container environments. The base container does not include PennyLane, so we need to use one of the two PennyLane containers: TensorFlow or PyTorch."
   ]
  },
  {
   "cell_type": "code",
   "execution_count": 5,
   "id": "aa7432fc",
   "metadata": {},
   "outputs": [],
   "source": [
    "from braket.aws import AwsSession\n",
    "\n",
    "region = AwsSession().region\n",
    "\n",
    "# Base container does not have PennyLane, so we have to use the TF or PyTorch container\n",
    "# Choose the container based on which one we need.\n",
    "if interface == \"autograd\" or interface == \"tf\":\n",
    "    image_uri = retrieve_image(Framework.PL_TENSORFLOW, region)\n",
    "elif interface == \"torch\":\n",
    "    image_uri = retrieve_image(Framework.PL_PYTORCH, region)"
   ]
  },
  {
   "cell_type": "markdown",
   "id": "99b4227f",
   "metadata": {},
   "source": [
    "## Algorithm script\n",
    "\n",
    "The algorithm script we are going to use for solving the Max-Cut problem with QAOA can be found [here](qaoa/qaoa_algorithm_script.py)."
   ]
  },
  {
   "cell_type": "markdown",
   "id": "e6faebe9",
   "metadata": {},
   "source": [
    "## Submitting a Braket Job\n",
    "\n",
    "We have now finished preparing the input data, algorithm script, hyperparameters and other configurations. It's time to submit our Braket Job!\n",
    "\n",
    "We specify the following arguments to create our job: \n",
    "\n",
    "- <code>device</code>: The arn of the Braket simulator or QPU we want to use. It will be stored as an environment variable for the algorithm script.\n",
    "- <code>source_module</code>: The path to a file or a python module that contains your algorithm script. It will be uploaded to the container for Braket Job execution.\n",
    "- <code>job_name</code>: A unique string to identify the job. It appears in the Braket Job console and in the job arn.\n",
    "- <code>image_uri</code>: The path to a Docker container image.\n",
    "- <code>entry point</code>: The path relative to the source_module. It points to the piece of code to be executed when the Braket Job starts.\n",
    "- <code>copy_checkpoints_from_job</code>: A string that specifies the job arn whose checkpoint you want to use in the current job. If `None` (default value), no checkpoints will be copied to the current job.\n",
    "- <code>hyperparameters</code>: The Python dictionary containing the hyperparameter names and values (as strings).\n",
    "- <code>input_data</code>: A dictionary that maps channel names to either a file location in the local environment or a path to S3. We can also specify only a file location, in which case the channel name is treated as \"input\".\n",
    "- <code>wait_until_complete</code>: If True, the function call will wait until the Braket Job is completed, and will additionally print logs to the local console. Otherwise, it will run asynchronously. Defaults to False."
   ]
  },
  {
   "cell_type": "code",
   "execution_count": 6,
   "id": "d1628544",
   "metadata": {},
   "outputs": [],
   "source": [
    "job = AwsQuantumJob.create(\n",
    "    device=device,\n",
    "    source_module=\"qaoa\",\n",
    "    # Any unique name works. Note 50-character limit in job name\n",
    "    # (comment out to use default naming)\n",
    "    job_name=\"qaoa-job-\" + interface + \"-\" + str(int(time.time())),\n",
    "    image_uri=image_uri,\n",
    "    # Relative to the source_module\n",
    "    entry_point=\"qaoa.qaoa_algorithm_script\",\n",
    "    copy_checkpoints_from_job=None,\n",
    "    # general parameters\n",
    "    hyperparameters=hyperparameters,\n",
    "    input_data={\"input-graph\": input_file_path},\n",
    "    wait_until_complete=False,\n",
    ")"
   ]
  },
  {
   "cell_type": "markdown",
   "id": "5076fcd0",
   "metadata": {},
   "source": [
    "## View results"
   ]
  },
  {
   "cell_type": "markdown",
   "id": "cd39025c",
   "metadata": {},
   "source": [
    "After the job is completed, we can view the result and the metric we defined in the algorithm script."
   ]
  },
  {
   "cell_type": "code",
   "execution_count": 7,
   "id": "8a0e2cbb",
   "metadata": {},
   "outputs": [
    {
     "name": "stdout",
     "output_type": "stream",
     "text": [
      "{'params': [[-0.3426988042362592, -0.35226879319477955], [0.10494861197911745, 0.36048010094128335]], 'cost': -5.231}\n",
      "CPU times: user 946 ms, sys: 60 ms, total: 1.01 s\n",
      "Wall time: 8min 10s\n"
     ]
    }
   ],
   "source": [
    "%%time\n",
    "# This cell should take 7-8  minutes\n",
    "print(job.result())"
   ]
  },
  {
   "cell_type": "code",
   "execution_count": 8,
   "id": "e833644b",
   "metadata": {},
   "outputs": [
    {
     "name": "stdout",
     "output_type": "stream",
     "text": [
      "{'timestamp': [1636490591.0487478, 1636490588.3038065, 1636490564.5690866, 1636490539.5424445, 1636490516.9099758, 1636490491.6595936], 'Cost': [-5.231, -4.523, -4.063, -4.005, -3.955, -4.029], 'iteration_number': [5.0, 4.0, 3.0, 2.0, 1.0, 0.0]}\n"
     ]
    }
   ],
   "source": [
    "# May need to wait a bit before metrics show up\n",
    "# If metrics aren't there, run a bit later\n",
    "time.sleep(10)\n",
    "print(job.metrics())"
   ]
  },
  {
   "cell_type": "code",
   "execution_count": 9,
   "id": "f0b03145",
   "metadata": {},
   "outputs": [
    {
     "data": {
      "image/png": "[encoded data removed]",
      "text/plain": [
       "<Figure size 432x288 with 1 Axes>"
      ]
     },
     "metadata": {
      "needs_background": "light"
     },
     "output_type": "display_data"
    }
   ],
   "source": [
    "# A demonstration of plotting the metrics\n",
    "import pandas as pd\n",
    "from matplotlib.ticker import MaxNLocator\n",
    "\n",
    "metrics_data = job.metrics()\n",
    "\n",
    "if metrics_data: \n",
    "    df = pd.DataFrame(job.metrics())\n",
    "\n",
    "    ax = plt.figure().gca()\n",
    "    ax.xaxis.set_major_locator(MaxNLocator(integer=True))\n",
    "    figure = df.plot(x=\"iteration_number\", y=\"Cost\", ax=ax)\n",
    "else:\n",
    "    print(\"Wait for metrics to populate and re-run the cell.\")"
   ]
  },
  {
   "cell_type": "markdown",
   "id": "a480458f",
   "metadata": {},
   "source": [
    "## Checkpoints"
   ]
  },
  {
   "cell_type": "markdown",
   "id": "8314912b",
   "metadata": {},
   "source": [
    "It is best practice to regularly save interim progress of your job as checkpoints. If your job terminates unexpectedly, for instance, if a QPU becomes unavailable, you can create a new job and load its training progress from a *checkpoint*. To save checkpoints, the algorithm script should contain code like the following:"
   ]
  },
  {
   "cell_type": "code",
   "execution_count": 10,
   "id": "40cb8324",
   "metadata": {},
   "outputs": [
    {
     "name": "stdout",
     "output_type": "stream",
     "text": [
      "Code in the algorithm script for saving a checkpoint\n"
     ]
    }
   ],
   "source": [
    "%%script echo \"Code in the algorithm script for saving a checkpoint\"\n",
    "\n",
    "for iteration in range(start_iteration, num_iterations):\n",
    "    # Training code omitted ...\n",
    "    # ...\n",
    "    save_job_checkpoint(\n",
    "        checkpoint_data={\n",
    "            \"iteration\": iteration + 1,\n",
    "            \"params\": np_params.tolist(),\n",
    "            \"cost_before\": cost_before,\n",
    "        },\n",
    "        checkpoint_file_suffix=\"checkpoint-1\",\n",
    "    )"
   ]
  },
  {
   "cell_type": "markdown",
   "id": "386c620e",
   "metadata": {},
   "source": [
    "This code creates and overwrites a checkpoint file `<jobname>-checkpoint-1.json` in your Job artifacts under a subfolder checkpoints. To load from a checkpoint at the start of a new job, the algorithm script should contain code like this:"
   ]
  },
  {
   "cell_type": "code",
   "execution_count": 11,
   "id": "ca7030c3",
   "metadata": {},
   "outputs": [
    {
     "name": "stdout",
     "output_type": "stream",
     "text": [
      "Code in the algorithm script for loading a checkpoint\n"
     ]
    }
   ],
   "source": [
    "%%script echo \"Code in the algorithm script for loading a checkpoint\"\n",
    "\n",
    "if \"copy_checkpoints_from_job\" in hyperparams:\n",
    "    copy_checkpoints_from_job = hyperparams[\"copy_checkpoints_from_job\"].split(\"/\", 2)[-1]\n",
    "\n",
    "if copy_checkpoints_from_job:\n",
    "    checkpoint_1 = load_job_checkpoint(\n",
    "        copy_checkpoints_from_job,\n",
    "        checkpoint_file_suffix=\"checkpoint-1\",\n",
    "    )\n",
    "    start_iteration = checkpoint_1[\"iteration\"]\n",
    "    params = interface.initialize_params(np.array(checkpoint_1[\"params\"]))\n",
    "    print(\"Checkpoint loaded\")"
   ]
  },
  {
   "cell_type": "markdown",
   "id": "98974db6",
   "metadata": {},
   "source": [
    "This starts off the algorithm from the iteration and the parameters specified in the checkpoint file."
   ]
  },
  {
   "cell_type": "markdown",
   "id": "3275d5ef",
   "metadata": {},
   "source": [
    "Let us see loading a checkpoint in action. We create a new job using the checkpoint from our existing job, this time training for another 2 iterations:"
   ]
  },
  {
   "cell_type": "code",
   "execution_count": 12,
   "id": "2f1957f3",
   "metadata": {},
   "outputs": [],
   "source": [
    "new_hyperparameters = dict(hyperparameters)\n",
    "# Increase number of iterations by 2\n",
    "new_hyperparameters[\"num_iterations\"] = str(int(hyperparameters[\"num_iterations\"]) + 2)\n",
    "# Also add previous job arn in new hyperparameters\n",
    "new_hyperparameters[\"copy_checkpoints_from_job\"] = job.arn\n",
    "\n",
    "start_time = time.time()\n",
    "\n",
    "continued_job = AwsQuantumJob.create(\n",
    "    device=device,\n",
    "    source_module=\"qaoa\",\n",
    "    job_name=\"qaoa-job-continued-\" + interface + \"-\" + str(int(time.time())),\n",
    "    image_uri=image_uri,\n",
    "    entry_point=\"qaoa.qaoa_algorithm_script\",\n",
    "    # We specify the previous job arn to copy checkpoints from\n",
    "    copy_checkpoints_from_job=job.arn,\n",
    "    hyperparameters=new_hyperparameters,\n",
    "    input_data={\"input-graph\": input_file_path},\n",
    "    wait_until_complete=False,\n",
    ")\n",
    "\n",
    "end_time = time.time()"
   ]
  },
  {
   "cell_type": "code",
   "execution_count": 13,
   "id": "372fc886",
   "metadata": {},
   "outputs": [
    {
     "name": "stdout",
     "output_type": "stream",
     "text": [
      "CPU times: user 4 µs, sys: 1e+03 ns, total: 5 µs\n",
      "Wall time: 19.3 µs\n"
     ]
    },
    {
     "data": {
      "text/plain": [
       "{'params': [[-0.3125488042362592, -0.35011879319477957],\n",
       "  [0.3345486119791175, 0.5900801009412834]],\n",
       " 'cost': -3.807}"
      ]
     },
     "execution_count": 13,
     "metadata": {},
     "output_type": "execute_result"
    }
   ],
   "source": [
    "%time \n",
    "# This cell should take 6-7 min\n",
    "continued_job.result()"
   ]
  },
  {
   "cell_type": "code",
   "execution_count": 16,
   "id": "627b7290",
   "metadata": {},
   "outputs": [
    {
     "name": "stdout",
     "output_type": "stream",
     "text": [
      "{'timestamp': [1636491849.1723645, 1636491846.4377785, 1636491820.6292014], 'Cost': [-3.807, -4.763, -5.177], 'iteration_number': [7.0, 6.0, 5.0]}\n"
     ]
    }
   ],
   "source": [
    "# May need to wait a bit before metrics show up\n",
    "# If metrics aren't there, run a bit later\n",
    "time.sleep(10)\n",
    "print(continued_job.metrics())"
   ]
  },
  {
   "cell_type": "code",
   "execution_count": 17,
   "id": "9afb9298",
   "metadata": {},
   "outputs": [
    {
     "data": {
      "image/png": "[encoded data removed]",
      "text/plain": [
       "<Figure size 432x288 with 1 Axes>"
      ]
     },
     "metadata": {
      "needs_background": "light"
     },
     "output_type": "display_data"
    }
   ],
   "source": [
    "metrics_data = continued_job.metrics()\n",
    "\n",
    "if metrics_data: \n",
    "    df = pd.DataFrame(continued_job.metrics())\n",
    "\n",
    "    ax = plt.figure().gca()\n",
    "    ax.xaxis.set_major_locator(MaxNLocator(integer=True))\n",
    "    figure = df.plot(x=\"iteration_number\", y=\"Cost\", ax=ax)\n",
    "else: \n",
    "    print(\"Wait for metrics to populate and re-run the cell.\")"
   ]
  },
  {
   "cell_type": "markdown",
   "id": "cd92ffc4",
   "metadata": {},
   "source": [
    "## Summary\n",
    "\n",
    "In this tutorial, we set up a Max-Cut problem with a random graph using PennyLane. We saved the graph to a local file and provided it as input data to our Braket Job, and used the pre-built PennyLane container image to run it. Variables that are required for the training process and the optimizer are passed as hyperparameters. The result is retrieved after the QAOA algorithm is completed. Lastly, we demonstrated how to use checkpoints to save and load training progress of a job."
   ]
  }
 ],
 "metadata": {
  "kernelspec": {
   "display_name": "conda_braket",
   "language": "python",
   "name": "conda_braket"
  },
  "language_info": {
   "codemirror_mode": {
    "name": "ipython",
    "version": 3
   },
   "file_extension": ".py",
   "mimetype": "text/x-python",
   "name": "python",
   "nbconvert_exporter": "python",
   "pygments_lexer": "ipython3",
   "version": "3.7.11"
  }
 },
 "nbformat": 4,
 "nbformat_minor": 5
}
