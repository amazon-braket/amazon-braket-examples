{
 "cells": [
  {
   "cell_type": "code",
   "execution_count": null,
   "metadata": {},
   "outputs": [],
   "source": [
    "import numpy as np\n",
    "\n",
    "\n",
    "def train_circuit(n_qubits, n_layers, n_iterations=10):\n",
    "    return {\n",
    "        \"params\": np.array([ 0.68900666,  0.03283901,  0.81187867,  1.26268392,  0.02617915,\n",
    "         0.64396775, -0.11640445,  0.09168079,  0.38625248,  0.51137178,\n",
    "         0.6702684 ,  0.7341986 ,  0.67538873,  0.11565373,  0.05984109,\n",
    "        -0.46864439,  1.20187778, -1.76293762, -0.27392566,  0.24333289,\n",
    "        -0.34868898,  0.20794765,  0.35201935,  0.84986321,  1.67362384,\n",
    "         0.71571067,  0.50030453,  1.14005808, -0.76029752,  1.31453205]),\n",
    "        \"task summary\": {},\n",
    "        \"estimated cost\": 0.0,\n",
    "    }"
   ]
  },
  {
   "cell_type": "markdown",
   "metadata": {},
   "source": [
    "Now let's run the function to verify that it works as expected."
   ]
  },
  {
   "cell_type": "code",
   "execution_count": null,
   "outputs": [],
   "source": [
    "import sys"
   ],
   "metadata": {
    "collapsed": false
   }
  },
  {
   "cell_type": "code",
   "execution_count": null,
   "metadata": {},
   "outputs": [],
   "source": [
    "\n",
    "n_qubits = 5\n",
    "n_layers= 2\n",
    "\n",
    "train_circuit(n_qubits, n_layers=n_layers, n_iterations=5)"
   ]
  },
  {
   "cell_type": "code",
   "execution_count": null,
   "metadata": {},
   "outputs": [],
   "source": [
    "from braket.jobs import hybrid_job\n",
    "\n",
    "\n",
    "@hybrid_job(device=None, include_modules=\"qcbm\", input_data=\"data.npy\")\n",
    "def train_circuit_hybrid_job(n_qubits, n_layers, n_iterations):\n",
    "    return train_circuit(n_qubits, n_layers, n_iterations)"
   ]
  },
  {
   "cell_type": "code",
   "execution_count": null,
   "outputs": [],
   "source": [
    "# Running in a loop\n",
    "jobs = []\n",
    "\n",
    "for n_layers in range(1, 7):\n",
    "    print(f\"Creating job with {n_layers} layers\")\n",
    "    print(f\"Sys path: {sys.path}\")\n",
    "    tmp_job = train_circuit_hybrid_job(n_qubits, n_layers, n_iterations=10)\n",
    "\n",
    "    jobs.append(tmp_job)"
   ],
   "metadata": {
    "collapsed": false
   }
  },
  {
   "cell_type": "code",
   "execution_count": null,
   "outputs": [],
   "source": [],
   "metadata": {
    "collapsed": false
   }
  }
 ],
 "metadata": {
  "kernelspec": {
   "display_name": "Python 3.8.10 ('venv': venv)",
   "language": "python",
   "name": "python3"
  },
  "language_info": {
   "codemirror_mode": {
    "name": "ipython",
    "version": 3
   },
   "file_extension": ".py",
   "mimetype": "text/x-python",
   "name": "python",
   "nbconvert_exporter": "python",
   "pygments_lexer": "ipython3",
   "version": "3.10.13"
  },
  "vscode": {
   "interpreter": {
    "hash": "590fab68195cf107911461461f81d5c472d3d6127f579badfcfad30f03e5cab2"
   }
  }
 },
 "nbformat": 4,
 "nbformat_minor": 4
}
