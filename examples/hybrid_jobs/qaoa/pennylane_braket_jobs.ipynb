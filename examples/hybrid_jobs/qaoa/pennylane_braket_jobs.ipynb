{
 "cells": [
  {
   "cell_type": "markdown",
   "id": "887584d7",
   "metadata": {},
   "source": [
    "# QAOA with Amazon Braket Hybrid Jobs and PennyLane\n",
    "\n",
    "In this tutorial, we use Pennylane withing Amazon Braket Hybrid Jobs to run the Quantum Approximate Optimization Algorithm (QAOA) on a Max-Cut problem.\n",
    "\n",
    "## Learning outcomes\n",
    "* Use pre-built Pennylane containers in Braket Jobs\n",
    "* Set QAOA hyperparameters \n",
    "* Choose Pennylane backend (TensorFlow, PyTorch)\n",
    "* Use checkpoints for Braket Jobs"
   ]
  },
  {
   "cell_type": "markdown",
   "id": "50fe5c8b",
   "metadata": {},
   "source": [
    "## QAOA background \n",
    "\n",
    "QAOA is a variational algorithm with input parameters to a quantum circuit that evaluates a classical cost function; these parameters are optimized to minimize the cost function. In running QAOA, it's common to adjust the hyperparameters such as circuit depth ($p$). Braket Jobs helps organize experiments and results. In the following, we show how to setup the problem, prepare input data and run QAOA using Braket Jobs.\n",
    "\n",
    "For more information about QAOA and PennyLane, see [this example notebook](../pennylane/2_Graph_optimization_with_QAOA.ipynb) or [this PennyLane tutorial](https://pennylane.ai/qml/demos/tutorial_qaoa_intro.html)."
   ]
  },
  {
   "cell_type": "markdown",
   "id": "589e7fb5",
   "metadata": {},
   "source": [
    "## Problem setup\n",
    "\n",
    "We first create and visualize a random graph for the Max-Cut problem with <code>networkx</code> package. Feel free to play with the number of nodes, <code>n</code>, and number of edges, <code>m</code>."
   ]
  },
  {
   "cell_type": "code",
   "execution_count": 1,
   "id": "d93dec37",
   "metadata": {},
   "outputs": [],
   "source": [
    "import time\n",
    "\n",
    "import networkx as nx\n",
    "from braket.aws import AwsQuantumJob, AwsSession\n",
    "from braket.jobs.image_uris import Framework, retrieve_image"
   ]
  },
  {
   "cell_type": "code",
   "execution_count": 2,
   "id": "0a6e6fa5",
   "metadata": {},
   "outputs": [],
   "source": [
    "# We generate a random graph with num_nodes nodes and num_edges edges to run Max Cut on.\n",
    "# num_nodes is the number of qubits, so each circuit will have runtime exponential in num_nodes\n",
    "num_nodes = 6\n",
    "num_edges = 8\n",
    "seed = 1967\n",
    "\n",
    "graph = nx.gnm_random_graph(num_nodes, num_edges, seed=seed)\n",
    "\n",
    "# Draw the graph\n",
    "positions = nx.spring_layout(graph, seed=seed)\n",
    "nx.draw(graph, with_labels=True, pos=positions, node_size=600)"
   ]
  },
  {
   "cell_type": "markdown",
   "id": "a22886b8",
   "metadata": {},
   "source": [
    "## Prepare input data\n",
    "We also need to prepare the input data for training. The input data can be specified by either a path to a local file, or an Amazon S3 path that points to the data. In this notebook, the input data is the random graph we created. We simply create a file in the local directory encoding the input graph."
   ]
  },
  {
   "cell_type": "code",
   "execution_count": 3,
   "id": "57bdb6bb",
   "metadata": {},
   "outputs": [],
   "source": [
    "input_file_path = \"input-data.adjlist\"\n",
    "nx.write_adjlist(graph, input_file_path)"
   ]
  },
  {
   "cell_type": "markdown",
   "id": "e7b63515",
   "metadata": {},
   "source": [
    "## Specify hyperparameters and configurations\n",
    "\n",
    "The hyperparameters can be forwarded to the algorithm script through the keyword argument <code>hyperparameters</code>. It usually includes, but not limited to, the variables that are required to define a training procedure, such as the number of iterations, or to set up an optimizer, such as the learning rate. Here, we pack these hyperparameters into a dictionary which will later become the input of the algorithm script. <code>device</code> has a dedicated input channel, so we do not include it in the hyperparameters."
   ]
  },
  {
   "cell_type": "code",
   "execution_count": 4,
   "id": "2aa3e583",
   "metadata": {},
   "outputs": [],
   "source": [
    "# Pick 'autograd', 'tf', or 'torch'. Autograd is base PennyLane\n",
    "interface = \"autograd\"\n",
    "# Specify device that the job will primarily be targeting\n",
    "device = \"arn:aws:braket:::device/quantum-simulator/amazon/sv1\"\n",
    "\n",
    "hyperparameters = {\n",
    "    # Number of tasks per iteration = 2 * (num_nodes + num_edges) * p + 1\n",
    "    \"p\": \"2\",\n",
    "    \"seed\": str(seed),\n",
    "    # Maximum number of simultaneous tasks allowed\n",
    "    \"max_parallel\": \"10\",\n",
    "    # Number of total optimization iterations, including those from previous checkpoint (if any)\n",
    "    \"num_iterations\": \"5\",\n",
    "    # Step size / learning rate for gradient descent\n",
    "    \"stepsize\": \"0.1\",\n",
    "    # Shots for each circuit execution\n",
    "    \"shots\": \"1000\",\n",
    "    \"interface\": interface,\n",
    "}"
   ]
  },
  {
   "cell_type": "markdown",
   "id": "73d5f7ae",
   "metadata": {},
   "source": [
    "Braket Jobs has three pre-built containers. The base container does not include PennyLane, so we need to use one of the two Pennylane containers: TensorFlow or PyTorch."
   ]
  },
  {
   "cell_type": "code",
   "execution_count": 5,
   "id": "0146f264",
   "metadata": {},
   "outputs": [],
   "source": [
    "from braket.aws import AwsSession\n",
    "\n",
    "region = AwsSession().region\n",
    "\n",
    "# Base container does not have PennyLane, so we have to use the TF or PyTorch container\n",
    "# Choose the container based on which one we need.\n",
    "if interface == \"autograd\" or interface == \"tf\":\n",
    "    image_uri = retrieve_image(Framework.PL_TENSORFLOW, region)\n",
    "elif interface == \"torch\":\n",
    "    image_uri = retrieve_image(Framework.PL_PYTORCH, region)"
   ]
  },
  {
   "cell_type": "markdown",
   "id": "849e4e7d",
   "metadata": {},
   "source": [
    "## Algorithm script\n",
    "\n",
    "The complete algorithm script for solving the Max-Cut problem with QAOA is [here](qaoa_source/qaoa_algorithm_script.py)."
   ]
  },
  {
   "cell_type": "markdown",
   "id": "b8f4f2de",
   "metadata": {},
   "source": [
    "## Submitting a Braket Job\n",
    "\n",
    "We have now finished preparing the input data, algorithm script, hyperparameters and other configurations. It's time to submit our Braket Job!\n",
    "\n",
    "We specify the following arguments to create a Braket Job: \n",
    "\n",
    "- <code>device</code>: The arn of the Braket simulator or QPU we want to use. It will be stored as an environment variable for the algorithm script.\n",
    "- <code>source_module</code>: The path to a file or a python module that contains your algorithm script. It will be uploaded to the container for Braket Job execution.\n",
    "- <code>job_name</code>: A unique string to identify the job. It appears in the Braket Job console and in the job arn.\n",
    "- <code>image_uri</code>: The path to a Docker container image.\n",
    "- <code>entry point</code>: The path relative to the source_module. It points to the piece of code to be executed when the Braket Job starts.\n",
    "- <code>copy_checkpoints_from_job</code>: A string that specifies the job arn whose checkpoint you want to use in the current job. If `None` (default value), no checkpoints will be copied to the current job.\n",
    "- <code>hyperparameters</code>: The Python dictionary containing the hyperparameter names and values (as strings).\n",
    "- <code>input_data</code>: A dictionary that maps channel names to either a file location in the local environment or a path to S3. We can also specify only a file location, in which case the channel name is treated as \"input\".\n",
    "- <code>wait_until_complete</code>: If true, the function call will wait until the Braket Job is completed, and will additionally print logs to the local console. Otherwise, it will run asynchronously."
   ]
  },
  {
   "cell_type": "code",
   "execution_count": 6,
   "id": "dce18224",
   "metadata": {},
   "outputs": [],
   "source": [
    "job = AwsQuantumJob.create(\n",
    "    device=device,\n",
    "    source_module=\"qaoa\",\n",
    "    # Any unique name works. Note 50-character limit in job name\n",
    "    # (comment out to use default naming)\n",
    "    job_name=\"qaoa-job-\" + interface + \"-\" + str(int(time.time())),\n",
    "    image_uri=image_uri,\n",
    "    # Relative to the source_module\n",
    "    entry_point=\"qaoa.qaoa_algorithm_script\",\n",
    "    copy_checkpoints_from_job=None,\n",
    "    # general parameters\n",
    "    hyperparameters=hyperparameters,\n",
    "    input_data={\"input-graph\": input_file_path},\n",
    "    # Comment out the following line if you want to run the job\n",
    "    # silently and asynchronously\n",
    "    wait_until_complete=False,\n",
    ")"
   ]
  },
  {
   "cell_type": "markdown",
   "id": "c813a407",
   "metadata": {},
   "source": [
    "## View results"
   ]
  },
  {
   "cell_type": "markdown",
   "id": "dc5d2e2b",
   "metadata": {},
   "source": [
    "After the job is completed, we can view the result and the metric we defined in the algorithm script."
   ]
  },
  {
   "cell_type": "code",
   "execution_count": 7,
   "id": "1ac74546",
   "metadata": {},
   "outputs": [
    {
     "name": "stdout",
     "output_type": "stream",
     "text": [
      "{'params': [[-0.15974880423625926, -0.40056879319477956], [-0.04865138802088265, -0.07761989905871663]], 'cost': -3.419}\n",
      "CPU times: user 313 ms, sys: 30.2 ms, total: 344 ms\n",
      "Wall time: 7min 59s\n"
     ]
    }
   ],
   "source": [
    "%%time\n",
    "# This cell should take 7-8  minutes\n",
    "print(job.result())"
   ]
  },
  {
   "cell_type": "code",
   "execution_count": 8,
   "id": "10a0b6e3",
   "metadata": {},
   "outputs": [
    {
     "name": "stdout",
     "output_type": "stream",
     "text": [
      "{'timestamp': [1636387857.585226, 1636387854.740627, 1636387832.2786741, 1636387808.3309073, 1636387759.4020295], 'Cost': [-3.419, -4.119, -4.583, -4.04, -3.98], 'iteration_number': [5.0, 4.0, 3.0, 2.0, 0.0]}\n"
     ]
    }
   ],
   "source": [
    "# May need to wait a bit before metrics show up\n",
    "# If metrics aren't there, run a bit later\n",
    "print(job.metrics())"
   ]
  },
  {
   "cell_type": "code",
   "execution_count": 9,
   "id": "77852e98",
   "metadata": {},
   "outputs": [],
   "source": [
    "# A demonstration of plotting the metrics\n",
    "import matplotlib.pyplot as plt\n",
    "import pandas as pd\n",
    "from matplotlib.ticker import MaxNLocator\n",
    "\n",
    "df = pd.DataFrame(job.metrics())\n",
    "\n",
    "ax = plt.figure().gca()\n",
    "ax.xaxis.set_major_locator(MaxNLocator(integer=True))\n",
    "figure = df.plot(x=\"iteration_number\", y=\"Cost\", ax=ax)"
   ]
  },
  {
   "cell_type": "markdown",
   "id": "5980a222",
   "metadata": {},
   "source": [
    "## Checkpoints"
   ]
  },
  {
   "cell_type": "markdown",
   "id": "70ac2869",
   "metadata": {},
   "source": [
    "What if a job terminated early for an unforeseen reason, and we would like to continue training? In this case, we can create a new job, and load its training progress from a *checkpoint*. During training, the algorithm script contains this code:"
   ]
  },
  {
   "cell_type": "code",
   "execution_count": 10,
   "id": "84ff34d6",
   "metadata": {},
   "outputs": [
    {
     "name": "stdout",
     "output_type": "stream",
     "text": [
      "Code in the algorithm script for saving a checkpoint\n"
     ]
    }
   ],
   "source": [
    "%%script echo \"Code in the algorithm script for saving a checkpoint\"\n",
    "\n",
    "for iteration in range(start_iteration, num_iterations):\n",
    "    # Training code omitted ...\n",
    "    # ...\n",
    "    save_job_checkpoint(\n",
    "        checkpoint_data={\n",
    "            \"iteration\": iteration + 1,\n",
    "            \"params\": np_params.tolist(),\n",
    "            \"cost_before\": cost_before,\n",
    "        },\n",
    "        checkpoint_file_suffix=\"checkpoint-1\",\n",
    "    )"
   ]
  },
  {
   "cell_type": "markdown",
   "id": "beba0065",
   "metadata": {},
   "source": [
    "This code creates and overwrites a checkpoint file `<jobname>-checkpoint-1.json` in your Job artifacts under a subfolder checkpoints. To load the checkpoint, at the start of training the algorithm script contains this code:"
   ]
  },
  {
   "cell_type": "code",
   "execution_count": 11,
   "id": "e68c91ba",
   "metadata": {},
   "outputs": [
    {
     "name": "stdout",
     "output_type": "stream",
     "text": [
      "Code in the algorithm script for loading a checkpoint\n"
     ]
    }
   ],
   "source": [
    "%%script echo \"Code in the algorithm script for loading a checkpoint\"\n",
    "\n",
    "if \"copy_checkpoints_from_job\" in hyperparams:\n",
    "    copy_checkpoints_from_job = hyperparams[\"copy_checkpoints_from_job\"].split(\"/\", 2)[-1]\n",
    "\n",
    "if copy_checkpoints_from_job:\n",
    "    checkpoint_1 = load_job_checkpoint(\n",
    "        copy_checkpoints_from_job,\n",
    "        checkpoint_file_suffix=\"checkpoint-1\",\n",
    "    )\n",
    "    start_iteration = checkpoint_1[\"iteration\"]\n",
    "    params = interface.initialize_params(np.array(checkpoint_1[\"params\"]))\n",
    "    print(\"Checkpoint loaded\")"
   ]
  },
  {
   "cell_type": "markdown",
   "id": "08a0deae",
   "metadata": {},
   "source": [
    "This starts off the algorithm from the iteration and the parameters specified in the checkpoint file."
   ]
  },
  {
   "cell_type": "markdown",
   "id": "272e3367",
   "metadata": {},
   "source": [
    "Let us see loading a checkpoint in action. We create a new job using the checkpoint from our existing job, this time training for another 2 iterations:"
   ]
  },
  {
   "cell_type": "code",
   "execution_count": 12,
   "id": "099f3f58",
   "metadata": {},
   "outputs": [],
   "source": [
    "new_hyperparameters = dict(hyperparameters)\n",
    "# Increase number of iterations by 2\n",
    "new_hyperparameters[\"num_iterations\"] = str(int(hyperparameters[\"num_iterations\"]) + 2)\n",
    "# Also add previous job arn in new hyperparameters\n",
    "new_hyperparameters[\"copy_checkpoints_from_job\"] = job.arn\n",
    "\n",
    "start_time = time.time()\n",
    "\n",
    "continued_job = AwsQuantumJob.create(\n",
    "    device=device,\n",
    "    source_module=\"qaoa\",\n",
    "    job_name=\"qaoa-job-continued-\" + interface + \"-\" + str(int(time.time())),\n",
    "    image_uri=image_uri,\n",
    "    entry_point=\"qaoa.qaoa_algorithm_script\",\n",
    "    # We specify the previous job arn to copy checkpoints from\n",
    "    copy_checkpoints_from_job=job.arn,\n",
    "    hyperparameters=new_hyperparameters,\n",
    "    input_data={\"input-graph\": input_file_path},\n",
    "    wait_until_complete=False,\n",
    ")\n",
    "\n",
    "end_time = time.time()"
   ]
  },
  {
   "cell_type": "code",
   "execution_count": 23,
   "id": "0e6bbeca",
   "metadata": {},
   "outputs": [
    {
     "name": "stdout",
     "output_type": "stream",
     "text": [
      "CPU times: user 2 µs, sys: 0 ns, total: 2 µs\n",
      "Wall time: 5.72 µs\n"
     ]
    },
    {
     "data": {
      "text/plain": [
       "{'params': [[0.13385119576374072, -0.38951879319477956],\n",
       "  [0.20164861197911743, 0.10238010094128336]],\n",
       " 'cost': -4.042}"
      ]
     },
     "execution_count": 23,
     "metadata": {},
     "output_type": "execute_result"
    }
   ],
   "source": [
    "%time \n",
    "# This cell should take 6-7 min\n",
    "continued_job.result()"
   ]
  },
  {
   "cell_type": "code",
   "execution_count": 24,
   "id": "c198d600",
   "metadata": {},
   "outputs": [
    {
     "data": {
      "image/png": "[encoded data removed]",
      "text/plain": [
       "<Figure size 432x288 with 1 Axes>"
      ]
     },
     "metadata": {
      "needs_background": "light"
     },
     "output_type": "display_data"
    }
   ],
   "source": [
    "df = pd.DataFrame(continued_job.metrics())\n",
    "\n",
    "ax = plt.figure().gca()\n",
    "ax.xaxis.set_major_locator(MaxNLocator(integer=True))\n",
    "figure = df.plot(x=\"iteration_number\", y=\"Cost\", ax=ax)"
   ]
  },
  {
   "cell_type": "markdown",
   "id": "c88b5184",
   "metadata": {},
   "source": [
    "## Summary\n",
    "\n",
    "In this tutorial, we set up a Max-Cut problem with a random graph using Pennylane. We saved the graph to a local file and provided it as input data to our Braket Job, along with the pre-built Pennylane container image. Variables that are required for the training process and the optimizer are passed as hyperparameters. The result is retrieved after the QAOA algorithm is completed. Lastly, we demonstrated how to use checkpoints to save and load training progress of a job."
   ]
  }
 ],
 "metadata": {
  "kernelspec": {
   "display_name": "Python 3 (ipykernel)",
   "language": "python",
   "name": "python3"
  },
  "language_info": {
   "codemirror_mode": {
    "name": "ipython",
    "version": 3
   },
   "file_extension": ".py",
   "mimetype": "text/x-python",
   "name": "python",
   "nbconvert_exporter": "python",
   "pygments_lexer": "ipython3",
   "version": "3.9.7"
  }
 },
 "nbformat": 4,
 "nbformat_minor": 5
}
