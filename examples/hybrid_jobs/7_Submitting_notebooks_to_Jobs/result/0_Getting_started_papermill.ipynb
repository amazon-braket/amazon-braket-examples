{
 "cells": [
  {
   "cell_type": "markdown",
   "id": "bfcf4d45",
   "metadata": {
    "papermill": {
     "duration": 0.003511,
     "end_time": "2022-11-29T15:00:19.494877",
     "exception": false,
     "start_time": "2022-11-29T15:00:19.491366",
     "status": "completed"
    },
    "tags": []
   },
   "source": [
    "# Example notebook \n",
    "\n",
    "This notebook is a copy from `examples/getting_started/0_Getting_started/0_Getting_started.ipynb` with a small modifications for use with [Papermill](https://github.com/nteract/papermill).\n",
    "\n",
    "\n",
    "## Papermill parameters\n",
    "\n",
    "Papermill is a tool for parameterizing, executing, and analyzing Jupyter Notebooks. \n",
    "To parameterize a notebook, we need tag a cell that contains all the parameters. \n",
    "We can only tag one cell, and for simplicity we place it at the top of the notebook. \n",
    "Full instructions are available here https://papermill.readthedocs.io/en/latest/usage-parameterize.html#designate-parameters-for-a-cell. \n",
    "\n",
    "Below, we tag the parameter `shots=1000`. \n",
    "We can then run the notebook as usual cell-by-cell to see the results. \n",
    "\n",
    "We additionally add two Braket specific parameters called device_arn and results_dir. \n",
    "These will be overriden when we run a Braket Job. \n",
    "\n",
    "**In the following cell, we add a tag called `parameters` for Papermill to recognize.**"
   ]
  },
  {
   "cell_type": "code",
   "execution_count": 1,
   "id": "218935a2",
   "metadata": {
    "execution": {
     "iopub.execute_input": "2022-11-29T15:00:19.502302Z",
     "iopub.status.busy": "2022-11-29T15:00:19.501686Z",
     "iopub.status.idle": "2022-11-29T15:00:19.510443Z",
     "shell.execute_reply": "2022-11-29T15:00:19.509674Z"
    },
    "papermill": {
     "duration": 0.0147,
     "end_time": "2022-11-29T15:00:19.512368",
     "exception": false,
     "start_time": "2022-11-29T15:00:19.497668",
     "status": "completed"
    },
    "tags": [
     "parameters"
    ]
   },
   "outputs": [],
   "source": [
    "# Papermill parameters\n",
    "shots = 1000\n",
    "\n",
    "# Braket specific parameters\n",
    "device_arn = \"arn:aws:braket:::device/quantum-simulator/amazon/sv1\"\n",
    "results_dir = \".\""
   ]
  },
  {
   "cell_type": "code",
   "execution_count": 2,
   "id": "9d20949d",
   "metadata": {
    "execution": {
     "iopub.execute_input": "2022-11-29T15:00:19.518449Z",
     "iopub.status.busy": "2022-11-29T15:00:19.517978Z",
     "iopub.status.idle": "2022-11-29T15:00:19.522206Z",
     "shell.execute_reply": "2022-11-29T15:00:19.521513Z"
    },
    "papermill": {
     "duration": 0.009327,
     "end_time": "2022-11-29T15:00:19.524072",
     "exception": false,
     "start_time": "2022-11-29T15:00:19.514745",
     "status": "completed"
    },
    "tags": [
     "injected-parameters"
    ]
   },
   "outputs": [],
   "source": [
    "# Parameters\n",
    "shots = 1000\n",
    "device_arn = \"arn:aws:braket:::device/quantum-simulator/amazon/dm1\"\n",
    "results_dir = \"/opt/braket/model\""
   ]
  },
  {
   "cell_type": "markdown",
   "id": "0494d711",
   "metadata": {
    "papermill": {
     "duration": 0.002395,
     "end_time": "2022-11-29T15:00:19.528989",
     "exception": false,
     "start_time": "2022-11-29T15:00:19.526594",
     "status": "completed"
    },
    "tags": []
   },
   "source": [
    "# Getting started with Amazon Braket\n",
    "\n",
    "In this hello-world tutorial we prepare a maximally entangled Bell state between two qubits. We then run our circuit on a local simulator and obtain the results."
   ]
  },
  {
   "cell_type": "code",
   "execution_count": 3,
   "id": "f8e15891",
   "metadata": {
    "execution": {
     "iopub.execute_input": "2022-11-29T15:00:19.535158Z",
     "iopub.status.busy": "2022-11-29T15:00:19.534721Z",
     "iopub.status.idle": "2022-11-29T15:00:22.851381Z",
     "shell.execute_reply": "2022-11-29T15:00:22.850453Z"
    },
    "papermill": {
     "duration": 3.322324,
     "end_time": "2022-11-29T15:00:22.853714",
     "exception": false,
     "start_time": "2022-11-29T15:00:19.531390",
     "status": "completed"
    },
    "tags": []
   },
   "outputs": [],
   "source": [
    "# general imports\n",
    "import matplotlib.pyplot as plt\n",
    "\n",
    "%matplotlib inline\n",
    "\n",
    "from braket.aws import AwsDevice\n",
    "\n",
    "# AWS imports: Import Braket SDK modules\n",
    "from braket.circuits import Circuit\n",
    "from braket.devices import LocalSimulator"
   ]
  },
  {
   "cell_type": "markdown",
   "id": "87865883",
   "metadata": {
    "papermill": {
     "duration": 0.004893,
     "end_time": "2022-11-29T15:00:22.863633",
     "exception": false,
     "start_time": "2022-11-29T15:00:22.858740",
     "status": "completed"
    },
    "tags": []
   },
   "source": [
    "## Build a circuit\n",
    "\n",
    "Let's build a Bell state with two qubits. By calling `Circuit()` we create an empty circuit, and we can just add gates to the circuit. "
   ]
  },
  {
   "cell_type": "code",
   "execution_count": 4,
   "id": "5f709e5f",
   "metadata": {
    "execution": {
     "iopub.execute_input": "2022-11-29T15:00:22.871324Z",
     "iopub.status.busy": "2022-11-29T15:00:22.870901Z",
     "iopub.status.idle": "2022-11-29T15:00:22.875798Z",
     "shell.execute_reply": "2022-11-29T15:00:22.874932Z"
    },
    "papermill": {
     "duration": 0.011001,
     "end_time": "2022-11-29T15:00:22.878032",
     "exception": false,
     "start_time": "2022-11-29T15:00:22.867031",
     "status": "completed"
    },
    "tags": []
   },
   "outputs": [],
   "source": [
    "# build a Bell state with two qubits. Here 'cnot(control=0, target=1)' can be simplified as 'cnot(0,1)'\n",
    "bell = Circuit().h(0).cnot(control=0, target=1)"
   ]
  },
  {
   "cell_type": "markdown",
   "id": "e37a4841",
   "metadata": {
    "papermill": {
     "duration": 0.002509,
     "end_time": "2022-11-29T15:00:22.883041",
     "exception": false,
     "start_time": "2022-11-29T15:00:22.880532",
     "status": "completed"
    },
    "tags": []
   },
   "source": [
    "## Submit the circuit to the local simulator and obtain the results\n",
    "\n",
    "Here we submit our circuit to the local simulator and obtain the results."
   ]
  },
  {
   "cell_type": "code",
   "execution_count": 5,
   "id": "0d541beb",
   "metadata": {
    "execution": {
     "iopub.execute_input": "2022-11-29T15:00:22.889335Z",
     "iopub.status.busy": "2022-11-29T15:00:22.889010Z",
     "iopub.status.idle": "2022-11-29T15:00:27.626076Z",
     "shell.execute_reply": "2022-11-29T15:00:27.625233Z"
    },
    "papermill": {
     "duration": 4.742351,
     "end_time": "2022-11-29T15:00:27.627867",
     "exception": false,
     "start_time": "2022-11-29T15:00:22.885516",
     "status": "completed"
    },
    "tags": []
   },
   "outputs": [
    {
     "name": "stdout",
     "output_type": "stream",
     "text": [
      "{'00': 518, '11': 482}\n"
     ]
    }
   ],
   "source": [
    "# set up device\n",
    "if \"local\" in device_arn:\n",
    "    device = LocalSimulator()\n",
    "else:\n",
    "    device = AwsDevice(device_arn)\n",
    "\n",
    "# run circuit\n",
    "result = device.run(bell, shots=shots).result()\n",
    "# get measurement shots\n",
    "counts = result.measurement_counts\n",
    "counts = {k: counts[k] for k in sorted(counts)}  # sort results\n",
    "print(counts)"
   ]
  },
  {
   "cell_type": "markdown",
   "id": "3876ba12",
   "metadata": {
    "papermill": {
     "duration": 0.002722,
     "end_time": "2022-11-29T15:00:27.633727",
     "exception": false,
     "start_time": "2022-11-29T15:00:27.631005",
     "status": "completed"
    },
    "tags": []
   },
   "source": [
    "**The following cell saves the results to a file**\n",
    "\n",
    "The use of `results_dir` is that any results are saved to the correct directory when called from a Braket Job. Below, we save the measurement counts to a .pkl file. "
   ]
  },
  {
   "cell_type": "code",
   "execution_count": 6,
   "id": "f128c852",
   "metadata": {
    "execution": {
     "iopub.execute_input": "2022-11-29T15:00:27.640610Z",
     "iopub.status.busy": "2022-11-29T15:00:27.640073Z",
     "iopub.status.idle": "2022-11-29T15:00:27.644841Z",
     "shell.execute_reply": "2022-11-29T15:00:27.644011Z"
    },
    "papermill": {
     "duration": 0.010321,
     "end_time": "2022-11-29T15:00:27.646613",
     "exception": false,
     "start_time": "2022-11-29T15:00:27.636292",
     "status": "completed"
    },
    "tags": []
   },
   "outputs": [],
   "source": [
    "import pickle\n",
    "\n",
    "# save meaurement counts to a file\n",
    "with open(f\"{results_dir}/results.pkl\", \"wb\") as f:\n",
    "    pickle.dump(counts, f)\n",
    "\n",
    "\n",
    "# re-load the results with\n",
    "# with open(f\"{results_dir}/results.pkl\", 'rb') as f:\n",
    "# counts = pickle.load(f)"
   ]
  },
  {
   "cell_type": "markdown",
   "id": "b108e00d",
   "metadata": {
    "papermill": {
     "duration": 0.002591,
     "end_time": "2022-11-29T15:00:27.651902",
     "exception": false,
     "start_time": "2022-11-29T15:00:27.649311",
     "status": "completed"
    },
    "tags": []
   },
   "source": [
    "**The following cell saves the figure to a file**"
   ]
  },
  {
   "cell_type": "code",
   "execution_count": 7,
   "id": "3f64e685",
   "metadata": {
    "execution": {
     "iopub.execute_input": "2022-11-29T15:00:27.658729Z",
     "iopub.status.busy": "2022-11-29T15:00:27.658259Z",
     "iopub.status.idle": "2022-11-29T15:00:27.850952Z",
     "shell.execute_reply": "2022-11-29T15:00:27.849982Z"
    },
    "papermill": {
     "duration": 0.199051,
     "end_time": "2022-11-29T15:00:27.853665",
     "exception": false,
     "start_time": "2022-11-29T15:00:27.654614",
     "status": "completed"
    },
    "tags": []
   },
   "outputs": [
    {
     "data": {
      "image/png": "[encoded data removed]",
      "text/plain": [
       "<Figure size 640x480 with 1 Axes>"
      ]
     },
     "metadata": {},
     "output_type": "display_data"
    }
   ],
   "source": [
    "# plot using Counter\n",
    "plt.bar(counts.keys(), counts.values())\n",
    "plt.xlabel(\"bitstrings\")\n",
    "plt.ylabel(\"counts\")\n",
    "\n",
    "plt.savefig(f\"{results_dir}/histogram.png\")"
   ]
  },
  {
   "cell_type": "code",
   "execution_count": null,
   "id": "ebf98175",
   "metadata": {
    "papermill": {
     "duration": 0.003147,
     "end_time": "2022-11-29T15:00:27.860939",
     "exception": false,
     "start_time": "2022-11-29T15:00:27.857792",
     "status": "completed"
    },
    "tags": []
   },
   "outputs": [],
   "source": []
  }
 ],
 "metadata": {
  "kernelspec": {
   "display_name": "Python 3.9.5 64-bit ('braket')",
   "language": "python",
   "name": "python3"
  },
  "language_info": {
   "codemirror_mode": {
    "name": "ipython",
    "version": 3
   },
   "file_extension": ".py",
   "mimetype": "text/x-python",
   "name": "python",
   "nbconvert_exporter": "python",
   "pygments_lexer": "ipython3",
   "version": "3.7.10"
  },
  "papermill": {
   "default_parameters": {},
   "duration": 10.384712,
   "end_time": "2022-11-29T15:00:28.382224",
   "environment_variables": {},
   "exception": null,
   "input_path": "/opt/braket/input/data/input/0_Getting_started_papermill.ipynb",
   "output_path": "/opt/braket/model/0_Getting_started_papermill.ipynb",
   "parameters": {
    "device_arn": "arn:aws:braket:::device/quantum-simulator/amazon/dm1",
    "results_dir": "/opt/braket/model",
    "shots": 1000
   },
   "start_time": "2022-11-29T15:00:17.997512",
   "version": "2.4.0"
  },
  "vscode": {
   "interpreter": {
    "hash": "5904cb9a2089448a2e1aeb5d493d227c9de33e591d7c07e4016fb81e71061a5d"
   }
  }
 },
 "nbformat": 4,
 "nbformat_minor": 5
}
