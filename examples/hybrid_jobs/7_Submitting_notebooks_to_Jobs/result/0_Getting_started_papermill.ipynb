{
 "cells": [
  {
   "cell_type": "markdown",
   "id": "43591d78",
   "metadata": {
    "papermill": {
     "duration": 0.003346,
     "end_time": "2022-11-28T21:41:51.395253",
     "exception": false,
     "start_time": "2022-11-28T21:41:51.391907",
     "status": "completed"
    },
    "tags": []
   },
   "source": [
    "# Example notebook \n",
    "\n",
    "This notebook is a copy from `examples/getting_started/0_Getting_started/0_Getting_started.ipynb` with a small modifications for use with [Papermill](https://github.com/nteract/papermill).\n",
    "\n",
    "\n",
    "## Papermill parameters\n",
    "\n",
    "Papermill is a tool for parameterizing, executing, and analyzing Jupyter Notebooks. \n",
    "To parameterize a notebook, we need tag a cell that contains all the parameters. \n",
    "We can only tag one cell, and for simplicity we place it at the top of the notebook. \n",
    "Full instructions are available here https://papermill.readthedocs.io/en/latest/usage-parameterize.html#designate-parameters-for-a-cell. \n",
    "\n",
    "Below, we tag the parameter `shots=1000`. \n",
    "We can then run the notebook as usual cell-by-cell to see the results. \n",
    "\n",
    "We additionally add two Braket specific parameters called device_arn and results_dir. \n",
    "These will be overriden when we run a Braket Job. \n",
    "\n",
    "**In the following cell, we add a tag called `parameters` for Papermill to recognize.**"
   ]
  },
  {
   "cell_type": "code",
   "execution_count": 1,
   "id": "4174a0ff",
   "metadata": {
    "execution": {
     "iopub.execute_input": "2022-11-28T21:41:51.401902Z",
     "iopub.status.busy": "2022-11-28T21:41:51.401481Z",
     "iopub.status.idle": "2022-11-28T21:41:51.410115Z",
     "shell.execute_reply": "2022-11-28T21:41:51.409295Z"
    },
    "papermill": {
     "duration": 0.014225,
     "end_time": "2022-11-28T21:41:51.412052",
     "exception": false,
     "start_time": "2022-11-28T21:41:51.397827",
     "status": "completed"
    },
    "tags": [
     "parameters"
    ]
   },
   "outputs": [],
   "source": [
    "# Papermill parameters\n",
    "shots = 1000\n",
    "\n",
    "# Braket specific parameters\n",
    "device_arn = \"arn:aws:braket:::device/quantum-simulator/amazon/sv1\"\n",
    "results_dir = \".\""
   ]
  },
  {
   "cell_type": "code",
   "execution_count": 2,
   "id": "5a9ce61b",
   "metadata": {
    "execution": {
     "iopub.execute_input": "2022-11-28T21:41:51.417703Z",
     "iopub.status.busy": "2022-11-28T21:41:51.417474Z",
     "iopub.status.idle": "2022-11-28T21:41:51.421240Z",
     "shell.execute_reply": "2022-11-28T21:41:51.420313Z"
    },
    "papermill": {
     "duration": 0.00886,
     "end_time": "2022-11-28T21:41:51.423100",
     "exception": false,
     "start_time": "2022-11-28T21:41:51.414240",
     "status": "completed"
    },
    "tags": [
     "injected-parameters"
    ]
   },
   "outputs": [],
   "source": [
    "# Parameters\n",
    "shots = 1000\n",
    "device_arn = \"arn:aws:braket:::device/quantum-simulator/amazon/dm1\"\n",
    "results_dir = \"/opt/braket/model\""
   ]
  },
  {
   "cell_type": "markdown",
   "id": "496c581e",
   "metadata": {
    "papermill": {
     "duration": 0.002157,
     "end_time": "2022-11-28T21:41:51.427739",
     "exception": false,
     "start_time": "2022-11-28T21:41:51.425582",
     "status": "completed"
    },
    "tags": []
   },
   "source": [
    "# Getting started with Amazon Braket\n",
    "\n",
    "In this hello-world tutorial we prepare a maximally entangled Bell state between two qubits. We then run our circuit on a local simulator and obtain the results."
   ]
  },
  {
   "cell_type": "code",
   "execution_count": 3,
   "id": "7f23d54d",
   "metadata": {
    "execution": {
     "iopub.execute_input": "2022-11-28T21:41:51.433470Z",
     "iopub.status.busy": "2022-11-28T21:41:51.433247Z",
     "iopub.status.idle": "2022-11-28T21:41:54.391262Z",
     "shell.execute_reply": "2022-11-28T21:41:54.390400Z"
    },
    "papermill": {
     "duration": 2.963574,
     "end_time": "2022-11-28T21:41:54.393489",
     "exception": false,
     "start_time": "2022-11-28T21:41:51.429915",
     "status": "completed"
    },
    "tags": []
   },
   "outputs": [],
   "source": [
    "# general imports\n",
    "import matplotlib.pyplot as plt\n",
    "\n",
    "%matplotlib inline\n",
    "\n",
    "from braket.aws import AwsDevice\n",
    "\n",
    "# AWS imports: Import Braket SDK modules\n",
    "from braket.circuits import Circuit\n",
    "from braket.devices import LocalSimulator"
   ]
  },
  {
   "cell_type": "markdown",
   "id": "78987423",
   "metadata": {
    "papermill": {
     "duration": 0.002596,
     "end_time": "2022-11-28T21:41:54.398844",
     "exception": false,
     "start_time": "2022-11-28T21:41:54.396248",
     "status": "completed"
    },
    "tags": []
   },
   "source": [
    "## Build a circuit\n",
    "\n",
    "Let's build a Bell state with two qubits. By calling `Circuit()` we create an empty circuit, and we can just add gates to the circuit. "
   ]
  },
  {
   "cell_type": "code",
   "execution_count": 4,
   "id": "b3dee75d",
   "metadata": {
    "execution": {
     "iopub.execute_input": "2022-11-28T21:41:54.422862Z",
     "iopub.status.busy": "2022-11-28T21:41:54.422339Z",
     "iopub.status.idle": "2022-11-28T21:41:54.428723Z",
     "shell.execute_reply": "2022-11-28T21:41:54.427777Z"
    },
    "papermill": {
     "duration": 0.029553,
     "end_time": "2022-11-28T21:41:54.430721",
     "exception": false,
     "start_time": "2022-11-28T21:41:54.401168",
     "status": "completed"
    },
    "tags": []
   },
   "outputs": [],
   "source": [
    "# build a Bell state with two qubits. Here 'cnot(control=0, target=1)' can be simplified as 'cnot(0,1)'\n",
    "bell = Circuit().h(0).cnot(control=0, target=1)"
   ]
  },
  {
   "cell_type": "markdown",
   "id": "4f7fcb52",
   "metadata": {
    "papermill": {
     "duration": 0.002449,
     "end_time": "2022-11-28T21:41:54.435526",
     "exception": false,
     "start_time": "2022-11-28T21:41:54.433077",
     "status": "completed"
    },
    "tags": []
   },
   "source": [
    "## Submit the circuit to the local simulator and obtain the results\n",
    "\n",
    "Here we submit our circuit to the local simulator and obtain the results."
   ]
  },
  {
   "cell_type": "code",
   "execution_count": 5,
   "id": "58f12b0f",
   "metadata": {
    "execution": {
     "iopub.execute_input": "2022-11-28T21:41:54.442677Z",
     "iopub.status.busy": "2022-11-28T21:41:54.442360Z",
     "iopub.status.idle": "2022-11-28T21:41:54.542437Z",
     "shell.execute_reply": "2022-11-28T21:41:54.541597Z"
    },
    "papermill": {
     "duration": 0.105383,
     "end_time": "2022-11-28T21:41:54.544395",
     "exception": false,
     "start_time": "2022-11-28T21:41:54.439012",
     "status": "completed"
    },
    "tags": []
   },
   "outputs": [
    {
     "name": "stdout",
     "output_type": "stream",
     "text": [
      "Counter({'11': 505, '00': 495})\n"
     ]
    }
   ],
   "source": [
    "# set up device\n",
    "# device = AwsDevice(device_arn)\n",
    "device = LocalSimulator()\n",
    "\n",
    "# run circuit\n",
    "result = device.run(bell, shots=shots).result()\n",
    "# get measurement shots\n",
    "counts = result.measurement_counts\n",
    "# print counts\n",
    "print(counts)"
   ]
  },
  {
   "cell_type": "markdown",
   "id": "92911cd9",
   "metadata": {
    "papermill": {
     "duration": 0.003921,
     "end_time": "2022-11-28T21:41:54.551169",
     "exception": false,
     "start_time": "2022-11-28T21:41:54.547248",
     "status": "completed"
    },
    "tags": []
   },
   "source": [
    "**The following cell saves the notebook figures to a file**\n",
    "\n",
    "The use of `results_dir` is that the figures saves to the correct directory when called from a Braket Job."
   ]
  },
  {
   "cell_type": "code",
   "execution_count": 6,
   "id": "a92bb808",
   "metadata": {
    "execution": {
     "iopub.execute_input": "2022-11-28T21:41:54.561282Z",
     "iopub.status.busy": "2022-11-28T21:41:54.560514Z",
     "iopub.status.idle": "2022-11-28T21:41:54.762837Z",
     "shell.execute_reply": "2022-11-28T21:41:54.761901Z"
    },
    "papermill": {
     "duration": 0.210955,
     "end_time": "2022-11-28T21:41:54.764724",
     "exception": false,
     "start_time": "2022-11-28T21:41:54.553769",
     "status": "completed"
    },
    "tags": []
   },
   "outputs": [
    {
     "data": {
      "image/png": "[encoded data removed]",
      "text/plain": [
       "<Figure size 640x480 with 1 Axes>"
      ]
     },
     "metadata": {},
     "output_type": "display_data"
    }
   ],
   "source": [
    "# plot using Counter\n",
    "plt.bar(counts.keys(), counts.values())\n",
    "plt.xlabel(\"bitstrings\")\n",
    "plt.ylabel(\"counts\")\n",
    "\n",
    "plt.savefig(f\"{results_dir}/histogram.png\")"
   ]
  },
  {
   "cell_type": "code",
   "execution_count": null,
   "id": "d818d58c",
   "metadata": {
    "papermill": {
     "duration": 0.002862,
     "end_time": "2022-11-28T21:41:54.770499",
     "exception": false,
     "start_time": "2022-11-28T21:41:54.767637",
     "status": "completed"
    },
    "tags": []
   },
   "outputs": [],
   "source": []
  }
 ],
 "metadata": {
  "kernelspec": {
   "display_name": "Python 3.9.5 64-bit ('braket')",
   "language": "python",
   "name": "python3"
  },
  "language_info": {
   "codemirror_mode": {
    "name": "ipython",
    "version": 3
   },
   "file_extension": ".py",
   "mimetype": "text/x-python",
   "name": "python",
   "nbconvert_exporter": "python",
   "pygments_lexer": "ipython3",
   "version": "3.7.10"
  },
  "papermill": {
   "default_parameters": {},
   "duration": 5.10546,
   "end_time": "2022-11-28T21:41:55.190995",
   "environment_variables": {},
   "exception": null,
   "input_path": "/opt/braket/input/data/input/0_Getting_started_papermill.ipynb",
   "output_path": "/opt/braket/model/0_Getting_started_papermill.ipynb",
   "parameters": {
    "device_arn": "arn:aws:braket:::device/quantum-simulator/amazon/dm1",
    "results_dir": "/opt/braket/model",
    "shots": 1000
   },
   "start_time": "2022-11-28T21:41:50.085535",
   "version": "2.4.0"
  },
  "vscode": {
   "interpreter": {
    "hash": "5904cb9a2089448a2e1aeb5d493d227c9de33e591d7c07e4016fb81e71061a5d"
   }
  }
 },
 "nbformat": 4,
 "nbformat_minor": 5
}
