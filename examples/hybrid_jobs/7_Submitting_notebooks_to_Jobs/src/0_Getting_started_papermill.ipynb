{
 "cells": [
  {
   "attachments": {},
   "cell_type": "markdown",
   "metadata": {},
   "source": [
    "# Example notebook \n",
    "\n",
    "This notebook is a copy from `examples/getting_started/0_Getting_started/0_Getting_started.ipynb` with a small modifications for use with [Papermill](https://github.com/nteract/papermill) and Amazon Braket Hybrid Jobs. \n",
    "\n",
    "## Papermill parameters\n",
    "\n",
    "Papermill is a tool for parameterizing, executing, and analyzing Jupyter Notebooks. \n",
    "To parameterize a notebook, we need tag a cell that contains all the parameters. \n",
    "We can only tag one cell, and for simplicity we place it at the top of the notebook. \n",
    "Full instructions are available here https://papermill.readthedocs.io/en/latest/usage-parameterize.html#designate-parameters-for-a-cell. \n",
    "\n",
    "Below, we tag the parameter `shots=1000`. \n",
    "We can then run the notebook as usual cell-by-cell to see the results. \n",
    "\n",
    "We additionally add two Braket specific parameters called `device_arn` and `results_dir`. \n",
    "These will be overriden when running a Hybrid Job. \n",
    "\n",
    "**In the following cell, we added a tag called `parameters` for Papermill to recognize. If you don't see the tag, follow the instructions above.**"
   ]
  },
  {
   "cell_type": "code",
   "execution_count": 1,
   "metadata": {
    "tags": [
     "parameters"
    ]
   },
   "outputs": [],
   "source": [
    "# Papermill parameters\n",
    "shots = 1000\n",
    "\n",
    "# Braket specific parameters\n",
    "device_arn = \"arn:aws:braket:::device/quantum-simulator/amazon/sv1\"\n",
    "results_dir = \".\""
   ]
  },
  {
   "attachments": {},
   "cell_type": "markdown",
   "metadata": {},
   "source": [
    "# Getting started with Amazon Braket\n",
    "\n",
    "In this tutorial we prepare a maximally entangled Bell state between two qubits. \n",
    "We then run our circuit on a local simulator and obtain the results."
   ]
  },
  {
   "cell_type": "code",
   "execution_count": 2,
   "metadata": {},
   "outputs": [],
   "source": [
    "import time\n",
    "\n",
    "import matplotlib.pyplot as plt\n",
    "\n",
    "%matplotlib inline\n",
    "\n",
    "from braket.aws import AwsDevice\n",
    "from braket.circuits import Circuit\n",
    "from braket.devices import LocalSimulator\n",
    "from braket.jobs.metrics import log_metric\n",
    "from braket.tracking import Tracker  # cost tracker\n",
    "\n",
    "cost_tracker = Tracker().start()"
   ]
  },
  {
   "cell_type": "markdown",
   "metadata": {},
   "source": [
    "## Build a circuit\n",
    "\n",
    "Let's build a Bell state with two qubits. By calling `Circuit()` we create an empty circuit, and we can just add gates to the circuit. "
   ]
  },
  {
   "cell_type": "code",
   "execution_count": 3,
   "metadata": {},
   "outputs": [
    {
     "name": "stdout",
     "output_type": "stream",
     "text": [
      "T  : |0|1|\n",
      "          \n",
      "q0 : -H-C-\n",
      "        | \n",
      "q1 : ---X-\n",
      "\n",
      "T  : |0|1|\n"
     ]
    }
   ],
   "source": [
    "# build a Bell state with two qubits.\n",
    "bell = Circuit().h(0).cnot(control=0, target=1)\n",
    "print(bell)"
   ]
  },
  {
   "attachments": {},
   "cell_type": "markdown",
   "metadata": {},
   "source": [
    "## Submit the circuit to the local simulator and obtain the results\n",
    "\n",
    "Next, we choose either a local simualtor or an Amazon Braket device. "
   ]
  },
  {
   "cell_type": "code",
   "execution_count": 4,
   "metadata": {},
   "outputs": [],
   "source": [
    "# set up device\n",
    "if \"local\" in device_arn:\n",
    "    device = LocalSimulator()\n",
    "else:\n",
    "    device = AwsDevice(device_arn)"
   ]
  },
  {
   "cell_type": "code",
   "execution_count": 5,
   "metadata": {},
   "outputs": [
    {
     "name": "stdout",
     "output_type": "stream",
     "text": [
      "{'00': 516, '11': 484}\n"
     ]
    }
   ],
   "source": [
    "# Run the circuit and get results\n",
    "result = device.run(bell, shots=shots).result()\n",
    "\n",
    "# get measurement shots\n",
    "counts = result.measurement_counts\n",
    "counts = {k: counts[k] for k in sorted(counts)}  # sort results\n",
    "print(counts)"
   ]
  },
  {
   "attachments": {},
   "cell_type": "markdown",
   "metadata": {},
   "source": [
    "Hybrid Jobs enables logging of metrics during the job. \n",
    "In the example below, we track the total cost of running the circuit on simulators or QPUs by using the cost tracker.\n",
    "\n",
    "We also track the number of counts in the \"00\" state. It is best practice to log all metrics per iteration at a common timestamp to avoid duplication."
   ]
  },
  {
   "cell_type": "code",
   "execution_count": 14,
   "metadata": {},
   "outputs": [
    {
     "name": "stdout",
     "output_type": "stream",
     "text": [
      "Metrics - timestamp=1676927292.275817; cost=0.00375;\n",
      "Metrics - timestamp=1676927292.275817; counts_00=516;\n"
     ]
    }
   ],
   "source": [
    "total_cost = float(cost_tracker.simulator_tasks_cost() + cost_tracker.qpu_tasks_cost())\n",
    "\n",
    "timestamp = time.time()\n",
    "\n",
    "log_metric(metric_name=\"cost\", value=total_cost, timestamp=timestamp)\n",
    "\n",
    "log_metric(metric_name=\"counts_00\", value=counts[\"00\"], timestamp=timestamp)"
   ]
  },
  {
   "cell_type": "markdown",
   "metadata": {},
   "source": [
    "**The following cell saves the results to a file**\n",
    "\n",
    "The use of `results_dir` is that any results are saved to the correct directory when called from a Braket Job. Below, we save the measurement counts to a .pkl file. "
   ]
  },
  {
   "cell_type": "code",
   "execution_count": 7,
   "metadata": {},
   "outputs": [],
   "source": [
    "import pickle\n",
    "\n",
    "# save meaurement counts to a file\n",
    "with open(f\"{results_dir}/results.pkl\", \"wb\") as f:\n",
    "    pickle.dump(counts, f)\n",
    "\n",
    "\n",
    "# re-load the results with\n",
    "# with open(f\"{results_dir}/results.pkl\", 'rb') as f:\n",
    "#    counts = pickle.load(f)"
   ]
  },
  {
   "cell_type": "markdown",
   "metadata": {},
   "source": [
    "**The following cell saves the figure to a file**"
   ]
  },
  {
   "cell_type": "code",
   "execution_count": 8,
   "metadata": {},
   "outputs": [
    {
     "data": {
      "image/png": "[encoded data removed]",
      "text/plain": [
       "<Figure size 640x480 with 1 Axes>"
      ]
     },
     "metadata": {},
     "output_type": "display_data"
    }
   ],
   "source": [
    "plt.bar(counts.keys(), counts.values())\n",
    "plt.xlabel(\"bitstrings\")\n",
    "plt.ylabel(\"counts\")\n",
    "\n",
    "# Save figure to a local directory or Amazon S3 location\n",
    "plt.savefig(f\"{results_dir}/histogram.png\")"
   ]
  }
 ],
 "metadata": {
  "celltoolbar": "Tags",
  "kernelspec": {
   "display_name": "Python 3 (ipykernel)",
   "language": "python",
   "name": "python3"
  },
  "language_info": {
   "codemirror_mode": {
    "name": "ipython",
    "version": 3
   },
   "file_extension": ".py",
   "mimetype": "text/x-python",
   "name": "python",
   "nbconvert_exporter": "python",
   "pygments_lexer": "ipython3",
   "version": "3.9.5"
  },
  "vscode": {
   "interpreter": {
    "hash": "5904cb9a2089448a2e1aeb5d493d227c9de33e591d7c07e4016fb81e71061a5d"
   }
  }
 },
 "nbformat": 4,
 "nbformat_minor": 4
}
