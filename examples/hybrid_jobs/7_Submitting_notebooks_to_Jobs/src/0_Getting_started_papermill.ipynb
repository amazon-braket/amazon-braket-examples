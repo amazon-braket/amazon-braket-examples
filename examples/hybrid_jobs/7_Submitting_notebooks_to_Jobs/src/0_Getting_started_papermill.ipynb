{
 "cells": [
  {
   "cell_type": "markdown",
   "metadata": {},
   "source": [
    "# Example notebook \n",
    "\n",
    "This notebook is a copy from `examples/getting_started/0_Getting_started/0_Getting_started.ipynb` with a small modifications for use with [Papermill](https://github.com/nteract/papermill).\n",
    "\n",
    "\n",
    "## Papermill parameters\n",
    "\n",
    "Papermill is a tool for parameterizing, executing, and analyzing Jupyter Notebooks. \n",
    "To parameterize a notebook, we need tag a cell that contains all the parameters. \n",
    "We can only tag one cell, and for simplicity we place it at the top of the notebook. \n",
    "Full instructions are available here https://papermill.readthedocs.io/en/latest/usage-parameterize.html#designate-parameters-for-a-cell. \n",
    "\n",
    "Below, we tag the parameter `shots=1000`. \n",
    "We can then run the notebook as usual cell-by-cell to see the results. \n",
    "\n",
    "We additionally add two Braket specific parameters called device_arn and results_dir. \n",
    "These will be overriden when we run a Braket Job. \n",
    "\n",
    "**In the following cell, we added a tag called `parameters` for Papermill to recognize. If you dont see the tag, follow the instructions above.**"
   ]
  },
  {
   "cell_type": "code",
   "execution_count": null,
   "metadata": {
    "tags": [
     "parameters"
    ]
   },
   "outputs": [],
   "source": [
    "# Papermill parameters\n",
    "shots = 1000\n",
    "\n",
    "# Braket specific parameters\n",
    "device_arn = \"arn:aws:braket:::device/quantum-simulator/amazon/sv1\"\n",
    "results_dir = \".\""
   ]
  },
  {
   "cell_type": "markdown",
   "metadata": {},
   "source": [
    "# Getting started with Amazon Braket\n",
    "\n",
    "In this hello-world tutorial we prepare a maximally entangled Bell state between two qubits. We then run our circuit on a local simulator and obtain the results."
   ]
  },
  {
   "cell_type": "code",
   "execution_count": null,
   "metadata": {},
   "outputs": [],
   "source": [
    "# general imports\n",
    "import matplotlib.pyplot as plt\n",
    "\n",
    "%matplotlib inline\n",
    "\n",
    "from braket.aws import AwsDevice\n",
    "\n",
    "# AWS imports: Import Braket SDK modules\n",
    "from braket.circuits import Circuit\n",
    "from braket.devices import LocalSimulator"
   ]
  },
  {
   "cell_type": "markdown",
   "metadata": {},
   "source": [
    "## Build a circuit\n",
    "\n",
    "Let's build a Bell state with two qubits. By calling `Circuit()` we create an empty circuit, and we can just add gates to the circuit. "
   ]
  },
  {
   "cell_type": "code",
   "execution_count": null,
   "metadata": {},
   "outputs": [],
   "source": [
    "# build a Bell state with two qubits. Here 'cnot(control=0, target=1)' can be simplified as 'cnot(0,1)'\n",
    "bell = Circuit().h(0).cnot(control=0, target=1)"
   ]
  },
  {
   "cell_type": "markdown",
   "metadata": {},
   "source": [
    "## Submit the circuit to the local simulator and obtain the results\n",
    "\n",
    "Here we submit our circuit to the local simulator and obtain the results."
   ]
  },
  {
   "cell_type": "code",
   "execution_count": null,
   "metadata": {},
   "outputs": [],
   "source": [
    "# set up device\n",
    "if \"local\" in device_arn:\n",
    "    device = LocalSimulator()\n",
    "else:\n",
    "    device = AwsDevice(device_arn)\n",
    "\n",
    "# run circuit\n",
    "result = device.run(bell, shots=shots).result()\n",
    "# get measurement shots\n",
    "counts = result.measurement_counts\n",
    "counts = {k: counts[k] for k in sorted(counts)}  # sort results\n",
    "print(counts)"
   ]
  },
  {
   "cell_type": "markdown",
   "metadata": {},
   "source": [
    "**The following cell saves the results to a file**\n",
    "\n",
    "The use of `results_dir` is that any results are saved to the correct directory when called from a Braket Job. Below, we save the measurement counts to a .pkl file. "
   ]
  },
  {
   "cell_type": "code",
   "execution_count": null,
   "metadata": {},
   "outputs": [],
   "source": [
    "import pickle\n",
    "\n",
    "# save meaurement counts to a file\n",
    "with open(f\"{results_dir}/results.pkl\", \"wb\") as f:\n",
    "    pickle.dump(counts, f)\n",
    "\n",
    "\n",
    "# re-load the results with\n",
    "# with open(f\"{results_dir}/results.pkl\", 'rb') as f:\n",
    "# counts = pickle.load(f)"
   ]
  },
  {
   "cell_type": "markdown",
   "metadata": {},
   "source": [
    "**The following cell saves the figure to a file**"
   ]
  },
  {
   "cell_type": "code",
   "execution_count": null,
   "metadata": {},
   "outputs": [],
   "source": [
    "# plot using Counter\n",
    "plt.bar(counts.keys(), counts.values())\n",
    "plt.xlabel(\"bitstrings\")\n",
    "plt.ylabel(\"counts\")\n",
    "\n",
    "plt.savefig(f\"{results_dir}/histogram.png\")"
   ]
  }
 ],
 "metadata": {
  "celltoolbar": "Tags",
  "kernelspec": {
   "display_name": "Python 3 (ipykernel)",
   "language": "python",
   "name": "python3"
  },
  "language_info": {
   "codemirror_mode": {
    "name": "ipython",
    "version": 3
   },
   "file_extension": ".py",
   "mimetype": "text/x-python",
   "name": "python",
   "nbconvert_exporter": "python",
   "pygments_lexer": "ipython3",
   "version": "3.9.7"
  },
  "vscode": {
   "interpreter": {
    "hash": "5904cb9a2089448a2e1aeb5d493d227c9de33e591d7c07e4016fb81e71061a5d"
   }
  }
 },
 "nbformat": 4,
 "nbformat_minor": 4
}
