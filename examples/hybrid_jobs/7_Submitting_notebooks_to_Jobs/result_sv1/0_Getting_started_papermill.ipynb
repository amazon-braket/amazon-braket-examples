{
 "cells": [
  {
   "attachments": {},
   "cell_type": "markdown",
   "id": "8f9d6f18",
   "metadata": {
    "papermill": {
     "duration": 0.003851,
     "end_time": "2023-02-21T16:39:59.927457",
     "exception": false,
     "start_time": "2023-02-21T16:39:59.923606",
     "status": "completed"
    },
    "tags": []
   },
   "source": [
    "# Example notebook \n",
    "\n",
    "This notebook is a copy from `examples/getting_started/0_Getting_started/0_Getting_started.ipynb` with a small modifications for use with [Papermill](https://github.com/nteract/papermill) and Amazon Braket Hybrid Jobs. \n",
    "\n",
    "## Papermill parameters\n",
    "\n",
    "Papermill is a tool for parameterizing, executing, and analyzing Jupyter Notebooks. \n",
    "To parameterize a notebook, we need tag a cell that contains all the parameters. \n",
    "We can only tag one cell, and for simplicity we place it at the top of the notebook. \n",
    "Full instructions are available here https://papermill.readthedocs.io/en/latest/usage-parameterize.html#designate-parameters-for-a-cell. \n",
    "\n",
    "Below, we tag the parameter `shots=1000`. \n",
    "We can then run the notebook as usual cell-by-cell to see the results. \n",
    "\n",
    "We additionally add two Braket specific parameters called `device_arn` and `results_dir`. \n",
    "These will be overriden when running a Hybrid Job. \n",
    "\n",
    "**In the following cell, we added a tag called `parameters` for Papermill to recognize. If you don't see the tag, follow the instructions above.**"
   ]
  },
  {
   "cell_type": "code",
   "execution_count": 1,
   "id": "cde581c0",
   "metadata": {
    "execution": {
     "iopub.execute_input": "2023-02-21T16:39:59.935463Z",
     "iopub.status.busy": "2023-02-21T16:39:59.935058Z",
     "iopub.status.idle": "2023-02-21T16:39:59.943729Z",
     "shell.execute_reply": "2023-02-21T16:39:59.942934Z"
    },
    "papermill": {
     "duration": 0.014909,
     "end_time": "2023-02-21T16:39:59.945788",
     "exception": false,
     "start_time": "2023-02-21T16:39:59.930879",
     "status": "completed"
    },
    "tags": [
     "parameters"
    ]
   },
   "outputs": [],
   "source": [
    "# Papermill parameters\n",
    "shots = 1000\n",
    "\n",
    "# Braket specific parameters\n",
    "device_arn = \"arn:aws:braket:::device/quantum-simulator/amazon/sv1\"\n",
    "results_dir = \".\""
   ]
  },
  {
   "cell_type": "code",
   "execution_count": 2,
   "id": "fb6f9cac",
   "metadata": {
    "execution": {
     "iopub.execute_input": "2023-02-21T16:39:59.953422Z",
     "iopub.status.busy": "2023-02-21T16:39:59.952917Z",
     "iopub.status.idle": "2023-02-21T16:39:59.957598Z",
     "shell.execute_reply": "2023-02-21T16:39:59.956823Z"
    },
    "papermill": {
     "duration": 0.010566,
     "end_time": "2023-02-21T16:39:59.959478",
     "exception": false,
     "start_time": "2023-02-21T16:39:59.948912",
     "status": "completed"
    },
    "tags": [
     "injected-parameters"
    ]
   },
   "outputs": [],
   "source": [
    "# Parameters\n",
    "shots = 1000\n",
    "device_arn = \"arn:aws:braket:::device/quantum-simulator/amazon/sv1\"\n",
    "results_dir = \"/opt/braket/model\""
   ]
  },
  {
   "attachments": {},
   "cell_type": "markdown",
   "id": "01b2b74b",
   "metadata": {
    "papermill": {
     "duration": 0.002919,
     "end_time": "2023-02-21T16:39:59.965478",
     "exception": false,
     "start_time": "2023-02-21T16:39:59.962559",
     "status": "completed"
    },
    "tags": []
   },
   "source": [
    "# Getting started with Amazon Braket\n",
    "\n",
    "In this tutorial we prepare a maximally entangled Bell state between two qubits. \n",
    "We then run our circuit on a local simulator and obtain the results."
   ]
  },
  {
   "cell_type": "code",
   "execution_count": 3,
   "id": "f5c51ccb",
   "metadata": {
    "execution": {
     "iopub.execute_input": "2023-02-21T16:39:59.972780Z",
     "iopub.status.busy": "2023-02-21T16:39:59.972280Z",
     "iopub.status.idle": "2023-02-21T16:40:02.258920Z",
     "shell.execute_reply": "2023-02-21T16:40:02.258002Z"
    },
    "papermill": {
     "duration": 2.292759,
     "end_time": "2023-02-21T16:40:02.261262",
     "exception": false,
     "start_time": "2023-02-21T16:39:59.968503",
     "status": "completed"
    },
    "tags": []
   },
   "outputs": [],
   "source": [
    "import time\n",
    "\n",
    "import matplotlib.pyplot as plt\n",
    "\n",
    "%matplotlib inline\n",
    "\n",
    "from braket.aws import AwsDevice\n",
    "from braket.circuits import Circuit\n",
    "from braket.devices import LocalSimulator\n",
    "from braket.jobs.metrics import log_metric\n",
    "from braket.tracking import Tracker  # cost tracker\n",
    "\n",
    "cost_tracker = Tracker().start()"
   ]
  },
  {
   "cell_type": "markdown",
   "id": "903f3c8a",
   "metadata": {
    "papermill": {
     "duration": 0.002839,
     "end_time": "2023-02-21T16:40:02.267848",
     "exception": false,
     "start_time": "2023-02-21T16:40:02.265009",
     "status": "completed"
    },
    "tags": []
   },
   "source": [
    "## Build a circuit\n",
    "\n",
    "Let's build a Bell state with two qubits. By calling `Circuit()` we create an empty circuit, and we can just add gates to the circuit. "
   ]
  },
  {
   "cell_type": "code",
   "execution_count": 4,
   "id": "84deb684",
   "metadata": {
    "execution": {
     "iopub.execute_input": "2023-02-21T16:40:02.275438Z",
     "iopub.status.busy": "2023-02-21T16:40:02.274939Z",
     "iopub.status.idle": "2023-02-21T16:40:02.281711Z",
     "shell.execute_reply": "2023-02-21T16:40:02.280703Z"
    },
    "papermill": {
     "duration": 0.013495,
     "end_time": "2023-02-21T16:40:02.284389",
     "exception": false,
     "start_time": "2023-02-21T16:40:02.270894",
     "status": "completed"
    },
    "tags": []
   },
   "outputs": [
    {
     "name": "stdout",
     "output_type": "stream",
     "text": [
      "T  : |0|1|\n",
      "          \n",
      "q0 : -H-C-\n",
      "        | \n",
      "q1 : ---X-\n",
      "\n",
      "T  : |0|1|\n"
     ]
    }
   ],
   "source": [
    "# build a Bell state with two qubits.\n",
    "bell = Circuit().h(0).cnot(control=0, target=1)\n",
    "print(bell)"
   ]
  },
  {
   "attachments": {},
   "cell_type": "markdown",
   "id": "06ed5bf9",
   "metadata": {
    "papermill": {
     "duration": 0.002969,
     "end_time": "2023-02-21T16:40:02.290588",
     "exception": false,
     "start_time": "2023-02-21T16:40:02.287619",
     "status": "completed"
    },
    "tags": []
   },
   "source": [
    "## Submit the circuit to the local simulator and obtain the results\n",
    "\n",
    "Next, we choose either a local simualtor or an Amazon Braket device. "
   ]
  },
  {
   "cell_type": "code",
   "execution_count": 5,
   "id": "af2cf4ff",
   "metadata": {
    "execution": {
     "iopub.execute_input": "2023-02-21T16:40:02.298609Z",
     "iopub.status.busy": "2023-02-21T16:40:02.298098Z",
     "iopub.status.idle": "2023-02-21T16:40:02.443319Z",
     "shell.execute_reply": "2023-02-21T16:40:02.442463Z"
    },
    "papermill": {
     "duration": 0.151795,
     "end_time": "2023-02-21T16:40:02.445595",
     "exception": false,
     "start_time": "2023-02-21T16:40:02.293800",
     "status": "completed"
    },
    "tags": []
   },
   "outputs": [],
   "source": [
    "# set up device\n",
    "if \"local\" in device_arn:\n",
    "    device = LocalSimulator()\n",
    "else:\n",
    "    device = AwsDevice(device_arn)"
   ]
  },
  {
   "cell_type": "code",
   "execution_count": 6,
   "id": "1b7bc817",
   "metadata": {
    "execution": {
     "iopub.execute_input": "2023-02-21T16:40:02.454478Z",
     "iopub.status.busy": "2023-02-21T16:40:02.453663Z",
     "iopub.status.idle": "2023-02-21T16:40:06.122430Z",
     "shell.execute_reply": "2023-02-21T16:40:06.121300Z"
    },
    "papermill": {
     "duration": 3.675335,
     "end_time": "2023-02-21T16:40:06.124583",
     "exception": false,
     "start_time": "2023-02-21T16:40:02.449248",
     "status": "completed"
    },
    "tags": []
   },
   "outputs": [
    {
     "name": "stdout",
     "output_type": "stream",
     "text": [
      "{'00': 506, '11': 494}\n"
     ]
    }
   ],
   "source": [
    "# Run the circuit and get results\n",
    "result = device.run(bell, shots=shots).result()\n",
    "\n",
    "# get measurement shots\n",
    "counts = result.measurement_counts\n",
    "counts = {k: counts[k] for k in sorted(counts)}  # sort results\n",
    "print(counts)"
   ]
  },
  {
   "attachments": {},
   "cell_type": "markdown",
   "id": "45a81bd2",
   "metadata": {
    "papermill": {
     "duration": 0.00328,
     "end_time": "2023-02-21T16:40:06.131370",
     "exception": false,
     "start_time": "2023-02-21T16:40:06.128090",
     "status": "completed"
    },
    "tags": []
   },
   "source": [
    "Hybrid Jobs enables logging of metrics during the job. \n",
    "In the example below, we track the total cost of running the circuit on simulators or QPUs by using the cost tracker.\n",
    "\n",
    "We also track the number of counts in the \"00\" state. It is best practice to log all metrics per iteration at a common timestamp to avoid duplication."
   ]
  },
  {
   "cell_type": "code",
   "execution_count": 7,
   "id": "b9099b6f",
   "metadata": {
    "execution": {
     "iopub.execute_input": "2023-02-21T16:40:06.139319Z",
     "iopub.status.busy": "2023-02-21T16:40:06.138938Z",
     "iopub.status.idle": "2023-02-21T16:40:06.160770Z",
     "shell.execute_reply": "2023-02-21T16:40:06.159758Z"
    },
    "papermill": {
     "duration": 0.028111,
     "end_time": "2023-02-21T16:40:06.162906",
     "exception": false,
     "start_time": "2023-02-21T16:40:06.134795",
     "status": "completed"
    },
    "tags": []
   },
   "outputs": [
    {
     "name": "stdout",
     "output_type": "stream",
     "text": [
      "Metrics - timestamp=1676997606.1576412; cost=0.00375;\n",
      "Metrics - timestamp=1676997606.1576412; counts_00=506;\n"
     ]
    }
   ],
   "source": [
    "total_cost = float(cost_tracker.simulator_tasks_cost() + cost_tracker.qpu_tasks_cost())\n",
    "\n",
    "timestamp = time.time()\n",
    "\n",
    "log_metric(metric_name=\"cost\", value=float(total_cost), timestamp=timestamp)\n",
    "\n",
    "log_metric(metric_name=\"counts_00\", value=counts[\"00\"], timestamp=timestamp)"
   ]
  },
  {
   "cell_type": "markdown",
   "id": "99514813",
   "metadata": {
    "papermill": {
     "duration": 0.003224,
     "end_time": "2023-02-21T16:40:06.169668",
     "exception": false,
     "start_time": "2023-02-21T16:40:06.166444",
     "status": "completed"
    },
    "tags": []
   },
   "source": [
    "**The following cell saves the results to a file**\n",
    "\n",
    "The use of `results_dir` is that any results are saved to the correct directory when called from a Braket Job. Below, we save the measurement counts to a .pkl file. "
   ]
  },
  {
   "cell_type": "code",
   "execution_count": 8,
   "id": "89fcbea8",
   "metadata": {
    "execution": {
     "iopub.execute_input": "2023-02-21T16:40:06.177756Z",
     "iopub.status.busy": "2023-02-21T16:40:06.177397Z",
     "iopub.status.idle": "2023-02-21T16:40:06.182284Z",
     "shell.execute_reply": "2023-02-21T16:40:06.181462Z"
    },
    "papermill": {
     "duration": 0.011095,
     "end_time": "2023-02-21T16:40:06.184146",
     "exception": false,
     "start_time": "2023-02-21T16:40:06.173051",
     "status": "completed"
    },
    "tags": []
   },
   "outputs": [],
   "source": [
    "import pickle\n",
    "\n",
    "# save meaurement counts to a file\n",
    "with open(f\"{results_dir}/results.pkl\", \"wb\") as f:\n",
    "    pickle.dump(counts, f)\n",
    "\n",
    "\n",
    "# re-load the results with\n",
    "# with open(f\"{results_dir}/results.pkl\", 'rb') as f:\n",
    "#    counts = pickle.load(f)"
   ]
  },
  {
   "cell_type": "markdown",
   "id": "0ffe85dc",
   "metadata": {
    "papermill": {
     "duration": 0.00348,
     "end_time": "2023-02-21T16:40:06.191071",
     "exception": false,
     "start_time": "2023-02-21T16:40:06.187591",
     "status": "completed"
    },
    "tags": []
   },
   "source": [
    "**The following cell saves the figure to a file**"
   ]
  },
  {
   "cell_type": "code",
   "execution_count": 9,
   "id": "4cac1f64",
   "metadata": {
    "execution": {
     "iopub.execute_input": "2023-02-21T16:40:06.201409Z",
     "iopub.status.busy": "2023-02-21T16:40:06.200839Z",
     "iopub.status.idle": "2023-02-21T16:40:06.388281Z",
     "shell.execute_reply": "2023-02-21T16:40:06.387445Z"
    },
    "papermill": {
     "duration": 0.194475,
     "end_time": "2023-02-21T16:40:06.390164",
     "exception": false,
     "start_time": "2023-02-21T16:40:06.195689",
     "status": "completed"
    },
    "tags": []
   },
   "outputs": [
    {
     "data": {
      "image/png": "[encoded data removed]",
      "text/plain": [
       "<Figure size 640x480 with 1 Axes>"
      ]
     },
     "metadata": {},
     "output_type": "display_data"
    }
   ],
   "source": [
    "plt.bar(counts.keys(), counts.values())\n",
    "plt.xlabel(\"bitstrings\")\n",
    "plt.ylabel(\"counts\")\n",
    "\n",
    "# Save figure to a local directory or Amazon S3 location\n",
    "plt.savefig(f\"{results_dir}/histogram.png\")"
   ]
  }
 ],
 "metadata": {
  "celltoolbar": "Tags",
  "kernelspec": {
   "display_name": "Python 3 (ipykernel)",
   "language": "python",
   "name": "python3"
  },
  "language_info": {
   "codemirror_mode": {
    "name": "ipython",
    "version": 3
   },
   "file_extension": ".py",
   "mimetype": "text/x-python",
   "name": "python",
   "nbconvert_exporter": "python",
   "pygments_lexer": "ipython3",
   "version": "3.7.10"
  },
  "papermill": {
   "default_parameters": {},
   "duration": 8.253146,
   "end_time": "2023-02-21T16:40:06.813232",
   "environment_variables": {},
   "exception": null,
   "input_path": "/opt/braket/input/data/input/0_Getting_started_papermill.ipynb",
   "output_path": "/opt/braket/model/0_Getting_started_papermill.ipynb",
   "parameters": {
    "device_arn": "arn:aws:braket:::device/quantum-simulator/amazon/sv1",
    "results_dir": "/opt/braket/model",
    "shots": 1000
   },
   "start_time": "2023-02-21T16:39:58.560086",
   "version": "2.4.0"
  },
  "vscode": {
   "interpreter": {
    "hash": "5904cb9a2089448a2e1aeb5d493d227c9de33e591d7c07e4016fb81e71061a5d"
   }
  }
 },
 "nbformat": 4,
 "nbformat_minor": 5
}
