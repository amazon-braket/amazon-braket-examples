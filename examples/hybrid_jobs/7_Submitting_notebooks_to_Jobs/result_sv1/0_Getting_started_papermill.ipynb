{
 "cells": [
  {
   "cell_type": "markdown",
   "id": "040e7ca0",
   "metadata": {
    "papermill": {
     "duration": 0.003459,
     "end_time": "2022-11-29T15:03:31.576248",
     "exception": false,
     "start_time": "2022-11-29T15:03:31.572789",
     "status": "completed"
    },
    "tags": []
   },
   "source": [
    "# Example notebook \n",
    "\n",
    "This notebook is a copy from `examples/getting_started/0_Getting_started/0_Getting_started.ipynb` with a small modifications for use with [Papermill](https://github.com/nteract/papermill).\n",
    "\n",
    "\n",
    "## Papermill parameters\n",
    "\n",
    "Papermill is a tool for parameterizing, executing, and analyzing Jupyter Notebooks. \n",
    "To parameterize a notebook, we need tag a cell that contains all the parameters. \n",
    "We can only tag one cell, and for simplicity we place it at the top of the notebook. \n",
    "Full instructions are available here https://papermill.readthedocs.io/en/latest/usage-parameterize.html#designate-parameters-for-a-cell. \n",
    "\n",
    "Below, we tag the parameter `shots=1000`. \n",
    "We can then run the notebook as usual cell-by-cell to see the results. \n",
    "\n",
    "We additionally add two Braket specific parameters called device_arn and results_dir. \n",
    "These will be overriden when we run a Braket Job. \n",
    "\n",
    "**In the following cell, we add a tag called `parameters` for Papermill to recognize.**"
   ]
  },
  {
   "cell_type": "code",
   "execution_count": 1,
   "id": "31d5de16",
   "metadata": {
    "execution": {
     "iopub.execute_input": "2022-11-29T15:03:31.583336Z",
     "iopub.status.busy": "2022-11-29T15:03:31.582865Z",
     "iopub.status.idle": "2022-11-29T15:03:31.591729Z",
     "shell.execute_reply": "2022-11-29T15:03:31.590903Z"
    },
    "papermill": {
     "duration": 0.014563,
     "end_time": "2022-11-29T15:03:31.593666",
     "exception": false,
     "start_time": "2022-11-29T15:03:31.579103",
     "status": "completed"
    },
    "tags": [
     "parameters"
    ]
   },
   "outputs": [],
   "source": [
    "# Papermill parameters\n",
    "shots = 1000\n",
    "\n",
    "# Braket specific parameters\n",
    "device_arn = \"arn:aws:braket:::device/quantum-simulator/amazon/sv1\"\n",
    "results_dir = \".\""
   ]
  },
  {
   "cell_type": "code",
   "execution_count": 2,
   "id": "735c762a",
   "metadata": {
    "execution": {
     "iopub.execute_input": "2022-11-29T15:03:31.599883Z",
     "iopub.status.busy": "2022-11-29T15:03:31.599396Z",
     "iopub.status.idle": "2022-11-29T15:03:31.603753Z",
     "shell.execute_reply": "2022-11-29T15:03:31.602987Z"
    },
    "papermill": {
     "duration": 0.009512,
     "end_time": "2022-11-29T15:03:31.605589",
     "exception": false,
     "start_time": "2022-11-29T15:03:31.596077",
     "status": "completed"
    },
    "tags": [
     "injected-parameters"
    ]
   },
   "outputs": [],
   "source": [
    "# Parameters\n",
    "shots = 1000\n",
    "device_arn = \"arn:aws:braket:::device/quantum-simulator/amazon/sv1\"\n",
    "results_dir = \"/opt/braket/model\""
   ]
  },
  {
   "cell_type": "markdown",
   "id": "6fb29885",
   "metadata": {
    "papermill": {
     "duration": 0.002285,
     "end_time": "2022-11-29T15:03:31.610354",
     "exception": false,
     "start_time": "2022-11-29T15:03:31.608069",
     "status": "completed"
    },
    "tags": []
   },
   "source": [
    "# Getting started with Amazon Braket\n",
    "\n",
    "In this hello-world tutorial we prepare a maximally entangled Bell state between two qubits. We then run our circuit on a local simulator and obtain the results."
   ]
  },
  {
   "cell_type": "code",
   "execution_count": 3,
   "id": "12a23435",
   "metadata": {
    "execution": {
     "iopub.execute_input": "2022-11-29T15:03:31.616554Z",
     "iopub.status.busy": "2022-11-29T15:03:31.616081Z",
     "iopub.status.idle": "2022-11-29T15:03:35.188367Z",
     "shell.execute_reply": "2022-11-29T15:03:35.187453Z"
    },
    "papermill": {
     "duration": 3.577781,
     "end_time": "2022-11-29T15:03:35.190563",
     "exception": false,
     "start_time": "2022-11-29T15:03:31.612782",
     "status": "completed"
    },
    "tags": []
   },
   "outputs": [],
   "source": [
    "# general imports\n",
    "import matplotlib.pyplot as plt\n",
    "\n",
    "%matplotlib inline\n",
    "\n",
    "from braket.aws import AwsDevice\n",
    "\n",
    "# AWS imports: Import Braket SDK modules\n",
    "from braket.circuits import Circuit\n",
    "from braket.devices import LocalSimulator"
   ]
  },
  {
   "cell_type": "markdown",
   "id": "269c9bb7",
   "metadata": {
    "papermill": {
     "duration": 0.002641,
     "end_time": "2022-11-29T15:03:35.195993",
     "exception": false,
     "start_time": "2022-11-29T15:03:35.193352",
     "status": "completed"
    },
    "tags": []
   },
   "source": [
    "## Build a circuit\n",
    "\n",
    "Let's build a Bell state with two qubits. By calling `Circuit()` we create an empty circuit, and we can just add gates to the circuit. "
   ]
  },
  {
   "cell_type": "code",
   "execution_count": 4,
   "id": "6a1119f5",
   "metadata": {
    "execution": {
     "iopub.execute_input": "2022-11-29T15:03:35.202512Z",
     "iopub.status.busy": "2022-11-29T15:03:35.202031Z",
     "iopub.status.idle": "2022-11-29T15:03:35.207348Z",
     "shell.execute_reply": "2022-11-29T15:03:35.206432Z"
    },
    "papermill": {
     "duration": 0.011061,
     "end_time": "2022-11-29T15:03:35.209519",
     "exception": false,
     "start_time": "2022-11-29T15:03:35.198458",
     "status": "completed"
    },
    "tags": []
   },
   "outputs": [],
   "source": [
    "# build a Bell state with two qubits. Here 'cnot(control=0, target=1)' can be simplified as 'cnot(0,1)'\n",
    "bell = Circuit().h(0).cnot(control=0, target=1)"
   ]
  },
  {
   "cell_type": "markdown",
   "id": "3bc85f73",
   "metadata": {
    "papermill": {
     "duration": 0.002385,
     "end_time": "2022-11-29T15:03:35.214369",
     "exception": false,
     "start_time": "2022-11-29T15:03:35.211984",
     "status": "completed"
    },
    "tags": []
   },
   "source": [
    "## Submit the circuit to the local simulator and obtain the results\n",
    "\n",
    "Here we submit our circuit to the local simulator and obtain the results."
   ]
  },
  {
   "cell_type": "code",
   "execution_count": 5,
   "id": "cc090f44",
   "metadata": {
    "execution": {
     "iopub.execute_input": "2022-11-29T15:03:35.220608Z",
     "iopub.status.busy": "2022-11-29T15:03:35.220309Z",
     "iopub.status.idle": "2022-11-29T15:03:39.844853Z",
     "shell.execute_reply": "2022-11-29T15:03:39.844016Z"
    },
    "papermill": {
     "duration": 4.630021,
     "end_time": "2022-11-29T15:03:39.846894",
     "exception": false,
     "start_time": "2022-11-29T15:03:35.216873",
     "status": "completed"
    },
    "tags": []
   },
   "outputs": [
    {
     "name": "stdout",
     "output_type": "stream",
     "text": [
      "{'00': 528, '11': 472}\n"
     ]
    }
   ],
   "source": [
    "# set up device\n",
    "if \"local\" in device_arn:\n",
    "    device = LocalSimulator()\n",
    "else:\n",
    "    device = AwsDevice(device_arn)\n",
    "\n",
    "# run circuit\n",
    "result = device.run(bell, shots=shots).result()\n",
    "# get measurement shots\n",
    "counts = result.measurement_counts\n",
    "counts = {k: counts[k] for k in sorted(counts)}  # sort results\n",
    "print(counts)"
   ]
  },
  {
   "cell_type": "markdown",
   "id": "453025d4",
   "metadata": {
    "papermill": {
     "duration": 0.00279,
     "end_time": "2022-11-29T15:03:39.852735",
     "exception": false,
     "start_time": "2022-11-29T15:03:39.849945",
     "status": "completed"
    },
    "tags": []
   },
   "source": [
    "**The following cell saves the results to a file**\n",
    "\n",
    "The use of `results_dir` is that any results are saved to the correct directory when called from a Braket Job. Below, we save the measurement counts to a .pkl file. "
   ]
  },
  {
   "cell_type": "code",
   "execution_count": 6,
   "id": "8ef8bd9d",
   "metadata": {
    "execution": {
     "iopub.execute_input": "2022-11-29T15:03:39.859377Z",
     "iopub.status.busy": "2022-11-29T15:03:39.859002Z",
     "iopub.status.idle": "2022-11-29T15:03:39.863715Z",
     "shell.execute_reply": "2022-11-29T15:03:39.862873Z"
    },
    "papermill": {
     "duration": 0.010179,
     "end_time": "2022-11-29T15:03:39.865531",
     "exception": false,
     "start_time": "2022-11-29T15:03:39.855352",
     "status": "completed"
    },
    "tags": []
   },
   "outputs": [],
   "source": [
    "import pickle\n",
    "\n",
    "# save meaurement counts to a file\n",
    "with open(f\"{results_dir}/results.pkl\", \"wb\") as f:\n",
    "    pickle.dump(counts, f)\n",
    "\n",
    "\n",
    "# re-load the results with\n",
    "# with open(f\"{results_dir}/results.pkl\", 'rb') as f:\n",
    "# counts = pickle.load(f)"
   ]
  },
  {
   "cell_type": "markdown",
   "id": "1dfe1649",
   "metadata": {
    "papermill": {
     "duration": 0.002528,
     "end_time": "2022-11-29T15:03:39.870772",
     "exception": false,
     "start_time": "2022-11-29T15:03:39.868244",
     "status": "completed"
    },
    "tags": []
   },
   "source": [
    "**The following cell saves the figure to a file**"
   ]
  },
  {
   "cell_type": "code",
   "execution_count": 7,
   "id": "6b58cbe6",
   "metadata": {
    "execution": {
     "iopub.execute_input": "2022-11-29T15:03:39.877597Z",
     "iopub.status.busy": "2022-11-29T15:03:39.877145Z",
     "iopub.status.idle": "2022-11-29T15:03:40.079369Z",
     "shell.execute_reply": "2022-11-29T15:03:40.078385Z"
    },
    "papermill": {
     "duration": 0.208434,
     "end_time": "2022-11-29T15:03:40.081992",
     "exception": false,
     "start_time": "2022-11-29T15:03:39.873558",
     "status": "completed"
    },
    "tags": []
   },
   "outputs": [
    {
     "data": {
      "image/png": "[encoded data removed]",
      "text/plain": [
       "<Figure size 640x480 with 1 Axes>"
      ]
     },
     "metadata": {},
     "output_type": "display_data"
    }
   ],
   "source": [
    "# plot using Counter\n",
    "plt.bar(counts.keys(), counts.values())\n",
    "plt.xlabel(\"bitstrings\")\n",
    "plt.ylabel(\"counts\")\n",
    "\n",
    "plt.savefig(f\"{results_dir}/histogram.png\")"
   ]
  },
  {
   "cell_type": "code",
   "execution_count": null,
   "id": "2930a4fa",
   "metadata": {
    "papermill": {
     "duration": 0.003065,
     "end_time": "2022-11-29T15:03:40.088212",
     "exception": false,
     "start_time": "2022-11-29T15:03:40.085147",
     "status": "completed"
    },
    "tags": []
   },
   "outputs": [],
   "source": []
  }
 ],
 "metadata": {
  "kernelspec": {
   "display_name": "Python 3.9.5 64-bit ('braket')",
   "language": "python",
   "name": "python3"
  },
  "language_info": {
   "codemirror_mode": {
    "name": "ipython",
    "version": 3
   },
   "file_extension": ".py",
   "mimetype": "text/x-python",
   "name": "python",
   "nbconvert_exporter": "python",
   "pygments_lexer": "ipython3",
   "version": "3.7.10"
  },
  "papermill": {
   "default_parameters": {},
   "duration": 10.373486,
   "end_time": "2022-11-29T15:03:40.610119",
   "environment_variables": {},
   "exception": null,
   "input_path": "/opt/braket/input/data/input/0_Getting_started_papermill.ipynb",
   "output_path": "/opt/braket/model/0_Getting_started_papermill.ipynb",
   "parameters": {
    "device_arn": "arn:aws:braket:::device/quantum-simulator/amazon/sv1",
    "results_dir": "/opt/braket/model",
    "shots": 1000
   },
   "start_time": "2022-11-29T15:03:30.236633",
   "version": "2.4.0"
  },
  "vscode": {
   "interpreter": {
    "hash": "5904cb9a2089448a2e1aeb5d493d227c9de33e591d7c07e4016fb81e71061a5d"
   }
  }
 },
 "nbformat": 4,
 "nbformat_minor": 5
}
