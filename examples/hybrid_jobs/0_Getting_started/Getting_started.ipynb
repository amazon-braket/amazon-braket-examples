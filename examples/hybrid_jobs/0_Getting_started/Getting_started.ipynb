{
 "cells": [
  {
   "cell_type": "markdown",
   "metadata": {},
   "source": [
    "# Getting started with Amazon Braket Hybrid Jobs\n",
    "\n",
    "This tutorial shows how to run your first Amazon Braket Hybrid Job. To get started, we consider small circuits with only one qubit and one gate.\n",
    "\n",
    "\n",
    "## Learning outcomes \n",
    "* Write an algorithm script to run on Braket Jobs\n",
    "* Understand how to run scripts or functions\n",
    "* Create a job on Braket simulators or QPUs\n",
    "* Monitoring the job state\n",
    "* Save results from a job\n",
    "* Using a specific AWS session\n",
    "* Running jobs with priority on QPUs\n",
    "* Use local jobs to quickly test and debug scripts\n",
    "* Create a Braket Job using the Braket console"
   ]
  },
  {
   "cell_type": "markdown",
   "metadata": {},
   "source": [
    "## Writing an algorithm script\n",
    "\n",
    "To create a Braket Job, you first need a Python script to run. In this example, it's contained in `algorithm_script.py`. The script is printed in the code cell below for convenience. \n",
    "\n",
    "As shown, each of the circuits has only one $X$ rotation gate with a random angle. The circuit is repeated five times with different random rotations. Note that the algorithm script does not specify the backend Amazon Braket device ARN explicitly. Instead, it is provided through environment variables such as `os.environ[\"AMZN_BRAKET_DEVICE_ARN\"]` that are passed to the algorithm script when creating the job. "
   ]
  },
  {
   "cell_type": "code",
   "execution_count": 1,
   "metadata": {},
   "outputs": [
    {
     "name": "stdout",
     "output_type": "stream",
     "text": [
      "This block is a copy of the algorithm script.\n"
     ]
    }
   ],
   "source": [
    "%%script echo \"This block is a copy of the algorithm script.\"\n",
    "\n",
    "import os\n",
    "import numpy as np\n",
    "\n",
    "from braket.aws import AwsDevice\n",
    "from braket.circuits import Circuit\n",
    "from braket.jobs import save_job_result\n",
    "\n",
    "\n",
    "print(\"Test job started!\")\n",
    "\n",
    "# Use the device declared in the creation script\n",
    "device = AwsDevice(os.environ[\"AMZN_BRAKET_DEVICE_ARN\"])\n",
    "\n",
    "counts_list = []\n",
    "angle_list = []\n",
    "for _ in range(5):\n",
    "    angle = np.pi * np.random.randn()\n",
    "    random_circuit = Circuit().rx(0, angle)\n",
    "\n",
    "    task = device.run(random_circuit, shots=100)\n",
    "    counts = task.result().measurement_counts\n",
    "\n",
    "    angle_list.append(angle)\n",
    "    counts_list.append(counts)\n",
    "    print(counts)\n",
    "\n",
    "# Save the variables of interest so that we can access later\n",
    "save_job_result({\"counts\": counts_list, \"angle\": angle_list})\n",
    "\n",
    "print(\"Test job completed!\")"
   ]
  },
  {
   "cell_type": "markdown",
   "metadata": {},
   "source": [
    "## Creating your first job\n",
    "\n",
    "Once the script is finalized, you can create a Braket Job with `AwsQuantumJob`. When the Braket Job is created, it starts the job instance (based on EC2) and spins up a Docker container. The instance type, container, and other configurations can be specified via keyword arguments. See the [developer guide](https://docs.aws.amazon.com/braket/latest/developerguide/what-is-braket.html) and other example notebooks to learn more about how to customize your jobs.\n",
    "\n",
    "This example uses the following inputs for `AwsQuantumJob`:\n",
    "- <b>device</b>: The ARN of the Braket simulator or QPU to use in the job. It will be passed as an environment variable to the algorithm script. \n",
    "- <b>source_module</b>: The path to a file or a Python module that contains your algorithm script. It will be uploaded to the container for running the Braket Job.\n",
    "- <b>wait_until_complete (optional)</b>: If true, the function call will wait until the Braket Job is completed and will additionally print logs to the local console. Otherwise, it will run asynchronously. "
   ]
  },
  {
   "cell_type": "code",
   "execution_count": 2,
   "metadata": {},
   "outputs": [],
   "source": [
    "from braket.aws import AwsQuantumJob"
   ]
  },
  {
   "cell_type": "code",
   "execution_count": 4,
   "metadata": {
    "pycharm": {
     "name": "#%%\n"
    }
   },
   "outputs": [],
   "source": [
    "# This cell should take about 5 mins\n",
    "job = AwsQuantumJob.create(\n",
    "    device=\"arn:aws:braket:::device/quantum-simulator/amazon/sv1\",\n",
    "    source_module=\"algorithm_script.py\",\n",
    "    wait_until_complete=False,\n",
    ")"
   ]
  },
  {
   "cell_type": "markdown",
   "metadata": {},
   "source": [
    "In this example, the algorithm is defined by a single file, so the `source_module` is `algorithm_script.py`. Depending on your application, there are other options for setting the source module. For example, if you wish to only execute a part of `algorithm_script.py` at the start of a Braket Job, you can package that part to be a `starting_function()`. Then assign the function as the entry point by adding the `entry_point` input argument."
   ]
  },
  {
   "cell_type": "code",
   "execution_count": 5,
   "metadata": {},
   "outputs": [],
   "source": [
    "source_module = \"algorithm_script.py\"\n",
    "entry_point = \"algorithm_script:starting_function\""
   ]
  },
  {
   "cell_type": "markdown",
   "metadata": {},
   "source": [
    "If your algorithm script requires other dependency such as helper functions, you can put them all in one folder, say the `algorithm_folder`. The input arguments would then be"
   ]
  },
  {
   "cell_type": "code",
   "execution_count": 6,
   "metadata": {},
   "outputs": [],
   "source": [
    "source_module = \"algorithm_folder\"\n",
    "entry_point = \"algorithm_folder.algorithm_script:starting_function\""
   ]
  },
  {
   "cell_type": "markdown",
   "metadata": {},
   "source": [
    "## Checking job state and loading results\n",
    "\n",
    "The status of a Braket Job can be checked by calling `job.state()`. The state will be one of \"QUEUED\", \"INITIALIZING\", \"RUNNING\", \"FAILED\", or \"COMPLETED\". "
   ]
  },
  {
   "cell_type": "code",
   "execution_count": 7,
   "metadata": {},
   "outputs": [
    {
     "data": {
      "text/plain": [
       "'QUEUED'"
      ]
     },
     "execution_count": 7,
     "metadata": {},
     "output_type": "execute_result"
    }
   ],
   "source": [
    "job.state()"
   ]
  },
  {
   "cell_type": "markdown",
   "metadata": {},
   "source": [
    "Once completed, the result can be retrieved using `job.result()`. Logs and metadata are also accessible via `job.logs()` and `job.metadata()`. If you lose the reference to the job object, you can always reinstantiate it using your job ARN as `job=AwsQuantumJob(\"your-job-arn\")`. The ARN of a job can be found in the Amazon Braket Console. By default the ARN of a job will be \"`arn:aws:braket:<region>:<account_id>:job/<job_name>`\". "
   ]
  },
  {
   "cell_type": "code",
   "execution_count": 8,
   "metadata": {},
   "outputs": [
    {
     "name": "stdout",
     "output_type": "stream",
     "text": [
      "counts:  [{'1': 99, '0': 1}, {'0': 99, '1': 1}, {'1': 92, '0': 8}, {'0': 97, '1': 3}, {'1': 36, '0': 64}]\n",
      "angles:  [3.3051995719859417, -6.17347000615851, -2.5079863385646535, -0.28662366922144145, 1.3012932727218849]\n"
     ]
    }
   ],
   "source": [
    "results = job.result()  # will return once job.state() = \"COMPLETED\", should be 6 minutes\n",
    "print(\"counts: \", results[\"counts\"])\n",
    "print(\"angles: \", results[\"angles\"])"
   ]
  },
  {
   "cell_type": "code",
   "execution_count": 14,
   "metadata": {},
   "outputs": [],
   "source": [
    "# print(job.logs()) # uncomment to print logs"
   ]
  },
  {
   "cell_type": "markdown",
   "metadata": {},
   "source": [
    "You can also download the result to a local directory."
   ]
  },
  {
   "cell_type": "code",
   "execution_count": 10,
   "metadata": {},
   "outputs": [],
   "source": [
    "job.download_result()  # download job result to local directory"
   ]
  },
  {
   "cell_type": "markdown",
   "metadata": {},
   "source": [
    "## Running jobs with priority on QPUs\n",
    "\n",
    "With Braket Jobs, you can run hybrid algorithms on all QPUs available through Amazon Braket. When you select a QPU as your device, your job will have priority access for the duration of your job. Quantum tasks created as part of your job will be executed ahead of other tasks in the device queue. This reduces the risk of certain tasks being delayed or drifting calibrations on the device. \n",
    "\n",
    "You can seamlessly swap the SV1 simulator for a QPU by changing the device argument in `AwsQuantumJob.create()`. When you create the job, Amazon Braket will wait for the QPU to become available before initializing the job. The following cell creates the job to run on Rigetti Aspen-9 QPU. You can check on the status in the console or by using `job.state()`.\n",
    " \n",
    "Note that the Braket Job will automatically select the AWS region where the device is available. "
   ]
  },
  {
   "cell_type": "code",
   "execution_count": null,
   "metadata": {},
   "outputs": [],
   "source": [
    "job = AwsQuantumJob.create(\n",
    "    device=\"arn:aws:braket:::device/qpu/rigetti/Aspen-9\",\n",
    "    source_module=\"algorithm_script.py\",\n",
    "    wait_until_complete=False,\n",
    ")"
   ]
  },
  {
   "cell_type": "code",
   "execution_count": 11,
   "metadata": {},
   "outputs": [
    {
     "data": {
      "text/plain": [
       "'COMPLETED'"
      ]
     },
     "execution_count": 11,
     "metadata": {},
     "output_type": "execute_result"
    }
   ],
   "source": [
    "job.state()"
   ]
  },
  {
   "cell_type": "markdown",
   "metadata": {},
   "source": [
    "## AWS Sessions\n",
    "\n",
    "You can customize the default location where Braket Jobs saves and loads results in Amazon S3 by providing the AWS session information. The name of the S3 bucket needs to start with \"amazon-braket-\"., and it must be in the same region as the job being created"
   ]
  },
  {
   "cell_type": "code",
   "execution_count": 12,
   "metadata": {},
   "outputs": [],
   "source": [
    "from braket.aws import AwsSession\n",
    "\n",
    "# Set Amazon S3 bucket\n",
    "aws_session = AwsSession(default_bucket=\"amazon-braket-bucket-name\")"
   ]
  },
  {
   "cell_type": "markdown",
   "metadata": {},
   "source": [
    "To create a Braket Job with this S3 bucket, you pass `aws_session` as an argument to ` AwsQuantumJob.create()`\n",
    "\n",
    "```\n",
    "job = AwsQuantumJob.create(\n",
    "    device=\"arn:aws:braket:::device/quantum-simulator/amazon/sv1\",\n",
    "    source_module=\"algorithm_script.py\",\n",
    "    aws_session=aws_session # using specific S3 bucket\n",
    ")\n",
    "```"
   ]
  },
  {
   "cell_type": "markdown",
   "metadata": {},
   "source": [
    "## Debugging with local Braket Jobs\n",
    "\n",
    "For faster testing and debugging of your code, you can run a job locally in your own environment. This feature requires Docker to be installed in your local environment. Amazon Braket Notebook Instances have Docker pre-installed, so you can test local jobs in hosted notebooks instantly. To install Docker in your local environment, follow these [instructions](https://docs.docker.com/get-docker/). When a local job is created for the first time, it will take longer because it needs to build the container. The subsequent runs will be faster. Note, that local jobs will not be visible in the Amazon Braket Console.\n",
    "\n",
    "To run a job in the local mode, simply create a `LocalQuantumJob`instead of `AwsQuantumJob`. Local jobs always run synchronously and display the logs. "
   ]
  },
  {
   "cell_type": "code",
   "execution_count": 13,
   "metadata": {
    "tags": []
   },
   "outputs": [
    {
     "name": "stderr",
     "output_type": "stream",
     "text": [
      "Using the short-lived AWS credentials found in session. They might expire while running.\n"
     ]
    },
    {
     "name": "stdout",
     "output_type": "stream",
     "text": [
      "Boto3 Version:  1.18.33\n",
      "Beginning Setup\n",
      "Getting setup script from  s3://braket-external-assets-preview-us-west-2/HybridJobsAccess/scripts/setup-container.sh\n",
      "download: s3://braket-external-assets-preview-us-west-2/HybridJobsAccess/libraries/amazon-braket-schemas-python.tar.gz to ../../braket/additional_lib/original/amazon-braket-schemas-python.tar.gz\n",
      "aws-amazon-braket-schemas-python-staging-6ffc1f24d0886b62d721a8c99fe2366d1f62822e/.coveragerc\n",
      "aws-amazon-braket-schemas-python-staging-6ffc1f24d0886b62d721a8c99fe2366d1f62822e/.github/\n",
      "aws-amazon-braket-schemas-python-staging-6ffc1f24d0886b62d721a8c99fe2366d1f62822e/.github/ISSUE_TEMPLATE/\n",
      "aws-amazon-braket-schemas-python-staging-6ffc1f24d0886b62d721a8c99fe2366d1f62822e/.github/ISSUE_TEMPLATE/bug_report.md\n",
      "aws-amazon-braket-schemas-python-staging-6ffc1f24d0886b62d721a8c99fe2366d1f62822e/.github/ISSUE_TEMPLATE/config.yml\n",
      "aws-amazon-braket-schemas-python-staging-6ffc1f24d0886b62d721a8c99fe2366d1f62822e/.github/ISSUE_TEMPLATE/documentation_request.md\n",
      "aws-amazon-braket-schemas-python-staging-6ffc1f24d0886b62d721a8c99fe2366d1f62822e/.github/ISSUE_TEMPLATE/feature_request.md\n",
      "aws-amazon-braket-schemas-python-staging-6ffc1f24d0886b62d721a8c99fe2366d1f62822e/.github/pull_request_template.md\n",
      "aws-amazon-braket-schemas-python-staging-6ffc1f24d0886b62d721a8c99fe2366d1f62822e/.github/workflows/\n",
      "aws-amazon-braket-schemas-python-staging-6ffc1f24d0886b62d721a8c99fe2366d1f62822e/.github/workflows/dependent-tests.yml\n",
      "aws-amazon-braket-schemas-python-staging-6ffc1f24d0886b62d721a8c99fe2366d1f62822e/.github/workflows/publish-to-pypi.yml\n",
      "aws-amazon-braket-schemas-python-staging-6ffc1f24d0886b62d721a8c99fe2366d1f62822e/.github/workflows/python-package.yml\n",
      "aws-amazon-braket-schemas-python-staging-6ffc1f24d0886b62d721a8c99fe2366d1f62822e/.github/workflows/stale_issue.yml\n",
      "aws-amazon-braket-schemas-python-staging-6ffc1f24d0886b62d721a8c99fe2366d1f62822e/.gitignore\n",
      "aws-amazon-braket-schemas-python-staging-6ffc1f24d0886b62d721a8c99fe2366d1f62822e/.pre-commit-config.yaml\n",
      "aws-amazon-braket-schemas-python-staging-6ffc1f24d0886b62d721a8c99fe2366d1f62822e/.readthedocs.yml\n",
      "aws-amazon-braket-schemas-python-staging-6ffc1f24d0886b62d721a8c99fe2366d1f62822e/CHANGELOG.md\n",
      "aws-amazon-braket-schemas-python-staging-6ffc1f24d0886b62d721a8c99fe2366d1f62822e/CODEOWNERS\n",
      "aws-amazon-braket-schemas-python-staging-6ffc1f24d0886b62d721a8c99fe2366d1f62822e/CODE_OF_CONDUCT.md\n",
      "aws-amazon-braket-schemas-python-staging-6ffc1f24d0886b62d721a8c99fe2366d1f62822e/CONTRIBUTING.md\n",
      "aws-amazon-braket-schemas-python-staging-6ffc1f24d0886b62d721a8c99fe2366d1f62822e/LICENSE\n",
      "aws-amazon-braket-schemas-python-staging-6ffc1f24d0886b62d721a8c99fe2366d1f62822e/NOTICE\n",
      "aws-amazon-braket-schemas-python-staging-6ffc1f24d0886b62d721a8c99fe2366d1f62822e/README.md\n",
      "aws-amazon-braket-schemas-python-staging-6ffc1f24d0886b62d721a8c99fe2366d1f62822e/bin/\n",
      "aws-amazon-braket-schemas-python-staging-6ffc1f24d0886b62d721a8c99fe2366d1f62822e/bin/apply-header.py\n",
      "aws-amazon-braket-schemas-python-staging-6ffc1f24d0886b62d721a8c99fe2366d1f62822e/doc/\n",
      "aws-amazon-braket-schemas-python-staging-6ffc1f24d0886b62d721a8c99fe2366d1f62822e/doc/Makefile\n",
      "aws-amazon-braket-schemas-python-staging-6ffc1f24d0886b62d721a8c99fe2366d1f62822e/doc/conf.py\n",
      "aws-amazon-braket-schemas-python-staging-6ffc1f24d0886b62d721a8c99fe2366d1f62822e/doc/index.rst\n",
      "aws-amazon-braket-schemas-python-staging-6ffc1f24d0886b62d721a8c99fe2366d1f62822e/doc/requirements.txt\n",
      "aws-amazon-braket-schemas-python-staging-6ffc1f24d0886b62d721a8c99fe2366d1f62822e/pyproject.toml\n",
      "aws-amazon-braket-schemas-python-staging-6ffc1f24d0886b62d721a8c99fe2366d1f62822e/setup.cfg\n",
      "aws-amazon-braket-schemas-python-staging-6ffc1f24d0886b62d721a8c99fe2366d1f62822e/setup.py\n",
      "aws-amazon-braket-schemas-python-staging-6ffc1f24d0886b62d721a8c99fe2366d1f62822e/src/\n",
      "aws-amazon-braket-schemas-python-staging-6ffc1f24d0886b62d721a8c99fe2366d1f62822e/src/braket/\n",
      "aws-amazon-braket-schemas-python-staging-6ffc1f24d0886b62d721a8c99fe2366d1f62822e/src/braket/_schemas/\n",
      "aws-amazon-braket-schemas-python-staging-6ffc1f24d0886b62d721a8c99fe2366d1f62822e/src/braket/_schemas/__init__.py\n",
      "aws-amazon-braket-schemas-python-staging-6ffc1f24d0886b62d721a8c99fe2366d1f62822e/src/braket/_schemas/_version.py\n",
      "aws-amazon-braket-schemas-python-staging-6ffc1f24d0886b62d721a8c99fe2366d1f62822e/src/braket/device_schema/\n",
      "aws-amazon-braket-schemas-python-staging-6ffc1f24d0886b62d721a8c99fe2366d1f62822e/src/braket/device_schema/__init__.py\n",
      "aws-amazon-braket-schemas-python-staging-6ffc1f24d0886b62d721a8c99fe2366d1f62822e/src/braket/device_schema/device_action_properties.py\n",
      "aws-amazon-braket-schemas-python-staging-6ffc1f24d0886b62d721a8c99fe2366d1f62822e/src/braket/device_schema/device_capabilities.py\n",
      "aws-amazon-braket-schemas-python-staging-6ffc1f24d0886b62d721a8c99fe2366d1f62822e/src/braket/device_schema/device_connectivity.py\n",
      "aws-amazon-braket-schemas-python-staging-6ffc1f24d0886b62d721a8c99fe2366d1f62822e/src/braket/device_schema/device_execution_window.py\n",
      "aws-amazon-braket-schemas-python-staging-6ffc1f24d0886b62d721a8c99fe2366d1f62822e/src/braket/device_schema/device_service_properties_v1.py\n",
      "aws-amazon-braket-schemas-python-staging-6ffc1f24d0886b62d721a8c99fe2366d1f62822e/src/braket/device_schema/dwave/\n",
      "aws-amazon-braket-schemas-python-staging-6ffc1f24d0886b62d721a8c99fe2366d1f62822e/src/braket/device_schema/dwave/__init__.py\n",
      "aws-amazon-braket-schemas-python-staging-6ffc1f24d0886b62d721a8c99fe2366d1f62822e/src/braket/device_schema/dwave/dwave_2000Q_device_level_parameters_v1.py\n",
      "aws-amazon-braket-schemas-python-staging-6ffc1f24d0886b62d721a8c99fe2366d1f62822e/src/braket/device_schema/dwave/dwave_2000Q_device_parameters_v1.py\n",
      "aws-amazon-braket-schemas-python-staging-6ffc1f24d0886b62d721a8c99fe2366d1f62822e/src/braket/device_schema/dwave/dwave_advantage_device_level_parameters_v1.py\n",
      "aws-amazon-braket-schemas-python-staging-6ffc1f24d0886b62d721a8c99fe2366d1f62822e/src/braket/device_schema/dwave/dwave_advantage_device_parameters_v1.py\n",
      "aws-amazon-braket-schemas-python-staging-6ffc1f24d0886b62d721a8c99fe2366d1f62822e/src/braket/device_schema/dwave/dwave_device_capabilities_v1.py\n",
      "aws-amazon-braket-schemas-python-staging-6ffc1f24d0886b62d721a8c99fe2366d1f62822e/src/braket/device_schema/dwave/dwave_device_parameters_v1.py\n",
      "aws-amazon-braket-schemas-python-staging-6ffc1f24d0886b62d721a8c99fe2366d1f62822e/src/braket/device_schema/dwave/dwave_provider_level_parameters_v1.py\n",
      "aws-amazon-braket-schemas-python-staging-6ffc1f24d0886b62d721a8c99fe2366d1f62822e/src/braket/device_schema/dwave/dwave_provider_properties_v1.py\n",
      "aws-amazon-braket-schemas-python-staging-6ffc1f24d0886b62d721a8c99fe2366d1f62822e/src/braket/device_schema/gate_model_parameters_v1.py\n",
      "aws-amazon-braket-schemas-python-staging-6ffc1f24d0886b62d721a8c99fe2366d1f62822e/src/braket/device_schema/gate_model_qpu_paradigm_properties_v1.py\n",
      "aws-amazon-braket-schemas-python-staging-6ffc1f24d0886b62d721a8c99fe2366d1f62822e/src/braket/device_schema/ionq/\n",
      "aws-amazon-braket-schemas-python-staging-6ffc1f24d0886b62d721a8c99fe2366d1f62822e/src/braket/device_schema/ionq/__init__.py\n",
      "aws-amazon-braket-schemas-python-staging-6ffc1f24d0886b62d721a8c99fe2366d1f62822e/src/braket/device_schema/ionq/ionq_device_capabilities_v1.py\n",
      "aws-amazon-braket-schemas-python-staging-6ffc1f24d0886b62d721a8c99fe2366d1f62822e/src/braket/device_schema/ionq/ionq_device_parameters_v1.py\n",
      "aws-amazon-braket-schemas-python-staging-6ffc1f24d0886b62d721a8c99fe2366d1f62822e/src/braket/device_schema/ionq/ionq_provider_properties_v1.py\n",
      "aws-amazon-braket-schemas-python-staging-6ffc1f24d0886b62d721a8c99fe2366d1f62822e/src/braket/device_schema/jaqcd_device_action_properties.py\n",
      "aws-amazon-braket-schemas-python-staging-6ffc1f24d0886b62d721a8c99fe2366d1f62822e/src/braket/device_schema/rigetti/\n",
      "aws-amazon-braket-schemas-python-staging-6ffc1f24d0886b62d721a8c99fe2366d1f62822e/src/braket/device_schema/rigetti/__init__.py\n",
      "aws-amazon-braket-schemas-python-staging-6ffc1f24d0886b62d721a8c99fe2366d1f62822e/src/braket/device_schema/rigetti/rigetti_device_capabilities_v1.py\n",
      "aws-amazon-braket-schemas-python-staging-6ffc1f24d0886b62d721a8c99fe2366d1f62822e/src/braket/device_schema/rigetti/rigetti_device_parameters_v1.py\n",
      "aws-amazon-braket-schemas-python-staging-6ffc1f24d0886b62d721a8c99fe2366d1f62822e/src/braket/device_schema/rigetti/rigetti_provider_properties_v1.py\n",
      "aws-amazon-braket-schemas-python-staging-6ffc1f24d0886b62d721a8c99fe2366d1f62822e/src/braket/device_schema/simulators/\n",
      "aws-amazon-braket-schemas-python-staging-6ffc1f24d0886b62d721a8c99fe2366d1f62822e/src/braket/device_schema/simulators/__init__.py\n",
      "aws-amazon-braket-schemas-python-staging-6ffc1f24d0886b62d721a8c99fe2366d1f62822e/src/braket/device_schema/simulators/gate_model_simulator_device_capabilities_v1.py\n",
      "aws-amazon-braket-schemas-python-staging-6ffc1f24d0886b62d721a8c99fe2366d1f62822e/src/braket/device_schema/simulators/gate_model_simulator_device_parameters_v1.py\n",
      "aws-amazon-braket-schemas-python-staging-6ffc1f24d0886b62d721a8c99fe2366d1f62822e/src/braket/device_schema/simulators/gate_model_simulator_paradigm_properties_v1.py\n",
      "aws-amazon-braket-schemas-python-staging-6ffc1f24d0886b62d721a8c99fe2366d1f62822e/src/braket/ir/\n",
      "aws-amazon-braket-schemas-python-staging-6ffc1f24d0886b62d721a8c99fe2366d1f62822e/src/braket/ir/annealing/\n",
      "aws-amazon-braket-schemas-python-staging-6ffc1f24d0886b62d721a8c99fe2366d1f62822e/src/braket/ir/annealing/__init__.py\n",
      "aws-amazon-braket-schemas-python-staging-6ffc1f24d0886b62d721a8c99fe2366d1f62822e/src/braket/ir/annealing/problem_v1.py\n",
      "aws-amazon-braket-schemas-python-staging-6ffc1f24d0886b62d721a8c99fe2366d1f62822e/src/braket/ir/jaqcd/\n",
      "aws-amazon-braket-schemas-python-staging-6ffc1f24d0886b62d721a8c99fe2366d1f62822e/src/braket/ir/jaqcd/__init__.py\n",
      "aws-amazon-braket-schemas-python-staging-6ffc1f24d0886b62d721a8c99fe2366d1f62822e/src/braket/ir/jaqcd/instructions.py\n",
      "aws-amazon-braket-schemas-python-staging-6ffc1f24d0886b62d721a8c99fe2366d1f62822e/src/braket/ir/jaqcd/program_v1.py\n",
      "aws-amazon-braket-schemas-python-staging-6ffc1f24d0886b62d721a8c99fe2366d1f62822e/src/braket/ir/jaqcd/results.py\n",
      "aws-amazon-braket-schemas-python-staging-6ffc1f24d0886b62d721a8c99fe2366d1f62822e/src/braket/ir/jaqcd/shared_models.py\n",
      "aws-amazon-braket-schemas-python-staging-6ffc1f24d0886b62d721a8c99fe2366d1f62822e/src/braket/jobs_data/\n",
      "aws-amazon-braket-schemas-python-staging-6ffc1f24d0886b62d721a8c99fe2366d1f62822e/src/braket/jobs_data/__init__.py\n",
      "aws-amazon-braket-schemas-python-staging-6ffc1f24d0886b62d721a8c99fe2366d1f62822e/src/braket/jobs_data/persisted_job_data_v1.py\n",
      "aws-amazon-braket-schemas-python-staging-6ffc1f24d0886b62d721a8c99fe2366d1f62822e/src/braket/schema_common/\n",
      "aws-amazon-braket-schemas-python-staging-6ffc1f24d0886b62d721a8c99fe2366d1f62822e/src/braket/schema_common/__init__.py\n",
      "aws-amazon-braket-schemas-python-staging-6ffc1f24d0886b62d721a8c99fe2366d1f62822e/src/braket/schema_common/schema_base.py\n",
      "aws-amazon-braket-schemas-python-staging-6ffc1f24d0886b62d721a8c99fe2366d1f62822e/src/braket/schema_common/schema_header.py\n",
      "aws-amazon-braket-schemas-python-staging-6ffc1f24d0886b62d721a8c99fe2366d1f62822e/src/braket/task_result/\n",
      "aws-amazon-braket-schemas-python-staging-6ffc1f24d0886b62d721a8c99fe2366d1f62822e/src/braket/task_result/__init__.py\n",
      "aws-amazon-braket-schemas-python-staging-6ffc1f24d0886b62d721a8c99fe2366d1f62822e/src/braket/task_result/additional_metadata.py\n",
      "aws-amazon-braket-schemas-python-staging-6ffc1f24d0886b62d721a8c99fe2366d1f62822e/src/braket/task_result/annealing_task_result_v1.py\n",
      "aws-amazon-braket-schemas-python-staging-6ffc1f24d0886b62d721a8c99fe2366d1f62822e/src/braket/task_result/dwave_metadata_v1.py\n",
      "aws-amazon-braket-schemas-python-staging-6ffc1f24d0886b62d721a8c99fe2366d1f62822e/src/braket/task_result/gate_model_task_result_v1.py\n",
      "aws-amazon-braket-schemas-python-staging-6ffc1f24d0886b62d721a8c99fe2366d1f62822e/src/braket/task_result/rigetti_metadata_v1.py\n",
      "aws-amazon-braket-schemas-python-staging-6ffc1f24d0886b62d721a8c99fe2366d1f62822e/src/braket/task_result/simulator_metadata_v1.py\n",
      "aws-amazon-braket-schemas-python-staging-6ffc1f24d0886b62d721a8c99fe2366d1f62822e/src/braket/task_result/task_metadata_v1.py\n",
      "aws-amazon-braket-schemas-python-staging-6ffc1f24d0886b62d721a8c99fe2366d1f62822e/test/\n",
      "aws-amazon-braket-schemas-python-staging-6ffc1f24d0886b62d721a8c99fe2366d1f62822e/test/unit_tests/\n",
      "aws-amazon-braket-schemas-python-staging-6ffc1f24d0886b62d721a8c99fe2366d1f62822e/test/unit_tests/braket/\n",
      "aws-amazon-braket-schemas-python-staging-6ffc1f24d0886b62d721a8c99fe2366d1f62822e/test/unit_tests/braket/device_schema/\n",
      "aws-amazon-braket-schemas-python-staging-6ffc1f24d0886b62d721a8c99fe2366d1f62822e/test/unit_tests/braket/device_schema/dwave/\n",
      "aws-amazon-braket-schemas-python-staging-6ffc1f24d0886b62d721a8c99fe2366d1f62822e/test/unit_tests/braket/device_schema/dwave/test_dwave_2000Q_device_level_parameters_v1.py\n",
      "aws-amazon-braket-schemas-python-staging-6ffc1f24d0886b62d721a8c99fe2366d1f62822e/test/unit_tests/braket/device_schema/dwave/test_dwave_advantage_device_level_parameters_v1.py\n",
      "aws-amazon-braket-schemas-python-staging-6ffc1f24d0886b62d721a8c99fe2366d1f62822e/test/unit_tests/braket/device_schema/dwave/test_dwave_device_capabilities_v1.py\n",
      "aws-amazon-braket-schemas-python-staging-6ffc1f24d0886b62d721a8c99fe2366d1f62822e/test/unit_tests/braket/device_schema/dwave/test_dwave_device_parameters_v1.py\n",
      "aws-amazon-braket-schemas-python-staging-6ffc1f24d0886b62d721a8c99fe2366d1f62822e/test/unit_tests/braket/device_schema/dwave/test_dwave_provider_level_parameters_v1.py\n",
      "aws-amazon-braket-schemas-python-staging-6ffc1f24d0886b62d721a8c99fe2366d1f62822e/test/unit_tests/braket/device_schema/dwave/test_dwave_provider_properties_v1.py\n",
      "aws-amazon-braket-schemas-python-staging-6ffc1f24d0886b62d721a8c99fe2366d1f62822e/test/unit_tests/braket/device_schema/ionq/\n",
      "aws-amazon-braket-schemas-python-staging-6ffc1f24d0886b62d721a8c99fe2366d1f62822e/test/unit_tests/braket/device_schema/ionq/test_ionq_device_capabilities_v1.py\n",
      "aws-amazon-braket-schemas-python-staging-6ffc1f24d0886b62d721a8c99fe2366d1f62822e/test/unit_tests/braket/device_schema/ionq/test_ionq_device_parameters_v1.py\n",
      "aws-amazon-braket-schemas-python-staging-6ffc1f24d0886b62d721a8c99fe2366d1f62822e/test/unit_tests/braket/device_schema/ionq/test_ionq_provider_properties_v1.py\n",
      "aws-amazon-braket-schemas-python-staging-6ffc1f24d0886b62d721a8c99fe2366d1f62822e/test/unit_tests/braket/device_schema/rigetti/\n",
      "aws-amazon-braket-schemas-python-staging-6ffc1f24d0886b62d721a8c99fe2366d1f62822e/test/unit_tests/braket/device_schema/rigetti/test_rigetti_device_capabilities_v1.py\n",
      "aws-amazon-braket-schemas-python-staging-6ffc1f24d0886b62d721a8c99fe2366d1f62822e/test/unit_tests/braket/device_schema/rigetti/test_rigetti_device_parameters_v1.py\n",
      "aws-amazon-braket-schemas-python-staging-6ffc1f24d0886b62d721a8c99fe2366d1f62822e/test/unit_tests/braket/device_schema/rigetti/test_rigetti_provider_properties_v1.py\n",
      "aws-amazon-braket-schemas-python-staging-6ffc1f24d0886b62d721a8c99fe2366d1f62822e/test/unit_tests/braket/device_schema/simulator/\n",
      "aws-amazon-braket-schemas-python-staging-6ffc1f24d0886b62d721a8c99fe2366d1f62822e/test/unit_tests/braket/device_schema/simulator/test_gate_model_simulator_device_capabilities_v1.py\n",
      "aws-amazon-braket-schemas-python-staging-6ffc1f24d0886b62d721a8c99fe2366d1f62822e/test/unit_tests/braket/device_schema/simulator/test_gate_model_simulator_device_parameters_v1.py\n",
      "aws-amazon-braket-schemas-python-staging-6ffc1f24d0886b62d721a8c99fe2366d1f62822e/test/unit_tests/braket/device_schema/simulator/test_gate_model_simulator_paradigm_properties_v1.py\n",
      "aws-amazon-braket-schemas-python-staging-6ffc1f24d0886b62d721a8c99fe2366d1f62822e/test/unit_tests/braket/device_schema/test_device_action_properties.py\n",
      "aws-amazon-braket-schemas-python-staging-6ffc1f24d0886b62d721a8c99fe2366d1f62822e/test/unit_tests/braket/device_schema/test_device_capabilities.py\n",
      "aws-amazon-braket-schemas-python-staging-6ffc1f24d0886b62d721a8c99fe2366d1f62822e/test/unit_tests/braket/device_schema/test_device_connectivity.py\n",
      "aws-amazon-braket-schemas-python-staging-6ffc1f24d0886b62d721a8c99fe2366d1f62822e/test/unit_tests/braket/device_schema/test_device_execution_window.py\n",
      "aws-amazon-braket-schemas-python-staging-6ffc1f24d0886b62d721a8c99fe2366d1f62822e/test/unit_tests/braket/device_schema/test_device_service_properties_v1.py\n",
      "aws-amazon-braket-schemas-python-staging-6ffc1f24d0886b62d721a8c99fe2366d1f62822e/test/unit_tests/braket/device_schema/test_gate_model_parameters_v1.py\n",
      "aws-amazon-braket-schemas-python-staging-6ffc1f24d0886b62d721a8c99fe2366d1f62822e/test/unit_tests/braket/device_schema/test_gate_model_qpu_paradigm_properties_v1.py\n",
      "aws-amazon-braket-schemas-python-staging-6ffc1f24d0886b62d721a8c99fe2366d1f62822e/test/unit_tests/braket/device_schema/test_jaqcd_device_action_properties.py\n",
      "aws-amazon-braket-schemas-python-staging-6ffc1f24d0886b62d721a8c99fe2366d1f62822e/test/unit_tests/braket/ir/\n",
      "aws-amazon-braket-schemas-python-staging-6ffc1f24d0886b62d721a8c99fe2366d1f62822e/test/unit_tests/braket/ir/annealing/\n",
      "aws-amazon-braket-schemas-python-staging-6ffc1f24d0886b62d721a8c99fe2366d1f62822e/test/unit_tests/braket/ir/annealing/test_problem_v1.py\n",
      "aws-amazon-braket-schemas-python-staging-6ffc1f24d0886b62d721a8c99fe2366d1f62822e/test/unit_tests/braket/ir/jaqcd/\n",
      "aws-amazon-braket-schemas-python-staging-6ffc1f24d0886b62d721a8c99fe2366d1f62822e/test/unit_tests/braket/ir/jaqcd/test_angle.py\n",
      "aws-amazon-braket-schemas-python-staging-6ffc1f24d0886b62d721a8c99fe2366d1f62822e/test/unit_tests/braket/ir/jaqcd/test_common.py\n",
      "aws-amazon-braket-schemas-python-staging-6ffc1f24d0886b62d721a8c99fe2366d1f62822e/test/unit_tests/braket/ir/jaqcd/test_damping_probability.py\n",
      "aws-amazon-braket-schemas-python-staging-6ffc1f24d0886b62d721a8c99fe2366d1f62822e/test/unit_tests/braket/ir/jaqcd/test_double_control.py\n",
      "aws-amazon-braket-schemas-python-staging-6ffc1f24d0886b62d721a8c99fe2366d1f62822e/test/unit_tests/braket/ir/jaqcd/test_double_target.py\n",
      "aws-amazon-braket-schemas-python-staging-6ffc1f24d0886b62d721a8c99fe2366d1f62822e/test/unit_tests/braket/ir/jaqcd/test_multi_control.py\n",
      "aws-amazon-braket-schemas-python-staging-6ffc1f24d0886b62d721a8c99fe2366d1f62822e/test/unit_tests/braket/ir/jaqcd/test_multi_state.py\n",
      "aws-amazon-braket-schemas-python-staging-6ffc1f24d0886b62d721a8c99fe2366d1f62822e/test/unit_tests/braket/ir/jaqcd/test_multi_target.py\n",
      "aws-amazon-braket-schemas-python-staging-6ffc1f24d0886b62d721a8c99fe2366d1f62822e/test/unit_tests/braket/ir/jaqcd/test_observable.py\n",
      "aws-amazon-braket-schemas-python-staging-6ffc1f24d0886b62d721a8c99fe2366d1f62822e/test/unit_tests/braket/ir/jaqcd/test_optional_multi_target.py\n",
      "aws-amazon-braket-schemas-python-staging-6ffc1f24d0886b62d721a8c99fe2366d1f62822e/test/unit_tests/braket/ir/jaqcd/test_probability.py\n",
      "aws-amazon-braket-schemas-python-staging-6ffc1f24d0886b62d721a8c99fe2366d1f62822e/test/unit_tests/braket/ir/jaqcd/test_program_v1.py\n",
      "aws-amazon-braket-schemas-python-staging-6ffc1f24d0886b62d721a8c99fe2366d1f62822e/test/unit_tests/braket/ir/jaqcd/test_quantum_instructions.py\n",
      "aws-amazon-braket-schemas-python-staging-6ffc1f24d0886b62d721a8c99fe2366d1f62822e/test/unit_tests/braket/ir/jaqcd/test_results.py\n",
      "aws-amazon-braket-schemas-python-staging-6ffc1f24d0886b62d721a8c99fe2366d1f62822e/test/unit_tests/braket/ir/jaqcd/test_single_control.py\n",
      "aws-amazon-braket-schemas-python-staging-6ffc1f24d0886b62d721a8c99fe2366d1f62822e/test/unit_tests/braket/ir/jaqcd/test_single_probability.py\n",
      "aws-amazon-braket-schemas-python-staging-6ffc1f24d0886b62d721a8c99fe2366d1f62822e/test/unit_tests/braket/ir/jaqcd/test_single_target.py\n",
      "aws-amazon-braket-schemas-python-staging-6ffc1f24d0886b62d721a8c99fe2366d1f62822e/test/unit_tests/braket/ir/jaqcd/test_triple_probability.py\n",
      "aws-amazon-braket-schemas-python-staging-6ffc1f24d0886b62d721a8c99fe2366d1f62822e/test/unit_tests/braket/ir/jaqcd/test_two_dimensional_matrix.py\n",
      "aws-amazon-braket-schemas-python-staging-6ffc1f24d0886b62d721a8c99fe2366d1f62822e/test/unit_tests/braket/ir/jaqcd/test_two_dimensional_matrix_list.py\n",
      "aws-amazon-braket-schemas-python-staging-6ffc1f24d0886b62d721a8c99fe2366d1f62822e/test/unit_tests/braket/jobs_data/\n",
      "aws-amazon-braket-schemas-python-staging-6ffc1f24d0886b62d721a8c99fe2366d1f62822e/test/unit_tests/braket/jobs_data/test_persisted_job_data_v1.py\n",
      "aws-amazon-braket-schemas-python-staging-6ffc1f24d0886b62d721a8c99fe2366d1f62822e/test/unit_tests/braket/schema_common/\n",
      "aws-amazon-braket-schemas-python-staging-6ffc1f24d0886b62d721a8c99fe2366d1f62822e/test/unit_tests/braket/schema_common/conftest.py\n",
      "aws-amazon-braket-schemas-python-staging-6ffc1f24d0886b62d721a8c99fe2366d1f62822e/test/unit_tests/braket/schema_common/test_schema_base.py\n",
      "aws-amazon-braket-schemas-python-staging-6ffc1f24d0886b62d721a8c99fe2366d1f62822e/test/unit_tests/braket/schema_common/test_schema_header.py\n",
      "aws-amazon-braket-schemas-python-staging-6ffc1f24d0886b62d721a8c99fe2366d1f62822e/test/unit_tests/braket/task_result/\n",
      "aws-amazon-braket-schemas-python-staging-6ffc1f24d0886b62d721a8c99fe2366d1f62822e/test/unit_tests/braket/task_result/conftest.py\n",
      "aws-amazon-braket-schemas-python-staging-6ffc1f24d0886b62d721a8c99fe2366d1f62822e/test/unit_tests/braket/task_result/test_additional_metadata.py\n",
      "aws-amazon-braket-schemas-python-staging-6ffc1f24d0886b62d721a8c99fe2366d1f62822e/test/unit_tests/braket/task_result/test_annealing_task_result_v1.py\n",
      "aws-amazon-braket-schemas-python-staging-6ffc1f24d0886b62d721a8c99fe2366d1f62822e/test/unit_tests/braket/task_result/test_dwave_metadata_v1.py\n",
      "aws-amazon-braket-schemas-python-staging-6ffc1f24d0886b62d721a8c99fe2366d1f62822e/test/unit_tests/braket/task_result/test_gate_model_task_result_v1.py\n",
      "aws-amazon-braket-schemas-python-staging-6ffc1f24d0886b62d721a8c99fe2366d1f62822e/test/unit_tests/braket/task_result/test_rigetti_metadata_v1.py\n",
      "aws-amazon-braket-schemas-python-staging-6ffc1f24d0886b62d721a8c99fe2366d1f62822e/test/unit_tests/braket/task_result/test_simulator_metadata_v1.py\n",
      "aws-amazon-braket-schemas-python-staging-6ffc1f24d0886b62d721a8c99fe2366d1f62822e/test/unit_tests/braket/task_result/test_task_metadata_v1.py\n",
      "aws-amazon-braket-schemas-python-staging-6ffc1f24d0886b62d721a8c99fe2366d1f62822e/tox.ini\n",
      "Processing /opt/braket/additional_lib/extracted/amazon-braket-schemas-python\n",
      "  Installing build dependencies: started\n",
      "  Installing build dependencies: finished with status 'done'\n",
      "  Getting requirements to build wheel: started\n",
      "  Getting requirements to build wheel: finished with status 'done'\n",
      "  Preparing wheel metadata (pyproject.toml): started\n",
      "  Preparing wheel metadata (pyproject.toml): finished with status 'done'\n",
      "Requirement already satisfied: pydantic in /usr/local/lib/python3.7/site-packages (from amazon-braket-schemas==1.4.1.dev0) (1.8.2)\n",
      "Requirement already satisfied: typing-extensions>=3.7.4.3 in /usr/local/lib/python3.7/site-packages (from pydantic->amazon-braket-schemas==1.4.1.dev0) (3.10.0.2)\n",
      "Building wheels for collected packages: amazon-braket-schemas\n",
      "  Building wheel for amazon-braket-schemas (pyproject.toml): started\n",
      "  Building wheel for amazon-braket-schemas (pyproject.toml): finished with status 'done'\n",
      "  Created wheel for amazon-braket-schemas: filename=amazon_braket_schemas-1.4.1.dev0-py3-none-any.whl size=70390 sha256=4c6222097c383d3869047587f1632031ff104761328a9ee7ca13a2e6859c94ca\n",
      "  Stored in directory: /root/.cache/pip/wheels/57/98/0b/db999598ccda095c5cdec9bef611264ed23d8f0e37f3871d6f\n",
      "Successfully built amazon-braket-schemas\n",
      "Installing collected packages: amazon-braket-schemas\n",
      "  Attempting uninstall: amazon-braket-schemas\n",
      "    Found existing installation: amazon-braket-schemas 1.1.3\n",
      "    Uninstalling amazon-braket-schemas-1.1.3:\n",
      "      Successfully uninstalled amazon-braket-schemas-1.1.3\n",
      "Successfully installed amazon-braket-schemas-1.4.1.dev0\n",
      "download: s3://braket-external-assets-preview-us-west-2/HybridJobsAccess/libraries/amazon-braket-sdk-python.tar.gz to ../../braket/additional_lib/original/amazon-braket-sdk-python.tar.gz\n",
      "aws-amazon-braket-sdk-python-staging-3f885a942c09911b104eee053328733f34779fa6/.coveragerc\n",
      "aws-amazon-braket-sdk-python-staging-3f885a942c09911b104eee053328733f34779fa6/.github/\n",
      "aws-amazon-braket-sdk-python-staging-3f885a942c09911b104eee053328733f34779fa6/.github/ISSUE_TEMPLATE/\n",
      "aws-amazon-braket-sdk-python-staging-3f885a942c09911b104eee053328733f34779fa6/.github/ISSUE_TEMPLATE/bug_report.md\n",
      "aws-amazon-braket-sdk-python-staging-3f885a942c09911b104eee053328733f34779fa6/.github/ISSUE_TEMPLATE/config.yml\n",
      "aws-amazon-braket-sdk-python-staging-3f885a942c09911b104eee053328733f34779fa6/.github/ISSUE_TEMPLATE/documentation_request.md\n",
      "aws-amazon-braket-sdk-python-staging-3f885a942c09911b104eee053328733f34779fa6/.github/ISSUE_TEMPLATE/feature_request.md\n",
      "aws-amazon-braket-sdk-python-staging-3f885a942c09911b104eee053328733f34779fa6/.github/pull_request_template.md\n",
      "aws-amazon-braket-sdk-python-staging-3f885a942c09911b104eee053328733f34779fa6/.github/workflows/\n",
      "aws-amazon-braket-sdk-python-staging-3f885a942c09911b104eee053328733f34779fa6/.github/workflows/dependent-tests.yml\n",
      "aws-amazon-braket-sdk-python-staging-3f885a942c09911b104eee053328733f34779fa6/.github/workflows/publish-to-pypi.yml\n",
      "aws-amazon-braket-sdk-python-staging-3f885a942c09911b104eee053328733f34779fa6/.github/workflows/python-package.yml\n",
      "aws-amazon-braket-sdk-python-staging-3f885a942c09911b104eee053328733f34779fa6/.github/workflows/stale_issue.yml\n",
      "aws-amazon-braket-sdk-python-staging-3f885a942c09911b104eee053328733f34779fa6/.gitignore\n",
      "aws-amazon-braket-sdk-python-staging-3f885a942c09911b104eee053328733f34779fa6/.pre-commit-config.yaml\n",
      "aws-amazon-braket-sdk-python-staging-3f885a942c09911b104eee053328733f34779fa6/.readthedocs.yml\n",
      "aws-amazon-braket-sdk-python-staging-3f885a942c09911b104eee053328733f34779fa6/CHANGELOG.md\n",
      "aws-amazon-braket-sdk-python-staging-3f885a942c09911b104eee053328733f34779fa6/CODEOWNERS\n",
      "aws-amazon-braket-sdk-python-staging-3f885a942c09911b104eee053328733f34779fa6/CODE_OF_CONDUCT.md\n",
      "aws-amazon-braket-sdk-python-staging-3f885a942c09911b104eee053328733f34779fa6/CONTRIBUTING.md\n",
      "aws-amazon-braket-sdk-python-staging-3f885a942c09911b104eee053328733f34779fa6/LICENSE\n",
      "aws-amazon-braket-sdk-python-staging-3f885a942c09911b104eee053328733f34779fa6/MANIFEST.in\n",
      "aws-amazon-braket-sdk-python-staging-3f885a942c09911b104eee053328733f34779fa6/NOTICE\n",
      "aws-amazon-braket-sdk-python-staging-3f885a942c09911b104eee053328733f34779fa6/README.md\n",
      "aws-amazon-braket-sdk-python-staging-3f885a942c09911b104eee053328733f34779fa6/bin/\n",
      "aws-amazon-braket-sdk-python-staging-3f885a942c09911b104eee053328733f34779fa6/bin/apply-header.py\n",
      "aws-amazon-braket-sdk-python-staging-3f885a942c09911b104eee053328733f34779fa6/doc/\n",
      "aws-amazon-braket-sdk-python-staging-3f885a942c09911b104eee053328733f34779fa6/doc/Makefile\n",
      "aws-amazon-braket-sdk-python-staging-3f885a942c09911b104eee053328733f34779fa6/doc/conf.py\n",
      "aws-amazon-braket-sdk-python-staging-3f885a942c09911b104eee053328733f34779fa6/doc/examples-adv-circuits-algorithms.rst\n",
      "aws-amazon-braket-sdk-python-staging-3f885a942c09911b104eee053328733f34779fa6/doc/examples-braket-features.rst\n",
      "aws-amazon-braket-sdk-python-staging-3f885a942c09911b104eee053328733f34779fa6/doc/examples-getting-started.rst\n",
      "aws-amazon-braket-sdk-python-staging-3f885a942c09911b104eee053328733f34779fa6/doc/examples-hybrid-quantum.rst\n",
      "aws-amazon-braket-sdk-python-staging-3f885a942c09911b104eee053328733f34779fa6/doc/examples-ml-pennylane.rst\n",
      "aws-amazon-braket-sdk-python-staging-3f885a942c09911b104eee053328733f34779fa6/doc/examples-quantum-annealing-dwave.rst\n",
      "aws-amazon-braket-sdk-python-staging-3f885a942c09911b104eee053328733f34779fa6/doc/examples.rst\n",
      "aws-amazon-braket-sdk-python-staging-3f885a942c09911b104eee053328733f34779fa6/doc/getting-started.rst\n",
      "aws-amazon-braket-sdk-python-staging-3f885a942c09911b104eee053328733f34779fa6/doc/index.rst\n",
      "aws-amazon-braket-sdk-python-staging-3f885a942c09911b104eee053328733f34779fa6/doc/requirements.txt\n",
      "aws-amazon-braket-sdk-python-staging-3f885a942c09911b104eee053328733f34779fa6/examples/\n",
      "aws-amazon-braket-sdk-python-staging-3f885a942c09911b104eee053328733f34779fa6/examples/bell.py\n",
      "aws-amazon-braket-sdk-python-staging-3f885a942c09911b104eee053328733f34779fa6/examples/bell_result_types.py\n",
      "aws-amazon-braket-sdk-python-staging-3f885a942c09911b104eee053328733f34779fa6/examples/debug_bell.py\n",
      "aws-amazon-braket-sdk-python-staging-3f885a942c09911b104eee053328733f34779fa6/examples/jobs/\n",
      "aws-amazon-braket-sdk-python-staging-3f885a942c09911b104eee053328733f34779fa6/examples/jobs/algorithm_script.py\n",
      "aws-amazon-braket-sdk-python-staging-3f885a942c09911b104eee053328733f34779fa6/examples/jobs/orchestration.ipynb\n",
      "aws-amazon-braket-sdk-python-staging-3f885a942c09911b104eee053328733f34779fa6/examples/jobs/qaoa_orchestration.ipynb\n",
      "aws-amazon-braket-sdk-python-staging-3f885a942c09911b104eee053328733f34779fa6/examples/jobs/qaoa_source/\n",
      "aws-amazon-braket-sdk-python-staging-3f885a942c09911b104eee053328733f34779fa6/examples/jobs/qaoa_source/qaoa_algorithm_script.py\n",
      "aws-amazon-braket-sdk-python-staging-3f885a942c09911b104eee053328733f34779fa6/examples/jobs/qaoa_source/qaoa_utils.py\n",
      "aws-amazon-braket-sdk-python-staging-3f885a942c09911b104eee053328733f34779fa6/examples/local_bell.py\n",
      "aws-amazon-braket-sdk-python-staging-3f885a942c09911b104eee053328733f34779fa6/examples/local_noise_simulation.py\n",
      "aws-amazon-braket-sdk-python-staging-3f885a942c09911b104eee053328733f34779fa6/pyproject.toml\n",
      "aws-amazon-braket-sdk-python-staging-3f885a942c09911b104eee053328733f34779fa6/setup.cfg\n",
      "aws-amazon-braket-sdk-python-staging-3f885a942c09911b104eee053328733f34779fa6/setup.py\n",
      "aws-amazon-braket-sdk-python-staging-3f885a942c09911b104eee053328733f34779fa6/src/\n",
      "aws-amazon-braket-sdk-python-staging-3f885a942c09911b104eee053328733f34779fa6/src/braket/\n",
      "aws-amazon-braket-sdk-python-staging-3f885a942c09911b104eee053328733f34779fa6/src/braket/_sdk/\n",
      "aws-amazon-braket-sdk-python-staging-3f885a942c09911b104eee053328733f34779fa6/src/braket/_sdk/__init__.py\n",
      "aws-amazon-braket-sdk-python-staging-3f885a942c09911b104eee053328733f34779fa6/src/braket/_sdk/_version.py\n",
      "aws-amazon-braket-sdk-python-staging-3f885a942c09911b104eee053328733f34779fa6/src/braket/annealing/\n",
      "aws-amazon-braket-sdk-python-staging-3f885a942c09911b104eee053328733f34779fa6/src/braket/annealing/__init__.py\n",
      "aws-amazon-braket-sdk-python-staging-3f885a942c09911b104eee053328733f34779fa6/src/braket/annealing/problem.py\n",
      "aws-amazon-braket-sdk-python-staging-3f885a942c09911b104eee053328733f34779fa6/src/braket/aws/\n",
      "aws-amazon-braket-sdk-python-staging-3f885a942c09911b104eee053328733f34779fa6/src/braket/aws/__init__.py\n",
      "aws-amazon-braket-sdk-python-staging-3f885a942c09911b104eee053328733f34779fa6/src/braket/aws/aws_device.py\n",
      "aws-amazon-braket-sdk-python-staging-3f885a942c09911b104eee053328733f34779fa6/src/braket/aws/aws_quantum_job.py\n",
      "aws-amazon-braket-sdk-python-staging-3f885a942c09911b104eee053328733f34779fa6/src/braket/aws/aws_quantum_task.py\n",
      "aws-amazon-braket-sdk-python-staging-3f885a942c09911b104eee053328733f34779fa6/src/braket/aws/aws_quantum_task_batch.py\n",
      "aws-amazon-braket-sdk-python-staging-3f885a942c09911b104eee053328733f34779fa6/src/braket/aws/aws_session.py\n",
      "aws-amazon-braket-sdk-python-staging-3f885a942c09911b104eee053328733f34779fa6/src/braket/circuits/\n",
      "aws-amazon-braket-sdk-python-staging-3f885a942c09911b104eee053328733f34779fa6/src/braket/circuits/__init__.py\n",
      "aws-amazon-braket-sdk-python-staging-3f885a942c09911b104eee053328733f34779fa6/src/braket/circuits/angled_gate.py\n",
      "aws-amazon-braket-sdk-python-staging-3f885a942c09911b104eee053328733f34779fa6/src/braket/circuits/ascii_circuit_diagram.py\n",
      "aws-amazon-braket-sdk-python-staging-3f885a942c09911b104eee053328733f34779fa6/src/braket/circuits/circuit.py\n",
      "aws-amazon-braket-sdk-python-staging-3f885a942c09911b104eee053328733f34779fa6/src/braket/circuits/circuit_diagram.py\n",
      "aws-amazon-braket-sdk-python-staging-3f885a942c09911b104eee053328733f34779fa6/src/braket/circuits/circuit_helpers.py\n",
      "aws-amazon-braket-sdk-python-staging-3f885a942c09911b104eee053328733f34779fa6/src/braket/circuits/compiler_directive.py\n",
      "aws-amazon-braket-sdk-python-staging-3f885a942c09911b104eee053328733f34779fa6/src/braket/circuits/compiler_directives.py\n",
      "aws-amazon-braket-sdk-python-staging-3f885a942c09911b104eee053328733f34779fa6/src/braket/circuits/gate.py\n",
      "aws-amazon-braket-sdk-python-staging-3f885a942c09911b104eee053328733f34779fa6/src/braket/circuits/gates.py\n",
      "aws-amazon-braket-sdk-python-staging-3f885a942c09911b104eee053328733f34779fa6/src/braket/circuits/instruction.py\n",
      "aws-amazon-braket-sdk-python-staging-3f885a942c09911b104eee053328733f34779fa6/src/braket/circuits/moments.py\n",
      "aws-amazon-braket-sdk-python-staging-3f885a942c09911b104eee053328733f34779fa6/src/braket/circuits/noise.py\n",
      "aws-amazon-braket-sdk-python-staging-3f885a942c09911b104eee053328733f34779fa6/src/braket/circuits/noise_helpers.py\n",
      "aws-amazon-braket-sdk-python-staging-3f885a942c09911b104eee053328733f34779fa6/src/braket/circuits/noises.py\n",
      "aws-amazon-braket-sdk-python-staging-3f885a942c09911b104eee053328733f34779fa6/src/braket/circuits/observable.py\n",
      "aws-amazon-braket-sdk-python-staging-3f885a942c09911b104eee053328733f34779fa6/src/braket/circuits/observables.py\n",
      "aws-amazon-braket-sdk-python-staging-3f885a942c09911b104eee053328733f34779fa6/src/braket/circuits/operator.py\n",
      "aws-amazon-braket-sdk-python-staging-3f885a942c09911b104eee053328733f34779fa6/src/braket/circuits/quantum_operator.py\n",
      "aws-amazon-braket-sdk-python-staging-3f885a942c09911b104eee053328733f34779fa6/src/braket/circuits/quantum_operator_helpers.py\n",
      "aws-amazon-braket-sdk-python-staging-3f885a942c09911b104eee053328733f34779fa6/src/braket/circuits/qubit.py\n",
      "aws-amazon-braket-sdk-python-staging-3f885a942c09911b104eee053328733f34779fa6/src/braket/circuits/qubit_set.py\n",
      "aws-amazon-braket-sdk-python-staging-3f885a942c09911b104eee053328733f34779fa6/src/braket/circuits/result_type.py\n",
      "aws-amazon-braket-sdk-python-staging-3f885a942c09911b104eee053328733f34779fa6/src/braket/circuits/result_types.py\n",
      "aws-amazon-braket-sdk-python-staging-3f885a942c09911b104eee053328733f34779fa6/src/braket/circuits/unitary_calculation.py\n",
      "aws-amazon-braket-sdk-python-staging-3f885a942c09911b104eee053328733f34779fa6/src/braket/devices/\n",
      "aws-amazon-braket-sdk-python-staging-3f885a942c09911b104eee053328733f34779fa6/src/braket/devices/__init__.py\n",
      "aws-amazon-braket-sdk-python-staging-3f885a942c09911b104eee053328733f34779fa6/src/braket/devices/device.py\n",
      "aws-amazon-braket-sdk-python-staging-3f885a942c09911b104eee053328733f34779fa6/src/braket/devices/local_simulator.py\n",
      "aws-amazon-braket-sdk-python-staging-3f885a942c09911b104eee053328733f34779fa6/src/braket/ipython_utils.py\n",
      "aws-amazon-braket-sdk-python-staging-3f885a942c09911b104eee053328733f34779fa6/src/braket/jobs/\n",
      "aws-amazon-braket-sdk-python-staging-3f885a942c09911b104eee053328733f34779fa6/src/braket/jobs/__init__.py\n",
      "aws-amazon-braket-sdk-python-staging-3f885a942c09911b104eee053328733f34779fa6/src/braket/jobs/config.py\n",
      "aws-amazon-braket-sdk-python-staging-3f885a942c09911b104eee053328733f34779fa6/src/braket/jobs/data_persistence.py\n",
      "aws-amazon-braket-sdk-python-staging-3f885a942c09911b104eee053328733f34779fa6/src/braket/jobs/image_uri_config/\n",
      "aws-amazon-braket-sdk-python-staging-3f885a942c09911b104eee053328733f34779fa6/src/braket/jobs/image_uri_config/base.json\n",
      "aws-amazon-braket-sdk-python-staging-3f885a942c09911b104eee053328733f34779fa6/src/braket/jobs/image_uri_config/pl_pytorch.json\n",
      "aws-amazon-braket-sdk-python-staging-3f885a942c09911b104eee053328733f34779fa6/src/braket/jobs/image_uri_config/pl_tensorflow.json\n",
      "aws-amazon-braket-sdk-python-staging-3f885a942c09911b104eee053328733f34779fa6/src/braket/jobs/image_uris.py\n",
      "aws-amazon-braket-sdk-python-staging-3f885a942c09911b104eee053328733f34779fa6/src/braket/jobs/local/\n",
      "aws-amazon-braket-sdk-python-staging-3f885a942c09911b104eee053328733f34779fa6/src/braket/jobs/local/__init__.py\n",
      "aws-amazon-braket-sdk-python-staging-3f885a942c09911b104eee053328733f34779fa6/src/braket/jobs/local/local_job.py\n",
      "aws-amazon-braket-sdk-python-staging-3f885a942c09911b104eee053328733f34779fa6/src/braket/jobs/local/local_job_container.py\n",
      "aws-amazon-braket-sdk-python-staging-3f885a942c09911b104eee053328733f34779fa6/src/braket/jobs/local/local_job_container_setup.py\n",
      "aws-amazon-braket-sdk-python-staging-3f885a942c09911b104eee053328733f34779fa6/src/braket/jobs/logs.py\n",
      "aws-amazon-braket-sdk-python-staging-3f885a942c09911b104eee053328733f34779fa6/src/braket/jobs/metrics.py\n",
      "aws-amazon-braket-sdk-python-staging-3f885a942c09911b104eee053328733f34779fa6/src/braket/jobs/metrics_data/\n",
      "aws-amazon-braket-sdk-python-staging-3f885a942c09911b104eee053328733f34779fa6/src/braket/jobs/metrics_data/__init__.py\n",
      "aws-amazon-braket-sdk-python-staging-3f885a942c09911b104eee053328733f34779fa6/src/braket/jobs/metrics_data/cwl_insights_metrics_fetcher.py\n",
      "aws-amazon-braket-sdk-python-staging-3f885a942c09911b104eee053328733f34779fa6/src/braket/jobs/metrics_data/cwl_metrics_fetcher.py\n",
      "aws-amazon-braket-sdk-python-staging-3f885a942c09911b104eee053328733f34779fa6/src/braket/jobs/metrics_data/definitions.py\n",
      "aws-amazon-braket-sdk-python-staging-3f885a942c09911b104eee053328733f34779fa6/src/braket/jobs/metrics_data/exceptions.py\n",
      "aws-amazon-braket-sdk-python-staging-3f885a942c09911b104eee053328733f34779fa6/src/braket/jobs/metrics_data/log_metrics_parser.py\n",
      "aws-amazon-braket-sdk-python-staging-3f885a942c09911b104eee053328733f34779fa6/src/braket/jobs/quantum_job.py\n",
      "aws-amazon-braket-sdk-python-staging-3f885a942c09911b104eee053328733f34779fa6/src/braket/jobs/quantum_job_creation.py\n",
      "aws-amazon-braket-sdk-python-staging-3f885a942c09911b104eee053328733f34779fa6/src/braket/jobs/serialization.py\n",
      "aws-amazon-braket-sdk-python-staging-3f885a942c09911b104eee053328733f34779fa6/src/braket/tasks/\n",
      "aws-amazon-braket-sdk-python-staging-3f885a942c09911b104eee053328733f34779fa6/src/braket/tasks/__init__.py\n",
      "aws-amazon-braket-sdk-python-staging-3f885a942c09911b104eee053328733f34779fa6/src/braket/tasks/annealing_quantum_task_result.py\n",
      "aws-amazon-braket-sdk-python-staging-3f885a942c09911b104eee053328733f34779fa6/src/braket/tasks/gate_model_quantum_task_result.py\n",
      "aws-amazon-braket-sdk-python-staging-3f885a942c09911b104eee053328733f34779fa6/src/braket/tasks/local_quantum_task.py\n",
      "aws-amazon-braket-sdk-python-staging-3f885a942c09911b104eee053328733f34779fa6/src/braket/tasks/quantum_task.py\n",
      "aws-amazon-braket-sdk-python-staging-3f885a942c09911b104eee053328733f34779fa6/test/\n",
      "aws-amazon-braket-sdk-python-staging-3f885a942c09911b104eee053328733f34779fa6/test/integ_tests/\n",
      "aws-amazon-braket-sdk-python-staging-3f885a942c09911b104eee053328733f34779fa6/test/integ_tests/conftest.py\n",
      "aws-amazon-braket-sdk-python-staging-3f885a942c09911b104eee053328733f34779fa6/test/integ_tests/gate_model_device_testing_utils.py\n",
      "aws-amazon-braket-sdk-python-staging-3f885a942c09911b104eee053328733f34779fa6/test/integ_tests/job_test_script.py\n",
      "aws-amazon-braket-sdk-python-staging-3f885a942c09911b104eee053328733f34779fa6/test/integ_tests/test_aws_session_s3.py\n",
      "aws-amazon-braket-sdk-python-staging-3f885a942c09911b104eee053328733f34779fa6/test/integ_tests/test_create_local_quantum_job.py\n",
      "aws-amazon-braket-sdk-python-staging-3f885a942c09911b104eee053328733f34779fa6/test/integ_tests/test_create_quantum_job.py\n",
      "aws-amazon-braket-sdk-python-staging-3f885a942c09911b104eee053328733f34779fa6/test/integ_tests/test_device_creation.py\n",
      "aws-amazon-braket-sdk-python-staging-3f885a942c09911b104eee053328733f34779fa6/test/integ_tests/test_local_braket_simulator.py\n",
      "aws-amazon-braket-sdk-python-staging-3f885a942c09911b104eee053328733f34779fa6/test/integ_tests/test_local_noise_simulator.py\n",
      "aws-amazon-braket-sdk-python-staging-3f885a942c09911b104eee053328733f34779fa6/test/integ_tests/test_simulator_quantum_task.py\n",
      "aws-amazon-braket-sdk-python-staging-3f885a942c09911b104eee053328733f34779fa6/test/integ_tests/test_tensor_network_simulator.py\n",
      "aws-amazon-braket-sdk-python-staging-3f885a942c09911b104eee053328733f34779fa6/test/unit_tests/\n",
      "aws-amazon-braket-sdk-python-staging-3f885a942c09911b104eee053328733f34779fa6/test/unit_tests/braket/\n",
      "aws-amazon-braket-sdk-python-staging-3f885a942c09911b104eee053328733f34779fa6/test/unit_tests/braket/annealing/\n",
      "aws-amazon-braket-sdk-python-staging-3f885a942c09911b104eee053328733f34779fa6/test/unit_tests/braket/annealing/test_problem.py\n",
      "aws-amazon-braket-sdk-python-staging-3f885a942c09911b104eee053328733f34779fa6/test/unit_tests/braket/aws/\n",
      "aws-amazon-braket-sdk-python-staging-3f885a942c09911b104eee053328733f34779fa6/test/unit_tests/braket/aws/common_test_utils.py\n",
      "aws-amazon-braket-sdk-python-staging-3f885a942c09911b104eee053328733f34779fa6/test/unit_tests/braket/aws/test_aws_device.py\n",
      "aws-amazon-braket-sdk-python-staging-3f885a942c09911b104eee053328733f34779fa6/test/unit_tests/braket/aws/test_aws_quantum_job.py\n",
      "aws-amazon-braket-sdk-python-staging-3f885a942c09911b104eee053328733f34779fa6/test/unit_tests/braket/aws/test_aws_quantum_task.py\n",
      "aws-amazon-braket-sdk-python-staging-3f885a942c09911b104eee053328733f34779fa6/test/unit_tests/braket/aws/test_aws_quantum_task_batch.py\n",
      "aws-amazon-braket-sdk-python-staging-3f885a942c09911b104eee053328733f34779fa6/test/unit_tests/braket/aws/test_aws_session.py\n",
      "aws-amazon-braket-sdk-python-staging-3f885a942c09911b104eee053328733f34779fa6/test/unit_tests/braket/circuits/\n",
      "aws-amazon-braket-sdk-python-staging-3f885a942c09911b104eee053328733f34779fa6/test/unit_tests/braket/circuits/test_angled_gate.py\n",
      "aws-amazon-braket-sdk-python-staging-3f885a942c09911b104eee053328733f34779fa6/test/unit_tests/braket/circuits/test_ascii_circuit_diagram.py\n",
      "aws-amazon-braket-sdk-python-staging-3f885a942c09911b104eee053328733f34779fa6/test/unit_tests/braket/circuits/test_circuit.py\n",
      "aws-amazon-braket-sdk-python-staging-3f885a942c09911b104eee053328733f34779fa6/test/unit_tests/braket/circuits/test_circuit_helpers.py\n",
      "aws-amazon-braket-sdk-python-staging-3f885a942c09911b104eee053328733f34779fa6/test/unit_tests/braket/circuits/test_compiler_directive.py\n",
      "aws-amazon-braket-sdk-python-staging-3f885a942c09911b104eee053328733f34779fa6/test/unit_tests/braket/circuits/test_compiler_directives.py\n",
      "aws-amazon-braket-sdk-python-staging-3f885a942c09911b104eee053328733f34779fa6/test/unit_tests/braket/circuits/test_gate.py\n",
      "aws-amazon-braket-sdk-python-staging-3f885a942c09911b104eee053328733f34779fa6/test/unit_tests/braket/circuits/test_gates.py\n",
      "aws-amazon-braket-sdk-python-staging-3f885a942c09911b104eee053328733f34779fa6/test/unit_tests/braket/circuits/test_instruction.py\n",
      "aws-amazon-braket-sdk-python-staging-3f885a942c09911b104eee053328733f34779fa6/test/unit_tests/braket/circuits/test_moments.py\n",
      "aws-amazon-braket-sdk-python-staging-3f885a942c09911b104eee053328733f34779fa6/test/unit_tests/braket/circuits/test_noise.py\n",
      "aws-amazon-braket-sdk-python-staging-3f885a942c09911b104eee053328733f34779fa6/test/unit_tests/braket/circuits/test_noise_helpers.py\n",
      "aws-amazon-braket-sdk-python-staging-3f885a942c09911b104eee053328733f34779fa6/test/unit_tests/braket/circuits/test_noises.py\n",
      "aws-amazon-braket-sdk-python-staging-3f885a942c09911b104eee053328733f34779fa6/test/unit_tests/braket/circuits/test_observable.py\n",
      "aws-amazon-braket-sdk-python-staging-3f885a942c09911b104eee053328733f34779fa6/test/unit_tests/braket/circuits/test_observables.py\n",
      "aws-amazon-braket-sdk-python-staging-3f885a942c09911b104eee053328733f34779fa6/test/unit_tests/braket/circuits/test_quantum_operator.py\n",
      "aws-amazon-braket-sdk-python-staging-3f885a942c09911b104eee053328733f34779fa6/test/unit_tests/braket/circuits/test_quantum_operator_helpers.py\n",
      "aws-amazon-braket-sdk-python-staging-3f885a942c09911b104eee053328733f34779fa6/test/unit_tests/braket/circuits/test_qubit.py\n",
      "aws-amazon-braket-sdk-python-staging-3f885a942c09911b104eee053328733f34779fa6/test/unit_tests/braket/circuits/test_qubit_set.py\n",
      "aws-amazon-braket-sdk-python-staging-3f885a942c09911b104eee053328733f34779fa6/test/unit_tests/braket/circuits/test_result_type.py\n",
      "aws-amazon-braket-sdk-python-staging-3f885a942c09911b104eee053328733f34779fa6/test/unit_tests/braket/circuits/test_result_types.py\n",
      "aws-amazon-braket-sdk-python-staging-3f885a942c09911b104eee053328733f34779fa6/test/unit_tests/braket/devices/\n",
      "aws-amazon-braket-sdk-python-staging-3f885a942c09911b104eee053328733f34779fa6/test/unit_tests/braket/devices/test_local_simulator.py\n",
      "aws-amazon-braket-sdk-python-staging-3f885a942c09911b104eee053328733f34779fa6/test/unit_tests/braket/jobs/\n",
      "aws-amazon-braket-sdk-python-staging-3f885a942c09911b104eee053328733f34779fa6/test/unit_tests/braket/jobs/local/\n",
      "aws-amazon-braket-sdk-python-staging-3f885a942c09911b104eee053328733f34779fa6/test/unit_tests/braket/jobs/local/test_local_job.py\n",
      "aws-amazon-braket-sdk-python-staging-3f885a942c09911b104eee053328733f34779fa6/test/unit_tests/braket/jobs/local/test_local_job_container.py\n",
      "aws-amazon-braket-sdk-python-staging-3f885a942c09911b104eee053328733f34779fa6/test/unit_tests/braket/jobs/local/test_local_job_container_setup.py\n",
      "aws-amazon-braket-sdk-python-staging-3f885a942c09911b104eee053328733f34779fa6/test/unit_tests/braket/jobs/metrics_data/\n",
      "aws-amazon-braket-sdk-python-staging-3f885a942c09911b104eee053328733f34779fa6/test/unit_tests/braket/jobs/metrics_data/test_cwl_insights_metrics_fetcher.py\n",
      "aws-amazon-braket-sdk-python-staging-3f885a942c09911b104eee053328733f34779fa6/test/unit_tests/braket/jobs/metrics_data/test_cwl_metrics_fetcher.py\n",
      "aws-amazon-braket-sdk-python-staging-3f885a942c09911b104eee053328733f34779fa6/test/unit_tests/braket/jobs/metrics_data/test_log_metrics_parser.py\n",
      "aws-amazon-braket-sdk-python-staging-3f885a942c09911b104eee053328733f34779fa6/test/unit_tests/braket/jobs/test_data_persistence.py\n",
      "aws-amazon-braket-sdk-python-staging-3f885a942c09911b104eee053328733f34779fa6/test/unit_tests/braket/jobs/test_image_uris.py\n",
      "aws-amazon-braket-sdk-python-staging-3f885a942c09911b104eee053328733f34779fa6/test/unit_tests/braket/jobs/test_metrics.py\n",
      "aws-amazon-braket-sdk-python-staging-3f885a942c09911b104eee053328733f34779fa6/test/unit_tests/braket/jobs/test_quantum_job_creation.py\n",
      "aws-amazon-braket-sdk-python-staging-3f885a942c09911b104eee053328733f34779fa6/test/unit_tests/braket/jobs/test_serialization.py\n",
      "aws-amazon-braket-sdk-python-staging-3f885a942c09911b104eee053328733f34779fa6/test/unit_tests/braket/tasks/\n",
      "aws-amazon-braket-sdk-python-staging-3f885a942c09911b104eee053328733f34779fa6/test/unit_tests/braket/tasks/test_annealing_quantum_task_result.py\n",
      "aws-amazon-braket-sdk-python-staging-3f885a942c09911b104eee053328733f34779fa6/test/unit_tests/braket/tasks/test_gate_model_quantum_task_result.py\n",
      "aws-amazon-braket-sdk-python-staging-3f885a942c09911b104eee053328733f34779fa6/test/unit_tests/braket/tasks/test_local_quantum_task.py\n",
      "aws-amazon-braket-sdk-python-staging-3f885a942c09911b104eee053328733f34779fa6/test/unit_tests/braket/tasks/test_tasks_init.py\n",
      "aws-amazon-braket-sdk-python-staging-3f885a942c09911b104eee053328733f34779fa6/test/unit_tests/braket/test_ipython_utils.py\n",
      "aws-amazon-braket-sdk-python-staging-3f885a942c09911b104eee053328733f34779fa6/tox.ini\n",
      "Processing /opt/braket/additional_lib/extracted/amazon-braket-sdk-python\n",
      "  Installing build dependencies: started\n",
      "  Installing build dependencies: finished with status 'done'\n",
      "  Getting requirements to build wheel: started\n",
      "  Getting requirements to build wheel: finished with status 'done'\n",
      "  Preparing wheel metadata (pyproject.toml): started\n",
      "  Preparing wheel metadata (pyproject.toml): finished with status 'done'\n",
      "Requirement already satisfied: boltons in /usr/local/lib/python3.7/site-packages (from amazon-braket-sdk==1.9.6.dev0) (21.0.0)\n",
      "Requirement already satisfied: networkx in /usr/local/lib/python3.7/site-packages (from amazon-braket-sdk==1.9.6.dev0) (2.6.3)\n",
      "Collecting coverage==5.5\n",
      "  Downloading coverage-5.5-cp37-cp37m-manylinux2010_x86_64.whl (242 kB)\n",
      "Requirement already satisfied: boto3 in /usr/local/lib/python3.7/site-packages (from amazon-braket-sdk==1.9.6.dev0) (1.18.33)\n",
      "Requirement already satisfied: nest-asyncio in /usr/local/lib/python3.7/site-packages (from amazon-braket-sdk==1.9.6.dev0) (1.5.1)\n",
      "Requirement already satisfied: amazon-braket-default-simulator in /usr/local/lib/python3.7/site-packages (from amazon-braket-sdk==1.9.6.dev0) (1.1.1.post2)\n",
      "Requirement already satisfied: numpy in /usr/local/lib/python3.7/site-packages (from amazon-braket-sdk==1.9.6.dev0) (1.19.2)\n",
      "Requirement already satisfied: backoff in /usr/local/lib/python3.7/site-packages (from amazon-braket-sdk==1.9.6.dev0) (1.11.1)\n",
      "Requirement already satisfied: amazon-braket-schemas in /usr/local/lib/python3.7/site-packages (from amazon-braket-default-simulator->amazon-braket-sdk==1.9.6.dev0) (1.4.1.dev0)\n",
      "Requirement already satisfied: opt-einsum in /usr/local/lib/python3.7/site-packages (from amazon-braket-default-simulator->amazon-braket-sdk==1.9.6.dev0) (3.3.0)\n",
      "Requirement already satisfied: s3transfer<0.6.0,>=0.5.0 in /usr/local/lib/python3.7/site-packages (from boto3->amazon-braket-sdk==1.9.6.dev0) (0.5.0)\n",
      "Requirement already satisfied: botocore<1.22.0,>=1.21.33 in /usr/local/lib/python3.7/site-packages (from boto3->amazon-braket-sdk==1.9.6.dev0) (1.21.33)\n",
      "Requirement already satisfied: jmespath<1.0.0,>=0.7.1 in /usr/local/lib/python3.7/site-packages (from boto3->amazon-braket-sdk==1.9.6.dev0) (0.10.0)\n",
      "Requirement already satisfied: python-dateutil<3.0.0,>=2.1 in /usr/local/lib/python3.7/site-packages (from botocore<1.22.0,>=1.21.33->boto3->amazon-braket-sdk==1.9.6.dev0) (2.8.2)\n",
      "Requirement already satisfied: urllib3<1.27,>=1.25.4 in /usr/local/lib/python3.7/site-packages (from botocore<1.22.0,>=1.21.33->boto3->amazon-braket-sdk==1.9.6.dev0) (1.26.7)\n",
      "Requirement already satisfied: pydantic in /usr/local/lib/python3.7/site-packages (from amazon-braket-schemas->amazon-braket-default-simulator->amazon-braket-sdk==1.9.6.dev0) (1.8.2)\n",
      "Requirement already satisfied: six>=1.5 in /usr/local/lib/python3.7/site-packages (from python-dateutil<3.0.0,>=2.1->botocore<1.22.0,>=1.21.33->boto3->amazon-braket-sdk==1.9.6.dev0) (1.16.0)\n",
      "Requirement already satisfied: typing-extensions>=3.7.4.3 in /usr/local/lib/python3.7/site-packages (from pydantic->amazon-braket-schemas->amazon-braket-default-simulator->amazon-braket-sdk==1.9.6.dev0) (3.10.0.2)\n",
      "Building wheels for collected packages: amazon-braket-sdk\n",
      "  Building wheel for amazon-braket-sdk (pyproject.toml): started\n",
      "  Building wheel for amazon-braket-sdk (pyproject.toml): finished with status 'done'\n",
      "  Created wheel for amazon-braket-sdk: filename=amazon_braket_sdk-1.9.6.dev0-py3-none-any.whl size=151851 sha256=ac9ec8ba01e73d21a5d5e54d73fecc8581e9c4be5c16bc3d8f985e5fa1d4bc00\n",
      "  Stored in directory: /root/.cache/pip/wheels/9d/50/f5/3223a6160b514ea71c23d922bbf17833e4a90280c1787b0aaf\n",
      "Successfully built amazon-braket-sdk\n",
      "Installing collected packages: coverage, amazon-braket-sdk\n",
      "  Attempting uninstall: amazon-braket-sdk\n",
      "    Found existing installation: amazon-braket-sdk 1.5.15\n",
      "    Uninstalling amazon-braket-sdk-1.5.15:\n",
      "      Successfully uninstalled amazon-braket-sdk-1.5.15\n",
      "Successfully installed amazon-braket-sdk-1.9.6.dev0 coverage-5.5\n",
      "download: s3://braket-external-assets-preview-us-west-2/HybridJobsAccess/models/braket-2019-09-01.normal.json to ../../braket/additional_lib/original/braket-2019-09-01.normal.json\n",
      "Running Code As Subprocess\n",
      "Test job started!!!!!\n",
      "Counter({'0': 98, '1': 2})\n",
      "Counter({'0': 87, '1': 13})\n",
      "Counter({'1': 73, '0': 27})\n",
      "Counter({'0': 90, '1': 10})\n",
      "Counter({'0': 100})\n",
      "Test job completed!!!!!\n",
      "Code Run Finished\n"
     ]
    }
   ],
   "source": [
    "from braket.jobs.local.local_job import LocalQuantumJob\n",
    "\n",
    "# This cell should take about 2 min\n",
    "job = LocalQuantumJob.create(\n",
    "    device=\"arn:aws:braket:::device/quantum-simulator/amazon/sv1\",\n",
    "    source_module=\"algorithm_script.py\",\n",
    ")"
   ]
  },
  {
   "cell_type": "markdown",
   "metadata": {},
   "source": [
    "## Creating a Braket Job from the Braket console\n",
    "\n",
    "Besides creating a Braket Job programmatically using `AwsQuantumJob.create`, there is also an option to create a job in the Braket console. Follow [this link](https://us-west-2.console.aws-dev.amazon.com/braket/home#/job/create) to the \"Create job\" page. First, we need to give our new job a unique name. By default, Amazon Braket leverages the AWSServiceRoleForAmazonBraket role for your job to ensure all the necessary permission to AWS resources exist during execution. The default S3 bucket, where all inputs and outputs for your job are saved follows the convention `amazon-braket-<region>-<account number>/jobs/<job-name>`. Amazon Braket will create a bucket on your behalf if it doesn't exist. You have the option to customize these defaults in the \"Advanced settings\" tab.\n",
    "\n",
    "<img src=\"console_figures/1-create.png\" alt=\"Create job. See the console_figures folder if the figure not displayed.\" style=\"width: 600px;\"/>"
   ]
  },
  {
   "cell_type": "markdown",
   "metadata": {},
   "source": [
    "Next, you select the algorithm script for the job. The script can be uploaded directly in the console as a single file. If there are many files, such as helper functions or other dependencies that go with the algorithm script, you have the option to upload the files to a S3 bucket and provide the path of the bucket.\n",
    "<img src=\"console_figures/2-algorithm.png\" alt=\"Select algorithm script. See the console_figures folder if the figure not displayed.\" style=\"width: 600px;\"/>"
   ]
  },
  {
   "cell_type": "markdown",
   "metadata": {},
   "source": [
    "Third, you select a container environment for your job. The \"Base\" container is enough for the example in this notebook. For information about using other pre-built or custom containers, see the QAOA and the BYOC example notebooks. \n",
    "\n",
    "<img src=\"console_figures/3-container.png\" alt=\"Select a container. See the console_figures folder if the figure not displayed.\" style=\"width: 600px;\"/>"
   ]
  },
  {
   "cell_type": "markdown",
   "metadata": {},
   "source": [
    "You must also select a Braket managed simulator or QPU for your job and configure the execution settings. Finally, there are optional hyperparameter and data inputs, as well as the possibility to customize the default locations for checkpoints and output data. We will dive deeper into these advanced use cases in other example notebooks. After finishing all the settings, you create the job by clicking the \"create job\" button. We can now view the progress in the Braket console.\n",
    "\n",
    "<img src=\"console_figures/4-execution.png\" alt=\"Configuration for execution. See the console_figures folder if the figure not displayed.\" style=\"width: 600px;\"/>"
   ]
  },
  {
   "cell_type": "markdown",
   "metadata": {},
   "source": [
    "## Summary\n",
    "\n",
    "In this tutorial, we have created our first Braket Job with a simple batch of five circuits using the Amazon Braket SDK and, as an alternative, from the Braket console. We learned how to change the Amazon S3 bucket and the AWS region for a job, and how to save results. We learned how to seamlessly change the device to run on simulators or QPUs. We used local jobs to quickly test code. Finally, we created the same job using the Braket console."
   ]
  }
 ],
 "metadata": {
  "interpreter": {
   "hash": "2a3faae6bbb7a2a59c3b36071b2b18ca9558c49646aca6fb369efee1cbea9b8b"
  },
  "kernelspec": {
   "display_name": "conda_braket",
   "language": "python",
   "name": "conda_braket"
  },
  "language_info": {
   "codemirror_mode": {
    "name": "ipython",
    "version": 3
   },
   "file_extension": ".py",
   "mimetype": "text/x-python",
   "name": "python",
   "nbconvert_exporter": "python",
   "pygments_lexer": "ipython3",
   "version": "3.7.11"
  }
 },
 "nbformat": 4,
 "nbformat_minor": 4
}
