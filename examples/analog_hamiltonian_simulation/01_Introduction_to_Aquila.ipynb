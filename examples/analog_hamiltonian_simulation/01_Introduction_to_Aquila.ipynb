{
 "cells": [
  {
   "cell_type": "markdown",
   "id": "92c948f0-6dd3-4955-b4eb-2926a79ecf7e",
   "metadata": {
    "tags": []
   },
   "source": [
    "# Introduction to Aquila\n",
    "\n",
    "In the previous notebook, we have introduced the concept of Analog Hamiltonian Simulation (AHS) and how to run an AHS program on the neutral atom local simulator. In this notebook, we illustrate how to run an AHS program on QuEra's Aquila, a Rydberg based QPU, via Amazon Braket. \n"
   ]
  },
  {
   "cell_type": "markdown",
   "id": "f4df5b53",
   "metadata": {},
   "source": [
    "## QuEra's Aquila\n",
    "\n",
    "In order to use the Aquila device, let us first connect to it, and query its parameters with its unique Amazon Resource Number (ARN)."
   ]
  },
  {
   "cell_type": "markdown",
   "id": "57ac4e1c",
   "metadata": {},
   "source": [
    "<div class=\"alert alert-block alert-info\">\n",
    "<b>Note: </b> You need to pip install the <a href=\"https://github.com/amazon-braket/amazon-braket-sdk-python#installing-the-amazon-braket-python-sdk\" class=\"alert-link\">Braket SDK</a>. If you are new to Amazon Braket, make sure you have completed the necessary <a href=\"https://docs.aws.amazon.com/braket/latest/developerguide/braket-get-started.html\" class=\"alert-link\">Get Started steps</a>. If you are using a Braket hosted notebook instance, this SDK comes pre-installed with the notebooks.\n",
    "</div>\n"
   ]
  },
  {
   "cell_type": "code",
   "execution_count": 1,
   "id": "6f3c3385",
   "metadata": {
    "ExecuteTime": {
     "end_time": "2023-08-29T21:36:35.108494Z",
     "start_time": "2023-08-29T21:36:35.104203Z"
    }
   },
   "outputs": [],
   "source": [
    "# Use Braket SDK Cost Tracking to estimate the cost to run this example\n",
    "from braket.tracking import Tracker\n",
    "\n",
    "tracker = Tracker().start()"
   ]
  },
  {
   "cell_type": "markdown",
   "id": "7175daec",
   "metadata": {},
   "source": [
    "In this notebook, we will use `matplotlib` package and `ahs_utils.py` module in the current working directory for visualization purposes"
   ]
  },
  {
   "cell_type": "code",
   "execution_count": 2,
   "id": "3cd780d0",
   "metadata": {
    "ExecuteTime": {
     "end_time": "2023-08-29T21:36:36.072530Z",
     "start_time": "2023-08-29T21:36:35.121408Z"
    }
   },
   "outputs": [
    {
     "name": "stdout",
     "output_type": "stream",
     "text": [
      "{'braketSchemaHeader': {'name': 'braket.device_schema.quera.quera_ahs_paradigm_properties',\n",
      "                        'version': '1'},\n",
      " 'lattice': {'area': {'height': Decimal('0.000076'),\n",
      "                      'width': Decimal('0.000075')},\n",
      "             'geometry': {'numberSitesMax': 256,\n",
      "                          'positionResolution': Decimal('1E-8'),\n",
      "                          'spacingRadialMin': Decimal('0.000004'),\n",
      "                          'spacingVerticalMin': Decimal('0.000004')}},\n",
      " 'performance': {'lattice': {'atomCaptureProbabilityTypical': Decimal('0.001'),\n",
      "                             'atomCaptureProbabilityWorst': Decimal('0.002'),\n",
      "                             'atomDetectionErrorFalseNegativeTypical': Decimal('0.001'),\n",
      "                             'atomDetectionErrorFalseNegativeWorst': Decimal('0.005'),\n",
      "                             'atomDetectionErrorFalsePositiveTypical': Decimal('0.001'),\n",
      "                             'atomDetectionErrorFalsePositiveWorst': Decimal('0.005'),\n",
      "                             'atomLossProbabilityTypical': Decimal('0.005'),\n",
      "                             'atomLossProbabilityWorst': Decimal('0.01'),\n",
      "                             'atomPositionError': Decimal('2E-7'),\n",
      "                             'fillingErrorTypical': Decimal('0.008'),\n",
      "                             'fillingErrorWorst': Decimal('0.05'),\n",
      "                             'positionErrorAbs': Decimal('2.25E-7'),\n",
      "                             'sitePositionError': Decimal('1E-7'),\n",
      "                             'vacancyErrorTypical': Decimal('0.001'),\n",
      "                             'vacancyErrorWorst': Decimal('0.005')},\n",
      "                 'rydberg': {'rydbergGlobal': {'T1Ensemble': Decimal('0.000075'),\n",
      "                                               'T1Single': Decimal('0.000075'),\n",
      "                                               'T2BlockadedRabiEnsemble': Decimal('0.000007'),\n",
      "                                               'T2BlockadedRabiSingle': Decimal('0.000008'),\n",
      "                                               'T2EchoEnsemble': Decimal('0.000007'),\n",
      "                                               'T2EchoSingle': Decimal('0.000008'),\n",
      "                                               'T2RabiEnsemble': Decimal('0.000007'),\n",
      "                                               'T2RabiSingle': Decimal('0.000008'),\n",
      "                                               'T2StarEnsemble': Decimal('0.00000475'),\n",
      "                                               'T2StarSingle': Decimal('0.000005'),\n",
      "                                               'detuningError': Decimal('1000000.0'),\n",
      "                                               'detuningInhomogeneity': Decimal('1000000.0'),\n",
      "                                               'groundDetectionError': Decimal('0.05'),\n",
      "                                               'groundPrepError': Decimal('0.01'),\n",
      "                                               'rabiAmplitudeRampCorrection': [{'rabiCorrection': Decimal('0.92'),\n",
      "                                                                                'rampTime': Decimal('5E-8')},\n",
      "                                                                               {'rabiCorrection': Decimal('0.97'),\n",
      "                                                                                'rampTime': Decimal('7.5E-8')},\n",
      "                                                                               {'rabiCorrection': Decimal('1.0'),\n",
      "                                                                                'rampTime': Decimal('1E-7')}],\n",
      "                                               'rabiFrequencyErrorRel': Decimal('0.03'),\n",
      "                                               'rabiFrequencyGlobalErrorRel': Decimal('0.02'),\n",
      "                                               'rabiFrequencyInhomogeneityRel': Decimal('0.02'),\n",
      "                                               'rydbergDetectionError': Decimal('0.1'),\n",
      "                                               'rydbergPrepErrorBest': Decimal('0.05'),\n",
      "                                               'rydbergPrepErrorWorst': Decimal('0.07')},\n",
      "                             'rydbergLocal': {'crosstalk': Decimal('0.02'),\n",
      "                                              'detuningErrorRms': Decimal('0.02'),\n",
      "                                              'errorRateIncoherentBright': Decimal('36000.0'),\n",
      "                                              'errorRateIncoherentDark': Decimal('720.0'),\n",
      "                                              'siteCoefficientErrorRms': Decimal('0.1')}}},\n",
      " 'qubitCount': 256,\n",
      " 'rydberg': {'c6Coefficient': Decimal('5.42E-24'),\n",
      "             'rydbergGlobal': {'detuningRange': (Decimal('-125000000.0'),\n",
      "                                                 Decimal('125000000.0')),\n",
      "                               'detuningResolution': Decimal('0.2'),\n",
      "                               'detuningSlewRateMax': Decimal('6000000000000000.0'),\n",
      "                               'phaseRange': (Decimal('-99.0'),\n",
      "                                              Decimal('99.0')),\n",
      "                               'phaseResolution': Decimal('5E-7'),\n",
      "                               'rabiFrequencyRange': (Decimal('0.0'),\n",
      "                                                      Decimal('15800000.0')),\n",
      "                               'rabiFrequencyResolution': Decimal('400.0'),\n",
      "                               'rabiFrequencySlewRateMax': Decimal('400000000000000.0'),\n",
      "                               'timeDeltaMin': Decimal('5E-8'),\n",
      "                               'timeMax': Decimal('0.000004'),\n",
      "                               'timeMin': Decimal('0.0'),\n",
      "                               'timeResolution': Decimal('1E-9')},\n",
      "             'rydbergLocal': {'detuningRange': (Decimal('-125000000.0'),\n",
      "                                                Decimal('0.0')),\n",
      "                              'detuningSlewRateMax': Decimal('2500000000000000.0'),\n",
      "                              'numberLocalDetuningSitesMax': Decimal('256'),\n",
      "                              'siteCoefficientRange': (Decimal('0.0'),\n",
      "                                                       Decimal('1.0')),\n",
      "                              'spacingRadialMin': Decimal('0.000004'),\n",
      "                              'timeDeltaMin': Decimal('5E-8'),\n",
      "                              'timeResolution': Decimal('1E-9')}}}\n"
     ]
    }
   ],
   "source": [
    "from pprint import pprint as pp\n",
    "\n",
    "from braket.aws import AwsDevice\n",
    "from braket.devices import Devices\n",
    "\n",
    "device = AwsDevice(Devices.QuEra.Aquila)\n",
    "capabilities = device.properties.paradigm\n",
    "pp(capabilities.dict())"
   ]
  },
  {
   "cell_type": "markdown",
   "id": "ea413e47",
   "metadata": {},
   "source": [
    "The preceding numbers represent numerical capabilities and constraints for which AHS programs can be run on Aquila. In the following sections, we will go through these device capabilities and build an AHS program that complies with these constraints."
   ]
  },
  {
   "cell_type": "markdown",
   "id": "a0b5f568",
   "metadata": {},
   "source": [
    "## Building an AHS program for Aquila\n",
    "\n",
    "We have seen the basic components of an AHS program in the previous example, including the register, the driving fields and local detuning. In order to run an AHS program on Aquila, however, these components have to meet certain requirements. In this section, we introduce other constraints via building up a valid program for Aquila step by step. "
   ]
  },
  {
   "cell_type": "markdown",
   "id": "6535a209",
   "metadata": {},
   "source": [
    "### Register\n",
    "In contrast to the local simulator which can only simulate a handful of atoms (qubits), Aquila can simulate systems with a few hundred. The coordinates of the atoms (qubits), however, have to meet certain constraints. We can check the requirements as follows"
   ]
  },
  {
   "cell_type": "code",
   "execution_count": 3,
   "id": "edf0d67c",
   "metadata": {
    "ExecuteTime": {
     "end_time": "2023-08-29T21:36:36.082365Z",
     "start_time": "2023-08-29T21:36:36.074743Z"
    }
   },
   "outputs": [
    {
     "name": "stdout",
     "output_type": "stream",
     "text": [
      "{'area': {'height': Decimal('0.000076'), 'width': Decimal('0.000075')},\n",
      " 'geometry': {'numberSitesMax': 256,\n",
      "              'positionResolution': Decimal('1E-8'),\n",
      "              'spacingRadialMin': Decimal('0.000004'),\n",
      "              'spacingVerticalMin': Decimal('0.000004')}}\n"
     ]
    }
   ],
   "source": [
    "lattice_constraints = capabilities.lattice\n",
    "pp(lattice_constraints.dict())"
   ]
  },
  {
   "cell_type": "markdown",
   "id": "7dadd661",
   "metadata": {},
   "source": [
    "The detailed description of these sections can be inspected as follows"
   ]
  },
  {
   "cell_type": "code",
   "execution_count": 4,
   "id": "409362f9",
   "metadata": {
    "ExecuteTime": {
     "end_time": "2023-08-29T21:36:36.090365Z",
     "start_time": "2023-08-29T21:36:36.082665Z"
    }
   },
   "outputs": [
    {
     "name": "stdout",
     "output_type": "stream",
     "text": [
      "\n",
      "    The area of the FOV\n",
      "    Attributes:\n",
      "        width (Decimal): Largest allowed difference between x\n",
      "            coordinates of any two sites (measured in meters)\n",
      "        height (Decimal): Largest allowed difference between y\n",
      "            coordinates of any two sites (measured in meters)\n",
      "    \n",
      "\n",
      "    Spacing or number of sites or rows\n",
      "    Attributes:\n",
      "        spacingRadialMin (Decimal): Minimum radial spacing between any\n",
      "            two sites in the lattice (measured in meters)\n",
      "        spacingVerticalMin (Decimal): Minimum spacing between any two\n",
      "            rows in the lattice (measured in meters)\n",
      "        positionResolution (Decimal): Resolution with which site positions\n",
      "            can be specified (measured in meters)\n",
      "        numberSitesMax (int): Maximum number of sites that can be placed\n",
      "            in the lattice\n",
      "    \n"
     ]
    }
   ],
   "source": [
    "print(lattice_constraints.area.__doc__)\n",
    "print(lattice_constraints.geometry.__doc__)"
   ]
  },
  {
   "cell_type": "markdown",
   "id": "b15d2f13",
   "metadata": {},
   "source": [
    "As we can see, the requirements for the setup in an AHS program can be summarized as follows\n",
    "1. The number of sites in the setup cannot be greater than `capabilities.lattice.geometry.numberSitesMax`\n",
    "2. The atoms have to be separated by at least `capabilities.lattice.geometry.spacingRadialMin` meters\n",
    "3. The rows in the setup have to be separated by at least `capabilities.lattice.geometry.spacingVerticalMin` meters\n",
    "4. The resolution for the coordinates of the atoms cannot be greater than `capabilities.lattice.geometry.positionResolution` meters\n",
    "5. The setup cannot be wider than `capabilities.lattice.area.width` meters\n",
    "6. The setup cannot be taller than `capabilities.lattice.area.height` meters\n",
    "\n",
    "Below, we demonstrate a valid setup that meets these requirements, which has 105 atoms grouped as 35 equilateral triangles that are well separated from each other."
   ]
  },
  {
   "cell_type": "code",
   "execution_count": 5,
   "id": "487a6b5e",
   "metadata": {
    "ExecuteTime": {
     "end_time": "2023-08-29T21:36:36.435379Z",
     "start_time": "2023-08-29T21:36:36.136196Z"
    }
   },
   "outputs": [
    {
     "data": {
      "image/png": "[encoded data removed]",
      "text/plain": [
       "<Figure size 700x700 with 1 Axes>"
      ]
     },
     "metadata": {},
     "output_type": "display_data"
    }
   ],
   "source": [
    "import numpy as np\n",
    "from ahs_utils import show_register\n",
    "\n",
    "from braket.ahs.atom_arrangement import AtomArrangement\n",
    "\n",
    "separation = 5e-6\n",
    "block_separation = 15e-6\n",
    "k_max = 5\n",
    "m_max = 5\n",
    "\n",
    "register = AtomArrangement()\n",
    "for k in range(k_max):\n",
    "    for m in range(m_max):\n",
    "        register.add((block_separation * m, block_separation * k + separation / np.sqrt(3)))\n",
    "        register.add(\n",
    "            (\n",
    "                block_separation * m - separation / 2,\n",
    "                block_separation * k - separation / (2 * np.sqrt(3)),\n",
    "            ),\n",
    "        )\n",
    "        register.add(\n",
    "            (\n",
    "                block_separation * m + separation / 2,\n",
    "                block_separation * k - separation / (2 * np.sqrt(3)),\n",
    "            ),\n",
    "        )\n",
    "\n",
    "show_register(register, show_atom_index=False, blockade_radius=1.5 * separation)"
   ]
  },
  {
   "cell_type": "markdown",
   "id": "62acf66e",
   "metadata": {},
   "source": [
    "In the above figure, each blue link connects a pair of atoms that blockade each other. Since the triangles are well separated from each other, and the driving field (see below) is acting on all atoms uniformly, effectively we are repeating the same experiment on the same setup (an equilateral triangle) 35 times in one shot. If the setup of interest is small and contains only a few atoms, we could try to fit in a few identical copies of the setup in the bounding box while avoiding the interference between them. In this way, we are effectively taking more shots for the AHS program of interest."
   ]
  },
  {
   "cell_type": "markdown",
   "id": "75e18060",
   "metadata": {},
   "source": [
    "### Driving field\n",
    "\n",
    "Aquila can simulate the following Hamiltonian \n",
    "\n",
    "\\begin{align}\n",
    "H_\\text{Rydberg}(t) = \\sum_{k=1}^N H_{\\text{drive}, k}(t) + \\sum_{k=1}^N H_{\\text{local detuning}, k}(t) + \\sum_{j=1}^{N-1}\\sum_{k = j+1}^N H_{\\text{vdW}, j, k}.\n",
    "\\end{align}\n",
    "Here the third term is the van der Waals interaction term which is fixed once the setup is defined. The first term is the driving field,\n",
    "\\begin{align}\n",
    "H_{\\text{drive}, k}(t) = \\frac{\\Omega(t)}{2}\\left(e^{i\\phi(t)}|g_k\\rangle\\langle r_k| + e^{-i\\phi(t)}|r_k\\rangle\\langle g_k|\\right) - \\Delta_\\text{global}(t)n_k,\n",
    "\\end{align}\n",
    "which act on all the atoms in the setup. Here $n_k = |r_k\\rangle\\langle r_k|$ is the number operator of atom $k$.  The specification of the driving field has to satisfy several conditions, which can be queried as follows"
   ]
  },
  {
   "cell_type": "code",
   "execution_count": 6,
   "id": "91e004b1",
   "metadata": {
    "ExecuteTime": {
     "end_time": "2023-08-29T21:36:36.445086Z",
     "start_time": "2023-08-29T21:36:36.437107Z"
    }
   },
   "outputs": [
    {
     "name": "stdout",
     "output_type": "stream",
     "text": [
      "{'detuningRange': (Decimal('-125000000.0'), Decimal('125000000.0')),\n",
      " 'detuningResolution': Decimal('0.2'),\n",
      " 'detuningSlewRateMax': Decimal('6000000000000000.0'),\n",
      " 'phaseRange': (Decimal('-99.0'), Decimal('99.0')),\n",
      " 'phaseResolution': Decimal('5E-7'),\n",
      " 'rabiFrequencyRange': (Decimal('0.0'), Decimal('15800000.0')),\n",
      " 'rabiFrequencyResolution': Decimal('400.0'),\n",
      " 'rabiFrequencySlewRateMax': Decimal('400000000000000.0'),\n",
      " 'timeDeltaMin': Decimal('5E-8'),\n",
      " 'timeMax': Decimal('0.000004'),\n",
      " 'timeMin': Decimal('0.0'),\n",
      " 'timeResolution': Decimal('1E-9')}\n"
     ]
    }
   ],
   "source": [
    "rydbergGlobal = capabilities.rydberg.rydbergGlobal\n",
    "pp(rydbergGlobal.dict())"
   ]
  },
  {
   "cell_type": "markdown",
   "id": "4b67aec2",
   "metadata": {},
   "source": [
    "The detailed description for each quantity of `rydbergGlobal` can be inspected as follows"
   ]
  },
  {
   "cell_type": "code",
   "execution_count": 7,
   "id": "d0bca3f4",
   "metadata": {
    "ExecuteTime": {
     "end_time": "2023-08-29T21:36:36.448920Z",
     "start_time": "2023-08-29T21:36:36.443536Z"
    }
   },
   "outputs": [
    {
     "name": "stdout",
     "output_type": "stream",
     "text": [
      "\n",
      "    Constraints for the parameters of the driving field that drives the\n",
      "        ground-to-Rydberg transition uniformly on all atoms\n",
      "    Attributes:\n",
      "        rabiFrequencyRange (Tuple[Decimal,Decimal]): Achievable Rabi frequency range for the global\n",
      "            Rydberg drive waveform (measured in rad/s)\n",
      "        rabiFrequencyResolution (Decimal): Resolution with which global Rabi frequency amplitude\n",
      "            can be specified (measured in rad/s)\n",
      "        rabiFrequencySlewRateMax (Decimal): Maximum slew rate for changing the global Rabi\n",
      "            frequency (measured in (rad/s)/s)\n",
      "        detuningRange(Tuple[Decimal,Decimal]): Achievable detuning range for the global Rydberg\n",
      "            pulse (measured in rad/s)\n",
      "        detuningResolution(Decimal): Resolution with which global detuning can be specified\n",
      "            (measured in rad/s)\n",
      "        detuningSlewRateMax (Decimal): Maximum slew rate for detuning (measured in (rad/s)/s)\n",
      "        phaseRange(Tuple[Decimal,Decimal]): Achievable phase range for the global Rydberg pulse\n",
      "            (measured in rad)\n",
      "        phaseResolution(Decimal): Resolution with which global Rabi frequency phase can be\n",
      "            specified (measured in rad)\n",
      "        timeResolution(Decimal): Resolution with which times for global Rydberg drive parameters\n",
      "            can be specified (measured in s)\n",
      "        timeDeltaMin(Decimal): Minimum time step with which times for global Rydberg drive\n",
      "            parameters can be specified (measured in s)\n",
      "        timeMin (Decimal): Minimum duration of Rydberg drive (measured in s)\n",
      "        timeMax (Decimal): Maximum duration of Rydberg drive (measured in s) Note: This may be \n",
      "            longer than the T2 coherence time.\n",
      "    \n"
     ]
    }
   ],
   "source": [
    "print(rydbergGlobal.__doc__)"
   ]
  },
  {
   "cell_type": "markdown",
   "id": "a0f2d5a4",
   "metadata": {},
   "source": [
    "As we can see, the requirements for the driving field in the AHS program can be summarized as follows\n",
    "\n",
    "1. The Rabi frequency $\\Omega(t)$ has to be within the range `rydbergGlobal.rabiFrequencyRange`, in the unit of rad/s\n",
    "2. The resolution for the Rabi frequency cannot be greater than `rydbergGlobal.rabiFrequencyResolution` rad/s\n",
    "3. The slew rate for the Rabi frequency cannot be greater than `rydbergGlobal.rabiFrequencySlewRateMax` (rad/s)/s\n",
    "\n",
    "4. The phase $\\phi(t)$ has to be within the range `rydbergGlobal.phaseRange`, in the unit of rad\n",
    "5. The resolution for the phase cannot be greater than `rydbergGlobal.phaseResolution` rad\n",
    "\n",
    "6. The detuning $\\Delta(t)$ has to be within the range `rydbergGlobal.detuningRange`, in the unit of rad\n",
    "7. The resolution for the detuning cannot be greater than `rydbergGlobal.detuningResolution` rad\n",
    "8. The slew rate for the detuning cannot be greater than `rydbergGlobal.detuningSlewRateMax` rad/s\n",
    "\n",
    "9. The duration of the driving field cannot be less than `rydbergGlobal.timeMin` seconds\n",
    "10. The duration of the driving field cannot be more than `rydbergGlobal.timeMax` seconds\n",
    "11. The time points have to be separated by at least `rydbergGlobal.timeDeltaMin` seconds\n",
    "12. The resolution for the time points cannot be greater than `rydbergGlobal.timeResolution` seconds\n",
    "\n",
    "Besides, there are a few additional requirements\n",
    "1. The Rabi frequency $\\Omega(t)$ has to start with 0 rad/s\n",
    "2. The Rabi frequency $\\Omega(t)$ has to end with 0 rad/s\n",
    "3. The phase $\\phi(t)$ has to start with 0 rad\n",
    "4. All the fields in the driving field have to have the same duration"
   ]
  },
  {
   "cell_type": "markdown",
   "id": "cbf846fd",
   "metadata": {},
   "source": [
    "In this example, we are interested in driving the atoms with constant Rabi frequency $\\Omega_\\text{const}=1.5\\times10^7$ rad/s for a duration of $T_\\text{const}=\\frac{\\pi}{\\sqrt{3}\\Omega}\\approx2.09\\times10^{-7}$ seconds such that each atom has average Rydberg density equal to 1/3. Since the Rabi frequency corresponds to blockade radius $R_b\\approx8.44\\times10^{-6}$ meters, which is greater than the sides of the equilateral triangles ($5\\times10^{-6}$ meters), the atoms of the same triangle blockade one another. On the other hand, $R_b$ is smaller than the distance between nearest atoms of neighboring triangles, which is around $10\\times10^{-6}$ meters, hence the neighboring triangles are not interacting with each other, as desired. \n",
    "\n",
    "However, for the AHS program submitted to Aquila, the Rabi frequency cannot be a constant because of the constraint that it has to start and end with 0 rad/s. Hence we will need to create a time series $\\Omega(t)$ such that $\\int_0^T\\Omega(t)dt=\\Omega_\\text{const}T_\\text{const}=\\frac{\\pi}{\\sqrt{3}}$, while satisfying $\\Omega(0)=\\Omega(T)=0$. This could be achieved via the utility function `rabi_pulse` below where we demonstrate how to create the desired driving field for Aquila."
   ]
  },
  {
   "cell_type": "markdown",
   "id": "bdce8a28",
   "metadata": {},
   "source": [
    "<div class=\"alert alert-block alert-info\">\n",
    "<b>Note: </b> The maximally allowed duration (\"timeMax\") of the AHS program may be higher than the coherence time of the atoms. The reported peformance metrics of Aquila correspond to a 4-microsecond AHS program. For more details on performance metrics, see <a href=https://github.com/amazon-braket/amazon-braket-examples/blob/main/examples/analog_hamiltonian_simulation/09_Noisy_quantum_dynamics_for_Rydberg_atom_arrays.ipynb> \"Noisy quantum evolution with Rydberg atoms\" notebook </a>\n",
    "</div>"
   ]
  },
  {
   "cell_type": "code",
   "execution_count": 8,
   "id": "11bd0f7e",
   "metadata": {
    "ExecuteTime": {
     "end_time": "2023-08-29T21:36:36.461492Z",
     "start_time": "2023-08-29T21:36:36.452053Z"
    }
   },
   "outputs": [],
   "source": [
    "from braket.ahs.driving_field import DrivingField\n",
    "from braket.timings.time_series import TimeSeries\n",
    "\n",
    "omega_const = 1.5e7  # rad / s\n",
    "rabi_pulse_area = np.pi / np.sqrt(3)  # rad\n",
    "omega_slew_rate_max = float(rydbergGlobal.rabiFrequencySlewRateMax)  # rad/s^2\n",
    "time_separation_min = float(rydbergGlobal.timeDeltaMin)  # s\n",
    "\n",
    "amplitude = TimeSeries.trapezoidal_signal(\n",
    "    rabi_pulse_area,\n",
    "    omega_const,\n",
    "    0.99 * omega_slew_rate_max,\n",
    "    time_separation_min=time_separation_min,\n",
    ")\n",
    "\n",
    "detuning = TimeSeries.constant_like(amplitude, 0.0)\n",
    "phase = TimeSeries.constant_like(amplitude, 0.0)\n",
    "\n",
    "drive = DrivingField(amplitude=amplitude, detuning=detuning, phase=phase)"
   ]
  },
  {
   "cell_type": "markdown",
   "id": "3efaeb42",
   "metadata": {},
   "source": [
    "We can inspect the driving field in the following way "
   ]
  },
  {
   "cell_type": "code",
   "execution_count": 9,
   "id": "5db7e231",
   "metadata": {
    "ExecuteTime": {
     "end_time": "2023-08-29T21:36:37.056941Z",
     "start_time": "2023-08-29T21:36:36.461025Z"
    }
   },
   "outputs": [
    {
     "data": {
      "image/png": "[encoded data removed]",
      "text/plain": [
       "<Figure size 700x700 with 3 Axes>"
      ]
     },
     "metadata": {},
     "output_type": "display_data"
    }
   ],
   "source": [
    "from ahs_utils import show_global_drive\n",
    "\n",
    "show_global_drive(drive);"
   ]
  },
  {
   "cell_type": "markdown",
   "id": "9c84b2ad",
   "metadata": {},
   "source": [
    "Here we used constant-zero phase and detuning, but, for more involved programs, its time series can be customized similarly to how we set the amplitude of the Rabi frequency here."
   ]
  },
  {
   "cell_type": "markdown",
   "id": "f89f17f6",
   "metadata": {},
   "source": [
    "### Local detuning\n",
    "\n",
    "Apart from the driving field, Aquila also supports the local detuning, the second term in the Hamiltonian $H_\\text{Rydberg}(t)$, which reads\n",
    "\\begin{align}\n",
    "H_{\\text{local detuning}, k}(t) = -\\Delta_\\text{local}(t)h_k \\,n_k.\n",
    "\\end{align}\n",
    "Here $\\Delta_\\text{local}(t)$ is the time-dependent magnitude of the frequency shift, and $h_k$ is the atom-dependent pattern, which is a dimensionless number between 0 and 1. The specification of the local detuning has to satisfy several conditions, which can be queried as follows"
   ]
  },
  {
   "cell_type": "code",
   "execution_count": 10,
   "id": "ab92778e",
   "metadata": {},
   "outputs": [
    {
     "name": "stdout",
     "output_type": "stream",
     "text": [
      "{'detuningRange': (Decimal('-125000000.0'), Decimal('0.0')),\n",
      " 'detuningSlewRateMax': Decimal('2500000000000000.0'),\n",
      " 'numberLocalDetuningSitesMax': Decimal('256'),\n",
      " 'siteCoefficientRange': (Decimal('0.0'), Decimal('1.0')),\n",
      " 'spacingRadialMin': Decimal('0.000004'),\n",
      " 'timeDeltaMin': Decimal('5E-8'),\n",
      " 'timeResolution': Decimal('1E-9')}\n"
     ]
    }
   ],
   "source": [
    "rydbergLocal = capabilities.rydberg.rydbergLocal\n",
    "if rydbergLocal:\n",
    "    pp(rydbergLocal.dict())"
   ]
  },
  {
   "cell_type": "markdown",
   "id": "2b35ec30",
   "metadata": {},
   "source": [
    "The detailed description for each quantity of `rydbergLocal` can be inspected as follows"
   ]
  },
  {
   "cell_type": "code",
   "execution_count": 11,
   "id": "9ca150a2",
   "metadata": {},
   "outputs": [
    {
     "name": "stdout",
     "output_type": "stream",
     "text": [
      "\n",
      "    Constraints for the parameters of the local detuning\n",
      "    Attributes:\n",
      "        detuningRange(Tuple[Decimal,Decimal]):\n",
      "            Achievable detuning range for the local detuning pattern (measured in rad/s)\n",
      "        detuningSlewRateMax(Decimal):\n",
      "            Maximum slew rate for changing the local detuning (measured in (rad/s)/s)\n",
      "        siteCoefficientRange(Tuple[Decimal,Decimal]):\n",
      "            Achievable site coefficient range for the local detuning pattern (unitless)\n",
      "        numberLocalDetuningSitesMax(Decimal):\n",
      "            Maximum number of sites available for the local detuning pattern\n",
      "        spacingRadialMin(Decimal):\n",
      "            Minimum radial spacing between any two sites with non-zero local detuning\n",
      "            (measured in meter)\n",
      "        timeResolution(Decimal):\n",
      "            Resolution with which times for local detuning time series can be specified\n",
      "            (measured in s)\n",
      "        timeDeltaMin(Decimal):\n",
      "            Minimum step between times for local detuning time series (measured in s)\n",
      "    \n"
     ]
    }
   ],
   "source": [
    "if rydbergLocal:\n",
    "    print(rydbergLocal.__doc__)"
   ]
  },
  {
   "cell_type": "markdown",
   "id": "30fda238",
   "metadata": {},
   "source": [
    "As we can see, the requirements for the local detuning in the AHS program can be summarized as follows\n",
    "\n",
    "1. The local detuning $\\Delta_\\text{local}(t)$ has to be within the range `rydbergLocal.detuningRange`, in the unit of rad\n",
    "2. The slew rate for the local detuning cannot be greater than `rydbergLocal.detuningSlewRateMax` rad/s\n",
    "3. The atom-dependent pattern $h_k$, a dimensionless quantity, has to be within the range `rydbergLocal.siteCoefficientRange`\n",
    "4. The number of sites in the atom-dependent pattern cannot be greater than `rydbergLocal.numberLocalDetuningSitesMax`\n",
    "5. The atoms with non-zero local detuning have to separated by at least `rydbergLocal.spacingRadialMin` meters\n",
    "6. The resolution for the time points cannot be greater than `rydbergLocal.timeResolution` seconds\n",
    "7. The time points have to be separated by at least `rydbergLocal.timeDeltaMin` seconds\n",
    "\n",
    "Besides, there are a few additional requirements\n",
    "1. The local detuning $\\Delta_\\text{local}(t)$ has to start with 0 rad/s\n",
    "2. The local detuning $\\Delta_\\text{local}(t)$ has to end with 0 rad/s\n",
    "3. The local detuning has to have to have the same duration as the driving field\n",
    "\n",
    "\n",
    "For simplicity, we will not use the local detuning in this example. The use cases that require the local detuning will be presented in other notebooks. "
   ]
  },
  {
   "cell_type": "markdown",
   "id": "7d37e943",
   "metadata": {},
   "source": [
    "### AHS program\n",
    "\n",
    "We can assemble the register and Hamiltonian to an AHS program "
   ]
  },
  {
   "cell_type": "code",
   "execution_count": 12,
   "id": "4d5ab540",
   "metadata": {
    "ExecuteTime": {
     "end_time": "2023-08-29T21:36:37.065205Z",
     "start_time": "2023-08-29T21:36:37.057662Z"
    }
   },
   "outputs": [],
   "source": [
    "from braket.ahs.analog_hamiltonian_simulation import AnalogHamiltonianSimulation\n",
    "\n",
    "ahs_program = AnalogHamiltonianSimulation(register=register, hamiltonian=drive)"
   ]
  },
  {
   "cell_type": "markdown",
   "id": "6bbedb27-3568-4803-a1ed-7b26dc60c946",
   "metadata": {},
   "source": [
    "### Task \n",
    "\n",
    "Before submitting the AHS program to Aquila, we need to discretize the program to ensure that it complies with resolution-specific validation rules. "
   ]
  },
  {
   "cell_type": "code",
   "execution_count": 13,
   "id": "59fb7f60",
   "metadata": {
    "ExecuteTime": {
     "end_time": "2023-08-29T21:36:37.074834Z",
     "start_time": "2023-08-29T21:36:37.063616Z"
    }
   },
   "outputs": [],
   "source": [
    "discretized_ahs_program = ahs_program.discretize(device)"
   ]
  },
  {
   "cell_type": "markdown",
   "id": "09b11fc2",
   "metadata": {},
   "source": [
    "We note that the number of shots has to be within the range specified by `device.properties.service.shotsRange`. "
   ]
  },
  {
   "cell_type": "code",
   "execution_count": 14,
   "id": "46d2da98",
   "metadata": {
    "ExecuteTime": {
     "end_time": "2023-08-29T21:36:37.171997Z",
     "start_time": "2023-08-29T21:36:37.070137Z"
    }
   },
   "outputs": [
    {
     "data": {
      "text/plain": [
       "(1, 1000)"
      ]
     },
     "execution_count": 14,
     "metadata": {},
     "output_type": "execute_result"
    }
   ],
   "source": [
    "device.properties.service.shotsRange"
   ]
  },
  {
   "cell_type": "markdown",
   "id": "4895c99a",
   "metadata": {},
   "source": [
    "The AHS program can be submitted to the device to create a quantum task on the Braket service."
   ]
  },
  {
   "cell_type": "markdown",
   "id": "825eda10",
   "metadata": {},
   "source": [
    "<div class=\"alert alert-block alert-info\">\n",
    "<b>Note: </b> Some atoms may be missing even if the shot was successful. We recommend comparing <code>pre_sequence</code> of each shot with the requested atom filling in the AHS program specification.  \n",
    "</div>"
   ]
  },
  {
   "cell_type": "code",
   "execution_count": 15,
   "id": "0e6528d5",
   "metadata": {
    "ExecuteTime": {
     "end_time": "2023-08-29T21:36:37.172190Z",
     "start_time": "2023-08-29T21:36:37.087898Z"
    }
   },
   "outputs": [],
   "source": [
    "n_shots = 100"
   ]
  },
  {
   "cell_type": "code",
   "execution_count": 16,
   "id": "c395c2a1-8ce2-4521-8d92-16efad87ac9e",
   "metadata": {
    "ExecuteTime": {
     "end_time": "2023-08-29T21:36:38.720662Z",
     "start_time": "2023-08-29T21:36:37.092240Z"
    }
   },
   "outputs": [],
   "source": [
    "task = device.run(discretized_ahs_program, shots=n_shots)"
   ]
  },
  {
   "cell_type": "markdown",
   "id": "60c6be46",
   "metadata": {},
   "source": [
    "The quantum task metadata can be inspected in the following way"
   ]
  },
  {
   "cell_type": "code",
   "execution_count": 35,
   "id": "158f1044-4cfa-4fc1-a26e-5581900f8783",
   "metadata": {
    "ExecuteTime": {
     "end_time": "2023-08-29T21:36:38.886620Z",
     "start_time": "2023-08-29T21:36:38.723687Z"
    }
   },
   "outputs": [
    {
     "name": "stdout",
     "output_type": "stream",
     "text": [
      "ARN: arn:aws:braket:us-east-1:260818742045:quantum-task/b5041ea5-83d8-4de6-9aa5-741105177699\n",
      "status: QUEUED\n"
     ]
    }
   ],
   "source": [
    "metadata = task.metadata()\n",
    "task_arn = metadata[\"quantumTaskArn\"]\n",
    "task_status = metadata[\"status\"]\n",
    "\n",
    "print(f\"ARN: {task_arn}\")\n",
    "print(f\"status: {task_status}\")"
   ]
  },
  {
   "cell_type": "markdown",
   "id": "54a39bff",
   "metadata": {},
   "source": [
    "It is suggested to save the quantum task ARN for retrieving the quantum task result in a later time. For example if the saved quantum task ARN reads `arn:aws:braket:us-east-1:545821822555:quantum-task/12345`, the quantum task can be retrieved as follows.\n",
    "    \n",
    "```\n",
    "from braket.aws import AwsQuantumTask\n",
    "task = AwsQuantumTask(arn=\"arn:aws:braket:us-east-1:545821822555:quantum-task/12345\")    \n",
    "```\n",
    "\n",
    "\n",
    "\n",
    "Alternatively, we can access the quantum tasks through [the tasks page of Amazon Braket console](https://us-east-1.console.aws.amazon.com/braket/home?region=us-east-1#/tasks)."
   ]
  },
  {
   "cell_type": "markdown",
   "id": "d496c2bb-89ec-4475-bf7d-ae75ef13cdde",
   "metadata": {},
   "source": [
    "## Analyzing the result from Aquila\n",
    "\n",
    "The results (once the quantum task is completed) can be downloaded directly into an object in the python session."
   ]
  },
  {
   "cell_type": "code",
   "execution_count": 36,
   "id": "d8176e09-deeb-485d-96e9-5046f9d03fc5",
   "metadata": {
    "ExecuteTime": {
     "end_time": "2023-08-29T21:38:59.818842Z",
     "start_time": "2023-08-29T21:36:38.884294Z"
    }
   },
   "outputs": [],
   "source": [
    "result = task.result()"
   ]
  },
  {
   "cell_type": "markdown",
   "id": "ae5eac68",
   "metadata": {},
   "source": [
    "The call `task.result()` is blocking execution until the quantum task is completed and results are loaded from Amazon Braket. After the quantum task is completed, the measurement result is saved in `result.measurements` which is a list of `ShotResult`, as shown below."
   ]
  },
  {
   "cell_type": "code",
   "execution_count": 37,
   "id": "afb85bab",
   "metadata": {
    "ExecuteTime": {
     "end_time": "2023-08-29T21:38:59.826095Z",
     "start_time": "2023-08-29T21:38:59.820695Z"
    }
   },
   "outputs": [
    {
     "data": {
      "text/plain": [
       "ShotResult(status=<AnalogHamiltonianSimulationShotStatus.SUCCESS: 'Success'>, pre_sequence=array([1, 1, 1, 1, 1, 1, 1, 1, 1, 1, 1, 1, 1, 1, 1, 1, 1, 1, 1, 1, 1, 1,\n",
       "       1, 1, 1, 1, 1, 1, 1, 1, 1, 1, 1, 1, 1, 1, 1, 1, 1, 0, 1, 1, 1, 1,\n",
       "       1, 1, 1, 1, 1, 1, 1, 1, 1, 1, 1, 1, 1, 1, 1, 1, 1, 1, 1, 1, 1, 1,\n",
       "       1, 1, 1, 1, 1, 1, 1, 1, 1]), post_sequence=array([1, 0, 1, 1, 1, 0, 1, 1, 1, 1, 1, 1, 0, 1, 1, 1, 1, 1, 1, 0, 1, 0,\n",
       "       1, 1, 1, 1, 0, 0, 1, 1, 0, 1, 1, 1, 0, 1, 0, 1, 1, 0, 0, 1, 1, 1,\n",
       "       0, 1, 0, 1, 1, 1, 0, 1, 0, 1, 0, 1, 1, 1, 1, 0, 1, 1, 0, 0, 1, 1,\n",
       "       0, 1, 1, 0, 1, 1, 0, 1, 1]))"
      ]
     },
     "execution_count": 37,
     "metadata": {},
     "output_type": "execute_result"
    }
   ],
   "source": [
    "result.measurements[0]"
   ]
  },
  {
   "cell_type": "markdown",
   "id": "91a9823b",
   "metadata": {},
   "source": [
    "`ShotResult` contains three pieces of information\n",
    "\n",
    "1. `status` indicates if the shot is successful\n",
    "2. `pre_sequence` contains the measurement result *before* running the AHS program. Here `0` indicates an empty site, while `1` indicates a filled site with an atom in the ground state\n",
    "3. `post_sequence` contains the measurement result *after* running the AHS program. Here `0` indicates an empty site, or an atom in the Rydberg state, while `1` indicates an atom in the ground state\n"
   ]
  },
  {
   "cell_type": "markdown",
   "id": "88687ac9",
   "metadata": {},
   "source": [
    "<div class=\"alert alert-block alert-info\">\n",
    "<b>Note: </b> Some atoms may be missing even if the shot was successful. We recommend comparing <code>pre_sequence</code> of each shot with the requested atom filling in the AHS program specification.  \n",
    "</div>"
   ]
  },
  {
   "cell_type": "markdown",
   "id": "c0d7eade",
   "metadata": {},
   "source": [
    "To confirm that at the end of the AHS program, the average Rydberg density for the atoms in the triangles are around 1/3 for each atom, we can first collect the  measurement result and aggregate over all triangles"
   ]
  },
  {
   "cell_type": "code",
   "execution_count": 38,
   "id": "4ed4a31c",
   "metadata": {
    "ExecuteTime": {
     "end_time": "2023-08-29T21:38:59.840764Z",
     "start_time": "2023-08-29T21:38:59.830328Z"
    }
   },
   "outputs": [],
   "source": [
    "counts = result.get_counts()\n",
    "average_density = [0, 0, 0]\n",
    "average_num_triangles = [0, 0, 0, 0]\n",
    "for key, val in counts.items():\n",
    "    for i in range(0, 3 * k_max * m_max, 3):\n",
    "        short_seq = key[i : i + 3]\n",
    "        for j in range(3):\n",
    "            if short_seq[j] == \"r\":\n",
    "                average_density[j] += val\n",
    "\n",
    "        average_num_triangles[short_seq.count(\"r\")] += val\n",
    "\n",
    "\n",
    "average_density = np.array(average_density) / (k_max * m_max * n_shots)\n",
    "average_num_triangles = np.array(average_num_triangles) / n_shots"
   ]
  },
  {
   "cell_type": "markdown",
   "id": "15d35f76",
   "metadata": {},
   "source": [
    "Note that although we only perform 100 shots for the given AHS program, since we have made the full usage of the area in the Aquila device, effectively, we have made 3,500 shots for the experiment of interest! We can plot the result as follows"
   ]
  },
  {
   "cell_type": "code",
   "execution_count": 39,
   "id": "8fa10c84",
   "metadata": {
    "ExecuteTime": {
     "end_time": "2023-08-29T21:39:00.075101Z",
     "start_time": "2023-08-29T21:38:59.841759Z"
    }
   },
   "outputs": [
    {
     "data": {
      "image/png": "[encoded data removed]",
      "text/plain": [
       "<Figure size 1000x400 with 2 Axes>"
      ]
     },
     "metadata": {},
     "output_type": "display_data"
    }
   ],
   "source": [
    "import matplotlib.pyplot as plt\n",
    "\n",
    "fig, (ax1, ax2) = plt.subplots(1, 2, figsize=(10, 4))\n",
    "ax1.bar(range(len(average_density)), average_density)\n",
    "ax1.set_xticks(range(3))\n",
    "ax1.set_xticklabels(range(3))\n",
    "ax1.set_xlabel(\"Indices of atoms\")\n",
    "ax1.set_ylabel(\"Average Rydberg density\")\n",
    "\n",
    "ax2.bar(range(len(average_num_triangles)), average_num_triangles)\n",
    "ax2.set_xlabel(\"Number of Rydberg atoms\")\n",
    "ax2.set_ylabel(\"Average number of triangles\")\n",
    "plt.show()"
   ]
  },
  {
   "cell_type": "markdown",
   "id": "e73773e1",
   "metadata": {},
   "source": [
    "In the left panel, we show the average Rydberg density for each atom in the triangles. We see that indeed the average Rydberg density for the atoms in the triangles are around 1/3 as expected. In the right panel, we show the number of triangles with certain number of Rydberg atoms (0, 1, 2 or 3) averaged over the shots. It can be seen that almost no triangle has more than 1 Rydberg atoms since the atoms in the same triangle blockade each other. \n",
    "\n",
    "In summary, in this notebook we have demonstrated how to connect to QuEra's Aquila device, and define a valid AHS program for the device. "
   ]
  },
  {
   "cell_type": "code",
   "execution_count": 40,
   "id": "9180c117",
   "metadata": {
    "ExecuteTime": {
     "end_time": "2023-08-29T21:39:00.079238Z",
     "start_time": "2023-08-29T21:39:00.073857Z"
    }
   },
   "outputs": [
    {
     "name": "stdout",
     "output_type": "stream",
     "text": [
      "Quantum Task Summary\n",
      "{'arn:aws:braket:us-east-1::device/qpu/quera/Aquila': {'shots': 100, 'tasks': {'COMPLETED': 1}}}\n",
      "Note: Charges shown are estimates based on your Amazon Braket simulator and quantum processing unit (QPU) task usage. Estimated charges shown may differ from your actual charges. Estimated charges do not factor in any discounts or credits, and you may experience additional charges based on your use of other services such as Amazon Elastic Compute Cloud (Amazon EC2).\n",
      "Estimated cost to run this example: 1.30 USD\n"
     ]
    }
   ],
   "source": [
    "print(\"Quantum Task Summary\")\n",
    "print(tracker.quantum_tasks_statistics())\n",
    "print(\n",
    "    \"Note: Charges shown are estimates based on your Amazon Braket simulator and quantum processing unit (QPU) task usage. Estimated charges shown may differ from your actual charges. Estimated charges do not factor in any discounts or credits, and you may experience additional charges based on your use of other services such as Amazon Elastic Compute Cloud (Amazon EC2).\",\n",
    ")\n",
    "print(\n",
    "    f\"Estimated cost to run this example: {tracker.qpu_tasks_cost() + tracker.simulator_tasks_cost():.2f} USD\",\n",
    ")"
   ]
  },
  {
   "cell_type": "code",
   "execution_count": 40,
   "id": "a9a8a075",
   "metadata": {
    "ExecuteTime": {
     "end_time": "2023-08-29T21:39:00.081322Z",
     "start_time": "2023-08-29T21:39:00.078548Z"
    }
   },
   "outputs": [],
   "source": []
  }
 ],
 "metadata": {
  "kernelspec": {
   "display_name": "3.10.10",
   "language": "python",
   "name": "python3"
  },
  "language_info": {
   "codemirror_mode": {
    "name": "ipython",
    "version": 3
   },
   "file_extension": ".py",
   "mimetype": "text/x-python",
   "name": "python",
   "nbconvert_exporter": "python",
   "pygments_lexer": "ipython3",
   "version": "3.10.10"
  },
  "varInspector": {
   "cols": {
    "lenName": 16,
    "lenType": 16,
    "lenVar": 40
   },
   "kernels_config": {
    "python": {
     "delete_cmd_postfix": "",
     "delete_cmd_prefix": "del ",
     "library": "var_list.py",
     "varRefreshCmd": "print(var_dic_list())"
    },
    "r": {
     "delete_cmd_postfix": ") ",
     "delete_cmd_prefix": "rm(",
     "library": "var_list.r",
     "varRefreshCmd": "cat(var_dic_list()) "
    }
   },
   "types_to_exclude": [
    "module",
    "function",
    "builtin_function_or_method",
    "instance",
    "_Feature"
   ],
   "window_display": false
  }
 },
 "nbformat": 4,
 "nbformat_minor": 5
}
