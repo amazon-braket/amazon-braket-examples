{
 "cells": [
  {
   "cell_type": "markdown",
   "id": "47503455",
   "metadata": {},
   "source": [
    "# Introduction of analog Hamiltonian simulation\n",
    "\n",
    "Analog Hamiltonian Simulation (AHS) is a quantum computing paradigm different from gate-based computing. AHS uses a well-controlled quantum system and tunes its parameters to mimic the dynamics of another quantum system, the one we aim to study. \n",
    "\n",
    "In the gate-based quantum computation, the program is a quantum circuit consisting of a series of quantum gates, each of which acts only a small subset of qubits. In contrast, an AHS program is a sequence of time-dependent Hamiltonians that govern the quantum dynamics of all qubits. The comparison can be seen in the following figure, where the left side shows a typical quantum circuit, and the right side illustrates that, during AHS, the effect of the evolution under a Hamiltonian can be understood as a unitary acting simultaneously on all qubits.\n",
    "\n",
    "Digital quantum circuit             |   Analog Hamiltonian Simulation\n",
    ":-------------------------:|:-------------------------:\n",
    "<img src=\"digital.png\" alt=\"digital quantum computing\" width=\"400\"/>  |  <img src=\"analog.png\" alt=\"analog hamiltonian simulation\" width=\"600\"/>\n",
    "\n",
    "(\"Digital quantum circuit\" and \"Analog Hamiltonian Simulation\" figures by [QuEra Computing Inc.](https://www.quera.com/) are licensed under [CC BY 4.0](https://creativecommons.org/licenses/by/4.0/))\n",
    "\n",
    "In this notebook, we focus on running Analog Hamiltonian Simulations with Rydberg atoms. Also, we will use `matplotlib` package and `ahs_utils.py` module in the current working directory for visualization purposes."
   ]
  },
  {
   "cell_type": "markdown",
   "id": "b327221a-aee8-4621-b657-ea85c750a09f",
   "metadata": {},
   "source": [
    "# AHS with Rydberg atoms\n",
    "\n",
    "An Analog Hamiltonian Simulation **program** is fully specified by its quantum register and (time-dependent) Hamiltonian."
   ]
  },
  {
   "cell_type": "code",
   "execution_count": 1,
   "id": "8a93745e-02b0-4cd8-9926-c1d4aae14aa2",
   "metadata": {},
   "outputs": [],
   "source": [
    "from braket.ahs.hamiltonian import Hamiltonian\n",
    "from braket.ahs.atom_arrangement import AtomArrangement\n",
    "from braket.ahs.analog_hamiltonian_simulation import AnalogHamiltonianSimulation\n",
    "\n",
    "register = AtomArrangement()\n",
    "H = Hamiltonian()\n",
    "\n",
    "ahs_program = AnalogHamiltonianSimulation(\n",
    "    hamiltonian=H,\n",
    "    register=register\n",
    ")"
   ]
  },
  {
   "cell_type": "markdown",
   "id": "2871eb36-e6ef-4519-84f6-a40d492c4987",
   "metadata": {},
   "source": [
    "In order to run AHS program with Rydberg atoms, we will first have to understand what type of Hamiltonian can Rydberg atoms simulate."
   ]
  },
  {
   "cell_type": "markdown",
   "id": "65319098-d1b9-4bb5-8777-878938c51018",
   "metadata": {},
   "source": [
    "## Introduction to Rydberg Hamiltonian\n",
    "\n",
    "Depending on the atomic states we use for the Rydberg system, its Hamiltonian could take different forms. Here we shall focus on the following type of Hamiltonian\n",
    "\n",
    "\\begin{align}\n",
    "H(t) = \\sum_{k=1}^N H_{\\text{drive}, k}(t) + \\sum_{k=1}^N H_{\\text{shift}, k}(t) + \\sum_{j=1}^{N-1}\\sum_{k = j+1}^N H_{\\text{vdW}, j, k},\n",
    "\\end{align}\n",
    "\n",
    "where $j, k=1,2,\\ldots N$ index the atoms (qubits) in the program register. We describe the nature and effect of each term in the Hamiltonian in the following sections, using a triangular array as an example."
   ]
  },
  {
   "cell_type": "markdown",
   "id": "bdc99a17-a873-4b80-a41b-a8fb3df46ba9",
   "metadata": {},
   "source": [
    "### Register\n",
    "\n",
    "First, we need to define a quantum **register**, 2-dimensional layout of neutral atoms, on which this Hamiltonian will act."
   ]
  },
  {
   "cell_type": "code",
   "execution_count": 2,
   "id": "cf3738c1-38a4-4b54-8537-33f16d3acba2",
   "metadata": {},
   "outputs": [],
   "source": [
    "import numpy as np\n",
    "\n",
    "# e.g. three atoms in an equilateral triangle, with pairwise\n",
    "# separation equal to 5.5 micrometers\n",
    "a = 5.5e-6  # meters\n",
    "\n",
    "register.add([0, 0])\n",
    "register.add([a, 0.0])\n",
    "register.add([0.5 * a, np.sqrt(3)/2 * a]);"
   ]
  },
  {
   "cell_type": "markdown",
   "id": "b549d2ca",
   "metadata": {},
   "source": [
    "The atom arrangement can be visualized in the following way"
   ]
  },
  {
   "cell_type": "code",
   "execution_count": 3,
   "id": "70fcb4f0",
   "metadata": {},
   "outputs": [
    {
     "data": {
      "image/png": "[encoded data removed]",
      "text/plain": [
       "<Figure size 504x504 with 1 Axes>"
      ]
     },
     "metadata": {
      "needs_background": "light"
     },
     "output_type": "display_data"
    }
   ],
   "source": [
    "from ahs_utils import show_register\n",
    "\n",
    "show_register(register)"
   ]
  },
  {
   "cell_type": "markdown",
   "id": "8096aa7e-4925-4317-ba85-d69d97b9150f",
   "metadata": {},
   "source": [
    "### Driving field\n",
    "\n",
    "The first term of the Hamiltonian represents the effect of a **driving field** that addresses the atoms simultaneously and uniformly\n",
    "\n",
    "\\begin{align}\n",
    "H_{\\text{drive}, k}(t) = \\frac{\\Omega(t)}{2}\\left(e^{i\\phi(t)}|g_k\\rangle\\langle r_k| + e^{-i\\phi(t)}|r_k\\rangle\\langle g_k|\\right) - \\Delta_\\text{global}(t)n_k,\n",
    "\\end{align}\n",
    "\n",
    "where $\\Omega$, $\\phi$, and $\\Delta_\\text{global}$ to denote the **amplitude** (Rabi frequency), laser **phase**, and the **detuning** of the driving laser field. Here $n_k = |r_k\\rangle\\langle r_k|$ is the number operator of atom $k$; the kets $|g_k\\rangle$ and $|r_k\\rangle$ denote the ground and Rydberg states, respectively. The $\\Omega$ part of the driving term is identical to a uniform (time-dependent) _transverse_ magnetic field, whereas the $\\Delta_\\text{global}$ part implements the effect of a _longitudinal_ magnetic field, in a spin-model representation.\n",
    "\n",
    "For the purpose of this example, we choose a constant Rabi frequency equal to $\\Omega_\\text{max}=2.5\\times10^6$ rad/s, with the phase and global detuning set to zero. The duration of the program is set to $\\frac{\\pi}{\\sqrt{2}\\Omega_\\text{max}}$, which will be explained in the next section. "
   ]
  },
  {
   "cell_type": "code",
   "execution_count": 4,
   "id": "784fd2a4-7bd7-4f67-90c1-4b3664515cfb",
   "metadata": {},
   "outputs": [],
   "source": [
    "from braket.timings.time_series import TimeSeries\n",
    "from braket.ahs.driving_field import DrivingField\n",
    "\n",
    "# e.g. trapzoid amplitude time series\n",
    "Omega_max = 2.5e6  # rad / seconds\n",
    "\n",
    "# e.g. the duration of the program\n",
    "t_max = np.pi/(np.sqrt(2)*Omega_max) # seconds\n",
    "\n",
    "# e.g. constant Rabi frequency\n",
    "Omega = TimeSeries()\n",
    "Omega.put(0.0, Omega_max)\n",
    "Omega.put(t_max, Omega_max)\n",
    "\n",
    "# e.g. all-zero phase and detuning\n",
    "phi = TimeSeries().put(0.0, 0.0).put(t_max, 0.0)  # (time [s], value [rad])\n",
    "Delta_global = TimeSeries().put(0.0, 0.0).put(t_max, 0.0)  # (time [s], value [rad/s])\n",
    "\n",
    "drive = DrivingField(\n",
    "    amplitude=Omega,\n",
    "    phase=phi,\n",
    "    detuning=Delta_global\n",
    ")\n",
    "\n",
    "H += drive"
   ]
  },
  {
   "cell_type": "markdown",
   "id": "613d27bb-c88e-4325-8263-c6e935eab0cf",
   "metadata": {},
   "source": [
    "### Shifting field\n",
    "\n",
    "The second term in $H(t)$ represents the effect of a **shifting field** that detunes atoms according to a non-uniform pattern.\n",
    "\n",
    "\\begin{align}\n",
    "H_{\\text{shift}, k}(t) = -\\Delta_\\text{local}(t)h_k \\,n_k,\n",
    "\\end{align}\n",
    "\n",
    "where $\\Delta_\\text{local}(t)$ is the time-dependent **magnitude** of the frequency shift, and $h_k$ is the atom-dependent **pattern**, which is a dimensionless number between 0 and 1. This shifting term is identical to a non-uniform (and time-dependent) _longitudinal_ magnetic field in a spin-model representation.\n",
    "\n",
    "For the purpose of this example, we choose a shifting field that strongly detunes the top atom in the triangular lattice."
   ]
  },
  {
   "cell_type": "code",
   "execution_count": 5,
   "id": "4783bb48-31f4-4213-873b-879ad641b092",
   "metadata": {},
   "outputs": [],
   "source": [
    "from braket.ahs.field import Field\n",
    "from braket.ahs.pattern import Pattern\n",
    "from braket.ahs.shifting_field import ShiftingField\n",
    "\n",
    "# e.g. constant strong shifting field\n",
    "Delta_local = TimeSeries()\n",
    "Delta_local.put(0.0, -Omega_max*20)  # (time [s], value [rad/s])\n",
    "Delta_local.put(t_max, -Omega_max*20)\n",
    "\n",
    "\n",
    "# e.g. the shifting field only acts on the third atom, \n",
    "# which is the top atom in the triangular array.\n",
    "h = Pattern([0, 0, 0.5])\n",
    "\n",
    "shift = ShiftingField(\n",
    "    magnitude=Field(\n",
    "        time_series=Delta_local,\n",
    "        pattern=h\n",
    "    )\n",
    ")\n",
    "\n",
    "H += shift"
   ]
  },
  {
   "cell_type": "markdown",
   "id": "3c2f1d9a",
   "metadata": {},
   "source": [
    "The driving field and the shifting field can be inspected with the following utility function"
   ]
  },
  {
   "cell_type": "code",
   "execution_count": 6,
   "id": "4cfd6e37",
   "metadata": {},
   "outputs": [
    {
     "data": {
      "image/png": "[encoded data removed]",
      "text/plain": [
       "<Figure size 504x504 with 4 Axes>"
      ]
     },
     "metadata": {
      "needs_background": "light"
     },
     "output_type": "display_data"
    }
   ],
   "source": [
    "from ahs_utils import show_drive_and_shift\n",
    "\n",
    "show_drive_and_shift(drive, shift)"
   ]
  },
  {
   "cell_type": "markdown",
   "id": "e0cff122-476f-45fd-bafe-c86b63f22deb",
   "metadata": {},
   "source": [
    "### Rydberg-Rydberg interaction\n",
    "\n",
    "Finally, the third term in $H(t)$ is the van der Waals interaction between all pairs of Rydberg atoms,\n",
    "\n",
    "\\begin{align}\n",
    "H_{\\text{vdW}, j, k} =V_{j,k} \\,n_j\\, n_k = \\frac{C_6}{R_{j,k}^6} \\,n_j\\, n_k,\n",
    "\\end{align}\n",
    "\n",
    "where $C_6$ is a fixed interaction coefficient, and $R_{j,k}=|{\\bf x}_j-{\\bf x}_k|$ is the distance between atoms $j$ and $k$. This interaction shifts the frequency of the Rydberg level of all atoms that are close to an atom that is already in its Rydberg state. While the overall coefficient, $C_6$ is a fixed value (determined by the nature of the ground and Rydberg states), the strength of this interaction can be tuned by adjusting the pairwise distance $R_{j,k}$ between atoms."
   ]
  },
  {
   "cell_type": "code",
   "execution_count": 7,
   "id": "12529050-720f-450a-84e8-d266d1c9ac48",
   "metadata": {},
   "outputs": [],
   "source": [
    "# Note:\n",
    "# The van der Waals interaction term is implicitly assumed in the current version of the AHS module,\n",
    "# its strength (C6 / R_{j,k}^6) is calculated (if using the local simulator) from the atomic positions \n",
    "# of the register, hence there is no need to specify it explicitly."
   ]
  },
  {
   "cell_type": "markdown",
   "id": "9de2469a-7326-4cce-9382-45668759ecc6",
   "metadata": {},
   "source": [
    "**Introduction to Rydberg blockade**\n",
    "\n",
    "For the interaction coefficient, the value of $C_6$ depends on the atom species, and the states used in the simulation. Here we shall take the value \n",
    "\n",
    "\\begin{align}\n",
    "C_6 = 5.42\\times 10^{-24} ~\\text{rad}~ \\text{m}^6/\\text{s}\n",
    "\\end{align}\n",
    "\n",
    "for $|r\\rangle = |70S_{1/2}\\rangle$ of the $^{87}$Rb atoms. For the typical scenario, where atoms are separated by $4\\times10^{-6}$ meters, the van der Waals interaction strength is $V_{jk}=1.32\\times10^9 \\text{rad}/\\text{s}$, which is much larger than the typical scale of the Rabi frequency (around $6\\times10^6 \\text{rad}/\\text{s}$). As a result, when the separation of two atoms is within certain distance, it is nearly impossible to drive them to the Rydberg state simultaneously. \n",
    "\n",
    "This is called the Rydberg blockade phenomena, illustrated in the figure below (Source: [Browaeys and Lahaye](https://arxiv.org/abs/2002.07413)), where $R$ is the separation between the atoms, and $E$ indicates the energies or frequencies of the different two-atom states as $R$ changes. The vertical arrows indicate the effect of a uniform driving field (with Rabi frequency $\\Omega$) that successfully transitions the atoms from the $|gg\\rangle$ ground state to the 1-atom excited state $|\\psi_+\\rangle = (|gr\\rangle + |rg\\rangle)/\\sqrt{2}$ (independent of $R$), but fails to get from there to the doubly-excited state $|rr\\rangle$, if $R$ is smaller than $R_b = (C_6 / \\Omega)^{1/6}$, the blockade radius.\n",
    "\n",
    "<img src=\"Blockade.png\" alt=\"drawing\" style=\"width:250px;\"/>"
   ]
  },
  {
   "cell_type": "markdown",
   "id": "8eae4fdd-9b85-42fd-b7ae-aad65f6fb30b",
   "metadata": {
    "tags": []
   },
   "source": [
    "### Full program\n",
    "\n",
    "The fully-specified program can be inspected with the following command."
   ]
  },
  {
   "cell_type": "code",
   "execution_count": 8,
   "id": "98489138-a878-4514-8d3b-b36f19337eda",
   "metadata": {},
   "outputs": [
    {
     "data": {
      "text/plain": [
       "{'braketSchemaHeader': {'name': 'braket.ir.ahs.program', 'version': '1'},\n",
       " 'setup': {'ahs_register': {'sites': [[Decimal('0'), Decimal('0')],\n",
       "    [Decimal('0.0000055'), Decimal('0.0')],\n",
       "    [Decimal('0.00000275'), Decimal('0.000004763139720814412')]],\n",
       "   'filling': [1, 1, 1]}},\n",
       " 'hamiltonian': {'drivingFields': [{'amplitude': {'time_series': {'values': [Decimal('2500000.0'),\n",
       "       Decimal('2500000.0')],\n",
       "      'times': [Decimal('0.0'), Decimal('8.885765876316732E-7')]},\n",
       "     'pattern': 'uniform'},\n",
       "    'phase': {'time_series': {'values': [Decimal('0.0'), Decimal('0.0')],\n",
       "      'times': [Decimal('0.0'), Decimal('8.885765876316732E-7')]},\n",
       "     'pattern': 'uniform'},\n",
       "    'detuning': {'time_series': {'values': [Decimal('0.0'), Decimal('0.0')],\n",
       "      'times': [Decimal('0.0'), Decimal('8.885765876316732E-7')]},\n",
       "     'pattern': 'uniform'}}],\n",
       "  'shiftingFields': [{'magnitude': {'time_series': {'values': [Decimal('-50000000.0'),\n",
       "       Decimal('-50000000.0')],\n",
       "      'times': [Decimal('0.0'), Decimal('8.885765876316732E-7')]},\n",
       "     'pattern': [Decimal('0'), Decimal('0'), Decimal('0.5')]}}]}}"
      ]
     },
     "execution_count": 8,
     "metadata": {},
     "output_type": "execute_result"
    }
   ],
   "source": [
    "ahs_program.to_ir().dict()"
   ]
  },
  {
   "cell_type": "markdown",
   "id": "bf450c2f",
   "metadata": {},
   "source": [
    "# Running AHS program with local simulator"
   ]
  },
  {
   "cell_type": "markdown",
   "id": "ecfcc7bc",
   "metadata": {},
   "source": [
    "The AHS program defined above realizes the maximally entangled state for a pair of atoms, out of the three atoms in the triangular array. To see that, recall that we have subjected the top atom in the triangular array (labeled as atom 2) with a strong detuning $H_{\\text{shift}, 2}(t) = -\\frac{1}{2}\\Delta_\\text{local}n_2$ where $\\Delta_\\text{local}=-10\\Omega_\\text{max}=-2.5\\times10^7$ rad/s. Since $\\Delta_\\text{local}$ is much bigger than any other energy scales in the system, including the Rabi frequency, it is energy unfavorable for atom 2 to be excited to the Rydberg state (note the minus sign in $H_{\\text{shift}, 2}(t)$). Hence atom 2 remains in the ground state throughout the evolution, and can be neglected in the following analysis.\n",
    "\n",
    "Since the other two atoms are subjected with only the driving field with zero detuning and phase, the constant Hamiltonian reads\n",
    "\\begin{align}\n",
    "H = \\frac{\\Omega}{2}\\sum_{k=0}^1\\left(|g_k\\rangle\\langle r_k| + |r_k\\rangle\\langle g_k|\\right) + V_{0,1}{n}_0{n}_1,\n",
    "\\end{align}\n",
    "where $k=0,1$ are the indices for the two lower atoms in the triangular array. More concretely, in the basis of $\\left\\{|gg\\rangle, |gr\\rangle, |rg\\rangle, |rr\\rangle\\right\\}$, the Hamiltonian takes the following matrix representation\n",
    "\\begin{align}\n",
    "H = \n",
    "\\begin{bmatrix}\n",
    "0 & \\frac{\\Omega}{2} & \\frac{\\Omega}{2} & 0 \\\\\n",
    "\\frac{\\Omega}{2} & 0 & 0 & \\frac{\\Omega}{2}\\\\\n",
    "\\frac{\\Omega}{2} & 0 & 0 & \\frac{\\Omega}{2}\\\\\n",
    "0 & \\frac{\\Omega}{2} & \\frac{\\Omega}{2} & V_{0,1}\n",
    "\\end{bmatrix}.\n",
    "\\end{align}\n",
    "Since the two atoms are separated by $d_{0,1} = 5.5\\times10^{-6}$ meters, the interaction strength between them reads\n",
    "\\begin{align}\n",
    "V_{0,1}=\\frac{C_6}{(d_{0,1})^6} = \\frac{5.42\\times10^{-24}}{(5.5\\times10^{-6})^6}\\approx1.96\\times10^8 \\text{ rad/s},\n",
    "\\end{align}\n",
    "which is much greater than the Rabi frequency. Hence the two atoms are in the Rydberg blockade regime, and the state $|rr\\rangle$ is very unlikely to be excited (assuming the initial state is $|gg\\rangle$). Hence we can neglect the $|rr\\rangle$ state, and the Hamiltonian is simplified to be\n",
    "\\begin{align}\n",
    "H = \n",
    "\\begin{bmatrix}\n",
    "0 & \\frac{\\Omega}{2} & \\frac{\\Omega}{2} \\\\\n",
    "\\frac{\\Omega}{2} & 0 & 0 \\\\\n",
    "\\frac{\\Omega}{2} & 0 & 0 \n",
    "\\end{bmatrix},\n",
    "\\end{align}\n",
    "and the final state of the evolution can be solved to be\n",
    "\\begin{align}\n",
    "|\\psi\\rangle = e^{-iHt}|gg\\rangle = \n",
    "\\begin{bmatrix}\n",
    "\\cos\\frac{\\Omega t}{\\sqrt{2}}\\\\\n",
    "\\frac{i}{\\sqrt{2}}\\sin\\frac{\\Omega t}{\\sqrt{2}}\\\\\n",
    "\\frac{i}{\\sqrt{2}}\\sin\\frac{\\Omega t}{\\sqrt{2}}\n",
    "\\end{bmatrix}.\n",
    "\\end{align}\n",
    "Hence if the system evolves for a duration $T=\\frac{\\pi}{\\sqrt{2}\\Omega}$, which is indeed the duration of the AHS program defined in the previous section, we will arrive at a maximally entangled state between the two atoms\n",
    "\\begin{align}\n",
    "|\\psi\\rangle = \\frac{1}{\\sqrt{2}}(|gr\\rangle+|rg\\rangle).\n",
    "\\end{align}\n",
    "\n",
    "Before submitting the AHS program to a QPU, it is useful to run the program on the local simulator to check if the simulation result meets one's expectation. "
   ]
  },
  {
   "cell_type": "code",
   "execution_count": 9,
   "id": "9967419e",
   "metadata": {},
   "outputs": [],
   "source": [
    "from braket.devices import LocalSimulator\n",
    "device = LocalSimulator(\"braket_ahs\")"
   ]
  },
  {
   "cell_type": "markdown",
   "id": "da67bcf1",
   "metadata": {},
   "source": [
    "We can run the AHS program just like running a quantum circuit on other Braket devices"
   ]
  },
  {
   "cell_type": "code",
   "execution_count": 10,
   "id": "6a510997",
   "metadata": {},
   "outputs": [],
   "source": [
    "result = device.run(ahs_program, shots=1000).result()"
   ]
  },
  {
   "cell_type": "markdown",
   "id": "85747c3e",
   "metadata": {},
   "source": [
    "To confirm that we indeed arrive at a maximally entangled state, we first collect the measurement results, followed by counting the number of occurrence of $|gr\\rangle$ and $|rg\\rangle$ respectively."
   ]
  },
  {
   "cell_type": "code",
   "execution_count": 11,
   "id": "7a906e64",
   "metadata": {},
   "outputs": [
    {
     "data": {
      "text/plain": [
       "{'ggr': 1, 'grg': 484, 'rgg': 515}"
      ]
     },
     "execution_count": 11,
     "metadata": {},
     "output_type": "execute_result"
    }
   ],
   "source": [
    "def get_counters_from_result(result):\n",
    "    post_sequences = [list(measurement.post_sequence) for measurement in result.measurements]\n",
    "    post_sequences = [\"\".join(['r' if site==0 else 'g' for site in post_sequence]) for post_sequence in post_sequences]\n",
    "\n",
    "    counters = {}\n",
    "    for post_sequence in post_sequences:\n",
    "        if post_sequence in counters:\n",
    "            counters[post_sequence] += 1\n",
    "        else:\n",
    "            counters[post_sequence] = 1\n",
    "    return counters\n",
    "\n",
    "get_counters_from_result(result)"
   ]
  },
  {
   "cell_type": "markdown",
   "id": "7143ac6b",
   "metadata": {},
   "source": [
    "The simulation outcome indeed confirms our expectations\n",
    "1. It is very unlikely to excite the 3rd atom to the Rydberg state because of the strong local detuning. \n",
    "2. Due to the Rydberg blockade, it is very unlikely to excite the 1st and 2nd atoms to the Rydberg states simultaneously.\n",
    "3. By appropriately tuning the Rabi frequency and the duration of the AHS program, we can arrive at a maximally entangled state for the 1st and 2nd atoms. Since our simulation is noiseless, the discrepancy from ideal 50%-50% split is attributed to statistical sampling (aka \"shot noise\").\n",
    "\n",
    "In summary, in this notebook, we have introduced Analog Hamiltonian Simulation (AHS), a different quantum computing paradigm, and showed how to run an AHS program with Rydberg atoms using Braket's local AHS simulator."
   ]
  },
  {
   "cell_type": "code",
   "execution_count": null,
   "id": "1e9f5dac",
   "metadata": {},
   "outputs": [],
   "source": []
  }
 ],
 "metadata": {
  "kernelspec": {
   "display_name": "Python 3 (ipykernel)",
   "language": "python",
   "name": "python3"
  },
  "language_info": {
   "codemirror_mode": {
    "name": "ipython",
    "version": 3
   },
   "file_extension": ".py",
   "mimetype": "text/x-python",
   "name": "python",
   "nbconvert_exporter": "python",
   "pygments_lexer": "ipython3",
   "version": "3.10.2"
  },
  "varInspector": {
   "cols": {
    "lenName": 16,
    "lenType": 16,
    "lenVar": 40
   },
   "kernels_config": {
    "python": {
     "delete_cmd_postfix": "",
     "delete_cmd_prefix": "del ",
     "library": "var_list.py",
     "varRefreshCmd": "print(var_dic_list())"
    },
    "r": {
     "delete_cmd_postfix": ") ",
     "delete_cmd_prefix": "rm(",
     "library": "var_list.r",
     "varRefreshCmd": "cat(var_dic_list()) "
    }
   },
   "types_to_exclude": [
    "module",
    "function",
    "builtin_function_or_method",
    "instance",
    "_Feature"
   ],
   "window_display": false
  }
 },
 "nbformat": 4,
 "nbformat_minor": 5
}
