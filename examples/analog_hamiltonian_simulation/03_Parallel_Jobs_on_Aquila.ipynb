{
 "cells": [
  {
   "cell_type": "markdown",
   "id": "43ae51e2",
   "metadata": {
    "tags": []
   },
   "source": [
    "# Parallel jobs on Aquila\n",
    "\n",
    "For jobs with a small number of registers one should make sure to maximize the full area allowed by the simulator. In this tutorial we go through the previously explored checkerboad preparation but now taking advantage of the full simulation area. \n",
    "\n",
    "We will break up each portion of the total area into __batches__ which will all run in parallel. \n"
   ]
  },
  {
   "cell_type": "markdown",
   "id": "f31e9ade-6b2d-4727-bd4e-cc6a8bbb302e",
   "metadata": {},
   "source": [
    "## Defining batches\n",
    "\n",
    "First we will define a _single_ batch containing a 3x3 grid of atoms"
   ]
  },
  {
   "cell_type": "code",
   "execution_count": 2,
   "id": "e5598963",
   "metadata": {},
   "outputs": [],
   "source": [
    "from braket.ahs.hamiltonian import Hamiltonian\n",
    "from braket.ahs.atom_arrangement import AtomArrangement\n",
    "from braket.ahs.analog_hamiltonian_simulation import AnalogHamiltonianSimulation"
   ]
  },
  {
   "cell_type": "code",
   "execution_count": 3,
   "id": "4a9c026d",
   "metadata": {},
   "outputs": [],
   "source": [
    "import numpy as np\n",
    "\n",
    "# distance between atoms\n",
    "scale = 5.6e-6\n",
    "\n",
    "# number of atoms in a batch\n",
    "Lx = 3\n",
    "Ly = 3\n",
    "\n",
    "register = AtomArrangement()\n",
    "\n",
    "for ix in range(Lx):\n",
    "    for iy in range(Ly):\n",
    "        pos = (ix * scale,iy * scale)\n",
    "        register.add(pos)"
   ]
  },
  {
   "cell_type": "markdown",
   "id": "fa2efd6c",
   "metadata": {},
   "source": [
    "## Bounding batches\n",
    "\n",
    "Next we define a box that bounds the batch by calculating its width and height. This will prove useful in setting up multiple batches in parallel in the area Aquila provides."
   ]
  },
  {
   "cell_type": "code",
   "execution_count": 4,
   "id": "db0da94b",
   "metadata": {},
   "outputs": [],
   "source": [
    "x_min = min(*[site.coordinate[0] for site in register])\n",
    "x_max = max(*[site.coordinate[0] for site in register])\n",
    "y_min = min(*[site.coordinate[1] for site in register])\n",
    "y_max = max(*[site.coordinate[1] for site in register])\n",
    "\n",
    "single_problem_width = x_max - x_min\n",
    "single_problem_height = y_max - y_min"
   ]
  },
  {
   "cell_type": "markdown",
   "id": "08ff59e6",
   "metadata": {},
   "source": [
    "### Calculating batch placement\n",
    "\n",
    "Each batch consists of an area proportional the the bounding box of the register as well as padding to make sure each batch is sufficiently isolated from one another to prevent entanglement between results via the Rydberg interaction. \n",
    "\n",
    "In this case we pick the distance between the batches to be:\n",
    "\n",
    "$$3 \\ \\times \\text{scale}$$\n",
    "\n",
    "which means the inter-batch interaction is at most:\n",
    "\n",
    "$$\\frac{1}{3^6} \\ \\approx \\ 0.001372$$ times the interactions within each batch."
   ]
  },
  {
   "cell_type": "code",
   "execution_count": null,
   "id": "36a82617",
   "metadata": {},
   "outputs": [],
   "source": [
    "import numpy as np\n",
    "from braket.ahs.atom_arrangement import AtomArrangement, SiteType\n",
    "from braket.aws import AwsDevice\n",
    "import json\n",
    "\n",
    "qpu = AwsDevice(\"arn:aws:braket:us-east-1::device/qpu/quera/Aquila\")\n",
    "\n",
    "# get values from device capabilities\n",
    "field_of_view_width = qpu.properties.paradigm.lattice.area.width\n",
    "field_of_view_height = qpu.properties.paradigm.lattice.area.height\n",
    "n_site_max = qpu.properties.paradigm.lattice.geometry.numberSitesMax\n",
    "\n",
    "# set distance between batches to be 3 x scale\n",
    "interproblem_distance = 3*scale\n",
    "# setting up a grid of problems filling the total area\n",
    "n_width = int(float(field_of_view_width)   // (single_problem_width  + interproblem_distance))\n",
    "n_height = int(float(field_of_view_height) // (single_problem_height + interproblem_distance))"
   ]
  },
  {
   "cell_type": "markdown",
   "id": "8f83106e",
   "metadata": {},
   "source": [
    "### Generating registers for all batches\n",
    "\n",
    "We now loop over `n_width` and `n_height` to create the total set of registers that will run on the QPU. \n",
    "\n",
    "We will keep track of which set of registers (by atom number) belongs to which batch using a dictionary called `batch_mapping`.\n",
    "\n",
    "We stop generating batches once we have reached the maximum number of sites allowed by the QPU. In this case we check to make sure we can fit the necessary number of atoms into a batch in case the number of atoms per batch is not a factor of `n_site_max`. "
   ]
  },
  {
   "cell_type": "code",
   "execution_count": null,
   "id": "ab083fd7",
   "metadata": {},
   "outputs": [],
   "source": [
    "batch_mapping = dict()\n",
    "parallel_register = AtomArrangement()\n",
    "\n",
    "atom_number = 0 #counting number of atoms added\n",
    "\n",
    "for ix in range(n_width):\n",
    "    x_shift = ix * (single_problem_width   + interproblem_distance)\n",
    "\n",
    "    for iy in range(n_height):    \n",
    "        y_shift = iy * (single_problem_height  + interproblem_distance)\n",
    "\n",
    "        # reached the maximum number of batches possible given n_site_max\n",
    "        if atom_number + len(register) > n_site_max: break \n",
    "\n",
    "        atoms = []\n",
    "        for site in register:\n",
    "            new_coordinate = (x_shift + site.coordinate[0], y_shift + site.coordinate[1])\n",
    "            parallel_register.add(new_coordinate,site.site_type)\n",
    "\n",
    "            atoms.append(qubit_number)\n",
    "\n",
    "            atom_number += 1\n",
    "\n",
    "        batch_mapping[(ix,iy)] = qubits"
   ]
  },
  {
   "cell_type": "code",
   "execution_count": 34,
   "id": "9fab538e-e7fb-4d24-8458-d8de0a38446c",
   "metadata": {},
   "outputs": [
    {
     "data": {
      "text/plain": [
       "{(0, 0): [0, 1, 2, 3, 4, 5, 6, 7, 8],\n",
       " (0, 1): [9, 10, 11, 12, 13, 14, 15, 16, 17],\n",
       " (0, 2): [18, 19, 20, 21, 22, 23, 24, 25, 26],\n",
       " (1, 0): [27, 28, 29, 30, 31, 32, 33, 34, 35],\n",
       " (1, 1): [36, 37, 38, 39, 40, 41, 42, 43, 44],\n",
       " (1, 2): [45, 46, 47, 48, 49, 50, 51, 52, 53]}"
      ]
     },
     "execution_count": 34,
     "metadata": {},
     "output_type": "execute_result"
    }
   ],
   "source": [
    "# Key indicates the position of the batch itself on a unitless grid, \n",
    "# with dictionary value being the atom number\n",
    "batch_mapping"
   ]
  },
  {
   "cell_type": "code",
   "execution_count": 35,
   "id": "b26b7e0a",
   "metadata": {},
   "outputs": [
    {
     "data": {
      "text/plain": [
       "<Figure size 640x480 with 0 Axes>"
      ]
     },
     "metadata": {},
     "output_type": "display_data"
    },
    {
     "data": {
      "image/png": "[encoded data removed]",
      "text/plain": [
       "<Figure size 700x700 with 1 Axes>"
      ]
     },
     "metadata": {},
     "output_type": "display_data"
    },
    {
     "data": {
      "image/png": "[encoded data removed]",
      "text/plain": [
       "<Figure size 700x700 with 1 Axes>"
      ]
     },
     "metadata": {},
     "output_type": "display_data"
    }
   ],
   "source": [
    "# [Optional] We visually inspect the register\n",
    "from utils import show_register\n",
    "\n",
    "show_register(register)\n",
    "show_register(parallel_register)"
   ]
  },
  {
   "cell_type": "markdown",
   "id": "8e30df2e-45fc-4a41-8000-4ee88a3a1519",
   "metadata": {},
   "source": [
    "## Creating the Checkerboard phase"
   ]
  },
  {
   "cell_type": "markdown",
   "id": "46bae3ef-1c23-43df-b153-a527d64eea3d",
   "metadata": {},
   "source": [
    "We use the same values and timings for the Amplitude, Phase, and Detuning from the [Ordered phases in Rydberg Systems](./02_Ordered_phases_in_Rydberg_systems.ipynb) example "
   ]
  },
  {
   "cell_type": "code",
   "execution_count": 37,
   "id": "5a31ab21",
   "metadata": {},
   "outputs": [],
   "source": [
    "from utils import get_drive\n",
    "\n",
    "amplitude_min = 0\n",
    "amplitude_max = 6.3e6  # rad / s\n",
    "detuning_min = -6e6  # rad / s\n",
    "detuning_max = 15e6  # rad / s\n",
    "time_max = 4e-6  # s\n",
    "time_ramp = 5e-7  # s\n",
    "time_to_measure = 1e-7 # s\n",
    "\n",
    "time_points = [0, time_ramp, time_max - time_ramp, time_max]\n",
    "amplitude_values = [amplitude_min, amplitude_max, amplitude_max, amplitude_min]\n",
    "detuning_values = [detuning_min, detuning_min, detuning_max, detuning_max]\n",
    "phase_values = [0, 0, 0, 0]\n",
    "\n",
    "drive = get_drive(time_points, amplitude_values, detuning_values, phase_values)"
   ]
  },
  {
   "cell_type": "code",
   "execution_count": null,
   "id": "9993d59b-7a20-4098-b99c-dcf4e3d1b0ad",
   "metadata": {},
   "outputs": [],
   "source": [
    "from utils import show_global_drive\n",
    "\n",
    "# [Optional] We visually inspect the waveforms\n",
    "\n",
    "show_global_drive(drive)"
   ]
  },
  {
   "cell_type": "markdown",
   "id": "e8d1fc59-54e2-4518-a65b-ddd2fdcb1f0e",
   "metadata": {},
   "source": [
    "We now construct the AHS program to be run. Note that we create two programs and execute them to allow us to compare the accuracy of our results, with `parallel_ahs_program` being run on Aquila and `ahs_program` just being simulated with the local simulator. "
   ]
  },
  {
   "cell_type": "code",
   "execution_count": null,
   "id": "20d44c2e-cdc5-44e3-9592-f934999cf914",
   "metadata": {},
   "outputs": [],
   "source": [
    "parallel_ahs_program = AnalogHamiltonianSimulation(\n",
    "    register=parallel_register, \n",
    "    hamiltonian=drive\n",
    ")\n",
    "\n",
    "ahs_program = AnalogHamiltonianSimulation(\n",
    "    register=register, \n",
    "    hamiltonian=drive\n",
    ")\n",
    "\n",
    "ahs_program = ahs_program.discretize(qpu)\n",
    "parallel_ahs_program = parallel_ahs_program.discretize(qpu)"
   ]
  },
  {
   "cell_type": "code",
   "execution_count": 40,
   "id": "88cdddd1",
   "metadata": {},
   "outputs": [],
   "source": [
    "shots = 100\n",
    "\n",
    "from braket.devices import LocalSimulator\n",
    "sim = LocalSimulator(\"braket_ahs\")\n",
    "\n",
    "\n",
    "qpu_task = qpu.run(parallel_ahs_program, shots=shots)\n",
    "sim_task = sim.run(ahs_program, shots=len(batch_mapping)*shots).result()"
   ]
  },
  {
   "cell_type": "code",
   "execution_count": 48,
   "id": "5a799030",
   "metadata": {},
   "outputs": [
    {
     "ename": "KeyboardInterrupt",
     "evalue": "",
     "output_type": "error",
     "traceback": [
      "\u001b[0;31m---------------------------------------------------------------------------\u001b[0m",
      "\u001b[0;31mKeyboardInterrupt\u001b[0m                         Traceback (most recent call last)",
      "\u001b[0;32m<ipython-input-48-0d485c566cea>\u001b[0m in \u001b[0;36m<module>\u001b[0;34m\u001b[0m\n\u001b[1;32m      3\u001b[0m \u001b[0;34m\u001b[0m\u001b[0m\n\u001b[1;32m      4\u001b[0m \u001b[0;34m\u001b[0m\u001b[0m\n\u001b[0;32m----> 5\u001b[0;31m \u001b[0mqpu_results\u001b[0m \u001b[0;34m=\u001b[0m \u001b[0mqpu_task\u001b[0m\u001b[0;34m.\u001b[0m\u001b[0mresult\u001b[0m\u001b[0;34m(\u001b[0m\u001b[0;34m)\u001b[0m\u001b[0;34m\u001b[0m\u001b[0;34m\u001b[0m\u001b[0m\n\u001b[0m\u001b[1;32m      6\u001b[0m \u001b[0;34m\u001b[0m\u001b[0m\n\u001b[1;32m      7\u001b[0m \u001b[0mall_sequences\u001b[0m \u001b[0;34m=\u001b[0m \u001b[0;34m[\u001b[0m\u001b[0;34m]\u001b[0m\u001b[0;34m\u001b[0m\u001b[0;34m\u001b[0m\u001b[0m\n",
      "\u001b[0;32m~/anaconda3/envs/Braket/lib/python3.7/site-packages/braket/aws/aws_quantum_task.py\u001b[0m in \u001b[0;36mresult\u001b[0;34m(self)\u001b[0m\n\u001b[1;32m    330\u001b[0m         \u001b[0;32mtry\u001b[0m\u001b[0;34m:\u001b[0m\u001b[0;34m\u001b[0m\u001b[0;34m\u001b[0m\u001b[0m\n\u001b[1;32m    331\u001b[0m             \u001b[0masync_result\u001b[0m \u001b[0;34m=\u001b[0m \u001b[0mself\u001b[0m\u001b[0;34m.\u001b[0m\u001b[0masync_result\u001b[0m\u001b[0;34m(\u001b[0m\u001b[0;34m)\u001b[0m\u001b[0;34m\u001b[0m\u001b[0;34m\u001b[0m\u001b[0m\n\u001b[0;32m--> 332\u001b[0;31m             \u001b[0;32mreturn\u001b[0m \u001b[0masync_result\u001b[0m\u001b[0;34m.\u001b[0m\u001b[0mget_loop\u001b[0m\u001b[0;34m(\u001b[0m\u001b[0;34m)\u001b[0m\u001b[0;34m.\u001b[0m\u001b[0mrun_until_complete\u001b[0m\u001b[0;34m(\u001b[0m\u001b[0masync_result\u001b[0m\u001b[0;34m)\u001b[0m\u001b[0;34m\u001b[0m\u001b[0;34m\u001b[0m\u001b[0m\n\u001b[0m\u001b[1;32m    333\u001b[0m         \u001b[0;32mexcept\u001b[0m \u001b[0masyncio\u001b[0m\u001b[0;34m.\u001b[0m\u001b[0mCancelledError\u001b[0m\u001b[0;34m:\u001b[0m\u001b[0;34m\u001b[0m\u001b[0;34m\u001b[0m\u001b[0m\n\u001b[1;32m    334\u001b[0m             \u001b[0;31m# Future was cancelled, return whatever is in self._result if anything\u001b[0m\u001b[0;34m\u001b[0m\u001b[0;34m\u001b[0m\u001b[0;34m\u001b[0m\u001b[0m\n",
      "\u001b[0;32m~/anaconda3/envs/Braket/lib/python3.7/site-packages/nest_asyncio.py\u001b[0m in \u001b[0;36mrun_until_complete\u001b[0;34m(self, future)\u001b[0m\n\u001b[1;32m     81\u001b[0m                 \u001b[0mf\u001b[0m\u001b[0;34m.\u001b[0m\u001b[0m_log_destroy_pending\u001b[0m \u001b[0;34m=\u001b[0m \u001b[0;32mFalse\u001b[0m\u001b[0;34m\u001b[0m\u001b[0;34m\u001b[0m\u001b[0m\n\u001b[1;32m     82\u001b[0m             \u001b[0;32mwhile\u001b[0m \u001b[0;32mnot\u001b[0m \u001b[0mf\u001b[0m\u001b[0;34m.\u001b[0m\u001b[0mdone\u001b[0m\u001b[0;34m(\u001b[0m\u001b[0;34m)\u001b[0m\u001b[0;34m:\u001b[0m\u001b[0;34m\u001b[0m\u001b[0;34m\u001b[0m\u001b[0m\n\u001b[0;32m---> 83\u001b[0;31m                 \u001b[0mself\u001b[0m\u001b[0;34m.\u001b[0m\u001b[0m_run_once\u001b[0m\u001b[0;34m(\u001b[0m\u001b[0;34m)\u001b[0m\u001b[0;34m\u001b[0m\u001b[0;34m\u001b[0m\u001b[0m\n\u001b[0m\u001b[1;32m     84\u001b[0m                 \u001b[0;32mif\u001b[0m \u001b[0mself\u001b[0m\u001b[0;34m.\u001b[0m\u001b[0m_stopping\u001b[0m\u001b[0;34m:\u001b[0m\u001b[0;34m\u001b[0m\u001b[0;34m\u001b[0m\u001b[0m\n\u001b[1;32m     85\u001b[0m                     \u001b[0;32mbreak\u001b[0m\u001b[0;34m\u001b[0m\u001b[0;34m\u001b[0m\u001b[0m\n",
      "\u001b[0;32m~/anaconda3/envs/Braket/lib/python3.7/site-packages/nest_asyncio.py\u001b[0m in \u001b[0;36m_run_once\u001b[0;34m(self)\u001b[0m\n\u001b[1;32m    104\u001b[0m                 scheduled[0]._when - self.time(), 0), 86400) if scheduled\n\u001b[1;32m    105\u001b[0m             else None)\n\u001b[0;32m--> 106\u001b[0;31m         \u001b[0mevent_list\u001b[0m \u001b[0;34m=\u001b[0m \u001b[0mself\u001b[0m\u001b[0;34m.\u001b[0m\u001b[0m_selector\u001b[0m\u001b[0;34m.\u001b[0m\u001b[0mselect\u001b[0m\u001b[0;34m(\u001b[0m\u001b[0mtimeout\u001b[0m\u001b[0;34m)\u001b[0m\u001b[0;34m\u001b[0m\u001b[0;34m\u001b[0m\u001b[0m\n\u001b[0m\u001b[1;32m    107\u001b[0m         \u001b[0mself\u001b[0m\u001b[0;34m.\u001b[0m\u001b[0m_process_events\u001b[0m\u001b[0;34m(\u001b[0m\u001b[0mevent_list\u001b[0m\u001b[0;34m)\u001b[0m\u001b[0;34m\u001b[0m\u001b[0;34m\u001b[0m\u001b[0m\n\u001b[1;32m    108\u001b[0m \u001b[0;34m\u001b[0m\u001b[0m\n",
      "\u001b[0;32m~/anaconda3/envs/Braket/lib/python3.7/selectors.py\u001b[0m in \u001b[0;36mselect\u001b[0;34m(self, timeout)\u001b[0m\n\u001b[1;32m    466\u001b[0m             \u001b[0mready\u001b[0m \u001b[0;34m=\u001b[0m \u001b[0;34m[\u001b[0m\u001b[0;34m]\u001b[0m\u001b[0;34m\u001b[0m\u001b[0;34m\u001b[0m\u001b[0m\n\u001b[1;32m    467\u001b[0m             \u001b[0;32mtry\u001b[0m\u001b[0;34m:\u001b[0m\u001b[0;34m\u001b[0m\u001b[0;34m\u001b[0m\u001b[0m\n\u001b[0;32m--> 468\u001b[0;31m                 \u001b[0mfd_event_list\u001b[0m \u001b[0;34m=\u001b[0m \u001b[0mself\u001b[0m\u001b[0;34m.\u001b[0m\u001b[0m_selector\u001b[0m\u001b[0;34m.\u001b[0m\u001b[0mpoll\u001b[0m\u001b[0;34m(\u001b[0m\u001b[0mtimeout\u001b[0m\u001b[0;34m,\u001b[0m \u001b[0mmax_ev\u001b[0m\u001b[0;34m)\u001b[0m\u001b[0;34m\u001b[0m\u001b[0;34m\u001b[0m\u001b[0m\n\u001b[0m\u001b[1;32m    469\u001b[0m             \u001b[0;32mexcept\u001b[0m \u001b[0mInterruptedError\u001b[0m\u001b[0;34m:\u001b[0m\u001b[0;34m\u001b[0m\u001b[0;34m\u001b[0m\u001b[0m\n\u001b[1;32m    470\u001b[0m                 \u001b[0;32mreturn\u001b[0m \u001b[0mready\u001b[0m\u001b[0;34m\u001b[0m\u001b[0;34m\u001b[0m\u001b[0m\n",
      "\u001b[0;31mKeyboardInterrupt\u001b[0m: "
     ]
    }
   ],
   "source": [
    "# collecting all data\n",
    "\n",
    "qpu_results = qpu_task.result()\n",
    "\n",
    "all_sequences = []\n",
    "for measurement in qpu_results.measurements:\n",
    "    for (ix,iy),inds in batch_mapping.items():\n",
    "        batch_sequence = list(measurement.post_sequence[inds])\n",
    "        all_sequences.append(batch_sequence)\n",
    "\n",
    "all_rydberg = 1 - np.array(all_sequences)\n",
    "qpu_density = all_rydberg.mean(axis=0)\n"
   ]
  },
  {
   "cell_type": "code",
   "execution_count": 47,
   "id": "a03e1ae8",
   "metadata": {},
   "outputs": [],
   "source": [
    "from utils import get_avg_density\n",
    "sim_density = get_avg_density(sim_task)"
   ]
  },
  {
   "cell_type": "markdown",
   "id": "9c1e79d8-c9ff-4d5d-8b4f-3aa0e0b7d7cb",
   "metadata": {},
   "source": [
    "Mention something along the lines of how results are similar enough to simulator to confirm Z2 and furthermore show that batches running in parallel with enough separation avoid unwanted Rydberg interaction/entanglement"
   ]
  }
 ],
 "metadata": {
  "kernelspec": {
   "display_name": "Python 3 (ipykernel)",
   "language": "python",
   "name": "python3"
  },
  "language_info": {
   "codemirror_mode": {
    "name": "ipython",
    "version": 3
   },
   "file_extension": ".py",
   "mimetype": "text/x-python",
   "name": "python",
   "nbconvert_exporter": "python",
   "pygments_lexer": "ipython3",
   "version": "3.10.4"
  }
 },
 "nbformat": 4,
 "nbformat_minor": 5
}
