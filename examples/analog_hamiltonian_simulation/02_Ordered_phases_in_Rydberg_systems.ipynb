{
 "cells": [
  {
   "cell_type": "markdown",
   "id": "9f82bf0f",
   "metadata": {},
   "source": [
    "# Ordered phases in Rydberg systems\n",
    "\n",
    "In this example notebook, we show how one can prepare ordered phases in Rydberg systems, focusing on the 1D $Z_2$ phase and the 2D checkerboard phase. We will use an adiabatic time-evolution to prepare these many-body ground states.\n",
    "\n",
    "## Adiabatic evolution\n",
    "\n",
    "The adiabatic theorem of quantum mechanics states that \n",
    "\n",
    ">A physical system remains in its *instantaneous* eigenstate if a given perturbation is acting on it slowly enough and if there is a gap between the eigenvalue and the rest of the Hamiltonian's spectrum. (Born & Fock, 1928)\n",
    "\n",
    "In other words, a slow-enough change in the parameters of the Hamiltonian will not induce transitions between its ground state and excited states: If the system starts in the ground state of the Hamiltonian at the beginning, it will smoothly transition into the ground state of the Hamiltonian at the end.\n",
    "\n",
    "The adiabatic theorem plays a key role in preparing the desired many-body ground states in the Rydberg system, the Hamiltonian of which can be expressed as\n",
    "\n",
    "\\begin{align}\n",
    "H(t) = \\sum_{k=1}^N \\frac{\\Omega(t)}{2}\\left(|g_k\\rangle\\langle r_k| + |r_k\\rangle\\langle g_k|\\right) - \\Delta_\\text{global}(t){n}_k + \\sum_{j=1}^{N-1}\\sum_{k=j+1}^N V_{jk}{n}_j{n}_k,\n",
    "\\end{align}\n",
    "\n",
    "where, for simplicity, we set the phase and the shifting field (See notebook 00 for detailed description of this Hamiltonian) to be zero throughout this notebook. We schedule the driving amplitude $\\Omega(t)$ to start from zero ($\\Omega(t=0)=0$). Hence, with negative detuning ($\\Delta_\\text{global}(t=0)<0$), the initial state where all atoms are in the ground state ($\\langle n_k\\rangle =0$) is the lowest energy eigenstate of the Hamiltonian, the many-body ground state.\n",
    "\n",
    "To arrive at a target Hamiltonian where the excited states of the atoms are favored, we ramp up the detuning $\\Delta_\\text{global}$ from large negative to large positive. During the ramp, we apply a large driving amplitude $\\Omega$ to open an energy gap between the first excited state and the ground state. According to the adiabatic theorem, if the ramping is slow enough, the system remains in the many-body ground state throughout the evolution. At the end of the AHS program, the Rabi frequency will be turned off and since $\\Delta_\\text{global}>0$, all the atoms tend to stay in the Rydberg state to lower the energy of the system. However, due to the strong Rydberg interaction, only one atom can be excited to the Rydberg state within its blockade radius.\n",
    "\n",
    "For a 1D chain of atoms, if we adjust the separation between the atoms such that only neighboring atoms are within the blockade radius, then we will arrive at a state where every second atom is excited, this is called the \"$Z_2$ phase\". For a 2D square array of atoms, a similar \"checkerboard phase\" emerges. The common feature of these phases is that the atoms are excited to the Rydberg states in an alternative pattern, complying with the blockade constraint, as shown in the figure below. In the figure, the shaded circles show *half* of the blockade radius such that sites with overlapped circles blockade each other. We show configurations, with black and white sites represent Rydberg and ground state atoms respectively, that comply with the blockade constraint. \n",
    "\n",
    "![Blockade_examples.png](Blockade_examples.png)\n",
    "\n",
    "We will realize these phases in this notebook. To begin, we import the necessary packages."
   ]
  },
  {
   "cell_type": "code",
   "execution_count": 1,
   "id": "9124196d",
   "metadata": {},
   "outputs": [],
   "source": [
    "# Use Braket SDK Cost Tracking to estimate the cost to run this example\n",
    "from braket.tracking import Tracker\n",
    "tracker = Tracker().start()"
   ]
  },
  {
   "cell_type": "markdown",
   "id": "156c4218",
   "metadata": {},
   "source": [
    "In this notebook, we will use `matplotlib` package and `ahs_utils.py` module in the current working directory for visualization purposes and other functionalities."
   ]
  },
  {
   "cell_type": "code",
   "execution_count": 2,
   "id": "08909afa",
   "metadata": {},
   "outputs": [],
   "source": [
    "import numpy as np\n",
    "import matplotlib.pyplot as plt\n",
    "\n",
    "from braket.ahs.atom_arrangement import AtomArrangement\n",
    "\n",
    "from braket.ahs.analog_hamiltonian_simulation import AnalogHamiltonianSimulation\n",
    "\n",
    "from ahs_utils import show_register, show_global_drive, show_final_avg_density, get_drive \n",
    "\n",
    "from braket.devices import LocalSimulator"
   ]
  },
  {
   "cell_type": "markdown",
   "id": "5b5eee4d",
   "metadata": {},
   "source": [
    "## 1D $Z_2$ phase \n",
    "\n",
    "Here we consider a 1D chain of 9 atoms with neighboring atoms separated by $5.5\\mu m$. The setup of the system can be generated as follows"
   ]
  },
  {
   "cell_type": "code",
   "execution_count": 3,
   "id": "6702f2b8",
   "metadata": {},
   "outputs": [
    {
     "data": {
      "image/png": "[encoded data removed]",
      "text/plain": [
       "<Figure size 504x504 with 1 Axes>"
      ]
     },
     "metadata": {
      "needs_background": "light"
     },
     "output_type": "display_data"
    }
   ],
   "source": [
    "register = AtomArrangement()\n",
    "separation = 6.1e-6  # in meters \n",
    "num_atoms = 9\n",
    "\n",
    "for k in range(num_atoms):\n",
    "    register.add([k * separation, 0])\n",
    "    \n",
    "show_register(register)"
   ]
  },
  {
   "cell_type": "markdown",
   "id": "33174b8a",
   "metadata": {},
   "source": [
    "In order to prepare the $Z_2$ ordered state for the atomic chain, we shall design an AHS program that drives the system adiabatically. As described above, we start from $\\Omega(t=0)=0$ with $\\Delta(t=0)<0$, followed by turning on $\\Omega(t)$ and ramping up $\\Delta(t)$. We will turn off the driving amplitude at the end of the program. This program can be specified as follows."
   ]
  },
  {
   "cell_type": "code",
   "execution_count": 4,
   "id": "12184869",
   "metadata": {},
   "outputs": [],
   "source": [
    "# amplitude_min = 0\n",
    "# amplitude_max = 15e6  # rad / s\n",
    "\n",
    "# detuning_min = -24e6  # rad / s\n",
    "# detuning_max = 60e6  # rad / s\n",
    "\n",
    "# time_max = 4e-6  # s\n",
    "# time_ramp = 5e-7  # s\n",
    "\n",
    "# time_points = [0, time_ramp, time_max - time_ramp, time_max]\n",
    "\n",
    "\n",
    "time_points = [0, 2.5e-7, 2.75e-6, 3e-6]\n",
    "amplitude_min = 0\n",
    "amplitude_max = 1.57e7  # rad / s\n",
    "\n",
    "detuning_min = -5.5e7  # rad / s\n",
    "detuning_max = 5.5e7  # rad / s\n",
    "\n",
    "amplitude_values = [amplitude_min, amplitude_max, amplitude_max, amplitude_min]  # piecewise linear\n",
    "detuning_values = [detuning_min, detuning_min, detuning_max, detuning_max]  # piecewise linear\n",
    "phase_values = [0, 0, 0, 0]  # piecewise constant\n",
    "\n",
    "\n",
    "drive = get_drive(time_points, amplitude_values, detuning_values, phase_values)"
   ]
  },
  {
   "cell_type": "markdown",
   "id": "ee92d637",
   "metadata": {},
   "source": [
    "We can plot the waveforms of these driving fields to make sure that they are correctly specified."
   ]
  },
  {
   "cell_type": "code",
   "execution_count": 5,
   "id": "e8d369e3",
   "metadata": {},
   "outputs": [
    {
     "data": {
      "image/png": "[encoded data removed]",
      "text/plain": [
       "<Figure size 504x504 with 3 Axes>"
      ]
     },
     "metadata": {
      "needs_background": "light"
     },
     "output_type": "display_data"
    }
   ],
   "source": [
    "show_global_drive(drive)"
   ]
  },
  {
   "cell_type": "markdown",
   "id": "ecd5fce7",
   "metadata": {},
   "source": [
    "Finally, we construct out AHS program from the atomic registers, and the Hamiltonian defined above. "
   ]
  },
  {
   "cell_type": "code",
   "execution_count": 6,
   "id": "ef5318d9",
   "metadata": {},
   "outputs": [],
   "source": [
    "ahs_program = AnalogHamiltonianSimulation(\n",
    "    register=register, \n",
    "    hamiltonian=drive\n",
    ")"
   ]
  },
  {
   "cell_type": "markdown",
   "id": "37e89b67",
   "metadata": {},
   "source": [
    "Before running the program on Quera's Aquila device (See notebook 01), we can first run it on the local simulator to make sure the outcome is the expected $Z_2$ state. "
   ]
  },
  {
   "cell_type": "code",
   "execution_count": 7,
   "id": "18447781",
   "metadata": {},
   "outputs": [
    {
     "data": {
      "image/png": "[encoded data removed]",
      "text/plain": [
       "<Figure size 432x288 with 1 Axes>"
      ]
     },
     "metadata": {
      "needs_background": "light"
     },
     "output_type": "display_data"
    }
   ],
   "source": [
    "device = LocalSimulator(\"braket_ahs\")\n",
    "result = device.run(ahs_program, shots=1000).result()\n",
    "show_final_avg_density(result)"
   ]
  },
  {
   "cell_type": "markdown",
   "id": "daf77070",
   "metadata": {},
   "source": [
    "We see that the average Rydberg density approximately forms the $Z_2$ pattern. The discrepancy can be attributed to finite size of the system and nonadiabaticity throughout the evolution. We expect that as one increase the system size and the duration of the AHS program, the final Rydberg density will approach the ideal $Z_2$ pattern.\n",
    "\n",
    "The $Z_2$ phase can be characterized by the density correlation $g_{ij}$ of the $i$-th and the $j$-th atom, which is defined as\n",
    "\n",
    "\\begin{align}\n",
    "g_{ij} = \\langle n_i n_j\\rangle - \\langle n_i\\rangle\\langle n_j\\rangle,\n",
    "\\end{align}\n",
    "\n",
    "where $\\langle\\cdot\\rangle$ is the average over the shots."
   ]
  },
  {
   "cell_type": "code",
   "execution_count": 8,
   "id": "4ba0163e",
   "metadata": {},
   "outputs": [],
   "source": [
    "def get_density_correlation_Z2(result):\n",
    "    post_sequences = np.array([list(measurement.post_sequence) for measurement in result.measurements])\n",
    "    return np.cov(post_sequences.T)\n",
    "\n",
    "gij = get_density_correlation_Z2(result)"
   ]
  },
  {
   "cell_type": "markdown",
   "id": "c405519e",
   "metadata": {},
   "source": [
    "The Rydberg density correlation function can be visualized as follows."
   ]
  },
  {
   "cell_type": "code",
   "execution_count": 9,
   "id": "dd0c5d4a",
   "metadata": {},
   "outputs": [
    {
     "data": {
      "image/png": "[encoded data removed]",
      "text/plain": [
       "<Figure size 432x288 with 2 Axes>"
      ]
     },
     "metadata": {
      "needs_background": "light"
     },
     "output_type": "display_data"
    }
   ],
   "source": [
    "plt.imshow(gij, cmap='bwr', vmin=-0.25, vmax=+0.25)\n",
    "plt.xticks(range(num_atoms), [f'{i}' for i in range(num_atoms)])\n",
    "plt.xlabel(\"atom index\")\n",
    "plt.yticks(range(num_atoms), [f'{j}' for j in range(num_atoms)])\n",
    "plt.ylabel(\"atom index\")\n",
    "plt.title('Rydberg density correlation')\n",
    "plt.gca().set_aspect('equal')\n",
    "plt.colorbar()\n",
    "plt.show()"
   ]
  },
  {
   "cell_type": "markdown",
   "id": "276bb5b6",
   "metadata": {},
   "source": [
    "For more explanation and interpretation of the Rydberg density correlation functions, see \"Probing many-body dynamics on a 51-atom quantum simulator\" by [Bernien et al. (2017)](https://arxiv.org/abs/1707.04344). "
   ]
  },
  {
   "cell_type": "markdown",
   "id": "fc7d3074",
   "metadata": {},
   "source": [
    "## 2D checkerboard phase \n",
    "\n",
    "In two dimension, Rydberg system can exhibit the checkerboard phase, which is analogous to the $Z_2$ phase in 1D. For simplicity, here we create a $3\\times 3$ square lattice."
   ]
  },
  {
   "cell_type": "code",
   "execution_count": 10,
   "id": "22477060",
   "metadata": {},
   "outputs": [
    {
     "data": {
      "image/png": "[encoded data removed]",
      "text/plain": [
       "<Figure size 504x504 with 1 Axes>"
      ]
     },
     "metadata": {
      "needs_background": "light"
     },
     "output_type": "display_data"
    }
   ],
   "source": [
    "register_2D = AtomArrangement()\n",
    "separation = 6.7e-6  # in meters \n",
    "\n",
    "for k in range(3):\n",
    "    for l in range(3):\n",
    "        register_2D.add((k * separation, l * separation))\n",
    "\n",
    "show_register(register_2D)"
   ]
  },
  {
   "cell_type": "markdown",
   "id": "eb0fcacf",
   "metadata": {},
   "source": [
    "We will use the same driving field as the one for generating the $Z_2$ phase. We then assemble the 2D array with the driving field, and run the AHS program on the local simulator. "
   ]
  },
  {
   "cell_type": "code",
   "execution_count": 11,
   "id": "df3a2aae",
   "metadata": {},
   "outputs": [
    {
     "data": {
      "image/png": "[encoded data removed]",
      "text/plain": [
       "<Figure size 432x288 with 1 Axes>"
      ]
     },
     "metadata": {
      "needs_background": "light"
     },
     "output_type": "display_data"
    }
   ],
   "source": [
    "ahs_program_2D = AnalogHamiltonianSimulation(\n",
    "    register=register_2D, \n",
    "    hamiltonian=drive\n",
    ")\n",
    "\n",
    "result_2D = device.run(ahs_program_2D, shots=1000, steps=200).result()\n",
    "show_final_avg_density(result_2D)"
   ]
  },
  {
   "cell_type": "markdown",
   "id": "08e49477",
   "metadata": {},
   "source": [
    "We see that the overall pattern mimics the checkerboard pattern, but the central site suffers strong discrepancy. This is due to the finite size of the system and the finite duration of the AHS program, which cause non-adiabatic errors.\n",
    "\n",
    "For more explanation and interpretation of the 2-d results, see \"Quantum Phases of Matter on a 256-Atom Programmable Quantum Simulator\" by [Ebadi et al. (2020)](http://arxiv.org/abs/2012.12281). "
   ]
  },
  {
   "cell_type": "markdown",
   "id": "68ffc633",
   "metadata": {},
   "source": [
    "## Realizing $Z_2$ and checkerboard phase on a QPU\n",
    "\n",
    "In previous sections, we have demonstrated two AHS programs for realizing many-body ground states. The results from the local simulator show that the results of the programs meet our expectations. Here we will run the same AHS program on the Aquila device. "
   ]
  },
  {
   "cell_type": "markdown",
   "id": "525d3c27",
   "metadata": {},
   "source": [
    "<div class=\"alert alert-block alert-info\">\n",
    "    <b>Note: </b> Running this program on the Aquila processor will incur a cost of 0.30 USD for submitting the program and 0.01 USD per shot. To run this example as is, will cost you 1.30 USD.\n",
    "</div>"
   ]
  },
  {
   "cell_type": "code",
   "execution_count": 12,
   "id": "31901542",
   "metadata": {},
   "outputs": [],
   "source": [
    "from braket.aws import AwsDevice \n",
    "device = AwsDevice(\"arn:aws:braket:us-east-1::device/qpu/quera/Aquila\")"
   ]
  },
  {
   "cell_type": "code",
   "execution_count": 13,
   "id": "07a73135",
   "metadata": {},
   "outputs": [],
   "source": [
    "# result_1D_aquila = device.run(ahs_program, shots=100).result()\n",
    "# show_final_avg_density(result_1D_aquila)"
   ]
  },
  {
   "cell_type": "markdown",
   "id": "69fc4e5d",
   "metadata": {},
   "source": [
    "We can calculate the density correlation function for the result obtained from Aquila"
   ]
  },
  {
   "cell_type": "code",
   "execution_count": null,
   "id": "e07e91f5",
   "metadata": {},
   "outputs": [],
   "source": [
    "gij_aquila = get_density_correlation_Z2(result_1D_aquila)\n",
    "\n",
    "plt.imshow(gij_aquila, cmap='bwr', vmin=-0.25, vmax=+0.25)\n",
    "plt.xticks(range(num_atoms), [f'{i}' for i in range(num_atoms)])\n",
    "plt.xlabel(\"atom index\")\n",
    "plt.yticks(range(num_atoms), [f'{j}' for j in range(num_atoms)])\n",
    "plt.ylabel(\"atom index\")\n",
    "plt.title('Rydberg density correlation')\n",
    "plt.gca().set_aspect('equal')\n",
    "plt.colorbar()\n",
    "plt.show()"
   ]
  },
  {
   "cell_type": "code",
   "execution_count": 14,
   "id": "fcc2c8b3",
   "metadata": {},
   "outputs": [],
   "source": [
    "# result_2D_aquila = device.run(ahs_program_2D, shots=100).result()\n",
    "# show_final_avg_density(result_2D_aquila)"
   ]
  },
  {
   "cell_type": "markdown",
   "id": "1c5e689d",
   "metadata": {},
   "source": [
    "In summary, in this notebook we have demonstrated how to realize the 1D $Z_2$ phase and 2D checkerboard phase via adiabatic transition on the Rydberg systems. These are interesting many body phases in their own right, and serve as the starting points for the more involved use cases. "
   ]
  },
  {
   "cell_type": "code",
   "execution_count": 15,
   "id": "2b802eff",
   "metadata": {},
   "outputs": [
    {
     "name": "stdout",
     "output_type": "stream",
     "text": [
      "Task Summary\n",
      "{}\n",
      "Note: Charges shown are estimates based on your Amazon Braket simulator and quantum processing unit (QPU) task usage. Estimated charges shown may differ from your actual charges. Estimated charges do not factor in any discounts or credits, and you may experience additional charges based on your use of other services such as Amazon Elastic Compute Cloud (Amazon EC2).\n",
      "Estimated cost to run this example: 0.00 USD\n"
     ]
    }
   ],
   "source": [
    "print(\"Task Summary\")\n",
    "print(tracker.quantum_tasks_statistics())\n",
    "print('Note: Charges shown are estimates based on your Amazon Braket simulator and quantum processing unit (QPU) task usage. Estimated charges shown may differ from your actual charges. Estimated charges do not factor in any discounts or credits, and you may experience additional charges based on your use of other services such as Amazon Elastic Compute Cloud (Amazon EC2).')\n",
    "print(f\"Estimated cost to run this example: {tracker.qpu_tasks_cost() + tracker.simulator_tasks_cost():.2f} USD\")"
   ]
  }
 ],
 "metadata": {
  "kernelspec": {
   "display_name": "Python 3 (ipykernel)",
   "language": "python",
   "name": "python3"
  },
  "language_info": {
   "codemirror_mode": {
    "name": "ipython",
    "version": 3
   },
   "file_extension": ".py",
   "mimetype": "text/x-python",
   "name": "python",
   "nbconvert_exporter": "python",
   "pygments_lexer": "ipython3",
   "version": "3.9.7"
  },
  "varInspector": {
   "cols": {
    "lenName": 16,
    "lenType": 16,
    "lenVar": 40
   },
   "kernels_config": {
    "python": {
     "delete_cmd_postfix": "",
     "delete_cmd_prefix": "del ",
     "library": "var_list.py",
     "varRefreshCmd": "print(var_dic_list())"
    },
    "r": {
     "delete_cmd_postfix": ") ",
     "delete_cmd_prefix": "rm(",
     "library": "var_list.r",
     "varRefreshCmd": "cat(var_dic_list()) "
    }
   },
   "types_to_exclude": [
    "module",
    "function",
    "builtin_function_or_method",
    "instance",
    "_Feature"
   ],
   "window_display": false
  }
 },
 "nbformat": 4,
 "nbformat_minor": 5
}
