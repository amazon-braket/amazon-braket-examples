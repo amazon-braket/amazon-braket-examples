{
 "cells": [
  {
   "cell_type": "markdown",
   "metadata": {},
   "source": [
    "# Superdense Coding"
   ]
  },
  {
   "cell_type": "code",
   "execution_count": 1,
   "metadata": {
    "ExecuteTime": {
     "end_time": "2023-08-29T21:29:16.551034Z",
     "start_time": "2023-08-29T21:29:16.286258Z"
    }
   },
   "outputs": [],
   "source": [
    "# Use Braket SDK Cost Tracking to estimate the cost to run this example\n",
    "from braket.tracking import Tracker\n",
    "\n",
    "t = Tracker().start()"
   ]
  },
  {
   "cell_type": "markdown",
   "metadata": {},
   "source": [
    "In this tutorial, we construct an implementation of the superdense coding protocol via Amazon Braket's SDK. Superdense coding is a method of transmitting two classical bits by sending only one qubit. Starting with a pair of entanged qubits, the sender (aka Alice) applies a certain quantum gate to their qubit and sends the result to the receiver (aka Bob), who is then able to decode the full two-bit message.\n",
    "\n",
    "If Alice wants to send a two-bit message to Bob using only classical channels, she would need to send two classical bits. However, with the help of quantum entanglement, Alice can do this by sending just one qubit. By ensuring that Alice and Bob initially share an entangled state of two qubits, they can devise a strategy such that Alice can transmit her two-bit message by sending her single qubit.\n",
    "\n",
    "To implement superdense coding, Alice and Bob need to share or otherwise prepare a maximally entangled pair of qubits (i.e., a Bell pair). Alice then selects one of the four possible messages to send with two classical bits: 00, 01, 10, or 11. Depending on which two-bit string she wants to send, Alice applies a corresponding quantum gate to encode her desired message. Finally, Alice sends her own qubit to Bob, which Bob then uses to decode the message by undoing the initial entangling operation.\n",
    "\n",
    "Note that superdense coding is closely related to quantum teleportation.  In teleportation, one uses an entangled pair (an e-bit) and two uses of a classical channel to simulate a single use of a quantum channel.  In superdense coding, one uses an e-bit and a single use of a quantum channel to simulate two uses of a classical channel.\n",
    "\n",
    "\n",
    "## Detailed Steps\n",
    "1. Alice and Bob initially share a Bell pair.  This can be prepared by starting with two qubits in the |0⟩ state, then applying the Hadamard gate (𝐻) to the first qubit to create an equal superposition, and finally applying a CNOT gate (𝐶𝑋) between the two qubits to produce a Bell pair.  Alice holds one of these two qubits, while Bob holds the other.\n",
    "2. Alice selects one of the four possible messages to send Bob. Each message corresponds to a unique set of quantum gate(s) to apply to her own qubit, illustrated in the table below.  For example, if Alice wants to send the message \"01\", she would apply the Pauli X gate.\n",
    "3. Alice sends her qubit to Bob through the quantum channel.\n",
    "4. Bob decodes Alice's two-bit message by first applying a CNOT gate using Alice's qubit as the control and his own qubit as the target, and then a Hadamard gate on Alice's qubit to restore the classical message.\n",
    "\n",
    "| Message | Alice's encoding | State Bob receives<br>(non-normalized) | After 𝐶𝑋 gate<br>(non-normalized) | After 𝐻 gate |\n",
    "| :---: | :---: | :---: | :---: | :---: |\n",
    "| 00 | 𝐼 | \\|00⟩ + \\|11⟩ | \\|00⟩ + \\|10⟩ | \\|00⟩\n",
    "| 01 | 𝑋 | \\|10⟩ + \\|01⟩ | \\|11⟩ + \\|01⟩ | \\|01⟩\n",
    "| 10 | 𝑍 | \\|00⟩ - \\|11⟩ | \\|00⟩ - \\|10⟩ | \\|10⟩\n",
    "| 11 | 𝑍𝑋 | \\|01⟩ - \\|10⟩ | \\|01⟩ - \\|11⟩ | \\|11⟩\n",
    "\n",
    "\n",
    "## Circuit Diagram\n",
    "\n",
    "Circuit used to send the message \"00\". To send other messages, swap out the identity (𝐼) gate.\n",
    "<div align=\"center\"><img src=\"circuit.png\"/></div>"
   ]
  },
  {
   "cell_type": "markdown",
   "metadata": {},
   "source": [
    "## Code"
   ]
  },
  {
   "cell_type": "code",
   "execution_count": 2,
   "metadata": {
    "ExecuteTime": {
     "end_time": "2023-08-29T21:29:21.289741Z",
     "start_time": "2023-08-29T21:29:16.346114Z"
    },
    "scrolled": true
   },
   "outputs": [
    {
     "name": "stdout",
     "output_type": "stream",
     "text": [
      "Version: 1.53.3\r\n"
     ]
    }
   ],
   "source": [
    "# Import Braket libraries\n",
    "import matplotlib.pyplot as plt\n",
    "\n",
    "from braket.circuits import Circuit\n",
    "from braket.devices import LocalSimulator"
   ]
  },
  {
   "cell_type": "markdown",
   "metadata": {},
   "source": [
    "Typically, we recommend running circuits with fewer than 25 qubits on the local simulator to avoid latency bottlenecks. The on-demand, high-performance simulator SV1 is better suited for larger circuits up to 34 qubits. For demonstration purposes, we are going to continue this example with the local simulator, but it is easy to switch over to SV1 by commenting out the LocalSimulator line below and uncommenting the sv1 line.\n"
   ]
  },
  {
   "cell_type": "code",
   "execution_count": 3,
   "metadata": {
    "ExecuteTime": {
     "end_time": "2023-08-29T21:29:21.374578Z",
     "start_time": "2023-08-29T21:29:21.292135Z"
    }
   },
   "outputs": [],
   "source": [
    "# Set up device: local simulator or the on-demand simulator\n",
    "device = LocalSimulator()\n",
    "# device = AwsDevice(Devices.Amazon.SV1)"
   ]
  },
  {
   "cell_type": "code",
   "execution_count": 4,
   "metadata": {
    "ExecuteTime": {
     "end_time": "2023-08-29T21:29:21.389668Z",
     "start_time": "2023-08-29T21:29:21.382339Z"
    }
   },
   "outputs": [],
   "source": [
    "# Function to run quantum task, check the status thereof and collect results\n",
    "def get_result(device, circ):\n",
    "    # get number of qubits\n",
    "    num_qubits = circ.qubit_count\n",
    "\n",
    "    # specify desired results_types\n",
    "    circ.probability()\n",
    "\n",
    "    # submit quantum task: define quantum task (asynchronous)\n",
    "    if device.name == \"StateVectorSimulator\":\n",
    "        task = device.run(circ, shots=1000)\n",
    "    else:\n",
    "        task = device.run(circ, shots=1000)\n",
    "\n",
    "    # Get ID of submitted quantum task\n",
    "    #     print('Task ID :', task_id)\n",
    "\n",
    "    # Wait for job to complete\n",
    "    status_list = []\n",
    "    status = task.state()\n",
    "    status_list += [status]\n",
    "    print(\"Status:\", status)\n",
    "\n",
    "    # Only notify the user when there's a status change\n",
    "    while status != \"COMPLETED\":\n",
    "        status = task.state()\n",
    "        if status != status_list[-1]:\n",
    "            print(\"Status:\", status)\n",
    "        status_list += [status]\n",
    "\n",
    "    # get result\n",
    "    result = task.result()\n",
    "\n",
    "    # get metadata\n",
    "\n",
    "    # get output probabilities\n",
    "    probs_values = result.values[0]\n",
    "\n",
    "    # get measurement results\n",
    "    measurement_counts = result.measurement_counts\n",
    "\n",
    "    # print measurement results\n",
    "    print(\"measurement_counts:\", measurement_counts)\n",
    "\n",
    "    # bitstrings\n",
    "    format_bitstring = \"{0:0\" + str(num_qubits) + \"b}\"\n",
    "    bitstring_keys = [format_bitstring.format(ii) for ii in range(2**num_qubits)]\n",
    "\n",
    "    # plot probabalities\n",
    "    plt.bar(bitstring_keys, probs_values)\n",
    "    plt.xlabel(\"bitstrings\")\n",
    "    plt.ylabel(\"probability\")\n",
    "    plt.xticks(rotation=90)\n",
    "    plt.show()\n",
    "\n",
    "    return measurement_counts"
   ]
  },
  {
   "cell_type": "markdown",
   "metadata": {},
   "source": [
    "Alice and Bob initially share a Bell pair.  Let's create this now:"
   ]
  },
  {
   "cell_type": "code",
   "execution_count": 5,
   "metadata": {
    "ExecuteTime": {
     "end_time": "2023-08-29T21:29:21.401058Z",
     "start_time": "2023-08-29T21:29:21.395088Z"
    }
   },
   "outputs": [
    {
     "data": {
      "text/plain": [
       "Circuit('instructions': [Instruction('operator': H('qubit_count': 1), 'target': QubitSet([Qubit(0)]), 'control': QubitSet([]), 'control_state': (), 'power': 1), Instruction('operator': CNot('qubit_count': 2), 'target': QubitSet([Qubit(0), Qubit(1)]), 'control': QubitSet([]), 'control_state': (), 'power': 1)])"
      ]
     },
     "execution_count": 5,
     "metadata": {},
     "output_type": "execute_result"
    }
   ],
   "source": [
    "circ = Circuit()\n",
    "circ.h([0])\n",
    "circ.cnot(0, 1)"
   ]
  },
  {
   "cell_type": "markdown",
   "metadata": {},
   "source": [
    "Define Alice's encoding scheme according to the table above.  Alice selects one of these messages to send."
   ]
  },
  {
   "cell_type": "code",
   "execution_count": 6,
   "metadata": {
    "ExecuteTime": {
     "end_time": "2023-08-29T21:29:21.418520Z",
     "start_time": "2023-08-29T21:29:21.402359Z"
    }
   },
   "outputs": [],
   "source": [
    "# Four possible messages and their corresponding gates\n",
    "message = {\n",
    "    \"00\": Circuit().i(0),\n",
    "    \"01\": Circuit().x(0),\n",
    "    \"10\": Circuit().z(0),\n",
    "    \"11\": Circuit().x(0).z(0),\n",
    "}"
   ]
  },
  {
   "cell_type": "code",
   "execution_count": 7,
   "metadata": {
    "ExecuteTime": {
     "end_time": "2023-08-29T21:29:21.427103Z",
     "start_time": "2023-08-29T21:29:21.407745Z"
    }
   },
   "outputs": [],
   "source": [
    "# Select message to send.  Let's start with '01' for now\n",
    "m = \"01\""
   ]
  },
  {
   "cell_type": "markdown",
   "metadata": {},
   "source": [
    "Alice encodes her message by applying the gates defined above"
   ]
  },
  {
   "cell_type": "code",
   "execution_count": 8,
   "metadata": {
    "ExecuteTime": {
     "end_time": "2023-08-29T21:29:21.429477Z",
     "start_time": "2023-08-29T21:29:21.413639Z"
    }
   },
   "outputs": [
    {
     "data": {
      "text/plain": [
       "Circuit('instructions': [Instruction('operator': H('qubit_count': 1), 'target': QubitSet([Qubit(0)]), 'control': QubitSet([]), 'control_state': (), 'power': 1), Instruction('operator': CNot('qubit_count': 2), 'target': QubitSet([Qubit(0), Qubit(1)]), 'control': QubitSet([]), 'control_state': (), 'power': 1), Instruction('operator': X('qubit_count': 1), 'target': QubitSet([Qubit(0)]), 'control': QubitSet([]), 'control_state': (), 'power': 1)])"
      ]
     },
     "execution_count": 8,
     "metadata": {},
     "output_type": "execute_result"
    }
   ],
   "source": [
    "# Encode the message\n",
    "circ.add_circuit(message[m])"
   ]
  },
  {
   "cell_type": "markdown",
   "metadata": {},
   "source": [
    "Alice then sends her qubit to Bob so that Bob has both qubits in his lab.  Bob decodes Alice's message by disentangling the two qubits:"
   ]
  },
  {
   "cell_type": "code",
   "execution_count": 9,
   "metadata": {
    "ExecuteTime": {
     "end_time": "2023-08-29T21:29:21.439717Z",
     "start_time": "2023-08-29T21:29:21.421078Z"
    }
   },
   "outputs": [
    {
     "data": {
      "text/plain": [
       "Circuit('instructions': [Instruction('operator': H('qubit_count': 1), 'target': QubitSet([Qubit(0)]), 'control': QubitSet([]), 'control_state': (), 'power': 1), Instruction('operator': CNot('qubit_count': 2), 'target': QubitSet([Qubit(0), Qubit(1)]), 'control': QubitSet([]), 'control_state': (), 'power': 1), Instruction('operator': X('qubit_count': 1), 'target': QubitSet([Qubit(0)]), 'control': QubitSet([]), 'control_state': (), 'power': 1), Instruction('operator': CNot('qubit_count': 2), 'target': QubitSet([Qubit(0), Qubit(1)]), 'control': QubitSet([]), 'control_state': (), 'power': 1), Instruction('operator': H('qubit_count': 1), 'target': QubitSet([Qubit(0)]), 'control': QubitSet([]), 'control_state': (), 'power': 1)])"
      ]
     },
     "execution_count": 9,
     "metadata": {},
     "output_type": "execute_result"
    }
   ],
   "source": [
    "circ.cnot(0, 1)\n",
    "circ.h([0])"
   ]
  },
  {
   "cell_type": "markdown",
   "metadata": {},
   "source": [
    "The full circuit now looks like"
   ]
  },
  {
   "cell_type": "code",
   "execution_count": 10,
   "metadata": {
    "ExecuteTime": {
     "end_time": "2023-08-29T21:29:21.455893Z",
     "start_time": "2023-08-29T21:29:21.428765Z"
    }
   },
   "outputs": [
    {
     "name": "stdout",
     "output_type": "stream",
     "text": [
      "T  : |0|1|2|3|4|\n",
      "                \n",
      "q0 : -H-C-X-C-H-\n",
      "        |   |   \n",
      "q1 : ---X---X---\n",
      "\n",
      "T  : |0|1|2|3|4|\n"
     ]
    }
   ],
   "source": [
    "print(circ)"
   ]
  },
  {
   "cell_type": "markdown",
   "metadata": {},
   "source": [
    "By measuring the two qubits in the computational basis, Bob can read off Alice's two qubit message"
   ]
  },
  {
   "cell_type": "code",
   "execution_count": 11,
   "metadata": {
    "ExecuteTime": {
     "end_time": "2023-08-29T21:29:21.706575Z",
     "start_time": "2023-08-29T21:29:21.473345Z"
    }
   },
   "outputs": [
    {
     "name": "stdout",
     "output_type": "stream",
     "text": [
      "Status: COMPLETED\n",
      "measurement_counts: Counter({'01': 1000})\n"
     ]
    },
    {
     "data": {
      "image/png": "[encoded data removed]",
      "text/plain": [
       "<Figure size 640x480 with 1 Axes>"
      ]
     },
     "metadata": {},
     "output_type": "display_data"
    },
    {
     "name": "stdout",
     "output_type": "stream",
     "text": [
      "Counter({'01': 1000})\n"
     ]
    }
   ],
   "source": [
    "counts = get_result(device, circ)\n",
    "print(counts)"
   ]
  },
  {
   "cell_type": "markdown",
   "metadata": {},
   "source": [
    "We can check that this scheme works for the other possible messages too:"
   ]
  },
  {
   "cell_type": "code",
   "execution_count": 12,
   "metadata": {
    "ExecuteTime": {
     "end_time": "2023-08-29T21:29:22.390121Z",
     "start_time": "2023-08-29T21:29:21.664131Z"
    }
   },
   "outputs": [
    {
     "name": "stdout",
     "output_type": "stream",
     "text": [
      "Status: COMPLETED\n",
      "measurement_counts: Counter({'00': 1000})\n"
     ]
    },
    {
     "data": {
      "image/png": "[encoded data removed]",
      "text/plain": [
       "<Figure size 640x480 with 1 Axes>"
      ]
     },
     "metadata": {},
     "output_type": "display_data"
    },
    {
     "name": "stdout",
     "output_type": "stream",
     "text": [
      "Message: 00. Results:\n",
      "Counter({'00': 1000})\n",
      "Status: COMPLETED\n",
      "measurement_counts: Counter({'01': 1000})\n"
     ]
    },
    {
     "data": {
      "image/png": "[encoded data removed]",
      "text/plain": [
       "<Figure size 640x480 with 1 Axes>"
      ]
     },
     "metadata": {},
     "output_type": "display_data"
    },
    {
     "name": "stdout",
     "output_type": "stream",
     "text": [
      "Message: 01. Results:\n",
      "Counter({'01': 1000})\n",
      "Status: COMPLETED\n",
      "measurement_counts: Counter({'10': 1000})\n"
     ]
    },
    {
     "data": {
      "image/png": "[encoded data removed]",
      "text/plain": [
       "<Figure size 640x480 with 1 Axes>"
      ]
     },
     "metadata": {},
     "output_type": "display_data"
    },
    {
     "name": "stdout",
     "output_type": "stream",
     "text": [
      "Message: 10. Results:\n",
      "Counter({'10': 1000})\n",
      "Status: COMPLETED\n",
      "measurement_counts: Counter({'11': 1000})\n"
     ]
    },
    {
     "data": {
      "image/png": "[encoded data removed]",
      "text/plain": [
       "<Figure size 640x480 with 1 Axes>"
      ]
     },
     "metadata": {},
     "output_type": "display_data"
    },
    {
     "name": "stdout",
     "output_type": "stream",
     "text": [
      "Message: 11. Results:\n",
      "Counter({'11': 1000})\n"
     ]
    }
   ],
   "source": [
    "for m in message:\n",
    "    # Reproduce the full circuit above by concatenating all of the gates:\n",
    "    newcirc = Circuit().h([0]).cnot(0, 1).add_circuit(message[m]).cnot(0, 1).h([0])\n",
    "\n",
    "    # Run the circuit:\n",
    "    counts = get_result(device, newcirc)\n",
    "\n",
    "    print(\"Message: \" + m + \". Results:\")\n",
    "    print(counts)"
   ]
  },
  {
   "cell_type": "code",
   "execution_count": 13,
   "metadata": {
    "ExecuteTime": {
     "end_time": "2023-08-29T21:29:22.393722Z",
     "start_time": "2023-08-29T21:29:22.382370Z"
    }
   },
   "outputs": [
    {
     "name": "stdout",
     "output_type": "stream",
     "text": [
      "Quantum Task Summary\n",
      "{}\n",
      "Note: Charges shown are estimates based on your Amazon Braket simulator and quantum processing unit (QPU) task usage. Estimated charges shown may differ from your actual charges. Estimated charges do not factor in any discounts or credits, and you may experience additional charges based on your use of other services such as Amazon Elastic Compute Cloud (Amazon EC2).\n",
      "Estimated cost to run this example: 0.00 USD\n"
     ]
    }
   ],
   "source": [
    "print(\"Quantum Task Summary\")\n",
    "print(t.quantum_tasks_statistics())\n",
    "print(\n",
    "    \"Note: Charges shown are estimates based on your Amazon Braket simulator and quantum processing unit (QPU) task usage. Estimated charges shown may differ from your actual charges. Estimated charges do not factor in any discounts or credits, and you may experience additional charges based on your use of other services such as Amazon Elastic Compute Cloud (Amazon EC2).\"\n",
    ")\n",
    "print(\n",
    "    f\"Estimated cost to run this example: {t.qpu_tasks_cost() + t.simulator_tasks_cost():.2f} USD\"\n",
    ")"
   ]
  }
 ],
 "metadata": {
  "kernelspec": {
   "display_name": "conda_braket",
   "language": "python",
   "name": "conda_braket"
  },
  "language_info": {
   "codemirror_mode": {
    "name": "ipython",
    "version": 3
   },
   "file_extension": ".py",
   "mimetype": "text/x-python",
   "name": "python",
   "nbconvert_exporter": "python",
   "pygments_lexer": "ipython3",
   "version": "3.8.10"
  },
  "vscode": {
   "interpreter": {
    "hash": "590fab68195cf107911461461f81d5c472d3d6127f579badfcfad30f03e5cab2"
   }
  }
 },
 "nbformat": 4,
 "nbformat_minor": 4
}
