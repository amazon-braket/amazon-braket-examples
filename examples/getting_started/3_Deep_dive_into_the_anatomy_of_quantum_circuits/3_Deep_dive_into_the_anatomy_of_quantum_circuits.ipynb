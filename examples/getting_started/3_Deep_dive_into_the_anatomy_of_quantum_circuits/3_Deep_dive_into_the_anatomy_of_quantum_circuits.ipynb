{
 "cells": [
  {
   "cell_type": "markdown",
   "metadata": {},
   "source": [
    "# Anatomy of Quantum Circuits and Quantum Tasks in Amazon Braket"
   ]
  },
  {
   "cell_type": "code",
   "execution_count": 1,
   "metadata": {
    "ExecuteTime": {
     "end_time": "2023-08-29T21:29:11.143425Z",
     "start_time": "2023-08-29T21:29:09.890217Z"
    }
   },
   "outputs": [],
   "source": [
    "# Use Braket SDK Cost Tracking to estimate the cost to run this example\n",
    "from braket.tracking import Tracker\n",
    "t = Tracker().start()"
   ]
  },
  {
   "cell_type": "markdown",
   "metadata": {},
   "source": [
    "In this tutorial we discuss in detail the anatomy of quantum circuits in Amazon Braket's SDK. Specifically, we learn how to build (parametrized) circuits and display them graphically, how to append circuits to each other, and discuss the associated circuit depth and circuit size. Finally we show how to execute our circuit on a device of our choice (defining a quantum task). We then learn how to efficiently track, log, recover or cancel such a _quantum task_. "
   ]
  },
  {
   "cell_type": "markdown",
   "metadata": {},
   "source": [
    "## IMPORT STATEMENTS"
   ]
  },
  {
   "cell_type": "markdown",
   "metadata": {},
   "source": [
    "First we import some modules we will need."
   ]
  },
  {
   "cell_type": "code",
   "execution_count": 2,
   "metadata": {
    "ExecuteTime": {
     "end_time": "2023-08-29T21:29:12.395144Z",
     "start_time": "2023-08-29T21:29:09.942484Z"
    }
   },
   "outputs": [],
   "source": [
    "# general imports\n",
    "import asyncio\n",
    "import numpy as np\n",
    "import matplotlib.pyplot as plt\n",
    "# magic word for producing visualizations in notebook\n",
    "%matplotlib inline\n",
    "import string\n",
    "from datetime import datetime\n",
    "import logging\n",
    "\n",
    "# AWS imports: Import Braket SDK modules\n",
    "from braket.aws import AwsDevice, AwsQuantumTask\n",
    "from braket.circuits import Circuit, Gate, circuit\n",
    "from braket.circuits.observables import H, X, Y, Z\n",
    "from braket.devices import Devices, LocalSimulator\n",
    "from braket.parametric import FreeParameter"
   ]
  },
  {
   "cell_type": "markdown",
   "metadata": {},
   "source": [
    "## CIRCUIT DEFINITION"
   ]
  },
  {
   "cell_type": "markdown",
   "metadata": {},
   "source": [
    "Let us get started a sample circuit for four qubits (labelled q0, q1, q2 and q3) consisting of standard single-qubit ```Hadamard``` gates and two-qubit ```CNOT``` gates; for a full list of available gates see below. We can then visualize our circuit by simply calling the ```print``` function. "
   ]
  },
  {
   "cell_type": "code",
   "execution_count": 3,
   "metadata": {
    "ExecuteTime": {
     "end_time": "2023-08-29T21:29:12.403030Z",
     "start_time": "2023-08-29T21:29:12.399074Z"
    }
   },
   "outputs": [
    {
     "name": "stdout",
     "output_type": "stream",
     "text": [
      "T  : │  0  │     1     │\n",
      "      ┌───┐             \n",
      "q0 : ─┤ H ├───●─────────\n",
      "      └───┘   │         \n",
      "      ┌───┐   │         \n",
      "q1 : ─┤ H ├───┼─────●───\n",
      "      └───┘   │     │   \n",
      "      ┌───┐ ┌─┴─┐   │   \n",
      "q2 : ─┤ H ├─┤ X ├───┼───\n",
      "      └───┘ └───┘   │   \n",
      "      ┌───┐       ┌─┴─┐ \n",
      "q3 : ─┤ H ├───────┤ X ├─\n",
      "      └───┘       └───┘ \n",
      "T  : │  0  │     1     │\n"
     ]
    }
   ],
   "source": [
    "# define circuit with 4 qubits\n",
    "my_circuit = Circuit().h(range(4)).cnot(control=0, target=2).cnot(control=1, target=3)\n",
    "print(my_circuit)"
   ]
  },
  {
   "cell_type": "markdown",
   "metadata": {},
   "source": [
    "Here, time is sliced up into moments. The circuit above consists of just two moments. First, we apply a ```Hadamard``` gate to every qubit in moment 0 and then we apply two ```CNOT``` gates. Since the latter can be run in parallel as they involve different sets of qubits, they only use up one moment of time. For better readability they are displayed next to each other with some small offset. "
   ]
  },
  {
   "cell_type": "code",
   "execution_count": 4,
   "metadata": {
    "ExecuteTime": {
     "end_time": "2023-08-29T21:29:12.407922Z",
     "start_time": "2023-08-29T21:29:12.404189Z"
    }
   },
   "outputs": [
    {
     "name": "stdout",
     "output_type": "stream",
     "text": [
      "MomentsKey(time=0, qubits=QubitSet([Qubit(0)]), moment_type=<MomentType.GATE: 'gate'>, noise_index=0, subindex=0)\n",
      "MomentsKey(time=0, qubits=QubitSet([Qubit(1)]), moment_type=<MomentType.GATE: 'gate'>, noise_index=0, subindex=0)\n",
      "MomentsKey(time=0, qubits=QubitSet([Qubit(2)]), moment_type=<MomentType.GATE: 'gate'>, noise_index=0, subindex=0)\n",
      "MomentsKey(time=0, qubits=QubitSet([Qubit(3)]), moment_type=<MomentType.GATE: 'gate'>, noise_index=0, subindex=0)\n",
      "MomentsKey(time=1, qubits=QubitSet([Qubit(0), Qubit(2)]), moment_type=<MomentType.GATE: 'gate'>, noise_index=0, subindex=0)\n",
      "MomentsKey(time=1, qubits=QubitSet([Qubit(1), Qubit(3)]), moment_type=<MomentType.GATE: 'gate'>, noise_index=0, subindex=0)\n"
     ]
    }
   ],
   "source": [
    "# show moments of our quantum circuit\n",
    "my_moments = my_circuit.moments\n",
    "for moment in my_moments:\n",
    "    print(moment)"
   ]
  },
  {
   "cell_type": "code",
   "execution_count": 5,
   "metadata": {
    "ExecuteTime": {
     "end_time": "2023-08-29T21:29:12.432975Z",
     "start_time": "2023-08-29T21:29:12.410615Z"
    }
   },
   "outputs": [
    {
     "name": "stdout",
     "output_type": "stream",
     "text": [
      "Instruction('operator': H('qubit_count': 1), 'target': QubitSet([Qubit(0)]), 'control': QubitSet([]), 'control_state': (), 'power': 1)\n",
      "Instruction('operator': H('qubit_count': 1), 'target': QubitSet([Qubit(1)]), 'control': QubitSet([]), 'control_state': (), 'power': 1)\n",
      "Instruction('operator': H('qubit_count': 1), 'target': QubitSet([Qubit(2)]), 'control': QubitSet([]), 'control_state': (), 'power': 1)\n",
      "Instruction('operator': H('qubit_count': 1), 'target': QubitSet([Qubit(3)]), 'control': QubitSet([]), 'control_state': (), 'power': 1)\n",
      "Instruction('operator': CNot('qubit_count': 2), 'target': QubitSet([Qubit(0), Qubit(2)]), 'control': QubitSet([]), 'control_state': (), 'power': 1)\n",
      "Instruction('operator': CNot('qubit_count': 2), 'target': QubitSet([Qubit(1), Qubit(3)]), 'control': QubitSet([]), 'control_state': (), 'power': 1)\n"
     ]
    }
   ],
   "source": [
    "# list all instructions/gates making up our circuit\n",
    "my_instructions = my_circuit.instructions\n",
    "for instruction in my_instructions:\n",
    "    print(instruction)"
   ]
  },
  {
   "cell_type": "markdown",
   "metadata": {},
   "source": [
    "Next, let us build a parametrized circuit where we have to supply numerical parameter values to fully define the circuit, as is the case for example for single-qubit rotations (as described [here](https://github.com/amazon-braket/amazon-braket-sdk-python/blob/main/src/braket/circuits/gates.py#L578)) and the two-qubit ```cnot``` as described in the source code [here](https://github.com/amazon-braket/amazon-braket-sdk-python/blob/main/src/braket/circuits/gates.py#L701). The specific parameter values are shown in circuit diagram. "
   ]
  },
  {
   "cell_type": "code",
   "execution_count": 6,
   "metadata": {
    "ExecuteTime": {
     "end_time": "2023-08-29T21:29:12.453818Z",
     "start_time": "2023-08-29T21:29:12.419431Z"
    }
   },
   "outputs": [
    {
     "name": "stdout",
     "output_type": "stream",
     "text": [
      "T  : │     0      │     1     │  2  │\n",
      "      ┌──────────┐                   \n",
      "q0 : ─┤ Rx(0.15) ├───●───────────────\n",
      "      └──────────┘   │               \n",
      "      ┌──────────┐   │         ┌───┐ \n",
      "q1 : ─┤ Ry(0.20) ├───┼─────●───┤ X ├─\n",
      "      └──────────┘   │     │   └───┘ \n",
      "      ┌──────────┐ ┌─┴─┐   │         \n",
      "q2 : ─┤ Rz(0.25) ├─┤ X ├───┼─────────\n",
      "      └──────────┘ └───┘   │         \n",
      "         ┌───┐           ┌─┴─┐ ┌───┐ \n",
      "q3 : ────┤ H ├───────────┤ X ├─┤ X ├─\n",
      "         └───┘           └───┘ └───┘ \n",
      "T  : │     0      │     1     │  2  │\n"
     ]
    }
   ],
   "source": [
    "# define circuit with some parametrized gates \n",
    "my_circuit = Circuit().rx(0, 0.15).ry(1, 0.2).rz(2, 0.25).h(3).cnot(control=0, target=2).cnot(1, 3).x([1,3])\n",
    "print(my_circuit)"
   ]
  },
  {
   "cell_type": "markdown",
   "metadata": {},
   "source": [
    "We can also create a `Circuit` with gates which depend on a `FreeParameter`, the value of which can be set later, either by fixing it in the circuit itself, or when the circuit is run on a device."
   ]
  },
  {
   "cell_type": "code",
   "execution_count": 7,
   "metadata": {
    "ExecuteTime": {
     "end_time": "2023-08-29T21:29:12.454305Z",
     "start_time": "2023-08-29T21:29:12.425947Z"
    }
   },
   "outputs": [
    {
     "name": "stdout",
     "output_type": "stream",
     "text": [
      "T  : │      0      │     1     │  2  │\n",
      "      ┌───────────┐                   \n",
      "q0 : ─┤ Rx(alpha) ├───●───────────────\n",
      "      └───────────┘   │               \n",
      "      ┌──────────┐    │         ┌───┐ \n",
      "q1 : ─┤ Ry(beta) ├────┼─────●───┤ X ├─\n",
      "      └──────────┘    │     │   └───┘ \n",
      "      ┌───────────┐ ┌─┴─┐   │         \n",
      "q2 : ─┤ Rz(gamma) ├─┤ X ├───┼─────────\n",
      "      └───────────┘ └───┘   │         \n",
      "          ┌───┐           ┌─┴─┐ ┌───┐ \n",
      "q3 : ─────┤ H ├───────────┤ X ├─┤ X ├─\n",
      "          └───┘           └───┘ └───┘ \n",
      "T  : │      0      │     1     │  2  │\n",
      "\n",
      "Unassigned parameters: [alpha, beta, gamma].\n"
     ]
    }
   ],
   "source": [
    "# define circuit with some parametrized gates and free parameters\n",
    "alpha = FreeParameter('alpha')\n",
    "beta  = FreeParameter('beta')\n",
    "gamma = FreeParameter('gamma')\n",
    "my_circuit = Circuit().rx(0, alpha).ry(1, beta).rz(2, gamma).h(3).cnot(control=0, target=2).cnot(1, 3).x([1,3])\n",
    "print(my_circuit)"
   ]
  },
  {
   "cell_type": "markdown",
   "metadata": {},
   "source": [
    "__GATE SET__: Below we list all gates currently available in our SDK. Moreover, we can build custom gates as shown below for a general single-qubit rotation. "
   ]
  },
  {
   "cell_type": "code",
   "execution_count": 8,
   "metadata": {
    "ExecuteTime": {
     "end_time": "2023-08-29T21:29:12.457289Z",
     "start_time": "2023-08-29T21:29:12.431752Z"
    }
   },
   "outputs": [
    {
     "name": "stdout",
     "output_type": "stream",
     "text": [
      "['CCNot', 'CNot', 'CPhaseShift', 'CPhaseShift00', 'CPhaseShift01', 'CPhaseShift10', 'CSwap', 'CV', 'CY', 'CZ', 'ECR', 'GPhase', 'GPi', 'GPi2', 'H', 'I', 'ISwap', 'MS', 'PRx', 'PSwap', 'PhaseShift', 'PulseGate', 'Rx', 'Ry', 'Rz', 'S', 'Si', 'Swap', 'T', 'Ti', 'U', 'Unitary', 'V', 'Vi', 'X', 'XX', 'XY', 'Y', 'YY', 'Z', 'ZZ']\n"
     ]
    }
   ],
   "source": [
    "# print all available gates currently available within SDK\n",
    "gate_set = [attr for attr in dir(Gate) if attr[0] in string.ascii_uppercase]\n",
    "print(gate_set)"
   ]
  },
  {
   "cell_type": "code",
   "execution_count": 9,
   "metadata": {
    "ExecuteTime": {
     "end_time": "2023-08-29T21:29:12.457608Z",
     "start_time": "2023-08-29T21:29:12.436051Z"
    }
   },
   "outputs": [],
   "source": [
    "# helper function to build custom gate \n",
    "def u3(alpha, theta, phi):\n",
    "    \"\"\"\n",
    "    function to return matrix for general single qubit rotation\n",
    "    rotation is given by exp(-i sigma*n/2*alpha) where alpha is rotation angle\n",
    "    and n defines rotation axis as n=(sin(theta)cos(phi), sin(theta)sin(phi), cos(theta))\n",
    "    sigma is vector of Pauli matrices\n",
    "    \"\"\"\n",
    "    u11 = np.cos(alpha/2)-1j*np.sin(alpha/2)*np.cos(theta)\n",
    "    u12 = -1j*(np.exp(-1j*phi))*np.sin(theta)*np.sin(alpha/2)\n",
    "    u21 = -1j*(np.exp(1j*phi))*np.sin(theta)*np.sin(alpha/2)\n",
    "    u22 = np.cos(alpha/2)+1j*np.sin(alpha/2)*np.cos(theta)\n",
    "    \n",
    "    return np.array([[u11, u12], [u21, u22]])"
   ]
  },
  {
   "cell_type": "code",
   "execution_count": 10,
   "metadata": {
    "ExecuteTime": {
     "end_time": "2023-08-29T21:29:12.457916Z",
     "start_time": "2023-08-29T21:29:12.444295Z"
    }
   },
   "outputs": [
    {
     "name": "stdout",
     "output_type": "stream",
     "text": [
      "T  : │  0  │  1  │\n",
      "      ┌───┐       \n",
      "q0 : ─┤ U ├───●───\n",
      "      └───┘   │   \n",
      "      ┌───┐ ┌─┴─┐ \n",
      "q1 : ─┤ H ├─┤ X ├─\n",
      "      └───┘ └───┘ \n",
      "T  : │  0  │  1  │\n"
     ]
    }
   ],
   "source": [
    "# define and print custom unitary\n",
    "my_u3 = u3(np.pi/2, 0, 0)\n",
    "# print(my_u3)\n",
    "# define example circuit applying custom U to the first qubit\n",
    "circ = Circuit().unitary(matrix=my_u3, targets=[0]).h(1).cnot(control=0, target=1)\n",
    "print(circ)"
   ]
  },
  {
   "cell_type": "markdown",
   "metadata": {},
   "source": [
    "Here, in the circuit diagram our custom unitary is depicted with the general symbol ```U```. \n",
    "In addition, we can use Braket's `circuit.subroutine` functionality, which allows us to use custom-built gates as any other built-in gates.  "
   ]
  },
  {
   "cell_type": "code",
   "execution_count": 11,
   "metadata": {
    "ExecuteTime": {
     "end_time": "2023-08-29T21:29:12.469998Z",
     "start_time": "2023-08-29T21:29:12.454210Z"
    }
   },
   "outputs": [],
   "source": [
    "# helper function to build custom gate\n",
    "@circuit.subroutine(register=True)\n",
    "def u3(target, angles):\n",
    "    \"\"\"\n",
    "    Function to return the matrix for a general single qubit rotation,\n",
    "    given by exp(-i sigma*n/2*alpha), where alpha is the rotation angle,\n",
    "    n defines the rotation axis via n=(sin(theta)cos(phi), sin(theta)sin(phi), cos(theta)),\n",
    "    and sigma is the vector of Pauli matrices\n",
    "    \"\"\"\n",
    "    \n",
    "    # get angles\n",
    "    alpha = angles[0]\n",
    "    theta = angles[1]\n",
    "    phi = angles[2]\n",
    "    \n",
    "    # set 2x2 matrix entries\n",
    "    u11 = np.cos(alpha/2)-1j*np.sin(alpha/2)*np.cos(theta)\n",
    "    u12 = -1j*(np.exp(-1j*phi))*np.sin(theta)*np.sin(alpha/2)\n",
    "    u21 = -1j*(np.exp(1j*phi))*np.sin(theta)*np.sin(alpha/2)\n",
    "    u22 = np.cos(alpha/2)+1j*np.sin(alpha/2)*np.cos(theta)\n",
    "    \n",
    "    # define unitary as numpy matrix\n",
    "    u = np.array([[u11, u12], [u21, u22]])\n",
    "    # print('Unitary:', u)\n",
    "    \n",
    "    # define custom Braket gate\n",
    "    circ = Circuit()\n",
    "    circ.unitary(matrix=u, targets=target)\n",
    "    \n",
    "    return circ"
   ]
  },
  {
   "cell_type": "code",
   "execution_count": 12,
   "metadata": {
    "ExecuteTime": {
     "end_time": "2023-08-29T21:29:12.476356Z",
     "start_time": "2023-08-29T21:29:12.460167Z"
    }
   },
   "outputs": [
    {
     "name": "stdout",
     "output_type": "stream",
     "text": [
      "T  : │  0  │  1  │\n",
      "      ┌───┐       \n",
      "q0 : ─┤ U ├───●───\n",
      "      └───┘   │   \n",
      "            ┌─┴─┐ \n",
      "q1 : ───────┤ X ├─\n",
      "            └───┘ \n",
      "T  : │  0  │  1  │\n"
     ]
    }
   ],
   "source": [
    "# define example circuit applying custom single-qubit gate U to the first qubit\n",
    "angles = [np.pi/2, np.pi/2, np.pi/2]\n",
    "angles = [np.pi/4, 0, 0]\n",
    "\n",
    "# build circuit using custom u3 gate\n",
    "circ2 = Circuit().u3([0], angles).cnot(control=0, target=1)\n",
    "print(circ2)"
   ]
  },
  {
   "cell_type": "markdown",
   "metadata": {},
   "source": [
    "## CIRCUIT DEPTH AND CIRCUIT SIZE"
   ]
  },
  {
   "cell_type": "markdown",
   "metadata": {},
   "source": [
    "We can get the circuit depth (the number of moments defining our circuit) with ```circuit.depth``` as shown below. "
   ]
  },
  {
   "cell_type": "code",
   "execution_count": 13,
   "metadata": {
    "ExecuteTime": {
     "end_time": "2023-08-29T21:29:12.476595Z",
     "start_time": "2023-08-29T21:29:12.467478Z"
    }
   },
   "outputs": [
    {
     "name": "stdout",
     "output_type": "stream",
     "text": [
      "T  : │     0      │     1     │  2  │\n",
      "      ┌──────────┐             ┌───┐ \n",
      "q0 : ─┤ Rx(0.15) ├───●─────────┤ X ├─\n",
      "      └──────────┘   │         └───┘ \n",
      "      ┌──────────┐   │               \n",
      "q1 : ─┤ Ry(0.20) ├───┼─────●─────────\n",
      "      └──────────┘   │     │         \n",
      "      ┌──────────┐ ┌─┴─┐   │         \n",
      "q2 : ─┤ Rz(0.25) ├─┤ X ├───┼─────────\n",
      "      └──────────┘ └───┘   │         \n",
      "         ┌───┐           ┌─┴─┐       \n",
      "q3 : ────┤ H ├───────────┤ X ├───────\n",
      "         └───┘           └───┘       \n",
      "T  : │     0      │     1     │  2  │\n",
      "\n",
      "Total circuit depth: 3\n"
     ]
    }
   ],
   "source": [
    "# define circuit with parametrized gates \n",
    "my_circuit = Circuit().rx(0, 0.15).ry(1, 0.2).rz(2, 0.25).h(3).cnot(control=0, target=2).cnot(1, 3).x(0)\n",
    "circuit_depth = my_circuit.depth\n",
    "print(my_circuit)\n",
    "print()\n",
    "print('Total circuit depth:', circuit_depth)"
   ]
  },
  {
   "cell_type": "markdown",
   "metadata": {},
   "source": [
    "The total circuit depth of the circuit above is three (moments 0, 1, 2). It is three because we have added a single qubit ```X``` gate applied to qubit 0 in the final layer. However, note that gates are applied as early as possible in time, provided that this is not in conflict with any other gate that has to be applied before. See below an example where we add one qubit to which we only apply one single qubit ```X``` gate. This circuit is shallower as its circuit depth is only two. The ```X``` gate is applied to qubit 4 as early as possible even though we have applied the corresponding command at the end of our circuit definition. "
   ]
  },
  {
   "cell_type": "code",
   "execution_count": 14,
   "metadata": {
    "ExecuteTime": {
     "end_time": "2023-08-29T21:29:12.534505Z",
     "start_time": "2023-08-29T21:29:12.480749Z"
    }
   },
   "outputs": [
    {
     "name": "stdout",
     "output_type": "stream",
     "text": [
      "T  : │     0      │     1     │\n",
      "      ┌──────────┐             \n",
      "q0 : ─┤ Rx(0.15) ├───●─────────\n",
      "      └──────────┘   │         \n",
      "      ┌──────────┐   │         \n",
      "q1 : ─┤ Ry(0.20) ├───┼─────●───\n",
      "      └──────────┘   │     │   \n",
      "      ┌──────────┐ ┌─┴─┐   │   \n",
      "q2 : ─┤ Rz(0.25) ├─┤ X ├───┼───\n",
      "      └──────────┘ └───┘   │   \n",
      "         ┌───┐           ┌─┴─┐ \n",
      "q3 : ────┤ H ├───────────┤ X ├─\n",
      "         └───┘           └───┘ \n",
      "         ┌───┐                 \n",
      "q4 : ────┤ X ├─────────────────\n",
      "         └───┘                 \n",
      "T  : │     0      │     1     │\n",
      "\n",
      "Total circuit depth: 2\n",
      "Number of qubits: 5\n",
      "Circuit size: 10\n"
     ]
    }
   ],
   "source": [
    "# define circuit with parameterized gates \n",
    "my_circuit = Circuit().rx(0, 0.15).ry(1, 0.2).rz(2, 0.25).h(3).cnot(control=0, target=2).cnot(1, 3).x(4)\n",
    "# get circuit depth\n",
    "circuit_depth = my_circuit.depth\n",
    "# get qubit number\n",
    "qubit_count = my_circuit.qubit_count\n",
    "# get approx. estimate of circuit size\n",
    "circuit_size = circuit_depth*qubit_count\n",
    "# print circuit\n",
    "print(my_circuit)\n",
    "print()\n",
    "# print characteristics of our circuit\n",
    "print('Total circuit depth:', circuit_depth)\n",
    "print('Number of qubits:', qubit_count)\n",
    "print('Circuit size:', circuit_size)"
   ]
  },
  {
   "cell_type": "markdown",
   "metadata": {},
   "source": [
    "In the example above we have also introduced the concept of __circuit size__. Intuitively, the circuit size is a metric that reflects the complexity of our circuit. The circuit size accounts for both quantity (the number of qubits) and quality (as captured by the depth of the circuit); here we have used a very simple definition multiplying the qubit number with the circuit depth (that is the area of our diagram). In practice, in the absence of quantum error correction, on real quantum machines the depth is limited by noise so we can only faithfully run circuits whose depth is within the quality bounds of our machine. Simply speaking, this means: The larger the circuit size, the harder it is to simulate on a classical device and the more powerful the quantum machine is that is able to faithfully execute this circuit. "
   ]
  },
  {
   "cell_type": "markdown",
   "metadata": {},
   "source": [
    "## APPENDING CIRCUITS"
   ]
  },
  {
   "cell_type": "markdown",
   "metadata": {},
   "source": [
    "We can extend existing circuits by adding instructions or just appending circuits to each other, as shown below. In the most simple and straightforward fashion we can just append gates to existing circuits (for example, ```my_circuit.y(4)```). "
   ]
  },
  {
   "cell_type": "code",
   "execution_count": 15,
   "metadata": {
    "ExecuteTime": {
     "end_time": "2023-08-29T21:29:12.534984Z",
     "start_time": "2023-08-29T21:29:12.489006Z"
    }
   },
   "outputs": [
    {
     "name": "stdout",
     "output_type": "stream",
     "text": [
      "T  : │     0      │     1     │\n",
      "      ┌──────────┐             \n",
      "q0 : ─┤ Rx(0.15) ├───●─────────\n",
      "      └──────────┘   │         \n",
      "      ┌──────────┐   │         \n",
      "q1 : ─┤ Ry(0.20) ├───┼─────●───\n",
      "      └──────────┘   │     │   \n",
      "      ┌──────────┐ ┌─┴─┐   │   \n",
      "q2 : ─┤ Rz(0.25) ├─┤ X ├───┼───\n",
      "      └──────────┘ └───┘   │   \n",
      "         ┌───┐           ┌─┴─┐ \n",
      "q3 : ────┤ H ├───────────┤ X ├─\n",
      "         └───┘           └───┘ \n",
      "         ┌───┐     ┌───┐       \n",
      "q4 : ────┤ X ├─────┤ Y ├───────\n",
      "         └───┘     └───┘       \n",
      "T  : │     0      │     1     │\n",
      "\n",
      "Total circuit depth: 2\n",
      "Number of qubits: 5\n",
      "Circuit size: 10\n"
     ]
    }
   ],
   "source": [
    "# simple circuit extension by appending gates (here Y on qubit 4)\n",
    "my_circuit = my_circuit.y(4)\n",
    "# get circuit depth\n",
    "circuit_depth = my_circuit.depth\n",
    "# get qubit number\n",
    "qubit_count = my_circuit.qubit_count\n",
    "# get circuit size\n",
    "circuit_size = circuit_depth*qubit_count\n",
    "# print circuit\n",
    "print(my_circuit)\n",
    "print()\n",
    "print('Total circuit depth:', circuit_depth)\n",
    "print('Number of qubits:', qubit_count)\n",
    "print('Circuit size:', circuit_size)"
   ]
  },
  {
   "cell_type": "markdown",
   "metadata": {},
   "source": [
    "Alternatively, we can define a gate as an ```Instruction``` and use the ```add_instruction(...)``` method to add this gate to an existing circuit object."
   ]
  },
  {
   "cell_type": "code",
   "execution_count": 16,
   "metadata": {
    "ExecuteTime": {
     "end_time": "2023-08-29T21:29:12.538575Z",
     "start_time": "2023-08-29T21:29:12.493364Z"
    }
   },
   "outputs": [
    {
     "name": "stdout",
     "output_type": "stream",
     "text": [
      "T  : │     0      │     1     │  2  │\n",
      "      ┌──────────┐                   \n",
      "q0 : ─┤ Rx(0.15) ├───●───────────●───\n",
      "      └──────────┘   │           │   \n",
      "      ┌──────────┐   │         ┌─┴─┐ \n",
      "q1 : ─┤ Ry(0.20) ├───┼─────●───┤ X ├─\n",
      "      └──────────┘   │     │   └───┘ \n",
      "      ┌──────────┐ ┌─┴─┐   │         \n",
      "q2 : ─┤ Rz(0.25) ├─┤ X ├───┼─────────\n",
      "      └──────────┘ └───┘   │         \n",
      "         ┌───┐           ┌─┴─┐       \n",
      "q3 : ────┤ H ├───────────┤ X ├───────\n",
      "         └───┘           └───┘       \n",
      "         ┌───┐     ┌───┐             \n",
      "q4 : ────┤ X ├─────┤ Y ├─────────────\n",
      "         └───┘     └───┘             \n",
      "T  : │     0      │     1     │  2  │\n",
      "\n",
      "Total circuit depth: 3\n",
      "Number of qubits: 5\n",
      "Circuit size: 15\n"
     ]
    }
   ],
   "source": [
    "# add instruction to circuit\n",
    "my_circuit.cnot(0, 1)\n",
    "# get circuit depth\n",
    "circuit_depth = my_circuit.depth\n",
    "# get qubit number\n",
    "qubit_count = my_circuit.qubit_count\n",
    "# get circuit size\n",
    "circuit_size = circuit_depth*qubit_count\n",
    "# print circuit\n",
    "print(my_circuit)\n",
    "print()\n",
    "print('Total circuit depth:', circuit_depth)\n",
    "print('Number of qubits:', qubit_count)\n",
    "print('Circuit size:', circuit_size)"
   ]
  },
  {
   "cell_type": "markdown",
   "metadata": {},
   "source": [
    "We can append entire circuits to each other with ```add_circuit()```. "
   ]
  },
  {
   "cell_type": "code",
   "execution_count": 17,
   "metadata": {
    "ExecuteTime": {
     "end_time": "2023-08-29T21:29:12.539103Z",
     "start_time": "2023-08-29T21:29:12.505217Z"
    }
   },
   "outputs": [
    {
     "name": "stdout",
     "output_type": "stream",
     "text": [
      "T  : │     0      │     1     │     2      │     3      │\n",
      "      ┌──────────┐                          ┌──────────┐ \n",
      "q0 : ─┤ Rx(0.15) ├───●──────────────●───────┤ Rz(0.10) ├─\n",
      "      └──────────┘   │              │       └──────────┘ \n",
      "      ┌──────────┐   │            ┌─┴─┐     ┌──────────┐ \n",
      "q1 : ─┤ Ry(0.20) ├───┼─────●──────┤ X ├─────┤ Rz(0.20) ├─\n",
      "      └──────────┘   │     │      └───┘     └──────────┘ \n",
      "      ┌──────────┐ ┌─┴─┐   │                             \n",
      "q2 : ─┤ Rz(0.25) ├─┤ X ├───┼─────────────────────────────\n",
      "      └──────────┘ └───┘   │                             \n",
      "         ┌───┐           ┌─┴─┐ ┌──────────┐              \n",
      "q3 : ────┤ H ├───────────┤ X ├─┤ Rz(0.30) ├──────────────\n",
      "         └───┘           └───┘ └──────────┘              \n",
      "         ┌───┐     ┌───┐       ┌──────────┐              \n",
      "q4 : ────┤ X ├─────┤ Y ├───────┤ Rz(0.40) ├──────────────\n",
      "         └───┘     └───┘       └──────────┘              \n",
      "T  : │     0      │     1     │     2      │     3      │\n",
      "\n",
      "Total circuit depth: 4\n",
      "Number of qubits: 5\n",
      "Circuit size: 20\n"
     ]
    }
   ],
   "source": [
    "# append two circuits with add_circuit() functionality\n",
    "my_circuit2 = Circuit().rz(0, 0.1).rz(1, 0.2).rz(3, 0.3).rz(4, 0.4)\n",
    "my_circuit.add_circuit(my_circuit2)\n",
    "\n",
    "# get circuit depth\n",
    "circuit_depth = my_circuit.depth\n",
    "# get qubit number\n",
    "qubit_count = my_circuit.qubit_count\n",
    "# get circuit size\n",
    "circuit_size = circuit_depth*qubit_count\n",
    "# print circuit\n",
    "print(my_circuit)\n",
    "print()\n",
    "# print characteristics of our circuit\n",
    "print('Total circuit depth:', circuit_depth)\n",
    "print('Number of qubits:', qubit_count)\n",
    "print('Circuit size:', circuit_size)"
   ]
  },
  {
   "cell_type": "markdown",
   "metadata": {},
   "source": [
    "Again, note that the single qubit rotations we have appended to our circuit are applied as early as possible. This helps keeping the circuit as short as possible, as required in the presence of decoherence.  "
   ]
  },
  {
   "cell_type": "markdown",
   "metadata": {},
   "source": [
    "## CIRCUIT EXECUTION AND QUANTUM TASK TRACKING"
   ]
  },
  {
   "cell_type": "markdown",
   "metadata": {},
   "source": [
    "Finally, let us run our circuit on a device of our choice. We do so by defining a classical ```device``` object below and calling the method ```device.run(my_circuit)```. Additional _task creation_ arguments can be provided to the ```run()``` method of the device object; in particular the optional “shots” argument refers to the number of desired measurement shots (default = 1000).\n",
    "\n",
    "The command ```device.run(...)``` defines a quantum task (with a unique quantum task ID), the status of which can be queried and tracked with ```task.state()``` as shown below. Once the quantum task completes (which may take some time, specifically for the QPU devices, depending on the length of the queue), one can retrieve the results from the S3 bucket as specified below; you can check for \"Quantum Task Status” under Quantum Tasks within your Braket console. Note that ```task = device.run()``` is an _asynchronous_ operation. This means you can keep working while the system in the background polls for the results. You can always check the quantum task status with ```task.state()```. When you call ```task.result()```, this becomes a blocking call that will throw an error if within the timeout period you will not get a result. We show below how to set this timeout period. \n",
    "\n",
    "By calling ```result()``` on a quantum task, you get the quantum task result by polling Amazon Braket to see if the quantum task is completed. Once the quantum task is completed, the result is retrieved from S3 and returned as a ```QuantumTaskResult```. As opposed to ```async_result()```, this method is a blocking thread call and synchronously returns a result."
   ]
  },
  {
   "cell_type": "code",
   "execution_count": 18,
   "metadata": {
    "ExecuteTime": {
     "end_time": "2023-08-29T21:29:12.790091Z",
     "start_time": "2023-08-29T21:29:12.518729Z"
    }
   },
   "outputs": [],
   "source": [
    "# Create the device. The experiment value must be unique among any devices in use at the time\n",
    "device = AwsDevice(Devices.Amazon.SV1)\n",
    "\n",
    "# set up the device to be the Rigetti quantum computer\n",
    "# device = AwsDevice(Devices.Rigetti.Ankaa2)\n",
    "\n",
    "# set up the device to be the IonQ quantum computer\n",
    "# device = AwsDevice(Devices.IonQ.Aria1)\n",
    "\n",
    "# set up the device to be the IQM quantum computer\n",
    "# device = AwsDevice(Devices.IQM.Garnet)"
   ]
  },
  {
   "cell_type": "markdown",
   "metadata": {},
   "source": [
    "We can check out the set of gates this device supports as follows: "
   ]
  },
  {
   "cell_type": "code",
   "execution_count": 19,
   "metadata": {
    "ExecuteTime": {
     "end_time": "2023-08-29T21:29:12.796519Z",
     "start_time": "2023-08-29T21:29:12.790417Z"
    }
   },
   "outputs": [
    {
     "name": "stdout",
     "output_type": "stream",
     "text": [
      "Quantum Gates supported by this device:\n",
      " ['ccnot', 'cnot', 'cphaseshift', 'cphaseshift00', 'cphaseshift01', 'cphaseshift10', 'cswap', 'cy', 'cz', 'ecr', 'h', 'i', 'iswap', 'pswap', 'phaseshift', 'rx', 'ry', 'rz', 's', 'si', 'swap', 't', 'ti', 'unitary', 'v', 'vi', 'x', 'xx', 'xy', 'y', 'yy', 'z', 'zz']\n"
     ]
    }
   ],
   "source": [
    "# show the properties of the device\n",
    "device_properties = device.properties\n",
    "# show supportedQuantumOperations (supported gates for a device)\n",
    "device_operations = device_properties.dict()['action']['braket.ir.jaqcd.program']['supportedOperations']\n",
    "# Note: This field also exists for other devices like the QPUs\n",
    "print('Quantum Gates supported by this device:\\n',device_operations)"
   ]
  },
  {
   "cell_type": "markdown",
   "metadata": {},
   "source": [
    "__POLLING PARAMETERS__: With the ```run(...)``` method we can set two important parameters: \n",
    "* ```poll_timeout_seconds``` is the number of seconds you want to wait and poll the task before it times out; the default value is 5 days (that is $\\sim 5*60*60*24$ seconds). \n",
    "* ```poll_interval_seconds``` is the frequency how often the task is polled, e.g., how often you call the Braket API to get the status; the default value is 1 second. "
   ]
  },
  {
   "cell_type": "code",
   "execution_count": 20,
   "metadata": {
    "ExecuteTime": {
     "end_time": "2023-08-29T21:29:16.554625Z",
     "start_time": "2023-08-29T21:29:12.800572Z"
    },
    "scrolled": true
   },
   "outputs": [
    {
     "name": "stdout",
     "output_type": "stream",
     "text": [
      "Status of quantum task: QUEUED\n",
      "Status: QUEUED\n",
      "Status: QUEUED\n",
      "Status: QUEUED\n",
      "Status: QUEUED\n",
      "Status: QUEUED\n",
      "Status: QUEUED\n",
      "Status: QUEUED\n",
      "Status: RUNNING\n",
      "Status: RUNNING\n",
      "Status: RUNNING\n",
      "Status: RUNNING\n",
      "Status: RUNNING\n",
      "Status: RUNNING\n",
      "Status: COMPLETED\n",
      "Counter({'00000': 495, '00010': 490, '01000': 6, '11100': 4, '01010': 3, '11110': 2})\n"
     ]
    },
    {
     "data": {
      "image/png": "[encoded data removed]",
      "text/plain": [
       "<Figure size 640x480 with 1 Axes>"
      ]
     },
     "metadata": {},
     "output_type": "display_data"
    }
   ],
   "source": [
    "# define quantum task (asynchronous)\n",
    "task = device.run(my_circuit, \n",
    "                  poll_timeout_seconds = 100, \n",
    "                  shots=1000)\n",
    "\n",
    "# get id and status of submitted quantum task\n",
    "task_id = task.id\n",
    "status = task.state()\n",
    "# print('ID of quantum task:', task_id)\n",
    "print('Status of quantum task:', status)\n",
    "\n",
    "# wait for job to complete\n",
    "while status != 'COMPLETED':\n",
    "    status = task.state()\n",
    "    print('Status:', status)\n",
    "\n",
    "# get results of quantum task\n",
    "result = task.result()\n",
    "\n",
    "# get measurement shots\n",
    "counts = result.measurement_counts\n",
    "\n",
    "# print counts\n",
    "print(counts)\n",
    "\n",
    "# plot using Counter\n",
    "plt.bar(counts.keys(), counts.values());\n",
    "plt.xlabel('bitstrings');\n",
    "plt.ylabel('counts');"
   ]
  },
  {
   "cell_type": "markdown",
   "metadata": {},
   "source": [
    "The on-demand simulators SV1 and DM1 also support running parametrized tasks. The value of any free parameters can be fixed when the circuit is run using the optional `inputs` argument to `run`. `inputs` should be a `dict` of `string`-`float` pairs."
   ]
  },
  {
   "cell_type": "code",
   "execution_count": 21,
   "metadata": {
    "ExecuteTime": {
     "end_time": "2023-08-29T21:29:19.219749Z",
     "start_time": "2023-08-29T21:29:16.536335Z"
    }
   },
   "outputs": [
    {
     "name": "stdout",
     "output_type": "stream",
     "text": [
      "T  : │      0      │     1     │  2  │\n",
      "      ┌───────────┐                   \n",
      "q0 : ─┤ Rx(alpha) ├───●───────────────\n",
      "      └───────────┘   │               \n",
      "      ┌──────────┐    │         ┌───┐ \n",
      "q1 : ─┤ Ry(beta) ├────┼─────●───┤ X ├─\n",
      "      └──────────┘    │     │   └───┘ \n",
      "      ┌───────────┐ ┌─┴─┐   │         \n",
      "q2 : ─┤ Rz(gamma) ├─┤ X ├───┼─────────\n",
      "      └───────────┘ └───┘   │         \n",
      "          ┌───┐           ┌─┴─┐ ┌───┐ \n",
      "q3 : ─────┤ H ├───────────┤ X ├─┤ X ├─\n",
      "          └───┘           └───┘ └───┘ \n",
      "T  : │      0      │     1     │  2  │\n",
      "\n",
      "Unassigned parameters: [alpha, beta, gamma].\n",
      "Status of quantum task: QUEUED\n",
      "Status: QUEUED\n",
      "Status: QUEUED\n",
      "Status: QUEUED\n",
      "Status: QUEUED\n",
      "Status: QUEUED\n",
      "Status: QUEUED\n",
      "Status: QUEUED\n",
      "Status: QUEUED\n",
      "Status: RUNNING\n",
      "Status: RUNNING\n",
      "Status: RUNNING\n",
      "Status: RUNNING\n",
      "Status: RUNNING\n",
      "Status: RUNNING\n",
      "Status: COMPLETED\n",
      "Counter({'0100': 517, '0101': 470, '0001': 6, '0000': 3, '1111': 2, '1110': 2})\n"
     ]
    },
    {
     "data": {
      "image/png": "[encoded data removed]",
      "text/plain": [
       "<Figure size 640x480 with 1 Axes>"
      ]
     },
     "metadata": {},
     "output_type": "display_data"
    }
   ],
   "source": [
    "# define circuit with some parametrized gates and free parameters\n",
    "alpha = FreeParameter('alpha')\n",
    "beta  = FreeParameter('beta')\n",
    "gamma = FreeParameter('gamma')\n",
    "my_circuit = Circuit().rx(0, alpha).ry(1, beta).rz(2, gamma).h(3).cnot(control=0, target=2).cnot(1, 3).x([1,3])\n",
    "print(my_circuit)\n",
    "# define quantum task (asynchronous)\n",
    "task = device.run(my_circuit, \n",
    "                  poll_timeout_seconds = 100, \n",
    "                  shots=1000, inputs={'alpha': 0.1, 'beta': 0.2, 'gamma': 0.3})\n",
    "\n",
    "# get id and status of submitted quantum task\n",
    "task_id = task.id\n",
    "status = task.state()\n",
    "# print('ID of quantum task:', task_id)\n",
    "print('Status of quantum task:', status)\n",
    "\n",
    "# wait for job to complete\n",
    "while status != 'COMPLETED':\n",
    "    status = task.state()\n",
    "    print('Status:', status)\n",
    "\n",
    "# get results of task\n",
    "result = task.result()\n",
    "\n",
    "# get measurement shots\n",
    "counts = result.measurement_counts\n",
    "\n",
    "# print counts\n",
    "print(counts)\n",
    "\n",
    "# plot using Counter\n",
    "plt.bar(counts.keys(), counts.values());\n",
    "plt.xlabel('bitstrings');\n",
    "plt.ylabel('counts');"
   ]
  },
  {
   "cell_type": "markdown",
   "metadata": {},
   "source": [
    "__TASK METADATA__: You can access a range of metadata associated with your ```task``` object, as shown below.  "
   ]
  },
  {
   "cell_type": "code",
   "execution_count": 22,
   "metadata": {
    "ExecuteTime": {
     "end_time": "2023-08-29T21:29:19.317336Z",
     "start_time": "2023-08-29T21:29:19.222457Z"
    }
   },
   "outputs": [
    {
     "name": "stdout",
     "output_type": "stream",
     "text": [
      "1000 shots taken on Fri, 30 Aug 2024 07:56:10 GMT.\n"
     ]
    }
   ],
   "source": [
    "# get all metadata of submitted quantum task\n",
    "metadata = task.metadata()\n",
    "# example for metadata\n",
    "shots = metadata['shots']\n",
    "date = metadata['ResponseMetadata']['HTTPHeaders']['date']\n",
    "# print example metadata\n",
    "print(\"{} shots taken on {}.\".format(shots, date))"
   ]
  },
  {
   "cell_type": "markdown",
   "metadata": {},
   "source": [
    "__TASK RECONSTRUCTION__: Imagine your kernel dies after you have submitted the task, or you simply close your notebook. As recovery method, here is how you can reconstruct the ```task``` object (given the corresponding unique arn). You can reconstruct the ```task``` object using `task = AwsQuantumTask(arn=...)`; then you can simply call `task.result()` to get the result from S3. "
   ]
  },
  {
   "cell_type": "code",
   "execution_count": 23,
   "metadata": {
    "ExecuteTime": {
     "end_time": "2023-08-29T21:29:19.665129Z",
     "start_time": "2023-08-29T21:29:19.310153Z"
    }
   },
   "outputs": [
    {
     "name": "stdout",
     "output_type": "stream",
     "text": [
      "Status of (reconstructed) quantum task: COMPLETED\n"
     ]
    }
   ],
   "source": [
    "# restore quantum task from unique arn\n",
    "task_load = AwsQuantumTask(arn=task_id)\n",
    "# print status\n",
    "status = task_load.state()\n",
    "print('Status of (reconstructed) quantum task:', status)"
   ]
  },
  {
   "cell_type": "code",
   "execution_count": 24,
   "metadata": {
    "ExecuteTime": {
     "end_time": "2023-08-29T21:29:20.122317Z",
     "start_time": "2023-08-29T21:29:19.658423Z"
    }
   },
   "outputs": [
    {
     "name": "stdout",
     "output_type": "stream",
     "text": [
      "Counter({'0100': 517, '0101': 470, '0001': 6, '0000': 3, '1111': 2, '1110': 2})\n"
     ]
    },
    {
     "data": {
      "image/png": "[encoded data removed]",
      "text/plain": [
       "<Figure size 640x480 with 1 Axes>"
      ]
     },
     "metadata": {},
     "output_type": "display_data"
    }
   ],
   "source": [
    "# get results of quantum task\n",
    "result = task_load.result()\n",
    "\n",
    "# get measurement shots\n",
    "counts = result.measurement_counts\n",
    "\n",
    "# print counts\n",
    "print(counts)\n",
    "\n",
    "# plot using Counter\n",
    "plt.bar(counts.keys(), counts.values(), color='g');\n",
    "plt.xlabel('bitstrings');\n",
    "plt.ylabel('counts');"
   ]
  },
  {
   "cell_type": "markdown",
   "metadata": {},
   "source": [
    "__TASK CANCELLATION__: Finally, we can also cancel existing tasks by calling the ```cancel()``` method."
   ]
  },
  {
   "cell_type": "code",
   "execution_count": 25,
   "metadata": {
    "ExecuteTime": {
     "end_time": "2023-08-29T21:29:20.811635Z",
     "start_time": "2023-08-29T21:29:20.124967Z"
    }
   },
   "outputs": [
    {
     "name": "stdout",
     "output_type": "stream",
     "text": [
      "Status of quantum task: QUEUED\n",
      "Status of quantum task: QUEUED\n"
     ]
    }
   ],
   "source": [
    "# define quantum task\n",
    "task = device.run(my_circuit, shots=1000, inputs={'alpha': 0.1, 'beta': 0.2, 'gamma': 0.3})\n",
    "\n",
    "# get id and status of submitted quantum task\n",
    "task_id = task.id\n",
    "status = task.state()\n",
    "# print('ID of quantum task:', task_id)\n",
    "print('Status of quantum task:', status)\n",
    "\n",
    "# cancel task \n",
    "task.cancel()\n",
    "status = task.state()\n",
    "print('Status of quantum task:', status)"
   ]
  },
  {
   "cell_type": "markdown",
   "metadata": {},
   "source": [
    "## PARTIAL MEASUREMENT\n",
    "\n",
    "So far, we have measured on all qubits in the quantum circuit. However, it is possible to measure individual qubits or a subset of qubits by adding a `measure` instruction with the target qubits to the end of our circuit. In the following example, we will create a Bell state circuit and measure only qubit 0."
   ]
  },
  {
   "cell_type": "code",
   "execution_count": 26,
   "metadata": {},
   "outputs": [
    {
     "name": "stdout",
     "output_type": "stream",
     "text": [
      "T  : │  0  │  1  │  2  │\n",
      "      ┌───┐       ┌───┐ \n",
      "q0 : ─┤ H ├───●───┤ M ├─\n",
      "      └───┘   │   └───┘ \n",
      "            ┌─┴─┐       \n",
      "q1 : ───────┤ X ├───────\n",
      "            └───┘       \n",
      "T  : │  0  │  1  │  2  │\n",
      "\n",
      "Measured qubits:  [0]\n"
     ]
    }
   ],
   "source": [
    "# Use the local state vector simulator\n",
    "device = LocalSimulator()\n",
    "\n",
    "# define an example bell circuit and measure qubit 0\n",
    "circuit = Circuit().h(0).cnot(0, 1).measure(0)\n",
    "\n",
    "# Run the circuit\n",
    "task = device.run(circuit, shots=10)\n",
    "\n",
    "# Get the results\n",
    "result = task.result()\n",
    "\n",
    "# Print the circuit and measured qubits\n",
    "print(circuit)\n",
    "print()\n",
    "print(\"Measured qubits: \", result.measured_qubits)\n"
   ]
  },
  {
   "cell_type": "markdown",
   "metadata": {},
   "source": [
    "We can see that the `measure` instruction, represented by `M`, was added to our circuit, and only on qubit 0.\n",
    "\n",
    "Now, we can see the measurement counts from qubit 0 on this bell circuit:"
   ]
  },
  {
   "cell_type": "code",
   "execution_count": 27,
   "metadata": {},
   "outputs": [
    {
     "name": "stdout",
     "output_type": "stream",
     "text": [
      "Counter({'0': 6, '1': 4})\n"
     ]
    },
    {
     "data": {
      "image/png": "[encoded data removed]",
      "text/plain": [
       "<Figure size 640x480 with 1 Axes>"
      ]
     },
     "metadata": {},
     "output_type": "display_data"
    }
   ],
   "source": [
    "# get measurement shots\n",
    "counts = result.measurement_counts\n",
    "\n",
    "# print counts\n",
    "print(counts)\n",
    "\n",
    "# plot using Counter\n",
    "plt.bar(counts.keys(), counts.values(), color='g');\n",
    "plt.xlabel('bitstrings');\n",
    "plt.ylabel('counts');"
   ]
  },
  {
   "cell_type": "markdown",
   "metadata": {},
   "source": [
    "## DEMONSTRATION OF RESULT TYPES: Expectation Values and Observables "
   ]
  },
  {
   "cell_type": "markdown",
   "metadata": {},
   "source": [
    "So far, we have only taken measurements in the computational basis. However, it is also possible to measure in other bases, as well as estimate important statistics like expectation value and variance. We do this by adding `ResultType`s to our circuit; in the following example, we will make measurements in the basis of the observable $X_{0}Y_{1}$ (this is the tensor product $X(0) \\otimes Y(1)$):"
   ]
  },
  {
   "cell_type": "code",
   "execution_count": 28,
   "metadata": {
    "ExecuteTime": {
     "end_time": "2023-08-29T21:29:20.822521Z",
     "start_time": "2023-08-29T21:29:20.810638Z"
    }
   },
   "outputs": [
    {
     "name": "stdout",
     "output_type": "stream",
     "text": [
      "T  : │     0      │     1     │                     Result Types                     │\n",
      "      ┌──────────┐             ┌──────────────────┐ ┌───────────────┐ ┌─────────────┐ \n",
      "q0 : ─┤ Rx(0.15) ├───●─────────┤ Expectation(X@Y) ├─┤ Variance(X@Y) ├─┤ Sample(X@Y) ├─\n",
      "      └──────────┘   │         └────────┬─────────┘ └───────┬───────┘ └──────┬──────┘ \n",
      "      ┌──────────┐   │         ┌────────┴─────────┐ ┌───────┴───────┐ ┌──────┴──────┐ \n",
      "q1 : ─┤ Ry(0.20) ├───┼─────●───┤ Expectation(X@Y) ├─┤ Variance(X@Y) ├─┤ Sample(X@Y) ├─\n",
      "      └──────────┘   │     │   └──────────────────┘ └───────────────┘ └─────────────┘ \n",
      "      ┌──────────┐ ┌─┴─┐   │                                                          \n",
      "q2 : ─┤ Rz(0.25) ├─┤ X ├───┼──────────────────────────────────────────────────────────\n",
      "      └──────────┘ └───┘   │                                                          \n",
      "         ┌───┐           ┌─┴─┐                                                        \n",
      "q3 : ────┤ H ├───────────┤ X ├────────────────────────────────────────────────────────\n",
      "         └───┘           └───┘                                                        \n",
      "         ┌───┐                                                                        \n",
      "q4 : ────┤ X ├────────────────────────────────────────────────────────────────────────\n",
      "         └───┘                                                                        \n",
      "T  : │     0      │     1     │                     Result Types                     │\n"
     ]
    }
   ],
   "source": [
    "# define example circuit\n",
    "circ = Circuit().rx(0, 0.15).ry(1, 0.2).rz(2, 0.25).h(3).cnot(control=0, target=2).cnot(1, 3).x(4)\n",
    "# add expectation value\n",
    "obs = X(0) @ Y(1)\n",
    "circ.expectation(obs)\n",
    "# add variance\n",
    "circ.variance(obs) \n",
    "# add samples\n",
    "\n",
    "circ.sample(obs)\n",
    "print(circ)"
   ]
  },
  {
   "cell_type": "markdown",
   "metadata": {},
   "source": [
    "_Note_: `sample` is only valid when `shots>0`.\n",
    "\n",
    "As shown above, results types are part of the `print` information. We now run this circuit on the local simulator above and output these results. "
   ]
  },
  {
   "cell_type": "code",
   "execution_count": 29,
   "metadata": {
    "ExecuteTime": {
     "end_time": "2023-08-29T21:29:20.980998Z",
     "start_time": "2023-08-29T21:29:20.819550Z"
    }
   },
   "outputs": [
    {
     "name": "stdout",
     "output_type": "stream",
     "text": [
      "Expectation value for <X0*Y1>: 0.06\n",
      "Variance for <X0*Y1>: 0.9963999999999998\n",
      "Measurement samples for X0*Y1: [-1. -1.  1. -1.  1.  1.  1.  1. -1. -1.  1. -1.  1. -1.  1. -1.  1. -1.\n",
      "  1. -1.  1. -1.  1. -1.  1. -1.  1. -1. -1. -1.  1. -1.  1. -1.  1. -1.\n",
      "  1.  1.  1.  1.  1.  1.  1. -1. -1.  1.  1.  1.  1. -1. -1.  1. -1. -1.\n",
      "  1. -1. -1. -1. -1.  1.  1. -1. -1. -1.  1. -1. -1.  1. -1.  1.  1.  1.\n",
      " -1. -1. -1. -1.  1. -1.  1.  1.  1.  1.  1. -1. -1.  1. -1.  1. -1.  1.\n",
      " -1. -1.  1.  1.  1. -1.  1.  1.  1.  1.]\n"
     ]
    }
   ],
   "source": [
    "# set up device\n",
    "device = LocalSimulator()\n",
    "# run the circuit and output the results specified above\n",
    "task = device.run(circ, shots=100)\n",
    "result = task.result()\n",
    "print(\"Expectation value for <X0*Y1>:\", result.values[0])\n",
    "print(\"Variance for <X0*Y1>:\", result.values[1])\n",
    "print(\"Measurement samples for X0*Y1:\", result.values[2])"
   ]
  },
  {
   "cell_type": "markdown",
   "metadata": {},
   "source": [
    "We can verify that we get the same estimate for the expectation value if we compute it by hand from the samples:"
   ]
  },
  {
   "cell_type": "code",
   "execution_count": 30,
   "metadata": {
    "ExecuteTime": {
     "end_time": "2023-08-29T21:29:20.987487Z",
     "start_time": "2023-08-29T21:29:20.981208Z"
    }
   },
   "outputs": [
    {
     "name": "stdout",
     "output_type": "stream",
     "text": [
      "Expectation value from samples: 0.06\n"
     ]
    }
   ],
   "source": [
    "samples = result.values[2]\n",
    "sum_of_samples = samples.sum()\n",
    "total_counts = len(samples)\n",
    "expect_from_samples = sum_of_samples/total_counts\n",
    "print('Expectation value from samples:', expect_from_samples)"
   ]
  },
  {
   "cell_type": "markdown",
   "metadata": {},
   "source": [
    "So far, we have measured only one observable, namely $X_{0}Y_{1}$. However, it is possible to measure multiple observables at once, provided that any observables with overlapping qubits have the same factor acting on each qubit:\n",
    "\n",
    "<div class=\"alert alert-block alert-info\">\n",
    "<b>Note</b> The following code requires amazon-braket-sdk>=1.5.0 and amazon-braket-default-simulator>=1.1.0\n",
    "</div>"
   ]
  },
  {
   "cell_type": "code",
   "execution_count": 31,
   "metadata": {
    "ExecuteTime": {
     "end_time": "2023-08-29T21:29:21.062363Z",
     "start_time": "2023-08-29T21:29:21.013599Z"
    }
   },
   "outputs": [
    {
     "name": "stdout",
     "output_type": "stream",
     "text": [
      "Expectation value for <X0*Y1>: -0.006\n",
      "Expectation value for <Z2*H4>: -0.714\n",
      "Expectation value for <Y1*X3*H4>:: -0.03\n"
     ]
    }
   ],
   "source": [
    "circ = Circuit().rx(0, 0.15).ry(1, 0.2).rz(2, 0.25).h(3).cnot(control=0, target=2).cnot(1, 3).x(4)\n",
    "circ.expectation(X(0) @ Y(1))\n",
    "circ.expectation(Z(2) @ H(4))\n",
    "# Overlaps on qubits 1 and 4, but Y and H are the same factors that have been applied to each, respectively\n",
    "circ.expectation(Y(1) @ X(3) @ H(4))\n",
    "\n",
    "# run circuit\n",
    "task = device.run(circ, shots=1000)\n",
    "result = task.result()\n",
    "print(\"Expectation value for <X0*Y1>:\", result.values[0])\n",
    "print(\"Expectation value for <Z2*H4>:\", result.values[1])\n",
    "print(\"Expectation value for <Y1*X3*H4>::\", result.values[2])"
   ]
  },
  {
   "cell_type": "markdown",
   "metadata": {},
   "source": [
    "This is possible because we only need to measure in at most one basis for each qubit. For instance in the example above, on qubit 1 we only measure in the Y basis."
   ]
  },
  {
   "cell_type": "markdown",
   "metadata": {},
   "source": [
    "### RESULT TYPES FOR ```shots=0```"
   ]
  },
  {
   "cell_type": "markdown",
   "metadata": {},
   "source": [
    "<div class=\"alert alert-block alert-info\">\n",
    "<b>Note</b> This section requires amazon-braket-sdk>=1.8.0 and amazon-braket-default-simulator>=1.3.0\n",
    "</div>\n",
    "\n",
    "In all examples discussed so far we have set the parameter `shots>0`, thereby mimicking the behavior of actual quantum hardware. However, on a classical simulator we do have access to the full state vector when `shots=0`. We will illustrate this functionality in more detail in this section. \n",
    "\n",
    "Note that the full state vector and amplitudes can only be requested when `shots=0` for a classical simulator. \n",
    "When `shots=0` for a simulator, probability and expectation values are the exact values, as derived from the full wavefunction. \n",
    "When `shots>0` we cannot access the full state vector, but we can still get approximate expectation values as taken from measurement samples. Note that probability, sample, expectation, and variance are also supported for QPU devices.\n",
    "\n",
    "In the following example we output the state vector, the exact expectation values of $Y_{1}X_{2}$ and $Z_{0}Z_{1}$, the amplitude of the state $|00000\\rangle$, and the marginal probability of qubit $3$. Notice in particular that the two observables share qubit $1$ but don't have the same factor acting on it; this is allowed because simulators can directly compute expectation values using the state vector, and don't have to measure in a common basis."
   ]
  },
  {
   "cell_type": "code",
   "execution_count": 32,
   "metadata": {
    "ExecuteTime": {
     "end_time": "2023-08-29T21:29:21.062675Z",
     "start_time": "2023-08-29T21:29:21.027773Z"
    }
   },
   "outputs": [
    {
     "name": "stdout",
     "output_type": "stream",
     "text": [
      "T  : │      0      │     1     │  2  │              Result Types               │\n",
      "      ┌───────────┐                                        ┌──────────────────┐ \n",
      "q0 : ─┤ Rx(alpha) ├───●────────────────────────────────────┤ Expectation(Z@Z) ├─\n",
      "      └───────────┘   │                                    └────────┬─────────┘ \n",
      "      ┌──────────┐    │         ┌───┐ ┌──────────────────┐ ┌────────┴─────────┐ \n",
      "q1 : ─┤ Ry(beta) ├────┼─────●───┤ X ├─┤ Expectation(Y@X) ├─┤ Expectation(Z@Z) ├─\n",
      "      └──────────┘    │     │   └───┘ └────────┬─────────┘ └──────────────────┘ \n",
      "      ┌───────────┐ ┌─┴─┐   │         ┌────────┴─────────┐                      \n",
      "q2 : ─┤ Rz(gamma) ├─┤ X ├───┼─────────┤ Expectation(Y@X) ├──────────────────────\n",
      "      └───────────┘ └───┘   │         └──────────────────┘                      \n",
      "          ┌───┐           ┌─┴─┐ ┌───┐   ┌─────────────┐                         \n",
      "q3 : ─────┤ H ├───────────┤ X ├─┤ X ├───┤ Probability ├─────────────────────────\n",
      "          └───┘           └───┘ └───┘   └─────────────┘                         \n",
      "T  : │      0      │     1     │  2  │              Result Types               │\n",
      "\n",
      "Additional result types: StateVector, Amplitude(0000)\n",
      "\n",
      "Unassigned parameters: [alpha, beta, gamma].\n"
     ]
    }
   ],
   "source": [
    "# add result types\n",
    "circ = my_circuit\n",
    "# add the state_vector ResultType available for shots=0\n",
    "circ.state_vector() \n",
    "# add single qubit expectation value\n",
    "obs1 = Y(1) @ X(2)\n",
    "circ.expectation(obs1)\n",
    "# add the two-qubit Z0*Z1 expectation value\n",
    "obs2 = Z(0) @ Z(1)\n",
    "circ.expectation(obs2) \n",
    "# add the amplitude for |0...0>\n",
    "bitstring = '0'*circ.qubit_count\n",
    "circ.amplitude(state=[bitstring]) \n",
    "# add marginal probability \n",
    "circ.probability(target=[3])\n",
    "print(circ)"
   ]
  },
  {
   "cell_type": "markdown",
   "metadata": {},
   "source": [
    "As shown above, results types are part of the `print` information. We now run this circuit on the local simulator above and output these results. "
   ]
  },
  {
   "cell_type": "code",
   "execution_count": 33,
   "metadata": {
    "ExecuteTime": {
     "end_time": "2023-08-29T21:29:21.125087Z",
     "start_time": "2023-08-29T21:29:21.047836Z"
    }
   },
   "outputs": [
    {
     "name": "stdout",
     "output_type": "stream",
     "text": [
      "Final state vector:\n",
      " [ 6.97129718e-02-0.01053609j  6.97129718e-02-0.01053609j\n",
      "  0.00000000e+00+0.j          0.00000000e+00+0.j\n",
      "  6.94804402e-01-0.10500941j  6.94804402e-01-0.10500941j\n",
      "  0.00000000e+00+0.j          0.00000000e+00+0.j\n",
      "  0.00000000e+00+0.j          0.00000000e+00+0.j\n",
      " -5.27243703e-04-0.00348856j -5.27243703e-04-0.00348856j\n",
      "  0.00000000e+00+0.j          0.00000000e+00+0.j\n",
      " -5.25485051e-03-0.0347692j  -5.25485051e-03-0.0347692j ]\n",
      "Expectation value <Y1X2> 0.0\n",
      "Expectation value <Z0Z1>: -0.9751703272018155\n",
      "Amplitude <00000|Final state>: {'0000': (0.06971297180671754-0.010536085195500033j)}\n",
      "Marginal probability for target qubit 3 in computational basis: [0.5 0.5]\n"
     ]
    }
   ],
   "source": [
    "# set up device\n",
    "device = LocalSimulator()\n",
    "# run the circuit and output the results specified above\n",
    "task = device.run(circ, shots=0, inputs={'alpha': 0.1, 'beta': 0.2, 'gamma': 0.3})\n",
    "result = task.result()\n",
    "print(\"Final state vector:\\n\", result.values[0])\n",
    "print(\"Expectation value <Y1X2>\", result.values[1])\n",
    "print(\"Expectation value <Z0Z1>:\", result.values[2])\n",
    "print(\"Amplitude <00000|Final state>:\", result.values[3])\n",
    "print(\"Marginal probability for target qubit 3 in computational basis:\", result.values[4])"
   ]
  },
  {
   "cell_type": "markdown",
   "metadata": {},
   "source": [
    "## ADVANCED LOGGING"
   ]
  },
  {
   "cell_type": "markdown",
   "metadata": {},
   "source": [
    "Below we provide an example for advanced logging. Here, we change the ```poll_timeout_seconds``` and ```poll_interval_seconds``` parameters, such that a task can be long-running and the task status will be continuously logged to a file. You can also transfer this code to a python script instead of a Jupyter notebook, and the script can run as a process in the background so that your laptop can go to sleep and the script will still run. These advanced logging techniques allow you to see the background polling and create a record for later debugging. "
   ]
  },
  {
   "cell_type": "code",
   "execution_count": 34,
   "metadata": {
    "ExecuteTime": {
     "end_time": "2023-08-29T21:29:21.125398Z",
     "start_time": "2023-08-29T21:29:21.088115Z"
    }
   },
   "outputs": [
    {
     "name": "stdout",
     "output_type": "stream",
     "text": [
      "Quantum task info will be logged in: device_logs-20240830005611.txt\n"
     ]
    }
   ],
   "source": [
    "# set filename for logs\n",
    "log_file = 'device_logs-'+datetime.strftime(datetime.now(), '%Y%m%d%H%M%S')+'.txt'\n",
    "print('Quantum task info will be logged in:', log_file)\n",
    "\n",
    "# create new logger object\n",
    "logger = logging.getLogger(\"newLogger\")  \n",
    "# configure to log to file device_logs.txt in the appending mode\n",
    "logger.addHandler(logging.FileHandler(filename=log_file, mode='a'))\n",
    "# add to file all log messages with level DEBUG or above\n",
    "logger.setLevel(logging.DEBUG) "
   ]
  },
  {
   "cell_type": "code",
   "execution_count": 35,
   "metadata": {
    "ExecuteTime": {
     "end_time": "2023-08-29T21:29:24.330768Z",
     "start_time": "2023-08-29T21:29:21.094955Z"
    }
   },
   "outputs": [
    {
     "name": "stdout",
     "output_type": "stream",
     "text": [
      "T  : │     0      │     1     │\n",
      "      ┌──────────┐             \n",
      "q0 : ─┤ Rx(0.15) ├───●─────────\n",
      "      └──────────┘   │         \n",
      "      ┌──────────┐   │         \n",
      "q1 : ─┤ Ry(0.20) ├───┼─────●───\n",
      "      └──────────┘   │     │   \n",
      "      ┌──────────┐ ┌─┴─┐   │   \n",
      "q2 : ─┤ Rz(0.25) ├─┤ X ├───┼───\n",
      "      └──────────┘ └───┘   │   \n",
      "         ┌───┐           ┌─┴─┐ \n",
      "q3 : ────┤ H ├───────────┤ X ├─\n",
      "         └───┘           └───┘ \n",
      "         ┌───┐                 \n",
      "q4 : ────┤ X ├─────────────────\n",
      "         └───┘                 \n",
      "T  : │     0      │     1     │\n"
     ]
    }
   ],
   "source": [
    "# define circuit\n",
    "circ_log = Circuit().rx(0, 0.15).ry(1, 0.2).rz(2, 0.25).h(3).cnot(control=0, target=2).cnot(1, 3).x(4)\n",
    "print(circ_log)\n",
    "# define device\n",
    "device = AwsDevice(Devices.Amazon.SV1)\n",
    "# define what info to log\n",
    "logger.info(\n",
    "    device.run(circ_log, \n",
    "               poll_timeout_seconds=1200, poll_interval_seconds=0.25, logger=logger, shots=1000)\n",
    "    .result().measurement_counts\n",
    ")"
   ]
  },
  {
   "cell_type": "code",
   "execution_count": 36,
   "metadata": {
    "ExecuteTime": {
     "end_time": "2023-08-29T21:29:24.487047Z",
     "start_time": "2023-08-29T21:29:24.333763Z"
    }
   },
   "outputs": [
    {
     "name": "stdout",
     "output_type": "stream",
     "text": [
      "Task arn:aws:braket:us-west-2:667256736152:quantum-task/dbe2cb50-c147-46a7-a9bf-7d8f041df815: start polling for completion\n",
      "Task is in Normal queue position: 2\n",
      "Task arn:aws:braket:us-west-2:667256736152:quantum-task/dbe2cb50-c147-46a7-a9bf-7d8f041df815: task status QUEUED\n",
      "Task is in Normal queue position: 2\n",
      "Task arn:aws:braket:us-west-2:667256736152:quantum-task/dbe2cb50-c147-46a7-a9bf-7d8f041df815: task status QUEUED\n",
      "Task arn:aws:braket:us-west-2:667256736152:quantum-task/dbe2cb50-c147-46a7-a9bf-7d8f041df815: task status RUNNING\n",
      "Task arn:aws:braket:us-west-2:667256736152:quantum-task/dbe2cb50-c147-46a7-a9bf-7d8f041df815: task status RUNNING\n",
      "Task arn:aws:braket:us-west-2:667256736152:quantum-task/dbe2cb50-c147-46a7-a9bf-7d8f041df815: task status COMPLETED\n",
      "Counter({'00011': 511, '00001': 472, '01011': 7, '10111': 6, '01001': 3, '10101': 1})\n"
     ]
    }
   ],
   "source": [
    "# print logs\n",
    "! cat {log_file}"
   ]
  },
  {
   "cell_type": "code",
   "execution_count": 37,
   "metadata": {
    "ExecuteTime": {
     "end_time": "2023-08-29T21:29:25.417196Z",
     "start_time": "2023-08-29T21:29:24.493187Z"
    }
   },
   "outputs": [
    {
     "data": {
      "image/png": "[encoded data removed]",
      "text/plain": [
       "<Figure size 640x480 with 1 Axes>"
      ]
     },
     "metadata": {},
     "output_type": "display_data"
    }
   ],
   "source": [
    "# parse log file for arn\n",
    "with open(log_file) as openfile:\n",
    "    for line in openfile:\n",
    "        for part in line.split():\n",
    "            if \"arn:\" in part:\n",
    "                arn = part\n",
    "                break\n",
    "# remove final semicolon in logs\n",
    "arn = arn[:-1]\n",
    "# print(arn)\n",
    "\n",
    "# with this arn we can restore again task from unique arn\n",
    "task_load = AwsQuantumTask(arn=arn)\n",
    "\n",
    "# get results of quantum task\n",
    "result = task_load.result()\n",
    "\n",
    "# get measurement shots\n",
    "counts = result.measurement_counts\n",
    "\n",
    "# plot using Counter\n",
    "plt.bar(counts.keys(), counts.values(), color='tab:orange');\n",
    "plt.xlabel('bitstrings');\n",
    "plt.ylabel('counts');"
   ]
  },
  {
   "cell_type": "markdown",
   "metadata": {},
   "source": [
    "--- \n",
    "## APPENDIX"
   ]
  },
  {
   "cell_type": "markdown",
   "metadata": {},
   "source": [
    "### APPENDIX: ADVANCED FUNCTIONALITY WITH ASYNCHRONOUS EXECUTION"
   ]
  },
  {
   "cell_type": "markdown",
   "metadata": {},
   "source": [
    "__ASYNCHRONOUS EXECUTION__: When replacing the ```result()``` call on the task object above with ```async_result()```, we can get the quantum task result asynchronously. Consecutive calls to this method return the result cached from the most recent request. See [here](https://github.com/amazon-braket/braket-python-sdk/blob/master/src/braket/aws/aws_quantum_task.py#L206) for source code implementation. \n",
    "\n",
    "While ```result()``` is a blocking call that waits for the result, ```async_result()``` is a non-blocking call. For example, in Jupyter as shown here, if you run ```result()```, the notebook will stop and wait at this cell for a certain polling time (set as ```poll_timeout_seconds``` with default of 5 days) till the polling returns the result object or times out. If you run ```async_result()```, the notebook immediately goes to the next cell, _not_ waiting for polling to complete. Calling `result()` on the `async_result` object before it has completed, an `asyncio.exceptions.InvalidStateError` will be raised. This is expected behavior. Later, you can call ```result()``` and get the actual result from the task. \n",
    "\n",
    "Alternatively, we have provided a basic `asyncio` waiter function `wait_on_result()`, which will create a blocking call, wait for the result, and then return that result for downstream use. We have defaulted the notebook to leverage this call in favor of avoiding the `InvalidStateError`, but we have left the non-blocking `async_result.result()` call example as an option."
   ]
  },
  {
   "cell_type": "code",
   "execution_count": 38,
   "metadata": {
    "ExecuteTime": {
     "end_time": "2023-08-29T21:29:27.408945Z",
     "start_time": "2023-08-29T21:29:27.402497Z"
    }
   },
   "outputs": [],
   "source": [
    "# asyncio waiter function to leverage Task.async_result() object\n",
    "async def wait_on_result(async_result):\n",
    "    print('Waiting on task.')\n",
    "    await async_result\n",
    "\n",
    "    print(f'Final task state: {async_result._state}')\n",
    "    res = async_result.result()\n",
    "    \n",
    "    return res"
   ]
  },
  {
   "cell_type": "code",
   "execution_count": 39,
   "metadata": {
    "ExecuteTime": {
     "end_time": "2023-08-29T21:29:27.588403Z",
     "start_time": "2023-08-29T21:29:27.409630Z"
    }
   },
   "outputs": [],
   "source": [
    "# example with async_result - immediately returns asyncio Future object\n",
    "async_result = device.run(circ2, shots=100).async_result()"
   ]
  },
  {
   "cell_type": "code",
   "execution_count": 40,
   "metadata": {
    "ExecuteTime": {
     "end_time": "2023-08-29T21:29:30.099876Z",
     "start_time": "2023-08-29T21:29:27.594182Z"
    },
    "scrolled": true
   },
   "outputs": [
    {
     "name": "stdout",
     "output_type": "stream",
     "text": [
      "Waiting on task.\n",
      "Final task state: FINISHED\n",
      "Counter({'00': 100})\n"
     ]
    }
   ],
   "source": [
    "# async_result.result() then returns the actual result (once completed)\n",
    "# Non-blocking call. Will raise an InvalidStateError if this is run before async task is complete:\n",
    "# async_res = async_result.result()\n",
    "# Blocking call, leveraging asyncio.run and await\n",
    "async_res = asyncio.run(wait_on_result(async_result))\n",
    "# get measurement shots\n",
    "counts = async_res.measurement_counts\n",
    "print(counts)"
   ]
  },
  {
   "cell_type": "markdown",
   "metadata": {},
   "source": [
    "One can also define custom callbacks to be invoked when the Future is completed. "
   ]
  },
  {
   "cell_type": "code",
   "execution_count": 41,
   "metadata": {
    "ExecuteTime": {
     "end_time": "2023-08-29T21:29:30.852226Z",
     "start_time": "2023-08-29T21:29:30.100034Z"
    }
   },
   "outputs": [],
   "source": [
    "# async_result returns back a Future. \n",
    "# Details on Future: https://docs.python.org/3.8/library/asyncio-future.html#asyncio.Future\n",
    "future = device.run(circ2, shots=100).async_result()\n",
    "\n",
    "# this is invoked when the Future is done. i.e. task is in a terminal state.\n",
    "# This will print out to STDOUT when its done.\n",
    "def call_back_function(future):\n",
    "    print(f\"Custom task Result: {future.result().measurement_probabilities}\")\n",
    "\n",
    "# attached the callback function to the future.\n",
    "future.add_done_callback(call_back_function)"
   ]
  },
  {
   "cell_type": "code",
   "execution_count": 42,
   "metadata": {
    "ExecuteTime": {
     "end_time": "2023-08-29T21:29:31.001598Z",
     "start_time": "2023-08-29T21:29:30.856842Z"
    }
   },
   "outputs": [
    {
     "name": "stdout",
     "output_type": "stream",
     "text": [
      "Quantum Task Summary\n",
      "{<_Amazon.SV1: 'arn:aws:braket:::device/quantum-simulator/amazon/sv1'>: {'shots': 4200, 'tasks': {'COMPLETED': 4, 'QUEUED': 2}, 'execution_duration': datetime.timedelta(microseconds=50000), 'billed_execution_duration': datetime.timedelta(seconds=12)}}\n",
      "Note: Charges shown are estimates based on your Amazon Braket simulator and quantum processing unit (QPU) task usage. Estimated charges shown may differ from your actual charges. Estimated charges do not factor in any discounts or credits, and you may experience additional charges based on your use of other services such as Amazon Elastic Compute Cloud (Amazon EC2).\n",
      "Estimated cost to run this example: 0.02 USD\n"
     ]
    },
    {
     "name": "stdout",
     "output_type": "stream",
     "text": [
      "Custom task Result: {'00': 1.0}\n"
     ]
    }
   ],
   "source": [
    "print(\"Quantum Task Summary\")\n",
    "print(t.quantum_tasks_statistics())\n",
    "print('Note: Charges shown are estimates based on your Amazon Braket simulator and quantum processing unit (QPU) task usage. Estimated charges shown may differ from your actual charges. Estimated charges do not factor in any discounts or credits, and you may experience additional charges based on your use of other services such as Amazon Elastic Compute Cloud (Amazon EC2).')\n",
    "print(f\"Estimated cost to run this example: {t.qpu_tasks_cost() + t.simulator_tasks_cost():.2f} USD\")"
   ]
  }
 ],
 "metadata": {
  "kernelspec": {
   "display_name": "Python 3 (ipykernel)",
   "language": "python",
   "name": "python3"
  },
  "language_info": {
   "codemirror_mode": {
    "name": "ipython",
    "version": 3
   },
   "file_extension": ".py",
   "mimetype": "text/x-python",
   "name": "python",
   "nbconvert_exporter": "python",
   "pygments_lexer": "ipython3",
   "version": "3.10.9"
  }
 },
 "nbformat": 4,
 "nbformat_minor": 4
}
