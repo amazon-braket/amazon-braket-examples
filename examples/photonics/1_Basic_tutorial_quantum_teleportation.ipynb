{
 "cells": [
  {
   "cell_type": "code",
   "execution_count": 1,
   "metadata": {},
   "outputs": [],
   "source": [
    "%matplotlib inline"
   ]
  },
  {
   "attachments": {
    "teleport.png": {
     "image/png": "[encoded data removed]"
    }
   },
   "cell_type": "markdown",
   "metadata": {},
   "source": [
    "\n",
    "\n",
    "Basic tutorial: quantum teleportation\n",
    "=====================================\n",
    "\n",
    ">\"A trick that quantum magicians use to produce phenomena that cannot be imitated by classical magicians.\" -  A. Peres [1].\n",
    "\n",
    "To see how to construct and simulate a simple continuous-variable (CV) quantum circuit in Strawberry\n",
    "Fields, let's consider the case of **state teleportation**.\n",
    "\n",
    "Background theory\n",
    "-----------------\n",
    "\n",
    "Quantum teleportation - sometimes referred to as state teleportation to avoid confusion\n",
    "with gate teleportation - is the reliable transfer of an unknown quantum state across\n",
    "spatially separated qubits or qumodes, through the use of a classical transmission channel\n",
    "and quantum entanglement [2]. Considered a fundamental quantum information\n",
    "protocol, it has applications ranging from quantum communication to enabling distributed\n",
    "information processing in quantum computation [3].\n",
    "\n",
    "In general, all quantum teleportation circuits work on the same basic principle. Two\n",
    "distant observers, Alice and Bob, share a maximally entangled quantum state (in discrete\n",
    "variables, any one of the four [Bell states](https://en.wikipedia.org/wiki/Bell_state);\n",
    "or in CV, a maximally entangled state for a fixed energy), and have access to a classical\n",
    "communication channel. Alice, in possession of an unknown state which she wishes to\n",
    "transport to Bob, makes a joint measurement of the unknown state and her half of the\n",
    "entangled state, by projecting onto the Bell basis. By transmitting the results of her\n",
    "measurement to Bob, Bob is then able to transform his half of the entangled state to\n",
    "an accurate replica of the original unknown state, by performing a conditional phase\n",
    "flip (for qubits) or displacement (for qumodes) [4].\n",
    "\n",
    "While originally designed for discrete-variable quantum computation with qubits, the\n",
    "(spatially separated) quantum teleportation algorithm described above can be easily\n",
    "translated to CV qumodes; the result is shown in the following circuit:\n",
    "\n",
    "![teleport.png](attachment:teleport.png)\n",
    "\n",
    "This process can be explained as follows:\n",
    "\n",
    "1. Here, qumodes $q_1$ and $q_2$ are initially prepared as (the unphysical)\n",
    "   infinitely squeezed vacuum states in momentum and position space respectively,\n",
    "\n",
    "$$\n",
    "\\newcommand{\\ket}[1]{\\left|{#1}\\right\\rangle}\n",
    "\\newcommand{\\bra}[1]{\\left\\langle{#1}\\right|}\n",
    "\\begin{align*}\n",
    "   &\\ket{0}_x \\sim \\lim_{z\\rightarrow\\infty} S(z)\\ket{0} \\\\ \n",
    "   &\\ket{0}_p \\sim \\lim_{z\\rightarrow-\\infty} S(z)\\ket{0}=\\frac{1}{\\sqrt{\\pi}}\\int_{-\\infty}^\\infty \\ket{x}~dx\n",
    "\\end{align*}\n",
    "$$\n",
    "\n",
    "   before being maximally entangled by a 50-50 beamsplitter:\n",
    "\n",
    "$$\n",
    "BS(\\pi/4,0)(\\ket{0}_p\\otimes\\ket{0}_x)\n",
    "$$\n",
    "\n",
    "2. These two qumodes are now spatially separated, with $\\ket{q_1}$ held by\n",
    "   Alice, and $\\ket{q_2}$ held by Bob, with the two connected via the classical\n",
    "   communication channels $c_0$ and $c_1$.\n",
    "\n",
    "\n",
    "3. To teleport her unknown state $\\ket{\\psi}$ to Bob, Alice now performs a projective\n",
    "   measurement of her entire system onto the maximally entangled basis states. This is done\n",
    "   by entangling $\\ket{\\psi}$ and $\\ket{q_1}$ via another 50-50 beamsplitter,\n",
    "   before performing two homodyne measurements, in the $x$ and $p$ quadratures respectively.\n",
    "\n",
    "\n",
    "4. The results of these measurements are then transmitted to Bob, who performs both a\n",
    "   position displacement (conditional on the $x$ measurement) and a momentum\n",
    "   displacement (conditional on the $p$ measurement) to recover exactly the\n",
    "   transmitted state $\\ket{\\psi}$.\n",
    "\n",
    "\n",
    "Importing Strawberry Fields\n",
    "---------------------------\n",
    "\n",
    "The first thing we need to do is import Strawberry Fields; we do this with the following import\n",
    "statements:\n"
   ]
  },
  {
   "cell_type": "code",
   "execution_count": 2,
   "metadata": {},
   "outputs": [],
   "source": [
    "import strawberryfields as sf\n",
    "from strawberryfields.ops import *\n",
    "\n",
    "import numpy as np\n",
    "from numpy import pi, sqrt\n",
    "\n",
    "# set the random seed\n",
    "np.random.seed(42)"
   ]
  },
  {
   "cell_type": "markdown",
   "metadata": {},
   "source": [
    "The first import statement imports Strawberry Fields as ``sf``, allowing us to access the engine\n",
    "and backends; the second import statement imports all available CV gates into the global\n",
    "namespace. Finally, we import $\\pi$ and the square root from ``NumPy`` so that we can pass angle\n",
    "parameters to gates such as beamsplitters, and perform some custom classical processing.\n",
    "\n",
    "Program initialization\n",
    "----------------------\n",
    "\n",
    "We can now initialize our quantum program by instantiating a [``Program``](https://strawberryfields.readthedocs.io/en/stable/code/api/strawberryfields.Program.html) class:\n",
    "\n",
    "``sf.Program(num_subsystems, name=None)``\n",
    "\n",
    "where\n",
    "\n",
    "* ``num_subsystems`` (*int*) is the number of modes we want to initialize in our quantum register\n",
    "* ``name`` (*str*) is the name of the program (optional)\n",
    "\n",
    "> **Note:** By default, Strawberry Fields uses the convention $\\hbar=2$ for the commutation relation $[\\hat{x},\\hat{p}]=i\\hbar$. Other conventions can also be chosen by setting the global variable ``sf.hbar`` at the beginning of a session.\n",
    "The value of $\\hbar$ chosen modifies the application of the [``Xgate``](https://strawberryfields.readthedocs.io/en/stable/code/api/strawberryfields.ops.Xgate.html) and [``Zgate``](https://strawberryfields.readthedocs.io/en/stable/code/api/strawberryfields.ops.Zgate.html), as well as the\n",
    "measurements returned by Homodyne measurement [``MeasureHomodyne``](https://strawberryfields.readthedocs.io/en/stable/code/api/strawberryfields.ops.MeasureHomodyne.html), so this must be taken into account if the value of $\\hbar$ is modified. All other gates are\n",
    "unaffected. See [Conventions and formulas](https://strawberryfields.ai/photonics/conventions/index.html#conventions) for more details.\n",
    "\n",
    "Therefore, to initialize a program on three quantum registers, we write:\n",
    "\n"
   ]
  },
  {
   "cell_type": "code",
   "execution_count": 3,
   "metadata": {},
   "outputs": [],
   "source": [
    "prog = sf.Program(3)"
   ]
  },
  {
   "cell_type": "markdown",
   "metadata": {},
   "source": [
    "Circuit construction\n",
    "--------------------\n",
    "\n",
    "To prepare states and apply gates to the quantum register ``q``, we must be inside the context of\n",
    "the program we initialized using the ``with`` statement. Everything within the program context is\n",
    "written using the [Blackbird quantum programming language](https://strawberryfields.ai/photonics/demos/run_blackbird.html#blackbird). For example, to\n",
    "construct the following state teleportation circuit\n",
    "\n",
    "![](teleport.png)\n",
    "\n",
    "to teleport the coherent state $\\ket{\\alpha}$ where $\\alpha=1+0.5i$:\n",
    "\n"
   ]
  },
  {
   "cell_type": "code",
   "execution_count": 4,
   "metadata": {},
   "outputs": [],
   "source": [
    "alpha = 1+0.5j\n",
    "r = np.abs(alpha)\n",
    "phi = np.angle(alpha)\n",
    "\n",
    "with prog.context as q:\n",
    "    # prepare initial states\n",
    "    Coherent(r, phi) | q[0]\n",
    "    Squeezed(-2) | q[1]\n",
    "    Squeezed(2) | q[2]\n",
    "\n",
    "    # apply gates\n",
    "    BS = BSgate(pi/4, pi)\n",
    "    BS | (q[1], q[2])\n",
    "    BS | (q[0], q[1])\n",
    "\n",
    "    # Perform homodyne measurements\n",
    "    MeasureX | q[0]\n",
    "    MeasureP | q[1]\n",
    "\n",
    "    # Displacement gates conditioned on\n",
    "    # the measurements\n",
    "    Xgate(sqrt(2) * q[0].par) | q[2]\n",
    "    Zgate(-sqrt(2) * q[1].par) | q[2]"
   ]
  },
  {
   "cell_type": "markdown",
   "metadata": {},
   "source": [
    "A couple of things to note here:\n",
    "\n",
    "- **The quantum register returned from the** ``prog.context`` **context manager is a sequence**.\n",
    "  Individual modes can be accessed via standard Python indexing and slicing techniques.\n",
    "\n",
    "- **Preparing initial states, measurements, and gate operations all make use of the following\n",
    "  syntax:**\n",
    "\n",
    "  ``Operation([arg1, arg2, ...]) | reg``\n",
    "\n",
    "  where the number of arguments depends on the specific operation, and ``reg`` is either a\n",
    "  single mode or a sequence of modes, depending on how many modes the operation acts on. For a full\n",
    "  list of operations and gates available, see the [quantum gates](https://strawberryfields.readthedocs.io/en/stable/code/sf_ops.html#gates) documentation.\n",
    "\n",
    "- **Every time a operation is applied it is added to the command queue**, ready to be simulated by\n",
    "  the backend.\n",
    "\n",
    "- **Operations must be applied in temporal order**. Different operation orderings can result in the\n",
    "  same quantum circuit, providing the operations do not apply sequentially to the same mode. For\n",
    "  example, we can permute the line containing ``MeasureX`` and ``MeasureP`` without changing the\n",
    "  result.\n",
    "\n",
    "- **Gates are standard Python objects, and can be treated as such**. In this case, since both\n",
    "  beamsplitters use the same parameters, a single instance is being instantiated and stored under\n",
    "  variable ``BS``.\n",
    "\n",
    "- **The results of measured modes are passed to gates simply by passing the measured mode as an\n",
    "  argument.** In order to perform additional classical processing to the measured mode ``q[i]``, and\n",
    "  use the result to control a subsequent quantum operation, we can use the ``q[i].par`` attribute\n",
    "  within the operation argument.\n",
    "\n",
    "> **Note:** By choosing a different phase for the 50-50 beamsplitter, that is, ``BSgate(pi/4,0)``, we can avoid having to negate the [``Zgate``](https://strawberryfields.readthedocs.io/en/stable/code/api/strawberryfields.ops.Zgate.html) correction at the end of the circuit.\n",
    "\n",
    "Executing the program\n",
    "---------------------\n",
    "\n",
    "Once the program is constructed, we then must initialize an **engine**, which is responsible for\n",
    "executing the program on a specified **backend** (which can be either a local simulator, or a\n",
    "remote simulator/hardware device). Engines are initialized as follows:\n",
    "\n",
    "``sf.Engine(backend, backend_options={})``\n",
    "\n",
    "where\n",
    "\n",
    "- ``backend``: a string or [``BaseBackend``](https://strawberryfields.readthedocs.io/en/stable/code/api/strawberryfields.backends.BaseBackend.html) object representing the Strawberry Fields backend we wish to use; we have the choice of two Fock backends [5], the NumPy based (``'fock'``) and TensorFlow (``'tf'``), and one Gaussian backend [6] (``'gaussian'``).\n",
    "\n",
    "  This argument is *required* when creating the engine.\n",
    "\n",
    "- ``backend_options`` is a dictionary containing options specific to the chosen backend.\n",
    "\n",
    "Let's choose the Fock backend for this particular example. Since we are working in the Fock basis,\n",
    "we must also specify the Fock basis *cutoff dimension*; let's choose ``cutoff_dim=15``, such that\n",
    "a state $\\ket{\\psi}$ has approximation\n",
    "\n",
    "$$\n",
    "\\ket{\\psi} = \\sum_{n=0}^\\infty c_n\\ket{n} \\approx \\sum_{n=0}^{\\texttt{cutoff}\\_\\texttt{dim}-1} c_n\\ket{n}\n",
    "$$\n",
    "\n",
    "in our truncated Fock basis. We now have all the parameters ready to initialize the engine:\n",
    "\n"
   ]
  },
  {
   "cell_type": "code",
   "execution_count": 5,
   "metadata": {},
   "outputs": [],
   "source": [
    "eng = sf.Engine('fock', backend_options={\"cutoff_dim\": 15})"
   ]
  },
  {
   "cell_type": "markdown",
   "metadata": {},
   "source": [
    "> **Warning:** To avoid significant numerical error when working with the Fock backend, we need to make sure from now on that all initial states and gates we apply result in negligible amplitude in the Fock basis for Fock states $\\ket{n}, ~~n\\geq \\texttt{cutoff}\\_\\texttt{dim}$. For example, to prepare a squeezed vacuum state in the $x$ quadrature with ``cutoff_dim=10``, a     squeezing factor of $r=1$ provides an acceptable approximation, since $|\\langle n \\vert z \\rangle|^2 < 0.02$ for $n\\geq 10$.\n",
    "\n",
    "We can now execute our quantum program ``prog`` on the engine via the [``run()``](https://strawberryfields.readthedocs.io/en/stable/code/api/strawberryfields.Engine.html#strawberryfields.Engine.run):\n",
    "\n"
   ]
  },
  {
   "cell_type": "code",
   "execution_count": 6,
   "metadata": {},
   "outputs": [],
   "source": [
    "result = eng.run(prog, shots=1, modes=None, compile_options={})"
   ]
  },
  {
   "cell_type": "markdown",
   "metadata": {},
   "source": [
    "The [``eng.run``](https://strawberryfields.readthedocs.io/en/stable/code/api/strawberryfields.Engine.html#strawberryfields.Engine.run) method accepts the arguments:\n",
    "\n",
    "* ``program``: The [``Program``](https://strawberryfields.readthedocs.io/en/stable/code/api/strawberryfields.Program.html) to execute.\n",
    "\n",
    "* ``shots``: A positive integer that specifies the number of times the program measurement\n",
    "  evaluation is to be repeated.\n",
    "\n",
    "* ``modes``: An optional list of integers that specifies which modes we wish the backend to\n",
    "  return for the quantum state. If the state is a mixed state represented by a density matrix,\n",
    "  then the backend will automatically perform a partial trace to return only the modes\n",
    "  specified. Note that this only affects the returned state object---all modes remain in the\n",
    "  backend circuit.\n",
    "\n",
    "* ``compile_options``: A dictionary of keyword arguments to be used for program compilation. To\n",
    "  ensure the ``~strawberryfields.Program`` will run on the specified backend, the engine will\n",
    "  perform **program compilation**, by calling the [``compile()``](https://strawberryfields.readthedocs.io/en/stable/code/api/strawberryfields.Program.html#strawberryfields.Program.compile) method.\n",
    "\n",
    "> **Note:** A ``shots`` value different than 1 is currently only supported for one specific case: the ``MeasureFock/Measure`` operation executed on the Gaussian backend.\n",
    "\n",
    "Other useful engine methods that can be called at any time include:\n",
    "\n",
    "* [``eng.print_applied()``](https://strawberryfields.readthedocs.io/en/stable/code/api/strawberryfields.engine.BaseEngine.html#strawberryfields.engine.BaseEngine.print_applied): Prints all commands applied using [``eng.run``](https://strawberryfields.readthedocs.io/en/stable/code/api/strawberryfields.engine.LocalEngine.html#strawberryfields.engine.LocalEngine.run) since the last backend reset/initialisation.\n",
    "\n",
    "  - This may differ from your original constructed program due to program compilation. As a\n",
    "    result, this shows all applied gate decompositions, which may differ depending on the backend.\n",
    "\n",
    "* [``eng.reset()``](https://strawberryfields.readthedocs.io/en/stable/code/api/strawberryfields.engine.BaseEngine.html#strawberryfields.engine.BaseEngine.reset): Resets the backend circuit to the vacuum state.\n",
    "\n",
    "Results and visualization\n",
    "-------------------------\n",
    "\n",
    "The returned [``Result``](https://strawberryfields.readthedocs.io/en/stable/code/api/strawberryfields.Result.html) object provides several useful properties for accessing the results of your program execution:\n",
    "\n",
    "* ``result.state``: The quantum state object contains details and methods for manipulation of the\n",
    "  final circuit state.\n",
    "\n",
    "  Note that only local simulators will return a state object. Remote simulators and hardware\n",
    "  backends will return measurement [``sample``](https://strawberryfields.readthedocs.io/en/stable/code/api/strawberryfields.Result.html#strawberryfields.Result.samples), but the return value of ``state`` will be ``None``.\n",
    "\n",
    "  Depending on backend used, the state returned might be a [``BaseFockState``](https://strawberryfields.readthedocs.io/en/stable/code/api/strawberryfields.backends.BaseFockState.html), which represents the state using the\n",
    "  Fock/number basis, or might be a [``BaseGaussianState``](https://strawberryfields.readthedocs.io/en/stable/code/api/strawberryfields.backends.BaseGaussianState.html), which represents the state using Gaussian representation, as a vector of means and a covariance\n",
    "  matrix. Many methods are provided for state manipulation, see [States](https://strawberryfields.readthedocs.io/en/stable/introduction/states.html) for more details.\n",
    "\n",
    "* ``result.samples``: Measurement samples from any measurements performed. Returned measurement\n",
    "  samples will have shape ``(shots, modes)``.\n",
    "\n",
    "Once the engine has been run, we can extract results of measurements and the quantum state from\n",
    "the circuit. Any measurements performed on a mode are stored attribute [``result.samples``](https://strawberryfields.readthedocs.io/en/stable/code/api/strawberryfields.Result.html#strawberryfields.Result.samples):\n",
    "\n"
   ]
  },
  {
   "cell_type": "code",
   "execution_count": 7,
   "metadata": {},
   "outputs": [
    {
     "name": "stdout",
     "output_type": "stream",
     "text": [
      "[[0.19890199 0.17330173]]\n"
     ]
    }
   ],
   "source": [
    "print(result.samples)"
   ]
  },
  {
   "cell_type": "markdown",
   "metadata": {},
   "source": [
    "If a mode has not been measured, this attribute simply returns ``None``.\n",
    "\n",
    "In this particular example, we are using the Fock backend, and so the state that was returned by\n",
    "``result.state`` is in the Fock basis. To double check this, we can inspect it with the ``print``\n",
    "function:\n",
    "\n"
   ]
  },
  {
   "cell_type": "code",
   "execution_count": 8,
   "metadata": {},
   "outputs": [
    {
     "name": "stdout",
     "output_type": "stream",
     "text": [
      "<FockState: num_modes=3, cutoff=15, pure=False, hbar=2>\n"
     ]
    }
   ],
   "source": [
    "print(result.state)\n",
    "state = result.state"
   ]
  },
  {
   "cell_type": "markdown",
   "metadata": {},
   "source": [
    "In addition to the parameters we have already configured when creating and running the engine, the\n",
    "line ``pure=False``, indicates that this is a mixed state represented as a density matrix, and not\n",
    "a state vector.\n",
    "\n",
    "To return the density matrix representing the Fock state, we can use the method [``state.dm``](https://strawberryfields.readthedocs.io/en/stable/code/api/strawberryfields.backends.BaseFockState.html#strawberryfields.backends.BaseFockState.dm) [7]. In this case, the density matrix has dimension\n",
    "\n"
   ]
  },
  {
   "cell_type": "code",
   "execution_count": 9,
   "metadata": {},
   "outputs": [
    {
     "name": "stdout",
     "output_type": "stream",
     "text": [
      "(15, 15, 15, 15, 15, 15)\n"
     ]
    }
   ],
   "source": [
    "print(state.dm().shape)"
   ]
  },
  {
   "cell_type": "markdown",
   "metadata": {},
   "source": [
    "Here, we use the convention that every pair of consecutive dimensions corresponds to a subsystem;\n",
    "i.e.,\n",
    "\n",
    "$$\n",
    "\\rho_{\\underbrace{ij}_{q[0]}~\\underbrace{kl}_{q[1]}~\\underbrace{mn}_{q[2]}}\n",
    "$$\n",
    "\n",
    "Thus we can calculate the reduced density matrix for mode ``q[2]``, $\\rho_2$:\n",
    "\n"
   ]
  },
  {
   "cell_type": "code",
   "execution_count": 10,
   "metadata": {},
   "outputs": [
    {
     "name": "stdout",
     "output_type": "stream",
     "text": [
      "(15, 15)\n"
     ]
    }
   ],
   "source": [
    "rho2 = np.einsum('kkllij->ij', state.dm())\n",
    "print(rho2.shape)"
   ]
  },
  {
   "cell_type": "markdown",
   "metadata": {},
   "source": [
    "> **Note:** The Fock state also provides the method [``reduced_dm()``](https://strawberryfields.readthedocs.io/en/stable/code/api/strawberryfields.backends.BaseFockState.html#strawberryfields.backends.BaseFockState.reduced_dm) for extracting the reduced density matrix automatically.\n",
    "\n",
    "The diagonal values of the reduced density matrix contain the marginal Fock state probabilities\n",
    "$|\\langle i \\vert \\rho_2 \\rangle|^2,~~ 0\\leq i\\leq 14$:\n",
    "\n"
   ]
  },
  {
   "cell_type": "code",
   "execution_count": 11,
   "metadata": {},
   "outputs": [
    {
     "name": "stdout",
     "output_type": "stream",
     "text": [
      "[3.10694907e-01 3.62467630e-01 2.11807608e-01 8.23802050e-02\n",
      " 2.43874177e-02 5.83556629e-03 1.26776314e-03 2.37656289e-04\n",
      " 8.43934922e-05 1.78787082e-06 1.52342119e-04 1.07036413e-05\n",
      " 3.36055927e-04 1.47426072e-05 1.92773805e-04]\n"
     ]
    }
   ],
   "source": [
    "probs = np.real_if_close(np.diagonal(rho2))\n",
    "print(probs)"
   ]
  },
  {
   "cell_type": "markdown",
   "metadata": {},
   "source": [
    "We can then use a package such as matplotlib to plot the marginal Fock state probability\n",
    "distributions for the first 6 Fock states, for the teleported mode ``q[2]``:\n",
    "\n"
   ]
  },
  {
   "cell_type": "code",
   "execution_count": 12,
   "metadata": {},
   "outputs": [
    {
     "data": {
      "image/png": "[encoded data removed]",
      "text/plain": [
       "<Figure size 432x288 with 1 Axes>"
      ]
     },
     "metadata": {
      "needs_background": "light"
     },
     "output_type": "display_data"
    }
   ],
   "source": [
    "from matplotlib import pyplot as plt\n",
    "plt.bar(range(7), probs[:7])\n",
    "plt.xlabel('Fock state')\n",
    "plt.ylabel('Marginal probability')\n",
    "plt.title('Mode 2')\n",
    "plt.show()"
   ]
  },
  {
   "cell_type": "markdown",
   "metadata": {},
   "source": [
    "Note that this information can also be extracted automatically via the Fock state method [``all_fock_probs()``](https://strawberryfields.readthedocs.io/en/stable/code/api/strawberryfields.backends.BaseFockState.html#strawberryfields.backends.BaseFockState.all_fock_probs):\n",
    "\n"
   ]
  },
  {
   "cell_type": "code",
   "execution_count": 13,
   "metadata": {},
   "outputs": [
    {
     "name": "stdout",
     "output_type": "stream",
     "text": [
      "[3.10694907e-01 3.62467630e-01 2.11807608e-01 8.23802050e-02\n",
      " 2.43874177e-02 5.83556629e-03 1.26776314e-03 2.37656289e-04\n",
      " 8.43934922e-05 1.78787082e-06 1.52342119e-04 1.07036413e-05\n",
      " 3.36055927e-04 1.47426072e-05 1.92773805e-04]\n"
     ]
    }
   ],
   "source": [
    "fock_probs = state.all_fock_probs()\n",
    "fock_probs.shape\n",
    "print(np.sum(fock_probs, axis=(0,1)))"
   ]
  },
  {
   "cell_type": "markdown",
   "metadata": {},
   "source": [
    "Full program\n",
    "------------\n",
    "\n",
    "The full Strawberry Fields program for teleportation is given by:\n",
    "\n",
    "```\n",
    "    import strawberryfields as sf\n",
    "    from strawberryfields.ops import *\n",
    "\n",
    "    import numpy as np\n",
    "    from numpy import pi, sqrt\n",
    "\n",
    "    prog = sf.Program(3)\n",
    "\n",
    "    alpha = 1+0.5j\n",
    "    r = np.abs(alpha)\n",
    "    phi = np.angle(alpha)\n",
    "\n",
    "    with prog.context as q:\n",
    "        # prepare initial states\n",
    "        Coherent(r, phi) | q[0]\n",
    "        Squeezed(-2) | q[1]\n",
    "        Squeezed(2) | q[2]\n",
    "\n",
    "        # apply gates\n",
    "        BS = BSgate(pi/4, pi)\n",
    "        BS | (q[1], q[2])\n",
    "        BS | (q[0], q[1])\n",
    "\n",
    "        # Perform homodyne measurements\n",
    "        MeasureX | q[0]\n",
    "        MeasureP | q[1]\n",
    "\n",
    "        # Displacement gates conditioned on\n",
    "        # the measurements\n",
    "        Xgate(sqrt(2) * q[0].par) | q[2]\n",
    "        Zgate(sqrt(2) * q[1].par) | q[2]\n",
    "\n",
    "    eng = sf.Engine('fock', backend_options={'cutoff_dim': 15})\n",
    "    result = eng.run(prog, shots=1, modes=None, compile_options={})\n",
    "```\n",
    "\n"
   ]
  },
  {
   "cell_type": "markdown",
   "metadata": {},
   "source": [
    "Footnotes\n",
    "---------\n",
    "\n",
    "[5] Fock backends are backends which represent the quantum state and operations via the Fock basis. These can represent *all* possible CV states and operations, but also introduce numerical error due to truncation of the Fock space, and consume more memory.\n",
    "\n",
    "[6] The Gaussian backend, due to its ability to represent states and operations as Gaussian\n",
    "       objects/transforms in the phase space, consumes less memory and is less computationally intensive\n",
    "       then the Fock backends. However, it cannot represent non-Gaussian operations and states (such as\n",
    "       the cubic phase gate, and Fock states, amongst others). The only exception is Fock measurements.\n",
    "       The Gaussian backend can simulate these, but it does not update the post-measurement quantum\n",
    "       state, which would be non-Gaussian.\n",
    "\n",
    "[7] If using the Gaussian backend, state methods and attributes available for extracting the state information include:\n",
    "\n",
    "  * [``means()``](https://strawberryfields.readthedocs.io/en/stable/code/api/strawberryfields.backends.BaseGaussianState.html#strawberryfields.backends.BaseGaussianState.means) and [``cov()``](https://strawberryfields.readthedocs.io/en/stable/code/api/strawberryfields.backends.BaseGaussianState.html#strawberryfields.backends.BaseGaussianState.cov) for returning the vector of means and the covariance matrix of the specified modes\n",
    "  * [``fock_prob()``](https://strawberryfields.readthedocs.io/en/stable/code/api/strawberryfields.backends.BaseState.html#strawberryfields.backends.BaseState.fock_prob) for returning the probability that the photon counting pattern specified by ``n`` occurs\n",
    "  * [``reduced_dm()``](https://strawberryfields.readthedocs.io/en/stable/code/api/strawberryfields.backends.BaseState.html#strawberryfields.backends.BaseState.reduced_dm) for returning the reduced density matrix in the fock basis of mode ``n``\n",
    "\n",
    "References\n",
    "----------\n",
    "\n",
    "[1] Dagmar Bruß. Characterizing entanglement. Journal of Mathematical Physics,\n",
    "       43(9):4237-4251, Sep 2002. URL: https://doi.org/10.1063/1.1494474, doi:10.1063/1.1494474.\n",
    "\n",
    "[2] Charles H. Bennett, Gilles Brassard, Claude Crépeau, Richard Jozsa, Asher Peres, and\n",
    "       William K. Wootters. Teleporting an unknown quantum state via dual classical and\n",
    "       Einstein-Podolsky-Rosen channels. Physical Review Letters, 70:1895-1899, Mar 1993.\n",
    "       doi:10.1103/PhysRevLett.70.1895.\n",
    "\n",
    "[3] A. Furusawa and P. van Loock. Quantum Teleportation and Entanglement:\n",
    "       A Hybrid Approach to Optical Quantum Information Processing. Wiley, 2011.\n",
    "       ISBN 9783527635290. URL: https://books.google.ca/books?id=eKxHZ0UHEU4C.\n",
    "\n",
    "[4] W.H. Steeb and Y. Hardy. Problems and Solutions in Quantum Computing and\n",
    "       Quantum Information. World Scientific, 2006. ISBN 9789812567406.\n",
    "       URL: https://books.google.ca/books?id=HGMy\\_dSmfbkC.\n",
    "\n"
   ]
  }
 ],
 "metadata": {
  "interpreter": {
   "hash": "3590edbdefbafa5e6a8d4ecea734e61404ecae2aa6c016f6bc57b492c6374672"
  },
  "kernelspec": {
   "display_name": "Python 3 (ipykernel)",
   "language": "python",
   "name": "python3"
  },
  "language_info": {
   "codemirror_mode": {
    "name": "ipython",
    "version": 3
   },
   "file_extension": ".py",
   "mimetype": "text/x-python",
   "name": "python",
   "nbconvert_exporter": "python",
   "pygments_lexer": "ipython3",
   "version": "3.9.6"
  }
 },
 "nbformat": 4,
 "nbformat_minor": 4
}
