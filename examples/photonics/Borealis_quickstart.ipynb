{
 "cells": [
  {
   "cell_type": "code",
   "execution_count": 1,
   "metadata": {},
   "outputs": [],
   "source": [
    "# Use Braket SDK Cost Tracking to estimate the cost to run this example\n",
    "from braket.tracking import Tracker\n",
    "t = Tracker().start()"
   ]
  },
  {
   "cell_type": "markdown",
   "metadata": {},
   "source": [
    "\n",
    "# Borealis Quickstart\n",
    "\n",
    "*Authors: Theodor Isacsson and Isaac De Vlugt*\n",
    "\n",
    "In this quickstart, we will show how Borealis can be programmed in minutes.\n",
    "The Borealis hardware, which showcased a quantum computational advantage as can be seen in Xanadu's Nature publication [1], \n",
    "is based on <a href=\"./3_Time_domain_photonic_circuits.ipynb\">time-domain multiplexing (TDM)</a>;\n",
    "a single squeezed-light source emits batches of 216 time-ordered squeezed-light \n",
    "pulses that interfere with one another with the help of optical delay loops, \n",
    "programmable beamsplitters, and phase shifters. To demonstrate a quantum computational\n",
    "advantage, we chose a task that is proven to be computationally hard: <a href=\"./2_Gaussian_boson_sampling_and_the_Hafnian.ipynb\">Gaussian Boson Sampling (GBS)</a>.\n",
    "We will show you how to run the experiment!\n"
   ]
  },
  {
   "cell_type": "markdown",
   "metadata": {},
   "source": [
    "Also, if you would like to learn more about Borealis and how to program it in more detail, check out our <a href=\"./4_Operating_Borealis_beginner_tutorial.ipynb\">Borealis demo for beginners</a>.\n",
    "\n",
    "\n"
   ]
  },
  {
   "cell_type": "markdown",
   "metadata": {},
   "source": [
    "To start off, we import the necessary packages. Then, by loading\n",
    "a [`strawberryfields.Device`](https://strawberryfields.readthedocs.io/en/stable/code/api/strawberryfields.Device.html?highlight=strawberryfields%20device#strawberryfields.Device) object which contains relevant\n",
    "and up-to-date information about Borealis, we can retrieve the device\n",
    "by calling the [`strawberryfields.Device`](https://strawberryfields.readthedocs.io/en/stable/code/api/strawberryfields.Device.html?highlight=strawberryfields%20device#strawberryfields.Device)\n",
    "property on the `BraketEngine` object.\n",
    "\n"
   ]
  },
  {
   "cell_type": "code",
   "execution_count": 2,
   "metadata": {},
   "outputs": [],
   "source": [
    "import strawberryfields as sf\n",
    "import numpy as np\n",
    "from braket.strawberryfields_plugin import BraketEngine\n",
    "\n",
    "eng = BraketEngine(\"arn:aws:braket:us-east-1::device/qpu/xanadu/Borealis\")\n",
    "device = eng.device"
   ]
  },
  {
   "cell_type": "markdown",
   "metadata": {},
   "source": [
    "A time-domain program is defined by arguments that each quantum\n",
    "gate applies at each time bin, within the duration of the program.\n",
    "We're going to use helper functions that will do some heavy lifting for us.\n",
    "The `strawberryfields.tdm.borealis_gbs` function\n",
    "will summarize all the necessary information for Strawberry Fields\n",
    "and our hardware to implement your circuit, then\n",
    "`strawberryfields.tdm.get_mode_indices`\n",
    "gives us the number of concurrent modes ``N`` and the mode indices ``n``.\n",
    "\n",
    "\n"
   ]
  },
  {
   "cell_type": "code",
   "execution_count": 3,
   "metadata": {},
   "outputs": [],
   "source": [
    "from strawberryfields.tdm import borealis_gbs, get_mode_indices\n",
    "\n",
    "gate_args_list = borealis_gbs(device, modes=216, squeezing=\"high\")\n",
    "delays = [1, 6, 36]\n",
    "n, N = get_mode_indices(delays)"
   ]
  },
  {
   "cell_type": "markdown",
   "metadata": {},
   "source": [
    "Finally, we can construct and run the circuit.\n",
    "\n",
    "\n"
   ]
  },
  {
   "cell_type": "code",
   "execution_count": 4,
   "metadata": {},
   "outputs": [],
   "source": [
    "from strawberryfields.ops import Sgate, Rgate, BSgate, MeasureFock\n",
    "\n",
    "prog = sf.TDMProgram(N)\n",
    "\n",
    "with prog.context(*gate_args_list) as (p, q):\n",
    "    Sgate(p[0]) | q[n[0]]\n",
    "    for i in range(len(delays)):\n",
    "        Rgate(p[2 * i + 1]) | q[n[i]]\n",
    "        BSgate(p[2 * i + 2], np.pi / 2) | (q[n[i + 1]], q[n[i]])\n",
    "    MeasureFock() | q[0]"
   ]
  },
  {
   "cell_type": "markdown",
   "metadata": {},
   "source": [
    "<div class=\"alert alert-block alert-warning\">\n",
    "<b>Caution:</b> The following code will result in <a href=\"https://aws.amazon.com/braket/pricing/\">usage fees</a> for Borealis. Please only uncomment the cell if you are comfortable with the costs.</div>"
   ]
  },
  {
   "cell_type": "code",
   "execution_count": 5,
   "metadata": {},
   "outputs": [],
   "source": [
    "# shots = 10_000\n",
    "# results = eng.run(prog, shots=shots, crop=True)\n",
    "# print(results.samples)"
   ]
  },
  {
   "cell_type": "markdown",
   "metadata": {},
   "source": [
    "Congratulations for successfully demonstrating quantum advantage!\n",
    "\n",
    "\n"
   ]
  },
  {
   "cell_type": "markdown",
   "metadata": {},
   "source": [
    "## References\n",
    "\n",
    "[1] Madsen, L.S., Laudenbach, F., Askarani, M.F. et al. “Quantum computational advantage with a programmable photonic processor”, [Nature 606, 75-81](https://www.nature.com/articles/s41586-022-04725-x), 2022.\n"
   ]
  },
  {
   "cell_type": "code",
   "execution_count": 9,
   "metadata": {},
   "outputs": [
    {
     "name": "stdout",
     "output_type": "stream",
     "text": [
      "Task Summary\n",
      "{'arn:aws:braket:us-east-1::device/qpu/xanadu/Borealis': {'shots': 10000, 'tasks': {'COMPLETED': 1}}}\n",
      "Note: Charges shown are estimates based on your Amazon Braket simulator and quantum processing unit (QPU) task usage. Estimated charges shown may differ from your actual charges. Estimated charges do not factor in any discounts or credits, and you may experience additional charges based on your use of other services such as Amazon Elastic Compute Cloud (Amazon EC2).\n",
      "Estimated cost to run this example 2.30 USD\n"
     ]
    }
   ],
   "source": [
    "print(\"Task Summary\")\n",
    "print(t.quantum_tasks_statistics())\n",
    "print('Note: Charges shown are estimates based on your Amazon Braket simulator and quantum processing unit (QPU) task usage. Estimated charges shown may differ from your actual charges. Estimated charges do not factor in any discounts or credits, and you may experience additional charges based on your use of other services such as Amazon Elastic Compute Cloud (Amazon EC2).')\n",
    "print(f\"Estimated cost to run this example: {t.qpu_tasks_cost() + t.simulator_tasks_cost():.2f} USD\")"
   ]
  }
 ],
 "metadata": {
  "kernelspec": {
   "display_name": "Python 3.8.10 ('venv': venv)",
   "language": "python",
   "name": "python3"
  },
  "language_info": {
   "codemirror_mode": {
    "name": "ipython",
    "version": 3
   },
   "file_extension": ".py",
   "mimetype": "text/x-python",
   "name": "python",
   "nbconvert_exporter": "python",
   "pygments_lexer": "ipython3",
   "version": "3.8.10"
  },
  "vscode": {
   "interpreter": {
    "hash": "590fab68195cf107911461461f81d5c472d3d6127f579badfcfad30f03e5cab2"
   }
  }
 },
 "nbformat": 4,
 "nbformat_minor": 1
}
