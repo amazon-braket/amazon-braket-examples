{
 "cells": [
  {
   "cell_type": "markdown",
   "metadata": {},
   "source": [
    "\n",
    "\n",
    "Blackbird programming language\n",
    "==============================\n",
    "\n",
    "In this section, we provide an overview of the **Blackbird quantum programming language**. This\n",
    "simple and elegant language breaks down a quantum circuit into a set of instructions detailing the\n",
    "quantum operations we would like to apply, as well as the the subsystems that these operations act\n",
    "on. The Blackbird language is built-in to Strawberry Fields, but also exists as a separate\n",
    "Python [package](https://quantum-blackbird.readthedocs.io/en/latest/).\n",
    "\n",
    "Using the Strawberry Fields ``strawberryfields.io`` module, Blackbird scripts can be serialized\n",
    "and deserialized between files and Strawberry Fields Programs.\n",
    "\n",
    "Operations\n",
    "----------\n",
    "\n",
    "Blackbird is a quantum assembly language, capable of representing the basic continuous-variable (CV)\n",
    "states, gates, and measurements outlined in the [Introduction to quantum photonics](https://strawberryfields.ai/photonics/concepts/photonics.html#introduction) page. Collectively, these are all\n",
    "considered as *Operations*. In Blackbird, there are four main types of Operations:\n",
    "\n",
    "* State preparation\n",
    "\n",
    "* Gate application\n",
    "\n",
    "* Measurements\n",
    "\n",
    "* Adding and removing subsystems\n",
    "\n",
    "These all use the following general syntax: ``Operation(args) | q``, where ``args`` represents a list of parameters for the operation, and ``q`` is the qumode (or sequence of qumodes) the quantum operation acts upon. In Blackbird code, the symbol ``|`` *always* separates the operation to be applied (on the left) and the subsystem(s) it acts on (on the right).\n",
    "\n",
    "State preparation\n",
    "-----------------\n",
    "\n",
    "States can be prepared using the state preparation Operators [``Vacuum``](https://strawberryfields.readthedocs.io/en/stable/code/api/strawberryfields.ops.Vacuum.html), [``Fock``](https://strawberryfields.readthedocs.io/en/stable/code/api/strawberryfields.ops.Fock.html), [``Coherent``](https://strawberryfields.readthedocs.io/en/stable/code/api/strawberryfields.ops.Coherent.html), [``Squeezed``](https://strawberryfields.readthedocs.io/en/stable/code/api/strawberryfields.ops.Squeezed.html), [``DisplacedSqueezed``](https://strawberryfields.readthedocs.io/en/stable/code/api/strawberryfields.ops.DisplacedSqueezed.html), and [``Thermal``](https://strawberryfields.readthedocs.io/en/stable/code/api/strawberryfields.ops.Thermal.html). By default, all qumode subsystems are assumed initialised in\n",
    "the vacuum state.\n"
   ]
  },
  {
   "cell_type": "code",
   "execution_count": 1,
   "metadata": {},
   "outputs": [],
   "source": [
    "import numpy as np\n",
    "import strawberryfields as sf\n",
    "from strawberryfields.ops import *\n",
    "\n",
    "prog = sf.Program(3)\n",
    "\n",
    "with prog.context as q:\n",
    "    # State preparation in Blackbird\n",
    "    Fock(1) | q[0]\n",
    "    Coherent(0.5, 2) | q[1]"
   ]
  },
  {
   "cell_type": "markdown",
   "metadata": {},
   "source": [
    "In the above example, we have prepared a single photon state in qumode ``q[0]``, and a coherent\n",
    "state with $\\alpha=0.5+2i$ in qumode ``q[1]``. Note that we can also construct a state\n",
    "preparation operator with a particular set of parameters, and reuse it repeatedly:\n",
    "\n"
   ]
  },
  {
   "cell_type": "code",
   "execution_count": 2,
   "metadata": {},
   "outputs": [],
   "source": [
    "with prog.context as q:\n",
    "    S = Squeezed(1)\n",
    "    S | q[0]\n",
    "    S | q[1]"
   ]
  },
  {
   "cell_type": "markdown",
   "metadata": {},
   "source": [
    "Gate application\n",
    "----------------\n",
    "\n",
    "Gates are applied within Blackbird code in the exact same manner as state preparations. Consider the\n",
    "following example:\n",
    "\n"
   ]
  },
  {
   "cell_type": "code",
   "execution_count": 3,
   "metadata": {},
   "outputs": [],
   "source": [
    "with prog.context as q:\n",
    "    # Apply the Displacement gate to qumode 0\n",
    "    alpha = 2.0 + 1j\n",
    "    Dgate(np.abs(alpha), np.angle(alpha)) | q[0]\n",
    "\n",
    "    # Apply the Rotation gate\n",
    "    phi = 3.14 / 2\n",
    "    Rgate(phi) | q[0]\n",
    "\n",
    "    # Apply the Squeezing gate\n",
    "    Sgate(2.0, 0.17) | q[0]\n",
    "\n",
    "    # Apply the Beamsplitter gate to qumodes 0 & 1\n",
    "    BSgate(3.14 / 10, 0.223) | (q[0], q[1])\n",
    "\n",
    "    # Apply the Cubic Phase gate (VGate) to qumode 0\n",
    "    gamma = 0.1\n",
    "    Vgate(gamma) | q[0]"
   ]
  },
  {
   "cell_type": "markdown",
   "metadata": {},
   "source": [
    "Here, we are applying various gates, including the displacement gate\n",
    "([``Dgate``](https://strawberryfields.readthedocs.io/en/stable/code/api/strawberryfields.ops.Dgate.html)), rotation gate ([``Rgate``](https://strawberryfields.readthedocs.io/en/stable/code/api/strawberryfields.ops.Rgate.html)),\n",
    "squeezing gate ([``Sgate``](https://strawberryfields.readthedocs.io/en/stable/code/api/strawberryfields.ops.Sgate.html)), beamsplitter\n",
    "([``BSgate``](https://strawberryfields.readthedocs.io/en/stable/code/api/strawberryfields.ops.BSgate.html), a two-mode gate), and the cubic phase gate\n",
    "([``Vgate``](https://strawberryfields.readthedocs.io/en/stable/code/api/strawberryfields.ops.Vgate.html)). For more details on the gates available, as well as the\n",
    "parameters they take, see [Operations](https://strawberryfields.readthedocs.io/en/stable/introduction/ops.html).\n",
    "\n",
    "Note that gate Operations have some subtle differences to state preparation operators:\n",
    "\n",
    "* Unlike state preparation operators, some gates (such as the beamsplitter above) can be applied\n",
    "  to multiple qumodes.\n",
    "\n",
    "  > **Note:** The number of qumodes the gate acts upon and the sequence of qumodes to the right of the ``|`` operator must *always* match---we cannot apply the beamsplitter to a single qumode.\n",
    "\n",
    "* We can also apply the Hermitian conjugate of a gate operator; this is specified by appending\n",
    "  ``.H`` to the operator. For example:\n",
    "\n"
   ]
  },
  {
   "cell_type": "code",
   "execution_count": 4,
   "metadata": {},
   "outputs": [],
   "source": [
    "with prog.context as q:\n",
    "      V = Vgate(gamma)\n",
    "      V.H | q[0]"
   ]
  },
  {
   "cell_type": "markdown",
   "metadata": {},
   "source": [
    "> **Note:** Operations must be applied in temporal order, from top to bottom.\n",
    "\n",
    "Measurements\n",
    "------------\n",
    "\n",
    "In Blackbird, several CV measurement Operations are available; these include homodyne detection\n",
    "([``MeasureHomodyne``](https://strawberryfields.readthedocs.io/en/stable/code/api/strawberryfields.ops.MeasureHomodyne.html), as well as the shortcuts ``MeasureX`` and\n",
    "``MeasureP``), heterodyne detection ([``MeasureHD``](https://strawberryfields.readthedocs.io/en/stable/code/api/strawberryfields.ops.MeasureHeterodyne.html)),\n",
    "and photon detection ([``strawberryfields.ops.MeasureFock``](https://strawberryfields.readthedocs.io/en/stable/code/api/strawberryfields.ops.MeasureFock.html)). These are applied directly to\n",
    "the qumodes to be measured:\n",
    "\n"
   ]
  },
  {
   "cell_type": "code",
   "execution_count": 5,
   "metadata": {},
   "outputs": [],
   "source": [
    "with prog.context as q:\n",
    "    # Homodyne measurement at angle phi\n",
    "    phi = 0.25 * 3.14\n",
    "    MeasureHomodyne(phi) | q[0]\n",
    "\n",
    "    # Special homodyne measurements\n",
    "    MeasureX | q[0]\n",
    "    MeasureP | q[1]\n",
    "\n",
    "    # Heterodyne measurement\n",
    "    MeasureHeterodyne() | q[0]\n",
    "    MeasureHD           | q[1]  # shorthand\n",
    "\n",
    "    # Number state measurements of various qumodes\n",
    "    MeasureFock() | q[0]\n",
    "    MeasureFock() | (q[1], q[2]) # multiple modes"
   ]
  },
  {
   "cell_type": "markdown",
   "metadata": {},
   "source": [
    "For more details on measurements, as well as advanced features such as post-selection, see the [Measurements and post-selection](https://strawberryfields.ai/photonics/demos/run_post_selection.html#ps-tutorial) tutorial in the Strawberry Fields website.\n",
    "\n",
    "Otherwise, to see how Blackbird programs are used in practice within Strawberry Fields, continue\n",
    "on to the <a href=\"./1_Basic_tutorial_quantum_teleportation.ipynb\">Basic tutorial: quantum teleportation</a>.\n",
    "\n",
    "> **Note:** the Blackbird syntax is modeled after that of [Project Q](https://projectq.ch/), but specialized to the CV setting.\n"
   ]
  },
  {
   "cell_type": "code",
   "execution_count": null,
   "metadata": {},
   "outputs": [],
   "source": []
  }
 ],
 "metadata": {
  "interpreter": {
   "hash": "3590edbdefbafa5e6a8d4ecea734e61404ecae2aa6c016f6bc57b492c6374672"
  },
  "kernelspec": {
   "display_name": "Python 3 (ipykernel)",
   "language": "python",
   "name": "python3"
  },
  "language_info": {
   "codemirror_mode": {
    "name": "ipython",
    "version": 3
   },
   "file_extension": ".py",
   "mimetype": "text/x-python",
   "name": "python",
   "nbconvert_exporter": "python",
   "pygments_lexer": "ipython3",
   "version": "3.9.6"
  }
 },
 "nbformat": 4,
 "nbformat_minor": 1
}
