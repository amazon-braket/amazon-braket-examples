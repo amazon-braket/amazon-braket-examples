{
 "cells": [
  {
   "cell_type": "markdown",
   "metadata": {},
   "source": [
    "# Creating a Bell state with cross-resonance pulses on OQC's Lucy\n",
    "\n",
    "In this notebook we will investigate cross-resonance mechanisms to create a Bell state, i.e., the `Hello world!` example in quantum computing. \n",
    "\n",
    "The simplest circuit to generate a Bell pair is an Hadamard gate on a first qubit followed by a CNOT gate between this qubit and a second qubit. However, diving deeper in the pulse implementation of such gates, we would realize that they require specific mechanisms that are tightly connected to the hardware type and device architecture. Focusing on the capabilities of OQC's Lucy device, we will replace the canonical CNOT gate with a different entangling gate that is either the cross-resonance (CR) gate or its echoed version. We will then see how two qubits interact when we drive one qubit at the frequency of the other and calibrate this process to be able to create a Bell pair."
   ]
  },
  {
   "cell_type": "code",
   "execution_count": null,
   "metadata": {},
   "outputs": [],
   "source": [
    "# Use Braket SDK Cost Tracking to estimate the cost to run this example\n",
    "from braket.tracking import Tracker\n",
    "t = Tracker().start()"
   ]
  },
  {
   "cell_type": "markdown",
   "metadata": {},
   "source": [
    "Let's first start with importing some packages as usual."
   ]
  },
  {
   "cell_type": "code",
   "execution_count": 1,
   "metadata": {},
   "outputs": [],
   "source": [
    "%matplotlib inline\n",
    "import numpy as np\n",
    "import matplotlib.pyplot as plt\n",
    "\n",
    "from braket.aws import AwsDevice\n",
    "from braket.pulse import PulseSequence, ConstantWaveform\n",
    "\n",
    "from braket.circuits import Circuit, Observable\n",
    "from braket.parametric import FreeParameter\n"
   ]
  },
  {
   "cell_type": "markdown",
   "metadata": {},
   "source": [
    "We will use two qubits, #0 amd #1, that are physically connected to each other. We also instantiate an OQC device to extract frames and submit circuits."
   ]
  },
  {
   "cell_type": "code",
   "execution_count": 2,
   "metadata": {},
   "outputs": [],
   "source": [
    "a=0\n",
    "b=1\n",
    "\n",
    "device = AwsDevice(\"arn:aws:braket:eu-west-2::device/qpu/oqc/Lucy\")"
   ]
  },
  {
   "cell_type": "markdown",
   "metadata": {},
   "source": [
    "## Bell pair with the H, ECR and V gates"
   ]
  },
  {
   "cell_type": "markdown",
   "metadata": {},
   "source": [
    "First we show how to transform the canonical Bell state circuit into another one where we replace the CNOT gate by an echoed cross-resonance (ECR) gatet and a V gate, also known as SX (square-root of X). These gates are native on the Lucy device.\n",
    "\n",
    "As shown in Phys. Rev. B. 81, 134507 (2010) and Phys. Rev. Applied 12, 064013, the ECR gate implements an unitary evolution of the system that can be decomposed in two steps with a time reversal half way through the process to suppress most undesired evolution.\n",
    "$$ R_{ZX}(\\pi/4)-R_X(\\pi)-R_{ZX}(\\pi/4).$$\n",
    "The $R_{ZX}$ is interpretable as the rotation of the second qubit, conditioned by the state of the first qubit. "
   ]
  },
  {
   "cell_type": "code",
   "execution_count": 3,
   "metadata": {},
   "outputs": [
    {
     "name": "stdout",
     "output_type": "stream",
     "text": [
      "T  : |0| 1 |2|\n",
      "              \n",
      "q0 : -H-ECR---\n",
      "        |     \n",
      "q1 : ---ECR-V-\n",
      "\n",
      "T  : |0| 1 |2|\n"
     ]
    }
   ],
   "source": [
    "bell_pair_with_gates = Circuit().h(a).ecr(a, b).v(b)\n",
    "print(bell_pair_with_gates)"
   ]
  },
  {
   "cell_type": "markdown",
   "metadata": {},
   "source": [
    "The circuit is then executed on the OQC device and we plot the measurement histogram which indicates that we created $$\\frac{|00\\rangle+e^{i\\phi}|11\\rangle}{\\sqrt{2}}$$"
   ]
  },
  {
   "cell_type": "code",
   "execution_count": 4,
   "metadata": {},
   "outputs": [
    {
     "data": {
      "text/plain": [
       "Text(0, 0.5, 'Population')"
      ]
     },
     "execution_count": 4,
     "metadata": {},
     "output_type": "execute_result"
    },
    {
     "data": {
      "image/png": "[encoded data removed]",
      "text/plain": [
       "<Figure size 432x288 with 1 Axes>"
      ]
     },
     "metadata": {
      "needs_background": "light"
     },
     "output_type": "display_data"
    }
   ],
   "source": [
    "nb_shots = 100\n",
    "task = device.run(bell_pair_with_gates, shots = nb_shots)\n",
    "counts = task.result().measurement_counts\n",
    "\n",
    "\n",
    "plt.bar(sorted(counts), [counts[k]/nb_shots for k in sorted(counts)])\n",
    "plt.xlabel(\"State\")\n",
    "plt.ylabel(\"Population\")"
   ]
  },
  {
   "cell_type": "markdown",
   "metadata": {},
   "source": [
    "## Bell pair with the pulse implementation of the cross-resonance sequence"
   ]
  },
  {
   "cell_type": "markdown",
   "metadata": {},
   "source": [
    "Instead of tackling the implementation of the complete echoed cross resonance pulse sequence, we use a simple cross-resonance (CR) gate. The CR gate is a single-pulse gate that implements the unitary transformation $$ \\exp(−i \\beta Z X / 2),$$ where Z and X are the 2x2 Pauli matrices. Practically, you can understand the gate by isolating its action for each eigenstate of the control qubit. If it is in $|0\\rangle$ (resp. $|1\\rangle$), the target qubit undergoes a rotation of angle $\\beta$ (resp. $-\\beta$). \n",
    "\n",
    "We seek to measure the interaction strength between the qubits when we drive one of them at the frequency of the other. For this, we use the frame `q0_q1_cross_resonance` that is bound to qubit 0 but tuned up to the frequency of qubit 1. As we will test this pulse sequence in a quantum circuit containing single-qubit gates on other qubits, we also declare the 1-qubit drive frames for 0 and 1. "
   ]
  },
  {
   "cell_type": "code",
   "execution_count": 5,
   "metadata": {},
   "outputs": [],
   "source": [
    "q0_q1_CR = device.frames[f'q{a}_q{b}_cross_resonance']\n",
    "q0 = device.frames[f'q{a}_drive']\n",
    "q1 = device.frames[f'q{b}_drive']"
   ]
  },
  {
   "cell_type": "markdown",
   "metadata": {},
   "source": [
    "The sequence consists of a single square pulse of amplitude 0.18. This value has been determined by running the circuits below for different amplitudes and choosing the one that optimizes the difference of the expectation values $\\langle IZ \\rangle$ taken for the opposite initialization of the control qubit."
   ]
  },
  {
   "cell_type": "code",
   "execution_count": 6,
   "metadata": {},
   "outputs": [],
   "source": [
    "length = FreeParameter(\"length\")\n",
    "const_wf = ConstantWaveform(length, 0.18)\n",
    "\n",
    "cross_resonance_sequence = (\n",
    "    PulseSequence()\n",
    "    .barrier([q0, q1, q0_q1_CR])\n",
    "    .play(q0_q1_CR, const_wf)\n",
    "    .barrier([q0, q1, q0_q1_CR])\n",
    ")"
   ]
  },
  {
   "cell_type": "markdown",
   "metadata": {},
   "source": [
    "We run two batches of circuits where we vary the length of the pulse from 12ns to 1.4 µs. Each batch has a different initialized state: $|0\\rangle$ for the first, $|1\\rangle$ for the second. "
   ]
  },
  {
   "cell_type": "code",
   "execution_count": 7,
   "metadata": {},
   "outputs": [],
   "source": [
    "lengths = np.arange(12e-9, 1.5e-6, 36e-9)\n",
    "nb_shots = 1000\n",
    "\n",
    "# Initialization of the control qubit in 0\n",
    "circuit = (\n",
    "    Circuit()\n",
    "    .pulse_gate([0, 1], pulse_sequence=cross_resonance_sequence)\n",
    "    .expectation(observable = Observable.I() @ Observable.Z(),target=[0,1])\n",
    ")\n",
    "CR_circuits = [circuit(length=l) for l in lengths]\n",
    "batch_init_0 = device.run_batch(CR_circuits, shots=nb_shots, disable_qubit_rewiring=True)\n",
    "\n",
    "# Initialization of the control qubit in 1\n",
    "circuit = (\n",
    "    Circuit()\n",
    "    .x(0)\n",
    "    .pulse_gate([0, 1], pulse_sequence=cross_resonance_sequence)\n",
    "    .expectation(observable = Observable.I() @ Observable.Z(),target=[0,1])\n",
    ")\n",
    "CR_circuits = [circuit(length=l) for l in lengths]\n",
    "batch_init_1 = device.run_batch(CR_circuits, shots=nb_shots, disable_qubit_rewiring=True)"
   ]
  },
  {
   "cell_type": "markdown",
   "metadata": {},
   "source": [
    "We analyze the data by plotting the expectation value $\\langle IZ \\rangle$ versus the pulse duration for each batch. "
   ]
  },
  {
   "cell_type": "code",
   "execution_count": 8,
   "metadata": {},
   "outputs": [
    {
     "data": {
      "text/plain": [
       "<matplotlib.legend.Legend at 0x1548b6220>"
      ]
     },
     "execution_count": 8,
     "metadata": {},
     "output_type": "execute_result"
    },
    {
     "data": {
      "image/png": "[encoded data removed]",
      "text/plain": [
       "<Figure size 432x288 with 1 Axes>"
      ]
     },
     "metadata": {
      "needs_background": "light"
     },
     "output_type": "display_data"
    }
   ],
   "source": [
    "IZ_exp_value_init_0 = np.array([result.values[0] for result in batch_init_0.results()])\n",
    "IZ_exp_value_init_1 = np.array([result.values[0] for result in batch_init_1.results()])\n",
    "\n",
    "plt.plot(lengths, IZ_exp_value_init_0, label=\"Control in 0\")\n",
    "plt.plot(lengths, IZ_exp_value_init_1, label=\"Control in 1\")\n",
    "plt.xlabel(\"Pulse duration (s)\")\n",
    "plt.ylabel(\"<IZ>\")\n",
    "plt.legend()"
   ]
  },
  {
   "cell_type": "markdown",
   "metadata": {},
   "source": [
    "The plot displays a state-dependent oscillatory behavior indicating that we have implemented a unitary evolution based on the ZX interaction. We see also from the previous plot that, for pulse duration of 700ns, the two qubits interacts long enough for the state of the target qubit (i) to be flipped if the control qubit is its ground state or (ii) to cycle back to the original state if the control is in the excited state. Adding an X gate after this sequence would give the expected for the CNOT gate. \n",
    "\n",
    "Fixing the duration of the pulse to this particular value, we can now create a circuit including our custom pulse sequence and create a Bell state"
   ]
  },
  {
   "cell_type": "code",
   "execution_count": 9,
   "metadata": {},
   "outputs": [],
   "source": [
    "RZX_sequence = cross_resonance_sequence(length=700e-9)\n",
    "\n",
    "bell_pair_with_pulses = (\n",
    "    Circuit()\n",
    "    .h(a)\n",
    "    .pulse_gate([a ,b], pulse_sequence=RZX_sequence)\n",
    "    .x(b)\n",
    ")"
   ]
  },
  {
   "cell_type": "markdown",
   "metadata": {},
   "source": [
    "We now can execute this circuit, which returns similar results as with the circuit using an ECR gate. \n",
    "\n",
    "We can however notice that the fidelity is worse than in the first case, due to the fact that we did not include any correction for crosstalks such as cross-resonant cancelation, pulse synchronization and an echo scheme. To dive deeper and investigate methods to improve these results, see the following paper Phys. Rev. Applied 12, 064013. "
   ]
  },
  {
   "cell_type": "code",
   "execution_count": 10,
   "metadata": {},
   "outputs": [
    {
     "data": {
      "text/plain": [
       "Text(0, 0.5, 'Population')"
      ]
     },
     "execution_count": 10,
     "metadata": {},
     "output_type": "execute_result"
    },
    {
     "data": {
      "image/png": "[encoded data removed]",
      "text/plain": [
       "<Figure size 432x288 with 1 Axes>"
      ]
     },
     "metadata": {
      "needs_background": "light"
     },
     "output_type": "display_data"
    }
   ],
   "source": [
    "nb_shots = 500\n",
    "task = device.run(bell_pair_with_pulses, shots = nb_shots)\n",
    "counts = task.result().measurement_counts\n",
    "\n",
    "\n",
    "plt.bar(sorted(counts), [counts[k]/nb_shots for k in sorted(counts)])\n",
    "plt.xlabel(\"State\")\n",
    "plt.ylabel(\"Population\")"
   ]
  },
  {
   "cell_type": "code",
   "execution_count": null,
   "metadata": {},
   "outputs": [],
   "source": [
    "print(\"Task Summary\")\n",
    "print(t.quantum_tasks_statistics())\n",
    "print('Note: Charges shown are estimates based on your Amazon Braket simulator and quantum processing unit (QPU) task usage. Estimated charges shown may differ from your actual charges. Estimated charges do not factor in any discounts or credits, and you may experience additional charges based on your use of other services such as Amazon Elastic Compute Cloud (Amazon EC2).')\n",
    "print(f\"Estimated cost to run this example: {t.qpu_tasks_cost() + t.simulator_tasks_cost():.3f} USD\")"
   ]
  }
 ],
 "metadata": {
  "kernelspec": {
   "display_name": "Python 3 (ipykernel)",
   "language": "python",
   "name": "python3"
  },
  "language_info": {
   "codemirror_mode": {
    "name": "ipython",
    "version": 3
   },
   "file_extension": ".py",
   "mimetype": "text/x-python",
   "name": "python",
   "nbconvert_exporter": "python",
   "pygments_lexer": "ipython3",
   "version": "3.7.11"
  }
 },
 "nbformat": 4,
 "nbformat_minor": 2
}
