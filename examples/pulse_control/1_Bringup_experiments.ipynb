{
 "cells": [
  {
   "cell_type": "markdown",
   "metadata": {},
   "source": [
    "# Bringup Experiments\n",
    "In this tutorial notebook, we will review common pulse sequences that are used as first steps during the bring up of more complex pulse experiments:\n",
    "- measure the resonance frequency of a qubit\n",
    "- calibrate a $\\pi$/2 pulse via Rabi spectroscopy\n",
    "- measure the $T^*_2$ coherence time with a Ramsey sequence\n",
    "\n",
    "You can use either Rigetti's Aspen M-2 or OQC's Lucy device to run this notebook."
   ]
  },
  {
   "cell_type": "markdown",
   "metadata": {},
   "source": [
    "Let's first import some packages to construct pulse sequences and analyze results."
   ]
  },
  {
   "cell_type": "code",
   "execution_count": 1,
   "metadata": {},
   "outputs": [],
   "source": [
    "%matplotlib inline\n",
    "\n",
    "from braket.aws import AwsDevice\n",
    "from braket.pulse import PulseSequence, GaussianWaveform, ConstantWaveform\n",
    "from braket.parametric import FreeParameter\n",
    "\n",
    "## Imports for function fitting\n",
    "import numpy as np\n",
    "import matplotlib.pyplot as plt\n",
    "import scipy.optimize\n",
    "from scipy.fft import fft, fftfreq"
   ]
  },
  {
   "cell_type": "markdown",
   "metadata": {},
   "source": [
    "You will be able to switch from one device to the other by setting the `device_name` to `aspen` or `lucy`"
   ]
  },
  {
   "cell_type": "code",
   "execution_count": 2,
   "metadata": {},
   "outputs": [],
   "source": [
    "device_name = \"aspen\""
   ]
  },
  {
   "cell_type": "markdown",
   "metadata": {},
   "source": [
    "We will use the following configuration to control the different parameters for our experiments across the available devices"
   ]
  },
  {
   "cell_type": "code",
   "execution_count": 3,
   "metadata": {},
   "outputs": [],
   "source": [
    "experiment_configuration = {\n",
    "    \"aspen\": {\n",
    "        \"device_arn\": \"arn:aws:braket:us-west-1::device/qpu/rigetti/Aspen-M-2\",\n",
    "        \"qubit\": 4,\n",
    "        \"drive_frame\": \"q4_rf_frame\",\n",
    "        \"readout_frame\": \"q4_ro_rx_frame\",\n",
    "        \"spectroscopy_wf\": GaussianWaveform(100e-9, 25e-9, 0.1, True),\n",
    "        \"rabi_wf\": GaussianWaveform(FreeParameter(\"length\"), FreeParameter(\"length\") * 0.25, 0.2, True)\n",
    "    },\n",
    "    \"lucy\": {\n",
    "        \"device_arn\": \"arn:aws:braket:eu-west-2::device/qpu/oqc/Lucy\",\n",
    "        \"qubit\": 0,\n",
    "        \"drive_frame\": \"q0_drive\",\n",
    "        \"readout_frame\": \"r0_measure\",\n",
    "        \"spectroscopy_wf\": ConstantWaveform(25e-9, 0.03),\n",
    "        \"rabi_wf\": ConstantWaveform(FreeParameter(\"length\"), 0.07)\n",
    "    }\n",
    "}"
   ]
  },
  {
   "cell_type": "markdown",
   "metadata": {},
   "source": [
    "Here we will first instantiate a device that will provide access to some properties such as frames"
   ]
  },
  {
   "cell_type": "code",
   "execution_count": 4,
   "metadata": {},
   "outputs": [],
   "source": [
    "device = AwsDevice(experiment_configuration[device_name][\"device_arn\"])"
   ]
  },
  {
   "cell_type": "markdown",
   "metadata": {},
   "source": [
    "With both devices, frames are predefined in the device capabilities and can be loaded with the Amazon Braket SDK. In this notebook, we will drive a single qubit, which only requires the frames:\n",
    "- `q4_rf_frame` to drive the qubit and `q4_ro_rx_frame` to measure it. (Rigetti Aspen M-2)\n",
    "- `q0_drive` to drive the qubit and `r0_measure` to measure it. (OQC Lucy) \n"
   ]
  },
  {
   "cell_type": "code",
   "execution_count": 5,
   "metadata": {},
   "outputs": [],
   "source": [
    "qubit = experiment_configuration[device_name][\"qubit\"]\n",
    "drive_frame = device.frames[experiment_configuration[device_name][\"drive_frame\"]]\n",
    "readout_frame = device.frames[experiment_configuration[device_name][\"readout_frame\"]]"
   ]
  },
  {
   "cell_type": "markdown",
   "metadata": {},
   "source": [
    "## Qubit spectropscopy"
   ]
  },
  {
   "cell_type": "markdown",
   "metadata": {},
   "source": [
    "Qubit spectroscopy is one of the first step to charaterize a qubit. While this information is already present in the frame properties, we will build a pulse sequence to estimate the transition frequency between the ground state and the first excited state.\n",
    "\n",
    "For simplicity, we will use Gaussian or Constant waveforms as envelopes of the different pulses. The Gaussian waveforms are parametrized by their amplitude $A$ and the length $d$ of their pulse window. They are positioned at the center of the window ($d$/2) and their width (1/e) will be set to be a quarter of the window length ($d$/4). The Constant waveforms have a complex amplitude $iq$ . \n",
    "\n",
    "For qubit spectroscopy, while a prior knowledge of the systems helps choosing these parameters to increase the signal-to-noise ratio, it is not necessary to tune them precisely. \n",
    "\n",
    "With Aspen, we will use a pulse length of 100ns, the Gaussian has a width of 25ns and its amplitude is 0.1. With Lucy, We will use a pulse length of 25ns and an amplitude is 0.03. The amplitude unit should be considered as arbitrary, the maximum amplitude can be retrieved from the device capabilities, please see the documentation for more details."
   ]
  },
  {
   "cell_type": "code",
   "execution_count": 6,
   "metadata": {},
   "outputs": [],
   "source": [
    "waveform = experiment_configuration[device_name][\"spectroscopy_wf\"]"
   ]
  },
  {
   "cell_type": "markdown",
   "metadata": {},
   "source": [
    "\n",
    "\n",
    "The pulse sequence below contains three instructions:\n",
    "-\tThe first sets the frequency of the microwave signal to a chosen frequency among the range of frequency to probe\n",
    "-\tThe second plays the waveform.\n",
    "-\tThe third instruction is a readout instruction. Measurements are realized via the predefined function capture_v0() that executes a projective measurement of the qubit and returns the projected eigenstate.\n",
    "\n"
   ]
  },
  {
   "cell_type": "code",
   "execution_count": 7,
   "metadata": {},
   "outputs": [],
   "source": [
    "frequency = FreeParameter(\"frequency\")\n",
    "\n",
    "pulse_sequence = ( \n",
    "    PulseSequence()\n",
    "    .set_frequency(drive_frame, frequency)\n",
    "    .play(drive_frame, waveform)\n",
    "    .capture_v0(readout_frame)\n",
    ")"
   ]
  },
  {
   "cell_type": "markdown",
   "metadata": {},
   "source": [
    "We will sweep the frequency over a range that is centered around the expected transition frequency. For that, we use the FreeParameter object that we defined in the previous cell and create a new pulse sequence by binding the FreeParameter to each tested frequency.\n",
    "\n",
    "We then run our batch of pulse sequence with `device.run_batch`, which returns a batch of quantum tasks."
   ]
  },
  {
   "cell_type": "code",
   "execution_count": 8,
   "metadata": {},
   "outputs": [],
   "source": [
    "span = 75e6\n",
    "N_steps = 25\n",
    "N_shots = 100\n",
    "frequencies = np.linspace(drive_frame.frequency-span/2, drive_frame.frequency+span/2, N_steps)\n",
    "\n",
    "qubit_spectroscopy_sequences = [pulse_sequence(frequency=frequency) for frequency in frequencies]\n",
    "batch = device.run_batch(qubit_spectroscopy_sequences, shots=N_shots)"
   ]
  },
  {
   "cell_type": "markdown",
   "metadata": {},
   "source": [
    "After executing this batch of tasks, we are ready to analyze the results. We will use a simple Gaussian fit function to extract the transition frequency."
   ]
  },
  {
   "cell_type": "code",
   "execution_count": 9,
   "metadata": {},
   "outputs": [],
   "source": [
    "def resonance_fit(x, A, A0, w, x0):\n",
    "    return A0-A*np.exp(-(x-x0)**2/w**2)"
   ]
  },
  {
   "cell_type": "markdown",
   "metadata": {},
   "source": [
    "The result format is the same as with circuits, which means that `result()` will return a task result object that includes a counter with the number of occurences for each eigenstate of the measurement basis. Since we have been using a batch, we can quickly construct the probability to measure the state $|0\\rangle$. \n",
    "\n",
    "The data are then plotted and fitted with the previously defined fit function."
   ]
  },
  {
   "cell_type": "code",
   "execution_count": 10,
   "metadata": {},
   "outputs": [
    {
     "name": "stdout",
     "output_type": "stream",
     "text": [
      "Expected resonance frequency: 4728.33 GHz\n",
      "Measured resonance frequency: 4726.55 GHz\n"
     ]
    },
    {
     "data": {
      "image/png": "[encoded data removed]",
      "text/plain": [
       "<Figure size 432x288 with 1 Axes>"
      ]
     },
     "metadata": {
      "needs_background": "light"
     },
     "output_type": "display_data"
    }
   ],
   "source": [
    "probability_of_zero = [result.measurement_counts['0']/N_shots for result in batch.results()]\n",
    "\n",
    "x, y = frequencies, probability_of_zero\n",
    "\n",
    "initial_guess=[1/2, 1, 10e6, drive_frame.frequency] # Amplitude, Offset, width, centerFrequency\n",
    "optimal_params, _ = scipy.optimize.curve_fit(resonance_fit, x, y, p0=initial_guess)\n",
    "x_fit = np.arange(x[0],x[-1], np.diff(x)[0]/10)\n",
    "y_fit = resonance_fit(x_fit, *optimal_params)\n",
    "\n",
    "plt.figure()\n",
    "plt.plot(x,y, 'o')\n",
    "plt.plot(x_fit,y_fit)\n",
    "plt.xlabel(\"Frequency (Hz)\")\n",
    "plt.ylabel(\"Population\")\n",
    "plt.vlines(drive_frame.frequency, min(y_fit), 1)\n",
    "resonance_frequency = optimal_params[3]\n",
    "print('Expected resonance frequency:', round(drive_frame.frequency*1e-6,2), 'GHz')\n",
    "print('Measured resonance frequency:', round(resonance_frequency*1e-6,2), 'GHz')"
   ]
  },
  {
   "cell_type": "markdown",
   "metadata": {},
   "source": [
    "## Calibrating $\\pi$/2 pulses via Rabi spectroscopy \n",
    "\n",
    "Applying an electromagnetic field to a qubit leads to Rabi flopping, a cyclic behavior that is used to calibrate specific pulse parameters. Here, we will determine the optimal pulse length to realize a $\\pi$/2 pulse, an elementary block used to build more complex pulse sequences, such as the Ramsey sequence. \n",
    "\n",
    "Below, we will reuse the previous pulse sequence. First, we will fix the driving frequency to the resonance frequency and replace the coarsely-chosen pulse length by a FreeParameter.\n",
    "\n",
    "We also choose to increase the amplitude of the waveform to increase the rate of the expected oscillations.\n"
   ]
  },
  {
   "cell_type": "code",
   "execution_count": 11,
   "metadata": {},
   "outputs": [],
   "source": [
    "waveform = experiment_configuration[device_name][\"rabi_wf\"]\n",
    "\n",
    "rabi_sequence = ( \n",
    "    PulseSequence()\n",
    "    .set_frequency(drive_frame, drive_frame.frequency)\n",
    "    .play(drive_frame, waveform)\n",
    "    .capture_v0(readout_frame)\n",
    ")"
   ]
  },
  {
   "cell_type": "markdown",
   "metadata": {},
   "source": [
    "As for qubit spectroscopy, we will sweep one parameter of our pulse sequence, here the length of the waveform.\n",
    "\n",
    "We construct another batch of task with lengths ranging from 12ns to 200ns with a step of 12ns so all the sequences verify the 4-sample constraint (waveforms must have a length multiple of 4ns). "
   ]
  },
  {
   "cell_type": "code",
   "execution_count": 12,
   "metadata": {},
   "outputs": [],
   "source": [
    "start_length=12e-9\n",
    "end_length=2e-7\n",
    "lengths = np.arange(start_length, end_length, 12e-9)\n",
    "N_shots = 100\n",
    "\n",
    "pulse_sequences = [rabi_sequence(length=length) for length in lengths]\n",
    "\n",
    "batch = device.run_batch(pulse_sequences, shots=N_shots)"
   ]
  },
  {
   "cell_type": "markdown",
   "metadata": {},
   "source": [
    "To increase the chances of fitting success, we estimate some initial parameters values:\n",
    "- initial signal mean is taken as the mean of the measurement data\n",
    "- initial Rabi frequency is set as the position of the maximum value of the measurement data's FFT"
   ]
  },
  {
   "cell_type": "code",
   "execution_count": 13,
   "metadata": {},
   "outputs": [],
   "source": [
    "def damped_oscillation_fit(x, A, A0, Tau, f, x0):\n",
    "    return A*np.exp(-x/Tau)*np.cos(2*np.pi*(x-x0)*f)+A0\n",
    "\n",
    "def estimate_fit_parameters(x, y):\n",
    "    signal_mean = np.mean(y)\n",
    "    idx_max=np.argmax(np.abs(fft(y-np.mean(y))))\n",
    "    oscillation_frequency_estimate = fftfreq(len(x), np.diff(x)[0])[idx_max]\n",
    "\n",
    "    return signal_mean, oscillation_frequency_estimate"
   ]
  },
  {
   "cell_type": "markdown",
   "metadata": {},
   "source": [
    "The projected state after the qubit measurement reflects the oscillatory dynamics of the qubit that oscillates between the state $|0\\rangle$ and the state $|1\\rangle$. \n",
    "From the measurement data, one can extract the Rabi frequency as the flipping rate and compute the length of $\\pi/2$ pulse."
   ]
  },
  {
   "cell_type": "code",
   "execution_count": 14,
   "metadata": {},
   "outputs": [
    {
     "name": "stdout",
     "output_type": "stream",
     "text": [
      "Rabi frequency: 13.3  MHz\n",
      "rx(pi/2) length:  18.66  ns\n",
      "Redefined rx(pi/2) length:  16.0  ns\n"
     ]
    },
    {
     "data": {
      "image/png": "[encoded data removed]",
      "text/plain": [
       "<Figure size 432x288 with 1 Axes>"
      ]
     },
     "metadata": {
      "needs_background": "light"
     },
     "output_type": "display_data"
    }
   ],
   "source": [
    "probability_of_zero = [result.measurement_counts['0']/N_shots for result in batch.results()]\n",
    "x, y = lengths, probability_of_zero\n",
    "\n",
    "signal_mean, oscillation_frequency_estimate = estimate_fit_parameters(x,y)\n",
    "\n",
    "initial_guess=[1/2, signal_mean, 8e-6, oscillation_frequency_estimate, 0]\n",
    "optimal_params, _ = scipy.optimize.curve_fit(damped_oscillation_fit, x, y, p0=initial_guess)\n",
    "x_fit = np.arange(x[0],x[-1], np.diff(x)[0]/10)\n",
    "y_fit = damped_oscillation_fit(x_fit, *optimal_params)\n",
    "\n",
    "plt.plot(x,y, 'o')\n",
    "plt.plot(x_fit,y_fit)\n",
    "plt.xlabel(\"Pulse duration (s)\")\n",
    "plt.ylabel(\"Population\")\n",
    "\n",
    "\n",
    "rabi_frequency = optimal_params[3]\n",
    "phase_offset = optimal_params[4]\n",
    "x90_duration=(np.pi/2)/(2*np.pi*rabi_frequency)+phase_offset\n",
    "plt.plot(x90_duration, damped_oscillation_fit(x90_duration, *optimal_params), 'ks')\n",
    "\n",
    "print('Rabi frequency:', round(rabi_frequency*1e-6, 2), ' MHz')\n",
    "print('rx(pi/2) length: ', round(x90_duration*1e9, 2), ' ns')\n",
    "\n",
    "# Pulse duration must be a multiple of 4ns\n",
    "x90_duration=x90_duration//4e-9*4e-9\n",
    "plt.plot(x90_duration, damped_oscillation_fit(x90_duration, *optimal_params), 'rs')\n",
    "print('Redefined rx(pi/2) length: ', round(x90_duration*1e9, 0), ' ns')"
   ]
  },
  {
   "cell_type": "code",
   "execution_count": 15,
   "metadata": {},
   "outputs": [],
   "source": [
    "experiment_configuration[\"aspen\"][\"x90_wf\"] = GaussianWaveform(x90_duration, x90_duration/4, 0.2, True)\n",
    "experiment_configuration[\"lucy\"][\"x90_wf\"] = ConstantWaveform(x90_duration, 0.07)"
   ]
  },
  {
   "cell_type": "markdown",
   "metadata": {},
   "source": [
    "# Ramsey sequence - $T^*_2$ Measurement"
   ]
  },
  {
   "cell_type": "markdown",
   "metadata": {},
   "source": [
    "In the following, we implement a Ramsey sequence that allows you to measure the coherence time of a qubit. The Ramsey sequence consists of two $\\pi$/2 pulses separated by a varying gap. Starting from the $|0\\rangle$ state, the first pulse creates an equal superposition of $|0\\rangle$ and $|1\\rangle$ which will decay back to a mixed state after a characteristic time called $T^*_2$. \n",
    "\n",
    "For better visualization, the carrier frequency is shifted away from the resonance frequency by some arbitraryily-chosen detuning which causes the frame of the driving to rotate with respect to the qubit frame. This results in oscillations at a rate equal to the detuning on top of the decoherence decay. "
   ]
  },
  {
   "cell_type": "code",
   "execution_count": 16,
   "metadata": {},
   "outputs": [],
   "source": [
    "detuning=250e3\n",
    "x90 = experiment_configuration[device_name][\"x90_wf\"]\n",
    "\n",
    "delay = FreeParameter(\"delay\")\n",
    "ramsey_spectroscopy = ( \n",
    "    PulseSequence()\n",
    "    .set_frequency(drive_frame, drive_frame.frequency - detuning)\n",
    "    .play(drive_frame, x90)\n",
    "    .delay(drive_frame, delay)\n",
    "    .play(drive_frame, x90)\n",
    "    .capture_v0(readout_frame)\n",
    ")"
   ]
  },
  {
   "cell_type": "markdown",
   "metadata": {},
   "source": [
    "Once again, we will sweep a parameter of the sequence which is the time gap between the two $\\pi$/2-pulses. "
   ]
  },
  {
   "cell_type": "code",
   "execution_count": 17,
   "metadata": {},
   "outputs": [],
   "source": [
    "start_delay=12e-9\n",
    "end_delay=40000e-9\n",
    "delays = np.arange(start_delay, end_delay, 512e-9)\n",
    "N_shots=100\n",
    "\n",
    "pulse_sequences = [ramsey_spectroscopy(delay=delay) for delay in delays]\n",
    "\n",
    "batch = device.run_batch(pulse_sequences, shots=N_shots)"
   ]
  },
  {
   "cell_type": "markdown",
   "metadata": {},
   "source": [
    "Plotting and fitting are not different from what we have seen with Rabi oscillations. We can now experimentally verify that the oscillations correspond to the frequency detuning of our pulses, and we can extract the coherence time $T^*_2$ of the qubit "
   ]
  },
  {
   "cell_type": "code",
   "execution_count": 19,
   "metadata": {},
   "outputs": [
    {
     "name": "stdout",
     "output_type": "stream",
     "text": [
      "Detuning: 255.1  kHz\n",
      "T2:  43.24  us\n"
     ]
    },
    {
     "data": {
      "image/png": "[encoded data removed]",
      "text/plain": [
       "<Figure size 432x288 with 1 Axes>"
      ]
     },
     "metadata": {
      "needs_background": "light"
     },
     "output_type": "display_data"
    }
   ],
   "source": [
    "probability_of_zero = [result.measurement_counts['0']/N_shots for result in batch.results()]\n",
    "x, y = delays, probability_of_zero\n",
    "plt.plot(x,y, 'o-')\n",
    "\n",
    "signal_mean, oscillation_frequency_estimate = estimate_fit_parameters(x,y)\n",
    "initial_guess=[0.5, signal_mean, 2e-5, oscillation_frequency_estimate, 0]\n",
    "\n",
    "optimal_params, _ = scipy.optimize.curve_fit(damped_oscillation_fit, x, y, p0=initial_guess)\n",
    "x_fit = np.arange(x[0],x[-1], np.diff(x)[0]/10)\n",
    "y_fit = damped_oscillation_fit(x_fit, *optimal_params)\n",
    "plt.plot(x_fit,y_fit)\n",
    "plt.xlabel(\"Delay (s)\")\n",
    "plt.ylabel(\"Population\")\n",
    "print('Detuning:', round(optimal_params[3]*1e-3, 2), ' kHz')\n",
    "print('T2: ', round(np.abs(optimal_params[2])*1e6, 2), ' us')"
   ]
  },
  {
   "cell_type": "code",
   "execution_count": null,
   "metadata": {},
   "outputs": [],
   "source": []
  }
 ],
 "metadata": {
  "kernelspec": {
   "display_name": "Python 3.9.14",
   "language": "python",
   "name": "python3"
  },
  "language_info": {
   "codemirror_mode": {
    "name": "ipython",
    "version": 3
   },
   "file_extension": ".py",
   "mimetype": "text/x-python",
   "name": "python",
   "nbconvert_exporter": "python",
   "pygments_lexer": "ipython3",
   "version": "3.9.15"
  },
  "vscode": {
   "interpreter": {
    "hash": "e8fe7b1d737818ec041fd05b4c8bbd1804e351a931e38c7cd860a34c69554183"
   }
  }
 },
 "nbformat": 4,
 "nbformat_minor": 2
}
