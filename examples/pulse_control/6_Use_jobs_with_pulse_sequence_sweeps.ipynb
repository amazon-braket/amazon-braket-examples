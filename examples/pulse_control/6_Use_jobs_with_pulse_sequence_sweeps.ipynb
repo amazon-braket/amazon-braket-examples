{
 "cells": [
  {
   "attachments": {},
   "cell_type": "markdown",
   "metadata": {},
   "source": [
    "# Use jobs for a smoothless experience with pulse sequence sweeps.\n",
    "One of the main reason to use pulse-level control is to characterize a quantum system at the lowest level. Extracting this experimental information will allow for building a device Hamiltonian model that could then be compared with results obtained from the real device.\n",
    "\n",
    "Often, protocols to obtain these experimental data consist in varying a control parameter and record the response of the system. You can find examples in the notebook [here](./1_Bringup_experiments.ipynb). Here we will revisit this notebook by taking advantage of Hybrid Jobs. We will encapsulate a frequency sweep in a single job instance, which will give tasks created from within the job priority access to the device.priority and group all the task results together.\n",
    "\n",
    "You can learn more about Hybrid Jobs [here](../hybrid_jobs/0_Creating_your_first_Hybrid_Job/Creating_your_first_Hybrid_Job.ipynb) and how to use them to implement hybrid classical-quantum algorithms in a production environment. \n",
    "\n",
    "You can use either Rigetti's Aspen M-3 or OQC's Lucy device to run this notebook."
   ]
  },
  {
   "cell_type": "code",
   "execution_count": 1,
   "metadata": {},
   "outputs": [],
   "source": [
    "# Use Braket SDK Cost Tracking to estimate the cost to run this example\n",
    "from braket.tracking import Tracker\n",
    "t = Tracker().start()"
   ]
  },
  {
   "attachments": {},
   "cell_type": "markdown",
   "metadata": {},
   "source": [
    "Let's first import some packages to construct pulse sequences and analyze results."
   ]
  },
  {
   "cell_type": "code",
   "execution_count": 11,
   "metadata": {},
   "outputs": [],
   "source": [
    "%matplotlib inline\n",
    "\n",
    "from braket.aws import AwsQuantumJob\n",
    "\n",
    "## Imports for function fitting\n",
    "import numpy as np\n",
    "import matplotlib.pyplot as plt\n",
    "import scipy.optimize"
   ]
  },
  {
   "attachments": {},
   "cell_type": "markdown",
   "metadata": {},
   "source": [
    "## Qubit spectropscopy"
   ]
  },
  {
   "attachments": {},
   "cell_type": "markdown",
   "metadata": {},
   "source": [
    "Qubit spectroscopy is one of the first step to charaterize a qubit. While this information is already present in the frame properties, we will build a pulse sequence to estimate the transition frequency between the ground state and the first excited state.\n",
    "\n",
    "Our code will reuse large parts of the notebook [here](1_Bringup_experiments.ipynb).\n",
    "\n",
    "The main code of the algorithm is located in a [python file](./qubit_spectroscopy/qubit_spectroscopy_sweep.py) and consists in generating a single-pulse `PulseSequence` with a varying frequency. The script is parametrized by the following parameters:\n",
    "- `N_shots` to specify the number of repetitions\n",
    "- `N_steps` to refine the resolution of the frequency sweep\n",
    "- `qubit` to choose the qubit to probe\n",
    "- `frequency_start` to set the lowest frequency of the sweep\n",
    "- `frequency_stop` to set the highest frequency of the sweep\n",
    "\n",
    "These parameters can be set with user-defined values passed through the `hyperparameters` argument."
   ]
  },
  {
   "cell_type": "code",
   "execution_count": 3,
   "metadata": {},
   "outputs": [],
   "source": [
    "hyperparameters = {\"N_shots\": 100, \"N_steps\": 25, \"qubit\": 4}"
   ]
  },
  {
   "attachments": {},
   "cell_type": "markdown",
   "metadata": {},
   "source": [
    "A job is launched via the `create` method:"
   ]
  },
  {
   "cell_type": "code",
   "execution_count": 4,
   "metadata": {},
   "outputs": [
    {
     "name": "stdout",
     "output_type": "stream",
     "text": [
      "Initializing Braket Job: arn:aws:braket:us-west-1:824069584567:job/braket-job-default-1689091850121\n",
      "........................\n",
      "2023-07-11 16:12:55,299 sagemaker-training-toolkit INFO     No GPUs detected (normal if no gpus installed)\n",
      "2023-07-11 16:12:55,313 sagemaker-training-toolkit INFO     No GPUs detected (normal if no gpus installed)\n",
      "2023-07-11 16:12:55,325 sagemaker-training-toolkit INFO     No GPUs detected (normal if no gpus installed)\n",
      "2023-07-11 16:12:55,335 sagemaker-training-toolkit INFO     Invoking user script\n",
      "Training Env:\n",
      "{\n",
      "    \"additional_framework_parameters\": {},\n",
      "    \"channel_input_dirs\": {},\n",
      "    \"current_host\": \"algo-1\",\n",
      "    \"framework_module\": null,\n",
      "    \"hosts\": [\n",
      "        \"algo-1\"\n",
      "    ],\n",
      "    \"hyperparameters\": {\n",
      "        \"N_shots\": 100,\n",
      "        \"N_steps\": 25,\n",
      "        \"qubit\": 4\n",
      "    },\n",
      "    \"input_config_dir\": \"/opt/ml/input/config\",\n",
      "    \"input_data_config\": {},\n",
      "    \"input_dir\": \"/opt/ml/input\",\n",
      "    \"is_master\": true,\n",
      "    \"job_name\": \"2555d7d8-fd3c-463b-a56b-c5a03b7f1f6a\",\n",
      "    \"log_level\": 20,\n",
      "    \"master_hostname\": \"algo-1\",\n",
      "    \"model_dir\": \"/opt/ml/model\",\n",
      "    \"module_dir\": \"/opt/ml/code\",\n",
      "    \"module_name\": \"braket_container\",\n",
      "    \"network_interface_name\": \"eth0\",\n",
      "    \"num_cpus\": 2,\n",
      "    \"num_gpus\": 0,\n",
      "    \"output_data_dir\": \"/opt/ml/output/data\",\n",
      "    \"output_dir\": \"/opt/ml/output\",\n",
      "    \"output_intermediate_dir\": \"/opt/ml/output/intermediate\",\n",
      "    \"resource_config\": {\n",
      "        \"current_host\": \"algo-1\",\n",
      "        \"current_instance_type\": \"ml.m5.large\",\n",
      "        \"current_group_name\": \"homogeneousCluster\",\n",
      "        \"hosts\": [\n",
      "            \"algo-1\"\n",
      "        ],\n",
      "        \"instance_groups\": [\n",
      "            {\n",
      "                \"instance_group_name\": \"homogeneousCluster\",\n",
      "                \"instance_type\": \"ml.m5.large\",\n",
      "                \"hosts\": [\n",
      "                    \"algo-1\"\n",
      "                ]\n",
      "            }\n",
      "        ],\n",
      "        \"network_interface_name\": \"eth0\"\n",
      "    },\n",
      "    \"user_entry_point\": \"braket_container.py\"\n",
      "}\n",
      "Environment variables:\n",
      "SM_HOSTS=[\"algo-1\"]\n",
      "SM_NETWORK_INTERFACE_NAME=eth0\n",
      "SM_HPS={\"N_shots\":100,\"N_steps\":25,\"qubit\":4}\n",
      "SM_USER_ENTRY_POINT=braket_container.py\n",
      "SM_FRAMEWORK_PARAMS={}\n",
      "SM_RESOURCE_CONFIG={\"current_group_name\":\"homogeneousCluster\",\"current_host\":\"algo-1\",\"current_instance_type\":\"ml.m5.large\",\"hosts\":[\"algo-1\"],\"instance_groups\":[{\"hosts\":[\"algo-1\"],\"instance_group_name\":\"homogeneousCluster\",\"instance_type\":\"ml.m5.large\"}],\"network_interface_name\":\"eth0\"}\n",
      "SM_INPUT_DATA_CONFIG={}\n",
      "SM_OUTPUT_DATA_DIR=/opt/ml/output/data\n",
      "SM_CHANNELS=[]\n",
      "SM_CURRENT_HOST=algo-1\n",
      "SM_MODULE_NAME=braket_container\n",
      "SM_LOG_LEVEL=20\n",
      "SM_FRAMEWORK_MODULE=\n",
      "SM_INPUT_DIR=/opt/ml/input\n",
      "SM_INPUT_CONFIG_DIR=/opt/ml/input/config\n",
      "SM_OUTPUT_DIR=/opt/ml/output\n",
      "SM_NUM_CPUS=2\n",
      "SM_NUM_GPUS=0\n",
      "SM_MODEL_DIR=/opt/ml/model\n",
      "SM_MODULE_DIR=/opt/ml/code\n",
      "SM_TRAINING_ENV={\"additional_framework_parameters\":{},\"channel_input_dirs\":{},\"current_host\":\"algo-1\",\"framework_module\":null,\"hosts\":[\"algo-1\"],\"hyperparameters\":{\"N_shots\":100,\"N_steps\":25,\"qubit\":4},\"input_config_dir\":\"/opt/ml/input/config\",\"input_data_config\":{},\"input_dir\":\"/opt/ml/input\",\"is_master\":true,\"job_name\":\"2555d7d8-fd3c-463b-a56b-c5a03b7f1f6a\",\"log_level\":20,\"master_hostname\":\"algo-1\",\"model_dir\":\"/opt/ml/model\",\"module_dir\":\"/opt/ml/code\",\"module_name\":\"braket_container\",\"network_interface_name\":\"eth0\",\"num_cpus\":2,\"num_gpus\":0,\"output_data_dir\":\"/opt/ml/output/data\",\"output_dir\":\"/opt/ml/output\",\"output_intermediate_dir\":\"/opt/ml/output/intermediate\",\"resource_config\":{\"current_group_name\":\"homogeneousCluster\",\"current_host\":\"algo-1\",\"current_instance_type\":\"ml.m5.large\",\"hosts\":[\"algo-1\"],\"instance_groups\":[{\"hosts\":[\"algo-1\"],\"instance_group_name\":\"homogeneousCluster\",\"instance_type\":\"ml.m5.large\"}],\"network_interface_name\":\"eth0\"},\"user_entry_point\":\"braket_container.py\"}\n",
      "SM_USER_ARGS=[\"--N_shots\",\"100\",\"--N_steps\",\"25\",\"--qubit\",\"4\"]\n",
      "SM_OUTPUT_INTERMEDIATE_DIR=/opt/ml/output/intermediate\n",
      "SM_HP_N_SHOTS=100\n",
      "SM_HP_N_STEPS=25\n",
      "SM_HP_QUBIT=4\n",
      "PYTHONPATH=/opt/ml/code:/usr/local/bin:/usr/local/lib/python38.zip:/usr/local/lib/python3.8:/usr/local/lib/python3.8/lib-dynload:/usr/local/lib/python3.8/site-packages\n",
      "Invoking script with the following command:\n",
      "/usr/local/bin/python3.8 braket_container.py --N_shots 100 --N_steps 25 --qubit 4\n",
      "Boto3 Version:  1.26.64\n",
      "Beginning Setup\n",
      "Checking for Additional Requirements\n",
      "Additional Requirements Check Finished\n",
      "Running Code As Subprocess\n",
      "Test job started!\n",
      "Metrics - timestamp=1689091983.3775966; braket_tasks_cost=0.335; iteration_number=0;\n",
      "Metrics - timestamp=1689091988.169094; braket_tasks_cost=0.67; iteration_number=1;\n",
      "Metrics - timestamp=1689091992.9902263; braket_tasks_cost=1.005; iteration_number=2;\n",
      "Metrics - timestamp=1689091998.3458455; braket_tasks_cost=1.34; iteration_number=3;\n",
      "Metrics - timestamp=1689092003.1376765; braket_tasks_cost=1.675; iteration_number=4;\n",
      "Metrics - timestamp=1689092007.013058; braket_tasks_cost=2.01; iteration_number=5;\n",
      "Metrics - timestamp=1689092011.790835; braket_tasks_cost=2.345; iteration_number=6;\n",
      "Metrics - timestamp=1689092016.7742002; braket_tasks_cost=2.68; iteration_number=7;\n",
      "Metrics - timestamp=1689092020.8379145; braket_tasks_cost=3.015; iteration_number=8;\n",
      "Metrics - timestamp=1689092025.6461697; braket_tasks_cost=3.35; iteration_number=9;\n",
      "Metrics - timestamp=1689092032.6232164; braket_tasks_cost=3.685; iteration_number=10;\n",
      "Metrics - timestamp=1689092038.4428742; braket_tasks_cost=4.02; iteration_number=11;\n",
      "Metrics - timestamp=1689092049.6314366; braket_tasks_cost=4.355; iteration_number=12;\n",
      "Metrics - timestamp=1689092053.4361398; braket_tasks_cost=4.69; iteration_number=13;\n",
      "Metrics - timestamp=1689092059.3897629; braket_tasks_cost=5.025; iteration_number=14;\n",
      "Metrics - timestamp=1689092064.154472; braket_tasks_cost=5.36; iteration_number=15;\n",
      "Metrics - timestamp=1689092068.0613909; braket_tasks_cost=5.695; iteration_number=16;\n",
      "Metrics - timestamp=1689092072.850296; braket_tasks_cost=6.03; iteration_number=17;\n",
      "Metrics - timestamp=1689092077.7182927; braket_tasks_cost=6.365; iteration_number=18;\n",
      "Metrics - timestamp=1689092081.989086; braket_tasks_cost=6.7; iteration_number=19;\n",
      "Metrics - timestamp=1689092086.7368386; braket_tasks_cost=7.035; iteration_number=20;\n",
      "Metrics - timestamp=1689092091.5309436; braket_tasks_cost=7.37; iteration_number=21;\n",
      "Metrics - timestamp=1689092096.5347767; braket_tasks_cost=7.705; iteration_number=22;\n",
      "Metrics - timestamp=1689092100.2276263; braket_tasks_cost=8.04; iteration_number=23;\n",
      "Metrics - timestamp=1689092104.9673903; braket_tasks_cost=8.375; iteration_number=24;\n",
      "Test job completed!\n",
      "Code Run Finished\n",
      "2023-07-11 16:15:05,273 sagemaker-training-toolkit INFO     Reporting training SUCCESS\n"
     ]
    }
   ],
   "source": [
    "job = AwsQuantumJob.create(\n",
    "    device=\"arn:aws:braket:us-west-1::device/qpu/rigetti/Aspen-M-3\",\n",
    "    source_module=\"qubit_spectroscopy/qubit_spectroscopy_sweep.py\",\n",
    "    hyperparameters=hyperparameters,\n",
    "    wait_until_complete=True,\n",
    ")"
   ]
  },
  {
   "attachments": {},
   "cell_type": "markdown",
   "metadata": {},
   "source": [
    "You can now retrieve the collection of tasks associated with your Qubit spectroscopy sweep. If you don't have access to the job object created with `AwsQuantumJob.create`, you could always recreate it from the job arn `job_arn` that you can obtain from the [Braket console](https://console.aws.amazon.com/braket/) (use the region corresponding to the device that you used):"
   ]
  },
  {
   "cell_type": "code",
   "execution_count": 5,
   "metadata": {},
   "outputs": [],
   "source": [
    "# job = AwsQuantumJob(job_arn)"
   ]
  },
  {
   "attachments": {},
   "cell_type": "markdown",
   "metadata": {},
   "source": [
    "After executing the job, we are ready to analyze the results. We will use a simple Gaussian fit function to extract the transition frequency."
   ]
  },
  {
   "cell_type": "code",
   "execution_count": 6,
   "metadata": {},
   "outputs": [],
   "source": [
    "def resonance_fit(x, A, A0, w, x0):\n",
    "    return A0-A*np.exp(-(x-x0)**2/w**2)"
   ]
  },
  {
   "attachments": {},
   "cell_type": "markdown",
   "metadata": {},
   "source": [
    "The result format is the same as with circuits, which means that `result()` will return a task result object that includes a counter with the number of occurences for each eigenstate of the measurement basis. Since we have been using a batch, we can quickly construct the probability to measure the state $|0\\rangle$. \n",
    "\n",
    "The data are then plotted and fitted with the previously defined fit function."
   ]
  },
  {
   "cell_type": "code",
   "execution_count": 7,
   "metadata": {},
   "outputs": [
    {
     "name": "stdout",
     "output_type": "stream",
     "text": [
      "populations in |0>:  [0.97, 0.98, 0.95, 0.98, 0.97, 0.99, 0.97, 0.98, 1.0, 0.86, 0.53, 0.41, 0.2, 0.34, 0.54, 0.77, 0.91, 0.98, 0.97, 0.99, 0.97, 0.99, 0.99, 0.98, 1.0]\n",
      "frequencies:  [5161931123.13734, 5165056123.13734, 5168181123.13734, 5171306123.13734, 5174431123.13734, 5177556123.13734, 5180681123.13734, 5183806123.13734, 5186931123.13734, 5190056123.13734, 5193181123.13734, 5196306123.13734, 5199431123.13734, 5202556123.13734, 5205681123.13734, 5208806123.13734, 5211931123.13734, 5215056123.13734, 5218181123.13734, 5221306123.13734, 5224431123.13734, 5227556123.13734, 5230681123.13734, 5233806123.13734, 5236931123.13734]\n"
     ]
    }
   ],
   "source": [
    "results = job.result()  # will return once job.state() = \"COMPLETED\", should be 4 minutes\n",
    "print(\"populations in |0>: \", results[\"populations in |0>\"])\n",
    "print(\"frequencies: \", results[\"frequencies\"])"
   ]
  },
  {
   "cell_type": "code",
   "execution_count": 10,
   "metadata": {},
   "outputs": [
    {
     "name": "stdout",
     "output_type": "stream",
     "text": [
      "Measured resonance frequency: 5199.8 GHz\n"
     ]
    },
    {
     "data": {
      "image/png": "[encoded data removed]",
      "text/plain": [
       "<Figure size 640x480 with 1 Axes>"
      ]
     },
     "metadata": {},
     "output_type": "display_data"
    }
   ],
   "source": [
    "x, y = results[\"frequencies\"], results[\"populations in |0>\"]\n",
    "\n",
    "initial_guess=[1/2, 1, 10e6, (x[-1]+x[0])/2] # Amplitude, Offset, width, centerFrequency\n",
    "optimal_params, _ = scipy.optimize.curve_fit(resonance_fit, x, y, p0=initial_guess)\n",
    "x_fit = np.arange(x[0],x[-1], np.diff(x)[0]/10)\n",
    "y_fit = resonance_fit(x_fit, *optimal_params)\n",
    "\n",
    "plt.figure()\n",
    "plt.plot(x,y, 'o')\n",
    "plt.plot(x_fit,y_fit)\n",
    "plt.xlabel(\"Frequency (Hz)\")\n",
    "plt.ylabel(\"Population in |0>\")\n",
    "\n",
    "resonance_frequency = optimal_params[3]\n",
    "print('Measured resonance frequency:', round(resonance_frequency*1e-6,2), 'GHz')"
   ]
  },
  {
   "attachments": {},
   "cell_type": "markdown",
   "metadata": {},
   "source": [
    "You have seen how to use jobs to run a qubit spectroscopy measurement on a single qubit. This is one of the first step to characterize a qubit systems. As one example to go further with jobs, one can now think about automatizing a more complex procedure with subsequent experiments and feedback loops for accurate calibrations."
   ]
  },
  {
   "cell_type": "code",
   "execution_count": 9,
   "metadata": {},
   "outputs": [
    {
     "name": "stdout",
     "output_type": "stream",
     "text": [
      "Task Summary\n",
      "{'arn:aws:braket:us-west-1::device/qpu/rigetti/Aspen-M-3': {'shots': 2500, 'tasks': {'COMPLETED': 25}}}\n",
      "Note: Charges shown are estimates based on your Amazon Braket simulator and quantum processing unit (QPU) task usage. Estimated charges shown may differ from your actual charges. Estimated charges do not factor in any discounts or credits, and you may experience additional charges based on your use of other services such as Amazon Elastic Compute Cloud (Amazon EC2).\n",
      "Estimated cost to run tasks in this job: 8.375 USD\n"
     ]
    }
   ],
   "source": [
    "print(\"Task Summary\")\n",
    "print(job.result()['task summary'])\n",
    "print('Note: Charges shown are estimates based on your Amazon Braket simulator and quantum processing unit (QPU) task usage. Estimated charges shown may differ from your actual charges. Estimated charges do not factor in any discounts or credits, and you may experience additional charges based on your use of other services such as Amazon Elastic Compute Cloud (Amazon EC2).')\n",
    "print(f\"Estimated cost to run tasks in this job: {job.result()['estimated cost']} USD\")"
   ]
  },
  {
   "cell_type": "code",
   "execution_count": null,
   "metadata": {},
   "outputs": [],
   "source": []
  }
 ],
 "metadata": {
  "kernelspec": {
   "display_name": "Python 3.9.14",
   "language": "python",
   "name": "python3"
  },
  "language_info": {
   "codemirror_mode": {
    "name": "ipython",
    "version": 3
   },
   "file_extension": ".py",
   "mimetype": "text/x-python",
   "name": "python",
   "nbconvert_exporter": "python",
   "pygments_lexer": "ipython3",
   "version": "3.10.12"
  },
  "vscode": {
   "interpreter": {
    "hash": "e8fe7b1d737818ec041fd05b4c8bbd1804e351a931e38c7cd860a34c69554183"
   }
  }
 },
 "nbformat": 4,
 "nbformat_minor": 2
}
