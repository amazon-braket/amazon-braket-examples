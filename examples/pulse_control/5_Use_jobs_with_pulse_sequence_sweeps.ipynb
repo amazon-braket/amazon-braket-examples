{
 "cells": [
  {
   "attachments": {},
   "cell_type": "markdown",
   "metadata": {},
   "source": [
    "# Use jobs for a smoothless experience with pulse sequence sweeps.\n",
    "One of the main reason to use pulse-level control is to characterize a quantum system at the lowest level. Extracting this experimental information will allow for building an device Hamiltonian model that could be then compared with results obtained from the real device.\n",
    "\n",
    "Often, protocols to obtain these experimental data consist in varying a control parameter and record the response of the system. This was for instance the case in the first example notebook. Here we will give a different color to this notebook by leverage jobs that will encapsulate a sweep in a single job instance, allowing to group all the task results together and benefit from the queue priority. \n",
    "\n",
    "You can use either Rigetti's Aspen M-3 or OQC's Lucy device to run this notebook."
   ]
  },
  {
   "cell_type": "code",
   "execution_count": 1,
   "metadata": {},
   "outputs": [],
   "source": [
    "# Use Braket SDK Cost Tracking to estimate the cost to run this example\n",
    "from braket.tracking import Tracker\n",
    "t = Tracker().start()"
   ]
  },
  {
   "attachments": {},
   "cell_type": "markdown",
   "metadata": {},
   "source": [
    "Let's first import some packages to construct pulse sequences and analyze results."
   ]
  },
  {
   "cell_type": "code",
   "execution_count": 2,
   "metadata": {},
   "outputs": [],
   "source": [
    "%matplotlib inline\n",
    "\n",
    "## Imports for function fitting\n",
    "import numpy as np\n",
    "import matplotlib.pyplot as plt\n",
    "import scipy.optimize\n",
    "# from scipy.fft import fft, fftfreq"
   ]
  },
  {
   "attachments": {},
   "cell_type": "markdown",
   "metadata": {},
   "source": [
    "You will be able to switch from one device to the other by using the corresponding `arn`."
   ]
  },
  {
   "attachments": {},
   "cell_type": "markdown",
   "metadata": {},
   "source": [
    "## Qubit spectropscopy"
   ]
  },
  {
   "attachments": {},
   "cell_type": "markdown",
   "metadata": {},
   "source": [
    "Qubit spectroscopy is one of the first step to charaterize a qubit. While this information is already present in the frame properties, we will build a pulse sequence to estimate the transition frequency between the ground state and the first excited state.\n",
    "\n",
    "For simplicity, we will use Gaussian or Constant waveforms as envelopes of the different pulses. The Gaussian waveforms are parametrized by their amplitude $A$ and the length $d$ of their pulse window. They are positioned at the center of the window ($d$/2) and their width (1/e) will be set to be a quarter of the window length ($d$/4). The Constant waveforms have a complex amplitude $iq$ . \n",
    "\n",
    "For qubit spectroscopy, while a prior knowledge of the systems helps choosing these parameters to increase the signal-to-noise ratio, it is not necessary to tune them precisely. \n",
    "\n",
    "With Aspen, we will use a pulse length of 100ns, the Gaussian has a width of 25ns and its amplitude is 0.1. With Lucy, We will use a pulse length of 25ns and an amplitude is 0.03. The amplitude unit should be considered as arbitrary, the maximum amplitude can be retrieved from the device capabilities, please see the documentation for more details."
   ]
  },
  {
   "cell_type": "code",
   "execution_count": 3,
   "metadata": {},
   "outputs": [],
   "source": [
    "hyperparameters = {\"N_shots\": 100, \"N_steps\": 25, \"qubit\": 4}"
   ]
  },
  {
   "cell_type": "code",
   "execution_count": 10,
   "metadata": {},
   "outputs": [
    {
     "name": "stdout",
     "output_type": "stream",
     "text": [
      "Initializing Braket Job: arn:aws:braket:us-west-1:824069584567:job/braket-job-default-1685553660914\n",
      "......................\n",
      "2023-05-31 17:22:58,792 sagemaker-training-toolkit INFO     No GPUs detected (normal if no gpus installed)\n",
      "2023-05-31 17:22:58,806 sagemaker-training-toolkit INFO     No GPUs detected (normal if no gpus installed)\n",
      "2023-05-31 17:22:58,818 sagemaker-training-toolkit INFO     No GPUs detected (normal if no gpus installed)\n",
      "2023-05-31 17:22:58,828 sagemaker-training-toolkit INFO     Invoking user script\n",
      "Training Env:\n",
      "{\n",
      "    \"additional_framework_parameters\": {},\n",
      "    \"channel_input_dirs\": {},\n",
      "    \"current_host\": \"algo-1\",\n",
      "    \"framework_module\": null,\n",
      "    \"hosts\": [\n",
      "        \"algo-1\"\n",
      "    ],\n",
      "    \"hyperparameters\": {\n",
      "        \"N_shots\": 100,\n",
      "        \"N_steps\": 25,\n",
      "        \"qubit\": 4\n",
      "    },\n",
      "    \"input_config_dir\": \"/opt/ml/input/config\",\n",
      "    \"input_data_config\": {},\n",
      "    \"input_dir\": \"/opt/ml/input\",\n",
      "    \"is_master\": true,\n",
      "    \"job_name\": \"130c0429-4689-4bfb-8201-a4ca22d71c28\",\n",
      "    \"log_level\": 20,\n",
      "    \"master_hostname\": \"algo-1\",\n",
      "    \"model_dir\": \"/opt/ml/model\",\n",
      "    \"module_dir\": \"/opt/ml/code\",\n",
      "    \"module_name\": \"braket_container\",\n",
      "    \"network_interface_name\": \"eth0\",\n",
      "    \"num_cpus\": 2,\n",
      "    \"num_gpus\": 0,\n",
      "    \"output_data_dir\": \"/opt/ml/output/data\",\n",
      "    \"output_dir\": \"/opt/ml/output\",\n",
      "    \"output_intermediate_dir\": \"/opt/ml/output/intermediate\",\n",
      "    \"resource_config\": {\n",
      "        \"current_host\": \"algo-1\",\n",
      "        \"current_instance_type\": \"ml.m5.large\",\n",
      "        \"current_group_name\": \"homogeneousCluster\",\n",
      "        \"hosts\": [\n",
      "            \"algo-1\"\n",
      "        ],\n",
      "        \"instance_groups\": [\n",
      "            {\n",
      "                \"instance_group_name\": \"homogeneousCluster\",\n",
      "                \"instance_type\": \"ml.m5.large\",\n",
      "                \"hosts\": [\n",
      "                    \"algo-1\"\n",
      "                ]\n",
      "            }\n",
      "        ],\n",
      "        \"network_interface_name\": \"eth0\"\n",
      "    },\n",
      "    \"user_entry_point\": \"braket_container.py\"\n",
      "}\n",
      "Environment variables:\n",
      "SM_HOSTS=[\"algo-1\"]\n",
      "SM_NETWORK_INTERFACE_NAME=eth0\n",
      "SM_HPS={\"N_shots\":100,\"N_steps\":25,\"qubit\":4}\n",
      "SM_USER_ENTRY_POINT=braket_container.py\n",
      "SM_FRAMEWORK_PARAMS={}\n",
      "SM_RESOURCE_CONFIG={\"current_group_name\":\"homogeneousCluster\",\"current_host\":\"algo-1\",\"current_instance_type\":\"ml.m5.large\",\"hosts\":[\"algo-1\"],\"instance_groups\":[{\"hosts\":[\"algo-1\"],\"instance_group_name\":\"homogeneousCluster\",\"instance_type\":\"ml.m5.large\"}],\"network_interface_name\":\"eth0\"}\n",
      "SM_INPUT_DATA_CONFIG={}\n",
      "SM_OUTPUT_DATA_DIR=/opt/ml/output/data\n",
      "SM_CHANNELS=[]\n",
      "SM_CURRENT_HOST=algo-1\n",
      "SM_MODULE_NAME=braket_container\n",
      "SM_LOG_LEVEL=20\n",
      "SM_FRAMEWORK_MODULE=\n",
      "SM_INPUT_DIR=/opt/ml/input\n",
      "SM_INPUT_CONFIG_DIR=/opt/ml/input/config\n",
      "SM_OUTPUT_DIR=/opt/ml/output\n",
      "SM_NUM_CPUS=2\n",
      "SM_NUM_GPUS=0\n",
      "SM_MODEL_DIR=/opt/ml/model\n",
      "SM_MODULE_DIR=/opt/ml/code\n",
      "SM_TRAINING_ENV={\"additional_framework_parameters\":{},\"channel_input_dirs\":{},\"current_host\":\"algo-1\",\"framework_module\":null,\"hosts\":[\"algo-1\"],\"hyperparameters\":{\"N_shots\":100,\"N_steps\":25,\"qubit\":4},\"input_config_dir\":\"/opt/ml/input/config\",\"input_data_config\":{},\"input_dir\":\"/opt/ml/input\",\"is_master\":true,\"job_name\":\"130c0429-4689-4bfb-8201-a4ca22d71c28\",\"log_level\":20,\"master_hostname\":\"algo-1\",\"model_dir\":\"/opt/ml/model\",\"module_dir\":\"/opt/ml/code\",\"module_name\":\"braket_container\",\"network_interface_name\":\"eth0\",\"num_cpus\":2,\"num_gpus\":0,\"output_data_dir\":\"/opt/ml/output/data\",\"output_dir\":\"/opt/ml/output\",\"output_intermediate_dir\":\"/opt/ml/output/intermediate\",\"resource_config\":{\"current_group_name\":\"homogeneousCluster\",\"current_host\":\"algo-1\",\"current_instance_type\":\"ml.m5.large\",\"hosts\":[\"algo-1\"],\"instance_groups\":[{\"hosts\":[\"algo-1\"],\"instance_group_name\":\"homogeneousCluster\",\"instance_type\":\"ml.m5.large\"}],\"network_interface_name\":\"eth0\"},\"user_entry_point\":\"braket_container.py\"}\n",
      "SM_USER_ARGS=[\"--N_shots\",\"100\",\"--N_steps\",\"25\",\"--qubit\",\"4\"]\n",
      "SM_OUTPUT_INTERMEDIATE_DIR=/opt/ml/output/intermediate\n",
      "SM_HP_N_SHOTS=100\n",
      "SM_HP_N_STEPS=25\n",
      "SM_HP_QUBIT=4\n",
      "PYTHONPATH=/opt/ml/code:/usr/local/bin:/usr/local/lib/python38.zip:/usr/local/lib/python3.8:/usr/local/lib/python3.8/lib-dynload:/usr/local/lib/python3.8/site-packages\n",
      "Invoking script with the following command:\n",
      "/usr/local/bin/python3.8 braket_container.py --N_shots 100 --N_steps 25 --qubit 4\n",
      "Boto3 Version:  1.26.64\n",
      "Beginning Setup\n",
      "Checking for Additional Requirements\n",
      "Additional Requirements Check Finished\n",
      "Running Code As Subprocess\n",
      "Test job started!\n",
      "Metrics - timestamp=1685553787.3910646; braket_tasks_cost=0.335; iteration_number=0;\n",
      "Metrics - timestamp=1685553791.1173482; braket_tasks_cost=0.67; iteration_number=1;\n",
      "Metrics - timestamp=1685553797.1026297; braket_tasks_cost=1.005; iteration_number=2;\n",
      "Metrics - timestamp=1685553800.9983444; braket_tasks_cost=1.34; iteration_number=3;\n",
      "Metrics - timestamp=1685553805.8716128; braket_tasks_cost=1.675; iteration_number=4;\n",
      "Metrics - timestamp=1685553810.7868416; braket_tasks_cost=2.01; iteration_number=5;\n",
      "Metrics - timestamp=1685553814.643078; braket_tasks_cost=2.345; iteration_number=6;\n",
      "Metrics - timestamp=1685553819.4329684; braket_tasks_cost=2.68; iteration_number=7;\n",
      "Metrics - timestamp=1685553825.3267822; braket_tasks_cost=3.015; iteration_number=8;\n",
      "Metrics - timestamp=1685553829.297396; braket_tasks_cost=3.35; iteration_number=9;\n",
      "Metrics - timestamp=1685553834.1262875; braket_tasks_cost=3.685; iteration_number=10;\n",
      "Metrics - timestamp=1685553838.9022698; braket_tasks_cost=4.02; iteration_number=11;\n",
      "Metrics - timestamp=1685553843.1859753; braket_tasks_cost=4.355; iteration_number=12;\n",
      "Metrics - timestamp=1685553848.4336076; braket_tasks_cost=4.69; iteration_number=13;\n",
      "Metrics - timestamp=1685553853.2441354; braket_tasks_cost=5.025; iteration_number=14;\n",
      "Metrics - timestamp=1685553858.126198; braket_tasks_cost=5.36; iteration_number=15;\n",
      "Metrics - timestamp=1685553861.8464673; braket_tasks_cost=5.695; iteration_number=16;\n",
      "Metrics - timestamp=1685553866.668779; braket_tasks_cost=6.03; iteration_number=17;\n",
      "Metrics - timestamp=1685553871.5752103; braket_tasks_cost=6.365; iteration_number=18;\n",
      "Metrics - timestamp=1685553875.353775; braket_tasks_cost=6.7; iteration_number=19;\n",
      "Metrics - timestamp=1685553881.2317932; braket_tasks_cost=7.035; iteration_number=20;\n",
      "Metrics - timestamp=1685553885.130614; braket_tasks_cost=7.37; iteration_number=21;\n",
      "Metrics - timestamp=1685553889.8951657; braket_tasks_cost=7.705; iteration_number=22;\n",
      "Metrics - timestamp=1685553894.8524377; braket_tasks_cost=8.04; iteration_number=23;\n",
      "Metrics - timestamp=1685553899.7723105; braket_tasks_cost=8.375; iteration_number=24;\n",
      "Test job completed!\n",
      "Code Run Finished\n",
      "2023-05-31 17:25:00,120 sagemaker-training-toolkit INFO     Reporting training SUCCESS\n"
     ]
    }
   ],
   "source": [
    "from braket.aws import AwsQuantumJob\n",
    "\n",
    "job = AwsQuantumJob.create(\n",
    "    device=\"arn:aws:braket:us-west-1::device/qpu/rigetti/Aspen-M-3\",\n",
    "    source_module=\"qubit_spectroscopy/qubit_spectroscopy_sweep.py\",\n",
    "    hyperparameters=hyperparameters,\n",
    "    wait_until_complete=True,\n",
    ")"
   ]
  },
  {
   "attachments": {},
   "cell_type": "markdown",
   "metadata": {},
   "source": [
    "You can now retrieve the collection of tasks associated with your Qubit spectroscopy sweep. If you don't have access to the job object created with `AwsQuantumJob.create`, you could always recreate it from the job arn `job_arn` that you can copy from the [Braket console](https://console.aws.amazon.com/braket/) (use the region corresponding to the device that you used):"
   ]
  },
  {
   "cell_type": "code",
   "execution_count": 11,
   "metadata": {},
   "outputs": [
    {
     "data": {
      "text/plain": [
       "'COMPLETED'"
      ]
     },
     "execution_count": 11,
     "metadata": {},
     "output_type": "execute_result"
    }
   ],
   "source": [
    "job.state()"
   ]
  },
  {
   "cell_type": "code",
   "execution_count": 13,
   "metadata": {},
   "outputs": [],
   "source": [
    "# job = AwsQuantumJob(job_arn)"
   ]
  },
  {
   "attachments": {},
   "cell_type": "markdown",
   "metadata": {},
   "source": [
    "You can now retrieve all the tasks..."
   ]
  },
  {
   "attachments": {},
   "cell_type": "markdown",
   "metadata": {},
   "source": [
    "After executing the job, we are ready to analyze the results. We will use a simple Gaussian fit function to extract the transition frequency."
   ]
  },
  {
   "cell_type": "code",
   "execution_count": 14,
   "metadata": {},
   "outputs": [],
   "source": [
    "def resonance_fit(x, A, A0, w, x0):\n",
    "    return A0-A*np.exp(-(x-x0)**2/w**2)"
   ]
  },
  {
   "attachments": {},
   "cell_type": "markdown",
   "metadata": {},
   "source": [
    "The result format is the same as with circuits, which means that `result()` will return a task result object that includes a counter with the number of occurences for each eigenstate of the measurement basis. Since we have been using a batch, we can quickly construct the probability to measure the state $|0\\rangle$. \n",
    "\n",
    "The data are then plotted and fitted with the previously defined fit function."
   ]
  },
  {
   "cell_type": "code",
   "execution_count": 15,
   "metadata": {},
   "outputs": [
    {
     "name": "stdout",
     "output_type": "stream",
     "text": [
      "populations in |0>:  [1.0, 1.0, 1.0, 1.0, 1.0, 0.99, 1.0, 0.99, 0.97, 0.79, 0.58, 0.34, 0.22, 0.18, 0.57, 0.85, 0.96, 0.98, 0.99, 0.98, 1.0, 0.98, 1.0, 1.0, 0.99]\n",
      "frequencies:  [5162128523.00516, 5165253523.00516, 5168378523.00516, 5171503523.00516, 5174628523.00516, 5177753523.00516, 5180878523.00516, 5184003523.00516, 5187128523.00516, 5190253523.00516, 5193378523.00516, 5196503523.00516, 5199628523.00516, 5202753523.00516, 5205878523.00516, 5209003523.00516, 5212128523.00516, 5215253523.00516, 5218378523.00516, 5221503523.00516, 5224628523.00516, 5227753523.00516, 5230878523.00516, 5234003523.00516, 5237128523.00516]\n"
     ]
    }
   ],
   "source": [
    "results = job.result()  # will return once job.state() = \"COMPLETED\", should be 4 minutes\n",
    "print(\"populations in |0>: \", results[\"populations in |0>\"])\n",
    "print(\"frequencies: \", results[\"frequencies\"])"
   ]
  },
  {
   "cell_type": "code",
   "execution_count": 16,
   "metadata": {},
   "outputs": [
    {
     "name": "stdout",
     "output_type": "stream",
     "text": [
      "Measured resonance frequency: 5199.9 GHz\n"
     ]
    },
    {
     "data": {
      "image/png": "[encoded data removed]",
      "text/plain": [
       "<Figure size 640x480 with 1 Axes>"
      ]
     },
     "metadata": {},
     "output_type": "display_data"
    }
   ],
   "source": [
    "x, y = results[\"frequencies\"], results[\"populations in |0>\"]\n",
    "\n",
    "initial_guess=[1/2, 1, 10e6, (x[-1]+x[0])/2] # Amplitude, Offset, width, centerFrequency\n",
    "optimal_params, _ = scipy.optimize.curve_fit(resonance_fit, x, y, p0=initial_guess)\n",
    "x_fit = np.arange(x[0],x[-1], np.diff(x)[0]/10)\n",
    "y_fit = resonance_fit(x_fit, *optimal_params)\n",
    "\n",
    "plt.figure()\n",
    "plt.plot(x,y, 'o')\n",
    "plt.plot(x_fit,y_fit)\n",
    "plt.xlabel(\"Frequency (Hz)\")\n",
    "plt.ylabel(\"Population in |0>\")\n",
    "\n",
    "resonance_frequency = optimal_params[3]\n",
    "print('Measured resonance frequency:', round(resonance_frequency*1e-6,2), 'GHz')"
   ]
  },
  {
   "cell_type": "code",
   "execution_count": 17,
   "metadata": {},
   "outputs": [
    {
     "name": "stdout",
     "output_type": "stream",
     "text": [
      "Task Summary\n",
      "{'arn:aws:braket:us-west-1::device/qpu/rigetti/Aspen-M-3': {'shots': 2500, 'tasks': {'COMPLETED': 25}}}\n",
      "Note: Charges shown are estimates based on your Amazon Braket simulator and quantum processing unit (QPU) task usage. Estimated charges shown may differ from your actual charges. Estimated charges do not factor in any discounts or credits, and you may experience additional charges based on your use of other services such as Amazon Elastic Compute Cloud (Amazon EC2).\n",
      "Estimated cost to run tasks in this job: 8.375 USD\n"
     ]
    }
   ],
   "source": [
    "print(\"Task Summary\")\n",
    "print(job.result()['task summary'])\n",
    "print('Note: Charges shown are estimates based on your Amazon Braket simulator and quantum processing unit (QPU) task usage. Estimated charges shown may differ from your actual charges. Estimated charges do not factor in any discounts or credits, and you may experience additional charges based on your use of other services such as Amazon Elastic Compute Cloud (Amazon EC2).')\n",
    "print(f\"Estimated cost to run tasks in this job: {job.result()['estimated cost']} USD\")"
   ]
  },
  {
   "cell_type": "code",
   "execution_count": null,
   "metadata": {},
   "outputs": [],
   "source": []
  }
 ],
 "metadata": {
  "kernelspec": {
   "display_name": "Python 3.9.14",
   "language": "python",
   "name": "python3"
  },
  "language_info": {
   "codemirror_mode": {
    "name": "ipython",
    "version": 3
   },
   "file_extension": ".py",
   "mimetype": "text/x-python",
   "name": "python",
   "nbconvert_exporter": "python",
   "pygments_lexer": "ipython3",
   "version": "3.10.11"
  },
  "vscode": {
   "interpreter": {
    "hash": "e8fe7b1d737818ec041fd05b4c8bbd1804e351a931e38c7cd860a34c69554183"
   }
  }
 },
 "nbformat": 4,
 "nbformat_minor": 2
}
