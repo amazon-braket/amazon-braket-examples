{
 "cells": [
  {
   "cell_type": "markdown",
   "metadata": {},
   "source": [
    "# Construct single qubit quantum gates\n",
    "\n",
    "A quantum circuit is a powerful representation of an algorithm specifically designed to be executed on a gated-based universal quantum processor. While the usual way to define a circuit is using common gates, gates however abstract the underlying details of how qubits operate. \n",
    "\n",
    "A simple example of pulse-level control is using a parametric gate like $R_X$. An $R_X(θ)$ gate rotates the quantum state of a qubit by an angle θ with respect to an X axis defined by some properties of the pulse sequence. While this is equivalent to applying a pulse of a certain duration on a specific frame used to drive the qubit, it is not the most convenient implementation of the $R_X$ gate as it requires to calibrate and carefully map between the pulse duration and the angle.\n",
    "\n",
    "In this tutorial, we will describe how a method to create any single-qubit gate with pulses, based on a decomposition to a product of $R_X(\\pi/2)$ and $R_Z$ gates."
   ]
  },
  {
   "cell_type": "markdown",
   "metadata": {},
   "source": [
    "Let's first import some packages."
   ]
  },
  {
   "cell_type": "code",
   "execution_count": 1,
   "metadata": {},
   "outputs": [],
   "source": [
    "%matplotlib inline\n",
    "\n",
    "from braket.aws import AwsDevice\n",
    "from braket.pulse import PulseSequence, GaussianWaveform, ConstantWaveform, DragGaussianWaveform\n",
    "from braket.parametric import FreeParameter\n",
    "from braket.circuits import Circuit, circuit\n",
    "\n",
    "## Imports for function fitting\n",
    "import numpy as np\n",
    "import matplotlib.pyplot as plt\n",
    "import scipy.optimize\n",
    "from scipy.fft import fft, fftfreq"
   ]
  },
  {
   "cell_type": "markdown",
   "metadata": {},
   "source": [
    "While we use Rigetti's Aspen M-2 device here, this notebooks can be easily adapted to OQC's Lucy device by changing the parameters of the $\\pi$/2 pulse. "
   ]
  },
  {
   "cell_type": "code",
   "execution_count": 2,
   "metadata": {},
   "outputs": [],
   "source": [
    "device = AwsDevice(\"arn:aws:braket:us-west-1::device/qpu/rigetti/Aspen-M-2\")"
   ]
  },
  {
   "cell_type": "markdown",
   "metadata": {},
   "source": [
    "We use qubit #4 and define a couple of frame to drive and readout the qubit"
   ]
  },
  {
   "cell_type": "code",
   "execution_count": 3,
   "metadata": {},
   "outputs": [],
   "source": [
    "qubit = 4\n",
    "drive_frame = device.frames[\"q4_rf_frame\"]\n",
    "readout_frame = device.frames[\"q4_ro_rx_frame\"]"
   ]
  },
  {
   "cell_type": "markdown",
   "metadata": {},
   "source": [
    "## Calibrating $\\pi$/2 pulses via Rabi spectroscopy \n",
    "\n",
    "As single-qubit gates are rotations around the Bloch sphere, we can get the intuition that any of them can be decomposed as a series of rotations around the X axis and the Z axis. Here, Z is defined as the axis along the measurement basis and X by the direction of the driving field with a phase equals to 0. We formalize the decomposition in more details below where we will see that it is only necessary to calibrate a single operation per qubit, namely a $\\pi$/2 pulse, to build any single-qubit gate.\n",
    "\n",
    "Let's optimize the pulse power to realize a $\\pi$/2 pulse. First we write the short sequence that will drive the qubit with a single pulse around the X axis (since the phase is set to 0). Unlike in the [tutorial](./1_Bringup_experiments.ipynb) where we presented a $\\pi/2$-pulse calibration based on a length sweep, here we will keep the pulse length fixed to 40ns and its width to 5ns and find the best pulse amplitude."
   ]
  },
  {
   "cell_type": "code",
   "execution_count": 4,
   "metadata": {},
   "outputs": [],
   "source": [
    "width = 5e-9\n",
    "length = 40e-9\n",
    "waveform = GaussianWaveform(length, width, FreeParameter(\"amplitude\"), False)\n",
    "\n",
    "rabi_sequence = ( \n",
    "    PulseSequence()\n",
    "    .play(drive_frame, waveform)\n",
    "    .capture_v0(readout_frame)\n",
    ")"
   ]
  },
  {
   "cell_type": "markdown",
   "metadata": {},
   "source": [
    "We create the sweep range and execute the batch of pulse sequences"
   ]
  },
  {
   "cell_type": "code",
   "execution_count": 5,
   "metadata": {},
   "outputs": [],
   "source": [
    "start_amp=0.01\n",
    "end_amp=0.75\n",
    "amps = np.arange(start_amp, end_amp, 0.02)\n",
    "N_shots = 1000\n",
    "\n",
    "pulse_sequences = [rabi_sequence(amplitude=amplitude) for amplitude in amps]\n",
    "\n",
    "batch = device.run_batch(pulse_sequences, shots=N_shots)"
   ]
  },
  {
   "cell_type": "markdown",
   "metadata": {},
   "source": [
    "We define a fit function that is the product of an exponential and a sine function as we expect the qubit to oscillate between the state $|0\\rangle$ and the state $|1\\rangle$. The projected state after measurement must display this oscillatory dynamics."
   ]
  },
  {
   "cell_type": "code",
   "execution_count": 6,
   "metadata": {},
   "outputs": [
    {
     "name": "stdout",
     "output_type": "stream",
     "text": [
      "rx(pi/2) amplitude:  0.16189  ns\n"
     ]
    },
    {
     "data": {
      "image/png": "[encoded data removed]",
      "text/plain": [
       "<Figure size 432x288 with 1 Axes>"
      ]
     },
     "metadata": {
      "needs_background": "light"
     },
     "output_type": "display_data"
    }
   ],
   "source": [
    "def damped_oscillation_fit(x, A, A0, Tau, f, x0):\n",
    "    return A*np.exp(-x/Tau)*np.cos(2*np.pi*(x-x0)*f)+A0\n",
    "\n",
    "population = [result.measurement_counts['0']/N_shots for result in batch.results()]\n",
    "x, y = amps, population\n",
    "\n",
    "initial_guess=[0.5, 0.5, 1, 0.4, 0]\n",
    "optimal_params, _ = scipy.optimize.curve_fit(damped_oscillation_fit, x, y, p0=initial_guess)\n",
    "x_fit = np.arange(x[0],x[-1], np.diff(x)[0]/10)\n",
    "y_fit = damped_oscillation_fit(x_fit, *optimal_params)\n",
    "\n",
    "plt.plot(x,y, 'o')\n",
    "plt.plot(x_fit,y_fit)\n",
    "plt.xlabel(\"Pulse width (s)\")\n",
    "plt.ylabel(\"Population\")\n",
    "\n",
    "frequency = optimal_params[3]\n",
    "phase_offset = optimal_params[4]\n",
    "x90_amplitude=(np.pi/2)/(2*np.pi*frequency)+phase_offset\n",
    "plt.plot(x90_amplitude, damped_oscillation_fit(x90_amplitude, *optimal_params), 'ks')\n",
    "\n",
    "print('rx(pi/2) amplitude: ', round(x90_amplitude, 5), ' ns')\n",
    "\n"
   ]
  },
  {
   "cell_type": "markdown",
   "metadata": {},
   "source": [
    "We save the $\\pi$/2 calibration to reuse it later."
   ]
  },
  {
   "cell_type": "code",
   "execution_count": 7,
   "metadata": {},
   "outputs": [],
   "source": [
    "x90 = GaussianWaveform(length, width, x90_amplitude, False)"
   ]
  },
  {
   "cell_type": "markdown",
   "metadata": {},
   "source": [
    "## Canonical decomposition of single-qubit gates\n",
    "Native gates are directly related to the Hamiltonian of the qubits and do not require a complex design. Their implementation could essentially rely on the application of a single pulse. An example of a native gate is the $R_X(π/2)$ gate, also known as the V or SX gate (equivalent up to a global phase $e^{-i\\pi/4}$) that we just calibrated. \n",
    "\n",
    "On the other hand, non-native gates cannot be directly understood from a continuous Hamiltonian and usually requires a sequence of pulses with varying parameters. The concept of native gates is rather loose and gates that could be designed with a single pulse such as the Hadamard gate are often decomposed into a series of native gates during the compilation stage. \n",
    "\n",
    "As the state of a single qubit can be represented as a vector on the Bloch sphere, any gate operated on this qubit can be expressed via the following unitary matrix:\n",
    "\n",
    "$$\n",
    "  U(θ,ϕ,λ) = \n",
    "  \\begin{pmatrix}\n",
    "    \\cos⁡(\\theta/2) & -ie^{iλ} sin⁡(θ/2)\\\\\n",
    "    -ie^{iϕ} \\sin⁡(θ/2) & e^{i(ϕ+λ)} \\cos⁡(θ/2)\n",
    "  \\end{pmatrix}\n",
    "$$"
   ]
  },
  {
   "cell_type": "markdown",
   "metadata": {},
   "source": [
    "It is then convenient to decompose any 1-qubit gate (including the $R_X(\\theta)$ gate) into a sequence of three $R_Z$ gates, which will be [absorbed](https://aip.scitation.org/doi/10.1063/1.5089550) into an instantaneous and perfect shift of the phase of the frame, and two $R_X$ gates with a fixed angle of π/2. The result is that 1-qubit gates have all the same θ-independent duration (up to a global phase):\n",
    "\n",
    "$$U(θ,ϕ,λ)= R_Z (ϕ- π/2) R_X (π/2) R_Z (π-θ) R_X (π/2) R_Z (λ- π/2)$$\n",
    "\n",
    "We implement the parametric sequence by composing a sequence with `shift_phase` and `play` instructions\n"
   ]
  },
  {
   "cell_type": "code",
   "execution_count": 8,
   "metadata": {},
   "outputs": [],
   "source": [
    "lambda_ = FreeParameter(\"lambda_\")\n",
    "theta = FreeParameter(\"theta\")\n",
    "phi = FreeParameter(\"phi\")\n",
    "\n",
    "U_sequence = (\n",
    "    PulseSequence()\n",
    "    .shift_phase(drive_frame, lambda_ - np.pi/2)\n",
    "    .play(drive_frame, x90)\n",
    "    .shift_phase(drive_frame, np.pi - theta)\n",
    "    .play(drive_frame, x90)\n",
    "    .shift_phase(drive_frame, phi - np.pi/2)\n",
    ")"
   ]
  },
  {
   "cell_type": "code",
   "execution_count": 9,
   "metadata": {},
   "outputs": [
    {
     "data": {
      "image/png": "[encoded data removed]",
      "text/plain": [
       "<Figure size 432x288 with 3 Axes>"
      ]
     },
     "metadata": {
      "needs_background": "light"
     },
     "output_type": "display_data"
    }
   ],
   "source": [
    "data = U_sequence(theta=np.pi/2, phi=0, lambda_=np.pi).to_time_trace()\n",
    "for frame_id in data.amplitudes:\n",
    "    f, ax = plt.subplots(nrows=3, sharex=True)\n",
    "    f.subplots_adjust(hspace=0)\n",
    "\n",
    "    ax[0].set_title(frame_id)\n",
    "    ax[0].plot(data.amplitudes[frame_id].times(), np.real(data.amplitudes[frame_id].values()), label=\"Real\")\n",
    "    ax[0].plot(data.amplitudes[frame_id].times(), np.imag(data.amplitudes[frame_id].values()), label=\"Imag\")\n",
    "    ax[0].set_ylabel(\"Amplitude\\n(a. u.)\")\n",
    "    ax[0].tick_params('x', labelbottom=False)\n",
    "\n",
    "    ax[1].plot(data.frequencies[frame_id].times(), np.array(data.frequencies[frame_id].values())*1e-9)\n",
    "    ax[1].set_ylabel(\"Frequency\\n(GHz)\")\n",
    "    ax[1].tick_params('x', labelbottom=False)\n",
    "\n",
    "    ax[2].plot(data.phases[frame_id].times(), data.phases[frame_id].values())\n",
    "    ax[2].set_xlabel(\"Time (s)\")\n",
    "    ax[2].set_ylabel(\"Phase\\n(rad)\")"
   ]
  },
  {
   "cell_type": "markdown",
   "metadata": {},
   "source": [
    "With this sequence, we can create the U Gate via the `pulse_gate` function. For instance, the Hadamard gate is implemented by:\n",
    "  \n",
    "$$ U(π/2,0,π)=R_Z (-π/2) R_X (π/2) R_Z (π/2) R_X (π/2) R_Z (π/2) $$\n",
    "\n",
    "In the following, we test our implementation of the U gate by probing its behavior when we sweep the angle $\\theta$ fixing $\\phi$ and $\\lambda$ to zero. We expect to achieve the $R_X$ gate that makes the qubit oscillate between $|0\\rangle$ and $|1\\rangle$ around the X axis. We initialize the state along both the X and Y axis before applying the U gate, to confirm that the $R_X$ gate was created successfully. If we initialize the qubit along the X axis which should coincide with the rotation X, we should observe a flat line as the qubit remains in the same state. "
   ]
  },
  {
   "cell_type": "code",
   "execution_count": 10,
   "metadata": {},
   "outputs": [],
   "source": [
    "@circuit.subroutine(register=True)\n",
    "def U_pulses(theta, phi, lambda_):\n",
    "    return (\n",
    "        Circuit()\n",
    "        .pulse_gate(\n",
    "            [qubit], \n",
    "            pulse_sequence=U_sequence(theta=theta, phi=phi, lambda_=lambda_)\n",
    "        )\n",
    "    )"
   ]
  },
  {
   "cell_type": "code",
   "execution_count": 11,
   "metadata": {},
   "outputs": [],
   "source": [
    "nb_shots=500\n",
    "thetas=np.linspace(0, 2*np.pi, 25)\n",
    "\n",
    "# initialization along the X axis\n",
    "b_X=device.run_batch([Circuit().rx(4, np.pi/2).rz(4, np.pi/2).U_pulses(t, 0, 0) for t in thetas], shots=nb_shots, disable_qubit_rewiring=True)\n",
    "\n",
    "# initialization along the Y axis\n",
    "b_Y=device.run_batch([Circuit().rx(4, np.pi/2).U_pulses(t, 0, 0) for t in thetas], shots=nb_shots, disable_qubit_rewiring=True)"
   ]
  },
  {
   "cell_type": "code",
   "execution_count": 12,
   "metadata": {},
   "outputs": [
    {
     "data": {
      "text/plain": [
       "<matplotlib.legend.Legend at 0x161c21940>"
      ]
     },
     "execution_count": 12,
     "metadata": {},
     "output_type": "execute_result"
    },
    {
     "data": {
      "image/png": "[encoded data removed]",
      "text/plain": [
       "<Figure size 432x288 with 1 Axes>"
      ]
     },
     "metadata": {
      "needs_background": "light"
     },
     "output_type": "display_data"
    }
   ],
   "source": [
    "population_init_X = [result.measurement_counts['0']/nb_shots for result in b_X.results()]\n",
    "plt.plot(thetas, population_init_X, label=\"Init along X\")\n",
    "\n",
    "population_init_Y = [result.measurement_counts['0']/nb_shots for result in b_Y.results()]\n",
    "plt.plot(thetas, population_init_Y, label=\"Init along Y\")\n",
    "\n",
    "plt.xlabel(\"Angle (rad)\")\n",
    "plt.ylabel(\"Population\")\n",
    "plt.legend()"
   ]
  },
  {
   "cell_type": "markdown",
   "metadata": {},
   "source": [
    "We observe that applying $U(\\theta, 0, 0)$ after initializing the qubit along the X axis does not seem to change the qubit state. On the other hand, the qubit undergoes a rotation of period $2\\pi$ if initialized on the Y axis. This indicates that we have construct an $R_X$ gate.\n",
    "\n",
    "The fidelity of the gate is noticibly low. This is mainly due to the $\\pi/2$ pulse characterization that is too simplistic. To go further, we could switch to DragGaussianWaveform that suppresses excitations in the second excited state during driving and implement a better calibration scheme that would optimize the detuning, phase and length of pulse and limit the impact of SPAM errors."
   ]
  },
  {
   "cell_type": "markdown",
   "metadata": {},
   "source": [
    "## Construct a Hadamard gate with a single pulse\n",
    "A trade-off to the previous construct is that any gate will have the same duration, i.e., the duration equivalent to a π-equivalent which is longest optimal duration for a 1-qubit gate. If you were able to use a single π/2-pulse, you would theoretically improve your gate duration and fidelity. In particular, let’s see that this decomposition is not the most performant for the Hadamard gate.\n",
    "\n",
    "The Hadamard gate is describable by a single rotation using the $U_2$  decomposition. \n",
    "\n",
    "$$ U(π/2,ϕ,λ)=U_2 (ϕ,λ)=R_Z (ϕ+π/2) R_X (π/2) R_Z (λ-π/2) $$\n",
    "\n",
    "Identifying that the Hadamard gate is given by $U_2(0, \\pi)$, we can write a sequence directly from this decomposition as the following pulse sequence:"
   ]
  },
  {
   "cell_type": "code",
   "execution_count": 13,
   "metadata": {},
   "outputs": [],
   "source": [
    "single_x90_sequence = ( \n",
    "    PulseSequence()\n",
    "    .shift_phase(drive_frame, lambda_ - np.pi/2)\n",
    "    .play(drive_frame, x90)\n",
    "    .shift_phase(drive_frame, phi + np.pi/2)\n",
    ")"
   ]
  },
  {
   "cell_type": "markdown",
   "metadata": {},
   "source": [
    "We can visualize that we have only a single pulse."
   ]
  },
  {
   "cell_type": "code",
   "execution_count": 14,
   "metadata": {},
   "outputs": [
    {
     "data": {
      "image/png": "[encoded data removed]",
      "text/plain": [
       "<Figure size 432x288 with 3 Axes>"
      ]
     },
     "metadata": {
      "needs_background": "light"
     },
     "output_type": "display_data"
    }
   ],
   "source": [
    "data = single_x90_sequence(phi=0, lambda_=np.pi).to_time_trace()\n",
    "for frame_id in data.amplitudes:\n",
    "    f, ax = plt.subplots(nrows=3, sharex=True)\n",
    "    f.subplots_adjust(hspace=0)\n",
    "\n",
    "    ax[0].set_title(frame_id)\n",
    "    ax[0].plot(data.amplitudes[frame_id].times(), np.real(data.amplitudes[frame_id].values()), label=\"Real\")\n",
    "    ax[0].plot(data.amplitudes[frame_id].times(), np.imag(data.amplitudes[frame_id].values()), label=\"Imag\")\n",
    "    ax[0].set_ylabel(\"Amplitude\\n(a. u.)\")\n",
    "    ax[0].tick_params('x', labelbottom=False)\n",
    "\n",
    "    ax[1].plot(data.frequencies[frame_id].times(), np.array(data.frequencies[frame_id].values())*1e-9)\n",
    "    ax[1].set_ylabel(\"Frequency\\n(GHz)\")\n",
    "    ax[1].tick_params('x', labelbottom=False)\n",
    "\n",
    "    ax[2].plot(data.phases[frame_id].times(), data.phases[frame_id].values())\n",
    "    ax[2].set_xlabel(\"Time (s)\")\n",
    "    ax[2].set_ylabel(\"Phase\\n(rad)\")"
   ]
  },
  {
   "cell_type": "markdown",
   "metadata": {},
   "source": [
    "You can register this gate with the subroutine decorated as follow. Executing the gate indicates that we have created an equal-weigth superposition of $|0\\rangle$ and $|1\\rangle$."
   ]
  },
  {
   "cell_type": "code",
   "execution_count": 15,
   "metadata": {},
   "outputs": [
    {
     "name": "stdout",
     "output_type": "stream",
     "text": [
      "Counter({'0': 515, '1': 485})\n"
     ]
    }
   ],
   "source": [
    "@circuit.subroutine(register=True)\n",
    "def short_h_4():\n",
    "    return (\n",
    "        Circuit()\n",
    "        .pulse_gate(\n",
    "            [qubit], \n",
    "            pulse_sequence=single_x90_sequence(phi=0, lambda_=np.pi)\n",
    "        )\n",
    "    )\n",
    "\n",
    "circ = Circuit().short_h_4()\n",
    "print(device.run(circ, shots=1000).result().measurement_counts)"
   ]
  }
 ],
 "metadata": {
  "kernelspec": {
   "display_name": "Python 3.9.14",
   "language": "python",
   "name": "python3"
  },
  "language_info": {
   "codemirror_mode": {
    "name": "ipython",
    "version": 3
   },
   "file_extension": ".py",
   "mimetype": "text/x-python",
   "name": "python",
   "nbconvert_exporter": "python",
   "pygments_lexer": "ipython3",
   "version": "3.9.15"
  },
  "orig_nbformat": 4,
  "vscode": {
   "interpreter": {
    "hash": "e8fe7b1d737818ec041fd05b4c8bbd1804e351a931e38c7cd860a34c69554183"
   }
  }
 },
 "nbformat": 4,
 "nbformat_minor": 2
}
