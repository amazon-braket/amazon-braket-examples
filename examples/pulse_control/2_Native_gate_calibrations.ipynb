{
 "cells": [
  {
   "attachments": {},
   "cell_type": "markdown",
   "metadata": {},
   "source": [
    "# Accessing the pulse implementation of native gates\n",
    "All gates are implemented with a sequence of pulses that are carefully calibrated by quantum hardware providers. In this notebook, we will show how to:\n",
    "- Retrieve the calibrations for any particular native gate of interest and\n",
    "- Submit a circuit where we will overwrite the provider's calibrations and use our modified ones.\n",
    "\n",
    "These calibrations are vended as PulseSequence objects and contain a list of low-level instructions that are executed for that gate. Obtaining accurate sequences used by the provider offers many advantages. First, it is one of the best ways to understand how quantum computers work at the most fundamental level. Second, it also allows you to improve the results of your circuits by deploying error mitigation techniques such as zero noise extrapolation, by stretching all the pulses of specific gates. \n",
    "\n",
    "Native gate calibrations are only available on a subset of devices that have pulse support on Braket.\n",
    "\n",
    "First, we will start by initializing a cost tracker and import some libraries."
   ]
  },
  {
   "cell_type": "code",
   "execution_count": 1,
   "metadata": {},
   "outputs": [],
   "source": [
    "# Use Braket SDK Cost Tracking to estimate the cost to run this example\n",
    "from braket.tracking import Tracker\n",
    "\n",
    "t = Tracker().start()"
   ]
  },
  {
   "cell_type": "code",
   "execution_count": 2,
   "metadata": {},
   "outputs": [],
   "source": [
    "%matplotlib inline\n",
    "\n",
    "from braket.aws import AwsDevice\n",
    "from braket.devices import Devices\n",
    "from braket.parametric import FreeParameter\n",
    "from braket.pulse import PulseSequence\n",
    "from braket.circuits import Circuit, GateCalibrations, QubitSet\n",
    "from braket.circuits.gates import Rx, Rz, CZ\n",
    "from braket.circuits.serialization import IRType\n",
    "\n",
    "import math\n",
    "from utils.draw_pulse_sequence import draw\n",
    "import matplotlib.pyplot as plt"
   ]
  },
  {
   "attachments": {},
   "cell_type": "markdown",
   "metadata": {},
   "source": [
    "Calibrations are associated with a device so we will need to instantiate an AWS device."
   ]
  },
  {
   "cell_type": "code",
   "execution_count": 3,
   "metadata": {},
   "outputs": [],
   "source": [
    "device = AwsDevice(Devices.Rigetti.Ankaa2)\n"
   ]
  },
  {
   "attachments": {},
   "cell_type": "markdown",
   "metadata": {},
   "source": [
    "Calibrations are accessible via the `gate_calibrations` property of the device object. The calibrations are downloaded and cached when the property is first referenced. In case the device does not support this feature, the `gate_calibrations` property returns `None`."
   ]
  },
  {
   "cell_type": "code",
   "execution_count": 4,
   "metadata": {},
   "outputs": [
    {
     "name": "stdout",
     "output_type": "stream",
     "text": [
      "The number of pulse implementations in the calibration file is 770.\n"
     ]
    }
   ],
   "source": [
    "calibrations = device.gate_calibrations\n",
    "print(\n",
    "    f\"The number of pulse implementations in the calibration file is {len(calibrations)}.\"\n",
    ")"
   ]
  },
  {
   "attachments": {},
   "cell_type": "markdown",
   "metadata": {},
   "source": [
    "To refresh the calibration cache, you can run the following method:"
   ]
  },
  {
   "cell_type": "code",
   "execution_count": 5,
   "metadata": {},
   "outputs": [],
   "source": [
    "calibrations = device.refresh_gate_calibrations()\n"
   ]
  },
  {
   "attachments": {},
   "cell_type": "markdown",
   "metadata": {},
   "source": [
    "Retrieving a gate in particular can be done by passing the `Gate` object (instantiating with a numerical value or a `FreeParameter` if necessary) and the qubit of interest to `get_pulse_sequence`. A list of parameters can be obtained via the `parameters` attribute. These parameters can be assigned by passing values when calling the pulse sequence."
   ]
  },
  {
   "cell_type": "code",
   "execution_count": 6,
   "metadata": {},
   "outputs": [
    {
     "name": "stdout",
     "output_type": "stream",
     "text": [
      "The Rz pulse sequence is parametrized by the following parameter(s):{theta}\n",
      "The Rx(pi/2) pulse sequence is parametrized by the following parameter(s):set()\n",
      "The CZ pulse sequence is parametrized by the following parameter(s):set()\n"
     ]
    }
   ],
   "source": [
    "rz_theta = Rz(FreeParameter(\"theta\"))\n",
    "rx_pi_2 = Rx(math.pi / 2)\n",
    "cz = CZ()\n",
    "\n",
    "a = 30\n",
    "b = 37\n",
    "pulse_sequence_rz_theta_q30 = calibrations.pulse_sequences[\n",
    "    (rz_theta, QubitSet([a]))\n",
    "]\n",
    "pulse_sequence_rx_pi_2_q30 = calibrations.pulse_sequences[\n",
    "    (rx_pi_2, QubitSet([a]))\n",
    "]\n",
    "pulse_sequence_cz_q30 = calibrations.pulse_sequences[\n",
    "    (cz, QubitSet([a, b]))\n",
    "]\n",
    "\n",
    "print(\n",
    "    '\\n'.join([\n",
    "        \"The Rz pulse sequence is parametrized by the following parameter(s):\" +str(pulse_sequence_rz_theta_q30.parameters),\n",
    "        \"The Rx(pi/2) pulse sequence is parametrized by the following parameter(s):\" +str(pulse_sequence_rx_pi_2_q30.parameters),\n",
    "        \"The CZ pulse sequence is parametrized by the following parameter(s):\" +str(pulse_sequence_cz_q30.parameters),\n",
    "    ])\n",
    ")"
   ]
  },
  {
   "cell_type": "markdown",
   "metadata": {},
   "source": [
    "You can inspect a calibration by printing it as a OpenPulse program via the `to_ir` function:"
   ]
  },
  {
   "cell_type": "code",
   "execution_count": 7,
   "metadata": {},
   "outputs": [
    {
     "name": "stdout",
     "output_type": "stream",
     "text": [
      "OPENQASM 3.0;\n",
      "cal {\n",
      "    shift_phase(Transmon_30_charge_tx, -0.39269908169872414);\n",
      "}\n"
     ]
    }
   ],
   "source": [
    "pulse_sequence_rz_theta_q30_theta0 = pulse_sequence_rz_theta_q30(theta=math.pi/8)\n",
    "print(pulse_sequence_rz_theta_q30_theta0.to_ir())\n"
   ]
  },
  {
   "cell_type": "code",
   "execution_count": 8,
   "metadata": {},
   "outputs": [
    {
     "name": "stdout",
     "output_type": "stream",
     "text": [
      "OPENQASM 3.0;\n",
      "cal {\n",
      "    waveform wf_drag_gaussian_232 = drag_gaussian(40.0ns, 8.49321800288ns, -8.003773076623342e-10, 0.31648884333401933, false);\n",
      "    barrier $30;\n",
      "    play(Transmon_30_charge_tx, wf_drag_gaussian_232);\n",
      "    barrier $30;\n",
      "}\n"
     ]
    }
   ],
   "source": [
    "print(pulse_sequence_rx_pi_2_q30.to_ir())"
   ]
  },
  {
   "cell_type": "code",
   "execution_count": 9,
   "metadata": {},
   "outputs": [
    {
     "name": "stdout",
     "output_type": "stream",
     "text": [
      "OPENQASM 3.0;\n",
      "cal {\n",
      "    waveform wf_erf_square_654 = erf_square(116.0ns, 92.0ns, 1.698643600576ns, 0.2664423820261004, false);\n",
      "    waveform wf_erf_square_655 = erf_square(116.0ns, 92.0ns, 1.698643600576ns, 0.04421778229355596, false);\n",
      "    barrier $144, $37, $30;\n",
      "    set_phase(Transmon_37_flux_tx_b0, 0.0);\n",
      "    set_phase(Transmon_144_flux_tx_b, 0.0);\n",
      "    play(Transmon_37_flux_tx_b0, wf_erf_square_654);\n",
      "    play(Transmon_144_flux_tx_b, wf_erf_square_655);\n",
      "    shift_phase(Transmon_37_charge_tx, 6.1705065877557885);\n",
      "    shift_phase(Transmon_30_charge_tx, 3.6591905948126557);\n",
      "    barrier $144, $37, $30;\n",
      "}\n"
     ]
    }
   ],
   "source": [
    "print(pulse_sequence_cz_q30.to_ir())"
   ]
  },
  {
   "cell_type": "markdown",
   "metadata": {},
   "source": [
    "Now that you have access to a `PulseSequence` object, you can generate the time trace of this pulse sequence via the `to_time_trace` and visualize it with a plotting library like `matplotlib`. We use a `draw` method that has been placed in a local python file. In the cell below, we draw the pulse sequence for the RX($\\pi$/2) gate applied on qubit 0."
   ]
  },
  {
   "cell_type": "code",
   "execution_count": 10,
   "metadata": {},
   "outputs": [
    {
     "data": {
      "image/png": "[encoded data removed]",
      "text/plain": [
       "<Figure size 640x480 with 3 Axes>"
      ]
     },
     "metadata": {},
     "output_type": "display_data"
    }
   ],
   "source": [
    "pulse_sequence_rx_pi_2_q30 = calibrations.pulse_sequences[(rx_pi_2, QubitSet(a))]\n",
    "draw(pulse_sequence_rx_pi_2_q30)\n"
   ]
  },
  {
   "attachments": {},
   "cell_type": "markdown",
   "metadata": {},
   "source": [
    "The fidelity of each gate is reported by Rigetti. It can be retrieved through the Braket console or programmatically through the device properties:"
   ]
  },
  {
   "cell_type": "code",
   "execution_count": 11,
   "metadata": {},
   "outputs": [
    {
     "name": "stdout",
     "output_type": "stream",
     "text": [
      "Fidelity of the CZ gate between qubits 30 and 37:  0.917904745693834\n"
     ]
    }
   ],
   "source": [
    "print(\n",
    "    f\"Fidelity of the CZ gate between qubits {a} and {b}: \",\n",
    "    device.properties.provider.specs[\"2Q\"][f\"{a}-{b}\"][\"fCZ\"],\n",
    ")"
   ]
  },
  {
   "attachments": {},
   "cell_type": "markdown",
   "metadata": {},
   "source": [
    "# Attaching calibrations to redefine gates\n",
    "\n",
    "When submitting a circuit to Rigetti's Ankaa-2 via Braket, all the gates in your circuit will be compiled into native gates, which are ultimately replaced by these sequences of pulses. Let's consider a short example that creates the state $\\frac{|00\\rangle + |11\\rangle}{\\sqrt{2}}$. "
   ]
  },
  {
   "cell_type": "code",
   "execution_count": 12,
   "metadata": {},
   "outputs": [
    {
     "name": "stdout",
     "output_type": "stream",
     "text": [
      "T   : │     0      │  1  │      2      │\n",
      "       ┌──────────┐                     \n",
      "q30 : ─┤ Rx(1.57) ├───●─────────────────\n",
      "       └──────────┘   │                 \n",
      "       ┌──────────┐ ┌─┴─┐ ┌───────────┐ \n",
      "q37 : ─┤ Rx(1.57) ├─┤ Z ├─┤ Rx(-1.57) ├─\n",
      "       └──────────┘ └───┘ └───────────┘ \n",
      "T   : │     0      │  1  │      2      │\n"
     ]
    }
   ],
   "source": [
    "bell_circuit = (\n",
    "    Circuit().rx(a, math.pi / 2).rx(b, math.pi / 2).cz(a, b).rx(b, -math.pi / 2)\n",
    ")\n",
    "print(bell_circuit)"
   ]
  },
  {
   "cell_type": "markdown",
   "metadata": {},
   "source": [
    "This circuit is executed via the `run` method.  You are not required to specify any calibration to use the provider's calibrations: pulse scheduling will be done on the hardware provider side with default calibrations."
   ]
  },
  {
   "cell_type": "code",
   "execution_count": 13,
   "metadata": {},
   "outputs": [
    {
     "data": {
      "text/plain": [
       "Text(0, 0.5, 'Population')"
      ]
     },
     "execution_count": 13,
     "metadata": {},
     "output_type": "execute_result"
    },
    {
     "data": {
      "image/png": "[encoded data removed]",
      "text/plain": [
       "<Figure size 640x480 with 1 Axes>"
      ]
     },
     "metadata": {},
     "output_type": "display_data"
    }
   ],
   "source": [
    "nb_shots = 50\n",
    "task = device.run(bell_circuit, shots=nb_shots, disable_qubit_rewiring=True)\n",
    "\n",
    "counts = task.result().measurement_counts\n",
    "plt.bar(sorted(counts), [counts[k] / nb_shots for k in sorted(counts)])\n",
    "plt.xlabel(\"State\")\n",
    "plt.ylabel(\"Population\")"
   ]
  },
  {
   "attachments": {},
   "cell_type": "markdown",
   "metadata": {},
   "source": [
    "You can attach custom-made `PulseSequence`s as calibrations to modify this default behavior. Here we chose to submit one calibration that we downloaded in one of the first cell of this notebook. You can execute again the same circuit and plot the result histogram."
   ]
  },
  {
   "cell_type": "code",
   "execution_count": 14,
   "metadata": {},
   "outputs": [
    {
     "data": {
      "text/plain": [
       "Text(0, 0.5, 'Population')"
      ]
     },
     "execution_count": 14,
     "metadata": {},
     "output_type": "execute_result"
    },
    {
     "data": {
      "image/png": "[encoded data removed]",
      "text/plain": [
       "<Figure size 640x480 with 1 Axes>"
      ]
     },
     "metadata": {},
     "output_type": "display_data"
    }
   ],
   "source": [
    "custom_calibration = GateCalibrations(\n",
    "    {(Rx(math.pi / 2), QubitSet(a)): pulse_sequence_rx_pi_2_q30}\n",
    ")\n",
    "task = device.run(\n",
    "    bell_circuit,\n",
    "    gate_definitions=custom_calibration.pulse_sequences,\n",
    "    shots=nb_shots,\n",
    "    disable_qubit_rewiring=True,\n",
    ")\n",
    "\n",
    "counts = task.result().measurement_counts\n",
    "plt.bar(sorted(counts), [counts[k] / nb_shots for k in sorted(counts)])\n",
    "plt.xlabel(\"State\")\n",
    "plt.ylabel(\"Population\")"
   ]
  },
  {
   "cell_type": "markdown",
   "metadata": {},
   "source": [
    "You can inspect the OpenPulse program submitted by the previous cell with the `to_ir` function call on the `Circuit` object using the custom calibration set. You can notice that a calibration definition block is now added to the program and provide the gate definition that will be used when the RX($\\pi$/2) gate is applied to qubit 0."
   ]
  },
  {
   "cell_type": "code",
   "execution_count": 15,
   "metadata": {},
   "outputs": [
    {
     "name": "stdout",
     "output_type": "stream",
     "text": [
      "OPENQASM 3.0;\n",
      "bit[2] b;\n",
      "qubit[38] q;\n",
      "cal {\n",
      "    waveform wf_drag_gaussian_232 = drag_gaussian(40.0ns, 8.49321800288ns, -8.003773076623342e-10, 0.31648884333401933, false);\n",
      "}\n",
      "defcal rx(1.5707963267948966) $30 {\n",
      "    barrier $30;\n",
      "    play(Transmon_30_charge_tx, wf_drag_gaussian_232);\n",
      "    barrier $30;\n",
      "}\n",
      "rx(1.5707963267948966) q[30];\n",
      "rx(1.5707963267948966) q[37];\n",
      "cz q[30], q[37];\n",
      "rx(-1.5707963267948966) q[37];\n",
      "b[0] = measure q[30];\n",
      "b[1] = measure q[37];\n"
     ]
    }
   ],
   "source": [
    "print(\n",
    "    bell_circuit.to_ir(\n",
    "        IRType.OPENQASM, gate_definitions=custom_calibration.pulse_sequences\n",
    "    ).source\n",
    ")"
   ]
  },
  {
   "cell_type": "markdown",
   "metadata": {},
   "source": [
    "## Warning: supplying input parameter values when submitting parametric pulse programs is currently not possible.\n",
    "This limitation includes executing circuits with:\n",
    "- custom gate definitions or\n",
    "- circuits containing `pulse_gate`s \n",
    "by calling the `device.run` function with an `inputs` argument.\n",
    "\n",
    "For now, you must assign values to each parameter of your circuit before submitting it to Braket as demonstrated in the next cell:"
   ]
  },
  {
   "cell_type": "code",
   "execution_count": 16,
   "metadata": {},
   "outputs": [
    {
     "data": {
      "text/plain": [
       "Text(0, 0.5, 'Population')"
      ]
     },
     "execution_count": 16,
     "metadata": {},
     "output_type": "execute_result"
    },
    {
     "data": {
      "image/png": "[encoded data removed]",
      "text/plain": [
       "<Figure size 640x480 with 1 Axes>"
      ]
     },
     "metadata": {},
     "output_type": "display_data"
    }
   ],
   "source": [
    "lambda_ = FreeParameter(\"lambda_\")\n",
    "theta = FreeParameter(\"theta\")\n",
    "phi = FreeParameter(\"phi\")\n",
    "\n",
    "drive_frame = device.frames[\"Transmon_30_charge_tx\"]\n",
    "x90 = pulse_sequence_rx_pi_2_q30._waveforms[\"wf_drag_gaussian_232\"]\n",
    "\n",
    "U_sequence = (\n",
    "    PulseSequence()\n",
    "    .shift_phase(drive_frame, math.pi / 2 - lambda_)\n",
    "    .play(drive_frame, x90)\n",
    "    .shift_phase(drive_frame, theta - math.pi)\n",
    "    .play(drive_frame, x90)\n",
    "    .shift_phase(drive_frame, math.pi / 2 - phi)\n",
    ")\n",
    "\n",
    "parametric_circuit = Circuit().pulse_gate(0, U_sequence)\n",
    "task = device.run(\n",
    "    parametric_circuit(theta=math.pi / 2, phi=0, lambda_=0), shots=nb_shots\n",
    ")\n",
    "\n",
    "counts = task.result().measurement_counts\n",
    "plt.bar(sorted(counts), [counts[k] / nb_shots for k in sorted(counts)])\n",
    "plt.xlabel(\"State\")\n",
    "plt.ylabel(\"Population\")"
   ]
  },
  {
   "cell_type": "code",
   "execution_count": 17,
   "metadata": {},
   "outputs": [
    {
     "name": "stdout",
     "output_type": "stream",
     "text": [
      "Quantum Task Summary\n",
      "{<_Rigetti.Ankaa2: 'arn:aws:braket:us-west-1::device/qpu/rigetti/Ankaa-2'>: {'shots': 150, 'tasks': {'COMPLETED': 3}}}\n",
      "Note: Charges shown are estimates based on your Amazon Braket simulator and quantum processing unit (QPU) task usage. Estimated charges shown may differ from your actual charges. Estimated charges do not factor in any discounts or credits, and you may experience additional charges based on your use of other services such as Amazon Elastic Compute Cloud (Amazon EC2).\n",
      "Estimated cost to run this example: 1.035 USD\n"
     ]
    }
   ],
   "source": [
    "print(\"Quantum Task Summary\")\n",
    "print(t.quantum_tasks_statistics())\n",
    "print(\n",
    "    \"Note: Charges shown are estimates based on your Amazon Braket simulator and quantum processing unit (QPU) task usage. Estimated charges shown may differ from your actual charges. Estimated charges do not factor in any discounts or credits, and you may experience additional charges based on your use of other services such as Amazon Elastic Compute Cloud (Amazon EC2).\"\n",
    ")\n",
    "print(\n",
    "    f\"Estimated cost to run this example: {t.qpu_tasks_cost() + t.simulator_tasks_cost():.3f} USD\"\n",
    ")"
   ]
  },
  {
   "cell_type": "code",
   "execution_count": null,
   "metadata": {},
   "outputs": [],
   "source": []
  }
 ],
 "metadata": {
  "kernelspec": {
   "display_name": "Python 3",
   "language": "python",
   "name": "python3"
  },
  "language_info": {
   "codemirror_mode": {
    "name": "ipython",
    "version": 3
   },
   "file_extension": ".py",
   "mimetype": "text/x-python",
   "name": "python",
   "nbconvert_exporter": "python",
   "pygments_lexer": "ipython3",
   "version": "3.10.10"
  }
 },
 "nbformat": 4,
 "nbformat_minor": 2
}
