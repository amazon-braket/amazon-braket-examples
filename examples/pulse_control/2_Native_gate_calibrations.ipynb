{
 "cells": [
  {
   "attachments": {},
   "cell_type": "markdown",
   "metadata": {},
   "source": [
    "# Accessing the pulse implementation of native gates\n",
    "All gates are implemented with a sequence of pulses that is carefully calibrated by quantum hardware providers. In this notebook, we will show how to:\n",
    "- retrieve the calibrations for any particular native gate of interest, \n",
    "- modify it \n",
    "- submit a circuit where we will overwrite the provider's calibrations and use our modified ones.\n",
    "\n",
    "These calibrations will be vended as `PulseSequence` objects and will contain a list of low-level instructions that are played in place of the gate that you inserted. Obtaining the accurate sequence that used by the provider offers many opportunities. First, it is one of the best way to understand how quantum computers works at the most fundamental layer. It also allows you to improve the results of your circuits by deploying error mitigation techniques such as zero noise extrapolation by stretching all the pulse of specific gates.\n",
    "\n",
    "Native gate calibrations are available with Rigetti's Aspen M-3.\n",
    "\n",
    "First, we will start by initializing a cost tracker and import some libraries."
   ]
  },
  {
   "cell_type": "code",
   "execution_count": 2,
   "metadata": {},
   "outputs": [],
   "source": [
    "# Use Braket SDK Cost Tracking to estimate the cost to run this example\n",
    "from braket.tracking import Tracker\n",
    "t = Tracker().start()"
   ]
  },
  {
   "cell_type": "code",
   "execution_count": 3,
   "metadata": {},
   "outputs": [],
   "source": [
    "%matplotlib inline\n",
    "\n",
    "from braket.aws import AwsDevice\n",
    "from braket.native_gates import NativeGateCalibration\n",
    "from braket.parametric import FreeParameter\n",
    "from braket.circuits import Circuit, QubitSet\n",
    "from braket.circuits.gates import Rx, XY\n",
    "from braket.circuits.serialization import IRType\n",
    "\n",
    "import math\n",
    "from utils.draw_pulse_sequence import draw\n",
    "import matplotlib.pyplot as plt"
   ]
  },
  {
   "attachments": {},
   "cell_type": "markdown",
   "metadata": {},
   "source": [
    "Calibrations are associated with a device so we will need to instantiate an AWS device. By default, the device properties are not automatically populated to limit the amount of data downloaded."
   ]
  },
  {
   "cell_type": "code",
   "execution_count": 4,
   "metadata": {},
   "outputs": [
    {
     "name": "stdout",
     "output_type": "stream",
     "text": [
      "True\n"
     ]
    }
   ],
   "source": [
    "device = AwsDevice(\"arn:aws:braket:us-west-1::device/qpu/rigetti/Aspen-M-3\")\n",
    "\n",
    "# Test if the calibrations have been downloaded\n",
    "print(device._native_gate_calibration is None)"
   ]
  },
  {
   "attachments": {},
   "cell_type": "markdown",
   "metadata": {},
   "source": [
    "Calibrations are accessible via the `native_gate_calibration` field of the device object. When accessed for the first time, the latest calibrations for all the gates will be downloaded. This takes between XX and YY seconds depending on the performance of your internet connection. The calibrations will be then cached as a dictionnary that is indexed by a tuple formed from a gate object and the qubit number."
   ]
  },
  {
   "cell_type": "code",
   "execution_count": 5,
   "metadata": {},
   "outputs": [
    {
     "name": "stdout",
     "output_type": "stream",
     "text": [
      "We have downloaded 925 calibrations.\n"
     ]
    }
   ],
   "source": [
    "calibrations = device.native_gate_calibration\n",
    "print(f\"We have downloaded {len(calibrations)} calibrations.\")"
   ]
  },
  {
   "attachments": {},
   "cell_type": "markdown",
   "metadata": {},
   "source": [
    "To refresh the calibration cache, you can run the following method"
   ]
  },
  {
   "cell_type": "code",
   "execution_count": 6,
   "metadata": {},
   "outputs": [],
   "source": [
    "calibrations = device.refresh_native_gate_calibrations()"
   ]
  },
  {
   "attachments": {},
   "cell_type": "markdown",
   "metadata": {},
   "source": [
    "Each calibration is represented by a `PulseSequence` object that contains the OpenPulse implementation for the associated native gate. Retrieving a gate in particular can be done by passing the `Gate` object (instantiating with a numerical value or a `FreeParameter` if necessary) and the qubit of interest. For instance, you can inspect the pulse implementation of the XY($\\theta$) with the code in next cell."
   ]
  },
  {
   "cell_type": "code",
   "execution_count": 15,
   "metadata": {},
   "outputs": [
    {
     "name": "stdout",
     "output_type": "stream",
     "text": [
      "OPENQASM 3.0;\n",
      "cal {\n",
      "    waveform q10_q113_xy_sqrtiSWAP = {0.0, 0.0, 0.0, 0.0, 0.0, 0.0, 0.0, 0.0, 0.00013775811040716988 + 0.00014459921365052392im, 0.00010275328928209834 - 0.0008149303510567723im, -0.002439565304542038 + 0.0015253036365106035im, 0.00814871390708478 + 0.002771412904571897im, -0.0076991332840528484 - 0.02068232452754173im, -0.02464356986081485 + 0.04203693608032065im, 0.0921282632070577 - 0.01429701416754787im, -0.1158649146774225 - 0.10424233701286335im, -0.011145631864900444 + 0.22987545204620854im, 0.24495674678497484 - 0.18076713143121315im, -0.3555713727144493 - 0.09111545305461854im, 0.1728180296320439 + 0.3735212091407141im, 0.19189631677406707 - 0.39397262007021705im, -0.4396927533403747 + 0.10338574772850445im, 0.36256598221859476 + 0.27887868745243716im, -0.013107518090139365 - 0.4592826054654503im, -0.34809661320589036 + 0.30085333244253826im, 0.4533100454273027 + 0.0796228993776278im, -0.2248291124787511 - 0.4016379006520114im, -0.16913947346964475 + 0.4280871910616761im, 0.43864213246082806 - 0.13950179009651345im, -0.3853475597699578 - 0.2517439953564788im, 0.048475391335434805 + 0.4577312852515325im, 0.3240698561418623 - 0.3268738632903913im, -0.4581319177695265 - 0.04453021634236639im, 0.2550544480963458 + 0.38316448525198965im, 0.13571773076269325 - 0.43982779790399484im, -0.4266151566184833 + 0.17282159123168847im, 0.4035662531674538 + 0.22136411984973772im, -0.08353272118544754 - 0.4526478529097655im, -0.29797258643868574 + 0.35082778108853696im, 0.46019970318001946 + 0.0091666485417751im, -0.28376560425654307 - 0.36241533644892215im, -0.10149175951765181 + 0.4489623781593259im, 0.4120612814251511 - 0.20511775789221395im, -0.4193946788163865 - 0.18967313366148214im, 0.11809530050208643 + 0.4448834614275837im, 0.2701104746568278 - 0.3727038042911954im, -0.45954180237700276 + 0.026251211792262363im, 0.310796063996556 + 0.3395196619589433im, 0.06666466948188142 - 0.45543782901219126im, -0.3950668358803713 + 0.23619904622995036im, 0.43273909962231916 + 0.15685874508783682im, -0.15195842101965823 - 0.4344840992875099im, -0.24064854351367956 + 0.3923723649254763im, 0.4561621120036296 - 0.06151359057033296im, -0.33598573040478563 - 0.314613069049633im, -0.03144273571008651 + 0.4592157974455278im, 0.3757324752551115 - 0.2658813669498738im, -0.4435204788029958 - 0.1231153082879128im, 0.1849215171143875 + 0.4215113601797463im, 0.20976129112126446 - 0.40971696938204377im, -0.4500806494031805 + 0.09641163459498955im, 0.3591854092817959 + 0.287843075323231im, -0.003965428149316337 - 0.46027390718142935im, -0.3541727137477081 + 0.29398891660919885im, 0.4516749600448954 + 0.08864268001876222im, -0.21678935385726134 - 0.4060420794777526im, -0.17763165753199078 + 0.42463488845701786im, 0.4413334340659192 - 0.13073864856288428im, -0.3802576927929245 - 0.2593682349947046im, 0.039350105438146044 + 0.45860589121213063im, 0.33051524623531015 - 0.32035521887190244im, -0.45715424571321045 - 0.053645035917028704im, 0.24737318335467354 + 0.38816787914980444im, 0.1444499411844756 - 0.43703776570680286im, -0.4299722730848383 + 0.1642913188254344im, 0.3990777608483061 + 0.22935719263848298im, -0.07450169672557487 - 0.45422149552275126im, -0.30489947987668903 + 0.3448233051978783im, 0.45991865274373545 + 0.018329373053250456im, -0.27646707214515986 - 0.367961630350348im, -0.11036476506547543 + 0.44665825683539545im, 0.41532199914978857 - 0.1965196064921736im, -0.4129367889384573 - 0.19675015150826297im, 0.10716988446236374 + 0.43878576325781704im, 0.2641753870950331 - 0.34964265559229757im, -0.41127915751948524 + 0.01528462082962867im, 0.24240382349010847 + 0.27563275066066123im, 0.05008189622105043 - 0.30028714137014184im, -0.19984618293525602 + 0.11414224340411744im, 0.14544019673509423 + 0.05602046458899344im, -0.02902017926407523 - 0.08859938313067907im, -0.026298013040731684 + 0.04102223836671193im, 0.021925310568304063 - 0.0025131569134399455im, -0.006164281987466052 - 0.006006987215413835im, -0.0002536656432983982 + 0.002865952511834027im, 0.000679805208795076 - 0.0004610147433942735im, 0.0, 0.0, 0.0, 0.0, 0.0, 0.0, 0.0, 0.0};\n",
      "    barrier;\n",
      "    shift_phase(q10_q113_xy_frame, 1037.4837642249815);\n",
      "    play(q10_q113_xy_frame, q10_q113_xy_sqrtiSWAP);\n",
      "    shift_phase(q10_q113_xy_frame, -1037.4837642249815);\n",
      "    shift_phase(q10_q113_xy_frame, 1040.84155000822 - 0.5*theta);\n",
      "    play(q10_q113_xy_frame, q10_q113_xy_sqrtiSWAP);\n",
      "    shift_phase(q10_q113_xy_frame, 0.5*theta - 1040.84155000822);\n",
      "    delay[208.0ns] q10_rf_frame;\n",
      "    shift_phase(q10_rf_frame, 5.409994516638508);\n",
      "    delay[208.0ns] q113_rf_frame;\n",
      "    shift_phase(q113_rf_frame, 5.7487887607384875);\n",
      "    shift_phase(q113_rf_frame, 0.5*theta);\n",
      "    shift_phase(q10_rf_frame, -0.5*theta);\n",
      "    barrier;\n",
      "    shift_phase(q10_q11_xy_frame, 2.704997258319254);\n",
      "    shift_phase(q10_q17_xy_frame, 2.704997258319254);\n",
      "    shift_phase(q10_q113_xy_frame, 2.704997258319254);\n",
      "    shift_phase(q112_q113_xy_frame, -2.8743943803692438);\n",
      "    shift_phase(q113_q114_xy_frame, -2.8743943803692438);\n",
      "    shift_phase(q10_q113_xy_frame, -2.8743943803692438);\n",
      "    shift_phase(q112_q113_xy_frame, -0.25*theta);\n",
      "    shift_phase(q113_q114_xy_frame, -0.25*theta);\n",
      "    shift_phase(q10_q113_xy_frame, -0.25*theta);\n",
      "    shift_phase(q10_q11_xy_frame, -0.25*theta);\n",
      "    shift_phase(q10_q17_xy_frame, -0.25*theta);\n",
      "    shift_phase(q10_q113_xy_frame, -0.25*theta);\n",
      "}\n"
     ]
    }
   ],
   "source": [
    "xy_theta = XY(FreeParameter(\"theta\"))\n",
    "rx_pi_2 = Rx(math.pi/2)\n",
    "\n",
    "a=10\n",
    "b=113\n",
    "pulse_sequence_xy_theta_q10_q113 = calibrations.get_pulse_sequence((xy_theta, QubitSet([10, 113])))\n",
    "print(pulse_sequence_xy_theta_q10_q113.to_ir())"
   ]
  },
  {
   "cell_type": "markdown",
   "metadata": {},
   "source": [
    "As you have access to a `PulseSequence` object, you can generate the time trace of this pulse sequence via the `.to_time_trace()` and visualize it with a plotting library like `matplotlib`. We use here a `draw` method that has been placed in a local python file. In the cell below, we draw the pulse sequence for the RX($\\pi$/2) gate applied on a qubit 0."
   ]
  },
  {
   "cell_type": "code",
   "execution_count": 16,
   "metadata": {},
   "outputs": [
    {
     "data": {
      "image/png": "[encoded data removed]",
      "text/plain": [
       "<Figure size 640x480 with 3 Axes>"
      ]
     },
     "metadata": {},
     "output_type": "display_data"
    }
   ],
   "source": [
    "pulse_sequence_rx_pi_2_q0 = calibrations.get_pulse_sequence((rx_pi_2, QubitSet(0)))\n",
    "draw(pulse_sequence_rx_pi_2_q0)"
   ]
  },
  {
   "attachments": {},
   "cell_type": "markdown",
   "metadata": {},
   "source": [
    "The fidelity of each gate is reported by Rigetti. It is consultable on the Braket console and programmatically through the device properties:"
   ]
  },
  {
   "cell_type": "code",
   "execution_count": 9,
   "metadata": {},
   "outputs": [
    {
     "name": "stdout",
     "output_type": "stream",
     "text": [
      "fidelity of the XY gate between qubits 10 and 113:  0.838303563075405\n",
      "fidelity of the XY gate between qubits 10 and 113:  0.838303563075405\n"
     ]
    }
   ],
   "source": [
    "# method 1\n",
    "print(f\"fidelity of the XY gate between qubits {a} and {b}: \", device.properties.provider.specs[\"2Q\"][f\"{a}-{b}\"][\"fXY\"])\n",
    "\n",
    "# method 2\n",
    "print(f\"fidelity of the XY gate between qubits {a} and {b}: \", calibrations.get_fidelity((xy_theta, QubitSet([10, 113]))))"
   ]
  },
  {
   "attachments": {},
   "cell_type": "markdown",
   "metadata": {},
   "source": [
    "# Attaching calibrations to redefine gates\n",
    "\n",
    "When submitting a circuit to Rigetti's Aspen M-3 via Braket, all the gates of your circuit will be compiled into native gates, which are ultimately replaced by these sequences of pulses. You can now attach custom-made `PulseSequence`s as calibrations to modify the default behavior."
   ]
  },
  {
   "cell_type": "code",
   "execution_count": 10,
   "metadata": {},
   "outputs": [
    {
     "name": "stdout",
     "output_type": "stream",
     "text": [
      "T  : |      0      |   1    |2|    3    |     4     |\n",
      "                                                     \n",
      "q0 : -StartVerbatim-Rx(1.57)-C-----------EndVerbatim-\n",
      "      |                      |           |           \n",
      "q1 : -*************-Rx(1.57)-Z-Rx(-1.57)-***********-\n",
      "\n",
      "T  : |      0      |   1    |2|    3    |     4     |\n"
     ]
    }
   ],
   "source": [
    "bell_circuit = Circuit().add_verbatim_box(\n",
    "    Circuit()\n",
    "    .rx(0,math.pi/2)\n",
    "    .rx(1,math.pi/2)\n",
    "    .cz(0,1)\n",
    "    .rx(1,-math.pi/2)\n",
    ")\n",
    "print(bell_circuit)"
   ]
  },
  {
   "cell_type": "code",
   "execution_count": 11,
   "metadata": {},
   "outputs": [
    {
     "data": {
      "text/plain": [
       "Text(0, 0.5, 'Population')"
      ]
     },
     "execution_count": 11,
     "metadata": {},
     "output_type": "execute_result"
    },
    {
     "data": {
      "image/png": "[encoded data removed]",
      "text/plain": [
       "<Figure size 640x480 with 1 Axes>"
      ]
     },
     "metadata": {},
     "output_type": "display_data"
    }
   ],
   "source": [
    "nb_shots = 50\n",
    "task=device.run(bell_circuit, shots=nb_shots)\n",
    "\n",
    "counts = task.result().measurement_counts\n",
    "plt.bar(sorted(counts), [counts[k]/nb_shots for k in sorted(counts)])\n",
    "plt.xlabel(\"State\")\n",
    "plt.ylabel(\"Population\")"
   ]
  },
  {
   "attachments": {},
   "cell_type": "markdown",
   "metadata": {},
   "source": [
    "Attaching the calibrations that we have downloaded in one of the first cell of this notebook, we can submit again the same circuit and see that we do not have significant changes compared to the first circuit execution"
   ]
  },
  {
   "cell_type": "code",
   "execution_count": 14,
   "metadata": {},
   "outputs": [
    {
     "data": {
      "text/plain": [
       "Text(0, 0.5, 'Population')"
      ]
     },
     "execution_count": 14,
     "metadata": {},
     "output_type": "execute_result"
    },
    {
     "data": {
      "image/png": "[encoded data removed]",
      "text/plain": [
       "<Figure size 640x480 with 1 Axes>"
      ]
     },
     "metadata": {},
     "output_type": "display_data"
    }
   ],
   "source": [
    "custom_calibration = NativeGateCalibration({(Rx(math.pi/2), QubitSet(0)): pulse_sequence_rx_pi_2_q0})\n",
    "task=device.run(bell_circuit, native_gate_calibration=custom_calibration, shots=nb_shots)\n",
    "\n",
    "counts = task.result().measurement_counts\n",
    "plt.bar(sorted(counts), [counts[k]/nb_shots for k in sorted(counts)])\n",
    "plt.xlabel(\"State\")\n",
    "plt.ylabel(\"Population\")"
   ]
  },
  {
   "cell_type": "code",
   "execution_count": 16,
   "metadata": {},
   "outputs": [
    {
     "name": "stdout",
     "output_type": "stream",
     "text": [
      "Task Summary\n",
      "{'arn:aws:braket:us-west-1::device/qpu/rigetti/Aspen-M-3': {'shots': 100, 'tasks': {'COMPLETED': 2}}}\n",
      "Note: Charges shown are estimates based on your Amazon Braket simulator and quantum processing unit (QPU) task usage. Estimated charges shown may differ from your actual charges. Estimated charges do not factor in any discounts or credits, and you may experience additional charges based on your use of other services such as Amazon Elastic Compute Cloud (Amazon EC2).\n"
     ]
    }
   ],
   "source": [
    "print(\"Task Summary\")\n",
    "print(t.quantum_tasks_statistics())\n",
    "print('Note: Charges shown are estimates based on your Amazon Braket simulator and quantum processing unit (QPU) task usage. Estimated charges shown may differ from your actual charges. Estimated charges do not factor in any discounts or credits, and you may experience additional charges based on your use of other services such as Amazon Elastic Compute Cloud (Amazon EC2).')\n",
    "print(f\"Estimated cost to run this example: {t.qpu_tasks_cost() + t.simulator_tasks_cost():.3f} USD\")"
   ]
  },
  {
   "cell_type": "code",
   "execution_count": null,
   "metadata": {},
   "outputs": [],
   "source": []
  }
 ],
 "metadata": {
  "kernelspec": {
   "display_name": "Python 3.9.14",
   "language": "python",
   "name": "python3"
  },
  "language_info": {
   "codemirror_mode": {
    "name": "ipython",
    "version": 3
   },
   "file_extension": ".py",
   "mimetype": "text/x-python",
   "name": "python",
   "nbconvert_exporter": "python",
   "pygments_lexer": "ipython3",
   "version": "3.10.12"
  },
  "vscode": {
   "interpreter": {
    "hash": "e8fe7b1d737818ec041fd05b4c8bbd1804e351a931e38c7cd860a34c69554183"
   }
  }
 },
 "nbformat": 4,
 "nbformat_minor": 2
}
