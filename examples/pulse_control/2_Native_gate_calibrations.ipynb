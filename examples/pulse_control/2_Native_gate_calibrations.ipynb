{
    "cells": [
        {
            "attachments": {},
            "cell_type": "markdown",
            "metadata": {},
            "source": [
                "# Accessing the pulse implementation of native gates\n",
                "All gates are implemented with a sequence of pulses that is carefully calibrated by quantum hardware providers. In this notebook, we will show how to:\n",
                "- Retrieve the calibrations for any particular native gate of interest, \n",
                "- Modify it \n",
                "- Submit a circuit where we will overwrite the provider's calibrations and use our modified ones.\n",
                "\n",
                "These calibrations are vended as PulseSequence objects and contain a list of low-level instructions that are executed for that gate. Obtaining the accurate sequences that are used by the provider offers many advantages. First, it is one of the best ways to understand how quantum computers work at the most fundamental level. It also allows you to improve the results of your circuits by deploying error mitigation techniques such as zero noise extrapolation, by stretching all the pulses of specific gates. \n",
                "\n",
                "Native gate calibrations are only available on a subset of devices that have pulse support on Braket.\n",
                "\n",
                "First, we will start by initializing a cost tracker and import some libraries."
            ]
        },
        {
            "cell_type": "code",
            "execution_count": 1,
            "metadata": {},
            "outputs": [],
            "source": [
                "# Use Braket SDK Cost Tracking to estimate the cost to run this example\n",
                "from braket.tracking import Tracker\n",
                "t = Tracker().start()"
            ]
        },
        {
            "cell_type": "code",
            "execution_count": 2,
            "metadata": {},
            "outputs": [],
            "source": [
                "%matplotlib inline\n",
                "\n",
                "from braket.aws import AwsDevice\n",
                "from braket.parametric import FreeParameter\n",
                "from braket.circuits import Circuit, GateCalibrations, QubitSet\n",
                "from braket.circuits.gates import Rx, XY\n",
                "from braket.circuits.serialization import IRType\n",
                "\n",
                "import math\n",
                "from utils.draw_pulse_sequence import draw\n",
                "import matplotlib.pyplot as plt"
            ]
        },
        {
            "attachments": {},
            "cell_type": "markdown",
            "metadata": {},
            "source": [
                "Calibrations are associated with a device so we will need to instantiate an AWS device."
            ]
        },
        {
            "cell_type": "code",
            "execution_count": 3,
            "metadata": {},
            "outputs": [],
            "source": [
                "device = AwsDevice(\"arn:aws:braket:us-west-1::device/qpu/rigetti/Aspen-M-3\")"
            ]
        },
        {
            "attachments": {},
            "cell_type": "markdown",
            "metadata": {},
            "source": [
                "Calibrations are accessible via the `gate_calibrations` property of the device object. The calibrations are downloaded and cached when the property is first referenced. In case the device does not support this feature, the `gate_calibrations` property returns `None`."
            ]
        },
        {
            "cell_type": "code",
            "execution_count": 4,
            "metadata": {},
            "outputs": [
                {
                    "name": "stdout",
                    "output_type": "stream",
                    "text": [
                        "The number of pulse implementations in the calibration file is 925.\n"
                    ]
                }
            ],
            "source": [
                "calibrations = device.gate_calibrations\n",
                "print(f\"The number of pulse implementations in the calibration file is {len(calibrations)}.\")"
            ]
        },
        {
            "attachments": {},
            "cell_type": "markdown",
            "metadata": {},
            "source": [
                "To refresh the calibration cache, you can run the following method"
            ]
        },
        {
            "cell_type": "code",
            "execution_count": 5,
            "metadata": {},
            "outputs": [],
            "source": [
                "calibrations = device.refresh_gate_calibrations()"
            ]
        },
        {
            "attachments": {},
            "cell_type": "markdown",
            "metadata": {},
            "source": [
                "Retrieving a gate in particular can be done by passing the `Gate` object (instantiating with a numerical value or a `FreeParameter` if necessary) and the qubit of interest to `get_pulse_sequence`. A list of parameters can be obtained via the `parameters` attribute. These parameters can be assigned by passing values when calling the pulse sequence."
            ]
        },
        {
            "cell_type": "code",
            "execution_count": 6,
            "metadata": {},
            "outputs": [
                {
                    "name": "stdout",
                    "output_type": "stream",
                    "text": [
                        "The XY pulse sequence is parametrized by the following parameter(s): {theta}\n"
                    ]
                }
            ],
            "source": [
                "xy_theta = XY(FreeParameter(\"theta\"))\n",
                "rx_pi_2 = Rx(math.pi/2)\n",
                "\n",
                "a=10\n",
                "b=113\n",
                "pulse_sequence_xy_theta_q10_q113 = calibrations.pulse_sequences[(xy_theta, QubitSet([a, b]))]\n",
                "\n",
                "print(\"The XY pulse sequence is parametrized by the following parameter(s):\", pulse_sequence_xy_theta_q10_q113.parameters)\n",
                "pulse_sequence_xy_theta_q10_q113_theta0 = pulse_sequence_xy_theta_q10_q113(theta=0)"
            ]
        },
        {
            "cell_type": "markdown",
            "metadata": {},
            "source": [
                "You can inspect a calibration by printing it as a OpenPulse program via the `to_ir` function"
            ]
        },
        {
            "cell_type": "code",
            "execution_count": 7,
            "metadata": {},
            "outputs": [
                {
                    "name": "stdout",
                    "output_type": "stream",
                    "text": [
                        "OPENQASM 3.0;\n",
                        "cal {\n",
                        "    waveform q10_q113_xy_sqrtiSWAP = {0.0, 0.0, 0.0, 0.0, 0.0, 0.0, 0.0, 0.0, 0.00014537009254689877 + 0.0001369443893126329im, 5.303180798397347e-05 - 0.0008196690447209506im, -0.0023310033959838983 + 0.0016865506890067943im, 0.008332028634114674 + 0.0021586029434422986im, -0.009349127255529895 - 0.01999072336730396im, -0.020860447314124675 + 0.04403693073274357im, 0.09036573810504182 - 0.022935886126046228im, -0.12581839067572623 - 0.09198301933987653im, 0.013725203982409792 + 0.22973586428496062im, 0.22262174967342097 - 0.20765384699950165im, -0.36399978519172366 - 0.04729887165425063im, 0.2192212621454111 + 0.3483191112575019im, 0.1370629501722583 - 0.4162359540531329im, -0.42065093306745655 + 0.16453304434945512im, 0.39987374029485984 + 0.22209999009438852im, -0.08404537414424611 - 0.4517174933501796im, -0.2949499416065205 + 0.35311260486352203im, 0.46024411056362907 + 0.0022720215881632563im, -0.29157125782706517 - 0.3561563345881706im, -0.08865903226636045 + 0.4516706550510638im, 0.40457579427146684 - 0.21951331736258284im, -0.4269904133530549 - 0.17189231490468487im, 0.1396420287935428 + 0.43859764803013557im, 0.2490105633221048 - 0.38711953388611225im, -0.45701686461803864 + 0.05480309937749447im, 0.333477385075055 + 0.3172705909718977im, 0.03198537689826235 - 0.459178320391031im, -0.37424414449281745 + 0.26797222722757114im, 0.44500512568292855 + 0.11763601645919286im, -0.19293431821465357 - 0.4179044664842831im, -0.19910191312876507 + 0.4150014728177867im, 0.44669839977930254 - 0.1110330306128624im, -0.3702347013470671 - 0.27348502732492413im, 0.025181892450422384 + 0.4596016389712746im, 0.33813927991528403 - 0.3122973288884163im, -0.45615516869985495 - 0.061565057629090876im, 0.24325039945572005 + 0.39076468291939986im, 0.14612191367938043 - 0.43648159250435997im, -0.4294891584843002 + 0.1655501645934372im, 0.40128077136792406 + 0.22548067940032096im, -0.08196070553522965 - 0.4529351355333717im, -0.29681827355612705 + 0.3518049271053868im, 0.460268555002565 + 0.004544395264192579im, -0.2898140962582968 - 0.3575969572891429im, -0.09088783532102107 + 0.4512285403685425im, 0.4056546107626541 - 0.21751351916482362im, -0.42613667797973953 - 0.17399806301467327im, 0.13747519150400242 + 0.4392816476628683im, 0.2509185439009603 - 0.38588557705502324im, -0.4572818314300914 + 0.05254636901259684im, 0.3319071163126062 + 0.318912935444012im, 0.03425171980395073 - 0.45901482976363417im, -0.3755624287175552 + 0.2661215068126545im, 0.4444189935812254 + 0.1198313498076241im, -0.1908689830343065 - 0.41885179427563163im, -0.20114814089204205 + 0.41401355010209706im, 0.4472410712266329 - 0.10882655218521055im, -0.3688801320377746 - 0.27530935770558257im, 0.022912763274570147 + 0.45972034926854166im, 0.3396768148164287 - 0.31062429996481616im, -0.45584569488807747 - 0.0638161163380554im, 0.2413184266690701 + 0.3919607266071825im, 0.14827482353889193 - 0.4357549436976736im, -0.4303011633146544 + 0.16342797527415195im, 0.40016279711378205 + 0.2274588535378569im, -0.07972379369411012 - 0.4533342154318508im, -0.29855134025845 + 0.3503353968599612im, 0.46024049905468334 + 0.006816454254231701im, -0.2880452039144817 - 0.3590231612469855im, -0.09311399899144328 + 0.45077332200174197im, 0.4067170291670444 - 0.21550496802549923im, -0.4252344143096318 - 0.17608377630363212im, 0.135246296264048 + 0.43976404936516694im, 0.25236925528192905 - 0.3839558278006212im, -0.4546757209312401 + 0.04997401897972099im, 0.3241518524639365 + 0.314553503743989im, 0.0347663918678458 - 0.4368408402987706im, -0.336974701693562 + 0.23628841584465785im, 0.35392677400391626 + 0.09730809587370753im, -0.1248709863405807 - 0.27764689872512194im, -0.10159473342244571 + 0.20650776911278376im, 0.15161747386684354 - 0.036101037344466944im, -0.07443974074708745 - 0.056131510697310906im, 0.002185343681511556 + 0.048678884575342356im, 0.016359290123328058 - 0.014812455159389948im, -0.008517987251917937 - 0.0012353788905866948im, 0.0014963043187040607 + 0.0024574587370910905im, 0.00026842973034826623 - 0.0007762829351447587im, 0.0, 0.0, 0.0, 0.0, 0.0, 0.0, 0.0, 0.0};\n",
                        "    barrier;\n",
                        "    shift_phase(q10_q113_xy_frame, 1076.0984846321444);\n",
                        "    play(q10_q113_xy_frame, q10_q113_xy_sqrtiSWAP);\n",
                        "    shift_phase(q10_q113_xy_frame, -1076.0984846321444);\n",
                        "    shift_phase(q10_q113_xy_frame, 1080.21523783582 - 0.5*theta);\n",
                        "    play(q10_q113_xy_frame, q10_q113_xy_sqrtiSWAP);\n",
                        "    shift_phase(q10_q113_xy_frame, 0.5*theta - 1080.21523783582);\n",
                        "    delay[208.0ns] q10_rf_frame;\n",
                        "    shift_phase(q10_rf_frame, 5.45647230475746);\n",
                        "    delay[208.0ns] q113_rf_frame;\n",
                        "    shift_phase(q113_rf_frame, 5.399029806112107);\n",
                        "    shift_phase(q113_rf_frame, 0.5*theta);\n",
                        "    shift_phase(q10_rf_frame, -0.5*theta);\n",
                        "    barrier;\n",
                        "    shift_phase(q10_q11_xy_frame, 2.72823615237873);\n",
                        "    shift_phase(q10_q17_xy_frame, 2.72823615237873);\n",
                        "    shift_phase(q10_q113_xy_frame, 2.72823615237873);\n",
                        "    shift_phase(q112_q113_xy_frame, -2.6995149030560537);\n",
                        "    shift_phase(q113_q114_xy_frame, -2.6995149030560537);\n",
                        "    shift_phase(q10_q113_xy_frame, -2.6995149030560537);\n",
                        "    shift_phase(q112_q113_xy_frame, -0.25*theta);\n",
                        "    shift_phase(q113_q114_xy_frame, -0.25*theta);\n",
                        "    shift_phase(q10_q113_xy_frame, -0.25*theta);\n",
                        "    shift_phase(q10_q11_xy_frame, -0.25*theta);\n",
                        "    shift_phase(q10_q17_xy_frame, -0.25*theta);\n",
                        "    shift_phase(q10_q113_xy_frame, -0.25*theta);\n",
                        "}\n"
                    ]
                }
            ],
            "source": [
                "print(pulse_sequence_xy_theta_q10_q113.to_ir())"
            ]
        },
        {
            "cell_type": "markdown",
            "metadata": {},
            "source": [
                "As you have access to a `PulseSequence` object, you can generate the time trace of this pulse sequence via the `to_time_trace` and visualize it with a plotting library like `matplotlib`. We use here a `draw` method that has been placed in a local python file. In the cell below, we draw the pulse sequence for the RX($\\pi$/2) gate applied on a qubit 0."
            ]
        },
        {
            "cell_type": "code",
            "execution_count": 8,
            "metadata": {},
            "outputs": [
                {
                    "data": {
                        "image/png": "[encoded data removed]",
                        "text/plain": [
                            "<Figure size 640x480 with 3 Axes>"
                        ]
                    },
                    "metadata": {},
                    "output_type": "display_data"
                }
            ],
            "source": [
                "pulse_sequence_rx_pi_2_q0 = calibrations.pulse_sequences[(rx_pi_2, QubitSet(0))]\n",
                "draw(pulse_sequence_rx_pi_2_q0)"
            ]
        },
        {
            "attachments": {},
            "cell_type": "markdown",
            "metadata": {},
            "source": [
                "The fidelity of each gate is reported by Rigetti. It can be retrieved through the Braket console or programmatically through the device properties:"
            ]
        },
        {
            "cell_type": "code",
            "execution_count": 9,
            "metadata": {},
            "outputs": [
                {
                    "name": "stdout",
                    "output_type": "stream",
                    "text": [
                        "Fidelity of the XY gate between qubits 10 and 113:  0.8177646157415766\n"
                    ]
                }
            ],
            "source": [
                "print(f\"Fidelity of the XY gate between qubits {a} and {b}: \", device.properties.provider.specs[\"2Q\"][f\"{a}-{b}\"][\"fXY\"])"
            ]
        },
        {
            "attachments": {},
            "cell_type": "markdown",
            "metadata": {},
            "source": [
                "# Attaching calibrations to redefine gates\n",
                "\n",
                "When submitting a circuit to Rigetti's Aspen M-3 via Braket, all the gates of your circuit will be compiled into native gates, which are ultimately replaced by these sequences of pulses. Let's consider a short example that creates the state $\\frac{|00\\rangle + |11\\rangle}{\\sqrt{2}}$. "
            ]
        },
        {
            "cell_type": "code",
            "execution_count": 10,
            "metadata": {},
            "outputs": [
                {
                    "name": "stdout",
                    "output_type": "stream",
                    "text": [
                        "T  : |   0    |1|    2    |\n",
                        "                           \n",
                        "q0 : -Rx(1.57)-C-----------\n",
                        "               |           \n",
                        "q1 : -Rx(1.57)-Z-Rx(-1.57)-\n",
                        "\n",
                        "T  : |   0    |1|    2    |\n"
                    ]
                }
            ],
            "source": [
                "bell_circuit = (\n",
                "    Circuit()\n",
                "    .rx(0,math.pi/2)\n",
                "    .rx(1,math.pi/2)\n",
                "    .cz(0,1)\n",
                "    .rx(1,-math.pi/2)\n",
                ")\n",
                "print(bell_circuit)"
            ]
        },
        {
            "cell_type": "markdown",
            "metadata": {},
            "source": [
                "This circuit is executed via the `run` method.  You are not required to specify any calibration to use the provider's calibrations: pulse scheduling will be done on the hardware provider side with default calibrations."
            ]
        },
        {
            "cell_type": "code",
            "execution_count": 11,
            "metadata": {},
            "outputs": [
                {
                    "data": {
                        "text/plain": [
                            "Text(0, 0.5, 'Population')"
                        ]
                    },
                    "execution_count": 11,
                    "metadata": {},
                    "output_type": "execute_result"
                },
                {
                    "data": {
                        "image/png": "[encoded data removed]",
                        "text/plain": [
                            "<Figure size 640x480 with 1 Axes>"
                        ]
                    },
                    "metadata": {},
                    "output_type": "display_data"
                }
            ],
            "source": [
                "nb_shots = 50\n",
                "task=device.run(bell_circuit, shots=nb_shots, disable_qubit_rewiring=True)\n",
                "\n",
                "counts = task.result().measurement_counts\n",
                "plt.bar(sorted(counts), [counts[k]/nb_shots for k in sorted(counts)])\n",
                "plt.xlabel(\"State\")\n",
                "plt.ylabel(\"Population\")"
            ]
        },
        {
            "attachments": {},
            "cell_type": "markdown",
            "metadata": {},
            "source": [
                "However, you can attach custom-made `PulseSequence`s as calibrations to modify this default behavior. Here we chose to submit one calibration that we have downloaded in one of the first cell of this notebook. You can execute again the same circuit and plot the result histogram."
            ]
        },
        {
            "cell_type": "code",
            "execution_count": 12,
            "metadata": {},
            "outputs": [
                {
                    "data": {
                        "text/plain": [
                            "Text(0, 0.5, 'Population')"
                        ]
                    },
                    "execution_count": 12,
                    "metadata": {},
                    "output_type": "execute_result"
                },
                {
                    "data": {
                        "image/png": "[encoded data removed]",
                        "text/plain": [
                            "<Figure size 640x480 with 1 Axes>"
                        ]
                    },
                    "metadata": {},
                    "output_type": "display_data"
                }
            ],
            "source": [
                "custom_calibration = GateCalibrations({(Rx(math.pi/2), QubitSet(0)): pulse_sequence_rx_pi_2_q0})\n",
                "task=device.run(bell_circuit, gate_calibrations=custom_calibration.pulse_sequences, shots=nb_shots, disable_qubit_rewiring=True)\n",
                "\n",
                "counts = task.result().measurement_counts\n",
                "plt.bar(sorted(counts), [counts[k]/nb_shots for k in sorted(counts)])\n",
                "plt.xlabel(\"State\")\n",
                "plt.ylabel(\"Population\")"
            ]
        },
        {
            "cell_type": "markdown",
            "metadata": {},
            "source": [
                "You can inspect the OpenPulse program to it is submitted by the previous cell with the `to_ir` function call on the `Circuit` objet using the custom calibration set. You can notice that a calibration definition block is now added to the program and provide the gate definition that will be used when the RX($\\pi$/2) gate is applied to qubit 0."
            ]
        },
        {
            "cell_type": "code",
            "execution_count": 13,
            "metadata": {},
            "outputs": [
                {
                    "name": "stdout",
                    "output_type": "stream",
                    "text": [
                        "OPENQASM 3.0;\n",
                        "bit[2] b;\n",
                        "qubit[2] q;\n",
                        "cal {\n",
                        "    waveform wf_drag_gaussian_1 = drag_gaussian(24.000000000000004ns, 2.5479654008640575ns, 2.6743080545793256e-10, 0.290233498642298, false);\n",
                        "}\n",
                        "defcal rx(1.5707963267948966) $0 {\n",
                        "    barrier $0;\n",
                        "    shift_frequency(q0_rf_frame, -321047.14178613486);\n",
                        "    play(q0_rf_frame, wf_drag_gaussian_1);\n",
                        "    shift_frequency(q0_rf_frame, 321047.14178613486);\n",
                        "    barrier $0;\n",
                        "}\n",
                        "rx(1.5707963267948966) q[0];\n",
                        "rx(1.5707963267948966) q[1];\n",
                        "cz q[0], q[1];\n",
                        "rx(-1.5707963267948966) q[1];\n",
                        "b[0] = measure q[0];\n",
                        "b[1] = measure q[1];\n"
                    ]
                }
            ],
            "source": [
                "print(bell_circuit.to_ir(IRType.OPENQASM, gate_calibrations=custom_calibration.pulse_sequences).source)"
            ]
        },
        {
            "cell_type": "code",
            "execution_count": 14,
            "metadata": {},
            "outputs": [
                {
                    "name": "stdout",
                    "output_type": "stream",
                    "text": [
                        "Task Summary\n",
                        "{'arn:aws:braket:us-west-1::device/qpu/rigetti/Aspen-M-3': {'shots': 100, 'tasks': {'COMPLETED': 2}}}\n",
                        "Note: Charges shown are estimates based on your Amazon Braket simulator and quantum processing unit (QPU) task usage. Estimated charges shown may differ from your actual charges. Estimated charges do not factor in any discounts or credits, and you may experience additional charges based on your use of other services such as Amazon Elastic Compute Cloud (Amazon EC2).\n",
                        "Estimated cost to run this example: 0.635 USD\n"
                    ]
                }
            ],
            "source": [
                "print(\"Task Summary\")\n",
                "print(t.quantum_tasks_statistics())\n",
                "print('Note: Charges shown are estimates based on your Amazon Braket simulator and quantum processing unit (QPU) task usage. Estimated charges shown may differ from your actual charges. Estimated charges do not factor in any discounts or credits, and you may experience additional charges based on your use of other services such as Amazon Elastic Compute Cloud (Amazon EC2).')\n",
                "print(f\"Estimated cost to run this example: {t.qpu_tasks_cost() + t.simulator_tasks_cost():.3f} USD\")"
            ]
        },
        {
            "cell_type": "code",
            "execution_count": null,
            "metadata": {},
            "outputs": [],
            "source": []
        }
    ],
    "metadata": {
        "kernelspec": {
            "display_name": "Python 3.9.14",
            "language": "python",
            "name": "python3"
        },
        "language_info": {
            "codemirror_mode": {
                "name": "ipython",
                "version": 3
            },
            "file_extension": ".py",
            "mimetype": "text/x-python",
            "name": "python",
            "nbconvert_exporter": "python",
            "pygments_lexer": "ipython3",
            "version": "3.10.12"
        },
        "vscode": {
            "interpreter": {
                "hash": "e8fe7b1d737818ec041fd05b4c8bbd1804e351a931e38c7cd860a34c69554183"
            }
        }
    },
    "nbformat": 4,
    "nbformat_minor": 2
}
