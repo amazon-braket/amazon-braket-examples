{
 "cells": [
  {
   "attachments": {},
   "cell_type": "markdown",
   "metadata": {},
   "source": [
    "# Accessing the pulse implementation of native gates\n",
    "All gates are implemented with a sequence of pulses that is carefully calibrated by quantum hardware providers. In this notebook, we will show how to:\n",
    "- retrieve the calibrations for any particular native gate of interest, \n",
    "- modify it \n",
    "- submit a circuit where we will overwrite the provider's calibrations and use our modified ones.\n",
    "\n",
    "These calibrations will be vended as `PulseSequence` objects and will contain a list of low-level instructions that are played in place of the gate that you inserted. Obtaining the accurate sequence that used by the provider offers many opportunities. First, it is one of the best way to understand how quantum computers works at the most fundamental layer. It also allows you to improve the results of your circuits by deploying error mitigation techniques such as zero noise extrapolation by stretching all the pulse of specific gates.\n",
    "\n",
    "Native gate calibrations are available with Rigetti's Aspen M-3.\n",
    "\n",
    "First, we will start by initializing a cost tracker and import some libraries."
   ]
  },
  {
   "cell_type": "code",
   "execution_count": 1,
   "metadata": {},
   "outputs": [],
   "source": [
    "# Use Braket SDK Cost Tracking to estimate the cost to run this example\n",
    "from braket.tracking import Tracker\n",
    "t = Tracker().start()"
   ]
  },
  {
   "cell_type": "code",
   "execution_count": 2,
   "metadata": {},
   "outputs": [],
   "source": [
    "%matplotlib inline\n",
    "\n",
    "from braket.aws import AwsDevice\n",
    "from braket.native_gates import NativeGateCalibration\n",
    "from braket.parametric import FreeParameter\n",
    "from braket.circuits import Circuit, QubitSet\n",
    "from braket.circuits.gates import Rx, XY\n",
    "from braket.circuits.serialization import IRType\n",
    "\n",
    "import math\n",
    "from utils.draw_pulse_sequence import draw\n",
    "import matplotlib.pyplot as plt"
   ]
  },
  {
   "attachments": {},
   "cell_type": "markdown",
   "metadata": {},
   "source": [
    "Calibrations are associated with a device so we will need to instantiate an AWS device. By default, the device properties are not automatically populated to limit the amount of data downloaded."
   ]
  },
  {
   "cell_type": "code",
   "execution_count": 3,
   "metadata": {},
   "outputs": [
    {
     "name": "stdout",
     "output_type": "stream",
     "text": [
      "True\n"
     ]
    }
   ],
   "source": [
    "device = AwsDevice(\"arn:aws:braket:us-west-1::device/qpu/rigetti/Aspen-M-3\")\n",
    "\n",
    "# Test if the calibrations have been downloaded\n",
    "print(device._native_gate_calibration is None)"
   ]
  },
  {
   "attachments": {},
   "cell_type": "markdown",
   "metadata": {},
   "source": [
    "Calibrations are accessible via the `native_gate_calibration` field of the device object. When accessed for the first time, the latest calibrations for all the gates will be downloaded. This takes between XX and YY seconds depending on the performance of your internet connection. The calibrations will be then cached as a dictionnary that is indexed by a tuple formed from a gate object and the qubit number."
   ]
  },
  {
   "cell_type": "code",
   "execution_count": 10,
   "metadata": {},
   "outputs": [
    {
     "name": "stdout",
     "output_type": "stream",
     "text": [
      "We have downloaded 929 calibrations.\n"
     ]
    }
   ],
   "source": [
    "calibrations = device.native_gate_calibration\n",
    "print(f\"We have downloaded {len(calibrations.calibration_data)} calibrations.\")"
   ]
  },
  {
   "attachments": {},
   "cell_type": "markdown",
   "metadata": {},
   "source": [
    "To refresh the calibration cache, you can run the following method"
   ]
  },
  {
   "cell_type": "code",
   "execution_count": 11,
   "metadata": {},
   "outputs": [
    {
     "data": {
      "text/plain": [
       "<braket.native_gates.native_gate_calibration.NativeGateCalibration at 0x13f809720>"
      ]
     },
     "execution_count": 11,
     "metadata": {},
     "output_type": "execute_result"
    }
   ],
   "source": [
    "device.refresh_native_gate_calibrations()"
   ]
  },
  {
   "attachments": {},
   "cell_type": "markdown",
   "metadata": {},
   "source": [
    "Each calibration is represented by a `PulseSequence` object that contains the OpenPulse implementation for the associated native gate. Retrieving a gate in particular can be done by passing the `Gate` object (instantiating with a numerical value or a `FreeParameter` if necessary) and the qubit of interest. For instance, you can inspect the pulse implementation of the RX($\\pi$/2) with the code in next cell.\n",
    "As you have access to a `PulseSequence` object, you can generate the time trace of this pulse sequence via the `.to_time_trace()` and visualization with a plotting library like `matplotlib`. We use here a `draw` method that has been in placed in the python file at the root of this notebook to create the plots. "
   ]
  },
  {
   "cell_type": "code",
   "execution_count": 12,
   "metadata": {},
   "outputs": [
    {
     "ename": "TypeError",
     "evalue": "'NativeGateCalibration' object is not subscriptable",
     "output_type": "error",
     "traceback": [
      "\u001b[0;31m---------------------------------------------------------------------------\u001b[0m",
      "\u001b[0;31mTypeError\u001b[0m                                 Traceback (most recent call last)",
      "Cell \u001b[0;32mIn[12], line 6\u001b[0m\n\u001b[1;32m      4\u001b[0m a\u001b[39m=\u001b[39m\u001b[39m10\u001b[39m\n\u001b[1;32m      5\u001b[0m b\u001b[39m=\u001b[39m\u001b[39m113\u001b[39m\n\u001b[0;32m----> 6\u001b[0m pulse_sequence_xy_theta_q10_q113 \u001b[39m=\u001b[39m calibrations[(xy_theta, [\u001b[39m10\u001b[39;49m, \u001b[39m113\u001b[39;49m])][\u001b[39m\"\u001b[39m\u001b[39mpulse_sequence\u001b[39m\u001b[39m\"\u001b[39m]\n\u001b[1;32m      7\u001b[0m \u001b[39mprint\u001b[39m(pulse_sequence_xy_theta_q10_q113\u001b[39m.\u001b[39mto_ir())\n\u001b[1;32m      9\u001b[0m pulse_sequence_rx_pi_2_q0 \u001b[39m=\u001b[39m calibrations[(rx_pi_2, \u001b[39m0\u001b[39m)][\u001b[39m\"\u001b[39m\u001b[39mpulse_sequence\u001b[39m\u001b[39m\"\u001b[39m]\n",
      "\u001b[0;31mTypeError\u001b[0m: 'NativeGateCalibration' object is not subscriptable"
     ]
    }
   ],
   "source": [
    "xy_theta = XY(FreeParameter(\"θ\"))\n",
    "rx_pi_2 = Rx(math.pi/2)\n",
    "\n",
    "a=10\n",
    "b=113\n",
    "pulse_sequence_xy_theta_q10_q113 = calibrations.get_pulse_sequence([(xy_theta, [10, 113])])\n",
    "print(pulse_sequence_xy_theta_q10_q113.to_ir())\n",
    "\n",
    "pulse_sequence_rx_pi_2_q0 = calibrations.get_pulse_sequence([(rx_pi_2, 0)])\n",
    "draw(pulse_sequence_rx_pi_2_q0)"
   ]
  },
  {
   "attachments": {},
   "cell_type": "markdown",
   "metadata": {},
   "source": [
    "The fidelity of each gate is reported by Rigetti. It is consultable on the Braket console and programmatically through the device properties:"
   ]
  },
  {
   "cell_type": "code",
   "execution_count": 66,
   "metadata": {},
   "outputs": [
    {
     "name": "stdout",
     "output_type": "stream",
     "text": [
      "fidelity of the XY gate between qubits 10 and 113:  0.8629862902518167\n"
     ]
    }
   ],
   "source": [
    "# method 1\n",
    "print(f\"fidelity of the XY gate between qubits {a} and {b}: \", device.properties.provider.specs[\"2Q\"][f\"{a}-{b}\"][\"fXY\"])\n",
    "\n",
    "# method 2\n",
    "print(f\"fidelity of the XY gate between qubits {a} and {b}: \", calibrations.get_fidelity([(Rx(math.pi/2), 0)]))"
   ]
  },
  {
   "attachments": {},
   "cell_type": "markdown",
   "metadata": {},
   "source": [
    "# Attaching calibrations to redefine gates\n",
    "\n",
    "When submitting a circuit to Rigetti's Aspen M-3 via Braket, all the gates of your circuit will be compiled into native gates, which are ultimately replaced by these sequences of pulses. You can now attach custom-made `PulseSequence`s as calibrations to modify the default behavior."
   ]
  },
  {
   "cell_type": "code",
   "execution_count": 17,
   "metadata": {},
   "outputs": [
    {
     "name": "stdout",
     "output_type": "stream",
     "text": [
      "T  : |   0    |1|    2    |\n",
      "                           \n",
      "q0 : -Rx(1.57)-C-----------\n",
      "               |           \n",
      "q1 : -Rx(1.57)-Z-Rx(-1.57)-\n",
      "\n",
      "T  : |   0    |1|    2    |\n"
     ]
    }
   ],
   "source": [
    "bell_circuit = (\n",
    "    Circuit()\n",
    "    .rx(0,math.pi/2)\n",
    "    .rx(1,math.pi/2)\n",
    "    .cz(0,1)\n",
    "    .rx(1,-math.pi/2)\n",
    ")\n",
    "print(bell_circuit)"
   ]
  },
  {
   "cell_type": "code",
   "execution_count": 18,
   "metadata": {},
   "outputs": [
    {
     "name": "stdout",
     "output_type": "stream",
     "text": [
      "OPENQASM 3.0;\n",
      "bit[2] b;\n",
      "qubit[2] q;\n",
      "rx(1.5707963267948966) q[0];\n",
      "rx(1.5707963267948966) q[1];\n",
      "cz q[0], q[1];\n",
      "rx(-1.5707963267948966) q[1];\n",
      "b[0] = measure q[0];\n",
      "b[1] = measure q[1];\n"
     ]
    }
   ],
   "source": [
    "print(bell_circuit.to_ir(IRType.OPENQASM).source)"
   ]
  },
  {
   "cell_type": "code",
   "execution_count": null,
   "metadata": {},
   "outputs": [],
   "source": [
    "nb_shots = 50\n",
    "task=device.run(bell_circuit, shots=nb_shots)\n",
    "\n",
    "counts = task.result().measurement_counts\n",
    "plt.bar(sorted(counts), [counts[k]/nb_shots for k in sorted(counts)])\n",
    "plt.xlabel(\"State\")\n",
    "plt.ylabel(\"Population\")"
   ]
  },
  {
   "attachments": {},
   "cell_type": "markdown",
   "metadata": {},
   "source": [
    "Attaching the calibrations that we have downloaded in one of the first cell of this notebook, we can submit again the same circuit and see that we do not have significant changes compared to the first circuit execution"
   ]
  },
  {
   "cell_type": "code",
   "execution_count": 5,
   "metadata": {},
   "outputs": [
    {
     "name": "stdout",
     "output_type": "stream",
     "text": [
      "T  : |   0    |1|\n",
      "                 \n",
      "q0 : -Rx(1.57)-C-\n",
      "               | \n",
      "q1 : ----------X-\n",
      "\n",
      "T  : |   0    |1|\n"
     ]
    }
   ],
   "source": [
    "custom_calibration = NativeGateCalibration({(Rx(math.pi/2), QubitSet(0)): pulse_sequence_rx_pi_2_q0})\n",
    "task=device.run(bell_circuit, native_gate_calibration=custom_calibration, shots=nb_shots)\n",
    "\n",
    "counts = task.result().measurement_counts\n",
    "plt.bar(sorted(counts), [counts[k]/nb_shots for k in sorted(counts)])\n",
    "plt.xlabel(\"State\")\n",
    "plt.ylabel(\"Population\")"
   ]
  },
  {
   "attachments": {},
   "cell_type": "markdown",
   "metadata": {},
   "source": [
    "If we now modify the pulse sequence such that the evolution achieved by RX($\\pi$/2) is now half a rotation along the X axis (i.e. RX($\\pi$)), then the outcome of the bell_circuit will be totally different. We expect in this case that the output state is $|11\\rangle$."
   ]
  },
  {
   "cell_type": "code",
   "execution_count": null,
   "metadata": {},
   "outputs": [],
   "source": [
    "(gaussian_waveform_name, gaussian_waveform), = pulse_sequence_rx_pi_2_q0._waveform.items()\n",
    "pulse_sequence_rx_pi_2_q0._waveform[gaussian_waveform_name].sigma = gaussian_waveform.sigma * 2\n",
    "pulse_sequence_rx_pi_2_q0._waveform[gaussian_waveform_name].length = gaussian_waveform.length * 2\n",
    "\n",
    "task=device.run(bell_circuit, native_gate_calibration=NativeGateCalibration({(Rx(math.pi/2), QubitSet(0)): pulse_sequence_rx_pi_2_q0}), shots=nb_shots)\n",
    "\n",
    "counts = task.result().measurement_counts\n",
    "plt.bar(sorted(counts), [counts[k]/nb_shots for k in sorted(counts)])\n",
    "plt.xlabel(\"State\")\n",
    "plt.ylabel(\"Population\")"
   ]
  },
  {
   "cell_type": "code",
   "execution_count": 20,
   "metadata": {},
   "outputs": [
    {
     "name": "stdout",
     "output_type": "stream",
     "text": [
      "Task Summary\n",
      "{'arn:aws:braket:us-west-1::device/qpu/rigetti/Aspen-M-3': {'shots': 12000, 'tasks': {'COMPLETED': 120}}}\n",
      "Note: Charges shown are estimates based on your Amazon Braket simulator and quantum processing unit (QPU) task usage. Estimated charges shown may differ from your actual charges. Estimated charges do not factor in any discounts or credits, and you may experience additional charges based on your use of other services such as Amazon Elastic Compute Cloud (Amazon EC2).\n",
      "Estimated cost to run this example: 40.200 USD\n"
     ]
    }
   ],
   "source": [
    "print(\"Task Summary\")\n",
    "print(t.quantum_tasks_statistics())\n",
    "print('Note: Charges shown are estimates based on your Amazon Braket simulator and quantum processing unit (QPU) task usage. Estimated charges shown may differ from your actual charges. Estimated charges do not factor in any discounts or credits, and you may experience additional charges based on your use of other services such as Amazon Elastic Compute Cloud (Amazon EC2).')\n",
    "print(f\"Estimated cost to run this example: {t.qpu_tasks_cost() + t.simulator_tasks_cost():.3f} USD\")"
   ]
  }
 ],
 "metadata": {
  "kernelspec": {
   "display_name": "Python 3.9.14",
   "language": "python",
   "name": "python3"
  },
  "language_info": {
   "codemirror_mode": {
    "name": "ipython",
    "version": 3
   },
   "file_extension": ".py",
   "mimetype": "text/x-python",
   "name": "python",
   "nbconvert_exporter": "python",
   "pygments_lexer": "ipython3",
   "version": "3.10.12"
  },
  "vscode": {
   "interpreter": {
    "hash": "e8fe7b1d737818ec041fd05b4c8bbd1804e351a931e38c7cd860a34c69554183"
   }
  }
 },
 "nbformat": 4,
 "nbformat_minor": 2
}
