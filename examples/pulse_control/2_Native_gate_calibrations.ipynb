{
    "cells": [
        {
            "attachments": {},
            "cell_type": "markdown",
            "metadata": {},
            "source": [
                "# Accessing the pulse implementation of native gates\n",
                "All gates are implemented with a sequence of pulses that is carefully calibrated by quantum hardware providers. In this notebook, we will show how to:\n",
                "- Retrieve the calibrations for any particular native gate of interest, \n",
                "- Modify it \n",
                "- Submit a circuit where we will overwrite the provider's calibrations and use our modified ones.\n",
                "\n",
                "These calibrations are vended as PulseSequence objects and contain a list of low-level instructions that are executed for that gate. Obtaining the accurate sequences that are used by the provider offers many advantages. First, it is one of the best ways to understand how quantum computers work at the most fundamental level. It also allows you to improve the results of your circuits by deploying error mitigation techniques such as zero noise extrapolation, by stretching all the pulses of specific gates. \n",
                "\n",
                "Native gate calibrations are only available on a subset of devices that have pulse support on Braket.\n",
                "\n",
                "First, we will start by initializing a cost tracker and import some libraries."
            ]
        },
        {
            "cell_type": "code",
            "execution_count": 1,
            "metadata": {},
            "outputs": [],
            "source": [
                "# Use Braket SDK Cost Tracking to estimate the cost to run this example\n",
                "from braket.tracking import Tracker\n",
                "t = Tracker().start()"
            ]
        },
        {
            "cell_type": "code",
            "execution_count": 2,
            "metadata": {},
            "outputs": [],
            "source": [
                "%matplotlib inline\n",
                "\n",
                "from braket.aws import AwsDevice\n",
                "from braket.native_gates import GateCalibrations\n",
                "from braket.parametric import FreeParameter\n",
                "from braket.circuits import Circuit, QubitSet\n",
                "from braket.circuits.gates import Rx, XY\n",
                "from braket.circuits.serialization import IRType\n",
                "\n",
                "import math\n",
                "from utils.draw_pulse_sequence import draw\n",
                "import matplotlib.pyplot as plt"
            ]
        },
        {
            "attachments": {},
            "cell_type": "markdown",
            "metadata": {},
            "source": [
                "Calibrations are associated with a device so we will need to instantiate an AWS device."
            ]
        },
        {
            "cell_type": "code",
            "execution_count": 3,
            "metadata": {},
            "outputs": [],
            "source": [
                "device = AwsDevice(\"arn:aws:braket:us-west-1::device/qpu/rigetti/Aspen-M-3\")"
            ]
        },
        {
            "attachments": {},
            "cell_type": "markdown",
            "metadata": {},
            "source": [
                "Calibrations are accessible via the `gate_calibrations` property of the device object. The calibrations are downloaded and cached when the property is first referenced. In case the device does not support this feature, the `gate_calibrations` property returns `None`."
            ]
        },
        {
            "cell_type": "code",
            "execution_count": 4,
            "metadata": {},
            "outputs": [
                {
                    "name": "stdout",
                    "output_type": "stream",
                    "text": [
                        "The number of pulse implementations in the calibration file is 925.\n"
                    ]
                }
            ],
            "source": [
                "calibrations = device.gate_calibrations\n",
                "print(f\"The number of pulse implementations in the calibration file is {len(calibrations)}.\")"
            ]
        },
        {
            "attachments": {},
            "cell_type": "markdown",
            "metadata": {},
            "source": [
                "To refresh the calibration cache, you can run the following method"
            ]
        },
        {
            "cell_type": "code",
            "execution_count": 5,
            "metadata": {},
            "outputs": [],
            "source": [
                "calibrations = device.refresh_gate_calibrations()"
            ]
        },
        {
            "attachments": {},
            "cell_type": "markdown",
            "metadata": {},
            "source": [
                "Retrieving a gate in particular can be done by passing the `Gate` object (instantiating with a numerical value or a `FreeParameter` if necessary) and the qubit of interest to `get_pulse_sequence`. A list of parameters can be obtained via the `parameters` attribute. These parameters can be assigned by passing values when calling the pulse sequence."
            ]
        },
        {
            "cell_type": "code",
            "execution_count": 6,
            "metadata": {},
            "outputs": [
                {
                    "name": "stdout",
                    "output_type": "stream",
                    "text": [
                        "The XY pulse sequence is parametrized by the following parameter(s): {theta}\n"
                    ]
                }
            ],
            "source": [
                "xy_theta = XY(FreeParameter(\"theta\"))\n",
                "rx_pi_2 = Rx(math.pi/2)\n",
                "\n",
                "a=10\n",
                "b=113\n",
                "pulse_sequence_xy_theta_q10_q113 = calibrations.get_pulse_sequence((xy_theta, QubitSet([a, b])))\n",
                "\n",
                "print(\"The XY pulse sequence is parametrized by the following parameter(s):\", pulse_sequence_xy_theta_q10_q113.parameters)\n",
                "pulse_sequence_xy_theta_q10_q113_theta0 = pulse_sequence_xy_theta_q10_q113(theta=0)"
            ]
        },
        {
            "cell_type": "markdown",
            "metadata": {},
            "source": [
                "You can inspect a calibration by printing it as a OpenPulse program via the `to_ir` function"
            ]
        },
        {
            "cell_type": "code",
            "execution_count": 7,
            "metadata": {},
            "outputs": [
                {
                    "name": "stdout",
                    "output_type": "stream",
                    "text": [
                        "OPENQASM 3.0;\n",
                        "cal {\n",
                        "    waveform q10_q113_xy_sqrtiSWAP = {0.0, 0.0, 0.0, 0.0, 0.0, 0.0, 0.0, 0.0, 0.00014531289075480011 + 0.00013700508513112716im, 5.341689031575419e-05 - 0.0008196440394224796im, -0.0023318834753716165 + 0.001685333651229498im, 0.008330787766035304 + 0.002163386933588414im, -0.009336602983182403 - 0.01999657585494562im, -0.020890326565835098 + 0.04402276441204698im, 0.09038247585176476 - 0.022869839408293357im, -0.12574632797180543 - 0.09208150889682964im, 0.013533319996194292 + 0.22974724767230012im, 0.22280593769036686 - 0.20745620677932036im, -0.36395518160728607 - 0.047640871744686134im, 0.21887568459174372 + 0.3485363678848143im, 0.13749743439959422 - 0.4160926306604985im, -0.42083104500369195 + 0.16407181883102945im, 0.39961841194278386 + 0.22255906769587258im, -0.08350297085831751 - 0.45181807464005996im, -0.2953920983141557 + 0.35274280718499684im, 0.4602407535979618 + 0.002872650027999397im, -0.2910876044094792 - 0.35655173483982433im, -0.08929554131500311 + 0.4515452479408073im, 0.40489620906216595 - 0.21892174331710637im, -0.42672970841261915 - 0.17253850867787482im, 0.13895500022395094 + 0.43881579389979236im, 0.24963668633531907 - 0.3867160702604875im, -0.4571077718809313 + 0.05403960707418757im, 0.33293034933169885 + 0.3178445795448252im, 0.0328002920319427 - 0.45912082842653906im, -0.37473311462058817 + 0.2672880226632294im, 0.4447832740262853 + 0.11847207856252384im, -0.19212680206331836 - 0.4182763275412426im, -0.1999247342154516 + 0.4146057101649077im, 0.44692351947253856 - 0.11012339440257878im, -0.3696628465381131 - 0.2742574960539928im, 0.02419817647807654 + 0.45965448165725775im, 0.3388231610029634 - 0.31155522756074305im, -0.45601582797853973 - 0.06258880798923533im, 0.24235223238465303 + 0.39132236035095364im, 0.14714682529746276 - 0.43613714134128084im, -0.42988544687214697 + 0.1645183783654609im, 0.4007263588528183 + 0.22646452166515782im, -0.08082555252332212 - 0.45313907833221156im, -0.2977171661856594 + 0.3510445601499144im, 0.4602551261484339 + 0.005745703312538645im, -0.2888610567320073 - 0.3583672476052108im, -0.09211233815624348 + 0.4509801674263031im, 0.4062548423843899 - 0.21639038169868122im, -0.42564451007641396 - 0.17519858816290726im, 0.13621342386749416 + 0.43967453577704585im, 0.25204551341046594 - 0.3851504296013716im, -0.45743615654598474 + 0.05118551491294942im, 0.3309400364745318 + 0.3199163742459926im, 0.03566525719279581 - 0.45890716237801094im, -0.3763940944426009 + 0.2649439184453964im, 0.44403516653185693 + 0.12124588708691333im, -0.18951238676671306 - 0.41946734022382504im, -0.20250860281759564 + 0.41334980348045613im, 0.4476021496343984 - 0.10733177486248917im, -0.3679438671066629 - 0.27655940575409993im, 0.021328770281694196 + 0.4597965613298311im, 0.3407611341873111 - 0.3094343931754254im, -0.4556162972967443 - 0.06543381304853883im, 0.23990507204732256 + 0.3928273802300889im, 0.1498661104208825 - 0.4352102287398218im, -0.4309039153666057 + 0.16183204248195993im, 0.3993050743453906 + 0.22896124529864062im, -0.0779957092111494 - 0.45363472475863503im, -0.29990241199635304 + 0.3491795187892799im, 0.46021028493107885 + 0.008618274906225491im, -0.2866185957416434 - 0.36016308859321305im, -0.09492511636033694 + 0.4503954117446592im, 0.407591122880809 - 0.21384716413106608im, -0.4245046517574401 - 0.17783589071640646im, 0.13340863097560274 + 0.4403250128580105im, 0.2539904688845264 - 0.3828853097592466im, -0.4548854679316451 + 0.04802733432053817im, 0.3227859525202547 + 0.31595499525883947im, 0.036681549424198885 - 0.4366841944566859im, -0.33801981373538653 + 0.2347909081845753im, 0.35348636478885404 + 0.09889598974552564im, -0.12360877215904331 - 0.27821113393730545im, -0.1025422911723835 + 0.2060388970176135im, 0.15178355853132416 - 0.035396251760287684im, -0.07417520910108309 - 0.05648061482018868im, 0.001954080844718024 + 0.048688716337136395im, 0.016430237948808296 - 0.014733719222711435im, -0.008511889509372405 - 0.00127671641619417im, 0.001484227854324836 + 0.002464771335260952im, 0.0002722760777399031 - 0.000774942225602902im, 0.0, 0.0, 0.0, 0.0, 0.0, 0.0, 0.0, 0.0};\n",
                        "    barrier;\n",
                        "    shift_phase(q10_q113_xy_frame, 1038.9222657567814);\n",
                        "    play(q10_q113_xy_frame, q10_q113_xy_sqrtiSWAP);\n",
                        "    shift_phase(q10_q113_xy_frame, -1038.9222657567814);\n",
                        "    shift_phase(q10_q113_xy_frame, 1040.24014118 - 0.5*theta);\n",
                        "    play(q10_q113_xy_frame, q10_q113_xy_sqrtiSWAP);\n",
                        "    shift_phase(q10_q113_xy_frame, 0.5*theta - 1040.24014118);\n",
                        "    delay[208.0ns] q10_rf_frame;\n",
                        "    shift_phase(q10_rf_frame, 5.3883284758672865);\n",
                        "    delay[208.0ns] q113_rf_frame;\n",
                        "    shift_phase(q113_rf_frame, 5.468953153116136);\n",
                        "    shift_phase(q113_rf_frame, 0.5*theta);\n",
                        "    shift_phase(q10_rf_frame, -0.5*theta);\n",
                        "    barrier;\n",
                        "    shift_phase(q10_q11_xy_frame, 2.6941642379336432);\n",
                        "    shift_phase(q10_q17_xy_frame, 2.6941642379336432);\n",
                        "    shift_phase(q10_q113_xy_frame, 2.6941642379336432);\n",
                        "    shift_phase(q112_q113_xy_frame, -2.734476576558068);\n",
                        "    shift_phase(q113_q114_xy_frame, -2.734476576558068);\n",
                        "    shift_phase(q10_q113_xy_frame, -2.734476576558068);\n",
                        "    shift_phase(q112_q113_xy_frame, -0.25*theta);\n",
                        "    shift_phase(q113_q114_xy_frame, -0.25*theta);\n",
                        "    shift_phase(q10_q113_xy_frame, -0.25*theta);\n",
                        "    shift_phase(q10_q11_xy_frame, -0.25*theta);\n",
                        "    shift_phase(q10_q17_xy_frame, -0.25*theta);\n",
                        "    shift_phase(q10_q113_xy_frame, -0.25*theta);\n",
                        "}\n"
                    ]
                }
            ],
            "source": [
                "print(pulse_sequence_xy_theta_q10_q113.to_ir())"
            ]
        },
        {
            "cell_type": "markdown",
            "metadata": {},
            "source": [
                "As you have access to a `PulseSequence` object, you can generate the time trace of this pulse sequence via the `to_time_trace` and visualize it with a plotting library like `matplotlib`. We use here a `draw` method that has been placed in a local python file. In the cell below, we draw the pulse sequence for the RX($\\pi$/2) gate applied on a qubit 0."
            ]
        },
        {
            "cell_type": "code",
            "execution_count": 8,
            "metadata": {},
            "outputs": [
                {
                    "data": {
                        "image/png": "[encoded data removed]",
                        "text/plain": [
                            "<Figure size 640x480 with 3 Axes>"
                        ]
                    },
                    "metadata": {},
                    "output_type": "display_data"
                }
            ],
            "source": [
                "pulse_sequence_rx_pi_2_q0 = calibrations.get_pulse_sequence((rx_pi_2, QubitSet(0)))\n",
                "draw(pulse_sequence_rx_pi_2_q0)"
            ]
        },
        {
            "attachments": {},
            "cell_type": "markdown",
            "metadata": {},
            "source": [
                "The fidelity of each gate is reported by Rigetti. It can be retrieved through the Braket console or programmatically through the device properties:"
            ]
        },
        {
            "cell_type": "code",
            "execution_count": 9,
            "metadata": {},
            "outputs": [
                {
                    "name": "stdout",
                    "output_type": "stream",
                    "text": [
                        "fidelity of the XY gate between qubits 10 and 113:  0.8479629110515803\n",
                        "fidelity of the XY gate between qubits 10 and 113:  0.8479629110515803\n"
                    ]
                }
            ],
            "source": [
                "# method 1\n",
                "print(f\"fidelity of the XY gate between qubits {a} and {b}: \", device.properties.provider.specs[\"2Q\"][f\"{a}-{b}\"][\"fXY\"])\n",
                "\n",
                "# method 2\n",
                "print(f\"fidelity of the XY gate between qubits {a} and {b}: \", calibrations.get_fidelity((xy_theta, QubitSet([10, 113]))))"
            ]
        },
        {
            "attachments": {},
            "cell_type": "markdown",
            "metadata": {},
            "source": [
                "# Attaching calibrations to redefine gates\n",
                "\n",
                "When submitting a circuit to Rigetti's Aspen M-3 via Braket, all the gates of your circuit will be compiled into native gates, which are ultimately replaced by these sequences of pulses. Let's consider a short example that creates the state $\\frac{|00\\rangle + |11\\rangle}{\\sqrt{2}}$. "
            ]
        },
        {
            "cell_type": "code",
            "execution_count": 10,
            "metadata": {},
            "outputs": [
                {
                    "name": "stdout",
                    "output_type": "stream",
                    "text": [
                        "T  : |   0    |1|    2    |\n",
                        "                           \n",
                        "q0 : -Rx(1.57)-C-----------\n",
                        "               |           \n",
                        "q1 : -Rx(1.57)-Z-Rx(-1.57)-\n",
                        "\n",
                        "T  : |   0    |1|    2    |\n"
                    ]
                }
            ],
            "source": [
                "bell_circuit = (\n",
                "    Circuit()\n",
                "    .rx(0,math.pi/2)\n",
                "    .rx(1,math.pi/2)\n",
                "    .cz(0,1)\n",
                "    .rx(1,-math.pi/2)\n",
                ")\n",
                "print(bell_circuit)"
            ]
        },
        {
            "cell_type": "markdown",
            "metadata": {},
            "source": [
                "This circuit is executed via the `run` method.  You are not required to specify any calibration to use the provider's calibrations: pulse scheduling will be done on the hardware provider side with default calibrations."
            ]
        },
        {
            "cell_type": "code",
            "execution_count": 11,
            "metadata": {},
            "outputs": [
                {
                    "data": {
                        "text/plain": [
                            "Text(0, 0.5, 'Population')"
                        ]
                    },
                    "execution_count": 11,
                    "metadata": {},
                    "output_type": "execute_result"
                },
                {
                    "data": {
                        "image/png": "[encoded data removed]",
                        "text/plain": [
                            "<Figure size 640x480 with 1 Axes>"
                        ]
                    },
                    "metadata": {},
                    "output_type": "display_data"
                }
            ],
            "source": [
                "nb_shots = 50\n",
                "task=device.run(bell_circuit, shots=nb_shots, disable_qubit_rewiring=True)\n",
                "\n",
                "counts = task.result().measurement_counts\n",
                "plt.bar(sorted(counts), [counts[k]/nb_shots for k in sorted(counts)])\n",
                "plt.xlabel(\"State\")\n",
                "plt.ylabel(\"Population\")"
            ]
        },
        {
            "attachments": {},
            "cell_type": "markdown",
            "metadata": {},
            "source": [
                "However, you can attach custom-made `PulseSequence`s as calibrations to modify this default behavior. Here we chose to submit one calibration that we have downloaded in one of the first cell of this notebook. You can execute again the same circuit and plot the result histogram."
            ]
        },
        {
            "cell_type": "code",
            "execution_count": 12,
            "metadata": {},
            "outputs": [
                {
                    "data": {
                        "text/plain": [
                            "Text(0, 0.5, 'Population')"
                        ]
                    },
                    "execution_count": 12,
                    "metadata": {},
                    "output_type": "execute_result"
                },
                {
                    "data": {
                        "image/png": "[encoded data removed]",
                        "text/plain": [
                            "<Figure size 640x480 with 1 Axes>"
                        ]
                    },
                    "metadata": {},
                    "output_type": "display_data"
                }
            ],
            "source": [
                "custom_calibration = GateCalibrations({(Rx(math.pi/2), QubitSet(0)): pulse_sequence_rx_pi_2_q0})\n",
                "task=device.run(bell_circuit, gate_calibrations=custom_calibration, shots=nb_shots, disable_qubit_rewiring=True)\n",
                "\n",
                "counts = task.result().measurement_counts\n",
                "plt.bar(sorted(counts), [counts[k]/nb_shots for k in sorted(counts)])\n",
                "plt.xlabel(\"State\")\n",
                "plt.ylabel(\"Population\")"
            ]
        },
        {
            "cell_type": "markdown",
            "metadata": {},
            "source": [
                "You can inspect the OpenPulse program to it is submitted by the previous cell with the `to_ir` function call on the `Circuit` objet using the custom calibration set. You can notice that a calibration definition block is now added to the program and provide the gate definition that will be used when the RX($\\pi$/2) gate is applied to qubit 0."
            ]
        },
        {
            "cell_type": "code",
            "execution_count": 13,
            "metadata": {},
            "outputs": [
                {
                    "name": "stdout",
                    "output_type": "stream",
                    "text": [
                        "OPENQASM 3.0;\n",
                        "bit[2] b;\n",
                        "qubit[2] q;\n",
                        "cal {\n",
                        "    waveform wf_drag_gaussian_1 = drag_gaussian(24.000000000000004ns, 2.5479654008640575ns, 2.6743080545793256e-10, 0.290233498642298, false);\n",
                        "}\n",
                        "defcal rx(1.5707963267948966) $0 {\n",
                        "    barrier $0;\n",
                        "    shift_frequency(q0_rf_frame, -321047.14178613486);\n",
                        "    play(q0_rf_frame, wf_drag_gaussian_1);\n",
                        "    shift_frequency(q0_rf_frame, 321047.14178613486);\n",
                        "    barrier $0;\n",
                        "}\n",
                        "rx(1.5707963267948966) q[0];\n",
                        "rx(1.5707963267948966) q[1];\n",
                        "cz q[0], q[1];\n",
                        "rx(-1.5707963267948966) q[1];\n",
                        "b[0] = measure q[0];\n",
                        "b[1] = measure q[1];\n"
                    ]
                }
            ],
            "source": [
                "print(bell_circuit.to_ir(IRType.OPENQASM, gate_calibrations=custom_calibration).source)"
            ]
        },
        {
            "cell_type": "code",
            "execution_count": 14,
            "metadata": {},
            "outputs": [
                {
                    "name": "stdout",
                    "output_type": "stream",
                    "text": [
                        "Task Summary\n",
                        "{'arn:aws:braket:us-west-1::device/qpu/rigetti/Aspen-M-3': {'shots': 100, 'tasks': {'COMPLETED': 2}}}\n",
                        "Note: Charges shown are estimates based on your Amazon Braket simulator and quantum processing unit (QPU) task usage. Estimated charges shown may differ from your actual charges. Estimated charges do not factor in any discounts or credits, and you may experience additional charges based on your use of other services such as Amazon Elastic Compute Cloud (Amazon EC2).\n",
                        "Estimated cost to run this example: 0.635 USD\n"
                    ]
                }
            ],
            "source": [
                "print(\"Task Summary\")\n",
                "print(t.quantum_tasks_statistics())\n",
                "print('Note: Charges shown are estimates based on your Amazon Braket simulator and quantum processing unit (QPU) task usage. Estimated charges shown may differ from your actual charges. Estimated charges do not factor in any discounts or credits, and you may experience additional charges based on your use of other services such as Amazon Elastic Compute Cloud (Amazon EC2).')\n",
                "print(f\"Estimated cost to run this example: {t.qpu_tasks_cost() + t.simulator_tasks_cost():.3f} USD\")"
            ]
        },
        {
            "cell_type": "code",
            "execution_count": null,
            "metadata": {},
            "outputs": [],
            "source": []
        }
    ],
    "metadata": {
        "kernelspec": {
            "display_name": "Python 3.9.14",
            "language": "python",
            "name": "python3"
        },
        "language_info": {
            "codemirror_mode": {
                "name": "ipython",
                "version": 3
            },
            "file_extension": ".py",
            "mimetype": "text/x-python",
            "name": "python",
            "nbconvert_exporter": "python",
            "pygments_lexer": "ipython3",
            "version": "3.10.12"
        },
        "vscode": {
            "interpreter": {
                "hash": "e8fe7b1d737818ec041fd05b4c8bbd1804e351a931e38c7cd860a34c69554183"
            }
        }
    },
    "nbformat": 4,
    "nbformat_minor": 2
}