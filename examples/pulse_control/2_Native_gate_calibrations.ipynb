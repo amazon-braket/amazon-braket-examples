{
    "cells": [
        {
            "attachments": {},
            "cell_type": "markdown",
            "metadata": {},
            "source": [
                "# Accessing the pulse implementation of native gates\n",
                "All gates are implemented with a sequence of pulses that are carefully calibrated by quantum hardware providers. In this notebook, we will show how to:\n",
                "- Retrieve the calibrations for any particular native gate of interest and\n",
                "- Submit a circuit where we will overwrite the provider's calibrations and use our modified ones.\n",
                "\n",
                "These calibrations are vended as PulseSequence objects and contain a list of low-level instructions that are executed for that gate. Obtaining accurate sequences used by the provider offers many advantages. First, it is one of the best ways to understand how quantum computers work at the most fundamental level. Second, it also allows you to improve the results of your circuits by deploying error mitigation techniques such as zero noise extrapolation, by stretching all the pulses of specific gates. \n",
                "\n",
                "Native gate calibrations are only available on a subset of devices that have pulse support on Braket.\n",
                "\n",
                "First, we will start by initializing a cost tracker and import some libraries."
            ]
        },
        {
            "cell_type": "code",
            "execution_count": 11,
            "metadata": {},
            "outputs": [],
            "source": [
                "# Use Braket SDK Cost Tracking to estimate the cost to run this example\n",
                "from braket.tracking import Tracker\n",
                "t = Tracker().start()"
            ]
        },
        {
            "cell_type": "code",
            "execution_count": 12,
            "metadata": {},
            "outputs": [],
            "source": [
                "%matplotlib inline\n",
                "\n",
                "from braket.aws import AwsDevice\n",
                "from braket.parametric import FreeParameter\n",
                "from braket.circuits import Circuit, GateCalibrations, QubitSet\n",
                "from braket.circuits.gates import Rx, XY\n",
                "from braket.circuits.serialization import IRType\n",
                "\n",
                "import math\n",
                "from utils.draw_pulse_sequence import draw\n",
                "import matplotlib.pyplot as plt"
            ]
        },
        {
            "attachments": {},
            "cell_type": "markdown",
            "metadata": {},
            "source": [
                "Calibrations are associated with a device so we will need to instantiate an AWS device."
            ]
        },
        {
            "cell_type": "code",
            "execution_count": 13,
            "metadata": {},
            "outputs": [],
            "source": [
                "device = AwsDevice(\"arn:aws:braket:us-west-1::device/qpu/rigetti/Aspen-M-3\")"
            ]
        },
        {
            "attachments": {},
            "cell_type": "markdown",
            "metadata": {},
            "source": [
                "Calibrations are accessible via the `gate_calibrations` property of the device object. The calibrations are downloaded and cached when the property is first referenced. In case the device does not support this feature, the `gate_calibrations` property returns `None`."
            ]
        },
        {
            "cell_type": "code",
            "execution_count": 14,
            "metadata": {},
            "outputs": [
                {
                    "name": "stdout",
                    "output_type": "stream",
                    "text": [
                        "The number of pulse implementations in the calibration file is 925.\n"
                    ]
                }
            ],
            "source": [
                "calibrations = device.gate_calibrations\n",
                "print(f\"The number of pulse implementations in the calibration file is {len(calibrations)}.\")"
            ]
        },
        {
            "attachments": {},
            "cell_type": "markdown",
            "metadata": {},
            "source": [
                "To refresh the calibration cache, you can run the following method:"
            ]
        },
        {
            "cell_type": "code",
            "execution_count": 5,
            "metadata": {},
            "outputs": [],
            "source": [
                "calibrations = device.refresh_gate_calibrations()"
            ]
        },
        {
            "attachments": {},
            "cell_type": "markdown",
            "metadata": {},
            "source": [
                "Retrieving a gate in particular can be done by passing the `Gate` object (instantiating with a numerical value or a `FreeParameter` if necessary) and the qubit of interest to `get_pulse_sequence`. A list of parameters can be obtained via the `parameters` attribute. These parameters can be assigned by passing values when calling the pulse sequence."
            ]
        },
        {
            "cell_type": "code",
            "execution_count": 15,
            "metadata": {},
            "outputs": [
                {
                    "name": "stdout",
                    "output_type": "stream",
                    "text": [
                        "The XY pulse sequence is parametrized by the following parameter(s): {theta}\n"
                    ]
                }
            ],
            "source": [
                "xy_theta = XY(FreeParameter(\"theta\"))\n",
                "rx_pi_2 = Rx(math.pi/2)\n",
                "\n",
                "a=10\n",
                "b=113\n",
                "pulse_sequence_xy_theta_q10_q113 = calibrations.pulse_sequences[(xy_theta, QubitSet([a, b]))]\n",
                "\n",
                "print(\"The XY pulse sequence is parametrized by the following parameter(s):\", pulse_sequence_xy_theta_q10_q113.parameters)\n",
                "pulse_sequence_xy_theta_q10_q113_theta0 = pulse_sequence_xy_theta_q10_q113(theta=0)"
            ]
        },
        {
            "cell_type": "markdown",
            "metadata": {},
            "source": [
                "You can inspect a calibration by printing it as a OpenPulse program via the `to_ir` function:"
            ]
        },
        {
            "cell_type": "code",
            "execution_count": 7,
            "metadata": {},
            "outputs": [
                {
                    "name": "stdout",
                    "output_type": "stream",
                    "text": [
                        "OPENQASM 3.0;\n",
                        "cal {\n",
                        "    waveform q10_q113_xy_sqrtiSWAP = {0.0, 0.0, 0.0, 0.0, 0.0, 0.0, 0.0, 0.0, 0.00014541685405210252 + 0.0001368947337514975im, 5.27168740762584e-05 - 0.0008196893598915583im, -0.00233028318377086 + 0.0016875456563045946im, 0.00833304138969376 + 0.0021546900066587967im, -0.00935936703726906 - 0.019985931298036774im, -0.02083600454269259 + 0.044048501055117865im, 0.09035201388865625 - 0.022989890863595576im, -0.12587726712873387 - 0.09190243141131332im, 0.013882122023315948 + 0.22972643568219653im, 0.22247098806047766 - 0.20781535812529006im, -0.36403602369051563 - 0.04701914859910358im, 0.21950371956115167 + 0.3481411813369144im, 0.136707512404279 - 0.4163528285104817im, -0.42050325949365486 + 0.1649100934710594im, 0.40008215905481376 + 0.2217243328626048im, -0.08448886839603686 - 0.4516347526827104im, -0.2945879961115033 + 0.3534146181388095im, 0.4602462732939389 + 0.0017808171281752758im, -0.29196639652210543 - 0.355832483564998im, -0.08813835614314286 + 0.4517725476531848im, 0.40431311250902685 - 0.2199967655743539im, -0.42720289382568083 - 0.17136355658560562im, 0.1402036349666298 + 0.4384184460139506im, 0.24849802722652353 - 0.3874487380631388im, -0.4569415715948331 + 0.05542737947193739im, 0.3339240223281233 + 0.31680047595349453im, 0.03131885398242463 - 0.45922426290177637im, -0.3738433298755051 + 0.2685311135791533im, 0.4451853906530345 + 0.11695196536002068im, -0.1935941802882097 - 0.4175991949357693im, -0.19842841715086934 + 0.41532391879046293im, 0.44651291782505115 - 0.11177660071690089im, -0.3707011717040563 - 0.27285240616440654im, 0.0259863022817959 + 0.4595568586651554im, 0.33757878499789795 - 0.3129031130746536im, -0.4562674149712938 - 0.06072759082887829im, 0.24398397819242731 + 0.39030707479863036im, 0.14528312839741028 - 0.43676149882461945im, -0.4291632279555281 + 0.16639326315466593im, 0.40173238163019054 + 0.22467507160831476im, -0.08288866586332841 - 0.4527662347435638im, -0.2960817040343215 + 0.3524250541442802im, 0.4602772066144344 + 0.003561926961594637im, -0.2905919775150307 - 0.3569651199436302im, -0.08988592321494748 + 0.45142919163503703im, 0.4051614255219392 - 0.21843079801506143im, -0.42653666238541577 - 0.17301523023588486im, 0.13850623918396024 + 0.4389576471136847im, 0.24999529971985326 - 0.3864843391011429im, -0.45715261304087906 + 0.053658947458580956im, 0.3326957453035143 + 0.31809013708288025im, 0.033095468937030526 - 0.4590996451624685im, -0.37487954307769045 + 0.26708261350063306im, 0.4447295428480107 + 0.11867361952289944im, -0.19197693916163533 - 0.41834513153925457im, -0.20003392018408023 + 0.4145530424785898im, 0.44694206605189735 - 0.11004809787419245im, -0.369642665060321 - 0.27428469592664084im, 0.02420797147387504 + 0.4596539659021627im, 0.3387869556240712 - 0.31159459711529025im, -0.4560290298722066 - 0.06249254488561449im, 0.24247195966395566 + 0.39124818597558625im, 0.1469719764176812 - 0.43619609397647374im, -0.4298038310890532 + 0.16473148160969828im, 0.40086005241863554 + 0.2262277892337962im, -0.08113618365431939 - 0.4530835616795265im, -0.29744310437257815 + 0.35127680356713975im, 0.46025996486169674 + 0.005342823618060205im, -0.28920853322787565 - 0.35808671312699525im, -0.09163172475058559 + 0.45107696866044655im, 0.4059971715970576 - 0.2168580865758233im, -0.42582584848393845 - 0.1746486477289103im, 0.13674741041513205 + 0.4392995851488448im, 0.25104005117458755 - 0.38482620937232986im, -0.45449799458663276 + 0.0515653633174213im, 0.32526438078311665 + 0.31340295590054207im, 0.03319965324709917 - 0.43696270410724647im, -0.3361150635606769 + 0.23750963999687508im, 0.35428164461434203 + 0.09600803700077885im, -0.12590132785122782 - 0.2771812029100192im, -0.10081821424646346 + 0.20688797992940725im, 0.15147921502399062 - 0.03667684139651614im, -0.07465485704223447 - 0.05584508765916169im, 0.002374436936058894 + 0.0486700275297077im, 0.016300987560075576 - 0.014876592545150188im, -0.008522824847103518 - 0.0012015508531637784im, 0.0015061538374486995 + 0.00245143441205681im, 0.00026527922759870756 - 0.0007773651953467159im, 0.0, 0.0, 0.0, 0.0, 0.0, 0.0, 0.0, 0.0};\n",
                        "    barrier;\n",
                        "    shift_phase(q10_q113_xy_frame, 1063.6836640872923);\n",
                        "    play(q10_q113_xy_frame, q10_q113_xy_sqrtiSWAP);\n",
                        "    shift_phase(q10_q113_xy_frame, -1063.6836640872923);\n",
                        "    shift_phase(q10_q113_xy_frame, 1065.22965996718 - 0.5*theta);\n",
                        "    play(q10_q113_xy_frame, q10_q113_xy_sqrtiSWAP);\n",
                        "    shift_phase(q10_q113_xy_frame, 0.5*theta - 1065.22965996718);\n",
                        "    delay[208.0ns] q10_rf_frame;\n",
                        "    shift_phase(q10_rf_frame, 5.341187939965668);\n",
                        "    delay[208.0ns] q113_rf_frame;\n",
                        "    shift_phase(q113_rf_frame, 5.390608546486398);\n",
                        "    shift_phase(q113_rf_frame, 0.5*theta);\n",
                        "    shift_phase(q10_rf_frame, -0.5*theta);\n",
                        "    barrier;\n",
                        "    shift_phase(q10_q11_xy_frame, 2.670593969982834);\n",
                        "    shift_phase(q10_q17_xy_frame, 2.670593969982834);\n",
                        "    shift_phase(q10_q113_xy_frame, 2.670593969982834);\n",
                        "    shift_phase(q112_q113_xy_frame, -2.695304273243199);\n",
                        "    shift_phase(q113_q114_xy_frame, -2.695304273243199);\n",
                        "    shift_phase(q10_q113_xy_frame, -2.695304273243199);\n",
                        "    shift_phase(q112_q113_xy_frame, -0.25*theta);\n",
                        "    shift_phase(q113_q114_xy_frame, -0.25*theta);\n",
                        "    shift_phase(q10_q113_xy_frame, -0.25*theta);\n",
                        "    shift_phase(q10_q11_xy_frame, -0.25*theta);\n",
                        "    shift_phase(q10_q17_xy_frame, -0.25*theta);\n",
                        "    shift_phase(q10_q113_xy_frame, -0.25*theta);\n",
                        "}\n"
                    ]
                }
            ],
            "source": [
                "print(pulse_sequence_xy_theta_q10_q113.to_ir())"
            ]
        },
        {
            "cell_type": "markdown",
            "metadata": {},
            "source": [
                "Now that you have access to a `PulseSequence` object, you can generate the time trace of this pulse sequence via the `to_time_trace` and visualize it with a plotting library like `matplotlib`. We use a `draw` method that has been placed in a local python file. In the cell below, we draw the pulse sequence for the RX($\\pi$/2) gate applied on qubit 0."
            ]
        },
        {
            "cell_type": "code",
            "execution_count": 16,
            "metadata": {},
            "outputs": [
                {
                    "data": {
                        "image/png": "[encoded data removed]",
                        "text/plain": [
                            "<Figure size 640x480 with 3 Axes>"
                        ]
                    },
                    "metadata": {},
                    "output_type": "display_data"
                }
            ],
            "source": [
                "pulse_sequence_rx_pi_2_q0 = calibrations.pulse_sequences[(rx_pi_2, QubitSet(0))]\n",
                "draw(pulse_sequence_rx_pi_2_q0)"
            ]
        },
        {
            "attachments": {},
            "cell_type": "markdown",
            "metadata": {},
            "source": [
                "The fidelity of each gate is reported by Rigetti. It can be retrieved through the Braket console or programmatically through the device properties:"
            ]
        },
        {
            "cell_type": "code",
            "execution_count": 9,
            "metadata": {},
            "outputs": [
                {
                    "name": "stdout",
                    "output_type": "stream",
                    "text": [
                        "Fidelity of the XY gate between qubits 10 and 113:  0.8208522382197806\n"
                    ]
                }
            ],
            "source": [
                "print(f\"Fidelity of the XY gate between qubits {a} and {b}: \", device.properties.provider.specs[\"2Q\"][f\"{a}-{b}\"][\"fXY\"])"
            ]
        },
        {
            "attachments": {},
            "cell_type": "markdown",
            "metadata": {},
            "source": [
                "# Attaching calibrations to redefine gates\n",
                "\n",
                "When submitting a circuit to Rigetti's Aspen M-3 via Braket, all the gates in your circuit will be compiled into native gates, which are ultimately replaced by these sequences of pulses. Let's consider a short example that creates the state $\\frac{|00\\rangle + |11\\rangle}{\\sqrt{2}}$. "
            ]
        },
        {
            "cell_type": "code",
            "execution_count": 10,
            "metadata": {},
            "outputs": [
                {
                    "name": "stdout",
                    "output_type": "stream",
                    "text": [
                        "T  : |   0    |1|    2    |\n",
                        "                           \n",
                        "q0 : -Rx(1.57)-C-----------\n",
                        "               |           \n",
                        "q1 : -Rx(1.57)-Z-Rx(-1.57)-\n",
                        "\n",
                        "T  : |   0    |1|    2    |\n"
                    ]
                }
            ],
            "source": [
                "bell_circuit = (\n",
                "    Circuit()\n",
                "    .rx(0,math.pi/2)\n",
                "    .rx(1,math.pi/2)\n",
                "    .cz(0,1)\n",
                "    .rx(1,-math.pi/2)\n",
                ")\n",
                "print(bell_circuit)"
            ]
        },
        {
            "cell_type": "markdown",
            "metadata": {},
            "source": [
                "This circuit is executed via the `run` method.  You are not required to specify any calibration to use the provider's calibrations: pulse scheduling will be done on the hardware provider side with default calibrations."
            ]
        },
        {
            "cell_type": "code",
            "execution_count": 11,
            "metadata": {},
            "outputs": [
                {
                    "data": {
                        "text/plain": [
                            "Text(0, 0.5, 'Population')"
                        ]
                    },
                    "execution_count": 11,
                    "metadata": {},
                    "output_type": "execute_result"
                },
                {
                    "data": {
                        "image/png": "[encoded data removed]",
                        "text/plain": [
                            "<Figure size 640x480 with 1 Axes>"
                        ]
                    },
                    "metadata": {},
                    "output_type": "display_data"
                }
            ],
            "source": [
                "nb_shots = 50\n",
                "task=device.run(bell_circuit, shots=nb_shots, disable_qubit_rewiring=True)\n",
                "\n",
                "counts = task.result().measurement_counts\n",
                "plt.bar(sorted(counts), [counts[k]/nb_shots for k in sorted(counts)])\n",
                "plt.xlabel(\"State\")\n",
                "plt.ylabel(\"Population\")"
            ]
        },
        {
            "attachments": {},
            "cell_type": "markdown",
            "metadata": {},
            "source": [
                "You can attach custom-made `PulseSequence`s as calibrations to modify this default behavior. Here we chose to submit one calibration that we downloaded in one of the first cell of this notebook. You can execute again the same circuit and plot the result histogram."
            ]
        },
        {
            "cell_type": "code",
            "execution_count": 12,
            "metadata": {},
            "outputs": [
                {
                    "data": {
                        "text/plain": [
                            "Text(0, 0.5, 'Population')"
                        ]
                    },
                    "execution_count": 12,
                    "metadata": {},
                    "output_type": "execute_result"
                },
                {
                    "data": {
                        "image/png": "[encoded data removed]",
                        "text/plain": [
                            "<Figure size 640x480 with 1 Axes>"
                        ]
                    },
                    "metadata": {},
                    "output_type": "display_data"
                }
            ],
            "source": [
                "custom_calibration = GateCalibrations({(Rx(math.pi/2), QubitSet(0)): pulse_sequence_rx_pi_2_q0})\n",
                "task=device.run(bell_circuit, gate_definitions=custom_calibration.pulse_sequences, shots=nb_shots, disable_qubit_rewiring=True)\n",
                "\n",
                "counts = task.result().measurement_counts\n",
                "plt.bar(sorted(counts), [counts[k]/nb_shots for k in sorted(counts)])\n",
                "plt.xlabel(\"State\")\n",
                "plt.ylabel(\"Population\")"
            ]
        },
        {
            "cell_type": "markdown",
            "metadata": {},
            "source": [
                "You can inspect the OpenPulse program submitted by the previous cell with the `to_ir` function call on the `Circuit` object using the custom calibration set. You can notice that a calibration definition block is now added to the program and provide the gate definition that will be used when the RX($\\pi$/2) gate is applied to qubit 0."
            ]
        },
        {
            "cell_type": "code",
            "execution_count": 13,
            "metadata": {},
            "outputs": [
                {
                    "name": "stdout",
                    "output_type": "stream",
                    "text": [
                        "OPENQASM 3.0;\n",
                        "bit[2] b;\n",
                        "qubit[2] q;\n",
                        "cal {\n",
                        "    waveform wf_drag_gaussian_1 = drag_gaussian(24.000000000000004ns, 2.5479654008640575ns, 2.6036877080143343e-10, 0.298271985547949, false);\n",
                        "}\n",
                        "defcal rx(1.5707963267948966) $0 {\n",
                        "    barrier $0;\n",
                        "    shift_frequency(q0_rf_frame, -321047.14178613486);\n",
                        "    play(q0_rf_frame, wf_drag_gaussian_1);\n",
                        "    shift_frequency(q0_rf_frame, 321047.14178613486);\n",
                        "    barrier $0;\n",
                        "}\n",
                        "rx(1.5707963267948966) q[0];\n",
                        "rx(1.5707963267948966) q[1];\n",
                        "cz q[0], q[1];\n",
                        "rx(-1.5707963267948966) q[1];\n",
                        "b[0] = measure q[0];\n",
                        "b[1] = measure q[1];\n"
                    ]
                }
            ],
            "source": [
                "print(bell_circuit.to_ir(IRType.OPENQASM, gate_definitions=custom_calibration.pulse_sequences).source)"
            ]
        },
        {
            "cell_type": "markdown",
            "metadata": {},
            "source": [
                "## Warning: supplying input parameter values when submitting parametric pulse program is currently not possible.\n",
                "This limitation includes:\n",
                "- executing circuits with custom gate definitions or\n",
                "- circuits containing `pulse_gate`s \n",
                "by calling the `device.run` function with an `inputs` arguments.\n",
                "\n",
                "For now, you must assign values to each parameter of your circuit before submitting it to Braket as demonstrated in the next cell:"
            ]
        },
        {
            "cell_type": "code",
            "execution_count": null,
            "metadata": {},
            "outputs": [],
            "source": [
                "lambda_ = FreeParameter(\"lambda_\")\n",
                "theta = FreeParameter(\"theta\")\n",
                "phi = FreeParameter(\"phi\")\n",
                "\n",
                "drive_frame = device.frames[\"q0_rf_frame\"]\n",
                "x90 = pulse_sequence_rx_pi_2_q0._waveforms[\"wf_drag_gaussian_1\"]\n",
                "\n",
                "U_sequence = (\n",
                "    PulseSequence()\n",
                "    .shift_phase(drive_frame, math.pi/2 - lambda_)\n",
                "    .play(drive_frame, x90)\n",
                "    .shift_phase(drive_frame, theta - math.pi)\n",
                "    .play(drive_frame, x90)\n",
                "    .shift_phase(drive_frame, math.pi/2 - phi)\n",
                ")\n",
                "\n",
                "parametric_circuit = Circuit().pulse_gate(0, U_sequence)\n",
                "task = device.run(parametric_circuit(theta=math.pi / 2, phi=0, lambda_=0), shots=nb_shots)\n",
                "\n",
                "counts = task.result().measurement_counts\n",
                "plt.bar(sorted(counts), [counts[k] / nb_shots for k in sorted(counts)])\n",
                "plt.xlabel(\"State\")\n",
                "plt.ylabel(\"Population\")\n"
            ]
        },
        {
            "cell_type": "code",
            "execution_count": 14,
            "metadata": {},
            "outputs": [
                {
                    "name": "stdout",
                    "output_type": "stream",
                    "text": [
                        "Task Summary\n",
                        "{'arn:aws:braket:us-west-1::device/qpu/rigetti/Aspen-M-3': {'shots': 100, 'tasks': {'COMPLETED': 2}}}\n",
                        "Note: Charges shown are estimates based on your Amazon Braket simulator and quantum processing unit (QPU) task usage. Estimated charges shown may differ from your actual charges. Estimated charges do not factor in any discounts or credits, and you may experience additional charges based on your use of other services such as Amazon Elastic Compute Cloud (Amazon EC2).\n",
                        "Estimated cost to run this example: 0.635 USD\n"
                    ]
                }
            ],
            "source": [
                "print(\"Task Summary\")\n",
                "print(t.quantum_tasks_statistics())\n",
                "print('Note: Charges shown are estimates based on your Amazon Braket simulator and quantum processing unit (QPU) task usage. Estimated charges shown may differ from your actual charges. Estimated charges do not factor in any discounts or credits, and you may experience additional charges based on your use of other services such as Amazon Elastic Compute Cloud (Amazon EC2).')\n",
                "print(f\"Estimated cost to run this example: {t.qpu_tasks_cost() + t.simulator_tasks_cost():.3f} USD\")"
            ]
        },
        {
            "cell_type": "code",
            "execution_count": null,
            "metadata": {},
            "outputs": [],
            "source": []
        }
    ],
    "metadata": {
        "kernelspec": {
            "display_name": "Python 3.9.14",
            "language": "python",
            "name": "python3"
        },
        "language_info": {
            "codemirror_mode": {
                "name": "ipython",
                "version": 3
            },
            "file_extension": ".py",
            "mimetype": "text/x-python",
            "name": "python",
            "nbconvert_exporter": "python",
            "pygments_lexer": "ipython3",
            "version": "3.10.12"
        },
        "vscode": {
            "interpreter": {
                "hash": "e8fe7b1d737818ec041fd05b4c8bbd1804e351a931e38c7cd860a34c69554183"
            }
        }
    },
    "nbformat": 4,
    "nbformat_minor": 2
}
