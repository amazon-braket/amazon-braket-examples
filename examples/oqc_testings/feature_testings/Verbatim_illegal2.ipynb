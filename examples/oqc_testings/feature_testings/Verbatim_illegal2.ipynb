{
 "cells": [
  {
   "cell_type": "markdown",
   "metadata": {},
   "source": [
    "# Verbatim mode (unsupported behavior)"
   ]
  },
  {
   "cell_type": "code",
   "execution_count": 6,
   "metadata": {},
   "outputs": [],
   "source": [
    "from braket.circuits import Circuit, Observable, Gate, Noise\n",
    "from braket.aws import AwsDevice\n",
    "import numpy as np\n",
    "import datetime"
   ]
  },
  {
   "cell_type": "code",
   "execution_count": 7,
   "metadata": {},
   "outputs": [],
   "source": [
    "now = datetime.datetime.now().strftime('%y%m%d%H%M%S')\n",
    "my_bucket = \"amazon-braket-hardware-testing\" # the name of the bucket\n",
    "my_prefix = \"oqc-verbatim-\" + now # the name of the folder in the bucket\n",
    "s3_folder = (my_bucket, my_prefix)\n",
    "\n",
    "# device = AwsDevice(\"arn:aws:braket:us-west-1::device/qpu/rigetti/Aspen-M-1\")\n",
    "# device = AwsDevice(\"arn:aws:braket:::device/qpu/rigetti/Aspen-11\")\n",
    "device = AwsDevice(\"arn:aws:braket:eu-west-2::device/qpu/oqc/Lucy\")"
   ]
  },
  {
   "cell_type": "code",
   "execution_count": 8,
   "metadata": {},
   "outputs": [
    {
     "name": "stdout",
     "output_type": "stream",
     "text": [
      "ECR\n",
      "I\n",
      "RZ\n",
      "SX\n",
      "X\n"
     ]
    }
   ],
   "source": [
    "# Available gates\n",
    "for gate in device.properties.paradigm.nativeGateSet:\n",
    "    print(gate)"
   ]
  },
  {
   "cell_type": "code",
   "execution_count": 11,
   "metadata": {},
   "outputs": [
    {
     "name": "stdout",
     "output_type": "stream",
     "text": [
      "T  : |      0      | 1 |     2     |\n",
      "                                    \n",
      "q0 : -StartVerbatim-ECR-EndVerbatim-\n",
      "      |             |   |           \n",
      "q1 : -*************-ECR-***********-\n",
      "\n",
      "T  : |      0      | 1 |     2     |\n",
      "Counter({'00': 81, '01': 18, '10': 1})\n"
     ]
    }
   ],
   "source": [
    "verbatim_circ = Circuit().ecr(0,1)\n",
    "circ = Circuit().add_verbatim_box(verbatim_circ)\n",
    "print(circ)\n",
    "result = device.run(circ, s3_folder, shots=100, disable_qubit_rewiring=True).result()\n",
    "print(result.measurement_counts)"
   ]
  },
  {
   "cell_type": "code",
   "execution_count": null,
   "metadata": {},
   "outputs": [
    {
     "name": "stdout",
     "output_type": "stream",
     "text": [
      "T  : |      0      | 1 |     2     |\n",
      "                                    \n",
      "q1 : -StartVerbatim-ECR-EndVerbatim-\n",
      "      |             |   |           \n",
      "q2 : -*************-ECR-***********-\n",
      "\n",
      "T  : |      0      | 1 |     2     |\n"
     ]
    }
   ],
   "source": [
    "# this cell should fail because ECR does not support both direction\n",
    "verbatim_circ = Circuit().ecr(1,2)\n",
    "circ = Circuit().add_verbatim_box(verbatim_circ)\n",
    "print(circ)\n",
    "result = device.run(circ, s3_folder, shots=100, disable_qubit_rewiring=True).result()"
   ]
  },
  {
   "cell_type": "code",
   "execution_count": null,
   "metadata": {},
   "outputs": [],
   "source": []
  }
 ],
 "metadata": {
  "instance_type": "ml.t3.medium",
  "kernelspec": {
   "display_name": "Python 3 (ipykernel)",
   "language": "python",
   "name": "python3"
  },
  "language_info": {
   "codemirror_mode": {
    "name": "ipython",
    "version": 3
   },
   "file_extension": ".py",
   "mimetype": "text/x-python",
   "name": "python",
   "nbconvert_exporter": "python",
   "pygments_lexer": "ipython3",
   "version": "3.9.7"
  }
 },
 "nbformat": 4,
 "nbformat_minor": 4
}
