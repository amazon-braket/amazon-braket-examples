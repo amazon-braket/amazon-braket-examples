{
 "cells": [
  {
   "cell_type": "markdown",
   "metadata": {},
   "source": [
    "# Verbatim mode"
   ]
  },
  {
   "cell_type": "code",
   "execution_count": 1,
   "metadata": {},
   "outputs": [],
   "source": [
    "from braket.circuits import Circuit, Observable, Gate, Noise\n",
    "from braket.aws import AwsDevice\n",
    "import numpy as np\n",
    "import datetime"
   ]
  },
  {
   "cell_type": "code",
   "execution_count": 3,
   "metadata": {},
   "outputs": [],
   "source": [
    "# device = AwsDevice(\"arn:aws:braket:us-west-1::device/qpu/rigetti/Aspen-M-1\")\n",
    "# device = AwsDevice(\"arn:aws:braket:::device/qpu/rigetti/Aspen-11\")\n",
    "device = AwsDevice(\"arn:aws:braket:eu-west-2::device/qpu/oqc/Lucy\")"
   ]
  },
  {
   "cell_type": "code",
   "execution_count": 4,
   "metadata": {},
   "outputs": [
    {
     "name": "stdout",
     "output_type": "stream",
     "text": [
      "ecr\n",
      "i\n",
      "rz\n",
      "v\n",
      "x\n"
     ]
    }
   ],
   "source": [
    "# Available gates\n",
    "for gate in device.properties.paradigm.nativeGateSet:\n",
    "    print(gate)"
   ]
  },
  {
   "cell_type": "code",
   "execution_count": 5,
   "metadata": {},
   "outputs": [
    {
     "name": "stdout",
     "output_type": "stream",
     "text": [
      "T  : |      0      |   1    |    2    |     3     |\n",
      "                                                   \n",
      "q0 : -StartVerbatim-Rz(3.14)-Rz(-3.14)-EndVerbatim-\n",
      "\n",
      "T  : |      0      |   1    |    2    |     3     |\n",
      "T  : |      0      |   1    |    2    |     3     | Result Types |\n",
      "                                                                  \n",
      "q0 : -StartVerbatim-Rz(3.14)-Rz(-3.14)-EndVerbatim-Expectation(X)-\n",
      "      |                                |                          \n",
      "q1 : -*************--------------------***********-Expectation(X)-\n",
      "\n",
      "T  : |      0      |   1    |    2    |     3     | Result Types |\n"
     ]
    }
   ],
   "source": [
    "# verbatim circuit \n",
    "identity = Circuit().rz(0,np.pi).rz(0,-np.pi)\n",
    "circ1 = Circuit().add_verbatim_box(identity)\n",
    "print(circ1)\n",
    "\n",
    "# verbatim circuit with observables\n",
    "identity = Circuit().rz(0,np.pi).rz(0,-np.pi)\n",
    "circ2 = Circuit().add_verbatim_box(identity)\n",
    "circ2.expectation(Observable.X(), target=[0])\n",
    "circ2.expectation(Observable.X(), target=[1])\n",
    "print(circ2)"
   ]
  },
  {
   "cell_type": "markdown",
   "metadata": {},
   "source": [
    "### Execute circuits"
   ]
  },
  {
   "cell_type": "code",
   "execution_count": 6,
   "metadata": {},
   "outputs": [
    {
     "name": "stdout",
     "output_type": "stream",
     "text": [
      "\n",
      "OPENQASM 2.0;\n",
      "include \"qelib1.inc\";\n",
      "qreg q[1];\n",
      "creg b[1];\n",
      "\n",
      "rz(3.141592653589793) q[0];\n",
      "rz(-3.141592653589793) q[0];\n",
      "measure q -> b;\n",
      "Counter({'0': 99, '1': 1})\n"
     ]
    }
   ],
   "source": [
    "# For OQC's device\n",
    "# reference: https://github.com/aws/amazon-braket-schemas-python-staging/blob/main/src/braket/task_result/oqc_metadata_v1.py\n",
    "result1 = device.run(circ1, shots=100, disable_qubit_rewiring=True).result()\n",
    "compiled_program = result1.additional_metadata.oqcMetadata.executedProgram\n",
    "print(compiled_program)\n",
    "print(result1.measurement_counts)"
   ]
  },
  {
   "cell_type": "code",
   "execution_count": 7,
   "metadata": {},
   "outputs": [
    {
     "name": "stdout",
     "output_type": "stream",
     "text": [
      "\n",
      "OPENQASM 2.0;\n",
      "include \"qelib1.inc\";\n",
      "qreg q[2];\n",
      "creg b[2];\n",
      "\n",
      "rz(3.141592653589793) q[0];\n",
      "rz(-3.141592653589793) q[0];\n",
      "h q[0];\n",
      "h q[1];\n",
      "measure q -> b;\n",
      "Counter({'01': 30, '00': 26, '11': 26, '10': 18})\n",
      "[0.12, -0.12]\n"
     ]
    }
   ],
   "source": [
    "result2 = device.run(circ2, shots=100, disable_qubit_rewiring=True).result()\n",
    "compiled_program = result2.additional_metadata.oqcMetadata.executedProgram\n",
    "print(compiled_program)\n",
    "print(result2.measurement_counts)\n",
    "print(result2.values)"
   ]
  },
  {
   "cell_type": "code",
   "execution_count": null,
   "metadata": {},
   "outputs": [],
   "source": [
    "# For Rigetti's device\n",
    "# result = device.run(circ1, s3_folder, shots=100, disable_qubit_rewiring=True).result()\n",
    "# compiled_program = result.additional_metadata.rigettiMetadata.compiledProgram\n",
    "# print(compiled_program)\n",
    "# print(result.measurement_counts)"
   ]
  }
 ],
 "metadata": {
  "instance_type": "ml.t3.medium",
  "kernelspec": {
   "display_name": "Python 3 (ipykernel)",
   "language": "python",
   "name": "python3"
  },
  "language_info": {
   "codemirror_mode": {
    "name": "ipython",
    "version": 3
   },
   "file_extension": ".py",
   "mimetype": "text/x-python",
   "name": "python",
   "nbconvert_exporter": "python",
   "pygments_lexer": "ipython3",
   "version": "3.9.7"
  }
 },
 "nbformat": 4,
 "nbformat_minor": 4
}
