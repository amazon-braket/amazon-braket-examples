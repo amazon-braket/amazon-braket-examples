{
 "cells": [
  {
   "cell_type": "markdown",
   "metadata": {},
   "source": [
    "# Verbatim mode"
   ]
  },
  {
   "cell_type": "code",
   "execution_count": 1,
   "metadata": {},
   "outputs": [],
   "source": [
    "from braket.circuits import Circuit, Observable, Gate, Noise\n",
    "from braket.aws import AwsDevice\n",
    "import numpy as np\n",
    "import datetime"
   ]
  },
  {
   "cell_type": "code",
   "execution_count": 2,
   "metadata": {},
   "outputs": [],
   "source": [
    "now = datetime.datetime.now().strftime('%y%m%d%H%M%S')\n",
    "my_bucket = \"amazon-braket-hardware-testing\" # the name of the bucket\n",
    "my_prefix = \"oqc-verbatim-\" + now # the name of the folder in the bucket\n",
    "s3_folder = (my_bucket, my_prefix)\n",
    "\n",
    "# device = AwsDevice(\"arn:aws:braket:us-west-1::device/qpu/rigetti/Aspen-M-1\")\n",
    "# device = AwsDevice(\"arn:aws:braket:::device/qpu/rigetti/Aspen-11\")\n",
    "device = AwsDevice(\"arn:aws:braket:eu-west-2::device/qpu/oqc/Lucy\")"
   ]
  },
  {
   "cell_type": "code",
   "execution_count": 3,
   "metadata": {},
   "outputs": [
    {
     "name": "stdout",
     "output_type": "stream",
     "text": [
      "rx\n",
      "rz\n",
      "cz\n",
      "cphaseshift\n",
      "xy\n"
     ]
    }
   ],
   "source": [
    "# Available gates\n",
    "for gate in device.properties.paradigm.nativeGateSet:\n",
    "    print(gate)"
   ]
  },
  {
   "cell_type": "code",
   "execution_count": 4,
   "metadata": {},
   "outputs": [
    {
     "name": "stdout",
     "output_type": "stream",
     "text": [
      "T  : |      0      |   1    |   2    |     3     |\n",
      "                                                  \n",
      "q0 : -StartVerbatim-Rx(3.14)-Rx(3.14)-EndVerbatim-\n",
      "\n",
      "T  : |      0      |   1    |   2    |     3     |\n"
     ]
    }
   ],
   "source": [
    "identity = Circuit().rz(0,np.pi).rz(0,np.pi)\n",
    "circ = Circuit().add_verbatim_box(identity)\n",
    "circ = circ.z(0)\n",
    "print(circ)"
   ]
  },
  {
   "cell_type": "markdown",
   "metadata": {},
   "source": [
    "### See result "
   ]
  },
  {
   "cell_type": "code",
   "execution_count": 5,
   "metadata": {},
   "outputs": [
    {
     "name": "stdout",
     "output_type": "stream",
     "text": [
      "DECLARE ro BIT[1]\n",
      "PRAGMA INITIAL_REWIRING \"NAIVE\"\n",
      "RX(pi) 0\n",
      "RX(pi) 0\n",
      "MEASURE 0 ro[0]\n",
      "\n",
      "Counter({'0': 99, '1': 1})\n"
     ]
    }
   ],
   "source": [
    "# For Rigetti's device\n",
    "# result = device.run(circ, s3_folder, shots=100, disable_qubit_rewiring=True).result()\n",
    "# compiled_program = result.additional_metadata.rigettiMetadata.compiledProgram\n",
    "# print(compiled_program)\n",
    "# print(result.measurement_counts)"
   ]
  },
  {
   "cell_type": "code",
   "execution_count": null,
   "metadata": {},
   "outputs": [],
   "source": [
    "# OQC\n",
    "# reference: https://github.com/aws/amazon-braket-schemas-python-staging/blob/main/src/braket/task_result/oqc_metadata_v1.py\n",
    "result = device.run(circ, s3_folder, shots=100, disable_qubit_rewiring=True).result()\n",
    "compiled_program = result.additional_metadata.OqcMetadata.executedProgram\n",
    "print(compiled_program)\n",
    "print(result.measurement_counts)"
   ]
  }
 ],
 "metadata": {
  "instance_type": "ml.t3.medium",
  "kernelspec": {
   "display_name": "python3 (braketdlsm/4)",
   "language": "python",
   "name": "python3__SAGEMAKER_INTERNAL__arn:aws:sagemaker:us-west-2:537332306153:image-version/braketdlsm/4"
  },
  "language_info": {
   "codemirror_mode": {
    "name": "ipython",
    "version": 3
   },
   "file_extension": ".py",
   "mimetype": "text/x-python",
   "name": "python",
   "nbconvert_exporter": "python",
   "pygments_lexer": "ipython3",
   "version": "3.7.10"
  }
 },
 "nbformat": 4,
 "nbformat_minor": 4
}
