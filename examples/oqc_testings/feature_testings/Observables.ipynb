{
 "cells": [
  {
   "cell_type": "markdown",
   "metadata": {},
   "source": [
    "# Apply observables"
   ]
  },
  {
   "cell_type": "code",
   "execution_count": 1,
   "metadata": {},
   "outputs": [],
   "source": [
    "import numpy as np\n",
    "import matplotlib.pyplot as plt\n",
    "%matplotlib inline\n",
    "import string\n",
    "import time\n",
    "import datetime\n",
    "\n",
    "from braket.circuits import Circuit, Gate, Instruction, circuit, Observable\n",
    "from braket.devices import LocalSimulator\n",
    "from braket.aws import AwsDevice, AwsQuantumTask"
   ]
  },
  {
   "cell_type": "code",
   "execution_count": 2,
   "metadata": {},
   "outputs": [
    {
     "name": "stdout",
     "output_type": "stream",
     "text": [
      "T  : |0|         Result Types          |\n",
      "                                        \n",
      "q0 : -H-Expectation(X@X)-Expectation(X)-\n",
      "        |                               \n",
      "q1 : -H-Expectation(X@X)-Expectation(X)-\n",
      "\n",
      "T  : |0|         Result Types          |\n"
     ]
    },
    {
     "data": {
      "text/plain": [
       "Circuit('instructions': [Instruction('operator': H('qubit_count': 1), 'target': QubitSet([Qubit(0)])), Instruction('operator': H('qubit_count': 1), 'target': QubitSet([Qubit(1)]))], 'result_types': [Expectation(observable=TensorProduct(I('qubit_count': 1), I('qubit_count': 1)), target=QubitSet([Qubit(0), Qubit(1)])), Expectation(observable=I('qubit_count': 1), target=QubitSet([Qubit(0)])), Expectation(observable=I('qubit_count': 1), target=QubitSet([Qubit(1)]))])"
      ]
     },
     "execution_count": 2,
     "metadata": {},
     "output_type": "execute_result"
    }
   ],
   "source": [
    "circ1 = Circuit().h(0).h(1)\n",
    "circ1.expectation(Observable.X() @ Observable.X(), target=[0,1])\n",
    "circ1.expectation(Observable.X(), target=[0])\n",
    "circ1.expectation(Observable.X(), target=[1])\n",
    "print(circ1)\n",
    "\n",
    "circ2 = Circuit().h(0).h(1)\n",
    "circ2.expectation(Observable.Y() @ Observable.Y(), target=[0,1])\n",
    "circ2.expectation(Observable.Y(), target=[0])\n",
    "circ2.expectation(Observable.Y(), target=[1])\n",
    "# print(circ2)\n",
    "\n",
    "circ3 = Circuit().h(0).h(1)\n",
    "circ3.expectation(Observable.Z() @ Observable.Z(), target=[0,1])\n",
    "circ3.expectation(Observable.Z(), target=[0])\n",
    "circ3.expectation(Observable.Z(), target=[1])\n",
    "# print(circ3)\n",
    "\n",
    "circ4 = Circuit().h(0).h(1)\n",
    "circ4.expectation(Observable.H() @ Observable.H(), target=[0,1])\n",
    "circ4.expectation(Observable.H(), target=[0])\n",
    "circ4.expectation(Observable.H(), target=[1])\n",
    "# print(circ4)\n",
    "\n",
    "circ5 = Circuit().h(0).h(1)\n",
    "circ5.expectation(Observable.I() @ Observable.I(), target=[0,1])\n",
    "circ5.expectation(Observable.I(), target=[0])\n",
    "circ5.expectation(Observable.I(), target=[1])\n",
    "# print(circ5)"
   ]
  },
  {
   "cell_type": "markdown",
   "metadata": {},
   "source": [
    "### Local Simulator"
   ]
  },
  {
   "cell_type": "code",
   "execution_count": 3,
   "metadata": {},
   "outputs": [
    {
     "name": "stdout",
     "output_type": "stream",
     "text": [
      "Counter({'00': 1000})\n",
      "[1.0, 1.0, 1.0]\n",
      "Counter({'11': 276, '00': 251, '10': 251, '01': 222})\n",
      "[0.054, -0.054, 0.004]\n",
      "Counter({'10': 267, '11': 254, '01': 246, '00': 233})\n",
      "[-0.026, -0.042, 0.0]\n",
      "Counter({'00': 729, '10': 128, '01': 123, '11': 20})\n",
      "[0.498, 0.704, 0.714]\n",
      "Counter({'00': 276, '11': 244, '10': 241, '01': 239})\n",
      "[1.0, 1.0, 1.0]\n"
     ]
    }
   ],
   "source": [
    "device = LocalSimulator()\n",
    "\n",
    "result1 = device.run(circ1, shots=1000).result()\n",
    "print(result1.measurement_counts)\n",
    "print(result1.values)\n",
    "\n",
    "result2 = device.run(circ2, shots=1000).result()\n",
    "print(result2.measurement_counts)\n",
    "print(result2.values)\n",
    "\n",
    "result3 = device.run(circ3, shots=1000).result()\n",
    "print(result3.measurement_counts)\n",
    "print(result3.values)\n",
    "\n",
    "result4 = device.run(circ4, shots=1000).result()\n",
    "print(result4.measurement_counts)\n",
    "print(result4.values)\n",
    "\n",
    "result5 = device.run(circ5, shots=1000).result()\n",
    "print(result5.measurement_counts)\n",
    "print(result5.values)"
   ]
  },
  {
   "cell_type": "markdown",
   "metadata": {},
   "source": [
    "## Hardware"
   ]
  },
  {
   "cell_type": "code",
   "execution_count": 4,
   "metadata": {},
   "outputs": [],
   "source": [
    "import boto3\n",
    "from braket.aws import AwsQuantumJob, AwsSession\n",
    "\n",
    "region_name = \"eu-west-2\"\n",
    "endpoint_url = \"https://5sk8cnl96i.execute-api.eu-west-2.amazonaws.com/Prod\"\n",
    "\n",
    "# region_name = \"eu-west-2\"\n",
    "# endpoint_url = \"https://braket-gamma.eu-west-2.amazonaws.com\"\n",
    "\n",
    "braket_client = boto3.client(\"braket\", region_name=region_name, endpoint_url=endpoint_url)\n",
    "aws_session = AwsSession(braket_client=braket_client)"
   ]
  },
  {
   "cell_type": "code",
   "execution_count": 5,
   "metadata": {},
   "outputs": [],
   "source": [
    "# device = AwsDevice(\"arn:aws:braket:us-west-1::device/qpu/rigetti/Aspen-M-1\")\n",
    "# device = AwsDevice(\"arn:aws:braket:::device/qpu/rigetti/Aspen-11\")\n",
    "device = AwsDevice(\"arn:aws:braket:eu-west-2::device/qpu/oqc/Lucy\",aws_session=aws_session)"
   ]
  },
  {
   "cell_type": "code",
   "execution_count": 8,
   "metadata": {},
   "outputs": [
    {
     "name": "stdout",
     "output_type": "stream",
     "text": [
      "Counter({'00': 854, '01': 130, '10': 14, '11': 2})\n",
      "[0.712, 0.968, 0.736]\n"
     ]
    }
   ],
   "source": [
    "result_hw1 = device.run(circ1, s3_folder, shots=1000).result()\n",
    "print(result_hw1.measurement_counts)\n",
    "print(result_hw1.values)"
   ]
  },
  {
   "cell_type": "code",
   "execution_count": 9,
   "metadata": {},
   "outputs": [
    {
     "name": "stdout",
     "output_type": "stream",
     "text": [
      "Counter({'01': 293, '00': 266, '10': 223, '11': 218})\n",
      "[-0.032, 0.118, -0.022]\n"
     ]
    }
   ],
   "source": [
    "result_hw2 = device.run(circ2, s3_folder, shots=1000).result()\n",
    "print(result_hw2.measurement_counts)\n",
    "print(result_hw2.values)"
   ]
  },
  {
   "cell_type": "code",
   "execution_count": 11,
   "metadata": {},
   "outputs": [
    {
     "name": "stdout",
     "output_type": "stream",
     "text": [
      "Counter({'01': 281, '10': 248, '11': 243, '00': 228})\n",
      "[-0.058, 0.018, -0.048]\n"
     ]
    }
   ],
   "source": [
    "result_hw3 = device.run(circ3, s3_folder, shots=1000).result()\n",
    "print(result_hw3.measurement_counts)\n",
    "print(result_hw3.values)"
   ]
  },
  {
   "cell_type": "code",
   "execution_count": 12,
   "metadata": {},
   "outputs": [
    {
     "name": "stdout",
     "output_type": "stream",
     "text": [
      "Counter({'00': 605, '01': 225, '10': 124, '11': 46})\n",
      "[0.302, 0.66, 0.458]\n"
     ]
    }
   ],
   "source": [
    "result_hw4 = device.run(circ4, s3_folder, shots=1000).result()\n",
    "print(result_hw4.measurement_counts)\n",
    "print(result_hw4.values)"
   ]
  },
  {
   "cell_type": "code",
   "execution_count": 13,
   "metadata": {},
   "outputs": [
    {
     "name": "stdout",
     "output_type": "stream",
     "text": [
      "Counter({'01': 288, '00': 253, '10': 237, '11': 222})\n",
      "[1.0, 1.0, 1.0]\n"
     ]
    }
   ],
   "source": [
    "result_hw5 = device.run(circ5, s3_folder, shots=1000).result()\n",
    "print(result_hw5.measurement_counts)\n",
    "print(result_hw5.values)"
   ]
  },
  {
   "cell_type": "markdown",
   "metadata": {},
   "source": [
    "## See results"
   ]
  },
  {
   "cell_type": "code",
   "execution_count": 14,
   "metadata": {},
   "outputs": [
    {
     "data": {
      "text/plain": [
       "<matplotlib.legend.Legend at 0x12955dbb0>"
      ]
     },
     "execution_count": 14,
     "metadata": {},
     "output_type": "execute_result"
    },
    {
     "data": {
      "image/png": "[encoded data removed]",
      "text/plain": [
       "<Figure size 432x288 with 1 Axes>"
      ]
     },
     "metadata": {
      "needs_background": "light"
     },
     "output_type": "display_data"
    }
   ],
   "source": [
    "plt.bar(result1.measurement_counts.keys(), result1.measurement_counts.values())\n",
    "plt.bar(result_hw1.measurement_counts.keys(), result_hw1.measurement_counts.values(), alpha=0.5)\n",
    "plt.legend(['simulator','hardware'])"
   ]
  },
  {
   "cell_type": "code",
   "execution_count": 15,
   "metadata": {},
   "outputs": [
    {
     "data": {
      "text/plain": [
       "<matplotlib.legend.Legend at 0x1294e5b20>"
      ]
     },
     "execution_count": 15,
     "metadata": {},
     "output_type": "execute_result"
    },
    {
     "data": {
      "image/png": "[encoded data removed]",
      "text/plain": [
       "<Figure size 432x288 with 1 Axes>"
      ]
     },
     "metadata": {
      "needs_background": "light"
     },
     "output_type": "display_data"
    }
   ],
   "source": [
    "plt.bar(result2.measurement_counts.keys(), result2.measurement_counts.values())\n",
    "plt.bar(result_hw2.measurement_counts.keys(), result_hw2.measurement_counts.values(), alpha=0.5)\n",
    "plt.legend(['simulator','hardware'])"
   ]
  },
  {
   "cell_type": "code",
   "execution_count": 16,
   "metadata": {},
   "outputs": [
    {
     "data": {
      "text/plain": [
       "<matplotlib.legend.Legend at 0x1295009d0>"
      ]
     },
     "execution_count": 16,
     "metadata": {},
     "output_type": "execute_result"
    },
    {
     "data": {
      "image/png": "[encoded data removed]",
      "text/plain": [
       "<Figure size 432x288 with 1 Axes>"
      ]
     },
     "metadata": {
      "needs_background": "light"
     },
     "output_type": "display_data"
    }
   ],
   "source": [
    "plt.bar(result3.measurement_counts.keys(), result3.measurement_counts.values())\n",
    "plt.bar(result_hw3.measurement_counts.keys(), result_hw3.measurement_counts.values(), alpha=0.5)\n",
    "plt.legend(['simulator','hardware'])"
   ]
  },
  {
   "cell_type": "code",
   "execution_count": 17,
   "metadata": {},
   "outputs": [
    {
     "data": {
      "text/plain": [
       "<matplotlib.legend.Legend at 0x1296f0cd0>"
      ]
     },
     "execution_count": 17,
     "metadata": {},
     "output_type": "execute_result"
    },
    {
     "data": {
      "image/png": "[encoded data removed]",
      "text/plain": [
       "<Figure size 432x288 with 1 Axes>"
      ]
     },
     "metadata": {
      "needs_background": "light"
     },
     "output_type": "display_data"
    }
   ],
   "source": [
    "plt.bar(result4.measurement_counts.keys(), result4.measurement_counts.values())\n",
    "plt.bar(result_hw4.measurement_counts.keys(), result_hw4.measurement_counts.values(), alpha=0.5)\n",
    "plt.legend(['simulator','hardware'])"
   ]
  },
  {
   "cell_type": "code",
   "execution_count": 18,
   "metadata": {},
   "outputs": [
    {
     "data": {
      "text/plain": [
       "<matplotlib.legend.Legend at 0x1297652b0>"
      ]
     },
     "execution_count": 18,
     "metadata": {},
     "output_type": "execute_result"
    },
    {
     "data": {
      "image/png": "[encoded data removed]",
      "text/plain": [
       "<Figure size 432x288 with 1 Axes>"
      ]
     },
     "metadata": {
      "needs_background": "light"
     },
     "output_type": "display_data"
    }
   ],
   "source": [
    "plt.bar(result5.measurement_counts.keys(), result5.measurement_counts.values())\n",
    "plt.bar(result_hw5.measurement_counts.keys(), result_hw5.measurement_counts.values(), alpha=0.5)\n",
    "plt.legend(['simulator','hardware'])"
   ]
  },
  {
   "cell_type": "code",
   "execution_count": null,
   "metadata": {},
   "outputs": [],
   "source": []
  }
 ],
 "metadata": {
  "instance_type": "ml.t3.medium",
  "kernelspec": {
   "display_name": "Python 3 (ipykernel)",
   "language": "python",
   "name": "python3"
  },
  "language_info": {
   "codemirror_mode": {
    "name": "ipython",
    "version": 3
   },
   "file_extension": ".py",
   "mimetype": "text/x-python",
   "name": "python",
   "nbconvert_exporter": "python",
   "pygments_lexer": "ipython3",
   "version": "3.9.7"
  }
 },
 "nbformat": 4,
 "nbformat_minor": 4
}
