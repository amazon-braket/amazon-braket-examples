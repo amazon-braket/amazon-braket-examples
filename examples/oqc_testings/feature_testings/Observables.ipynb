{
 "cells": [
  {
   "cell_type": "markdown",
   "metadata": {},
   "source": [
    "# Apply observables"
   ]
  },
  {
   "cell_type": "code",
   "execution_count": 4,
   "metadata": {},
   "outputs": [],
   "source": [
    "import numpy as np\n",
    "import matplotlib.pyplot as plt\n",
    "%matplotlib inline\n",
    "import string\n",
    "import time\n",
    "import datetime\n",
    "\n",
    "from braket.circuits import Circuit, Gate, Instruction, circuit, Observable\n",
    "from braket.devices import LocalSimulator\n",
    "from braket.aws import AwsDevice, AwsQuantumTask"
   ]
  },
  {
   "cell_type": "code",
   "execution_count": 19,
   "metadata": {},
   "outputs": [
    {
     "name": "stdout",
     "output_type": "stream",
     "text": [
      "T  : |0|         Result Types          |\n",
      "                                        \n",
      "q0 : -H-Expectation(X@X)-Expectation(X)-\n",
      "        |                               \n",
      "q1 : -H-Expectation(X@X)-Expectation(X)-\n",
      "\n",
      "T  : |0|         Result Types          |\n"
     ]
    },
    {
     "data": {
      "text/plain": [
       "Circuit('instructions': [Instruction('operator': H('qubit_count': 1), 'target': QubitSet([Qubit(0)])), Instruction('operator': H('qubit_count': 1), 'target': QubitSet([Qubit(1)]))], 'result_types': [Expectation(observable=TensorProduct(I('qubit_count': 1), I('qubit_count': 1)), target=QubitSet([Qubit(0), Qubit(1)])), Expectation(observable=I('qubit_count': 1), target=QubitSet([Qubit(0)])), Expectation(observable=I('qubit_count': 1), target=QubitSet([Qubit(1)]))])"
      ]
     },
     "execution_count": 19,
     "metadata": {},
     "output_type": "execute_result"
    }
   ],
   "source": [
    "circ1 = Circuit().h(0).h(1)\n",
    "circ1.expectation(Observable.X() @ Observable.X(), target=[0,1])\n",
    "circ1.expectation(Observable.X(), target=[0])\n",
    "circ1.expectation(Observable.X(), target=[1])\n",
    "print(circ1)\n",
    "\n",
    "circ2 = Circuit().h(0).h(1)\n",
    "circ2.expectation(Observable.Y() @ Observable.Y(), target=[0,1])\n",
    "circ2.expectation(Observable.Y(), target=[0])\n",
    "circ2.expectation(Observable.Y(), target=[1])\n",
    "# print(circ2)\n",
    "\n",
    "circ3 = Circuit().h(0).h(1)\n",
    "circ3.expectation(Observable.Z() @ Observable.Z(), target=[0,1])\n",
    "circ3.expectation(Observable.Z(), target=[0])\n",
    "circ3.expectation(Observable.Z(), target=[1])\n",
    "# print(circ3)\n",
    "\n",
    "circ4 = Circuit().h(0).h(1)\n",
    "circ4.expectation(Observable.H() @ Observable.H(), target=[0,1])\n",
    "circ4.expectation(Observable.H(), target=[0])\n",
    "circ4.expectation(Observable.H(), target=[1])\n",
    "# print(circ4)\n",
    "\n",
    "circ5 = Circuit().h(0).h(1)\n",
    "circ5.expectation(Observable.I() @ Observable.I(), target=[0,1])\n",
    "circ5.expectation(Observable.I(), target=[0])\n",
    "circ5.expectation(Observable.I(), target=[1])\n",
    "# print(circ5)"
   ]
  },
  {
   "cell_type": "markdown",
   "metadata": {},
   "source": [
    "### Local Simulator"
   ]
  },
  {
   "cell_type": "code",
   "execution_count": 20,
   "metadata": {},
   "outputs": [
    {
     "name": "stdout",
     "output_type": "stream",
     "text": [
      "Counter({'00': 1000})\n",
      "[1.0, 1.0, 1.0]\n",
      "Counter({'11': 253, '00': 253, '01': 251, '10': 243})\n",
      "[0.012, 0.008, -0.008]\n",
      "Counter({'11': 259, '01': 255, '10': 249, '00': 237})\n",
      "[-0.008, -0.016, -0.028]\n",
      "Counter({'00': 718, '01': 139, '10': 132, '11': 11})\n",
      "[0.458, 0.714, 0.7]\n",
      "Counter({'11': 268, '01': 248, '10': 244, '00': 240})\n",
      "[1.0, 1.0, 1.0]\n"
     ]
    }
   ],
   "source": [
    "device = LocalSimulator()\n",
    "\n",
    "result1 = device.run(circ1, shots=1000).result()\n",
    "print(result1.measurement_counts)\n",
    "print(result1.values)\n",
    "\n",
    "result2 = device.run(circ2, shots=1000).result()\n",
    "print(result2.measurement_counts)\n",
    "print(result2.values)\n",
    "\n",
    "result3 = device.run(circ3, shots=1000).result()\n",
    "print(result3.measurement_counts)\n",
    "print(result3.values)\n",
    "\n",
    "result4 = device.run(circ4, shots=1000).result()\n",
    "print(result4.measurement_counts)\n",
    "print(result4.values)\n",
    "\n",
    "result5 = device.run(circ5, shots=1000).result()\n",
    "print(result5.measurement_counts)\n",
    "print(result5.values)"
   ]
  },
  {
   "cell_type": "markdown",
   "metadata": {},
   "source": [
    "## Hardware"
   ]
  },
  {
   "cell_type": "code",
   "execution_count": 10,
   "metadata": {},
   "outputs": [],
   "source": [
    "import boto3\n",
    "from braket.aws import AwsQuantumJob, AwsSession\n",
    "\n",
    "region_name = \"eu-west-2\"\n",
    "endpoint_url = \"https://5sk8cnl96i.execute-api.eu-west-2.amazonaws.com/Prod\"\n",
    "\n",
    "# region_name = \"eu-west-2\"\n",
    "# endpoint_url = \"https://braket-gamma.eu-west-2.amazonaws.com\"\n",
    "\n",
    "braket_client = boto3.client(\"braket\", region_name=region_name, endpoint_url=endpoint_url)\n",
    "aws_session = AwsSession(braket_client=braket_client)"
   ]
  },
  {
   "cell_type": "code",
   "execution_count": 11,
   "metadata": {},
   "outputs": [],
   "source": [
    "# device = AwsDevice(\"arn:aws:braket:us-west-1::device/qpu/rigetti/Aspen-M-1\")\n",
    "# device = AwsDevice(\"arn:aws:braket:::device/qpu/rigetti/Aspen-11\")\n",
    "device = AwsDevice(\"arn:aws:braket:eu-west-2::device/qpu/oqc/Lucy\",aws_session=aws_session)"
   ]
  },
  {
   "cell_type": "code",
   "execution_count": 12,
   "metadata": {},
   "outputs": [],
   "source": [
    "now = datetime.datetime.now().strftime('%y%m%d%H%M%S')\n",
    "my_bucket = \"amazon-braket-hardware-testing\" # the name of the bucket\n",
    "my_prefix = \"OQC-obs-\" + now # the name of the folder in the bucket\n",
    "s3_folder = (my_bucket, my_prefix)"
   ]
  },
  {
   "cell_type": "code",
   "execution_count": 13,
   "metadata": {},
   "outputs": [
    {
     "name": "stdout",
     "output_type": "stream",
     "text": [
      "Counter({'00': 844, '01': 132, '10': 18, '11': 6})\n",
      "[0.7, 0.952, 0.724]\n"
     ]
    }
   ],
   "source": [
    "result_hw1 = device.run(circ1, s3_folder, shots=1000).result()\n",
    "print(result_hw1.measurement_counts)\n",
    "print(result_hw1.values)"
   ]
  },
  {
   "cell_type": "code",
   "execution_count": 15,
   "metadata": {},
   "outputs": [
    {
     "name": "stderr",
     "output_type": "stream",
     "text": [
      "Task is in terminal state FAILED and no result is available.\n",
      "Task failure reason is: Gates [s] are currently unable to be used..\n"
     ]
    },
    {
     "ename": "AttributeError",
     "evalue": "'NoneType' object has no attribute 'measurement_counts'",
     "output_type": "error",
     "traceback": [
      "\u001b[0;31m---------------------------------------------------------------------------\u001b[0m",
      "\u001b[0;31mAttributeError\u001b[0m                            Traceback (most recent call last)",
      "\u001b[0;32m<ipython-input-15-f922056766ac>\u001b[0m in \u001b[0;36m<module>\u001b[0;34m\u001b[0m\n\u001b[1;32m      1\u001b[0m \u001b[0mresult_hw2\u001b[0m \u001b[0;34m=\u001b[0m \u001b[0mdevice\u001b[0m\u001b[0;34m.\u001b[0m\u001b[0mrun\u001b[0m\u001b[0;34m(\u001b[0m\u001b[0mcirc2\u001b[0m\u001b[0;34m,\u001b[0m \u001b[0ms3_folder\u001b[0m\u001b[0;34m,\u001b[0m \u001b[0mshots\u001b[0m\u001b[0;34m=\u001b[0m\u001b[0;36m1000\u001b[0m\u001b[0;34m)\u001b[0m\u001b[0;34m.\u001b[0m\u001b[0mresult\u001b[0m\u001b[0;34m(\u001b[0m\u001b[0;34m)\u001b[0m\u001b[0;34m\u001b[0m\u001b[0;34m\u001b[0m\u001b[0m\n\u001b[0;32m----> 2\u001b[0;31m \u001b[0mprint\u001b[0m\u001b[0;34m(\u001b[0m\u001b[0mresult_hw2\u001b[0m\u001b[0;34m.\u001b[0m\u001b[0mmeasurement_counts\u001b[0m\u001b[0;34m)\u001b[0m\u001b[0;34m\u001b[0m\u001b[0;34m\u001b[0m\u001b[0m\n\u001b[0m\u001b[1;32m      3\u001b[0m \u001b[0mprint\u001b[0m\u001b[0;34m(\u001b[0m\u001b[0mresult_hw2\u001b[0m\u001b[0;34m.\u001b[0m\u001b[0mvalues\u001b[0m\u001b[0;34m)\u001b[0m\u001b[0;34m\u001b[0m\u001b[0;34m\u001b[0m\u001b[0m\n",
      "\u001b[0;31mAttributeError\u001b[0m: 'NoneType' object has no attribute 'measurement_counts'"
     ]
    }
   ],
   "source": [
    "result_hw2 = device.run(circ2, s3_folder, shots=1000).result()\n",
    "print(result_hw2.measurement_counts)\n",
    "print(result_hw2.values)"
   ]
  },
  {
   "cell_type": "code",
   "execution_count": 16,
   "metadata": {},
   "outputs": [
    {
     "name": "stdout",
     "output_type": "stream",
     "text": [
      "Counter({'00': 635, '01': 227, '10': 96, '11': 42})\n",
      "[0.354, 0.724, 0.462]\n"
     ]
    }
   ],
   "source": [
    "result_hw3 = device.run(circ3, s3_folder, shots=1000).result()\n",
    "print(result_hw3.measurement_counts)\n",
    "print(result_hw3.values)"
   ]
  },
  {
   "cell_type": "code",
   "execution_count": null,
   "metadata": {},
   "outputs": [],
   "source": [
    "result_hw4 = device.run(circ4, s3_folder, shots=1000).result()\n",
    "print(result_hw4.measurement_counts)\n",
    "print(result_hw4.values)"
   ]
  },
  {
   "cell_type": "code",
   "execution_count": null,
   "metadata": {},
   "outputs": [],
   "source": [
    "result_hw5 = device.run(circ5, s3_folder, shots=1000).result()\n",
    "print(result_hw5.measurement_counts)\n",
    "print(result_hw5.values)"
   ]
  },
  {
   "cell_type": "markdown",
   "metadata": {},
   "source": [
    "## See results"
   ]
  },
  {
   "cell_type": "code",
   "execution_count": 29,
   "metadata": {},
   "outputs": [
    {
     "data": {
      "text/plain": [
       "<matplotlib.legend.Legend at 0x7fb621387bd0>"
      ]
     },
     "execution_count": 29,
     "metadata": {},
     "output_type": "execute_result"
    },
    {
     "data": {
      "image/png": "[encoded data removed]",
      "text/plain": [
       "<Figure size 432x288 with 1 Axes>"
      ]
     },
     "metadata": {
      "needs_background": "light"
     },
     "output_type": "display_data"
    }
   ],
   "source": [
    "plt.bar(result1.measurement_counts.keys(), result1.measurement_counts.values())\n",
    "plt.bar(result_hw1.measurement_counts.keys(), result_hw1.measurement_counts.values(), alpha=0.5)\n",
    "plt.legend(['simulator','hardware'])"
   ]
  },
  {
   "cell_type": "code",
   "execution_count": 30,
   "metadata": {},
   "outputs": [
    {
     "data": {
      "text/plain": [
       "<matplotlib.legend.Legend at 0x7fb6212b4950>"
      ]
     },
     "execution_count": 30,
     "metadata": {},
     "output_type": "execute_result"
    },
    {
     "data": {
      "image/png": "[encoded data removed]",
      "text/plain": [
       "<Figure size 432x288 with 1 Axes>"
      ]
     },
     "metadata": {
      "needs_background": "light"
     },
     "output_type": "display_data"
    }
   ],
   "source": [
    "plt.bar(result2.measurement_counts.keys(), result2.measurement_counts.values())\n",
    "plt.bar(result_hw2.measurement_counts.keys(), result_hw2.measurement_counts.values(), alpha=0.5)\n",
    "plt.legend(['simulator','hardware'])"
   ]
  },
  {
   "cell_type": "code",
   "execution_count": 31,
   "metadata": {},
   "outputs": [
    {
     "data": {
      "text/plain": [
       "<matplotlib.legend.Legend at 0x7fb62127c090>"
      ]
     },
     "execution_count": 31,
     "metadata": {},
     "output_type": "execute_result"
    },
    {
     "data": {
      "image/png": "[encoded data removed]",
      "text/plain": [
       "<Figure size 432x288 with 1 Axes>"
      ]
     },
     "metadata": {
      "needs_background": "light"
     },
     "output_type": "display_data"
    }
   ],
   "source": [
    "plt.bar(result3.measurement_counts.keys(), result3.measurement_counts.values())\n",
    "plt.bar(result_hw3.measurement_counts.keys(), result_hw3.measurement_counts.values(), alpha=0.5)\n",
    "plt.legend(['simulator','hardware'])"
   ]
  },
  {
   "cell_type": "code",
   "execution_count": null,
   "metadata": {},
   "outputs": [],
   "source": [
    "plt.bar(result4.measurement_counts.keys(), result4.measurement_counts.values())\n",
    "plt.bar(result_hw4.measurement_counts.keys(), result_hw4.measurement_counts.values(), alpha=0.5)\n",
    "plt.legend(['simulator','hardware'])"
   ]
  },
  {
   "cell_type": "code",
   "execution_count": null,
   "metadata": {},
   "outputs": [],
   "source": [
    "plt.bar(result5.measurement_counts.keys(), result5.measurement_counts.values())\n",
    "plt.bar(result_hw5.measurement_counts.keys(), result_hw5.measurement_counts.values(), alpha=0.5)\n",
    "plt.legend(['simulator','hardware'])"
   ]
  }
 ],
 "metadata": {
  "instance_type": "ml.t3.medium",
  "kernelspec": {
   "display_name": "python3 (braketdlsm/4)",
   "language": "python",
   "name": "python3__SAGEMAKER_INTERNAL__arn:aws:sagemaker:us-west-2:537332306153:image-version/braketdlsm/4"
  },
  "language_info": {
   "codemirror_mode": {
    "name": "ipython",
    "version": 3
   },
   "file_extension": ".py",
   "mimetype": "text/x-python",
   "name": "python",
   "nbconvert_exporter": "python",
   "pygments_lexer": "ipython3",
   "version": "3.7.10"
  }
 },
 "nbformat": 4,
 "nbformat_minor": 4
}
