{
 "cells": [
  {
   "cell_type": "markdown",
   "metadata": {},
   "source": [
    "# Bell state and GHZ state"
   ]
  },
  {
   "cell_type": "code",
   "execution_count": 1,
   "metadata": {},
   "outputs": [],
   "source": [
    "import numpy as np\n",
    "import matplotlib.pyplot as plt\n",
    "%matplotlib inline\n",
    "\n",
    "from braket.circuits import Circuit, Gate, Instruction, circuit\n",
    "from braket.devices import LocalSimulator\n",
    "from braket.aws import AwsDevice, AwsQuantumTask"
   ]
  },
  {
   "cell_type": "code",
   "execution_count": 2,
   "metadata": {},
   "outputs": [],
   "source": [
    "ghz_2 = Circuit().h(0).cnot(0, 1) # bell state\n",
    "ghz_3 = Circuit().h(0).cnot(0, 1).cnot(0, 2)"
   ]
  },
  {
   "cell_type": "markdown",
   "metadata": {},
   "source": [
    "## Simulator"
   ]
  },
  {
   "cell_type": "code",
   "execution_count": 10,
   "metadata": {},
   "outputs": [
    {
     "name": "stdout",
     "output_type": "stream",
     "text": [
      "Counter({'00': 524, '11': 476})\n",
      "Counter({'111': 546, '000': 454})\n"
     ]
    }
   ],
   "source": [
    "device = LocalSimulator()\n",
    "counts_2 = device.run(ghz_2, shots=1000).result().measurement_counts\n",
    "counts_3 = device.run(ghz_3, shots=1000).result().measurement_counts\n",
    "print(counts_2)\n",
    "print(counts_3)"
   ]
  },
  {
   "cell_type": "markdown",
   "metadata": {},
   "source": [
    "## Hardware"
   ]
  },
  {
   "cell_type": "code",
   "execution_count": 4,
   "metadata": {},
   "outputs": [],
   "source": [
    "# import boto3\n",
    "# from braket.aws import AwsSession, AwsDevice\n",
    "\n",
    "# region_name = \"eu-west-2\"\n",
    "# endpoint_url = \"https://5sk8cnl96i.execute-api.eu-west-2.amazonaws.com/Prod\"\n",
    "# # endpoint_url = \"https://o8yrwb6mpk.execute-api.eu-west-2.amazonaws.com/Prod\"\n",
    "\n",
    "# braket_client = boto3.client(\"braket\", region_name=region_name, endpoint_url=endpoint_url)\n",
    "# aws_session = AwsSession(braket_client=braket_client)"
   ]
  },
  {
   "cell_type": "code",
   "execution_count": 18,
   "metadata": {},
   "outputs": [],
   "source": [
    "from braket.aws import AwsDevice\n",
    "\n",
    "device_arn = \"arn:aws:braket:eu-west-2::device/qpu/oqc/Lucy\"\n",
    "# device_arn = \"arn:aws:braket:::device/quantum-simulator/amazon/sv1\"\n",
    "# device = AwsDevice(device_arn, aws_session=aws_session)\n",
    "device = AwsDevice(device_arn)"
   ]
  },
  {
   "cell_type": "code",
   "execution_count": 19,
   "metadata": {},
   "outputs": [
    {
     "name": "stdout",
     "output_type": "stream",
     "text": [
      "Counter({'11': 392, '00': 336, '01': 177, '10': 95})\n"
     ]
    }
   ],
   "source": [
    "# task = AwsQuantumTask.create(aws_session, device_arn, ghz_2, s3_folder, shots=100)\n",
    "task = device.run(ghz_2, shots=1000)\n",
    "counts_hw2 = task.result().measurement_counts\n",
    "# print(task.result())\n",
    "print(counts_hw2)"
   ]
  },
  {
   "cell_type": "code",
   "execution_count": 20,
   "metadata": {},
   "outputs": [
    {
     "name": "stdout",
     "output_type": "stream",
     "text": [
      "Counter({'000': 287, '111': 280, '010': 117, '011': 94, '110': 81, '101': 62, '001': 54, '100': 25})\n"
     ]
    }
   ],
   "source": [
    "# task = AwsQuantumTask.create(aws_session, device_arn, ghz_4, s3_folder, shots=500)\n",
    "task = device.run(ghz_3, shots=1000)\n",
    "counts_hw3 = task.result().measurement_counts\n",
    "# print(task.result())\n",
    "print(counts_hw3)"
   ]
  },
  {
   "cell_type": "markdown",
   "metadata": {},
   "source": [
    "## See results"
   ]
  },
  {
   "cell_type": "code",
   "execution_count": 21,
   "metadata": {},
   "outputs": [
    {
     "data": {
      "text/plain": [
       "<matplotlib.legend.Legend at 0x12e8c1400>"
      ]
     },
     "execution_count": 21,
     "metadata": {},
     "output_type": "execute_result"
    },
    {
     "data": {
      "image/png": "[encoded data removed]",
      "text/plain": [
       "<Figure size 432x288 with 1 Axes>"
      ]
     },
     "metadata": {
      "needs_background": "light"
     },
     "output_type": "display_data"
    }
   ],
   "source": [
    "plt.bar(counts_2.keys(), counts_2.values())\n",
    "plt.bar(counts_hw2.keys(), counts_hw2.values(), alpha=0.5)\n",
    "plt.legend(['simulator','hardware'])"
   ]
  },
  {
   "cell_type": "code",
   "execution_count": 22,
   "metadata": {},
   "outputs": [
    {
     "data": {
      "text/plain": [
       "<matplotlib.legend.Legend at 0x12e8cc820>"
      ]
     },
     "execution_count": 22,
     "metadata": {},
     "output_type": "execute_result"
    },
    {
     "data": {
      "image/png": "[encoded data removed]",
      "text/plain": [
       "<Figure size 432x288 with 1 Axes>"
      ]
     },
     "metadata": {
      "needs_background": "light"
     },
     "output_type": "display_data"
    }
   ],
   "source": [
    "plt.bar(counts_3.keys(), counts_3.values())\n",
    "plt.bar(counts_hw3.keys(), counts_hw3.values(), alpha=0.5)\n",
    "plt.legend(['simulator','hardware'])"
   ]
  },
  {
   "cell_type": "code",
   "execution_count": null,
   "metadata": {},
   "outputs": [],
   "source": []
  }
 ],
 "metadata": {
  "instance_type": "ml.t3.medium",
  "kernelspec": {
   "display_name": "Python 3 (ipykernel)",
   "language": "python",
   "name": "python3"
  },
  "language_info": {
   "codemirror_mode": {
    "name": "ipython",
    "version": 3
   },
   "file_extension": ".py",
   "mimetype": "text/x-python",
   "name": "python",
   "nbconvert_exporter": "python",
   "pygments_lexer": "ipython3",
   "version": "3.9.7"
  }
 },
 "nbformat": 4,
 "nbformat_minor": 4
}
