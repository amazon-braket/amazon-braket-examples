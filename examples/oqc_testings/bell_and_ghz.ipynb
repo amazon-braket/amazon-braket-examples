{
 "cells": [
  {
   "cell_type": "markdown",
   "metadata": {},
   "source": [
    "# Bell state and GHZ state"
   ]
  },
  {
   "cell_type": "code",
   "execution_count": 1,
   "metadata": {},
   "outputs": [],
   "source": [
    "import numpy as np\n",
    "import matplotlib.pyplot as plt\n",
    "%matplotlib inline\n",
    "# import string\n",
    "# import time\n",
    "# import datetime\n",
    "\n",
    "from braket.circuits import Circuit, Gate, Instruction, circuit\n",
    "from braket.devices import LocalSimulator\n",
    "from braket.aws import AwsDevice, AwsQuantumTask"
   ]
  },
  {
   "cell_type": "code",
   "execution_count": 2,
   "metadata": {},
   "outputs": [],
   "source": [
    "ghz_2 = Circuit().h(0).cnot(0, 1) # bell state\n",
    "ghz_4 = Circuit().h(0).cnot(0, 1).cnot(0, 2)#.cnot(0, 3)"
   ]
  },
  {
   "cell_type": "markdown",
   "metadata": {},
   "source": [
    "## Simulator"
   ]
  },
  {
   "cell_type": "code",
   "execution_count": 3,
   "metadata": {},
   "outputs": [
    {
     "name": "stdout",
     "output_type": "stream",
     "text": [
      "Counter({'11': 54, '00': 46})\n",
      "Counter({'111': 258, '000': 242})\n"
     ]
    }
   ],
   "source": [
    "device = LocalSimulator()\n",
    "counts_2 = device.run(ghz_2, shots=100).result().measurement_counts\n",
    "counts_4 = device.run(ghz_4, shots=500).result().measurement_counts\n",
    "print(counts_2)\n",
    "print(counts_4)"
   ]
  },
  {
   "cell_type": "markdown",
   "metadata": {},
   "source": [
    "## Hardware"
   ]
  },
  {
   "cell_type": "code",
   "execution_count": 7,
   "metadata": {},
   "outputs": [],
   "source": [
    "import boto3\n",
    "from braket.aws import AwsSession, AwsDevice\n",
    "\n",
    "region_name = \"eu-west-2\"\n",
    "endpoint_url = \"https://5sk8cnl96i.execute-api.eu-west-2.amazonaws.com/Prod\"\n",
    "# endpoint_url = \"https://o8yrwb6mpk.execute-api.eu-west-2.amazonaws.com/Prod\"\n",
    "\n",
    "braket_client = boto3.client(\"braket\", region_name=region_name, endpoint_url=endpoint_url)\n",
    "aws_session = AwsSession(braket_client=braket_client)"
   ]
  },
  {
   "cell_type": "code",
   "execution_count": 8,
   "metadata": {},
   "outputs": [],
   "source": [
    "my_bucket = \"amazon-braket-hardware-testing\" # the name of the bucket\n",
    "my_prefix = \"ghz-states\" # the name of the folder in the bucket\n",
    "s3_folder = (my_bucket, my_prefix)\n",
    "\n",
    "device_arn = \"arn:aws:braket:eu-west-2::device/qpu/oqc/Lucy\"\n",
    "# device_arn = \"arn:aws:braket:::device/quantum-simulator/amazon/sv1\"\n",
    "device = AwsDevice(device_arn, aws_session=aws_session)"
   ]
  },
  {
   "cell_type": "code",
   "execution_count": 9,
   "metadata": {},
   "outputs": [
    {
     "name": "stdout",
     "output_type": "stream",
     "text": [
      "Counter({'11': 38, '00': 36, '01': 17, '10': 9})\n"
     ]
    }
   ],
   "source": [
    "# task = AwsQuantumTask.create(aws_session, device_arn, ghz_2, s3_folder, shots=100)\n",
    "task = device.run(ghz_2, shots=100)\n",
    "counts_hw2 = task.result().measurement_counts\n",
    "# print(task.result())\n",
    "print(counts_hw2)"
   ]
  },
  {
   "cell_type": "code",
   "execution_count": 10,
   "metadata": {},
   "outputs": [
    {
     "name": "stderr",
     "output_type": "stream",
     "text": [
      "Task is in terminal state FAILED and no result is available.\n",
      "Task failure reason is: Mid-circuit measurements currently unable to be used..\n"
     ]
    },
    {
     "ename": "AttributeError",
     "evalue": "'NoneType' object has no attribute 'measurement_counts'",
     "output_type": "error",
     "traceback": [
      "\u001b[0;31m---------------------------------------------------------------------------\u001b[0m",
      "\u001b[0;31mAttributeError\u001b[0m                            Traceback (most recent call last)",
      "Input \u001b[0;32mIn [10]\u001b[0m, in \u001b[0;36m<module>\u001b[0;34m\u001b[0m\n\u001b[1;32m      1\u001b[0m \u001b[38;5;66;03m# task = AwsQuantumTask.create(aws_session, device_arn, ghz_4, s3_folder, shots=500)\u001b[39;00m\n\u001b[1;32m      2\u001b[0m task \u001b[38;5;241m=\u001b[39m device\u001b[38;5;241m.\u001b[39mrun(ghz_4, shots\u001b[38;5;241m=\u001b[39m\u001b[38;5;241m100\u001b[39m)\n\u001b[0;32m----> 3\u001b[0m counts_hw4 \u001b[38;5;241m=\u001b[39m \u001b[43mtask\u001b[49m\u001b[38;5;241;43m.\u001b[39;49m\u001b[43mresult\u001b[49m\u001b[43m(\u001b[49m\u001b[43m)\u001b[49m\u001b[38;5;241;43m.\u001b[39;49m\u001b[43mmeasurement_counts\u001b[49m\n\u001b[1;32m      4\u001b[0m \u001b[38;5;66;03m# print(task.result())\u001b[39;00m\n\u001b[1;32m      5\u001b[0m \u001b[38;5;28mprint\u001b[39m(counts_hw4)\n",
      "\u001b[0;31mAttributeError\u001b[0m: 'NoneType' object has no attribute 'measurement_counts'"
     ]
    }
   ],
   "source": [
    "# task = AwsQuantumTask.create(aws_session, device_arn, ghz_4, s3_folder, shots=500)\n",
    "task = device.run(ghz_4, shots=100)\n",
    "counts_hw4 = task.result().measurement_counts\n",
    "# print(task.result())\n",
    "print(counts_hw4)"
   ]
  },
  {
   "cell_type": "markdown",
   "metadata": {},
   "source": [
    "## See results"
   ]
  },
  {
   "cell_type": "code",
   "execution_count": null,
   "metadata": {},
   "outputs": [],
   "source": [
    "plt.bar(counts_2.keys(), counts_2.values())\n",
    "plt.bar(counts_hw2.keys(), counts_hw2.values(), alpha=0.5)\n",
    "plt.legend(['simulator','hardware'])"
   ]
  },
  {
   "cell_type": "code",
   "execution_count": 17,
   "metadata": {},
   "outputs": [
    {
     "data": {
      "text/plain": [
       "<matplotlib.legend.Legend at 0x7f9e0a401b10>"
      ]
     },
     "execution_count": 17,
     "metadata": {},
     "output_type": "execute_result"
    },
    {
     "data": {
      "image/png": "[encoded data removed]",
      "text/plain": [
       "<Figure size 432x288 with 1 Axes>"
      ]
     },
     "metadata": {
      "needs_background": "light"
     },
     "output_type": "display_data"
    }
   ],
   "source": [
    "plt.bar(counts_4.keys(), counts_4.values())\n",
    "plt.bar(counts_hw4.keys(), counts_hw4.values(), alpha=0.5)\n",
    "plt.legend(['simulator','hardware'])"
   ]
  },
  {
   "cell_type": "code",
   "execution_count": null,
   "metadata": {},
   "outputs": [],
   "source": []
  }
 ],
 "metadata": {
  "instance_type": "ml.t3.medium",
  "kernelspec": {
   "display_name": "Python 3 (ipykernel)",
   "language": "python",
   "name": "python3"
  },
  "language_info": {
   "codemirror_mode": {
    "name": "ipython",
    "version": 3
   },
   "file_extension": ".py",
   "mimetype": "text/x-python",
   "name": "python",
   "nbconvert_exporter": "python",
   "pygments_lexer": "ipython3",
   "version": "3.9.7"
  }
 },
 "nbformat": 4,
 "nbformat_minor": 4
}
