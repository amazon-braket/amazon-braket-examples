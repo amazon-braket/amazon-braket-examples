{
 "cells": [
  {
   "cell_type": "markdown",
   "metadata": {},
   "source": [
    "# Getting started with Amazon Braket Hybrid Jobs\n",
    "\n",
    "This tutorial shows how to run your first Amazon Braket Hybrid Job. To get started, we consider small circuits with only one qubit and one gate."
   ]
  },
  {
   "cell_type": "markdown",
   "metadata": {},
   "source": [
    "## Specify AWS region\n",
    "For this demo, we submit the job to Braket-Gamma. To achieve this we set up an AWS session with Gamma endpoint."
   ]
  },
  {
   "cell_type": "code",
   "execution_count": 6,
   "metadata": {},
   "outputs": [],
   "source": [
    "import boto3\n",
    "from braket.aws import AwsQuantumJob, AwsSession\n",
    "\n",
    "region_name = \"eu-west-2\"\n",
    "# endpoint_url = \"https://braket-gamma.eu-west-2.amazonaws.com\"\n",
    "# endpoint_url = \"https://braket.eu-west-2.amazonaws.com\"\n",
    "endpoint_url = \"https://5sk8cnl96i.execute-api.eu-west-2.amazonaws.com/Prod\"\n",
    "\n",
    "# region_name = \"us-west-1\"\n",
    "# endpoint_url = \"https://braket-gamma.us-west-1.amazonaws.com\"\n",
    "# endpoint_url = \"https://braket.us-west-1.amazonaws.com\"\n",
    "\n",
    "braket_client = boto3.client(\"braket\", region_name=region_name, endpoint_url=endpoint_url)\n",
    "aws_session = AwsSession(braket_client=braket_client)"
   ]
  },
  {
   "cell_type": "code",
   "execution_count": 7,
   "metadata": {},
   "outputs": [],
   "source": [
    "# select which device to use\n",
    "# device_arn=\"arn:aws:braket:::device/quantum-simulator/amazon/sv1\"\n",
    "device_arn=\"arn:aws:braket:eu-west-2::device/qpu/oqc/Lucy\"\n",
    "# device_arn = \"arn:aws:braket:::device/qpu/rigetti/Aspen-11\""
   ]
  },
  {
   "cell_type": "markdown",
   "metadata": {},
   "source": [
    "## Creating your first job\n",
    "\n",
    "Once the script is finalized, you can create a Braket Job with `AwsQuantumJob`. When the job is created, Amazon Braket starts the job instance (based on EC2) and spins up a Docker container to run your algorithm script. Other configurations can be specified via keyword arguments. See the [developer guide](https://docs.aws.amazon.com/braket/latest/developerguide/what-is-braket.html) and other example notebooks to learn more about how to customize your jobs\n",
    "\n",
    "This example uses the following inputs for `AwsQuantumJob`:\n",
    "- <b>device</b>: The ARN of the Braket simulator or QPU to use in the job. It will be passed as an environment variable to the algorithm script. \n",
    "- <b>source_module</b>: The path to a file or a Python module that contains your algorithm script. It will be uploaded to the container for running the Braket Job.\n",
    "- <b>wait_until_complete (optional)</b>: If True, the function call will wait until the Braket Job is completed and will additionally print logs to the local console. Otherwise, it will run asynchronously. The default is False."
   ]
  },
  {
   "cell_type": "code",
   "execution_count": 8,
   "metadata": {
    "pycharm": {
     "name": "#%%\n"
    }
   },
   "outputs": [
    {
     "name": "stdout",
     "output_type": "stream",
     "text": [
      "Initializing Braket Job: arn:aws:braket:eu-west-2:537332306153:job/braket-job-default-1645644889268\n",
      "............................................\n",
      "\u001b[34m2022-02-23 19:38:57,896 sagemaker-training-toolkit INFO     No GPUs detected (normal if no gpus installed)\u001b[0m\n",
      "\u001b[34m2022-02-23 19:38:59,326 sagemaker-training-toolkit INFO     No GPUs detected (normal if no gpus installed)\u001b[0m\n",
      "\u001b[34m2022-02-23 19:38:59,338 sagemaker-training-toolkit INFO     No GPUs detected (normal if no gpus installed)\u001b[0m\n",
      "\u001b[34m2022-02-23 19:38:59,348 sagemaker-training-toolkit INFO     Invoking user script\u001b[0m\n",
      "\u001b[34mTraining Env:\u001b[0m\n",
      "\u001b[34m{\n",
      "    \"additional_framework_parameters\": {},\n",
      "    \"channel_input_dirs\": {},\n",
      "    \"current_host\": \"algo-1\",\n",
      "    \"framework_module\": null,\n",
      "    \"hosts\": [\n",
      "        \"algo-1\"\n",
      "    ],\n",
      "    \"hyperparameters\": {},\n",
      "    \"input_config_dir\": \"/opt/ml/input/config\",\n",
      "    \"input_data_config\": {},\n",
      "    \"input_dir\": \"/opt/ml/input\",\n",
      "    \"is_master\": true,\n",
      "    \"job_name\": \"d7c996b8-5f70-481a-a3dd-b3f20a851554\",\n",
      "    \"log_level\": 20,\n",
      "    \"master_hostname\": \"algo-1\",\n",
      "    \"model_dir\": \"/opt/ml/model\",\n",
      "    \"module_dir\": \"/opt/ml/code\",\n",
      "    \"module_name\": \"braket_container\",\n",
      "    \"network_interface_name\": \"eth0\",\n",
      "    \"num_cpus\": 2,\n",
      "    \"num_gpus\": 0,\n",
      "    \"output_data_dir\": \"/opt/ml/output/data\",\n",
      "    \"output_dir\": \"/opt/ml/output\",\n",
      "    \"output_intermediate_dir\": \"/opt/ml/output/intermediate\",\n",
      "    \"resource_config\": {\n",
      "        \"current_host\": \"algo-1\",\n",
      "        \"hosts\": [\n",
      "            \"algo-1\"\n",
      "        ],\n",
      "        \"network_interface_name\": \"eth0\"\n",
      "    },\n",
      "    \"user_entry_point\": \"braket_container.py\"\u001b[0m\n",
      "\u001b[34m}\u001b[0m\n",
      "\u001b[34mEnvironment variables:\u001b[0m\n",
      "\u001b[34mSM_HOSTS=[\"algo-1\"]\u001b[0m\n",
      "\u001b[34mSM_NETWORK_INTERFACE_NAME=eth0\u001b[0m\n",
      "\u001b[34mSM_HPS={}\u001b[0m\n",
      "\u001b[34mSM_USER_ENTRY_POINT=braket_container.py\u001b[0m\n",
      "\u001b[34mSM_FRAMEWORK_PARAMS={}\u001b[0m\n",
      "\u001b[34mSM_RESOURCE_CONFIG={\"current_host\":\"algo-1\",\"hosts\":[\"algo-1\"],\"network_interface_name\":\"eth0\"}\u001b[0m\n",
      "\u001b[34mSM_INPUT_DATA_CONFIG={}\u001b[0m\n",
      "\u001b[34mSM_OUTPUT_DATA_DIR=/opt/ml/output/data\u001b[0m\n",
      "\u001b[34mSM_CHANNELS=[]\u001b[0m\n",
      "\u001b[34mSM_CURRENT_HOST=algo-1\u001b[0m\n",
      "\u001b[34mSM_MODULE_NAME=braket_container\u001b[0m\n",
      "\u001b[34mSM_LOG_LEVEL=20\u001b[0m\n",
      "\u001b[34mSM_FRAMEWORK_MODULE=\u001b[0m\n",
      "\u001b[34mSM_INPUT_DIR=/opt/ml/input\u001b[0m\n",
      "\u001b[34mSM_INPUT_CONFIG_DIR=/opt/ml/input/config\u001b[0m\n",
      "\u001b[34mSM_OUTPUT_DIR=/opt/ml/output\u001b[0m\n",
      "\u001b[34mSM_NUM_CPUS=2\u001b[0m\n",
      "\u001b[34mSM_NUM_GPUS=0\u001b[0m\n",
      "\u001b[34mSM_MODEL_DIR=/opt/ml/model\u001b[0m\n",
      "\u001b[34mSM_MODULE_DIR=/opt/ml/code\u001b[0m\n",
      "\u001b[34mSM_TRAINING_ENV={\"additional_framework_parameters\":{},\"channel_input_dirs\":{},\"current_host\":\"algo-1\",\"framework_module\":null,\"hosts\":[\"algo-1\"],\"hyperparameters\":{},\"input_config_dir\":\"/opt/ml/input/config\",\"input_data_config\":{},\"input_dir\":\"/opt/ml/input\",\"is_master\":true,\"job_name\":\"d7c996b8-5f70-481a-a3dd-b3f20a851554\",\"log_level\":20,\"master_hostname\":\"algo-1\",\"model_dir\":\"/opt/ml/model\",\"module_dir\":\"/opt/ml/code\",\"module_name\":\"braket_container\",\"network_interface_name\":\"eth0\",\"num_cpus\":2,\"num_gpus\":0,\"output_data_dir\":\"/opt/ml/output/data\",\"output_dir\":\"/opt/ml/output\",\"output_intermediate_dir\":\"/opt/ml/output/intermediate\",\"resource_config\":{\"current_host\":\"algo-1\",\"hosts\":[\"algo-1\"],\"network_interface_name\":\"eth0\"},\"user_entry_point\":\"braket_container.py\"}\u001b[0m\n",
      "\u001b[34mSM_USER_ARGS=[]\u001b[0m\n",
      "\u001b[34mSM_OUTPUT_INTERMEDIATE_DIR=/opt/ml/output/intermediate\u001b[0m\n",
      "\u001b[34mPYTHONPATH=/opt/ml/code:/usr/local/bin:/usr/local/lib/python37.zip:/usr/local/lib/python3.7:/usr/local/lib/python3.7/lib-dynload:/usr/local/lib/python3.7/site-packages\u001b[0m\n",
      "\u001b[34mInvoking script with the following command:\u001b[0m\n",
      "\u001b[34m/usr/local/bin/python3.7 braket_container.py\u001b[0m\n",
      "\u001b[34mBoto3 Version:  1.20.15\u001b[0m\n",
      "\u001b[34mBeginning Setup\u001b[0m\n",
      "\u001b[34mRunning Code As Subprocess\u001b[0m\n",
      "\u001b[34mProcessing /opt/ml/code/customer_code/extracted/script/amazon-braket-schemas-python-staging-oqc-without-qasm\n",
      "  Installing build dependencies: started\u001b[0m\n",
      "\u001b[34m  Installing build dependencies: finished with status 'done'\n",
      "  Getting requirements to build wheel: started\u001b[0m\n",
      "\u001b[34m  Getting requirements to build wheel: finished with status 'done'\n",
      "  Preparing metadata (pyproject.toml): started\u001b[0m\n",
      "\u001b[34m  Preparing metadata (pyproject.toml): finished with status 'done'\u001b[0m\n",
      "\u001b[34mRequirement already satisfied: pydantic<2.0.0,>=1.8.2 in /usr/local/lib/python3.7/site-packages (from amazon-braket-schemas==1.8.0.dev0) (1.8.2)\u001b[0m\n",
      "\u001b[34mRequirement already satisfied: typing-extensions>=3.7.4.3 in /usr/local/lib/python3.7/site-packages (from pydantic<2.0.0,>=1.8.2->amazon-braket-schemas==1.8.0.dev0) (4.1.1)\u001b[0m\n",
      "\u001b[34mBuilding wheels for collected packages: amazon-braket-schemas\n",
      "  Building wheel for amazon-braket-schemas (pyproject.toml): started\u001b[0m\n",
      "\u001b[34m  Building wheel for amazon-braket-schemas (pyproject.toml): finished with status 'done'\n",
      "  Created wheel for amazon-braket-schemas: filename=amazon_braket_schemas-1.8.0.dev0-py3-none-any.whl size=76781 sha256=3b5aa5d8474fa584ee4412d557c91c59e0f0cb29fbdd61e9c9832c3011dbc01e\n",
      "  Stored in directory: /root/.cache/pip/wheels/8e/4a/11/e95e079a4c6489c3bb79e8662f3b14bb2dba28d358efaac546\u001b[0m\n",
      "\u001b[34mSuccessfully built amazon-braket-schemas\u001b[0m\n",
      "\u001b[34mInstalling collected packages: amazon-braket-schemas\n",
      "  Attempting uninstall: amazon-braket-schemas\n",
      "    Found existing installation: amazon-braket-schemas 1.5.0\n",
      "    Uninstalling amazon-braket-schemas-1.5.0:\n",
      "      Successfully uninstalled amazon-braket-schemas-1.5.0\u001b[0m\n",
      "\u001b[34mSuccessfully installed amazon-braket-schemas-1.8.0.dev0\u001b[0m\n",
      "\u001b[34mWARNING: Running pip as the 'root' user can result in broken permissions and conflicting behaviour with the system package manager. It is recommended to use a virtual environment instead: https://pip.pypa.io/warnings/venv\u001b[0m\n",
      "\u001b[34mProcessing /opt/ml/code/customer_code/extracted/script/amazon-braket-sdk-python-staging-oqc-without-qasm\u001b[0m\n",
      "\u001b[34m  Installing build dependencies: started\u001b[0m\n",
      "\u001b[34m  Installing build dependencies: finished with status 'done'\n",
      "  Getting requirements to build wheel: started\u001b[0m\n",
      "\u001b[34m  Getting requirements to build wheel: finished with status 'done'\n",
      "  Preparing metadata (pyproject.toml): started\u001b[0m\n",
      "\u001b[34m  Preparing metadata (pyproject.toml): finished with status 'done'\u001b[0m\n",
      "\u001b[34mRequirement already satisfied: networkx in /usr/local/lib/python3.7/site-packages (from amazon-braket-sdk==1.14.1.dev0) (2.6.3)\u001b[0m\n",
      "\u001b[34mRequirement already satisfied: nest-asyncio in /usr/local/lib/python3.7/site-packages (from amazon-braket-sdk==1.14.1.dev0) (1.5.4)\u001b[0m\n",
      "\u001b[34mRequirement already satisfied: boto3 in /usr/local/lib/python3.7/site-packages (from amazon-braket-sdk==1.14.1.dev0) (1.20.15)\u001b[0m\n",
      "\u001b[34mRequirement already satisfied: backoff in /usr/local/lib/python3.7/site-packages (from amazon-braket-sdk==1.14.1.dev0) (1.11.1)\u001b[0m\n",
      "\u001b[34mRequirement already satisfied: boltons in /usr/local/lib/python3.7/site-packages (from amazon-braket-sdk==1.14.1.dev0) (21.0.0)\u001b[0m\n",
      "\u001b[34mRequirement already satisfied: coverage==5.5 in /usr/local/lib/python3.7/site-packages (from amazon-braket-sdk==1.14.1.dev0) (5.5)\u001b[0m\n",
      "\u001b[34mRequirement already satisfied: numpy in /usr/local/lib/python3.7/site-packages (from amazon-braket-sdk==1.14.1.dev0) (1.21.4)\u001b[0m\n",
      "\u001b[34mRequirement already satisfied: amazon-braket-default-simulator in /usr/local/lib/python3.7/site-packages (from amazon-braket-sdk==1.14.1.dev0) (1.3.0)\u001b[0m\n",
      "\u001b[34mRequirement already satisfied: opt-einsum in /usr/local/lib/python3.7/site-packages (from amazon-braket-default-simulator->amazon-braket-sdk==1.14.1.dev0) (3.3.0)\u001b[0m\n",
      "\u001b[34mRequirement already satisfied: amazon-braket-schemas in /usr/local/lib/python3.7/site-packages (from amazon-braket-default-simulator->amazon-braket-sdk==1.14.1.dev0) (1.8.0.dev0)\u001b[0m\n",
      "\u001b[34mRequirement already satisfied: botocore<1.24.0,>=1.23.15 in /usr/local/lib/python3.7/site-packages (from boto3->amazon-braket-sdk==1.14.1.dev0) (1.23.15)\u001b[0m\n",
      "\u001b[34mRequirement already satisfied: jmespath<1.0.0,>=0.7.1 in /usr/local/lib/python3.7/site-packages (from boto3->amazon-braket-sdk==1.14.1.dev0) (0.10.0)\u001b[0m\n",
      "\u001b[34mRequirement already satisfied: s3transfer<0.6.0,>=0.5.0 in /usr/local/lib/python3.7/site-packages (from boto3->amazon-braket-sdk==1.14.1.dev0) (0.5.1)\u001b[0m\n",
      "\u001b[34mRequirement already satisfied: python-dateutil<3.0.0,>=2.1 in /usr/local/lib/python3.7/site-packages (from botocore<1.24.0,>=1.23.15->boto3->amazon-braket-sdk==1.14.1.dev0) (2.8.2)\u001b[0m\n",
      "\u001b[34mRequirement already satisfied: urllib3<1.27,>=1.25.4 in /usr/local/lib/python3.7/site-packages (from botocore<1.24.0,>=1.23.15->boto3->amazon-braket-sdk==1.14.1.dev0) (1.26.8)\u001b[0m\n",
      "\u001b[34mRequirement already satisfied: pydantic<2.0.0,>=1.8.2 in /usr/local/lib/python3.7/site-packages (from amazon-braket-schemas->amazon-braket-default-simulator->amazon-braket-sdk==1.14.1.dev0) (1.8.2)\u001b[0m\n",
      "\u001b[34mRequirement already satisfied: typing-extensions>=3.7.4.3 in /usr/local/lib/python3.7/site-packages (from pydantic<2.0.0,>=1.8.2->amazon-braket-schemas->amazon-braket-default-simulator->amazon-braket-sdk==1.14.1.dev0) (4.1.1)\u001b[0m\n",
      "\u001b[34mRequirement already satisfied: six>=1.5 in /usr/local/lib/python3.7/site-packages (from python-dateutil<3.0.0,>=2.1->botocore<1.24.0,>=1.23.15->boto3->amazon-braket-sdk==1.14.1.dev0) (1.16.0)\u001b[0m\n",
      "\u001b[34mBuilding wheels for collected packages: amazon-braket-sdk\n",
      "  Building wheel for amazon-braket-sdk (pyproject.toml): started\u001b[0m\n",
      "\u001b[34m  Building wheel for amazon-braket-sdk (pyproject.toml): finished with status 'done'\n",
      "  Created wheel for amazon-braket-sdk: filename=amazon_braket_sdk-1.14.1.dev0-py3-none-any.whl size=155008 sha256=684fd29682288f5cacb83711e14c6e9bc26a7aebe78a46b482be25ba4538b8ee\n",
      "  Stored in directory: /root/.cache/pip/wheels/00/e6/43/e529f4b012b0fc4c99bfeeef0e00161e290b070cde09a2fbc7\u001b[0m\n",
      "\u001b[34mSuccessfully built amazon-braket-sdk\u001b[0m\n",
      "\u001b[34mInstalling collected packages: amazon-braket-sdk\n",
      "  Attempting uninstall: amazon-braket-sdk\n",
      "    Found existing installation: amazon-braket-sdk 1.10.0\n",
      "    Uninstalling amazon-braket-sdk-1.10.0:\n",
      "      Successfully uninstalled amazon-braket-sdk-1.10.0\u001b[0m\n",
      "\u001b[34mSuccessfully installed amazon-braket-sdk-1.14.1.dev0\u001b[0m\n",
      "\u001b[34mWARNING: Running pip as the 'root' user can result in broken permissions and conflicting behaviour with the system package manager. It is recommended to use a virtual environment instead: https://pip.pypa.io/warnings/venv\u001b[0m\n",
      "\u001b[34mTest job started!!!!!\u001b[0m\n",
      "\u001b[34mAWS session set!!!!!\u001b[0m\n"
     ]
    },
    {
     "name": "stdout",
     "output_type": "stream",
     "text": [
      "\u001b[34mCounter({'1': 54, '0': 46})\u001b[0m\n",
      "\u001b[34mCounter({'1': 60, '0': 40})\u001b[0m\n",
      "\u001b[34mCounter({'1': 59, '0': 41})\u001b[0m\n",
      "\u001b[34mCounter({'1': 55, '0': 45})\u001b[0m\n",
      "\u001b[34mCounter({'1': 51, '0': 49})\u001b[0m\n",
      "\u001b[34mTest job completed!!!!!\u001b[0m\n",
      "\u001b[34mCode Run Finished\u001b[0m\n",
      "\u001b[34m2022-02-23 19:39:36,793 sagemaker-training-toolkit INFO     Reporting training SUCCESS\u001b[0m\n",
      "CPU times: user 1.46 s, sys: 181 ms, total: 1.64 s\n",
      "Wall time: 5min 10s\n"
     ]
    }
   ],
   "source": [
    "%%time\n",
    "# This cell should take about 5 mins\n",
    "job = AwsQuantumJob.create(\n",
    "    device=device_arn,\n",
    "    source_module=\"script\",\n",
    "    entry_point=\"script.algorithm_script\",\n",
    "    wait_until_complete=True,\n",
    "    aws_session=aws_session\n",
    ")"
   ]
  },
  {
   "cell_type": "markdown",
   "metadata": {},
   "source": [
    "## Checking job state and loading results\n",
    "\n",
    "The status of a Braket Job can be checked by calling `job.state()`. The state will be one of \"QUEUED\", \"RUNNING\", \"FAILED\", \"COMPLETED\", \"CANCELLING\", or \"CANCELLED\". "
   ]
  },
  {
   "cell_type": "code",
   "execution_count": 9,
   "metadata": {},
   "outputs": [
    {
     "data": {
      "text/plain": [
       "'COMPLETED'"
      ]
     },
     "execution_count": 9,
     "metadata": {},
     "output_type": "execute_result"
    }
   ],
   "source": [
    "job.state()"
   ]
  },
  {
   "cell_type": "code",
   "execution_count": 10,
   "metadata": {},
   "outputs": [
    {
     "name": "stdout",
     "output_type": "stream",
     "text": [
      "counts:  [{'0': 46, '1': 54}, {'0': 40, '1': 60}, {'0': 41, '1': 59}, {'0': 45, '1': 55}, {'0': 49, '1': 51}]\n",
      "angles:  [1.5707963267948966, 1.6964600329384885, 1.8849555921538759, 1.853539665617978, 1.7278759594743864]\n"
     ]
    }
   ],
   "source": [
    "results = job.result()  # will return once job.state() = \"COMPLETED\", should be 6 minutes\n",
    "print(\"counts: \", results[\"counts\"])\n",
    "print(\"angles: \", results[\"angles\"])"
   ]
  },
  {
   "cell_type": "code",
   "execution_count": null,
   "metadata": {},
   "outputs": [],
   "source": []
  }
 ],
 "metadata": {
  "interpreter": {
   "hash": "2a3faae6bbb7a2a59c3b36071b2b18ca9558c49646aca6fb369efee1cbea9b8b"
  },
  "kernelspec": {
   "display_name": "Python 3 (ipykernel)",
   "language": "python",
   "name": "python3"
  },
  "language_info": {
   "codemirror_mode": {
    "name": "ipython",
    "version": 3
   },
   "file_extension": ".py",
   "mimetype": "text/x-python",
   "name": "python",
   "nbconvert_exporter": "python",
   "pygments_lexer": "ipython3",
   "version": "3.9.7"
  }
 },
 "nbformat": 4,
 "nbformat_minor": 4
}
