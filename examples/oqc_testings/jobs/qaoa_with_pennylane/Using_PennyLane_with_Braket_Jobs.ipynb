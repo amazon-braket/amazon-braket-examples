{
 "cells": [
  {
   "cell_type": "markdown",
   "id": "ee9af569",
   "metadata": {},
   "source": [
    "# QAOA with Amazon Braket Hybrid Jobs and PennyLane\n",
    "\n",
    "In this tutorial, we use PennyLane within Amazon Braket Hybrid Jobs to run the Quantum Approximate Optimization Algorithm (QAOA) on a Max-Cut problem.\n",
    "\n",
    "## Learning outcomes\n",
    "* Use pre-built PennyLane containers in Braket Jobs\n",
    "* Set QAOA hyperparameters \n",
    "* Choose PennyLane backend (TensorFlow, PyTorch)\n",
    "* Use checkpoints for Braket Jobs"
   ]
  },
  {
   "cell_type": "markdown",
   "id": "ea10389f",
   "metadata": {},
   "source": [
    "## QAOA background \n",
    "\n",
    "QAOA is a variational algorithm that uses parameterized quantum circuits to evaluate a classical cost function given by a binary optimization problem; the circuit parameters are iteratively adjusted to minimize the cost function. The QAOA algorithm itself has different settings, such as circuit depth ($p$). In analogy to machine learning, these input settings are commonly referred to as _hyperparameters_. In the following, we show how to setup the problem, prepare input data and run QAOA using Braket Jobs.\n",
    "\n",
    "For more information about QAOA and PennyLane, see [this example notebook](../pennylane/2_Graph_optimization_with_QAOA.ipynb) or [this PennyLane tutorial](https://pennylane.ai/qml/demos/tutorial_qaoa_intro.html)."
   ]
  },
  {
   "cell_type": "markdown",
   "id": "53f30bfa",
   "metadata": {},
   "source": [
    "## Problem setup\n",
    "\n",
    "A Max Cut problem is the problem to find a cut in a graph that maximizes the number of edges between the two parts after the cut. It has applications in theoretical physics and in combinatorial optimizations. To get started, we first create and visualize a random graph for the Max-Cut problem with <code>networkx</code> package. Feel free to adjust the number of nodes, <code>n</code>, and number of edges, <code>m</code> as part of your experiments."
   ]
  },
  {
   "cell_type": "code",
   "execution_count": 2,
   "id": "7821190b",
   "metadata": {},
   "outputs": [],
   "source": [
    "import time\n",
    "\n",
    "import networkx as nx\n",
    "from braket.aws import AwsQuantumJob, AwsSession\n",
    "from braket.jobs.image_uris import Framework, retrieve_image\n",
    "import matplotlib.pyplot as plt\n",
    "\n",
    "%matplotlib inline"
   ]
  },
  {
   "cell_type": "code",
   "execution_count": 3,
   "id": "210d8c0a",
   "metadata": {},
   "outputs": [
    {
     "data": {
      "image/png": "[encoded data removed]",
      "text/plain": [
       "<Figure size 432x288 with 1 Axes>"
      ]
     },
     "metadata": {},
     "output_type": "display_data"
    }
   ],
   "source": [
    "# We generate a random graph with num_nodes nodes and num_edges edges to run Max Cut on.\n",
    "# num_nodes is the number of nodes in your graph, each represented by one qubit. \n",
    "# Caution: Circuit runtimes will scale exponentially with num_nodes\n",
    "num_nodes = 4\n",
    "num_edges = 5\n",
    "seed = 40\n",
    "\n",
    "graph = nx.gnm_random_graph(num_nodes, num_edges, seed=seed)\n",
    "\n",
    "# Draw the graph\n",
    "positions = nx.spring_layout(graph, seed=seed)\n",
    "nx.draw(graph, with_labels=True, pos=positions, node_size=600)"
   ]
  },
  {
   "cell_type": "markdown",
   "id": "d2d7f687",
   "metadata": {},
   "source": [
    "## Prepare input data\n",
    "We will prepare the optimization problem we want to solve, represented by the so-called Ising matrix, as the input data for the Braket Job. This best practice helps us decouple our problem definition from our algorithm code. If we want to solve another instance of this problem type, all we need to do is to point a new job to the new input data. The input data can be specified by either a path to a local file, or an Amazon S3 path that points to the data. For this example, we will create a file in the local directory encoding the problem graph."
   ]
  },
  {
   "cell_type": "code",
   "execution_count": 4,
   "id": "b467d23b",
   "metadata": {},
   "outputs": [],
   "source": [
    "input_file_path = \"input-data.adjlist\"\n",
    "nx.write_adjlist(graph, input_file_path)"
   ]
  },
  {
   "cell_type": "markdown",
   "id": "406bc140",
   "metadata": {},
   "source": [
    "## Specify hyperparameters and configurations\n",
    "\n",
    "\"The hyperparameters can be passed in when you create your job, through the keyword argument <code>hyperparameters</code>. It usually includes all the algorithm settings you might want to adjust between runs to tailor your algorithm to the problem. This includes, for instance, the optimizer to use and its learning rate, the number of iterations, or the number of shots per device execution. "
   ]
  },
  {
   "cell_type": "code",
   "execution_count": 5,
   "id": "edb5fc1e",
   "metadata": {},
   "outputs": [],
   "source": [
    "# Pick 'autograd', 'tf', or 'torch'. Autograd is base PennyLane\n",
    "interface = \"autograd\"\n",
    "\n",
    "# Specify device that the job will primarily be targeting\n",
    "device_arn = \"arn:aws:braket:::device/quantum-simulator/amazon/sv1\"\n",
    "# device_arn=\"arn:aws:braket:eu-west-2::device/qpu/oqc/Lucy\"\n",
    "# device_arn=\"arn:aws:braket:us-west-1::device/qpu/rigetti/Aspen-M-1\"\n",
    "# device_arn=\"arn:aws:braket:us-west-1::device/qpu/rigetti/Aspen-M-1\"\n",
    "\n",
    "hyperparameters = {\n",
    "    # Number of tasks per iteration = 2 * (num_nodes + num_edges) * p + 1\n",
    "    \"p\": \"1\",\n",
    "    \"seed\": str(seed),\n",
    "    # Maximum number of simultaneous tasks allowed\n",
    "    \"max_parallel\": \"1\",\n",
    "    # Number of total optimization iterations, including those from previous checkpoint (if any)\n",
    "    \"num_iterations\": \"1\",\n",
    "    # Step size / learning rate for gradient descent\n",
    "    \"stepsize\": \"0.1\",\n",
    "    # Shots for each circuit execution\n",
    "    \"shots\": \"1000\",\n",
    "    \"interface\": interface,\n",
    "}"
   ]
  },
  {
   "cell_type": "markdown",
   "id": "e571b367",
   "metadata": {},
   "source": [
    "For this demo, we submit the job to Braket-Gamma. To achieve this we set up an AWS session with Gamma endpoint."
   ]
  },
  {
   "cell_type": "code",
   "execution_count": 6,
   "id": "d6adf2ab",
   "metadata": {},
   "outputs": [],
   "source": [
    "import boto3\n",
    "from braket.aws import AwsSession\n",
    "\n",
    "# region_name = \"eu-west-2\"\n",
    "# endpoint_url = \"https://braket-gamma.eu-west-2.amazonaws.com\"\n",
    "# endpoint_url = \"https://braket.eu-west-2.amazonaws.com\"\n",
    "\n",
    "region_name = \"us-west-1\"\n",
    "endpoint_url = \"https://braket-gamma.us-west-1.amazonaws.com\"\n",
    "# endpoint_url = \"https://braket.us-west-1.amazonaws.com\"\n",
    "\n",
    "braket_client = boto3.client(\"braket\", region_name=region_name, endpoint_url=endpoint_url)\n",
    "aws_session = AwsSession(braket_client=braket_client)"
   ]
  },
  {
   "cell_type": "markdown",
   "id": "b64d23aa",
   "metadata": {},
   "source": [
    "Braket Jobs comes with three pre-configured container environments. The base container does not include PennyLane, so we need to use one of the two PennyLane containers: TensorFlow or PyTorch."
   ]
  },
  {
   "cell_type": "code",
   "execution_count": 7,
   "id": "a43b4351",
   "metadata": {},
   "outputs": [],
   "source": [
    "# region = AwsSession().region\n",
    "\n",
    "# Base container does not have PennyLane, so we have to use the TF or PyTorch container\n",
    "# Choose the container based on which one we need.\n",
    "\n",
    "if interface == \"autograd\" or interface == \"tf\":\n",
    "    image_uri = retrieve_image(Framework.PL_TENSORFLOW, region_name)\n",
    "elif interface == \"torch\":\n",
    "    image_uri = retrieve_image(Framework.PL_PYTORCH, region_name)"
   ]
  },
  {
   "cell_type": "markdown",
   "id": "188db91e",
   "metadata": {},
   "source": [
    "## Algorithm script\n",
    "\n",
    "The algorithm script we are going to use for solving the Max-Cut problem with QAOA can be found [here](qaoa_source/qaoa_algorithm_script.py)."
   ]
  },
  {
   "cell_type": "markdown",
   "id": "eb065a9a",
   "metadata": {},
   "source": [
    "## Submitting a Braket Job\n",
    "\n",
    "We have now finished preparing the input data, algorithm script, hyperparameters and other configurations. It's time to submit our Braket Job!\n",
    "\n",
    "We specify the following arguments to create our job: \n",
    "\n",
    "- <code>device</code>: The arn of the Braket simulator or QPU we want to use. It will be stored as an environment variable for the algorithm script.\n",
    "- <code>source_module</code>: The path to a file or a python module that contains your algorithm script. It will be uploaded to the container for Braket Job execution.\n",
    "- <code>job_name</code>: A unique string to identify the job. It appears in the Braket Job console and in the job arn.\n",
    "- <code>image_uri</code>: The path to a Docker container image.\n",
    "- <code>entry point</code>: The path relative to the source_module. It points to the piece of code to be executed when the Braket Job starts.\n",
    "- <code>copy_checkpoints_from_job</code>: A string that specifies the job arn whose checkpoint you want to use in the current job. If `None` (default value), no checkpoints will be copied to the current job.\n",
    "- <code>hyperparameters</code>: The Python dictionary containing the hyperparameter names and values (as strings).\n",
    "- <code>input_data</code>: A dictionary that maps channel names to either a file location in the local environment or a path to S3. We can also specify only a file location, in which case the channel name is treated as \"input\".\n",
    "- <code>wait_until_complete</code>: If True, the function call will wait until the Braket Job is completed, and will additionally print logs to the local console. Otherwise, it will run asynchronously. Defaults to False."
   ]
  },
  {
   "cell_type": "code",
   "execution_count": 8,
   "id": "39efe85f",
   "metadata": {},
   "outputs": [
    {
     "name": "stdout",
     "output_type": "stream",
     "text": [
      "Initializing Braket Job: arn:aws:braket:us-west-1:537332306153:job/qaoa-job-autograd-1645501774\n",
      ".........................................\n",
      "\u001b[34m2022-02-22 03:53:12,862 sagemaker-training-toolkit INFO     No GPUs detected (normal if no gpus installed)\u001b[0m\n",
      "\u001b[34m2022-02-22 03:53:12,863 sagemaker-training-toolkit INFO     Failed to parse hyperparameter interface value autograd to Json.\u001b[0m\n",
      "\u001b[34mReturning the value itself\u001b[0m\n",
      "\u001b[34m2022-02-22 03:53:15,901 sagemaker-training-toolkit INFO     No GPUs detected (normal if no gpus installed)\u001b[0m\n",
      "\u001b[34m2022-02-22 03:53:15,902 sagemaker-training-toolkit INFO     Failed to parse hyperparameter interface value autograd to Json.\u001b[0m\n",
      "\u001b[34mReturning the value itself\u001b[0m\n",
      "\u001b[34m2022-02-22 03:53:15,914 sagemaker-training-toolkit INFO     No GPUs detected (normal if no gpus installed)\u001b[0m\n",
      "\u001b[34m2022-02-22 03:53:15,914 sagemaker-training-toolkit INFO     Failed to parse hyperparameter interface value autograd to Json.\u001b[0m\n",
      "\u001b[34mReturning the value itself\u001b[0m\n",
      "\u001b[34m2022-02-22 03:53:15,924 sagemaker-training-toolkit INFO     Invoking user script\u001b[0m\n",
      "\u001b[34mTraining Env:\u001b[0m\n",
      "\u001b[34m{\n",
      "    \"additional_framework_parameters\": {},\n",
      "    \"channel_input_dirs\": {\n",
      "        \"input-graph\": \"/opt/ml/input/data/input-graph\"\n",
      "    },\n",
      "    \"current_host\": \"algo-1\",\n",
      "    \"framework_module\": null,\n",
      "    \"hosts\": [\n",
      "        \"algo-1\"\n",
      "    ],\n",
      "    \"hyperparameters\": {\n",
      "        \"p\": 1,\n",
      "        \"seed\": 40,\n",
      "        \"num_iterations\": 1,\n",
      "        \"interface\": \"autograd\",\n",
      "        \"shots\": 1000,\n",
      "        \"max_parallel\": 1,\n",
      "        \"stepsize\": 0.1\n",
      "    },\n",
      "    \"input_config_dir\": \"/opt/ml/input/config\",\n",
      "    \"input_data_config\": {\n",
      "        \"input-graph\": {\n",
      "            \"ContentType\": \"application/octet-stream\",\n",
      "            \"TrainingInputMode\": \"File\",\n",
      "            \"S3DistributionType\": \"ShardedByS3Key\",\n",
      "            \"RecordWrapperType\": \"None\"\n",
      "        }\n",
      "    },\n",
      "    \"input_dir\": \"/opt/ml/input\",\n",
      "    \"is_master\": true,\n",
      "    \"job_name\": \"5a2c2205-7d5f-468c-b8d6-9abfafcc8e2a\",\n",
      "    \"log_level\": 20,\n",
      "    \"master_hostname\": \"algo-1\",\n",
      "    \"model_dir\": \"/opt/ml/model\",\n",
      "    \"module_dir\": \"/opt/ml/code\",\n",
      "    \"module_name\": \"braket_container\",\n",
      "    \"network_interface_name\": \"eth0\",\n",
      "    \"num_cpus\": 2,\n",
      "    \"num_gpus\": 0,\n",
      "    \"output_data_dir\": \"/opt/ml/output/data\",\n",
      "    \"output_dir\": \"/opt/ml/output\",\n",
      "    \"output_intermediate_dir\": \"/opt/ml/output/intermediate\",\n",
      "    \"resource_config\": {\n",
      "        \"current_host\": \"algo-1\",\n",
      "        \"hosts\": [\n",
      "            \"algo-1\"\n",
      "        ],\n",
      "        \"network_interface_name\": \"eth0\"\n",
      "    },\n",
      "    \"user_entry_point\": \"braket_container.py\"\u001b[0m\n",
      "\u001b[34m}\u001b[0m\n",
      "\u001b[34mEnvironment variables:\u001b[0m\n",
      "\u001b[34mSM_HOSTS=[\"algo-1\"]\u001b[0m\n",
      "\u001b[34mSM_NETWORK_INTERFACE_NAME=eth0\u001b[0m\n",
      "\u001b[34mSM_HPS={\"interface\":\"autograd\",\"max_parallel\":1,\"num_iterations\":1,\"p\":1,\"seed\":40,\"shots\":1000,\"stepsize\":0.1}\u001b[0m\n",
      "\u001b[34mSM_USER_ENTRY_POINT=braket_container.py\u001b[0m\n",
      "\u001b[34mSM_FRAMEWORK_PARAMS={}\u001b[0m\n",
      "\u001b[34mSM_RESOURCE_CONFIG={\"current_host\":\"algo-1\",\"hosts\":[\"algo-1\"],\"network_interface_name\":\"eth0\"}\u001b[0m\n",
      "\u001b[34mSM_INPUT_DATA_CONFIG={\"input-graph\":{\"ContentType\":\"application/octet-stream\",\"RecordWrapperType\":\"None\",\"S3DistributionType\":\"ShardedByS3Key\",\"TrainingInputMode\":\"File\"}}\u001b[0m\n",
      "\u001b[34mSM_OUTPUT_DATA_DIR=/opt/ml/output/data\u001b[0m\n",
      "\u001b[34mSM_CHANNELS=[\"input-graph\"]\u001b[0m\n",
      "\u001b[34mSM_CURRENT_HOST=algo-1\u001b[0m\n",
      "\u001b[34mSM_MODULE_NAME=braket_container\u001b[0m\n",
      "\u001b[34mSM_LOG_LEVEL=20\u001b[0m\n",
      "\u001b[34mSM_FRAMEWORK_MODULE=\u001b[0m\n",
      "\u001b[34mSM_INPUT_DIR=/opt/ml/input\u001b[0m\n",
      "\u001b[34mSM_INPUT_CONFIG_DIR=/opt/ml/input/config\u001b[0m\n",
      "\u001b[34mSM_OUTPUT_DIR=/opt/ml/output\u001b[0m\n",
      "\u001b[34mSM_NUM_CPUS=2\u001b[0m\n",
      "\u001b[34mSM_NUM_GPUS=0\u001b[0m\n",
      "\u001b[34mSM_MODEL_DIR=/opt/ml/model\u001b[0m\n",
      "\u001b[34mSM_MODULE_DIR=/opt/ml/code\u001b[0m\n",
      "\u001b[34mSM_TRAINING_ENV={\"additional_framework_parameters\":{},\"channel_input_dirs\":{\"input-graph\":\"/opt/ml/input/data/input-graph\"},\"current_host\":\"algo-1\",\"framework_module\":null,\"hosts\":[\"algo-1\"],\"hyperparameters\":{\"interface\":\"autograd\",\"max_parallel\":1,\"num_iterations\":1,\"p\":1,\"seed\":40,\"shots\":1000,\"stepsize\":0.1},\"input_config_dir\":\"/opt/ml/input/config\",\"input_data_config\":{\"input-graph\":{\"ContentType\":\"application/octet-stream\",\"RecordWrapperType\":\"None\",\"S3DistributionType\":\"ShardedByS3Key\",\"TrainingInputMode\":\"File\"}},\"input_dir\":\"/opt/ml/input\",\"is_master\":true,\"job_name\":\"5a2c2205-7d5f-468c-b8d6-9abfafcc8e2a\",\"log_level\":20,\"master_hostname\":\"algo-1\",\"model_dir\":\"/opt/ml/model\",\"module_dir\":\"/opt/ml/code\",\"module_name\":\"braket_container\",\"network_interface_name\":\"eth0\",\"num_cpus\":2,\"num_gpus\":0,\"output_data_dir\":\"/opt/ml/output/data\",\"output_dir\":\"/opt/ml/output\",\"output_intermediate_dir\":\"/opt/ml/output/intermediate\",\"resource_config\":{\"current_host\":\"algo-1\",\"hosts\":[\"algo-1\"],\"network_interface_name\":\"eth0\"},\"user_entry_point\":\"braket_container.py\"}\u001b[0m\n",
      "\u001b[34mSM_USER_ARGS=[\"--interface\",\"autograd\",\"--max_parallel\",\"1\",\"--num_iterations\",\"1\",\"-p\",\"1\",\"--seed\",\"40\",\"--shots\",\"1000\",\"--stepsize\",\"0.1\"]\u001b[0m\n",
      "\u001b[34mSM_OUTPUT_INTERMEDIATE_DIR=/opt/ml/output/intermediate\u001b[0m\n",
      "\u001b[34mSM_CHANNEL_INPUT-GRAPH=/opt/ml/input/data/input-graph\u001b[0m\n",
      "\u001b[34mSM_HP_P=1\u001b[0m\n",
      "\u001b[34mSM_HP_SEED=40\u001b[0m\n",
      "\u001b[34mSM_HP_NUM_ITERATIONS=1\u001b[0m\n",
      "\u001b[34mSM_HP_INTERFACE=autograd\u001b[0m\n",
      "\u001b[34mSM_HP_SHOTS=1000\u001b[0m\n",
      "\u001b[34mSM_HP_MAX_PARALLEL=1\u001b[0m\n",
      "\u001b[34mSM_HP_STEPSIZE=0.1\u001b[0m\n",
      "\u001b[34mPYTHONPATH=/opt/ml/code:/usr/local/bin:/usr/local/lib/python37.zip:/usr/local/lib/python3.7:/usr/local/lib/python3.7/lib-dynload:/usr/local/lib/python3.7/site-packages\u001b[0m\n",
      "\u001b[34mInvoking script with the following command:\u001b[0m\n",
      "\u001b[34m/usr/local/bin/python3.7 braket_container.py --interface autograd --max_parallel 1 --num_iterations 1 -p 1 --seed 40 --shots 1000 --stepsize 0.1\u001b[0m\n",
      "\u001b[34mBoto3 Version:  1.20.15\u001b[0m\n",
      "\u001b[34mBeginning Setup\u001b[0m\n",
      "\u001b[34mRunning Code As Subprocess\u001b[0m\n",
      "\u001b[34mCollecting pennylane\n",
      "  Downloading PennyLane-0.21.0-py3-none-any.whl (800 kB)\n",
      "     ━━━━━━━━━━━━━━━━━━━━━━━━━━━━━━━━━━━━━━ 800.3/800.3 KB 35.8 MB/s eta 0:00:00\u001b[0m\n",
      "\u001b[34mCollecting autoray\n",
      "  Downloading autoray-0.2.5-py3-none-any.whl (16 kB)\u001b[0m\n",
      "\u001b[34mCollecting toml\n",
      "  Downloading toml-0.10.2-py2.py3-none-any.whl (16 kB)\u001b[0m\n",
      "\u001b[34mCollecting appdirs\n",
      "  Downloading appdirs-1.4.4-py2.py3-none-any.whl (9.6 kB)\u001b[0m\n",
      "\u001b[34mCollecting cachetools\n",
      "  Downloading cachetools-5.0.0-py3-none-any.whl (9.1 kB)\u001b[0m\n",
      "\u001b[34mCollecting retworkx\n",
      "  Downloading retworkx-0.11.0-cp37-cp37m-manylinux_2_5_x86_64.manylinux1_x86_64.manylinux_2_12_x86_64.manylinux2010_x86_64.whl (1.6 MB)\n",
      "     ━━━━━━━━━━━━━━━━━━━━━━━━━━━━━━━━━━━━━━━━ 1.6/1.6 MB 62.9 MB/s eta 0:00:00\u001b[0m\n",
      "\u001b[34mCollecting pennylane-lightning>=0.21\n",
      "  Downloading PennyLane_Lightning-0.21.0-cp37-cp37m-manylinux_2_17_x86_64.manylinux2014_x86_64.whl (7.8 MB)\n",
      "     ━━━━━━━━━━━━━━━━━━━━━━━━━━━━━━━━━━━━━━━━ 7.8/7.8 MB 76.9 MB/s eta 0:00:00\u001b[0m\n",
      "\u001b[34mCollecting semantic-version==2.6\n",
      "  Downloading semantic_version-2.6.0-py3-none-any.whl (14 kB)\u001b[0m\n",
      "\u001b[34mRequirement already satisfied: scipy in /usr/local/lib/python3.7/site-packages (from pennylane) (1.7.3)\u001b[0m\n",
      "\u001b[34mCollecting autograd\n",
      "  Downloading autograd-1.3.tar.gz (38 kB)\n",
      "  Preparing metadata (setup.py): started\u001b[0m\n",
      "\u001b[34m  Preparing metadata (setup.py): finished with status 'done'\u001b[0m\n",
      "\u001b[34mRequirement already satisfied: networkx in /usr/local/lib/python3.7/site-packages (from pennylane) (2.6.3)\u001b[0m\n",
      "\u001b[34mRequirement already satisfied: numpy in /usr/local/lib/python3.7/site-packages (from pennylane) (1.21.4)\u001b[0m\n",
      "\u001b[34mCollecting ninja\n",
      "  Downloading ninja-1.10.2.3-py2.py3-none-manylinux_2_5_x86_64.manylinux1_x86_64.whl (108 kB)\n",
      "     ━━━━━━━━━━━━━━━━━━━━━━━━━━━━━━━━━━━━━━━ 108.1/108.1 KB 8.4 MB/s eta 0:00:00\u001b[0m\n",
      "\u001b[34mCollecting future>=0.15.2\n",
      "  Downloading future-0.18.2.tar.gz (829 kB)\n",
      "     ━━━━━━━━━━━━━━━━━━━━━━━━━━━━━━━━━━━━━━ 829.2/829.2 KB 51.6 MB/s eta 0:00:00\n",
      "  Preparing metadata (setup.py): started\u001b[0m\n",
      "\u001b[34m  Preparing metadata (setup.py): finished with status 'done'\u001b[0m\n",
      "\u001b[34mBuilding wheels for collected packages: autograd, future\n",
      "  Building wheel for autograd (setup.py): started\u001b[0m\n",
      "\u001b[34m  Building wheel for autograd (setup.py): finished with status 'done'\n",
      "  Created wheel for autograd: filename=autograd-1.3-py3-none-any.whl size=47988 sha256=86a62e89a79f664055dadc31bed28ebd53ae51bfe227d85ae689e79589de90a9\n",
      "  Stored in directory: /root/.cache/pip/wheels/ef/32/31/0e87227cd0ca1d99ad51fbe4b54c6fa02afccf7e483d045e04\n",
      "  Building wheel for future (setup.py): started\u001b[0m\n",
      "\u001b[34m  Building wheel for future (setup.py): finished with status 'done'\n",
      "  Created wheel for future: filename=future-0.18.2-py3-none-any.whl size=491070 sha256=874cd449f040d635142ce3dedc5dd9584d1f91c4bf4d80feb6af01399411c77f\n",
      "  Stored in directory: /root/.cache/pip/wheels/56/b0/fe/4410d17b32f1f0c3cf54cdfb2bc04d7b4b8f4ae377e2229ba0\u001b[0m\n",
      "\u001b[34mSuccessfully built autograd future\u001b[0m\n",
      "\u001b[34mInstalling collected packages: semantic-version, ninja, appdirs, toml, retworkx, future, cachetools, autoray, autograd, pennylane-lightning, pennylane\u001b[0m\n"
     ]
    },
    {
     "name": "stdout",
     "output_type": "stream",
     "text": [
      "\u001b[34mSuccessfully installed appdirs-1.4.4 autograd-1.3 autoray-0.2.5 cachetools-5.0.0 future-0.18.2 ninja-1.10.2.3 pennylane-0.21.0 pennylane-lightning-0.21.0 retworkx-0.11.0 semantic-version-2.6.0 toml-0.10.2\u001b[0m\n",
      "\u001b[34mWARNING: Running pip as the 'root' user can result in broken permissions and conflicting behaviour with the system package manager. It is recommended to use a virtual environment instead: https://pip.pypa.io/warnings/venv\u001b[0m\n",
      "\u001b[34mCollecting amazon-braket-pennylane-plugin\n",
      "  Downloading amazon_braket_pennylane_plugin-1.5.6-py3-none-any.whl (19 kB)\u001b[0m\n",
      "\u001b[34mRequirement already satisfied: amazon-braket-sdk in /usr/local/lib/python3.7/site-packages (from amazon-braket-pennylane-plugin) (1.10.0)\u001b[0m\n",
      "\u001b[34mRequirement already satisfied: pennylane>=0.18.0 in /usr/local/lib/python3.7/site-packages (from amazon-braket-pennylane-plugin) (0.21.0)\u001b[0m\n",
      "\u001b[34mRequirement already satisfied: toml in /usr/local/lib/python3.7/site-packages (from pennylane>=0.18.0->amazon-braket-pennylane-plugin) (0.10.2)\u001b[0m\n",
      "\u001b[34mRequirement already satisfied: retworkx in /usr/local/lib/python3.7/site-packages (from pennylane>=0.18.0->amazon-braket-pennylane-plugin) (0.11.0)\u001b[0m\n",
      "\u001b[34mRequirement already satisfied: appdirs in /usr/local/lib/python3.7/site-packages (from pennylane>=0.18.0->amazon-braket-pennylane-plugin) (1.4.4)\u001b[0m\n",
      "\u001b[34mRequirement already satisfied: numpy in /usr/local/lib/python3.7/site-packages (from pennylane>=0.18.0->amazon-braket-pennylane-plugin) (1.21.4)\u001b[0m\n",
      "\u001b[34mRequirement already satisfied: scipy in /usr/local/lib/python3.7/site-packages (from pennylane>=0.18.0->amazon-braket-pennylane-plugin) (1.7.3)\u001b[0m\n",
      "\u001b[34mRequirement already satisfied: semantic-version==2.6 in /usr/local/lib/python3.7/site-packages (from pennylane>=0.18.0->amazon-braket-pennylane-plugin) (2.6.0)\u001b[0m\n",
      "\u001b[34mRequirement already satisfied: networkx in /usr/local/lib/python3.7/site-packages (from pennylane>=0.18.0->amazon-braket-pennylane-plugin) (2.6.3)\u001b[0m\n",
      "\u001b[34mRequirement already satisfied: cachetools in /usr/local/lib/python3.7/site-packages (from pennylane>=0.18.0->amazon-braket-pennylane-plugin) (5.0.0)\u001b[0m\n",
      "\u001b[34mRequirement already satisfied: autograd in /usr/local/lib/python3.7/site-packages (from pennylane>=0.18.0->amazon-braket-pennylane-plugin) (1.3)\u001b[0m\n",
      "\u001b[34mRequirement already satisfied: pennylane-lightning>=0.21 in /usr/local/lib/python3.7/site-packages (from pennylane>=0.18.0->amazon-braket-pennylane-plugin) (0.21.0)\u001b[0m\n",
      "\u001b[34mRequirement already satisfied: autoray in /usr/local/lib/python3.7/site-packages (from pennylane>=0.18.0->amazon-braket-pennylane-plugin) (0.2.5)\u001b[0m\n",
      "\u001b[34mRequirement already satisfied: amazon-braket-default-simulator in /usr/local/lib/python3.7/site-packages (from amazon-braket-sdk->amazon-braket-pennylane-plugin) (1.3.0)\u001b[0m\n",
      "\u001b[34mRequirement already satisfied: coverage==5.5 in /usr/local/lib/python3.7/site-packages (from amazon-braket-sdk->amazon-braket-pennylane-plugin) (5.5)\u001b[0m\n",
      "\u001b[34mRequirement already satisfied: boltons in /usr/local/lib/python3.7/site-packages (from amazon-braket-sdk->amazon-braket-pennylane-plugin) (21.0.0)\u001b[0m\n",
      "\u001b[34mRequirement already satisfied: boto3 in /usr/local/lib/python3.7/site-packages (from amazon-braket-sdk->amazon-braket-pennylane-plugin) (1.20.15)\u001b[0m\n",
      "\u001b[34mRequirement already satisfied: backoff in /usr/local/lib/python3.7/site-packages (from amazon-braket-sdk->amazon-braket-pennylane-plugin) (1.11.1)\u001b[0m\n",
      "\u001b[34mRequirement already satisfied: nest-asyncio in /usr/local/lib/python3.7/site-packages (from amazon-braket-sdk->amazon-braket-pennylane-plugin) (1.5.4)\u001b[0m\n",
      "\u001b[34mRequirement already satisfied: ninja in /usr/local/lib/python3.7/site-packages (from pennylane-lightning>=0.21->pennylane>=0.18.0->amazon-braket-pennylane-plugin) (1.10.2.3)\u001b[0m\n",
      "\u001b[34mRequirement already satisfied: amazon-braket-schemas in /usr/local/lib/python3.7/site-packages (from amazon-braket-default-simulator->amazon-braket-sdk->amazon-braket-pennylane-plugin) (1.5.0)\u001b[0m\n",
      "\u001b[34mRequirement already satisfied: opt-einsum in /usr/local/lib/python3.7/site-packages (from amazon-braket-default-simulator->amazon-braket-sdk->amazon-braket-pennylane-plugin) (3.3.0)\u001b[0m\n",
      "\u001b[34mRequirement already satisfied: future>=0.15.2 in /usr/local/lib/python3.7/site-packages (from autograd->pennylane>=0.18.0->amazon-braket-pennylane-plugin) (0.18.2)\u001b[0m\n",
      "\u001b[34mRequirement already satisfied: botocore<1.24.0,>=1.23.15 in /usr/local/lib/python3.7/site-packages (from boto3->amazon-braket-sdk->amazon-braket-pennylane-plugin) (1.23.15)\u001b[0m\n",
      "\u001b[34mRequirement already satisfied: jmespath<1.0.0,>=0.7.1 in /usr/local/lib/python3.7/site-packages (from boto3->amazon-braket-sdk->amazon-braket-pennylane-plugin) (0.10.0)\u001b[0m\n",
      "\u001b[34mRequirement already satisfied: s3transfer<0.6.0,>=0.5.0 in /usr/local/lib/python3.7/site-packages (from boto3->amazon-braket-sdk->amazon-braket-pennylane-plugin) (0.5.1)\u001b[0m\n",
      "\u001b[34mRequirement already satisfied: urllib3<1.27,>=1.25.4 in /usr/local/lib/python3.7/site-packages (from botocore<1.24.0,>=1.23.15->boto3->amazon-braket-sdk->amazon-braket-pennylane-plugin) (1.26.8)\u001b[0m\n",
      "\u001b[34mRequirement already satisfied: python-dateutil<3.0.0,>=2.1 in /usr/local/lib/python3.7/site-packages (from botocore<1.24.0,>=1.23.15->boto3->amazon-braket-sdk->amazon-braket-pennylane-plugin) (2.8.2)\u001b[0m\n",
      "\u001b[34mRequirement already satisfied: pydantic==1.8.2 in /usr/local/lib/python3.7/site-packages (from amazon-braket-schemas->amazon-braket-default-simulator->amazon-braket-sdk->amazon-braket-pennylane-plugin) (1.8.2)\u001b[0m\n",
      "\u001b[34mRequirement already satisfied: typing-extensions>=3.7.4.3 in /usr/local/lib/python3.7/site-packages (from pydantic==1.8.2->amazon-braket-schemas->amazon-braket-default-simulator->amazon-braket-sdk->amazon-braket-pennylane-plugin) (4.1.1)\u001b[0m\n",
      "\u001b[34mRequirement already satisfied: six>=1.5 in /usr/local/lib/python3.7/site-packages (from python-dateutil<3.0.0,>=2.1->botocore<1.24.0,>=1.23.15->boto3->amazon-braket-sdk->amazon-braket-pennylane-plugin) (1.16.0)\u001b[0m\n",
      "\u001b[34mInstalling collected packages: amazon-braket-pennylane-plugin\u001b[0m\n",
      "\u001b[34mSuccessfully installed amazon-braket-pennylane-plugin-1.5.6\u001b[0m\n",
      "\u001b[34mWARNING: Running pip as the 'root' user can result in broken permissions and conflicting behaviour with the system package manager. It is recommended to use a virtual environment instead: https://pip.pypa.io/warnings/venv\u001b[0m\n",
      "\u001b[34mProcessing /opt/ml/code/customer_code/extracted/qaoa/amazon-braket-schemas-python-staging-main\u001b[0m\n",
      "\u001b[34m  Installing build dependencies: started\u001b[0m\n",
      "\u001b[34m  Installing build dependencies: finished with status 'done'\n",
      "  Getting requirements to build wheel: started\u001b[0m\n",
      "\u001b[34m  Getting requirements to build wheel: finished with status 'done'\n",
      "  Preparing metadata (pyproject.toml): started\u001b[0m\n",
      "\u001b[34m  Preparing metadata (pyproject.toml): finished with status 'done'\u001b[0m\n",
      "\u001b[34mRequirement already satisfied: pydantic<2.0.0,>=1.8.2 in /usr/local/lib/python3.7/site-packages (from amazon-braket-schemas==1.8.0.dev0) (1.8.2)\u001b[0m\n",
      "\u001b[34mRequirement already satisfied: typing-extensions>=3.7.4.3 in /usr/local/lib/python3.7/site-packages (from pydantic<2.0.0,>=1.8.2->amazon-braket-schemas==1.8.0.dev0) (4.1.1)\u001b[0m\n",
      "\u001b[34mBuilding wheels for collected packages: amazon-braket-schemas\n",
      "  Building wheel for amazon-braket-schemas (pyproject.toml): started\u001b[0m\n",
      "\u001b[34m  Building wheel for amazon-braket-schemas (pyproject.toml): finished with status 'done'\n",
      "  Created wheel for amazon-braket-schemas: filename=amazon_braket_schemas-1.8.0.dev0-py3-none-any.whl size=80381 sha256=5fc0cfd8d7d6578c0b4a206939b89610b92509162192db42ee8028b7c63e4e3d\n",
      "  Stored in directory: /root/.cache/pip/wheels/0a/42/e6/bf70bfff38a4d2442e80dd51539d748c1c165655fcf4677bb5\u001b[0m\n",
      "\u001b[34mSuccessfully built amazon-braket-schemas\u001b[0m\n",
      "\u001b[34mInstalling collected packages: amazon-braket-schemas\n",
      "  Attempting uninstall: amazon-braket-schemas\n",
      "    Found existing installation: amazon-braket-schemas 1.5.0\n",
      "    Uninstalling amazon-braket-schemas-1.5.0:\n",
      "      Successfully uninstalled amazon-braket-schemas-1.5.0\u001b[0m\n",
      "\u001b[34mSuccessfully installed amazon-braket-schemas-1.8.0.dev0\u001b[0m\n",
      "\u001b[34mWARNING: Running pip as the 'root' user can result in broken permissions and conflicting behaviour with the system package manager. It is recommended to use a virtual environment instead: https://pip.pypa.io/warnings/venv\u001b[0m\n",
      "\u001b[34mProcessing /opt/ml/code/customer_code/extracted/qaoa/amazon-braket-sdk-python-staging-oqc_dev\u001b[0m\n"
     ]
    },
    {
     "name": "stdout",
     "output_type": "stream",
     "text": [
      "\u001b[34m  Installing build dependencies: started\u001b[0m\n",
      "\u001b[34m  Installing build dependencies: finished with status 'done'\n",
      "  Getting requirements to build wheel: started\u001b[0m\n",
      "\u001b[34m  Getting requirements to build wheel: finished with status 'done'\n",
      "  Preparing metadata (pyproject.toml): started\u001b[0m\n",
      "\u001b[34m  Preparing metadata (pyproject.toml): finished with status 'done'\u001b[0m\n",
      "\u001b[34mRequirement already satisfied: coverage==5.5 in /usr/local/lib/python3.7/site-packages (from amazon-braket-sdk==1.14.1.dev0) (5.5)\u001b[0m\n",
      "\u001b[34mRequirement already satisfied: boltons in /usr/local/lib/python3.7/site-packages (from amazon-braket-sdk==1.14.1.dev0) (21.0.0)\u001b[0m\n",
      "\u001b[34mRequirement already satisfied: networkx in /usr/local/lib/python3.7/site-packages (from amazon-braket-sdk==1.14.1.dev0) (2.6.3)\u001b[0m\n",
      "\u001b[34mRequirement already satisfied: nest-asyncio in /usr/local/lib/python3.7/site-packages (from amazon-braket-sdk==1.14.1.dev0) (1.5.4)\u001b[0m\n",
      "\u001b[34mRequirement already satisfied: numpy in /usr/local/lib/python3.7/site-packages (from amazon-braket-sdk==1.14.1.dev0) (1.21.4)\u001b[0m\n",
      "\u001b[34mRequirement already satisfied: boto3 in /usr/local/lib/python3.7/site-packages (from amazon-braket-sdk==1.14.1.dev0) (1.20.15)\u001b[0m\n",
      "\u001b[34mRequirement already satisfied: backoff in /usr/local/lib/python3.7/site-packages (from amazon-braket-sdk==1.14.1.dev0) (1.11.1)\u001b[0m\n",
      "\u001b[34mRequirement already satisfied: amazon-braket-default-simulator in /usr/local/lib/python3.7/site-packages (from amazon-braket-sdk==1.14.1.dev0) (1.3.0)\u001b[0m\n",
      "\u001b[34mRequirement already satisfied: amazon-braket-schemas in /usr/local/lib/python3.7/site-packages (from amazon-braket-default-simulator->amazon-braket-sdk==1.14.1.dev0) (1.8.0.dev0)\u001b[0m\n",
      "\u001b[34mRequirement already satisfied: opt-einsum in /usr/local/lib/python3.7/site-packages (from amazon-braket-default-simulator->amazon-braket-sdk==1.14.1.dev0) (3.3.0)\u001b[0m\n",
      "\u001b[34mRequirement already satisfied: botocore<1.24.0,>=1.23.15 in /usr/local/lib/python3.7/site-packages (from boto3->amazon-braket-sdk==1.14.1.dev0) (1.23.15)\u001b[0m\n",
      "\u001b[34mRequirement already satisfied: jmespath<1.0.0,>=0.7.1 in /usr/local/lib/python3.7/site-packages (from boto3->amazon-braket-sdk==1.14.1.dev0) (0.10.0)\u001b[0m\n",
      "\u001b[34mRequirement already satisfied: s3transfer<0.6.0,>=0.5.0 in /usr/local/lib/python3.7/site-packages (from boto3->amazon-braket-sdk==1.14.1.dev0) (0.5.1)\u001b[0m\n",
      "\u001b[34mRequirement already satisfied: urllib3<1.27,>=1.25.4 in /usr/local/lib/python3.7/site-packages (from botocore<1.24.0,>=1.23.15->boto3->amazon-braket-sdk==1.14.1.dev0) (1.26.8)\u001b[0m\n",
      "\u001b[34mRequirement already satisfied: python-dateutil<3.0.0,>=2.1 in /usr/local/lib/python3.7/site-packages (from botocore<1.24.0,>=1.23.15->boto3->amazon-braket-sdk==1.14.1.dev0) (2.8.2)\u001b[0m\n",
      "\u001b[34mRequirement already satisfied: pydantic<2.0.0,>=1.8.2 in /usr/local/lib/python3.7/site-packages (from amazon-braket-schemas->amazon-braket-default-simulator->amazon-braket-sdk==1.14.1.dev0) (1.8.2)\u001b[0m\n",
      "\u001b[34mRequirement already satisfied: typing-extensions>=3.7.4.3 in /usr/local/lib/python3.7/site-packages (from pydantic<2.0.0,>=1.8.2->amazon-braket-schemas->amazon-braket-default-simulator->amazon-braket-sdk==1.14.1.dev0) (4.1.1)\u001b[0m\n",
      "\u001b[34mRequirement already satisfied: six>=1.5 in /usr/local/lib/python3.7/site-packages (from python-dateutil<3.0.0,>=2.1->botocore<1.24.0,>=1.23.15->boto3->amazon-braket-sdk==1.14.1.dev0) (1.16.0)\u001b[0m\n",
      "\u001b[34mBuilding wheels for collected packages: amazon-braket-sdk\n",
      "  Building wheel for amazon-braket-sdk (pyproject.toml): started\u001b[0m\n",
      "\u001b[34m  Building wheel for amazon-braket-sdk (pyproject.toml): finished with status 'done'\n",
      "  Created wheel for amazon-braket-sdk: filename=amazon_braket_sdk-1.14.1.dev0-py3-none-any.whl size=155165 sha256=45f46fb86ada960d3be2ae15475bf36c0025a57a1f6c0870b5af9667a3174c22\n",
      "  Stored in directory: /root/.cache/pip/wheels/2a/57/71/1043f656f250a60cbf9dd24457793610a747a1a4e8a05a6dd9\u001b[0m\n",
      "\u001b[34mSuccessfully built amazon-braket-sdk\u001b[0m\n",
      "\u001b[34mInstalling collected packages: amazon-braket-sdk\n",
      "  Attempting uninstall: amazon-braket-sdk\n",
      "    Found existing installation: amazon-braket-sdk 1.10.0\n",
      "    Uninstalling amazon-braket-sdk-1.10.0:\n",
      "      Successfully uninstalled amazon-braket-sdk-1.10.0\u001b[0m\n",
      "\u001b[34mSuccessfully installed amazon-braket-sdk-1.14.1.dev0\u001b[0m\n",
      "\u001b[34mWARNING: Running pip as the 'root' user can result in broken permissions and conflicting behaviour with the system package manager. It is recommended to use a virtual environment instead: https://pip.pypa.io/warnings/venv\u001b[0m\n",
      "\u001b[34menviron({'PATH': '/usr/local/openmpi/bin/:/usr/local/sbin:/usr/local/bin:/usr/sbin:/usr/bin:/sbin:/bin', 'HOSTNAME': 'ip-10-0-143-188.us-west-1.compute.internal', 'AMZN_BRAKET_IMAGE_ADDITIONAL_LIB': 's3://amazon-braket-external-assets-preview-us-west-2/HybridJobsAccess/libraries/combined.tar.gz', 'AMZN_BRAKET_JOB_TOKEN': 'YXJuOmF3czpicmFrZXQ6dXMtd2VzdC0xOjUzNzMzMjMwNjE1Mzpqb2IvcWFvYS1qb2ItYXV0b2dyYWQtMTY0NTUwMTc3NA==', 'AWS_DEFAULT_REGION': 'us-west-1', 'TRAINING_JOB_ARN': 'arn:aws:sagemaker:us-west-1:560540097532:training-job/5a2c2205-7d5f-468c-b8d6-9abfafcc8e2a', 'ECS_CONTAINER_METADATA_URI': 'http://169.254.170.2/v3/4ada74e8-50cd-44af-9380-5fa2060be746', 'AWS_EXECUTION_ENV': 'AWS_ECS_EC2', 'AWS_REGION': 'us-west-1', 'AMZN_BRAKET_INPUT_DIR': '/opt/braket/input/data', 'AMZN_BRAKET_JOB_RESULTS_S3_PATH': 'jobs/qaoa-job-autograd-1645501774/data/5a2c2205-7d5f-468c-b8d6-9abfafcc8e2a/output', 'AMZN_BRAKET_SCRIPT_COMPRESSION_TYPE': 'GZIP', 'AMZN_BRAKET_SCRIPT_ENTRY_POINT': 'qaoa.qaoa_algorithm_script', 'AMZN_BRAKET_TASK_RESULTS_S3_URI': 's3://amazon-braket-us-west-1-537332306153/jobs/qaoa-job-autograd-1645501774/tasks', 'DMLC_INTERFACE': 'eth0', 'AWS_CONTAINER_CREDENTIALS_RELATIVE_URI': '/v2/credentials/ca06d9b8-3afe-4146-b579-570eeb49c6bf', 'AMZN_BRAKET_CHECKPOINT_DIR': '/opt/jobs/checkpoints', 'AMZN_BRAKET_HP_FILE': '/opt/braket/input/config/hyperparameters.json', 'AMZN_BRAKET_JOB_NAME': 'qaoa-job-autograd-1645501774', 'AMZN_BRAKET_JOB_RESULTS_DIR': '/opt/braket/model', 'AMZN_BRAKET_OUT_S3_BUCKET': 'amazon-braket-us-west-1-537332306153', 'ECS_CONTAINER_METADATA_URI_V4': 'http://169.254.170.2/v4/4ada74e8-50cd-44af-9380-5fa2060be746', 'AMZN_BRAKET_DEVICE_ARN': 'arn:aws:braket:::device/quantum-simulator/amazon/sv1', 'AMZN_BRAKET_IMAGE_SETUP_SCRIPT': 's3://amazon-braket-external-assets-preview-us-west-2/HybridJobsAccess/scripts/setup-container.sh', 'AMZN_BRAKET_SCRIPT_S3_URI': 's3://amazon-braket-us-west-1-537332306153/jobs/qaoa-job-autograd-1645501774/script/source.tar.gz', 'NVIDIA_VISIBLE_DEVICES': 'void', 'TRAINING_JOB_NAME': '5a2c2205-7d5f-468c-b8d6-9abfafcc8e2a', 'DEBIAN_FRONTEND': 'noninteractive', 'DEBCONF_NONINTERACTIVE_SEEN': 'true', 'PYTHONDONTWRITEBYTECODE': '1', 'PYTHONUNBUFFERED': '1', 'PYTHONIOENCODING': 'UTF-8', 'LANG': 'C.UTF-8', 'LC_ALL': 'C.UTF-8', 'LD_LIBRARY_PATH': '/usr/local/openmpi/lib:/usr/local/lib:', 'SAGEMAKER_PROGRAM': 'braket_container.py', 'HOME': '/root', 'SAGEMAKER_JOB_NAME': '', 'CURRENT_HOST': 'algo-1', 'SAGEMAKER_REGION': 'us-west-1', 'SM_HOSTS': '[\"algo-1\"]', 'SM_NETWORK_INTERFACE_NAME': 'eth0', 'SM_HPS': '{\"interface\":\"autograd\",\"max_parallel\":1,\"num_iterations\":1,\"p\":1,\"seed\":40,\"shots\":1000,\"stepsize\":0.1}', 'SM_USER_ENTRY_POINT': 'braket_container.py', 'SM_FRAMEWORK_PARAMS': '{}', 'SM_RESOURCE_CONFIG': '{\"current_host\":\"algo-1\",\"hosts\":[\"algo-1\"],\"network_interface_name\":\"eth0\"}', 'SM_INPUT_DATA_CONFIG': '{\"input-graph\":{\"ContentType\":\"application/octet-stream\",\"RecordWrapperType\":\"None\",\"S3DistributionType\":\"ShardedByS3Key\",\"TrainingInputMode\":\"File\"}}', 'SM_OUTPUT_DATA_DIR': '/opt/ml/output/data', 'SM_CHANNELS': '[\"input-graph\"]', 'SM_CURRENT_HOST': 'algo-1', 'SM_MODULE_NAME': 'braket_container', 'SM_LOG_LEVEL': '20', 'SM_FRAMEWORK_MODULE': '', 'SM_INPUT_DIR': '/opt/ml/input', 'SM_INPUT_CONFIG_DIR': '/opt/ml/input/config', 'SM_OUTPUT_DIR': '/opt/ml/output', 'SM_NUM_CPUS': '2', 'SM_NUM_GPUS': '0', 'SM_MODEL_DIR': '/opt/ml/model', 'SM_MODULE_DIR': '/opt/ml/code', 'SM_TRAINING_ENV': '{\"additional_framework_parameters\":{},\"channel_input_dirs\":{\"input-graph\":\"/opt/ml/input/data/input-graph\"},\"current_host\":\"algo-1\",\"framework_module\":null,\"hosts\":[\"algo-1\"],\"hyperparameters\":{\"interface\":\"autograd\",\"max_parallel\":1,\"num_iterations\":1,\"p\":1,\"seed\":40,\"shots\":1000,\"stepsize\":0.1},\"input_config_dir\":\"/opt/ml/input/config\",\"input_data_config\":{\"input-graph\":{\"ContentType\":\"application/octet-stream\",\"RecordWrapperType\":\"None\",\"S3DistributionType\":\"ShardedByS3Key\",\"TrainingInputMode\":\"File\"}},\"input_dir\":\"/opt/ml/input\",\"is_master\":true,\"job_name\":\"5a2c2205-7d5f-468c-b8d6-9abfafcc8e2a\",\"log_level\":20,\"master_hostname\":\"algo-1\",\"model_dir\":\"/opt/ml/model\",\"module_dir\":\"/opt/ml/code\",\"module_name\":\"braket_container\",\"network_interface_name\":\"eth0\",\"num_cpus\":2,\"num_gpus\":0,\"output_data_dir\":\"/opt/ml/output/data\",\"output_dir\":\"/opt/ml/output\",\"output_intermediate_dir\":\"/opt/ml/output/intermediate\",\"resource_config\":{\"current_host\":\"algo-1\",\"hosts\":[\"algo-1\"],\"network_interface_name\":\"eth0\"},\"user_entry_point\":\"braket_container.py\"}', 'SM_USER_ARGS': '[\"--interface\",\"autograd\",\"--max_parallel\",\"1\",\"--num_iterations\",\"1\",\"-p\",\"1\",\"--seed\",\"40\",\"--shots\",\"1000\",\"--stepsize\",\"0.1\"]', 'SM_OUTPUT_INTERMEDIATE_DIR': '/opt/ml/output/intermediate', 'SM_CHANNEL_INPUT-GRAPH': '/opt/ml/input/data/input-graph', 'SM_HP_P': '1', 'SM_HP_SEED': '40', 'SM_HP_NUM_ITERATIONS': '1', 'SM_HP_INTERFACE': 'autograd', 'SM_HP_SHOTS': '1000', 'SM_HP_MAX_PARALLEL': '1', 'SM_HP_STEPSIZE': '0.1', 'PYTHONPATH': '/opt/ml/code:/usr/local/bin:/usr/local/lib/python37.zip:/usr/local/lib/python3.7:/usr/local/lib/python3.7/lib-dynload:/usr/local/lib/python3.7/site-packages'})\u001b[0m\n",
      "\u001b[34m{'p': '1', 'seed': '40', 'num_iterations': '1', 'interface': 'autograd', 'shots': '1000', 'max_parallel': '1', 'stepsize': '0.1'}\u001b[0m\n",
      "\u001b[34mOptimization start\u001b[0m\n"
     ]
    },
    {
     "name": "stdout",
     "output_type": "stream",
     "text": [
      "\u001b[34mInitial cost: -2.486\u001b[0m\n",
      "\u001b[34mMetrics - timestamp=1645502113.5339143; Cost=-2.486; iteration_number=0;\u001b[0m\n",
      "\u001b[34mCompleted iteration 1\u001b[0m\n",
      "\u001b[34mTime to complete iteration: 86.27477955818176 seconds\u001b[0m\n",
      "\u001b[34mMetrics - timestamp=1645502118.056836; Cost=-2.566; iteration_number=1;\u001b[0m\n",
      "\u001b[34mCost at step 1: -2.566\u001b[0m\n",
      "\u001b[34mCode Run Finished\u001b[0m\n",
      "\u001b[34m2022-02-22 03:55:18,328 sagemaker-training-toolkit INFO     Reporting training SUCCESS\u001b[0m\n"
     ]
    }
   ],
   "source": [
    "job = AwsQuantumJob.create(\n",
    "    device=device_arn,\n",
    "    source_module=\"qaoa\",\n",
    "    job_name=\"qaoa-job-\" + interface + \"-\" + str(int(time.time())),\n",
    "#     image_uri=image_uri,\n",
    "    # Relative to the source_module\n",
    "    entry_point=\"qaoa.qaoa_algorithm_script\",\n",
    "    copy_checkpoints_from_job=None,\n",
    "    # general parameters\n",
    "    hyperparameters=hyperparameters,\n",
    "    input_data={\"input-graph\": input_file_path},\n",
    "    wait_until_complete=True,\n",
    "    aws_session=aws_session\n",
    ")"
   ]
  },
  {
   "cell_type": "markdown",
   "id": "fa33c0d4",
   "metadata": {},
   "source": [
    "## View results"
   ]
  },
  {
   "cell_type": "markdown",
   "id": "706e3607",
   "metadata": {},
   "source": [
    "After the job is completed, we can view the result and the metric we defined in the algorithm script."
   ]
  },
  {
   "cell_type": "code",
   "execution_count": 7,
   "id": "0b197220",
   "metadata": {},
   "outputs": [],
   "source": [
    "# job = AwsQuantumJob(\"arn:aws:braket:us-west-2:537332306153:job/qaoa-job-autograd-1645155074\")"
   ]
  },
  {
   "cell_type": "code",
   "execution_count": 8,
   "id": "fa96c664",
   "metadata": {},
   "outputs": [
    {
     "name": "stdout",
     "output_type": "stream",
     "text": [
      "{'params': [[0.05907687028080286, 0.08180366040111861], [-0.025914651225132482, -0.11692694815210655]], 'cost': -2.739}\n",
      "CPU times: user 116 ms, sys: 15.8 ms, total: 131 ms\n",
      "Wall time: 5.12 s\n"
     ]
    }
   ],
   "source": [
    "%%time\n",
    "# This cell should take 7-8  minutes\n",
    "job_result = job.result()\n",
    "print(job_result)"
   ]
  },
  {
   "cell_type": "code",
   "execution_count": 9,
   "id": "4ae2e6ae",
   "metadata": {},
   "outputs": [
    {
     "name": "stdout",
     "output_type": "stream",
     "text": [
      "{'timestamp': [1645155843.15538, 1645155840.1476948, 1645155739.619985, 1645155646.1617677, 1645155552.0102684, 1645155452.2443554], 'Cost': [-2.739, -2.556, -2.496, -2.465, -2.497, -2.466], 'iteration_number': [5.0, 4.0, 3.0, 2.0, 1.0, 0.0]}\n"
     ]
    }
   ],
   "source": [
    "# May need to wait a bit before metrics show up. If metrics aren't there, run a bit later\n",
    "# time.sleep(20)\n",
    "print(job.metrics())"
   ]
  },
  {
   "cell_type": "code",
   "execution_count": 10,
   "id": "0d19663a",
   "metadata": {},
   "outputs": [
    {
     "data": {
      "image/png": "[encoded data removed]",
      "text/plain": [
       "<Figure size 432x288 with 1 Axes>"
      ]
     },
     "metadata": {
      "needs_background": "light"
     },
     "output_type": "display_data"
    }
   ],
   "source": [
    "# A demonstration of plotting the metrics\n",
    "import pandas as pd\n",
    "from matplotlib.ticker import MaxNLocator\n",
    "\n",
    "metrics_data = job.metrics()\n",
    "\n",
    "if metrics_data: \n",
    "    df = pd.DataFrame(job.metrics())\n",
    "\n",
    "    ax = plt.figure().gca()\n",
    "    ax.xaxis.set_major_locator(MaxNLocator(integer=True))\n",
    "    figure = df.plot(x=\"iteration_number\", y=\"Cost\", ax=ax)\n",
    "else:\n",
    "    print(\"Wait for metrics to populate and re-run the cell.\")"
   ]
  },
  {
   "cell_type": "code",
   "execution_count": 11,
   "id": "ab3be77e",
   "metadata": {},
   "outputs": [],
   "source": [
    "from qaoa.qaoa_model import qaoa_model\n",
    "params = job_result['params']\n",
    "circuit = qaoa_model(device_arn, hyperparameters, graph)\n",
    "output = circuit(params)"
   ]
  },
  {
   "cell_type": "code",
   "execution_count": 12,
   "id": "f799a0f3",
   "metadata": {},
   "outputs": [
    {
     "data": {
      "image/png": "[encoded data removed]",
      "text/plain": [
       "<Figure size 432x288 with 1 Axes>"
      ]
     },
     "metadata": {
      "needs_background": "light"
     },
     "output_type": "display_data"
    }
   ],
   "source": [
    "import numpy as np\n",
    "import matplotlib.pyplot as plt\n",
    "\n",
    "def bitstring_to_int(bit_string_sample):\n",
    "    bit_string = \"\".join(str(bs) for bs in bit_string_sample)\n",
    "    return int(bit_string, base=2)\n",
    "\n",
    "samples = [bitstring_to_int(x) for x in output]\n",
    "\n",
    "bins = np.arange(0, 2**num_nodes+1) - 0.5\n",
    "xticks = range(0, 2**num_nodes)\n",
    "xtick_labels = list(map(lambda x: format(x, \"04b\"), xticks))\n",
    "\n",
    "plt.hist(samples, bins=bins)\n",
    "plt.xticks(xticks, xtick_labels, rotation=\"vertical\")\n",
    "plt.show()"
   ]
  },
  {
   "cell_type": "markdown",
   "id": "0f2aca43",
   "metadata": {},
   "source": [
    "## Summary\n",
    "\n",
    "In this tutorial, we set up a Max-Cut problem with a random graph using PennyLane. We saved the graph to a local file and provided it as input data to our Braket Job, and used the pre-built PennyLane container image to run it. Variables that are required for the training process and the optimizer are passed as hyperparameters. The result is retrieved after the QAOA algorithm is completed. Lastly, we demonstrated how to use checkpoints to save and load training progress of a job."
   ]
  },
  {
   "cell_type": "code",
   "execution_count": null,
   "id": "c8383fd7",
   "metadata": {},
   "outputs": [],
   "source": []
  },
  {
   "cell_type": "code",
   "execution_count": null,
   "id": "75aef6b0",
   "metadata": {},
   "outputs": [],
   "source": []
  }
 ],
 "metadata": {
  "kernelspec": {
   "display_name": "Python 3",
   "language": "python",
   "name": "python3"
  },
  "language_info": {
   "codemirror_mode": {
    "name": "ipython",
    "version": 3
   },
   "file_extension": ".py",
   "mimetype": "text/x-python",
   "name": "python",
   "nbconvert_exporter": "python",
   "pygments_lexer": "ipython3",
   "version": "3.7.12"
  }
 },
 "nbformat": 4,
 "nbformat_minor": 5
}
