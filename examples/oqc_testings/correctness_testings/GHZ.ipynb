{
 "cells": [
  {
   "cell_type": "markdown",
   "metadata": {},
   "source": [
    "# Creating GHZ states"
   ]
  },
  {
   "cell_type": "code",
   "execution_count": 1,
   "metadata": {},
   "outputs": [],
   "source": [
    "import numpy as np\n",
    "import matplotlib.pyplot as plt\n",
    "%matplotlib inline\n",
    "import string\n",
    "import time\n",
    "import datetime\n",
    "\n",
    "from braket.circuits import Circuit, Gate, Instruction, circuit, Observable\n",
    "from braket.devices import LocalSimulator\n",
    "from braket.aws import AwsDevice, AwsQuantumTask"
   ]
  },
  {
   "cell_type": "code",
   "execution_count": 2,
   "metadata": {},
   "outputs": [],
   "source": [
    "ghz_2 = Circuit().h(0).cnot(0, 1)\n",
    "ghz_4 = Circuit().h(0).cnot(0, 1).cnot(0, 2).cnot(0, 3)\n",
    "ghz_6 = Circuit().h(0).cnot(0, 1).cnot(0, 2).cnot(0, 3).cnot(0, 4).cnot(0, 5)\n",
    "ghz_8 = Circuit().h(0).cnot(0, 1).cnot(0, 2).cnot(0, 3).cnot(0, 4).cnot(0, 5).cnot(0, 6).cnot(0, 7)"
   ]
  },
  {
   "cell_type": "markdown",
   "metadata": {},
   "source": [
    "## Simulator"
   ]
  },
  {
   "cell_type": "code",
   "execution_count": 11,
   "metadata": {},
   "outputs": [
    {
     "name": "stdout",
     "output_type": "stream",
     "text": [
      "Counter({'11': 52, '00': 48})\n",
      "Counter({'0000': 259, '1111': 241})\n",
      "Counter({'111111': 505, '000000': 495})\n",
      "Counter({'11111111': 2520, '00000000': 2480})\n"
     ]
    }
   ],
   "source": [
    "device = LocalSimulator()\n",
    "counts_2 = device.run(ghz_2, shots=100).result().measurement_counts\n",
    "counts_4 = device.run(ghz_4, shots=500).result().measurement_counts\n",
    "counts_6 = device.run(ghz_6, shots=1000).result().measurement_counts\n",
    "counts_8 = device.run(ghz_8, shots=5000).result().measurement_counts\n",
    "print(counts_2)\n",
    "print(counts_4)\n",
    "print(counts_6)\n",
    "print(counts_8)"
   ]
  },
  {
   "cell_type": "markdown",
   "metadata": {},
   "source": [
    "## Hardware"
   ]
  },
  {
   "cell_type": "code",
   "execution_count": 5,
   "metadata": {},
   "outputs": [],
   "source": [
    "now = datetime.datetime.now().strftime('%y%m%d%H%M%S')\n",
    "my_bucket = \"amazon-braket-hardware-testing\" # the name of the bucket\n",
    "my_prefix = \"rigetti-A11-ghz-\" + now # the name of the folder in the bucket\n",
    "s3_folder = (my_bucket, my_prefix)\n",
    "\n",
    "# device = AwsDevice(\"arn:aws:braket:us-west-1::device/qpu/rigetti/Aspen-M-1\")\n",
    "device = AwsDevice(\"arn:aws:braket:::device/qpu/rigetti/Aspen-11\")\n",
    "# device = AwsDevice(\"arn:aws:braket:eu-west-2::device/qpu/oqc/Lucy\")"
   ]
  },
  {
   "cell_type": "code",
   "execution_count": null,
   "metadata": {},
   "outputs": [],
   "source": [
    "counts_hw2 = device.run(ghz_2, s3_folder, shots=100).result().measurement_counts\n",
    "counts_hw4 = device.run(ghz_4, s3_folder, shots=500).result().measurement_counts\n",
    "counts_hw6 = device.run(ghz_6, s3_folder, shots=1000).result().measurement_counts\n",
    "counts_hw8 = device.run(ghz_8, s3_folder, shots=5000).result().measurement_counts"
   ]
  },
  {
   "cell_type": "markdown",
   "metadata": {},
   "source": [
    "## See results"
   ]
  },
  {
   "cell_type": "code",
   "execution_count": 18,
   "metadata": {},
   "outputs": [
    {
     "data": {
      "text/plain": [
       "<matplotlib.legend.Legend at 0x7fdfe4e24a10>"
      ]
     },
     "execution_count": 18,
     "metadata": {},
     "output_type": "execute_result"
    },
    {
     "data": {
      "image/png": "[encoded data removed]",
      "text/plain": [
       "<Figure size 432x288 with 1 Axes>"
      ]
     },
     "metadata": {
      "needs_background": "light"
     },
     "output_type": "display_data"
    }
   ],
   "source": [
    "plt.bar(counts_2.keys(), counts_2.values())\n",
    "plt.bar(counts_hw2.keys(), counts_hw2.values(), alpha=0.5)\n",
    "plt.legend(['simulator','hardware'])"
   ]
  },
  {
   "cell_type": "code",
   "execution_count": 19,
   "metadata": {},
   "outputs": [
    {
     "data": {
      "text/plain": [
       "<matplotlib.legend.Legend at 0x7fdfe55e8ad0>"
      ]
     },
     "execution_count": 19,
     "metadata": {},
     "output_type": "execute_result"
    },
    {
     "data": {
      "image/png": "[encoded data removed]",
      "text/plain": [
       "<Figure size 432x288 with 1 Axes>"
      ]
     },
     "metadata": {
      "needs_background": "light"
     },
     "output_type": "display_data"
    }
   ],
   "source": [
    "plt.bar(counts_4.keys(), counts_4.values())\n",
    "plt.bar(counts_hw4.keys(), counts_hw4.values(), alpha=0.5)\n",
    "plt.legend(['simulator','hardware'])"
   ]
  },
  {
   "cell_type": "code",
   "execution_count": 20,
   "metadata": {},
   "outputs": [
    {
     "data": {
      "text/plain": [
       "<matplotlib.legend.Legend at 0x7fdfe527b890>"
      ]
     },
     "execution_count": 20,
     "metadata": {},
     "output_type": "execute_result"
    },
    {
     "data": {
      "image/png": "[encoded data removed]",
      "text/plain": [
       "<Figure size 432x288 with 1 Axes>"
      ]
     },
     "metadata": {
      "needs_background": "light"
     },
     "output_type": "display_data"
    }
   ],
   "source": [
    "plt.bar(counts_6.keys(), counts_6.values())\n",
    "plt.bar(counts_hw6.keys(), counts_hw6.values(), alpha=0.5)\n",
    "plt.legend(['simulator','hardware'])"
   ]
  },
  {
   "cell_type": "code",
   "execution_count": 21,
   "metadata": {},
   "outputs": [
    {
     "data": {
      "text/plain": [
       "<matplotlib.legend.Legend at 0x7fdfe514cc90>"
      ]
     },
     "execution_count": 21,
     "metadata": {},
     "output_type": "execute_result"
    },
    {
     "data": {
      "image/png": "[encoded data removed]",
      "text/plain": [
       "<Figure size 432x288 with 1 Axes>"
      ]
     },
     "metadata": {
      "needs_background": "light"
     },
     "output_type": "display_data"
    }
   ],
   "source": [
    "plt.bar(counts_8.keys(), counts_8.values())\n",
    "plt.bar(counts_hw8.keys(), counts_hw8.values(), alpha=0.5)\n",
    "plt.legend(['simulator','hardware'])"
   ]
  },
  {
   "cell_type": "code",
   "execution_count": null,
   "metadata": {},
   "outputs": [],
   "source": []
  }
 ],
 "metadata": {
  "instance_type": "ml.t3.medium",
  "kernelspec": {
   "display_name": "python3 (braketdlsm/4)",
   "language": "python",
   "name": "python3__SAGEMAKER_INTERNAL__arn:aws:sagemaker:us-west-2:537332306153:image-version/braketdlsm/4"
  },
  "language_info": {
   "codemirror_mode": {
    "name": "ipython",
    "version": 3
   },
   "file_extension": ".py",
   "mimetype": "text/x-python",
   "name": "python",
   "nbconvert_exporter": "python",
   "pygments_lexer": "ipython3",
   "version": "3.7.10"
  }
 },
 "nbformat": 4,
 "nbformat_minor": 4
}
