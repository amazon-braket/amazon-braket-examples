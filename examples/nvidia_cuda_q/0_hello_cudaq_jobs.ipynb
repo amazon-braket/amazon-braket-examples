{
 "cells": [
  {
   "cell_type": "markdown",
   "id": "57cc0f78-56cc-4a24-b5af-7e156a17a002",
   "metadata": {},
   "source": [
    "# Hello CUDA-Q with Braket Hybrid Jobs\n",
    "[CUDA-Q](https://nvidia.github.io/cuda-quantum/latest/index.html) offers a unified programming model designed for hybrid workloads that run on CPUs, GPUs and QPUs. In this notebook, you will learn how to run CUDA-Q programs using Amazon Braket Hybrid Jobs. This notebook assumes basic knowledge of Hybrid Jobs. You can learn about Hybrid Jobs from [this page](https://docs.aws.amazon.com/braket/latest/developerguide/braket-what-is-hybrid-job.html) in the Amazon Braket Developer Guide and the notebooks in [Amazon Braket Examples](https://github.com/amazon-braket/amazon-braket-examples/tree/main/examples/hybrid_jobs)."
   ]
  },
  {
   "cell_type": "markdown",
   "id": "08b2ebf4-24f0-4706-960e-2e3898322cf1",
   "metadata": {},
   "source": [
    "## Running CUDA-Q with Braket\n",
    "Now that we have prepared the environment for CUDA-Q in a container image, let's run our first CUDA-Q job! First, we start with the necessary imports."
   ]
  },
  {
   "cell_type": "code",
   "execution_count": null,
   "id": "d93602c9-c064-452c-85d4-3d2debd38cfb",
   "metadata": {},
   "outputs": [],
   "source": [
    "from braket.jobs import hybrid_job\n",
    "from braket.jobs.environment_variables import get_job_device_arn"
   ]
  },
  {
   "cell_type": "markdown",
   "id": "eb2414bc",
   "metadata": {},
   "source": [
    "For this example, we will use the CUDA-Q hybrid jobs container provided by Braket."
   ]
  },
  {
   "cell_type": "code",
   "execution_count": null,
   "id": "4cc13dcd",
   "metadata": {},
   "outputs": [],
   "source": [
    "# TODO - replace with BDK enum\n",
    "image_uri = \"292282985366.dkr.ecr.us-east-1.amazonaws.com/amazon-braket-cudaq-jobs:latest\""
   ]
  },
  {
   "cell_type": "markdown",
   "id": "a902c96e-7da5-4ad0-b20b-ef712732e6ec",
   "metadata": {},
   "source": [
    "## Test your CUDA-Q job locally\n",
    "Before submitting a job, it is recommended to test with a local job. A local job runs scripts in a container locally. It is a good way to test your code with a small problem size before scaling up. Note that running a local hybrid job requires Docker to be installed on the local computer. \n",
    "\n",
    "Here, let's use a Bell circuit with CUDA-Q for the local job. This example does not require a GPU to run. The `hello_quantum` function in the code snippet below defines an experiment to sample a Bell circuit. The string `qpp-cpu` in the `device` keyword argument of the decorator is the name of a CUDA-Q CPU simulator. You can view the CUDA-Q tutorial and the available backends in the [CUDA-Q documentation](https://nvidia.github.io/cuda-quantum/latest/index.html).\n",
    "\n",
    "When called, the decorated `hello_quantum` function starts a local job because of the `local=True` keyword in the `hybrid_job` decorator. The code inside the `hello_quantum` function will run locally in the environment defined by the CUDA-Q hybrid jobs container image."
   ]
  },
  {
   "cell_type": "code",
   "execution_count": null,
   "id": "09d6bd61-6fb2-4fbc-9d60-93d4161a724e",
   "metadata": {},
   "outputs": [],
   "source": [
    "@hybrid_job(device=\"local:cudaq/qpp-cpu\", image_uri=image_uri, local=True)\n",
    "def hello_quantum():\n",
    "    import cudaq\n",
    "\n",
    "    # define the backend\n",
    "    device = get_job_device_arn()\n",
    "    cudaq.set_target(device.split(\"/\")[-1])\n",
    "    print(\"CUDA-Q backend: \", cudaq.get_target())\n",
    "\n",
    "    @cudaq.kernel\n",
    "    def bell_state():\n",
    "        qubits = cudaq.qvector(2)\n",
    "        h(qubits[0])\n",
    "        cx(qubits[0], qubits[1])\n",
    "\n",
    "    # sample the Bell circuit\n",
    "    result = cudaq.sample(bell_state, shots_count=1000)\n",
    "    measurement_probabilities = dict(result.items())\n",
    "    print(\"Samples: \", measurement_probabilities)\n",
    "\n",
    "    return measurement_probabilities"
   ]
  },
  {
   "cell_type": "markdown",
   "id": "e5c90cb7-baa6-4c51-b828-e1f334b3eb5c",
   "metadata": {},
   "source": [
    "Let's test your CUDA-Q job!"
   ]
  },
  {
   "cell_type": "code",
   "execution_count": null,
   "id": "d402d3b9-1623-4d39-a8e6-f8f69d40ba7d",
   "metadata": {},
   "outputs": [],
   "source": [
    "hello_quantum()"
   ]
  },
  {
   "cell_type": "markdown",
   "id": "4871d290-8173-454a-a69c-d9625b80acc7",
   "metadata": {},
   "source": [
    "## Run your CUDA-Q job\n",
    "After testing locally that your code works correctly in the container environment, you can remove the `local=True` keyword argument (or equivalently, set `local=False`) so that the next job will run on an AWS-managed compute instance. This is great for scaling up to larger instances or parallelizing your workload over multiple instances."
   ]
  },
  {
   "cell_type": "code",
   "execution_count": null,
   "id": "1329a6f9-8d2e-4067-905a-e16590edfa50",
   "metadata": {},
   "outputs": [],
   "source": [
    "@hybrid_job(device=\"local:cudaq/qpp-cpu\", image_uri=image_uri)\n",
    "def hello_quantum():\n",
    "    import cudaq\n",
    "\n",
    "    device = get_job_device_arn()\n",
    "    cudaq.set_target(device.split(\"/\")[-1])\n",
    "    print(cudaq.get_target())\n",
    "\n",
    "    @cudaq.kernel\n",
    "    def bell_state():\n",
    "        qubits = cudaq.qvector(2)\n",
    "        h(qubits[0])\n",
    "        cx(qubits[0], qubits[1])\n",
    "\n",
    "    result = cudaq.sample(bell_state, shots_count=1000)\n",
    "    measurement_probabilities = dict(result.items())\n",
    "    print(\"Samples: \", measurement_probabilities)\n",
    "\n",
    "    return measurement_probabilities\n",
    "\n",
    "\n",
    "job = hello_quantum()\n",
    "print(job.arn)"
   ]
  },
  {
   "cell_type": "markdown",
   "id": "d4d56392-77a9-46cd-8512-bd0ded291b8b",
   "metadata": {},
   "source": [
    "When called, the decorated `hello_quantum` function will create a Braket Hybrid Job on AWS, running the code defined in the decorated function with the environment specified by the CUDA-Q hybrid jobs container image. You can view the progress of your job with `job.state()` or in the \"Hybrid jobs\" tab of the Amazon Braket Console."
   ]
  },
  {
   "cell_type": "code",
   "execution_count": null,
   "id": "4611f86a-4e23-4aaf-8ab8-df33b7eb050a",
   "metadata": {},
   "outputs": [],
   "source": [
    "result = job.result()\n",
    "print(result)"
   ]
  },
  {
   "cell_type": "markdown",
   "id": "0d9cef6b-295e-4360-a193-64b4ed945daa",
   "metadata": {},
   "source": [
    "## Run CUDA-Q jobs on Braket devices"
   ]
  },
  {
   "cell_type": "markdown",
   "id": "ee3996aa-195b-45d7-a007-077a0d557b9f",
   "metadata": {},
   "source": [
    "Now, let’s learn how to run CUDA-Q programs on Braket devices via CUDA-Q in Braket Hybrid Jobs. All you need to do is to configure the CUDA-Q target to a Braket device. In the code snippet below, we run a Bell circuit on Braket SV1 using CUDA-Q and Braket Hybrid Jobs. When you finish testing on simulators and are ready to run experiments on QPUs, you can switch the target to Braket QPUs such as IQM, IonQ, and Rigetti devices by changing `device_arn` in the example below. The circuits run with a hybrid job receive higher-priority access to the target Braket QPUs, which not only reduces the runtime of your experiments but also minimizes the impact of hardware drift on your algorithms. "
   ]
  },
  {
   "cell_type": "code",
   "execution_count": null,
   "id": "820a1a20-4eeb-41a0-874d-44ad96969496",
   "metadata": {},
   "outputs": [],
   "source": [
    "device_arn = \"arn:aws:braket:::device/quantum-simulator/amazon/sv1\"  # set device to SV1\n",
    "# device_arn = \"arn:aws:braket:eu-north-1::device/qpu/iqm/Garnet\" # set device to IQM Garnet\n",
    "\n",
    "\n",
    "@hybrid_job(device=device_arn, image_uri=image_uri)\n",
    "def job_with_braket_device():\n",
    "    import cudaq\n",
    "\n",
    "    # define the backend\n",
    "    device = get_job_device_arn()\n",
    "    cudaq.set_target(\"braket\", machine=device)\n",
    "\n",
    "    # define the Bell circuit\n",
    "    @cudaq.kernel\n",
    "    def bell_state():\n",
    "        qubits = cudaq.qvector(2)\n",
    "        h(qubits[0])\n",
    "        cx(qubits[0], qubits[1])\n",
    "        mz(qubits)\n",
    "\n",
    "    # sample the Bell circuit\n",
    "    result = cudaq.sample(bell_state, shots_count=1000)\n",
    "    measurement_probabilities = dict(result.items())\n",
    "\n",
    "    return measurement_probabilities\n",
    "\n",
    "\n",
    "job = job_with_braket_device()\n",
    "print(job.arn)"
   ]
  },
  {
   "cell_type": "markdown",
   "id": "6a76eade-78ff-417d-8246-04ccb28b8944",
   "metadata": {},
   "source": [
    "## Summary\n",
    "This notebook shows you how to run your first CUDA-Q program with Amazon Braket Hybrid Jobs. With a few lines of code, you can run CUDA-Q programs with Braket Hybrid Jobs and scale your workloads up and out with the range of compute options provided by AWS. In the following tutorials, we will show you how to run CUDA-Q simulations on GPUs ([notebook](1_simulation_with_GPUs.ipynb)), distribute workloads across multiple instances ([notebook](2_parallel_simulations.ipynb)), and distribute a single state vector simulation across multiple GPUs ([notebook](3_distributed_statevector_simulations.ipynb))."
   ]
  },
  {
   "cell_type": "markdown",
   "id": "c1a7dd19-489c-4eb6-857c-918ad98ee003",
   "metadata": {},
   "source": [
    "## Appendix: Using job submission script\n",
    "\n",
    "The `@hybrid_job` decorator provides a convenient interface to submit a hybrid job, but it limits the availability of the source code to the inner functions defined in the decorator. The source code is critical for `@cudaq.kernel`. For more complex workloads, if you encounter an error related to source code availability, you can choose to submit a job without the `@hybrid_job` decorator and use `AwsQuantumJob.create` instead.\n",
    "\n",
    "To create a hybrid job using `AwsQuantumJob.create`, first you need to write your CUDA-Q program as a separate `.py` file. We will call this file the \"algorithm script\". For demonstration purposes, we have prepared an example algorithm script, `algorithm_script_getting_started.py`. Then, you can run the following code snippet to create the job. This interface of creating a hybrid job will not have any source code error. To learn more about creating hybrid job this way, you can read this [documentation page](https://docs.aws.amazon.com/braket/latest/developerguide/braket-jobs-first.html#braket-jobs-first-create) and this [example notebook](https://github.com/amazon-braket/amazon-braket-examples/tree/main/examples/hybrid_jobs/8_Creating_Hybrid_Job_Scripts)."
   ]
  },
  {
   "cell_type": "code",
   "execution_count": null,
   "id": "51d4e1c8-5d7c-443a-a0ae-db8ee10255e6",
   "metadata": {},
   "outputs": [],
   "source": [
    "from braket.aws import AwsQuantumJob\n",
    "from braket.devices import Devices\n",
    "\n",
    "# create a hybrid job\n",
    "job = AwsQuantumJob.create(\n",
    "    device=Devices.Amazon.SV1,\n",
    "    source_module=\"algorithm_script_getting_started.py\",\n",
    "    image_uri=image_uri,\n",
    ")\n",
    "\n",
    "# view the ARN and the status of the job\n",
    "print(\"ARN of the job: \", job.arn)\n",
    "print(\"Status of the job: \", job.state())"
   ]
  }
 ],
 "metadata": {
  "kernelspec": {
   "display_name": "bdk-py310",
   "language": "python",
   "name": "python3"
  },
  "language_info": {
   "codemirror_mode": {
    "name": "ipython",
    "version": 3
   },
   "file_extension": ".py",
   "mimetype": "text/x-python",
   "name": "python",
   "nbconvert_exporter": "python",
   "pygments_lexer": "ipython3",
   "version": "3.10.13"
  }
 },
 "nbformat": 4,
 "nbformat_minor": 5
}
