{
 "cells": [
  {
   "cell_type": "markdown",
   "id": "deed1267",
   "metadata": {},
   "source": [
    "## Open Quantum Systems with Dynamic Circuits on Amazon Braket with IQM\n",
    "\n",
    "Dynamic circuits allow for varied applications between a quantum system and its environment, describing a complex open quantum system. Mid-circuit measurements allows for non-unitary operations to take place, and feedforward operations allow us to make adjustments on a target state, allowing us to stabilize or even correct data qubits. \n",
    "\n",
    "In this notebook we consider examples broadly related to open quantum systems, including non-unitary state evolutions and mixed state preparations. \n",
    "\n",
    "### Notebook Setup\n",
    "\n",
    "Before we dive into our examples, let's (again) handle our imports. For simplicity, we will work here with standard Clifford gates, Pauli rotations, and `cc_x` or `cc_z` primitives. The `cc_x` gate (and by a simple rotation `cc_z`) applies an X gate conditionally on a particular measurement configuration.\n",
    "\n",
    "In the local simulator, we use a composition of a partial trace and initialization procedure, which are both valid quantum channels and thus can be implemented through their Kraus operators ($\\mathcal{E}[\\rho]=  \\sum K_i \\rho K_i^\\dagger$):\n",
    "\n",
    "$$K_0= |0\\rangle \\langle 0 | \\otimes I $$\n",
    "\n",
    "$$ K_1 = |0 \\rangle \\langle 1 | \\otimes X $$\n",
    "\n",
    "Notes on `iqm_config.py` and `local_config.py`:\n",
    "- `cc_x` and `cc_z` are *user defined* gate types. Use the `reset` keyword to specify an active reset. \n",
    "- These gates assume that `measure_ff` and any `cc_prx` are implemented at the same layer and time, and can be concatenated as `cc_x`.\n",
    "- Importing `iqm_config.py` transpiles Clifford circuits to native IQM gates.\n",
    "- For actual implementations, see the respective `iqm_config.py` or `local_config.py` files."
   ]
  },
  {
   "cell_type": "code",
   "execution_count": 1,
   "id": "d09cfd81",
   "metadata": {},
   "outputs": [],
   "source": [
    "from itertools import combinations\n",
    "\n",
    "import matplotlib.pyplot as plt\n",
    "import numpy as np\n",
    "\n",
    "from braket.circuits import Circuit\n",
    "from braket.experimental_capabilities import EnableExperimentalCapability\n",
    "from braket.tracking import Tracker"
   ]
  },
  {
   "cell_type": "code",
   "execution_count": 2,
   "id": "8afddb9d",
   "metadata": {},
   "outputs": [],
   "source": [
    "use_qpu = True\n",
    "\n",
    "if use_qpu: \n",
    "    import iqm_config\n",
    "    qd = iqm_config.qd\n",
    "else:\n",
    "    import local_config\n",
    "    qd = local_config.qd\n",
    "\n",
    "track = Tracker().start()\n",
    "\n",
    "def calc_z_exp(counts : dict, qubits : list) -> float:\n",
    "    \"\"\" calculate z_expectations from shots on particular qubits \"\"\"\n",
    "    val = 0\n",
    "    for k,v in counts.items():\n",
    "        val+= v*(-1)**len([k[i] for i in qubits if k[i]==\"1\"])\n",
    "    return val/sum(list(counts.values()))"
   ]
  },
  {
   "cell_type": "markdown",
   "id": "e02ae03f",
   "metadata": {
    "vscode": {
     "languageId": "ruby"
    }
   },
   "source": [
    "\n",
    "### Simulating Amplitude Damping (Relaxation) Processes\n",
    "\n",
    "Open quantum systems describe quantum systems in the presence of environmental noise sources, which serve to modify the pure state dynamics. In many contexts, these can be desirable in creating thermal states or simulating realistic systems. \n",
    "\n",
    "In this example, we repeatedly apply a non-unital channel, the single qubit amplitude damping channel, using a single ancilla qubit. The amplitude damping channel (related to a quantum system's $T_1$ decay) can be described by relaxing (via a bit-flip) a quantum state with probability $p$ *if* the qubit is in the excited state, and the Kraus operator formalism involves two operators:\n",
    "\n",
    "$$ K_0 = \\begin{pmatrix} 1 & 0 \\\\ 0 & \\sqrt{1-p} \\end{pmatrix},~ K_1 = \\begin{pmatrix} 0 & \\sqrt{p} \\\\ 0 & 0 \\end{pmatrix} $$ \n",
    "\n",
    "but we can implement this with unitary operators using controlled $R_y$ gates and a feedback. We first apply a controlled $R_y$ gate from the data qubit to the ancilla qubit to rotate between the $10$ and $11$ state. We then measure the ancilla (which returns $1$ with probability $p$ times the excited population) and use a classical feedforward $X$ gate to flip the qubit. The following example plots the qubit population as a function of time. More details on the unitary implementation can be seen [here](https://arxiv.org/pdf/2001.00794).  \n",
    "\n",
    "\n"
   ]
  },
  {
   "cell_type": "code",
   "execution_count": 3,
   "id": "6377612f",
   "metadata": {},
   "outputs": [],
   "source": [
    "iters = 10\n",
    "\n",
    "qreg = [1,2]\n",
    "population = []\n",
    "p = 0.5\n",
    "\n",
    "results = []\n",
    "\n",
    "with EnableExperimentalCapability():\n",
    "\n",
    "    for i in range(iters+1):\n",
    "        circ = Circuit()\n",
    "        circ.x(qreg[0])\n",
    "        for j in range(i):\n",
    "            # implements controlled Ry (not X Ry(z) X = Ry(-z))  \n",
    "            circ.ry(qreg[1],np.arcsin(np.sqrt(p)))\n",
    "            circ.cnot(qreg[0],qreg[1])\n",
    "            circ.ry(qreg[1],-np.arcsin(np.sqrt(p)))\n",
    "            circ.cnot(qreg[0], qreg[1])\n",
    "\n",
    "            circ.cc_x([qreg[1], qreg[0]])\n",
    "        \n",
    "        if use_qpu: \n",
    "            circ = Circuit().add_verbatim_box(circ)\n",
    "        results.append(qd.run(circ, shots=100).result())\n",
    "        population.append(0.5-0.5*calc_z_exp(results[-1].measurement_counts, [0]))"
   ]
  },
  {
   "cell_type": "code",
   "execution_count": 4,
   "id": "12fc5c8a",
   "metadata": {},
   "outputs": [
    {
     "data": {
      "image/png": "[encoded data removed]",
      "text/plain": [
       "<Figure size 640x480 with 1 Axes>"
      ]
     },
     "metadata": {},
     "output_type": "display_data"
    }
   ],
   "source": [
    "plt.scatter(list(range(iters+1)),population)\n",
    "plt.xlabel(\"Number of damping applications\")\n",
    "plt.ylabel(\"Probability of |1>\")\n",
    "plt.ylim(0,1)\n",
    "plt.show()"
   ]
  },
  {
   "cell_type": "markdown",
   "id": "99c600b1",
   "metadata": {},
   "source": [
    "### Ensemble State Preparation \n",
    "\n",
    "Another application involves preparing an ensemble state, which can be used in thermal state preparation, or in the optimization of ensembles (see this [reference](https://journals.aps.org/prresearch/abstract/10.1103/PhysRevResearch.1.033062)). Here we simply prepare two of four qubits in the maximally mixed state. Note, any unitaries acting only on these qubit will be trivial, but we can remove the non triviality by operating between the remaining two qubits. \n",
    "\n",
    "Typically, one would create a GHZ state between each qubit and the register, requiring $N$ entangling gates. Using MCM we only need a single qubit, and we iterate over the targeted qubits (here 5,6). "
   ]
  },
  {
   "cell_type": "code",
   "execution_count": 5,
   "id": "258f88e3",
   "metadata": {},
   "outputs": [],
   "source": [
    "qreg = [5,6,7,12,11]\n",
    "\n",
    "with EnableExperimentalCapability():\n",
    "    circ = Circuit()\n",
    "    for q in [qreg[1],qreg[0]]:\n",
    "        circ.h(qreg[4])\n",
    "        circ.cc_x([qreg[4],q]) \n",
    "\n",
    "\n",
    "    if use_qpu: \n",
    "        circ = Circuit().add_verbatim_box(circ)\n",
    "\n",
    "    circ.measure(qreg[:4])\n",
    "    res0 = qd.run(circ, shots=500).result()"
   ]
  },
  {
   "cell_type": "code",
   "execution_count": 6,
   "id": "c0de4386",
   "metadata": {},
   "outputs": [
    {
     "name": "stderr",
     "output_type": "stream",
     "text": [
      "/var/folders/1_/bfh8x9qn75164y0b808mvhrh0000gq/T/ipykernel_44833/128448190.py:3: UserWarning: No artists with labels found to put in legend.  Note that artists whose label start with an underscore are ignored when legend() is called with no argument.\n",
      "  plt.legend(loc='upper right')\n"
     ]
    },
    {
     "data": {
      "image/png": "[encoded data removed]",
      "text/plain": [
       "<Figure size 640x480 with 1 Axes>"
      ]
     },
     "metadata": {},
     "output_type": "display_data"
    }
   ],
   "source": [
    "counts = res0.measurement_counts\n",
    "plt.bar(counts.keys(), counts.values())\n",
    "plt.legend(loc='upper right')\n",
    "plt.ylabel(\"Output Populations\")\n",
    "plt.xlabel(\"Output strings\")\n",
    "plt.show()"
   ]
  },
  {
   "cell_type": "markdown",
   "id": "6a6523b5",
   "metadata": {},
   "source": [
    "We can somewhat naively verify that these are not prepared coherently by looking at the $Z$ and $X$ expectations throughout the circuit. For a coherent superposition, we would expect some $Z$ observables to be non-zero, whereas $X$ should all be equal to 0."
   ]
  },
  {
   "cell_type": "code",
   "execution_count": 9,
   "id": "c4ddde60",
   "metadata": {},
   "outputs": [],
   "source": [
    "qreg = [5,6,7,12,11]\n",
    "\n",
    "with EnableExperimentalCapability():\n",
    "    circ = Circuit()\n",
    "    for q in [qreg[1],qreg[0]]:\n",
    "        circ.h(qreg[4])\n",
    "        circ.cc_x([qreg[4],q]) \n",
    "\n",
    "    for q in qreg[:4]:\n",
    "        circ.h(q)\n",
    "\n",
    "    if use_qpu: \n",
    "        circ = Circuit().add_verbatim_box(circ)\n",
    "    circ.measure(qreg[:4])\n",
    "\n",
    "    res1 = qd.run(circ, shots=1000).result()    "
   ]
  },
  {
   "cell_type": "markdown",
   "id": "54bb20a8",
   "metadata": {},
   "source": [
    "Here, we can see that the expectations involving the mixed qubits (0,1) are zero, while expectations on the pure qubits (2,3) are 1 for $Z$ (or 0 for $X$). "
   ]
  },
  {
   "cell_type": "code",
   "execution_count": null,
   "id": "07724a14",
   "metadata": {},
   "outputs": [
    {
     "name": "stdout",
     "output_type": "stream",
     "text": [
      "Expectation Values for different Z (X) Pauli strings: \n",
      "Site: (0,)      | Expected: 0.0 (0.0) | Measured: +0.044 (+0.014)\n",
      "Site: (1,)      | Expected: 0.0 (0.0) | Measured: +0.040 (+0.026)\n",
      "Site: (2,)      | Expected: 1.0 (0.0) | Measured: +0.928 (+0.070)\n",
      "Site: (3,)      | Expected: 1.0 (0.0) | Measured: +0.972 (+0.098)\n",
      "Site: (0, 1)    | Expected: 0.0 (0.0) | Measured: +0.028 (+0.012)\n",
      "Site: (0, 2)    | Expected: 0.0 (0.0) | Measured: +0.060 (+0.004)\n",
      "Site: (0, 3)    | Expected: 0.0 (0.0) | Measured: +0.048 (+0.008)\n",
      "Site: (1, 2)    | Expected: 0.0 (0.0) | Measured: +0.032 (+0.024)\n",
      "Site: (1, 3)    | Expected: 0.0 (0.0) | Measured: +0.036 (-0.012)\n",
      "Site: (2, 3)    | Expected: 1.0 (0.0) | Measured: +0.900 (+0.044)\n",
      "Site: (0, 1, 2) | Expected: 0.0 (0.0) | Measured: +0.060 (-0.030)\n",
      "Site: (0, 1, 3) | Expected: 0.0 (0.0) | Measured: +0.024 (+0.014)\n",
      "Site: (0, 2, 3) | Expected: 0.0 (0.0) | Measured: +0.064 (-0.006)\n",
      "Site: (1, 2, 3) | Expected: 0.0 (0.0) | Measured: +0.028 (-0.018)\n"
     ]
    },
    {
     "data": {
      "text/plain": [
       "(-1.1, 1.1)"
      ]
     },
     "execution_count": 32,
     "metadata": {},
     "output_type": "execute_result"
    },
    {
     "data": {
      "image/png": "[encoded data removed]",
      "text/plain": [
       "<Figure size 640x480 with 1 Axes>"
      ]
     },
     "metadata": {},
     "output_type": "display_data"
    }
   ],
   "source": [
    "temp : list[list] = []\n",
    "for order in range(3): \n",
    "    temp.extend(combinations([0, 1, 2, 3], order+1))\n",
    "res0_z = [calc_z_exp(res0.measurement_counts, list(qbs)) for qbs in temp]\n",
    "res1_x = [calc_z_exp(res1.measurement_counts, list(qbs)) for qbs in temp]\n",
    "\n",
    "print(\"Expectation Values for different Z (X) Pauli strings: \")\n",
    "for t,rz,rx,site in zip(temp, res0_z, res1_x, temp):\n",
    "    if 0 in t or 1 in t:\n",
    "        print(f\"Site: {str(site):<10}| Expected: 0.0 (0.0) | Measured: {rz:+0.3f} ({rx:+0.3f})\")\n",
    "    else:\n",
    "        print(f\"Site: {str(site):<10}| Expected: 1.0 (0.0) | Measured: {rz:+0.3f} ({rx:+0.3f})\")\n",
    "\n",
    "plt.hist(res0_z, bins=25, density=True)\n",
    "plt.hist\n",
    "plt.xlabel(\"Expectation Value\")\n",
    "plt.ylabel(\"Frequency\")\n",
    "plt.xlim(-1.1,1.1)"
   ]
  },
  {
   "cell_type": "markdown",
   "id": "752f4a5d",
   "metadata": {},
   "source": [
    "### Cost Estimate\n",
    "\n",
    "And finally let's look at our cost estimate for these runs on IQM Garnet:"
   ]
  },
  {
   "cell_type": "code",
   "execution_count": 13,
   "id": "9d2117dc",
   "metadata": {},
   "outputs": [
    {
     "name": "stdout",
     "output_type": "stream",
     "text": [
      "Quantum Task Summary\n",
      "{<_IQM.Garnet: 'arn:aws:braket:eu-north-1::device/qpu/iqm/Garnet'>: {'shots': 2600, 'tasks': {'COMPLETED': 13}}}\n",
      "\n",
      "Note: Charges shown are estimates based on your Amazon Braket simulator and quantum processing unit (QPU) task usage.\n",
      "Estimated charges shown may differ from your actual charges. Estimated charges do not factor in any discounts or credits,\n",
      "and you may experience additional charges based on your use of other services such as Amazon Elastic Compute Cloud (Amazon EC2).\n",
      "\n",
      "Estimated cost to run this example: 7.670 USD\n"
     ]
    }
   ],
   "source": [
    "if use_qpu: \n",
    "    print(\"Quantum Task Summary\")\n",
    "    print(track.quantum_tasks_statistics())\n",
    "    print(\n",
    "        \"\\nNote: Charges shown are estimates based on your Amazon Braket simulator and quantum processing unit (QPU) task usage.\\nEstimated charges shown may differ from your actual charges. Estimated charges do not factor in any discounts or credits,\\nand you may experience additional charges based on your use of other services such as Amazon Elastic Compute Cloud (Amazon EC2).\",\n",
    "    )\n",
    "    print(\n",
    "        f\"\\nEstimated cost to run this example: {track.qpu_tasks_cost() + track.simulator_tasks_cost():.3f} USD\",\n",
    "    )"
   ]
  },
  {
   "cell_type": "markdown",
   "id": "99196590",
   "metadata": {},
   "source": [
    "### Conclusions\n",
    "\n",
    "In this notebook we explored applications of open quantum systems and mixed state prepartion techniques using dynamic circuits. Dynamic circuits allow for flexible ways to harness dilations of quantum state space, allowing us to efficiently prepare mixed states or apply non-unitary operators with reduced qubit counts. Numerous advanced applications for dynamic circuits already exist, and research for various dynamic circuit-based approaches is ongoing. \n",
    "\n",
    "\n",
    "\n",
    "\n",
    "### References: \n",
    "1. Zhou, Leung, Chaun. *Methodology for quantum logic construction* (2000) [arXiv:quant-ph/0002039](https://arxiv.org/pdf/quant-ph/0002039).\n",
    "2. Buhrman, Folkertsma, Loff, Nuemann. *State preparation by shallow circuits using feed forward* (2024) [Quantum 8, 1552](https://quantum-journal.org/papers/q-2024-12-09-1552/).\n",
    "3. Rost, Jones, Vyushkova et al. Simulation of Thermal Relaxation in Spin Chemistry Systems on a Quantum\n",
    "Computer Using Inherent Qubit Decoherence (2020) [arXiv:2001.00794v2](https://arxiv.org/pdf/2001.00794). \n",
    "4. Amplitude Damping Channel, (Novebmer 24, 2023) In Wikipedia. https://en.wikipedia.org/wiki/Amplitude_damping_channel \n",
    "5. Nakanish, Mitarai, Fujii. *Subspace-search variational quantum eigensolver for excited states* (2019) [Phys. Rev. Res. 1, 033062](https://journals.aps.org/prresearch/abstract/10.1103/PhysRevResearch.1.033062). \n",
    "\n"
   ]
  }
 ],
 "metadata": {
  "kernelspec": {
   "display_name": ".venv",
   "language": "python",
   "name": "python3"
  },
  "language_info": {
   "codemirror_mode": {
    "name": "ipython",
    "version": 3
   },
   "file_extension": ".py",
   "mimetype": "text/x-python",
   "name": "python",
   "nbconvert_exporter": "python",
   "pygments_lexer": "ipython3",
   "version": "3.10.17"
  }
 },
 "nbformat": 4,
 "nbformat_minor": 5
}
