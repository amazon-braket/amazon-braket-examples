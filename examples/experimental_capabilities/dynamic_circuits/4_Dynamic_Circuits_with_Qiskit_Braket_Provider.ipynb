{
 "cells": [
  {
   "cell_type": "markdown",
   "id": "001013f4",
   "metadata": {},
   "source": [
    "## Dynamic Circuits on Qiskit with Amazon Braket\n",
    "\n",
    "In this notebook, we show how to utilize dynamic circuit tools for IQM Garnet through Braket using Qiskit circuits and the `qiskit-braket-provider`. \n",
    "\n",
    "\n",
    "### Notebook Setup\n",
    "\n",
    "For this notebook, we will utilize the [Qiskit-Braket provider](https://github.com/qiskit-community/qiskit-braket-provider) and the `QuantumCircuit` class from [Qiskit](https://www.ibm.com/quantum/qiskit) to perform a simple active reset example on IQM Garnet."
   ]
  },
  {
   "cell_type": "code",
   "execution_count": null,
   "id": "08cd8127",
   "metadata": {},
   "outputs": [],
   "source": [
    "from math import pi\n",
    "\n",
    "import iqm_config\n",
    "from qiskit import QuantumCircuit\n",
    "from qiskit_braket_provider.providers.braket_backend import BraketAwsBackend\n",
    "from qiskit_braket_provider.providers.braket_instructions import CCPRx, MeasureFF\n",
    "\n",
    "from braket.experimental_capabilities import EnableExperimentalCapability\n",
    "from braket.tracking import Tracker\n",
    "\n",
    "qd = BraketAwsBackend(device=iqm_config.qd)\n",
    "track = Tracker().start()"
   ]
  },
  {
   "cell_type": "code",
   "execution_count": 8,
   "id": "9436d4b2",
   "metadata": {},
   "outputs": [],
   "source": [
    "from qiskit import transpile\n",
    "\n",
    "qc = QuantumCircuit(1,1)\n",
    "qc.r(pi,0, 0)\n",
    "qc.append(MeasureFF(feedback_key=0), qargs=[0])\n",
    "qc.append(CCPRx(pi, 0, feedback_key=0), qargs=[0])\n",
    "qc = transpile(qc, optimization_level=0, initial_layout=[2])"
   ]
  },
  {
   "cell_type": "code",
   "execution_count": 10,
   "id": "a0a1b547",
   "metadata": {},
   "outputs": [
    {
     "name": "stdout",
     "output_type": "stream",
     "text": [
      "{'0': 95, '1': 5}\n"
     ]
    }
   ],
   "source": [
    "with EnableExperimentalCapability():\n",
    "    result = qd.run(qc, verbatim=True, shots=100, tags=iqm_config.tags).result()\n",
    "\n",
    "print(result.get_counts())"
   ]
  },
  {
   "cell_type": "markdown",
   "id": "948d8e3d",
   "metadata": {},
   "source": [
    "#### Cost Tracking\n",
    "\n",
    "The total cost of running these examples is given below:"
   ]
  },
  {
   "cell_type": "code",
   "execution_count": null,
   "id": "6ebd3879",
   "metadata": {},
   "outputs": [],
   "source": [
    "print(\"Quantum Task Summary\")\n",
    "print(track.quantum_tasks_statistics())\n",
    "print(\n",
    "    \"Note: Charges shown are estimates based on your Amazon Braket simulator and quantum processing unit (QPU) task usage. Estimated charges shown may differ from your actual charges. Estimated charges do not factor in any discounts or credits, and you may experience additional charges based on your use of other services such as Amazon Elastic Compute Cloud (Amazon EC2).\",\n",
    ")\n",
    "print(\n",
    "    f\"Estimated cost to run this example: {track.qpu_tasks_cost() + track.simulator_tasks_cost():.3f} USD\",\n",
    ")"
   ]
  },
  {
   "cell_type": "markdown",
   "id": "331c15b1",
   "metadata": {},
   "source": [
    "### References\n",
    "\n",
    "- Qiskit-Community. (v0.4.X) Qiskit-community/Qiskit-Braket-provider: Qiskit-Braket provider to execute Qiskit programs on quantum computing hardware devices through Amazon Braket. GitHub. https://github.com/qiskit-community/qiskit-braket-provider \n",
    "- Qiskit-Braket provider documentation. (v0.4.X, June 2025) https://qiskit-community.github.io/qiskit-braket-provider/."
   ]
  }
 ],
 "metadata": {
  "kernelspec": {
   "display_name": ".venv",
   "language": "python",
   "name": "python3"
  },
  "language_info": {
   "codemirror_mode": {
    "name": "ipython",
    "version": 3
   },
   "file_extension": ".py",
   "mimetype": "text/x-python",
   "name": "python",
   "nbconvert_exporter": "python",
   "pygments_lexer": "ipython3",
   "version": "3.10.17"
  }
 },
 "nbformat": 4,
 "nbformat_minor": 5
}
