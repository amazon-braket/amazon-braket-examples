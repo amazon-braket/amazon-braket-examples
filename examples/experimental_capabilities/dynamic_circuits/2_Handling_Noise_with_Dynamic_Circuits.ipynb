{
 "cells": [
  {
   "cell_type": "markdown",
   "id": "deed1267",
   "metadata": {},
   "source": [
    "## Exploring Noise with Dynamic Circuits on Amazon Braket with IQM\n",
    "\n",
    "One of the key applications of dynamic circuits is related to harnessing and correcting errors or noise in quantum circuits. Access to mid-circuit measurements allows for detection, and feedforward operations allow us to make adjustments or corrections to the target state. It is also important to describe the error rates associated with the extra measurement procedures occuring. \n",
    "\n",
    "In this notebook we look at examples of entanglement stabilization as well as readout error mitigation for an active qubit reset. \n",
    "\n",
    "\n",
    "### Notebook Setup\n",
    "\n",
    "Before we dive into our examples, let's (again) handle our imports. For simplicity, we will work here with standard Clifford gates, Pauli rotations, and `cc_x` or `cc_z` primitives. The `cc_x` gate (and by a simple rotation `cc_z`) applies a X gate conditionally on a particular measurement configuration.\n",
    "\n",
    "In the local simulator, we use a composition of a partial trace and initialization procedure, which are both valid quantum channels and thus can be implemented through their Kraus operators ($\\mathcal{E}[\\rho]=  \\sum K_i \\rho K_i^\\dagger$):\n",
    "\n",
    "$$K_0= |0\\rangle \\langle 0 | \\otimes I $$\n",
    "\n",
    "$$ K_1 = |0 \\rangle \\langle 1 | \\otimes X $$\n",
    "\n",
    "Notes on `iqm_config.py` and `local_config.py`:\n",
    "- `cc_x` and `cc_z` are *user defined* gate types. Use the `reset` keyword to specify an active reset. \n",
    "- These gates assume that `measure_ff` and any `cc_prx` are implemented at the same layer and time, and can be concatenated as `cc_x`.\n",
    "- Importing `iqm_config.py` transpiles Clifford circuits to native IQM gates.\n",
    "- For actual implementations, see the respective `iqm_config.py` or `local_config.py` files."
   ]
  },
  {
   "cell_type": "code",
   "execution_count": 1,
   "id": "d09cfd81",
   "metadata": {},
   "outputs": [],
   "source": [
    "from math import pi\n",
    "\n",
    "import matplotlib.pyplot as plt\n",
    "\n",
    "from braket.circuits import Circuit\n",
    "from braket.experimental_capabilities import EnableExperimentalCapability\n",
    "from braket.tracking import Tracker\n"
   ]
  },
  {
   "cell_type": "code",
   "execution_count": null,
   "id": "8afddb9d",
   "metadata": {},
   "outputs": [],
   "source": [
    "use_qpu = True\n",
    "kw = {}\n",
    "\n",
    "if use_qpu: \n",
    "    import iqm_config\n",
    "    qd = iqm_config.qd\n",
    "    kw[\"tags\"] = iqm_config.tags\n",
    "else:\n",
    "    import local_config\n",
    "    qd = local_config.qd\n",
    "\n",
    "track = Tracker().start()\n",
    "\n",
    "def calc_z_exp(counts : dict, qubits : list) -> float:\n",
    "    \"\"\" calculate z_expectations from shots on particular qubits \"\"\"\n",
    "    val = 0\n",
    "    for k,v in counts.items():\n",
    "        val+= v*(-1)**len([k[i] for i in qubits if k[i]==\"1\"])\n",
    "    return val/sum(list(counts.values()))"
   ]
  },
  {
   "cell_type": "markdown",
   "id": "1b6e3a33",
   "metadata": {},
   "source": [
    "### Stabilizing Bell States \n",
    "\n",
    "Next, we look at a simple stabilization experiment utilizng Bell states and dynamic circuits. Theoretically this can be described as follows. \n",
    "\n",
    "Take the first Bell state:\n",
    "$$|\\psi \\rangle =  \\frac{1}{\\sqrt{2}}(|00\\rangle + |11\\rangle) $$ \n",
    "\n",
    "We can consider parity and (real) phase errors. If a bit flip error occurs for instance on either qubit, then we transition to the state:\n",
    "\n",
    "$$X_1|\\psi \\rangle = X_2|\\psi\\rangle = \\frac{1}{\\sqrt{2}}(|01\\rangle + |10\\rangle)$$ \n",
    "\n",
    "Importantly, the errors here are symmetric with respect to either bit flip. Thus a $X$ gate on either 1 or 2 is sufficient to correct it. If we consider phase errors, then we also have that:\n",
    "\n",
    "$$Z_1|\\psi\\rangle = Z_2 | \\psi\\rangle = \\frac{1}{\\sqrt{2}}(|00\\rangle - |11\\rangle)$$ \n",
    "\n",
    "As above, both of these errors can be mitigated using a single $Z$ application on either qubit. The state is actually protected against dual bit flips, as well as dual phase errors. For a combined error bit and phase error we see: \n",
    "$$Z_1 X_2|\\psi\\rangle = \\frac{1}{\\sqrt{2}} (|01\\rangle - |10\\rangle) = Z_2 X_1 |\\psi\\rangle $$ \n",
    "\n",
    "If the errors occur on the same qubit:\n",
    "$$ Z_1 X_1 |\\psi\\rangle = - X_1 Z_1 |\\psi\\rangle = -\\frac{1}{\\sqrt{2}}(|10\\rangle - |01\\rangle) $$ \n",
    "\n",
    "then we can still similarly correct the qubit. To verify, we can make a Bell state measurement, which yields the expectation values of $X_1 X_2$, $Z_1 Z_2$ and $-Y_1 Y_2$ and which the chosen Bell state is a eigenvector with eigenvalues +1. The following example allows us to manually insert errors, apply the correction, and see the resulting expectations. \n",
    "\n",
    "#### Laying this out to IQM Garnet\n",
    "\n",
    "To realize this on the IQM Garnet architeture is not straightforward, as we need to find support for 5 out of 6 of the available CNOTs in a 4-qubit layout, say on qubits 7, 6, 11, and 12. \n",
    "\n",
    "<img src=\"images/iqm_groups.png\" alt=\"drawing\" width=\"200\"/>\n",
    "\n",
    "The most straigthforward way is (1) create a Bell state on qubits 7 and 6, (2) swap 6 with 11, and then use 6 and 12 for parity and bit flip checks, respectively. Alternatively, we can use a single ancilla, to perform a parity check, reset, and then perform a bit-flip check. Step (2) can also be performed with a Z- or X-teleportation. \n",
    "- *Note, we do have to be careful with qubit selection, but here there is no conflict as we use the same `cc_x` on the parity check and the X-teleportation.*\n",
    "\n",
    "However, we can also use the method in the work by [Andersen et al.](https://www.nature.com/articles/s41534-019-0185-4), where the initial mid-circuit measurement helps to create the entangled pair state. That is, we put qubits 0 and 2 in the $|+x>$ state, apply CNOTs to a register, and then apply a classically condition $X$ on either register. This gives us the appropriate Bell State. "
   ]
  },
  {
   "cell_type": "code",
   "execution_count": null,
   "id": "d037ea2a",
   "metadata": {},
   "outputs": [
    {
     "name": "stdout",
     "output_type": "stream",
     "text": [
      "T   : │        0        │         1         │       2        │  3  │          4           │         5          │       6        │    7    │         8          │         9         │       10       │ 11  │        12         │         13         │        14         │       15        │            16            │        17         │         18         │         19         │         20         │         21         │         22         │         23         │        24         │         25         │ 26  │        27         │         28         │ 29  │        30         │         31         │      32       │ 33  │\n",
      "                         ┌─────────────────┐ ┌──────────────┐ ┌───┐ ┌───┐                  ┌─────────────────┐  ┌──────────────┐ ┌───────┐ ┌──────────────────┐ ┌─────────────────┐ ┌──────────────┐ ┌───┐  ┌───────────────┐  ┌──────────────────┐ ┌─────────────────┐ ┌──────────────┐  ┌───┐                       ┌───────────────┐  ┌──────────────────┐      ┌───────┐       ┌──────────────────┐ ┌─────────────────┐    ┌──────────────┐          ┌───┐          ┌───────────────┐  ┌──────────────────┐       ┌─────────────────┐   ┌──────────────┐   ┌───┐  ┌───────────────┐  ┌──────────────────┐                       \n",
      "q6  : ───StartVerbatim───┤ PRx(1.57, 1.57) ├─┤ PRx(3.14, 0) ├─┤ Z ├─┤ Z ├──────────────────┤ PRx(1.57, 1.57) ├──┤ PRx(3.14, 0) ├─┤ MFF→5 ├─┤ 5→CCPRx(3.14, 0) ├─┤ PRx(1.57, 1.57) ├─┤ PRx(3.14, 0) ├─┤ Z ├──┤ PRx(-3.14, 0) ├──┤ PRx(-1.57, 1.57) ├─┤ PRx(1.57, 1.57) ├─┤ PRx(3.14, 0) ├──┤ Z ├───────────────────────┤ PRx(-3.14, 0) ├──┤ PRx(-1.57, 1.57) ├──────┤ MFF→6 ├───────┤ 6→CCPRx(3.14, 0) ├─┤ PRx(1.57, 1.57) ├────┤ PRx(3.14, 0) ├──────────┤ Z ├──────────┤ PRx(-3.14, 0) ├──┤ PRx(-1.57, 1.57) ├───●───┤ PRx(1.57, 1.57) ├───┤ PRx(3.14, 0) ├───┤ Z ├──┤ PRx(-3.14, 0) ├──┤ PRx(-1.57, 1.57) ├───EndVerbatim─────────\n",
      "               ║         └─────────────────┘ └──────────────┘ └─┬─┘ └─┬─┘                  └─────────────────┘  └──────────────┘ └───────┘ └──────────────────┘ └─────────────────┘ └──────────────┘ └─┬─┘  └───────────────┘  └──────────────────┘ └─────────────────┘ └──────────────┘  └─┬─┘                       └───────────────┘  └──────────────────┘      └───────┘       └──────────────────┘ └─────────────────┘    └──────────────┘          └─┬─┘          └───────────────┘  └──────────────────┘   │   └─────────────────┘   └──────────────┘   └─┬─┘  └───────────────┘  └──────────────────┘        ║              \n",
      "               ║         ┌─────────────────┐ ┌──────────────┐   │     │   ┌──────────────┐ ┌─────────────────┐                                                                                         │   ┌─────────────────┐   ┌──────────────┐          ┌───┐        ┌───────────────┐   │   ┌──────────────────┐ ┌─────────────────┐   ┌──────────────┐   ┌──────────────────┐  ┌───────────────┐   ┌──────────────────┐                               │                                                      │                                              │   ┌─────────────────┐   ┌──────────────┐          ║        ┌───┐ \n",
      "q7  : ─────────║─────────┤ PRx(1.57, 1.57) ├─┤ PRx(3.14, 0) ├───●─────┼───┤ PRx(3.14, 0) ├─┤ PRx(3.14, 1.57) ├─────────────────────────────────────────────────────────────────────────────────────────●───┤ PRx(1.57, 1.57) ├───┤ PRx(3.14, 0) ├──────────┤ Z ├────────┤ PRx(-3.14, 0) ├───┼───┤ PRx(-1.57, 1.57) ├─┤ PRx(1.57, 1.57) ├───┤ PRx(3.14, 0) ├───┤ 7→CCPRx(3.14, 0) ├──┤ PRx(-3.14, 0) ├───┤ PRx(-1.57, 1.57) ├───────────────────────────────┼──────────────────────────────────────────────────────┼──────────────────────────────────────────────●───┤ PRx(1.57, 1.57) ├───┤ PRx(3.14, 0) ├──────────║────────┤ M ├─\n",
      "               ║         └─────────────────┘ └──────────────┘         │   └──────────────┘ └─────────────────┘                                                                                             └─────────────────┘   └──────────────┘          └─┬─┘        └───────────────┘   │   └──────────────────┘ └─────────────────┘   └──────────────┘   └──────────────────┘  └───────────────┘   └──────────────────┘                               │                                                      │                                                  └─────────────────┘   └──────────────┘          ║        └───┘ \n",
      "               ║         ┌─────────────────┐ ┌──────────────┐         │                    ┌──────────────────┐ ┌──────────────┐                                                                                                                             │                              │                        ┌─────────────────┐   ┌──────────────┐          ┌───┐          ┌───────────────┐   ┌──────────────────┐ ┌──────────────────┐          │           ┌─────────────────┐   ┌──────────────┐   ┌─┴─┐  ┌───────────────┐  ┌──────────────────┐                                                       ║        ┌───┐ \n",
      "q11 : ─────────║─────────┤ PRx(1.57, 1.57) ├─┤ PRx(3.14, 0) ├─────────●────────────────────┤ 5→CCPRx(3.14, 0) ├─┤ PRx(3.14, 0) ├─────────────────────────────────────────────────────────────────────────────────────────────────────────────────────────────┼──────────────────────────────●────────────────────────┤ PRx(1.57, 1.57) ├───┤ PRx(3.14, 0) ├──────────┤ Z ├──────────┤ PRx(-3.14, 0) ├───┤ PRx(-1.57, 1.57) ├─┤ 6→CCPRx(3.14, 0) ├──────────●───────────┤ PRx(1.57, 1.57) ├───┤ PRx(3.14, 0) ├───┤ Z ├──┤ PRx(-3.14, 0) ├──┤ PRx(-1.57, 1.57) ├───────────────────────────────────────────────────────║────────┤ M ├─\n",
      "               ║         └─────────────────┘ └──────────────┘                              └──────────────────┘ └──────────────┘                                                                                                                             │                                                       └─────────────────┘   └──────────────┘          └─┬─┘          └───────────────┘   └──────────────────┘ └──────────────────┘                      └─────────────────┘   └──────────────┘   └───┘  └───────────────┘  └──────────────────┘                                                       ║        └───┘ \n",
      "               ║         ┌─────────────────┐ ┌──────────────┐                                                                                                                                                                                                │                                                                                                         │           ┌─────────────────┐    ┌──────────────┐        ┌───────┐       ┌──────────────────┐                                                                                                                                               ║              \n",
      "q12 : ─────────╨─────────┤ PRx(1.57, 1.57) ├─┤ PRx(3.14, 0) ├────────────────────────────────────────────────────────────────────────────────────────────────────────────────────────────────────────────────────────────────────────────────────────────────●─────────────────────────────────────────────────────────────────────────────────────────────────────────●───────────┤ PRx(1.57, 1.57) ├────┤ PRx(3.14, 0) ├────────┤ MFF→7 ├───────┤ 7→CCPRx(3.14, 0) ├───────────────────────────────────────────────────────────────────────────────────────────────────────────────────────────────────────────────╨──────────────\n",
      "                         └─────────────────┘ └──────────────┘                                                                                                                                                                                                                                                                                                                      └─────────────────┘    └──────────────┘        └───────┘       └──────────────────┘                                                                                                                                                              \n",
      "T   : │        0        │         1         │       2        │  3  │          4           │         5          │       6        │    7    │         8          │         9         │       10       │ 11  │        12         │         13         │        14         │       15        │            16            │        17         │         18         │         19         │         20         │         21         │         22         │         23         │        24         │         25         │ 26  │        27         │         28         │ 29  │        30         │         31         │      32       │ 33  │\n",
      "Counter({'00': 299, '10': 127, '01': 47, '11': 27})\n",
      "\n",
      "Expectations:\n",
      "+<XX>: 0.384\n",
      "+<ZZ>: 0.704\n",
      "-<YY>: 0.304\n"
     ]
    }
   ],
   "source": [
    "qreg = [7,6,11,12]\n",
    "\n",
    "with EnableExperimentalCapability():\n",
    "    circ = Circuit()\n",
    "    circ.h(qreg[0])\n",
    "    circ.h(qreg[2])\n",
    "    circ.h(qreg[1])\n",
    "    circ.cz(qreg[0],qreg[1])\n",
    "    circ.cz(qreg[2],qreg[1])\n",
    "    circ.h(qreg[1])\n",
    "    circ.cc_x([qreg[1],qreg[2]])\n",
    "    \n",
    "    # apply phase and parity errors \n",
    "    circ.rz(qreg[0], pi)\n",
    "    circ.rx(qreg[2], pi)\n",
    "\n",
    "    circ.cnot(qreg[0],qreg[1]) \n",
    "    circ.cnot(qreg[2],qreg[1])\n",
    "\n",
    "    circ.h(qreg[3])\n",
    "    circ.cnot(qreg[3],qreg[0])\n",
    "    circ.cnot(qreg[3],qreg[2])\n",
    "    circ.h(qreg[3])\n",
    "\n",
    "    circ.cc_x([qreg[1],qreg[2]]) \n",
    "    circ.cc_z([qreg[3],qreg[0]]) \n",
    "\n",
    "    # bell state measurement\n",
    "    circ.cnot(qreg[2], qreg[1])\n",
    "    circ.cnot(qreg[1], qreg[2])\n",
    "    circ.cnot(qreg[0],qreg[1])\n",
    "    circ.h(qreg[0])\n",
    "\n",
    "    if use_qpu: \n",
    "        circ = Circuit().add_verbatim_box(circ)\n",
    "    circ.measure([qreg[0],qreg[2]])\n",
    "    res = qd.run(circ, shots=500, **kw).result()\n",
    "    print(circ)\n",
    "    exp = [calc_z_exp(res.measurement_counts, qi) for qi in [[0],[1],[0,1]]]\n",
    "    print(res.measurement_counts)\n",
    "    print('\\nExpectations:')\n",
    "    print(f'+<XX>: {exp[0]}')\n",
    "    print(f'+<ZZ>: {exp[1]}')\n",
    "    print(f'-<YY>: {exp[2]}')\n",
    "\n"
   ]
  },
  {
   "cell_type": "markdown",
   "id": "71010e92",
   "metadata": {},
   "source": [
    "In lieu of detailed optimization (i.e. moving the parity and phase to the same detection qubit, choosing qubits, etc.), we can simplify this to just look at a simulated parity error. In this case, we first consider apply a bit error, and then perform a simply bitflip detection and correct, and output to the computational basis states.  "
   ]
  },
  {
   "cell_type": "code",
   "execution_count": null,
   "id": "17150f83",
   "metadata": {},
   "outputs": [],
   "source": [
    "qreg = [14,15,19]\n",
    "\n",
    "correction = [False, True]\n",
    "res_correct = []\n",
    "\n",
    "with EnableExperimentalCapability():\n",
    "    for correct in correction:\n",
    "        circ = Circuit()\n",
    "        circ.h(qreg[0])\n",
    "        circ.h(qreg[2])\n",
    "        circ.h(qreg[1])\n",
    "        circ.cz(qreg[0],qreg[1])\n",
    "        circ.cz(qreg[2],qreg[1])\n",
    "        circ.h(qreg[1])\n",
    "        circ.cc_x([qreg[1],qreg[2]])\n",
    "        # add error\n",
    "        circ.x(qreg[0])\n",
    "\n",
    "        if correct:\n",
    "            circ.h(qreg[1])\n",
    "            circ.cz(qreg[0],qreg[1])\n",
    "            circ.cz(qreg[2],qreg[1])\n",
    "            circ.h(qreg[1])\n",
    "            circ.cc_x([qreg[1], qreg[2]])\n",
    "\n",
    "        if use_qpu: \n",
    "            circ = Circuit().add_verbatim_box(circ)\n",
    "        circ.measure([qreg[0], qreg[2]])\n",
    "        res_correct.append(qd.run(circ, shots=500, **kw).result())"
   ]
  },
  {
   "cell_type": "code",
   "execution_count": 30,
   "id": "f826e448",
   "metadata": {},
   "outputs": [
    {
     "name": "stdout",
     "output_type": "stream",
     "text": [
      "Uncorrected: \n",
      "Counter({'01': 223, '10': 216, '00': 34, '11': 27})\n",
      "Corrected: \n",
      "Counter({'00': 214, '11': 168, '01': 81, '10': 37})\n"
     ]
    },
    {
     "data": {
      "image/png": "[encoded data removed]",
      "text/plain": [
       "<Figure size 640x480 with 1 Axes>"
      ]
     },
     "metadata": {},
     "output_type": "display_data"
    }
   ],
   "source": [
    "uncorr = res_correct[0].measurement_counts\n",
    "corr   = res_correct[1].measurement_counts\n",
    "\n",
    "keys = [\"00\",\"01\",\"10\",\"11\"]\n",
    "print('Uncorrected: ')\n",
    "print(uncorr)\n",
    "print('Corrected: ')\n",
    "print(corr)\n",
    "\n",
    "width = 0.33\n",
    "plt.bar(range(4), [uncorr.get(k,0) for k in keys],width=width,label=\"Uncorrected\")\n",
    "plt.bar([i+width for i in range(4)], [corr.get(k,0) for k in keys ],width=width,label=\"Corrected\")\n",
    "plt.xticks([0,1,2,3],keys)\n",
    "plt.xlabel(\"States\")\n",
    "plt.ylabel(\"Outcomes\")\n",
    "plt.legend()\n",
    "plt.show()"
   ]
  },
  {
   "cell_type": "markdown",
   "id": "a1d98ec7",
   "metadata": {},
   "source": [
    "### Error Mitigation in Mid-Circuit Measurements\n",
    "\n",
    "Noise in mid-circuit measurements unfortunately represent a large source of errors, generically due to the increased error rates in performing quantum measurements. Unitary circuits in some cases can be preferable due to the higher associated fidelities. \n",
    "\n",
    "Below we explore a simplified readout error mitigation model for active bit-flip protection, using a single data and ancilla qubit (see [here](https://journals.aps.org/prxquantum/abstract/10.1103/PRXQuantum.6.010307) for more details).  First we note that output states $00$ and $01$ represent 'correct' input states, whereas $10$ and $11$ represent incorrect states. These can happen for a variety of reasons, but we define the probability of successful reset as $p_{00}$ + $p_{01}$, and an unsuccessful reset as $p_{10}$ + $p_{11}$. \n",
    "\n",
    "To probabilistically correct this, we insert a $X$ gate on the data qubit with probability $p$. We can process this by assigning a negative weight to incorrect outcomes and subtracting from the ideal outcomes, or just tallying the total number of $0$ states. To achieve a total success number of $N$, we need an additional sampling factor, $\\gamma = 1/(1-2p)$. \n",
    "\n",
    "- *To see how this resolves, the $I$ circuit (which we select with probability $N \\gamma (1-p)$) has $N \\gamma (1-p)^2$ successful outcomes. The $X$ circuit has $N \\gamma p^2$ successful outcomes, which combined gives $N$ successful outcomes.* "
   ]
  },
  {
   "cell_type": "code",
   "execution_count": null,
   "id": "afa5501a",
   "metadata": {},
   "outputs": [
    {
     "name": "stdout",
     "output_type": "stream",
     "text": [
      "T  : │        0        │         1         │       2        │  3  │          4          │         5          │    6     │          7          │       8       │\n",
      "                        ┌─────────────────┐ ┌──────────────┐       ┌───────────────────┐                                                                       \n",
      "q1 : ───StartVerbatim───┤ PRx(1.57, 1.57) ├─┤ PRx(3.14, 0) ├───●───┤ 13→CCPRx(3.14, 0) ├─────────────────────────────────────────────────────────EndVerbatim───\n",
      "              ║         └─────────────────┘ └──────────────┘   │   └───────────────────┘                                                              ║        \n",
      "              ║         ┌─────────────────┐ ┌──────────────┐ ┌─┴─┐   ┌───────────────┐   ┌──────────────────┐ ┌────────┐ ┌───────────────────┐        ║        \n",
      "q2 : ─────────╨─────────┤ PRx(1.57, 1.57) ├─┤ PRx(3.14, 0) ├─┤ Z ├───┤ PRx(-3.14, 0) ├───┤ PRx(-1.57, 1.57) ├─┤ MFF→13 ├─┤ 13→CCPRx(3.14, 0) ├────────╨────────\n",
      "                        └─────────────────┘ └──────────────┘ └───┘   └───────────────┘   └──────────────────┘ └────────┘ └───────────────────┘                 \n",
      "T  : │        0        │         1         │       2        │  3  │          4          │         5          │    6     │          7          │       8       │\n"
     ]
    }
   ],
   "source": [
    "p_depol = 0.01\n",
    "N_s = 1000\n",
    "qreg = [1,2]\n",
    "\n",
    "with EnableExperimentalCapability():\n",
    "    qc = Circuit()\n",
    "    qc.h(qreg[0])\n",
    "    qc.cnot(qreg[0],qreg[1])\n",
    "    if not use_qpu:\n",
    "        qc.depolarizing([qreg[0],qreg[1]],p_depol)\n",
    "    qc.cc_x([qreg[1], qreg[0]])\n",
    "    if not use_qpu:\n",
    "        qc.depolarizing([qreg[0],qreg[1]],p_depol)\n",
    "    \n",
    "    if use_qpu: \n",
    "        qc = Circuit().add_verbatim_box(qc)\n",
    "\n",
    "    result = qd.run(qc, shots=N_s, **kw).result()\n",
    "\n",
    "    print(qc)"
   ]
  },
  {
   "cell_type": "markdown",
   "id": "b2801e6e",
   "metadata": {},
   "source": [
    "From this result we can model our effective error rate. "
   ]
  },
  {
   "cell_type": "code",
   "execution_count": 26,
   "id": "9a7513f1",
   "metadata": {},
   "outputs": [
    {
     "name": "stdout",
     "output_type": "stream",
     "text": [
      "Shots with  reset: Counter({'00': 845, '10': 75, '01': 62, '11': 18})\n",
      "Successful shots: 907\n",
      "Probability of success p: 0.907\n",
      "Scaling factor: 1.2285012285012284\n"
     ]
    }
   ],
   "source": [
    "counts = result.measurement_counts\n",
    "p = (counts['10'] + counts['11'])/sum(counts.values())\n",
    "success = counts['00']+ counts['01']\n",
    "scaling = 1/(1-2*p)\n",
    "print(f'Shots with  reset: {counts}')\n",
    "print(f'Successful shots: {success}')\n",
    "print(f'Probability of success p: {1-p}')\n",
    "print(f'Scaling factor: {scaling}')"
   ]
  },
  {
   "cell_type": "markdown",
   "id": "c8f73703",
   "metadata": {},
   "source": [
    "To correct this, we take $N$ shots, multiply by our scale factor $\\gamma$, $N' = N*\\gamma$, and allocate $N'p$ shots to a bit flip and $N'(1-p)$ to the identity case. "
   ]
  },
  {
   "cell_type": "code",
   "execution_count": null,
   "id": "df2bfdef",
   "metadata": {},
   "outputs": [],
   "source": [
    "from numpy.random import multinomial\n",
    "\n",
    "Np = round(N_s*scaling)\n",
    "N_i, N_x = multinomial(Np,[1-p,p])\n",
    "N_i, N_x = int(N_i), max(1,int(N_x))\n",
    "qreg = [1,2]\n",
    "\n",
    "with EnableExperimentalCapability():\n",
    "    qc = Circuit()\n",
    "    qc.h(qreg[0])\n",
    "    qc.cnot(qreg[0],qreg[1])\n",
    "    if not use_qpu:\n",
    "        qc.depolarizing([qreg[0],qreg[1]],p_depol)\n",
    "    qc.cc_x([qreg[1], qreg[0]])\n",
    "    if not use_qpu:\n",
    "        qc.depolarizing([qreg[0],qreg[1]],p_depol)\n",
    "    qc_i = qc.copy()\n",
    "    qc_x = qc.copy()\n",
    "    qc_x.x(qreg[0])\n",
    "\n",
    "    if use_qpu: \n",
    "        qc_i = Circuit().add_verbatim_box(qc_i)\n",
    "        qc_x = Circuit().add_verbatim_box(qc_x)\n",
    "\n",
    "    res_i = qd.run(qc_i, shots=N_i, **kw).result()\n",
    "    res_x = qd.run(qc_x, shots=N_x, **kw).result()"
   ]
  },
  {
   "cell_type": "markdown",
   "id": "fd03bc8c",
   "metadata": {},
   "source": [
    "And we perform our post processing..."
   ]
  },
  {
   "cell_type": "code",
   "execution_count": null,
   "id": "a964e886",
   "metadata": {},
   "outputs": [
    {
     "name": "stdout",
     "output_type": "stream",
     "text": [
      "Average success per mitigated shot: 1.018\n"
     ]
    }
   ],
   "source": [
    "counts_i = res_i.measurement_counts\n",
    "counts_x = res_x.measurement_counts\n",
    "success = counts_i['00'] + counts_i['01'] - counts_x['00'] - counts_x['01']\n",
    "\n",
    "psuedo_p = success/N_s\n",
    "\n",
    "print(f'Average success per mitigated shot: {psuedo_p}')"
   ]
  },
  {
   "cell_type": "markdown",
   "id": "e17adf74",
   "metadata": {},
   "source": [
    "And we have successfully mitigated our active bit flip procedure. In practice this can be substantially more complicated, requiring techniques seen in some of the references below. "
   ]
  },
  {
   "cell_type": "markdown",
   "id": "752f4a5d",
   "metadata": {},
   "source": [
    "### Checking in on costs\n",
    "\n",
    "You can try these out on IQM Garnet for the expected value listed in the next block. "
   ]
  },
  {
   "cell_type": "code",
   "execution_count": null,
   "id": "9d2117dc",
   "metadata": {},
   "outputs": [],
   "source": [
    "if use_qpu:\n",
    "    print(\"Quantum Task Summary\")\n",
    "    print(track.quantum_tasks_statistics())\n",
    "    print(\n",
    "        \"Note: Charges shown are estimates based on your Amazon Braket simulator and quantum processing unit (QPU) task usage. Estimated charges shown may differ from your actual charges. Estimated charges do not factor in any discounts or credits, and you may experience additional charges based on your use of other services such as Amazon Elastic Compute Cloud (Amazon EC2).\",\n",
    "    )\n",
    "    print(\n",
    "        f\"Estimated cost to run this example: {track.qpu_tasks_cost() + track.simulator_tasks_cost():.3f} USD\",\n",
    "    )"
   ]
  },
  {
   "cell_type": "markdown",
   "id": "99196590",
   "metadata": {},
   "source": [
    "### Conclusions\n",
    "\n",
    "In this notebook we looked at examples of how dynamic circuits can help correct or mitigate noise in quantum systems. In particular, the Bell state stabilization represents a fundamental tools for building more advanced protocols. While fault tolerant error correction codes are beyond the scope presented here, dynamic circuits provide building block for these appliciations. Readout mitigation also represents a critical tool for enabling more reliable results for near-term devices, particularly when dominant error sources from mid-circuit measurements may be difficult to characterize. \n",
    "\n",
    "\n",
    "### References: \n",
    "1. Andersen, Remm, Lazar et al. *Entanglement stabilization using ancilla-based parity detection and real-time feedback in superconducting circuits* (2019) [npj Quant. Info. 5, 69](https://www.nature.com/articles/s41534-019-0185-4)\n",
    "2. Hashim, Carignan-Dugas, Chen et al. Quasiprobabilistic Readout Correction of Midcircuit Measurements for Adaptive Feedback via Measurement Randomized Compiling (2025) [PRX Quantum 6, 010207](https://journals.aps.org/prxquantum/abstract/10.1103/PRXQuantum.6.010307) \n"
   ]
  }
 ],
 "metadata": {
  "kernelspec": {
   "display_name": ".venv",
   "language": "python",
   "name": "python3"
  },
  "language_info": {
   "codemirror_mode": {
    "name": "ipython",
    "version": 3
   },
   "file_extension": ".py",
   "mimetype": "text/x-python",
   "name": "python",
   "nbconvert_exporter": "python",
   "pygments_lexer": "ipython3",
   "version": "3.10.17"
  }
 },
 "nbformat": 4,
 "nbformat_minor": 5
}
