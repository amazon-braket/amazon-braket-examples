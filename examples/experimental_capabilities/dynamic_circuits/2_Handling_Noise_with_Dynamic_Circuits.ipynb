{
 "cells": [
  {
   "cell_type": "markdown",
   "id": "deed1267",
   "metadata": {},
   "source": [
    "## Exploring Noise with Dynamic Circuits on Amazon Braket with IQM\n",
    "\n",
    "One of the key applications of dynamic circuits is related to harnessing and correcting errors or noise in quantum circuits. Access to mid-circuit measurements allows for detection, and feedforward operations allow us to make adjustments or corrections to the target state. It is also important to describe the error rates associated with the extra measurement procedures occuring. \n",
    "\n",
    "In this notebook we look at examples of entanglement stabilization as well as readout error mitigation for an active qubit reset. \n",
    "\n",
    "\n",
    "### Notebook Setup\n",
    "\n",
    "Before we dive into our examples, let's (again) handle our imports. For simplicity, we will work here with standard Clifford gates, Pauli rotations, and `cc_x` or `cc_z` primitives. The `cc_x` gate (and by a simple rotation `cc_z`) applies a X gate conditionally on a particular measurement configuration.\n",
    "\n",
    "In the local simulator, we use a composition of a partial trace and initialization procedure, which are both valid quantum channels and thus can be implemented through their Kraus operators ($\\mathcal{E}[\\rho]=  \\sum K_i \\rho K_i^\\dagger$):\n",
    "\n",
    "$$K_0= |0\\rangle \\langle 0 | \\otimes I $$\n",
    "\n",
    "$$ K_1 = |0 \\rangle \\langle 1 | \\otimes X $$\n",
    "\n",
    "Notes on `iqm_config.py` and `local_config.py`:\n",
    "- `cc_x` and `cc_z` are *user defined* gate types. Use the `reset` keyword to specify an active reset. \n",
    "- These gates assume that `measure_ff` and any `cc_prx` are implemented at the same layer and time, and can be concatenated as `cc_x`.\n",
    "- Importing `iqm_config.py` transpiles Clifford circuits to native IQM gates.\n",
    "- For actual implementations, see the respective `iqm_config.py` or `local_config.py` files."
   ]
  },
  {
   "cell_type": "code",
   "execution_count": 1,
   "id": "d09cfd81",
   "metadata": {},
   "outputs": [],
   "source": [
    "from math import pi\n",
    "\n",
    "import matplotlib.pyplot as plt\n",
    "\n",
    "from braket.circuits import Circuit\n",
    "from braket.experimental_capabilities import EnableExperimentalCapability\n",
<<<<<<< HEAD
    "from braket.tracking import Tracker"
=======
    "from braket.tracking import Tracker\n"
>>>>>>> cdfb41b (feat: add examples for IQM dynamic circuits  (#717))
   ]
  },
  {
   "cell_type": "code",
<<<<<<< HEAD
   "execution_count": 2,
=======
   "execution_count": null,
>>>>>>> cdfb41b (feat: add examples for IQM dynamic circuits  (#717))
   "id": "8afddb9d",
   "metadata": {},
   "outputs": [],
   "source": [
    "use_qpu = True\n",
<<<<<<< HEAD
=======
    "kw = {}\n",
>>>>>>> cdfb41b (feat: add examples for IQM dynamic circuits  (#717))
    "\n",
    "if use_qpu: \n",
    "    import iqm_config\n",
    "    qd = iqm_config.qd\n",
<<<<<<< HEAD
=======
    "    kw[\"tags\"] = iqm_config.tags\n",
>>>>>>> cdfb41b (feat: add examples for IQM dynamic circuits  (#717))
    "else:\n",
    "    import local_config\n",
    "    qd = local_config.qd\n",
    "\n",
    "track = Tracker().start()\n",
    "\n",
    "def calc_z_exp(counts : dict, qubits : list) -> float:\n",
    "    \"\"\" calculate z_expectations from shots on particular qubits \"\"\"\n",
    "    val = 0\n",
    "    for k,v in counts.items():\n",
    "        val+= v*(-1)**len([k[i] for i in qubits if k[i]==\"1\"])\n",
    "    return val/sum(list(counts.values()))"
   ]
  },
  {
   "cell_type": "markdown",
   "id": "1b6e3a33",
   "metadata": {},
   "source": [
    "### Stabilizing Bell States \n",
    "\n",
    "Next, we look at a simple stabilization experiment utilizng Bell states and dynamic circuits. Theoretically this can be described as follows. \n",
    "\n",
    "Take the first Bell state:\n",
    "$$|\\psi \\rangle =  \\frac{1}{\\sqrt{2}}(|00\\rangle + |11\\rangle) $$ \n",
    "\n",
    "We can consider parity and (real) phase errors. If a bit flip error occurs for instance on either qubit, then we transition to the state:\n",
    "\n",
    "$$X_1|\\psi \\rangle = X_2|\\psi\\rangle = \\frac{1}{\\sqrt{2}}(|01\\rangle + |10\\rangle)$$ \n",
    "\n",
    "Importantly, the errors here are symmetric with respect to either bit flip. Thus a $X$ gate on either 1 or 2 is sufficient to correct it. If we consider phase errors, then we also have that:\n",
    "\n",
    "$$Z_1|\\psi\\rangle = Z_2 | \\psi\\rangle = \\frac{1}{\\sqrt{2}}(|00\\rangle - |11\\rangle)$$ \n",
    "\n",
    "As above, both of these errors can be mitigated using a single $Z$ application on either qubit. The state is actually protected against dual bit flips, as well as dual phase errors. For a combined error bit and phase error we see: \n",
    "$$Z_1 X_2|\\psi\\rangle = \\frac{1}{\\sqrt{2}} (|01\\rangle - |10\\rangle) = Z_2 X_1 |\\psi\\rangle $$ \n",
    "\n",
    "If the errors occur on the same qubit:\n",
    "$$ Z_1 X_1 |\\psi\\rangle = - X_1 Z_1 |\\psi\\rangle = -\\frac{1}{\\sqrt{2}}(|10\\rangle - |01\\rangle) $$ \n",
    "\n",
    "then we can still similarly correct the qubit. To verify, we can make a Bell state measurement, which yields the expectation values of $X_1 X_2$, $Z_1 Z_2$ and $-Y_1 Y_2$ and which the chosen Bell state is a eigenvector with eigenvalues +1. The following example allows us to manually insert errors, apply the correction, and see the resulting expectations. \n",
    "\n",
    "#### Laying this out to IQM Garnet\n",
    "\n",
    "To realize this on the IQM Garnet architeture is not straightforward, as we need to find support for 5 out of 6 of the available CNOTs in a 4-qubit layout, say on qubits 7, 6, 11, and 12. \n",
    "\n",
    "<img src=\"images/iqm_groups.png\" alt=\"drawing\" width=\"200\"/>\n",
    "\n",
    "The most straigthforward way is (1) create a Bell state on qubits 7 and 6, (2) swap 6 with 11, and then use 6 and 12 for parity and bit flip checks, respectively. Alternatively, we can use a single ancilla, to perform a parity check, reset, and then perform a bit-flip check. Step (2) can also be performed with a Z- or X-teleportation. \n",
    "- *Note, we do have to be careful with qubit selection, but here there is no conflict as we use the same `cc_x` on the parity check and the X-teleportation.*\n",
    "\n",
    "However, we can also use the method in the work by [Andersen et al.](https://www.nature.com/articles/s41534-019-0185-4), where the initial mid-circuit measurement helps to create the entangled pair state. That is, we put qubits 0 and 2 in the $|+x>$ state, apply CNOTs to a register, and then apply a classically condition $X$ on either register. This gives us the appropriate Bell State. "
   ]
  },
  {
   "cell_type": "code",
   "execution_count": 3,
   "id": "d037ea2a",
   "metadata": {},
   "outputs": [
    {
     "name": "stdout",
     "output_type": "stream",
     "text": [
      "T   : │        0        │         1         │       2        │  3  │          4           │         5          │       6        │    7    │         8          │         9         │       10       │ 11  │        12         │         13         │        14         │       15        │            16            │        17         │         18         │         19         │         20         │         21         │         22         │         23         │        24         │         25         │ 26  │        27         │         28         │ 29  │        30         │         31         │      32       │ 33  │\n",
      "                         ┌─────────────────┐ ┌──────────────┐ ┌───┐ ┌───┐                  ┌─────────────────┐  ┌──────────────┐ ┌───────┐ ┌──────────────────┐ ┌─────────────────┐ ┌──────────────┐ ┌───┐  ┌───────────────┐  ┌──────────────────┐ ┌─────────────────┐ ┌──────────────┐  ┌───┐                       ┌───────────────┐  ┌──────────────────┐      ┌───────┐       ┌──────────────────┐ ┌─────────────────┐    ┌──────────────┐          ┌───┐          ┌───────────────┐  ┌──────────────────┐       ┌─────────────────┐   ┌──────────────┐   ┌───┐  ┌───────────────┐  ┌──────────────────┐                       \n",
      "q6  : ───StartVerbatim───┤ PRx(1.57, 1.57) ├─┤ PRx(3.14, 0) ├─┤ Z ├─┤ Z ├──────────────────┤ PRx(1.57, 1.57) ├──┤ PRx(3.14, 0) ├─┤ MFF→0 ├─┤ 0→CCPRx(3.14, 0) ├─┤ PRx(1.57, 1.57) ├─┤ PRx(3.14, 0) ├─┤ Z ├──┤ PRx(-3.14, 0) ├──┤ PRx(-1.57, 1.57) ├─┤ PRx(1.57, 1.57) ├─┤ PRx(3.14, 0) ├──┤ Z ├───────────────────────┤ PRx(-3.14, 0) ├──┤ PRx(-1.57, 1.57) ├──────┤ MFF→1 ├───────┤ 1→CCPRx(3.14, 0) ├─┤ PRx(1.57, 1.57) ├────┤ PRx(3.14, 0) ├──────────┤ Z ├──────────┤ PRx(-3.14, 0) ├──┤ PRx(-1.57, 1.57) ├───●───┤ PRx(1.57, 1.57) ├───┤ PRx(3.14, 0) ├───┤ Z ├──┤ PRx(-3.14, 0) ├──┤ PRx(-1.57, 1.57) ├───EndVerbatim─────────\n",
      "               ║         └─────────────────┘ └──────────────┘ └─┬─┘ └─┬─┘                  └─────────────────┘  └──────────────┘ └───────┘ └──────────────────┘ └─────────────────┘ └──────────────┘ └─┬─┘  └───────────────┘  └──────────────────┘ └─────────────────┘ └──────────────┘  └─┬─┘                       └───────────────┘  └──────────────────┘      └───────┘       └──────────────────┘ └─────────────────┘    └──────────────┘          └─┬─┘          └───────────────┘  └──────────────────┘   │   └─────────────────┘   └──────────────┘   └─┬─┘  └───────────────┘  └──────────────────┘        ║              \n",
      "               ║         ┌─────────────────┐ ┌──────────────┐   │     │   ┌──────────────┐ ┌─────────────────┐                                                                                         │   ┌─────────────────┐   ┌──────────────┐          ┌───┐        ┌───────────────┐   │   ┌──────────────────┐ ┌─────────────────┐   ┌──────────────┐   ┌──────────────────┐  ┌───────────────┐   ┌──────────────────┐                               │                                                      │                                              │   ┌─────────────────┐   ┌──────────────┐          ║        ┌───┐ \n",
      "q7  : ─────────║─────────┤ PRx(1.57, 1.57) ├─┤ PRx(3.14, 0) ├───●─────┼───┤ PRx(3.14, 0) ├─┤ PRx(3.14, 1.57) ├─────────────────────────────────────────────────────────────────────────────────────────●───┤ PRx(1.57, 1.57) ├───┤ PRx(3.14, 0) ├──────────┤ Z ├────────┤ PRx(-3.14, 0) ├───┼───┤ PRx(-1.57, 1.57) ├─┤ PRx(1.57, 1.57) ├───┤ PRx(3.14, 0) ├───┤ 2→CCPRx(3.14, 0) ├──┤ PRx(-3.14, 0) ├───┤ PRx(-1.57, 1.57) ├───────────────────────────────┼──────────────────────────────────────────────────────┼──────────────────────────────────────────────●───┤ PRx(1.57, 1.57) ├───┤ PRx(3.14, 0) ├──────────║────────┤ M ├─\n",
      "               ║         └─────────────────┘ └──────────────┘         │   └──────────────┘ └─────────────────┘                                                                                             └─────────────────┘   └──────────────┘          └─┬─┘        └───────────────┘   │   └──────────────────┘ └─────────────────┘   └──────────────┘   └──────────────────┘  └───────────────┘   └──────────────────┘                               │                                                      │                                                  └─────────────────┘   └──────────────┘          ║        └───┘ \n",
      "               ║         ┌─────────────────┐ ┌──────────────┐         │                    ┌──────────────────┐ ┌──────────────┐                                                                                                                             │                              │                        ┌─────────────────┐   ┌──────────────┐          ┌───┐          ┌───────────────┐   ┌──────────────────┐ ┌──────────────────┐          │           ┌─────────────────┐   ┌──────────────┐   ┌─┴─┐  ┌───────────────┐  ┌──────────────────┐                                                       ║        ┌───┐ \n",
      "q11 : ─────────║─────────┤ PRx(1.57, 1.57) ├─┤ PRx(3.14, 0) ├─────────●────────────────────┤ 0→CCPRx(3.14, 0) ├─┤ PRx(3.14, 0) ├─────────────────────────────────────────────────────────────────────────────────────────────────────────────────────────────┼──────────────────────────────●────────────────────────┤ PRx(1.57, 1.57) ├───┤ PRx(3.14, 0) ├──────────┤ Z ├──────────┤ PRx(-3.14, 0) ├───┤ PRx(-1.57, 1.57) ├─┤ 1→CCPRx(3.14, 0) ├──────────●───────────┤ PRx(1.57, 1.57) ├───┤ PRx(3.14, 0) ├───┤ Z ├──┤ PRx(-3.14, 0) ├──┤ PRx(-1.57, 1.57) ├───────────────────────────────────────────────────────║────────┤ M ├─\n",
      "               ║         └─────────────────┘ └──────────────┘                              └──────────────────┘ └──────────────┘                                                                                                                             │                                                       └─────────────────┘   └──────────────┘          └─┬─┘          └───────────────┘   └──────────────────┘ └──────────────────┘                      └─────────────────┘   └──────────────┘   └───┘  └───────────────┘  └──────────────────┘                                                       ║        └───┘ \n",
      "               ║         ┌─────────────────┐ ┌──────────────┐                                                                                                                                                                                                │                                                                                                         │           ┌─────────────────┐    ┌──────────────┐        ┌───────┐       ┌──────────────────┐                                                                                                                                               ║              \n",
      "q12 : ─────────╨─────────┤ PRx(1.57, 1.57) ├─┤ PRx(3.14, 0) ├────────────────────────────────────────────────────────────────────────────────────────────────────────────────────────────────────────────────────────────────────────────────────────────────●─────────────────────────────────────────────────────────────────────────────────────────────────────────●───────────┤ PRx(1.57, 1.57) ├────┤ PRx(3.14, 0) ├────────┤ MFF→2 ├───────┤ 2→CCPRx(3.14, 0) ├───────────────────────────────────────────────────────────────────────────────────────────────────────────────────────────────────────────────╨──────────────\n",
      "                         └─────────────────┘ └──────────────┘                                                                                                                                                                                                                                                                                                                      └─────────────────┘    └──────────────┘        └───────┘       └──────────────────┘                                                                                                                                                              \n",
      "T   : │        0        │         1         │       2        │  3  │          4           │         5          │       6        │    7    │         8          │         9         │       10       │ 11  │        12         │         13         │        14         │       15        │            16            │        17         │         18         │         19         │         20         │         21         │         22         │         23         │        24         │         25         │ 26  │        27         │         28         │ 29  │        30         │         31         │      32       │ 33  │\n",
<<<<<<< HEAD
      "Counter({'00': 289, '10': 161, '01': 30, '11': 20})\n",
      "\n",
      "Expectations:\n",
      "+<XX>: 0.276\n",
      "+<ZZ>: 0.8\n",
      "-<YY>: 0.236\n"
=======
      "Counter({'00': 347, '10': 84, '01': 50, '11': 19})\n",
      "\n",
      "Expectations:\n",
      "+<XX>: 0.588\n",
      "+<ZZ>: 0.724\n",
      "-<YY>: 0.464\n"
>>>>>>> cdfb41b (feat: add examples for IQM dynamic circuits  (#717))
     ]
    }
   ],
   "source": [
    "qreg = [7,6,11,12]\n",
    "\n",
    "with EnableExperimentalCapability():\n",
    "    circ = Circuit()\n",
    "    circ.h(qreg[0])\n",
    "    circ.h(qreg[2])\n",
    "    circ.h(qreg[1])\n",
    "    circ.cz(qreg[0],qreg[1])\n",
    "    circ.cz(qreg[2],qreg[1])\n",
    "    circ.h(qreg[1])\n",
    "    circ.cc_x([qreg[1],qreg[2]])\n",
    "    \n",
    "    # apply phase and parity errors \n",
    "    circ.rz(qreg[0], pi)\n",
    "    circ.rx(qreg[2], pi)\n",
    "\n",
    "    circ.cnot(qreg[0],qreg[1]) \n",
    "    circ.cnot(qreg[2],qreg[1])\n",
    "\n",
    "    circ.h(qreg[3])\n",
    "    circ.cnot(qreg[3],qreg[0])\n",
    "    circ.cnot(qreg[3],qreg[2])\n",
    "    circ.h(qreg[3])\n",
    "\n",
    "    circ.cc_x([qreg[1],qreg[2]]) \n",
    "    circ.cc_z([qreg[3],qreg[0]]) \n",
    "\n",
    "    # bell state measurement\n",
    "    circ.cnot(qreg[2], qreg[1])\n",
    "    circ.cnot(qreg[1], qreg[2])\n",
    "    circ.cnot(qreg[0],qreg[1])\n",
    "    circ.h(qreg[0])\n",
    "\n",
    "    if use_qpu: \n",
    "        circ = Circuit().add_verbatim_box(circ)\n",
    "    circ.measure([qreg[0],qreg[2]])\n",
<<<<<<< HEAD
    "    res = qd.run(circ, shots=500).result()\n",
=======
    "    res = qd.run(circ, shots=500, **kw).result()\n",
>>>>>>> cdfb41b (feat: add examples for IQM dynamic circuits  (#717))
    "    print(circ)\n",
    "    exp = [calc_z_exp(res.measurement_counts, qi) for qi in [[0],[1],[0,1]]]\n",
    "    print(res.measurement_counts)\n",
    "    print('\\nExpectations:')\n",
    "    print(f'+<XX>: {exp[0]}')\n",
    "    print(f'+<ZZ>: {exp[1]}')\n",
    "    print(f'-<YY>: {exp[2]}')\n",
    "\n"
   ]
  },
  {
   "cell_type": "markdown",
   "id": "71010e92",
   "metadata": {},
   "source": [
    "In lieu of detailed optimization (i.e. moving the parity and phase to the same detection qubit, choosing qubits, etc.), we can simplify this to just look at a simulated parity error. In this case, we first consider apply a bit error, and then perform a simply bitflip detection and correct, and output to the computational basis states.  "
   ]
  },
  {
   "cell_type": "code",
<<<<<<< HEAD
   "execution_count": 4,
=======
   "execution_count": null,
>>>>>>> cdfb41b (feat: add examples for IQM dynamic circuits  (#717))
   "id": "17150f83",
   "metadata": {},
   "outputs": [],
   "source": [
    "qreg = [14,15,19]\n",
    "\n",
    "correction = [False, True]\n",
    "res_correct = []\n",
    "\n",
    "with EnableExperimentalCapability():\n",
    "    for correct in correction:\n",
    "        circ = Circuit()\n",
    "        circ.h(qreg[0])\n",
    "        circ.h(qreg[2])\n",
    "        circ.h(qreg[1])\n",
    "        circ.cz(qreg[0],qreg[1])\n",
    "        circ.cz(qreg[2],qreg[1])\n",
    "        circ.h(qreg[1])\n",
    "        circ.cc_x([qreg[1],qreg[2]])\n",
    "        # add error\n",
    "        circ.x(qreg[0])\n",
    "\n",
    "        if correct:\n",
    "            circ.h(qreg[1])\n",
    "            circ.cz(qreg[0],qreg[1])\n",
    "            circ.cz(qreg[2],qreg[1])\n",
    "            circ.h(qreg[1])\n",
    "            circ.cc_x([qreg[1], qreg[2]])\n",
    "\n",
    "        if use_qpu: \n",
    "            circ = Circuit().add_verbatim_box(circ)\n",
    "        circ.measure([qreg[0], qreg[2]])\n",
<<<<<<< HEAD
    "        res_correct.append(qd.run(circ, shots=500).result())"
=======
    "        res_correct.append(qd.run(circ, shots=500, **kw).result())"
>>>>>>> cdfb41b (feat: add examples for IQM dynamic circuits  (#717))
   ]
  },
  {
   "cell_type": "code",
<<<<<<< HEAD
   "execution_count": 5,
=======
   "execution_count": 30,
>>>>>>> cdfb41b (feat: add examples for IQM dynamic circuits  (#717))
   "id": "f826e448",
   "metadata": {},
   "outputs": [
    {
     "name": "stdout",
     "output_type": "stream",
     "text": [
      "Uncorrected: \n",
<<<<<<< HEAD
      "Counter({'10': 242, '01': 218, '11': 20, '00': 20})\n",
      "Corrected: \n",
      "Counter({'00': 237, '11': 209, '01': 36, '10': 18})\n"
=======
      "Counter({'01': 223, '10': 216, '00': 34, '11': 27})\n",
      "Corrected: \n",
      "Counter({'00': 214, '11': 168, '01': 81, '10': 37})\n"
>>>>>>> cdfb41b (feat: add examples for IQM dynamic circuits  (#717))
     ]
    },
    {
     "data": {
<<<<<<< HEAD
      "image/png": "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",
=======
      "image/png": "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",
>>>>>>> cdfb41b (feat: add examples for IQM dynamic circuits  (#717))
      "text/plain": [
       "<Figure size 640x480 with 1 Axes>"
      ]
     },
     "metadata": {},
     "output_type": "display_data"
    }
   ],
   "source": [
    "uncorr = res_correct[0].measurement_counts\n",
    "corr   = res_correct[1].measurement_counts\n",
    "\n",
    "keys = [\"00\",\"01\",\"10\",\"11\"]\n",
    "print('Uncorrected: ')\n",
    "print(uncorr)\n",
    "print('Corrected: ')\n",
    "print(corr)\n",
    "\n",
    "width = 0.33\n",
    "plt.bar(range(4), [uncorr.get(k,0) for k in keys],width=width,label=\"Uncorrected\")\n",
    "plt.bar([i+width for i in range(4)], [corr.get(k,0) for k in keys ],width=width,label=\"Corrected\")\n",
    "plt.xticks([0,1,2,3],keys)\n",
    "plt.xlabel(\"States\")\n",
    "plt.ylabel(\"Outcomes\")\n",
    "plt.legend()\n",
    "plt.show()"
   ]
  },
  {
   "cell_type": "markdown",
   "id": "a1d98ec7",
   "metadata": {},
   "source": [
    "### Error Mitigation in Mid-Circuit Measurements\n",
    "\n",
    "Noise in mid-circuit measurements unfortunately represent a large source of errors, generically due to the increased error rates in performing quantum measurements. Unitary circuits in some cases can be preferable due to the higher associated fidelities. \n",
    "\n",
    "Below we explore a simplified readout error mitigation model for active bit-flip protection, using a single data and ancilla qubit (see [here](https://journals.aps.org/prxquantum/abstract/10.1103/PRXQuantum.6.010307) for more details).  First we note that output states $00$ and $01$ represent 'correct' input states, whereas $10$ and $11$ represent incorrect states. These can happen for a variety of reasons, but we define the probability of successful reset as $p_{00}$ + $p_{01}$, and an unsuccessful reset as $p_{10}$ + $p_{11}$. \n",
    "\n",
    "To probabilistically correct this, we insert a $X$ gate on the data qubit with probability $p$. We can process this by assigning a negative weight to incorrect outcomes and subtracting from the ideal outcomes, or just tallying the total number of $0$ states. To achieve a total success number of $N$, we need an additional sampling factor, $\\gamma = 1/(1-2p)$. \n",
    "\n",
    "- *To see how this resolves, the $I$ circuit (which we select with probability $N \\gamma (1-p)$) has $N \\gamma (1-p)^2$ successful outcomes. The $X$ circuit has $N \\gamma p^2$ successful outcomes, which combined gives $N$ successful outcomes.* "
   ]
  },
  {
   "cell_type": "code",
<<<<<<< HEAD
   "execution_count": 6,
=======
   "execution_count": null,
>>>>>>> cdfb41b (feat: add examples for IQM dynamic circuits  (#717))
   "id": "afa5501a",
   "metadata": {},
   "outputs": [
    {
     "name": "stdout",
     "output_type": "stream",
     "text": [
<<<<<<< HEAD
      "T  : │        0        │         1         │       2        │  3  │         4          │         5          │    6    │         7          │       8       │\n",
      "                        ┌─────────────────┐ ┌──────────────┐       ┌──────────────────┐                                                                     \n",
      "q1 : ───StartVerbatim───┤ PRx(1.57, 1.57) ├─┤ PRx(3.14, 0) ├───●───┤ 6→CCPRx(3.14, 0) ├───────────────────────────────────────────────────────EndVerbatim───\n",
      "              ║         └─────────────────┘ └──────────────┘   │   └──────────────────┘                                                            ║        \n",
      "              ║         ┌─────────────────┐ ┌──────────────┐ ┌─┴─┐  ┌───────────────┐   ┌──────────────────┐ ┌───────┐ ┌──────────────────┐        ║        \n",
      "q2 : ─────────╨─────────┤ PRx(1.57, 1.57) ├─┤ PRx(3.14, 0) ├─┤ Z ├──┤ PRx(-3.14, 0) ├───┤ PRx(-1.57, 1.57) ├─┤ MFF→6 ├─┤ 6→CCPRx(3.14, 0) ├────────╨────────\n",
      "                        └─────────────────┘ └──────────────┘ └───┘  └───────────────┘   └──────────────────┘ └───────┘ └──────────────────┘                 \n",
      "T  : │        0        │         1         │       2        │  3  │         4          │         5          │    6    │         7          │       8       │\n"
=======
      "T  : │        0        │         1         │       2        │  3  │          4          │         5          │    6     │          7          │       8       │\n",
      "                        ┌─────────────────┐ ┌──────────────┐       ┌───────────────────┐                                                                       \n",
      "q1 : ───StartVerbatim───┤ PRx(1.57, 1.57) ├─┤ PRx(3.14, 0) ├───●───┤ 13→CCPRx(3.14, 0) ├─────────────────────────────────────────────────────────EndVerbatim───\n",
      "              ║         └─────────────────┘ └──────────────┘   │   └───────────────────┘                                                              ║        \n",
      "              ║         ┌─────────────────┐ ┌──────────────┐ ┌─┴─┐   ┌───────────────┐   ┌──────────────────┐ ┌────────┐ ┌───────────────────┐        ║        \n",
      "q2 : ─────────╨─────────┤ PRx(1.57, 1.57) ├─┤ PRx(3.14, 0) ├─┤ Z ├───┤ PRx(-3.14, 0) ├───┤ PRx(-1.57, 1.57) ├─┤ MFF→13 ├─┤ 13→CCPRx(3.14, 0) ├────────╨────────\n",
      "                        └─────────────────┘ └──────────────┘ └───┘   └───────────────┘   └──────────────────┘ └────────┘ └───────────────────┘                 \n",
      "T  : │        0        │         1         │       2        │  3  │          4          │         5          │    6     │          7          │       8       │\n"
>>>>>>> cdfb41b (feat: add examples for IQM dynamic circuits  (#717))
     ]
    }
   ],
   "source": [
    "p_depol = 0.01\n",
    "N_s = 1000\n",
    "qreg = [1,2]\n",
    "\n",
    "with EnableExperimentalCapability():\n",
    "    qc = Circuit()\n",
    "    qc.h(qreg[0])\n",
    "    qc.cnot(qreg[0],qreg[1])\n",
    "    if not use_qpu:\n",
    "        qc.depolarizing([qreg[0],qreg[1]],p_depol)\n",
    "    qc.cc_x([qreg[1], qreg[0]])\n",
    "    if not use_qpu:\n",
    "        qc.depolarizing([qreg[0],qreg[1]],p_depol)\n",
    "    \n",
    "    if use_qpu: \n",
    "        qc = Circuit().add_verbatim_box(qc)\n",
    "\n",
<<<<<<< HEAD
    "    result = qd.run(qc, shots=N_s).result()\n",
=======
    "    result = qd.run(qc, shots=N_s, **kw).result()\n",
>>>>>>> cdfb41b (feat: add examples for IQM dynamic circuits  (#717))
    "\n",
    "    print(qc)"
   ]
  },
  {
   "cell_type": "markdown",
   "id": "b2801e6e",
   "metadata": {},
   "source": [
    "From this result we can model our effective error rate. "
   ]
  },
  {
   "cell_type": "code",
<<<<<<< HEAD
   "execution_count": 7,
=======
   "execution_count": 26,
>>>>>>> cdfb41b (feat: add examples for IQM dynamic circuits  (#717))
   "id": "9a7513f1",
   "metadata": {},
   "outputs": [
    {
     "name": "stdout",
     "output_type": "stream",
     "text": [
<<<<<<< HEAD
      "Shots with  reset: Counter({'00': 844, '01': 73, '10': 73, '11': 10})\n",
      "Successful shots: 917\n",
      "Probability of success p: 0.917\n",
      "Scaling factor: 1.1990407673860912\n"
=======
      "Shots with  reset: Counter({'00': 845, '10': 75, '01': 62, '11': 18})\n",
      "Successful shots: 907\n",
      "Probability of success p: 0.907\n",
      "Scaling factor: 1.2285012285012284\n"
>>>>>>> cdfb41b (feat: add examples for IQM dynamic circuits  (#717))
     ]
    }
   ],
   "source": [
    "counts = result.measurement_counts\n",
    "p = (counts['10'] + counts['11'])/sum(counts.values())\n",
    "success = counts['00']+ counts['01']\n",
    "scaling = 1/(1-2*p)\n",
    "print(f'Shots with  reset: {counts}')\n",
    "print(f'Successful shots: {success}')\n",
    "print(f'Probability of success p: {1-p}')\n",
    "print(f'Scaling factor: {scaling}')"
   ]
  },
  {
   "cell_type": "markdown",
   "id": "c8f73703",
   "metadata": {},
   "source": [
    "To correct this, we take $N$ shots, multiply by our scale factor $\\gamma$, $N' = N*\\gamma$, and allocate $N'p$ shots to a bit flip and $N'(1-p)$ to the identity case. "
   ]
  },
  {
   "cell_type": "code",
<<<<<<< HEAD
   "execution_count": 8,
=======
   "execution_count": null,
>>>>>>> cdfb41b (feat: add examples for IQM dynamic circuits  (#717))
   "id": "df2bfdef",
   "metadata": {},
   "outputs": [],
   "source": [
    "from numpy.random import multinomial\n",
    "\n",
    "Np = round(N_s*scaling)\n",
    "N_i, N_x = multinomial(Np,[1-p,p])\n",
    "N_i, N_x = int(N_i), max(1,int(N_x))\n",
    "qreg = [1,2]\n",
    "\n",
    "with EnableExperimentalCapability():\n",
    "    qc = Circuit()\n",
    "    qc.h(qreg[0])\n",
    "    qc.cnot(qreg[0],qreg[1])\n",
    "    if not use_qpu:\n",
    "        qc.depolarizing([qreg[0],qreg[1]],p_depol)\n",
    "    qc.cc_x([qreg[1], qreg[0]])\n",
    "    if not use_qpu:\n",
    "        qc.depolarizing([qreg[0],qreg[1]],p_depol)\n",
    "    qc_i = qc.copy()\n",
    "    qc_x = qc.copy()\n",
    "    qc_x.x(qreg[0])\n",
    "\n",
    "    if use_qpu: \n",
    "        qc_i = Circuit().add_verbatim_box(qc_i)\n",
    "        qc_x = Circuit().add_verbatim_box(qc_x)\n",
    "\n",
<<<<<<< HEAD
    "    res_i = qd.run(qc_i, shots=N_i).result()\n",
    "    res_x = qd.run(qc_x, shots=N_x).result()"
=======
    "    res_i = qd.run(qc_i, shots=N_i, **kw).result()\n",
    "    res_x = qd.run(qc_x, shots=N_x, **kw).result()"
>>>>>>> cdfb41b (feat: add examples for IQM dynamic circuits  (#717))
   ]
  },
  {
   "cell_type": "markdown",
   "id": "fd03bc8c",
   "metadata": {},
   "source": [
    "And we perform our post processing..."
   ]
  },
  {
   "cell_type": "code",
<<<<<<< HEAD
   "execution_count": 9,
=======
   "execution_count": null,
>>>>>>> cdfb41b (feat: add examples for IQM dynamic circuits  (#717))
   "id": "a964e886",
   "metadata": {},
   "outputs": [
    {
     "name": "stdout",
     "output_type": "stream",
     "text": [
<<<<<<< HEAD
      "Average success per mitigated shot: 1.014\n"
=======
      "Average success per mitigated shot: 1.018\n"
>>>>>>> cdfb41b (feat: add examples for IQM dynamic circuits  (#717))
     ]
    }
   ],
   "source": [
    "counts_i = res_i.measurement_counts\n",
    "counts_x = res_x.measurement_counts\n",
    "success = counts_i['00'] + counts_i['01'] - counts_x['00'] - counts_x['01']\n",
    "\n",
    "psuedo_p = success/N_s\n",
    "\n",
    "print(f'Average success per mitigated shot: {psuedo_p}')"
   ]
  },
  {
   "cell_type": "markdown",
   "id": "e17adf74",
   "metadata": {},
   "source": [
    "And we have successfully mitigated our active bit flip procedure. In practice this can be substantially more complicated, requiring techniques seen in some of the references below. "
   ]
  },
  {
   "cell_type": "markdown",
   "id": "752f4a5d",
   "metadata": {},
   "source": [
    "### Checking in on costs\n",
    "\n",
    "You can try these out on IQM Garnet for the expected value listed in the next block. "
   ]
  },
  {
   "cell_type": "code",
<<<<<<< HEAD
   "execution_count": 10,
   "id": "9d2117dc",
   "metadata": {},
   "outputs": [
    {
     "name": "stdout",
     "output_type": "stream",
     "text": [
      "Quantum Task Summary\n",
      "{<_IQM.Garnet: 'arn:aws:braket:eu-north-1::device/qpu/iqm/Garnet'>: {'shots': 3699, 'tasks': {'COMPLETED': 6}}}\n",
      "\n",
      "Note: Charges shown are estimates based on your Amazon Braket simulator and quantum processing unit (QPU) task usage.\n",
      "Estimated charges shown may differ from your actual charges. Estimated charges do not factor in any discounts or credits,\n",
      "and you may experience additional charges based on your use of other services such as Amazon Elastic Compute Cloud (Amazon EC2).\n",
      "\n",
      "Estimated cost to run this example: 7.164 USD\n"
     ]
    }
   ],
   "source": [
    "if use_qpu: \n",
    "    print(\"Quantum Task Summary\")\n",
    "    print(track.quantum_tasks_statistics())\n",
    "    print(\n",
    "        \"\\nNote: Charges shown are estimates based on your Amazon Braket simulator and quantum processing unit (QPU) task usage.\\nEstimated charges shown may differ from your actual charges. Estimated charges do not factor in any discounts or credits,\\nand you may experience additional charges based on your use of other services such as Amazon Elastic Compute Cloud (Amazon EC2).\",\n",
    "    )\n",
    "    print(\n",
    "        f\"\\nEstimated cost to run this example: {track.qpu_tasks_cost() + track.simulator_tasks_cost():.3f} USD\",\n",
=======
   "execution_count": null,
   "id": "9d2117dc",
   "metadata": {},
   "outputs": [],
   "source": [
    "if use_qpu:\n",
    "    print(\"Quantum Task Summary\")\n",
    "    print(track.quantum_tasks_statistics())\n",
    "    print(\n",
    "        \"Note: Charges shown are estimates based on your Amazon Braket simulator and quantum processing unit (QPU) task usage. Estimated charges shown may differ from your actual charges. Estimated charges do not factor in any discounts or credits, and you may experience additional charges based on your use of other services such as Amazon Elastic Compute Cloud (Amazon EC2).\",\n",
    "    )\n",
    "    print(\n",
    "        f\"Estimated cost to run this example: {track.qpu_tasks_cost() + track.simulator_tasks_cost():.3f} USD\",\n",
>>>>>>> cdfb41b (feat: add examples for IQM dynamic circuits  (#717))
    "    )"
   ]
  },
  {
   "cell_type": "markdown",
   "id": "99196590",
   "metadata": {},
   "source": [
    "### Conclusions\n",
    "\n",
    "In this notebook we looked at examples of how dynamic circuits can help correct or mitigate noise in quantum systems. In particular, the Bell state stabilization represents a fundamental tools for building more advanced protocols. While fault tolerant error correction codes are beyond the scope presented here, dynamic circuits provide building block for these appliciations. Readout mitigation also represents a critical tool for enabling more reliable results for near-term devices, particularly when dominant error sources from mid-circuit measurements may be difficult to characterize. \n",
    "\n",
    "\n",
    "### References: \n",
    "1. Andersen, Remm, Lazar et al. *Entanglement stabilization using ancilla-based parity detection and real-time feedback in superconducting circuits* (2019) [npj Quant. Info. 5, 69](https://www.nature.com/articles/s41534-019-0185-4)\n",
    "2. Hashim, Carignan-Dugas, Chen et al. Quasiprobabilistic Readout Correction of Midcircuit Measurements for Adaptive Feedback via Measurement Randomized Compiling (2025) [PRX Quantum 6, 010207](https://journals.aps.org/prxquantum/abstract/10.1103/PRXQuantum.6.010307) \n"
   ]
  }
 ],
 "metadata": {
  "kernelspec": {
   "display_name": ".venv",
   "language": "python",
   "name": "python3"
  },
  "language_info": {
   "codemirror_mode": {
    "name": "ipython",
    "version": 3
   },
   "file_extension": ".py",
   "mimetype": "text/x-python",
   "name": "python",
   "nbconvert_exporter": "python",
   "pygments_lexer": "ipython3",
   "version": "3.10.17"
  }
 },
 "nbformat": 4,
 "nbformat_minor": 5
}

{
 "cells": [
  {
   "cell_type": "markdown",
   "id": "deed1267",
   "metadata": {},
   "source": [
    "## Exploring Noise with Dynamic Circuits on Amazon Braket with IQM\n",
    "\n",
    "One of the key applications of dynamic circuits is related to harnessing and correcting errors or noise in quantum circuits. Access to mid-circuit measurements allows for detection, and feedforward operations allow us to make adjustments or corrections to the target state. It is also important to describe the error rates associated with the extra measurement procedures occuring. \n",
    "\n",
    "In this notebook we look at examples of entanglement stabilization as well as readout error mitigation for an active qubit reset. \n",
    "\n",
    "\n",
    "### Notebook Setup\n",
    "\n",
    "Before we dive into our examples, let's (again) handle our imports. For simplicity, we will work here with standard Clifford gates, Pauli rotations, and `cc_x` or `cc_z` primitives. The `cc_x` gate (and by a simple rotation `cc_z`) applies a X gate conditionally on a particular measurement configuration.\n",
    "\n",
    "In the local simulator, we use a composition of a partial trace and initialization procedure, which are both valid quantum channels and thus can be implemented through their Kraus operators ($\\mathcal{E}[\\rho]=  \\sum K_i \\rho K_i^\\dagger$):\n",
    "\n",
    "$$K_0= |0\\rangle \\langle 0 | \\otimes I $$\n",
    "\n",
    "$$ K_1 = |0 \\rangle \\langle 1 | \\otimes X $$\n",
    "\n",
    "Notes on `iqm_config.py` and `local_config.py`:\n",
    "- `cc_x` and `cc_z` are *user defined* gate types. Use the `reset` keyword to specify an active reset. \n",
    "- These gates assume that `measure_ff` and any `cc_prx` are implemented at the same layer and time, and can be concatenated as `cc_x`.\n",
    "- Importing `iqm_config.py` transpiles Clifford circuits to native IQM gates.\n",
    "- For actual implementations, see the respective `iqm_config.py` or `local_config.py` files."
   ]
  },
  {
   "cell_type": "code",
   "execution_count": 1,
   "id": "d09cfd81",
   "metadata": {},
   "outputs": [],
   "source": [
    "from math import pi\n",
    "\n",
    "import matplotlib.pyplot as plt\n",
    "\n",
    "from braket.circuits import Circuit\n",
    "from braket.experimental_capabilities import EnableExperimentalCapability\n",
    "from braket.tracking import Tracker\n"
   ]
  },
  {
   "cell_type": "code",
   "execution_count": null,
   "id": "8afddb9d",
   "metadata": {},
   "outputs": [],
   "source": [
    "use_qpu = True\n",
    "kw = {}\n",
    "\n",
    "if use_qpu: \n",
    "    import iqm_config\n",
    "    qd = iqm_config.qd\n",
    "    kw[\"tags\"] = iqm_config.tags\n",
    "else:\n",
    "    import local_config\n",
    "    qd = local_config.qd\n",
    "\n",
    "track = Tracker().start()\n",
    "\n",
    "def calc_z_exp(counts : dict, qubits : list) -> float:\n",
    "    \"\"\" calculate z_expectations from shots on particular qubits \"\"\"\n",
    "    val = 0\n",
    "    for k,v in counts.items():\n",
    "        val+= v*(-1)**len([k[i] for i in qubits if k[i]==\"1\"])\n",
    "    return val/sum(list(counts.values()))"
   ]
  },
  {
   "cell_type": "markdown",
   "id": "1b6e3a33",
   "metadata": {},
   "source": [
    "### Stabilizing Bell States \n",
    "\n",
    "Next, we look at a simple stabilization experiment utilizng Bell states and dynamic circuits. Theoretically this can be described as follows. \n",
    "\n",
    "Take the first Bell state:\n",
    "$$|\\psi \\rangle =  \\frac{1}{\\sqrt{2}}(|00\\rangle + |11\\rangle) $$ \n",
    "\n",
    "We can consider parity and (real) phase errors. If a bit flip error occurs for instance on either qubit, then we transition to the state:\n",
    "\n",
    "$$X_1|\\psi \\rangle = X_2|\\psi\\rangle = \\frac{1}{\\sqrt{2}}(|01\\rangle + |10\\rangle)$$ \n",
    "\n",
    "Importantly, the errors here are symmetric with respect to either bit flip. Thus a $X$ gate on either 1 or 2 is sufficient to correct it. If we consider phase errors, then we also have that:\n",
    "\n",
    "$$Z_1|\\psi\\rangle = Z_2 | \\psi\\rangle = \\frac{1}{\\sqrt{2}}(|00\\rangle - |11\\rangle)$$ \n",
    "\n",
    "As above, both of these errors can be mitigated using a single $Z$ application on either qubit. The state is actually protected against dual bit flips, as well as dual phase errors. For a combined error bit and phase error we see: \n",
    "$$Z_1 X_2|\\psi\\rangle = \\frac{1}{\\sqrt{2}} (|01\\rangle - |10\\rangle) = Z_2 X_1 |\\psi\\rangle $$ \n",
    "\n",
    "If the errors occur on the same qubit:\n",
    "$$ Z_1 X_1 |\\psi\\rangle = - X_1 Z_1 |\\psi\\rangle = -\\frac{1}{\\sqrt{2}}(|10\\rangle - |01\\rangle) $$ \n",
    "\n",
    "then we can still similarly correct the qubit. To verify, we can make a Bell state measurement, which yields the expectation values of $X_1 X_2$, $Z_1 Z_2$ and $-Y_1 Y_2$ and which the chosen Bell state is a eigenvector with eigenvalues +1. The following example allows us to manually insert errors, apply the correction, and see the resulting expectations. \n",
    "\n",
    "#### Laying this out to IQM Garnet\n",
    "\n",
    "To realize this on the IQM Garnet architeture is not straightforward, as we need to find support for 5 out of 6 of the available CNOTs in a 4-qubit layout, say on qubits 7, 6, 11, and 12. \n",
    "\n",
    "<img src=\"images/iqm_groups.png\" alt=\"drawing\" width=\"200\"/>\n",
    "\n",
    "The most straigthforward way is (1) create a Bell state on qubits 7 and 6, (2) swap 6 with 11, and then use 6 and 12 for parity and bit flip checks, respectively. Alternatively, we can use a single ancilla, to perform a parity check, reset, and then perform a bit-flip check. Step (2) can also be performed with a Z- or X-teleportation. \n",
    "- *Note, we do have to be careful with qubit selection, but here there is no conflict as we use the same `cc_x` on the parity check and the X-teleportation.*\n",
    "\n",
    "However, we can also use the method in the work by [Andersen et al.](https://www.nature.com/articles/s41534-019-0185-4), where the initial mid-circuit measurement helps to create the entangled pair state. That is, we put qubits 0 and 2 in the $|+x>$ state, apply CNOTs to a register, and then apply a classically condition $X$ on either register. This gives us the appropriate Bell State. "
   ]
  },
  {
   "cell_type": "code",
   "execution_count": null,
   "id": "d037ea2a",
   "metadata": {},
   "outputs": [
    {
     "name": "stdout",
     "output_type": "stream",
     "text": [
      "T   : │        0        │         1         │       2        │  3  │          4           │         5          │       6        │    7    │         8          │         9         │       10       │ 11  │        12         │         13         │        14         │       15        │            16            │        17         │         18         │         19         │         20         │         21         │         22         │         23         │        24         │         25         │ 26  │        27         │         28         │ 29  │        30         │         31         │      32       │ 33  │\n",
      "                         ┌─────────────────┐ ┌──────────────┐ ┌───┐ ┌───┐                  ┌─────────────────┐  ┌──────────────┐ ┌───────┐ ┌──────────────────┐ ┌─────────────────┐ ┌──────────────┐ ┌───┐  ┌───────────────┐  ┌──────────────────┐ ┌─────────────────┐ ┌──────────────┐  ┌───┐                       ┌───────────────┐  ┌──────────────────┐      ┌───────┐       ┌──────────────────┐ ┌─────────────────┐    ┌──────────────┐          ┌───┐          ┌───────────────┐  ┌──────────────────┐       ┌─────────────────┐   ┌──────────────┐   ┌───┐  ┌───────────────┐  ┌──────────────────┐                       \n",
      "q6  : ───StartVerbatim───┤ PRx(1.57, 1.57) ├─┤ PRx(3.14, 0) ├─┤ Z ├─┤ Z ├──────────────────┤ PRx(1.57, 1.57) ├──┤ PRx(3.14, 0) ├─┤ MFF→5 ├─┤ 5→CCPRx(3.14, 0) ├─┤ PRx(1.57, 1.57) ├─┤ PRx(3.14, 0) ├─┤ Z ├──┤ PRx(-3.14, 0) ├──┤ PRx(-1.57, 1.57) ├─┤ PRx(1.57, 1.57) ├─┤ PRx(3.14, 0) ├──┤ Z ├───────────────────────┤ PRx(-3.14, 0) ├──┤ PRx(-1.57, 1.57) ├──────┤ MFF→6 ├───────┤ 6→CCPRx(3.14, 0) ├─┤ PRx(1.57, 1.57) ├────┤ PRx(3.14, 0) ├──────────┤ Z ├──────────┤ PRx(-3.14, 0) ├──┤ PRx(-1.57, 1.57) ├───●───┤ PRx(1.57, 1.57) ├───┤ PRx(3.14, 0) ├───┤ Z ├──┤ PRx(-3.14, 0) ├──┤ PRx(-1.57, 1.57) ├───EndVerbatim─────────\n",
      "               ║         └─────────────────┘ └──────────────┘ └─┬─┘ └─┬─┘                  └─────────────────┘  └──────────────┘ └───────┘ └──────────────────┘ └─────────────────┘ └──────────────┘ └─┬─┘  └───────────────┘  └──────────────────┘ └─────────────────┘ └──────────────┘  └─┬─┘                       └───────────────┘  └──────────────────┘      └───────┘       └──────────────────┘ └─────────────────┘    └──────────────┘          └─┬─┘          └───────────────┘  └──────────────────┘   │   └─────────────────┘   └──────────────┘   └─┬─┘  └───────────────┘  └──────────────────┘        ║              \n",
      "               ║         ┌─────────────────┐ ┌──────────────┐   │     │   ┌──────────────┐ ┌─────────────────┐                                                                                         │   ┌─────────────────┐   ┌──────────────┐          ┌───┐        ┌───────────────┐   │   ┌──────────────────┐ ┌─────────────────┐   ┌──────────────┐   ┌──────────────────┐  ┌───────────────┐   ┌──────────────────┐                               │                                                      │                                              │   ┌─────────────────┐   ┌──────────────┐          ║        ┌───┐ \n",
      "q7  : ─────────║─────────┤ PRx(1.57, 1.57) ├─┤ PRx(3.14, 0) ├───●─────┼───┤ PRx(3.14, 0) ├─┤ PRx(3.14, 1.57) ├─────────────────────────────────────────────────────────────────────────────────────────●───┤ PRx(1.57, 1.57) ├───┤ PRx(3.14, 0) ├──────────┤ Z ├────────┤ PRx(-3.14, 0) ├───┼───┤ PRx(-1.57, 1.57) ├─┤ PRx(1.57, 1.57) ├───┤ PRx(3.14, 0) ├───┤ 7→CCPRx(3.14, 0) ├──┤ PRx(-3.14, 0) ├───┤ PRx(-1.57, 1.57) ├───────────────────────────────┼──────────────────────────────────────────────────────┼──────────────────────────────────────────────●───┤ PRx(1.57, 1.57) ├───┤ PRx(3.14, 0) ├──────────║────────┤ M ├─\n",
      "               ║         └─────────────────┘ └──────────────┘         │   └──────────────┘ └─────────────────┘                                                                                             └─────────────────┘   └──────────────┘          └─┬─┘        └───────────────┘   │   └──────────────────┘ └─────────────────┘   └──────────────┘   └──────────────────┘  └───────────────┘   └──────────────────┘                               │                                                      │                                                  └─────────────────┘   └──────────────┘          ║        └───┘ \n",
      "               ║         ┌─────────────────┐ ┌──────────────┐         │                    ┌──────────────────┐ ┌──────────────┐                                                                                                                             │                              │                        ┌─────────────────┐   ┌──────────────┐          ┌───┐          ┌───────────────┐   ┌──────────────────┐ ┌──────────────────┐          │           ┌─────────────────┐   ┌──────────────┐   ┌─┴─┐  ┌───────────────┐  ┌──────────────────┐                                                       ║        ┌───┐ \n",
      "q11 : ─────────║─────────┤ PRx(1.57, 1.57) ├─┤ PRx(3.14, 0) ├─────────●────────────────────┤ 5→CCPRx(3.14, 0) ├─┤ PRx(3.14, 0) ├─────────────────────────────────────────────────────────────────────────────────────────────────────────────────────────────┼──────────────────────────────●────────────────────────┤ PRx(1.57, 1.57) ├───┤ PRx(3.14, 0) ├──────────┤ Z ├──────────┤ PRx(-3.14, 0) ├───┤ PRx(-1.57, 1.57) ├─┤ 6→CCPRx(3.14, 0) ├──────────●───────────┤ PRx(1.57, 1.57) ├───┤ PRx(3.14, 0) ├───┤ Z ├──┤ PRx(-3.14, 0) ├──┤ PRx(-1.57, 1.57) ├───────────────────────────────────────────────────────║────────┤ M ├─\n",
      "               ║         └─────────────────┘ └──────────────┘                              └──────────────────┘ └──────────────┘                                                                                                                             │                                                       └─────────────────┘   └──────────────┘          └─┬─┘          └───────────────┘   └──────────────────┘ └──────────────────┘                      └─────────────────┘   └──────────────┘   └───┘  └───────────────┘  └──────────────────┘                                                       ║        └───┘ \n",
      "               ║         ┌─────────────────┐ ┌──────────────┐                                                                                                                                                                                                │                                                                                                         │           ┌─────────────────┐    ┌──────────────┐        ┌───────┐       ┌──────────────────┐                                                                                                                                               ║              \n",
      "q12 : ─────────╨─────────┤ PRx(1.57, 1.57) ├─┤ PRx(3.14, 0) ├────────────────────────────────────────────────────────────────────────────────────────────────────────────────────────────────────────────────────────────────────────────────────────────────●─────────────────────────────────────────────────────────────────────────────────────────────────────────●───────────┤ PRx(1.57, 1.57) ├────┤ PRx(3.14, 0) ├────────┤ MFF→7 ├───────┤ 7→CCPRx(3.14, 0) ├───────────────────────────────────────────────────────────────────────────────────────────────────────────────────────────────────────────────╨──────────────\n",
      "                         └─────────────────┘ └──────────────┘                                                                                                                                                                                                                                                                                                                      └─────────────────┘    └──────────────┘        └───────┘       └──────────────────┘                                                                                                                                                              \n",
      "T   : │        0        │         1         │       2        │  3  │          4           │         5          │       6        │    7    │         8          │         9         │       10       │ 11  │        12         │         13         │        14         │       15        │            16            │        17         │         18         │         19         │         20         │         21         │         22         │         23         │        24         │         25         │ 26  │        27         │         28         │ 29  │        30         │         31         │      32       │ 33  │\n",
      "Counter({'00': 299, '10': 127, '01': 47, '11': 27})\n",
      "\n",
      "Expectations:\n",
      "+<XX>: 0.384\n",
      "+<ZZ>: 0.704\n",
      "-<YY>: 0.304\n"
     ]
    }
   ],
   "source": [
    "qreg = [7,6,11,12]\n",
    "\n",
    "with EnableExperimentalCapability():\n",
    "    circ = Circuit()\n",
    "    circ.h(qreg[0])\n",
    "    circ.h(qreg[2])\n",
    "    circ.h(qreg[1])\n",
    "    circ.cz(qreg[0],qreg[1])\n",
    "    circ.cz(qreg[2],qreg[1])\n",
    "    circ.h(qreg[1])\n",
    "    circ.cc_x([qreg[1],qreg[2]])\n",
    "    \n",
    "    # apply phase and parity errors \n",
    "    circ.rz(qreg[0], pi)\n",
    "    circ.rx(qreg[2], pi)\n",
    "\n",
    "    circ.cnot(qreg[0],qreg[1]) \n",
    "    circ.cnot(qreg[2],qreg[1])\n",
    "\n",
    "    circ.h(qreg[3])\n",
    "    circ.cnot(qreg[3],qreg[0])\n",
    "    circ.cnot(qreg[3],qreg[2])\n",
    "    circ.h(qreg[3])\n",
    "\n",
    "    circ.cc_x([qreg[1],qreg[2]]) \n",
    "    circ.cc_z([qreg[3],qreg[0]]) \n",
    "\n",
    "    # bell state measurement\n",
    "    circ.cnot(qreg[2], qreg[1])\n",
    "    circ.cnot(qreg[1], qreg[2])\n",
    "    circ.cnot(qreg[0],qreg[1])\n",
    "    circ.h(qreg[0])\n",
    "\n",
    "    if use_qpu: \n",
    "        circ = Circuit().add_verbatim_box(circ)\n",
    "    circ.measure([qreg[0],qreg[2]])\n",
    "    res = qd.run(circ, shots=500, **kw).result()\n",
    "    print(circ)\n",
    "    exp = [calc_z_exp(res.measurement_counts, qi) for qi in [[0],[1],[0,1]]]\n",
    "    print(res.measurement_counts)\n",
    "    print('\\nExpectations:')\n",
    "    print(f'+<XX>: {exp[0]}')\n",
    "    print(f'+<ZZ>: {exp[1]}')\n",
    "    print(f'-<YY>: {exp[2]}')\n",
    "\n"
   ]
  },
  {
   "cell_type": "markdown",
   "id": "71010e92",
   "metadata": {},
   "source": [
    "In lieu of detailed optimization (i.e. moving the parity and phase to the same detection qubit, choosing qubits, etc.), we can simplify this to just look at a simulated parity error. In this case, we first consider apply a bit error, and then perform a simply bitflip detection and correct, and output to the computational basis states.  "
   ]
  },
  {
   "cell_type": "code",
   "execution_count": null,
   "id": "17150f83",
   "metadata": {},
   "outputs": [],
   "source": [
    "qreg = [14,15,19]\n",
    "\n",
    "correction = [False, True]\n",
    "res_correct = []\n",
    "\n",
    "with EnableExperimentalCapability():\n",
    "    for correct in correction:\n",
    "        circ = Circuit()\n",
    "        circ.h(qreg[0])\n",
    "        circ.h(qreg[2])\n",
    "        circ.h(qreg[1])\n",
    "        circ.cz(qreg[0],qreg[1])\n",
    "        circ.cz(qreg[2],qreg[1])\n",
    "        circ.h(qreg[1])\n",
    "        circ.cc_x([qreg[1],qreg[2]])\n",
    "        # add error\n",
    "        circ.x(qreg[0])\n",
    "\n",
    "        if correct:\n",
    "            circ.h(qreg[1])\n",
    "            circ.cz(qreg[0],qreg[1])\n",
    "            circ.cz(qreg[2],qreg[1])\n",
    "            circ.h(qreg[1])\n",
    "            circ.cc_x([qreg[1], qreg[2]])\n",
    "\n",
    "        if use_qpu: \n",
    "            circ = Circuit().add_verbatim_box(circ)\n",
    "        circ.measure([qreg[0], qreg[2]])\n",
    "        res_correct.append(qd.run(circ, shots=500, **kw).result())"
   ]
  },
  {
   "cell_type": "code",
   "execution_count": 30,
   "id": "f826e448",
   "metadata": {},
   "outputs": [
    {
     "name": "stdout",
     "output_type": "stream",
     "text": [
      "Uncorrected: \n",
      "Counter({'01': 223, '10': 216, '00': 34, '11': 27})\n",
      "Corrected: \n",
      "Counter({'00': 214, '11': 168, '01': 81, '10': 37})\n"
     ]
    },
    {
     "data": {
      "image/png": "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",
      "text/plain": [
       "<Figure size 640x480 with 1 Axes>"
      ]
     },
     "metadata": {},
     "output_type": "display_data"
    }
   ],
   "source": [
    "uncorr = res_correct[0].measurement_counts\n",
    "corr   = res_correct[1].measurement_counts\n",
    "\n",
    "keys = [\"00\",\"01\",\"10\",\"11\"]\n",
    "print('Uncorrected: ')\n",
    "print(uncorr)\n",
    "print('Corrected: ')\n",
    "print(corr)\n",
    "\n",
    "width = 0.33\n",
    "plt.bar(range(4), [uncorr.get(k,0) for k in keys],width=width,label=\"Uncorrected\")\n",
    "plt.bar([i+width for i in range(4)], [corr.get(k,0) for k in keys ],width=width,label=\"Corrected\")\n",
    "plt.xticks([0,1,2,3],keys)\n",
    "plt.xlabel(\"States\")\n",
    "plt.ylabel(\"Outcomes\")\n",
    "plt.legend()\n",
    "plt.show()"
   ]
  },
  {
   "cell_type": "markdown",
   "id": "a1d98ec7",
   "metadata": {},
   "source": [
    "### Error Mitigation in Mid-Circuit Measurements\n",
    "\n",
    "Noise in mid-circuit measurements unfortunately represent a large source of errors, generically due to the increased error rates in performing quantum measurements. Unitary circuits in some cases can be preferable due to the higher associated fidelities. \n",
    "\n",
    "Below we explore a simplified readout error mitigation model for active bit-flip protection, using a single data and ancilla qubit (see [here](https://journals.aps.org/prxquantum/abstract/10.1103/PRXQuantum.6.010307) for more details).  First we note that output states $00$ and $01$ represent 'correct' input states, whereas $10$ and $11$ represent incorrect states. These can happen for a variety of reasons, but we define the probability of successful reset as $p_{00}$ + $p_{01}$, and an unsuccessful reset as $p_{10}$ + $p_{11}$. \n",
    "\n",
    "To probabilistically correct this, we insert a $X$ gate on the data qubit with probability $p$. We can process this by assigning a negative weight to incorrect outcomes and subtracting from the ideal outcomes, or just tallying the total number of $0$ states. To achieve a total success number of $N$, we need an additional sampling factor, $\\gamma = 1/(1-2p)$. \n",
    "\n",
    "- *To see how this resolves, the $I$ circuit (which we select with probability $N \\gamma (1-p)$) has $N \\gamma (1-p)^2$ successful outcomes. The $X$ circuit has $N \\gamma p^2$ successful outcomes, which combined gives $N$ successful outcomes.* "
   ]
  },
  {
   "cell_type": "code",
   "execution_count": null,
   "id": "afa5501a",
   "metadata": {},
   "outputs": [
    {
     "name": "stdout",
     "output_type": "stream",
     "text": [
      "T  : │        0        │         1         │       2        │  3  │          4          │         5          │    6     │          7          │       8       │\n",
      "                        ┌─────────────────┐ ┌──────────────┐       ┌───────────────────┐                                                                       \n",
      "q1 : ───StartVerbatim───┤ PRx(1.57, 1.57) ├─┤ PRx(3.14, 0) ├───●───┤ 13→CCPRx(3.14, 0) ├─────────────────────────────────────────────────────────EndVerbatim───\n",
      "              ║         └─────────────────┘ └──────────────┘   │   └───────────────────┘                                                              ║        \n",
      "              ║         ┌─────────────────┐ ┌──────────────┐ ┌─┴─┐   ┌───────────────┐   ┌──────────────────┐ ┌────────┐ ┌───────────────────┐        ║        \n",
      "q2 : ─────────╨─────────┤ PRx(1.57, 1.57) ├─┤ PRx(3.14, 0) ├─┤ Z ├───┤ PRx(-3.14, 0) ├───┤ PRx(-1.57, 1.57) ├─┤ MFF→13 ├─┤ 13→CCPRx(3.14, 0) ├────────╨────────\n",
      "                        └─────────────────┘ └──────────────┘ └───┘   └───────────────┘   └──────────────────┘ └────────┘ └───────────────────┘                 \n",
      "T  : │        0        │         1         │       2        │  3  │          4          │         5          │    6     │          7          │       8       │\n"
     ]
    }
   ],
   "source": [
    "p_depol = 0.01\n",
    "N_s = 1000\n",
    "qreg = [1,2]\n",
    "\n",
    "with EnableExperimentalCapability():\n",
    "    qc = Circuit()\n",
    "    qc.h(qreg[0])\n",
    "    qc.cnot(qreg[0],qreg[1])\n",
    "    if not use_qpu:\n",
    "        qc.depolarizing([qreg[0],qreg[1]],p_depol)\n",
    "    qc.cc_x([qreg[1], qreg[0]])\n",
    "    if not use_qpu:\n",
    "        qc.depolarizing([qreg[0],qreg[1]],p_depol)\n",
    "    \n",
    "    if use_qpu: \n",
    "        qc = Circuit().add_verbatim_box(qc)\n",
    "\n",
    "    result = qd.run(qc, shots=N_s, **kw).result()\n",
    "\n",
    "    print(qc)"
   ]
  },
  {
   "cell_type": "markdown",
   "id": "b2801e6e",
   "metadata": {},
   "source": [
    "From this result we can model our effective error rate. "
   ]
  },
  {
   "cell_type": "code",
   "execution_count": 26,
   "id": "9a7513f1",
   "metadata": {},
   "outputs": [
    {
     "name": "stdout",
     "output_type": "stream",
     "text": [
      "Shots with  reset: Counter({'00': 845, '10': 75, '01': 62, '11': 18})\n",
      "Successful shots: 907\n",
      "Probability of success p: 0.907\n",
      "Scaling factor: 1.2285012285012284\n"
     ]
    }
   ],
   "source": [
    "counts = result.measurement_counts\n",
    "p = (counts['10'] + counts['11'])/sum(counts.values())\n",
    "success = counts['00']+ counts['01']\n",
    "scaling = 1/(1-2*p)\n",
    "print(f'Shots with  reset: {counts}')\n",
    "print(f'Successful shots: {success}')\n",
    "print(f'Probability of success p: {1-p}')\n",
    "print(f'Scaling factor: {scaling}')"
   ]
  },
  {
   "cell_type": "markdown",
   "id": "c8f73703",
   "metadata": {},
   "source": [
    "To correct this, we take $N$ shots, multiply by our scale factor $\\gamma$, $N' = N*\\gamma$, and allocate $N'p$ shots to a bit flip and $N'(1-p)$ to the identity case. "
   ]
  },
  {
   "cell_type": "code",
   "execution_count": null,
   "id": "df2bfdef",
   "metadata": {},
   "outputs": [],
   "source": [
    "from numpy.random import multinomial\n",
    "\n",
    "Np = round(N_s*scaling)\n",
    "N_i, N_x = multinomial(Np,[1-p,p])\n",
    "N_i, N_x = int(N_i), max(1,int(N_x))\n",
    "qreg = [1,2]\n",
    "\n",
    "with EnableExperimentalCapability():\n",
    "    qc = Circuit()\n",
    "    qc.h(qreg[0])\n",
    "    qc.cnot(qreg[0],qreg[1])\n",
    "    if not use_qpu:\n",
    "        qc.depolarizing([qreg[0],qreg[1]],p_depol)\n",
    "    qc.cc_x([qreg[1], qreg[0]])\n",
    "    if not use_qpu:\n",
    "        qc.depolarizing([qreg[0],qreg[1]],p_depol)\n",
    "    qc_i = qc.copy()\n",
    "    qc_x = qc.copy()\n",
    "    qc_x.x(qreg[0])\n",
    "\n",
    "    if use_qpu: \n",
    "        qc_i = Circuit().add_verbatim_box(qc_i)\n",
    "        qc_x = Circuit().add_verbatim_box(qc_x)\n",
    "\n",
    "    res_i = qd.run(qc_i, shots=N_i, **kw).result()\n",
    "    res_x = qd.run(qc_x, shots=N_x, **kw).result()"
   ]
  },
  {
   "cell_type": "markdown",
   "id": "fd03bc8c",
   "metadata": {},
   "source": [
    "And we perform our post processing..."
   ]
  },
  {
   "cell_type": "code",
   "execution_count": null,
   "id": "a964e886",
   "metadata": {},
   "outputs": [
    {
     "name": "stdout",
     "output_type": "stream",
     "text": [
      "Average success per mitigated shot: 1.018\n"
     ]
    }
   ],
   "source": [
    "counts_i = res_i.measurement_counts\n",
    "counts_x = res_x.measurement_counts\n",
    "success = counts_i['00'] + counts_i['01'] - counts_x['00'] - counts_x['01']\n",
    "\n",
    "psuedo_p = success/N_s\n",
    "\n",
    "print(f'Average success per mitigated shot: {psuedo_p}')"
   ]
  },
  {
   "cell_type": "markdown",
   "id": "e17adf74",
   "metadata": {},
   "source": [
    "And we have successfully mitigated our active bit flip procedure. In practice this can be substantially more complicated, requiring techniques seen in some of the references below. "
   ]
  },
  {
   "cell_type": "markdown",
   "id": "752f4a5d",
   "metadata": {},
   "source": [
    "### Checking in on costs\n",
    "\n",
    "You can try these out on IQM Garnet for the expected value listed in the next block. "
   ]
  },
  {
   "cell_type": "code",
   "execution_count": null,
   "id": "9d2117dc",
   "metadata": {},
   "outputs": [],
   "source": [
    "if use_qpu:\n",
    "    print(\"Quantum Task Summary\")\n",
    "    print(track.quantum_tasks_statistics())\n",
    "    print(\n",
    "        \"Note: Charges shown are estimates based on your Amazon Braket simulator and quantum processing unit (QPU) task usage. Estimated charges shown may differ from your actual charges. Estimated charges do not factor in any discounts or credits, and you may experience additional charges based on your use of other services such as Amazon Elastic Compute Cloud (Amazon EC2).\",\n",
    "    )\n",
    "    print(\n",
    "        f\"Estimated cost to run this example: {track.qpu_tasks_cost() + track.simulator_tasks_cost():.3f} USD\",\n",
    "    )"
   ]
  },
  {
   "cell_type": "markdown",
   "id": "99196590",
   "metadata": {},
   "source": [
    "### Conclusions\n",
    "\n",
    "In this notebook we looked at examples of how dynamic circuits can help correct or mitigate noise in quantum systems. In particular, the Bell state stabilization represents a fundamental tools for building more advanced protocols. While fault tolerant error correction codes are beyond the scope presented here, dynamic circuits provide building block for these appliciations. Readout mitigation also represents a critical tool for enabling more reliable results for near-term devices, particularly when dominant error sources from mid-circuit measurements may be difficult to characterize. \n",
    "\n",
    "\n",
    "### References: \n",
    "1. Andersen, Remm, Lazar et al. *Entanglement stabilization using ancilla-based parity detection and real-time feedback in superconducting circuits* (2019) [npj Quant. Info. 5, 69](https://www.nature.com/articles/s41534-019-0185-4)\n",
    "2. Hashim, Carignan-Dugas, Chen et al. Quasiprobabilistic Readout Correction of Midcircuit Measurements for Adaptive Feedback via Measurement Randomized Compiling (2025) [PRX Quantum 6, 010207](https://journals.aps.org/prxquantum/abstract/10.1103/PRXQuantum.6.010307) \n"
   ]
  }
 ],
 "metadata": {
  "kernelspec": {
   "display_name": ".venv",
   "language": "python",
   "name": "python3"
  },
  "language_info": {
   "codemirror_mode": {
    "name": "ipython",
    "version": 3
   },
   "file_extension": ".py",
   "mimetype": "text/x-python",
   "name": "python",
   "nbconvert_exporter": "python",
   "pygments_lexer": "ipython3",
   "version": "3.10.17"
  }
 },
 "nbformat": 4,
 "nbformat_minor": 5
}
