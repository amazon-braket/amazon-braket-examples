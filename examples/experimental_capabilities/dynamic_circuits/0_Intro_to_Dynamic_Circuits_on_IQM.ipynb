{
 "cells": [
  {
   "cell_type": "markdown",
   "id": "deed1267",
   "metadata": {},
   "source": [
    "## Introduction to Dynamic Circuits with Amazon Braket on IQM Garnet\n",
    "\n",
    "In this notebook we introduce experimental dynamic circuit primitives on IQM Garnet through mid-circuit measurements (MCM) and feedforward (FF) techniques on Amazon Braket. We show the basic syntax supported on Amazon Braket and IQM Garnet, demonstrate active qubit reset and active bit flip protection experiments, detail ways to experiment with local simulators, and provide further details for using these capabilities on IQM Garnet. "
   ]
  },
  {
   "cell_type": "markdown",
   "id": "2176bc67",
   "metadata": {},
   "source": [
    "### What are Dynamic Circuits?\n",
    "\n",
    "Dynamic circuits are quantum circuits involving mid-circuit measurements, qubit resets, and feedforward or classically conditioned gates. Over the last few years, most quantum devices have allowed for static quantum circuits, where all measurements are taken at the end of a quantum circuit. However, this often does not use qubits efficiently and does not allow for feedback within a circuit. One can show with the *principle of deferred measurement*, that the dynamic circuit and static circuit pictures are entirely equivalent. \n",
    "\n",
    "A simple example is a bit-flip check operation on a data qubit that we would like to perform $n$ times using an ancilla. For static circuits, we require $n$ extra ancilla qubits, one per reset. However, with mid-circuit measurements and feedforward techniques we can realize the protocol with a *single* ancilla qubit. \n",
    "\n",
    "A key identity for dynamic circuits is:\n",
    "\n",
    "<img src=\"images/deferred_measurement.png\" alt=\"drawing\" width=\"250\"/>\n",
    "\n",
    "which we can verify by considering the effect of a unitary on an arbitrary state. Namely, for some states $|\\alpha\\rangle$ and $|\\beta\\rangle$ we can apply a unitary $U$ such that:\n",
    "\n",
    "<img src=\"images/eq1.png\" alt=\"drawing\" width=\"300\"/>\n",
    "\n",
    "and $M_{|\\beta\\rangle}$ denotes taking the resulting state obtained by tracing over the measurement result.  \n",
    "\n",
    "Here it does not matter whether we apply the gate and then measure, or conditionally apply $U$ to the state given the measurement of the $\\beta$ qubit. In other words, once we have specified a measurement, the probabilistic outcome is unaffected by whether or not it acted as a control, and so we can measure early, reuse the qubit and continue on. \n",
    "\n",
    "* *You can verify this principle holds for density matrices as well.*\n",
    "* *Post-selection of a particular result can be used more generally to post-select pure states.*\n",
    "\n",
    "On real devices, this capability of measuring before the end of the circuit is known as mid-circuit measurement, and the experimental technique of feedforward allows us to condition quantum gates on the measurement outcome. These experimental operations are highly non-trivial, and their practical implementation can vary based on devices, software options, and qubit selection. Here we will focus on the implementation for IQM devices, namely IQM Garnet. \n",
    "\n",
    "#### Access in Braket\n",
    "\n",
    "In Braket, mid-circuit measurements are (as of June 2025) supported as an Experimental feature. We first specify the experimental capability context:\n",
    "\n",
    "`from braket.experimental_capabilities import EnableExperimentalCapability`\n",
    "\n",
    "We can enable this context with a `with` statement, and then use the `Circuit().measure_ff` and `Circuit().cc_prx` gates to specify that our measurement is being used in a dynamic circuit context. *Later in the notebooks we will simplify these operations to `cc_x` and `cc_z`, which effectively combine these operations.*\n"
   ]
  },
  {
   "cell_type": "markdown",
   "id": "887683cf",
   "metadata": {},
   "source": [
    "#### Configuring the Notebook\n",
    "\n",
    "First, let's handle relevant imports and configure the notebook. If you do not want to run these on the actual hardware, don't execute the second cell, and continue until the Local Simulation section. \n",
    "\n"
   ]
  },
  {
   "cell_type": "code",
   "execution_count": 1,
   "id": "69bc2509",
   "metadata": {},
   "outputs": [],
   "source": [
    "from math import pi\n",
    "\n",
    "from braket.circuits import Circuit\n",
    "from braket.experimental_capabilities import EnableExperimentalCapability\n",
    "from braket.tracking import Tracker\n",
    "\n",
    "track = Tracker().start()"
   ]
  },
  {
   "cell_type": "code",
   "execution_count": 3,
   "id": "21b47a0c",
   "metadata": {},
   "outputs": [],
   "source": [
    "use_qpu = True\n",
    "\n",
    "if use_qpu:\n",
    "    import iqm_config\n",
    "    qd = iqm_config.qd\n"
   ]
  },
  {
   "cell_type": "markdown",
   "id": "4171ad54",
   "metadata": {},
   "source": [
    "### Hello Reset!\n",
    "\n",
    "Here we detail a simple active reset protocol. Namely, we prepare some state, measure it, and apply a $X$ rotation conditioned on the measurement outcome. This allows us to realize the following circuit structure:\n",
    "\n",
    "<img src=\"images/active_qubit_reset.png\" alt=\"drawing\" width=\"300\"/>\n",
    "\n",
    "Here we classically condition a $X$ operation on the result of the qubit measurement, which effectively prepares the zero state. \n",
    "\n"
   ]
  },
  {
   "cell_type": "code",
   "execution_count": 4,
   "id": "6cd4b087",
   "metadata": {},
   "outputs": [
    {
     "name": "stdout",
     "output_type": "stream",
     "text": [
      "T  : │        0        │         1         │    2    │           3           │       4       │\n",
      "                        ┌─────────────────┐ ┌───────┐ ┌─────────────────────┐                 \n",
      "q1 : ───StartVerbatim───┤ PRx(1.57, 0.00) ├─┤ MFF→1 ├─┤ 1→CCPRx(3.14, 0.00) ├───EndVerbatim───\n",
      "                        └─────────────────┘ └───────┘ └─────────────────────┘                 \n",
      "T  : │        0        │         1         │    2    │           3           │       4       │\n",
      "Counter({'0': 97, '1': 3})\n"
     ]
    }
   ],
   "source": [
    "with EnableExperimentalCapability():\n",
    "    circuit = Circuit()\n",
    "    circuit.prx(1, pi/2, 0.0)\n",
    "    circuit.measure_ff(1, 1)\n",
    "    circuit.cc_prx(1, pi, .0, 1)\n",
    "    circuit = Circuit().add_verbatim_box(circuit)\n",
    "\n",
    "    print(circuit)\n",
    "\n",
    "    if use_qpu:\n",
    "        res0 = qd.run(circuit, shots=100).result()\n",
    "        print(res0.measurement_counts)"
   ]
  },
  {
   "cell_type": "markdown",
   "id": "a616f673",
   "metadata": {},
   "source": [
    "And we have effectively reset the circuit using a dynamic circuit primitive! "
   ]
  },
  {
   "cell_type": "markdown",
   "id": "c34b1e85",
   "metadata": {},
   "source": [
    "### Multi-Qubit Dynamic Circuits\n",
    "\n",
    "The next step involves multi-qubit feedback, which we demonstrate with a simple bitflip protection circuit. First, we construct a non-zero state as a data qubit, and then use a measured ancilla to reset it. In the device case, we use an ancilla qubit with MCM and a classically conditioned X gate to correct the qubit. \n",
    " "
   ]
  },
  {
   "cell_type": "code",
   "execution_count": 5,
   "id": "d4250717",
   "metadata": {},
   "outputs": [
    {
     "name": "stdout",
     "output_type": "stream",
     "text": [
      "T  : │        0        │         1         │       2        │  3  │         4          │         5          │    6    │         7          │       8       │\n",
      "                        ┌─────────────────┐ ┌──────────────┐       ┌──────────────────┐                                                                     \n",
      "q1 : ───StartVerbatim───┤ PRx(1.57, 1.57) ├─┤ PRx(3.14, 0) ├───●───┤ 0→CCPRx(3.14, 0) ├───────────────────────────────────────────────────────EndVerbatim───\n",
      "              ║         └─────────────────┘ └──────────────┘   │   └──────────────────┘                                                            ║        \n",
      "              ║         ┌─────────────────┐ ┌──────────────┐ ┌─┴─┐  ┌───────────────┐   ┌──────────────────┐ ┌───────┐ ┌──────────────────┐        ║        \n",
      "q2 : ─────────╨─────────┤ PRx(1.57, 1.57) ├─┤ PRx(3.14, 0) ├─┤ Z ├──┤ PRx(-3.14, 0) ├───┤ PRx(-1.57, 1.57) ├─┤ MFF→0 ├─┤ 0→CCPRx(3.14, 0) ├────────╨────────\n",
      "                        └─────────────────┘ └──────────────┘ └───┘  └───────────────┘   └──────────────────┘ └───────┘ └──────────────────┘                 \n",
      "T  : │        0        │         1         │       2        │  3  │         4          │         5          │    6    │         7          │       8       │\n",
      "Shots with reset: \n",
      "Counter({'00': 85, '10': 8, '01': 7})\n"
     ]
    }
   ],
   "source": [
    "qreg = [1,2]\n",
    "\n",
    "with EnableExperimentalCapability():\n",
    "    qc = Circuit()\n",
    "    qc.prx(qreg[0], pi/2,pi/2).prx(qreg[0], pi, 0) # H gate\n",
    "\n",
    "    qc.prx(qreg[1], pi/2,pi/2).prx(qreg[1], pi, 0) # H gate\n",
    "    qc.cz(qreg[0],qreg[1])\n",
    "    qc.prx(qreg[1], -pi, 0).prx(qreg[1], -pi/2,pi/2) # H+ gate\n",
    "    qc.measure_ff(qreg[1],0)\n",
    "    qc.cc_prx(qreg[0], pi, 0, 0)\n",
    "    qc.cc_prx(qreg[1], pi, 0, 0)\n",
    "\n",
    "    qc = Circuit().add_verbatim_box(qc)\n",
    "    print(qc)\n",
    "\n",
    "if use_qpu:\n",
    "    res1 = qd.run(qc, shots=100).result()\n",
    "    print('Shots with reset: ')\n",
    "    print(res1.measurement_counts)\n"
   ]
  },
  {
   "cell_type": "markdown",
   "id": "fcb8c593",
   "metadata": {},
   "source": [
    "We can also probe the result without the active reset:"
   ]
  },
  {
   "cell_type": "code",
   "execution_count": 6,
   "id": "a8705f9b",
   "metadata": {},
   "outputs": [
    {
     "name": "stdout",
     "output_type": "stream",
     "text": [
      "T  : │        0        │         1         │       2        │  3  │         4          │       5        │    6    │       7       │\n",
      "                        ┌─────────────────┐ ┌──────────────┐       ┌──────────────────┐                                            \n",
      "q1 : ───StartVerbatim───┤ PRx(1.57, 1.57) ├─┤ PRx(3.14, 0) ├───●───┤ 0→CCPRx(3.14, 0) ├──────────────────────────────EndVerbatim───\n",
      "              ║         └─────────────────┘ └──────────────┘   │   └──────────────────┘                                   ║        \n",
      "              ║         ┌─────────────────┐ ┌──────────────┐ ┌─┴─┐ ┌─────────────────┐  ┌──────────────┐ ┌───────┐        ║        \n",
      "q2 : ─────────╨─────────┤ PRx(1.57, 1.57) ├─┤ PRx(3.14, 0) ├─┤ Z ├─┤ PRx(1.57, 1.57) ├──┤ PRx(3.14, 0) ├─┤ MFF→0 ├────────╨────────\n",
      "                        └─────────────────┘ └──────────────┘ └───┘ └─────────────────┘  └──────────────┘ └───────┘                 \n",
      "T  : │        0        │         1         │       2        │  3  │         4          │       5        │    6    │       7       │\n",
      "Shots with reset: \n",
      "Counter({'00': 54, '01': 39, '11': 6, '10': 1})\n"
     ]
    }
   ],
   "source": [
    "qreg = [1,2]\n",
    "\n",
    "with EnableExperimentalCapability():\n",
    "    qc = Circuit()\n",
    "    qc.prx(qreg[0], pi/2,pi/2).prx(qreg[0], pi, 0) # H gate\n",
    "    qc.prx(qreg[1], pi/2,pi/2).prx(qreg[1], pi, 0) # H gate\n",
    "    qc.cz(qreg[0],qreg[1])\n",
    "    qc.prx(qreg[1], pi/2,pi/2).prx(qreg[1], pi, 0) # H+ gate\n",
    "    qc.measure_ff(qreg[1],0)\n",
    "    qc.cc_prx(qreg[0], pi, 0, 0)\n",
    "    # qc.cc_prx(qreg[1], pi, 0, 0)\n",
    "\n",
    "    qc = Circuit().add_verbatim_box(qc)\n",
    "    print(qc)\n",
    "\n",
    "if use_qpu:\n",
    "    res2 = qd.run(qc, shots=100).result()\n",
    "    print('Shots with reset: ')\n",
    "    print(res2.measurement_counts)"
   ]
  },
  {
   "cell_type": "markdown",
   "id": "0f54ab9a",
   "metadata": {},
   "source": [
    "And we have successfully applied our first multi-qubit reset operations! "
   ]
  },
  {
   "cell_type": "markdown",
   "id": "8113eaa0",
   "metadata": {},
   "source": [
    "### Local Simulation\n",
    "\n",
    "The measurement and classically controlled feedforward heres allow us to effectively implement an `if` style logic, which for many applications can be aggregated into a single gate, a classical controlled $X$, or `cc_x` gate. \n",
    "\n",
    "Here, we use a form which concatenates the measurement, control, and qubit reset in one gate. We then can use the local Braket backends (`braket_dm`) to carry out these simulations. To simplify notation as well, we will move from the native gates to standard Clifford gates. \n",
    "\n",
    "- *Note, `cc_x` is a custom, user-defined gate, defined in `local_config.py`. Use the `reset` keyword to specify an active reset.*"
   ]
  },
  {
   "cell_type": "code",
   "execution_count": 7,
   "id": "612fb9ec",
   "metadata": {},
   "outputs": [],
   "source": [
    "import local_config\n",
    "\n",
    "qd = local_config.qd"
   ]
  },
  {
   "cell_type": "markdown",
   "id": "8677afdb",
   "metadata": {},
   "source": [
    "Importing `local_config` registers the correct set of gates, and adds the `cc_x` gate. "
   ]
  },
  {
   "cell_type": "code",
   "execution_count": 8,
   "id": "7b42a87d",
   "metadata": {},
   "outputs": [
    {
     "name": "stdout",
     "output_type": "stream",
     "text": [
      "T  : │         0         │           1           │\n",
      "      ┌─────────────────┐ ┌──────────────┐ ┌────┐ \n",
      "q0 : ─┤ PRx(1.57, 1.57) ├─┤ PRx(3.14, 0) ├─┤ KR ├─\n",
      "      └─────────────────┘ └──────────────┘ └────┘ \n",
      "T  : │         0         │           1           │\n",
      "Counter({'0': 100})\n"
     ]
    }
   ],
   "source": [
    "circuit = Circuit()\n",
    "circuit.h(0)\n",
    "circuit.cc_x([0])\n",
    "\n",
    "print(circuit)\n",
    "res3 =  qd.run(circuit, shots=100).result()\n",
    "print(res3.measurement_counts)"
   ]
  },
  {
   "cell_type": "markdown",
   "id": "c3ca46c1",
   "metadata": {},
   "source": [
    "Now, we can implement the same two-qubit experiment as well.  "
   ]
  },
  {
   "cell_type": "code",
   "execution_count": null,
   "id": "cf538ab2",
   "metadata": {},
   "outputs": [],
   "source": [
    "circuit = Circuit()\n",
    "circuit.h(0)\n",
    "circuit.cnot(0,1)\n",
    "circuit.cc_x([1,0], reset=False)\n",
    "print(circuit)\n",
    "res4 =  qd.run(circuit, shots=100, **kw).result()\n",
    "print(res4.measurement_counts)"
   ]
  },
  {
   "cell_type": "markdown",
   "id": "f285709a",
   "metadata": {},
   "source": [
    "And we have demonstrated our classical controlled measurement and feedback for qubit and data reset operations!"
   ]
  },
  {
   "cell_type": "markdown",
   "id": "1599b6aa",
   "metadata": {},
   "source": [
    "#### Predicted Costs\n",
    "\n",
    "The local example can be run at no cost. The QPU costs are given below:"
   ]
  },
  {
   "cell_type": "code",
   "execution_count": 15,
   "id": "2c679914",
   "metadata": {},
   "outputs": [
    {
     "name": "stdout",
     "output_type": "stream",
     "text": [
      "Quantum Task Summary\n",
      "{<_IQM.Garnet: 'arn:aws:braket:eu-north-1::device/qpu/iqm/Garnet'>: {'shots': 300, 'tasks': {'COMPLETED': 3}}}\n",
      "\n",
      "Note: Charges shown are estimates based on your Amazon Braket simulator and quantum processing unit (QPU) task usage.\n",
      "Estimated charges shown may differ from your actual charges. Estimated charges do not factor in any discounts or credits,\n",
      "and you may experience additional charges based on your use of other services such as Amazon Elastic Compute Cloud (Amazon EC2).\n",
      "\n",
      "Estimated cost to run this example: 1.335 USD\n"
     ]
    }
   ],
   "source": [
    "print(\"Quantum Task Summary\")\n",
    "print(track.quantum_tasks_statistics())\n",
    "print(\n",
    "    \"\\nNote: Charges shown are estimates based on your Amazon Braket simulator and quantum processing unit (QPU) task usage.\\nEstimated charges shown may differ from your actual charges. Estimated charges do not factor in any discounts or credits,\\nand you may experience additional charges based on your use of other services such as Amazon Elastic Compute Cloud (Amazon EC2).\",\n",
    ")\n",
    "print(\n",
    "    f\"\\nEstimated cost to run this example: {track.qpu_tasks_cost() + track.simulator_tasks_cost():.3f} USD\",\n",
    ")"
   ]
  },
  {
   "cell_type": "markdown",
   "id": "77fc0f09",
   "metadata": {},
   "source": [
    "\n",
    "### Notes on IQM Devices and Usage in Braket\n",
    "\n",
    "For IQM's Garnet, there are a few notes on dynamic circuit creation for practical use. These are summarized here and further detailed in the [Braket Developer Guide](https://docs.aws.amazon.com/braket/latest/developerguide/braket-experimental-capabilities.html). \n",
    "\n",
    "1. Current systems only allow a surjective mapping from control qubits to target qubits; each channel can listen to only a single qubit source. \n",
    "    - *All feedback qubits should only have one source!*\n",
    "2. The device layout for IQM Garnet has two \"groups\", which limit the measurement and feed forward applications. Make sure your qubits and operations are in these groups. \n",
    "\n",
    "<img src=\"images/iqm_groups.png\" alt=\"drawing\" width=\"200\"/>\n",
    "\n",
    "3. The `measure_ff` gate does not implement active qubit reset, so `cc_x` has an optional reset flag (with default `reset=True`). \n",
    "4. Use of verbatim boxes requires pre-transpilation to IQM-native gates. \n",
    "5. Some Braket `ResultType` instances may not be supported, and so basic measurement instructions are recommended. \n",
    "\n",
    "\n"
   ]
  },
  {
   "cell_type": "markdown",
   "id": "99196590",
   "metadata": {},
   "source": [
    "### Conclusions\n",
    "\n",
    "In this notebook we began our exploration of dynamic circuits using IQM's Garnet with Amazon Braket. Dynamic circuits represent a powerful tool beyond static circuit structures which will be essential for future quantum computing applications, and which we explore in the next notebooks. \n",
    "\n",
    "### References: \n",
    "1. Zhou, Leung, Chuang. *Methodology for quantum logic construction*. (2000) [arXiv:0002039](https://arxiv.org/pdf/quant-ph/0002039).\n",
    "2. Corcoles, Takia, Inoue et al. *Exploiting dynamic quantum circuits in a quantum algorithm with superconducting qubits*. (2021) [Phys. Rev. Lett. 127, 100501,](https://journals.aps.org/prl/abstract/10.1103/PhysRevLett.127.100501) [arXiv](https://arxiv.org/pdf/2102.01682)\n",
    "3. Explore Experimental Capabilities. *Amazon Braket Developer Guide* (June 2025) https://docs.aws.amazon.com/braket/latest/developerguide/braket-experimental-capabilities.html \n"
   ]
  }
 ],
 "metadata": {
  "kernelspec": {
   "display_name": ".venv",
   "language": "python",
   "name": "python3"
  },
  "language_info": {
   "codemirror_mode": {
    "name": "ipython",
    "version": 3
   },
   "file_extension": ".py",
   "mimetype": "text/x-python",
   "name": "python",
   "nbconvert_exporter": "python",
   "pygments_lexer": "ipython3",
   "version": "3.10.17"
  }
 },
 "nbformat": 4,
 "nbformat_minor": 5
}
