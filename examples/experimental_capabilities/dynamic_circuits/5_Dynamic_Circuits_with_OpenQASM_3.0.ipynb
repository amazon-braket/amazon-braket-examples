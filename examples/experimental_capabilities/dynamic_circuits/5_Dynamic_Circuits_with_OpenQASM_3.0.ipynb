{
 "cells": [
  {
   "cell_type": "markdown",
   "id": "001013f4",
   "metadata": {},
   "source": [
    "## Dynamic Circuits with OpenQASM 3.0 with Amazon Braket\n",
    "\n",
    "In this notebook, we show how to utilize dynamic circuit tools for IQM Garnet with Braket using OpenQASM 3.0. \n",
    "\n",
    "OpenQASM is an intermediate representation for quantum instructions, used extensively in quantum programming. [One goal](https://arxiv.org/abs/2104.14722) of OpenQASM 3.0 specifically was to support emerging usecases requiring \"real-time\" classical feedback, which encompasses dynamic circuit constructions. \n",
    "\n",
    "### Notebook Setup\n",
    "\n",
    "Here, we will only use the device configuration in `iqm_config`, as the simulator instructions produce different OpenQASM files. We utilize a `run_qpu` flag for device execution. Notice the additional IR and serialization imports from Braket.  "
   ]
  },
  {
   "cell_type": "code",
   "execution_count": null,
   "id": "08cd8127",
   "metadata": {},
   "outputs": [],
   "source": [
    "from math import pi\n",
    "\n",
    "import iqm_config\n",
    "\n",
    "from braket.circuits import Circuit\n",
    "from braket.circuits.serialization import (\n",
    "    IRType,\n",
    "    OpenQASMSerializationProperties,\n",
    "    QubitReferenceType,\n",
    ")\n",
    "from braket.experimental_capabilities import EnableExperimentalCapability\n",
    "from braket.ir.openqasm import Program\n",
    "from braket.tracking import Tracker\n",
    "\n",
    "run_qpu = True\n",
    "\n",
    "qd = iqm_config.qd\n",
    "kw = {\"tags\":iqm_config.tags}\n",
    "\n",
    "track = Tracker().start()"
   ]
  },
  {
   "cell_type": "markdown",
   "id": "8d584256",
   "metadata": {},
   "source": [
    "The following block shows the basic syntax in OpenQASM 3.0 for the `measure_ff` and `cc_prx` instructions included in the `braket.experimental_capabilities`. \n",
    "~~~\n",
    "// mcm_ff.qasm\n",
    "// perform mid circuit measurement and active qubit reset on a single qubit\n",
    "OPENQASM 3;\n",
    "bit[1] c;\n",
    "#pragma braket verbatim\n",
    "box{\n",
    "    prx(3.14, 0) $1;\n",
    "    measure_ff(0) $1;\n",
    "    cc_prx(3.14, 0, 0) $1;\n",
    "    }\n",
    "c[0] = measure $1;\n",
    "~~~\n",
    "Below, we load the local qasm file, view it, and then submit it on the device. "
   ]
  },
  {
   "cell_type": "code",
   "execution_count": 7,
   "id": "7b96c0b6",
   "metadata": {},
   "outputs": [
    {
     "name": "stdout",
     "output_type": "stream",
     "text": [
      "// mcm_ff.qasm\n",
      "// perform mid circuit measurement and active qubit reset \n",
      "OPENQASM 3;\n",
      "bit[1] c;\n",
      "#pragma braket verbatim\n",
      "box{\n",
      "    prx(3.14, 0) $1;\n",
      "    measure_ff(0) $1;\n",
      "    cc_prx(3.14, 0, 0) $1;\n",
      "    }\n",
      "c[0] = measure $1;\n",
      "\n",
      "Measurement counts: Counter({'0': 95, '1': 5})\n"
     ]
    }
   ],
   "source": [
    "with open(\"mcm_ff.qasm\", \"r\") as fp:\n",
    "    qasm = fp.read()\n",
    "\n",
    "with EnableExperimentalCapability():\n",
    "    qasm_prog = Program(source=qasm)\n",
    "    print(qasm)\n",
    "\n",
    "    if run_qpu:\n",
    "        result = qd.run(qasm_prog, shots=100, **kw).result()\n",
    "        print(f\"Measurement counts: {result.measurement_counts}\")"
   ]
  },
  {
   "cell_type": "markdown",
   "id": "5be5c019",
   "metadata": {},
   "source": [
    "Another way of generating the QASM file is directly from a Braket `Circuit`."
   ]
  },
  {
   "cell_type": "code",
   "execution_count": 5,
   "id": "e8aeda5b",
   "metadata": {},
   "outputs": [
    {
     "name": "stdout",
     "output_type": "stream",
     "text": [
      "T  : │       0        │    1    │         2          │\n",
      "      ┌──────────────┐ ┌───────┐ ┌──────────────────┐ \n",
      "q0 : ─┤ PRx(3.14, 0) ├─┤ MFF→0 ├─┤ 0→CCPRx(3.14, 0) ├─\n",
      "      └──────────────┘ └───────┘ └──────────────────┘ \n",
      "T  : │       0        │    1    │         2          │\n"
     ]
    }
   ],
   "source": [
    "with EnableExperimentalCapability():\n",
    "    circ = Circuit()\n",
    "    circ.prx(0,pi,0)\n",
    "    circ.measure_ff(0,0)\n",
    "    circ.cc_prx(0, pi, 0, 0)\n",
    "\n",
    "print(circ)"
   ]
  },
  {
   "cell_type": "code",
   "execution_count": 6,
   "id": "05900159",
   "metadata": {},
   "outputs": [
    {
     "name": "stdout",
     "output_type": "stream",
     "text": [
      "OPENQASM 3.0;\n",
      "bit[1] b;\n",
      "#pragma braket verbatim\n",
      "box{\n",
      "prx(3.141592653589793, 0.0) $0;\n",
      "measure_ff(0) $0;\n",
      "cc_prx(3.141592653589793, 0.0, 0) $0;\n",
      "}\n",
      "b[0] = measure $0;\n"
     ]
    }
   ],
   "source": [
    "circ = Circuit().add_verbatim_box(circ)\n",
    "qasm = circ.to_ir(IRType.OPENQASM, OpenQASMSerializationProperties(QubitReferenceType.PHYSICAL), {}).source\n",
    "print(qasm)"
   ]
  },
  {
   "cell_type": "markdown",
   "id": "1d59ac56",
   "metadata": {},
   "source": [
    "#### Cost Tracking\n",
    "\n",
    "The total cost of running these examples is given below:"
   ]
  },
  {
   "cell_type": "code",
   "execution_count": 4,
   "id": "c01e388e",
   "metadata": {},
   "outputs": [
    {
     "name": "stdout",
     "output_type": "stream",
     "text": [
      "Quantum Task Summary\n",
      "{}\n",
      "Note: Charges shown are estimates based on your Amazon Braket simulator and quantum processing unit (QPU) task usage. Estimated charges shown may differ from your actual charges. Estimated charges do not factor in any discounts or credits, and you may experience additional charges based on your use of other services such as Amazon Elastic Compute Cloud (Amazon EC2).\n",
      "Estimated cost to run this example: 0.000 USD\n"
     ]
    }
   ],
   "source": [
    "print(\"Quantum Task Summary\")\n",
    "print(track.quantum_tasks_statistics())\n",
    "print(\n",
    "    \"Note: Charges shown are estimates based on your Amazon Braket simulator and quantum processing unit (QPU) task usage. Estimated charges shown may differ from your actual charges. Estimated charges do not factor in any discounts or credits, and you may experience additional charges based on your use of other services such as Amazon Elastic Compute Cloud (Amazon EC2).\",\n",
    ")\n",
    "print(\n",
    "    f\"Estimated cost to run this example: {track.qpu_tasks_cost() + track.simulator_tasks_cost():.3f} USD\",\n",
    ")"
   ]
  },
  {
   "cell_type": "markdown",
   "id": "331c15b1",
   "metadata": {},
   "source": [
    "### References\n",
    "\n",
    "- OpenQASM live specification. (June 2025). https://openqasm.com/ \n",
    "- Cross, Javadi-Abhari, Alexander et al. *OpenQASM 3: A broader and adeeper quantum assembly language*. (2022) [arXiv:2014.14722](https://arxiv.org/abs/2104.14722)\n",
    "- Run your Circuits with OpenQASM 3.0. Amazon Braket Devleoper Guide (June 2025). https://docs.aws.amazon.com/braket/latest/developerguide/braket-openqasm.html. "
   ]
  }
 ],
 "metadata": {
  "kernelspec": {
   "display_name": ".venv",
   "language": "python",
   "name": "python3"
  },
  "language_info": {
   "codemirror_mode": {
    "name": "ipython",
    "version": 3
   },
   "file_extension": ".py",
   "mimetype": "text/x-python",
   "name": "python",
   "nbconvert_exporter": "python",
   "pygments_lexer": "ipython3",
   "version": "3.10.17"
  }
 },
 "nbformat": 4,
 "nbformat_minor": 5
}
