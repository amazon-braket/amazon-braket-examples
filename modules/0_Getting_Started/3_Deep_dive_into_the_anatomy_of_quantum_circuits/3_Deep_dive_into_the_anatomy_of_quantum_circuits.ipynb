{
 "cells": [
  {
   "cell_type": "markdown",
   "metadata": {},
   "source": [
    "# Anatomy of Quantum Circuits and Quantum Tasks in Amazon Braket"
   ]
  },
  {
   "cell_type": "code",
   "execution_count": 1,
   "metadata": {},
   "outputs": [],
   "source": [
    "# Use Braket SDK Cost Tracking to estimate the cost to run this example\n",
    "from braket.tracking import Tracker\n",
    "t = Tracker().start()"
   ]
  },
  {
   "cell_type": "markdown",
   "metadata": {},
   "source": [
    "In this tutorial we discuss in detail the anatomy of quantum circuits in Amazon Braket's SDK. Specifically, we learn how to build (parametrized) circuits and display them graphically, how to append circuits to each other, and discuss the associated circuit depth and circuit size. Finally we show how to execute our circuit on a device of our choice (defining a quantum task). We then learn how to efficiently track, log, recover or cancel such a _quantum task_. "
   ]
  },
  {
   "cell_type": "markdown",
   "metadata": {},
   "source": [
    "## IMPORT STATEMENTS"
   ]
  },
  {
   "cell_type": "markdown",
   "metadata": {},
   "source": [
    "First we import some modules we will need."
   ]
  },
  {
   "cell_type": "code",
   "execution_count": 2,
   "metadata": {},
   "outputs": [],
   "source": [
    "# general imports\n",
    "import asyncio\n",
    "import numpy as np\n",
    "import matplotlib.pyplot as plt\n",
    "# magic word for producing visualizations in notebook\n",
    "%matplotlib inline\n",
    "import string\n",
    "from datetime import datetime\n",
    "import logging\n",
    "\n",
    "# AWS imports: Import Braket SDK modules\n",
    "from braket.circuits import Circuit, Gate, Instruction, circuit, Observable, FreeParameter\n",
    "from braket.circuits.serialization import IRType\n",
    "from braket.aws import AwsDevice, AwsQuantumTask\n",
    "from braket.devices import LocalSimulator"
   ]
  },
  {
   "cell_type": "markdown",
   "metadata": {},
   "source": [
    "## CIRCUIT DEFINITION"
   ]
  },
  {
   "cell_type": "markdown",
   "metadata": {},
   "source": [
    "Let us get started a sample circuit for four qubits (labelled q0, q1, q2 and q3) consisting of standard single-qubit ```Hadamard``` gates and two-qubit ```CNOT``` gates; for a full list of available gates see below. We can then visualize our circuit by simply calling the ```print``` function. "
   ]
  },
  {
   "cell_type": "code",
   "execution_count": 3,
   "metadata": {},
   "outputs": [
    {
     "name": "stdout",
     "output_type": "stream",
     "text": [
      "T  : |0| 1 |\n",
      "            \n",
      "q0 : -H-C---\n",
      "        |   \n",
      "q1 : -H-|-C-\n",
      "        | | \n",
      "q2 : -H-X-|-\n",
      "          | \n",
      "q3 : -H---X-\n",
      "\n",
      "T  : |0| 1 |\n"
     ]
    }
   ],
   "source": [
    "# define circuit with 4 qubits\n",
    "my_circuit = Circuit().h(range(4)).cnot(control=0, target=2).cnot(control=1, target=3)\n",
    "print(my_circuit)"
   ]
  },
  {
   "cell_type": "markdown",
   "metadata": {},
   "source": [
    "Here, time is sliced up into moments. The circuit above consists of just two moments. First, we apply a ```Hadamard``` gate to every qubit in moment 0 and then we apply two ```CNOT``` gates. Since the latter can be run in parallel as they involve different sets of qubits, they only use up one moment of time. For better readability they are displayed next to each other with some small offset. "
   ]
  },
  {
   "cell_type": "code",
   "execution_count": 4,
   "metadata": {},
   "outputs": [
    {
     "name": "stdout",
     "output_type": "stream",
     "text": [
      "MomentsKey(time=0, qubits=QubitSet([Qubit(0)]), moment_type=<MomentType.GATE: 'gate'>, noise_index=0)\n",
      "MomentsKey(time=0, qubits=QubitSet([Qubit(1)]), moment_type=<MomentType.GATE: 'gate'>, noise_index=0)\n",
      "MomentsKey(time=0, qubits=QubitSet([Qubit(2)]), moment_type=<MomentType.GATE: 'gate'>, noise_index=0)\n",
      "MomentsKey(time=0, qubits=QubitSet([Qubit(3)]), moment_type=<MomentType.GATE: 'gate'>, noise_index=0)\n",
      "MomentsKey(time=1, qubits=QubitSet([Qubit(0), Qubit(2)]), moment_type=<MomentType.GATE: 'gate'>, noise_index=0)\n",
      "MomentsKey(time=1, qubits=QubitSet([Qubit(1), Qubit(3)]), moment_type=<MomentType.GATE: 'gate'>, noise_index=0)\n"
     ]
    }
   ],
   "source": [
    "# show moments of our quantum circuit\n",
    "my_moments = my_circuit.moments\n",
    "for moment in my_moments:\n",
    "    print(moment)"
   ]
  },
  {
   "cell_type": "code",
   "execution_count": 5,
   "metadata": {},
   "outputs": [
    {
     "name": "stdout",
     "output_type": "stream",
     "text": [
      "Instruction('operator': H('qubit_count': 1), 'target': QubitSet([Qubit(0)]))\n",
      "Instruction('operator': H('qubit_count': 1), 'target': QubitSet([Qubit(1)]))\n",
      "Instruction('operator': H('qubit_count': 1), 'target': QubitSet([Qubit(2)]))\n",
      "Instruction('operator': H('qubit_count': 1), 'target': QubitSet([Qubit(3)]))\n",
      "Instruction('operator': CNot('qubit_count': 2), 'target': QubitSet([Qubit(0), Qubit(2)]))\n",
      "Instruction('operator': CNot('qubit_count': 2), 'target': QubitSet([Qubit(1), Qubit(3)]))\n"
     ]
    }
   ],
   "source": [
    "# list all instructions/gates making up our circuit\n",
    "my_instructions = my_circuit.instructions\n",
    "for instruction in my_instructions:\n",
    "    print(instruction)"
   ]
  },
  {
   "cell_type": "markdown",
   "metadata": {},
   "source": [
    "Next, let us build a parametrized circuit where we have to supply numerical parameter values to fully define the circuit, as is the case for example for single-qubit rotations (as described [here](https://github.com/aws/amazon-braket-sdk-python/blob/main/src/braket/circuits/gates.py#L578)) and the two-qubit ```cnot``` as described in the source code [here](https://github.com/aws/amazon-braket-sdk-python/blob/main/src/braket/circuits/gates.py#L701). The specific parameter values are shown in circuit diagram. "
   ]
  },
  {
   "cell_type": "code",
   "execution_count": 6,
   "metadata": {},
   "outputs": [
    {
     "name": "stdout",
     "output_type": "stream",
     "text": [
      "T  : |   0    | 1 |2|\n",
      "                     \n",
      "q0 : -Rx(0.15)-C-----\n",
      "               |     \n",
      "q1 : -Ry(0.20)-|-C-X-\n",
      "               | |   \n",
      "q2 : -Rz(0.25)-X-|---\n",
      "                 |   \n",
      "q3 : -H----------X-X-\n",
      "\n",
      "T  : |   0    | 1 |2|\n"
     ]
    }
   ],
   "source": [
    "# define circuit with some parametrized gates \n",
    "my_circuit = Circuit().rx(0, 0.15).ry(1, 0.2).rz(2, 0.25).h(3).cnot(control=0, target=2).cnot(1, 3).x([1,3])\n",
    "print(my_circuit)"
   ]
  },
  {
   "cell_type": "markdown",
   "metadata": {},
   "source": [
    "We can also create a `Circuit` with gates which depend on a `FreeParameter`, the value of which can be set later, either by fixing it in the circuit itself, or when the circuit is run on a device."
   ]
  },
  {
   "cell_type": "code",
   "execution_count": 7,
   "metadata": {},
   "outputs": [
    {
     "name": "stdout",
     "output_type": "stream",
     "text": [
      "T  : |    0    | 1 |2|\n",
      "                      \n",
      "q0 : -Rx(alpha)-C-----\n",
      "                |     \n",
      "q1 : -Ry(beta)--|-C-X-\n",
      "                | |   \n",
      "q2 : -Rz(gamma)-X-|---\n",
      "                  |   \n",
      "q3 : -H-----------X-X-\n",
      "\n",
      "T  : |    0    | 1 |2|\n",
      "\n",
      "Unassigned parameters: [alpha, beta, gamma].\n"
     ]
    }
   ],
   "source": [
    "# define circuit with some parametrized gates and free parameters\n",
    "alpha = FreeParameter('alpha')\n",
    "beta  = FreeParameter('beta')\n",
    "gamma = FreeParameter('gamma')\n",
    "my_circuit = Circuit().rx(0, alpha).ry(1, beta).rz(2, gamma).h(3).cnot(control=0, target=2).cnot(1, 3).x([1,3])\n",
    "print(my_circuit)"
   ]
  },
  {
   "cell_type": "markdown",
   "metadata": {},
   "source": [
    "__GATE SET__: Below we list all gates currently available in our SDK. Moreover, we can build custom gates as shown below for a general single-qubit rotation. "
   ]
  },
  {
   "cell_type": "code",
   "execution_count": 8,
   "metadata": {},
   "outputs": [
    {
     "name": "stdout",
     "output_type": "stream",
     "text": [
      "['CCNot', 'CNot', 'CPhaseShift', 'CPhaseShift00', 'CPhaseShift01', 'CPhaseShift10', 'CSwap', 'CV', 'CY', 'CZ', 'ECR', 'GPi', 'GPi2', 'H', 'I', 'ISwap', 'MS', 'PSwap', 'PhaseShift', 'PulseGate', 'Rx', 'Ry', 'Rz', 'S', 'Si', 'Swap', 'T', 'Ti', 'Unitary', 'V', 'Vi', 'X', 'XX', 'XY', 'Y', 'YY', 'Z', 'ZZ']\n"
     ]
    }
   ],
   "source": [
    "# print all available gates currently available within SDK\n",
    "gate_set = [attr for attr in dir(Gate) if attr[0] in string.ascii_uppercase]\n",
    "print(gate_set)"
   ]
  },
  {
   "cell_type": "code",
   "execution_count": 9,
   "metadata": {},
   "outputs": [],
   "source": [
    "# helper function to build custom gate \n",
    "def u3(alpha, theta, phi):\n",
    "    \"\"\"\n",
    "    function to return matrix for general single qubit rotation\n",
    "    rotation is given by exp(-i sigma*n/2*alpha) where alpha is rotation angle\n",
    "    and n defines rotation axis as n=(sin(theta)cos(phi), sin(theta)sin(phi), cos(theta))\n",
    "    sigma is vector of Pauli matrices\n",
    "    \"\"\"\n",
    "    u11 = np.cos(alpha/2)-1j*np.sin(alpha/2)*np.cos(theta)\n",
    "    u12 = -1j*(np.exp(-1j*phi))*np.sin(theta)*np.sin(alpha/2)\n",
    "    u21 = -1j*(np.exp(1j*phi))*np.sin(theta)*np.sin(alpha/2)\n",
    "    u22 = np.cos(alpha/2)+1j*np.sin(alpha/2)*np.cos(theta)\n",
    "    \n",
    "    return np.array([[u11, u12], [u21, u22]])"
   ]
  },
  {
   "cell_type": "code",
   "execution_count": 10,
   "metadata": {},
   "outputs": [
    {
     "name": "stdout",
     "output_type": "stream",
     "text": [
      "T  : |0|1|\n",
      "          \n",
      "q0 : -U-C-\n",
      "        | \n",
      "q1 : -H-X-\n",
      "\n",
      "T  : |0|1|\n"
     ]
    }
   ],
   "source": [
    "# define and print custom unitary\n",
    "my_u3 = u3(np.pi/2, 0, 0)\n",
    "# print(my_u3)\n",
    "# define example circuit applying custom U to the first qubit\n",
    "circ = Circuit().unitary(matrix=my_u3, targets=[0]).h(1).cnot(control=0, target=1)\n",
    "print(circ)"
   ]
  },
  {
   "cell_type": "markdown",
   "metadata": {},
   "source": [
    "Here, in the circuit diagram our custom unitary is depicted with the general symbol ```U```. \n",
    "In addition, we can use Braket's `circuit.subroutine` functionality, which allows us to use custom-built gates as any other built-in gates.  "
   ]
  },
  {
   "cell_type": "code",
   "execution_count": 11,
   "metadata": {},
   "outputs": [],
   "source": [
    "# helper function to build custom gate\n",
    "@circuit.subroutine(register=True)\n",
    "def u3(target, angles):\n",
    "    \"\"\"\n",
    "    Function to return the matrix for a general single qubit rotation,\n",
    "    given by exp(-i sigma*n/2*alpha), where alpha is the rotation angle,\n",
    "    n defines the rotation axis via n=(sin(theta)cos(phi), sin(theta)sin(phi), cos(theta)),\n",
    "    and sigma is the vector of Pauli matrices\n",
    "    \"\"\"\n",
    "    \n",
    "    # get angles\n",
    "    alpha = angles[0]\n",
    "    theta = angles[1]\n",
    "    phi = angles[2]\n",
    "    \n",
    "    # set 2x2 matrix entries\n",
    "    u11 = np.cos(alpha/2)-1j*np.sin(alpha/2)*np.cos(theta)\n",
    "    u12 = -1j*(np.exp(-1j*phi))*np.sin(theta)*np.sin(alpha/2)\n",
    "    u21 = -1j*(np.exp(1j*phi))*np.sin(theta)*np.sin(alpha/2)\n",
    "    u22 = np.cos(alpha/2)+1j*np.sin(alpha/2)*np.cos(theta)\n",
    "    \n",
    "    # define unitary as numpy matrix\n",
    "    u = np.array([[u11, u12], [u21, u22]])\n",
    "    # print('Unitary:', u)\n",
    "    \n",
    "    # define custom Braket gate\n",
    "    circ = Circuit()\n",
    "    circ.unitary(matrix=u, targets=target)\n",
    "    \n",
    "    return circ"
   ]
  },
  {
   "cell_type": "code",
   "execution_count": 12,
   "metadata": {},
   "outputs": [
    {
     "name": "stdout",
     "output_type": "stream",
     "text": [
      "T  : |0|1|\n",
      "          \n",
      "q0 : -U-C-\n",
      "        | \n",
      "q1 : ---X-\n",
      "\n",
      "T  : |0|1|\n"
     ]
    }
   ],
   "source": [
    "# define example circuit applying custom single-qubit gate U to the first qubit\n",
    "angles = [np.pi/2, np.pi/2, np.pi/2]\n",
    "angles = [np.pi/4, 0, 0]\n",
    "\n",
    "# build circuit using custom u3 gate\n",
    "circ2 = Circuit().u3([0], angles).cnot(control=0, target=1)\n",
    "print(circ2)"
   ]
  },
  {
   "cell_type": "markdown",
   "metadata": {},
   "source": [
    "## CIRCUIT DEPTH AND CIRCUIT SIZE"
   ]
  },
  {
   "cell_type": "markdown",
   "metadata": {},
   "source": [
    "We can get the circuit depth (the number of moments defining our circuit) with ```circuit.depth``` as shown below. "
   ]
  },
  {
   "cell_type": "code",
   "execution_count": 13,
   "metadata": {},
   "outputs": [
    {
     "name": "stdout",
     "output_type": "stream",
     "text": [
      "T  : |   0    | 1 |2|\n",
      "                     \n",
      "q0 : -Rx(0.15)-C---X-\n",
      "               |     \n",
      "q1 : -Ry(0.20)-|-C---\n",
      "               | |   \n",
      "q2 : -Rz(0.25)-X-|---\n",
      "                 |   \n",
      "q3 : -H----------X---\n",
      "\n",
      "T  : |   0    | 1 |2|\n",
      "\n",
      "Total circuit depth: 3\n"
     ]
    }
   ],
   "source": [
    "# define circuit with parametrized gates \n",
    "my_circuit = Circuit().rx(0, 0.15).ry(1, 0.2).rz(2, 0.25).h(3).cnot(control=0, target=2).cnot(1, 3).x(0)\n",
    "circuit_depth = my_circuit.depth\n",
    "print(my_circuit)\n",
    "print()\n",
    "print('Total circuit depth:', circuit_depth)"
   ]
  },
  {
   "cell_type": "markdown",
   "metadata": {},
   "source": [
    "The total circuit depth of the circuit above is three (moments 0, 1, 2). It is three because we have added a single qubit ```X``` gate applied to qubit 0 in the final layer. However, note that gates are applied as early as possible in time, provided that this is not in conflict with any other gate that has to be applied before. See below an example where we add one qubit to which we only apply one single qubit ```X``` gate. This circuit is shallower as its circuit depth is only two. The ```X``` gate is applied to qubit 4 as early as possible even though we have applied the corresponding command at the end of our circuit definition. "
   ]
  },
  {
   "cell_type": "code",
   "execution_count": 14,
   "metadata": {},
   "outputs": [
    {
     "name": "stdout",
     "output_type": "stream",
     "text": [
      "T  : |   0    | 1 |\n",
      "                   \n",
      "q0 : -Rx(0.15)-C---\n",
      "               |   \n",
      "q1 : -Ry(0.20)-|-C-\n",
      "               | | \n",
      "q2 : -Rz(0.25)-X-|-\n",
      "                 | \n",
      "q3 : -H----------X-\n",
      "                   \n",
      "q4 : -X------------\n",
      "\n",
      "T  : |   0    | 1 |\n",
      "\n",
      "Total circuit depth: 2\n",
      "Number of qubits: 5\n",
      "Circuit size: 10\n"
     ]
    }
   ],
   "source": [
    "# define circuit with parameterized gates \n",
    "my_circuit = Circuit().rx(0, 0.15).ry(1, 0.2).rz(2, 0.25).h(3).cnot(control=0, target=2).cnot(1, 3).x(4)\n",
    "# get circuit depth\n",
    "circuit_depth = my_circuit.depth\n",
    "# get qubit number\n",
    "qubit_count = my_circuit.qubit_count\n",
    "# get approx. estimate of circuit size\n",
    "circuit_size = circuit_depth*qubit_count\n",
    "# print circuit\n",
    "print(my_circuit)\n",
    "print()\n",
    "# print characteristics of our circuit\n",
    "print('Total circuit depth:', circuit_depth)\n",
    "print('Number of qubits:', qubit_count)\n",
    "print('Circuit size:', circuit_size)"
   ]
  },
  {
   "cell_type": "markdown",
   "metadata": {},
   "source": [
    "In the example above we have also introduced the concept of __circuit size__. Intuitively, the circuit size is a metric that reflects the complexity of our circuit. The circuit size accounts for both quantity (the number of qubits) and quality (as captured by the depth of the circuit); here we have used a very simple definition multiplying the qubit number with the circuit depth (that is the area of our diagram). In practice, in the absence of quantum error correction, on real quantum machines the depth is limited by noise so we can only faithfully run circuits whose depth is within the quality bounds of our machine. Simply speaking, this means: The larger the circuit size, the harder it is to simulate on a classical device and the more powerful the quantum machine is that is able to faithfully execute this circuit. "
   ]
  },
  {
   "cell_type": "markdown",
   "metadata": {},
   "source": [
    "## APPENDING CIRCUITS"
   ]
  },
  {
   "cell_type": "markdown",
   "metadata": {},
   "source": [
    "We can extend existing circuits by adding instructions or just appending circuits to each other, as shown below. In the most simple and straightforward fashion we can just append gates to existing circuits (for example, ```my_circuit.y(4)```). "
   ]
  },
  {
   "cell_type": "code",
   "execution_count": 15,
   "metadata": {},
   "outputs": [
    {
     "name": "stdout",
     "output_type": "stream",
     "text": [
      "T  : |   0    | 1 |\n",
      "                   \n",
      "q0 : -Rx(0.15)-C---\n",
      "               |   \n",
      "q1 : -Ry(0.20)-|-C-\n",
      "               | | \n",
      "q2 : -Rz(0.25)-X-|-\n",
      "                 | \n",
      "q3 : -H----------X-\n",
      "                   \n",
      "q4 : -X--------Y---\n",
      "\n",
      "T  : |   0    | 1 |\n",
      "\n",
      "Total circuit depth: 2\n",
      "Number of qubits: 5\n",
      "Circuit size: 10\n"
     ]
    }
   ],
   "source": [
    "# simple circuit extension by appending gates (here Y on qubit 4)\n",
    "my_circuit = my_circuit.y(4)\n",
    "# get circuit depth\n",
    "circuit_depth = my_circuit.depth\n",
    "# get qubit number\n",
    "qubit_count = my_circuit.qubit_count\n",
    "# get circuit size\n",
    "circuit_size = circuit_depth*qubit_count\n",
    "# print circuit\n",
    "print(my_circuit)\n",
    "print()\n",
    "print('Total circuit depth:', circuit_depth)\n",
    "print('Number of qubits:', qubit_count)\n",
    "print('Circuit size:', circuit_size)"
   ]
  },
  {
   "cell_type": "markdown",
   "metadata": {},
   "source": [
    "Alternatively, we can define a gate as an ```Instruction``` and use the ```add_instruction(...)``` method to add this gate to an existing circuit object."
   ]
  },
  {
   "cell_type": "code",
   "execution_count": 16,
   "metadata": {},
   "outputs": [
    {
     "name": "stdout",
     "output_type": "stream",
     "text": [
      "T  : |   0    | 1 |2|\n",
      "                     \n",
      "q0 : -Rx(0.15)-C---C-\n",
      "               |   | \n",
      "q1 : -Ry(0.20)-|-C-X-\n",
      "               | |   \n",
      "q2 : -Rz(0.25)-X-|---\n",
      "                 |   \n",
      "q3 : -H----------X---\n",
      "                     \n",
      "q4 : -X--------Y-----\n",
      "\n",
      "T  : |   0    | 1 |2|\n",
      "\n",
      "Total circuit depth: 3\n",
      "Number of qubits: 5\n",
      "Circuit size: 15\n"
     ]
    }
   ],
   "source": [
    "# add instruction to circuit\n",
    "gate_instr = Instruction(Gate.CNot(), [0, 1])\n",
    "my_circuit = my_circuit.add_instruction(gate_instr)\n",
    "# get circuit depth\n",
    "circuit_depth = my_circuit.depth\n",
    "# get qubit number\n",
    "qubit_count = my_circuit.qubit_count\n",
    "# get circuit size\n",
    "circuit_size = circuit_depth*qubit_count\n",
    "# print circuit\n",
    "print(my_circuit)\n",
    "print()\n",
    "print('Total circuit depth:', circuit_depth)\n",
    "print('Number of qubits:', qubit_count)\n",
    "print('Circuit size:', circuit_size)"
   ]
  },
  {
   "cell_type": "markdown",
   "metadata": {},
   "source": [
    "We can append entire circuits to each other with ```add_circuit()```. "
   ]
  },
  {
   "cell_type": "code",
   "execution_count": 17,
   "metadata": {},
   "outputs": [
    {
     "name": "stdout",
     "output_type": "stream",
     "text": [
      "T  : |   0    | 1 |   2    |   3    |\n",
      "                                     \n",
      "q0 : -Rx(0.15)-C---C--------Rz(0.10)-\n",
      "               |   |                 \n",
      "q1 : -Ry(0.20)-|-C-X--------Rz(0.20)-\n",
      "               | |                   \n",
      "q2 : -Rz(0.25)-X-|-------------------\n",
      "                 |                   \n",
      "q3 : -H----------X-Rz(0.30)----------\n",
      "                                     \n",
      "q4 : -X--------Y---Rz(0.40)----------\n",
      "\n",
      "T  : |   0    | 1 |   2    |   3    |\n",
      "\n",
      "Total circuit depth: 4\n",
      "Number of qubits: 5\n",
      "Circuit size: 20\n"
     ]
    }
   ],
   "source": [
    "# append two circuits with add_circuit() functionality\n",
    "my_circuit2 = Circuit().rz(0, 0.1).rz(1, 0.2).rz(3, 0.3).rz(4, 0.4)\n",
    "my_circuit.add_circuit(my_circuit2)\n",
    "\n",
    "# get circuit depth\n",
    "circuit_depth = my_circuit.depth\n",
    "# get qubit number\n",
    "qubit_count = my_circuit.qubit_count\n",
    "# get circuit size\n",
    "circuit_size = circuit_depth*qubit_count\n",
    "# print circuit\n",
    "print(my_circuit)\n",
    "print()\n",
    "# print characteristics of our circuit\n",
    "print('Total circuit depth:', circuit_depth)\n",
    "print('Number of qubits:', qubit_count)\n",
    "print('Circuit size:', circuit_size)"
   ]
  },
  {
   "cell_type": "markdown",
   "metadata": {},
   "source": [
    "Again, note that the single qubit rotations we have appended to our circuit are applied as early as possible. This helps keeping the circuit as short as possible, as required in the presence of decoherence.  "
   ]
  },
  {
   "cell_type": "markdown",
   "metadata": {},
   "source": [
    "## CIRCUIT EXECUTION AND TASK TRACKING"
   ]
  },
  {
   "cell_type": "markdown",
   "metadata": {},
   "source": [
    "Finally, let us run our circuit on a device of our choice. We do so by defining a classical ```device``` object below and calling the method ```device.run(my_circuit)```. Additional _task creation_ arguments can be provided to the ```run()``` method of the device object; in particular the optional “shots” argument refers to the number of desired measurement shots (default = 1000).\n",
    "\n",
    "The command ```device.run(...)``` defines a task (with a unique task ID), the status of which can be queried and tracked with ```task.state()``` as shown below. Once the task completes (which may take some time, specifically for the QPU devices, depending on the length of the queue), one can retrieve the results from the S3 bucket as specified below; you can check for \"Task Status” under Tasks within your Braket console. Note that ```task = device.run()``` is an _asynchronous_ operation. This means you can keep working while the system in the background polls for the results. You can always check the task status with ```task.state()```. When you call ```task.result()```, this becomes a blocking call that will throw an error if within the timeout period you will not get a result. We show below how to set this timeout period. \n",
    "\n",
    "By calling ```result()``` on a task, you get the quantum task result by polling Amazon Braket to see if the task is completed. Once the task is completed, the result is retrieved from S3 and returned as a ```QuantumTaskResult```. As opposed to ```async_result()```, this method is a blocking thread call and synchronously returns a result."
   ]
  },
  {
   "cell_type": "code",
   "execution_count": 18,
   "metadata": {},
   "outputs": [],
   "source": [
    "# Create the device. The experiment value must be unique among any devices in use at the tim\n",
    "device = AwsDevice(\"arn:aws:braket:::device/quantum-simulator/amazon/sv1\")\n",
    "\n",
    "# set up the device to be the Rigetti quantum computer\n",
    "# device = AwsDevice(\"arn:aws:braket:us-west-1::device/qpu/rigetti/Aspen-M-3\")\n",
    "\n",
    "# set up the device to be the IonQ quantum computer\n",
    "# device = AwsDevice(\"arn:aws:braket:us-east-1::device/qpu/ionq/Harmony\")\n",
    "\n",
    "# set up the device to be the Oxford Quantum Circuits (OQC) quantum computer\n",
    "# device = AwsDevice(\"arn:aws:braket:eu-west-2::device/qpu/oqc/Lucy\")"
   ]
  },
  {
   "cell_type": "markdown",
   "metadata": {},
   "source": [
    "We can check out the set of gates this device supports as follows: "
   ]
  },
  {
   "cell_type": "code",
   "execution_count": 19,
   "metadata": {},
   "outputs": [
    {
     "name": "stdout",
     "output_type": "stream",
     "text": [
      "Quantum Gates supported by this device:\n",
      " ['ccnot', 'cnot', 'cphaseshift', 'cphaseshift00', 'cphaseshift01', 'cphaseshift10', 'cswap', 'cy', 'cz', 'ecr', 'h', 'i', 'iswap', 'pswap', 'phaseshift', 'rx', 'ry', 'rz', 's', 'si', 'swap', 't', 'ti', 'unitary', 'v', 'vi', 'x', 'xx', 'xy', 'y', 'yy', 'z', 'zz']\n"
     ]
    }
   ],
   "source": [
    "# show the properties of the device\n",
    "device_properties = device.properties\n",
    "# show supportedQuantumOperations (supported gates for a device)\n",
    "device_operations = device_properties.dict()['action']['braket.ir.jaqcd.program']['supportedOperations']\n",
    "# Note: This field also exists for other devices like the QPUs\n",
    "print('Quantum Gates supported by this device:\\n',device_operations)"
   ]
  },
  {
   "cell_type": "markdown",
   "metadata": {},
   "source": [
    "__POLLING PARAMETERS__: With the ```run(...)``` method we can set two important parameters: \n",
    "* ```poll_timeout_seconds``` is the number of seconds you want to wait and poll the task before it times out; the default value is 5 days (that is $\\sim 5*60*60*24$ seconds). \n",
    "* ```poll_interval_seconds``` is the frequency how often the task is polled, e.g., how often you call the Braket API to get the status; the default value is 1 second. "
   ]
  },
  {
   "cell_type": "code",
   "execution_count": 20,
   "metadata": {
    "scrolled": true
   },
   "outputs": [
    {
     "name": "stdout",
     "output_type": "stream",
     "text": [
      "Status of task: CREATED\n",
      "Status: CREATED\n",
      "Status: CREATED\n",
      "Status: QUEUED\n",
      "Status: QUEUED\n",
      "Status: QUEUED\n",
      "Status: RUNNING\n",
      "Status: RUNNING\n",
      "Status: RUNNING\n",
      "Status: RUNNING\n",
      "Status: COMPLETED\n",
      "Counter({'00010': 503, '00000': 488, '11100': 5, '01010': 2, '01000': 2})\n"
     ]
    },
    {
     "data": {
      "image/png": "[encoded data removed]",
      "text/plain": [
       "<Figure size 432x288 with 1 Axes>"
      ]
     },
     "metadata": {
      "needs_background": "light"
     },
     "output_type": "display_data"
    }
   ],
   "source": [
    "# define task (asynchronous)\n",
    "task = device.run(my_circuit, \n",
    "                  poll_timeout_seconds = 100, \n",
    "                  shots=1000)\n",
    "\n",
    "# get id and status of submitted task\n",
    "task_id = task.id\n",
    "status = task.state()\n",
    "# print('ID of task:', task_id)\n",
    "print('Status of task:', status)\n",
    "\n",
    "# wait for job to complete\n",
    "while status != 'COMPLETED':\n",
    "    status = task.state()\n",
    "    print('Status:', status)\n",
    "\n",
    "# get results of task\n",
    "result = task.result()\n",
    "\n",
    "# get measurement shots\n",
    "counts = result.measurement_counts\n",
    "\n",
    "# print counts\n",
    "print(counts)\n",
    "\n",
    "# plot using Counter\n",
    "plt.bar(counts.keys(), counts.values());\n",
    "plt.xlabel('bitstrings');\n",
    "plt.ylabel('counts');"
   ]
  },
  {
   "cell_type": "markdown",
   "metadata": {},
   "source": [
    "The on-demand simulators SV1 and DM1 also support running parametrized tasks. The value of any free parameters can be fixed when the circuit is run using the optional `inputs` argument to `run`. `inputs` should be a `dict` of `string`-`float` pairs."
   ]
  },
  {
   "cell_type": "code",
   "execution_count": 21,
   "metadata": {},
   "outputs": [
    {
     "name": "stdout",
     "output_type": "stream",
     "text": [
      "T  : |    0    | 1 |2|\n",
      "                      \n",
      "q0 : -Rx(alpha)-C-----\n",
      "                |     \n",
      "q1 : -Ry(beta)--|-C-X-\n",
      "                | |   \n",
      "q2 : -Rz(gamma)-X-|---\n",
      "                  |   \n",
      "q3 : -H-----------X-X-\n",
      "\n",
      "T  : |    0    | 1 |2|\n",
      "\n",
      "Unassigned parameters: [alpha, beta, gamma].\n",
      "Status of task: CREATED\n",
      "Status: CREATED\n",
      "Status: CREATED\n",
      "Status: CREATED\n",
      "Status: QUEUED\n",
      "Status: QUEUED\n",
      "Status: RUNNING\n",
      "Status: RUNNING\n",
      "Status: RUNNING\n",
      "Status: RUNNING\n",
      "Status: RUNNING\n",
      "Status: COMPLETED\n",
      "Counter({'0101': 501, '0100': 485, '0000': 7, '0001': 4, '1110': 2, '1111': 1})\n"
     ]
    },
    {
     "data": {
      "image/png": "[encoded data removed]",
      "text/plain": [
       "<Figure size 432x288 with 1 Axes>"
      ]
     },
     "metadata": {
      "needs_background": "light"
     },
     "output_type": "display_data"
    }
   ],
   "source": [
    "# define circuit with some parametrized gates and free parameters\n",
    "alpha = FreeParameter('alpha')\n",
    "beta  = FreeParameter('beta')\n",
    "gamma = FreeParameter('gamma')\n",
    "my_circuit = Circuit().rx(0, alpha).ry(1, beta).rz(2, gamma).h(3).cnot(control=0, target=2).cnot(1, 3).x([1,3])\n",
    "print(my_circuit)\n",
    "# define task (asynchronous)\n",
    "task = device.run(my_circuit, \n",
    "                  poll_timeout_seconds = 100, \n",
    "                  shots=1000, inputs={'alpha': 0.1, 'beta': 0.2, 'gamma': 0.3})\n",
    "\n",
    "# get id and status of submitted task\n",
    "task_id = task.id\n",
    "status = task.state()\n",
    "# print('ID of task:', task_id)\n",
    "print('Status of task:', status)\n",
    "\n",
    "# wait for job to complete\n",
    "while status != 'COMPLETED':\n",
    "    status = task.state()\n",
    "    print('Status:', status)\n",
    "\n",
    "# get results of task\n",
    "result = task.result()\n",
    "\n",
    "# get measurement shots\n",
    "counts = result.measurement_counts\n",
    "\n",
    "# print counts\n",
    "print(counts)\n",
    "\n",
    "# plot using Counter\n",
    "plt.bar(counts.keys(), counts.values());\n",
    "plt.xlabel('bitstrings');\n",
    "plt.ylabel('counts');"
   ]
  },
  {
   "cell_type": "markdown",
   "metadata": {},
   "source": [
    "__TASK METADATA__: You can access a range of metadata associated with your ```task``` object, as shown below.  "
   ]
  },
  {
   "cell_type": "code",
   "execution_count": 22,
   "metadata": {},
   "outputs": [
    {
     "name": "stdout",
     "output_type": "stream",
     "text": [
      "1000 shots taken on Thu, 10 Nov 2022 17:19:03 GMT.\n"
     ]
    }
   ],
   "source": [
    "# get all metadata of submitted task\n",
    "metadata = task.metadata()\n",
    "# example for metadata\n",
    "shots = metadata['shots']\n",
    "date = metadata['ResponseMetadata']['HTTPHeaders']['date']\n",
    "# print example metadata\n",
    "print(\"{} shots taken on {}.\".format(shots, date))"
   ]
  },
  {
   "cell_type": "markdown",
   "metadata": {},
   "source": [
    "__TASK RECONSTRUCTION__: Imagine your kernel dies after you have submitted the task, or you simply close your notebook. As recovery method, here is how you can reconstruct the ```task``` object (given the corresponding unique arn). You can reconstruct the ```task``` object using `task = AwsQuantumTask(arn=...)`; then you can simply call `task.result()` to get the result from S3. "
   ]
  },
  {
   "cell_type": "code",
   "execution_count": 23,
   "metadata": {},
   "outputs": [
    {
     "name": "stdout",
     "output_type": "stream",
     "text": [
      "Status of (reconstructed) task: COMPLETED\n"
     ]
    }
   ],
   "source": [
    "# restore task from unique arn\n",
    "task_load = AwsQuantumTask(arn=task_id)\n",
    "# print status\n",
    "status = task_load.state()\n",
    "print('Status of (reconstructed) task:', status)"
   ]
  },
  {
   "cell_type": "code",
   "execution_count": 24,
   "metadata": {},
   "outputs": [
    {
     "name": "stdout",
     "output_type": "stream",
     "text": [
      "Counter({'0101': 501, '0100': 485, '0000': 7, '0001': 4, '1110': 2, '1111': 1})\n"
     ]
    },
    {
     "data": {
      "image/png": "[encoded data removed]",
      "text/plain": [
       "<Figure size 432x288 with 1 Axes>"
      ]
     },
     "metadata": {
      "needs_background": "light"
     },
     "output_type": "display_data"
    }
   ],
   "source": [
    "# get results of task\n",
    "result = task_load.result()\n",
    "\n",
    "# get measurement shots\n",
    "counts = result.measurement_counts\n",
    "\n",
    "# print counts\n",
    "print(counts)\n",
    "\n",
    "# plot using Counter\n",
    "plt.bar(counts.keys(), counts.values(), color='g');\n",
    "plt.xlabel('bitstrings');\n",
    "plt.ylabel('counts');"
   ]
  },
  {
   "cell_type": "markdown",
   "metadata": {},
   "source": [
    "__TASK CANCELLATION__: Finally, we can also cancel existing tasks by calling the ```cancel()``` method."
   ]
  },
  {
   "cell_type": "code",
   "execution_count": 25,
   "metadata": {},
   "outputs": [
    {
     "name": "stdout",
     "output_type": "stream",
     "text": [
      "Status of task: CREATED\n",
      "Status of task: CANCELLING\n"
     ]
    }
   ],
   "source": [
    "# define task\n",
    "task = device.run(my_circuit, shots=1000, inputs={'alpha': 0.1, 'beta': 0.2, 'gamma': 0.3})\n",
    "\n",
    "# get id and status of submitted task\n",
    "task_id = task.id\n",
    "status = task.state()\n",
    "# print('ID of task:', task_id)\n",
    "print('Status of task:', status)\n",
    "\n",
    "# cancel task \n",
    "task.cancel()\n",
    "status = task.state()\n",
    "print('Status of task:', status)"
   ]
  },
  {
   "cell_type": "markdown",
   "metadata": {},
   "source": [
    "## DEMONSTRATION OF RESULT TYPES: Expectation Values and Observables "
   ]
  },
  {
   "cell_type": "markdown",
   "metadata": {},
   "source": [
    "So far, we have only taken measurements in the computational basis. However, it is also possible to measure in other bases, as well as estimate important statistics like expectation value and variance. We do this by adding `ResultType`s to our circuit; in the following example, we will make measurements in the basis of the observable $X_{0}Y_{1}$ (this is the tensor product $X(0) \\otimes Y(1)$):"
   ]
  },
  {
   "cell_type": "code",
   "execution_count": 26,
   "metadata": {},
   "outputs": [
    {
     "name": "stdout",
     "output_type": "stream",
     "text": [
      "T  : |   0    | 1 |               Result Types               |\n",
      "                                                              \n",
      "q0 : -Rx(0.15)-C---Expectation(X@Y)-Variance(X@Y)-Sample(X@Y)-\n",
      "               |   |                |             |           \n",
      "q1 : -Ry(0.20)-|-C-Expectation(X@Y)-Variance(X@Y)-Sample(X@Y)-\n",
      "               | |                                            \n",
      "q2 : -Rz(0.25)-X-|--------------------------------------------\n",
      "                 |                                            \n",
      "q3 : -H----------X--------------------------------------------\n",
      "                                                              \n",
      "q4 : -X-------------------------------------------------------\n",
      "\n",
      "T  : |   0    | 1 |               Result Types               |\n"
     ]
    }
   ],
   "source": [
    "# define example circuit\n",
    "circ = Circuit().rx(0, 0.15).ry(1, 0.2).rz(2, 0.25).h(3).cnot(control=0, target=2).cnot(1, 3).x(4)\n",
    "# add expectation value\n",
    "obs = Observable.X() @ Observable.Y()\n",
    "target_qubits = [0, 1]\n",
    "circ.expectation(obs, target=target_qubits)\n",
    "# add variance\n",
    "circ.variance(obs, target=target_qubits) \n",
    "# add samples\n",
    "\n",
    "circ.sample(obs, target=target_qubits)\n",
    "print(circ)"
   ]
  },
  {
   "cell_type": "markdown",
   "metadata": {},
   "source": [
    "_Note_: `sample` is only valid when `shots>0`.\n",
    "\n",
    "As shown above, results types are part of the `print` information. We now run this circuit on the local simulator above and output these results. "
   ]
  },
  {
   "cell_type": "code",
   "execution_count": 27,
   "metadata": {},
   "outputs": [
    {
     "name": "stdout",
     "output_type": "stream",
     "text": [
      "Expectation value for <X0*Y1>: 0.08\n",
      "Variance for <X0*Y1>: 0.9936\n",
      "Measurement samples for X0*Y1: [-1.  1. -1.  1.  1.  1. -1. -1. -1.  1.  1.  1.  1. -1.  1.  1. -1. -1.\n",
      " -1. -1. -1. -1.  1.  1.  1. -1. -1. -1.  1. -1.  1.  1. -1.  1. -1.  1.\n",
      " -1.  1.  1. -1. -1. -1.  1.  1.  1. -1.  1.  1. -1.  1.  1. -1.  1.  1.\n",
      "  1.  1. -1. -1.  1.  1.  1. -1.  1. -1.  1.  1.  1. -1. -1.  1. -1. -1.\n",
      " -1. -1.  1.  1. -1. -1.  1.  1.  1. -1.  1. -1. -1. -1. -1.  1.  1. -1.\n",
      "  1.  1. -1.  1. -1. -1.  1.  1.  1.  1.]\n"
     ]
    }
   ],
   "source": [
    "# set up device\n",
    "device = LocalSimulator()\n",
    "# run the circuit and output the results specified above\n",
    "task = device.run(circ, shots=100)\n",
    "result = task.result()\n",
    "print(\"Expectation value for <X0*Y1>:\", result.values[0])\n",
    "print(\"Variance for <X0*Y1>:\", result.values[1])\n",
    "print(\"Measurement samples for X0*Y1:\", result.values[2])"
   ]
  },
  {
   "cell_type": "markdown",
   "metadata": {},
   "source": [
    "We can verify that we get the same estimate for the expectation value if we compute it by hand from the samples:"
   ]
  },
  {
   "cell_type": "code",
   "execution_count": 28,
   "metadata": {},
   "outputs": [
    {
     "name": "stdout",
     "output_type": "stream",
     "text": [
      "Expectation value from samples: 0.08\n"
     ]
    }
   ],
   "source": [
    "samples = result.values[2]\n",
    "sum_of_samples = samples.sum()\n",
    "total_counts = len(samples)\n",
    "expect_from_samples = sum_of_samples/total_counts\n",
    "print('Expectation value from samples:', expect_from_samples)"
   ]
  },
  {
   "cell_type": "markdown",
   "metadata": {},
   "source": [
    "So far, we have measured only one observable, namely $X_{0}Y_{1}$. However, it is possible to measure multiple observables at once, provided that any observables with overlapping qubits have the same factor acting on each qubit:\n",
    "\n",
    "<div class=\"alert alert-block alert-info\">\n",
    "<b>Note</b> The following code requires amazon-braket-sdk>=1.5.0 and amazon-braket-default-simulator>=1.1.0\n",
    "</div>"
   ]
  },
  {
   "cell_type": "code",
   "execution_count": 29,
   "metadata": {},
   "outputs": [
    {
     "name": "stdout",
     "output_type": "stream",
     "text": [
      "Expectation value for <X0*Y1>: -0.022\n",
      "Expectation value for <Z2*H4>: -0.668\n",
      "Expectation value for <Y1*X3*H4>:: -0.024\n"
     ]
    }
   ],
   "source": [
    "circ = Circuit().rx(0, 0.15).ry(1, 0.2).rz(2, 0.25).h(3).cnot(control=0, target=2).cnot(1, 3).x(4)\n",
    "circ.expectation(Observable.X() @ Observable.Y(), target=[0, 1])\n",
    "circ.expectation(Observable.Z() @ Observable.H(), target=[2, 4])\n",
    "# Overlaps on qubits 1 and 4, but Y and H are the same factors that have been applied to each, respectively\n",
    "circ.expectation(Observable.Y() @ Observable.X() @ Observable.H(), target=[1, 3, 4])\n",
    "\n",
    "# run circuit\n",
    "task = device.run(circ, shots=1000)\n",
    "result = task.result()\n",
    "print(\"Expectation value for <X0*Y1>:\", result.values[0])\n",
    "print(\"Expectation value for <Z2*H4>:\", result.values[1])\n",
    "print(\"Expectation value for <Y1*X3*H4>::\", result.values[2])"
   ]
  },
  {
   "cell_type": "markdown",
   "metadata": {},
   "source": [
    "This is possible because we only need to measure in at most one basis for each qubit. For instance in the example above, on qubit 1 we only measure in the Y basis."
   ]
  },
  {
   "cell_type": "markdown",
   "metadata": {},
   "source": [
    "### RESULT TYPES FOR ```shots=0```"
   ]
  },
  {
   "cell_type": "markdown",
   "metadata": {},
   "source": [
    "<div class=\"alert alert-block alert-info\">\n",
    "<b>Note</b> This section requires amazon-braket-sdk>=1.8.0 and amazon-braket-default-simulator>=1.3.0\n",
    "</div>\n",
    "\n",
    "In all examples discussed so far we have set the parameter `shots>0`, thereby mimicking the behavior of actual quantum hardware. However, on a classical simulator we do have access to the full state vector when `shots=0`. We will illustrate this functionality in more detail in this section. \n",
    "\n",
    "Note that the full state vector and amplitudes can only be requested when `shots=0` for a classical simulator. \n",
    "When `shots=0` for a simulator, probability and expectation values are the exact values, as derived from the full wavefunction. \n",
    "When `shots>0` we cannot access the full state vector, but we can still get approximate expectation values as taken from measurement samples. Note that probability, sample, expectation, and variance are also supported for QPU devices.\n",
    "\n",
    "In the following example we output the state vector, the exact expectation values of $Y_{1}X_{2}$ and $Z_{0}Z_{1}$, the amplitude of the state $|00000\\rangle$, and the marginal probability of qubit $3$. Notice in particular that the two observables share qubit $1$ but don't have the same factor acting on it; this is allowed because simulators can directly compute expectation values using the state vector, and don't have to measure in a common basis."
   ]
  },
  {
   "cell_type": "code",
   "execution_count": 30,
   "metadata": {},
   "outputs": [
    {
     "name": "stdout",
     "output_type": "stream",
     "text": [
      "T  : |    0    | 1 |2|          Result Types           |\n",
      "                                                        \n",
      "q0 : -Rx(alpha)-C----------------------Expectation(Z@Z)-\n",
      "                |                      |                \n",
      "q1 : -Ry(beta)--|-C-X-Expectation(Y@X)-Expectation(Z@Z)-\n",
      "                | |   |                                 \n",
      "q2 : -Rz(gamma)-X-|---Expectation(Y@X)------------------\n",
      "                  |                                     \n",
      "q3 : -H-----------X-X-Probability-----------------------\n",
      "\n",
      "T  : |    0    | 1 |2|          Result Types           |\n",
      "\n",
      "Additional result types: StateVector, Amplitude(0000)\n",
      "\n",
      "Unassigned parameters: [alpha, beta, gamma].\n"
     ]
    }
   ],
   "source": [
    "# add result types\n",
    "circ = my_circuit\n",
    "# add the state_vector ResultType available for shots=0\n",
    "circ.state_vector() \n",
    "# add single qubit expectation value\n",
    "obs1 = Observable.Y() @ Observable.X()\n",
    "circ.expectation(obs1, target=[1, 2])\n",
    "# add the two-qubit Z0*Z1 expectation value\n",
    "obs2 = Observable.Z() @ Observable.Z()\n",
    "circ.expectation(obs2, target=[0,1]) \n",
    "# add the amplitude for |0...0>\n",
    "bitstring = '0'*circ.qubit_count\n",
    "circ.amplitude(state=[bitstring]) \n",
    "# add marginal probability \n",
    "circ.probability(target=[3])\n",
    "print(circ)"
   ]
  },
  {
   "cell_type": "markdown",
   "metadata": {},
   "source": [
    "As shown above, results types are part of the `print` information. We now run this circuit on the local simulator above and output these results. "
   ]
  },
  {
   "cell_type": "code",
   "execution_count": 31,
   "metadata": {
    "scrolled": false
   },
   "outputs": [
    {
     "name": "stderr",
     "output_type": "stream",
     "text": [
      "This program uses OpenQASM language features that may not be supported on QPUs or on-demand simulators.\n"
     ]
    },
    {
     "name": "stdout",
     "output_type": "stream",
     "text": [
      "Final state vector:\n",
      " [ 6.97129718e-02-0.01053609j  6.97129718e-02-0.01053609j\n",
      "  0.00000000e+00+0.j          0.00000000e+00+0.j\n",
      "  6.94804402e-01-0.10500941j  6.94804402e-01-0.10500941j\n",
      "  0.00000000e+00+0.j          0.00000000e+00+0.j\n",
      "  0.00000000e+00+0.j          0.00000000e+00+0.j\n",
      " -5.27243703e-04-0.00348856j -5.27243703e-04-0.00348856j\n",
      "  0.00000000e+00+0.j          0.00000000e+00+0.j\n",
      " -5.25485051e-03-0.0347692j  -5.25485051e-03-0.0347692j ]\n",
      "Expectation value <Y1X2> 0.0\n",
      "Expectation value <Z0Z1>: -0.9751703272018153\n",
      "Amplitude <00000|Final state>: {'0000': (0.06971297180671754-0.010536085195500033j)}\n",
      "Marginal probability for target qubit 3 in computational basis: [0.5 0.5]\n"
     ]
    }
   ],
   "source": [
    "# set up device\n",
    "device = LocalSimulator()\n",
    "# run the circuit and output the results specified above\n",
    "task = device.run(circ, shots=0, inputs={'alpha': 0.1, 'beta': 0.2, 'gamma': 0.3})\n",
    "result = task.result()\n",
    "print(\"Final state vector:\\n\", result.values[0])\n",
    "print(\"Expectation value <Y1X2>\", result.values[1])\n",
    "print(\"Expectation value <Z0Z1>:\", result.values[2])\n",
    "print(\"Amplitude <00000|Final state>:\", result.values[3])\n",
    "print(\"Marginal probability for target qubit 3 in computational basis:\", result.values[4])"
   ]
  },
  {
   "cell_type": "markdown",
   "metadata": {},
   "source": [
    "## ADVANCED LOGGING"
   ]
  },
  {
   "cell_type": "markdown",
   "metadata": {},
   "source": [
    "Below we provide an example for advanced logging. Here, we change the ```poll_timeout_seconds``` and ```poll_interval_seconds``` parameters, such that a task can be long-running and the task status will be continuously logged to a file. You can also transfer this code to a python script instead of a Jupyter notebook, and the script can run as a process in the background so that your laptop can go to sleep and the script will still run. These advanced logging techniques allow you to see the background polling and create a record for later debugging. "
   ]
  },
  {
   "cell_type": "code",
   "execution_count": 32,
   "metadata": {},
   "outputs": [
    {
     "name": "stdout",
     "output_type": "stream",
     "text": [
      "Task info will be logged in: device_logs-20221110121905.txt\n"
     ]
    }
   ],
   "source": [
    "# set filename for logs\n",
    "log_file = 'device_logs-'+datetime.strftime(datetime.now(), '%Y%m%d%H%M%S')+'.txt'\n",
    "print('Task info will be logged in:', log_file)\n",
    "\n",
    "# create new logger object\n",
    "logger = logging.getLogger(\"newLogger\")  \n",
    "# configure to log to file device_logs.txt in the appending mode\n",
    "logger.addHandler(logging.FileHandler(filename=log_file, mode='a'))\n",
    "# add to file all log messages with level DEBUG or above\n",
    "logger.setLevel(logging.DEBUG) "
   ]
  },
  {
   "cell_type": "code",
   "execution_count": 33,
   "metadata": {},
   "outputs": [
    {
     "name": "stdout",
     "output_type": "stream",
     "text": [
      "T  : |   0    | 1 |\n",
      "                   \n",
      "q0 : -Rx(0.15)-C---\n",
      "               |   \n",
      "q1 : -Ry(0.20)-|-C-\n",
      "               | | \n",
      "q2 : -Rz(0.25)-X-|-\n",
      "                 | \n",
      "q3 : -H----------X-\n",
      "                   \n",
      "q4 : -X------------\n",
      "\n",
      "T  : |   0    | 1 |\n"
     ]
    }
   ],
   "source": [
    "# define circuit\n",
    "circ_log = Circuit().rx(0, 0.15).ry(1, 0.2).rz(2, 0.25).h(3).cnot(control=0, target=2).cnot(1, 3).x(4)\n",
    "print(circ_log)\n",
    "# define device\n",
    "device = AwsDevice(\"arn:aws:braket:::device/quantum-simulator/amazon/sv1\")\n",
    "# define what info to log\n",
    "logger.info(\n",
    "    device.run(circ_log, \n",
    "               poll_timeout_seconds=1200, poll_interval_seconds=0.25, logger=logger, shots=1000)\n",
    "    .result().measurement_counts\n",
    ")"
   ]
  },
  {
   "cell_type": "code",
   "execution_count": 34,
   "metadata": {},
   "outputs": [
    {
     "name": "stdout",
     "output_type": "stream",
     "text": [
      "Task arn:aws:braket:us-west-2:746192259860:quantum-task/b03f8639-b1f3-458e-89e3-0fb47e292e14: start polling for completion\r\n",
      "Task arn:aws:braket:us-west-2:746192259860:quantum-task/b03f8639-b1f3-458e-89e3-0fb47e292e14: task status CREATED\r\n",
      "Task arn:aws:braket:us-west-2:746192259860:quantum-task/b03f8639-b1f3-458e-89e3-0fb47e292e14: task status QUEUED\r\n",
      "Task arn:aws:braket:us-west-2:746192259860:quantum-task/b03f8639-b1f3-458e-89e3-0fb47e292e14: task status RUNNING\r\n",
      "Task arn:aws:braket:us-west-2:746192259860:quantum-task/b03f8639-b1f3-458e-89e3-0fb47e292e14: task status RUNNING\r\n",
      "Task arn:aws:braket:us-west-2:746192259860:quantum-task/b03f8639-b1f3-458e-89e3-0fb47e292e14: task status COMPLETED\r\n",
      "Counter({'00001': 496, '00011': 495, '01001': 3, '10111': 3, '01011': 2, '10101': 1})\r\n"
     ]
    }
   ],
   "source": [
    "# print logs\n",
    "! cat {log_file}"
   ]
  },
  {
   "cell_type": "code",
   "execution_count": 35,
   "metadata": {},
   "outputs": [
    {
     "data": {
      "image/png": "[encoded data removed]",
      "text/plain": [
       "<Figure size 432x288 with 1 Axes>"
      ]
     },
     "metadata": {
      "needs_background": "light"
     },
     "output_type": "display_data"
    }
   ],
   "source": [
    "# parse log file for arn\n",
    "with open(log_file) as openfile:\n",
    "    for line in openfile:\n",
    "        for part in line.split():\n",
    "            if \"arn:\" in part:\n",
    "                arn = part\n",
    "                break\n",
    "# remove final semicolon in logs\n",
    "arn = arn[:-1]\n",
    "# print(arn)\n",
    "\n",
    "# with this arn we can restore again task from unique arn\n",
    "task_load = AwsQuantumTask(arn=arn)\n",
    "\n",
    "# get results of task\n",
    "result = task_load.result()\n",
    "\n",
    "# get measurement shots\n",
    "counts = result.measurement_counts\n",
    "\n",
    "# plot using Counter\n",
    "plt.bar(counts.keys(), counts.values(), color='tab:orange');\n",
    "plt.xlabel('bitstrings');\n",
    "plt.ylabel('counts');"
   ]
  },
  {
   "cell_type": "markdown",
   "metadata": {},
   "source": [
    "--- \n",
    "## APPENDIX"
   ]
  },
  {
   "cell_type": "markdown",
   "metadata": {},
   "source": [
    "### APPENDIX: SDK version"
   ]
  },
  {
   "cell_type": "code",
   "execution_count": 36,
   "metadata": {},
   "outputs": [
    {
     "name": "stdout",
     "output_type": "stream",
     "text": [
      "Version: 1.33.2.dev0\r\n"
     ]
    }
   ],
   "source": [
    "# print version of SDK\n",
    "! pip show amazon-braket-sdk | grep Version"
   ]
  },
  {
   "cell_type": "markdown",
   "metadata": {},
   "source": [
    "### APPENDIX: ADVANCED FUNCTIONALITY WITH ASYNCHRONOUS EXECUTION"
   ]
  },
  {
   "cell_type": "markdown",
   "metadata": {},
   "source": [
    "__ASYNCHRONOUS EXECUTION__: When replacing the ```result()``` call on the task object above with ```async_result()```, we can get the quantum task result asynchronously. Consecutive calls to this method return the result cached from the most recent request. See [here](https://github.com/aws/braket-python-sdk/blob/master/src/braket/aws/aws_quantum_task.py#L206) for source code implementation. \n",
    "\n",
    "While ```result()``` is a blocking call that waits for the result, ```async_result()``` is a non-blocking call. For example, in Jupyter as shown here, if you run ```result()```, the notebook will stop and wait at this cell for a certain polling time (set as ```poll_timeout_seconds``` with default of 5 days) till the polling returns the result object or times out. If you run ```async_result()```, the notebook immediately goes to the next cell, _not_ waiting for polling to complete. Calling `result()` on the `async_result` object before it has completed, an `asyncio.exceptions.InvalidStateError` will be raised. This is expected behavior. Later, you can call ```result()``` and get the actual result from the task. \n",
    "\n",
    "Alternatively, we have provided a basic `asyncio` waiter function `wait_on_result()`, which will create a blocking call, wait for the result, and then return that result for downstream use. We have defaulted the notebook to leverage this call in favor of avoiding the `InvalidStateError`, but we have left the non-blocking `async_result.result()` call example as an option."
   ]
  },
  {
   "cell_type": "code",
   "execution_count": 37,
   "metadata": {},
   "outputs": [],
   "source": [
    "# asyncio waiter function to leverage Task.async_result() object\n",
    "async def wait_on_result(async_result):\n",
    "    print('Waiting on task.')\n",
    "    await async_result\n",
    "\n",
    "    print(f'Final task state: {async_result._state}')\n",
    "    res = async_result.result()\n",
    "    \n",
    "    return res"
   ]
  },
  {
   "cell_type": "code",
   "execution_count": 38,
   "metadata": {},
   "outputs": [],
   "source": [
    "# example with async_result - immediately returns asyncio Future object\n",
    "async_result = device.run(circ2, shots=100).async_result()"
   ]
  },
  {
   "cell_type": "code",
   "execution_count": 39,
   "metadata": {
    "scrolled": true
   },
   "outputs": [
    {
     "name": "stdout",
     "output_type": "stream",
     "text": [
      "Waiting on task.\n",
      "Final task state: FINISHED\n",
      "Counter({'00': 100})\n"
     ]
    }
   ],
   "source": [
    "# async_result.result() then returns the actual result (once completed)\n",
    "# Non-blocking call. Will raise an InvalidStateError if this is run before async task is complete:\n",
    "# async_res = async_result.result()\n",
    "# Blocking call, leveraging asyncio.run and await\n",
    "async_res = asyncio.run(wait_on_result(async_result))\n",
    "# get measurement shots\n",
    "counts = async_res.measurement_counts\n",
    "print(counts)"
   ]
  },
  {
   "cell_type": "markdown",
   "metadata": {},
   "source": [
    "One can also define custom callbacks to be invoked when the Future is completed. "
   ]
  },
  {
   "cell_type": "code",
   "execution_count": 40,
   "metadata": {},
   "outputs": [],
   "source": [
    "# async_result returns back a Future. \n",
    "# Details on Future: https://docs.python.org/3.8/library/asyncio-future.html#asyncio.Future\n",
    "future = device.run(circ2, shots=100).async_result()\n",
    "\n",
    "# this is invoked when the Future is done. i.e. task is in a terminal state.\n",
    "# This will print out to STDOUT when its done.\n",
    "def call_back_function(future):\n",
    "    print(f\"Custom task Result: {future.result().measurement_probabilities}\")\n",
    "\n",
    "# attached the callback function to the future.\n",
    "future.add_done_callback(call_back_function)"
   ]
  },
  {
   "cell_type": "code",
   "execution_count": 41,
   "metadata": {},
   "outputs": [
    {
     "name": "stdout",
     "output_type": "stream",
     "text": [
      "Task Summary\n",
      "{'arn:aws:braket:::device/quantum-simulator/amazon/sv1': {'shots': 4200, 'tasks': {'COMPLETED': 4, 'CANCELLING': 1, 'CREATED': 1}, 'execution_duration': datetime.timedelta(microseconds=175000), 'billed_execution_duration': datetime.timedelta(seconds=12)}}\n",
      "Note: Charges shown are estimates based on your Amazon Braket simulator and quantum processing unit (QPU) task usage. Estimated charges shown may differ from your actual charges. Estimated charges do not factor in any discounts or credits, and you may experience additional charges based on your use of other services such as Amazon Elastic Compute Cloud (Amazon EC2).\n",
      "Estimated cost to run this example: 0.02 USD\n",
      "Custom task Result: {'00': 1.0}\n"
     ]
    }
   ],
   "source": [
    "print(\"Task Summary\")\n",
    "print(t.quantum_tasks_statistics())\n",
    "print('Note: Charges shown are estimates based on your Amazon Braket simulator and quantum processing unit (QPU) task usage. Estimated charges shown may differ from your actual charges. Estimated charges do not factor in any discounts or credits, and you may experience additional charges based on your use of other services such as Amazon Elastic Compute Cloud (Amazon EC2).')\n",
    "print(f\"Estimated cost to run this example: {t.qpu_tasks_cost() + t.simulator_tasks_cost():.2f} USD\")"
   ]
  }
 ],
 "metadata": {
  "kernelspec": {
   "display_name": "Python 3",
   "language": "python",
   "name": "python3"
  },
  "language_info": {
   "codemirror_mode": {
    "name": "ipython",
    "version": 3
   },
   "file_extension": ".py",
   "mimetype": "text/x-python",
   "name": "python",
   "nbconvert_exporter": "python",
   "pygments_lexer": "ipython3",
   "version": "3.8.15"
  },
  "vscode": {
   "interpreter": {
    "hash": "590fab68195cf107911461461f81d5c472d3d6127f579badfcfad30f03e5cab2"
   }
  }
 },
 "nbformat": 4,
 "nbformat_minor": 4
}