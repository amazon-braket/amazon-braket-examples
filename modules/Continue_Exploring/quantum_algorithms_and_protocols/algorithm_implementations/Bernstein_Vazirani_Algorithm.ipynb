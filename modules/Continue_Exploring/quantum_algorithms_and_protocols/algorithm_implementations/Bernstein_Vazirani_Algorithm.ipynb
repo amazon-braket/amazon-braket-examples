{
 "cells": [
  {
   "cell_type": "markdown",
   "metadata": {},
   "source": [
    "# Bernstein–Vazirani Algorithm\n",
    "\n",
    "This notebook runs the Bernstein–Vazirani algorithm on a local simulator and a QPU on Amazon Braket. The Bernstein-Vazirani algorithm can find a hidden binary string with certainty after only one call to the quantum circuit. The hidden string is releaved by querying the oracle that is a superposition of all possible binary strings.\n",
    "\n",
    "The Bernstein–Vazirani problem is to find a hidden binary string given a black-box function that is promised to be the dot product of the input bitstring with the hidden string. It is an extension of the Deutsch-Jozsa algorithm where the function is restricted to being constant or balanced.\n",
    "\n",
    "Typically, we would need to query the classical function $n$ times where $n$ is the length of the string. However, if the function is encoded into a quantum circuit, we need to only query the function once to reveal the hidden string. See Ref. [1] for full details."
   ]
  },
  {
   "cell_type": "markdown",
   "metadata": {},
   "source": [
    "# References \n",
    "[1] [Ethan Bernstein and Umesh Vazirani (1997) \"Quantum Complexity Theory\" SIAM Journal on Computing, Vol. 26, No. 5: 1411-1473, doi:10.1137/S0097539796300921.](https://epubs.siam.org/doi/10.1137/S0097539796300921)\n"
   ]
  },
  {
   "cell_type": "markdown",
   "metadata": {},
   "source": [
    "# Run on a local simulator"
   ]
  },
  {
   "cell_type": "code",
   "execution_count": 11,
   "metadata": {},
   "outputs": [],
   "source": [
    "from notebook_plotting import plot_bitstrings\n",
    "\n",
    "%matplotlib inline\n",
    "\n",
    "from braket.devices import LocalSimulator\n",
    "from braket.tracking import Tracker\n",
    "\n",
    "from braket.experimental.algorithms.bernstein_vazirani import (\n",
    "    bernstein_vazirani_circuit,\n",
    "    get_bernstein_vazirani_results,\n",
    "    run_bernstein_vazirani\n",
    ")\n",
    "\n",
    "tracker = Tracker().start() # to track Braket costs"
   ]
  },
  {
   "cell_type": "code",
   "execution_count": 12,
   "metadata": {},
   "outputs": [
    {
     "name": "stdout",
     "output_type": "stream",
     "text": [
      "T  : |0|1| 2 |3|4|Result Types|\n",
      "                               \n",
      "q0 : -H---C---H---Probability--\n",
      "          |       |            \n",
      "q1 : -H-I-|-H-----Probability--\n",
      "          |       |            \n",
      "q2 : -H---|---C-H-Probability--\n",
      "          |   |   |            \n",
      "q3 : -H-I-|-H-|---Probability--\n",
      "          |   |                \n",
      "q4 : -H-Z-X---X----------------\n",
      "\n",
      "T  : |0|1| 2 |3|4|Result Types|\n"
     ]
    }
   ],
   "source": [
    "bv_circuit = bernstein_vazirani_circuit(\"1010\")\n",
    "print(bv_circuit)"
   ]
  },
  {
   "cell_type": "code",
   "execution_count": 13,
   "metadata": {},
   "outputs": [
    {
     "name": "stdout",
     "output_type": "stream",
     "text": [
      "LocalQuantumTask('id':60947711-ce67-4736-b5a3-fc83217f302b)\n"
     ]
    }
   ],
   "source": [
    "local_simulator = LocalSimulator()\n",
    "task = run_bernstein_vazirani(bv_circuit, local_simulator, shots=1_000)\n",
    "print(task)"
   ]
  },
  {
   "cell_type": "code",
   "execution_count": 14,
   "metadata": {},
   "outputs": [],
   "source": [
    "bv_results = get_bernstein_vazirani_results(task)"
   ]
  },
  {
   "cell_type": "code",
   "execution_count": 15,
   "metadata": {},
   "outputs": [
    {
     "data": {
      "image/png": "[encoded data removed]",
      "text/plain": [
       "<Figure size 640x480 with 1 Axes>"
      ]
     },
     "metadata": {},
     "output_type": "display_data"
    }
   ],
   "source": [
    "plot_bitstrings(bv_results, title=\"BV counts\")"
   ]
  },
  {
   "cell_type": "markdown",
   "metadata": {},
   "source": [
    "# Run on a noisy simulator\n",
    "\n",
    "Let's try a noisy simulator"
   ]
  },
  {
   "cell_type": "code",
   "execution_count": 16,
   "metadata": {},
   "outputs": [
    {
     "name": "stdout",
     "output_type": "stream",
     "text": [
      "T  : |     0      |     1      |     2      |            3             |Result Types|\n",
      "                                                                                     \n",
      "q0 : -H-DEPO(0.01)-I-DEPO(0.01)-H-DEPO(0.01)-BF(0.1)--------------------Probability--\n",
      "                                                                        |            \n",
      "q1 : -H-DEPO(0.01)-I-DEPO(0.01)-H-DEPO(0.01)-BF(0.1)--------------------Probability--\n",
      "                                                                        |            \n",
      "q2 : -H-DEPO(0.01)--------------C-DEPO(0.01)-H-------DEPO(0.01)-BF(0.1)-Probability--\n",
      "                                |                                                    \n",
      "q3 : -H-DEPO(0.01)-Z-DEPO(0.01)-X-DEPO(0.01)-BF(0.1)---------------------------------\n",
      "\n",
      "T  : |     0      |     1      |     2      |            3             |Result Types|\n"
     ]
    }
   ],
   "source": [
    "from braket.circuits.noises import BitFlip, Depolarizing\n",
    "\n",
    "noisy_bv_circuit = (\n",
    "    bernstein_vazirani_circuit(\"001\")\n",
    "    .apply_gate_noise(Depolarizing(0.01))\n",
    "    .apply_readout_noise(BitFlip(0.1))\n",
    ")\n",
    "print(noisy_bv_circuit)"
   ]
  },
  {
   "cell_type": "code",
   "execution_count": 17,
   "metadata": {},
   "outputs": [],
   "source": [
    "local_simulator = LocalSimulator(\"braket_dm\")\n",
    "\n",
    "task = run_bernstein_vazirani(noisy_bv_circuit, local_simulator, shots=1_000)\n",
    "\n",
    "noisy_bv_results = get_bernstein_vazirani_results(task)"
   ]
  },
  {
   "cell_type": "code",
   "execution_count": 18,
   "metadata": {},
   "outputs": [
    {
     "data": {
      "image/png": "[encoded data removed]",
      "text/plain": [
       "<Figure size 640x480 with 1 Axes>"
      ]
     },
     "metadata": {},
     "output_type": "display_data"
    }
   ],
   "source": [
    "plot_bitstrings(noisy_bv_results, title=\"Noisy BV counts\")"
   ]
  },
  {
   "cell_type": "code",
   "execution_count": 19,
   "metadata": {},
   "outputs": [
    {
     "name": "stdout",
     "output_type": "stream",
     "text": [
      "Task Summary\n",
      "{} \n",
      "\n",
      "Estimated cost to run this example: 0.00 USD\n"
     ]
    }
   ],
   "source": [
    "print(\"Task Summary\")\n",
    "print(f\"{tracker.quantum_tasks_statistics()} \\n\")\n",
    "print(f\"Estimated cost to run this example: {tracker.qpu_tasks_cost() + tracker.simulator_tasks_cost():.2f} USD\")"
   ]
  },
  {
   "cell_type": "markdown",
   "metadata": {},
   "source": [
    "Note: Charges shown are estimates based on your Amazon Braket simulator and quantum processing unit (QPU) task usage. Estimated charges shown may differ from your actual charges. Estimated charges do not factor in any discounts or credits, and you may experience additional charges based on your use of other services such as Amazon Elastic Compute Cloud (Amazon EC2)."
   ]
  }
 ],
 "metadata": {
  "kernelspec": {
   "display_name": "Python 3.9.5 64-bit ('braket')",
   "language": "python",
   "name": "python3"
  },
  "language_info": {
   "codemirror_mode": {
    "name": "ipython",
    "version": 3
   },
   "file_extension": ".py",
   "mimetype": "text/x-python",
   "name": "python",
   "nbconvert_exporter": "python",
   "pygments_lexer": "ipython3",
   "version": "3.9.5"
  },
  "orig_nbformat": 4,
  "vscode": {
   "interpreter": {
    "hash": "5904cb9a2089448a2e1aeb5d493d227c9de33e591d7c07e4016fb81e71061a5d"
   }
  }
 },
 "nbformat": 4,
 "nbformat_minor": 2
}
