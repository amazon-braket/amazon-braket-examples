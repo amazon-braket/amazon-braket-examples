{
 "cells": [
  {
   "cell_type": "markdown",
   "id": "5fc92ae8",
   "metadata": {},
   "source": [
    "# Deutsch-Jozsa Algorithm\n",
    "\n",
    "\n",
    "In this notebook, we introduce one of the first quantum algorithm’s developed by pioneers David Deutsch and Richard Jozsa. This algorithm showcases an efficient quantum solution to a problem that cannot be solved classically but instead can be solved using a quantum device [1].\n",
    "\n",
    "## References \n",
    "[1] [Michael A. Nielsen & Isaac L. Chuang Quantum Computation and Quantim Information textbook](http://mmrc.amss.cas.cn/tlb/201702/W020170224608149940643.pdf)\n",
    "\n",
    "\n",
    "## Background\n",
    "Let $U_f$ be an oracle (black box) that computes a Boolean function which only takes binary inputs (0’s or 1’s). These functions can be represented as $f: \\{0, 1\\}^n →  \\{0, 1\\}$. This oracle evaluates two types of functions, constant or balanced. \n",
    "\n",
    "A constant function takes any input and returns only 0’s or only 1’s and a balanced function takes any input and returns exactly half 0’s and half 1’s. \n",
    "\n",
    "**Constant:** 011010 → $U_f$ → 000000  \n",
    "**Balanced:** 000011 → $U_f$ → 111000\n",
    "\n",
    "The goal is to determine what type of function is $U_f$ based on only the outputs. If the input is as large as $2^n$ then the amount of queries a classical computer will have to make is $2^(n - 1)+1$. We can see for a large enough $n$ this problem scales exponentially and becomes inefficient to solve classically. However, leveraging a quantum algorithm we only need to query the oracle once to determine the type of function for $U_f$. This is possible because the state of its output might be in a coherent superposition of states corresponding to different answers, each which solves the problem.\n"
   ]
  },
  {
   "cell_type": "code",
   "execution_count": 1,
   "id": "bf749e4c",
   "metadata": {},
   "outputs": [],
   "source": [
    "from notebook_plotting import plot_bitstrings\n",
    "\n",
    "%matplotlib inline\n",
    "\n",
    "\n",
    "from braket.experimental.algorithms.deutsch_jozsa import (\n",
    "    balanced_oracle,\n",
    "    constant_oracle,\n",
    "    deutsch_jozsa_circuit,\n",
    "    get_deutsch_jozsa_results,\n",
    ")\n",
    "\n",
    "from braket.tracking import Tracker\n",
    "tracker = Tracker().start() # to track Braket costs"
   ]
  },
  {
   "cell_type": "markdown",
   "id": "6c9d7774",
   "metadata": {},
   "source": [
    "\n",
    "The initialization function prepares a superposition of all possible input values and the second register is in a superposition of 0 and 1. "
   ]
  },
  {
   "cell_type": "code",
   "execution_count": 2,
   "id": "df2029fc",
   "metadata": {},
   "outputs": [],
   "source": [
    "n_qubits = 3"
   ]
  },
  {
   "cell_type": "markdown",
   "id": "f4afefaa",
   "metadata": {},
   "source": [
    "The constant oracle circuit is shown below:"
   ]
  },
  {
   "cell_type": "code",
   "execution_count": 3,
   "id": "6f6c0696",
   "metadata": {},
   "outputs": [
    {
     "name": "stdout",
     "output_type": "stream",
     "text": [
      "T  : |0|\n",
      "        \n",
      "q0 : -I-\n",
      "        \n",
      "q1 : -I-\n",
      "        \n",
      "q2 : -I-\n",
      "        \n",
      "q3 : -X-\n",
      "\n",
      "T  : |0|\n"
     ]
    }
   ],
   "source": [
    "const_oracle = constant_oracle(n_qubits)\n",
    "print(const_oracle)"
   ]
  },
  {
   "cell_type": "markdown",
   "id": "4eacdba1",
   "metadata": {},
   "source": [
    "The balanced oracle circuit is shown below:"
   ]
  },
  {
   "cell_type": "code",
   "execution_count": 4,
   "id": "0c116afe",
   "metadata": {},
   "outputs": [
    {
     "name": "stdout",
     "output_type": "stream",
     "text": [
      "T  : |0|1|2|3|4|\n",
      "                \n",
      "q0 : -X-C-X-----\n",
      "        |       \n",
      "q1 : ---|-C-----\n",
      "        | |     \n",
      "q2 : -X-|-|-C-X-\n",
      "        | | |   \n",
      "q3 : ---X-X-X---\n",
      "\n",
      "T  : |0|1|2|3|4|\n"
     ]
    }
   ],
   "source": [
    "bal_oracle = balanced_oracle(n_qubits)\n",
    "print(bal_oracle)"
   ]
  },
  {
   "cell_type": "markdown",
   "id": "233d42bd",
   "metadata": {},
   "source": [
    "The final circuit for the solved Deutsch-Jozsa problem is below:"
   ]
  },
  {
   "cell_type": "code",
   "execution_count": 5,
   "id": "f8476b46",
   "metadata": {},
   "outputs": [
    {
     "name": "stdout",
     "output_type": "stream",
     "text": [
      "T  : |0|1|2|3|4|5|6|Result Types|\n",
      "                                 \n",
      "q0 : -H-X-C-X-H-----Probability--\n",
      "          |         |            \n",
      "q1 : -H---|-C-H-----Probability--\n",
      "          | |       |            \n",
      "q2 : -H-X-|-|-C-X-H-Probability--\n",
      "          | | |                  \n",
      "q3 : -X-H-X-X-X------------------\n",
      "\n",
      "T  : |0|1|2|3|4|5|6|Result Types|\n"
     ]
    }
   ],
   "source": [
    "dj_circuit = deutsch_jozsa_circuit(bal_oracle)\n",
    "print(dj_circuit)"
   ]
  },
  {
   "cell_type": "code",
   "execution_count": 6,
   "id": "e8022773",
   "metadata": {},
   "outputs": [
    {
     "name": "stdout",
     "output_type": "stream",
     "text": [
      "T  : |0|1|2|Result Types|\n",
      "                         \n",
      "q0 : -H-I-H-Probability--\n",
      "            |            \n",
      "q1 : -H-I-H-Probability--\n",
      "            |            \n",
      "q2 : -H-I-H-Probability--\n",
      "                         \n",
      "q3 : -X-H-X--------------\n",
      "\n",
      "T  : |0|1|2|Result Types|\n"
     ]
    }
   ],
   "source": [
    "dj_circuit = deutsch_jozsa_circuit(const_oracle)\n",
    "print(dj_circuit)"
   ]
  },
  {
   "cell_type": "markdown",
   "id": "3e3c3216",
   "metadata": {},
   "source": [
    "The oracle is the Boolean function that is applied to the $n$-qubits in the query register. "
   ]
  },
  {
   "cell_type": "markdown",
   "id": "84eb4276",
   "metadata": {},
   "source": [
    "## Run on a local simulator\n",
    "\n",
    "If the output is \"000\", then the algorithm predicts a constant oracle. If the output is \"111\", it predicts balanced."
   ]
  },
  {
   "cell_type": "code",
   "execution_count": 7,
   "id": "c7c8d558",
   "metadata": {},
   "outputs": [],
   "source": [
    "from braket.devices import LocalSimulator\n",
    "\n",
    "device = LocalSimulator()"
   ]
  },
  {
   "cell_type": "code",
   "execution_count": 8,
   "id": "bed79bcd",
   "metadata": {},
   "outputs": [],
   "source": [
    "task = device.run(dj_circuit, shots=10_000)"
   ]
  },
  {
   "cell_type": "markdown",
   "id": "5bf7c237",
   "metadata": {},
   "source": [
    "We can get the results with "
   ]
  },
  {
   "cell_type": "code",
   "execution_count": 9,
   "id": "60a41e3c",
   "metadata": {},
   "outputs": [
    {
     "name": "stdout",
     "output_type": "stream",
     "text": [
      "{'000': 1.0, '001': 0.0, '010': 0.0, '011': 0.0, '100': 0.0, '101': 0.0, '110': 0.0, '111': 0.0}\n"
     ]
    }
   ],
   "source": [
    "dj_probabilities = get_deutsch_jozsa_results(task)\n",
    "print(dj_probabilities)"
   ]
  },
  {
   "cell_type": "code",
   "execution_count": 10,
   "id": "02adfe3c",
   "metadata": {},
   "outputs": [
    {
     "data": {
      "image/png": "[encoded data removed]",
      "text/plain": [
       "<Figure size 640x480 with 1 Axes>"
      ]
     },
     "metadata": {},
     "output_type": "display_data"
    }
   ],
   "source": [
    "plot_bitstrings(dj_probabilities)"
   ]
  },
  {
   "cell_type": "markdown",
   "id": "630ac053",
   "metadata": {},
   "source": [
    "We see that the probability of \"000\" is one, so the results correctly indicate that the oracle was constant."
   ]
  },
  {
   "cell_type": "code",
   "execution_count": 11,
   "id": "ad15c01f",
   "metadata": {},
   "outputs": [
    {
     "name": "stdout",
     "output_type": "stream",
     "text": [
      "Task Summary\n",
      "{} \n",
      "\n",
      "Estimated cost to run this example: 0.00 USD\n"
     ]
    }
   ],
   "source": [
    "print(\"Task Summary\")\n",
    "print(f\"{tracker.quantum_tasks_statistics()} \\n\")\n",
    "print(f\"Estimated cost to run this example: {tracker.qpu_tasks_cost() + tracker.simulator_tasks_cost():.2f} USD\")"
   ]
  },
  {
   "cell_type": "markdown",
   "metadata": {},
   "source": [
    "Note: Charges shown are estimates based on your Amazon Braket simulator and quantum processing unit (QPU) task usage. Estimated charges shown may differ from your actual charges. Estimated charges do not factor in any discounts or credits, and you may experience additional charges based on your use of other services such as Amazon Elastic Compute Cloud (Amazon EC2)."
   ]
  }
 ],
 "metadata": {
  "kernelspec": {
   "display_name": "Python 3.9.5 64-bit ('braket')",
   "language": "python",
   "name": "python3"
  },
  "language_info": {
   "codemirror_mode": {
    "name": "ipython",
    "version": 3
   },
   "file_extension": ".py",
   "mimetype": "text/x-python",
   "name": "python",
   "nbconvert_exporter": "python",
   "pygments_lexer": "ipython3",
   "version": "3.9.5"
  },
  "vscode": {
   "interpreter": {
    "hash": "5904cb9a2089448a2e1aeb5d493d227c9de33e591d7c07e4016fb81e71061a5d"
   }
  }
 },
 "nbformat": 4,
 "nbformat_minor": 5
}
