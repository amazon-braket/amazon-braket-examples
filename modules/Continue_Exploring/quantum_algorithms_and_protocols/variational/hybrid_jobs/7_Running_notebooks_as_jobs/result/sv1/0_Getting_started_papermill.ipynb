{
    "cells": [
        {
            "attachments": {},
            "cell_type": "markdown",
            "id": "5ad161c2",
            "metadata": {
                "papermill": {
                    "duration": 0.003673,
                    "end_time": "2023-04-14T13:55:57.461370",
                    "exception": false,
                    "start_time": "2023-04-14T13:55:57.457697",
                    "status": "completed"
                },
                "tags": []
            },
            "source": [
                "# Example notebook \n",
                "\n",
                "This notebook is a copy from `examples/getting_started/0_Getting_started/0_Getting_started.ipynb` with a small modifications for use with [Papermill](https://github.com/nteract/papermill) and Amazon Braket Hybrid Jobs. \n",
                "\n",
                "## Papermill parameters\n",
                "\n",
                "Papermill is a tool for parameterizing, executing, and analyzing Jupyter Notebooks. \n",
                "To parameterize a notebook, we need tag a cell that contains all the parameters. \n",
                "We can only tag one cell, and for simplicity we place it at the top of the notebook. \n",
                "Full instructions are available here https://papermill.readthedocs.io/en/latest/usage-parameterize.html#designate-parameters-for-a-cell. \n",
                "\n",
                "Below, we tag the parameter `shots=1000`. \n",
                "We can then run the notebook as usual cell-by-cell to see the results. \n",
                "\n",
                "We additionally add two Braket specific parameters called `device_arn` and `results_dir`. \n",
                "These will be overridden when running a Hybrid Job. \n",
                "\n",
                "**In the following cell, we added a tag called `parameters` for Papermill to recognize. If you don't see the tag, follow the instructions above.**"
            ]
        },
        {
            "cell_type": "code",
            "execution_count": 1,
            "id": "60825bc7",
            "metadata": {
                "execution": {
                    "iopub.execute_input": "2023-04-14T13:55:57.468585Z",
                    "iopub.status.busy": "2023-04-14T13:55:57.468304Z",
                    "iopub.status.idle": "2023-04-14T13:55:57.476246Z",
                    "shell.execute_reply": "2023-04-14T13:55:57.475546Z"
                },
                "papermill": {
                    "duration": 0.013442,
                    "end_time": "2023-04-14T13:55:57.478005",
                    "exception": false,
                    "start_time": "2023-04-14T13:55:57.464563",
                    "status": "completed"
                },
                "tags": [
                    "parameters"
                ]
            },
            "outputs": [],
            "source": [
                "# Papermill parameters\n",
                "shots = 1000\n",
                "\n",
                "# Braket specific parameters\n",
                "device_arn = \"arn:aws:braket:::device/quantum-simulator/amazon/sv1\"\n",
                "results_dir = \".\""
            ]
        },
        {
            "cell_type": "code",
            "execution_count": 2,
            "id": "cbf36d0a",
            "metadata": {
                "execution": {
                    "iopub.execute_input": "2023-04-14T13:55:57.484851Z",
                    "iopub.status.busy": "2023-04-14T13:55:57.484447Z",
                    "iopub.status.idle": "2023-04-14T13:55:57.488088Z",
                    "shell.execute_reply": "2023-04-14T13:55:57.487397Z"
                },
                "papermill": {
                    "duration": 0.008906,
                    "end_time": "2023-04-14T13:55:57.489801",
                    "exception": false,
                    "start_time": "2023-04-14T13:55:57.480895",
                    "status": "completed"
                },
                "tags": [
                    "injected-parameters"
                ]
            },
            "outputs": [],
            "source": [
                "# Parameters\n",
                "shots = 1000\n",
                "device_arn = \"arn:aws:braket:::device/quantum-simulator/amazon/sv1\"\n",
                "results_dir = \"/opt/braket/model\""
            ]
        },
        {
            "attachments": {},
            "cell_type": "markdown",
            "id": "8a6606c3",
            "metadata": {
                "papermill": {
                    "duration": 0.002675,
                    "end_time": "2023-04-14T13:55:57.495310",
                    "exception": false,
                    "start_time": "2023-04-14T13:55:57.492635",
                    "status": "completed"
                },
                "tags": []
            },
            "source": [
                "# Getting started with Amazon Braket\n",
                "\n",
                "In this tutorial we prepare a maximally entangled Bell state between two qubits. \n",
                "We then run our circuit on a local simulator and obtain the results."
            ]
        },
        {
            "cell_type": "code",
            "execution_count": 3,
            "id": "5a31acbf",
            "metadata": {
                "execution": {
                    "iopub.execute_input": "2023-04-14T13:55:57.502232Z",
                    "iopub.status.busy": "2023-04-14T13:55:57.501564Z",
                    "iopub.status.idle": "2023-04-14T13:55:59.495046Z",
                    "shell.execute_reply": "2023-04-14T13:55:59.494214Z"
                },
                "papermill": {
                    "duration": 1.998924,
                    "end_time": "2023-04-14T13:55:59.497009",
                    "exception": false,
                    "start_time": "2023-04-14T13:55:57.498085",
                    "status": "completed"
                },
                "tags": []
            },
            "outputs": [],
            "source": [
                "import time\n",
                "\n",
                "import matplotlib.pyplot as plt\n",
                "\n",
                "%matplotlib inline\n",
                "\n",
                "from braket.aws import AwsDevice\n",
                "from braket.circuits import Circuit\n",
                "from braket.devices import LocalSimulator\n",
                "from braket.jobs.metrics import log_metric\n",
                "from braket.tracking import Tracker  # cost tracker\n",
                "\n",
                "cost_tracker = Tracker().start()"
            ]
        },
        {
            "cell_type": "markdown",
            "id": "c77089f0",
            "metadata": {
                "papermill": {
                    "duration": 0.002849,
                    "end_time": "2023-04-14T13:55:59.503454",
                    "exception": false,
                    "start_time": "2023-04-14T13:55:59.500605",
                    "status": "completed"
                },
                "tags": []
            },
            "source": [
                "## Build a circuit\n",
                "\n",
                "Let's build a Bell state with two qubits. By calling `Circuit()` we create an empty circuit, and we can just add gates to the circuit. "
            ]
        },
        {
            "cell_type": "code",
            "execution_count": 4,
            "id": "eff376e0",
            "metadata": {
                "execution": {
                    "iopub.execute_input": "2023-04-14T13:55:59.510551Z",
                    "iopub.status.busy": "2023-04-14T13:55:59.510117Z",
                    "iopub.status.idle": "2023-04-14T13:55:59.516375Z",
                    "shell.execute_reply": "2023-04-14T13:55:59.515508Z"
                },
                "papermill": {
                    "duration": 0.012612,
                    "end_time": "2023-04-14T13:55:59.518945",
                    "exception": false,
                    "start_time": "2023-04-14T13:55:59.506333",
                    "status": "completed"
                },
                "tags": []
            },
            "outputs": [
                {
                    "name": "stdout",
                    "output_type": "stream",
                    "text": [
                        "T  : |0|1|\n",
                        "          \n",
                        "q0 : -H-C-\n",
                        "        | \n",
                        "q1 : ---X-\n",
                        "\n",
                        "T  : |0|1|\n"
                    ]
                }
            ],
            "source": [
                "# build a Bell state with two qubits.\n",
                "bell = Circuit().h(0).cnot(control=0, target=1)\n",
                "print(bell)"
            ]
        },
        {
            "attachments": {},
            "cell_type": "markdown",
            "id": "bf072039",
            "metadata": {
                "papermill": {
                    "duration": 0.004129,
                    "end_time": "2023-04-14T13:55:59.526068",
                    "exception": false,
                    "start_time": "2023-04-14T13:55:59.521939",
                    "status": "completed"
                },
                "tags": []
            },
            "source": [
                "## Submit the circuit to the local simulator and obtain the results\n",
                "\n",
                "Next, we choose either a local simulator or an Amazon Braket device. "
            ]
        },
        {
            "cell_type": "code",
            "execution_count": 5,
            "id": "86818a73",
            "metadata": {
                "execution": {
                    "iopub.execute_input": "2023-04-14T13:55:59.533031Z",
                    "iopub.status.busy": "2023-04-14T13:55:59.532747Z",
                    "iopub.status.idle": "2023-04-14T13:55:59.748343Z",
                    "shell.execute_reply": "2023-04-14T13:55:59.747663Z"
                },
                "papermill": {
                    "duration": 0.221028,
                    "end_time": "2023-04-14T13:55:59.750091",
                    "exception": false,
                    "start_time": "2023-04-14T13:55:59.529063",
                    "status": "completed"
                },
                "tags": []
            },
            "outputs": [],
            "source": [
                "# set up device\n",
                "if \"local\" in device_arn:\n",
                "    device = LocalSimulator()\n",
                "else:\n",
                "    device = AwsDevice(device_arn)"
            ]
        },
        {
            "cell_type": "code",
            "execution_count": 6,
            "id": "9364fe7f",
            "metadata": {
                "execution": {
                    "iopub.execute_input": "2023-04-14T13:55:59.757827Z",
                    "iopub.status.busy": "2023-04-14T13:55:59.757551Z",
                    "iopub.status.idle": "2023-04-14T13:56:03.033927Z",
                    "shell.execute_reply": "2023-04-14T13:56:03.033169Z"
                },
                "papermill": {
                    "duration": 3.282227,
                    "end_time": "2023-04-14T13:56:03.035647",
                    "exception": false,
                    "start_time": "2023-04-14T13:55:59.753420",
                    "status": "completed"
                },
                "tags": []
            },
            "outputs": [
                {
                    "name": "stdout",
                    "output_type": "stream",
                    "text": [
                        "{'00': 503, '11': 497}\n"
                    ]
                }
            ],
            "source": [
                "# Run the circuit and get results\n",
                "result = device.run(bell, shots=shots).result()\n",
                "\n",
                "# get measurement shots\n",
                "counts = result.measurement_counts\n",
                "counts = {k: counts[k] for k in sorted(counts)}  # sort results\n",
                "print(counts)"
            ]
        },
        {
            "attachments": {},
            "cell_type": "markdown",
            "id": "00c89e84",
            "metadata": {
                "papermill": {
                    "duration": 0.002933,
                    "end_time": "2023-04-14T13:56:03.042206",
                    "exception": false,
                    "start_time": "2023-04-14T13:56:03.039273",
                    "status": "completed"
                },
                "tags": []
            },
            "source": [
                "Hybrid Jobs enables logging of metrics during the job. \n",
                "In the example below, we track the total cost of running the circuit on simulators or QPUs by using the cost tracker.\n",
                "\n",
                "We also track the number of counts in the \"00\" state. It is best practice to log all metrics per iteration at a common timestamp to avoid duplication."
            ]
        },
        {
            "cell_type": "code",
            "execution_count": 7,
            "id": "4367530f",
            "metadata": {
                "execution": {
                    "iopub.execute_input": "2023-04-14T13:56:03.049775Z",
                    "iopub.status.busy": "2023-04-14T13:56:03.049307Z",
                    "iopub.status.idle": "2023-04-14T13:56:03.564297Z",
                    "shell.execute_reply": "2023-04-14T13:56:03.563197Z"
                },
                "papermill": {
                    "duration": 0.521064,
                    "end_time": "2023-04-14T13:56:03.566293",
                    "exception": false,
                    "start_time": "2023-04-14T13:56:03.045229",
                    "status": "completed"
                },
                "tags": []
            },
            "outputs": [
                {
                    "name": "stdout",
                    "output_type": "stream",
                    "text": [
                        "Metrics - timestamp=1681480563.5613127; cost=0.00375;\n",
                        "Metrics - timestamp=1681480563.5613127; counts_00=503;\n"
                    ]
                }
            ],
            "source": [
                "total_cost = float(cost_tracker.simulator_tasks_cost() + cost_tracker.qpu_tasks_cost())\n",
                "\n",
                "timestamp = time.time()\n",
                "\n",
                "log_metric(metric_name=\"cost\", value=total_cost, timestamp=timestamp)\n",
                "\n",
                "log_metric(metric_name=\"counts_00\", value=counts[\"00\"], timestamp=timestamp)"
            ]
        },
        {
            "cell_type": "markdown",
            "id": "030bd7f8",
            "metadata": {
                "papermill": {
                    "duration": 0.00305,
                    "end_time": "2023-04-14T13:56:03.572981",
                    "exception": false,
                    "start_time": "2023-04-14T13:56:03.569931",
                    "status": "completed"
                },
                "tags": []
            },
            "source": [
                "**The following cell saves the results to a file**\n",
                "\n",
                "The use of `results_dir` is that any results are saved to the correct directory when called from a Braket Job. Below, we save the measurement counts to a .pkl file. "
            ]
        },
        {
            "cell_type": "code",
            "execution_count": 8,
            "id": "70983cb2",
            "metadata": {
                "execution": {
                    "iopub.execute_input": "2023-04-14T13:56:03.580596Z",
                    "iopub.status.busy": "2023-04-14T13:56:03.580302Z",
                    "iopub.status.idle": "2023-04-14T13:56:03.584663Z",
                    "shell.execute_reply": "2023-04-14T13:56:03.583933Z"
                },
                "papermill": {
                    "duration": 0.01015,
                    "end_time": "2023-04-14T13:56:03.586337",
                    "exception": false,
                    "start_time": "2023-04-14T13:56:03.576187",
                    "status": "completed"
                },
                "tags": []
            },
            "outputs": [],
            "source": [
                "import pickle\n",
                "\n",
                "# save measurement counts to a file\n",
                "with open(f\"{results_dir}/results.pkl\", \"wb\") as f:\n",
                "    pickle.dump(counts, f)\n",
                "\n",
                "\n",
                "# re-load the results with\n",
                "# with open(f\"{results_dir}/results.pkl\", 'rb') as f:\n",
                "#    counts = pickle.load(f)"
            ]
        },
        {
            "cell_type": "markdown",
            "id": "6cd1730a",
            "metadata": {
                "papermill": {
                    "duration": 0.003073,
                    "end_time": "2023-04-14T13:56:03.592679",
                    "exception": false,
                    "start_time": "2023-04-14T13:56:03.589606",
                    "status": "completed"
                },
                "tags": []
            },
            "source": [
                "**The following cell saves the figure to a file**"
            ]
        },
        {
            "cell_type": "code",
            "execution_count": 9,
            "id": "32430521",
            "metadata": {
                "execution": {
                    "iopub.execute_input": "2023-04-14T13:56:03.600258Z",
                    "iopub.status.busy": "2023-04-14T13:56:03.599786Z",
                    "iopub.status.idle": "2023-04-14T13:56:03.790169Z",
                    "shell.execute_reply": "2023-04-14T13:56:03.789472Z"
                },
                "papermill": {
                    "duration": 0.195944,
                    "end_time": "2023-04-14T13:56:03.791831",
                    "exception": false,
                    "start_time": "2023-04-14T13:56:03.595887",
                    "status": "completed"
                },
                "tags": []
            },
            "outputs": [
                {
                    "data": {
                        "image/png": "[encoded data removed]",
                        "text/plain": [
                            "<Figure size 640x480 with 1 Axes>"
                        ]
                    },
                    "metadata": {},
                    "output_type": "display_data"
                }
            ],
            "source": [
                "plt.bar(counts.keys(), counts.values())\n",
                "plt.xlabel(\"bitstrings\")\n",
                "plt.ylabel(\"counts\")\n",
                "\n",
                "# Save figure to a local directory or Amazon S3 location\n",
                "plt.savefig(f\"{results_dir}/histogram.png\")"
            ]
        }
    ],
    "metadata": {
        "celltoolbar": "Tags",
        "kernelspec": {
            "display_name": "Python 3 (ipykernel)",
            "language": "python",
            "name": "python3"
        },
        "language_info": {
            "codemirror_mode": {
                "name": "ipython",
                "version": 3
            },
            "file_extension": ".py",
            "mimetype": "text/x-python",
            "name": "python",
            "nbconvert_exporter": "python",
            "pygments_lexer": "ipython3",
            "version": "3.8.10"
        },
        "papermill": {
            "default_parameters": {},
            "duration": 8.177442,
            "end_time": "2023-04-14T13:56:04.212748",
            "environment_variables": {},
            "exception": null,
            "input_path": "/opt/braket/input/data/input/0_Getting_started_papermill.ipynb",
            "output_path": "/opt/braket/model/0_Getting_started_papermill.ipynb",
            "parameters": {
                "device_arn": "arn:aws:braket:::device/quantum-simulator/amazon/sv1",
                "results_dir": "/opt/braket/model",
                "shots": 1000
            },
            "start_time": "2023-04-14T13:55:56.035306",
            "version": "2.4.0"
        },
        "vscode": {
            "interpreter": {
                "hash": "5904cb9a2089448a2e1aeb5d493d227c9de33e591d7c07e4016fb81e71061a5d"
            }
        }
    },
    "nbformat": 4,
    "nbformat_minor": 5
}
