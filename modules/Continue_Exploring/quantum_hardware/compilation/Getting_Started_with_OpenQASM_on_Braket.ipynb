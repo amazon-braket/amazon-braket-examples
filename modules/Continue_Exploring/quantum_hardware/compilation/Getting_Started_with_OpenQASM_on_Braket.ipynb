{
 "cells": [
  {
   "cell_type": "markdown",
   "metadata": {},
   "source": [
    "# Getting Started with OpenQASM on Braket"
   ]
  },
  {
   "cell_type": "code",
   "execution_count": 1,
   "metadata": {},
   "outputs": [],
   "source": [
    "# Use Braket SDK Cost Tracking to estimate the cost to run this example\n",
    "from braket.tracking import Tracker\n",
    "t = Tracker().start()"
   ]
  },
  {
   "cell_type": "markdown",
   "metadata": {},
   "source": [
    "OpenQASM is a popular human-readable and hardware-agnostic quantum circuit description language. It is open-source and has been actively maintained by a [Technical Steering Committee](https://medium.com/qiskit/introducing-a-technical-steering-committee-for-openqasm3-f9db808108e1) formed by IBM, Amazon, Microsoft and the University of Innsbruck. Amazon Braket now supports OpenQASM 3.0 as an *Intermediate Representation* (IR) in addition to the in-house *JSON-Based AWS Quantum Circuit Description* ([JAQCD](https://github.com/aws/amazon-braket-schemas-python/tree/main/src/braket/ir/jaqcd)). In this notebook, we demonstrate how to submit OpenQASM tasks to various devices on Braket and introduce some OpenQASM features available on Braket."
   ]
  },
  {
   "cell_type": "markdown",
   "metadata": {},
   "source": [
    "## Create and submit an OpenQASM task\n",
    "\n",
    "Submitting a quantum task with OpenQASM is just as simple as using JAQCD. You can use the Amazon Braket Python SDK, Boto3, or the AWS CLI to submit OpenQASM 3.0 tasks to an Amazon Braket device. We will go over each method in this section.\n",
    "\n",
    "\n",
    "### A Bell state\n",
    "\n",
    "We will start with by preparing a [Bell state](https://en.wikipedia.org/wiki/Bell_state) in OpenQASM:\n"
   ]
  },
  {
   "cell_type": "code",
   "execution_count": 2,
   "metadata": {},
   "outputs": [],
   "source": [
    "bell_qasm = \"\"\"\n",
    "OPENQASM 3;\n",
    "\n",
    "qubit[2] q;\n",
    "bit[2] c;\n",
    "\n",
    "h q[0];\n",
    "cnot q[0], q[1];\n",
    "\n",
    "c = measure q;\n",
    "\"\"\""
   ]
  },
  {
   "cell_type": "markdown",
   "metadata": {},
   "source": [
    "Compare this to the same Bell state written in JAQCD:"
   ]
  },
  {
   "cell_type": "code",
   "execution_count": 3,
   "metadata": {},
   "outputs": [
    {
     "name": "stdout",
     "output_type": "stream",
     "text": [
      "{\n",
      "  \"braketSchemaHeader\": {\n",
      "    \"name\": \"braket.ir.jaqcd.program\",\n",
      "    \"version\": \"1\"\n",
      "  },\n",
      "  \"instructions\": [\n",
      "    {\n",
      "      \"target\": 0,\n",
      "      \"type\": \"h\"\n",
      "    },\n",
      "    {\n",
      "      \"control\": 0,\n",
      "      \"target\": 1,\n",
      "      \"type\": \"cnot\"\n",
      "    }\n",
      "  ],\n",
      "  \"results\": null,\n",
      "  \"basis_rotation_instructions\": null\n",
      "}\n"
     ]
    }
   ],
   "source": [
    "from braket.ir.jaqcd import CNot, H, Program\n",
    "\n",
    "program = Program(instructions=[H(target=0), CNot(control=0, target=1)])\n",
    "print(program.json(indent=2))"
   ]
  },
  {
   "cell_type": "markdown",
   "metadata": {},
   "source": [
    "Immediately, we can see a difference: In OpenQASM, users define their own qubit registers, and thus the syntax is closer to what quantum algorithm researchers are used to; on the other hand, in JAQCD, qubits are indexed by integers and the convention is closer to that of hardware providers. Also, JAQCD has result types and basis rotation instructions embedded in the language while OpenQASM doesn't support them inherently (but later we will show how to use the `pragma` syntax to support them in OpenQASM)."
   ]
  },
  {
   "cell_type": "markdown",
   "metadata": {},
   "source": [
    "\n",
    "### Use the Python SDK to create OpenQASM 3.0 tasks\n",
    "\n",
    "Most Braket users might want to use the Braket Python SDK to submit OpenQASM tasks. To submit our Bell state program in the Python SDK, we first choose the quantum device that we want to run our  program on. In this example, we will use the SV1 state-vector simulator for demonstration."
   ]
  },
  {
   "cell_type": "code",
   "execution_count": 4,
   "metadata": {},
   "outputs": [],
   "source": [
    "import boto3\n",
    "import json\n",
    "from braket.aws import AwsDevice\n",
    "sv1 = AwsDevice(\"arn:aws:braket:::device/quantum-simulator/amazon/sv1\")"
   ]
  },
  {
   "cell_type": "markdown",
   "metadata": {},
   "source": [
    "To submit the OpenQASM task, we initialize an `OpenQASMProgram` object using the Bell state program text string `bell_qasm` we defined above and send it to the SV1 simulator."
   ]
  },
  {
   "cell_type": "code",
   "execution_count": 5,
   "metadata": {
    "scrolled": false
   },
   "outputs": [],
   "source": [
    "from braket.ir.openqasm import Program as OpenQASMProgram\n",
    "\n",
    "bell_program = OpenQASMProgram(source=bell_qasm)\n",
    "bell_task = sv1.run(\n",
    "    bell_program, \n",
    "    shots=100, \n",
    ")"
   ]
  },
  {
   "cell_type": "markdown",
   "metadata": {},
   "source": [
    "###  Submit OpenQASM 3.0 programs using the AWS Command Line Interface\n",
    "\n",
    "Alternatively, if you like the command line experience or you are not a Python user, you can also choose to use the [AWS Command Line Interface (CLI)](https://aws.amazon.com/cli/) to submit our Bell state program. Before doing that we have to make sure we have [AWS CLI installed](https://docs.aws.amazon.com/cli/latest/userguide/getting-started-install.html). The following code saves the `bell_qasm` string to a file named `bell.qasm`:"
   ]
  },
  {
   "cell_type": "code",
   "execution_count": 6,
   "metadata": {},
   "outputs": [],
   "source": [
    "with open(\"bell.qasm\", \"w\") as f:\n",
    "    f.write(bell_qasm)"
   ]
  },
  {
   "cell_type": "markdown",
   "metadata": {},
   "source": [
    "Then we can use the command below to submit the task via AWS CLI. Remember to replace the placeholder \\\"amazon-braket-my-bucket\\\" with your own bucket name.\n",
    "      \n",
    "    aws braket create-quantum-task \\\n",
    "    --region \"us-west-1\" \\\n",
    "    --device-arn \"arn:aws:braket:us-west-1::device/qpu/rigetti/Aspen-M-3\" \\\n",
    "    --shots 100 \\\n",
    "    --action '{\n",
    "        \"braketSchemaHeader\": {\n",
    "            \"name\": \"braket.ir.openqasm.program\", \n",
    "            \"version\": \"1\"\n",
    "        },\n",
    "        \"source\": $(cat bell.qasm)\n",
    "    }'"
   ]
  },
  {
   "cell_type": "markdown",
   "metadata": {},
   "source": [
    "## Figure out what OpenQASM features are supported on each device\n",
    "\n",
    "Different devices on Braket support different subsets of OpenQASM features. To see what are the supported OpenQASM features on each device, we can simply check the device capability for OpenQASM actions. As an example, we can take a look at the `action` field in the device capability of SV1 simulator:"
   ]
  },
  {
   "cell_type": "code",
   "execution_count": 7,
   "metadata": {},
   "outputs": [
    {
     "data": {
      "text/plain": [
       "['ccnot',\n",
       " 'cnot',\n",
       " 'cphaseshift',\n",
       " 'cphaseshift00',\n",
       " 'cphaseshift01',\n",
       " 'cphaseshift10',\n",
       " 'cswap',\n",
       " 'cy',\n",
       " 'cz',\n",
       " 'ecr',\n",
       " 'h',\n",
       " 'i',\n",
       " 'iswap',\n",
       " 'pswap',\n",
       " 'phaseshift',\n",
       " 'rx',\n",
       " 'ry',\n",
       " 'rz',\n",
       " 's',\n",
       " 'si',\n",
       " 'swap',\n",
       " 't',\n",
       " 'ti',\n",
       " 'v',\n",
       " 'vi',\n",
       " 'x',\n",
       " 'xx',\n",
       " 'xy',\n",
       " 'y',\n",
       " 'yy',\n",
       " 'z',\n",
       " 'zz',\n",
       " 'gpi',\n",
       " 'gpi2',\n",
       " 'ms']"
      ]
     },
     "execution_count": 7,
     "metadata": {},
     "output_type": "execute_result"
    }
   ],
   "source": [
    "# supportedOperations\n",
    "sv1.properties.action['braket.ir.openqasm.program'].supportedOperations"
   ]
  },
  {
   "cell_type": "code",
   "execution_count": 8,
   "metadata": {},
   "outputs": [
    {
     "data": {
      "text/plain": [
       "['braket_unitary_matrix',\n",
       " 'braket_basis_rotation',\n",
       " 'braket_result_type_sample',\n",
       " 'braket_result_type_expectation',\n",
       " 'braket_result_type_variance',\n",
       " 'braket_result_type_probability',\n",
       " 'braket_result_type_amplitude',\n",
       " 'braket_result_type_adjoint_gradient']"
      ]
     },
     "execution_count": 8,
     "metadata": {},
     "output_type": "execute_result"
    }
   ],
   "source": [
    "# supportedPragmas\n",
    "sv1.properties.action['braket.ir.openqasm.program'].supportedPragmas"
   ]
  },
  {
   "cell_type": "code",
   "execution_count": 9,
   "metadata": {},
   "outputs": [
    {
     "data": {
      "text/plain": [
       "['braket_result_type_state_vector',\n",
       " 'braket_result_type_density_matrix',\n",
       " 'braket_noise_amplitude_damping',\n",
       " 'braket_noise_bit_flip',\n",
       " 'braket_noise_depolarizing',\n",
       " 'braket_noise_kraus',\n",
       " 'braket_noise_pauli_channel',\n",
       " 'braket_noise_generalized_amplitude_damping',\n",
       " 'braket_noise_phase_flip',\n",
       " 'braket_noise_phase_damping',\n",
       " 'braket_noise_two_qubit_dephasing',\n",
       " 'braket_noise_two_qubit_depolarizing']"
      ]
     },
     "execution_count": 9,
     "metadata": {},
     "output_type": "execute_result"
    }
   ],
   "source": [
    "# forbiddenPragmas\n",
    "sv1.properties.action['braket.ir.openqasm.program'].forbiddenPragmas"
   ]
  },
  {
   "cell_type": "markdown",
   "metadata": {},
   "source": [
    "The SV1 OpenQASM `action` field lists supported/forbidden OpenQASM features on the device, including `supportedPragmas`, `forbiddenPragmas`, `maximumQubitArrays`, `maximumClassicalArrays`, `requiresAllQubitsMeasurement`, `supportedResultTypes`, etc. The names are self-evident, but readers are encouraged to visit the [Amazon Braket developer guide](https://docs.aws.amazon.com/braket/latest/developerguide/braket-using.html) for full information of what these fields mean."
   ]
  },
  {
   "cell_type": "markdown",
   "metadata": {},
   "source": [
    "# OpenQASM features on Braket\n",
    "\n",
    "Braket supports many useful OpenQASM features, either through the OpenQASM program syntax or Braket-specific pragmas. We will walk through some of these features in this section.\n",
    "\n",
    "## Simulating Noise with OpenQASM\n",
    "\n",
    "With the fully on-demand, high-performance, density-matrix simulator [DM1](https://docs.aws.amazon.com/braket/latest/developerguide/braket-devices.html#braket-simulator-dm1), you can easily investigate the effects of realistic noise on your quantum programs. Now, we show how to use OpenQASM programs to leverage the circuit-level noise simulation capability of DM1.\n",
    "\n",
    "To simulate noise, we have to be able to specify different noise channels. Although syntax for noise channels is not available in the OpenQASM language, Braket uses the `pragma` statement to extend OpenQASM for defining noise channels. Here is an example of an OpenQASM program that prepares a noisy 3-qubit [GHZ state](https://en.wikipedia.org/wiki/Greenberger%E2%80%93Horne%E2%80%93Zeilinger_state):"
   ]
  },
  {
   "cell_type": "code",
   "execution_count": 10,
   "metadata": {},
   "outputs": [],
   "source": [
    "noisy_ghz3_program = \"\"\"\n",
    "// noisy_ghz3.qasm\n",
    "// Prepare a 3 noisy qubit GHZ state\n",
    "OPENQASM 3;\n",
    "\n",
    "qubit[3] q;\n",
    "bit[3] c;\n",
    "\n",
    "h q[0];\n",
    "#pragma braket noise depolarizing(0.1) q[0]\n",
    "cnot q[0], q[1];\n",
    "#pragma braket noise depolarizing(0.1) q[0]\n",
    "#pragma braket noise depolarizing(0.1) q[1]\n",
    "cnot q[1], q[2];\n",
    "#pragma braket noise depolarizing(0.1) q[0]\n",
    "#pragma braket noise depolarizing(0.1) q[1]\n",
    "\n",
    "c = measure q;\n",
    "\"\"\""
   ]
  },
  {
   "cell_type": "markdown",
   "metadata": {},
   "source": [
    "In the example above, we inserted the depolarizing noise channel with probability of 0.1 after each gate in the circuit. The `noisy_ghz3_program` is equivalent to the following program in the Braket SDK:"
   ]
  },
  {
   "cell_type": "code",
   "execution_count": 11,
   "metadata": {},
   "outputs": [
    {
     "data": {
      "text/plain": [
       "Circuit('instructions': [Instruction('operator': H('qubit_count': 1), 'target': QubitSet([Qubit(0)])), Instruction('operator': Depolarizing(0.1), 'target': QubitSet([Qubit(0)])), Instruction('operator': CNot('qubit_count': 2), 'target': QubitSet([Qubit(0), Qubit(1)])), Instruction('operator': Depolarizing(0.1), 'target': QubitSet([Qubit(0)])), Instruction('operator': Depolarizing(0.1), 'target': QubitSet([Qubit(1)])), Instruction('operator': CNot('qubit_count': 2), 'target': QubitSet([Qubit(1), Qubit(2)])), Instruction('operator': Depolarizing(0.1), 'target': QubitSet([Qubit(1)])), Instruction('operator': Depolarizing(0.1), 'target': QubitSet([Qubit(2)]))])"
      ]
     },
     "execution_count": 11,
     "metadata": {},
     "output_type": "execute_result"
    }
   ],
   "source": [
    "from braket.circuits import Circuit, Observable, Gate, Noise, FreeParameter\n",
    "\n",
    "noisy_ghz3_circ = Circuit().h(0).cnot(0, 1).cnot(1, 2)\n",
    "noise = Noise.Depolarizing(probability=0.1)\n",
    "noisy_ghz3_circ.apply_gate_noise(noise)"
   ]
  },
  {
   "cell_type": "markdown",
   "metadata": {},
   "source": [
    "To see if `noisy_ghz3_program` and `noisy_ghz3_circ` are indeed the same, we can run both circuits and compare the results:"
   ]
  },
  {
   "cell_type": "code",
   "execution_count": 12,
   "metadata": {},
   "outputs": [],
   "source": [
    "dm1 = AwsDevice(\"arn:aws:braket:::device/quantum-simulator/amazon/dm1\")\n",
    "\n",
    "noisy_ghz3_circ_task = dm1.run(noisy_ghz3_circ, shots = 10)\n",
    "noisy_ghz3_program_task = dm1.run(OpenQASMProgram(source=noisy_ghz3_program), shots = 10)"
   ]
  },
  {
   "cell_type": "code",
   "execution_count": 13,
   "metadata": {},
   "outputs": [
    {
     "name": "stdout",
     "output_type": "stream",
     "text": [
      "sdk measurement results: Counter({'000': 6, '011': 2, '111': 1, '100': 1})\n",
      "openqasm measurement results: Counter({'100': 4, '111': 4, '000': 2})\n"
     ]
    }
   ],
   "source": [
    "sdk_result = noisy_ghz3_circ_task.result()\n",
    "openqasm_result = noisy_ghz3_program_task.result()\n",
    "sdk_measurement = sdk_result.measurement_counts\n",
    "openqasm_measurement = openqasm_result.measurement_counts\n",
    "print('sdk measurement results:', sdk_measurement)\n",
    "print('openqasm measurement results:', openqasm_measurement)"
   ]
  },
  {
   "cell_type": "markdown",
   "metadata": {},
   "source": [
    "As expected, the measurement counts of the two are very close.\n",
    "\n",
    "In addition to depolarizing noises, we can simulate more complicated noise types with Braket, e.g., `pauli_channel`, `amplitude_damping`, etc. Check the [Amazon Braket developer guide](https://docs.aws.amazon.com/braket/latest/developerguide/braket-using.html) for a complete list of noise channels supported on Braket. Here we give another example of general noise channels defined by the Kraus representation."
   ]
  },
  {
   "cell_type": "code",
   "execution_count": 14,
   "metadata": {},
   "outputs": [],
   "source": [
    "noisy_program_with_kraus_operators = \"\"\"\n",
    "// noisy_program_with_kraus_operators\n",
    "OPENQASM 3;\n",
    "\n",
    "qubit[2] q;\n",
    "bit[2] c;\n",
    "\n",
    "h q[0];\n",
    "#pragma braket noise kraus([[0.9486833, 0], [0, 0.9486833]], [[0, 0.31622777], [0.31622777, 0]]) q[0]\n",
    "cnot q[1], q[2];\n",
    "\n",
    "c = measure q;\n",
    "\"\"\""
   ]
  },
  {
   "cell_type": "markdown",
   "metadata": {},
   "source": [
    "We inserted a single qubit noise channel defined by two 2x2 complex Kraus operators in the example above on qubit `q[0]`. Braket will validate if the Kraus operators indeed form a Completely-Positive and Trace-Preserving (CPTP) map."
   ]
  },
  {
   "cell_type": "markdown",
   "metadata": {},
   "source": [
    "## Submitting parametrized tasks with OpenQASM\n",
    "\n",
    "The on-demand [SV1 simulator](https://docs.aws.amazon.com/braket/latest/developerguide/braket-devices.html#braket-simulator-sv1) and [DM1 simulator](https://docs.aws.amazon.com/braket/latest/developerguide/braket-devices.html#braket-simulator-dm1) support submitting OpenQASM programs with free parameters. You can set the value of the parameter when you submit the task, like so:"
   ]
  },
  {
   "cell_type": "code",
   "execution_count": 15,
   "metadata": {},
   "outputs": [],
   "source": [
    "parameter_qasm = \"\"\"\n",
    "OPENQASM 3.0;\n",
    "input float alpha;\n",
    "\n",
    "bit[2] b;\n",
    "qubit[2] q;\n",
    "\n",
    "h q[0];\n",
    "h q[1];\n",
    "rx(alpha) q[0];\n",
    "rx(alpha) q[1];\n",
    "b[0] = measure q[0];\n",
    "b[1] = measure q[1];\n",
    "\"\"\""
   ]
  },
  {
   "cell_type": "markdown",
   "metadata": {},
   "source": [
    "The `input float alpha` line indicates that we have an input parameter of type `float` named `alpha`. We can specify a value for `alpha` when we submit the task using the optional `inputs` argument to `run`. `input` should be a `dict` of `string`-`float` pairs."
   ]
  },
  {
   "cell_type": "code",
   "execution_count": 16,
   "metadata": {
    "scrolled": false
   },
   "outputs": [
    {
     "name": "stdout",
     "output_type": "stream",
     "text": [
      "Counter({'11': 4, '00': 4, '10': 2})\n"
     ]
    }
   ],
   "source": [
    "input_dict = {'alpha': 0.1}\n",
    "param_sv1_task = sv1.run(OpenQASMProgram(source=parameter_qasm), shots = 10, inputs=input_dict)\n",
    "param_sv1_result = param_sv1_task.result()\n",
    "print(param_sv1_result.measurement_counts)"
   ]
  },
  {
   "cell_type": "markdown",
   "metadata": {},
   "source": [
    "Similarly, we can specify values for parametrized noise operations:"
   ]
  },
  {
   "cell_type": "code",
   "execution_count": 17,
   "metadata": {},
   "outputs": [],
   "source": [
    "parameter_noise_qasm = \"\"\"\n",
    "OPENQASM 3.0;\n",
    "input float beta;\n",
    "input float alpha;\n",
    "bit[2] b;\n",
    "qubit[2] q;\n",
    "h q[0];\n",
    "h q[1];\n",
    "rx(alpha) q[0];\n",
    "rx(alpha) q[1];\n",
    "#pragma braket noise bit_flip(beta) q[0]\n",
    "b[0] = measure q[0];\n",
    "b[1] = measure q[1];\n",
    "\"\"\""
   ]
  },
  {
   "cell_type": "markdown",
   "metadata": {},
   "source": [
    "We can see there are now two `input` lines, one for each free parameter."
   ]
  },
  {
   "cell_type": "code",
   "execution_count": 18,
   "metadata": {},
   "outputs": [
    {
     "name": "stdout",
     "output_type": "stream",
     "text": [
      "Counter({'11': 4, '01': 3, '00': 2, '10': 1})\n"
     ]
    }
   ],
   "source": [
    "noise_input_dict = {'alpha': 0.1, 'beta': 0.2}\n",
    "param_dm1_task = dm1.run(OpenQASMProgram(source=parameter_qasm), shots = 10, inputs=noise_input_dict)\n",
    "param_dm1_result = param_dm1_task.result()\n",
    "print(param_dm1_result.measurement_counts)"
   ]
  },
  {
   "cell_type": "markdown",
   "metadata": {},
   "source": [
    "## Simulating arbitrary unitaries with OpenQASM\n",
    "\n",
    "The on-demand [SV1 simulator](https://docs.aws.amazon.com/braket/latest/developerguide/braket-devices.html#braket-simulator-sv1) allows us to simulate arbitrary unitary gates in a circuit. With OpenQASM, we can use the `unitary` pramga to insert these arbitrary unitary gates: "
   ]
  },
  {
   "cell_type": "code",
   "execution_count": 19,
   "metadata": {},
   "outputs": [],
   "source": [
    "program_with_unitary = \"\"\"\n",
    "// noisy_program_with_kraus_operators\n",
    "OPENQASM 3;\n",
    "\n",
    "qubit q;\n",
    "bit c;\n",
    "\n",
    "#pragma braket unitary([[0, -1im], [1im, 0]]) q\n",
    "c = measure q;\n",
    "\"\"\""
   ]
  },
  {
   "cell_type": "markdown",
   "metadata": {},
   "source": [
    "The `1im` in the `unitary` pragma is the OpenQASM notation of the imaginary number $i$, thus, we were simply using the pragma to perform a Pauli Y gate. We can check it by submitting the above program to SV1."
   ]
  },
  {
   "cell_type": "code",
   "execution_count": 20,
   "metadata": {},
   "outputs": [
    {
     "name": "stdout",
     "output_type": "stream",
     "text": [
      "Counter({'1': 10})\n"
     ]
    }
   ],
   "source": [
    "unitary_task = sv1.run(OpenQASMProgram(source=program_with_unitary), shots = 10)\n",
    "unitary_result = unitary_task.result()\n",
    "print(unitary_result.measurement_counts)"
   ]
  },
  {
   "cell_type": "markdown",
   "metadata": {},
   "source": [
    "As expected, the Pauli Y gate flipped the initial 0 state to the 1 state."
   ]
  },
  {
   "cell_type": "markdown",
   "metadata": {},
   "source": [
    "## Qubit Rewiring with OpenQASM\n",
    "\n",
    "Amazon Braket supports the [physical qubit notation within OpenQASM](https://openqasm.com/language/types.html#physical-qubits) on Rigetti devices. When using physical qubits, you have to ensure that the qubits are indeed connected on the selected device. Alternatively, if qubit registers are used instead, the `PARTIAL` rewiring strategy is enabled by default on Rigetti devices. The following example shows how to use physical qubit notation in an OpenQASM program:"
   ]
  },
  {
   "cell_type": "code",
   "execution_count": 21,
   "metadata": {},
   "outputs": [],
   "source": [
    "ghz_program_with_physical_qubits = \"\"\"\n",
    "// Prepare a GHZ state\n",
    "OPENQASM 3;\n",
    "\n",
    "bit[3] ro;\n",
    "h $0;\n",
    "cnot $0, $1;\n",
    "cnot $1, $2;\n",
    "ro[0] = measure $0;\n",
    "ro[1] = measure $1;\n",
    "ro[2] = measure $2;\n",
    "\"\"\""
   ]
  },
  {
   "cell_type": "markdown",
   "metadata": {},
   "source": [
    "We can run the above program on the Rigetti Aspen-M-3 device,"
   ]
  },
  {
   "cell_type": "code",
   "execution_count": 23,
   "metadata": {},
   "outputs": [
    {
     "name": "stdout",
     "output_type": "stream",
     "text": [
      "Measured qubits: [0, 1, 2]\n"
     ]
    }
   ],
   "source": [
    "# choose the quantum device\n",
    "aspen_m = AwsDevice(\"arn:aws:braket:us-west-1::device/qpu/rigetti/Aspen-M-3\")\n",
    "\n",
    "ghz_program_with_physical_qubits_task = aspen_m.run(OpenQASMProgram(source=ghz_program_with_physical_qubits), shots = 10)\n",
    "measured_qubits = ghz_program_with_physical_qubits_task.result().measured_qubits\n",
    "print(\"Measured qubits:\", measured_qubits)"
   ]
  },
  {
   "cell_type": "markdown",
   "metadata": {},
   "source": [
    "As we can see, physical qubits 0, 1 and 2 are indeed being used and measured."
   ]
  },
  {
   "cell_type": "markdown",
   "metadata": {},
   "source": [
    "<div class=\"alert alert-block alert-info\">\n",
    "    <b>Note:</b> This section and the next verbatim box section uses the Rigetti Aspen-M-3 device. When you run this notebook, make sure the device is currently available. You can find QPU availability windows on the <a href=\"https://us-west-1.console.aws.amazon.com/braket/home?region=us-west-1#/devices\">Devices page</a> in the Amazon Braket Console\n",
    "</div>"
   ]
  },
  {
   "cell_type": "markdown",
   "metadata": {},
   "source": [
    "## Verbatim Compilation with OpenQASM\n",
    "\n",
    "In [a previous example notebook](https://github.com/aws/amazon-braket-examples/blob/main/examples/braket_features/Verbatim_Compilation.ipynb), we talked about verbatim compilation on Braket to gain more precise control on Rigetti devices. With OpenQASM3.0, we can use the `box` syntax together with the `verbatim` pragma to perform verbatim compilation. Here is an example:"
   ]
  },
  {
   "cell_type": "code",
   "execution_count": 24,
   "metadata": {},
   "outputs": [],
   "source": [
    "program_with_verbatim_box = \"\"\"\n",
    "OPENQASM 3;\n",
    "\n",
    "bit[2] ro;\n",
    "#pragma braket verbatim\n",
    "box{\n",
    " rx(3.141592653589793) $0;\n",
    " rx(3.141592653589793) $0;\n",
    " cz $0, $1;\n",
    "}\n",
    "ro[0] = measure $0;\n",
    "ro[1] = measure $1;\n",
    "\"\"\""
   ]
  },
  {
   "cell_type": "markdown",
   "metadata": {},
   "source": [
    "To program with verbatim boxes, we need to make sure that\n",
    "- we are using native gates supported by Rigetti devices. Native gates can be found using the following script:\n"
   ]
  },
  {
   "cell_type": "code",
   "execution_count": 25,
   "metadata": {},
   "outputs": [
    {
     "name": "stdout",
     "output_type": "stream",
     "text": [
      "The native gates for the Aspen-M-3 device are:\n",
      "rx\n",
      "rz\n",
      "cz\n",
      "cphaseshift\n",
      "xy\n"
     ]
    }
   ],
   "source": [
    "print(\"The native gates for the\", aspen_m.name, \"device are:\")\n",
    "for gate in aspen_m.properties.paradigm.nativeGateSet:\n",
    "    print(gate)"
   ]
  },
  {
   "cell_type": "markdown",
   "metadata": {},
   "source": [
    "- we use the physical qubit notation.\n",
    "- qubit operands are indeed connected on the physical device. Recall that the device qubit connectivity can be found using the following commands:"
   ]
  },
  {
   "cell_type": "code",
   "execution_count": 26,
   "metadata": {},
   "outputs": [
    {
     "name": "stdout",
     "output_type": "stream",
     "text": [
      "{'0': ['1', '7'], '1': ['0', '16', '2'], '10': ['11', '113', '17'], '100': ['101', '107'], '101': ['100', '102', '116'], '102': ['101', '103', '115'], '103': ['102', '104'], '104': ['103', '105', '7'], '105': ['104', '106'], '106': ['105', '107'], '107': ['100', '106'], '11': ['10', '12', '26'], '110': ['111', '117'], '111': ['110', '112', '126'], '112': ['111', '113', '125'], '113': ['10', '112', '114'], '114': ['113', '115', '17'], '115': ['102', '114', '116'], '116': ['101', '115', '117'], '117': ['110', '116'], '12': ['11', '13', '25'], '120': ['121', '127'], '121': ['120', '122', '136'], '122': ['121', '123', '135'], '123': ['122', '124', '20'], '124': ['123', '125', '27'], '125': ['112', '124', '126'], '126': ['111', '125', '127'], '127': ['120', '126'], '13': ['12', '14'], '130': ['131', '137'], '131': ['130', '132', '146'], '132': ['131', '133', '145'], '133': ['132', '134', '30'], '134': ['133', '135', '37'], '135': ['122', '134', '136'], '136': ['121', '135', '137'], '137': ['130', '136'], '14': ['13', '15'], '140': ['141', '147'], '141': ['140', '142'], '142': ['141', '143'], '143': ['142', '144', '40'], '144': ['143', '145', '47'], '145': ['132', '144', '146'], '146': ['131', '145', '147'], '147': ['140', '146'], '15': ['14', '16', '2'], '16': ['1', '15', '17'], '17': ['10', '16', '114'], '2': ['1', '15', '3'], '20': ['123', '21', '27'], '21': ['20', '22', '36'], '22': ['21', '23', '35'], '23': ['22', '24'], '24': ['23', '25'], '25': ['12', '24', '26'], '26': ['11', '25', '27'], '27': ['20', '26', '124'], '3': ['2', '4'], '30': ['133', '31', '37'], '31': ['30', '32', '46'], '32': ['31', '33', '45'], '33': ['32', '34'], '34': ['33', '35'], '35': ['22', '34', '36'], '36': ['21', '35', '37'], '37': ['30', '36', '134'], '4': ['3', '5'], '40': ['143', '41', '47'], '41': ['40', '42'], '42': ['41', '43'], '43': ['42', '44'], '44': ['43', '45'], '45': ['32', '44', '46'], '46': ['31', '45', '47'], '47': ['40', '46', '144'], '5': ['4', '6'], '6': ['5', '7'], '7': ['0', '6', '104']}\n"
     ]
    },
    {
     "data": {
      "image/png": "[encoded data removed]",
      "text/plain": [
       "<Figure size 432x288 with 1 Axes>"
      ]
     },
     "metadata": {},
     "output_type": "display_data"
    }
   ],
   "source": [
    "import networkx as nx\n",
    "# access and visualize the device topology\n",
    "print(aspen_m.properties.paradigm.connectivity.connectivityGraph)\n",
    "nx.draw_kamada_kawai(aspen_m.topology_graph, with_labels=True, font_color=\"white\")"
   ]
  },
  {
   "cell_type": "markdown",
   "metadata": {},
   "source": [
    "Now we can submit a task of the above program with verbatim box."
   ]
  },
  {
   "cell_type": "code",
   "execution_count": 27,
   "metadata": {
    "scrolled": true
   },
   "outputs": [
    {
     "name": "stdout",
     "output_type": "stream",
     "text": [
      "DECLARE ro BIT[2]\n",
      "PRAGMA INITIAL_REWIRING \"NAIVE\"\n",
      "RESET\n",
      "RX(pi) 0\n",
      "RX(pi) 0\n",
      "CZ 0 1\n",
      "MEASURE 1 ro[1]\n",
      "MEASURE 0 ro[0]\n",
      "\n"
     ]
    }
   ],
   "source": [
    "verbatim_task = aspen_m.run(OpenQASMProgram(source=program_with_verbatim_box), shots = 10)\n",
    "verbatim_result = verbatim_task.result()\n",
    "meta = verbatim_result.additional_metadata.rigettiMetadata\n",
    "print(meta.compiledProgram)\n"
   ]
  },
  {
   "cell_type": "markdown",
   "metadata": {},
   "source": [
    "As shown above, the two consecutive `rx`  $\\pi$-rotation gates did not get optimized and we confirm that our program was indeed executed verbatim."
   ]
  },
  {
   "cell_type": "markdown",
   "metadata": {},
   "source": [
    "## Requesting Result Types with OpenQASM\n",
    "\n",
    "Braket provides [a rich library of result types](https://docs.aws.amazon.com/braket/latest/developerguide/braket-result-types.html) for circuit executions. With OpenQASM, requesting different result types for our tasks is easier than ever using the `result` pragma. Next, we give an example of requesting result types for our Bell state program submitted to SV1. Before doing that, let's see what result types are supported on SV1:"
   ]
  },
  {
   "cell_type": "code",
   "execution_count": 28,
   "metadata": {},
   "outputs": [
    {
     "name": "stdout",
     "output_type": "stream",
     "text": [
      "name='Sample' observables=['x', 'y', 'z', 'h', 'i', 'hermitian'] minShots=1 maxShots=100000\n",
      "name='Expectation' observables=['x', 'y', 'z', 'h', 'i', 'hermitian'] minShots=0 maxShots=100000\n",
      "name='Variance' observables=['x', 'y', 'z', 'h', 'i', 'hermitian'] minShots=0 maxShots=100000\n",
      "name='Probability' observables=None minShots=1 maxShots=100000\n",
      "name='Amplitude' observables=None minShots=0 maxShots=0\n",
      "name='AdjointGradient' observables=['x', 'y', 'z', 'h', 'i'] minShots=0 maxShots=0\n"
     ]
    }
   ],
   "source": [
    "# print the result types supported by SV1\n",
    "for iter in sv1.properties.action['braket.ir.openqasm.program'].supportedResultTypes:\n",
    "    print(iter)"
   ]
  },
  {
   "cell_type": "markdown",
   "metadata": {},
   "source": [
    "With knowing the supported result types on SV1, we choose to request the `Expectation` of $X \\otimes Z$ observable on `q[0]` and `q[1]` and the `Amplitude` result type for a `shots=0` task of our bell program:"
   ]
  },
  {
   "cell_type": "code",
   "execution_count": 29,
   "metadata": {},
   "outputs": [],
   "source": [
    "bell_with_result_type = \"\"\"\n",
    "OPENQASM 3;\n",
    "\n",
    "qubit[2] q;\n",
    "\n",
    "#pragma braket result expectation x(q[0]) @ z(q[1])\n",
    "#pragma braket result amplitude \"00\", \"11\"\n",
    "h q[0];\n",
    "cnot q[0], q[1];\n",
    "\"\"\""
   ]
  },
  {
   "cell_type": "markdown",
   "metadata": {},
   "source": [
    "The location of the `result` pragma is very flexible as long as it's after the qubit register definition (if you use physical qubits, you can put `result` pragmas anywhere after the program header).\n",
    "\n",
    "We can submit the above program and receive the results for our requested result types."
   ]
  },
  {
   "cell_type": "code",
   "execution_count": 30,
   "metadata": {},
   "outputs": [
    {
     "name": "stdout",
     "output_type": "stream",
     "text": [
      "[0.0, {'00': (0.7071067811865475+0j), '11': (0.7071067811865475+0j)}]\n"
     ]
    }
   ],
   "source": [
    "bell_result_types_task = sv1.run(OpenQASMProgram(source=bell_with_result_type), shots = 0)\n",
    "bell_result = bell_result_types_task.result()\n",
    "values = bell_result.values\n",
    "print(values)"
   ]
  },
  {
   "cell_type": "markdown",
   "metadata": {},
   "source": [
    "At last, we want to remind our Braket OpenQASM users that there are two requirements when requesting result types:\n",
    "1. For `shots=0` tasks, requesting non-simultaneously measurable result types is allowed, but for `shots>0` tasks, it is not allowed. For example, we can write the following OpenQASM program in a `shots=0` task but not in a `shots>0` task, since the two result types are not simultaneously measurable:"
   ]
  },
  {
   "cell_type": "code",
   "execution_count": 31,
   "metadata": {},
   "outputs": [],
   "source": [
    "program_with_non_simultaneously_measurable_result_types = \"\"\"\n",
    "OPENQASM 3;\n",
    "\n",
    "qubit[2] q;\n",
    "\n",
    "h q[0];\n",
    "cnot q[0], q[1];\n",
    "\n",
    "#pragma braket result expectation x(q[0]) @ z(q[1])\n",
    "#pragma braket result expectation hermitian([[0, -1im], [1im, 0]]) q[0]\n",
    "\"\"\""
   ]
  },
  {
   "cell_type": "markdown",
   "metadata": {},
   "source": [
    "2. Do not use measurement instructions and request result types in the same OpenQASM program, otherwise a validation error will be raised. Since measurement instructions are basically equivalent to `#pragma braket result sample z(qubit)`, we encourage users to adapt a consistent style of requesting result types in the same program."
   ]
  },
  {
   "cell_type": "markdown",
   "metadata": {},
   "source": [
    "# Conclusion\n",
    "\n",
    "In this notebook, you learned how to submit OpenQASM tasks and use OpenQASM features on Braket. Hope you enjoyed it! You can find more information about OpenQASM3.0 in its [live specification](https://openqasm.com/), and you can learn more about OpenQASM support on Braket in the [Amazon Braket documentation](https://docs.aws.amazon.com/braket/latest/developerguide/)."
   ]
  },
  {
   "cell_type": "code",
   "execution_count": 32,
   "metadata": {},
   "outputs": [
    {
     "name": "stdout",
     "output_type": "stream",
     "text": [
      "Task Summary\n",
      "{'arn:aws:braket:::device/quantum-simulator/amazon/sv1': {'shots': 120, 'tasks': {'CREATED': 1, 'COMPLETED': 3}, 'execution_duration': datetime.timedelta(microseconds=14000), 'billed_execution_duration': datetime.timedelta(seconds=9)}, 'arn:aws:braket:::device/quantum-simulator/amazon/dm1': {'shots': 30, 'tasks': {'COMPLETED': 3}, 'execution_duration': datetime.timedelta(microseconds=264000), 'billed_execution_duration': datetime.timedelta(seconds=9)}, 'arn:aws:braket:us-west-1::device/qpu/rigetti/Aspen-M-3': {'shots': 20, 'tasks': {'COMPLETED': 2}}}\n",
      "Note: Charges shown are estimates based on your Amazon Braket simulator and quantum processing unit (QPU) task usage. Estimated charges shown may differ from your actual charges. Estimated charges do not factor in any discounts or credits, and you may experience additional charges based on your use of other services such as Amazon Elastic Compute Cloud (Amazon EC2).\n",
      "Estimated cost to run this example: 0.63 USD\n"
     ]
    }
   ],
   "source": [
    "print(\"Task Summary\")\n",
    "print(t.quantum_tasks_statistics())\n",
    "print('Note: Charges shown are estimates based on your Amazon Braket simulator and quantum processing unit (QPU) task usage. Estimated charges shown may differ from your actual charges. Estimated charges do not factor in any discounts or credits, and you may experience additional charges based on your use of other services such as Amazon Elastic Compute Cloud (Amazon EC2).')\n",
    "print(f\"Estimated cost to run this example: {t.qpu_tasks_cost() + t.simulator_tasks_cost():.2f} USD\")"
   ]
  },
  {
   "cell_type": "code",
   "execution_count": null,
   "metadata": {},
   "outputs": [],
   "source": []
  }
 ],
 "metadata": {
  "kernelspec": {
   "display_name": "Python 3",
   "language": "python",
   "name": "python3"
  },
  "language_info": {
   "codemirror_mode": {
    "name": "ipython",
    "version": 3
   },
   "file_extension": ".py",
   "mimetype": "text/x-python",
   "name": "python",
   "nbconvert_exporter": "python",
   "pygments_lexer": "ipython3",
   "version": "3.8.15"
  },
  "vscode": {
   "interpreter": {
    "hash": "590fab68195cf107911461461f81d5c472d3d6127f579badfcfad30f03e5cab2"
   }
  }
 },
 "nbformat": 4,
 "nbformat_minor": 5
}