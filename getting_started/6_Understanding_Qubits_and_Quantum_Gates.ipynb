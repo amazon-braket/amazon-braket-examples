{
 "cells": [
  {
   "cell_type": "markdown",
   "metadata": {},
   "source": [
    "# Understanding Qubits and Quantum Gates\n",
    "\n",
    "## What are Qubits ?\n",
    "\n",
    "The bit is the fundamental concept of classical computation and classical information. Quantum computation and quantum information are built upon an analogous concept, the quantum bit, or _qubit_ for short.\n",
    "\n",
    "Physical implementations of Qubits vary depending on the type of technology used for the Quantum Computer. For this text, we'll consider Qubits as abstract mathematical objects. \n",
    "\n",
    "Just as a classical bit has a state – either 0 or 1 – a qubit also has a state. Two possible basis states for a qubit are the states $|0\\rangle$ and $|1\\rangle$ - as represented in [_Bra-Ket or Dirac notation_](https://en.wikipedia.org/wiki/Bra%E2%80%93ket_notation). The state of the qubit is a unit vector in a two-dimensional complex vector space and the two basis states are represented as : \n",
    "\n",
    "$$ |0\\rangle = \\begin{bmatrix} 1 \\\\ 0 \\end{bmatrix} $$\n",
    "\n",
    "$$ |1\\rangle = \\begin{bmatrix} 0 \\\\ 1 \\end{bmatrix} $$\n",
    "\n",
    "\n",
    "\n"
   ]
  },
  {
   "cell_type": "markdown",
   "metadata": {},
   "source": [
    "The difference between bits and qubits is that a qubit can be in a state other than $|0\\rangle$ or $|1\\rangle$. It is also possible to form linear combinations of states called superpositions. \n",
    "\n",
    "$$ |\\psi\\rangle = \\alpha|0\\rangle + \\beta|1\\rangle $$"
   ]
  },
  {
   "cell_type": "markdown",
   "metadata": {},
   "source": [
    "The numbers $\\alpha$ and $\\beta$ are complex numbers. \n",
    "\n",
    "Quantum Mechanics tells us that we cannot examine a qubit to determine its quantum state, that is, the values of $\\alpha$ and $\\beta$. \n",
    "\n",
    "When we measure (observe) any qubit we get either $|0\\rangle$ or $|1\\rangle$ - and the values of $\\alpha$ and $\\beta$ determine the probabilities of these outcomes. We get result $|0\\rangle$, with probability $|\\alpha|^2$, or the result $|1\\rangle$, with probability $|\\beta|^2$.   Since all probabilities sum to 1,  $|\\alpha|^2 + |\\beta|^2 = 1$."
   ]
  },
  {
   "cell_type": "markdown",
   "metadata": {},
   "source": [
    "The ability of a qubit to be in a superposition state lies at the heart of quantum computation and quantum information. \n",
    "\n",
    "For example: One such common state is $\\frac{|0\\rangle +|1\\rangle}{\\sqrt 2}$ represented as $|+\\rangle$ - which when measured gives $|0\\rangle$ 50% of the time and $|1\\rangle$ 50% of the time."
   ]
  },
  {
   "cell_type": "markdown",
   "metadata": {},
   "source": [
    "## Bloch sphere representation\n",
    "\n",
    "Qubits are decribed in the following geometric representation called Bloch Sphere. It provides a useful means of visualizing the state of a single qubit. Vector point at north pole is $|0\\rangle$ and south pole is $|1\\rangle$. \n",
    "\n",
    "![bloch](./images/bloch.png)\n",
    "\n",
    "Many of the operations on single qubits are neatly described within the Bloch sphere picture. However, it must be kept in mind that this intuition is limited because there is no simple generalization of the Bloch sphere known for multiple qubits.  \n",
    "\n",
    "\n"
   ]
  },
  {
   "cell_type": "markdown",
   "metadata": {},
   "source": [
    "---"
   ]
  },
  {
   "cell_type": "markdown",
   "metadata": {},
   "source": [
    "## Quantum Gates\n",
    "\n",
    "Similar to the way a classical computer is built from an electrical circuit containing wires and logic gates, a quantum computer is built from a _quantum circuit_ containing wires and elementary _quantum gates_ to carry around and manipulate the quantum information. \n",
    "\n",
    "\n",
    "Quantum Gates allow us manipulate Qubit states. A quantum gate has to be unitary, that is, it must preserve distances and be reversible.\n",
    "\n",
    "Mathematically they are represented as matrices and can be visualized as rotations on the Bloch spehere. \n",
    "\n"
   ]
  },
  {
   "cell_type": "markdown",
   "metadata": {},
   "source": [
    "### Let's use Amazon Braket SDK to explore some of these Gates"
   ]
  },
  {
   "cell_type": "markdown",
   "metadata": {},
   "source": [
    "First we import some modules we will need."
   ]
  },
  {
   "cell_type": "code",
   "execution_count": 1,
   "metadata": {},
   "outputs": [],
   "source": [
    "from braket.circuits import Circuit\n",
    "from braket.devices import LocalSimulator"
   ]
  },
  {
   "cell_type": "markdown",
   "metadata": {},
   "source": [
    "### Circuit definition\n",
    "\n",
    "Let's get started with a simple circuit consisting 1 qubit. We can then visualize our circuit by simplying calling the `print` function.\n",
    "\n",
    "\n",
    "We'll use an `Identity` gate - which doesn't do anything. The Identity gate - $I$ - is represented by the identity matrix  $I = \\begin{bmatrix} 1 & 0 \\\\ 0 & 1 \\end{bmatrix}$ "
   ]
  },
  {
   "cell_type": "code",
   "execution_count": 2,
   "metadata": {},
   "outputs": [
    {
     "name": "stdout",
     "output_type": "stream",
     "text": [
      "T  : |0|\n",
      "        \n",
      "q0 : -I-\n",
      "\n",
      "T  : |0|\n"
     ]
    }
   ],
   "source": [
    "qc = Circuit().i(0)\n",
    "print(qc)"
   ]
  },
  {
   "cell_type": "markdown",
   "metadata": {},
   "source": [
    "We'll set the device to the LocalSimulator provided by the Amazon Braket SDK, and run the simulation.\n",
    "The initial state is always `0`. We are performing 100 shot and measuring the results. As expected we should get all 100 runs with result of `0`"
   ]
  },
  {
   "cell_type": "code",
   "execution_count": 3,
   "metadata": {},
   "outputs": [
    {
     "name": "stdout",
     "output_type": "stream",
     "text": [
      "Counter({'0': 100})\n"
     ]
    }
   ],
   "source": [
    "device = LocalSimulator()\n",
    "task = device.run(qc, shots=100)\n",
    "result = task.result()\n",
    "print(result.measurement_counts)"
   ]
  },
  {
   "cell_type": "markdown",
   "metadata": {},
   "source": [
    "---\n",
    "\n",
    "Now let's look at some of the common gates and how they transform the qubit state"
   ]
  },
  {
   "cell_type": "markdown",
   "metadata": {},
   "source": [
    "### NOT Gate / Pauli-X Gate\n",
    "\n",
    "The NOT gate ( Pauli-X gate ) takes the state $|0\\rangle$ to $|1\\rangle$ and vice versa. It is represented by the matrix $ X = \\begin{bmatrix} 0 & 1 \\\\ 1 & 0 \\end{bmatrix} $. On the Bloch sphere this is a rotation of $\\pi$ radians around X axis - as shown by the below animation. \n",
    "\n",
    "![X](./images/X.gif)"
   ]
  },
  {
   "cell_type": "markdown",
   "metadata": {},
   "source": [
    "Let's apply the `NOT` gate to our qubit and measure the results. We get result `1` for all 100 shots."
   ]
  },
  {
   "cell_type": "code",
   "execution_count": 4,
   "metadata": {},
   "outputs": [
    {
     "name": "stdout",
     "output_type": "stream",
     "text": [
      "T  : |0|\n",
      "        \n",
      "q0 : -X-\n",
      "\n",
      "T  : |0|\n",
      "Counter({'1': 100})\n"
     ]
    }
   ],
   "source": [
    "qc = Circuit().x(0)\n",
    "print(qc)\n",
    "device = LocalSimulator()\n",
    "task = device.run(qc, shots=100)\n",
    "result = task.result()\n",
    "print(result.measurement_counts)"
   ]
  },
  {
   "cell_type": "markdown",
   "metadata": {},
   "source": [
    "### Y Gate\n",
    "\n",
    "Y-gate is a rotation of $\\pi$ around y-axis. The matrix for Y-gate is $ Y = \\begin{bmatrix} 0 & -i \\\\ i & 0 \\end{bmatrix}$\n",
    "![Y](./images/Y.gif)"
   ]
  },
  {
   "cell_type": "markdown",
   "metadata": {},
   "source": [
    "### Z Gate\n",
    "Z-gate is a rotation of $\\pi$ around z-axis. The matrix for Z-gate is $Z = \\begin{bmatrix} 1 & 0 \\\\ 0 & -1 \\end{bmatrix}$\n",
    "![Z](./images/Z.gif)"
   ]
  },
  {
   "cell_type": "markdown",
   "metadata": {},
   "source": [
    "### Hadamard Gate\n",
    "The Hadamard gate is one of the most useful quantum gates, and it is worth trying to visualize its operation by considering the Bloch sphere picture. This can be thought of as a $\\pi$ rotation around the Bloch vector `[1,0,1]` (the line between the x & z-axis). \n",
    "\n",
    "This is the gate that creates the superposition of $|0\\rangle$ and $|1\\rangle$. Matrix for Hadamard is $ H = \\tfrac{1}{\\sqrt{2}}\\begin{bmatrix} 1 & 1 \\\\ 1 & -1 \\end{bmatrix} $ \n",
    "\n",
    "\n",
    "It takes $|0\\rangle$ to $\\frac{|0\\rangle +|1\\rangle}{\\sqrt 2}$ ( represented as $|+\\rangle$ ) .... and back  \n",
    "\n",
    "It takes $|1\\rangle$ to $\\frac{|0\\rangle -|1\\rangle}{\\sqrt 2}$ ( represented as $|-\\rangle$ ) .... and back  \n",
    "\n",
    "![H](./images/H.gif)"
   ]
  },
  {
   "cell_type": "markdown",
   "metadata": {},
   "source": [
    "Let's apply the `Hadamard` gate to our qubit and measure the results. We should get roughly 50% of `0` & 50% of `1`"
   ]
  },
  {
   "cell_type": "code",
   "execution_count": 5,
   "metadata": {},
   "outputs": [
    {
     "name": "stdout",
     "output_type": "stream",
     "text": [
      "T  : |0|\n",
      "        \n",
      "q0 : -H-\n",
      "\n",
      "T  : |0|\n",
      "Counter({'0': 51, '1': 49})\n"
     ]
    }
   ],
   "source": [
    "qc = Circuit().h(0)\n",
    "print(qc)\n",
    "device = LocalSimulator()\n",
    "task = device.run(qc, shots=100)\n",
    "result = task.result()\n",
    "print(result.measurement_counts)"
   ]
  },
  {
   "cell_type": "markdown",
   "metadata": {},
   "source": [
    "---"
   ]
  },
  {
   "cell_type": "markdown",
   "metadata": {},
   "source": [
    "## Multiple Qubits\n",
    "\n",
    "Now let's venture beyond single qubits... \n",
    "\n",
    "\n",
    "If we had two classical bits, then there would be four possible states, 00, 01, 10, and 11. \n",
    "\n",
    "\n",
    "Correspondingly, a two qubit system has four computational basis states denoted $|00\\rangle,|01\\rangle,|10\\rangle,|11\\rangle$\n",
    "\n",
    "\n",
    "A pair of qubits can also exist in superpositions of these four states and in general can be represented as:\n",
    "\n",
    "$$ |\\psi\\rangle = a|00\\rangle + b|01\\rangle + c|10\\rangle + d|11\\rangle $$\n",
    "\n",
    "where, $$|a|^2 + |b|^2 + |c|^2 + |d|^2 = 1$$"
   ]
  },
  {
   "cell_type": "markdown",
   "metadata": {},
   "source": [
    "---"
   ]
  },
  {
   "cell_type": "markdown",
   "metadata": {},
   "source": [
    "Let's apply `Hadamard` gates to 2 qubits and measure the results. We should get roughly equal outcome of all 4 states ( 25%) \n",
    "\n",
    "$$\\frac{|00\\rangle + |01\\rangle + |10\\rangle +|11\\rangle}{2}$$"
   ]
  },
  {
   "cell_type": "code",
   "execution_count": 6,
   "metadata": {},
   "outputs": [
    {
     "name": "stdout",
     "output_type": "stream",
     "text": [
      "T  : |0|\n",
      "        \n",
      "q0 : -H-\n",
      "        \n",
      "q1 : -H-\n",
      "\n",
      "T  : |0|\n",
      "Counter({'11': 32, '10': 31, '01': 23, '00': 14})\n"
     ]
    }
   ],
   "source": [
    "qc = Circuit().h(0).h(1)\n",
    "print(qc)\n",
    "device = LocalSimulator()\n",
    "task = device.run(qc, shots=100)\n",
    "result = task.result()\n",
    "print(result.measurement_counts)"
   ]
  },
  {
   "cell_type": "markdown",
   "metadata": {},
   "source": [
    "## 2-Qubit Gates\n",
    "\n",
    "### CNOT Gate \n",
    "\n",
    "An important two-qubit gate is the CNOT-gate or _Controlled-NOT_ gate. This gate has two input qubits, known as the control qubit and the target qubit, respectively. The action of the gate may be described as follows. If the control qubit is set to 0, then the target qubit is left alone. If the control qubit is set to 1, then the target qubit is flipped. In equations:\n",
    " $$ |00\\rangle → |00\\rangle$$\n",
    " $$ |01\\rangle → |01\\rangle$$\n",
    " $$ |10\\rangle → |11\\rangle$$\n",
    " $$ |11\\rangle → |10\\rangle$$\n",
    " \n",
    " \n"
   ]
  },
  {
   "cell_type": "markdown",
   "metadata": {},
   "source": [
    "Let's make use of the `CNOT` gate in a circuit. "
   ]
  },
  {
   "cell_type": "code",
   "execution_count": 7,
   "metadata": {},
   "outputs": [
    {
     "name": "stdout",
     "output_type": "stream",
     "text": [
      "T  : |0|1|\n",
      "          \n",
      "q0 : -I-C-\n",
      "        | \n",
      "q1 : -I-X-\n",
      "\n",
      "T  : |0|1|\n",
      "Counter({'00': 100})\n"
     ]
    }
   ],
   "source": [
    "qc = Circuit()\n",
    "qc.i(0)\n",
    "qc.i(1)\n",
    "qc.cnot(control=0,target=1)\n",
    "print(qc)\n",
    "\n",
    "\n",
    "device = LocalSimulator()\n",
    "task = device.run(qc, shots=100)\n",
    "result = task.result()\n",
    "print(result.measurement_counts)"
   ]
  },
  {
   "cell_type": "markdown",
   "metadata": {},
   "source": [
    "## Entanglement"
   ]
  },
  {
   "cell_type": "markdown",
   "metadata": {},
   "source": [
    "Entanglement is a uniquely quantum mechanical resource that plays a key role in many of the most interesting applications of quantum computation and quantum information. \n",
    "\n",
    "Let's see what happens when we combine `Hadamard` gate with `CNOT` gate"
   ]
  },
  {
   "cell_type": "code",
   "execution_count": 8,
   "metadata": {
    "scrolled": true
   },
   "outputs": [
    {
     "name": "stdout",
     "output_type": "stream",
     "text": [
      "T  : |0|1|\n",
      "          \n",
      "q0 : -H-C-\n",
      "        | \n",
      "q1 : ---X-\n",
      "\n",
      "T  : |0|1|\n",
      "Counter({'11': 54, '00': 46})\n"
     ]
    }
   ],
   "source": [
    "qc = Circuit()\n",
    "qc.h(0)\n",
    "qc.cnot(control=0,target=1)\n",
    "print(qc)\n",
    "\n",
    "\n",
    "device = LocalSimulator()\n",
    "task = device.run(qc, shots=100)\n",
    "result = task.result()\n",
    "print(result.measurement_counts)"
   ]
  },
  {
   "cell_type": "markdown",
   "metadata": {},
   "source": [
    "The Hadamard gate puts the top qubit in a superposition, this then acts as a control input to the `CNOT`, and the target gets inverted only when the control is $|1\\rangle$\n",
    "\n",
    "The output state is : $$\\frac{|00\\rangle +|11\\rangle}{\\sqrt 2}$$\n",
    "\n",
    "\n",
    "This is an **entangled** state. If we measure the state in the computational basis, then we obtain the result $|00\\rangle$ with probability 50% and the result $|11\\rangle$ with probability 50% - and 0% probability for the results $|01\\rangle$  or  $|10\\rangle$."
   ]
  },
  {
   "cell_type": "markdown",
   "metadata": {},
   "source": [
    "Measuring one of the qubits collapses the state of the other qubit, even if they are far apart. \n",
    "\n"
   ]
  },
  {
   "cell_type": "markdown",
   "metadata": {},
   "source": [
    "#### Can you build a circuit to make another entangled state ?  $$\\frac{|01\\rangle +|10\\rangle}{\\sqrt 2}$$"
   ]
  },
  {
   "cell_type": "markdown",
   "metadata": {},
   "source": [
    "---"
   ]
  },
  {
   "cell_type": "markdown",
   "metadata": {},
   "source": [
    "### More qubits\n",
    "\n",
    "This entanglement can be created between mutiple qubits. One such example is a [GHZ State](https://en.wikipedia.org/wiki/Greenberger%E2%80%93Horne%E2%80%93Zeilinger_state) - a maximally entangled quantum state. "
   ]
  },
  {
   "cell_type": "code",
   "execution_count": 9,
   "metadata": {
    "scrolled": true
   },
   "outputs": [
    {
     "name": "stdout",
     "output_type": "stream",
     "text": [
      "T  : |0|1|2|3|4|5|6|\n",
      "                    \n",
      "q0 : -H-C-----------\n",
      "        |           \n",
      "q1 : ---X-C---------\n",
      "          |         \n",
      "q2 : -----X-C-------\n",
      "            |       \n",
      "q3 : -------X-C-----\n",
      "              |     \n",
      "q4 : ---------X-C---\n",
      "                |   \n",
      "q5 : -----------X-C-\n",
      "                  | \n",
      "q6 : -------------X-\n",
      "\n",
      "T  : |0|1|2|3|4|5|6|\n",
      "Counter({'1111111': 5023, '0000000': 4977})\n"
     ]
    }
   ],
   "source": [
    "qc = Circuit()\n",
    "qc.h(0)\n",
    "qc.cnot(control=0,target=1)\n",
    "qc.cnot(control=1,target=2)\n",
    "qc.cnot(control=2,target=3)\n",
    "qc.cnot(control=3,target=4)\n",
    "qc.cnot(control=4,target=5)\n",
    "qc.cnot(control=5,target=6)\n",
    "\n",
    "print(qc)\n",
    "\n",
    "\n",
    "\n",
    "device = LocalSimulator()\n",
    "task = device.run(qc, shots=10000)\n",
    "result = task.result()\n",
    "print(result.measurement_counts)"
   ]
  },
  {
   "cell_type": "markdown",
   "metadata": {},
   "source": [
    "## Other Gates\n",
    "\n",
    "All available gates currently available within the Amazon Braket SDK\n"
   ]
  },
  {
   "cell_type": "code",
   "execution_count": 10,
   "metadata": {},
   "outputs": [
    {
     "name": "stdout",
     "output_type": "stream",
     "text": [
      "['CCNot', 'CNot', 'CPhaseShift', 'CPhaseShift00', 'CPhaseShift01', 'CPhaseShift10', 'CSwap', 'CY', 'CZ', 'H', 'I', 'ISwap', 'PSwap', 'PhaseShift', 'Rx', 'Ry', 'Rz', 'S', 'Si', 'Swap', 'T', 'Ti', 'Unitary', 'V', 'Vi', 'X', 'XX', 'XY', 'Y', 'YY', 'Z', 'ZZ']\n"
     ]
    }
   ],
   "source": [
    "# print all available gates currently available within the Amazon Braket SDK\n",
    "import string\n",
    "from braket.circuits import Gate\n",
    "gate_set = [attr for attr in dir(Gate) if attr[0] in string.ascii_uppercase]\n",
    "print(gate_set)"
   ]
  },
  {
   "cell_type": "markdown",
   "metadata": {},
   "source": [
    "### References\n",
    "\n",
    "1. M. Nielsen and I. Chuang, Quantum Computation and Quantum Information, Cambridge Series on Information and the Natural Sciences (Cambridge University Press, Cambridge, 2000)."
   ]
  },
  {
   "cell_type": "markdown",
   "metadata": {},
   "source": [
    "---"
   ]
  }
 ],
 "metadata": {
  "kernelspec": {
   "display_name": "jup_oct_kernel",
   "language": "python",
   "name": "jup_oct_kernel"
  },
  "language_info": {
   "codemirror_mode": {
    "name": "ipython",
    "version": 3
   },
   "file_extension": ".py",
   "mimetype": "text/x-python",
   "name": "python",
   "nbconvert_exporter": "python",
   "pygments_lexer": "ipython3",
   "version": "3.8.5"
  }
 },
 "nbformat": 4,
 "nbformat_minor": 4
}