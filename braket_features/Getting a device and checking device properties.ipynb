{
 "cells": [
  {
   "cell_type": "markdown",
   "metadata": {},
   "source": [
    "# Getting a device and checking device properties\n",
    "\n",
    "In this tutorial, we introduce methods to get a device to run your circuits by either using `get_devices()` or specifying the device directly. Besides, we also show what properites of a device you can find for each device."
   ]
  },
  {
   "cell_type": "code",
   "execution_count": 1,
   "metadata": {},
   "outputs": [],
   "source": [
    "# general imports\n",
    "from braket.aws import AwsDevice\n",
    "from braket.devices import LocalSimulator"
   ]
  },
  {
   "cell_type": "markdown",
   "metadata": {},
   "source": [
    "## Using get_devices\n",
    "We can get a device (including the cloud-based simulator and the QPUs) by using the `get_devices()` call. The corresponding devices can be found with one or more of the following filtering criteria: device arn, name, type, status and provider_name. We can also sort devices in order. We give examples for each of the case in the following cells."
   ]
  },
  {
   "cell_type": "code",
   "execution_count": 2,
   "metadata": {},
   "outputs": [
    {
     "data": {
      "text/plain": [
       "[Device('name': Advantage_system1.1, 'arn': arn:aws:braket:::device/qpu/d-wave/Advantage_system1),\n",
       " Device('name': Aspen-8, 'arn': arn:aws:braket:::device/qpu/rigetti/Aspen-8),\n",
       " Device('name': DW_2000Q_5, 'arn': arn:aws:braket:::device/qpu/d-wave/DW_2000Q_5),\n",
       " Device('name': DW_2000Q_6, 'arn': arn:aws:braket:::device/qpu/d-wave/DW_2000Q_6),\n",
       " Device('name': IonQ Device, 'arn': arn:aws:braket:::device/qpu/ionq/ionQdevice)]"
      ]
     },
     "execution_count": 2,
     "metadata": {},
     "output_type": "execute_result"
    }
   ],
   "source": [
    "# get the device by type\n",
    "# get the cloud-based simulator\n",
    "AwsDevice.get_devices(types=['SIMULATOR'])\n",
    "\n",
    "# get the list of QPUs\n",
    "AwsDevice.get_devices(types=['QPU'])"
   ]
  },
  {
   "cell_type": "code",
   "execution_count": 3,
   "metadata": {},
   "outputs": [],
   "source": [
    "# get the device by arns. For example, the following gets the IonQ device.\n",
    "device = AwsDevice.get_devices(arns=['arn:aws:braket:::device/qpu/ionq/ionQdevice'])"
   ]
  },
  {
   "cell_type": "code",
   "execution_count": 4,
   "metadata": {},
   "outputs": [],
   "source": [
    "# get the device by name. For example, the following gets the DWave Advantage system.\n",
    "device = AwsDevice.get_devices(names=['Advantage_system1.1'])"
   ]
  },
  {
   "cell_type": "code",
   "execution_count": 5,
   "metadata": {},
   "outputs": [
    {
     "data": {
      "text/plain": [
       "[Device('name': Advantage_system1.1, 'arn': arn:aws:braket:::device/qpu/d-wave/Advantage_system1),\n",
       " Device('name': Aspen-8, 'arn': arn:aws:braket:::device/qpu/rigetti/Aspen-8),\n",
       " Device('name': DW_2000Q_6, 'arn': arn:aws:braket:::device/qpu/d-wave/DW_2000Q_6),\n",
       " Device('name': IonQ Device, 'arn': arn:aws:braket:::device/qpu/ionq/ionQdevice),\n",
       " Device('name': SV1, 'arn': arn:aws:braket:::device/quantum-simulator/amazon/sv1)]"
      ]
     },
     "execution_count": 5,
     "metadata": {},
     "output_type": "execute_result"
    }
   ],
   "source": [
    "# get the device by status\n",
    "# get all devices that are currently online\n",
    "AwsDevice.get_devices(statuses=['ONLINE'])\n",
    "\n",
    "# get all devices that are currectly offline\n",
    "# AwsDevice.get_devices(statuses=['OFFLINE'])"
   ]
  },
  {
   "cell_type": "code",
   "execution_count": 6,
   "metadata": {},
   "outputs": [],
   "source": [
    "# getting the device by provider_names\n",
    "# device = AwsDevice.get_devices(provider_names=['Rigetti'])\n",
    "device = AwsDevice.get_devices(provider_names=['IonQ'])"
   ]
  },
  {
   "cell_type": "code",
   "execution_count": 7,
   "metadata": {},
   "outputs": [
    {
     "data": {
      "text/plain": [
       "[Device('name': IonQ Device, 'arn': arn:aws:braket:::device/qpu/ionq/ionQdevice),\n",
       " Device('name': DW_2000Q_5, 'arn': arn:aws:braket:::device/qpu/d-wave/DW_2000Q_5),\n",
       " Device('name': Advantage_system1.1, 'arn': arn:aws:braket:::device/qpu/d-wave/Advantage_system1),\n",
       " Device('name': DW_2000Q_6, 'arn': arn:aws:braket:::device/qpu/d-wave/DW_2000Q_6),\n",
       " Device('name': Aspen-8, 'arn': arn:aws:braket:::device/qpu/rigetti/Aspen-8),\n",
       " Device('name': SV1, 'arn': arn:aws:braket:::device/quantum-simulator/amazon/sv1)]"
      ]
     },
     "execution_count": 7,
     "metadata": {},
     "output_type": "execute_result"
    }
   ],
   "source": [
    "# get devices in order\n",
    "# AwsDevice.get_devices(order_by='provider_name')\n",
    "AwsDevice.get_devices(order_by='type')"
   ]
  },
  {
   "cell_type": "code",
   "execution_count": 8,
   "metadata": {},
   "outputs": [
    {
     "data": {
      "text/plain": [
       "[Device('name': Advantage_system1.1, 'arn': arn:aws:braket:::device/qpu/d-wave/Advantage_system1),\n",
       " Device('name': Aspen-8, 'arn': arn:aws:braket:::device/qpu/rigetti/Aspen-8),\n",
       " Device('name': DW_2000Q_6, 'arn': arn:aws:braket:::device/qpu/d-wave/DW_2000Q_6),\n",
       " Device('name': IonQ Device, 'arn': arn:aws:braket:::device/qpu/ionq/ionQdevice)]"
      ]
     },
     "execution_count": 8,
     "metadata": {},
     "output_type": "execute_result"
    }
   ],
   "source": [
    "# multiple criteria can be applied\n",
    "AwsDevice.get_devices(types=['QPU'],statuses=['ONLINE'])"
   ]
  },
  {
   "cell_type": "markdown",
   "metadata": {},
   "source": [
    "## Getting a device directly\n",
    "One can also specify a device directly with the device arn. "
   ]
  },
  {
   "cell_type": "code",
   "execution_count": 9,
   "metadata": {},
   "outputs": [],
   "source": [
    "# specify a device directly by device arn\n",
    "# Rigetti\n",
    "device = AwsDevice(\"arn:aws:braket:::device/qpu/rigetti/Aspen-8\")\n",
    "# IonQ\n",
    "device = AwsDevice(\"arn:aws:braket:::device/qpu/ionq/ionQdevice\")\n",
    "# DWave\n",
    "device = AwsDevice(\"arn:aws:braket:::device/qpu/d-wave/DW_2000Q_6\")\n",
    "device = AwsDevice(\"arn:aws:braket:::device/qpu/d-wave/Advantage_system1\")\n",
    "# the cloud simulator\n",
    "device = AwsDevice(\"arn:aws:braket:::device/quantum-simulator/amazon/sv1\")\n",
    "# the local simulator\n",
    "device = LocalSimulator()"
   ]
  },
  {
   "cell_type": "markdown",
   "metadata": {},
   "source": [
    "## Properties of devices\n",
    "\n",
    "The properties of a device can be checked with the `device.properties` call. We show the most useful properties one can check for each device with the following examples. "
   ]
  },
  {
   "cell_type": "code",
   "execution_count": 10,
   "metadata": {},
   "outputs": [
    {
     "name": "stdout",
     "output_type": "stream",
     "text": [
      "The supported operations of the SV1 include ['ccnot', 'cnot', 'cphaseshift', 'cphaseshift00', 'cphaseshift01', 'cphaseshift10', 'cswap', 'cy', 'cz', 'h', 'i', 'iswap', 'pswap', 'phaseshift', 'rx', 'ry', 'rz', 's', 'si', 'swap', 't', 'ti', 'unitary', 'v', 'vi', 'x', 'xx', 'xy', 'y', 'yy', 'z', 'zz']\n",
      "\n",
      " The supported result types include [ResultType(name='Sample', observables=['x', 'y', 'z', 'h', 'i', 'hermitian'], minShots=1, maxShots=100000), ResultType(name='Expectation', observables=['x', 'y', 'z', 'h', 'i', 'hermitian'], minShots=0, maxShots=100000), ResultType(name='Variance', observables=['x', 'y', 'z', 'h', 'i', 'hermitian'], minShots=0, maxShots=100000), ResultType(name='Probability', observables=None, minShots=1, maxShots=100000), ResultType(name='Amplitude', observables=None, minShots=0, maxShots=0)]\n",
      "\n",
      " The maximum number of qubits supported by this device is 34\n",
      "The shots range of this device is (0, 100000)\n",
      "The price of running tasks on this device: price=4.5 unit='hour'\n"
     ]
    }
   ],
   "source": [
    "# the local simulator\n",
    "device = LocalSimulator()\n",
    "# the cloud-based simulator\n",
    "device = AwsDevice(\"arn:aws:braket:::device/quantum-simulator/amazon/sv1\")\n",
    "\n",
    "support_gates = device.properties.action['braket.ir.jaqcd.program'].supportedOperations\n",
    "support_result_types = device.properties.action['braket.ir.jaqcd.program'].supportedResultTypes\n",
    "qubit_count = device.properties.paradigm.qubitCount\n",
    "shorts_range = device.properties.service.shotsRange\n",
    "device_cost = device.properties.service.deviceCost\n",
    "\n",
    "print('The supported operations of {} include {}'.format(device.name,support_gates))\n",
    "print('\\n The supported result types include',support_result_types)\n",
    "print('\\n The maximum number of qubits supported by this device is',qubit_count)\n",
    "print('The shots range of this device is',shorts_range)\n",
    "print('The price of running tasks on this device:',device_cost)"
   ]
  },
  {
   "cell_type": "markdown",
   "metadata": {},
   "source": [
    "For the IonQ and Rigetti devices, apart from the properties shown above, we can also get information of the availablity windows and device calibration data."
   ]
  },
  {
   "cell_type": "code",
   "execution_count": 11,
   "metadata": {},
   "outputs": [
    {
     "name": "stdout",
     "output_type": "stream",
     "text": [
      "The exeuation windows of the Aspen-8:\n",
      "executionDay=<ExecutionDay.EVERYDAY: 'Everyday'> windowStartHour=datetime.time(15, 0) windowEndHour=datetime.time(19, 0)\n",
      "\n",
      " The connectivity graph of the qubits for this device:\n",
      " fullyConnected=False connectivityGraph={'0': ['7'], '1': ['2', '16'], '2': ['1', '3', '15'], '3': ['2', '4'], '4': ['3', '5'], '5': ['4', '6'], '6': ['5', '7'], '7': ['0', '6'], '10': ['11', '17'], '11': ['10', '12', '26'], '12': ['11', '13', '25'], '13': ['12'], '15': ['2', '16'], '16': ['1', '15', '17'], '17': ['10', '16'], '20': ['21', '27'], '21': ['20', '22', '36'], '22': ['21', '23', '35'], '23': ['22', '24'], '24': ['23', '25'], '25': ['12', '24', '26'], '26': ['11', '25', '27'], '27': ['20', '26'], '30': ['31', '37'], '31': ['30', '32'], '32': ['31', '33'], '33': ['32', '34'], '34': ['33', '35'], '35': ['22', '34', '36'], '36': ['21', '35', '37'], '37': ['30', '36']}\n",
      "\n",
      " Calibration data and other device information: braketSchemaHeader=BraketSchemaHeader(name='braket.device_schema.rigetti.rigetti_provider_properties', version='1') specs={'1Q': {'0': {'f1QRB': 0.995048041389577, 'f1QRB_std_err': 0.000244061520274907, 'f1Q_simultaneous_RB': 0.989821537688075, 'f1Q_simultaneous_RB_std_err': 0.000699235456806402, 'fRO': 0.944, 'T1': 1.69308193540552e-05, 'T2': 1.8719137150144e-05, 'fActiveReset': 0.997}, '1': {'f1QRB': 0.999592016493133, 'f1QRB_std_err': 0.000194035605521321, 'f1Q_simultaneous_RB': 0.996832638579018, 'f1Q_simultaneous_RB_std_err': 0.00010089678215399, 'fRO': 0.9330000000000002, 'T1': 3.66674539142853e-05, 'T2': 4.04258088086511e-05, 'fActiveReset': 0.927}, '2': {'f1QRB': 0.988783235579887, 'f1QRB_std_err': 0.000920704589812877, 'f1Q_simultaneous_RB': 0.927538230166735, 'f1Q_simultaneous_RB_std_err': 0.00760499950777768, 'fRO': 0.9470000000000001, 'T1': 1.85349412020752e-05, 'T2': 1.21446274954801e-05, 'fActiveReset': 0.8420000000000001}, '3': {'f1QRB': 0.998667243428403, 'f1QRB_std_err': 0.000233712574996184, 'f1Q_simultaneous_RB': 0.995159653742827, 'f1Q_simultaneous_RB_std_err': 0.000412437048803581, 'fRO': 0.931, 'T1': 3.42407747528917e-05, 'T2': 1.95081470322298e-05, 'fActiveReset': 0.987}, '4': {'f1QRB': 0.992517463629668, 'f1QRB_std_err': 0.00090843760494477, 'f1Q_simultaneous_RB': 0.990387707932765, 'f1Q_simultaneous_RB_std_err': 0.00101744825102422, 'fRO': 0.976, 'T1': 1.52931943750989e-05, 'T2': 1.76021636724941e-05, 'fActiveReset': 0.9990000000000001}, '5': {'f1QRB': 0.999452023200384, 'f1QRB_std_err': 8.05029325139192e-05, 'f1Q_simultaneous_RB': 0.996065286885264, 'f1Q_simultaneous_RB_std_err': 0.000182431399622526, 'fRO': 0.94, 'T1': 4.14029551802919e-05, 'T2': 5.37449881899101e-06, 'fActiveReset': 0.9990000000000001}, '6': {'f1QRB': 0.996922101827787, 'f1QRB_std_err': 0.000285237494154413, 'f1Q_simultaneous_RB': 0.993098695450792, 'f1Q_simultaneous_RB_std_err': 0.000359603066362993, 'fRO': 0.986, 'T1': 4.49720104298557e-05, 'T2': 4.51089462381598e-05, 'fActiveReset': 0.9990000000000001}, '7': {'f1QRB': 0.998916800042596, 'f1QRB_std_err': 0.000111528188821197, 'f1Q_simultaneous_RB': 0.993901137706895, 'f1Q_simultaneous_RB_std_err': 0.000540233804299696, 'fRO': 0.975, 'T1': 1.71477791679475e-05, 'T2': 2.27752217675281e-05, 'fActiveReset': 0.998}, '10': {'f1QRB': 0.998748917565469, 'f1QRB_std_err': 6.6329993597551e-05, 'f1Q_simultaneous_RB': 0.995655488475807, 'f1Q_simultaneous_RB_std_err': 0.000140181572292569, 'fRO': 0.96, 'fActiveReset': 0.9990000000000001}, '11': {'f1QRB': 0.998995425446087, 'f1QRB_std_err': 0.000156727176698867, 'f1Q_simultaneous_RB': 0.989117848440883, 'f1Q_simultaneous_RB_std_err': 0.00279562744844582, 'fRO': 0.9570000000000001, 'T1': 2.38422524341253e-05, 'T2': 1.26573454232598e-05, 'fActiveReset': 0.987}, '12': {'f1QRB': 0.997349061312383, 'f1QRB_std_err': 0.000143343589229641, 'f1Q_simultaneous_RB': 0.982010065085791, 'f1Q_simultaneous_RB_std_err': 0.00124870728653945, 'fRO': 0.911, 'T1': 2.16063180451531e-05, 'T2': 8.17704601523657e-06, 'fActiveReset': 0.997}, '13': {'f1QRB': 0.997387600466486, 'f1QRB_std_err': 0.000157614697777286, 'f1Q_simultaneous_RB': 0.994323758479715, 'f1Q_simultaneous_RB_std_err': 0.000136325973101852, 'fRO': 0.954, 'T1': 2.69457815280649e-05, 'T2': 1.833334410543e-05, 'fActiveReset': 0.995}, '15': {'f1QRB': 0.99837588832428, 'f1QRB_std_err': 0.000190601505776446, 'f1Q_simultaneous_RB': 0.989822943596874, 'f1Q_simultaneous_RB_std_err': 0.000592607258535065, 'fRO': 0.938, 'T1': 3.59237270879387e-05, 'T2': 3.76306732659585e-06, 'fActiveReset': 0.99}, '16': {'f1QRB': 0.997632218222324, 'f1QRB_std_err': 0.000358193979832841, 'f1Q_simultaneous_RB': 0.988256589534012, 'f1Q_simultaneous_RB_std_err': 0.000720735751421755, 'fRO': 0.965, 'T1': 2.17638157555822e-05, 'T2': 2.86268932951218e-05, 'fActiveReset': 0.9990000000000001}, '17': {'f1QRB': 0.998668729810299, 'f1QRB_std_err': 0.000159146525796424, 'f1Q_simultaneous_RB': 0.994091587106797, 'f1Q_simultaneous_RB_std_err': 0.000228157797369385, 'fRO': 0.899, 'T1': 3.79421371754507e-05, 'T2': 1.4667649925587e-05, 'fActiveReset': 0.995}, '20': {'f1QRB': 0.998055610398382, 'f1QRB_std_err': 0.000110580251382095, 'f1Q_simultaneous_RB': 0.991288110944387, 'f1Q_simultaneous_RB_std_err': 0.000409527193511318, 'fRO': 0.8899999999999999, 'T1': 1.87214354161469e-05, 'T2': 1.57108829713923e-05, 'fActiveReset': 0.978}, '21': {'f1QRB': 0.996831444060073, 'f1QRB_std_err': 0.0010035037390118, 'f1Q_simultaneous_RB': 0.992884053396768, 'f1Q_simultaneous_RB_std_err': 0.000342969739894256, 'fRO': 0.885, 'T1': 4.36573787430117e-05, 'T2': 7.29129065266176e-06, 'fActiveReset': 0.965}, '22': {'f1QRB': 0.998113667718384, 'f1QRB_std_err': 9.42689806030806e-05, 'f1Q_simultaneous_RB': 0.979355596748001, 'f1Q_simultaneous_RB_std_err': 0.0028312291723301, 'fRO': 0.9339999999999999, 'T1': 2.95721615652944e-05, 'T2': 2.52699067885001e-05, 'fActiveReset': 0.996}, '23': {'f1QRB': 0.896563982559955, 'f1QRB_std_err': 0.139491816599351, 'f1Q_simultaneous_RB': 0.992797468887461, 'f1Q_simultaneous_RB_std_err': 0.000495191905118061, 'fRO': 0.945, 'T1': 2.4806266750943e-05, 'T2': 9.89315945249868e-06, 'fActiveReset': 0.99}, '24': {'f1QRB': 0.998204265311735, 'f1QRB_std_err': 0.000278034557525437, 'f1Q_simultaneous_RB': 0.988868971757648, 'f1Q_simultaneous_RB_std_err': 0.000670679482898489, 'fRO': 0.6919999999999998, 'T1': 1.29439265070808e-05, 'T2': 2.18284677441349e-06, 'fActiveReset': 0.996}, '25': {'f1QRB': 0.998951234975127, 'f1QRB_std_err': 0.000490226934962106, 'f1Q_simultaneous_RB': 0.998004517863263, 'f1Q_simultaneous_RB_std_err': 0.000256845536085542, 'fRO': 0.956, 'T1': 4.28958651621514e-05, 'T2': 2.04174551914617e-05, 'fActiveReset': 0.985}, '26': {'f1QRB': 0.992058705421287, 'f1QRB_std_err': 0.000546577223564232, 'f1Q_simultaneous_RB': 0.992046520987421, 'f1Q_simultaneous_RB_std_err': 0.000460509227673459, 'fRO': 0.96, 'T1': 1.05480881784636e-05, 'T2': 2.22383057633106e-06, 'fActiveReset': 0.997}, '27': {'f1QRB': 0.999189673962889, 'f1QRB_std_err': 0.000149781141946951, 'f1Q_simultaneous_RB': 0.998533591062586, 'f1Q_simultaneous_RB_std_err': 0.000188063251795254, 'fRO': 0.927, 'T1': 4.3085643451235e-05, 'T2': 1.86784948458578e-05, 'fActiveReset': 0.985}, '30': {'f1QRB': 0.993042816862089, 'f1QRB_std_err': 0.000410885101873161, 'f1Q_simultaneous_RB': 0.983897042282644, 'f1Q_simultaneous_RB_std_err': 0.000974922521092989, 'fRO': 0.9339999999999999, 'T1': 2.11394457030334e-05, 'T2': 2.63254704530563e-05, 'fActiveReset': 0.9469999999999998}, '31': {'f1QRB': 0.99953557853119, 'f1QRB_std_err': 0.000878272159821225, 'f1Q_simultaneous_RB': 0.963457479889858, 'f1Q_simultaneous_RB_std_err': 0.0415181791500049, 'fRO': 0.9330000000000002, 'T1': 4.20399966913898e-05, 'T2': 3.71887032675469e-05, 'fActiveReset': 0.997}, '32': {'f1QRB': 0.998972353309108, 'f1QRB_std_err': 0.000152186019857516, 'f1Q_simultaneous_RB': 0.998120225824461, 'f1Q_simultaneous_RB_std_err': 0.000190507738375099, 'fRO': 0.963, 'T1': 4.31184568590037e-05, 'T2': 5.67804436605542e-05, 'fActiveReset': 0.993}, '33': {'f1QRB': 0.999072705600703, 'f1QRB_std_err': 0.000245691937023132, 'f1Q_simultaneous_RB': 0.997635034524841, 'f1Q_simultaneous_RB_std_err': 0.000190026037155343, 'fRO': 0.9570000000000001, 'T1': 2.90114123902008e-05, 'T2': 2.70139445087936e-05, 'fActiveReset': 0.992}, '34': {'f1QRB': 0.99850499179752, 'f1QRB_std_err': 0.000212554563526506, 'f1Q_simultaneous_RB': 0.996864438593304, 'f1Q_simultaneous_RB_std_err': 0.000200540316404968, 'fRO': 0.977, 'T1': 1.79000760198722e-05, 'T2': 2.0990968801351e-05, 'fActiveReset': 0.998}, '35': {'f1QRB': 0.999798576100196, 'f1QRB_std_err': 0.000175607322731469, 'f1Q_simultaneous_RB': 0.997937749157514, 'f1Q_simultaneous_RB_std_err': 0.000178672994697245, 'fRO': 0.931, 'T1': 3.04974488034571e-05, 'T2': 3.52789567486774e-05, 'fActiveReset': 0.995}, '36': {'f1QRB': 0.995497545348735, 'f1QRB_std_err': 0.000486844217732657, 'f1Q_simultaneous_RB': 0.990523139563343, 'f1Q_simultaneous_RB_std_err': 0.000406209502603457, 'fRO': 0.89, 'T1': 3.37925693427721e-05, 'T2': 2.33654427259514e-05, 'fActiveReset': 0.9990000000000001}, '37': {'f1QRB': 0.998985804653341, 'f1QRB_std_err': 0.000129463650602921, 'f1Q_simultaneous_RB': 0.999999385622736, 'f1Q_simultaneous_RB_std_err': 0.00177062417039527, 'fRO': 0.945, 'T1': 3.53178460130721e-05, 'T2': 2.27757981894339e-05, 'fActiveReset': 0.99}}, '2Q': {'0-1': {'fCZ': 0.86088287046333, 'fCZ_std_err': 0.00544497242572576}, '0-7': {'fCZ': 0.8986578055846494, 'fCZ_std_err': 0.005997877997037831}, '1-2': {'fXY': 0.7978158178233327, 'fXY_std_err': 0.014375445440120576}, '1-16': {'fCZ': 0.9696216414713426, 'fCZ_std_err': 0.00636787149496437, 'fXY': 0.9863671878735487, 'fXY_std_err': 0.003718103606500039}, '2-3': {'fCZ': 0.8547837430223254, 'fCZ_std_err': 0.01049569944363628, 'fXY': 0.9631529583309938, 'fXY_std_err': 0.007158877428408344}, '2-15': {'fCZ': 0.9061207856110964, 'fCZ_std_err': 0.013060791833898239, 'fXY': 0.9495436707699437, 'fXY_std_err': 0.010221839935447003}, '3-4': {'fCZ': 0.9327898571331161, 'fCZ_std_err': 0.011745820796419178, 'fXY': 0.8411996910328134, 'fXY_std_err': 0.012804925393671842}, '4-5': {'fCZ': 0.7935740949009277, 'fCZ_std_err': 0.011433244792907799, 'fXY': 0.9551541212729979, 'fXY_std_err': 0.009522245027546537}, '5-6': {'fCZ': 0.9660439646081828, 'fCZ_std_err': 0.005904483632133271, 'fXY': 0.9706448826286891, 'fXY_std_err': 0.0061918715187586895}, '6-7': {'fCZ': 0.9783440862844553, 'fCZ_std_err': 0.004075275877707783, 'fXY': 0.8441825157163549, 'fXY_std_err': 0.007552458514991175}, '10-11': {'fCZ': 0.9550203559125906, 'fCZ_std_err': 0.008266221005813722, 'fXY': 0.9149299160868286, 'fXY_std_err': 0.01640025723767521}, '10-17': {'fCZ': 0.9208795127938647, 'fCZ_std_err': 0.011913568632777267, 'fXY': 0.9793445446318959, 'fXY_std_err': 0.007786100083175696}, '11-12': {'fCZ': 0.9293769266755657, 'fCZ_std_err': 0.013078533355447196, 'fXY': 0.9697247947433695, 'fXY_std_err': 0.007805590301116835}, '11-26': {'fCZ': 0.9262196092403944, 'fCZ_std_err': 0.011476550566829365, 'fXY': 0.9463392235573955, 'fXY_std_err': 0.011252653453358921}, '12-13': {'fCZ': 0.8089865069261843, 'fCZ_std_err': 0.011195995665255015, 'fXY': 0.8516993096514558, 'fXY_std_err': 0.010479284248087771}, '12-25': {'fXY': 0.8777938418226854, 'fXY_std_err': 0.016390317738050473}, '15-16': {'fCZ': 0.9604009704024681, 'fCZ_std_err': 0.011003871743221167, 'fXY': 0.9843053182742121, 'fXY_std_err': 0.008200401049765531}, '16-17': {'fCZ': 0.9270608622387716, 'fCZ_std_err': 0.010711179063392107, 'fXY': 0.9026848427168052, 'fXY_std_err': 0.004871125873491292}, '20-21': {'fCZ': 0.975807260575836, 'fCZ_std_err': 0.0075974417607924, 'fXY': 0.880932804396137, 'fXY_std_err': 0.005210935467376714}, '20-27': {'fCZ': 0.9601706413942686, 'fCZ_std_err': 0.007008046720239704, 'fXY': 0.8151511751864663, 'fXY_std_err': 0.007261286347051166}, '21-22': {'fCZ': 0.9621285573347542, 'fCZ_std_err': 0.013296589465384095, 'fXY': 0.9799222682614525, 'fXY_std_err': 0.008026768460326354}, '21-36': {'fCZ': 0.967198462462991, 'fCZ_std_err': 0.006896909397310938, 'fXY': 0.9762090818765217, 'fXY_std_err': 0.005686290849312413}, '22-23': {'fCZ': 0.9262605383376958, 'fCZ_std_err': 0.01152125671432249, 'fXY': 0.9616683799738517, 'fXY_std_err': 0.007130568297447122}, '22-35': {'fCZ': 0.9233040773841159, 'fCZ_std_err': 0.009206509646740474, 'fXY': 0.968878289431548, 'fXY_std_err': 0.004977215474458814}, '23-24': {'fCZ': 0.9168130080180805, 'fCZ_std_err': 0.005464500106688006, 'fXY': 0.9578918482222929, 'fXY_std_err': 0.00799150511572223}, '24-25': {'fCZ': 0.9646587858979119, 'fCZ_std_err': 0.0073384401040057735, 'fXY': 0.9758736186574182, 'fXY_std_err': 0.009117818531804302}, '25-26': {'fCZ': 0.9672205845842672, 'fCZ_std_err': 0.0071343135192592725, 'fXY': 0.9607615752725585, 'fXY_std_err': 0.007943788353559078}, '26-27': {'fCZ': 0.9172644552705316, 'fCZ_std_err': 0.015071305429010425, 'fXY': 0.834032230870616, 'fXY_std_err': 0.013701555340183072}, '30-31': {'fCZ': 0.8216202523207025, 'fCZ_std_err': 0.013241098317321558, 'fXY': 0.9529852989471099, 'fXY_std_err': 0.008687914942972996}, '30-37': {'fCZ': 0.9348017246098377, 'fCZ_std_err': 0.011221847051472755, 'fXY': 0.9717905367516596, 'fXY_std_err': 0.006603220574599103}, '31-32': {'fCZ': 0.9641248087935437, 'fCZ_std_err': 0.004993947552821118, 'fXY': 0.988429383110608, 'fXY_std_err': 0.00491928471817264}, '32-33': {'fCZ': 0.9876819273126621, 'fCZ_std_err': 0.0033530532492853813, 'fXY': 0.9787388723760295, 'fXY_std_err': 0.005204799595492282}, '33-34': {'fCZ': 0.9216607500513926, 'fCZ_std_err': 0.013754233414258259, 'fXY': 0.9758486495762948, 'fXY_std_err': 0.004375750009933857}, '34-35': {'fCZ': 0.9688103365073324, 'fCZ_std_err': 0.007464709564656229, 'fXY': 0.9633543008038129, 'fXY_std_err': 0.008956102981834599}, '35-36': {'fCZ': 0.9612625706314111, 'fCZ_std_err': 0.009315823616161189, 'fXY': 0.9715732578963994, 'fXY_std_err': 0.008701997828280444}, '36-37': {'fCZ': 0.9685604098387114, 'fCZ_std_err': 0.007738144133198408, 'fXY': 0.9590132730104916, 'fXY_std_err': 0.008084441582198175}}}\n"
     ]
    }
   ],
   "source": [
    "# the IonQ device\n",
    "device = AwsDevice(\"arn:aws:braket:::device/qpu/ionq/ionQdevice\")\n",
    "\n",
    "# the Rigetti device\n",
    "device = AwsDevice(\"arn:aws:braket:::device/qpu/rigetti/Aspen-8\")\n",
    "\n",
    "execution_windows = device.properties.service.executionWindows[0]\n",
    "connectivity_graph = device.properties.paradigm.connectivity\n",
    "provider_information = device.properties.provider\n",
    "\n",
    "print('The exeuation windows of the {}:\\n{}'.format(device.name,execution_windows))\n",
    "print('\\n The connectivity graph of the qubits for this device:\\n',connectivity_graph)\n",
    "print('\\n Calibration data and other device information:',provider_information)"
   ]
  },
  {
   "cell_type": "code",
   "execution_count": 12,
   "metadata": {},
   "outputs": [
    {
     "name": "stdout",
     "output_type": "stream",
     "text": [
      "The shots range of DW_2000Q_6 is (1, 10000)\n",
      "The price of running tasks on this device: price=0.00019 unit='shot'\n",
      "This device has 2048 qubits in total, with the topology: {'type': 'chimera', 'shape': [16, 16, 4]}\n"
     ]
    }
   ],
   "source": [
    "# the DWave devices\n",
    "# device = AwsDevice(\"arn:aws:braket:::device/qpu/d-wave/Advantage_system1\")\n",
    "device = AwsDevice(\"arn:aws:braket:::device/qpu/d-wave/DW_2000Q_6\")\n",
    "\n",
    "shots_range = device.properties.service.shotsRange\n",
    "device_cost = device.properties.service.deviceCost\n",
    "qubit_count = device.properties.provider.qubitCount\n",
    "device_topology = device.properties.provider.topology\n",
    "\n",
    "print('The shots range of {} is {}'.format(device.name,shots_range))\n",
    "print('The price of running tasks on this device:',device_cost)\n",
    "print('This device has {} qubits in total, with the topology: {}'.format(qubit_count,device_topology))"
   ]
  }
 ],
 "metadata": {
  "kernelspec": {
   "display_name": "conda_braket",
   "language": "python",
   "name": "conda_braket"
  },
  "language_info": {
   "codemirror_mode": {
    "name": "ipython",
    "version": 3
   },
   "file_extension": ".py",
   "mimetype": "text/x-python",
   "name": "python",
   "nbconvert_exporter": "python",
   "pygments_lexer": "ipython3",
   "version": "3.7.7"
  }
 },
 "nbformat": 4,
 "nbformat_minor": 4
}
