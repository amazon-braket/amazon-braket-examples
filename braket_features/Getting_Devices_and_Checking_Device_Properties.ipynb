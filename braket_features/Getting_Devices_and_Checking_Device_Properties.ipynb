{
 "cells": [
  {
   "cell_type": "markdown",
   "metadata": {},
   "source": [
    "# Getting Devices and Checking Device Properties\n",
    "\n",
    "This tutorial demonstrates how to use the `get_devices()` method to search and instantiate devices available on Amazon Braket. It also shows how to obtain access to properties for simulator and QPU devices."
   ]
  },
  {
   "cell_type": "code",
   "execution_count": 1,
   "metadata": {},
   "outputs": [],
   "source": [
    "# general imports\n",
    "import json\n",
    "from braket.aws import AwsDevice\n",
    "from braket.devices import LocalSimulator"
   ]
  },
  {
   "cell_type": "markdown",
   "metadata": {},
   "source": [
    "## Using get_devices\n",
    "You can get a device, including the managed simulator SV1 and the QPUs, by calling the `get_devices()` method. Search for devices with one or more of the following filtering criteria:\n",
    "* device arn \n",
    "* name \n",
    "* type \n",
    "* status \n",
    "* provider_name. \n",
    "\n",
    "The following cells give examples for each of the cases."
   ]
  },
  {
   "cell_type": "markdown",
   "metadata": {},
   "source": [
    "### Getting the device by type"
   ]
  },
  {
   "cell_type": "code",
   "execution_count": 2,
   "metadata": {},
   "outputs": [
    {
     "data": {
      "text/plain": [
       "[Device('name': SV1, 'arn': arn:aws:braket:::device/quantum-simulator/amazon/sv1)]"
      ]
     },
     "execution_count": 2,
     "metadata": {},
     "output_type": "execute_result"
    }
   ],
   "source": [
    "# to get the managed simulator SV1\n",
    "AwsDevice.get_devices(types=['SIMULATOR'])"
   ]
  },
  {
   "cell_type": "code",
   "execution_count": 3,
   "metadata": {},
   "outputs": [
    {
     "data": {
      "text/plain": [
       "[Device('name': Advantage_system1.1, 'arn': arn:aws:braket:::device/qpu/d-wave/Advantage_system1),\n",
       " Device('name': Aspen-8, 'arn': arn:aws:braket:::device/qpu/rigetti/Aspen-8),\n",
       " Device('name': DW_2000Q_5, 'arn': arn:aws:braket:::device/qpu/d-wave/DW_2000Q_5),\n",
       " Device('name': DW_2000Q_6, 'arn': arn:aws:braket:::device/qpu/d-wave/DW_2000Q_6),\n",
       " Device('name': IonQ Device, 'arn': arn:aws:braket:::device/qpu/ionq/ionQdevice)]"
      ]
     },
     "execution_count": 3,
     "metadata": {},
     "output_type": "execute_result"
    }
   ],
   "source": [
    "# to get the list of QPUs\n",
    "AwsDevice.get_devices(types=['QPU'])"
   ]
  },
  {
   "cell_type": "markdown",
   "metadata": {},
   "source": [
    "### Getting the device by ARN\n",
    "For every type of device available in Amazon Braket, you can find the associated ARN in the Amazon Braket [Developer Guide](https://docs.aws.amazon.com/braket/latest/developerguide/braket-devices.html). You also can view the device ARN on the `Devices` section in the Amazon Braket console."
   ]
  },
  {
   "cell_type": "code",
   "execution_count": 4,
   "metadata": {},
   "outputs": [
    {
     "data": {
      "text/plain": [
       "[Device('name': IonQ Device, 'arn': arn:aws:braket:::device/qpu/ionq/ionQdevice)]"
      ]
     },
     "execution_count": 4,
     "metadata": {},
     "output_type": "execute_result"
    }
   ],
   "source": [
    "# for example, the following ARN refers to the IonQ device.\n",
    "AwsDevice.get_devices(arns=['arn:aws:braket:::device/qpu/ionq/ionQdevice'])"
   ]
  },
  {
   "cell_type": "markdown",
   "metadata": {},
   "source": [
    "### Gettting the device by name"
   ]
  },
  {
   "cell_type": "code",
   "execution_count": 5,
   "metadata": {},
   "outputs": [
    {
     "data": {
      "text/plain": [
       "[Device('name': Advantage_system1.1, 'arn': arn:aws:braket:::device/qpu/d-wave/Advantage_system1)]"
      ]
     },
     "execution_count": 5,
     "metadata": {},
     "output_type": "execute_result"
    }
   ],
   "source": [
    "# for example, the following name refers to the DWave Advantage system.\n",
    "AwsDevice.get_devices(names=['Advantage_system1.1'])"
   ]
  },
  {
   "cell_type": "markdown",
   "metadata": {},
   "source": [
    "### Getting the device by status"
   ]
  },
  {
   "cell_type": "code",
   "execution_count": 6,
   "metadata": {},
   "outputs": [
    {
     "data": {
      "text/plain": [
       "[Device('name': Advantage_system1.1, 'arn': arn:aws:braket:::device/qpu/d-wave/Advantage_system1),\n",
       " Device('name': Aspen-8, 'arn': arn:aws:braket:::device/qpu/rigetti/Aspen-8),\n",
       " Device('name': IonQ Device, 'arn': arn:aws:braket:::device/qpu/ionq/ionQdevice),\n",
       " Device('name': SV1, 'arn': arn:aws:braket:::device/quantum-simulator/amazon/sv1)]"
      ]
     },
     "execution_count": 6,
     "metadata": {},
     "output_type": "execute_result"
    }
   ],
   "source": [
    "# retrieve all devices that are currently online\n",
    "AwsDevice.get_devices(statuses=['ONLINE'])"
   ]
  },
  {
   "cell_type": "code",
   "execution_count": 7,
   "metadata": {},
   "outputs": [
    {
     "data": {
      "text/plain": [
       "[Device('name': DW_2000Q_5, 'arn': arn:aws:braket:::device/qpu/d-wave/DW_2000Q_5),\n",
       " Device('name': DW_2000Q_6, 'arn': arn:aws:braket:::device/qpu/d-wave/DW_2000Q_6)]"
      ]
     },
     "execution_count": 7,
     "metadata": {},
     "output_type": "execute_result"
    }
   ],
   "source": [
    "# retrieve all devices that are currently offline\n",
    "AwsDevice.get_devices(statuses=['OFFLINE'])"
   ]
  },
  {
   "cell_type": "markdown",
   "metadata": {},
   "source": [
    "### Getting the device by provider_name"
   ]
  },
  {
   "cell_type": "code",
   "execution_count": 8,
   "metadata": {},
   "outputs": [
    {
     "data": {
      "text/plain": [
       "[Device('name': Aspen-8, 'arn': arn:aws:braket:::device/qpu/rigetti/Aspen-8)]"
      ]
     },
     "execution_count": 8,
     "metadata": {},
     "output_type": "execute_result"
    }
   ],
   "source": [
    "# for example, the following ARN retrieves the Rigetti device.\n",
    "AwsDevice.get_devices(provider_names=['Rigetti'])"
   ]
  },
  {
   "cell_type": "markdown",
   "metadata": {},
   "source": [
    "### Retrieve devices in order"
   ]
  },
  {
   "cell_type": "code",
   "execution_count": 9,
   "metadata": {},
   "outputs": [
    {
     "data": {
      "text/plain": [
       "[Device('name': SV1, 'arn': arn:aws:braket:::device/quantum-simulator/amazon/sv1),\n",
       " Device('name': Advantage_system1.1, 'arn': arn:aws:braket:::device/qpu/d-wave/Advantage_system1),\n",
       " Device('name': DW_2000Q_5, 'arn': arn:aws:braket:::device/qpu/d-wave/DW_2000Q_5),\n",
       " Device('name': DW_2000Q_6, 'arn': arn:aws:braket:::device/qpu/d-wave/DW_2000Q_6),\n",
       " Device('name': IonQ Device, 'arn': arn:aws:braket:::device/qpu/ionq/ionQdevice),\n",
       " Device('name': Aspen-8, 'arn': arn:aws:braket:::device/qpu/rigetti/Aspen-8)]"
      ]
     },
     "execution_count": 9,
     "metadata": {},
     "output_type": "execute_result"
    }
   ],
   "source": [
    "# retrieve the list of devices, ordered by provider name\n",
    "AwsDevice.get_devices(order_by='provider_name')"
   ]
  },
  {
   "cell_type": "markdown",
   "metadata": {},
   "source": [
    "### Getting the device with multiple criteria"
   ]
  },
  {
   "cell_type": "code",
   "execution_count": 10,
   "metadata": {},
   "outputs": [
    {
     "data": {
      "text/plain": [
       "[Device('name': Advantage_system1.1, 'arn': arn:aws:braket:::device/qpu/d-wave/Advantage_system1),\n",
       " Device('name': Aspen-8, 'arn': arn:aws:braket:::device/qpu/rigetti/Aspen-8),\n",
       " Device('name': IonQ Device, 'arn': arn:aws:braket:::device/qpu/ionq/ionQdevice)]"
      ]
     },
     "execution_count": 10,
     "metadata": {},
     "output_type": "execute_result"
    }
   ],
   "source": [
    "# multiple criteria can be applied\n",
    "AwsDevice.get_devices(types=['QPU'],statuses=['ONLINE'])"
   ]
  },
  {
   "cell_type": "markdown",
   "metadata": {},
   "source": [
    "## Getting a device directly\n",
    "You can specify a device directly, with the device ARN."
   ]
  },
  {
   "cell_type": "code",
   "execution_count": 11,
   "metadata": {},
   "outputs": [],
   "source": [
    "# specify a device directly by device ARN\n",
    "# Rigetti\n",
    "device = AwsDevice(\"arn:aws:braket:::device/qpu/rigetti/Aspen-8\")\n",
    "# IonQ\n",
    "device = AwsDevice(\"arn:aws:braket:::device/qpu/ionq/ionQdevice\")\n",
    "# DWave\n",
    "device = AwsDevice(\"arn:aws:braket:::device/qpu/d-wave/DW_2000Q_6\")\n",
    "device = AwsDevice(\"arn:aws:braket:::device/qpu/d-wave/Advantage_system1\")\n",
    "# the managed simulator SV1\n",
    "device = AwsDevice(\"arn:aws:braket:::device/quantum-simulator/amazon/sv1\")\n",
    "# the local simulator\n",
    "device = LocalSimulator()"
   ]
  },
  {
   "cell_type": "markdown",
   "metadata": {},
   "source": [
    "## Properties of devices\n",
    "\n",
    "You can check properties of a device with the `device.properties` call. The following examples show some useful properties of each device."
   ]
  },
  {
   "cell_type": "code",
   "execution_count": 12,
   "metadata": {},
   "outputs": [
    {
     "name": "stdout",
     "output_type": "stream",
     "text": [
      "The supported operations of SV1 are ['ccnot', 'cnot', 'cphaseshift', 'cphaseshift00', 'cphaseshift01', 'cphaseshift10', 'cswap', 'cy', 'cz', 'h', 'i', 'iswap', 'pswap', 'phaseshift', 'rx', 'ry', 'rz', 's', 'si', 'swap', 't', 'ti', 'unitary', 'v', 'vi', 'x', 'xx', 'xy', 'y', 'yy', 'z', 'zz']\n",
      "\n",
      "The supported result types are [ResultType(name='Sample', observables=['x', 'y', 'z', 'h', 'i', 'hermitian'], minShots=1, maxShots=100000), ResultType(name='Expectation', observables=['x', 'y', 'z', 'h', 'i', 'hermitian'], minShots=0, maxShots=100000), ResultType(name='Variance', observables=['x', 'y', 'z', 'h', 'i', 'hermitian'], minShots=0, maxShots=100000), ResultType(name='Probability', observables=None, minShots=1, maxShots=100000), ResultType(name='Amplitude', observables=None, minShots=0, maxShots=0)]\n",
      "\n",
      "The maximum number of qubits supported by this device is 34\n",
      "The shots range of this device is (0, 100000)\n",
      "The price of running tasks on this device: price=4.5 unit='hour'\n"
     ]
    }
   ],
   "source": [
    "# the managed simulator SV1\n",
    "device = AwsDevice(\"arn:aws:braket:::device/quantum-simulator/amazon/sv1\")\n",
    "\n",
    "support_gates = device.properties.action['braket.ir.jaqcd.program'].supportedOperations\n",
    "support_result_types = device.properties.action['braket.ir.jaqcd.program'].supportedResultTypes\n",
    "qubit_count = device.properties.paradigm.qubitCount\n",
    "shorts_range = device.properties.service.shotsRange\n",
    "device_cost = device.properties.service.deviceCost\n",
    "\n",
    "print(f'The supported operations of {device.name} are {support_gates}\\n')\n",
    "print(f'The supported result types are {support_result_types}\\n')\n",
    "print('The maximum number of qubits supported by this device is', qubit_count)\n",
    "print('The shots range of this device is', shorts_range)\n",
    "print('The price of running tasks on this device:', device_cost)"
   ]
  },
  {
   "cell_type": "markdown",
   "metadata": {},
   "source": [
    "For the IonQ and Rigetti devices, you can get information about the properties shown previously. You also can get information about the availability windows and the device calibration data."
   ]
  },
  {
   "cell_type": "code",
   "execution_count": 13,
   "metadata": {},
   "outputs": [
    {
     "name": "stdout",
     "output_type": "stream",
     "text": [
      "The availability windows for Aspen-8:\n",
      "[DeviceExecutionWindow(executionDay=<ExecutionDay.EVERYDAY: 'Everyday'>, windowStartHour=datetime.time(15, 0), windowEndHour=datetime.time(19, 0))]\n",
      "\n",
      "The connectivity graph of the qubits for this device:\n",
      " fullyConnected=False connectivityGraph={'0': ['7'], '1': ['2', '16'], '2': ['1', '3', '15'], '3': ['2', '4'], '4': ['3', '5'], '5': ['4', '6'], '6': ['5', '7'], '7': ['0', '6'], '10': ['11', '17'], '11': ['10', '12', '26'], '12': ['11', '13', '25'], '13': ['12'], '15': ['2', '16'], '16': ['1', '15', '17'], '17': ['10', '16'], '20': ['21', '27'], '21': ['20', '22', '36'], '22': ['21', '23', '35'], '23': ['22', '24'], '24': ['23', '25'], '25': ['12', '24', '26'], '26': ['11', '25', '27'], '27': ['20', '26'], '30': ['31', '37'], '31': ['30', '32'], '32': ['31', '33'], '33': ['32', '34'], '34': ['33', '35'], '35': ['22', '34', '36'], '36': ['21', '35', '37'], '37': ['30', '36']}\n",
      "\n",
      "Calibration data:\n",
      " {\n",
      "  \"1Q\": {\n",
      "    \"0\": {\n",
      "      \"T1\": 1.69308193540552e-05,\n",
      "      \"T2\": 1.8719137150144e-05,\n",
      "      \"f1QRB\": 0.995048041389577,\n",
      "      \"f1QRB_std_err\": 0.000244061520274907,\n",
      "      \"f1Q_simultaneous_RB\": 0.989821537688075,\n",
      "      \"f1Q_simultaneous_RB_std_err\": 0.000699235456806402,\n",
      "      \"fActiveReset\": 0.99,\n",
      "      \"fRO\": 0.9139999999999999\n",
      "    },\n",
      "    \"1\": {\n",
      "      \"T1\": 3.66674539142853e-05,\n",
      "      \"T2\": 4.04258088086511e-05,\n",
      "      \"f1QRB\": 0.999592016493133,\n",
      "      \"f1QRB_std_err\": 0.000194035605521321,\n",
      "      \"f1Q_simultaneous_RB\": 0.996832638579018,\n",
      "      \"f1Q_simultaneous_RB_std_err\": 0.00010089678215399,\n",
      "      \"fActiveReset\": 0.872,\n",
      "      \"fRO\": 0.88\n",
      "    },\n",
      "    \"10\": {\n",
      "      \"f1QRB\": 0.998748917565469,\n",
      "      \"f1QRB_std_err\": 6.6329993597551e-05,\n",
      "      \"f1Q_simultaneous_RB\": 0.995655488475807,\n",
      "      \"f1Q_simultaneous_RB_std_err\": 0.000140181572292569,\n",
      "      \"fActiveReset\": 0.997,\n",
      "      \"fRO\": 0.96\n",
      "    },\n",
      "    \"11\": {\n",
      "      \"T1\": 2.38422524341253e-05,\n",
      "      \"T2\": 1.26573454232598e-05,\n",
      "      \"f1QRB\": 0.998995425446087,\n",
      "      \"f1QRB_std_err\": 0.000156727176698867,\n",
      "      \"f1Q_simultaneous_RB\": 0.989117848440883,\n",
      "      \"f1Q_simultaneous_RB_std_err\": 0.00279562744844582,\n",
      "      \"fActiveReset\": 0.981,\n",
      "      \"fRO\": 0.878\n",
      "    },\n",
      "    \"12\": {\n",
      "      \"T1\": 2.16063180451531e-05,\n",
      "      \"T2\": 8.17704601523657e-06,\n",
      "      \"f1QRB\": 0.997349061312383,\n",
      "      \"f1QRB_std_err\": 0.000143343589229641,\n",
      "      \"f1Q_simultaneous_RB\": 0.982010065085791,\n",
      "      \"f1Q_simultaneous_RB_std_err\": 0.00124870728653945,\n",
      "      \"fActiveReset\": 0.9940000000000001,\n",
      "      \"fRO\": 0.6730000000000002\n",
      "    },\n",
      "    \"13\": {\n",
      "      \"T1\": 2.69457815280649e-05,\n",
      "      \"T2\": 1.833334410543e-05,\n",
      "      \"f1QRB\": 0.997387600466486,\n",
      "      \"f1QRB_std_err\": 0.000157614697777286,\n",
      "      \"f1Q_simultaneous_RB\": 0.994323758479715,\n",
      "      \"f1Q_simultaneous_RB_std_err\": 0.000136325973101852,\n",
      "      \"fActiveReset\": 0.991,\n",
      "      \"fRO\": 0.953\n",
      "    },\n",
      "    \"15\": {\n",
      "      \"T1\": 3.59237270879387e-05,\n",
      "      \"T2\": 3.76306732659585e-06,\n",
      "      \"f1QRB\": 0.99837588832428,\n",
      "      \"f1QRB_std_err\": 0.000190601505776446,\n",
      "      \"f1Q_simultaneous_RB\": 0.989822943596874,\n",
      "      \"f1Q_simultaneous_RB_std_err\": 0.000592607258535065,\n",
      "      \"fActiveReset\": 0.983,\n",
      "      \"fRO\": 0.9119999999999999\n",
      "    },\n",
      "    \"16\": {\n",
      "      \"T1\": 2.17638157555822e-05,\n",
      "      \"T2\": 2.86268932951218e-05,\n",
      "      \"f1QRB\": 0.997632218222324,\n",
      "      \"f1QRB_std_err\": 0.000358193979832841,\n",
      "      \"f1Q_simultaneous_RB\": 0.988256589534012,\n",
      "      \"f1Q_simultaneous_RB_std_err\": 0.000720735751421755,\n",
      "      \"fActiveReset\": 0.995,\n",
      "      \"fRO\": 0.9689999999999999\n",
      "    },\n",
      "    \"17\": {\n",
      "      \"T1\": 3.79421371754507e-05,\n",
      "      \"T2\": 1.4667649925587e-05,\n",
      "      \"f1QRB\": 0.998668729810299,\n",
      "      \"f1QRB_std_err\": 0.000159146525796424,\n",
      "      \"f1Q_simultaneous_RB\": 0.994091587106797,\n",
      "      \"f1Q_simultaneous_RB_std_err\": 0.000228157797369385,\n",
      "      \"fActiveReset\": 0.991,\n",
      "      \"fRO\": 0.938\n",
      "    },\n",
      "    \"2\": {\n",
      "      \"T1\": 1.85349412020752e-05,\n",
      "      \"T2\": 1.21446274954801e-05,\n",
      "      \"f1QRB\": 0.988783235579887,\n",
      "      \"f1QRB_std_err\": 0.000920704589812877,\n",
      "      \"f1Q_simultaneous_RB\": 0.927538230166735,\n",
      "      \"f1Q_simultaneous_RB_std_err\": 0.00760499950777768,\n",
      "      \"fActiveReset\": 0.993,\n",
      "      \"fRO\": 0.9319999999999999\n",
      "    },\n",
      "    \"20\": {\n",
      "      \"T1\": 1.87214354161469e-05,\n",
      "      \"T2\": 1.57108829713923e-05,\n",
      "      \"f1QRB\": 0.998055610398382,\n",
      "      \"f1QRB_std_err\": 0.000110580251382095,\n",
      "      \"f1Q_simultaneous_RB\": 0.991288110944387,\n",
      "      \"f1Q_simultaneous_RB_std_err\": 0.000409527193511318,\n",
      "      \"fActiveReset\": 0.986,\n",
      "      \"fRO\": 0.944\n",
      "    },\n",
      "    \"21\": {\n",
      "      \"T1\": 4.36573787430117e-05,\n",
      "      \"T2\": 7.29129065266176e-06,\n",
      "      \"f1QRB\": 0.996831444060073,\n",
      "      \"f1QRB_std_err\": 0.0010035037390118,\n",
      "      \"f1Q_simultaneous_RB\": 0.992884053396768,\n",
      "      \"f1Q_simultaneous_RB_std_err\": 0.000342969739894256,\n",
      "      \"fActiveReset\": 0.981,\n",
      "      \"fRO\": 0.846\n",
      "    },\n",
      "    \"22\": {\n",
      "      \"T1\": 2.95721615652944e-05,\n",
      "      \"T2\": 2.52699067885001e-05,\n",
      "      \"f1QRB\": 0.998113667718384,\n",
      "      \"f1QRB_std_err\": 9.42689806030806e-05,\n",
      "      \"f1Q_simultaneous_RB\": 0.979355596748001,\n",
      "      \"f1Q_simultaneous_RB_std_err\": 0.0028312291723301,\n",
      "      \"fActiveReset\": 0.992,\n",
      "      \"fRO\": 0.9339999999999999\n",
      "    },\n",
      "    \"23\": {\n",
      "      \"T1\": 2.4806266750943e-05,\n",
      "      \"T2\": 9.89315945249868e-06,\n",
      "      \"f1QRB\": 0.896563982559955,\n",
      "      \"f1QRB_std_err\": 0.139491816599351,\n",
      "      \"f1Q_simultaneous_RB\": 0.992797468887461,\n",
      "      \"f1Q_simultaneous_RB_std_err\": 0.000495191905118061,\n",
      "      \"fActiveReset\": 0.956,\n",
      "      \"fRO\": 0.868\n",
      "    },\n",
      "    \"24\": {\n",
      "      \"T1\": 1.29439265070808e-05,\n",
      "      \"T2\": 2.18284677441349e-06,\n",
      "      \"f1QRB\": 0.998204265311735,\n",
      "      \"f1QRB_std_err\": 0.000278034557525437,\n",
      "      \"f1Q_simultaneous_RB\": 0.988868971757648,\n",
      "      \"f1Q_simultaneous_RB_std_err\": 0.000670679482898489,\n",
      "      \"fActiveReset\": 0.9890000000000001,\n",
      "      \"fRO\": 0.7810000000000001\n",
      "    },\n",
      "    \"25\": {\n",
      "      \"T1\": 4.28958651621514e-05,\n",
      "      \"T2\": 2.04174551914617e-05,\n",
      "      \"f1QRB\": 0.998951234975127,\n",
      "      \"f1QRB_std_err\": 0.000490226934962106,\n",
      "      \"f1Q_simultaneous_RB\": 0.998004517863263,\n",
      "      \"f1Q_simultaneous_RB_std_err\": 0.000256845536085542,\n",
      "      \"fActiveReset\": 0.9570000000000001,\n",
      "      \"fRO\": 0.877\n",
      "    },\n",
      "    \"26\": {\n",
      "      \"T1\": 1.05480881784636e-05,\n",
      "      \"T2\": 2.22383057633106e-06,\n",
      "      \"f1QRB\": 0.992058705421287,\n",
      "      \"f1QRB_std_err\": 0.000546577223564232,\n",
      "      \"f1Q_simultaneous_RB\": 0.992046520987421,\n",
      "      \"f1Q_simultaneous_RB_std_err\": 0.000460509227673459,\n",
      "      \"fActiveReset\": 0.998,\n",
      "      \"fRO\": 0.9670000000000001\n",
      "    },\n",
      "    \"27\": {\n",
      "      \"T1\": 4.3085643451235e-05,\n",
      "      \"T2\": 1.86784948458578e-05,\n",
      "      \"f1QRB\": 0.999189673962889,\n",
      "      \"f1QRB_std_err\": 0.000149781141946951,\n",
      "      \"f1Q_simultaneous_RB\": 0.998533591062586,\n",
      "      \"f1Q_simultaneous_RB_std_err\": 0.000188063251795254,\n",
      "      \"fActiveReset\": 0.98,\n",
      "      \"fRO\": 0.9410000000000001\n",
      "    },\n",
      "    \"3\": {\n",
      "      \"T1\": 3.42407747528917e-05,\n",
      "      \"T2\": 1.95081470322298e-05,\n",
      "      \"f1QRB\": 0.998667243428403,\n",
      "      \"f1QRB_std_err\": 0.000233712574996184,\n",
      "      \"f1Q_simultaneous_RB\": 0.995159653742827,\n",
      "      \"f1Q_simultaneous_RB_std_err\": 0.000412437048803581,\n",
      "      \"fActiveReset\": 0.961,\n",
      "      \"fRO\": 0.946\n",
      "    },\n",
      "    \"30\": {\n",
      "      \"T1\": 2.11394457030334e-05,\n",
      "      \"T2\": 2.63254704530563e-05,\n",
      "      \"f1QRB\": 0.993042816862089,\n",
      "      \"f1QRB_std_err\": 0.000410885101873161,\n",
      "      \"f1Q_simultaneous_RB\": 0.983897042282644,\n",
      "      \"f1Q_simultaneous_RB_std_err\": 0.000974922521092989,\n",
      "      \"fActiveReset\": 0.9990000000000001,\n",
      "      \"fRO\": 0.921\n",
      "    },\n",
      "    \"31\": {\n",
      "      \"T1\": 4.20399966913898e-05,\n",
      "      \"T2\": 3.71887032675469e-05,\n",
      "      \"f1QRB\": 0.99953557853119,\n",
      "      \"f1QRB_std_err\": 0.000878272159821225,\n",
      "      \"f1Q_simultaneous_RB\": 0.963457479889858,\n",
      "      \"f1Q_simultaneous_RB_std_err\": 0.0415181791500049,\n",
      "      \"fActiveReset\": 0.992,\n",
      "      \"fRO\": 0.889\n",
      "    },\n",
      "    \"32\": {\n",
      "      \"T1\": 4.31184568590037e-05,\n",
      "      \"T2\": 5.67804436605542e-05,\n",
      "      \"f1QRB\": 0.998972353309108,\n",
      "      \"f1QRB_std_err\": 0.000152186019857516,\n",
      "      \"f1Q_simultaneous_RB\": 0.998120225824461,\n",
      "      \"f1Q_simultaneous_RB_std_err\": 0.000190507738375099,\n",
      "      \"fActiveReset\": 0.997,\n",
      "      \"fRO\": 0.958\n",
      "    },\n",
      "    \"33\": {\n",
      "      \"T1\": 2.90114123902008e-05,\n",
      "      \"T2\": 2.70139445087936e-05,\n",
      "      \"f1QRB\": 0.999072705600703,\n",
      "      \"f1QRB_std_err\": 0.000245691937023132,\n",
      "      \"f1Q_simultaneous_RB\": 0.997635034524841,\n",
      "      \"f1Q_simultaneous_RB_std_err\": 0.000190026037155343,\n",
      "      \"fActiveReset\": 0.996,\n",
      "      \"fRO\": 0.9519999999999998\n",
      "    },\n",
      "    \"34\": {\n",
      "      \"T1\": 1.79000760198722e-05,\n",
      "      \"T2\": 2.0990968801351e-05,\n",
      "      \"f1QRB\": 0.99850499179752,\n",
      "      \"f1QRB_std_err\": 0.000212554563526506,\n",
      "      \"f1Q_simultaneous_RB\": 0.996864438593304,\n",
      "      \"f1Q_simultaneous_RB_std_err\": 0.000200540316404968,\n",
      "      \"fActiveReset\": 0.9990000000000001,\n",
      "      \"fRO\": 0.977\n",
      "    },\n",
      "    \"35\": {\n",
      "      \"T1\": 3.04974488034571e-05,\n",
      "      \"T2\": 3.52789567486774e-05,\n",
      "      \"f1QRB\": 0.999798576100196,\n",
      "      \"f1QRB_std_err\": 0.000175607322731469,\n",
      "      \"f1Q_simultaneous_RB\": 0.997937749157514,\n",
      "      \"f1Q_simultaneous_RB_std_err\": 0.000178672994697245,\n",
      "      \"fActiveReset\": 0.985,\n",
      "      \"fRO\": 0.9330000000000002\n",
      "    },\n",
      "    \"36\": {\n",
      "      \"T1\": 3.37925693427721e-05,\n",
      "      \"T2\": 2.33654427259514e-05,\n",
      "      \"f1QRB\": 0.995497545348735,\n",
      "      \"f1QRB_std_err\": 0.000486844217732657,\n",
      "      \"f1Q_simultaneous_RB\": 0.990523139563343,\n",
      "      \"f1Q_simultaneous_RB_std_err\": 0.000406209502603457,\n",
      "      \"fActiveReset\": 0.996,\n",
      "      \"fRO\": 0.735\n",
      "    },\n",
      "    \"37\": {\n",
      "      \"T1\": 3.53178460130721e-05,\n",
      "      \"T2\": 2.27757981894339e-05,\n",
      "      \"f1QRB\": 0.998985804653341,\n",
      "      \"f1QRB_std_err\": 0.000129463650602921,\n",
      "      \"f1Q_simultaneous_RB\": 0.999999385622736,\n",
      "      \"f1Q_simultaneous_RB_std_err\": 0.00177062417039527,\n",
      "      \"fActiveReset\": 0.89,\n",
      "      \"fRO\": 0.9039999999999999\n",
      "    },\n",
      "    \"4\": {\n",
      "      \"T1\": 1.52931943750989e-05,\n",
      "      \"T2\": 1.76021636724941e-05,\n",
      "      \"f1QRB\": 0.992517463629668,\n",
      "      \"f1QRB_std_err\": 0.00090843760494477,\n",
      "      \"f1Q_simultaneous_RB\": 0.990387707932765,\n",
      "      \"f1Q_simultaneous_RB_std_err\": 0.00101744825102422,\n",
      "      \"fActiveReset\": 0.996,\n",
      "      \"fRO\": 0.8759999999999999\n",
      "    },\n",
      "    \"5\": {\n",
      "      \"T1\": 4.14029551802919e-05,\n",
      "      \"T2\": 5.37449881899101e-06,\n",
      "      \"f1QRB\": 0.999452023200384,\n",
      "      \"f1QRB_std_err\": 8.05029325139192e-05,\n",
      "      \"f1Q_simultaneous_RB\": 0.996065286885264,\n",
      "      \"f1Q_simultaneous_RB_std_err\": 0.000182431399622526,\n",
      "      \"fActiveReset\": 0.813,\n",
      "      \"fRO\": 0.897\n",
      "    },\n",
      "    \"6\": {\n",
      "      \"T1\": 4.49720104298557e-05,\n",
      "      \"T2\": 4.51089462381598e-05,\n",
      "      \"f1QRB\": 0.996922101827787,\n",
      "      \"f1QRB_std_err\": 0.000285237494154413,\n",
      "      \"f1Q_simultaneous_RB\": 0.993098695450792,\n",
      "      \"f1Q_simultaneous_RB_std_err\": 0.000359603066362993,\n",
      "      \"fActiveReset\": 0.9990000000000001,\n",
      "      \"fRO\": 0.948\n",
      "    },\n",
      "    \"7\": {\n",
      "      \"T1\": 1.71477791679475e-05,\n",
      "      \"T2\": 2.27752217675281e-05,\n",
      "      \"f1QRB\": 0.998916800042596,\n",
      "      \"f1QRB_std_err\": 0.000111528188821197,\n",
      "      \"f1Q_simultaneous_RB\": 0.993901137706895,\n",
      "      \"f1Q_simultaneous_RB_std_err\": 0.000540233804299696,\n",
      "      \"fActiveReset\": 0.9940000000000001,\n",
      "      \"fRO\": 0.9510000000000001\n",
      "    }\n",
      "  },\n",
      "  \"2Q\": {\n",
      "    \"0-1\": {\n",
      "      \"fCZ\": 0.86088287046333,\n",
      "      \"fCZ_std_err\": 0.00544497242572576\n",
      "    },\n",
      "    \"0-7\": {\n",
      "      \"fCZ\": 0.8917588578022264,\n",
      "      \"fCZ_std_err\": 0.006136070163289325\n",
      "    },\n",
      "    \"1-16\": {\n",
      "      \"fCZ\": 0.9805064440155071,\n",
      "      \"fCZ_std_err\": 0.0035771429356654906,\n",
      "      \"fXY\": 0.9805697503323768,\n",
      "      \"fXY_std_err\": 0.005509494743985669\n",
      "    },\n",
      "    \"1-2\": {\n",
      "      \"fXY\": 0.7392724783470144,\n",
      "      \"fXY_std_err\": 0.01644812667990357\n",
      "    },\n",
      "    \"10-11\": {\n",
      "      \"fCZ\": 0.9535817854604748,\n",
      "      \"fCZ_std_err\": 0.010231249715529626,\n",
      "      \"fXY\": 0.9013322091655747,\n",
      "      \"fXY_std_err\": 0.018237731609018662\n",
      "    },\n",
      "    \"10-17\": {\n",
      "      \"fCZ\": 0.9119562809410706,\n",
      "      \"fCZ_std_err\": 0.015348590322516665,\n",
      "      \"fXY\": 0.9679425859287717,\n",
      "      \"fXY_std_err\": 0.009367091604878433\n",
      "    },\n",
      "    \"11-12\": {\n",
      "      \"fCZ\": 0.8990592952664084,\n",
      "      \"fCZ_std_err\": 0.005022706097706549,\n",
      "      \"fXY\": 0.899810257596944,\n",
      "      \"fXY_std_err\": 0.004431473503410676\n",
      "    },\n",
      "    \"11-26\": {\n",
      "      \"fCZ\": 0.9616276698460148,\n",
      "      \"fCZ_std_err\": 0.00968292925414387,\n",
      "      \"fXY\": 0.9489913564709531,\n",
      "      \"fXY_std_err\": 0.008750018858611808\n",
      "    },\n",
      "    \"12-13\": {\n",
      "      \"fCZ\": 0.8348945685840838,\n",
      "      \"fCZ_std_err\": 0.00843400063642989,\n",
      "      \"fXY\": 0.8493803286428863,\n",
      "      \"fXY_std_err\": 0.007333210949555593\n",
      "    },\n",
      "    \"12-25\": {\n",
      "      \"fXY\": 0.8711831232378437,\n",
      "      \"fXY_std_err\": 0.008692274958677373\n",
      "    },\n",
      "    \"15-16\": {\n",
      "      \"fCZ\": 0.9332407949379128,\n",
      "      \"fCZ_std_err\": 0.009115060682455642,\n",
      "      \"fXY\": 0.9743087862680475,\n",
      "      \"fXY_std_err\": 0.0053859464650957934\n",
      "    },\n",
      "    \"16-17\": {\n",
      "      \"fCZ\": 0.9478368960626959,\n",
      "      \"fCZ_std_err\": 0.006661995684977388,\n",
      "      \"fXY\": 0.9393516472498546,\n",
      "      \"fXY_std_err\": 0.013136321827573951\n",
      "    },\n",
      "    \"2-15\": {\n",
      "      \"fCZ\": 0.8782536318488401,\n",
      "      \"fCZ_std_err\": 0.005830576967475162,\n",
      "      \"fXY\": 0.8500919825639593,\n",
      "      \"fXY_std_err\": 0.007711329745871797\n",
      "    },\n",
      "    \"2-3\": {\n",
      "      \"fCZ\": 0.7752636058372592,\n",
      "      \"fCZ_std_err\": 0.022309082985598284,\n",
      "      \"fXY\": 0.6964755757816686,\n",
      "      \"fXY_std_err\": 0.02007062631927038\n",
      "    },\n",
      "    \"20-21\": {\n",
      "      \"fCZ\": 0.9748321121649102,\n",
      "      \"fCZ_std_err\": 0.006159031308431305,\n",
      "      \"fXY\": 0.8498283644892526,\n",
      "      \"fXY_std_err\": 0.00733114746941459\n",
      "    },\n",
      "    \"20-27\": {\n",
      "      \"fCZ\": 0.9461820144947114,\n",
      "      \"fCZ_std_err\": 0.008994259415059398,\n",
      "      \"fXY\": 0.7332994273685296,\n",
      "      \"fXY_std_err\": 0.019677411345120403\n",
      "    },\n",
      "    \"21-22\": {\n",
      "      \"fCZ\": 0.9598077600341548,\n",
      "      \"fCZ_std_err\": 0.013679667115713848,\n",
      "      \"fXY\": 0.9767540988054797,\n",
      "      \"fXY_std_err\": 0.006444716456435677\n",
      "    },\n",
      "    \"21-36\": {\n",
      "      \"fCZ\": 0.941660615237968,\n",
      "      \"fCZ_std_err\": 0.014325982071264055,\n",
      "      \"fXY\": 0.9832837860520515,\n",
      "      \"fXY_std_err\": 0.006296889772390071\n",
      "    },\n",
      "    \"22-23\": {\n",
      "      \"fCZ\": 0.9368613884548433,\n",
      "      \"fCZ_std_err\": 0.013026509747033857,\n",
      "      \"fXY\": 0.961767668592612,\n",
      "      \"fXY_std_err\": 0.005994208570950493\n",
      "    },\n",
      "    \"22-35\": {\n",
      "      \"fCZ\": 0.9297181330704452,\n",
      "      \"fCZ_std_err\": 0.01370873540877151,\n",
      "      \"fXY\": 0.9617081903439021,\n",
      "      \"fXY_std_err\": 0.01147108334554283\n",
      "    },\n",
      "    \"23-24\": {\n",
      "      \"fCZ\": 0.9589095472327925,\n",
      "      \"fCZ_std_err\": 0.0083073394870464,\n",
      "      \"fXY\": 0.8826490337770493,\n",
      "      \"fXY_std_err\": 0.006555020166667685\n",
      "    },\n",
      "    \"24-25\": {\n",
      "      \"fCZ\": 0.9772352368728389,\n",
      "      \"fCZ_std_err\": 0.0073184181482715575,\n",
      "      \"fXY\": 0.9714883583652534,\n",
      "      \"fXY_std_err\": 0.00723141812410165\n",
      "    },\n",
      "    \"25-26\": {\n",
      "      \"fCZ\": 0.9388594500907231,\n",
      "      \"fCZ_std_err\": 0.013780114144190746,\n",
      "      \"fXY\": 0.9605234114206356,\n",
      "      \"fXY_std_err\": 0.006646371121214405\n",
      "    },\n",
      "    \"26-27\": {\n",
      "      \"fCZ\": 0.9523565011742343,\n",
      "      \"fCZ_std_err\": 0.006430895782189247,\n",
      "      \"fXY\": 0.879190958695832,\n",
      "      \"fXY_std_err\": 0.005865377551797687\n",
      "    },\n",
      "    \"3-4\": {\n",
      "      \"fCZ\": 0.8627559712412571,\n",
      "      \"fCZ_std_err\": 0.007239096791819817,\n",
      "      \"fXY\": 0.8639577225384741,\n",
      "      \"fXY_std_err\": 0.0073675351898742185\n",
      "    },\n",
      "    \"30-31\": {\n",
      "      \"fCZ\": 0.8657128663669256,\n",
      "      \"fCZ_std_err\": 0.009059520798088867,\n",
      "      \"fXY\": 0.9363799684405797,\n",
      "      \"fXY_std_err\": 0.009530886968242613\n",
      "    },\n",
      "    \"30-37\": {\n",
      "      \"fCZ\": 0.9067181182623956,\n",
      "      \"fCZ_std_err\": 0.005063760660589666,\n",
      "      \"fXY\": 0.9504444338419367,\n",
      "      \"fXY_std_err\": 0.008887909629865041\n",
      "    },\n",
      "    \"31-32\": {\n",
      "      \"fCZ\": 0.9672152657497755,\n",
      "      \"fCZ_std_err\": 0.007634029659128496,\n",
      "      \"fXY\": 0.9871671926500812,\n",
      "      \"fXY_std_err\": 0.007042823310866948\n",
      "    },\n",
      "    \"32-33\": {\n",
      "      \"fCZ\": 0.991660557333252,\n",
      "      \"fCZ_std_err\": 0.0033157474757820864,\n",
      "      \"fXY\": 0.9683252172002297,\n",
      "      \"fXY_std_err\": 0.004825810342904801\n",
      "    },\n",
      "    \"33-34\": {\n",
      "      \"fCZ\": 0.8130284109954347,\n",
      "      \"fCZ_std_err\": 0.013207679552036517,\n",
      "      \"fXY\": 0.9586889152943969,\n",
      "      \"fXY_std_err\": 0.006427015480849452\n",
      "    },\n",
      "    \"34-35\": {\n",
      "      \"fCZ\": 0.9153295826532954,\n",
      "      \"fCZ_std_err\": 0.01346178841114662,\n",
      "      \"fXY\": 0.8278848708003231,\n",
      "      \"fXY_std_err\": 0.013690136555119607\n",
      "    },\n",
      "    \"35-36\": {\n",
      "      \"fCZ\": 0.9449815496515603,\n",
      "      \"fCZ_std_err\": 0.00816490773595541,\n",
      "      \"fXY\": 0.8858201242202558,\n",
      "      \"fXY_std_err\": 0.0069790028831244865\n",
      "    },\n",
      "    \"36-37\": {\n",
      "      \"fCZ\": 0.8293523030465567,\n",
      "      \"fCZ_std_err\": 0.01081073736126046,\n",
      "      \"fXY\": 0.8975912551262843,\n",
      "      \"fXY_std_err\": 0.004781251575642058\n",
      "    },\n",
      "    \"4-5\": {\n",
      "      \"fCZ\": 0.896495934486661,\n",
      "      \"fCZ_std_err\": 0.00868186399952674,\n",
      "      \"fXY\": 0.8333265253498867,\n",
      "      \"fXY_std_err\": 0.009166915305547974\n",
      "    },\n",
      "    \"5-6\": {\n",
      "      \"fCZ\": 0.9785693285576307,\n",
      "      \"fCZ_std_err\": 0.005055311950405112,\n",
      "      \"fXY\": 0.9415725260060713,\n",
      "      \"fXY_std_err\": 0.00825613856357225\n",
      "    },\n",
      "    \"6-7\": {\n",
      "      \"fCZ\": 0.952329709720958,\n",
      "      \"fCZ_std_err\": 0.006705491446564046,\n",
      "      \"fXY\": 0.9627943611742671,\n",
      "      \"fXY_std_err\": 0.006386937364116885\n",
      "    }\n",
      "  }\n",
      "}\n"
     ]
    }
   ],
   "source": [
    "# the IonQ device\n",
    "device = AwsDevice(\"arn:aws:braket:::device/qpu/ionq/ionQdevice\")\n",
    "\n",
    "# the Rigetti device\n",
    "device = AwsDevice(\"arn:aws:braket:::device/qpu/rigetti/Aspen-8\")\n",
    "\n",
    "execution_windows = device.properties.service.executionWindows\n",
    "connectivity_graph = device.properties.paradigm.connectivity\n",
    "calibration = device.properties.provider.specs\n",
    "\n",
    "print(f'The availability windows for {device.name}:\\n{execution_windows}\\n')\n",
    "print(f'The connectivity graph of the qubits for this device:\\n {connectivity_graph}\\n')\n",
    "print('Calibration data:\\n', json.dumps(calibration,sort_keys=True,indent=2))"
   ]
  },
  {
   "cell_type": "code",
   "execution_count": 14,
   "metadata": {},
   "outputs": [
    {
     "name": "stdout",
     "output_type": "stream",
     "text": [
      "The shots range of DW_2000Q_6 is (1, 10000)\n",
      "The price of running tasks on this device: price=0.00019 unit='shot'\n",
      "This device has 2048 qubits in total, with the topology: {'type': 'chimera', 'shape': [16, 16, 4]}\n"
     ]
    }
   ],
   "source": [
    "# the DWave devices\n",
    "# device = AwsDevice(\"arn:aws:braket:::device/qpu/d-wave/Advantage_system1\")\n",
    "device = AwsDevice(\"arn:aws:braket:::device/qpu/d-wave/DW_2000Q_6\")\n",
    "\n",
    "shots_range = device.properties.service.shotsRange\n",
    "device_cost = device.properties.service.deviceCost\n",
    "qubit_count = device.properties.provider.qubitCount\n",
    "device_topology = device.properties.provider.topology\n",
    "\n",
    "print(f'The shots range of {device.name} is {shots_range}')\n",
    "print('The price of running tasks on this device:', device_cost)\n",
    "print(f'This device has {qubit_count} qubits in total, with the topology: {device_topology}')"
   ]
  },
  {
   "cell_type": "markdown",
   "metadata": {},
   "source": [
    "Each device has more properties to explore. To learn more, view the [Amazon Braket schemas documentation](https://amazon-braket-schemas-python.readthedocs.io/en/latest/_apidoc/braket.device_schema.html)."
   ]
  }
 ],
 "metadata": {
  "kernelspec": {
   "display_name": "conda_braket",
   "language": "python",
   "name": "conda_braket"
  },
  "language_info": {
   "codemirror_mode": {
    "name": "ipython",
    "version": 3
   },
   "file_extension": ".py",
   "mimetype": "text/x-python",
   "name": "python",
   "nbconvert_exporter": "python",
   "pygments_lexer": "ipython3",
   "version": "3.7.7"
  }
 },
 "nbformat": 4,
 "nbformat_minor": 4
}
