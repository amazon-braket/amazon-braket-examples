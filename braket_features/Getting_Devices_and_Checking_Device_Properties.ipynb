{
 "cells": [
  {
   "cell_type": "markdown",
   "metadata": {},
   "source": [
    "# Getting Devices and Checking Device Properties\n",
    "\n",
    "In this tutorial, we demonstrate how to use the `get_devices()` method to search and instantiate devices available on Amazon Braket. We also show how to access properties for simulator and QPU devices."
   ]
  },
  {
   "cell_type": "code",
   "execution_count": 1,
   "metadata": {},
   "outputs": [],
   "source": [
    "# general imports\n",
    "import json\n",
    "from braket.aws import AwsDevice\n",
    "from braket.devices import LocalSimulator"
   ]
  },
  {
   "cell_type": "markdown",
   "metadata": {},
   "source": [
    "## Using get_devices\n",
    "We can get a device (including the managed simulator SV1 and the QPUs) by using the `get_devices()` method. Devices can be found with one or more of the following filtering criteria: \n",
    "* device arn \n",
    "* name \n",
    "* type \n",
    "* status \n",
    "* provider_name. \n",
    "\n",
    "We give examples for each of the cases in the following cells."
   ]
  },
  {
   "cell_type": "markdown",
   "metadata": {},
   "source": [
    "### Getting the device by type"
   ]
  },
  {
   "cell_type": "code",
   "execution_count": 2,
   "metadata": {},
   "outputs": [
    {
     "data": {
      "text/plain": [
       "[Device('name': SV1, 'arn': arn:aws:braket:::device/quantum-simulator/amazon/sv1)]"
      ]
     },
     "execution_count": 2,
     "metadata": {},
     "output_type": "execute_result"
    }
   ],
   "source": [
    "# to get the managed simulator SV1\n",
    "AwsDevice.get_devices(types=['SIMULATOR'])"
   ]
  },
  {
   "cell_type": "code",
   "execution_count": 3,
   "metadata": {},
   "outputs": [
    {
     "data": {
      "text/plain": [
       "[Device('name': Advantage_system1.1, 'arn': arn:aws:braket:::device/qpu/d-wave/Advantage_system1),\n",
       " Device('name': Aspen-8, 'arn': arn:aws:braket:::device/qpu/rigetti/Aspen-8),\n",
       " Device('name': DW_2000Q_5, 'arn': arn:aws:braket:::device/qpu/d-wave/DW_2000Q_5),\n",
       " Device('name': DW_2000Q_6, 'arn': arn:aws:braket:::device/qpu/d-wave/DW_2000Q_6),\n",
       " Device('name': IonQ Device, 'arn': arn:aws:braket:::device/qpu/ionq/ionQdevice)]"
      ]
     },
     "execution_count": 3,
     "metadata": {},
     "output_type": "execute_result"
    }
   ],
   "source": [
    "# to get the list of QPUs\n",
    "AwsDevice.get_devices(types=['QPU'])"
   ]
  },
  {
   "cell_type": "markdown",
   "metadata": {},
   "source": [
    "### Getting the device by arn\n",
    "The arns for all the available devices can be found [here](https://docs.aws.amazon.com/braket/latest/developerguide/braket-devices.html). You can also find the arn under `Devices` in the Amazon Braket console."
   ]
  },
  {
   "cell_type": "code",
   "execution_count": 4,
   "metadata": {},
   "outputs": [
    {
     "data": {
      "text/plain": [
       "[Device('name': IonQ Device, 'arn': arn:aws:braket:::device/qpu/ionq/ionQdevice)]"
      ]
     },
     "execution_count": 4,
     "metadata": {},
     "output_type": "execute_result"
    }
   ],
   "source": [
    "# for example, the following gets the IonQ device.\n",
    "AwsDevice.get_devices(arns=['arn:aws:braket:::device/qpu/ionq/ionQdevice'])"
   ]
  },
  {
   "cell_type": "markdown",
   "metadata": {},
   "source": [
    "### Gettting the device by name"
   ]
  },
  {
   "cell_type": "code",
   "execution_count": 5,
   "metadata": {},
   "outputs": [
    {
     "data": {
      "text/plain": [
       "[Device('name': Advantage_system1.1, 'arn': arn:aws:braket:::device/qpu/d-wave/Advantage_system1)]"
      ]
     },
     "execution_count": 5,
     "metadata": {},
     "output_type": "execute_result"
    }
   ],
   "source": [
    "# for example, the following gets the DWave Advantage system.\n",
    "AwsDevice.get_devices(names=['Advantage_system1.1'])"
   ]
  },
  {
   "cell_type": "markdown",
   "metadata": {},
   "source": [
    "### Getting the device by status"
   ]
  },
  {
   "cell_type": "code",
   "execution_count": 6,
   "metadata": {},
   "outputs": [
    {
     "data": {
      "text/plain": [
       "[Device('name': Advantage_system1.1, 'arn': arn:aws:braket:::device/qpu/d-wave/Advantage_system1),\n",
       " Device('name': Aspen-8, 'arn': arn:aws:braket:::device/qpu/rigetti/Aspen-8),\n",
       " Device('name': DW_2000Q_6, 'arn': arn:aws:braket:::device/qpu/d-wave/DW_2000Q_6),\n",
       " Device('name': IonQ Device, 'arn': arn:aws:braket:::device/qpu/ionq/ionQdevice),\n",
       " Device('name': SV1, 'arn': arn:aws:braket:::device/quantum-simulator/amazon/sv1)]"
      ]
     },
     "execution_count": 6,
     "metadata": {},
     "output_type": "execute_result"
    }
   ],
   "source": [
    "# get all devices that are currently online\n",
    "AwsDevice.get_devices(statuses=['ONLINE'])"
   ]
  },
  {
   "cell_type": "code",
   "execution_count": 7,
   "metadata": {},
   "outputs": [
    {
     "data": {
      "text/plain": [
       "[Device('name': DW_2000Q_5, 'arn': arn:aws:braket:::device/qpu/d-wave/DW_2000Q_5)]"
      ]
     },
     "execution_count": 7,
     "metadata": {},
     "output_type": "execute_result"
    }
   ],
   "source": [
    "# get all devices that are currectly offline\n",
    "AwsDevice.get_devices(statuses=['OFFLINE'])"
   ]
  },
  {
   "cell_type": "markdown",
   "metadata": {},
   "source": [
    "### Getting the device by provider_name"
   ]
  },
  {
   "cell_type": "code",
   "execution_count": 8,
   "metadata": {},
   "outputs": [
    {
     "data": {
      "text/plain": [
       "[Device('name': Aspen-8, 'arn': arn:aws:braket:::device/qpu/rigetti/Aspen-8)]"
      ]
     },
     "execution_count": 8,
     "metadata": {},
     "output_type": "execute_result"
    }
   ],
   "source": [
    "# for example, the following gets the Rigetti device.\n",
    "AwsDevice.get_devices(provider_names=['Rigetti'])"
   ]
  },
  {
   "cell_type": "markdown",
   "metadata": {},
   "source": [
    "### Get devices in order"
   ]
  },
  {
   "cell_type": "code",
   "execution_count": 9,
   "metadata": {},
   "outputs": [
    {
     "data": {
      "text/plain": [
       "[Device('name': SV1, 'arn': arn:aws:braket:::device/quantum-simulator/amazon/sv1),\n",
       " Device('name': DW_2000Q_5, 'arn': arn:aws:braket:::device/qpu/d-wave/DW_2000Q_5),\n",
       " Device('name': DW_2000Q_6, 'arn': arn:aws:braket:::device/qpu/d-wave/DW_2000Q_6),\n",
       " Device('name': Advantage_system1.1, 'arn': arn:aws:braket:::device/qpu/d-wave/Advantage_system1),\n",
       " Device('name': IonQ Device, 'arn': arn:aws:braket:::device/qpu/ionq/ionQdevice),\n",
       " Device('name': Aspen-8, 'arn': arn:aws:braket:::device/qpu/rigetti/Aspen-8)]"
      ]
     },
     "execution_count": 9,
     "metadata": {},
     "output_type": "execute_result"
    }
   ],
   "source": [
    "# get the list of devices which are ordered by provider name\n",
    "AwsDevice.get_devices(order_by='provider_name')"
   ]
  },
  {
   "cell_type": "markdown",
   "metadata": {},
   "source": [
    "### Getting the device with multiple criteria"
   ]
  },
  {
   "cell_type": "code",
   "execution_count": 10,
   "metadata": {},
   "outputs": [
    {
     "data": {
      "text/plain": [
       "[Device('name': Advantage_system1.1, 'arn': arn:aws:braket:::device/qpu/d-wave/Advantage_system1),\n",
       " Device('name': Aspen-8, 'arn': arn:aws:braket:::device/qpu/rigetti/Aspen-8),\n",
       " Device('name': DW_2000Q_6, 'arn': arn:aws:braket:::device/qpu/d-wave/DW_2000Q_6),\n",
       " Device('name': IonQ Device, 'arn': arn:aws:braket:::device/qpu/ionq/ionQdevice)]"
      ]
     },
     "execution_count": 10,
     "metadata": {},
     "output_type": "execute_result"
    }
   ],
   "source": [
    "# multiple criteria can be applied\n",
    "AwsDevice.get_devices(types=['QPU'],statuses=['ONLINE'])"
   ]
  },
  {
   "cell_type": "markdown",
   "metadata": {},
   "source": [
    "## Getting a device directly\n",
    "One can also specify a device directly with the device arn. "
   ]
  },
  {
   "cell_type": "code",
   "execution_count": 11,
   "metadata": {},
   "outputs": [],
   "source": [
    "# specify a device directly by device arn\n",
    "# Rigetti\n",
    "device = AwsDevice(\"arn:aws:braket:::device/qpu/rigetti/Aspen-8\")\n",
    "# IonQ\n",
    "device = AwsDevice(\"arn:aws:braket:::device/qpu/ionq/ionQdevice\")\n",
    "# DWave\n",
    "device = AwsDevice(\"arn:aws:braket:::device/qpu/d-wave/DW_2000Q_6\")\n",
    "device = AwsDevice(\"arn:aws:braket:::device/qpu/d-wave/Advantage_system1\")\n",
    "# the managed simulator SV1\n",
    "device = AwsDevice(\"arn:aws:braket:::device/quantum-simulator/amazon/sv1\")\n",
    "# the local simulator\n",
    "device = LocalSimulator()"
   ]
  },
  {
   "cell_type": "markdown",
   "metadata": {},
   "source": [
    "## Properties of devices\n",
    "\n",
    "The properties of a device can be checked with the `device.properties` call. In the following examples, we show some useful properties one can access for each device. "
   ]
  },
  {
   "cell_type": "code",
   "execution_count": 12,
   "metadata": {},
   "outputs": [
    {
     "name": "stdout",
     "output_type": "stream",
     "text": [
      "The supported operations of SV1 are ['ccnot', 'cnot', 'cphaseshift', 'cphaseshift00', 'cphaseshift01', 'cphaseshift10', 'cswap', 'cy', 'cz', 'h', 'i', 'iswap', 'pswap', 'phaseshift', 'rx', 'ry', 'rz', 's', 'si', 'swap', 't', 'ti', 'unitary', 'v', 'vi', 'x', 'xx', 'xy', 'y', 'yy', 'z', 'zz']\n",
      "\n",
      "The supported result types are [ResultType(name='Sample', observables=['x', 'y', 'z', 'h', 'i', 'hermitian'], minShots=1, maxShots=100000), ResultType(name='Expectation', observables=['x', 'y', 'z', 'h', 'i', 'hermitian'], minShots=0, maxShots=100000), ResultType(name='Variance', observables=['x', 'y', 'z', 'h', 'i', 'hermitian'], minShots=0, maxShots=100000), ResultType(name='Probability', observables=None, minShots=1, maxShots=100000), ResultType(name='Amplitude', observables=None, minShots=0, maxShots=0)]\n",
      "\n",
      "The maximum number of qubits supported by this device is 34\n",
      "The shots range of this device is (0, 100000)\n",
      "The price of running tasks on this device: price=4.5 unit='hour'\n"
     ]
    }
   ],
   "source": [
    "# the managed simulator SV1\n",
    "device = AwsDevice(\"arn:aws:braket:::device/quantum-simulator/amazon/sv1\")\n",
    "\n",
    "support_gates = device.properties.action['braket.ir.jaqcd.program'].supportedOperations\n",
    "support_result_types = device.properties.action['braket.ir.jaqcd.program'].supportedResultTypes\n",
    "qubit_count = device.properties.paradigm.qubitCount\n",
    "shorts_range = device.properties.service.shotsRange\n",
    "device_cost = device.properties.service.deviceCost\n",
    "\n",
    "print(f'The supported operations of {device.name} are {support_gates}\\n')\n",
    "print(f'The supported result types are {support_result_types}\\n')\n",
    "print('The maximum number of qubits supported by this device is', qubit_count)\n",
    "print('The shots range of this device is', shorts_range)\n",
    "print('The price of running tasks on this device:', device_cost)"
   ]
  },
  {
   "cell_type": "markdown",
   "metadata": {},
   "source": [
    "For the IonQ and Rigetti devices, apart from the properties shown above, we can also get information of the availablity windows and device calibration data."
   ]
  },
  {
   "cell_type": "code",
   "execution_count": 13,
   "metadata": {},
   "outputs": [
    {
     "name": "stdout",
     "output_type": "stream",
     "text": [
      "The exeuation windows for Aspen-8:\n",
      "[DeviceExecutionWindow(executionDay=<ExecutionDay.EVERYDAY: 'Everyday'>, windowStartHour=datetime.time(15, 0), windowEndHour=datetime.time(19, 0))]\n",
      "\n",
      "The connectivity graph of the qubits for this device:\n",
      " fullyConnected=False connectivityGraph={'0': ['7'], '1': ['2', '16'], '2': ['1', '3', '15'], '3': ['2', '4'], '4': ['3', '5'], '5': ['4', '6'], '6': ['5', '7'], '7': ['0', '6'], '10': ['11', '17'], '11': ['10', '12', '26'], '12': ['11', '13', '25'], '13': ['12'], '15': ['2', '16'], '16': ['1', '15', '17'], '17': ['10', '16'], '20': ['21', '27'], '21': ['20', '22', '36'], '22': ['21', '23', '35'], '23': ['22', '24'], '24': ['23', '25'], '25': ['12', '24', '26'], '26': ['11', '25', '27'], '27': ['20', '26'], '30': ['31', '37'], '31': ['30', '32'], '32': ['31', '33'], '33': ['32', '34'], '34': ['33', '35'], '35': ['22', '34', '36'], '36': ['21', '35', '37'], '37': ['30', '36']}\n",
      "\n",
      "Calibration data:\n",
      " {\n",
      "  \"1Q\": {\n",
      "    \"0\": {\n",
      "      \"T1\": 1.69308193540552e-05,\n",
      "      \"T2\": 1.8719137150144e-05,\n",
      "      \"f1QRB\": 0.995048041389577,\n",
      "      \"f1QRB_std_err\": 0.000244061520274907,\n",
      "      \"f1Q_simultaneous_RB\": 0.989821537688075,\n",
      "      \"f1Q_simultaneous_RB_std_err\": 0.000699235456806402,\n",
      "      \"fActiveReset\": 0.988,\n",
      "      \"fRO\": 0.9119999999999999\n",
      "    },\n",
      "    \"1\": {\n",
      "      \"T1\": 3.66674539142853e-05,\n",
      "      \"T2\": 4.04258088086511e-05,\n",
      "      \"f1QRB\": 0.999592016493133,\n",
      "      \"f1QRB_std_err\": 0.000194035605521321,\n",
      "      \"f1Q_simultaneous_RB\": 0.996832638579018,\n",
      "      \"f1Q_simultaneous_RB_std_err\": 0.00010089678215399,\n",
      "      \"fActiveReset\": 0.879,\n",
      "      \"fRO\": 0.87\n",
      "    },\n",
      "    \"10\": {\n",
      "      \"f1QRB\": 0.998748917565469,\n",
      "      \"f1QRB_std_err\": 6.6329993597551e-05,\n",
      "      \"f1Q_simultaneous_RB\": 0.995655488475807,\n",
      "      \"f1Q_simultaneous_RB_std_err\": 0.000140181572292569,\n",
      "      \"fActiveReset\": 0.9940000000000001,\n",
      "      \"fRO\": 0.9510000000000001\n",
      "    },\n",
      "    \"11\": {\n",
      "      \"T1\": 2.38422524341253e-05,\n",
      "      \"T2\": 1.26573454232598e-05,\n",
      "      \"f1QRB\": 0.998995425446087,\n",
      "      \"f1QRB_std_err\": 0.000156727176698867,\n",
      "      \"f1Q_simultaneous_RB\": 0.989117848440883,\n",
      "      \"f1Q_simultaneous_RB_std_err\": 0.00279562744844582,\n",
      "      \"fActiveReset\": 0.9079999999999999,\n",
      "      \"fRO\": 0.9279999999999999\n",
      "    },\n",
      "    \"12\": {\n",
      "      \"T1\": 2.16063180451531e-05,\n",
      "      \"T2\": 8.17704601523657e-06,\n",
      "      \"f1QRB\": 0.997349061312383,\n",
      "      \"f1QRB_std_err\": 0.000143343589229641,\n",
      "      \"f1Q_simultaneous_RB\": 0.982010065085791,\n",
      "      \"f1Q_simultaneous_RB_std_err\": 0.00124870728653945,\n",
      "      \"fActiveReset\": 0.9940000000000001,\n",
      "      \"fRO\": 0.8700000000000001\n",
      "    },\n",
      "    \"13\": {\n",
      "      \"T1\": 2.69457815280649e-05,\n",
      "      \"T2\": 1.833334410543e-05,\n",
      "      \"f1QRB\": 0.997387600466486,\n",
      "      \"f1QRB_std_err\": 0.000157614697777286,\n",
      "      \"f1Q_simultaneous_RB\": 0.994323758479715,\n",
      "      \"f1Q_simultaneous_RB_std_err\": 0.000136325973101852,\n",
      "      \"fActiveReset\": 0.987,\n",
      "      \"fRO\": 0.935\n",
      "    },\n",
      "    \"15\": {\n",
      "      \"T1\": 3.59237270879387e-05,\n",
      "      \"T2\": 3.76306732659585e-06,\n",
      "      \"f1QRB\": 0.99837588832428,\n",
      "      \"f1QRB_std_err\": 0.000190601505776446,\n",
      "      \"f1Q_simultaneous_RB\": 0.989822943596874,\n",
      "      \"f1Q_simultaneous_RB_std_err\": 0.000592607258535065,\n",
      "      \"fActiveReset\": 0.985,\n",
      "      \"fRO\": 0.9139999999999999\n",
      "    },\n",
      "    \"16\": {\n",
      "      \"T1\": 2.17638157555822e-05,\n",
      "      \"T2\": 2.86268932951218e-05,\n",
      "      \"f1QRB\": 0.997632218222324,\n",
      "      \"f1QRB_std_err\": 0.000358193979832841,\n",
      "      \"f1Q_simultaneous_RB\": 0.988256589534012,\n",
      "      \"f1Q_simultaneous_RB_std_err\": 0.000720735751421755,\n",
      "      \"fActiveReset\": 0.998,\n",
      "      \"fRO\": 0.964\n",
      "    },\n",
      "    \"17\": {\n",
      "      \"T1\": 3.79421371754507e-05,\n",
      "      \"T2\": 1.4667649925587e-05,\n",
      "      \"f1QRB\": 0.998668729810299,\n",
      "      \"f1QRB_std_err\": 0.000159146525796424,\n",
      "      \"f1Q_simultaneous_RB\": 0.994091587106797,\n",
      "      \"f1Q_simultaneous_RB_std_err\": 0.000228157797369385,\n",
      "      \"fActiveReset\": 0.995,\n",
      "      \"fRO\": 0.968\n",
      "    },\n",
      "    \"2\": {\n",
      "      \"T1\": 1.85349412020752e-05,\n",
      "      \"T2\": 1.21446274954801e-05,\n",
      "      \"f1QRB\": 0.988783235579887,\n",
      "      \"f1QRB_std_err\": 0.000920704589812877,\n",
      "      \"f1Q_simultaneous_RB\": 0.927538230166735,\n",
      "      \"f1Q_simultaneous_RB_std_err\": 0.00760499950777768,\n",
      "      \"fActiveReset\": 0.995,\n",
      "      \"fRO\": 0.9470000000000001\n",
      "    },\n",
      "    \"20\": {\n",
      "      \"T1\": 1.87214354161469e-05,\n",
      "      \"T2\": 1.57108829713923e-05,\n",
      "      \"f1QRB\": 0.998055610398382,\n",
      "      \"f1QRB_std_err\": 0.000110580251382095,\n",
      "      \"f1Q_simultaneous_RB\": 0.991288110944387,\n",
      "      \"f1Q_simultaneous_RB_std_err\": 0.000409527193511318,\n",
      "      \"fActiveReset\": 0.975,\n",
      "      \"fRO\": 0.938\n",
      "    },\n",
      "    \"21\": {\n",
      "      \"T1\": 4.36573787430117e-05,\n",
      "      \"T2\": 7.29129065266176e-06,\n",
      "      \"f1QRB\": 0.996831444060073,\n",
      "      \"f1QRB_std_err\": 0.0010035037390118,\n",
      "      \"f1Q_simultaneous_RB\": 0.992884053396768,\n",
      "      \"f1Q_simultaneous_RB_std_err\": 0.000342969739894256,\n",
      "      \"fActiveReset\": 0.968,\n",
      "      \"fRO\": 0.8740000000000001\n",
      "    },\n",
      "    \"22\": {\n",
      "      \"T1\": 2.95721615652944e-05,\n",
      "      \"T2\": 2.52699067885001e-05,\n",
      "      \"f1QRB\": 0.998113667718384,\n",
      "      \"f1QRB_std_err\": 9.42689806030806e-05,\n",
      "      \"f1Q_simultaneous_RB\": 0.979355596748001,\n",
      "      \"f1Q_simultaneous_RB_std_err\": 0.0028312291723301,\n",
      "      \"fActiveReset\": 0.992,\n",
      "      \"fRO\": 0.9419999999999998\n",
      "    },\n",
      "    \"23\": {\n",
      "      \"T1\": 2.4806266750943e-05,\n",
      "      \"T2\": 9.89315945249868e-06,\n",
      "      \"f1QRB\": 0.896563982559955,\n",
      "      \"f1QRB_std_err\": 0.139491816599351,\n",
      "      \"f1Q_simultaneous_RB\": 0.992797468887461,\n",
      "      \"f1Q_simultaneous_RB_std_err\": 0.000495191905118061,\n",
      "      \"fActiveReset\": 0.966,\n",
      "      \"fRO\": 0.8859999999999999\n",
      "    },\n",
      "    \"24\": {\n",
      "      \"T1\": 1.29439265070808e-05,\n",
      "      \"T2\": 2.18284677441349e-06,\n",
      "      \"f1QRB\": 0.998204265311735,\n",
      "      \"f1QRB_std_err\": 0.000278034557525437,\n",
      "      \"f1Q_simultaneous_RB\": 0.988868971757648,\n",
      "      \"f1Q_simultaneous_RB_std_err\": 0.000670679482898489,\n",
      "      \"fActiveReset\": 0.9739999999999999,\n",
      "      \"fRO\": 0.879\n",
      "    },\n",
      "    \"25\": {\n",
      "      \"T1\": 4.28958651621514e-05,\n",
      "      \"T2\": 2.04174551914617e-05,\n",
      "      \"f1QRB\": 0.998951234975127,\n",
      "      \"f1QRB_std_err\": 0.000490226934962106,\n",
      "      \"f1Q_simultaneous_RB\": 0.998004517863263,\n",
      "      \"f1Q_simultaneous_RB_std_err\": 0.000256845536085542,\n",
      "      \"fActiveReset\": 0.925,\n",
      "      \"fRO\": 0.903\n",
      "    },\n",
      "    \"26\": {\n",
      "      \"T1\": 1.05480881784636e-05,\n",
      "      \"T2\": 2.22383057633106e-06,\n",
      "      \"f1QRB\": 0.992058705421287,\n",
      "      \"f1QRB_std_err\": 0.000546577223564232,\n",
      "      \"f1Q_simultaneous_RB\": 0.992046520987421,\n",
      "      \"f1Q_simultaneous_RB_std_err\": 0.000460509227673459,\n",
      "      \"fActiveReset\": 0.996,\n",
      "      \"fRO\": 0.9670000000000001\n",
      "    },\n",
      "    \"27\": {\n",
      "      \"T1\": 4.3085643451235e-05,\n",
      "      \"T2\": 1.86784948458578e-05,\n",
      "      \"f1QRB\": 0.999189673962889,\n",
      "      \"f1QRB_std_err\": 0.000149781141946951,\n",
      "      \"f1Q_simultaneous_RB\": 0.998533591062586,\n",
      "      \"f1Q_simultaneous_RB_std_err\": 0.000188063251795254,\n",
      "      \"fActiveReset\": 0.9789999999999999,\n",
      "      \"fRO\": 0.9319999999999999\n",
      "    },\n",
      "    \"3\": {\n",
      "      \"T1\": 3.42407747528917e-05,\n",
      "      \"T2\": 1.95081470322298e-05,\n",
      "      \"f1QRB\": 0.998667243428403,\n",
      "      \"f1QRB_std_err\": 0.000233712574996184,\n",
      "      \"f1Q_simultaneous_RB\": 0.995159653742827,\n",
      "      \"f1Q_simultaneous_RB_std_err\": 0.000412437048803581,\n",
      "      \"fActiveReset\": 0.963,\n",
      "      \"fRO\": 0.9319999999999999\n",
      "    },\n",
      "    \"30\": {\n",
      "      \"T1\": 2.11394457030334e-05,\n",
      "      \"T2\": 2.63254704530563e-05,\n",
      "      \"f1QRB\": 0.993042816862089,\n",
      "      \"f1QRB_std_err\": 0.000410885101873161,\n",
      "      \"f1Q_simultaneous_RB\": 0.983897042282644,\n",
      "      \"f1Q_simultaneous_RB_std_err\": 0.000974922521092989,\n",
      "      \"fActiveReset\": 0.998,\n",
      "      \"fRO\": 0.921\n",
      "    },\n",
      "    \"31\": {\n",
      "      \"T1\": 4.20399966913898e-05,\n",
      "      \"T2\": 3.71887032675469e-05,\n",
      "      \"f1QRB\": 0.99953557853119,\n",
      "      \"f1QRB_std_err\": 0.000878272159821225,\n",
      "      \"f1Q_simultaneous_RB\": 0.963457479889858,\n",
      "      \"f1Q_simultaneous_RB_std_err\": 0.0415181791500049,\n",
      "      \"fActiveReset\": 0.991,\n",
      "      \"fRO\": 0.9019999999999999\n",
      "    },\n",
      "    \"32\": {\n",
      "      \"T1\": 4.31184568590037e-05,\n",
      "      \"T2\": 5.67804436605542e-05,\n",
      "      \"f1QRB\": 0.998972353309108,\n",
      "      \"f1QRB_std_err\": 0.000152186019857516,\n",
      "      \"f1Q_simultaneous_RB\": 0.998120225824461,\n",
      "      \"f1Q_simultaneous_RB_std_err\": 0.000190507738375099,\n",
      "      \"fActiveReset\": 0.997,\n",
      "      \"fRO\": 0.971\n",
      "    },\n",
      "    \"33\": {\n",
      "      \"T1\": 2.90114123902008e-05,\n",
      "      \"T2\": 2.70139445087936e-05,\n",
      "      \"f1QRB\": 0.999072705600703,\n",
      "      \"f1QRB_std_err\": 0.000245691937023132,\n",
      "      \"f1Q_simultaneous_RB\": 0.997635034524841,\n",
      "      \"f1Q_simultaneous_RB_std_err\": 0.000190026037155343,\n",
      "      \"fActiveReset\": 0.9940000000000001,\n",
      "      \"fRO\": 0.9530000000000001\n",
      "    },\n",
      "    \"34\": {\n",
      "      \"T1\": 1.79000760198722e-05,\n",
      "      \"T2\": 2.0990968801351e-05,\n",
      "      \"f1QRB\": 0.99850499179752,\n",
      "      \"f1QRB_std_err\": 0.000212554563526506,\n",
      "      \"f1Q_simultaneous_RB\": 0.996864438593304,\n",
      "      \"f1Q_simultaneous_RB_std_err\": 0.000200540316404968,\n",
      "      \"fActiveReset\": 0.998,\n",
      "      \"fRO\": 0.983\n",
      "    },\n",
      "    \"35\": {\n",
      "      \"T1\": 3.04974488034571e-05,\n",
      "      \"T2\": 3.52789567486774e-05,\n",
      "      \"f1QRB\": 0.999798576100196,\n",
      "      \"f1QRB_std_err\": 0.000175607322731469,\n",
      "      \"f1Q_simultaneous_RB\": 0.997937749157514,\n",
      "      \"f1Q_simultaneous_RB_std_err\": 0.000178672994697245,\n",
      "      \"fActiveReset\": 0.965,\n",
      "      \"fRO\": 0.922\n",
      "    },\n",
      "    \"36\": {\n",
      "      \"T1\": 3.37925693427721e-05,\n",
      "      \"T2\": 2.33654427259514e-05,\n",
      "      \"f1QRB\": 0.995497545348735,\n",
      "      \"f1QRB_std_err\": 0.000486844217732657,\n",
      "      \"f1Q_simultaneous_RB\": 0.990523139563343,\n",
      "      \"f1Q_simultaneous_RB_std_err\": 0.000406209502603457,\n",
      "      \"fActiveReset\": 0.9940000000000001,\n",
      "      \"fRO\": 0.8260000000000001\n",
      "    },\n",
      "    \"37\": {\n",
      "      \"T1\": 3.53178460130721e-05,\n",
      "      \"T2\": 2.27757981894339e-05,\n",
      "      \"f1QRB\": 0.998985804653341,\n",
      "      \"f1QRB_std_err\": 0.000129463650602921,\n",
      "      \"f1Q_simultaneous_RB\": 0.999999385622736,\n",
      "      \"f1Q_simultaneous_RB_std_err\": 0.00177062417039527,\n",
      "      \"fActiveReset\": 0.917,\n",
      "      \"fRO\": 0.9330000000000002\n",
      "    },\n",
      "    \"4\": {\n",
      "      \"T1\": 1.52931943750989e-05,\n",
      "      \"T2\": 1.76021636724941e-05,\n",
      "      \"f1QRB\": 0.992517463629668,\n",
      "      \"f1QRB_std_err\": 0.00090843760494477,\n",
      "      \"f1Q_simultaneous_RB\": 0.990387707932765,\n",
      "      \"f1Q_simultaneous_RB_std_err\": 0.00101744825102422,\n",
      "      \"fActiveReset\": 0.9940000000000001,\n",
      "      \"fRO\": 0.893\n",
      "    },\n",
      "    \"5\": {\n",
      "      \"T1\": 4.14029551802919e-05,\n",
      "      \"T2\": 5.37449881899101e-06,\n",
      "      \"f1QRB\": 0.999452023200384,\n",
      "      \"f1QRB_std_err\": 8.05029325139192e-05,\n",
      "      \"f1Q_simultaneous_RB\": 0.996065286885264,\n",
      "      \"f1Q_simultaneous_RB_std_err\": 0.000182431399622526,\n",
      "      \"fActiveReset\": 0.773,\n",
      "      \"fRO\": 0.9010000000000001\n",
      "    },\n",
      "    \"6\": {\n",
      "      \"T1\": 4.49720104298557e-05,\n",
      "      \"T2\": 4.51089462381598e-05,\n",
      "      \"f1QRB\": 0.996922101827787,\n",
      "      \"f1QRB_std_err\": 0.000285237494154413,\n",
      "      \"f1Q_simultaneous_RB\": 0.993098695450792,\n",
      "      \"f1Q_simultaneous_RB_std_err\": 0.000359603066362993,\n",
      "      \"fActiveReset\": 0.9990000000000001,\n",
      "      \"fRO\": 0.966\n",
      "    },\n",
      "    \"7\": {\n",
      "      \"T1\": 1.71477791679475e-05,\n",
      "      \"T2\": 2.27752217675281e-05,\n",
      "      \"f1QRB\": 0.998916800042596,\n",
      "      \"f1QRB_std_err\": 0.000111528188821197,\n",
      "      \"f1Q_simultaneous_RB\": 0.993901137706895,\n",
      "      \"f1Q_simultaneous_RB_std_err\": 0.000540233804299696,\n",
      "      \"fActiveReset\": 0.998,\n",
      "      \"fRO\": 0.9519999999999998\n",
      "    }\n",
      "  },\n",
      "  \"2Q\": {\n",
      "    \"0-1\": {\n",
      "      \"fCZ\": 0.86088287046333,\n",
      "      \"fCZ_std_err\": 0.00544497242572576\n",
      "    },\n",
      "    \"0-7\": {\n",
      "      \"fCZ\": 0.9046463866511032,\n",
      "      \"fCZ_std_err\": 0.004809062242134964\n",
      "    },\n",
      "    \"1-16\": {\n",
      "      \"fCZ\": 0.9754455666712183,\n",
      "      \"fCZ_std_err\": 0.004150254491237715,\n",
      "      \"fXY\": 0.9839000329227549,\n",
      "      \"fXY_std_err\": 0.0035519916477465487\n",
      "    },\n",
      "    \"1-2\": {\n",
      "      \"fXY\": 0.7967387535093146,\n",
      "      \"fXY_std_err\": 0.01434755928632735\n",
      "    },\n",
      "    \"10-11\": {\n",
      "      \"fCZ\": 0.9297023668081508,\n",
      "      \"fCZ_std_err\": 0.015003393964797843,\n",
      "      \"fXY\": 0.9612355973581934,\n",
      "      \"fXY_std_err\": 0.009517207025666054\n",
      "    },\n",
      "    \"10-17\": {\n",
      "      \"fCZ\": 0.9319708999146961,\n",
      "      \"fCZ_std_err\": 0.011952184462161886,\n",
      "      \"fXY\": 0.9784807258297354,\n",
      "      \"fXY_std_err\": 0.007513984265255635\n",
      "    },\n",
      "    \"11-12\": {\n",
      "      \"fCZ\": 0.8974865352322422,\n",
      "      \"fCZ_std_err\": 0.005900844478079206,\n",
      "      \"fXY\": 0.952240960803008,\n",
      "      \"fXY_std_err\": 0.008772011525002432\n",
      "    },\n",
      "    \"11-26\": {\n",
      "      \"fCZ\": 0.9733845188408498,\n",
      "      \"fCZ_std_err\": 0.007181203264278969,\n",
      "      \"fXY\": 0.9469412351335361,\n",
      "      \"fXY_std_err\": 0.0066574248855500485\n",
      "    },\n",
      "    \"12-13\": {\n",
      "      \"fCZ\": 0.8418212251138142,\n",
      "      \"fCZ_std_err\": 0.008701495688118102,\n",
      "      \"fXY\": 0.8693546971899165,\n",
      "      \"fXY_std_err\": 0.008159036215514422\n",
      "    },\n",
      "    \"12-25\": {\n",
      "      \"fXY\": 0.8527118586109813,\n",
      "      \"fXY_std_err\": 0.010039125976403438\n",
      "    },\n",
      "    \"15-16\": {\n",
      "      \"fCZ\": 0.7554588428565968,\n",
      "      \"fCZ_std_err\": 0.018211101430646297,\n",
      "      \"fXY\": 0.9734437491429461,\n",
      "      \"fXY_std_err\": 0.009255553537224997\n",
      "    },\n",
      "    \"16-17\": {\n",
      "      \"fCZ\": 0.9640025186237655,\n",
      "      \"fCZ_std_err\": 0.006516937452830996,\n",
      "      \"fXY\": 0.9430285464503421,\n",
      "      \"fXY_std_err\": 0.009634822719921598\n",
      "    },\n",
      "    \"2-15\": {\n",
      "      \"fCZ\": 0.8408449344997819,\n",
      "      \"fCZ_std_err\": 0.009882512880353807,\n",
      "      \"fXY\": 0.8868563884179317,\n",
      "      \"fXY_std_err\": 0.005966622422498496\n",
      "    },\n",
      "    \"2-3\": {\n",
      "      \"fCZ\": 0.5862007134551973,\n",
      "      \"fCZ_std_err\": 0.027708408671322012,\n",
      "      \"fXY\": 0.7656569015688365,\n",
      "      \"fXY_std_err\": 0.013558291873895185\n",
      "    },\n",
      "    \"20-21\": {\n",
      "      \"fCZ\": 0.9636478349528733,\n",
      "      \"fCZ_std_err\": 0.006738183108280182,\n",
      "      \"fXY\": 0.8884190337032821,\n",
      "      \"fXY_std_err\": 0.004687104361514945\n",
      "    },\n",
      "    \"20-27\": {\n",
      "      \"fCZ\": 0.9251934942095097,\n",
      "      \"fCZ_std_err\": 0.009199953104166828,\n",
      "      \"fXY\": 0.7262415699890348,\n",
      "      \"fXY_std_err\": 0.018857114545024558\n",
      "    },\n",
      "    \"21-22\": {\n",
      "      \"fCZ\": 0.9521813959618387,\n",
      "      \"fCZ_std_err\": 0.008415410165475975,\n",
      "      \"fXY\": 0.9752133535352041,\n",
      "      \"fXY_std_err\": 0.005742957418934814\n",
      "    },\n",
      "    \"21-36\": {\n",
      "      \"fCZ\": 0.9199777493969725,\n",
      "      \"fCZ_std_err\": 0.010611799828282071,\n",
      "      \"fXY\": 0.9782447551831072,\n",
      "      \"fXY_std_err\": 0.005346147946406392\n",
      "    },\n",
      "    \"22-23\": {\n",
      "      \"fCZ\": 0.9451623652544854,\n",
      "      \"fCZ_std_err\": 0.011702025459338364,\n",
      "      \"fXY\": 0.9812143889138641,\n",
      "      \"fXY_std_err\": 0.007064130126403256\n",
      "    },\n",
      "    \"22-35\": {\n",
      "      \"fCZ\": 0.9080199921938136,\n",
      "      \"fCZ_std_err\": 0.005859043057685135,\n",
      "      \"fXY\": 0.9324926472478865,\n",
      "      \"fXY_std_err\": 0.010352734691484223\n",
      "    },\n",
      "    \"23-24\": {\n",
      "      \"fCZ\": 0.9725212267799366,\n",
      "      \"fCZ_std_err\": 0.013039048362148331,\n",
      "      \"fXY\": 0.8836962830509179,\n",
      "      \"fXY_std_err\": 0.006712853558972268\n",
      "    },\n",
      "    \"24-25\": {\n",
      "      \"fCZ\": 0.975053553064274,\n",
      "      \"fCZ_std_err\": 0.009217538049232036,\n",
      "      \"fXY\": 0.9714551729046056,\n",
      "      \"fXY_std_err\": 0.010627577211740518\n",
      "    },\n",
      "    \"25-26\": {\n",
      "      \"fCZ\": 0.9522916208187853,\n",
      "      \"fCZ_std_err\": 0.008407108823198783,\n",
      "      \"fXY\": 0.9602072980371484,\n",
      "      \"fXY_std_err\": 0.005770635907000836\n",
      "    },\n",
      "    \"26-27\": {\n",
      "      \"fCZ\": 0.9581993257759196,\n",
      "      \"fCZ_std_err\": 0.006867390104261714,\n",
      "      \"fXY\": 0.8854131711629782,\n",
      "      \"fXY_std_err\": 0.013928038076956058\n",
      "    },\n",
      "    \"3-4\": {\n",
      "      \"fCZ\": 0.6702031401297988,\n",
      "      \"fCZ_std_err\": 0.024605700791802677,\n",
      "      \"fXY\": 0.8595426964948202,\n",
      "      \"fXY_std_err\": 0.005593810830592672\n",
      "    },\n",
      "    \"30-31\": {\n",
      "      \"fCZ\": 0.8718549608235623,\n",
      "      \"fCZ_std_err\": 0.008234796346465309,\n",
      "      \"fXY\": 0.9531237616890299,\n",
      "      \"fXY_std_err\": 0.009593939137192805\n",
      "    },\n",
      "    \"30-37\": {\n",
      "      \"fCZ\": 0.9384666143997703,\n",
      "      \"fCZ_std_err\": 0.014452943385770682,\n",
      "      \"fXY\": 0.9604141609624928,\n",
      "      \"fXY_std_err\": 0.008696446383620746\n",
      "    },\n",
      "    \"31-32\": {\n",
      "      \"fCZ\": 0.9660998724058678,\n",
      "      \"fCZ_std_err\": 0.005761812906238927,\n",
      "      \"fXY\": 0.9712881140159364,\n",
      "      \"fXY_std_err\": 0.00806210364622841\n",
      "    },\n",
      "    \"32-33\": {\n",
      "      \"fCZ\": 0.9829459414542475,\n",
      "      \"fCZ_std_err\": 0.0022186828309007176,\n",
      "      \"fXY\": 0.9670638653027691,\n",
      "      \"fXY_std_err\": 0.0037801548720867483\n",
      "    },\n",
      "    \"33-34\": {\n",
      "      \"fCZ\": 0.8849838977366044,\n",
      "      \"fCZ_std_err\": 0.0052258548621047,\n",
      "      \"fXY\": 0.9762641851192254,\n",
      "      \"fXY_std_err\": 0.005696340189451561\n",
      "    },\n",
      "    \"34-35\": {\n",
      "      \"fCZ\": 0.9044703600554278,\n",
      "      \"fCZ_std_err\": 0.0058648284542988085,\n",
      "      \"fXY\": 0.8369705573942525,\n",
      "      \"fXY_std_err\": 0.0112620941149691\n",
      "    },\n",
      "    \"35-36\": {\n",
      "      \"fCZ\": 0.945676821821138,\n",
      "      \"fCZ_std_err\": 0.009523064811981776,\n",
      "      \"fXY\": 0.8765771315623527,\n",
      "      \"fXY_std_err\": 0.007783063940828758\n",
      "    },\n",
      "    \"36-37\": {\n",
      "      \"fCZ\": 0.7935831809298916,\n",
      "      \"fCZ_std_err\": 0.009437063268478572,\n",
      "      \"fXY\": 0.9495459609794901,\n",
      "      \"fXY_std_err\": 0.00763155830561965\n",
      "    },\n",
      "    \"4-5\": {\n",
      "      \"fCZ\": 0.9044000502247598,\n",
      "      \"fCZ_std_err\": 0.013536289599509059,\n",
      "      \"fXY\": 0.9028915454624779,\n",
      "      \"fXY_std_err\": 0.003875309777715083\n",
      "    },\n",
      "    \"5-6\": {\n",
      "      \"fCZ\": 0.9748663918292196,\n",
      "      \"fCZ_std_err\": 0.006644225111658855,\n",
      "      \"fXY\": 0.9573385948832057,\n",
      "      \"fXY_std_err\": 0.008834008846613742\n",
      "    },\n",
      "    \"6-7\": {\n",
      "      \"fCZ\": 0.9597106644456523,\n",
      "      \"fCZ_std_err\": 0.00915230083006339,\n",
      "      \"fXY\": 0.959585777941374,\n",
      "      \"fXY_std_err\": 0.006297039905522111\n",
      "    }\n",
      "  }\n",
      "}\n"
     ]
    }
   ],
   "source": [
    "# the IonQ device\n",
    "device = AwsDevice(\"arn:aws:braket:::device/qpu/ionq/ionQdevice\")\n",
    "\n",
    "# the Rigetti device\n",
    "device = AwsDevice(\"arn:aws:braket:::device/qpu/rigetti/Aspen-8\")\n",
    "\n",
    "execution_windows = device.properties.service.executionWindows\n",
    "connectivity_graph = device.properties.paradigm.connectivity\n",
    "calibration = device.properties.provider.specs\n",
    "\n",
    "print(f'The exeuation windows for {device.name}:\\n{execution_windows}\\n')\n",
    "print(f'The connectivity graph of the qubits for this device:\\n {connectivity_graph}\\n')\n",
    "print('Calibration data:\\n', json.dumps(calibration,sort_keys=True,indent=2))"
   ]
  },
  {
   "cell_type": "code",
   "execution_count": 14,
   "metadata": {},
   "outputs": [
    {
     "name": "stdout",
     "output_type": "stream",
     "text": [
      "The shots range of DW_2000Q_6 is (1, 10000)\n",
      "The price of running tasks on this device: price=0.00019 unit='shot'\n",
      "This device has 2048 qubits in total, with the topology: {'type': 'chimera', 'shape': [16, 16, 4]}\n"
     ]
    }
   ],
   "source": [
    "# the DWave devices\n",
    "# device = AwsDevice(\"arn:aws:braket:::device/qpu/d-wave/Advantage_system1\")\n",
    "device = AwsDevice(\"arn:aws:braket:::device/qpu/d-wave/DW_2000Q_6\")\n",
    "\n",
    "shots_range = device.properties.service.shotsRange\n",
    "device_cost = device.properties.service.deviceCost\n",
    "qubit_count = device.properties.provider.qubitCount\n",
    "device_topology = device.properties.provider.topology\n",
    "\n",
    "print(f'The shots range of {device.name} is {shots_range}')\n",
    "print('The price of running tasks on this device:', device_cost)\n",
    "print(f'This device has {qubit_count} qubits in total, with the topology: {device_topology}')"
   ]
  },
  {
   "cell_type": "markdown",
   "metadata": {},
   "source": [
    "There are many more device properties to explore and access for each device. Visit the [Amazon Braket schemas documentation](https://amazon-braket-schemas-python.readthedocs.io/en/latest/_apidoc/braket.device_schema.html) to learn more. "
   ]
  }
 ],
 "metadata": {
  "kernelspec": {
   "display_name": "conda_braket",
   "language": "python",
   "name": "conda_braket"
  },
  "language_info": {
   "codemirror_mode": {
    "name": "ipython",
    "version": 3
   },
   "file_extension": ".py",
   "mimetype": "text/x-python",
   "name": "python",
   "nbconvert_exporter": "python",
   "pygments_lexer": "ipython3",
   "version": "3.7.7"
  }
 },
 "nbformat": 4,
 "nbformat_minor": 4
}
